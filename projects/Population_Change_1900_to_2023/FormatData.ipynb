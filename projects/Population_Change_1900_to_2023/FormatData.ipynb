{
 "cells": [
  {
   "cell_type": "code",
   "execution_count": 104,
   "id": "c7592a1f-09cc-4385-8a87-3917b481c406",
   "metadata": {},
   "outputs": [],
   "source": [
    "import geopandas as gpd\n",
    "import pandas as pd"
   ]
  },
  {
   "cell_type": "markdown",
   "id": "fdb0f185-dcd7-441f-9f13-a4943d8aec4e",
   "metadata": {},
   "source": [
    "## Open GIS Data"
   ]
  },
  {
   "cell_type": "code",
   "execution_count": 105,
   "id": "1272ceac-2b4f-4bce-ac1c-753767cbbfa7",
   "metadata": {},
   "outputs": [],
   "source": [
    "file_path = \"data/cb_2018_us_county_500k/cb_2018_us_county_500k.shp\"\n",
    "counties_df = gpd.read_file(file_path)"
   ]
  },
  {
   "cell_type": "markdown",
   "id": "271ccca6-2a30-42ab-97c3-40bd04bd5138",
   "metadata": {},
   "source": [
    "## Open 1900-1990 Census Data"
   ]
  },
  {
   "cell_type": "code",
   "execution_count": 106,
   "id": "a622bcba-6f11-4e9a-91ba-1990c3abc8ba",
   "metadata": {},
   "outputs": [],
   "source": [
    "cencounts_df = pd.read_csv(\"data/cencounts.csv\")"
   ]
  },
  {
   "cell_type": "code",
   "execution_count": 107,
   "id": "bc46eb19-4c4a-485e-ae0a-432ab13c4ebb",
   "metadata": {},
   "outputs": [],
   "source": [
    "cencounts_df[\"STATE\"] = cencounts_df[\"name\"].str.split(\" \").str[0]\n",
    "cencounts_df[\"COUNTYNAME\"] = cencounts_df.apply(\n",
    "    lambda row: \" \".join(row[\"name\"].split(\" \")[1:]), axis=1\n",
    ")"
   ]
  },
  {
   "cell_type": "code",
   "execution_count": 108,
   "id": "1733ad14-b611-41be-b41a-46c4fac4da04",
   "metadata": {},
   "outputs": [],
   "source": [
    "cencounts_df[\"FIPS\"] = cencounts_df[\"fips\"].astype(int)\n",
    "cencounts_df[\"FIPS\"] = cencounts_df.apply(lambda row: f\"{row['FIPS']:05d}\", axis=1)"
   ]
  },
  {
   "cell_type": "markdown",
   "id": "df950418-99c3-4948-940b-e5a7fd704158",
   "metadata": {},
   "source": [
    "## Open 2023 Population Estimates"
   ]
  },
  {
   "cell_type": "code",
   "execution_count": 109,
   "id": "bfd24a9e-314c-4491-8c5b-175d739b79d6",
   "metadata": {},
   "outputs": [],
   "source": [
    "county_populations = pd.read_csv(\n",
    "    \"data/co-est2023-alldata.csv\", sep=\",\", encoding=\"latin-1\"\n",
    ")"
   ]
  },
  {
   "cell_type": "code",
   "execution_count": 110,
   "id": "7d4043a6-3914-4d45-986c-3ab85961b8d6",
   "metadata": {},
   "outputs": [],
   "source": [
    "county_populations[\"FIPS\"] = county_populations.apply(\n",
    "    lambda row: f\"{row['STATE']:02d}{row['COUNTY']:03d}\", axis=1\n",
    ")"
   ]
  },
  {
   "cell_type": "code",
   "execution_count": 111,
   "id": "bfea1417-b0c7-4504-bc1e-df52d4a72ceb",
   "metadata": {},
   "outputs": [],
   "source": [
    "county_populations = county_populations[[\"POPESTIMATE2023\", \"FIPS\"]].dropna()"
   ]
  },
  {
   "cell_type": "markdown",
   "id": "ecd584e3-b711-4ee9-8144-4ae89f3f1e30",
   "metadata": {},
   "source": [
    "## Merge data"
   ]
  },
  {
   "cell_type": "code",
   "execution_count": 112,
   "id": "eb01d328-2b93-4e07-b252-15e3d35b21a0",
   "metadata": {},
   "outputs": [],
   "source": [
    "population_df = cencounts_df[[\"FIPS\", \"pop1900\"]].merge(\n",
    "    county_populations, on=\"FIPS\", how=\"left\"\n",
    ")"
   ]
  },
  {
   "cell_type": "code",
   "execution_count": 113,
   "id": "cf466057-a47d-47b3-a322-1ae172cc40d1",
   "metadata": {},
   "outputs": [],
   "source": [
    "population_df = population_df.dropna()"
   ]
  },
  {
   "cell_type": "code",
   "execution_count": 114,
   "id": "d0a923b1-1d73-4f06-8618-c167abf1c12d",
   "metadata": {},
   "outputs": [],
   "source": [
    "population_df[\"pop1900\"] = population_df[\"pop1900\"].replace(\".\", \"0\")"
   ]
  },
  {
   "cell_type": "code",
   "execution_count": 115,
   "id": "50975e3f-ef46-4816-a286-ca065efbf182",
   "metadata": {},
   "outputs": [],
   "source": [
    "population_df[\"diff\"] = population_df[\"POPESTIMATE2023\"].astype(int) - population_df[\n",
    "    \"pop1900\"\n",
    "].astype(int)"
   ]
  },
  {
   "cell_type": "code",
   "execution_count": 120,
   "id": "23f88185-ccdb-429a-90f4-a226d104cc77",
   "metadata": {},
   "outputs": [],
   "source": [
    "population_df = population_df.rename(columns={\"FIPS\": \"GEOID\"})"
   ]
  },
  {
   "cell_type": "code",
   "execution_count": 123,
   "id": "5a3f421a-c677-45fd-8c29-d8c9e893ecca",
   "metadata": {},
   "outputs": [],
   "source": [
    "population_gdf = counties_df.merge(population_df, on=\"GEOID\", how=\"left\")[\n",
    "    [\"diff\", \"geometry\"]\n",
    "]"
   ]
  },
  {
   "cell_type": "code",
   "execution_count": 129,
   "id": "3509ab74-18ae-4dee-abf8-c2b3953bb507",
   "metadata": {},
   "outputs": [],
   "source": [
    "population_gdf[\"decreased\"] = population_gdf[\"diff\"] < 0"
   ]
  },
  {
   "cell_type": "code",
   "execution_count": 130,
   "id": "ac8d8e3a-9615-44b2-a835-50c704c6add1",
   "metadata": {},
   "outputs": [],
   "source": [
    "population_gdf = population_gdf.to_crs(5070)"
   ]
  },
  {
   "cell_type": "code",
   "execution_count": 131,
   "id": "206a03a1-ff0c-4cd4-ae5e-f5eaa1934cb0",
   "metadata": {},
   "outputs": [],
   "source": [
    "population_gdf.to_file(\"data/population.gpkg\")"
   ]
  },
  {
   "cell_type": "code",
   "execution_count": null,
   "id": "b1ea017a-0454-47e6-9314-f354c4f01876",
   "metadata": {},
   "outputs": [],
   "source": []
  }
 ],
 "metadata": {
  "kernelspec": {
   "display_name": "Python 3 (ipykernel)",
   "language": "python",
   "name": "python3"
  },
  "language_info": {
   "codemirror_mode": {
    "name": "ipython",
    "version": 3
   },
   "file_extension": ".py",
   "mimetype": "text/x-python",
   "name": "python",
   "nbconvert_exporter": "python",
   "pygments_lexer": "ipython3",
   "version": "3.11.10"
  }
 },
 "nbformat": 4,
 "nbformat_minor": 5
}
