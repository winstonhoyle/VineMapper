{
 "cells": [
  {
   "cell_type": "code",
   "execution_count": 63,
   "id": "c86ad9f6-4aaf-469e-a56e-363083168e1e",
   "metadata": {},
   "outputs": [],
   "source": [
    "import json\n",
    "import requests"
   ]
  },
  {
   "cell_type": "code",
   "execution_count": 64,
   "id": "10fa1d09-7717-4ea8-9ce7-1cef37b4da9c",
   "metadata": {},
   "outputs": [],
   "source": [
    "import cloudscraper\n",
    "import geopandas as gpd\n",
    "import h3"
   ]
  },
  {
   "cell_type": "code",
   "execution_count": 65,
   "id": "d22202a0-bf3c-4953-81ce-105a19e002a0",
   "metadata": {},
   "outputs": [],
   "source": [
    "from shapely.geometry import Point\n",
    "from tqdm.notebook import tqdm"
   ]
  },
  {
   "cell_type": "markdown",
   "id": "02e1dfb5-464d-4984-8c84-5599ce9dcd5d",
   "metadata": {},
   "source": [
    "## Get State Data"
   ]
  },
  {
   "cell_type": "code",
   "execution_count": 78,
   "id": "84b53c65-5746-4ab8-8c99-6dfe3e967797",
   "metadata": {},
   "outputs": [],
   "source": [
    "file_path = \"data/cb_2018_us_state_500k/cb_2018_us_state_500k.shp\"\n",
    "states_df = gpd.read_file(file_path)"
   ]
  },
  {
   "cell_type": "code",
   "execution_count": 79,
   "id": "191755a6-eb92-4683-833e-b69f4be9f3f5",
   "metadata": {},
   "outputs": [],
   "source": [
    "states_df = states_df[[\"STUSPS\", \"NAME\", \"geometry\"]]"
   ]
  },
  {
   "cell_type": "code",
   "execution_count": 108,
   "id": "b170d710-c024-4edd-8d59-cc4b4c515e11",
   "metadata": {},
   "outputs": [],
   "source": [
    "country_shape = states_df[\"geometry\"].union_all()"
   ]
  },
  {
   "cell_type": "code",
   "execution_count": 109,
   "id": "057f30c2-ed71-4ea6-9e35-9f097f83a6e2",
   "metadata": {},
   "outputs": [],
   "source": [
    "h3_shape = h3.geo_to_h3shape(country_shape)\n",
    "h3_cells = h3.h3shape_to_cells(h3_shape, res=5)"
   ]
  },
  {
   "cell_type": "markdown",
   "id": "f3ad4feb-2496-4c2f-827b-04c586ef17ba",
   "metadata": {},
   "source": [
    "## Get McDonalds Data"
   ]
  },
  {
   "cell_type": "code",
   "execution_count": 110,
   "id": "4c063aa4-d1b0-400e-a449-8125a2a0596a",
   "metadata": {},
   "outputs": [],
   "source": [
    "scraper = cloudscraper.create_scraper()"
   ]
  },
  {
   "cell_type": "code",
   "execution_count": 111,
   "id": "763857ee-9a16-4fe4-be4e-983c531137da",
   "metadata": {},
   "outputs": [
    {
     "data": {
      "application/vnd.jupyter.widget-view+json": {
       "model_id": "619016a1b9604884abac60f0f728512b",
       "version_major": 2,
       "version_minor": 0
      },
      "text/plain": [
       "Parsing H3 Cells:   0%|          | 0/36446 [00:00<?, ?it/s]"
      ]
     },
     "metadata": {},
     "output_type": "display_data"
    }
   ],
   "source": [
    "restaurant_list = []\n",
    "for h3_cell in tqdm(h3_cells, desc=\"Parsing H3 Cells\"):\n",
    "    lat, lng = h3.cell_to_latlng(h3_cell)\n",
    "    url = (\n",
    "        \"https://www.mcdonalds.com/googleappsv2/geolocation?latitude=\"\n",
    "        + str(lat)\n",
    "        + \"&longitude=\"\n",
    "        + str(lng)\n",
    "        + \"&radius=100&maxResults=1000&country=us&language=en-us\"\n",
    "    )\n",
    "    locations = scraper.get(url).text\n",
    "    if not locations:\n",
    "        continue\n",
    "    features = json.loads(locations)[\"features\"]\n",
    "    for feature in features:\n",
    "        state_code = feature[\"properties\"][\"subDivision\"]\n",
    "        restaurant_list.append(\n",
    "            {\"STATE\": state_code, \"geometry\": Point(feature[\"geometry\"][\"coordinates\"])}\n",
    "        )"
   ]
  },
  {
   "cell_type": "code",
   "execution_count": 112,
   "id": "05a0449a-d8d6-4fbc-982c-a85f40ab028d",
   "metadata": {},
   "outputs": [],
   "source": [
    "mcdonalds_gdf = gpd.GeoDataFrame(restaurant_list, crs=4326)"
   ]
  },
  {
   "cell_type": "code",
   "execution_count": 113,
   "id": "8f4701ac-1a66-407f-ba94-749b00d188ca",
   "metadata": {},
   "outputs": [],
   "source": [
    "mcdonalds_new_gdf = mcdonalds_gdf.drop_duplicates().reset_index()[[\"STATE\", \"geometry\"]]"
   ]
  },
  {
   "cell_type": "code",
   "execution_count": 114,
   "id": "b7a1298b-c648-490d-bdef-9cd7a0c6715e",
   "metadata": {},
   "outputs": [],
   "source": [
    "mcdonalds_new_gdf.to_file(\"data/mcdonalds_va_h3_5.gpkg\")"
   ]
  },
  {
   "cell_type": "code",
   "execution_count": null,
   "id": "109a2e3f-4c50-4ccb-8baf-4d2e11d58476",
   "metadata": {},
   "outputs": [],
   "source": []
  }
 ],
 "metadata": {
  "kernelspec": {
   "display_name": "Python 3 (ipykernel)",
   "language": "python",
   "name": "python3"
  },
  "language_info": {
   "codemirror_mode": {
    "name": "ipython",
    "version": 3
   },
   "file_extension": ".py",
   "mimetype": "text/x-python",
   "name": "python",
   "nbconvert_exporter": "python",
   "pygments_lexer": "ipython3",
   "version": "3.11.11"
  }
 },
 "nbformat": 4,
 "nbformat_minor": 5
}
