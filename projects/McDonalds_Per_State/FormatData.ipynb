{
 "cells": [
  {
   "cell_type": "code",
   "execution_count": null,
   "id": "c86ad9f6-4aaf-469e-a56e-363083168e1e",
   "metadata": {},
   "outputs": [],
   "source": [
    "import json"
   ]
  },
  {
   "cell_type": "code",
   "execution_count": 120,
   "id": "10fa1d09-7717-4ea8-9ce7-1cef37b4da9c",
   "metadata": {},
   "outputs": [],
   "source": [
    "import cloudscraper\n",
    "import geopandas as gpd\n",
    "import pandas as pd\n",
    "import h3"
   ]
  },
  {
   "cell_type": "code",
   "execution_count": 121,
   "id": "d22202a0-bf3c-4953-81ce-105a19e002a0",
   "metadata": {},
   "outputs": [],
   "source": [
    "from shapely.geometry import Point\n",
    "from tqdm.notebook import tqdm"
   ]
  },
  {
   "cell_type": "markdown",
   "id": "02e1dfb5-464d-4984-8c84-5599ce9dcd5d",
   "metadata": {},
   "source": [
    "## Get State Data"
   ]
  },
  {
   "cell_type": "code",
   "execution_count": 122,
   "id": "84b53c65-5746-4ab8-8c99-6dfe3e967797",
   "metadata": {},
   "outputs": [],
   "source": [
    "file_path = \"data/cb_2018_us_state_500k/cb_2018_us_state_500k.shp\"\n",
    "states_df = gpd.read_file(file_path)"
   ]
  },
  {
   "cell_type": "code",
   "execution_count": 123,
   "id": "191755a6-eb92-4683-833e-b69f4be9f3f5",
   "metadata": {},
   "outputs": [],
   "source": [
    "states_df = states_df[[\"STUSPS\", \"NAME\", \"geometry\"]]"
   ]
  },
  {
   "cell_type": "code",
   "execution_count": 124,
   "id": "b170d710-c024-4edd-8d59-cc4b4c515e11",
   "metadata": {},
   "outputs": [],
   "source": [
    "country_shape = states_df[\"geometry\"].union_all()"
   ]
  },
  {
   "cell_type": "code",
   "execution_count": 125,
   "id": "057f30c2-ed71-4ea6-9e35-9f097f83a6e2",
   "metadata": {},
   "outputs": [],
   "source": [
    "h3_shape = h3.geo_to_h3shape(country_shape)\n",
    "h3_cells = h3.h3shape_to_cells(h3_shape, res=5)"
   ]
  },
  {
   "cell_type": "markdown",
   "id": "f3ad4feb-2496-4c2f-827b-04c586ef17ba",
   "metadata": {},
   "source": [
    "## Get McDonalds Data"
   ]
  },
  {
   "cell_type": "code",
   "execution_count": 110,
   "id": "4c063aa4-d1b0-400e-a449-8125a2a0596a",
   "metadata": {},
   "outputs": [],
   "source": [
    "scraper = cloudscraper.create_scraper()"
   ]
  },
  {
   "cell_type": "code",
   "execution_count": 111,
   "id": "763857ee-9a16-4fe4-be4e-983c531137da",
   "metadata": {},
   "outputs": [
    {
     "data": {
      "application/vnd.jupyter.widget-view+json": {
       "model_id": "619016a1b9604884abac60f0f728512b",
       "version_major": 2,
       "version_minor": 0
      },
      "text/plain": [
       "Parsing H3 Cells:   0%|          | 0/36446 [00:00<?, ?it/s]"
      ]
     },
     "metadata": {},
     "output_type": "display_data"
    }
   ],
   "source": [
    "restaurant_list = []\n",
    "for h3_cell in tqdm(h3_cells, desc=\"Parsing H3 Cells\"):\n",
    "    lat, lng = h3.cell_to_latlng(h3_cell)\n",
    "    url = (\n",
    "        \"https://www.mcdonalds.com/googleappsv2/geolocation?latitude=\"\n",
    "        + str(lat)\n",
    "        + \"&longitude=\"\n",
    "        + str(lng)\n",
    "        + \"&radius=100&maxResults=1000&country=us&language=en-us\"\n",
    "    )\n",
    "    locations = scraper.get(url).text\n",
    "    if not locations:\n",
    "        continue\n",
    "    features = json.loads(locations)[\"features\"]\n",
    "    for feature in features:\n",
    "        state_code = feature[\"properties\"][\"subDivision\"]\n",
    "        restaurant_list.append(\n",
    "            {\"STATE\": state_code, \"geometry\": Point(feature[\"geometry\"][\"coordinates\"])}\n",
    "        )"
   ]
  },
  {
   "cell_type": "code",
   "execution_count": 112,
   "id": "05a0449a-d8d6-4fbc-982c-a85f40ab028d",
   "metadata": {},
   "outputs": [],
   "source": [
    "mcdonalds_gdf = gpd.GeoDataFrame(restaurant_list, crs=4326)"
   ]
  },
  {
   "cell_type": "code",
   "execution_count": 113,
   "id": "8f4701ac-1a66-407f-ba94-749b00d188ca",
   "metadata": {},
   "outputs": [],
   "source": [
    "mcdonalds_new_gdf = mcdonalds_gdf.drop_duplicates().reset_index()[[\"STATE\", \"geometry\"]]"
   ]
  },
  {
   "cell_type": "code",
   "execution_count": 114,
   "id": "b7a1298b-c648-490d-bdef-9cd7a0c6715e",
   "metadata": {},
   "outputs": [],
   "source": [
    "mcdonalds_new_gdf.to_file(\"data/mcdonalds_va_h3_5.gpkg\")"
   ]
  },
  {
   "cell_type": "markdown",
   "id": "5a42dfab-fc47-49d7-8092-f08b31392df8",
   "metadata": {},
   "source": [
    "## Get Population Data"
   ]
  },
  {
   "cell_type": "code",
   "execution_count": 126,
   "id": "3cce9c91-abf1-4055-8b9a-5fd1f6cf611f",
   "metadata": {},
   "outputs": [],
   "source": [
    "state_populations = pd.read_excel(\n",
    "    \"data/NST-EST2023-POP.xlsx\", sheet_name=None, engine=\"openpyxl\"\n",
    ")"
   ]
  },
  {
   "cell_type": "code",
   "execution_count": 127,
   "id": "2eaacc28-fa8e-410e-b084-02ce24ec11a1",
   "metadata": {},
   "outputs": [],
   "source": [
    "state_populations_df = state_populations[\"NST-EST2023-POP\"][\n",
    "    [\n",
    "        \"table with row headers in column A and column headers in rows 3 through 4. (leading dots indicate sub-parts)\",\n",
    "        \"Unnamed: 5\",\n",
    "    ]\n",
    "]\n",
    "state_populations_df = state_populations_df.rename(\n",
    "    columns={\n",
    "        \"table with row headers in column A and column headers in rows 3 through 4. (leading dots indicate sub-parts)\": \"NAME\",\n",
    "        \"Unnamed: 5\": \"POPULATION\",\n",
    "    }\n",
    ")\n",
    "state_populations_df[\"NAME\"] = state_populations_df[\"NAME\"].str[1:]"
   ]
  },
  {
   "cell_type": "code",
   "execution_count": 128,
   "id": "2d6342e1-fc3f-4006-8d8a-d7612903a625",
   "metadata": {},
   "outputs": [],
   "source": [
    "states_with_population_df = states_df.merge(state_populations_df, on=\"NAME\", how=\"left\")\n",
    "states_with_population_df = states_with_population_df[\n",
    "    [\"STUSPS\", \"POPULATION\", \"geometry\", \"NAME\"]\n",
    "]"
   ]
  },
  {
   "cell_type": "code",
   "execution_count": 129,
   "id": "94150db1-9ce7-43cb-8c08-3f6d9bb58497",
   "metadata": {},
   "outputs": [],
   "source": [
    "states_with_population_df = states_with_population_df.dropna()"
   ]
  },
  {
   "cell_type": "markdown",
   "id": "af5c5e13-c89d-43ed-8021-13ba93990599",
   "metadata": {},
   "source": [
    "## Merge Data"
   ]
  },
  {
   "cell_type": "code",
   "execution_count": 136,
   "id": "bb579ac8-6b25-42da-9597-1f1cfa7a9484",
   "metadata": {},
   "outputs": [
    {
     "data": {
      "application/vnd.jupyter.widget-view+json": {
       "model_id": "efbb9fc35e9a40e3b845996679bde709",
       "version_major": 2,
       "version_minor": 0
      },
      "text/plain": [
       "Parsing McDonalds:   0%|          | 0/13512 [00:00<?, ?it/s]"
      ]
     },
     "metadata": {},
     "output_type": "display_data"
    },
    {
     "name": "stdout",
     "output_type": "stream",
     "text": [
      "8825\n"
     ]
    }
   ],
   "source": [
    "state_counts = {}\n",
    "for i in tqdm(range(len(mcdonalds_new_gdf)), desc=\"Parsing McDonalds\"):\n",
    "    try:\n",
    "        state_code = states_df[\n",
    "            states_df.intersects(mcdonalds_new_gdf.iloc[i][\"geometry\"])\n",
    "        ][\"STUSPS\"].iloc[0]\n",
    "    except IndexError:\n",
    "        print(i)\n",
    "        continue\n",
    "\n",
    "    if state_code not in state_counts:\n",
    "        state_counts[state_code] = 1\n",
    "    else:\n",
    "        state_counts[state_code] += 1"
   ]
  },
  {
   "cell_type": "code",
   "execution_count": 139,
   "id": "f6900380-39b5-4cca-abf9-b46f7b886f9d",
   "metadata": {},
   "outputs": [],
   "source": [
    "mcdonalds_per_state_df = pd.Series(state_counts, name=\"stores\")\n",
    "mcdonalds_per_state_df = mcdonalds_per_state_df.reset_index()\n",
    "mcdonalds_per_state_df = mcdonalds_per_state_df.rename(columns={\"index\": \"STUSPS\"})"
   ]
  },
  {
   "cell_type": "code",
   "execution_count": 141,
   "id": "8a4afa33-893a-4b6b-8df1-f5151243deeb",
   "metadata": {},
   "outputs": [],
   "source": [
    "mcdonalds_per_state_df = states_with_population_df.merge(\n",
    "    mcdonalds_per_state_df, on=\"STUSPS\", how=\"left\"\n",
    ")\n",
    "mcdonalds_per_state_df = mcdonalds_per_state_df.fillna(0)"
   ]
  },
  {
   "cell_type": "code",
   "execution_count": 142,
   "id": "f50526e2-4c7a-4d13-8d5e-aaddbeec7751",
   "metadata": {},
   "outputs": [],
   "source": [
    "mcdonalds_per_state_df[\"per_1000\"] = mcdonalds_per_state_df[\"stores\"] / (\n",
    "    mcdonalds_per_state_df[\"POPULATION\"] / 1000\n",
    ")\n",
    "mcdonalds_per_state_df[\"per_10k\"] = mcdonalds_per_state_df[\"stores\"] / (\n",
    "    mcdonalds_per_state_df[\"POPULATION\"] / 10_000\n",
    ")\n",
    "mcdonalds_per_state_df[\"per_100k\"] = mcdonalds_per_state_df[\"stores\"] / (\n",
    "    mcdonalds_per_state_df[\"POPULATION\"] / 100000\n",
    ")\n",
    "mcdonalds_per_state_df[\"per_500k\"] = mcdonalds_per_state_df[\"stores\"] / (\n",
    "    mcdonalds_per_state_df[\"POPULATION\"] / 500_000\n",
    ")\n",
    "mcdonalds_per_state_df[\"per_1m\"] = mcdonalds_per_state_df[\"stores\"] / (\n",
    "    mcdonalds_per_state_df[\"POPULATION\"] / 1_000_000\n",
    ")\n",
    "mcdonalds_per_state_df[\"per_capita\"] = (\n",
    "    mcdonalds_per_state_df[\"POPULATION\"] / mcdonalds_per_state_df[\"stores\"]\n",
    ")"
   ]
  },
  {
   "cell_type": "code",
   "execution_count": 146,
   "id": "4d00c57e-a978-4938-b5f5-cb176b29cf77",
   "metadata": {},
   "outputs": [],
   "source": [
    "mcdonalds_per_state_df = mcdonalds_per_state_df.to_crs(9311)"
   ]
  },
  {
   "cell_type": "code",
   "execution_count": 147,
   "id": "f8feb339-fc3c-41f9-8bd8-50ee507bb185",
   "metadata": {},
   "outputs": [],
   "source": [
    "mcdonalds_per_state_df.to_file(\"data/mcdonalds_per_state.gpkg\")"
   ]
  },
  {
   "cell_type": "code",
   "execution_count": null,
   "id": "6fe12df3-c59b-48b5-bd11-cdbae9436a65",
   "metadata": {},
   "outputs": [],
   "source": []
  }
 ],
 "metadata": {
  "kernelspec": {
   "display_name": "Python 3 (ipykernel)",
   "language": "python",
   "name": "python3"
  },
  "language_info": {
   "codemirror_mode": {
    "name": "ipython",
    "version": 3
   },
   "file_extension": ".py",
   "mimetype": "text/x-python",
   "name": "python",
   "nbconvert_exporter": "python",
   "pygments_lexer": "ipython3",
   "version": "3.11.11"
  }
 },
 "nbformat": 4,
 "nbformat_minor": 5
}
