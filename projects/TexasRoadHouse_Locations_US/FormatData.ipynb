{
 "cells": [
  {
   "cell_type": "code",
   "execution_count": 2,
   "id": "8d281a3f-f946-4c13-935b-9c3eea51187d",
   "metadata": {},
   "outputs": [],
   "source": [
    "import json\n",
    "import time"
   ]
  },
  {
   "cell_type": "code",
   "execution_count": 3,
   "id": "87c597da-0555-4be6-8d4b-b3bb7f260b8b",
   "metadata": {},
   "outputs": [],
   "source": [
    "import cloudscraper\n",
    "import geopandas as gpd\n",
    "import pandas as pd"
   ]
  },
  {
   "cell_type": "code",
   "execution_count": 4,
   "id": "833a2912-cfa2-46a1-bfd3-4fc10e305a46",
   "metadata": {},
   "outputs": [],
   "source": [
    "from shapely.geometry import Point\n",
    "from tqdm.notebook import tqdm"
   ]
  },
  {
   "cell_type": "code",
   "execution_count": 5,
   "id": "4432e506-4432-4a02-8641-76f1b27ee4f8",
   "metadata": {},
   "outputs": [],
   "source": [
    "import h3"
   ]
  },
  {
   "cell_type": "markdown",
   "id": "51a96df7-7167-42d2-8fb5-478ae8bc358d",
   "metadata": {},
   "source": [
    "## Get State Data"
   ]
  },
  {
   "cell_type": "code",
   "execution_count": 43,
   "id": "72842d20-aa42-44c2-9cc6-e9816068e67b",
   "metadata": {},
   "outputs": [],
   "source": [
    "file_path = \"data/cb_2018_us_state_500k/cb_2018_us_state_500k.shp\"\n",
    "states_df = gpd.read_file(file_path)"
   ]
  },
  {
   "cell_type": "code",
   "execution_count": 44,
   "id": "69c8af5d-03fb-4464-b004-540a07303aac",
   "metadata": {},
   "outputs": [],
   "source": [
    "states_df = states_df[[\"STUSPS\", \"NAME\", \"geometry\"]]"
   ]
  },
  {
   "cell_type": "code",
   "execution_count": 45,
   "id": "61662f09-8c82-4fad-a94c-176b08cfcc68",
   "metadata": {},
   "outputs": [],
   "source": [
    "states_df = states_df.replace(\"United States Virgin Islands\", \"Virgin Islands\")"
   ]
  },
  {
   "cell_type": "code",
   "execution_count": 55,
   "id": "2d58346e-5db7-4eb7-aeea-7c37391fbf86",
   "metadata": {},
   "outputs": [],
   "source": [
    "country_shape_minus_alaska = states_df[states_df[\"STUSPS\"] != \"AK\"][\n",
    "    \"geometry\"\n",
    "].union_all()"
   ]
  },
  {
   "cell_type": "code",
   "execution_count": 56,
   "id": "60280e4e-7b40-40d7-89f0-58676c2e37ac",
   "metadata": {},
   "outputs": [],
   "source": [
    "h3_shape = h3.geo_to_h3shape(country_shape_minus_alaska)\n",
    "h3_cells = h3.h3shape_to_cells(h3_shape, res=3)"
   ]
  },
  {
   "cell_type": "markdown",
   "id": "dd804e08-92f8-4957-9d31-3c6f80a3601d",
   "metadata": {},
   "source": [
    "## Get Texas Roadhouse Data"
   ]
  },
  {
   "cell_type": "code",
   "execution_count": 58,
   "id": "6ad00431-8f5e-4273-a55b-fabefb7c20ef",
   "metadata": {},
   "outputs": [],
   "source": [
    "scraper = cloudscraper.create_scraper()"
   ]
  },
  {
   "cell_type": "code",
   "execution_count": 61,
   "id": "ca240ad6-21e4-4db0-af20-ad9a3007f944",
   "metadata": {},
   "outputs": [
    {
     "data": {
      "application/vnd.jupyter.widget-view+json": {
       "model_id": "f634d8a084f44ddcb6a86d902e8ef0af",
       "version_major": 2,
       "version_minor": 0
      },
      "text/plain": [
       "Parsing H3 Cells:   0%|          | 0/609 [00:00<?, ?it/s]"
      ]
     },
     "metadata": {},
     "output_type": "display_data"
    }
   ],
   "source": [
    "restaurant_list = []\n",
    "for h3_cell in tqdm(h3_cells, desc=\"Parsing H3 Cells\"):\n",
    "    y, x = h3.cell_to_latlng(h3_cell)\n",
    "    url = (\n",
    "        \"https://www.texasroadhouse.com/restaurants/near?lat=\"\n",
    "        + str(y)\n",
    "        + \"&long=\"\n",
    "        + str(x)\n",
    "        + \"&radius=500&limit=100&nomnom=calendars&nomnom_calendars_from=20241204&nomnom_calendars_to=20241215&nomnom_exclude_extref=\"\n",
    "    )\n",
    "\n",
    "    locations = scraper.get(url).text\n",
    "    restaurants = json.loads(locations)[\"restaurants\"]\n",
    "    for restaurant in restaurants:\n",
    "        lng = restaurant[\"longitude\"]\n",
    "        lat = restaurant[\"latitude\"]\n",
    "        state_code = restaurant[\"state\"]\n",
    "\n",
    "        restaurant_list.append({\"STATE\": state_code, \"geometry\": Point(lng, lat)})"
   ]
  },
  {
   "cell_type": "code",
   "execution_count": 106,
   "id": "15b1a605-8090-4cbc-80cd-249aeb12950b",
   "metadata": {},
   "outputs": [],
   "source": [
    "texas_roadhouse_gdf = gpd.GeoDataFrame(restaurant_list, crs=4326)"
   ]
  },
  {
   "cell_type": "code",
   "execution_count": 107,
   "id": "6ffebaf1-18b4-40f5-b634-c1163b5f1e49",
   "metadata": {},
   "outputs": [],
   "source": [
    "texas_roadhouse_gdf = texas_roadhouse_gdf.drop_duplicates().reset_index()[\n",
    "    [\"STATE\", \"geometry\"]\n",
    "]"
   ]
  },
  {
   "cell_type": "markdown",
   "id": "7c134ac3-8399-4050-9d9c-f05b19b7d1cc",
   "metadata": {},
   "source": [
    "## Get Population Data"
   ]
  },
  {
   "cell_type": "code",
   "execution_count": 108,
   "id": "4a546c5b-54fc-4e01-bb32-6a8909af56ec",
   "metadata": {},
   "outputs": [],
   "source": [
    "state_populations = pd.read_excel(\n",
    "    \"data/NST-EST2023-POP.xlsx\", sheet_name=None, engine=\"openpyxl\"\n",
    ")"
   ]
  },
  {
   "cell_type": "code",
   "execution_count": 109,
   "id": "f1490889-8d92-4153-9f87-0a622f3a9b6a",
   "metadata": {},
   "outputs": [],
   "source": [
    "state_populations_df = state_populations[\"NST-EST2023-POP\"][\n",
    "    [\n",
    "        \"table with row headers in column A and column headers in rows 3 through 4. (leading dots indicate sub-parts)\",\n",
    "        \"Unnamed: 5\",\n",
    "    ]\n",
    "]\n",
    "state_populations_df = state_populations_df.rename(\n",
    "    columns={\n",
    "        \"table with row headers in column A and column headers in rows 3 through 4. (leading dots indicate sub-parts)\": \"NAME\",\n",
    "        \"Unnamed: 5\": \"POPULATION\",\n",
    "    }\n",
    ")\n",
    "state_populations_df[\"NAME\"] = state_populations_df[\"NAME\"].str[1:]"
   ]
  },
  {
   "cell_type": "code",
   "execution_count": 110,
   "id": "96437aed-8a98-48ca-bbb2-3206cd2e9dd6",
   "metadata": {},
   "outputs": [],
   "source": [
    "states_with_population_df = states_df.merge(state_populations_df, on=\"NAME\", how=\"left\")\n",
    "states_with_population_df = states_with_population_df[\n",
    "    [\"STUSPS\", \"POPULATION\", \"geometry\", \"NAME\"]\n",
    "]"
   ]
  },
  {
   "cell_type": "code",
   "execution_count": 111,
   "id": "8e7b43a7-59b7-406a-8cee-edd32f0a088c",
   "metadata": {},
   "outputs": [],
   "source": [
    "states_with_population_df = states_with_population_df.dropna()"
   ]
  },
  {
   "cell_type": "markdown",
   "id": "1cfae07c-34b5-494f-a7d9-d818ed0ebb0d",
   "metadata": {},
   "source": [
    "## Merge Data"
   ]
  },
  {
   "cell_type": "code",
   "execution_count": 112,
   "id": "8c88c42d-4f5f-41de-9894-f48894f99372",
   "metadata": {},
   "outputs": [
    {
     "data": {
      "application/vnd.jupyter.widget-view+json": {
       "model_id": "bb7ef03ba0e5496e9ddbbcb9761412a7",
       "version_major": 2,
       "version_minor": 0
      },
      "text/plain": [
       "Parsing Texas RoadHouses:   0%|          | 0/671 [00:00<?, ?it/s]"
      ]
     },
     "metadata": {},
     "output_type": "display_data"
    }
   ],
   "source": [
    "state_counts = {}\n",
    "for i in tqdm(range(len(texas_roadhouse_gdf)), desc=\"Parsing Texas RoadHouses\"):\n",
    "    try:\n",
    "        state_code = states_df[\n",
    "            states_df.intersects(texas_roadhouse_gdf.iloc[i][\"geometry\"])\n",
    "        ][\"STUSPS\"].iloc[0]\n",
    "    except IndexError:\n",
    "        print(i)\n",
    "        continue\n",
    "\n",
    "    if state_code not in state_counts:\n",
    "        state_counts[state_code] = 1\n",
    "    else:\n",
    "        state_counts[state_code] += 1"
   ]
  },
  {
   "cell_type": "code",
   "execution_count": 113,
   "id": "505fa3da-6856-4b2a-921b-6409ff2f35a5",
   "metadata": {},
   "outputs": [],
   "source": [
    "texas_roadhouse_per_state_df = pd.Series(state_counts, name=\"stores\")\n",
    "texas_roadhouse_per_state_df = texas_roadhouse_per_state_df.reset_index()\n",
    "texas_roadhouse_per_state_df = texas_roadhouse_per_state_df.rename(\n",
    "    columns={\"index\": \"STUSPS\"}\n",
    ")"
   ]
  },
  {
   "cell_type": "code",
   "execution_count": 114,
   "id": "5d40138a-c67c-4e6d-b4b9-d242fda031ea",
   "metadata": {},
   "outputs": [],
   "source": [
    "texas_roadhouse_per_state_df = states_with_population_df.merge(\n",
    "    texas_roadhouse_per_state_df, on=\"STUSPS\", how=\"left\"\n",
    ")\n",
    "texas_roadhouse_per_state_df = texas_roadhouse_per_state_df.fillna(0)"
   ]
  },
  {
   "cell_type": "code",
   "execution_count": 115,
   "id": "ce598518-29fc-402a-b8e5-77be79ead78e",
   "metadata": {},
   "outputs": [],
   "source": [
    "texas_roadhouse_per_state_df[\"per_1000\"] = texas_roadhouse_per_state_df[\"stores\"] / (\n",
    "    texas_roadhouse_per_state_df[\"POPULATION\"] / 1000\n",
    ")\n",
    "texas_roadhouse_per_state_df[\"per_10k\"] = texas_roadhouse_per_state_df[\"stores\"] / (\n",
    "    texas_roadhouse_per_state_df[\"POPULATION\"] / 10_000\n",
    ")\n",
    "texas_roadhouse_per_state_df[\"per_100k\"] = texas_roadhouse_per_state_df[\"stores\"] / (\n",
    "    texas_roadhouse_per_state_df[\"POPULATION\"] / 100000\n",
    ")\n",
    "texas_roadhouse_per_state_df[\"per_500k\"] = texas_roadhouse_per_state_df[\"stores\"] / (\n",
    "    texas_roadhouse_per_state_df[\"POPULATION\"] / 500_000\n",
    ")\n",
    "texas_roadhouse_per_state_df[\"per_1m\"] = texas_roadhouse_per_state_df[\"stores\"] / (\n",
    "    texas_roadhouse_per_state_df[\"POPULATION\"] / 1_000_000\n",
    ")\n",
    "texas_roadhouse_per_state_df[\"per_capita\"] = (\n",
    "    texas_roadhouse_per_state_df[\"POPULATION\"] / texas_roadhouse_per_state_df[\"stores\"]\n",
    ")"
   ]
  },
  {
   "cell_type": "code",
   "execution_count": 116,
   "id": "ab09a84d-1f6b-4fb7-83ff-c37af3d167d2",
   "metadata": {},
   "outputs": [],
   "source": [
    "texas_roadhouse_per_state_df = texas_roadhouse_per_state_df.to_crs(9311)"
   ]
  },
  {
   "cell_type": "code",
   "execution_count": 117,
   "id": "1dab7442-d8b5-4711-9672-e0f125a15c27",
   "metadata": {},
   "outputs": [],
   "source": [
    "texas_roadhouse_gdf = texas_roadhouse_gdf.to_crs(9311)"
   ]
  },
  {
   "cell_type": "code",
   "execution_count": 118,
   "id": "0f6ac5ef-42ec-4d00-803c-3ee66843f86f",
   "metadata": {},
   "outputs": [],
   "source": [
    "texas_roadhouse_per_state_df.to_file(\"data/roadhouses_per_state.gpkg\")"
   ]
  },
  {
   "cell_type": "code",
   "execution_count": 119,
   "id": "02133610-c250-477f-b8b2-44b1d461759d",
   "metadata": {},
   "outputs": [],
   "source": [
    "texas_roadhouse_gdf.to_file(\"data/roadhouses.gpkg\")"
   ]
  }
 ],
 "metadata": {
  "kernelspec": {
   "display_name": "Python 3 (ipykernel)",
   "language": "python",
   "name": "python3"
  },
  "language_info": {
   "codemirror_mode": {
    "name": "ipython",
    "version": 3
   },
   "file_extension": ".py",
   "mimetype": "text/x-python",
   "name": "python",
   "nbconvert_exporter": "python",
   "pygments_lexer": "ipython3",
   "version": "3.11.11"
  }
 },
 "nbformat": 4,
 "nbformat_minor": 5
}
