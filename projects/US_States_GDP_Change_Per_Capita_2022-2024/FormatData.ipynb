{
 "cells": [
  {
   "cell_type": "code",
   "execution_count": 1,
   "id": "c4323fb2-1721-463e-8602-d1c3302ff523",
   "metadata": {},
   "outputs": [],
   "source": [
    "import geopandas as gpd\n",
    "import pandas as pd\n",
    "import wikipedia as wp"
   ]
  },
  {
   "cell_type": "markdown",
   "id": "7bfd8f31-eada-447d-af06-da8a94290c02",
   "metadata": {},
   "source": [
    "## Open State data"
   ]
  },
  {
   "cell_type": "code",
   "execution_count": 2,
   "id": "5fadd853-8ad5-4832-976a-4d251d5a794b",
   "metadata": {},
   "outputs": [],
   "source": [
    "file_path = \"data/cb_2018_us_state_500k/cb_2018_us_state_500k.shp\"\n",
    "states_df = gpd.read_file(file_path)"
   ]
  },
  {
   "cell_type": "markdown",
   "id": "74b55cfa-2db3-4a7c-bd04-0b341757effe",
   "metadata": {},
   "source": [
    "## Get GDP Data"
   ]
  },
  {
   "cell_type": "code",
   "execution_count": 49,
   "id": "59e27d69-2565-466c-a6e8-2ab7abf5470d",
   "metadata": {},
   "outputs": [],
   "source": [
    "html = (\n",
    "    wp.page(\"List_of_U.S._states_and_territories_by_GDP\", auto_suggest=False)\n",
    "    .html()\n",
    "    .encode(\"UTF-8\")\n",
    ")"
   ]
  },
  {
   "cell_type": "code",
   "execution_count": 64,
   "id": "189dd3a0-2bb7-4051-95c2-2831aaac2eae",
   "metadata": {},
   "outputs": [],
   "source": [
    "states_gdp_df = pd.read_html(html)[0]"
   ]
  },
  {
   "cell_type": "code",
   "execution_count": 65,
   "id": "8e0b8d50-6890-4fae-9c2a-664ac54e4b78",
   "metadata": {},
   "outputs": [],
   "source": [
    "states_gdp_df = states_gdp_df.rename(\n",
    "    columns={\n",
    "        \"State or federal district\": \"NAME\",\n",
    "        \"Nominal GDP per capita[1][3]\": \"NOMINAL_CHANGE\",\n",
    "    }\n",
    ")\n",
    "states_gdp_df = states_gdp_df[[\"NAME\", \"NOMINAL_CHANGE\"]]"
   ]
  },
  {
   "cell_type": "code",
   "execution_count": 66,
   "id": "a694ab21-59d9-4352-bc4e-8d6a9e24cdf5",
   "metadata": {},
   "outputs": [],
   "source": [
    "states_gdp_df.columns = [\" \".join(col).strip() for col in states_gdp_df.columns.values]"
   ]
  },
  {
   "cell_type": "code",
   "execution_count": 67,
   "id": "26a0b9ea-7481-4bb0-bf15-77b926f0c58f",
   "metadata": {},
   "outputs": [],
   "source": [
    "states_gdp_df = states_gdp_df.rename(\n",
    "    columns={\n",
    "        \"NAME NAME\": \"NAME\",\n",
    "        \"NOMINAL_CHANGE 2022\": \"NOMINAL_CHANGE_2022\",\n",
    "        \"NOMINAL_CHANGE 2024\": \"NOMINAL_CHANGE_2024\",\n",
    "    }\n",
    ")\n",
    "states_gdp_df = states_gdp_df[[\"NAME\", \"NOMINAL_CHANGE_2022\", \"NOMINAL_CHANGE_2024\"]]"
   ]
  },
  {
   "cell_type": "code",
   "execution_count": 68,
   "id": "ae189dee-b4d1-4a86-9750-236e29fb5314",
   "metadata": {},
   "outputs": [
    {
     "data": {
      "text/plain": [
       "'$93,460'"
      ]
     },
     "execution_count": 68,
     "metadata": {},
     "output_type": "execute_result"
    }
   ],
   "source": [
    "states_gdp_df[\"NOMINAL_CHANGE_2022\"].iloc[0]"
   ]
  },
  {
   "cell_type": "code",
   "execution_count": 69,
   "id": "323bc115-d6a2-4e2d-98ed-a07890672ffc",
   "metadata": {},
   "outputs": [],
   "source": [
    "states_gdp_df[\"NOMINAL_CHANGE_2022\"] = (\n",
    "    states_gdp_df[\"NOMINAL_CHANGE_2022\"]\n",
    "    .str.replace(\",\", \"\")\n",
    "    .str.replace(\"$\", \"\")\n",
    "    .astype(int)\n",
    ")\n",
    "states_gdp_df[\"NOMINAL_CHANGE_2024\"] = (\n",
    "    states_gdp_df[\"NOMINAL_CHANGE_2024\"]\n",
    "    .str.replace(\",\", \"\")\n",
    "    .str.replace(\"$\", \"\")\n",
    "    .astype(int)\n",
    ")"
   ]
  },
  {
   "cell_type": "code",
   "execution_count": 70,
   "id": "cb6582b9-06ed-4031-9a5c-343c601d43cc",
   "metadata": {},
   "outputs": [],
   "source": [
    "states_gdp_df[\"NOMINAL_CHANGE_DIFF\"] = (\n",
    "    states_gdp_df[\"NOMINAL_CHANGE_2024\"] - states_gdp_df[\"NOMINAL_CHANGE_2022\"]\n",
    ")"
   ]
  },
  {
   "cell_type": "code",
   "execution_count": 71,
   "id": "d70e8ad8-9d81-44bb-8bc5-34af3fca770c",
   "metadata": {},
   "outputs": [],
   "source": [
    "states_gdp_df[\"NOMINAL_CHANGE_PERCENT\"] = (\n",
    "    states_gdp_df[\"NOMINAL_CHANGE_DIFF\"] / states_gdp_df[\"NOMINAL_CHANGE_2022\"]\n",
    ")"
   ]
  },
  {
   "cell_type": "markdown",
   "id": "ea0435b2-f5f4-4186-853b-615f63cc50aa",
   "metadata": {},
   "source": [
    "## Merge Data"
   ]
  },
  {
   "cell_type": "code",
   "execution_count": 72,
   "id": "335e5a07-6df8-46bf-bc7d-1512019384fd",
   "metadata": {},
   "outputs": [],
   "source": [
    "states_gdp_gdf = states_df.merge(states_gdp_df, on=\"NAME\", how=\"inner\").dropna()"
   ]
  },
  {
   "cell_type": "code",
   "execution_count": 73,
   "id": "39512cbf-f562-49d2-ae80-8f0d068763b7",
   "metadata": {},
   "outputs": [],
   "source": [
    "states_gdp_gdf = states_gdp_gdf[\n",
    "    [\"NAME\", \"geometry\", \"NOMINAL_CHANGE_DIFF\", \"NOMINAL_CHANGE_PERCENT\"]\n",
    "]"
   ]
  },
  {
   "cell_type": "code",
   "execution_count": 74,
   "id": "ae923604-fd11-4c7d-a480-4f53abaeafbc",
   "metadata": {},
   "outputs": [],
   "source": [
    "states_gdp_gdf = states_gdp_gdf.to_crs(9311)\n",
    "states_gdp_gdf.to_file(\"data/gdp.gpkg\")"
   ]
  },
  {
   "cell_type": "code",
   "execution_count": null,
   "id": "e05f8aae-9b3e-488c-b776-2967596dbde3",
   "metadata": {},
   "outputs": [],
   "source": []
  }
 ],
 "metadata": {
  "kernelspec": {
   "display_name": "Python 3 (ipykernel)",
   "language": "python",
   "name": "python3"
  },
  "language_info": {
   "codemirror_mode": {
    "name": "ipython",
    "version": 3
   },
   "file_extension": ".py",
   "mimetype": "text/x-python",
   "name": "python",
   "nbconvert_exporter": "python",
   "pygments_lexer": "ipython3",
   "version": "3.11.11"
  }
 },
 "nbformat": 4,
 "nbformat_minor": 5
}
