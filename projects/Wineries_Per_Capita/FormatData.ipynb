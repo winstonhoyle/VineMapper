{
 "cells": [
  {
   "cell_type": "code",
   "execution_count": 110,
   "id": "1974ff54-39b8-4e30-b3b2-37733ac28fda",
   "metadata": {},
   "outputs": [],
   "source": [
    "import json"
   ]
  },
  {
   "cell_type": "code",
   "execution_count": 111,
   "id": "ea8798c7-edff-4cf9-9a5d-cf4f1b6dea91",
   "metadata": {},
   "outputs": [],
   "source": [
    "import requests\n",
    "import geopandas as gpd"
   ]
  },
  {
   "cell_type": "markdown",
   "id": "bc508094-33be-4cfd-8e98-ebd8212a8b00",
   "metadata": {},
   "source": [
    "## Open GIS Data"
   ]
  },
  {
   "cell_type": "code",
   "execution_count": 112,
   "id": "c4e00e1d-c372-442f-9784-a26e75703164",
   "metadata": {},
   "outputs": [],
   "source": [
    "file_path = \"data/cb_2018_us_state_500k/cb_2018_us_state_500k.shp\"\n",
    "states_df = gpd.read_file(file_path)"
   ]
  },
  {
   "cell_type": "markdown",
   "id": "f6ff1a99-2c55-49eb-b094-4feecb032e8d",
   "metadata": {},
   "source": [
    "## Get Population Data"
   ]
  },
  {
   "cell_type": "code",
   "execution_count": 113,
   "id": "9b28d8a6-b54f-4694-977d-1ff55a931c5b",
   "metadata": {},
   "outputs": [],
   "source": [
    "state_populations = pd.read_excel(\n",
    "    \"data/NST-EST2023-POP.xlsx\", sheet_name=None, engine=\"openpyxl\"\n",
    ")"
   ]
  },
  {
   "cell_type": "code",
   "execution_count": 114,
   "id": "25d2b992-8186-490c-8d22-d0ccb8bd7eaa",
   "metadata": {},
   "outputs": [],
   "source": [
    "state_populations_df = state_populations[\"NST-EST2023-POP\"][\n",
    "    [\n",
    "        \"table with row headers in column A and column headers in rows 3 through 4. (leading dots indicate sub-parts)\",\n",
    "        \"Unnamed: 5\",\n",
    "    ]\n",
    "]\n",
    "state_populations_df = state_populations_df.rename(\n",
    "    columns={\n",
    "        \"table with row headers in column A and column headers in rows 3 through 4. (leading dots indicate sub-parts)\": \"NAME\",\n",
    "        \"Unnamed: 5\": \"POPULATION\",\n",
    "    }\n",
    ")\n",
    "state_populations_df[\"NAME\"] = state_populations_df[\"NAME\"].str[1:]"
   ]
  },
  {
   "cell_type": "code",
   "execution_count": 115,
   "id": "2280be9e-3267-435d-9b46-98f36c6ed9ed",
   "metadata": {},
   "outputs": [],
   "source": [
    "states_with_population_df = states_df.merge(state_populations_df, on=\"NAME\", how=\"left\")\n",
    "states_with_population_df = states_with_population_df[\n",
    "    [\"STUSPS\", \"NAME\", \"POPULATION\", \"geometry\"]\n",
    "]"
   ]
  },
  {
   "cell_type": "markdown",
   "id": "dcec5b28-d761-47be-9821-f064b458a607",
   "metadata": {},
   "source": [
    "## Get Winery Data"
   ]
  },
  {
   "cell_type": "code",
   "execution_count": 116,
   "id": "85401cb0-5ae5-404f-b0d5-ecdd45d85d43",
   "metadata": {},
   "outputs": [],
   "source": [
    "r = requests.get(\"https://winemaps.com/api/wine-maps-winery\")"
   ]
  },
  {
   "cell_type": "code",
   "execution_count": 117,
   "id": "2544a2e2-ccde-4a7f-a36a-5bb5db2f7327",
   "metadata": {
    "scrolled": true
   },
   "outputs": [
    {
     "name": "stdout",
     "output_type": "stream",
     "text": [
      "Marsden Estate  56 Wiroa Road Keri Keri\n",
      "Barkers Marque Wines 499 Reserve Road, RD 1, Seddon\n",
      "Beach House Wines A. 93 Mere Road Hastings Hawkes Bay\n",
      "I. Brajkovich 76 Guys Road, Kaikohe\n",
      "Matahiwi Vineyard 286 Paierau Road RD 1, Masteron Wairarapa\n",
      "Misconduct Wine Co. 375 Upper Branch Road North Penticton\n",
      "Naked Range Wines 125 Rifle Range Road Smiths Gully\n",
      "Hannay Wines Valley Green, 41 Viljoenshoop Road Elgin\n",
      "Catherine Marshall Lavinia, 1377 Polkadraai Road (M12/Stellenbosch Arterial) Stellenbosch\n",
      "South Hill Vineyards 113 Elgin Valley Road Elgin\n",
      "Boekenhoutskloof Winery Excelsior Road Franschhoek\n",
      "Dieu Donne Vineyards        Dieu Donne Uitkyk Street Franschhoek\n",
      "La Bri La Bri Wine Estate, Excelsior Road Franschhoek\n",
      "Mont Rochelle 1499 Dassenberg Road Franschhoek\n",
      "Veraison Vineyard Dassenberg Road Franschhoek\n",
      "Neyen Camino Apalta Km. 11 Colchagua\n",
      "Quinta da Aveleira National Road, Tavora, 7 Tabuaço\n",
      "Tarapacá Fundo El Rosario de Naltahua S/N \n",
      "Gisborne Wine Centre Shed 3, 50 The Esplanade Inner Harbour Inner Harbour\n",
      "Bouza Bodega Boutique Cno. de la Redencion 7658 bis Montevideo\n",
      "Cesar Pisano E Hijos Ruta 68 km. 29 Progreso Canelones\n",
      "Dante Irurtia Ramal Ruta 97 Km. 2,300 Carmelo Colonia\n",
      "Familia Deicas Establecimiento Juanico Route 5 Km 37,500, Gauteng Juanico\n",
      "Filgueira Viñedos and Bodega Patria 765 / Route 81 km 6,500 Cuchilla Verde Montevideo\n",
      "Marichal R. 5 km. 39 Etchevarria Canelones\n",
      "Pizzorno Family Estates Ruta 32 k,. 23 Canelon Chico Canelones\n",
      "De Lucca Wines Ruta 48 km 13.100 El Colorado Uruguay\n",
      "Toscanini Family of Wines Route 69, Km. 30,500 Uruguay\n",
      "Vinos Finos H. Stagnari Ruta 5 km. 20 La Puebla Canelones\n",
      "Viña Varela Zarranz Route 74, km 29, Joaquin Suarez Canelones\n",
      "El Cielo Valle de Guadalupe Plot No. 118 km. 7.5 Guadalupe Road Ejido El Porvenir\n"
     ]
    }
   ],
   "source": [
    "feature_collection = r.json()\n",
    "for i, feature in enumerate(feature_collection[\"features\"]):\n",
    "    coords = feature[\"geometry\"][\"coordinates\"]\n",
    "    try:\n",
    "        feature_collection[\"features\"][i][\"geometry\"][\"coordinates\"] = [\n",
    "            float(coords[0]),\n",
    "            float(coords[1]),\n",
    "        ]\n",
    "    except ValueError:\n",
    "        print(feature[\"properties\"][\"title\"], feature[\"properties\"][\"address\"])"
   ]
  },
  {
   "cell_type": "code",
   "execution_count": 118,
   "id": "65643094-15a0-4bdf-ae3e-a5de4796ae8a",
   "metadata": {},
   "outputs": [],
   "source": [
    "with open(\"data/wineries.geojson\", \"w\") as f:\n",
    "    f.write(json.dumps(feature_collection))"
   ]
  },
  {
   "cell_type": "code",
   "execution_count": 119,
   "id": "ca6e4279-c075-4adc-9838-0d12b3dd0c1e",
   "metadata": {},
   "outputs": [],
   "source": [
    "wineries_gdf = gpd.GeoDataFrame.from_file(\"data/wineries.geojson\")"
   ]
  },
  {
   "cell_type": "code",
   "execution_count": 120,
   "id": "58977130-2e3b-4258-b9ce-f9c9e110da7a",
   "metadata": {},
   "outputs": [
    {
     "data": {
      "text/plain": [
       "16    CA\n",
       "Name: STUSPS, dtype: object"
      ]
     },
     "execution_count": 120,
     "metadata": {},
     "output_type": "execute_result"
    }
   ],
   "source": [
    "states_df[wineries_gdf[\"geometry\"].iloc[0].intersects(states_df[\"geometry\"])][\"STUSPS\"]"
   ]
  },
  {
   "cell_type": "code",
   "execution_count": 144,
   "id": "491fc50e-d32e-4738-8231-f5744c5f4782",
   "metadata": {},
   "outputs": [],
   "source": [
    "wineries_gdf = wineries_gdf[wineries_gdf[\"geometry\"] != None]"
   ]
  },
  {
   "cell_type": "code",
   "execution_count": 145,
   "id": "a38c919a-bb47-4020-a494-36d2ea47d351",
   "metadata": {},
   "outputs": [],
   "source": [
    "def calculate_state(input_point, input_polygons):\n",
    "    output_df = input_polygons[input_point.intersects(input_polygons[\"geometry\"])][\n",
    "        \"STUSPS\"\n",
    "    ]\n",
    "    if output_df.empty:\n",
    "        return\n",
    "    return output_df.iloc[0]"
   ]
  },
  {
   "cell_type": "code",
   "execution_count": 200,
   "id": "e3726e6c-f7cd-496e-a024-1f05ef088631",
   "metadata": {},
   "outputs": [
    {
     "name": "stderr",
     "output_type": "stream",
     "text": [
      "/mnt/c/Users/Winston/Documents/GitHub/VineMapper/.venv/lib/python3.11/site-packages/geopandas/geodataframe.py:1819: SettingWithCopyWarning: \n",
      "A value is trying to be set on a copy of a slice from a DataFrame.\n",
      "Try using .loc[row_indexer,col_indexer] = value instead\n",
      "\n",
      "See the caveats in the documentation: https://pandas.pydata.org/pandas-docs/stable/user_guide/indexing.html#returning-a-view-versus-a-copy\n",
      "  super().__setitem__(key, value)\n"
     ]
    }
   ],
   "source": [
    "wineries_gdf[\"state_code\"] = wineries_gdf[\"geometry\"].apply(\n",
    "    lambda geometry: calculate_state(geometry, states_df)\n",
    ")"
   ]
  },
  {
   "cell_type": "code",
   "execution_count": 201,
   "id": "aa372269-61a3-4931-8b49-e7676bb94ce1",
   "metadata": {},
   "outputs": [],
   "source": [
    "wineries_by_state_series = wineries_gdf.groupby([\"state_code\"]).size()"
   ]
  },
  {
   "cell_type": "code",
   "execution_count": 202,
   "id": "91218e5d-bb89-4bcb-8b11-5dda16df74d7",
   "metadata": {},
   "outputs": [],
   "source": [
    "wineries_by_state_df = pd.DataFrame(\n",
    "    {\n",
    "        \"STUSPS\": wineries_by_state_series.index,\n",
    "        \"wineries\": wineries_by_state_series.values,\n",
    "    }\n",
    ")"
   ]
  },
  {
   "cell_type": "markdown",
   "id": "472b9d83-32a3-4d89-a4ec-d0585d67603a",
   "metadata": {},
   "source": [
    "## Merge Data"
   ]
  },
  {
   "cell_type": "code",
   "execution_count": 203,
   "id": "43d4f463-2084-4d3e-bdc6-2c24a0132aeb",
   "metadata": {},
   "outputs": [],
   "source": [
    "wineries_per_state_df = states_with_population_df.merge(\n",
    "    wineries_by_state_df, on=\"STUSPS\", how=\"left\"\n",
    ")"
   ]
  },
  {
   "cell_type": "code",
   "execution_count": 204,
   "id": "cc70b250-894d-4f49-b5df-4805b12753fd",
   "metadata": {},
   "outputs": [],
   "source": [
    "wineries_per_state_df = wineries_per_state_df.fillna(0)"
   ]
  },
  {
   "cell_type": "code",
   "execution_count": 205,
   "id": "e4ce43ee-28cb-4e95-bed4-ca7c1f75292d",
   "metadata": {},
   "outputs": [],
   "source": [
    "wineries_per_state_df[\"per_100k\"] = wineries_per_state_df[\"wineries\"] / (\n",
    "    wineries_per_state_df[\"POPULATION\"] / 100000\n",
    ")\n",
    "wineries_per_state_df[\"per_500k\"] = wineries_per_state_df[\"wineries\"] / (\n",
    "    wineries_per_state_df[\"POPULATION\"] / 500_000\n",
    ")\n",
    "wineries_per_state_df[\"per_1m\"] = wineries_per_state_df[\"wineries\"] / (\n",
    "    wineries_per_state_df[\"POPULATION\"] / 1_000_000\n",
    ")"
   ]
  },
  {
   "cell_type": "code",
   "execution_count": 206,
   "id": "2ac51fa4-66ad-412d-8df1-d9aeff9f5e3f",
   "metadata": {},
   "outputs": [],
   "source": [
    "wineries_per_state_df.to_file(\"data/wineries.gpkg\")"
   ]
  },
  {
   "cell_type": "code",
   "execution_count": null,
   "id": "a5402569-9f71-4cba-92cf-0f2b153e7a4b",
   "metadata": {},
   "outputs": [],
   "source": []
  }
 ],
 "metadata": {
  "kernelspec": {
   "display_name": "Python 3 (ipykernel)",
   "language": "python",
   "name": "python3"
  },
  "language_info": {
   "codemirror_mode": {
    "name": "ipython",
    "version": 3
   },
   "file_extension": ".py",
   "mimetype": "text/x-python",
   "name": "python",
   "nbconvert_exporter": "python",
   "pygments_lexer": "ipython3",
   "version": "3.11.10"
  }
 },
 "nbformat": 4,
 "nbformat_minor": 5
}
