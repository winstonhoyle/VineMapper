{
 "cells": [
  {
   "cell_type": "code",
   "execution_count": 1,
   "id": "ea8798c7-edff-4cf9-9a5d-cf4f1b6dea91",
   "metadata": {},
   "outputs": [],
   "source": [
    "import requests\n",
    "import geopandas as gpd\n",
    "import pandas as pd"
   ]
  },
  {
   "cell_type": "code",
   "execution_count": 2,
   "id": "720f614c-943f-46fb-86bb-1c6bd8d1e48a",
   "metadata": {},
   "outputs": [],
   "source": [
    "from bs4 import BeautifulSoup \n",
    "from shapely.geometry import Point\n",
    "from tqdm.notebook import tqdm"
   ]
  },
  {
   "cell_type": "markdown",
   "id": "bc508094-33be-4cfd-8e98-ebd8212a8b00",
   "metadata": {},
   "source": [
    "## Open GIS Data"
   ]
  },
  {
   "cell_type": "code",
   "execution_count": 110,
   "id": "c4e00e1d-c372-442f-9784-a26e75703164",
   "metadata": {},
   "outputs": [],
   "source": [
    "file_path = 'data/cb_2018_us_state_500k/cb_2018_us_state_500k.shp'\n",
    "states_df = gpd.read_file(file_path)"
   ]
  },
  {
   "cell_type": "markdown",
   "id": "f6ff1a99-2c55-49eb-b094-4feecb032e8d",
   "metadata": {},
   "source": [
    "## Get Population Data"
   ]
  },
  {
   "cell_type": "code",
   "execution_count": 111,
   "id": "9b28d8a6-b54f-4694-977d-1ff55a931c5b",
   "metadata": {},
   "outputs": [],
   "source": [
    "state_populations = pd.read_excel('data/NST-EST2023-POP.xlsx', sheet_name=None, engine='openpyxl')"
   ]
  },
  {
   "cell_type": "code",
   "execution_count": 112,
   "id": "25d2b992-8186-490c-8d22-d0ccb8bd7eaa",
   "metadata": {},
   "outputs": [],
   "source": [
    "state_populations_df = state_populations['NST-EST2023-POP'][['table with row headers in column A and column headers in rows 3 through 4. (leading dots indicate sub-parts)','Unnamed: 5']]\n",
    "state_populations_df = state_populations_df.rename(columns={'table with row headers in column A and column headers in rows 3 through 4. (leading dots indicate sub-parts)': \"NAME\",'Unnamed: 5':'POPULATION'})\n",
    "state_populations_df['NAME'] = state_populations_df['NAME'].str[1:]"
   ]
  },
  {
   "cell_type": "code",
   "execution_count": 114,
   "id": "2280be9e-3267-435d-9b46-98f36c6ed9ed",
   "metadata": {},
   "outputs": [],
   "source": [
    "states_with_population_df = states_df.merge(state_populations_df, on='NAME', how='left')\n",
    "states_with_population_df = states_with_population_df[['STUSPS','NAME','POPULATION','geometry']]"
   ]
  },
  {
   "cell_type": "markdown",
   "id": "dcec5b28-d761-47be-9821-f064b458a607",
   "metadata": {},
   "source": [
    "## Get Winery Data"
   ]
  },
  {
   "cell_type": "code",
   "execution_count": 48,
   "id": "85401cb0-5ae5-404f-b0d5-ecdd45d85d43",
   "metadata": {},
   "outputs": [],
   "source": [
    "headers = {'User-Agent': 'Mozilla/5.0 (Macintosh; Intel Mac OS X 10_11_5) AppleWebKit/537.36 (KHTML, like Gecko) Chrome/50.0.2661.102 Safari/537.36'}\n",
    "r = requests.get('https://www.winerelease.com/Winery_List/Alphabetical_Winery_List.html', headers=headers) "
   ]
  },
  {
   "cell_type": "code",
   "execution_count": 49,
   "id": "f3ef651e-5c75-4e27-a15c-a7385d6775c9",
   "metadata": {},
   "outputs": [],
   "source": [
    "soup = BeautifulSoup(r.text, 'html.parser')"
   ]
  },
  {
   "cell_type": "code",
   "execution_count": 50,
   "id": "35e80ee9-979f-47c9-a9fc-f1ebf7596401",
   "metadata": {},
   "outputs": [],
   "source": [
    "body_with_list = soup.find_all('body')[0]"
   ]
  },
  {
   "cell_type": "code",
   "execution_count": 81,
   "id": "8adeacea-429e-4144-8a4a-fe6fbddaa8d6",
   "metadata": {},
   "outputs": [],
   "source": [
    "list_of_wineries = body_with_list.text.split(\"Thanks\")[1].split(\"FAQs\")[0].replace(\"\\n\",\"\").split(\";\")"
   ]
  },
  {
   "cell_type": "code",
   "execution_count": 90,
   "id": "1a9a9ed4-85dd-48d9-b79f-34c007d4cb96",
   "metadata": {},
   "outputs": [],
   "source": [
    "list_of_wineries = list_of_wineries[2:]"
   ]
  },
  {
   "cell_type": "code",
   "execution_count": 101,
   "id": "1f39abd3-9c8c-4866-a289-74f05fe30fb1",
   "metadata": {},
   "outputs": [],
   "source": [
    "state_names = [\"Alaska\", \"Alabama\", \"Arkansas\", \"American Samoa\", \"Arizona\",\n",
    "               \"California\", \"Colorado\", \"Connecticut\", \"District \", \"of Columbia\",\n",
    "               \"Delaware\", \"Florida\", \"Georgia\", \"Guam\", \"Hawaii\", \"Iowa\", \"Idaho\",\n",
    "               \"Illinois\", \"Indiana\", \"Kansas\", \"Kentucky\", \"Louisiana\", \"Massachusetts\",\n",
    "               \"Maryland\", \"Maine\", \"Michigan\", \"Minnesota\", \"Missouri\", \"Mississippi\",\n",
    "               \"Montana\", \"North Carolina\", \"North Dakota\", \"Nebraska\", \"New Hampshire\",\n",
    "               \"New Jersey\", \"New Mexico\", \"Nevada\", \"New York\", \"Ohio\", \"Oklahoma\",\n",
    "               \"Oregon\", \"Pennsylvania\", \"Puerto Rico\", \"Rhode Island\", \"South Carolina\",\n",
    "               \"South Dakota\", \"Tennessee\", \"Texas\", \"Utah\", \"Virginia\", \"Virgin Islands\",\n",
    "               \"Vermont\", \"Washington\", \"Wisconsin\", \"West Virginia\", \"Wyoming\"]"
   ]
  },
  {
   "cell_type": "code",
   "execution_count": 105,
   "id": "4dbe9a8f-856c-4467-972f-950e7139fe99",
   "metadata": {},
   "outputs": [
    {
     "data": {
      "application/vnd.jupyter.widget-view+json": {
       "model_id": "89e55aa5d1794861a93956eb2eba66bd",
       "version_major": 2,
       "version_minor": 0
      },
      "text/plain": [
       "Parsing Distilleries:   0%|          | 0/2978 [00:00<?, ?it/s]"
      ]
     },
     "metadata": {},
     "output_type": "display_data"
    }
   ],
   "source": [
    "state_counts = {}\n",
    "for wineries in tqdm(list_of_wineries, desc='Parsing Distilleries'):\n",
    "\n",
    "    for state in state_names:\n",
    "        if state in wineries:\n",
    "            state_name = state\n",
    "    \n",
    "    if state_name not in state_counts:\n",
    "        state_counts[state_name] = 1\n",
    "    else:\n",
    "        state_counts[state_name] += 1"
   ]
  },
  {
   "cell_type": "code",
   "execution_count": 121,
   "id": "d435012d-b8e0-4183-ba33-fc91b4c77f78",
   "metadata": {},
   "outputs": [],
   "source": [
    "wineries_per_state_series = pd.Series(state_counts, name=\"wineries\")\n",
    "wineries_per_state_df = wineries_per_state_series.reset_index()\n",
    "wineries_per_state_df = wineries_per_state_df.rename(columns={'index':'NAME'})"
   ]
  },
  {
   "cell_type": "markdown",
   "id": "472b9d83-32a3-4d89-a4ec-d0585d67603a",
   "metadata": {},
   "source": [
    "## Merge Data"
   ]
  },
  {
   "cell_type": "code",
   "execution_count": 122,
   "id": "43d4f463-2084-4d3e-bdc6-2c24a0132aeb",
   "metadata": {},
   "outputs": [],
   "source": [
    "wineries_per_state_df = states_with_population_df.merge(wineries_per_state_df, on='NAME', how='right')"
   ]
  },
  {
   "cell_type": "code",
   "execution_count": 128,
   "id": "e4ce43ee-28cb-4e95-bed4-ca7c1f75292d",
   "metadata": {},
   "outputs": [],
   "source": [
    "wineries_per_state_df['per_100k'] = wineries_per_state_df['wineries']/(wineries_per_state_df['POPULATION']/100000)\n",
    "wineries_per_state_df['per_500k'] = wineries_per_state_df['wineries']/(wineries_per_state_df['POPULATION']/500_000)\n",
    "wineries_per_state_df['per_1m'] = wineries_per_state_df['wineries']/(wineries_per_state_df['POPULATION']/1_000_000)"
   ]
  },
  {
   "cell_type": "code",
   "execution_count": 129,
   "id": "2ac51fa4-66ad-412d-8df1-d9aeff9f5e3f",
   "metadata": {},
   "outputs": [],
   "source": [
    "wineries_per_state_df.to_file('data/wineries.gpkg')"
   ]
  },
  {
   "cell_type": "code",
   "execution_count": null,
   "id": "f2c6e819-e333-42a0-ba6c-fcb1503440f0",
   "metadata": {},
   "outputs": [],
   "source": []
  }
 ],
 "metadata": {
  "kernelspec": {
   "display_name": "Python 3 (ipykernel)",
   "language": "python",
   "name": "python3"
  },
  "language_info": {
   "codemirror_mode": {
    "name": "ipython",
    "version": 3
   },
   "file_extension": ".py",
   "mimetype": "text/x-python",
   "name": "python",
   "nbconvert_exporter": "python",
   "pygments_lexer": "ipython3",
   "version": "3.11.10"
  }
 },
 "nbformat": 4,
 "nbformat_minor": 5
}
