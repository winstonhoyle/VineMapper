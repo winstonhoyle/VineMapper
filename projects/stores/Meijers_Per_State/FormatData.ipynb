{
 "cells": [
  {
   "cell_type": "code",
   "execution_count": 1,
   "id": "bc436e38-234d-44fd-b67b-d1f2974606d3",
   "metadata": {},
   "outputs": [],
   "source": [
    "import geopandas as gpd\n",
    "import pandas as pd"
   ]
  },
  {
   "cell_type": "markdown",
   "id": "44a3df26-78d3-479c-99a2-c0e1ba91352e",
   "metadata": {},
   "source": [
    "## Get State Data"
   ]
  },
  {
   "cell_type": "code",
   "execution_count": 2,
   "id": "615eeabf-033b-425a-a81f-d7b4dd9e3a3e",
   "metadata": {},
   "outputs": [],
   "source": [
    "file_path = \"data/cb_2018_us_state_500k/cb_2018_us_state_500k.shp\"\n",
    "states_df = gpd.read_file(file_path)"
   ]
  },
  {
   "cell_type": "code",
   "execution_count": 3,
   "id": "502c6bfe-0912-4d37-95b0-47e7a14b468f",
   "metadata": {},
   "outputs": [],
   "source": [
    "states_df = states_df[[\"STUSPS\", \"NAME\", \"geometry\"]]"
   ]
  },
  {
   "cell_type": "markdown",
   "id": "4257620c-13d7-4071-bae2-a5a2aeae5ba7",
   "metadata": {},
   "source": [
    "## Get Population data"
   ]
  },
  {
   "cell_type": "code",
   "execution_count": 4,
   "id": "6c0e7a1d-5a9a-4c10-a5d4-28dc681a8a27",
   "metadata": {},
   "outputs": [],
   "source": [
    "state_populations = pd.read_excel(\n",
    "    \"data/NST-EST2024-POP.xlsx\", sheet_name=None, engine=\"openpyxl\"\n",
    ")"
   ]
  },
  {
   "cell_type": "code",
   "execution_count": 5,
   "id": "2614c2ab-96ec-4304-a287-6fd013fedbbb",
   "metadata": {},
   "outputs": [],
   "source": [
    "state_populations_df = state_populations[\"NST-EST2024-POP\"][\n",
    "    [\n",
    "        \"table with row headers in column A and column headers in rows 3 through 4. (leading dots indicate sub-parts)\",\n",
    "        \"Unnamed: 5\",\n",
    "    ]\n",
    "]\n",
    "state_populations_df = state_populations_df.rename(\n",
    "    columns={\n",
    "        \"table with row headers in column A and column headers in rows 3 through 4. (leading dots indicate sub-parts)\": \"NAME\",\n",
    "        \"Unnamed: 5\": \"POPULATION\",\n",
    "    }\n",
    ")\n",
    "state_populations_df[\"NAME\"] = state_populations_df[\"NAME\"].str[1:]"
   ]
  },
  {
   "cell_type": "code",
   "execution_count": 6,
   "id": "2a1a8b6e-a0bf-486b-b62e-46a23ca718e2",
   "metadata": {},
   "outputs": [],
   "source": [
    "states_with_population_df = states_df.merge(state_populations_df, on=\"NAME\", how=\"left\")\n",
    "states_with_population_df = states_with_population_df[\n",
    "    [\"STUSPS\", \"NAME\", \"POPULATION\", \"geometry\"]\n",
    "]"
   ]
  },
  {
   "cell_type": "markdown",
   "id": "6d2f1ce9-a36c-4292-99a0-ad42032c5ad4",
   "metadata": {},
   "source": [
    "## Read Meijer Data"
   ]
  },
  {
   "cell_type": "code",
   "execution_count": 7,
   "id": "483ab397-113c-40c3-81d2-9cdcaed5f6ed",
   "metadata": {},
   "outputs": [],
   "source": [
    "meijer_locations = pd.read_excel(\n",
    "    \"data/Meijer Location Addresses with DF Association.xlsx\",\n",
    "    sheet_name=None,\n",
    "    engine=\"openpyxl\",\n",
    ")\n",
    "meijer_df = meijer_locations[\"ADDRESSES\"]"
   ]
  },
  {
   "cell_type": "code",
   "execution_count": 8,
   "id": "d829db0f-b2d0-4560-8679-c3eeced7fdf2",
   "metadata": {},
   "outputs": [],
   "source": [
    "meijer_df.columns = meijer_df.iloc[1]\n",
    "meijer_df = meijer_df.iloc[2:]"
   ]
  },
  {
   "cell_type": "code",
   "execution_count": 9,
   "id": "b75530a3-85ac-460c-8680-45be16661f99",
   "metadata": {},
   "outputs": [],
   "source": [
    "meijer_df = meijer_df[\n",
    "    meijer_df[\"Type\"].isin([\"MEXPRESS\", \"Store\", \"Grocery\"])\n",
    "].reset_index()"
   ]
  },
  {
   "cell_type": "code",
   "execution_count": 10,
   "id": "f0266653-84c3-4d8a-996c-33ebc12a2e88",
   "metadata": {},
   "outputs": [],
   "source": [
    "meijer_count_df = (\n",
    "    meijer_df.groupby(\"STATE\")\n",
    "    .size()\n",
    "    .reset_index(name=\"COUNT\")\n",
    "    .sort_values(\"COUNT\", ascending=False)\n",
    ")"
   ]
  },
  {
   "cell_type": "code",
   "execution_count": 11,
   "id": "38364b9d-b285-4d34-9a3e-8d2521d6c12a",
   "metadata": {},
   "outputs": [],
   "source": [
    "meijer_count_df = meijer_count_df.rename(columns={\"STATE\": \"STUSPS\"})"
   ]
  },
  {
   "cell_type": "markdown",
   "id": "94cb32a2-faf0-40fa-8616-e8f2275eca72",
   "metadata": {},
   "source": [
    "## Combine With States"
   ]
  },
  {
   "cell_type": "code",
   "execution_count": 20,
   "id": "2d88e386-08c6-4c36-8e0d-a70202ebe39d",
   "metadata": {},
   "outputs": [],
   "source": [
    "meijer_count_gdf = states_with_population_df.merge(\n",
    "    meijer_count_df, on=\"STUSPS\", how=\"left\"\n",
    ")"
   ]
  },
  {
   "cell_type": "code",
   "execution_count": 21,
   "id": "300ee45e-48b8-48f6-9a3a-efd4904a5efe",
   "metadata": {},
   "outputs": [],
   "source": [
    "meijer_count_gdf = meijer_count_gdf.dropna()"
   ]
  },
  {
   "cell_type": "code",
   "execution_count": 22,
   "id": "8e8b581c-4e0c-40b8-81a9-4ea014470b40",
   "metadata": {},
   "outputs": [],
   "source": [
    "meijer_count_gdf[\"per_100k\"] = (\n",
    "    meijer_count_gdf[\"COUNT\"] / (meijer_count_gdf[\"POPULATION\"] / 100_000)\n",
    ").round(decimals=1)\n",
    "meijer_count_gdf[\"per_1m\"] = (\n",
    "    meijer_count_gdf[\"COUNT\"] / (meijer_count_gdf[\"POPULATION\"] / 1_000_000)\n",
    ").round(decimals=1)"
   ]
  },
  {
   "cell_type": "code",
   "execution_count": 25,
   "id": "944acfaa-313b-4a9f-aecc-53fe95e188be",
   "metadata": {},
   "outputs": [],
   "source": [
    "meijer_count_gdf = meijer_count_gdf.to_crs(3174)\n",
    "meijer_count_gdf.to_file(f\"data/Meijers_Per_State.gpkg\")"
   ]
  },
  {
   "cell_type": "code",
   "execution_count": 26,
   "id": "8a23d1fa-408d-4071-9513-e5b0da2e5cfc",
   "metadata": {},
   "outputs": [
    {
     "data": {
      "text/html": [
       "<div>\n",
       "<style scoped>\n",
       "    .dataframe tbody tr th:only-of-type {\n",
       "        vertical-align: middle;\n",
       "    }\n",
       "\n",
       "    .dataframe tbody tr th {\n",
       "        vertical-align: top;\n",
       "    }\n",
       "\n",
       "    .dataframe thead th {\n",
       "        text-align: right;\n",
       "    }\n",
       "</style>\n",
       "<table border=\"1\" class=\"dataframe\">\n",
       "  <thead>\n",
       "    <tr style=\"text-align: right;\">\n",
       "      <th></th>\n",
       "      <th>STUSPS</th>\n",
       "      <th>NAME</th>\n",
       "      <th>POPULATION</th>\n",
       "      <th>geometry</th>\n",
       "      <th>COUNT</th>\n",
       "      <th>per_100k</th>\n",
       "      <th>per_1m</th>\n",
       "    </tr>\n",
       "  </thead>\n",
       "  <tbody>\n",
       "    <tr>\n",
       "      <th>6</th>\n",
       "      <td>MI</td>\n",
       "      <td>Michigan</td>\n",
       "      <td>10083356.0</td>\n",
       "      <td>MULTIPOLYGON (((1104700.306 607760.091, 110483...</td>\n",
       "      <td>131.0</td>\n",
       "      <td>1.3</td>\n",
       "      <td>13.0</td>\n",
       "    </tr>\n",
       "    <tr>\n",
       "      <th>29</th>\n",
       "      <td>IL</td>\n",
       "      <td>Illinois</td>\n",
       "      <td>12642259.0</td>\n",
       "      <td>POLYGON ((398308.248 427674.488, 398544.995 42...</td>\n",
       "      <td>26.0</td>\n",
       "      <td>0.2</td>\n",
       "      <td>2.1</td>\n",
       "    </tr>\n",
       "    <tr>\n",
       "      <th>47</th>\n",
       "      <td>KY</td>\n",
       "      <td>Kentucky</td>\n",
       "      <td>4550595.0</td>\n",
       "      <td>MULTIPOLYGON (((552890.411 11775.685, 553614.8...</td>\n",
       "      <td>11.0</td>\n",
       "      <td>0.2</td>\n",
       "      <td>2.4</td>\n",
       "    </tr>\n",
       "    <tr>\n",
       "      <th>48</th>\n",
       "      <td>OH</td>\n",
       "      <td>Ohio</td>\n",
       "      <td>11824034.0</td>\n",
       "      <td>MULTIPOLYGON (((1143472.966 560503.925, 114361...</td>\n",
       "      <td>56.0</td>\n",
       "      <td>0.5</td>\n",
       "      <td>4.7</td>\n",
       "    </tr>\n",
       "    <tr>\n",
       "      <th>49</th>\n",
       "      <td>WI</td>\n",
       "      <td>Wisconsin</td>\n",
       "      <td>5930405.0</td>\n",
       "      <td>MULTIPOLYGON (((804470.533 979269.907, 804601....</td>\n",
       "      <td>12.0</td>\n",
       "      <td>0.2</td>\n",
       "      <td>2.0</td>\n",
       "    </tr>\n",
       "    <tr>\n",
       "      <th>53</th>\n",
       "      <td>IN</td>\n",
       "      <td>Indiana</td>\n",
       "      <td>6880131.0</td>\n",
       "      <td>POLYGON ((677800.593 156825.79, 678100.6 15702...</td>\n",
       "      <td>43.0</td>\n",
       "      <td>0.6</td>\n",
       "      <td>6.2</td>\n",
       "    </tr>\n",
       "  </tbody>\n",
       "</table>\n",
       "</div>"
      ],
      "text/plain": [
       "   STUSPS       NAME  POPULATION  \\\n",
       "6      MI   Michigan  10083356.0   \n",
       "29     IL   Illinois  12642259.0   \n",
       "47     KY   Kentucky   4550595.0   \n",
       "48     OH       Ohio  11824034.0   \n",
       "49     WI  Wisconsin   5930405.0   \n",
       "53     IN    Indiana   6880131.0   \n",
       "\n",
       "                                             geometry  COUNT  per_100k  per_1m  \n",
       "6   MULTIPOLYGON (((1104700.306 607760.091, 110483...  131.0       1.3    13.0  \n",
       "29  POLYGON ((398308.248 427674.488, 398544.995 42...   26.0       0.2     2.1  \n",
       "47  MULTIPOLYGON (((552890.411 11775.685, 553614.8...   11.0       0.2     2.4  \n",
       "48  MULTIPOLYGON (((1143472.966 560503.925, 114361...   56.0       0.5     4.7  \n",
       "49  MULTIPOLYGON (((804470.533 979269.907, 804601....   12.0       0.2     2.0  \n",
       "53  POLYGON ((677800.593 156825.79, 678100.6 15702...   43.0       0.6     6.2  "
      ]
     },
     "execution_count": 26,
     "metadata": {},
     "output_type": "execute_result"
    }
   ],
   "source": [
    "meijer_count_gdf"
   ]
  },
  {
   "cell_type": "code",
   "execution_count": null,
   "id": "611d2061-f3f3-4837-9894-afe1053216ad",
   "metadata": {},
   "outputs": [],
   "source": []
  },
  {
   "cell_type": "code",
   "execution_count": null,
   "id": "22ce3fe4-325e-425b-89c3-86620780e730",
   "metadata": {},
   "outputs": [],
   "source": []
  }
 ],
 "metadata": {
  "kernelspec": {
   "display_name": "Python 3 (ipykernel)",
   "language": "python",
   "name": "python3"
  },
  "language_info": {
   "codemirror_mode": {
    "name": "ipython",
    "version": 3
   },
   "file_extension": ".py",
   "mimetype": "text/x-python",
   "name": "python",
   "nbconvert_exporter": "python",
   "pygments_lexer": "ipython3",
   "version": "3.11.13"
  }
 },
 "nbformat": 4,
 "nbformat_minor": 5
}
