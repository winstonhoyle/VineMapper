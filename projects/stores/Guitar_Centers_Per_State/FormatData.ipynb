{
 "cells": [
  {
   "cell_type": "code",
   "execution_count": 1,
   "id": "8eca3131-85dc-48b3-b640-f384104e123c",
   "metadata": {},
   "outputs": [],
   "source": [
    "import json\n",
    "import os\n",
    "import random\n",
    "import time"
   ]
  },
  {
   "cell_type": "code",
   "execution_count": 2,
   "id": "bc436e38-234d-44fd-b67b-d1f2974606d3",
   "metadata": {},
   "outputs": [],
   "source": [
    "from bs4 import BeautifulSoup\n",
    "import cloudscraper\n",
    "import geopandas as gpd\n",
    "import pandas as pd"
   ]
  },
  {
   "cell_type": "code",
   "execution_count": 3,
   "id": "13bbdea5-6ae9-4a3a-937a-12bb704da0f4",
   "metadata": {},
   "outputs": [],
   "source": [
    "from shapely.geometry import Point\n",
    "from tqdm.notebook import tqdm"
   ]
  },
  {
   "cell_type": "markdown",
   "id": "44a3df26-78d3-479c-99a2-c0e1ba91352e",
   "metadata": {},
   "source": [
    "## Get State Data"
   ]
  },
  {
   "cell_type": "code",
   "execution_count": 4,
   "id": "615eeabf-033b-425a-a81f-d7b4dd9e3a3e",
   "metadata": {},
   "outputs": [],
   "source": [
    "file_path = \"data/cb_2018_us_state_500k/cb_2018_us_state_500k.shp\"\n",
    "states_df = gpd.read_file(file_path)"
   ]
  },
  {
   "cell_type": "code",
   "execution_count": 5,
   "id": "502c6bfe-0912-4d37-95b0-47e7a14b468f",
   "metadata": {},
   "outputs": [],
   "source": [
    "states_df = states_df[[\"STUSPS\", \"NAME\", \"geometry\"]]"
   ]
  },
  {
   "cell_type": "markdown",
   "id": "4257620c-13d7-4071-bae2-a5a2aeae5ba7",
   "metadata": {},
   "source": [
    "## Get Population data"
   ]
  },
  {
   "cell_type": "code",
   "execution_count": 6,
   "id": "6c0e7a1d-5a9a-4c10-a5d4-28dc681a8a27",
   "metadata": {},
   "outputs": [],
   "source": [
    "state_populations = pd.read_excel(\n",
    "    \"data/NST-EST2024-POP.xlsx\", sheet_name=None, engine=\"openpyxl\"\n",
    ")"
   ]
  },
  {
   "cell_type": "code",
   "execution_count": 7,
   "id": "2614c2ab-96ec-4304-a287-6fd013fedbbb",
   "metadata": {},
   "outputs": [],
   "source": [
    "state_populations_df = state_populations[\"NST-EST2024-POP\"][\n",
    "    [\n",
    "        \"table with row headers in column A and column headers in rows 3 through 4. (leading dots indicate sub-parts)\",\n",
    "        \"Unnamed: 5\",\n",
    "    ]\n",
    "]\n",
    "state_populations_df = state_populations_df.rename(\n",
    "    columns={\n",
    "        \"table with row headers in column A and column headers in rows 3 through 4. (leading dots indicate sub-parts)\": \"NAME\",\n",
    "        \"Unnamed: 5\": \"POPULATION\",\n",
    "    }\n",
    ")\n",
    "state_populations_df[\"NAME\"] = state_populations_df[\"NAME\"].str[1:]"
   ]
  },
  {
   "cell_type": "code",
   "execution_count": 8,
   "id": "2a1a8b6e-a0bf-486b-b62e-46a23ca718e2",
   "metadata": {},
   "outputs": [],
   "source": [
    "states_with_population_df = states_df.merge(state_populations_df, on=\"NAME\", how=\"left\")\n",
    "states_with_population_df = states_with_population_df[\n",
    "    [\"STUSPS\", \"NAME\", \"POPULATION\", \"geometry\"]\n",
    "]"
   ]
  },
  {
   "cell_type": "markdown",
   "id": "6d2f1ce9-a36c-4292-99a0-ad42032c5ad4",
   "metadata": {},
   "source": [
    "## Get Guitar Center Data"
   ]
  },
  {
   "cell_type": "code",
   "execution_count": 9,
   "id": "3902428a-92ab-4760-98db-4df4874009dc",
   "metadata": {},
   "outputs": [],
   "source": [
    "scraper = cloudscraper.create_scraper()"
   ]
  },
  {
   "cell_type": "code",
   "execution_count": 10,
   "id": "afb48738-697b-4828-ac28-e275d62a9cc8",
   "metadata": {},
   "outputs": [],
   "source": [
    "def get_coords(soup) -> dict:\n",
    "    store_json = json.loads(soup.find(\"script\", {\"type\": \"application/ld+json\"}).text)[\n",
    "        0\n",
    "    ]\n",
    "    lat = float(store_json[\"geo\"][\"latitude\"])\n",
    "    lon = float(store_json[\"geo\"][\"longitude\"])\n",
    "    return Point(lon, lat)"
   ]
  },
  {
   "cell_type": "code",
   "execution_count": 27,
   "id": "478b7b28-f73a-4176-a890-3f363b5e9d63",
   "metadata": {},
   "outputs": [
    {
     "data": {
      "application/vnd.jupyter.widget-view+json": {
       "model_id": "223c69720f3a403386b73a190b511f44",
       "version_major": 2,
       "version_minor": 0
      },
      "text/plain": [
       "Parsing States:   0%|          | 0/47 [00:00<?, ?it/s]"
      ]
     },
     "metadata": {},
     "output_type": "display_data"
    },
    {
     "data": {
      "application/vnd.jupyter.widget-view+json": {
       "model_id": "ad4106ad16804efdb57c47beb6ac6502",
       "version_major": 2,
       "version_minor": 0
      },
      "text/plain": [
       "Parsing stores in AZ:   0%|          | 0/6 [00:00<?, ?it/s]"
      ]
     },
     "metadata": {},
     "output_type": "display_data"
    },
    {
     "name": "stdout",
     "output_type": "stream",
     "text": [
      "'geo' https://stores.guitarcenter.com/az/tucson/\n"
     ]
    },
    {
     "data": {
      "application/vnd.jupyter.widget-view+json": {
       "model_id": "67476bc4bd674eabbc9ad3979428dcf9",
       "version_major": 2,
       "version_minor": 0
      },
      "text/plain": [
       "Parsing stores in FL:   0%|          | 0/21 [00:00<?, ?it/s]"
      ]
     },
     "metadata": {},
     "output_type": "display_data"
    },
    {
     "name": "stdout",
     "output_type": "stream",
     "text": [
      "'geo' https://stores.guitarcenter.com/fl/jacksonville/\n"
     ]
    },
    {
     "data": {
      "application/vnd.jupyter.widget-view+json": {
       "model_id": "86dafa8e1aa74c928a08a2777388ba95",
       "version_major": 2,
       "version_minor": 0
      },
      "text/plain": [
       "Parsing stores in NV:   0%|          | 0/2 [00:00<?, ?it/s]"
      ]
     },
     "metadata": {},
     "output_type": "display_data"
    },
    {
     "name": "stdout",
     "output_type": "stream",
     "text": [
      "'geo' https://stores.guitarcenter.com/nv/las-vegas/\n"
     ]
    },
    {
     "data": {
      "application/vnd.jupyter.widget-view+json": {
       "model_id": "dc7c0a14487542aaa369dfd830e7f2e0",
       "version_major": 2,
       "version_minor": 0
      },
      "text/plain": [
       "Parsing stores in TX:   0%|          | 0/31 [00:00<?, ?it/s]"
      ]
     },
     "metadata": {},
     "output_type": "display_data"
    },
    {
     "name": "stdout",
     "output_type": "stream",
     "text": [
      "'geo' https://stores.guitarcenter.com/tx/austin/\n",
      "'geo' https://stores.guitarcenter.com/tx/fort-worth/\n",
      "'geo' https://stores.guitarcenter.com/tx/houston/\n"
     ]
    }
   ],
   "source": [
    "url_root = \"https://stores.guitarcenter.com\"\n",
    "r = scraper.get(os.path.join(url_root, \"browse\"))\n",
    "soup = BeautifulSoup(r.text, \"html.parser\")\n",
    "state_as = soup.find_all(\"a\", {\"class\": \"ga-link\"})[1:-1]\n",
    "\n",
    "for state_a in tqdm(state_as, desc=\"Parsing States\"):\n",
    "    # Get State code\n",
    "    state_store_list = []\n",
    "    state_url = state_a.attrs[\"href\"]\n",
    "    state_code = state_url.split(\"/\")[-2].upper()\n",
    "\n",
    "    # If File exists continue\n",
    "    if os.path.isfile(f\"data/states/{state_code}.gpkg\"):\n",
    "        continue\n",
    "\n",
    "    r_state = scraper.get(state_url)\n",
    "    soup_state = BeautifulSoup(r_state.text, \"html.parser\")\n",
    "    location_divs = soup_state.find_all(\"div\", {\"class\": \"map-list-item is-single\"})\n",
    "\n",
    "    for location_div in tqdm(location_divs, desc=f\"Parsing stores in {state_code}\"):\n",
    "        store_url = location_div.find(\"a\").attrs[\"href\"]\n",
    "        r_store = scraper.get(store_url)\n",
    "        soup_store = BeautifulSoup(r_store.text, \"html.parser\")\n",
    "        try:\n",
    "            point = get_coords(soup_store)\n",
    "            store_dict = {\"STUSPS\": state_code, \"geometry\": point}\n",
    "            state_store_list.append(store_dict)\n",
    "        except Exception as e:\n",
    "            print(e, store_url)\n",
    "            store_as = soup_store.find_all(\"a\", {\"class\": \"more-details ga-link\"})\n",
    "            for store_a in store_as:\n",
    "                store_url = store_a.attrs[\"href\"]\n",
    "                r_store = scraper.get(store_url)\n",
    "                soup_store = BeautifulSoup(r_store.text, \"html.parser\")\n",
    "                point = get_coords(soup_store)\n",
    "                store_dict = {\"STUSPS\": state_code, \"geometry\": point}\n",
    "                state_store_list.append(store_dict)\n",
    "\n",
    "        time.sleep(random.uniform(0.01, 0.5))\n",
    "\n",
    "    if state_store_list:\n",
    "        state_guitar_centers_gdf = gpd.GeoDataFrame(state_store_list, crs=4326)\n",
    "        state_guitar_centers_gdf.to_file(f\"data/states/{state_code}.gpkg\")"
   ]
  },
  {
   "cell_type": "markdown",
   "id": "f2e1d560-e60f-4655-9502-3ba103884809",
   "metadata": {},
   "source": [
    "#### If the above cells breaks just keep running until complete. Then run the line below"
   ]
  },
  {
   "cell_type": "code",
   "execution_count": 28,
   "id": "48487d99-9fc6-4650-9192-c142c5d86cc3",
   "metadata": {},
   "outputs": [],
   "source": [
    "state_guitar_centers_gdfs = []\n",
    "states_path = \"data/states\"\n",
    "for file in os.listdir(\"data/states\"):\n",
    "    constructed_path = os.path.join(states_path, file)\n",
    "    if constructed_path.endswith(\".gpkg\"):\n",
    "        state_guitar_centers_gdf = gpd.read_file(constructed_path)\n",
    "        state_guitar_centers_gdfs.append(state_guitar_centers_gdf)"
   ]
  },
  {
   "cell_type": "code",
   "execution_count": 29,
   "id": "4700ceff-80d8-4b4a-97af-f6d9c801c052",
   "metadata": {},
   "outputs": [],
   "source": [
    "state_guitar_centers_gdf = gpd.GeoDataFrame(\n",
    "    pd.concat(state_guitar_centers_gdfs, ignore_index=True)\n",
    ")"
   ]
  },
  {
   "cell_type": "code",
   "execution_count": 30,
   "id": "30cdf6ab-4324-457b-bfc1-215c1c9fe2ce",
   "metadata": {},
   "outputs": [],
   "source": [
    "state_guitar_centers_gdf = state_guitar_centers_gdf.to_crs(9311)\n",
    "state_guitar_centers_gdf.to_file(f\"data/guitar_centers.gpkg\")"
   ]
  },
  {
   "cell_type": "markdown",
   "id": "94cb32a2-faf0-40fa-8616-e8f2275eca72",
   "metadata": {},
   "source": [
    "## Combine With States"
   ]
  },
  {
   "cell_type": "code",
   "execution_count": 31,
   "id": "eba6646a-fb99-4d01-9b3f-adf29223cb03",
   "metadata": {},
   "outputs": [],
   "source": [
    "guitar_centers_counts_df = (\n",
    "    state_guitar_centers_gdf.groupby(\"STUSPS\").size().reset_index()\n",
    ")\n",
    "guitar_centers_counts_df = guitar_centers_counts_df.rename(columns={0: \"stores\"})"
   ]
  },
  {
   "cell_type": "code",
   "execution_count": 32,
   "id": "c062806b-5f76-4d7e-a226-31383a266b6a",
   "metadata": {},
   "outputs": [],
   "source": [
    "guitar_centers_per_state_gdf = states_with_population_df.merge(\n",
    "    guitar_centers_counts_df, on=\"STUSPS\", how=\"left\"\n",
    ")"
   ]
  },
  {
   "cell_type": "code",
   "execution_count": 33,
   "id": "300ee45e-48b8-48f6-9a3a-efd4904a5efe",
   "metadata": {},
   "outputs": [],
   "source": [
    "guitar_centers_per_state_gdf = guitar_centers_per_state_gdf.fillna(0)\n",
    "guitar_centers_per_state_gdf[\"stores\"] = guitar_centers_per_state_gdf[\"stores\"].astype(\n",
    "    int\n",
    ")"
   ]
  },
  {
   "cell_type": "code",
   "execution_count": 34,
   "id": "8e8b581c-4e0c-40b8-81a9-4ea014470b40",
   "metadata": {},
   "outputs": [],
   "source": [
    "guitar_centers_per_state_gdf[\"per_1000\"] = guitar_centers_per_state_gdf[\"stores\"] / (\n",
    "    guitar_centers_per_state_gdf[\"POPULATION\"] / 1000\n",
    ")\n",
    "guitar_centers_per_state_gdf[\"per_10k\"] = guitar_centers_per_state_gdf[\"stores\"] / (\n",
    "    guitar_centers_per_state_gdf[\"POPULATION\"] / 10_000\n",
    ")\n",
    "guitar_centers_per_state_gdf[\"per_100k\"] = guitar_centers_per_state_gdf[\"stores\"] / (\n",
    "    guitar_centers_per_state_gdf[\"POPULATION\"] / 100000\n",
    ")\n",
    "guitar_centers_per_state_gdf[\"per_500k\"] = guitar_centers_per_state_gdf[\"stores\"] / (\n",
    "    guitar_centers_per_state_gdf[\"POPULATION\"] / 500_000\n",
    ")\n",
    "guitar_centers_per_state_gdf[\"per_1m\"] = guitar_centers_per_state_gdf[\"stores\"] / (\n",
    "    guitar_centers_per_state_gdf[\"POPULATION\"] / 1_000_000\n",
    ")"
   ]
  },
  {
   "cell_type": "code",
   "execution_count": 35,
   "id": "237a0e6a-ccc2-4f3b-baad-d36ce4ecc481",
   "metadata": {},
   "outputs": [],
   "source": [
    "guitar_centers_per_state_gdf = guitar_centers_per_state_gdf.dropna()"
   ]
  },
  {
   "cell_type": "code",
   "execution_count": 36,
   "id": "944acfaa-313b-4a9f-aecc-53fe95e188be",
   "metadata": {},
   "outputs": [],
   "source": [
    "guitar_centers_per_state_gdf = guitar_centers_per_state_gdf.to_crs(9311)\n",
    "guitar_centers_per_state_gdf.to_file(f\"data/guitar_centers_per_state.gpkg\")"
   ]
  },
  {
   "cell_type": "code",
   "execution_count": null,
   "id": "4857fb82-2869-4020-8a57-c1983c9055b6",
   "metadata": {},
   "outputs": [],
   "source": []
  }
 ],
 "metadata": {
  "kernelspec": {
   "display_name": "Python 3 (ipykernel)",
   "language": "python",
   "name": "python3"
  },
  "language_info": {
   "codemirror_mode": {
    "name": "ipython",
    "version": 3
   },
   "file_extension": ".py",
   "mimetype": "text/x-python",
   "name": "python",
   "nbconvert_exporter": "python",
   "pygments_lexer": "ipython3",
   "version": "3.11.11"
  }
 },
 "nbformat": 4,
 "nbformat_minor": 5
}
