{
 "cells": [
  {
   "cell_type": "code",
   "execution_count": 96,
   "id": "8eca3131-85dc-48b3-b640-f384104e123c",
   "metadata": {},
   "outputs": [],
   "source": [
    "import os\n",
    "import random\n",
    "import re\n",
    "import time"
   ]
  },
  {
   "cell_type": "code",
   "execution_count": 97,
   "id": "bc436e38-234d-44fd-b67b-d1f2974606d3",
   "metadata": {},
   "outputs": [],
   "source": [
    "from bs4 import BeautifulSoup\n",
    "import cloudscraper\n",
    "import geopandas as gpd\n",
    "import pandas as pd\n",
    "import shapely"
   ]
  },
  {
   "cell_type": "code",
   "execution_count": 98,
   "id": "13bbdea5-6ae9-4a3a-937a-12bb704da0f4",
   "metadata": {},
   "outputs": [],
   "source": [
    "from shapely.geometry import Point\n",
    "from tqdm.notebook import tqdm"
   ]
  },
  {
   "cell_type": "markdown",
   "id": "44a3df26-78d3-479c-99a2-c0e1ba91352e",
   "metadata": {},
   "source": [
    "## Get State Data"
   ]
  },
  {
   "cell_type": "code",
   "execution_count": 99,
   "id": "615eeabf-033b-425a-a81f-d7b4dd9e3a3e",
   "metadata": {},
   "outputs": [],
   "source": [
    "file_path = \"data/cb_2018_us_state_500k/cb_2018_us_state_500k.shp\"\n",
    "states_df = gpd.read_file(file_path)"
   ]
  },
  {
   "cell_type": "code",
   "execution_count": 100,
   "id": "502c6bfe-0912-4d37-95b0-47e7a14b468f",
   "metadata": {},
   "outputs": [],
   "source": [
    "states_df = states_df[[\"STUSPS\", \"NAME\", \"geometry\"]]"
   ]
  },
  {
   "cell_type": "markdown",
   "id": "4257620c-13d7-4071-bae2-a5a2aeae5ba7",
   "metadata": {},
   "source": [
    "## Get Population data"
   ]
  },
  {
   "cell_type": "code",
   "execution_count": 101,
   "id": "6c0e7a1d-5a9a-4c10-a5d4-28dc681a8a27",
   "metadata": {},
   "outputs": [],
   "source": [
    "state_populations = pd.read_excel(\n",
    "    \"data/NST-EST2024-POP.xlsx\", sheet_name=None, engine=\"openpyxl\"\n",
    ")"
   ]
  },
  {
   "cell_type": "code",
   "execution_count": 102,
   "id": "2614c2ab-96ec-4304-a287-6fd013fedbbb",
   "metadata": {},
   "outputs": [],
   "source": [
    "state_populations_df = state_populations[\"NST-EST2024-POP\"][\n",
    "    [\n",
    "        \"table with row headers in column A and column headers in rows 3 through 4. (leading dots indicate sub-parts)\",\n",
    "        \"Unnamed: 5\",\n",
    "    ]\n",
    "]\n",
    "state_populations_df = state_populations_df.rename(\n",
    "    columns={\n",
    "        \"table with row headers in column A and column headers in rows 3 through 4. (leading dots indicate sub-parts)\": \"NAME\",\n",
    "        \"Unnamed: 5\": \"POPULATION\",\n",
    "    }\n",
    ")\n",
    "state_populations_df[\"NAME\"] = state_populations_df[\"NAME\"].str[1:]"
   ]
  },
  {
   "cell_type": "code",
   "execution_count": 103,
   "id": "2a1a8b6e-a0bf-486b-b62e-46a23ca718e2",
   "metadata": {},
   "outputs": [],
   "source": [
    "states_with_population_df = states_df.merge(state_populations_df, on=\"NAME\", how=\"left\")\n",
    "states_with_population_df = states_with_population_df[\n",
    "    [\"STUSPS\", \"NAME\", \"POPULATION\", \"geometry\"]\n",
    "]"
   ]
  },
  {
   "cell_type": "markdown",
   "id": "6d2f1ce9-a36c-4292-99a0-ad42032c5ad4",
   "metadata": {},
   "source": [
    "## Get Campground Data"
   ]
  },
  {
   "cell_type": "code",
   "execution_count": 104,
   "id": "9faa75ce-1dcd-44bc-84f2-6eb1011f9727",
   "metadata": {},
   "outputs": [],
   "source": [
    "scraper = cloudscraper.create_scraper()"
   ]
  },
  {
   "cell_type": "code",
   "execution_count": 105,
   "id": "5e78a909-91d7-471f-adcc-34d00d10b7c4",
   "metadata": {},
   "outputs": [],
   "source": [
    "url = \"https://camping-usa.com/campgrounds/\"\n",
    "r = scraper.get(url)"
   ]
  },
  {
   "cell_type": "code",
   "execution_count": 106,
   "id": "3a70969a-da4f-4bd5-8bb2-e0d01d4fd44c",
   "metadata": {},
   "outputs": [],
   "source": [
    "soup = BeautifulSoup(r.text, \"html.parser\")\n",
    "ps = soup.find_all(\"p\")"
   ]
  },
  {
   "cell_type": "code",
   "execution_count": 107,
   "id": "e5fdd1e8-bdc1-4075-aa9b-6dfeb9f8c9a6",
   "metadata": {},
   "outputs": [],
   "source": [
    "def build_dict(url: str, state_name: str) -> dict:\n",
    "    lat_pattern = r\"var\\s+lat\\s*=\\s*([-\\d.]+)\"\n",
    "    lon_pattern = r\"var\\s+lon\\s*=\\s*([-\\d.]+)\"\n",
    "\n",
    "    r_location = scraper.get(url)\n",
    "    soup_location = BeautifulSoup(r_location.text, \"html.parser\")\n",
    "\n",
    "    lat_match = re.search(lat_pattern, str(soup_location))\n",
    "    lon_match = re.search(lon_pattern, str(soup_location))\n",
    "\n",
    "    if not lat_match or not lon_pattern:\n",
    "        return\n",
    "    try:\n",
    "        lat = float(lat_match.group(1))\n",
    "        lon = float(lon_match.group(1))\n",
    "    except Exception as e:\n",
    "        print(url, e)\n",
    "        return\n",
    "    return {\"geometry\": Point(lon, lat), \"name\": state_name, \"url\": url}"
   ]
  },
  {
   "cell_type": "code",
   "execution_count": 108,
   "id": "140c0b4c-97a6-4a78-a834-219a6a8f0ca4",
   "metadata": {},
   "outputs": [
    {
     "data": {
      "application/vnd.jupyter.widget-view+json": {
       "model_id": "1b66ddf24afe459885b2f5006687dc96",
       "version_major": 2,
       "version_minor": 0
      },
      "text/plain": [
       "Parsing States:   0%|          | 0/52 [00:00<?, ?it/s]"
      ]
     },
     "metadata": {},
     "output_type": "display_data"
    },
    {
     "data": {
      "application/vnd.jupyter.widget-view+json": {
       "model_id": "6f2774908773432c93c924b5e02948a5",
       "version_major": 2,
       "version_minor": 0
      },
      "text/plain": [
       "Parsing locations in alabama:   0%|          | 0/132 [00:00<?, ?it/s]"
      ]
     },
     "metadata": {},
     "output_type": "display_data"
    },
    {
     "data": {
      "application/vnd.jupyter.widget-view+json": {
       "model_id": "70e04954f09547eaa1a4745e11dd5e93",
       "version_major": 2,
       "version_minor": 0
      },
      "text/plain": [
       "Parsing locations in alaska:   0%|          | 0/198 [00:00<?, ?it/s]"
      ]
     },
     "metadata": {},
     "output_type": "display_data"
    },
    {
     "name": "stdout",
     "output_type": "stream",
     "text": [
      "https://camping-usa.com/campdetails/12561/ alaska\n"
     ]
    },
    {
     "data": {
      "application/vnd.jupyter.widget-view+json": {
       "model_id": "b4185dda65c84de081566f7bbd8ea8d9",
       "version_major": 2,
       "version_minor": 0
      },
      "text/plain": [
       "Parsing locations in arizona:   0%|          | 0/495 [00:00<?, ?it/s]"
      ]
     },
     "metadata": {},
     "output_type": "display_data"
    },
    {
     "data": {
      "application/vnd.jupyter.widget-view+json": {
       "model_id": "72523eb2188f4166a4fec076a9acf380",
       "version_major": 2,
       "version_minor": 0
      },
      "text/plain": [
       "Parsing locations in arkansas:   0%|          | 0/216 [00:00<?, ?it/s]"
      ]
     },
     "metadata": {},
     "output_type": "display_data"
    },
    {
     "name": "stdout",
     "output_type": "stream",
     "text": [
      "https://camping-usa.com/campdetails/45512/ arkansas\n",
      "https://camping-usa.com/campdetails/45704/ arkansas\n"
     ]
    },
    {
     "data": {
      "application/vnd.jupyter.widget-view+json": {
       "model_id": "e82e6226caab4ad486577c20b8e46b27",
       "version_major": 2,
       "version_minor": 0
      },
      "text/plain": [
       "Parsing locations in colorado:   0%|          | 0/602 [00:00<?, ?it/s]"
      ]
     },
     "metadata": {},
     "output_type": "display_data"
    },
    {
     "name": "stdout",
     "output_type": "stream",
     "text": [
      "https://camping-usa.com/campdetails/45512/ colorado\n",
      "https://camping-usa.com/campdetails/45704/ colorado\n"
     ]
    },
    {
     "data": {
      "application/vnd.jupyter.widget-view+json": {
       "model_id": "6d75bdbef113468b8ce2ebdf27c0a934",
       "version_major": 2,
       "version_minor": 0
      },
      "text/plain": [
       "Parsing locations in connecticut:   0%|          | 0/77 [00:00<?, ?it/s]"
      ]
     },
     "metadata": {},
     "output_type": "display_data"
    },
    {
     "name": "stdout",
     "output_type": "stream",
     "text": [
      "https://camping-usa.com/campdetails/45512/ connecticut\n",
      "https://camping-usa.com/campdetails/45704/ connecticut\n"
     ]
    },
    {
     "data": {
      "application/vnd.jupyter.widget-view+json": {
       "model_id": "d27792fc1b014da08ca8f04280a97468",
       "version_major": 2,
       "version_minor": 0
      },
      "text/plain": [
       "Parsing locations in delaware:   0%|          | 0/20 [00:00<?, ?it/s]"
      ]
     },
     "metadata": {},
     "output_type": "display_data"
    },
    {
     "data": {
      "application/vnd.jupyter.widget-view+json": {
       "model_id": "f33da95936fc4d9ba7ab0e161ebc357d",
       "version_major": 2,
       "version_minor": 0
      },
      "text/plain": [
       "Parsing locations in florida:   0%|          | 0/642 [00:00<?, ?it/s]"
      ]
     },
     "metadata": {},
     "output_type": "display_data"
    },
    {
     "data": {
      "application/vnd.jupyter.widget-view+json": {
       "model_id": "ad90db7165704220a209a7a3c6cb9887",
       "version_major": 2,
       "version_minor": 0
      },
      "text/plain": [
       "Parsing locations in georgia:   0%|          | 0/221 [00:00<?, ?it/s]"
      ]
     },
     "metadata": {},
     "output_type": "display_data"
    },
    {
     "data": {
      "application/vnd.jupyter.widget-view+json": {
       "model_id": "93f158df36a64c079b5423da105bcbf8",
       "version_major": 2,
       "version_minor": 0
      },
      "text/plain": [
       "Parsing locations in hawaii:   0%|          | 0/12 [00:00<?, ?it/s]"
      ]
     },
     "metadata": {},
     "output_type": "display_data"
    },
    {
     "data": {
      "application/vnd.jupyter.widget-view+json": {
       "model_id": "75c63a62c8644e1bbe73a8a448a664cb",
       "version_major": 2,
       "version_minor": 0
      },
      "text/plain": [
       "Parsing locations in idaho:   0%|          | 0/484 [00:00<?, ?it/s]"
      ]
     },
     "metadata": {},
     "output_type": "display_data"
    },
    {
     "data": {
      "application/vnd.jupyter.widget-view+json": {
       "model_id": "659bdfcac6a540108592f5815ac123b8",
       "version_major": 2,
       "version_minor": 0
      },
      "text/plain": [
       "Parsing locations in illinois:   0%|          | 0/214 [00:00<?, ?it/s]"
      ]
     },
     "metadata": {},
     "output_type": "display_data"
    },
    {
     "data": {
      "application/vnd.jupyter.widget-view+json": {
       "model_id": "3b214b52abba483b84da51bbf8eb9b1f",
       "version_major": 2,
       "version_minor": 0
      },
      "text/plain": [
       "Parsing locations in indiana:   0%|          | 0/180 [00:00<?, ?it/s]"
      ]
     },
     "metadata": {},
     "output_type": "display_data"
    },
    {
     "data": {
      "application/vnd.jupyter.widget-view+json": {
       "model_id": "fe5e5cfc163d426fa7f3f5e19b097c10",
       "version_major": 2,
       "version_minor": 0
      },
      "text/plain": [
       "Parsing locations in iowa:   0%|          | 0/230 [00:00<?, ?it/s]"
      ]
     },
     "metadata": {},
     "output_type": "display_data"
    },
    {
     "data": {
      "application/vnd.jupyter.widget-view+json": {
       "model_id": "1bc26f24f8fc4c3490c000d2166179e4",
       "version_major": 2,
       "version_minor": 0
      },
      "text/plain": [
       "Parsing locations in kansas:   0%|          | 0/109 [00:00<?, ?it/s]"
      ]
     },
     "metadata": {},
     "output_type": "display_data"
    },
    {
     "data": {
      "application/vnd.jupyter.widget-view+json": {
       "model_id": "90378c1f43db4d7e9689d76115771d14",
       "version_major": 2,
       "version_minor": 0
      },
      "text/plain": [
       "Parsing locations in kentucky:   0%|          | 0/132 [00:00<?, ?it/s]"
      ]
     },
     "metadata": {},
     "output_type": "display_data"
    },
    {
     "data": {
      "application/vnd.jupyter.widget-view+json": {
       "model_id": "28fa563cc0b74fb6b435548d5e30aaa1",
       "version_major": 2,
       "version_minor": 0
      },
      "text/plain": [
       "Parsing locations in louisiana:   0%|          | 0/143 [00:00<?, ?it/s]"
      ]
     },
     "metadata": {},
     "output_type": "display_data"
    },
    {
     "data": {
      "application/vnd.jupyter.widget-view+json": {
       "model_id": "b801732622bd4951b7677f3c914aaedb",
       "version_major": 2,
       "version_minor": 0
      },
      "text/plain": [
       "Parsing locations in maine:   0%|          | 0/224 [00:00<?, ?it/s]"
      ]
     },
     "metadata": {},
     "output_type": "display_data"
    },
    {
     "data": {
      "application/vnd.jupyter.widget-view+json": {
       "model_id": "bbc0600105784a8e9e985e748665eb97",
       "version_major": 2,
       "version_minor": 0
      },
      "text/plain": [
       "Parsing locations in maryland:   0%|          | 0/66 [00:00<?, ?it/s]"
      ]
     },
     "metadata": {},
     "output_type": "display_data"
    },
    {
     "data": {
      "application/vnd.jupyter.widget-view+json": {
       "model_id": "4b09f868a950495abab58b3d9998b753",
       "version_major": 2,
       "version_minor": 0
      },
      "text/plain": [
       "Parsing locations in massachusetts:   0%|          | 0/100 [00:00<?, ?it/s]"
      ]
     },
     "metadata": {},
     "output_type": "display_data"
    },
    {
     "data": {
      "application/vnd.jupyter.widget-view+json": {
       "model_id": "96f7cac536804057bf2f4edcb44401f4",
       "version_major": 2,
       "version_minor": 0
      },
      "text/plain": [
       "Parsing locations in michigan:   0%|          | 0/589 [00:00<?, ?it/s]"
      ]
     },
     "metadata": {},
     "output_type": "display_data"
    },
    {
     "data": {
      "application/vnd.jupyter.widget-view+json": {
       "model_id": "d3c61d082d304b1cbf96cdef4423bc45",
       "version_major": 2,
       "version_minor": 0
      },
      "text/plain": [
       "Parsing locations in minnesota:   0%|          | 0/369 [00:00<?, ?it/s]"
      ]
     },
     "metadata": {},
     "output_type": "display_data"
    },
    {
     "data": {
      "application/vnd.jupyter.widget-view+json": {
       "model_id": "dcd7e8dc14d944b8adebafc8724f9924",
       "version_major": 2,
       "version_minor": 0
      },
      "text/plain": [
       "Parsing locations in mississippi:   0%|          | 0/131 [00:00<?, ?it/s]"
      ]
     },
     "metadata": {},
     "output_type": "display_data"
    },
    {
     "data": {
      "application/vnd.jupyter.widget-view+json": {
       "model_id": "2b28dbf0d9504e8299071093a5d391c7",
       "version_major": 2,
       "version_minor": 0
      },
      "text/plain": [
       "Parsing locations in missouri:   0%|          | 0/271 [00:00<?, ?it/s]"
      ]
     },
     "metadata": {},
     "output_type": "display_data"
    },
    {
     "data": {
      "application/vnd.jupyter.widget-view+json": {
       "model_id": "c954235047dc44729275915c2c123087",
       "version_major": 2,
       "version_minor": 0
      },
      "text/plain": [
       "Parsing locations in montana:   0%|          | 0/453 [00:00<?, ?it/s]"
      ]
     },
     "metadata": {},
     "output_type": "display_data"
    },
    {
     "data": {
      "application/vnd.jupyter.widget-view+json": {
       "model_id": "7295a93f4c004f94b0ef693cc48f5c3e",
       "version_major": 2,
       "version_minor": 0
      },
      "text/plain": [
       "Parsing locations in nebraska:   0%|          | 0/135 [00:00<?, ?it/s]"
      ]
     },
     "metadata": {},
     "output_type": "display_data"
    },
    {
     "data": {
      "application/vnd.jupyter.widget-view+json": {
       "model_id": "831a1fbf38674d219123cacbdc3af3ef",
       "version_major": 2,
       "version_minor": 0
      },
      "text/plain": [
       "Parsing locations in nevada:   0%|          | 0/155 [00:00<?, ?it/s]"
      ]
     },
     "metadata": {},
     "output_type": "display_data"
    },
    {
     "data": {
      "application/vnd.jupyter.widget-view+json": {
       "model_id": "0bfe14e58f8647a1b93ffccc4d674227",
       "version_major": 2,
       "version_minor": 0
      },
      "text/plain": [
       "Parsing locations in new hampshire:   0%|          | 0/162 [00:00<?, ?it/s]"
      ]
     },
     "metadata": {},
     "output_type": "display_data"
    },
    {
     "data": {
      "application/vnd.jupyter.widget-view+json": {
       "model_id": "80d2e7e4c2654cd39e2326029e2d63d2",
       "version_major": 2,
       "version_minor": 0
      },
      "text/plain": [
       "Parsing locations in new jersey:   0%|          | 0/112 [00:00<?, ?it/s]"
      ]
     },
     "metadata": {},
     "output_type": "display_data"
    },
    {
     "data": {
      "application/vnd.jupyter.widget-view+json": {
       "model_id": "b33ca96f8130450b909bc2bc498359d8",
       "version_major": 2,
       "version_minor": 0
      },
      "text/plain": [
       "Parsing locations in new mexico:   0%|          | 0/317 [00:00<?, ?it/s]"
      ]
     },
     "metadata": {},
     "output_type": "display_data"
    },
    {
     "data": {
      "application/vnd.jupyter.widget-view+json": {
       "model_id": "98657e88ee6b42c3bdcc58252f7003ca",
       "version_major": 2,
       "version_minor": 0
      },
      "text/plain": [
       "Parsing locations in new york:   0%|          | 0/326 [00:00<?, ?it/s]"
      ]
     },
     "metadata": {},
     "output_type": "display_data"
    },
    {
     "data": {
      "application/vnd.jupyter.widget-view+json": {
       "model_id": "c7ff16a0377140cbbe2716a8a05b932a",
       "version_major": 2,
       "version_minor": 0
      },
      "text/plain": [
       "Parsing locations in north carolina:   0%|          | 0/256 [00:00<?, ?it/s]"
      ]
     },
     "metadata": {},
     "output_type": "display_data"
    },
    {
     "data": {
      "application/vnd.jupyter.widget-view+json": {
       "model_id": "5fbc44de56a348949dd91fb179c491c6",
       "version_major": 2,
       "version_minor": 0
      },
      "text/plain": [
       "Parsing locations in north dakota:   0%|          | 0/70 [00:00<?, ?it/s]"
      ]
     },
     "metadata": {},
     "output_type": "display_data"
    },
    {
     "data": {
      "application/vnd.jupyter.widget-view+json": {
       "model_id": "a82630cfa7714532a9f18c410c4ff73d",
       "version_major": 2,
       "version_minor": 0
      },
      "text/plain": [
       "Parsing locations in northern california:   0%|          | 0/974 [00:00<?, ?it/s]"
      ]
     },
     "metadata": {},
     "output_type": "display_data"
    },
    {
     "name": "stdout",
     "output_type": "stream",
     "text": [
      "https://camping-usa.com/campdetails/47141/ northern california\n"
     ]
    },
    {
     "data": {
      "application/vnd.jupyter.widget-view+json": {
       "model_id": "0b3e74dbd39e4bba832357194c9a7b15",
       "version_major": 2,
       "version_minor": 0
      },
      "text/plain": [
       "Parsing locations in ohio:   0%|          | 0/268 [00:00<?, ?it/s]"
      ]
     },
     "metadata": {},
     "output_type": "display_data"
    },
    {
     "data": {
      "application/vnd.jupyter.widget-view+json": {
       "model_id": "afc88047a75545198098a85dcdf929f5",
       "version_major": 2,
       "version_minor": 0
      },
      "text/plain": [
       "Parsing locations in oklahoma:   0%|          | 0/213 [00:00<?, ?it/s]"
      ]
     },
     "metadata": {},
     "output_type": "display_data"
    },
    {
     "data": {
      "application/vnd.jupyter.widget-view+json": {
       "model_id": "eb392404d8154ccfacd784b22f3e49bc",
       "version_major": 2,
       "version_minor": 0
      },
      "text/plain": [
       "Parsing locations in oregon:   0%|          | 0/896 [00:00<?, ?it/s]"
      ]
     },
     "metadata": {},
     "output_type": "display_data"
    },
    {
     "data": {
      "application/vnd.jupyter.widget-view+json": {
       "model_id": "c05f3f0f79bc468a89877e238e96804d",
       "version_major": 2,
       "version_minor": 0
      },
      "text/plain": [
       "Parsing locations in pennsylvania:   0%|          | 0/323 [00:00<?, ?it/s]"
      ]
     },
     "metadata": {},
     "output_type": "display_data"
    },
    {
     "data": {
      "application/vnd.jupyter.widget-view+json": {
       "model_id": "09ffd262fd88433cbc69ba76fac3ffae",
       "version_major": 2,
       "version_minor": 0
      },
      "text/plain": [
       "Parsing locations in rhode island:   0%|          | 0/23 [00:00<?, ?it/s]"
      ]
     },
     "metadata": {},
     "output_type": "display_data"
    },
    {
     "data": {
      "application/vnd.jupyter.widget-view+json": {
       "model_id": "d0a208ff8e954eec9986d2f4f9a22ff3",
       "version_major": 2,
       "version_minor": 0
      },
      "text/plain": [
       "Parsing locations in south carolina:   0%|          | 0/124 [00:00<?, ?it/s]"
      ]
     },
     "metadata": {},
     "output_type": "display_data"
    },
    {
     "name": "stdout",
     "output_type": "stream",
     "text": [
      "https://camping-usa.com/campdetails/20006/ could not convert string to float: '-'\n",
      "https://camping-usa.com/campdetails/20006/ could not convert string to float: '-'\n",
      "https://camping-usa.com/campdetails/20006/ south carolina\n"
     ]
    },
    {
     "data": {
      "application/vnd.jupyter.widget-view+json": {
       "model_id": "b6062a83393d46bf9da5bfdd28f4baa5",
       "version_major": 2,
       "version_minor": 0
      },
      "text/plain": [
       "Parsing locations in south dakota:   0%|          | 0/184 [00:00<?, ?it/s]"
      ]
     },
     "metadata": {},
     "output_type": "display_data"
    },
    {
     "data": {
      "application/vnd.jupyter.widget-view+json": {
       "model_id": "004fb444ad0d4ed2898b7c6d51ef9d73",
       "version_major": 2,
       "version_minor": 0
      },
      "text/plain": [
       "Parsing locations in southern california:   0%|          | 0/603 [00:00<?, ?it/s]"
      ]
     },
     "metadata": {},
     "output_type": "display_data"
    },
    {
     "data": {
      "application/vnd.jupyter.widget-view+json": {
       "model_id": "7a6a6d2166fa43c49063fd47a229c06d",
       "version_major": 2,
       "version_minor": 0
      },
      "text/plain": [
       "Parsing locations in tennessee:   0%|          | 0/200 [00:00<?, ?it/s]"
      ]
     },
     "metadata": {},
     "output_type": "display_data"
    },
    {
     "name": "stdout",
     "output_type": "stream",
     "text": [
      "https://camping-usa.com/campdetails/20184/ could not convert string to float: '-'\n",
      "https://camping-usa.com/campdetails/20184/ could not convert string to float: '-'\n",
      "https://camping-usa.com/campdetails/20184/ tennessee\n",
      "https://camping-usa.com/campdetails/12798/ could not convert string to float: '-'\n",
      "https://camping-usa.com/campdetails/12798/ could not convert string to float: '-'\n",
      "https://camping-usa.com/campdetails/12798/ tennessee\n"
     ]
    },
    {
     "data": {
      "application/vnd.jupyter.widget-view+json": {
       "model_id": "9e0dec46d67246b08a23e73688068eea",
       "version_major": 2,
       "version_minor": 0
      },
      "text/plain": [
       "Parsing locations in texas:   0%|          | 0/714 [00:00<?, ?it/s]"
      ]
     },
     "metadata": {},
     "output_type": "display_data"
    },
    {
     "data": {
      "application/vnd.jupyter.widget-view+json": {
       "model_id": "2b8b6026a19c411c8d8b0ba6221ff3c5",
       "version_major": 2,
       "version_minor": 0
      },
      "text/plain": [
       "Parsing locations in utah:   0%|          | 0/408 [00:00<?, ?it/s]"
      ]
     },
     "metadata": {},
     "output_type": "display_data"
    },
    {
     "data": {
      "application/vnd.jupyter.widget-view+json": {
       "model_id": "9ac9affcef8b4211aad8f1f308c4bd96",
       "version_major": 2,
       "version_minor": 0
      },
      "text/plain": [
       "Parsing locations in vermont:   0%|          | 0/97 [00:00<?, ?it/s]"
      ]
     },
     "metadata": {},
     "output_type": "display_data"
    },
    {
     "data": {
      "application/vnd.jupyter.widget-view+json": {
       "model_id": "ee758628d5d549989912bb669089db4c",
       "version_major": 2,
       "version_minor": 0
      },
      "text/plain": [
       "Parsing locations in virgin islands:   0%|          | 0/1 [00:00<?, ?it/s]"
      ]
     },
     "metadata": {},
     "output_type": "display_data"
    },
    {
     "data": {
      "application/vnd.jupyter.widget-view+json": {
       "model_id": "c38cd79a1d7a4eca85e07747554d5151",
       "version_major": 2,
       "version_minor": 0
      },
      "text/plain": [
       "Parsing locations in virginia:   0%|          | 0/152 [00:00<?, ?it/s]"
      ]
     },
     "metadata": {},
     "output_type": "display_data"
    },
    {
     "data": {
      "application/vnd.jupyter.widget-view+json": {
       "model_id": "77132c259e9148d7943d5d301a75592d",
       "version_major": 2,
       "version_minor": 0
      },
      "text/plain": [
       "Parsing locations in washington:   0%|          | 0/675 [00:00<?, ?it/s]"
      ]
     },
     "metadata": {},
     "output_type": "display_data"
    },
    {
     "data": {
      "application/vnd.jupyter.widget-view+json": {
       "model_id": "d5b41598366f4139bdb0a339c2bb75ee",
       "version_major": 2,
       "version_minor": 0
      },
      "text/plain": [
       "Parsing locations in west virginia:   0%|          | 0/91 [00:00<?, ?it/s]"
      ]
     },
     "metadata": {},
     "output_type": "display_data"
    },
    {
     "data": {
      "application/vnd.jupyter.widget-view+json": {
       "model_id": "e7b404ca59814cc6b468e8a7d2e29f0a",
       "version_major": 2,
       "version_minor": 0
      },
      "text/plain": [
       "Parsing locations in wisconsin:   0%|          | 0/404 [00:00<?, ?it/s]"
      ]
     },
     "metadata": {},
     "output_type": "display_data"
    },
    {
     "data": {
      "application/vnd.jupyter.widget-view+json": {
       "model_id": "3604ca18fa4448888ad080add88b3f41",
       "version_major": 2,
       "version_minor": 0
      },
      "text/plain": [
       "Parsing locations in wyoming:   0%|          | 0/256 [00:00<?, ?it/s]"
      ]
     },
     "metadata": {},
     "output_type": "display_data"
    }
   ],
   "source": [
    "stores_dicts = []\n",
    "error_list = []\n",
    "for p in tqdm(ps, desc=\"Parsing States\"):\n",
    "    # Get State code\n",
    "    state_list = []\n",
    "\n",
    "    a = p.find(\"a\")\n",
    "    state_name = a.text.lower()\n",
    "\n",
    "    # If File exists continue\n",
    "    if os.path.isfile(f'data/states/{state_name.replace(\" \", \"-\")}.gpkg'):\n",
    "        continue\n",
    "\n",
    "    href = a.attrs[\"href\"]\n",
    "    r_state = scraper.get(href)\n",
    "    soup_state = BeautifulSoup(r_state.text, \"html.parser\")\n",
    "    location_ps = soup_state.find_all(\"p\")\n",
    "\n",
    "    for location_p in tqdm(location_ps, desc=f\"Parsing locations in {state_name}\"):\n",
    "        location_url = location_p.find(\"a\").attrs[\"href\"]\n",
    "        if not location_url.endswith(\"/\"):\n",
    "            location_url = location_url + \"/\"\n",
    "        location_dict = build_dict(location_url, state_name)\n",
    "        if location_dict:\n",
    "            state_list.append(location_dict)\n",
    "        else:\n",
    "            # Try again\n",
    "            time.sleep(1)\n",
    "            location_dict = build_dict(location_url, state_name)\n",
    "            if location_dict:\n",
    "                state_list.append(location_dict)\n",
    "            else:\n",
    "                print(location_url, state_name)\n",
    "                error_list.append({\"url\": location_url, \"state_name\": state_name})\n",
    "        time.sleep(random.uniform(0.01, 0.5))\n",
    "\n",
    "    if state_list:\n",
    "        state_campground_gdf = gpd.GeoDataFrame(state_list, crs=4326)\n",
    "        state_campground_gdf.to_file(f'data/states/{state_name.replace(\" \", \"-\")}.gpkg')"
   ]
  },
  {
   "cell_type": "markdown",
   "id": "c70b1cb2-31ef-4283-bcc4-4fc05ff03580",
   "metadata": {},
   "source": [
    "## Get missed sites"
   ]
  },
  {
   "cell_type": "code",
   "execution_count": 126,
   "id": "6e28fbef-aa12-4979-87f1-73e17e704923",
   "metadata": {},
   "outputs": [],
   "source": [
    "missed_campsites_df = pd.DataFrame(error_list)\n",
    "missed_campsites_df.to_csv(\"data/missed_sites_05052025_1745.csv\")"
   ]
  },
  {
   "cell_type": "code",
   "execution_count": 127,
   "id": "82d3ff3e-e819-40e9-a7c1-b0451e5ef326",
   "metadata": {},
   "outputs": [
    {
     "data": {
      "text/html": [
       "<div>\n",
       "<style scoped>\n",
       "    .dataframe tbody tr th:only-of-type {\n",
       "        vertical-align: middle;\n",
       "    }\n",
       "\n",
       "    .dataframe tbody tr th {\n",
       "        vertical-align: top;\n",
       "    }\n",
       "\n",
       "    .dataframe thead th {\n",
       "        text-align: right;\n",
       "    }\n",
       "</style>\n",
       "<table border=\"1\" class=\"dataframe\">\n",
       "  <thead>\n",
       "    <tr style=\"text-align: right;\">\n",
       "      <th></th>\n",
       "      <th>url</th>\n",
       "      <th>name</th>\n",
       "    </tr>\n",
       "  </thead>\n",
       "  <tbody>\n",
       "    <tr>\n",
       "      <th>0</th>\n",
       "      <td>https://camping-usa.com/campdetails/12561/</td>\n",
       "      <td>alaska</td>\n",
       "    </tr>\n",
       "    <tr>\n",
       "      <th>1</th>\n",
       "      <td>https://camping-usa.com/campdetails/45512/</td>\n",
       "      <td>arkansas</td>\n",
       "    </tr>\n",
       "    <tr>\n",
       "      <th>2</th>\n",
       "      <td>https://camping-usa.com/campdetails/45704/</td>\n",
       "      <td>arkansas</td>\n",
       "    </tr>\n",
       "    <tr>\n",
       "      <th>7</th>\n",
       "      <td>https://camping-usa.com/campdetails/47141/</td>\n",
       "      <td>northern california</td>\n",
       "    </tr>\n",
       "    <tr>\n",
       "      <th>8</th>\n",
       "      <td>https://camping-usa.com/campdetails/20006/</td>\n",
       "      <td>south carolina</td>\n",
       "    </tr>\n",
       "    <tr>\n",
       "      <th>9</th>\n",
       "      <td>https://camping-usa.com/campdetails/20184/</td>\n",
       "      <td>tennessee</td>\n",
       "    </tr>\n",
       "    <tr>\n",
       "      <th>10</th>\n",
       "      <td>https://camping-usa.com/campdetails/12798/</td>\n",
       "      <td>tennessee</td>\n",
       "    </tr>\n",
       "  </tbody>\n",
       "</table>\n",
       "</div>"
      ],
      "text/plain": [
       "                                           url                 name\n",
       "0   https://camping-usa.com/campdetails/12561/               alaska\n",
       "1   https://camping-usa.com/campdetails/45512/             arkansas\n",
       "2   https://camping-usa.com/campdetails/45704/             arkansas\n",
       "7   https://camping-usa.com/campdetails/47141/  northern california\n",
       "8   https://camping-usa.com/campdetails/20006/       south carolina\n",
       "9   https://camping-usa.com/campdetails/20184/            tennessee\n",
       "10  https://camping-usa.com/campdetails/12798/            tennessee"
      ]
     },
     "execution_count": 127,
     "metadata": {},
     "output_type": "execute_result"
    }
   ],
   "source": [
    "missed_campsites_v2_df.drop_duplicates(\"url\")"
   ]
  },
  {
   "cell_type": "markdown",
   "id": "5b7e71b4-32c8-4da8-9d5e-9e0be5b247aa",
   "metadata": {},
   "source": [
    "## Manually Add the rest"
   ]
  },
  {
   "cell_type": "code",
   "execution_count": 135,
   "id": "56fff2ff-4451-4b5e-8732-8536d0a7ae4b",
   "metadata": {},
   "outputs": [],
   "source": [
    "found_locations = [\n",
    "    {\n",
    "        \"url\": \"https://camping-usa.com/campdetails/12561/\",\n",
    "        \"name\": \"alaska\",\n",
    "        \"geometry\": Point(-150.107112, 61.662040),\n",
    "    },\n",
    "    {\n",
    "        \"url\": \"https://camping-usa.com/campdetails/45512/\",\n",
    "        \"name\": \"arkansas\",\n",
    "        \"geometry\": Point(-92.584497, 36.029788),\n",
    "    },\n",
    "    {\n",
    "        \"url\": \"https://camping-usa.com/campdetails/45704/\",\n",
    "        \"name\": \"northern california\",\n",
    "        \"geometry\": Point(-120.17670134417756, 39.895805384351014),\n",
    "    },\n",
    "    {\n",
    "        \"url\": \"https://camping-usa.com/campdetails/47141/\",\n",
    "        \"name\": \"northern california\",\n",
    "        \"geometry\": Point(-122.69855331916162, 38.425356523133495),\n",
    "    },\n",
    "    {\n",
    "        \"url\": \"https://camping-usa.com/campdetails/20006/\",\n",
    "        \"name\": \"south carolina\",\n",
    "        \"geometry\": Point(-83.10613992891594, 34.8687156236974),\n",
    "    },\n",
    "    {\n",
    "        \"url\": \"https://camping-usa.com/campdetails/20184/\",\n",
    "        \"name\": \"tennessee\",\n",
    "        \"geometry\": Point(-85.12106129806321, 35.168486299082524),\n",
    "    },\n",
    "    {\n",
    "        \"url\": \"https://camping-usa.com/campdetails/12798/\",\n",
    "        \"name\": \"tennessee\",\n",
    "        \"geometry\": Point(-86.6932979038491, 35.58926259794271),\n",
    "    },\n",
    "]"
   ]
  },
  {
   "cell_type": "code",
   "execution_count": 136,
   "id": "f4d812b5-6c32-4766-8eee-9bc9c1eeb118",
   "metadata": {},
   "outputs": [
    {
     "data": {
      "text/plain": [
       "[{'url': 'https://camping-usa.com/campdetails/12561/',\n",
       "  'name': 'alaska',\n",
       "  'geometry': <POINT (-150.107 61.662)>},\n",
       " {'url': 'https://camping-usa.com/campdetails/45512/',\n",
       "  'name': 'arkansas',\n",
       "  'geometry': <POINT (-92.584 36.03)>},\n",
       " {'url': 'https://camping-usa.com/campdetails/45704/',\n",
       "  'name': 'northern california',\n",
       "  'geometry': <POINT (-120.177 39.896)>},\n",
       " {'url': 'https://camping-usa.com/campdetails/47141/',\n",
       "  'name': 'northern california',\n",
       "  'geometry': <POINT (-122.699 38.425)>},\n",
       " {'url': 'https://camping-usa.com/campdetails/20006/',\n",
       "  'name': 'south carolina',\n",
       "  'geometry': <POINT (-83.106 34.869)>},\n",
       " {'url': 'https://camping-usa.com/campdetails/20184/',\n",
       "  'name': 'tennessee',\n",
       "  'geometry': <POINT (-85.121 35.168)>},\n",
       " {'url': 'https://camping-usa.com/campdetails/12798/',\n",
       "  'name': 'tennessee',\n",
       "  'geometry': <POINT (-86.693 35.589)>}]"
      ]
     },
     "execution_count": 136,
     "metadata": {},
     "output_type": "execute_result"
    }
   ],
   "source": [
    "found_locations"
   ]
  },
  {
   "cell_type": "markdown",
   "id": "4139252d-4953-42cb-b430-c9cda0b02174",
   "metadata": {},
   "source": [
    "## Merge all"
   ]
  },
  {
   "cell_type": "code",
   "execution_count": 137,
   "id": "b43935fa-51f6-43b9-aec2-af92e30c3c92",
   "metadata": {},
   "outputs": [],
   "source": [
    "campsites_gdfs = []\n",
    "states_path = \"data/states\"\n",
    "for file in os.listdir(\"data/states\"):\n",
    "    constructed_path = os.path.join(states_path, file)\n",
    "    if constructed_path.endswith(\".gpkg\"):\n",
    "        campsites_gdf = gpd.read_file(constructed_path)\n",
    "        campsites_gdfs.append(campsites_gdf)"
   ]
  },
  {
   "cell_type": "code",
   "execution_count": 142,
   "id": "80a9d9e8-8415-4aa4-b966-9cd5bfdb45fa",
   "metadata": {},
   "outputs": [],
   "source": [
    "campsites_gdf = pd.concat(campsites_gdfs, ignore_index=True)"
   ]
  },
  {
   "cell_type": "code",
   "execution_count": 144,
   "id": "8f119f8c-dd63-46f0-aa88-19ca4d040bee",
   "metadata": {},
   "outputs": [],
   "source": [
    "added_campsites_df = pd.DataFrame(found_locations)"
   ]
  },
  {
   "cell_type": "code",
   "execution_count": 145,
   "id": "5a6b85dd-90e0-4295-8b11-3adbd1cb948c",
   "metadata": {},
   "outputs": [],
   "source": [
    "campsites_gdf = pd.concat([campsites_gdf, added_campsites_df], ignore_index=True)"
   ]
  },
  {
   "cell_type": "code",
   "execution_count": 163,
   "id": "d8ca8a8d-ac8f-4063-85be-f88d9e5fa043",
   "metadata": {},
   "outputs": [],
   "source": [
    "campsites_gdf = gpd.GeoDataFrame(\n",
    "    campsites_gdf, geometry=campsites_gdf[\"geometry\"], crs=4326\n",
    ")"
   ]
  },
  {
   "cell_type": "code",
   "execution_count": 164,
   "id": "6f42ec99-16ac-4af1-a4bc-eb3f96bce546",
   "metadata": {},
   "outputs": [],
   "source": [
    "campsites_gdf.to_file(\"data/campsites.gpkg\")"
   ]
  },
  {
   "cell_type": "code",
   "execution_count": 159,
   "id": "b50ee5fb-0971-4e9c-80c7-d4864976d611",
   "metadata": {},
   "outputs": [],
   "source": [
    "counts_raw_df = (\n",
    "    pd.DataFrame(campsites_gdf.groupby(\"name\").size())\n",
    "    .reset_index()\n",
    "    .rename(columns={0: \"campsites\"})\n",
    ")"
   ]
  },
  {
   "cell_type": "code",
   "execution_count": 173,
   "id": "961d9b3e-03ab-45e7-9805-fa794698b754",
   "metadata": {},
   "outputs": [],
   "source": [
    "california_cs = counts_raw_df[\n",
    "    (counts_raw_df[\"name\"] == \"northern california\")\n",
    "    | (counts_raw_df[\"name\"] == \"southern california\")\n",
    "][\"campsites\"].sum()\n",
    "counts_raw_df.loc[-1] = [\"california\", california_cs]  # adding a row\n",
    "counts_raw_df.index = counts_raw_df.index + 1  # shifting index\n",
    "counts_raw_df = counts_raw_df.sort_index()  # sorting by index"
   ]
  },
  {
   "cell_type": "markdown",
   "id": "94cb32a2-faf0-40fa-8616-e8f2275eca72",
   "metadata": {},
   "source": [
    "## Combine With States"
   ]
  },
  {
   "cell_type": "code",
   "execution_count": 191,
   "id": "b6ca9051-040d-4c1c-944c-30a649aee262",
   "metadata": {},
   "outputs": [],
   "source": [
    "states_with_population_df[\"name\"] = states_with_population_df[\"NAME\"].str.lower()"
   ]
  },
  {
   "cell_type": "code",
   "execution_count": 192,
   "id": "c062806b-5f76-4d7e-a226-31383a266b6a",
   "metadata": {},
   "outputs": [],
   "source": [
    "campground_counts_gdf = states_with_population_df.merge(\n",
    "    counts_raw_df, on=\"name\", how=\"left\"\n",
    ")"
   ]
  },
  {
   "cell_type": "code",
   "execution_count": 193,
   "id": "300ee45e-48b8-48f6-9a3a-efd4904a5efe",
   "metadata": {},
   "outputs": [],
   "source": [
    "campground_counts_gdf = campground_counts_gdf.fillna(0)\n",
    "campground_counts_gdf[\"campsites\"] = campground_counts_gdf[\"campsites\"].astype(int)"
   ]
  },
  {
   "cell_type": "code",
   "execution_count": 194,
   "id": "8e8b581c-4e0c-40b8-81a9-4ea014470b40",
   "metadata": {},
   "outputs": [],
   "source": [
    "campground_counts_gdf[\"per_100k\"] = campground_counts_gdf[\"campsites\"] / (\n",
    "    campground_counts_gdf[\"POPULATION\"] / 100000\n",
    ")\n",
    "campground_counts_gdf[\"per_1m\"] = campground_counts_gdf[\"campsites\"] / (\n",
    "    campground_counts_gdf[\"POPULATION\"] / 1_000_000\n",
    ")"
   ]
  },
  {
   "cell_type": "code",
   "execution_count": 195,
   "id": "237a0e6a-ccc2-4f3b-baad-d36ce4ecc481",
   "metadata": {},
   "outputs": [],
   "source": [
    "campground_counts_gdf = campground_counts_gdf.fillna(0)"
   ]
  },
  {
   "cell_type": "code",
   "execution_count": 196,
   "id": "c66d3820-67e7-4d50-9d48-3e75073353ef",
   "metadata": {},
   "outputs": [],
   "source": [
    "campground_counts_gdf = campground_counts_gdf[\n",
    "    [\"POPULATION\", \"geometry\", \"NAME\", \"per_100k\", \"per_1m\", \"campsites\"]\n",
    "]"
   ]
  },
  {
   "cell_type": "code",
   "execution_count": 197,
   "id": "944acfaa-313b-4a9f-aecc-53fe95e188be",
   "metadata": {},
   "outputs": [],
   "source": [
    "campground_counts_gdf = campground_counts_gdf.to_crs(9311)\n",
    "campground_counts_gdf.to_file(f\"data/campground_per_states.gpkg\")"
   ]
  },
  {
   "cell_type": "code",
   "execution_count": null,
   "id": "3eba1b99-001c-4de4-9fe1-1a06ea51e118",
   "metadata": {},
   "outputs": [],
   "source": []
  }
 ],
 "metadata": {
  "kernelspec": {
   "display_name": "Python 3 (ipykernel)",
   "language": "python",
   "name": "python3"
  },
  "language_info": {
   "codemirror_mode": {
    "name": "ipython",
    "version": 3
   },
   "file_extension": ".py",
   "mimetype": "text/x-python",
   "name": "python",
   "nbconvert_exporter": "python",
   "pygments_lexer": "ipython3",
   "version": "3.11.11"
  }
 },
 "nbformat": 4,
 "nbformat_minor": 5
}
