{
 "cells": [
  {
   "cell_type": "code",
   "execution_count": 1,
   "id": "6aa0827c-59f2-481e-a871-e5ea56cf4aea",
   "metadata": {},
   "outputs": [],
   "source": [
    "import json\n",
    "import os\n",
    "import random\n",
    "import time"
   ]
  },
  {
   "cell_type": "code",
   "execution_count": 2,
   "id": "bc436e38-234d-44fd-b67b-d1f2974606d3",
   "metadata": {},
   "outputs": [],
   "source": [
    "import h3\n",
    "import geopandas as gpd\n",
    "import pandas as pd"
   ]
  },
  {
   "cell_type": "code",
   "execution_count": 3,
   "id": "0465bb74-de29-42f8-a656-097d407e8fe4",
   "metadata": {},
   "outputs": [],
   "source": [
    "from kroger_api import KrogerAPI\n",
    "from kroger_api.utils.env import load_and_validate_env, get_zip_code\n",
    "from shapely.geometry import Point\n",
    "from tqdm.notebook import tqdm"
   ]
  },
  {
   "cell_type": "markdown",
   "id": "44a3df26-78d3-479c-99a2-c0e1ba91352e",
   "metadata": {},
   "source": [
    "## Get State Data"
   ]
  },
  {
   "cell_type": "code",
   "execution_count": 4,
   "id": "615eeabf-033b-425a-a81f-d7b4dd9e3a3e",
   "metadata": {},
   "outputs": [],
   "source": [
    "file_path = \"data/cb_2018_us_state_500k/cb_2018_us_state_500k.shp\"\n",
    "states_df = gpd.read_file(file_path)"
   ]
  },
  {
   "cell_type": "code",
   "execution_count": 5,
   "id": "502c6bfe-0912-4d37-95b0-47e7a14b468f",
   "metadata": {},
   "outputs": [],
   "source": [
    "states_df = states_df[[\"STUSPS\", \"NAME\", \"geometry\"]]"
   ]
  },
  {
   "cell_type": "markdown",
   "id": "4257620c-13d7-4071-bae2-a5a2aeae5ba7",
   "metadata": {},
   "source": [
    "## Get Population data"
   ]
  },
  {
   "cell_type": "code",
   "execution_count": 6,
   "id": "6c0e7a1d-5a9a-4c10-a5d4-28dc681a8a27",
   "metadata": {},
   "outputs": [],
   "source": [
    "state_populations = pd.read_excel(\n",
    "    \"data/NST-EST2024-POP.xlsx\", sheet_name=None, engine=\"openpyxl\"\n",
    ")"
   ]
  },
  {
   "cell_type": "code",
   "execution_count": 7,
   "id": "2614c2ab-96ec-4304-a287-6fd013fedbbb",
   "metadata": {},
   "outputs": [],
   "source": [
    "state_populations_df = state_populations[\"NST-EST2024-POP\"][\n",
    "    [\n",
    "        \"table with row headers in column A and column headers in rows 3 through 4. (leading dots indicate sub-parts)\",\n",
    "        \"Unnamed: 5\",\n",
    "    ]\n",
    "]\n",
    "state_populations_df = state_populations_df.rename(\n",
    "    columns={\n",
    "        \"table with row headers in column A and column headers in rows 3 through 4. (leading dots indicate sub-parts)\": \"NAME\",\n",
    "        \"Unnamed: 5\": \"POPULATION\",\n",
    "    }\n",
    ")\n",
    "state_populations_df[\"NAME\"] = state_populations_df[\"NAME\"].str[1:]"
   ]
  },
  {
   "cell_type": "code",
   "execution_count": 8,
   "id": "2a1a8b6e-a0bf-486b-b62e-46a23ca718e2",
   "metadata": {},
   "outputs": [],
   "source": [
    "states_with_population_df = states_df.merge(state_populations_df, on=\"NAME\", how=\"left\")\n",
    "states_with_population_df = states_with_population_df[\n",
    "    [\"STUSPS\", \"NAME\", \"POPULATION\", \"geometry\"]\n",
    "]"
   ]
  },
  {
   "cell_type": "markdown",
   "id": "6d2f1ce9-a36c-4292-99a0-ad42032c5ad4",
   "metadata": {},
   "source": [
    "## Get Store Data"
   ]
  },
  {
   "cell_type": "code",
   "execution_count": 9,
   "id": "dbe2bbe6-d360-455e-97f8-10363bd5baef",
   "metadata": {},
   "outputs": [],
   "source": [
    "load_and_validate_env([\"KROGER_CLIENT_ID\", \"KROGER_CLIENT_SECRET\"])\n",
    "zip_code = get_zip_code(default=\"10001\")"
   ]
  },
  {
   "cell_type": "code",
   "execution_count": 10,
   "id": "b3180f32-cf39-4a2d-847a-a30b7c9b5b5e",
   "metadata": {},
   "outputs": [
    {
     "name": "stdout",
     "output_type": "stream",
     "text": [
      "Found saved token, will test if it's still valid...\n",
      "Token appears invalid, requesting a new one\n"
     ]
    }
   ],
   "source": [
    "kroger = KrogerAPI()\n",
    "token_info = kroger.authorization.get_token_with_client_credentials(\"product.compact\")"
   ]
  },
  {
   "cell_type": "code",
   "execution_count": 11,
   "id": "5944589b-703a-446f-9c97-cec216148472",
   "metadata": {},
   "outputs": [],
   "source": [
    "res = 3\n",
    "distance = 0.5\n",
    "\n",
    "usa_geom = states_df[~states_df[\"STUSPS\"].isin([\"PR\", \"VI\", \"GU\", \"MP\", \"AS\"])][\n",
    "    \"geometry\"\n",
    "].union_all()\n",
    "\n",
    "h3_shape = h3.geo_to_h3shape(usa_geom.buffer(distance=distance))\n",
    "h3_cells = h3.h3shape_to_cells(h3_shape, res=res)\n",
    "geojson = h3.cells_to_geo(h3_cells)"
   ]
  },
  {
   "cell_type": "code",
   "execution_count": 12,
   "id": "5f7fe784-44ef-4258-8e05-4af0f74415d5",
   "metadata": {},
   "outputs": [
    {
     "data": {
      "application/vnd.jupyter.widget-view+json": {
       "model_id": "4bf53022675643aba21e451c87572d2c",
       "version_major": 2,
       "version_minor": 0
      },
      "text/plain": [
       "Parsing Stores:   0%|          | 0/911 [00:00<?, ?it/s]"
      ]
     },
     "metadata": {},
     "output_type": "display_data"
    }
   ],
   "source": [
    "stores = []\n",
    "for cell in tqdm(h3_cells, desc=\"Parsing Stores\"):\n",
    "    lat, lng = h3.cell_to_latlng(cell)\n",
    "    locations = kroger.location.search_locations(\n",
    "        lat=lat, lon=lng, radius_in_miles=100, limit=200\n",
    "    )\n",
    "    if len(locations[\"data\"]):\n",
    "        for location in locations[\"data\"]:\n",
    "            location[\"geometry\"] = Point(\n",
    "                location[\"geolocation\"][\"longitude\"],\n",
    "                location[\"geolocation\"][\"latitude\"],\n",
    "            )\n",
    "            location[\"STUSPS\"] = location[\"address\"][\"state\"]\n",
    "            stores.append(location)\n",
    "    else:\n",
    "        continue\n",
    "    time.sleep(random.uniform(0.01, 0.5))"
   ]
  },
  {
   "cell_type": "code",
   "execution_count": 45,
   "id": "451a17e6-bd9c-4162-b5f0-5e41e6c677ab",
   "metadata": {},
   "outputs": [],
   "source": [
    "stores_gdf = gpd.GeoDataFrame(stores, crs=4326)\n",
    "stores_gdf = stores_gdf.drop_duplicates(\"locationId\")\n",
    "stores_gdf.to_file(\"data/all_stores.gpkg\")"
   ]
  },
  {
   "cell_type": "code",
   "execution_count": 17,
   "id": "e897c4a8-9f11-429d-b20d-b2b40635b194",
   "metadata": {},
   "outputs": [],
   "source": [
    "stores_gdf = gpd.read_file(\"data/all_stores.gpkg\")"
   ]
  },
  {
   "cell_type": "code",
   "execution_count": 18,
   "id": "daf35993-a5bd-4015-a87d-f38ac5e921c6",
   "metadata": {},
   "outputs": [],
   "source": [
    "rulers_gdf = stores_gdf[stores_gdf[\"chain\"] == \"RULER\"]\n",
    "rulers_gdf = rulers_gdf[~rulers_gdf[\"departments\"].isna()].reset_index(drop=True)"
   ]
  },
  {
   "cell_type": "code",
   "execution_count": 19,
   "id": "68cf2788-c243-4854-9378-7878a2f6103d",
   "metadata": {},
   "outputs": [],
   "source": [
    "rulers_gdf = rulers_gdf.to_crs(3435)\n",
    "rulers_gdf.to_file(\"data/stores.gpkg\")"
   ]
  },
  {
   "cell_type": "code",
   "execution_count": 20,
   "id": "e519e82a-94fc-4385-9a34-3dae667935bd",
   "metadata": {},
   "outputs": [],
   "source": [
    "rulers_count_df = rulers_gdf.groupby(\"STUSPS\").size().reset_index(name=\"COUNT\")"
   ]
  },
  {
   "cell_type": "code",
   "execution_count": 21,
   "id": "8a2d3891-ef9f-4dcb-934a-62cffdd1a6c6",
   "metadata": {},
   "outputs": [
    {
     "data": {
      "text/html": [
       "<div>\n",
       "<style scoped>\n",
       "    .dataframe tbody tr th:only-of-type {\n",
       "        vertical-align: middle;\n",
       "    }\n",
       "\n",
       "    .dataframe tbody tr th {\n",
       "        vertical-align: top;\n",
       "    }\n",
       "\n",
       "    .dataframe thead th {\n",
       "        text-align: right;\n",
       "    }\n",
       "</style>\n",
       "<table border=\"1\" class=\"dataframe\">\n",
       "  <thead>\n",
       "    <tr style=\"text-align: right;\">\n",
       "      <th></th>\n",
       "      <th>STUSPS</th>\n",
       "      <th>COUNT</th>\n",
       "    </tr>\n",
       "  </thead>\n",
       "  <tbody>\n",
       "    <tr>\n",
       "      <th>0</th>\n",
       "      <td>IL</td>\n",
       "      <td>11</td>\n",
       "    </tr>\n",
       "    <tr>\n",
       "      <th>1</th>\n",
       "      <td>IN</td>\n",
       "      <td>15</td>\n",
       "    </tr>\n",
       "    <tr>\n",
       "      <th>2</th>\n",
       "      <td>KY</td>\n",
       "      <td>7</td>\n",
       "    </tr>\n",
       "    <tr>\n",
       "      <th>3</th>\n",
       "      <td>MO</td>\n",
       "      <td>6</td>\n",
       "    </tr>\n",
       "    <tr>\n",
       "      <th>4</th>\n",
       "      <td>OH</td>\n",
       "      <td>4</td>\n",
       "    </tr>\n",
       "    <tr>\n",
       "      <th>5</th>\n",
       "      <td>TN</td>\n",
       "      <td>2</td>\n",
       "    </tr>\n",
       "  </tbody>\n",
       "</table>\n",
       "</div>"
      ],
      "text/plain": [
       "  STUSPS  COUNT\n",
       "0     IL     11\n",
       "1     IN     15\n",
       "2     KY      7\n",
       "3     MO      6\n",
       "4     OH      4\n",
       "5     TN      2"
      ]
     },
     "execution_count": 21,
     "metadata": {},
     "output_type": "execute_result"
    }
   ],
   "source": [
    "rulers_count_df"
   ]
  },
  {
   "cell_type": "markdown",
   "id": "94cb32a2-faf0-40fa-8616-e8f2275eca72",
   "metadata": {},
   "source": [
    "## Combine With States"
   ]
  },
  {
   "cell_type": "code",
   "execution_count": 23,
   "id": "c062806b-5f76-4d7e-a226-31383a266b6a",
   "metadata": {},
   "outputs": [],
   "source": [
    "store_count_gdf = states_with_population_df.merge(\n",
    "    rulers_count_df, on=\"STUSPS\", how=\"left\"\n",
    ")"
   ]
  },
  {
   "cell_type": "code",
   "execution_count": 24,
   "id": "300ee45e-48b8-48f6-9a3a-efd4904a5efe",
   "metadata": {},
   "outputs": [],
   "source": [
    "store_count_gdf = store_count_gdf.dropna()"
   ]
  },
  {
   "cell_type": "code",
   "execution_count": 25,
   "id": "8e8b581c-4e0c-40b8-81a9-4ea014470b40",
   "metadata": {},
   "outputs": [],
   "source": [
    "store_count_gdf[\"per_100k\"] = (\n",
    "    store_count_gdf[\"COUNT\"] / (store_count_gdf[\"POPULATION\"] / 100_000)\n",
    ").round(decimals=2)\n",
    "store_count_gdf[\"per_1m\"] = (\n",
    "    store_count_gdf[\"COUNT\"] / (store_count_gdf[\"POPULATION\"] / 1_000_000)\n",
    ").round(decimals=2)"
   ]
  },
  {
   "cell_type": "code",
   "execution_count": 26,
   "id": "944acfaa-313b-4a9f-aecc-53fe95e188be",
   "metadata": {},
   "outputs": [],
   "source": [
    "store_count_gdf = store_count_gdf.to_crs(3435)\n",
    "store_count_gdf.to_file(f\"data/Ruler_Foods_Per_State.gpkg\")"
   ]
  },
  {
   "cell_type": "code",
   "execution_count": 27,
   "id": "8a23d1fa-408d-4071-9513-e5b0da2e5cfc",
   "metadata": {},
   "outputs": [
    {
     "data": {
      "text/html": [
       "<div>\n",
       "<style scoped>\n",
       "    .dataframe tbody tr th:only-of-type {\n",
       "        vertical-align: middle;\n",
       "    }\n",
       "\n",
       "    .dataframe tbody tr th {\n",
       "        vertical-align: top;\n",
       "    }\n",
       "\n",
       "    .dataframe thead th {\n",
       "        text-align: right;\n",
       "    }\n",
       "</style>\n",
       "<table border=\"1\" class=\"dataframe\">\n",
       "  <thead>\n",
       "    <tr style=\"text-align: right;\">\n",
       "      <th></th>\n",
       "      <th>STUSPS</th>\n",
       "      <th>NAME</th>\n",
       "      <th>POPULATION</th>\n",
       "      <th>geometry</th>\n",
       "      <th>COUNT</th>\n",
       "      <th>per_100k</th>\n",
       "      <th>per_1m</th>\n",
       "    </tr>\n",
       "  </thead>\n",
       "  <tbody>\n",
       "    <tr>\n",
       "      <th>53</th>\n",
       "      <td>IN</td>\n",
       "      <td>Indiana</td>\n",
       "      <td>6880131.0</td>\n",
       "      <td>POLYGON ((1052220.397 450617.848, 1053166.131 ...</td>\n",
       "      <td>15.0</td>\n",
       "      <td>0.22</td>\n",
       "      <td>2.18</td>\n",
       "    </tr>\n",
       "    <tr>\n",
       "      <th>47</th>\n",
       "      <td>KY</td>\n",
       "      <td>Kentucky</td>\n",
       "      <td>4550595.0</td>\n",
       "      <td>MULTIPOLYGON (((669175.722 -48668.604, 671280....</td>\n",
       "      <td>7.0</td>\n",
       "      <td>0.15</td>\n",
       "      <td>1.54</td>\n",
       "    </tr>\n",
       "    <tr>\n",
       "      <th>20</th>\n",
       "      <td>MO</td>\n",
       "      <td>Missouri</td>\n",
       "      <td>6208038.0</td>\n",
       "      <td>POLYGON ((-1083377.049 1512139.592, -1081822.5...</td>\n",
       "      <td>6.0</td>\n",
       "      <td>0.10</td>\n",
       "      <td>0.97</td>\n",
       "    </tr>\n",
       "    <tr>\n",
       "      <th>29</th>\n",
       "      <td>IL</td>\n",
       "      <td>Illinois</td>\n",
       "      <td>12642259.0</td>\n",
       "      <td>POLYGON ((95734.593 1295783.036, 96366.831 129...</td>\n",
       "      <td>11.0</td>\n",
       "      <td>0.09</td>\n",
       "      <td>0.87</td>\n",
       "    </tr>\n",
       "    <tr>\n",
       "      <th>48</th>\n",
       "      <td>OH</td>\n",
       "      <td>Ohio</td>\n",
       "      <td>11824034.0</td>\n",
       "      <td>MULTIPOLYGON (((2515458.157 1847805.749, 25159...</td>\n",
       "      <td>4.0</td>\n",
       "      <td>0.03</td>\n",
       "      <td>0.34</td>\n",
       "    </tr>\n",
       "    <tr>\n",
       "      <th>23</th>\n",
       "      <td>TN</td>\n",
       "      <td>Tennessee</td>\n",
       "      <td>7148304.0</td>\n",
       "      <td>POLYGON ((392151.805 -599273.721, 392317.228 -...</td>\n",
       "      <td>2.0</td>\n",
       "      <td>0.03</td>\n",
       "      <td>0.28</td>\n",
       "    </tr>\n",
       "  </tbody>\n",
       "</table>\n",
       "</div>"
      ],
      "text/plain": [
       "   STUSPS       NAME  POPULATION  \\\n",
       "53     IN    Indiana   6880131.0   \n",
       "47     KY   Kentucky   4550595.0   \n",
       "20     MO   Missouri   6208038.0   \n",
       "29     IL   Illinois  12642259.0   \n",
       "48     OH       Ohio  11824034.0   \n",
       "23     TN  Tennessee   7148304.0   \n",
       "\n",
       "                                             geometry  COUNT  per_100k  per_1m  \n",
       "53  POLYGON ((1052220.397 450617.848, 1053166.131 ...   15.0      0.22    2.18  \n",
       "47  MULTIPOLYGON (((669175.722 -48668.604, 671280....    7.0      0.15    1.54  \n",
       "20  POLYGON ((-1083377.049 1512139.592, -1081822.5...    6.0      0.10    0.97  \n",
       "29  POLYGON ((95734.593 1295783.036, 96366.831 129...   11.0      0.09    0.87  \n",
       "48  MULTIPOLYGON (((2515458.157 1847805.749, 25159...    4.0      0.03    0.34  \n",
       "23  POLYGON ((392151.805 -599273.721, 392317.228 -...    2.0      0.03    0.28  "
      ]
     },
     "execution_count": 27,
     "metadata": {},
     "output_type": "execute_result"
    }
   ],
   "source": [
    "store_count_gdf.sort_values(\"per_1m\", ascending=False)"
   ]
  },
  {
   "cell_type": "code",
   "execution_count": null,
   "id": "611d2061-f3f3-4837-9894-afe1053216ad",
   "metadata": {},
   "outputs": [],
   "source": []
  },
  {
   "cell_type": "code",
   "execution_count": null,
   "id": "22ce3fe4-325e-425b-89c3-86620780e730",
   "metadata": {},
   "outputs": [],
   "source": []
  }
 ],
 "metadata": {
  "kernelspec": {
   "display_name": "Python 3 (ipykernel)",
   "language": "python",
   "name": "python3"
  },
  "language_info": {
   "codemirror_mode": {
    "name": "ipython",
    "version": 3
   },
   "file_extension": ".py",
   "mimetype": "text/x-python",
   "name": "python",
   "nbconvert_exporter": "python",
   "pygments_lexer": "ipython3",
   "version": "3.11.13"
  }
 },
 "nbformat": 4,
 "nbformat_minor": 5
}
