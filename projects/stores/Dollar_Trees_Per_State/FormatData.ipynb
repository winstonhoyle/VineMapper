{
 "cells": [
  {
   "cell_type": "code",
   "execution_count": 1,
   "id": "8eca3131-85dc-48b3-b640-f384104e123c",
   "metadata": {},
   "outputs": [],
   "source": [
    "import os"
   ]
  },
  {
   "cell_type": "code",
   "execution_count": 2,
   "id": "bc436e38-234d-44fd-b67b-d1f2974606d3",
   "metadata": {},
   "outputs": [],
   "source": [
    "from bs4 import BeautifulSoup\n",
    "import cloudscraper\n",
    "import geopandas as gpd\n",
    "import pandas as pd"
   ]
  },
  {
   "cell_type": "code",
   "execution_count": 3,
   "id": "13bbdea5-6ae9-4a3a-937a-12bb704da0f4",
   "metadata": {},
   "outputs": [],
   "source": [
    "from shapely.geometry import Point\n",
    "from tqdm.notebook import tqdm"
   ]
  },
  {
   "cell_type": "markdown",
   "id": "44a3df26-78d3-479c-99a2-c0e1ba91352e",
   "metadata": {},
   "source": [
    "## Get State Data"
   ]
  },
  {
   "cell_type": "code",
   "execution_count": 4,
   "id": "615eeabf-033b-425a-a81f-d7b4dd9e3a3e",
   "metadata": {},
   "outputs": [],
   "source": [
    "file_path = \"data/cb_2018_us_state_500k/cb_2018_us_state_500k.shp\"\n",
    "states_df = gpd.read_file(file_path)"
   ]
  },
  {
   "cell_type": "code",
   "execution_count": 5,
   "id": "502c6bfe-0912-4d37-95b0-47e7a14b468f",
   "metadata": {},
   "outputs": [],
   "source": [
    "states_df = states_df[[\"STUSPS\", \"NAME\", \"geometry\"]]"
   ]
  },
  {
   "cell_type": "markdown",
   "id": "4257620c-13d7-4071-bae2-a5a2aeae5ba7",
   "metadata": {},
   "source": [
    "## Get Population data"
   ]
  },
  {
   "cell_type": "code",
   "execution_count": 6,
   "id": "6c0e7a1d-5a9a-4c10-a5d4-28dc681a8a27",
   "metadata": {},
   "outputs": [],
   "source": [
    "state_populations = pd.read_excel(\n",
    "    \"data/NST-EST2024-POP.xlsx\", sheet_name=None, engine=\"openpyxl\"\n",
    ")"
   ]
  },
  {
   "cell_type": "code",
   "execution_count": 7,
   "id": "2614c2ab-96ec-4304-a287-6fd013fedbbb",
   "metadata": {},
   "outputs": [],
   "source": [
    "state_populations_df = state_populations[\"NST-EST2024-POP\"][\n",
    "    [\n",
    "        \"table with row headers in column A and column headers in rows 3 through 4. (leading dots indicate sub-parts)\",\n",
    "        \"Unnamed: 5\",\n",
    "    ]\n",
    "]\n",
    "state_populations_df = state_populations_df.rename(\n",
    "    columns={\n",
    "        \"table with row headers in column A and column headers in rows 3 through 4. (leading dots indicate sub-parts)\": \"NAME\",\n",
    "        \"Unnamed: 5\": \"POPULATION\",\n",
    "    }\n",
    ")\n",
    "state_populations_df[\"NAME\"] = state_populations_df[\"NAME\"].str[1:]"
   ]
  },
  {
   "cell_type": "code",
   "execution_count": 8,
   "id": "2a1a8b6e-a0bf-486b-b62e-46a23ca718e2",
   "metadata": {},
   "outputs": [],
   "source": [
    "states_with_population_df = states_df.merge(state_populations_df, on=\"NAME\", how=\"left\")\n",
    "states_with_population_df = states_with_population_df[\n",
    "    [\"STUSPS\", \"NAME\", \"POPULATION\", \"geometry\"]\n",
    "]"
   ]
  },
  {
   "cell_type": "markdown",
   "id": "6d2f1ce9-a36c-4292-99a0-ad42032c5ad4",
   "metadata": {},
   "source": [
    "## Get Dollar Tree Data"
   ]
  },
  {
   "cell_type": "code",
   "execution_count": 62,
   "id": "9faa75ce-1dcd-44bc-84f2-6eb1011f9727",
   "metadata": {},
   "outputs": [],
   "source": [
    "scraper = cloudscraper.create_scraper()"
   ]
  },
  {
   "cell_type": "code",
   "execution_count": null,
   "id": "57180847-49ee-46cc-9612-bfebcd53bed2",
   "metadata": {},
   "outputs": [
    {
     "data": {
      "application/vnd.jupyter.widget-view+json": {
       "model_id": "e42ccc53c2f943a084e300e1c2634a63",
       "version_major": 2,
       "version_minor": 0
      },
      "text/plain": [
       "Parsing States:   0%|          | 0/56 [00:00<?, ?it/s]"
      ]
     },
     "metadata": {},
     "output_type": "display_data"
    },
    {
     "name": "stdout",
     "output_type": "stream",
     "text": [
      "Puerto Rico\n",
      "Alabama\n"
     ]
    },
    {
     "data": {
      "application/vnd.jupyter.widget-view+json": {
       "model_id": "75dc870e95dc4f94be4c7a93a7946505",
       "version_major": 2,
       "version_minor": 0
      },
      "text/plain": [
       "Parse Cities in pa:   0%|          | 0/226 [00:00<?, ?it/s]"
      ]
     },
     "metadata": {},
     "output_type": "display_data"
    }
   ],
   "source": [
    "store_list = []\n",
    "url_base = \"https://www.dollartree.com/locations/\"\n",
    "for i in tqdm(range(len(states_df)), desc=\"Parsing States\"):\n",
    "    # Get State code\n",
    "    state_store_list = []\n",
    "    state_code = states_df.iloc[i][\"STUSPS\"].lower()\n",
    "\n",
    "    # If File exists continue\n",
    "    if os.path.isfile(f\"data/states/{state_code}.gpkg\"):\n",
    "        continue\n",
    "\n",
    "    # Get all locations in a state\n",
    "    state_url = f\"{url_base}{state_code}/\"\n",
    "    r_state = scraper.get(state_url, allow_redirects=False)\n",
    "\n",
    "    if r_state.status_code != 200:\n",
    "        print(states_df.iloc[i][\"NAME\"])\n",
    "        continue\n",
    "\n",
    "    soup_state = BeautifulSoup(r_state.text, \"html.parser\")\n",
    "    city_as = soup_state.find_all(\n",
    "        \"a\", {\"class\": \"ga_w2gi_lp\", \"data-gaact\": \"Click_to_State_Level\"}\n",
    "    )\n",
    "\n",
    "    for city_a in tqdm(city_as, desc=f\"Parse Cities in {state_code}\"):\n",
    "        city_url = city_a.attrs[\"href\"]\n",
    "        r_city = scraper.get(city_url)\n",
    "        soup_city = BeautifulSoup(r_city.text, \"html.parser\")\n",
    "        store_divs = soup_city.find_all(\"div\", {\"class\": \"schemastore\"})\n",
    "\n",
    "        for store_div in store_divs:\n",
    "            store_url = store_div.find(\"a\").attrs[\"href\"]\n",
    "            try:\n",
    "                r_store = scraper.get(store_url)\n",
    "                soup_store = BeautifulSoup(r_store.text, \"html.parser\")\n",
    "                lat = float(\n",
    "                    soup_store.find(\n",
    "                        \"meta\", {\"property\": \"place:location:latitude\"}\n",
    "                    ).attrs[\"content\"]\n",
    "                )\n",
    "                lon = float(\n",
    "                    soup_store.find(\n",
    "                        \"meta\", {\"property\": \"place:location:longitude\"}\n",
    "                    ).attrs[\"content\"]\n",
    "                )\n",
    "                store_dict = {\"STUSPS\": state_code.upper(), \"geometry\": Point(lon, lat)}\n",
    "                state_store_list.append(store_dict)\n",
    "                store_list.append(store_dict)\n",
    "            except Exception as e:\n",
    "                print(r_store.url, e)\n",
    "\n",
    "    if state_store_list:\n",
    "        state_dollar_tree_gdf = gpd.GeoDataFrame(state_store_list, crs=4326)\n",
    "        state_dollar_tree_gdf.to_file(f\"data/states/{state_code}.gpkg\")"
   ]
  },
  {
   "cell_type": "code",
   "execution_count": null,
   "id": "db07414b-75fd-4b9d-8dde-9fee25c78bb0",
   "metadata": {},
   "outputs": [],
   "source": [
    "dollar_general_gdf = gpd.GeoDataFrame(store_list, crs=4326)"
   ]
  },
  {
   "cell_type": "markdown",
   "id": "f2e1d560-e60f-4655-9502-3ba103884809",
   "metadata": {},
   "source": [
    "#### If the above cells breaks just keep running until complete. Then run the line below"
   ]
  },
  {
   "cell_type": "code",
   "execution_count": 18,
   "id": "48487d99-9fc6-4650-9192-c142c5d86cc3",
   "metadata": {},
   "outputs": [],
   "source": [
    "dollar_general_gdfs = []\n",
    "states_path = \"data/states\"\n",
    "for file in os.listdir(\"data/states\"):\n",
    "    constructed_path = os.path.join(states_path, file)\n",
    "    if constructed_path.endswith(\".gpkg\"):\n",
    "        dollar_general_gdf = gpd.read_file(constructed_path)\n",
    "        dollar_general_gdfs.append(dollar_general_gdf)"
   ]
  },
  {
   "cell_type": "code",
   "execution_count": 19,
   "id": "4700ceff-80d8-4b4a-97af-f6d9c801c052",
   "metadata": {},
   "outputs": [],
   "source": [
    "dollar_general_gdf = gpd.GeoDataFrame(pd.concat(dollar_general_gdfs, ignore_index=True))"
   ]
  },
  {
   "cell_type": "code",
   "execution_count": 20,
   "id": "30cdf6ab-4324-457b-bfc1-215c1c9fe2ce",
   "metadata": {},
   "outputs": [],
   "source": [
    "dollar_general_gdf = dollar_general_gdf.to_crs(9311)\n",
    "dollar_general_gdf.to_file(f\"data/stores.gpkg\")"
   ]
  },
  {
   "cell_type": "markdown",
   "id": "94cb32a2-faf0-40fa-8616-e8f2275eca72",
   "metadata": {},
   "source": [
    "## Combine With States"
   ]
  },
  {
   "cell_type": "code",
   "execution_count": 25,
   "id": "1c880cb2-e3d2-48e4-baf5-a235a5461478",
   "metadata": {},
   "outputs": [],
   "source": [
    "dollar_generals_per_state_df = dollar_general_gdf.groupby(\"STATE\").size().reset_index()\n",
    "dollar_generals_per_state_df = dollar_generals_per_state_df.rename(\n",
    "    columns={\"STATE\": \"STUSPS\", 0: \"DOLLAR_GENERALS\"}\n",
    ")"
   ]
  },
  {
   "cell_type": "code",
   "execution_count": 26,
   "id": "c062806b-5f76-4d7e-a226-31383a266b6a",
   "metadata": {},
   "outputs": [],
   "source": [
    "dollar_general_by_states_gdf = states_with_population_df.merge(\n",
    "    dollar_generals_per_state_df, on=\"STUSPS\", how=\"left\"\n",
    ")"
   ]
  },
  {
   "cell_type": "code",
   "execution_count": 27,
   "id": "300ee45e-48b8-48f6-9a3a-efd4904a5efe",
   "metadata": {},
   "outputs": [],
   "source": [
    "dollar_general_by_states_gdf = dollar_general_by_states_gdf.fillna(0)\n",
    "dollar_general_by_states_gdf[\"DOLLAR_GENERALS\"] = dollar_general_by_states_gdf[\n",
    "    \"DOLLAR_GENERALS\"\n",
    "].astype(int)"
   ]
  },
  {
   "cell_type": "code",
   "execution_count": 28,
   "id": "8e8b581c-4e0c-40b8-81a9-4ea014470b40",
   "metadata": {},
   "outputs": [],
   "source": [
    "dollar_general_by_states_gdf[\"per_1000\"] = dollar_general_by_states_gdf[\n",
    "    \"DOLLAR_GENERALS\"\n",
    "] / (dollar_general_by_states_gdf[\"POPULATION\"] / 1000)\n",
    "dollar_general_by_states_gdf[\"per_10k\"] = dollar_general_by_states_gdf[\n",
    "    \"DOLLAR_GENERALS\"\n",
    "] / (dollar_general_by_states_gdf[\"POPULATION\"] / 10_000)\n",
    "dollar_general_by_states_gdf[\"per_100k\"] = dollar_general_by_states_gdf[\n",
    "    \"DOLLAR_GENERALS\"\n",
    "] / (dollar_general_by_states_gdf[\"POPULATION\"] / 100000)\n",
    "dollar_general_by_states_gdf[\"per_500k\"] = dollar_general_by_states_gdf[\n",
    "    \"DOLLAR_GENERALS\"\n",
    "] / (dollar_general_by_states_gdf[\"POPULATION\"] / 500_000)\n",
    "dollar_general_by_states_gdf[\"per_1m\"] = dollar_general_by_states_gdf[\n",
    "    \"DOLLAR_GENERALS\"\n",
    "] / (dollar_general_by_states_gdf[\"POPULATION\"] / 1_000_000)"
   ]
  },
  {
   "cell_type": "code",
   "execution_count": 30,
   "id": "237a0e6a-ccc2-4f3b-baad-d36ce4ecc481",
   "metadata": {},
   "outputs": [],
   "source": [
    "dollar_general_by_states_gdf = dollar_general_by_states_gdf.dropna()"
   ]
  },
  {
   "cell_type": "code",
   "execution_count": 31,
   "id": "944acfaa-313b-4a9f-aecc-53fe95e188be",
   "metadata": {},
   "outputs": [],
   "source": [
    "dollar_general_by_states_gdf = dollar_general_by_states_gdf.to_crs(9311)\n",
    "dollar_general_by_states_gdf.to_file(f\"data/stores_by_states.gpkg\")"
   ]
  },
  {
   "cell_type": "code",
   "execution_count": null,
   "id": "4857fb82-2869-4020-8a57-c1983c9055b6",
   "metadata": {},
   "outputs": [],
   "source": []
  }
 ],
 "metadata": {
  "kernelspec": {
   "display_name": "Python 3 (ipykernel)",
   "language": "python",
   "name": "python3"
  },
  "language_info": {
   "codemirror_mode": {
    "name": "ipython",
    "version": 3
   },
   "file_extension": ".py",
   "mimetype": "text/x-python",
   "name": "python",
   "nbconvert_exporter": "python",
   "pygments_lexer": "ipython3",
   "version": "3.11.11"
  }
 },
 "nbformat": 4,
 "nbformat_minor": 5
}
