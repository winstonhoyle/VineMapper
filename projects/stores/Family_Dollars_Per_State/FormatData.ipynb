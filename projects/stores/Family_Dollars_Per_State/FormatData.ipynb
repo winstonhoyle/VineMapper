{
 "cells": [
  {
   "cell_type": "code",
   "execution_count": 69,
   "id": "8eca3131-85dc-48b3-b640-f384104e123c",
   "metadata": {},
   "outputs": [],
   "source": [
    "import json\n",
    "import os"
   ]
  },
  {
   "cell_type": "code",
   "execution_count": 2,
   "id": "bc436e38-234d-44fd-b67b-d1f2974606d3",
   "metadata": {},
   "outputs": [],
   "source": [
    "from bs4 import BeautifulSoup\n",
    "import cloudscraper\n",
    "import geopandas as gpd\n",
    "import pandas as pd"
   ]
  },
  {
   "cell_type": "code",
   "execution_count": 3,
   "id": "13bbdea5-6ae9-4a3a-937a-12bb704da0f4",
   "metadata": {},
   "outputs": [],
   "source": [
    "from shapely.geometry import Point\n",
    "from tqdm.notebook import tqdm"
   ]
  },
  {
   "cell_type": "markdown",
   "id": "44a3df26-78d3-479c-99a2-c0e1ba91352e",
   "metadata": {},
   "source": [
    "## Get State Data"
   ]
  },
  {
   "cell_type": "code",
   "execution_count": 4,
   "id": "615eeabf-033b-425a-a81f-d7b4dd9e3a3e",
   "metadata": {},
   "outputs": [],
   "source": [
    "file_path = \"data/cb_2018_us_state_500k/cb_2018_us_state_500k.shp\"\n",
    "states_df = gpd.read_file(file_path)"
   ]
  },
  {
   "cell_type": "code",
   "execution_count": 5,
   "id": "502c6bfe-0912-4d37-95b0-47e7a14b468f",
   "metadata": {},
   "outputs": [],
   "source": [
    "states_df = states_df[[\"STUSPS\", \"NAME\", \"geometry\"]]"
   ]
  },
  {
   "cell_type": "markdown",
   "id": "4257620c-13d7-4071-bae2-a5a2aeae5ba7",
   "metadata": {},
   "source": [
    "## Get Population data"
   ]
  },
  {
   "cell_type": "code",
   "execution_count": 6,
   "id": "6c0e7a1d-5a9a-4c10-a5d4-28dc681a8a27",
   "metadata": {},
   "outputs": [],
   "source": [
    "state_populations = pd.read_excel(\n",
    "    \"data/NST-EST2024-POP.xlsx\", sheet_name=None, engine=\"openpyxl\"\n",
    ")"
   ]
  },
  {
   "cell_type": "code",
   "execution_count": 7,
   "id": "2614c2ab-96ec-4304-a287-6fd013fedbbb",
   "metadata": {},
   "outputs": [],
   "source": [
    "state_populations_df = state_populations[\"NST-EST2024-POP\"][\n",
    "    [\n",
    "        \"table with row headers in column A and column headers in rows 3 through 4. (leading dots indicate sub-parts)\",\n",
    "        \"Unnamed: 5\",\n",
    "    ]\n",
    "]\n",
    "state_populations_df = state_populations_df.rename(\n",
    "    columns={\n",
    "        \"table with row headers in column A and column headers in rows 3 through 4. (leading dots indicate sub-parts)\": \"NAME\",\n",
    "        \"Unnamed: 5\": \"POPULATION\",\n",
    "    }\n",
    ")\n",
    "state_populations_df[\"NAME\"] = state_populations_df[\"NAME\"].str[1:]"
   ]
  },
  {
   "cell_type": "code",
   "execution_count": 8,
   "id": "2a1a8b6e-a0bf-486b-b62e-46a23ca718e2",
   "metadata": {},
   "outputs": [],
   "source": [
    "states_with_population_df = states_df.merge(state_populations_df, on=\"NAME\", how=\"left\")\n",
    "states_with_population_df = states_with_population_df[\n",
    "    [\"STUSPS\", \"NAME\", \"POPULATION\", \"geometry\"]\n",
    "]"
   ]
  },
  {
   "cell_type": "markdown",
   "id": "6d2f1ce9-a36c-4292-99a0-ad42032c5ad4",
   "metadata": {},
   "source": [
    "## Get Family Dollar Data"
   ]
  },
  {
   "cell_type": "code",
   "execution_count": 9,
   "id": "9faa75ce-1dcd-44bc-84f2-6eb1011f9727",
   "metadata": {},
   "outputs": [],
   "source": [
    "scraper = cloudscraper.create_scraper()"
   ]
  },
  {
   "cell_type": "code",
   "execution_count": 93,
   "id": "57180847-49ee-46cc-9612-bfebcd53bed2",
   "metadata": {},
   "outputs": [
    {
     "data": {
      "application/vnd.jupyter.widget-view+json": {
       "model_id": "7b7f0ed2e8f1476eaf108562af6d6eba",
       "version_major": 2,
       "version_minor": 0
      },
      "text/plain": [
       "Parsing States:   0%|          | 0/56 [00:00<?, ?it/s]"
      ]
     },
     "metadata": {},
     "output_type": "display_data"
    },
    {
     "data": {
      "application/vnd.jupyter.widget-view+json": {
       "model_id": "ccdf66515c2b45329f00dc323d0aecd3",
       "version_major": 2,
       "version_minor": 0
      },
      "text/plain": [
       "Parsing cities in NC:   0%|          | 0/230 [00:00<?, ?it/s]"
      ]
     },
     "metadata": {},
     "output_type": "display_data"
    },
    {
     "name": "stdout",
     "output_type": "stream",
     "text": [
      "https://locations.familydollar.com/nc/camden/115-hwy-158 'longitude'\n",
      "https://locations.familydollar.com/nc/charlotte/7524-s-tryon-street 'longitude'\n",
      "https://locations.familydollar.com/nc/gastonia/2206-union-rd 'longitude'\n",
      "https://locations.familydollar.com/nc/greenville/250a-easy-st 'longitude'\n",
      "https://locations.familydollar.com/nc/monroe/106-e-sunset-dr 'longitude'\n",
      "https://locations.familydollar.com/nc/monroe/807-e-roosevelt-blvd 'longitude'\n"
     ]
    },
    {
     "data": {
      "application/vnd.jupyter.widget-view+json": {
       "model_id": "984762d79eee4cdc9853922f351381da",
       "version_major": 2,
       "version_minor": 0
      },
      "text/plain": [
       "Parsing cities in OK:   0%|          | 0/107 [00:00<?, ?it/s]"
      ]
     },
     "metadata": {},
     "output_type": "display_data"
    },
    {
     "data": {
      "application/vnd.jupyter.widget-view+json": {
       "model_id": "e4ac945749614cb3a1c72664b6c27855",
       "version_major": 2,
       "version_minor": 0
      },
      "text/plain": [
       "Parsing cities in VA:   0%|          | 0/131 [00:00<?, ?it/s]"
      ]
     },
     "metadata": {},
     "output_type": "display_data"
    },
    {
     "name": "stdout",
     "output_type": "stream",
     "text": [
      "https://locations.familydollar.com/va/berryville/121-w-main-st 'longitude'\n",
      "https://locations.familydollar.com/va/waverly/233-south-country-drive 'longitude'\n"
     ]
    },
    {
     "data": {
      "application/vnd.jupyter.widget-view+json": {
       "model_id": "27b6388e9e9f48e8a4977a2743bda765",
       "version_major": 2,
       "version_minor": 0
      },
      "text/plain": [
       "Parsing cities in WV:   0%|          | 0/98 [00:00<?, ?it/s]"
      ]
     },
     "metadata": {},
     "output_type": "display_data"
    },
    {
     "name": "stdout",
     "output_type": "stream",
     "text": [
      "https://locations.familydollar.com/wv/clay/274-main-rte-16 'longitude'\n",
      "https://locations.familydollar.com/wv/craigsville/route-20 'longitude'\n",
      "https://locations.familydollar.com/wv/glen-daniel/121-commerce-center 'longitude'\n",
      "https://locations.familydollar.com/wv/glenville/6-foodland-plz 'longitude'\n",
      "https://locations.familydollar.com/wv/harts/1034-mcclellan-highway 'longitude'\n",
      "https://locations.familydollar.com/wv/man/route-10-mountain-mart-vlg 'longitude'\n",
      "https://locations.familydollar.com/wv/martinsburg/1319-old-courthouse-sq 'longitude'\n",
      "https://locations.familydollar.com/wv/moorefield/540-s-main-st 'longitude'\n"
     ]
    },
    {
     "data": {
      "application/vnd.jupyter.widget-view+json": {
       "model_id": "2694555c5e184c2faf1a4f7aac2cf026",
       "version_major": 2,
       "version_minor": 0
      },
      "text/plain": [
       "Parsing cities in LA:   0%|          | 0/166 [00:00<?, ?it/s]"
      ]
     },
     "metadata": {},
     "output_type": "display_data"
    },
    {
     "name": "stdout",
     "output_type": "stream",
     "text": [
      "https://locations.familydollar.com/la/baton-rouge/6910-mickens-road 'longitude'\n",
      "https://locations.familydollar.com/la/carencro/631-veterans-memorial-drive 'longitude'\n",
      "https://locations.familydollar.com/la/carencro/3551-n-university-avenue 'longitude'\n",
      "https://locations.familydollar.com/la/franklin/1814a-main-st 'longitude'\n",
      "https://locations.familydollar.com/la/shreveport/3870-linwood-ave 'longitude'\n"
     ]
    },
    {
     "data": {
      "application/vnd.jupyter.widget-view+json": {
       "model_id": "2c25749fd9f047cd86d9e490beaec060",
       "version_major": 2,
       "version_minor": 0
      },
      "text/plain": [
       "Parsing cities in MI:   0%|          | 0/202 [00:00<?, ?it/s]"
      ]
     },
     "metadata": {},
     "output_type": "display_data"
    },
    {
     "name": "stdout",
     "output_type": "stream",
     "text": [
      "https://locations.familydollar.com/mi/atlanta/12075-m32w 'longitude'\n",
      "https://locations.familydollar.com/mi/baldwin/851-prospect-st 'longitude'\n",
      "https://locations.familydollar.com/mi/burton/g4386-s-saginaw-st 'longitude'\n",
      "https://locations.familydollar.com/mi/delton/10221-s-m43 'longitude'\n",
      "https://locations.familydollar.com/mi/gwinn/234-e-m35 'longitude'\n",
      "https://locations.familydollar.com/mi/inkster/30219-cherry-hill 'longitude'\n",
      "https://locations.familydollar.com/mi/mount-clemens/254-southbound-gratiot-ave 'longitude'\n"
     ]
    },
    {
     "data": {
      "application/vnd.jupyter.widget-view+json": {
       "model_id": "cebb58f05bba4ac180f305c675531ac6",
       "version_major": 2,
       "version_minor": 0
      },
      "text/plain": [
       "Parsing cities in MA:   0%|          | 0/48 [00:00<?, ?it/s]"
      ]
     },
     "metadata": {},
     "output_type": "display_data"
    },
    {
     "name": "stdout",
     "output_type": "stream",
     "text": [
      "https://locations.familydollar.com/ma/methuen/246-broadway-state-route-28 'longitude'\n"
     ]
    },
    {
     "data": {
      "application/vnd.jupyter.widget-view+json": {
       "model_id": "36f66de079fd4b5f8a7e6f7763d09061",
       "version_major": 2,
       "version_minor": 0
      },
      "text/plain": [
       "Parsing cities in ID:   0%|          | 0/52 [00:00<?, ?it/s]"
      ]
     },
     "metadata": {},
     "output_type": "display_data"
    },
    {
     "data": {
      "application/vnd.jupyter.widget-view+json": {
       "model_id": "100a34aefb9d471e942044f66da60642",
       "version_major": 2,
       "version_minor": 0
      },
      "text/plain": [
       "Parsing cities in FL:   0%|          | 0/214 [00:00<?, ?it/s]"
      ]
     },
     "metadata": {},
     "output_type": "display_data"
    },
    {
     "name": "stdout",
     "output_type": "stream",
     "text": [
      "https://locations.familydollar.com/fl/jacksonville/4572-sunbeam-road 'longitude'\n",
      "https://locations.familydollar.com/fl/kissimmee/2600-simpson-rd 'longitude'\n",
      "https://locations.familydollar.com/fl/plant-city/1403-s-collins-st 'longitude'\n",
      "https://locations.familydollar.com/fl/walnut-hill/11200-hwy-97 'longitude'\n",
      "https://locations.familydollar.com/fl/west-palm-beach/3139-forest-hill-blvd 'longitude'\n"
     ]
    },
    {
     "data": {
      "application/vnd.jupyter.widget-view+json": {
       "model_id": "d0cda69ff2d54611877d9c1f90d13164",
       "version_major": 2,
       "version_minor": 0
      },
      "text/plain": [
       "Parsing cities in NE:   0%|          | 0/26 [00:00<?, ?it/s]"
      ]
     },
     "metadata": {},
     "output_type": "display_data"
    },
    {
     "name": "stdout",
     "output_type": "stream",
     "text": [
      "https://locations.familydollar.com/ne/omaha/1500-n-24th-st 'longitude'\n"
     ]
    },
    {
     "data": {
      "application/vnd.jupyter.widget-view+json": {
       "model_id": "b97c8be192984c2f9831f32a1f3fd4d9",
       "version_major": 2,
       "version_minor": 0
      },
      "text/plain": [
       "Parsing cities in WA:   0%|          | 0/2 [00:00<?, ?it/s]"
      ]
     },
     "metadata": {},
     "output_type": "display_data"
    },
    {
     "data": {
      "application/vnd.jupyter.widget-view+json": {
       "model_id": "47d73878776b432ca3f2f99f45ba3e09",
       "version_major": 2,
       "version_minor": 0
      },
      "text/plain": [
       "Parsing cities in NM:   0%|          | 0/77 [00:00<?, ?it/s]"
      ]
     },
     "metadata": {},
     "output_type": "display_data"
    },
    {
     "name": "stdout",
     "output_type": "stream",
     "text": [
      "https://locations.familydollar.com/nm/albuquerque/1416-eubank-blvd-ne 'longitude'\n",
      "https://locations.familydollar.com/nm/algodones/hwy-313-camino-carsten 'longitude'\n",
      "https://locations.familydollar.com/nm/hagerman/602b-w-argyle 'longitude'\n",
      "https://locations.familydollar.com/nm/roswell/1010-s-main 'longitude'\n",
      "Puerto Rico\n"
     ]
    },
    {
     "data": {
      "application/vnd.jupyter.widget-view+json": {
       "model_id": "93a2adf6c4884f0486050fd1bd5f66e8",
       "version_major": 2,
       "version_minor": 0
      },
      "text/plain": [
       "Parsing cities in SD:   0%|          | 0/26 [00:00<?, ?it/s]"
      ]
     },
     "metadata": {},
     "output_type": "display_data"
    },
    {
     "name": "stdout",
     "output_type": "stream",
     "text": [
      "https://locations.familydollar.com/sd/eagle-butte/us-hwy-212-west 'longitude'\n"
     ]
    },
    {
     "data": {
      "application/vnd.jupyter.widget-view+json": {
       "model_id": "de623f79bbc048509ad527ee4e5a556b",
       "version_major": 2,
       "version_minor": 0
      },
      "text/plain": [
       "Parsing cities in TX:   0%|          | 0/489 [00:00<?, ?it/s]"
      ]
     },
     "metadata": {},
     "output_type": "display_data"
    },
    {
     "name": "stdout",
     "output_type": "stream",
     "text": [
      "https://locations.familydollar.com/tx/ben-wheeler/state-highway-64 'longitude'\n",
      "https://locations.familydollar.com/tx/cleveland/10-road-3570 'longitude'\n",
      "https://locations.familydollar.com/tx/denison/200a-s-armstrong 'longitude'\n",
      "https://locations.familydollar.com/tx/denton/3601-e-mckinney-street 'longitude'\n",
      "https://locations.familydollar.com/tx/edinburg/904-west-monte-cristo 'longitude'\n",
      "https://locations.familydollar.com/tx/el-paso/12820-b-edgemere 'longitude'\n",
      "https://locations.familydollar.com/tx/houston/565-uvalde-rd-b 'longitude'\n",
      "https://locations.familydollar.com/tx/houston/5817-w-airport-blvd 'longitude'\n",
      "https://locations.familydollar.com/tx/huntsville/624-11th-street 'longitude'\n",
      "https://locations.familydollar.com/tx/huntsville/1524-11th-st 'longitude'\n",
      "https://locations.familydollar.com/tx/laredo/2905-s-zapata-hwy 'longitude'\n",
      "https://locations.familydollar.com/tx/nacogdoches/1028-south-st 'longitude'\n",
      "https://locations.familydollar.com/tx/nacogdoches/9959-us-highway-259 'longitude'\n",
      "https://locations.familydollar.com/tx/naples/400-wl-doc-dodson-w 'longitude'\n",
      "https://locations.familydollar.com/tx/odessa/1623-n-county-rd-w 'longitude'\n"
     ]
    },
    {
     "data": {
      "application/vnd.jupyter.widget-view+json": {
       "model_id": "2ac27733e17e4f0d8ad26954b7874b00",
       "version_major": 2,
       "version_minor": 0
      },
      "text/plain": [
       "Parsing cities in CA:   0%|          | 0/86 [00:00<?, ?it/s]"
      ]
     },
     "metadata": {},
     "output_type": "display_data"
    },
    {
     "name": "stdout",
     "output_type": "stream",
     "text": [
      "https://locations.familydollar.com/ca/brawley/1400-e-main-st 'longitude'\n",
      "https://locations.familydollar.com/ca/salton-city/2108-hwy-86-service-rd 'longitude'\n"
     ]
    },
    {
     "data": {
      "application/vnd.jupyter.widget-view+json": {
       "model_id": "dcbc25ee1b10410f809b3fdc5e4df80d",
       "version_major": 2,
       "version_minor": 0
      },
      "text/plain": [
       "Parsing cities in AL:   0%|          | 0/132 [00:00<?, ?it/s]"
      ]
     },
     "metadata": {},
     "output_type": "display_data"
    },
    {
     "name": "stdout",
     "output_type": "stream",
     "text": [
      "https://locations.familydollar.com/al/atmore/500-e-church-st 'NoneType' object has no attribute 'text'\n",
      "https://locations.familydollar.com/al/mobile/316-s-university-blvd 'longitude'\n",
      "https://locations.familydollar.com/al/tanner/sec-huntsville-browns-ferry-rd 'longitude'\n"
     ]
    },
    {
     "data": {
      "application/vnd.jupyter.widget-view+json": {
       "model_id": "f7cbf88f75d34800ae1a834f82764e7b",
       "version_major": 2,
       "version_minor": 0
      },
      "text/plain": [
       "Parsing cities in GA:   0%|          | 0/195 [00:00<?, ?it/s]"
      ]
     },
     "metadata": {},
     "output_type": "display_data"
    },
    {
     "name": "stdout",
     "output_type": "stream",
     "text": [
      "https://locations.familydollar.com/ga/eton/79h-highway-286 'longitude'\n",
      "https://locations.familydollar.com/ga/jonesboro/1765-mundy-mill-rd 'longitude'\n",
      "https://locations.familydollar.com/ga/macon/4625-mercer-university-drive 'longitude'\n",
      "https://locations.familydollar.com/ga/marietta/728-sandtown-rd 'longitude'\n",
      "https://locations.familydollar.com/ga/rossville/824-mission-ridge-road 'longitude'\n",
      "https://locations.familydollar.com/ga/soperton/4269-w-main-st 'longitude'\n",
      "https://locations.familydollar.com/ga/toccoa/35-glendale-drive 'longitude'\n"
     ]
    },
    {
     "data": {
      "application/vnd.jupyter.widget-view+json": {
       "model_id": "1416cd6a6eec4e7ea420a1741d37c10a",
       "version_major": 2,
       "version_minor": 0
      },
      "text/plain": [
       "Parsing cities in PA:   0%|          | 0/182 [00:00<?, ?it/s]"
      ]
     },
     "metadata": {},
     "output_type": "display_data"
    },
    {
     "name": "stdout",
     "output_type": "stream",
     "text": [
      "https://locations.familydollar.com/pa/apollo/107-north-plaza 'longitude'\n",
      "https://locations.familydollar.com/pa/harrisburg/101-rear-s-25th-st 'longitude'\n",
      "https://locations.familydollar.com/pa/minersville/60-kings-village 'longitude'\n",
      "https://locations.familydollar.com/pa/mountainhome/rte-390-oak-lane 'longitude'\n",
      "https://locations.familydollar.com/pa/philadelphia/5716-baltimore-ave 'longitude'\n"
     ]
    },
    {
     "data": {
      "application/vnd.jupyter.widget-view+json": {
       "model_id": "bb44c2aebf3c4ef2ace664dddf16b4dd",
       "version_major": 2,
       "version_minor": 0
      },
      "text/plain": [
       "Parsing cities in MO:   0%|          | 0/63 [00:00<?, ?it/s]"
      ]
     },
     "metadata": {},
     "output_type": "display_data"
    },
    {
     "name": "stdout",
     "output_type": "stream",
     "text": [
      "https://locations.familydollar.com/mo/hazelwood/7451b-north-lindbergh-blvd 'longitude'\n",
      "https://locations.familydollar.com/mo/independence/11714-e-23rd-st-s 'longitude'\n"
     ]
    },
    {
     "data": {
      "application/vnd.jupyter.widget-view+json": {
       "model_id": "2059e3bb99f446c49a1a5a255faad7b2",
       "version_major": 2,
       "version_minor": 0
      },
      "text/plain": [
       "Parsing cities in CO:   0%|          | 0/68 [00:00<?, ?it/s]"
      ]
     },
     "metadata": {},
     "output_type": "display_data"
    },
    {
     "name": "stdout",
     "output_type": "stream",
     "text": [
      "https://locations.familydollar.com/co/colorado-spgs/3069-s-academy-blvd 'longitude'\n"
     ]
    },
    {
     "data": {
      "application/vnd.jupyter.widget-view+json": {
       "model_id": "e821273501824b04a4ed0443e8e1936e",
       "version_major": 2,
       "version_minor": 0
      },
      "text/plain": [
       "Parsing cities in UT:   0%|          | 0/51 [00:00<?, ?it/s]"
      ]
     },
     "metadata": {},
     "output_type": "display_data"
    },
    {
     "name": "stdout",
     "output_type": "stream",
     "text": [
      "https://locations.familydollar.com/ut/woods-cross/1638-s-500-w 'longitude'\n"
     ]
    },
    {
     "data": {
      "application/vnd.jupyter.widget-view+json": {
       "model_id": "bc29cd7b1a39488aa74faf1aa16fe1ad",
       "version_major": 2,
       "version_minor": 0
      },
      "text/plain": [
       "Parsing cities in TN:   0%|          | 0/105 [00:00<?, ?it/s]"
      ]
     },
     "metadata": {},
     "output_type": "display_data"
    },
    {
     "name": "stdout",
     "output_type": "stream",
     "text": [
      "https://locations.familydollar.com/tn/memphis/1880-n-germantown-rd 'longitude'\n"
     ]
    },
    {
     "data": {
      "application/vnd.jupyter.widget-view+json": {
       "model_id": "987faa39c583400a96df21a73676afba",
       "version_major": 2,
       "version_minor": 0
      },
      "text/plain": [
       "Parsing cities in WY:   0%|          | 0/31 [00:00<?, ?it/s]"
      ]
     },
     "metadata": {},
     "output_type": "display_data"
    },
    {
     "name": "stdout",
     "output_type": "stream",
     "text": [
      "https://locations.familydollar.com/wy/casper/4749-w-yellowstone-hwy 'longitude'\n"
     ]
    },
    {
     "data": {
      "application/vnd.jupyter.widget-view+json": {
       "model_id": "58ef175893154e72bed364066df7d409",
       "version_major": 2,
       "version_minor": 0
      },
      "text/plain": [
       "Parsing cities in NY:   0%|          | 0/153 [00:00<?, ?it/s]"
      ]
     },
     "metadata": {},
     "output_type": "display_data"
    },
    {
     "name": "stdout",
     "output_type": "stream",
     "text": [
      "https://locations.familydollar.com/ny/east-syracuse/300-west-manilus-st 'longitude'\n",
      "https://locations.familydollar.com/ny/hornell/6-park-dr-ste-101 'longitude'\n",
      "https://locations.familydollar.com/ny/howard-beach/13340-79th-street 'longitude'\n",
      "https://locations.familydollar.com/ny/lewiston/791-center-st 'longitude'\n",
      "https://locations.familydollar.com/ny/pleasant-valley/13-north-ave-ste-5 'longitude'\n",
      "https://locations.familydollar.com/ny/spring-valley/238b-n-main-st 'longitude'\n"
     ]
    },
    {
     "data": {
      "application/vnd.jupyter.widget-view+json": {
       "model_id": "4dae8c04d1ca46df9c464bb63d22d47e",
       "version_major": 2,
       "version_minor": 0
      },
      "text/plain": [
       "Parsing cities in KS:   0%|          | 0/34 [00:00<?, ?it/s]"
      ]
     },
     "metadata": {},
     "output_type": "display_data"
    },
    {
     "name": "stdout",
     "output_type": "stream",
     "text": [
      "Alaska\n"
     ]
    },
    {
     "data": {
      "application/vnd.jupyter.widget-view+json": {
       "model_id": "52d96d0154454e0085e928871c433e49",
       "version_major": 2,
       "version_minor": 0
      },
      "text/plain": [
       "Parsing cities in NV:   0%|          | 0/26 [00:00<?, ?it/s]"
      ]
     },
     "metadata": {},
     "output_type": "display_data"
    },
    {
     "data": {
      "application/vnd.jupyter.widget-view+json": {
       "model_id": "2304f323dc574727a2d6f0467516c6f4",
       "version_major": 2,
       "version_minor": 0
      },
      "text/plain": [
       "Parsing cities in IL:   0%|          | 0/105 [00:00<?, ?it/s]"
      ]
     },
     "metadata": {},
     "output_type": "display_data"
    },
    {
     "name": "stdout",
     "output_type": "stream",
     "text": [
      "https://locations.familydollar.com/il/chicago/8240-s-stony-island-ave 'longitude'\n",
      "https://locations.familydollar.com/il/chicago/3542-south-archer 'longitude'\n",
      "https://locations.familydollar.com/il/tinley-park/7901-171st-street 'longitude'\n"
     ]
    },
    {
     "data": {
      "application/vnd.jupyter.widget-view+json": {
       "model_id": "3ed188d7553f42c0971874bd3e367028",
       "version_major": 2,
       "version_minor": 0
      },
      "text/plain": [
       "Parsing cities in VT:   0%|          | 0/10 [00:00<?, ?it/s]"
      ]
     },
     "metadata": {},
     "output_type": "display_data"
    },
    {
     "data": {
      "application/vnd.jupyter.widget-view+json": {
       "model_id": "e9cbfc03eb724bf284d86fca580d3f27",
       "version_major": 2,
       "version_minor": 0
      },
      "text/plain": [
       "Parsing cities in MT:   0%|          | 0/35 [00:00<?, ?it/s]"
      ]
     },
     "metadata": {},
     "output_type": "display_data"
    },
    {
     "data": {
      "application/vnd.jupyter.widget-view+json": {
       "model_id": "cd80f1874b9241f49d59d9508a008265",
       "version_major": 2,
       "version_minor": 0
      },
      "text/plain": [
       "Parsing cities in IA:   0%|          | 0/45 [00:00<?, ?it/s]"
      ]
     },
     "metadata": {},
     "output_type": "display_data"
    },
    {
     "name": "stdout",
     "output_type": "stream",
     "text": [
      "https://locations.familydollar.com/ia/des-moines/3915-sw-9th-street 'longitude'\n"
     ]
    },
    {
     "data": {
      "application/vnd.jupyter.widget-view+json": {
       "model_id": "89b2d7444b0249a7bcb04cbbab8c2a22",
       "version_major": 2,
       "version_minor": 0
      },
      "text/plain": [
       "Parsing cities in SC:   0%|          | 0/148 [00:00<?, ?it/s]"
      ]
     },
     "metadata": {},
     "output_type": "display_data"
    },
    {
     "name": "stdout",
     "output_type": "stream",
     "text": [
      "https://locations.familydollar.com/sc/hickory-tavern/13024-hwy-76w 'longitude'\n",
      "https://locations.familydollar.com/sc/langley/100-depot-street 'longitude'\n",
      "https://locations.familydollar.com/sc/orangeburg/2755-old-edisto-dr 'longitude'\n"
     ]
    },
    {
     "data": {
      "application/vnd.jupyter.widget-view+json": {
       "model_id": "ac7d0882e6eb4f0786246ac2b39fe337",
       "version_major": 2,
       "version_minor": 0
      },
      "text/plain": [
       "Parsing cities in NH:   0%|          | 0/19 [00:00<?, ?it/s]"
      ]
     },
     "metadata": {},
     "output_type": "display_data"
    },
    {
     "data": {
      "application/vnd.jupyter.widget-view+json": {
       "model_id": "fdec0a88622d434e8d16afffcfcb5fc7",
       "version_major": 2,
       "version_minor": 0
      },
      "text/plain": [
       "Parsing cities in AZ:   0%|          | 0/85 [00:00<?, ?it/s]"
      ]
     },
     "metadata": {},
     "output_type": "display_data"
    },
    {
     "name": "stdout",
     "output_type": "stream",
     "text": [
      "https://locations.familydollar.com/az/lakeside/20-e-white-mountain-blvd-8a 'longitude'\n"
     ]
    },
    {
     "data": {
      "application/vnd.jupyter.widget-view+json": {
       "model_id": "dd959c8ae68b49aa8952e54594bf8079",
       "version_major": 2,
       "version_minor": 0
      },
      "text/plain": [
       "Parsing cities in DC:   0%|          | 0/1 [00:00<?, ?it/s]"
      ]
     },
     "metadata": {},
     "output_type": "display_data"
    },
    {
     "name": "stdout",
     "output_type": "stream",
     "text": [
      "American Samoa\n",
      "United States Virgin Islands\n"
     ]
    },
    {
     "data": {
      "application/vnd.jupyter.widget-view+json": {
       "model_id": "840a34f4944749878b6bb879f664248a",
       "version_major": 2,
       "version_minor": 0
      },
      "text/plain": [
       "Parsing cities in NJ:   0%|          | 0/69 [00:00<?, ?it/s]"
      ]
     },
     "metadata": {},
     "output_type": "display_data"
    },
    {
     "data": {
      "application/vnd.jupyter.widget-view+json": {
       "model_id": "58eb837c8a3a45de938b18d839f34661",
       "version_major": 2,
       "version_minor": 0
      },
      "text/plain": [
       "Parsing cities in MD:   0%|          | 0/46 [00:00<?, ?it/s]"
      ]
     },
     "metadata": {},
     "output_type": "display_data"
    },
    {
     "data": {
      "application/vnd.jupyter.widget-view+json": {
       "model_id": "a153b36059ca4d1f99e7f0d3b109ccde",
       "version_major": 2,
       "version_minor": 0
      },
      "text/plain": [
       "Parsing cities in ME:   0%|          | 0/53 [00:00<?, ?it/s]"
      ]
     },
     "metadata": {},
     "output_type": "display_data"
    },
    {
     "name": "stdout",
     "output_type": "stream",
     "text": [
      "Hawaii\n"
     ]
    },
    {
     "data": {
      "application/vnd.jupyter.widget-view+json": {
       "model_id": "4047e4ef931745a2a3ae8fe9cafa5f12",
       "version_major": 2,
       "version_minor": 0
      },
      "text/plain": [
       "Parsing cities in DE:   0%|          | 0/20 [00:00<?, ?it/s]"
      ]
     },
     "metadata": {},
     "output_type": "display_data"
    },
    {
     "name": "stdout",
     "output_type": "stream",
     "text": [
      "Guam\n",
      "Commonwealth of the Northern Mariana Islands\n"
     ]
    },
    {
     "data": {
      "application/vnd.jupyter.widget-view+json": {
       "model_id": "cd9068ab5f6143e2979968cc24e1f2cb",
       "version_major": 2,
       "version_minor": 0
      },
      "text/plain": [
       "Parsing cities in RI:   0%|          | 0/12 [00:00<?, ?it/s]"
      ]
     },
     "metadata": {},
     "output_type": "display_data"
    },
    {
     "name": "stdout",
     "output_type": "stream",
     "text": [
      "https://locations.familydollar.com/ri/pawtucket/320-dexter-st 'longitude'\n"
     ]
    },
    {
     "data": {
      "application/vnd.jupyter.widget-view+json": {
       "model_id": "f4613ba0314a4820aa9ca5d00a9aa402",
       "version_major": 2,
       "version_minor": 0
      },
      "text/plain": [
       "Parsing cities in KY:   0%|          | 0/155 [00:00<?, ?it/s]"
      ]
     },
     "metadata": {},
     "output_type": "display_data"
    },
    {
     "name": "stdout",
     "output_type": "stream",
     "text": [
      "https://locations.familydollar.com/ky/booneville/old-highway-11 'longitude'\n",
      "https://locations.familydollar.com/ky/fall-rock/4869-n-hwy-421 'longitude'\n",
      "https://locations.familydollar.com/ky/lexington/820-n-broadway 'longitude'\n",
      "https://locations.familydollar.com/ky/martin/267-route-122 'longitude'\n",
      "https://locations.familydollar.com/ky/morgantown/767-s-main-st 'longitude'\n",
      "https://locations.familydollar.com/ky/owensboro/1814-triplett-st 'longitude'\n",
      "https://locations.familydollar.com/ky/pikesville/6799-us-hwy-23-south 'longitude'\n",
      "https://locations.familydollar.com/ky/russellville/202-market-sq 'longitude'\n",
      "https://locations.familydollar.com/ky/sandy-hook/hwy-7-32 'longitude'\n"
     ]
    },
    {
     "data": {
      "application/vnd.jupyter.widget-view+json": {
       "model_id": "43900ba036464b74b8c038d939ebbd05",
       "version_major": 2,
       "version_minor": 0
      },
      "text/plain": [
       "Parsing cities in OH:   0%|          | 0/229 [00:00<?, ?it/s]"
      ]
     },
     "metadata": {},
     "output_type": "display_data"
    },
    {
     "name": "stdout",
     "output_type": "stream",
     "text": [
      "https://locations.familydollar.com/oh/euclid/19001-euclid-ave 'longitude'\n",
      "https://locations.familydollar.com/oh/lebanon/727-e-main-st-ste-d 'longitude'\n",
      "https://locations.familydollar.com/oh/new-philadelphia/566-wabash-avenue-nw 'longitude'\n",
      "https://locations.familydollar.com/oh/toronto/1832-franklin-ave 'longitude'\n"
     ]
    },
    {
     "data": {
      "application/vnd.jupyter.widget-view+json": {
       "model_id": "81d518ce647d4e97b0e29d2f0b2bc972",
       "version_major": 2,
       "version_minor": 0
      },
      "text/plain": [
       "Parsing cities in WI:   0%|          | 0/86 [00:00<?, ?it/s]"
      ]
     },
     "metadata": {},
     "output_type": "display_data"
    },
    {
     "data": {
      "application/vnd.jupyter.widget-view+json": {
       "model_id": "6e581e81192e41899980221d1dc29107",
       "version_major": 2,
       "version_minor": 0
      },
      "text/plain": [
       "Parsing cities in OR:   0%|          | 0/4 [00:00<?, ?it/s]"
      ]
     },
     "metadata": {},
     "output_type": "display_data"
    },
    {
     "data": {
      "application/vnd.jupyter.widget-view+json": {
       "model_id": "4330171e47ed4bc3be76f6417af28b3e",
       "version_major": 2,
       "version_minor": 0
      },
      "text/plain": [
       "Parsing cities in ND:   0%|          | 0/17 [00:00<?, ?it/s]"
      ]
     },
     "metadata": {},
     "output_type": "display_data"
    },
    {
     "data": {
      "application/vnd.jupyter.widget-view+json": {
       "model_id": "02d82b1bbef446898001de34e0e45f39",
       "version_major": 2,
       "version_minor": 0
      },
      "text/plain": [
       "Parsing cities in AR:   0%|          | 0/85 [00:00<?, ?it/s]"
      ]
     },
     "metadata": {},
     "output_type": "display_data"
    },
    {
     "name": "stdout",
     "output_type": "stream",
     "text": [
      "https://locations.familydollar.com/ar/little-rock/2408-dr-martin-luther-king-jr 'longitude'\n"
     ]
    },
    {
     "data": {
      "application/vnd.jupyter.widget-view+json": {
       "model_id": "81f07a5292df404e8ef8c0fa7a89e57a",
       "version_major": 2,
       "version_minor": 0
      },
      "text/plain": [
       "Parsing cities in IN:   0%|          | 0/99 [00:00<?, ?it/s]"
      ]
     },
     "metadata": {},
     "output_type": "display_data"
    },
    {
     "name": "stdout",
     "output_type": "stream",
     "text": [
      "https://locations.familydollar.com/in/elkhart/2301-west-franklin-st 'longitude'\n",
      "https://locations.familydollar.com/in/indianapolis/3021-w-washington-st 'longitude'\n",
      "https://locations.familydollar.com/in/nashville/51-chestnut-st 'longitude'\n",
      "https://locations.familydollar.com/in/valparaiso/390-w-us-highway-6 'longitude'\n"
     ]
    },
    {
     "data": {
      "application/vnd.jupyter.widget-view+json": {
       "model_id": "b8226667cf694562b63ff06141e83f4e",
       "version_major": 2,
       "version_minor": 0
      },
      "text/plain": [
       "Parsing cities in MN:   0%|          | 0/43 [00:00<?, ?it/s]"
      ]
     },
     "metadata": {},
     "output_type": "display_data"
    },
    {
     "data": {
      "application/vnd.jupyter.widget-view+json": {
       "model_id": "62eea08a204d49b3ad8444dd68dc8781",
       "version_major": 2,
       "version_minor": 0
      },
      "text/plain": [
       "Parsing cities in CT:   0%|          | 0/31 [00:00<?, ?it/s]"
      ]
     },
     "metadata": {},
     "output_type": "display_data"
    }
   ],
   "source": [
    "store_list = []\n",
    "url_base = \"https://locations.familydollar.com\"\n",
    "for i in tqdm(range(len(states_df)), desc=\"Parsing States\"):\n",
    "    # Get State code\n",
    "    state_store_list = []\n",
    "    state_code = states_df.iloc[i][\"STUSPS\"].lower()\n",
    "\n",
    "    # If File exists continue\n",
    "    if os.path.isfile(f\"data/states/{state_code}.gpkg\"):\n",
    "        continue\n",
    "\n",
    "    # Get all locations in a state\n",
    "    state_url = os.path.join(url_base, state_code)\n",
    "    r_state = scraper.get(state_url, allow_redirects=False)\n",
    "\n",
    "    if r_state.status_code != 200:\n",
    "        print(states_df.iloc[i][\"NAME\"])\n",
    "        continue\n",
    "\n",
    "    soup_state = BeautifulSoup(r_state.text, \"html.parser\")\n",
    "    city_as = soup_state.find_all(\n",
    "        \"a\",\n",
    "        {\n",
    "            \"class\": \"Link group flex items-center gap-2 text-base font-normal !no-underline\"\n",
    "        },\n",
    "    )\n",
    "\n",
    "    for city_a in tqdm(city_as, desc=f\"Parsing cities in {state_code.upper()}\"):\n",
    "        city_url = os.path.join(url_base, city_a.attrs[\"href\"])\n",
    "        r_city = scraper.get(city_url)\n",
    "        soup_city = BeautifulSoup(r_city.text, \"html.parser\")\n",
    "        store_as = soup_city.find_all(\n",
    "            \"a\", {\"class\": \"Link text-green1 pb-4 text-lg font-bold hover:underline\"}\n",
    "        )\n",
    "        for store_a in store_as:\n",
    "            store_url = os.path.join(url_base, store_a.attrs[\"href\"][1:])\n",
    "            r_store = scraper.get(store_url)\n",
    "            soup_store = BeautifulSoup(r_store.text, \"html.parser\")\n",
    "            try:\n",
    "                store_dict = json.loads(\n",
    "                    soup_store.find(\"script\", {\"type\": \"application/ld+json\"}).text\n",
    "                )\n",
    "                geo = store_dict[\"@graph\"][1][\"geo\"]\n",
    "                store_dict = {\n",
    "                    \"STUSPS\": state_code.upper(),\n",
    "                    \"geometry\": Point(geo[\"longitude\"], geo[\"latitude\"]),\n",
    "                }\n",
    "            except Exception as e:\n",
    "                print(r_store.url, e)\n",
    "                continue\n",
    "            state_store_list.append(store_dict)\n",
    "            store_list.append(store_dict)\n",
    "\n",
    "    if state_store_list:\n",
    "        state_family_dollar_gdf = gpd.GeoDataFrame(state_store_list, crs=4326)\n",
    "        state_family_dollar_gdf.to_file(f\"data/states/{state_code}.gpkg\")"
   ]
  },
  {
   "cell_type": "markdown",
   "id": "f2e1d560-e60f-4655-9502-3ba103884809",
   "metadata": {},
   "source": [
    "#### If the above cells breaks just keep running until complete. Then run the line below"
   ]
  },
  {
   "cell_type": "code",
   "execution_count": 94,
   "id": "48487d99-9fc6-4650-9192-c142c5d86cc3",
   "metadata": {},
   "outputs": [],
   "source": [
    "family_dollars_gdfs = []\n",
    "states_path = \"data/states\"\n",
    "for file in os.listdir(\"data/states\"):\n",
    "    constructed_path = os.path.join(states_path, file)\n",
    "    if constructed_path.endswith(\".gpkg\"):\n",
    "        family_dollars_gdf = gpd.read_file(constructed_path)\n",
    "        family_dollars_gdfs.append(family_dollars_gdf)"
   ]
  },
  {
   "cell_type": "code",
   "execution_count": 95,
   "id": "4700ceff-80d8-4b4a-97af-f6d9c801c052",
   "metadata": {},
   "outputs": [],
   "source": [
    "family_dollar_gdf = gpd.GeoDataFrame(pd.concat(family_dollars_gdfs, ignore_index=True))"
   ]
  },
  {
   "cell_type": "code",
   "execution_count": 101,
   "id": "4288e34f-8819-4ec7-807e-bd9094f927f1",
   "metadata": {},
   "outputs": [],
   "source": [
    "added_family_dollars = [\n",
    "    {\"STUSPS\": \"IN\", \"geometry\": Point(-86.00190044047244, 41.6702614070786)},\n",
    "    {\"STUSPS\": \"IN\", \"geometry\": Point(-86.23774448460554, 39.20065518475156)},\n",
    "    {\"STUSPS\": \"IN\", \"geometry\": Point(-86.21062951349928, 39.76444922942507)},\n",
    "    {\"STUSPS\": \"IN\", \"geometry\": Point(-87.14129259833024, 41.549362429073526)},\n",
    "    {\"STUSPS\": \"OH\", \"geometry\": Point(-81.5485640536069, 41.55953042310425)},\n",
    "    {\"STUSPS\": \"OH\", \"geometry\": Point(-84.1918123441257, 39.434046064951964)},\n",
    "    {\"STUSPS\": \"OH\", \"geometry\": Point(-81.45643240189779, 40.5041574677327)},\n",
    "    {\"STUSPS\": \"OH\", \"geometry\": Point(-80.6127432306313, 40.45186429734367)},\n",
    "    {\"STUSPS\": \"KY\", \"geometry\": Point(-83.67636775766854, 37.47705711407493)},\n",
    "    {\"STUSPS\": \"KY\", \"geometry\": Point(-83.78725459631947, 37.21538858377342)},\n",
    "    {\"STUSPS\": \"KY\", \"geometry\": Point(-84.48301721535492, 38.06024457121491)},\n",
    "    {\"STUSPS\": \"KY\", \"geometry\": Point(-82.75365220000161, 37.55744285259612)},\n",
    "    {\"STUSPS\": \"KY\", \"geometry\": Point(-86.69536448281158, 37.211455327657106)},\n",
    "    {\"STUSPS\": \"KY\", \"geometry\": Point(-87.10447757293281, 37.75792045398469)},\n",
    "    {\"STUSPS\": \"KY\", \"geometry\": Point(-82.5438040711658, 37.3727348581624)},\n",
    "    {\"STUSPS\": \"KY\", \"geometry\": Point(-86.88962764231462, 36.84662503559783)},\n",
    "    {\"STUSPS\": \"KY\", \"geometry\": Point(-83.12494447117369, 38.09106698276062)},\n",
    "    {\"STUSPS\": \"RI\", \"geometry\": Point(-71.39241224038442, 41.88241772065835)},\n",
    "    {\"STUSPS\": \"AZ\", \"geometry\": Point(-109.95374082884541, 34.142421280502255)},\n",
    "    {\"STUSPS\": \"SC\", \"geometry\": Point(-82.18887927117117, 34.521087900811466)},\n",
    "    {\"STUSPS\": \"SC\", \"geometry\": Point(-81.84529138649157, 33.517750848482144)},\n",
    "    {\"STUSPS\": \"SC\", \"geometry\": Point(-80.90392268466597, 33.47924457682706)},\n",
    "    {\"STUSPS\": \"IA\", \"geometry\": Point(-93.6249386288345, 41.54871598530128)},\n",
    "    {\"STUSPS\": \"IL\", \"geometry\": Point(-87.58608869824508, 41.7449678480658)},\n",
    "    {\"STUSPS\": \"IL\", \"geometry\": Point(-87.67934023068273, 41.82971710277755)},\n",
    "    {\"STUSPS\": \"IL\", \"geometry\": Point(-87.81135978830129, 41.57968688508415)},\n",
    "    {\"STUSPS\": \"NY\", \"geometry\": Point(-106.38595267481378, 42.85138213608213)},\n",
    "    {\"STUSPS\": \"NY\", \"geometry\": Point(-77.65958822706611, 42.32106253915318)},\n",
    "    {\"STUSPS\": \"NY\", \"geometry\": Point(-73.85712704408405, 40.671316945262106)},\n",
    "    {\"STUSPS\": \"NY\", \"geometry\": Point(-79.03671259999955, 43.17150258484927)},\n",
    "    {\"STUSPS\": \"NY\", \"geometry\": Point(-73.82584418842217, 41.74547701706317)},\n",
    "    {\"STUSPS\": \"NY\", \"geometry\": Point(-74.03927697117894, 41.122978002814364)},\n",
    "    {\"STUSPS\": \"WY\", \"geometry\": Point(-106.38595267481378, 42.85138213608213)},\n",
    "    {\"STUSPS\": \"CO\", \"geometry\": Point(-104.75609099999886, 38.78780140706765)},\n",
    "    {\"STUSPS\": \"UT\", \"geometry\": Point(-111.89281904236756, 40.87250496464274)},\n",
    "    {\"STUSPS\": \"TN\", \"geometry\": Point(-89.79147577287443, 35.175991923497996)},\n",
    "    {\"STUSPS\": \"MO\", \"geometry\": Point(-90.35410036944737, 38.78539779827846)},\n",
    "    {\"STUSPS\": \"MO\", \"geometry\": Point(-94.43752244053958, 39.080590693979445)},\n",
    "    {\"STUSPS\": \"PA\", \"geometry\": Point(-79.56613769999605, 40.58177898428519)},\n",
    "    {\"STUSPS\": \"PA\", \"geometry\": Point(-76.84114237117359, 40.27124826084859)},\n",
    "    {\"STUSPS\": \"PA\", \"geometry\": Point(-76.25338674773332, 40.68101891444123)},\n",
    "    {\"STUSPS\": \"PA\", \"geometry\": Point(-75.27080464586415, 41.170411600111564)},\n",
    "    {\"STUSPS\": \"PA\", \"geometry\": Point(-75.23845541173361, 39.945286709902454)},\n",
    "    {\"STUSPS\": \"GA\", \"geometry\": Point(-83.3109476558399, 34.57383458073483)},\n",
    "    {\"STUSPS\": \"GA\", \"geometry\": Point(-85.31258484414224, 34.916039015915565)},\n",
    "    {\"STUSPS\": \"GA\", \"geometry\": Point(-84.55626997306071, 33.93396895987306)},\n",
    "    {\"STUSPS\": \"GA\", \"geometry\": Point(-83.71716571351006, 32.82740503017334)},\n",
    "    {\"STUSPS\": \"GA\", \"geometry\": Point(-84.3384700423292, 33.48572622596157)},\n",
    "    {\"STUSPS\": \"GA\", \"geometry\": Point(-84.76471778829722, 34.82565696021618)},\n",
    "    {\"STUSPS\": \"AL\", \"geometry\": Point(-87.48846695580735, 31.02149008583219)},\n",
    "    {\"STUSPS\": \"AL\", \"geometry\": Point(-86.96486711713946, 34.73083572184487)},\n",
    "    {\"STUSPS\": \"CA\", \"geometry\": Point(-115.51821604229917, 32.97828610060511)},\n",
    "    {\"STUSPS\": \"CA\", \"geometry\": Point(-115.96689718469418, 33.280298699821834)},\n",
    "    {\"STUSPS\": \"TX\", \"geometry\": Point(-95.70572041349213, 32.45029662679289)},\n",
    "    {\"STUSPS\": \"TX\", \"geometry\": Point(-95.0854777711656, 30.3412968516855)},\n",
    "    {\"STUSPS\": \"TX\", \"geometry\": Point(-96.5456265541155, 33.75434311718546)},\n",
    "    {\"STUSPS\": \"TX\", \"geometry\": Point(-97.09192001350945, 33.213646031430365)},\n",
    "    {\"STUSPS\": \"TX\", \"geometry\": Point(-98.16568484415778, 26.337955216950707)},\n",
    "    {\"STUSPS\": \"TX\", \"geometry\": Point(-106.24612419820042, 31.79637752835674)},\n",
    "    {\"STUSPS\": \"TX\", \"geometry\": Point(-95.18650398072744, 29.78737899109057)},\n",
    "    {\"STUSPS\": \"TX\", \"geometry\": Point(-95.49153077296404, 29.64393734094431)},\n",
    "    {\"STUSPS\": \"TX\", \"geometry\": Point(-95.54463311349907, 30.72429286567833)},\n",
    "    {\"STUSPS\": \"TX\", \"geometry\": Point(-95.5573693711604, 30.724130234361233)},\n",
    "    {\"STUSPS\": \"TX\", \"geometry\": Point(-99.4761263711583, 27.470824193415428)},\n",
    "    {\"STUSPS\": \"TX\", \"geometry\": Point(-94.66231567116841, 31.596557677328857)},\n",
    "    {\"STUSPS\": \"TX\", \"geometry\": Point(-94.67658595768103, 31.701712248174328)},\n",
    "    {\"STUSPS\": \"TX\", \"geometry\": Point(-94.68528101351347, 33.199354468237544)},\n",
    "    {\"STUSPS\": \"TX\", \"geometry\": Point(-102.39437547116668, 31.85192047724366)},\n",
    "    {\"STUSPS\": \"NC\", \"geometry\": Point(-76.16896464415308, 36.32973481808488)},\n",
    "    {\"STUSPS\": \"NC\", \"geometry\": Point(-80.92643142702566, 35.15033017961243)},\n",
    "    {\"STUSPS\": \"NC\", \"geometry\": Point(-81.1672044270553, 35.23243878322777)},\n",
    "    {\"STUSPS\": \"NC\", \"geometry\": Point(-80.54793858647086, 34.97126188794333)},\n",
    "    {\"STUSPS\": \"NC\", \"geometry\": Point(-80.51663346771046, 34.97476512684653)},\n",
    "    {\"STUSPS\": \"NC\", \"geometry\": Point(-76.16896464415308, 36.32973481808488)},\n",
    "    {\"STUSPS\": \"VA\", \"geometry\": Point(-77.9842807576537, 39.15191820050503)},\n",
    "    {\"STUSPS\": \"VA\", \"geometry\": Point(-77.08918856336129, 37.034590040145765)},\n",
    "    {\"STUSPS\": \"WV\", \"geometry\": Point(-81.07755668297234, 38.45956868528548)},\n",
    "    {\"STUSPS\": \"WV\", \"geometry\": Point(-80.6524573034488, 38.32429655482337)},\n",
    "    {\"STUSPS\": \"WV\", \"geometry\": Point(-81.34408231531711, 37.778783760685016)},\n",
    "    {\"STUSPS\": \"WV\", \"geometry\": Point(-80.81851705415528, 38.93856088625672)},\n",
    "    {\"STUSPS\": \"WV\", \"geometry\": Point(-82.12639245765179, 38.0303844199048)},\n",
    "    {\"STUSPS\": \"WV\", \"geometry\": Point(-81.87140125412155, 37.73017720280165)},\n",
    "    {\"STUSPS\": \"WV\", \"geometry\": Point(-77.95699731530108, 39.478028509437614)},\n",
    "    {\"STUSPS\": \"WV\", \"geometry\": Point(-78.97657594235173, 39.051909985001146)},\n",
    "    {\"STUSPS\": \"LA\", \"geometry\": Point(-93.76395047297446, 32.47058586484867)},\n",
    "    {\"STUSPS\": \"MI\", \"geometry\": Point(-84.15183878243023, 45.00671692407967)},\n",
    "    {\"STUSPS\": \"MI\", \"geometry\": Point(-85.85013417117291, 43.90248148309661)},\n",
    "    {\"STUSPS\": \"MI\", \"geometry\": Point(-83.67150025587023, 42.96401501629172)},\n",
    "    {\"STUSPS\": \"MI\", \"geometry\": Point(-87.44101221533134, 46.28105046266114)},\n",
    "    {\"STUSPS\": \"MI\", \"geometry\": Point(-82.88318031315572, 42.58841466960552)},\n",
    "    {\"STUSPS\": \"MA\", \"geometry\": Point(-71.18626068645446, 42.72541329926639)},\n",
    "    {\"STUSPS\": \"FL\", \"geometry\": Point(-81.59554239818982, 30.205655131163144)},\n",
    "    {\"STUSPS\": \"FL\", \"geometry\": Point(-81.33917658649055, 28.320750565121063)},\n",
    "    {\"STUSPS\": \"FL\", \"geometry\": Point(-82.12284721720108, 28.003031236310946)},\n",
    "    {\"STUSPS\": \"FL\", \"geometry\": Point(-87.48824102513714, 30.99405560143657)},\n",
    "    {\"STUSPS\": \"FL\", \"geometry\": Point(-80.0906626441763, 26.651981205561654)},\n",
    "    {\"STUSPS\": \"NE\", \"geometry\": Point(-95.94812667305307, 41.27289078591315)},\n",
    "    {\"STUSPS\": \"NM\", \"geometry\": Point(-106.53191027299363, 35.09541775426459)},\n",
    "    {\"STUSPS\": \"NM\", \"geometry\": Point(-106.46888784413005, 35.38421420277683)},\n",
    "    {\"STUSPS\": \"NM\", \"geometry\": Point(-104.33553810373544, 33.11359236579112)},\n",
    "    {\"STUSPS\": \"NM\", \"geometry\": Point(-104.5237144152589, 33.38200174496823)},\n",
    "    {\"STUSPS\": \"SD\", \"geometry\": Point(-101.24256438653022, 45.00752311992521)},\n",
    "]"
   ]
  },
  {
   "cell_type": "code",
   "execution_count": 108,
   "id": "18ae2460-b508-43b3-ad09-ad036c8d80fe",
   "metadata": {},
   "outputs": [],
   "source": [
    "manually_added_fd_gdf = gpd.GeoDataFrame(added_family_dollars, crs=4326)"
   ]
  },
  {
   "cell_type": "code",
   "execution_count": 109,
   "id": "41b8fd59-b0f1-470c-a5bc-2c6dbef0aeed",
   "metadata": {},
   "outputs": [],
   "source": [
    "family_dollar_with_manual_gdf = gpd.GeoDataFrame(\n",
    "    pd.concat([family_dollar_gdf, manually_added_fd_gdf], ignore_index=True)\n",
    ")"
   ]
  },
  {
   "cell_type": "code",
   "execution_count": 110,
   "id": "30cdf6ab-4324-457b-bfc1-215c1c9fe2ce",
   "metadata": {},
   "outputs": [],
   "source": [
    "family_dollar_with_manual_gdf = family_dollar_with_manual_gdf.to_crs(9311)\n",
    "family_dollar_with_manual_gdf.to_file(f\"data/family_dollars.gpkg\")"
   ]
  },
  {
   "cell_type": "markdown",
   "id": "94cb32a2-faf0-40fa-8616-e8f2275eca72",
   "metadata": {},
   "source": [
    "## Combine With States"
   ]
  },
  {
   "cell_type": "code",
   "execution_count": 116,
   "id": "72400175-b513-4f6a-8cf3-830250156635",
   "metadata": {},
   "outputs": [],
   "source": [
    "family_dollar_state_counts_df = pd.DataFrame(\n",
    "    family_dollar_with_manual_gdf.groupby(\"STUSPS\").size(), columns=[\"FAMILY_DOLLARS\"]\n",
    ").reset_index()"
   ]
  },
  {
   "cell_type": "code",
   "execution_count": 117,
   "id": "c062806b-5f76-4d7e-a226-31383a266b6a",
   "metadata": {},
   "outputs": [],
   "source": [
    "family_dollar_per_states_gdf = states_with_population_df.merge(\n",
    "    family_dollar_state_counts_df, on=\"STUSPS\", how=\"left\"\n",
    ")"
   ]
  },
  {
   "cell_type": "code",
   "execution_count": 119,
   "id": "300ee45e-48b8-48f6-9a3a-efd4904a5efe",
   "metadata": {},
   "outputs": [],
   "source": [
    "family_dollar_per_states_gdf = family_dollar_per_states_gdf.fillna(0)\n",
    "family_dollar_per_states_gdf[\"FAMILY_DOLLARS\"] = family_dollar_per_states_gdf[\n",
    "    \"FAMILY_DOLLARS\"\n",
    "].astype(int)"
   ]
  },
  {
   "cell_type": "code",
   "execution_count": 120,
   "id": "8e8b581c-4e0c-40b8-81a9-4ea014470b40",
   "metadata": {},
   "outputs": [],
   "source": [
    "family_dollar_per_states_gdf[\"per_1000\"] = family_dollar_per_states_gdf[\n",
    "    \"FAMILY_DOLLARS\"\n",
    "] / (family_dollar_per_states_gdf[\"POPULATION\"] / 1000)\n",
    "family_dollar_per_states_gdf[\"per_10k\"] = family_dollar_per_states_gdf[\n",
    "    \"FAMILY_DOLLARS\"\n",
    "] / (family_dollar_per_states_gdf[\"POPULATION\"] / 10_000)\n",
    "family_dollar_per_states_gdf[\"per_100k\"] = family_dollar_per_states_gdf[\n",
    "    \"FAMILY_DOLLARS\"\n",
    "] / (family_dollar_per_states_gdf[\"POPULATION\"] / 100000)\n",
    "family_dollar_per_states_gdf[\"per_500k\"] = family_dollar_per_states_gdf[\n",
    "    \"FAMILY_DOLLARS\"\n",
    "] / (family_dollar_per_states_gdf[\"POPULATION\"] / 500_000)\n",
    "family_dollar_per_states_gdf[\"per_1m\"] = family_dollar_per_states_gdf[\n",
    "    \"FAMILY_DOLLARS\"\n",
    "] / (family_dollar_per_states_gdf[\"POPULATION\"] / 1_000_000)"
   ]
  },
  {
   "cell_type": "code",
   "execution_count": 121,
   "id": "237a0e6a-ccc2-4f3b-baad-d36ce4ecc481",
   "metadata": {},
   "outputs": [],
   "source": [
    "family_dollar_per_states_gdf = family_dollar_per_states_gdf.dropna()"
   ]
  },
  {
   "cell_type": "code",
   "execution_count": 122,
   "id": "944acfaa-313b-4a9f-aecc-53fe95e188be",
   "metadata": {},
   "outputs": [],
   "source": [
    "family_dollar_per_states_gdf = family_dollar_per_states_gdf.to_crs(9311)\n",
    "family_dollar_per_states_gdf.to_file(f\"data/family_dollar_per_state.gpkg\")"
   ]
  },
  {
   "cell_type": "code",
   "execution_count": null,
   "id": "4857fb82-2869-4020-8a57-c1983c9055b6",
   "metadata": {},
   "outputs": [],
   "source": []
  }
 ],
 "metadata": {
  "kernelspec": {
   "display_name": "Python 3 (ipykernel)",
   "language": "python",
   "name": "python3"
  },
  "language_info": {
   "codemirror_mode": {
    "name": "ipython",
    "version": 3
   },
   "file_extension": ".py",
   "mimetype": "text/x-python",
   "name": "python",
   "nbconvert_exporter": "python",
   "pygments_lexer": "ipython3",
   "version": "3.11.11"
  }
 },
 "nbformat": 4,
 "nbformat_minor": 5
}
