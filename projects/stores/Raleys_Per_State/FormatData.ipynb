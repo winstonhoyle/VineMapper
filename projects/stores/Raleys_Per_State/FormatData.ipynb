{
 "cells": [
  {
   "cell_type": "code",
   "execution_count": null,
   "id": "8eca3131-85dc-48b3-b640-f384104e123c",
   "metadata": {},
   "outputs": [],
   "source": [
    "import json"
   ]
  },
  {
   "cell_type": "code",
   "execution_count": null,
   "id": "bc436e38-234d-44fd-b67b-d1f2974606d3",
   "metadata": {},
   "outputs": [],
   "source": [
    "import cloudscraper\n",
    "import geopandas as gpd\n",
    "import pandas as pd"
   ]
  },
  {
   "cell_type": "code",
   "execution_count": 3,
   "id": "13bbdea5-6ae9-4a3a-937a-12bb704da0f4",
   "metadata": {},
   "outputs": [],
   "source": [
    "from shapely.geometry import Point\n",
    "from tqdm.notebook import tqdm"
   ]
  },
  {
   "cell_type": "markdown",
   "id": "44a3df26-78d3-479c-99a2-c0e1ba91352e",
   "metadata": {},
   "source": [
    "## Get State Data"
   ]
  },
  {
   "cell_type": "code",
   "execution_count": 4,
   "id": "615eeabf-033b-425a-a81f-d7b4dd9e3a3e",
   "metadata": {},
   "outputs": [],
   "source": [
    "file_path = \"data/cb_2018_us_state_500k/cb_2018_us_state_500k.shp\"\n",
    "states_df = gpd.read_file(file_path)"
   ]
  },
  {
   "cell_type": "code",
   "execution_count": 5,
   "id": "502c6bfe-0912-4d37-95b0-47e7a14b468f",
   "metadata": {},
   "outputs": [],
   "source": [
    "states_df = states_df[[\"STUSPS\", \"NAME\", \"geometry\"]]"
   ]
  },
  {
   "cell_type": "markdown",
   "id": "4257620c-13d7-4071-bae2-a5a2aeae5ba7",
   "metadata": {},
   "source": [
    "## Get Population data"
   ]
  },
  {
   "cell_type": "code",
   "execution_count": 6,
   "id": "6c0e7a1d-5a9a-4c10-a5d4-28dc681a8a27",
   "metadata": {},
   "outputs": [],
   "source": [
    "state_populations = pd.read_excel(\n",
    "    \"data/NST-EST2024-POP.xlsx\", sheet_name=None, engine=\"openpyxl\"\n",
    ")"
   ]
  },
  {
   "cell_type": "code",
   "execution_count": 7,
   "id": "2614c2ab-96ec-4304-a287-6fd013fedbbb",
   "metadata": {},
   "outputs": [],
   "source": [
    "state_populations_df = state_populations[\"NST-EST2024-POP\"][\n",
    "    [\n",
    "        \"table with row headers in column A and column headers in rows 3 through 4. (leading dots indicate sub-parts)\",\n",
    "        \"Unnamed: 5\",\n",
    "    ]\n",
    "]\n",
    "state_populations_df = state_populations_df.rename(\n",
    "    columns={\n",
    "        \"table with row headers in column A and column headers in rows 3 through 4. (leading dots indicate sub-parts)\": \"NAME\",\n",
    "        \"Unnamed: 5\": \"POPULATION\",\n",
    "    }\n",
    ")\n",
    "state_populations_df[\"NAME\"] = state_populations_df[\"NAME\"].str[1:]"
   ]
  },
  {
   "cell_type": "code",
   "execution_count": 8,
   "id": "2a1a8b6e-a0bf-486b-b62e-46a23ca718e2",
   "metadata": {},
   "outputs": [],
   "source": [
    "states_with_population_df = states_df.merge(state_populations_df, on=\"NAME\", how=\"left\")\n",
    "states_with_population_df = states_with_population_df[\n",
    "    [\"STUSPS\", \"NAME\", \"POPULATION\", \"geometry\"]\n",
    "]"
   ]
  },
  {
   "cell_type": "markdown",
   "id": "6d2f1ce9-a36c-4292-99a0-ad42032c5ad4",
   "metadata": {},
   "source": [
    "## Get Raley's Data"
   ]
  },
  {
   "cell_type": "code",
   "execution_count": 12,
   "id": "9faa75ce-1dcd-44bc-84f2-6eb1011f9727",
   "metadata": {},
   "outputs": [],
   "source": [
    "scraper = cloudscraper.create_scraper()"
   ]
  },
  {
   "cell_type": "code",
   "execution_count": 43,
   "id": "738aa196-05f2-48bf-b3f7-ebfc7e2507ea",
   "metadata": {},
   "outputs": [],
   "source": [
    "url = \"https://www.raleys.com/api/store\"\n",
    "headers = {\n",
    "    \"accept\": \"application/json, text/plain, */*\",\n",
    "    \"accept-language\": \"en-US,en;q=0.9,ru-RU;q=0.8,ru;q=0.7\",\n",
    "    \"content-type\": \"application/json\",\n",
    "    \"priority\": \"u=1, i\",\n",
    "    \"request-id\": \"|600220e7299d4632942091e3d5cc84e1.76fb5acc74ef47b5\",\n",
    "    \"sec-ch-ua\": '\"Google Chrome\";v=\"135\", \"Not-A.Brand\";v=\"8\", \"Chromium\";v=\"135\"',\n",
    "    \"sec-ch-ua-mobile\": \"?0\",\n",
    "    \"sec-ch-ua-platform\": '\"Windows\"',\n",
    "    \"sec-fetch-dest\": \"empty\",\n",
    "    \"sec-fetch-mode\": \"cors\",\n",
    "    \"sec-fetch-site\": \"same-origin\",\n",
    "    \"traceparent\": \"00-600220e7299d4632942091e3d5cc84e1-76fb5acc74ef47b5-01\",\n",
    "    \"x-csrf-token\": \"5f0a22add84aa57769510b7710061a35dbf6f10531590751dc0094a46fc0401c\",\n",
    "    \"x-referrer-path\": \"\",\n",
    "    \"x-url-path\": \"/stores\",\n",
    "    \"cookie\": \"\",  # Get cookie from https://www.raleys.com/stores\n",
    "    \"Referer\": \"https://www.raleys.com/stores\",\n",
    "    \"Referrer-Policy\": \"strict-origin-when-cross-origin\",\n",
    "}\n",
    "body = {\n",
    "    \"offset\": 0,\n",
    "    \"rows\": 200,\n",
    "    \"searchParameter\": {\n",
    "        \"shippingMethod\": \"pickup\",\n",
    "        \"searchString\": \"\",\n",
    "        \"latitude\": \"\",\n",
    "        \"longitude\": \"\",\n",
    "        \"maxMiles\": 99999,\n",
    "        \"departmentIds\": [],\n",
    "    },\n",
    "}"
   ]
  },
  {
   "cell_type": "code",
   "execution_count": 44,
   "id": "77500f48-4cd6-4c51-9d9a-cfa34ff892e5",
   "metadata": {},
   "outputs": [],
   "source": [
    "r = scraper.post(url, headers=headers, data=json.dumps(body))"
   ]
  },
  {
   "cell_type": "code",
   "execution_count": 48,
   "id": "55d72944-c707-454a-9b9f-92a67c5181da",
   "metadata": {},
   "outputs": [],
   "source": [
    "stores_json = r.json()[\"data\"]"
   ]
  },
  {
   "cell_type": "code",
   "execution_count": 56,
   "id": "9eb70c2a-6567-4714-98b8-28cefeeb8ff0",
   "metadata": {},
   "outputs": [],
   "source": [
    "store_dicts = []\n",
    "for store in stores_json:\n",
    "    state_code = store[\"address\"][\"state\"]\n",
    "    brand = store[\"brand\"][\"name\"]\n",
    "    point = Point(store[\"coordinates\"][\"longitude\"], store[\"coordinates\"][\"latitude\"])\n",
    "    store_dict = {\"geometry\": point, \"brand\": brand, \"STUSPS\": state_code}\n",
    "    store_dicts.append(store_dict)"
   ]
  },
  {
   "cell_type": "code",
   "execution_count": 57,
   "id": "793b5d7f-944b-49ee-abe5-ab608ca25331",
   "metadata": {},
   "outputs": [],
   "source": [
    "raleys_gdf = gpd.GeoDataFrame(store_dicts, crs=4326)"
   ]
  },
  {
   "cell_type": "code",
   "execution_count": 58,
   "id": "9a128988-170d-433c-8b71-a5a28938d553",
   "metadata": {},
   "outputs": [],
   "source": [
    "raleys_gdf.to_file(\"data/raleys.gpkg\")"
   ]
  },
  {
   "cell_type": "code",
   "execution_count": 62,
   "id": "c439c79a-34ce-4078-87fe-6f0fe27732f5",
   "metadata": {},
   "outputs": [],
   "source": [
    "raleys_counts_df = (\n",
    "    pd.DataFrame(raleys_gdf.groupby(\"STUSPS\").size())\n",
    "    .reset_index()\n",
    "    .rename(columns={0: \"stores\"})\n",
    ")"
   ]
  },
  {
   "cell_type": "markdown",
   "id": "94cb32a2-faf0-40fa-8616-e8f2275eca72",
   "metadata": {},
   "source": [
    "## Combine With States"
   ]
  },
  {
   "cell_type": "code",
   "execution_count": 65,
   "id": "c062806b-5f76-4d7e-a226-31383a266b6a",
   "metadata": {},
   "outputs": [],
   "source": [
    "raleys_counts_gdf = states_with_population_df.merge(\n",
    "    raleys_counts_df, on=\"STUSPS\", how=\"left\"\n",
    ")"
   ]
  },
  {
   "cell_type": "code",
   "execution_count": 66,
   "id": "300ee45e-48b8-48f6-9a3a-efd4904a5efe",
   "metadata": {},
   "outputs": [],
   "source": [
    "raleys_counts_gdf = raleys_counts_gdf.fillna(0)\n",
    "raleys_counts_gdf[\"stores\"] = raleys_counts_gdf[\"stores\"].astype(int)"
   ]
  },
  {
   "cell_type": "code",
   "execution_count": 67,
   "id": "8e8b581c-4e0c-40b8-81a9-4ea014470b40",
   "metadata": {},
   "outputs": [],
   "source": [
    "raleys_counts_gdf[\"per_100k\"] = raleys_counts_gdf[\"stores\"] / (\n",
    "    raleys_counts_gdf[\"POPULATION\"] / 100000\n",
    ")\n",
    "raleys_counts_gdf[\"per_1m\"] = raleys_counts_gdf[\"stores\"] / (\n",
    "    raleys_counts_gdf[\"POPULATION\"] / 1_000_000\n",
    ")"
   ]
  },
  {
   "cell_type": "code",
   "execution_count": 68,
   "id": "237a0e6a-ccc2-4f3b-baad-d36ce4ecc481",
   "metadata": {},
   "outputs": [],
   "source": [
    "raleys_counts_gdf = raleys_counts_gdf.fillna(0)"
   ]
  },
  {
   "cell_type": "code",
   "execution_count": 69,
   "id": "944acfaa-313b-4a9f-aecc-53fe95e188be",
   "metadata": {},
   "outputs": [],
   "source": [
    "raleys_counts_gdf = raleys_counts_gdf.to_crs(9311)\n",
    "raleys_counts_gdf.to_file(f\"data/raleys_per_states.gpkg\")"
   ]
  },
  {
   "cell_type": "code",
   "execution_count": null,
   "id": "3eba1b99-001c-4de4-9fe1-1a06ea51e118",
   "metadata": {},
   "outputs": [],
   "source": []
  }
 ],
 "metadata": {
  "kernelspec": {
   "display_name": "Python 3 (ipykernel)",
   "language": "python",
   "name": "python3"
  },
  "language_info": {
   "codemirror_mode": {
    "name": "ipython",
    "version": 3
   },
   "file_extension": ".py",
   "mimetype": "text/x-python",
   "name": "python",
   "nbconvert_exporter": "python",
   "pygments_lexer": "ipython3",
   "version": "3.11.11"
  }
 },
 "nbformat": 4,
 "nbformat_minor": 5
}
