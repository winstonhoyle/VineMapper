{
 "cells": [
  {
   "cell_type": "code",
   "execution_count": 2,
   "id": "6d23ec7a-bf7c-440a-b151-c305d8c3d859",
   "metadata": {},
   "outputs": [],
   "source": [
    "import geopandas as gpd"
   ]
  },
  {
   "cell_type": "markdown",
   "id": "82d8ce5f-5909-422b-bfbe-d7c91a31ec8e",
   "metadata": {},
   "source": [
    "## Open GIS Data"
   ]
  },
  {
   "cell_type": "code",
   "execution_count": 63,
   "id": "93e3146c-8ac0-476c-8750-0de12133bf5e",
   "metadata": {},
   "outputs": [],
   "source": [
    "file_path = \"data/cb_2018_us_state_500k/cb_2018_us_state_500k.shp\"\n",
    "states_df = gpd.read_file(file_path)"
   ]
  },
  {
   "cell_type": "code",
   "execution_count": 64,
   "id": "8bc2c1a2-8171-447c-b370-141830e70e0c",
   "metadata": {},
   "outputs": [],
   "source": [
    "states_df = states_df[\n",
    "    ~states_df[\"STUSPS\"].isin([\"GU\", \"PR\", \"HI\", \"AK\", \"DC\", \"VI\", \"MP\"])\n",
    "]"
   ]
  },
  {
   "cell_type": "code",
   "execution_count": 66,
   "id": "8a4d8fab-240d-4c11-8b8a-c1a925f0cee8",
   "metadata": {},
   "outputs": [],
   "source": [
    "states_df = states_df.sort_values(\"AWATER\")\n",
    "states_df = states_df.reset_index()"
   ]
  },
  {
   "cell_type": "markdown",
   "id": "766f195e-1ef1-4620-959d-3afb036a9f58",
   "metadata": {},
   "source": [
    "## Apply theorem "
   ]
  },
  {
   "cell_type": "code",
   "execution_count": 67,
   "id": "e218d6c8-10cc-4ee0-8214-3eed3570d9b4",
   "metadata": {},
   "outputs": [],
   "source": [
    "colors = [\"#FF0000\", \"#0000FF\", \"#00FF00\", \"#FFFF00\"]"
   ]
  },
  {
   "cell_type": "code",
   "execution_count": 68,
   "id": "635dce83-1a8e-4208-8c79-0a3202043823",
   "metadata": {},
   "outputs": [],
   "source": [
    "neighbors = {}\n",
    "for idx in range(len(states_df)):\n",
    "    geometry = states_df.iloc[idx][\"geometry\"]\n",
    "    neighbors[idx] = states_df[states_df.geometry.touches(geometry)].index.tolist()"
   ]
  },
  {
   "cell_type": "code",
   "execution_count": 69,
   "id": "d8a22aaa-3054-4e11-b763-9ef596096ae3",
   "metadata": {},
   "outputs": [],
   "source": [
    "states_df[\"color\"] = None"
   ]
  },
  {
   "cell_type": "code",
   "execution_count": 71,
   "id": "5e568f6b-8bbe-4922-b538-bcb5670bf347",
   "metadata": {},
   "outputs": [],
   "source": [
    "for idx in states_df.index:\n",
    "    neighbor_colors = {\n",
    "        states_df.loc[neighbor, \"color\"]\n",
    "        for neighbor in neighbors[idx]\n",
    "        if states_df.loc[neighbor, \"color\"] is not None\n",
    "    }\n",
    "    available_colors = [color for color in colors if color not in neighbor_colors]\n",
    "    states_df.at[idx, \"color\"] = available_colors[0] if available_colors else None"
   ]
  },
  {
   "cell_type": "markdown",
   "id": "3e650712-505c-46f3-9311-7aa8d9202632",
   "metadata": {},
   "source": [
    "## Open Dollar General Data"
   ]
  },
  {
   "cell_type": "code",
   "execution_count": 72,
   "id": "a9a90591-a7fc-42bd-b9fd-8f960a7cceb9",
   "metadata": {},
   "outputs": [],
   "source": [
    "file_path = \"data/stores.gpkg\"\n",
    "stores_df = gpd.read_file(file_path)"
   ]
  },
  {
   "cell_type": "code",
   "execution_count": 73,
   "id": "d9f32e68-fd72-42db-82d0-0d6b7d9857f1",
   "metadata": {},
   "outputs": [],
   "source": [
    "states_color_df = states_df[[\"STUSPS\", \"color\"]].rename(columns={\"STUSPS\": \"STATE\"})"
   ]
  },
  {
   "cell_type": "code",
   "execution_count": 75,
   "id": "31da79cf-fe00-491e-bfe0-a2cd8e7097a8",
   "metadata": {},
   "outputs": [],
   "source": [
    "stores_with_colors_gdf = stores_df.merge(states_color_df, on=\"STATE\", how=\"left\")"
   ]
  },
  {
   "cell_type": "code",
   "execution_count": 76,
   "id": "8e20e0ac-9273-4e89-ab45-8c55833f5120",
   "metadata": {},
   "outputs": [],
   "source": [
    "stores_with_colors_gdf.to_file(\"data/states_colors.gpkg\")"
   ]
  },
  {
   "cell_type": "code",
   "execution_count": null,
   "id": "22657fc0-1cb7-4c73-9089-4965a4229f01",
   "metadata": {},
   "outputs": [],
   "source": []
  }
 ],
 "metadata": {
  "kernelspec": {
   "display_name": "Python 3 (ipykernel)",
   "language": "python",
   "name": "python3"
  },
  "language_info": {
   "codemirror_mode": {
    "name": "ipython",
    "version": 3
   },
   "file_extension": ".py",
   "mimetype": "text/x-python",
   "name": "python",
   "nbconvert_exporter": "python",
   "pygments_lexer": "ipython3",
   "version": "3.11.11"
  }
 },
 "nbformat": 4,
 "nbformat_minor": 5
}
