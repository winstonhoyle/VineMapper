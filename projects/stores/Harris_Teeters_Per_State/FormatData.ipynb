{
 "cells": [
  {
   "cell_type": "code",
   "execution_count": 57,
   "id": "6aa0827c-59f2-481e-a871-e5ea56cf4aea",
   "metadata": {},
   "outputs": [],
   "source": [
    "import json\n",
    "import os\n",
    "import random\n",
    "import time"
   ]
  },
  {
   "cell_type": "code",
   "execution_count": 58,
   "id": "bc436e38-234d-44fd-b67b-d1f2974606d3",
   "metadata": {},
   "outputs": [],
   "source": [
    "import h3\n",
    "import geopandas as gpd\n",
    "import pandas as pd"
   ]
  },
  {
   "cell_type": "code",
   "execution_count": 59,
   "id": "0465bb74-de29-42f8-a656-097d407e8fe4",
   "metadata": {},
   "outputs": [],
   "source": [
    "from kroger_api import KrogerAPI\n",
    "from kroger_api.utils.env import load_and_validate_env, get_zip_code\n",
    "from shapely.geometry import Point\n",
    "from tqdm.notebook import tqdm"
   ]
  },
  {
   "cell_type": "markdown",
   "id": "44a3df26-78d3-479c-99a2-c0e1ba91352e",
   "metadata": {},
   "source": [
    "## Get State Data"
   ]
  },
  {
   "cell_type": "code",
   "execution_count": 60,
   "id": "615eeabf-033b-425a-a81f-d7b4dd9e3a3e",
   "metadata": {},
   "outputs": [],
   "source": [
    "file_path = \"data/cb_2018_us_state_500k/cb_2018_us_state_500k.shp\"\n",
    "states_df = gpd.read_file(file_path)"
   ]
  },
  {
   "cell_type": "code",
   "execution_count": 61,
   "id": "502c6bfe-0912-4d37-95b0-47e7a14b468f",
   "metadata": {},
   "outputs": [],
   "source": [
    "states_df = states_df[[\"STUSPS\", \"NAME\", \"geometry\"]]"
   ]
  },
  {
   "cell_type": "markdown",
   "id": "4257620c-13d7-4071-bae2-a5a2aeae5ba7",
   "metadata": {},
   "source": [
    "## Get Population data"
   ]
  },
  {
   "cell_type": "code",
   "execution_count": 62,
   "id": "6c0e7a1d-5a9a-4c10-a5d4-28dc681a8a27",
   "metadata": {},
   "outputs": [],
   "source": [
    "state_populations = pd.read_excel(\n",
    "    \"data/NST-EST2024-POP.xlsx\", sheet_name=None, engine=\"openpyxl\"\n",
    ")"
   ]
  },
  {
   "cell_type": "code",
   "execution_count": 63,
   "id": "2614c2ab-96ec-4304-a287-6fd013fedbbb",
   "metadata": {},
   "outputs": [],
   "source": [
    "state_populations_df = state_populations[\"NST-EST2024-POP\"][\n",
    "    [\n",
    "        \"table with row headers in column A and column headers in rows 3 through 4. (leading dots indicate sub-parts)\",\n",
    "        \"Unnamed: 5\",\n",
    "    ]\n",
    "]\n",
    "state_populations_df = state_populations_df.rename(\n",
    "    columns={\n",
    "        \"table with row headers in column A and column headers in rows 3 through 4. (leading dots indicate sub-parts)\": \"NAME\",\n",
    "        \"Unnamed: 5\": \"POPULATION\",\n",
    "    }\n",
    ")\n",
    "state_populations_df[\"NAME\"] = state_populations_df[\"NAME\"].str[1:]"
   ]
  },
  {
   "cell_type": "code",
   "execution_count": 64,
   "id": "2a1a8b6e-a0bf-486b-b62e-46a23ca718e2",
   "metadata": {},
   "outputs": [],
   "source": [
    "states_with_population_df = states_df.merge(state_populations_df, on=\"NAME\", how=\"left\")\n",
    "states_with_population_df = states_with_population_df[\n",
    "    [\"STUSPS\", \"NAME\", \"POPULATION\", \"geometry\"]\n",
    "]"
   ]
  },
  {
   "cell_type": "markdown",
   "id": "6d2f1ce9-a36c-4292-99a0-ad42032c5ad4",
   "metadata": {},
   "source": [
    "## Get Store Data"
   ]
  },
  {
   "cell_type": "code",
   "execution_count": 9,
   "id": "dbe2bbe6-d360-455e-97f8-10363bd5baef",
   "metadata": {},
   "outputs": [],
   "source": [
    "load_and_validate_env([\"KROGER_CLIENT_ID\", \"KROGER_CLIENT_SECRET\"])\n",
    "zip_code = get_zip_code(default=\"10001\")"
   ]
  },
  {
   "cell_type": "code",
   "execution_count": 10,
   "id": "b3180f32-cf39-4a2d-847a-a30b7c9b5b5e",
   "metadata": {},
   "outputs": [
    {
     "name": "stdout",
     "output_type": "stream",
     "text": [
      "Found saved token, will test if it's still valid...\n",
      "Token appears invalid, requesting a new one\n"
     ]
    }
   ],
   "source": [
    "kroger = KrogerAPI()\n",
    "token_info = kroger.authorization.get_token_with_client_credentials(\"product.compact\")"
   ]
  },
  {
   "cell_type": "code",
   "execution_count": 11,
   "id": "5944589b-703a-446f-9c97-cec216148472",
   "metadata": {},
   "outputs": [],
   "source": [
    "res = 3\n",
    "distance = 0.5\n",
    "\n",
    "usa_geom = states_df[~states_df[\"STUSPS\"].isin([\"PR\", \"VI\", \"GU\", \"MP\", \"AS\"])][\n",
    "    \"geometry\"\n",
    "].union_all()\n",
    "\n",
    "h3_shape = h3.geo_to_h3shape(usa_geom.buffer(distance=distance))\n",
    "h3_cells = h3.h3shape_to_cells(h3_shape, res=res)\n",
    "geojson = h3.cells_to_geo(h3_cells)"
   ]
  },
  {
   "cell_type": "code",
   "execution_count": 12,
   "id": "5f7fe784-44ef-4258-8e05-4af0f74415d5",
   "metadata": {},
   "outputs": [
    {
     "data": {
      "application/vnd.jupyter.widget-view+json": {
       "model_id": "4bf53022675643aba21e451c87572d2c",
       "version_major": 2,
       "version_minor": 0
      },
      "text/plain": [
       "Parsing Stores:   0%|          | 0/911 [00:00<?, ?it/s]"
      ]
     },
     "metadata": {},
     "output_type": "display_data"
    }
   ],
   "source": [
    "stores = []\n",
    "for cell in tqdm(h3_cells, desc=\"Parsing Stores\"):\n",
    "    lat, lng = h3.cell_to_latlng(cell)\n",
    "    locations = kroger.location.search_locations(\n",
    "        lat=lat, lon=lng, radius_in_miles=100, limit=200\n",
    "    )\n",
    "    if len(locations[\"data\"]):\n",
    "        for location in locations[\"data\"]:\n",
    "            location[\"geometry\"] = Point(\n",
    "                location[\"geolocation\"][\"longitude\"],\n",
    "                location[\"geolocation\"][\"latitude\"],\n",
    "            )\n",
    "            location[\"STUSPS\"] = location[\"address\"][\"state\"]\n",
    "            stores.append(location)\n",
    "    else:\n",
    "        continue\n",
    "    time.sleep(random.uniform(0.01, 0.5))"
   ]
  },
  {
   "cell_type": "code",
   "execution_count": 45,
   "id": "451a17e6-bd9c-4162-b5f0-5e41e6c677ab",
   "metadata": {},
   "outputs": [],
   "source": [
    "stores_gdf = gpd.GeoDataFrame(stores, crs=4326)\n",
    "stores_gdf = stores_gdf.drop_duplicates(\"locationId\")\n",
    "stores_gdf.to_file(\"data/all_stores.gpkg\")"
   ]
  },
  {
   "cell_type": "code",
   "execution_count": 65,
   "id": "e897c4a8-9f11-429d-b20d-b2b40635b194",
   "metadata": {},
   "outputs": [],
   "source": [
    "stores_gdf = gpd.read_file(\"data/stores.gpkg\")"
   ]
  },
  {
   "cell_type": "code",
   "execution_count": 70,
   "id": "c6d4d392-f623-46e8-865a-8d922f0339d9",
   "metadata": {},
   "outputs": [],
   "source": [
    "stores_gdf = stores_gdf[stores_gdf[\"name\"].str.split(\" - \").str[0] == \"Harris Teeter\"]"
   ]
  },
  {
   "cell_type": "code",
   "execution_count": 71,
   "id": "68cf2788-c243-4854-9378-7878a2f6103d",
   "metadata": {},
   "outputs": [],
   "source": [
    "ht_gdf = stores_gdf[stores_gdf[\"chain\"] == \"HART\"]\n",
    "ht_gdf = ht_gdf[~ht_gdf[\"phone\"].isna()].reset_index(drop=True)\n",
    "ht_gdf.to_file(\"data/stores.gpkg\")"
   ]
  },
  {
   "cell_type": "code",
   "execution_count": 72,
   "id": "e519e82a-94fc-4385-9a34-3dae667935bd",
   "metadata": {},
   "outputs": [],
   "source": [
    "ht_count_df = ht_gdf.groupby(\"STUSPS\").size().reset_index(name=\"COUNT\")"
   ]
  },
  {
   "cell_type": "markdown",
   "id": "94cb32a2-faf0-40fa-8616-e8f2275eca72",
   "metadata": {},
   "source": [
    "## Combine With States"
   ]
  },
  {
   "cell_type": "code",
   "execution_count": 73,
   "id": "c062806b-5f76-4d7e-a226-31383a266b6a",
   "metadata": {},
   "outputs": [],
   "source": [
    "store_count_gdf = states_with_population_df.merge(ht_count_df, on=\"STUSPS\", how=\"left\")"
   ]
  },
  {
   "cell_type": "code",
   "execution_count": 74,
   "id": "300ee45e-48b8-48f6-9a3a-efd4904a5efe",
   "metadata": {},
   "outputs": [],
   "source": [
    "store_count_gdf = store_count_gdf.dropna()"
   ]
  },
  {
   "cell_type": "code",
   "execution_count": 78,
   "id": "8e8b581c-4e0c-40b8-81a9-4ea014470b40",
   "metadata": {},
   "outputs": [],
   "source": [
    "store_count_gdf[\"per_100k\"] = (\n",
    "    store_count_gdf[\"COUNT\"] / (store_count_gdf[\"POPULATION\"] / 100_000)\n",
    ").round(decimals=2)\n",
    "store_count_gdf[\"per_1m\"] = (\n",
    "    store_count_gdf[\"COUNT\"] / (store_count_gdf[\"POPULATION\"] / 1_000_000)\n",
    ").round(decimals=2)"
   ]
  },
  {
   "cell_type": "code",
   "execution_count": 79,
   "id": "944acfaa-313b-4a9f-aecc-53fe95e188be",
   "metadata": {},
   "outputs": [],
   "source": [
    "store_count_gdf = store_count_gdf.to_crs(9311)\n",
    "store_count_gdf.to_file(f\"data/Harris_Teeters_Per_State.gpkg\")"
   ]
  },
  {
   "cell_type": "code",
   "execution_count": 80,
   "id": "8a23d1fa-408d-4071-9513-e5b0da2e5cfc",
   "metadata": {},
   "outputs": [
    {
     "data": {
      "text/html": [
       "<div>\n",
       "<style scoped>\n",
       "    .dataframe tbody tr th:only-of-type {\n",
       "        vertical-align: middle;\n",
       "    }\n",
       "\n",
       "    .dataframe tbody tr th {\n",
       "        vertical-align: top;\n",
       "    }\n",
       "\n",
       "    .dataframe thead th {\n",
       "        text-align: right;\n",
       "    }\n",
       "</style>\n",
       "<table border=\"1\" class=\"dataframe\">\n",
       "  <thead>\n",
       "    <tr style=\"text-align: right;\">\n",
       "      <th></th>\n",
       "      <th>STUSPS</th>\n",
       "      <th>NAME</th>\n",
       "      <th>POPULATION</th>\n",
       "      <th>geometry</th>\n",
       "      <th>COUNT</th>\n",
       "      <th>per_100k</th>\n",
       "      <th>per_1m</th>\n",
       "    </tr>\n",
       "  </thead>\n",
       "  <tbody>\n",
       "    <tr>\n",
       "      <th>1</th>\n",
       "      <td>NC</td>\n",
       "      <td>North Carolina</td>\n",
       "      <td>10881189.0</td>\n",
       "      <td>MULTIPOLYGON (((2154808.027 -692253.992, 21554...</td>\n",
       "      <td>151.0</td>\n",
       "      <td>1.39</td>\n",
       "      <td>13.88</td>\n",
       "    </tr>\n",
       "    <tr>\n",
       "      <th>3</th>\n",
       "      <td>VA</td>\n",
       "      <td>Virginia</td>\n",
       "      <td>8734685.0</td>\n",
       "      <td>MULTIPOLYGON (((2098153.247 -490400.387, 20981...</td>\n",
       "      <td>53.0</td>\n",
       "      <td>0.61</td>\n",
       "      <td>6.07</td>\n",
       "    </tr>\n",
       "    <tr>\n",
       "      <th>9</th>\n",
       "      <td>FL</td>\n",
       "      <td>Florida</td>\n",
       "      <td>22904868.0</td>\n",
       "      <td>MULTIPOLYGON (((1997726.172 -1929592.915, 1997...</td>\n",
       "      <td>1.0</td>\n",
       "      <td>0.00</td>\n",
       "      <td>0.04</td>\n",
       "    </tr>\n",
       "    <tr>\n",
       "      <th>18</th>\n",
       "      <td>GA</td>\n",
       "      <td>Georgia</td>\n",
       "      <td>11064432.0</td>\n",
       "      <td>MULTIPOLYGON (((1774018.899 -1324581.179, 1774...</td>\n",
       "      <td>1.0</td>\n",
       "      <td>0.01</td>\n",
       "      <td>0.09</td>\n",
       "    </tr>\n",
       "    <tr>\n",
       "      <th>33</th>\n",
       "      <td>SC</td>\n",
       "      <td>South Carolina</td>\n",
       "      <td>5387830.0</td>\n",
       "      <td>MULTIPOLYGON (((1898434.953 -1099843.186, 1898...</td>\n",
       "      <td>30.0</td>\n",
       "      <td>0.56</td>\n",
       "      <td>5.57</td>\n",
       "    </tr>\n",
       "    <tr>\n",
       "      <th>36</th>\n",
       "      <td>DC</td>\n",
       "      <td>District of Columbia</td>\n",
       "      <td>687324.0</td>\n",
       "      <td>POLYGON ((1950799.304 -402452.215, 1951231.574...</td>\n",
       "      <td>3.0</td>\n",
       "      <td>0.44</td>\n",
       "      <td>4.36</td>\n",
       "    </tr>\n",
       "    <tr>\n",
       "      <th>40</th>\n",
       "      <td>MD</td>\n",
       "      <td>Maryland</td>\n",
       "      <td>6217062.0</td>\n",
       "      <td>MULTIPOLYGON (((2067172.995 -478871.787, 20670...</td>\n",
       "      <td>18.0</td>\n",
       "      <td>0.29</td>\n",
       "      <td>2.90</td>\n",
       "    </tr>\n",
       "    <tr>\n",
       "      <th>43</th>\n",
       "      <td>DE</td>\n",
       "      <td>Delaware</td>\n",
       "      <td>1036423.0</td>\n",
       "      <td>MULTIPOLYGON (((2060773.554 -301785.14, 206090...</td>\n",
       "      <td>2.0</td>\n",
       "      <td>0.19</td>\n",
       "      <td>1.93</td>\n",
       "    </tr>\n",
       "  </tbody>\n",
       "</table>\n",
       "</div>"
      ],
      "text/plain": [
       "   STUSPS                  NAME  POPULATION  \\\n",
       "1      NC        North Carolina  10881189.0   \n",
       "3      VA              Virginia   8734685.0   \n",
       "9      FL               Florida  22904868.0   \n",
       "18     GA               Georgia  11064432.0   \n",
       "33     SC        South Carolina   5387830.0   \n",
       "36     DC  District of Columbia    687324.0   \n",
       "40     MD              Maryland   6217062.0   \n",
       "43     DE              Delaware   1036423.0   \n",
       "\n",
       "                                             geometry  COUNT  per_100k  per_1m  \n",
       "1   MULTIPOLYGON (((2154808.027 -692253.992, 21554...  151.0      1.39   13.88  \n",
       "3   MULTIPOLYGON (((2098153.247 -490400.387, 20981...   53.0      0.61    6.07  \n",
       "9   MULTIPOLYGON (((1997726.172 -1929592.915, 1997...    1.0      0.00    0.04  \n",
       "18  MULTIPOLYGON (((1774018.899 -1324581.179, 1774...    1.0      0.01    0.09  \n",
       "33  MULTIPOLYGON (((1898434.953 -1099843.186, 1898...   30.0      0.56    5.57  \n",
       "36  POLYGON ((1950799.304 -402452.215, 1951231.574...    3.0      0.44    4.36  \n",
       "40  MULTIPOLYGON (((2067172.995 -478871.787, 20670...   18.0      0.29    2.90  \n",
       "43  MULTIPOLYGON (((2060773.554 -301785.14, 206090...    2.0      0.19    1.93  "
      ]
     },
     "execution_count": 80,
     "metadata": {},
     "output_type": "execute_result"
    }
   ],
   "source": [
    "store_count_gdf"
   ]
  },
  {
   "cell_type": "code",
   "execution_count": null,
   "id": "611d2061-f3f3-4837-9894-afe1053216ad",
   "metadata": {},
   "outputs": [],
   "source": []
  },
  {
   "cell_type": "code",
   "execution_count": null,
   "id": "22ce3fe4-325e-425b-89c3-86620780e730",
   "metadata": {},
   "outputs": [],
   "source": []
  }
 ],
 "metadata": {
  "kernelspec": {
   "display_name": "Python 3 (ipykernel)",
   "language": "python",
   "name": "python3"
  },
  "language_info": {
   "codemirror_mode": {
    "name": "ipython",
    "version": 3
   },
   "file_extension": ".py",
   "mimetype": "text/x-python",
   "name": "python",
   "nbconvert_exporter": "python",
   "pygments_lexer": "ipython3",
   "version": "3.11.13"
  }
 },
 "nbformat": 4,
 "nbformat_minor": 5
}
