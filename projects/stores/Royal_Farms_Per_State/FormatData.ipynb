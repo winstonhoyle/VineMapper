{
 "cells": [
  {
   "cell_type": "code",
   "execution_count": 1,
   "id": "6aa0827c-59f2-481e-a871-e5ea56cf4aea",
   "metadata": {},
   "outputs": [],
   "source": [
    "import json\n",
    "import os\n",
    "import random\n",
    "import time"
   ]
  },
  {
   "cell_type": "code",
   "execution_count": 2,
   "id": "bc436e38-234d-44fd-b67b-d1f2974606d3",
   "metadata": {},
   "outputs": [],
   "source": [
    "import cloudscraper\n",
    "import geojson\n",
    "import geopandas as gpd\n",
    "import h3\n",
    "import pandas as pd"
   ]
  },
  {
   "cell_type": "code",
   "execution_count": 3,
   "id": "4b033051-09a6-4072-a766-bb98cf8d57b5",
   "metadata": {},
   "outputs": [],
   "source": [
    "from shapely.geometry import Point\n",
    "from tqdm.notebook import tqdm"
   ]
  },
  {
   "cell_type": "markdown",
   "id": "44a3df26-78d3-479c-99a2-c0e1ba91352e",
   "metadata": {},
   "source": [
    "## Get State Data"
   ]
  },
  {
   "cell_type": "code",
   "execution_count": 4,
   "id": "615eeabf-033b-425a-a81f-d7b4dd9e3a3e",
   "metadata": {},
   "outputs": [],
   "source": [
    "file_path = \"data/cb_2018_us_state_500k/cb_2018_us_state_500k.shp\"\n",
    "states_df = gpd.read_file(file_path)"
   ]
  },
  {
   "cell_type": "code",
   "execution_count": 5,
   "id": "502c6bfe-0912-4d37-95b0-47e7a14b468f",
   "metadata": {},
   "outputs": [],
   "source": [
    "states_df = states_df[[\"STUSPS\", \"NAME\", \"geometry\"]]"
   ]
  },
  {
   "cell_type": "markdown",
   "id": "4257620c-13d7-4071-bae2-a5a2aeae5ba7",
   "metadata": {},
   "source": [
    "## Get Population data"
   ]
  },
  {
   "cell_type": "code",
   "execution_count": 6,
   "id": "6c0e7a1d-5a9a-4c10-a5d4-28dc681a8a27",
   "metadata": {},
   "outputs": [],
   "source": [
    "state_populations = pd.read_excel(\n",
    "    \"data/NST-EST2024-POP.xlsx\", sheet_name=None, engine=\"openpyxl\"\n",
    ")"
   ]
  },
  {
   "cell_type": "code",
   "execution_count": 7,
   "id": "2614c2ab-96ec-4304-a287-6fd013fedbbb",
   "metadata": {},
   "outputs": [],
   "source": [
    "state_populations_df = state_populations[\"NST-EST2024-POP\"][\n",
    "    [\n",
    "        \"table with row headers in column A and column headers in rows 3 through 4. (leading dots indicate sub-parts)\",\n",
    "        \"Unnamed: 5\",\n",
    "    ]\n",
    "]\n",
    "state_populations_df = state_populations_df.rename(\n",
    "    columns={\n",
    "        \"table with row headers in column A and column headers in rows 3 through 4. (leading dots indicate sub-parts)\": \"NAME\",\n",
    "        \"Unnamed: 5\": \"POPULATION\",\n",
    "    }\n",
    ")\n",
    "state_populations_df[\"NAME\"] = state_populations_df[\"NAME\"].str[1:]"
   ]
  },
  {
   "cell_type": "code",
   "execution_count": 8,
   "id": "2a1a8b6e-a0bf-486b-b62e-46a23ca718e2",
   "metadata": {},
   "outputs": [],
   "source": [
    "states_with_population_df = states_df.merge(state_populations_df, on=\"NAME\", how=\"left\")\n",
    "states_with_population_df = states_with_population_df[\n",
    "    [\"STUSPS\", \"NAME\", \"POPULATION\", \"geometry\"]\n",
    "]"
   ]
  },
  {
   "cell_type": "markdown",
   "id": "6d2f1ce9-a36c-4292-99a0-ad42032c5ad4",
   "metadata": {},
   "source": [
    "## Get Sheetz Data"
   ]
  },
  {
   "cell_type": "code",
   "execution_count": 10,
   "id": "4831e712-c020-4577-ad9c-8131af830bf3",
   "metadata": {},
   "outputs": [],
   "source": [
    "scraper = cloudscraper.create_scraper()"
   ]
  },
  {
   "cell_type": "code",
   "execution_count": 28,
   "id": "38904f0d-5805-4857-8e75-88fe7143f0ef",
   "metadata": {},
   "outputs": [],
   "source": [
    "url = \"https://royalfarms.com/wp-admin/admin-ajax.php\"\n",
    "params = {\n",
    "    \"action\": \"store_search\",\n",
    "    \"lat\": 38.91207,\n",
    "    \"lng\": -77.01902,\n",
    "    \"max_results\": 50,\n",
    "    \"search_radius\": 500,\n",
    "}"
   ]
  },
  {
   "cell_type": "code",
   "execution_count": 29,
   "id": "c1b115b5-d39a-4c2e-9e42-d5ce804a1bc5",
   "metadata": {},
   "outputs": [],
   "source": [
    "r = scraper.get(url=url, params=params)"
   ]
  },
  {
   "cell_type": "code",
   "execution_count": 30,
   "id": "fb40e8ba-2bd7-480a-a213-52fa6a60ee07",
   "metadata": {},
   "outputs": [
    {
     "data": {
      "text/plain": [
       "50"
      ]
     },
     "execution_count": 30,
     "metadata": {},
     "output_type": "execute_result"
    }
   ],
   "source": [
    "len(r.json())"
   ]
  },
  {
   "cell_type": "code",
   "execution_count": null,
   "id": "0afdb5d8-9a60-46cb-91d3-a78c85cbe453",
   "metadata": {},
   "outputs": [],
   "source": []
  },
  {
   "cell_type": "code",
   "execution_count": 10,
   "id": "7293275e-d312-463a-8d32-fb168a6b9d5a",
   "metadata": {},
   "outputs": [],
   "source": [
    "def format_dictionary(store_json: dict) -> dict:\n",
    "    try:\n",
    "        store_dict = {\n",
    "            \"ID\": store_json[\"storeNumber\"],\n",
    "            \"ADDRESS\": store_json[\"address\"][\"address\"],\n",
    "            \"CITY\": store_json[\"address\"][\"city\"],\n",
    "            \"STUSPS\": store_json[\"address\"][\"state\"],\n",
    "            \"ZIP\": store_json[\"address\"][\"zip\"],\n",
    "            \"geometry\": Point(\n",
    "                store_json[\"coordinates\"][\"longitude\"],\n",
    "                store_json[\"coordinates\"][\"latitude\"],\n",
    "            ),\n",
    "        }\n",
    "        return store_dict\n",
    "    except Exception as e:\n",
    "        print(e)"
   ]
  },
  {
   "cell_type": "code",
   "execution_count": 11,
   "id": "db51c68b-e1ae-4f7f-9ad8-e3bfaa811005",
   "metadata": {},
   "outputs": [],
   "source": [
    "url = \"https://www.wawa.com/api/bff\"\n",
    "headers = {\n",
    "    \"accept\": \"application/json\",\n",
    "    \"accept-language\": \"en-US,en;q=0.9,ru-RU;q=0.8,ru;q=0.7\",\n",
    "    \"content-type\": \"application/json\",\n",
    "    \"priority\": \"u=1, i\",\n",
    "    \"sec-ch-ua\": '\"Google Chrome\";v=\"137\", \"Chromium\";v=\"137\", \"Not/A)Brand\";v=\"24\"',\n",
    "    \"sec-ch-ua-mobile\": \"?0\",\n",
    "    \"sec-ch-ua-platform\": '\"Windows\"',\n",
    "    \"sec-fetch-dest\": \"empty\",\n",
    "    \"sec-fetch-mode\": \"cors\",\n",
    "    \"sec-fetch-site\": \"same-origin\",\n",
    "    \"cookie\": \"goose_media_id=a3a4a09d-6606-45d7-bcf7-2a277780c9fd; visid_incap_2023331=uFP4rvVcQySotU5k9QYt+ucfQ2gAAAAAQUIPAAAAAACYUnnVYJv6xY4Wfj9mOjZ2; nlbi_2023331=D/KaUQDN9CNkq7qTeuoTvQAAAACoe94tN3ArQ0JqGcKFYKHj; _gcl_au=1.1.1616234870.1749229544; dtm_token_sc=AQAIhIq0ZrNS3AFWmw-DAQBCagABAQCWRzWnqQEBAJZHNaep; _ga=GA1.1.469775265.1749229544; dtm_token=AQAIhIq0ZrNS3AFWmw-DAQBCagABAQCWRzWnqQEBAJZHNaep; _pin_unauth=dWlkPU1EZGtPVFEwTkdVdE5XUTFOaTAwWlRJNExUbGpaamt0Wm1JMlpqSXhPV1UwWmpjeQ; __adroll_fpc=8644c1d590b818b99a9937fe8eb7c547-1749229544370; _fbp=fb.1.1749229544647.547007493338514311; incap_ses_543_2023331=t++zBjYhPTQ1Irlf8x+JB/FTQ2gAAAAAX7p2jD1rxnxJV9T3ULsyrQ==; reese84=3:U2WnShWOBEusi6oiSkI92Q==:WtaBRDDGmy/Hibp1umWuBXCkXW8TfaVHCXPO+r7pCrZdVaj9UP7vM4RI3/ngdq1UaNmOw7CtfQ+F5UG3t+CQfsZSxGSPtSFXZeo4VYtZ4Q+NoJ5MlGNwrDNkhgmTB9RMUrrmYwama19GBpodGmI2sowwLd+py/wt2V+is6/I2dxZz8ckZpc/uqJDzLXDRGY6LHmjeA83EgNpA6mqsZXMGxEAJGnZgoCYrBlPzm9elbwoFtlUk/IFo+Z7lSugtausV+AxMrcSGWJUzCnuA78leF2kZRId95/wUod7H3Unse+0fFboAR3iwCUFJPecvmNeFzv1f1tVs7sHR7uIiwpzCWeDV93LqgDN9I5lWtZPPz/9t/9iO3nRQIRcynSa5kpSI5l/sWBEVErpghKVTbMD9MRmMKAd00xgkTe49ncNJyc6hjv9JxDeNDo/fRmxYfDwMek1rrv+3rnrb48CKEzr2g==:wZ5bK+b9YTcVgQQZTmUofqbUBfX/H3u/iRBBlxoWhIg=; visid_incap_2960641=BeBQ73zCQy+ILXNxDvFMMSFZQ2gAAAAAQUIPAAAAAADThK1W4BG0hRm7q4D5+Aah; nlbi_2960641=1ISyc8DX6Bb5M/pWdg1VMgAAAABFiibk5eLfSUw//KcQbTyV; incap_ses_543_2960641=Q6XcdUlpGQXnxLtf8x+JByJZQ2gAAAAAxD4aouhH+KC6ZMeeiupuwQ==; nlbi_2960641_2147483392=32rwfWj6DUqqERiBdg1VMgAAAADYt+w3a8zWL0KlrzP4Uk0s; ajs_anonymous_id=5c3374b3-f431-487b-8362-bf01255882d5; locationData=city%3DPuyallup%26zip%3D98374%26state%3DWashington; incap_ses_731_2023331=SYH0V76F3XG0FU7e9gglCtRaQ2gAAAAAtY7XIUMoHNF0inqCtSFqAA==; _uetsid=7b94f24042f811f0b8faa926e9883e98; _uetvid=7b94ed0042f811f0b03159b2bf32b2aa; __ar_v4=UXVY5L7DHBCKFFRG7O4SIP%3A20250606%3A21%7CYCCJXQGXA5A3XDTUGOEF2R%3A20250606%3A21; nlbi_2023331_2888890=/5qHQFeiHw5NQjrveuoTvQAAAACmBblv5Ea82CxMjoQJ5uoo; nlbi_2023331_2147483392=CuLLeOmlTlDdS1RteuoTvQAAAABJ+n8O4Sf9K8y+KsTJP442; _ga_KE0Z84815N=GS2.1.s1749242866$o2$g1$t1749244635$j52$l0$h0; _ga_QT0F48BMBE=GS2.1.s1749242866$o2$g1$t1749244635$j52$l0$h0\",\n",
    "    \"Referer\": \"https://www.wawa.com/locations/store-locator\",\n",
    "    \"Referrer-Policy\": \"strict-origin-when-cross-origin\",\n",
    "}"
   ]
  },
  {
   "cell_type": "code",
   "execution_count": 17,
   "id": "6119770a-d727-42f6-a008-b6ef55ef1007",
   "metadata": {},
   "outputs": [
    {
     "data": {
      "text/plain": [
       "'https://www.wawa.com/api/bff'"
      ]
     },
     "execution_count": 17,
     "metadata": {},
     "output_type": "execute_result"
    }
   ],
   "source": [
    "r.url"
   ]
  },
  {
   "cell_type": "code",
   "execution_count": 14,
   "id": "49da3240-2a34-4f7c-99bb-538c07f31fd4",
   "metadata": {},
   "outputs": [
    {
     "data": {
      "application/vnd.jupyter.widget-view+json": {
       "model_id": "7fa301d2876641d5be5bbde8c02f9377",
       "version_major": 2,
       "version_minor": 0
      },
      "text/plain": [
       "IDs:   0%|          | 0/1000 [00:00<?, ?it/s]"
      ]
     },
     "metadata": {},
     "output_type": "display_data"
    },
    {
     "ename": "JSONDecodeError",
     "evalue": "Expecting value: line 1 column 1 (char 0)",
     "output_type": "error",
     "traceback": [
      "\u001b[31m---------------------------------------------------------------------------\u001b[39m",
      "\u001b[31mJSONDecodeError\u001b[39m                           Traceback (most recent call last)",
      "\u001b[36mFile \u001b[39m\u001b[32m/mnt/c/Users/Winston/Documents/GitHub/VineMapper/.venv/lib/python3.11/site-packages/requests/models.py:974\u001b[39m, in \u001b[36mResponse.json\u001b[39m\u001b[34m(self, **kwargs)\u001b[39m\n\u001b[32m    973\u001b[39m \u001b[38;5;28;01mtry\u001b[39;00m:\n\u001b[32m--> \u001b[39m\u001b[32m974\u001b[39m     \u001b[38;5;28;01mreturn\u001b[39;00m \u001b[43mcomplexjson\u001b[49m\u001b[43m.\u001b[49m\u001b[43mloads\u001b[49m\u001b[43m(\u001b[49m\u001b[38;5;28;43mself\u001b[39;49m\u001b[43m.\u001b[49m\u001b[43mtext\u001b[49m\u001b[43m,\u001b[49m\u001b[43m \u001b[49m\u001b[43m*\u001b[49m\u001b[43m*\u001b[49m\u001b[43mkwargs\u001b[49m\u001b[43m)\u001b[49m\n\u001b[32m    975\u001b[39m \u001b[38;5;28;01mexcept\u001b[39;00m JSONDecodeError \u001b[38;5;28;01mas\u001b[39;00m e:\n\u001b[32m    976\u001b[39m     \u001b[38;5;66;03m# Catch JSON-related errors and raise as requests.JSONDecodeError\u001b[39;00m\n\u001b[32m    977\u001b[39m     \u001b[38;5;66;03m# This aliases json.JSONDecodeError and simplejson.JSONDecodeError\u001b[39;00m\n",
      "\u001b[36mFile \u001b[39m\u001b[32m/usr/lib/python3.11/json/__init__.py:346\u001b[39m, in \u001b[36mloads\u001b[39m\u001b[34m(s, cls, object_hook, parse_float, parse_int, parse_constant, object_pairs_hook, **kw)\u001b[39m\n\u001b[32m    343\u001b[39m \u001b[38;5;28;01mif\u001b[39;00m (\u001b[38;5;28mcls\u001b[39m \u001b[38;5;129;01mis\u001b[39;00m \u001b[38;5;28;01mNone\u001b[39;00m \u001b[38;5;129;01mand\u001b[39;00m object_hook \u001b[38;5;129;01mis\u001b[39;00m \u001b[38;5;28;01mNone\u001b[39;00m \u001b[38;5;129;01mand\u001b[39;00m\n\u001b[32m    344\u001b[39m         parse_int \u001b[38;5;129;01mis\u001b[39;00m \u001b[38;5;28;01mNone\u001b[39;00m \u001b[38;5;129;01mand\u001b[39;00m parse_float \u001b[38;5;129;01mis\u001b[39;00m \u001b[38;5;28;01mNone\u001b[39;00m \u001b[38;5;129;01mand\u001b[39;00m\n\u001b[32m    345\u001b[39m         parse_constant \u001b[38;5;129;01mis\u001b[39;00m \u001b[38;5;28;01mNone\u001b[39;00m \u001b[38;5;129;01mand\u001b[39;00m object_pairs_hook \u001b[38;5;129;01mis\u001b[39;00m \u001b[38;5;28;01mNone\u001b[39;00m \u001b[38;5;129;01mand\u001b[39;00m \u001b[38;5;129;01mnot\u001b[39;00m kw):\n\u001b[32m--> \u001b[39m\u001b[32m346\u001b[39m     \u001b[38;5;28;01mreturn\u001b[39;00m \u001b[43m_default_decoder\u001b[49m\u001b[43m.\u001b[49m\u001b[43mdecode\u001b[49m\u001b[43m(\u001b[49m\u001b[43ms\u001b[49m\u001b[43m)\u001b[49m\n\u001b[32m    347\u001b[39m \u001b[38;5;28;01mif\u001b[39;00m \u001b[38;5;28mcls\u001b[39m \u001b[38;5;129;01mis\u001b[39;00m \u001b[38;5;28;01mNone\u001b[39;00m:\n",
      "\u001b[36mFile \u001b[39m\u001b[32m/usr/lib/python3.11/json/decoder.py:337\u001b[39m, in \u001b[36mJSONDecoder.decode\u001b[39m\u001b[34m(self, s, _w)\u001b[39m\n\u001b[32m    333\u001b[39m \u001b[38;5;250m\u001b[39m\u001b[33;03m\"\"\"Return the Python representation of ``s`` (a ``str`` instance\u001b[39;00m\n\u001b[32m    334\u001b[39m \u001b[33;03mcontaining a JSON document).\u001b[39;00m\n\u001b[32m    335\u001b[39m \n\u001b[32m    336\u001b[39m \u001b[33;03m\"\"\"\u001b[39;00m\n\u001b[32m--> \u001b[39m\u001b[32m337\u001b[39m obj, end = \u001b[38;5;28;43mself\u001b[39;49m\u001b[43m.\u001b[49m\u001b[43mraw_decode\u001b[49m\u001b[43m(\u001b[49m\u001b[43ms\u001b[49m\u001b[43m,\u001b[49m\u001b[43m \u001b[49m\u001b[43midx\u001b[49m\u001b[43m=\u001b[49m\u001b[43m_w\u001b[49m\u001b[43m(\u001b[49m\u001b[43ms\u001b[49m\u001b[43m,\u001b[49m\u001b[43m \u001b[49m\u001b[32;43m0\u001b[39;49m\u001b[43m)\u001b[49m\u001b[43m.\u001b[49m\u001b[43mend\u001b[49m\u001b[43m(\u001b[49m\u001b[43m)\u001b[49m\u001b[43m)\u001b[49m\n\u001b[32m    338\u001b[39m end = _w(s, end).end()\n",
      "\u001b[36mFile \u001b[39m\u001b[32m/usr/lib/python3.11/json/decoder.py:355\u001b[39m, in \u001b[36mJSONDecoder.raw_decode\u001b[39m\u001b[34m(self, s, idx)\u001b[39m\n\u001b[32m    354\u001b[39m \u001b[38;5;28;01mexcept\u001b[39;00m \u001b[38;5;167;01mStopIteration\u001b[39;00m \u001b[38;5;28;01mas\u001b[39;00m err:\n\u001b[32m--> \u001b[39m\u001b[32m355\u001b[39m     \u001b[38;5;28;01mraise\u001b[39;00m JSONDecodeError(\u001b[33m\"\u001b[39m\u001b[33mExpecting value\u001b[39m\u001b[33m\"\u001b[39m, s, err.value) \u001b[38;5;28;01mfrom\u001b[39;00m\u001b[38;5;250m \u001b[39m\u001b[38;5;28;01mNone\u001b[39;00m\n\u001b[32m    356\u001b[39m \u001b[38;5;28;01mreturn\u001b[39;00m obj, end\n",
      "\u001b[31mJSONDecodeError\u001b[39m: Expecting value: line 1 column 1 (char 0)",
      "\nDuring handling of the above exception, another exception occurred:\n",
      "\u001b[31mJSONDecodeError\u001b[39m                           Traceback (most recent call last)",
      "\u001b[36mCell\u001b[39m\u001b[36m \u001b[39m\u001b[32mIn[14]\u001b[39m\u001b[32m, line 6\u001b[39m\n\u001b[32m      4\u001b[39m body[\u001b[33m'\u001b[39m\u001b[33mvariables\u001b[39m\u001b[33m'\u001b[39m] = {\u001b[33m'\u001b[39m\u001b[33mstoreId\u001b[39m\u001b[33m'\u001b[39m: \u001b[33m\"\u001b[39m\u001b[38;5;132;01m{:04d}\u001b[39;00m\u001b[33m\"\u001b[39m.format(i)}\n\u001b[32m      5\u001b[39m r = scraper.post(url=url, data=json.dumps(body), headers=headers)\n\u001b[32m----> \u001b[39m\u001b[32m6\u001b[39m resp_json = \u001b[43mr\u001b[49m\u001b[43m.\u001b[49m\u001b[43mjson\u001b[49m\u001b[43m(\u001b[49m\u001b[43m)\u001b[49m\n\u001b[32m      7\u001b[39m \u001b[38;5;28;01mif\u001b[39;00m \u001b[33m'\u001b[39m\u001b[33merrors\u001b[39m\u001b[33m'\u001b[39m \u001b[38;5;129;01mnot\u001b[39;00m \u001b[38;5;129;01min\u001b[39;00m resp_json:\n\u001b[32m      8\u001b[39m     store_json = resp_json[\u001b[33m'\u001b[39m\u001b[33mdata\u001b[39m\u001b[33m'\u001b[39m][\u001b[33m'\u001b[39m\u001b[33mstoreLocation\u001b[39m\u001b[33m'\u001b[39m]\n",
      "\u001b[36mFile \u001b[39m\u001b[32m/mnt/c/Users/Winston/Documents/GitHub/VineMapper/.venv/lib/python3.11/site-packages/requests/models.py:978\u001b[39m, in \u001b[36mResponse.json\u001b[39m\u001b[34m(self, **kwargs)\u001b[39m\n\u001b[32m    974\u001b[39m     \u001b[38;5;28;01mreturn\u001b[39;00m complexjson.loads(\u001b[38;5;28mself\u001b[39m.text, **kwargs)\n\u001b[32m    975\u001b[39m \u001b[38;5;28;01mexcept\u001b[39;00m JSONDecodeError \u001b[38;5;28;01mas\u001b[39;00m e:\n\u001b[32m    976\u001b[39m     \u001b[38;5;66;03m# Catch JSON-related errors and raise as requests.JSONDecodeError\u001b[39;00m\n\u001b[32m    977\u001b[39m     \u001b[38;5;66;03m# This aliases json.JSONDecodeError and simplejson.JSONDecodeError\u001b[39;00m\n\u001b[32m--> \u001b[39m\u001b[32m978\u001b[39m     \u001b[38;5;28;01mraise\u001b[39;00m RequestsJSONDecodeError(e.msg, e.doc, e.pos)\n",
      "\u001b[31mJSONDecodeError\u001b[39m: Expecting value: line 1 column 1 (char 0)"
     ]
    }
   ],
   "source": [
    "store_list = []\n",
    "for i in tqdm(range(10000), desc=\"IDs\"):\n",
    "    body = json.loads(\n",
    "        '{\"query\":\"query StoreSearchById($storeId: String!) {\\\\n  storeLocation(storeId: $storeId) {\\\\n    name\\\\n    isActive\\\\n    isStoreOpen\\\\n    storeOpen\\\\n    storeClose\\\\n    scheduleType\\\\n    storeNumber\\\\n    coordinates {\\\\n      latitude\\\\n      longitude\\\\n    }\\\\n    address {\\\\n      address\\\\n      city\\\\n      state\\\\n      zip\\\\n    }\\\\n  }\\\\n}\\\\n\",\"variables\":{\"storeId\":\"8060\"}}'\n",
    "    )\n",
    "    body[\"variables\"] = {\"storeId\": \"{:04d}\".format(i)}\n",
    "    r = scraper.post(url=url, data=json.dumps(body), headers=headers)\n",
    "    resp_json = r.json()\n",
    "    if \"errors\" not in resp_json:\n",
    "        store_json = resp_json[\"data\"][\"storeLocation\"]\n",
    "        store_dict = format_dictionary(store_json)\n",
    "        store_list.append(store_dict)\n",
    "\n",
    "    time.sleep(random.uniform(0.01, 0.5))"
   ]
  },
  {
   "cell_type": "code",
   "execution_count": 47,
   "id": "e9c05bdf-2e7f-4f04-8e3b-ded05320ed06",
   "metadata": {},
   "outputs": [],
   "source": [
    "sheetz_locations_gdf = gpd.GeoDataFrame(store_dicts, crs=4326)"
   ]
  },
  {
   "cell_type": "code",
   "execution_count": 48,
   "id": "5e78a909-91d7-471f-adcc-34d00d10b7c4",
   "metadata": {},
   "outputs": [],
   "source": [
    "sheetz_locations_gdf.to_file(\"data/sheetz.gpkg\")"
   ]
  },
  {
   "cell_type": "code",
   "execution_count": 49,
   "id": "8b12252f-b015-47a0-b95c-de313b05db05",
   "metadata": {},
   "outputs": [],
   "source": [
    "sheetz_state_counts_df = (\n",
    "    sheetz_locations_gdf.groupby(\"STUSPS\")\n",
    "    .size()\n",
    "    .reset_index()\n",
    "    .rename(columns={0: \"sheetz\"})\n",
    ")"
   ]
  },
  {
   "cell_type": "markdown",
   "id": "94cb32a2-faf0-40fa-8616-e8f2275eca72",
   "metadata": {},
   "source": [
    "## Combine With States"
   ]
  },
  {
   "cell_type": "code",
   "execution_count": 50,
   "id": "c062806b-5f76-4d7e-a226-31383a266b6a",
   "metadata": {},
   "outputs": [],
   "source": [
    "sheetz_state_counts_gdf = states_with_population_df.merge(\n",
    "    sheetz_state_counts_df, on=\"STUSPS\", how=\"left\"\n",
    ")"
   ]
  },
  {
   "cell_type": "code",
   "execution_count": 51,
   "id": "300ee45e-48b8-48f6-9a3a-efd4904a5efe",
   "metadata": {},
   "outputs": [],
   "source": [
    "sheetz_state_counts_gdf = sheetz_state_counts_gdf.fillna(0)\n",
    "sheetz_state_counts_gdf[\"sheetz\"] = sheetz_state_counts_gdf[\"sheetz\"].astype(int)"
   ]
  },
  {
   "cell_type": "code",
   "execution_count": 52,
   "id": "8e8b581c-4e0c-40b8-81a9-4ea014470b40",
   "metadata": {},
   "outputs": [],
   "source": [
    "sheetz_state_counts_gdf[\"per_100k\"] = sheetz_state_counts_gdf[\"sheetz\"] / (\n",
    "    sheetz_state_counts_gdf[\"POPULATION\"] / 100_000\n",
    ")\n",
    "sheetz_state_counts_gdf[\"per_1m\"] = sheetz_state_counts_gdf[\"sheetz\"] / (\n",
    "    sheetz_state_counts_gdf[\"POPULATION\"] / 1_000_000\n",
    ")"
   ]
  },
  {
   "cell_type": "code",
   "execution_count": 53,
   "id": "237a0e6a-ccc2-4f3b-baad-d36ce4ecc481",
   "metadata": {},
   "outputs": [],
   "source": [
    "sheetz_state_counts_gdf = sheetz_state_counts_gdf.fillna(0)"
   ]
  },
  {
   "cell_type": "code",
   "execution_count": 54,
   "id": "944acfaa-313b-4a9f-aecc-53fe95e188be",
   "metadata": {},
   "outputs": [],
   "source": [
    "sheetz_state_counts_gdf = sheetz_state_counts_gdf.to_crs(3968)\n",
    "sheetz_state_counts_gdf.to_file(f\"data/sheetz_states.gpkg\")"
   ]
  },
  {
   "cell_type": "code",
   "execution_count": null,
   "id": "8a23d1fa-408d-4071-9513-e5b0da2e5cfc",
   "metadata": {},
   "outputs": [],
   "source": []
  }
 ],
 "metadata": {
  "kernelspec": {
   "display_name": "Python 3 (ipykernel)",
   "language": "python",
   "name": "python3"
  },
  "language_info": {
   "codemirror_mode": {
    "name": "ipython",
    "version": 3
   },
   "file_extension": ".py",
   "mimetype": "text/x-python",
   "name": "python",
   "nbconvert_exporter": "python",
   "pygments_lexer": "ipython3",
   "version": "3.11.11"
  }
 },
 "nbformat": 4,
 "nbformat_minor": 5
}
