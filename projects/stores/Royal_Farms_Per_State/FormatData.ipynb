{
 "cells": [
  {
   "cell_type": "code",
   "execution_count": null,
   "id": "6aa0827c-59f2-481e-a871-e5ea56cf4aea",
   "metadata": {},
   "outputs": [],
   "source": [
    "import os"
   ]
  },
  {
   "cell_type": "code",
   "execution_count": null,
   "id": "bc436e38-234d-44fd-b67b-d1f2974606d3",
   "metadata": {},
   "outputs": [],
   "source": [
    "import cloudscraper\n",
    "import geopandas as gpd\n",
    "import h3\n",
    "import pandas as pd"
   ]
  },
  {
   "cell_type": "code",
   "execution_count": 3,
   "id": "4b033051-09a6-4072-a766-bb98cf8d57b5",
   "metadata": {},
   "outputs": [],
   "source": [
    "from shapely.geometry import Point\n",
    "from tqdm.notebook import tqdm"
   ]
  },
  {
   "cell_type": "markdown",
   "id": "44a3df26-78d3-479c-99a2-c0e1ba91352e",
   "metadata": {},
   "source": [
    "## Get State Data"
   ]
  },
  {
   "cell_type": "code",
   "execution_count": 4,
   "id": "615eeabf-033b-425a-a81f-d7b4dd9e3a3e",
   "metadata": {},
   "outputs": [],
   "source": [
    "file_path = \"data/cb_2018_us_state_500k/cb_2018_us_state_500k.shp\"\n",
    "states_df = gpd.read_file(file_path)"
   ]
  },
  {
   "cell_type": "code",
   "execution_count": 5,
   "id": "502c6bfe-0912-4d37-95b0-47e7a14b468f",
   "metadata": {},
   "outputs": [],
   "source": [
    "states_df = states_df[[\"STUSPS\", \"NAME\", \"geometry\"]]"
   ]
  },
  {
   "cell_type": "markdown",
   "id": "4257620c-13d7-4071-bae2-a5a2aeae5ba7",
   "metadata": {},
   "source": [
    "## Get Population data"
   ]
  },
  {
   "cell_type": "code",
   "execution_count": 6,
   "id": "6c0e7a1d-5a9a-4c10-a5d4-28dc681a8a27",
   "metadata": {},
   "outputs": [],
   "source": [
    "state_populations = pd.read_excel(\n",
    "    \"data/NST-EST2024-POP.xlsx\", sheet_name=None, engine=\"openpyxl\"\n",
    ")"
   ]
  },
  {
   "cell_type": "code",
   "execution_count": 7,
   "id": "2614c2ab-96ec-4304-a287-6fd013fedbbb",
   "metadata": {},
   "outputs": [],
   "source": [
    "state_populations_df = state_populations[\"NST-EST2024-POP\"][\n",
    "    [\n",
    "        \"table with row headers in column A and column headers in rows 3 through 4. (leading dots indicate sub-parts)\",\n",
    "        \"Unnamed: 5\",\n",
    "    ]\n",
    "]\n",
    "state_populations_df = state_populations_df.rename(\n",
    "    columns={\n",
    "        \"table with row headers in column A and column headers in rows 3 through 4. (leading dots indicate sub-parts)\": \"NAME\",\n",
    "        \"Unnamed: 5\": \"POPULATION\",\n",
    "    }\n",
    ")\n",
    "state_populations_df[\"NAME\"] = state_populations_df[\"NAME\"].str[1:]"
   ]
  },
  {
   "cell_type": "code",
   "execution_count": 8,
   "id": "2a1a8b6e-a0bf-486b-b62e-46a23ca718e2",
   "metadata": {},
   "outputs": [],
   "source": [
    "states_with_population_df = states_df.merge(state_populations_df, on=\"NAME\", how=\"left\")\n",
    "states_with_population_df = states_with_population_df[\n",
    "    [\"STUSPS\", \"NAME\", \"POPULATION\", \"geometry\"]\n",
    "]"
   ]
  },
  {
   "cell_type": "markdown",
   "id": "6d2f1ce9-a36c-4292-99a0-ad42032c5ad4",
   "metadata": {},
   "source": [
    "## Get Royal Farms Data"
   ]
  },
  {
   "cell_type": "code",
   "execution_count": 22,
   "id": "4831e712-c020-4577-ad9c-8131af830bf3",
   "metadata": {},
   "outputs": [],
   "source": [
    "scraper = cloudscraper.create_scraper()"
   ]
  },
  {
   "cell_type": "code",
   "execution_count": 26,
   "id": "49da3240-2a34-4f7c-99bb-538c07f31fd4",
   "metadata": {},
   "outputs": [
    {
     "data": {
      "application/vnd.jupyter.widget-view+json": {
       "model_id": "4c591108d4cb477d9228857de95a08e3",
       "version_major": 2,
       "version_minor": 0
      },
      "text/plain": [
       "States:   0%|          | 0/56 [00:00<?, ?it/s]"
      ]
     },
     "metadata": {},
     "output_type": "display_data"
    },
    {
     "data": {
      "application/vnd.jupyter.widget-view+json": {
       "model_id": "1987d77d12434c4183bc713382c485df",
       "version_major": 2,
       "version_minor": 0
      },
      "text/plain": [
       "Parsing state: NC in Resolution: 4:   0%|          | 0/113 [00:00<?, ?it/s]"
      ]
     },
     "metadata": {},
     "output_type": "display_data"
    },
    {
     "data": {
      "application/vnd.jupyter.widget-view+json": {
       "model_id": "c19eca08565b45f28017b326ad963866",
       "version_major": 2,
       "version_minor": 0
      },
      "text/plain": [
       "Parsing state: VA in Resolution: 4:   0%|          | 0/91 [00:00<?, ?it/s]"
      ]
     },
     "metadata": {},
     "output_type": "display_data"
    },
    {
     "data": {
      "application/vnd.jupyter.widget-view+json": {
       "model_id": "751b6a124d42459ba9e1bb2c55156172",
       "version_major": 2,
       "version_minor": 0
      },
      "text/plain": [
       "Parsing state: WV in Resolution: 4:   0%|          | 0/58 [00:00<?, ?it/s]"
      ]
     },
     "metadata": {},
     "output_type": "display_data"
    },
    {
     "data": {
      "application/vnd.jupyter.widget-view+json": {
       "model_id": "2812d695445043fe81830395a4b0af22",
       "version_major": 2,
       "version_minor": 0
      },
      "text/plain": [
       "Parsing state: PA in Resolution: 4:   0%|          | 0/85 [00:00<?, ?it/s]"
      ]
     },
     "metadata": {},
     "output_type": "display_data"
    },
    {
     "data": {
      "application/vnd.jupyter.widget-view+json": {
       "model_id": "e68acb46ab7347c69a791a3e29ea92e2",
       "version_major": 2,
       "version_minor": 0
      },
      "text/plain": [
       "Parsing state: NJ in Resolution: 4:   0%|          | 0/20 [00:00<?, ?it/s]"
      ]
     },
     "metadata": {},
     "output_type": "display_data"
    },
    {
     "data": {
      "application/vnd.jupyter.widget-view+json": {
       "model_id": "1f90ab6ec2aa48168f868604a8ecbc06",
       "version_major": 2,
       "version_minor": 0
      },
      "text/plain": [
       "Parsing state: MD in Resolution: 4:   0%|          | 0/34 [00:00<?, ?it/s]"
      ]
     },
     "metadata": {},
     "output_type": "display_data"
    },
    {
     "data": {
      "application/vnd.jupyter.widget-view+json": {
       "model_id": "342714ba089c423e965cb51ff183c381",
       "version_major": 2,
       "version_minor": 0
      },
      "text/plain": [
       "Parsing state: DE in Resolution: 4:   0%|          | 0/8 [00:00<?, ?it/s]"
      ]
     },
     "metadata": {},
     "output_type": "display_data"
    }
   ],
   "source": [
    "url = \"https://royalfarms.com/wp-admin/admin-ajax.php\"\n",
    "res = 4\n",
    "for i in tqdm(range(len(states_df)), desc=\"States\"):\n",
    "    state_restaurant_list = []\n",
    "\n",
    "    state_code = states_df.iloc[i][\"STUSPS\"]\n",
    "\n",
    "    # Skip territories\n",
    "    if state_code not in [\"MD\", \"DE\", \"VA\", \"PA\", \"NJ\", \"WV\", \"NC\"]:\n",
    "        continue\n",
    "\n",
    "    # If File exists continue\n",
    "    if os.path.isfile(f\"data/states/{state_code}.gpkg\"):\n",
    "        continue\n",
    "\n",
    "    state_shape = states_df.iloc[i][\"geometry\"]\n",
    "    h3_shape = h3.geo_to_h3shape(state_shape.buffer(distance=0.2))\n",
    "    h3_cells = h3.h3shape_to_cells(h3_shape, res=res)\n",
    "    for h3_cell in tqdm(\n",
    "        h3_cells, desc=f\"Parsing state: {state_code} in Resolution: {res}\"\n",
    "    ):\n",
    "        lat, lng = h3.cell_to_latlng(h3_cell)\n",
    "        params = {\n",
    "            \"action\": \"store_search\",\n",
    "            \"lat\": lat,\n",
    "            \"lng\": lng,\n",
    "            \"max_results\": 50,\n",
    "            \"search_radius\": 500,\n",
    "        }\n",
    "        r = scraper.get(url=url, params=params)\n",
    "        if not r.status_code == 200:\n",
    "            continue\n",
    "        else:\n",
    "            json_data = r.json()\n",
    "        if len(json_data) == 0:\n",
    "            continue\n",
    "\n",
    "        for store_json in json_data:\n",
    "            store_dict = {\n",
    "                \"ID\": store_json[\"id\"],\n",
    "                \"geometry\": Point(store_json[\"lng\"], store_json[\"lat\"]),\n",
    "                \"STUSPS\": store_json[\"state\"],\n",
    "            }\n",
    "            state_restaurant_list.append(store_dict)\n",
    "\n",
    "    state_rf_gdf = gpd.GeoDataFrame(state_restaurant_list, crs=4326)\n",
    "    state_rf_gdf = state_rf_gdf.drop_duplicates(\"ID\")\n",
    "    state_rf_gdf = state_rf_gdf[state_rf_gdf[\"STUSPS\"] == state_code]\n",
    "    state_rf_gdf.to_file(f\"data/states/{state_code}.gpkg\")"
   ]
  },
  {
   "cell_type": "code",
   "execution_count": 34,
   "id": "e9c05bdf-2e7f-4f04-8e3b-ded05320ed06",
   "metadata": {},
   "outputs": [],
   "source": [
    "rf_gdfs = []\n",
    "states_path = \"data/states\"\n",
    "for file in os.listdir(\"data/states\"):\n",
    "    constructed_path = os.path.join(states_path, file)\n",
    "    if constructed_path.endswith(\".gpkg\"):\n",
    "        rf_gdf = gpd.read_file(constructed_path)\n",
    "        rf_gdfs.append(rf_gdf)"
   ]
  },
  {
   "cell_type": "code",
   "execution_count": 35,
   "id": "0556405a-ad1a-47c5-b304-712d48ef2223",
   "metadata": {},
   "outputs": [],
   "source": [
    "rf_gdf = gpd.GeoDataFrame(pd.concat(rf_gdfs, ignore_index=True))\n",
    "rf_gdf = rf_gdf.to_crs(3968)\n",
    "rf_gdf.to_file(f\"data/stores.gpkg\")"
   ]
  },
  {
   "cell_type": "code",
   "execution_count": 36,
   "id": "8b12252f-b015-47a0-b95c-de313b05db05",
   "metadata": {},
   "outputs": [],
   "source": [
    "rf_state_counts_df = (\n",
    "    rf_gdf.groupby(\"STUSPS\").size().reset_index().rename(columns={0: \"RFs\"})\n",
    ")"
   ]
  },
  {
   "cell_type": "markdown",
   "id": "94cb32a2-faf0-40fa-8616-e8f2275eca72",
   "metadata": {},
   "source": [
    "## Combine With States"
   ]
  },
  {
   "cell_type": "code",
   "execution_count": 37,
   "id": "c062806b-5f76-4d7e-a226-31383a266b6a",
   "metadata": {},
   "outputs": [],
   "source": [
    "rf_state_counts_gdf = states_with_population_df.merge(\n",
    "    rf_state_counts_df, on=\"STUSPS\", how=\"left\"\n",
    ")"
   ]
  },
  {
   "cell_type": "code",
   "execution_count": null,
   "id": "300ee45e-48b8-48f6-9a3a-efd4904a5efe",
   "metadata": {},
   "outputs": [],
   "source": [
    "rf_state_counts_gdf = rf_state_counts_gdf.fillna(0)\n",
    "rf_state_counts_gdf[\"RFs\"] = rf_state_counts_gdf[\"RFs\"].astype(int)"
   ]
  },
  {
   "cell_type": "code",
   "execution_count": 39,
   "id": "8e8b581c-4e0c-40b8-81a9-4ea014470b40",
   "metadata": {},
   "outputs": [],
   "source": [
    "rf_state_counts_gdf[\"per_100k\"] = rf_state_counts_gdf[\"RFs\"] / (\n",
    "    rf_state_counts_gdf[\"POPULATION\"] / 100_000\n",
    ")\n",
    "rf_state_counts_gdf[\"per_1m\"] = rf_state_counts_gdf[\"RFs\"] / (\n",
    "    rf_state_counts_gdf[\"POPULATION\"] / 1_000_000\n",
    ")"
   ]
  },
  {
   "cell_type": "code",
   "execution_count": 40,
   "id": "237a0e6a-ccc2-4f3b-baad-d36ce4ecc481",
   "metadata": {},
   "outputs": [],
   "source": [
    "rf_state_counts_gdf = rf_state_counts_gdf.fillna(0)"
   ]
  },
  {
   "cell_type": "code",
   "execution_count": 42,
   "id": "944acfaa-313b-4a9f-aecc-53fe95e188be",
   "metadata": {},
   "outputs": [],
   "source": [
    "rf_state_counts_gdf = rf_state_counts_gdf.to_crs(3968)\n",
    "rf_state_counts_gdf.to_file(f\"data/royal_farms_per_state.gpkg\")"
   ]
  },
  {
   "cell_type": "code",
   "execution_count": null,
   "id": "8a23d1fa-408d-4071-9513-e5b0da2e5cfc",
   "metadata": {},
   "outputs": [],
   "source": []
  }
 ],
 "metadata": {
  "kernelspec": {
   "display_name": "Python 3 (ipykernel)",
   "language": "python",
   "name": "python3"
  },
  "language_info": {
   "codemirror_mode": {
    "name": "ipython",
    "version": 3
   },
   "file_extension": ".py",
   "mimetype": "text/x-python",
   "name": "python",
   "nbconvert_exporter": "python",
   "pygments_lexer": "ipython3",
   "version": "3.11.11"
  }
 },
 "nbformat": 4,
 "nbformat_minor": 5
}
