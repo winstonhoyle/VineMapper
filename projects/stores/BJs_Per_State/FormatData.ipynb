{
 "cells": [
  {
   "cell_type": "code",
   "execution_count": 118,
   "id": "8eca3131-85dc-48b3-b640-f384104e123c",
   "metadata": {},
   "outputs": [],
   "source": [
    "import json\n",
    "import os\n",
    "import random\n",
    "import requests\n",
    "import time"
   ]
  },
  {
   "cell_type": "code",
   "execution_count": 107,
   "id": "bc436e38-234d-44fd-b67b-d1f2974606d3",
   "metadata": {},
   "outputs": [],
   "source": [
    "import geopandas as gpd\n",
    "import pandas as pd"
   ]
  },
  {
   "cell_type": "code",
   "execution_count": 108,
   "id": "13bbdea5-6ae9-4a3a-937a-12bb704da0f4",
   "metadata": {},
   "outputs": [],
   "source": [
    "from shapely.geometry import Point\n",
    "from tqdm.notebook import tqdm"
   ]
  },
  {
   "cell_type": "markdown",
   "id": "44a3df26-78d3-479c-99a2-c0e1ba91352e",
   "metadata": {},
   "source": [
    "## Get State Data"
   ]
  },
  {
   "cell_type": "code",
   "execution_count": 109,
   "id": "615eeabf-033b-425a-a81f-d7b4dd9e3a3e",
   "metadata": {},
   "outputs": [],
   "source": [
    "file_path = \"data/cb_2018_us_state_500k/cb_2018_us_state_500k.shp\"\n",
    "states_df = gpd.read_file(file_path)"
   ]
  },
  {
   "cell_type": "code",
   "execution_count": 110,
   "id": "502c6bfe-0912-4d37-95b0-47e7a14b468f",
   "metadata": {},
   "outputs": [],
   "source": [
    "states_df = states_df[[\"STUSPS\", \"NAME\", \"geometry\"]]"
   ]
  },
  {
   "cell_type": "markdown",
   "id": "4257620c-13d7-4071-bae2-a5a2aeae5ba7",
   "metadata": {},
   "source": [
    "## Get Population data"
   ]
  },
  {
   "cell_type": "code",
   "execution_count": 111,
   "id": "6c0e7a1d-5a9a-4c10-a5d4-28dc681a8a27",
   "metadata": {},
   "outputs": [],
   "source": [
    "state_populations = pd.read_excel(\n",
    "    \"data/NST-EST2024-POP.xlsx\", sheet_name=None, engine=\"openpyxl\"\n",
    ")"
   ]
  },
  {
   "cell_type": "code",
   "execution_count": 112,
   "id": "2614c2ab-96ec-4304-a287-6fd013fedbbb",
   "metadata": {},
   "outputs": [],
   "source": [
    "state_populations_df = state_populations[\"NST-EST2024-POP\"][\n",
    "    [\n",
    "        \"table with row headers in column A and column headers in rows 3 through 4. (leading dots indicate sub-parts)\",\n",
    "        \"Unnamed: 5\",\n",
    "    ]\n",
    "]\n",
    "state_populations_df = state_populations_df.rename(\n",
    "    columns={\n",
    "        \"table with row headers in column A and column headers in rows 3 through 4. (leading dots indicate sub-parts)\": \"NAME\",\n",
    "        \"Unnamed: 5\": \"POPULATION\",\n",
    "    }\n",
    ")\n",
    "state_populations_df[\"NAME\"] = state_populations_df[\"NAME\"].str[1:]"
   ]
  },
  {
   "cell_type": "code",
   "execution_count": 113,
   "id": "2a1a8b6e-a0bf-486b-b62e-46a23ca718e2",
   "metadata": {},
   "outputs": [],
   "source": [
    "states_with_population_df = states_df.merge(state_populations_df, on=\"NAME\", how=\"left\")\n",
    "states_with_population_df = states_with_population_df[\n",
    "    [\"STUSPS\", \"NAME\", \"POPULATION\", \"geometry\"]\n",
    "]"
   ]
  },
  {
   "cell_type": "markdown",
   "id": "6d2f1ce9-a36c-4292-99a0-ad42032c5ad4",
   "metadata": {},
   "source": [
    "## Get BJs Data"
   ]
  },
  {
   "cell_type": "code",
   "execution_count": 114,
   "id": "5e78a909-91d7-471f-adcc-34d00d10b7c4",
   "metadata": {},
   "outputs": [],
   "source": [
    "url = \"https://api.bjs.com/digital/live/apis/v1.0/clublocatorpage/statetowns/10201\"\n",
    "r = requests.get(url)\n",
    "stores_json = r.json()"
   ]
  },
  {
   "cell_type": "code",
   "execution_count": 115,
   "id": "f981e41d-63bf-4a00-875e-e9f96aef3863",
   "metadata": {},
   "outputs": [],
   "source": [
    "states_list = stores_json[\"clubLocatorStateTownList\"]"
   ]
  },
  {
   "cell_type": "code",
   "execution_count": 119,
   "id": "d3707409-623d-4f6c-812f-d1764644a9a6",
   "metadata": {},
   "outputs": [],
   "source": [
    "search_url = \"https://api.bjs.com/digital/live/api/v1.2/club/search/10201\"\n",
    "\n",
    "headers = {\n",
    "    \"accept\": \"application/json, text/plain, */*\",\n",
    "    \"accept-language\": \"en-US,en;q=0.9,ru-RU;q=0.8,ru;q=0.7\",\n",
    "    \"cache-control\": \"no-cache\",\n",
    "    \"content-type\": \"application/json\",\n",
    "    \"pragma\": \"no-cache\",\n",
    "    \"priority\": \"u=1, i\",\n",
    "    \"sec-ch-ua\": '\"Not A(Brand\";v=\"8\", \"Chromium\";v=\"132\", \"Google Chrome\";v=\"132\"',\n",
    "    \"sec-ch-ua-mobile\": \"?0\",\n",
    "    \"sec-ch-ua-platform\": '\"Windows\"',\n",
    "    \"sec-fetch-dest\": \"empty\",\n",
    "    \"sec-fetch-mode\": \"cors\",\n",
    "    \"sec-fetch-site\": \"same-site\",\n",
    "    \"Referer\": \"https://www.bjs.com/\",\n",
    "    \"Referrer-Policy\": \"strict-origin-when-cross-origin\",\n",
    "}"
   ]
  },
  {
   "cell_type": "code",
   "execution_count": 120,
   "id": "826c28a3-519b-45a5-be70-bfb999beb103",
   "metadata": {},
   "outputs": [
    {
     "data": {
      "application/vnd.jupyter.widget-view+json": {
       "model_id": "2b9f53b1306d4fa88fbf6bd188306163",
       "version_major": 2,
       "version_minor": 0
      },
      "text/plain": [
       "Parsing States:   0%|          | 0/21 [00:00<?, ?it/s]"
      ]
     },
     "metadata": {},
     "output_type": "display_data"
    },
    {
     "data": {
      "application/vnd.jupyter.widget-view+json": {
       "model_id": "110337037c864e8d9f796a4e9a248fad",
       "version_major": 2,
       "version_minor": 0
      },
      "text/plain": [
       "Parsing stores in AL:   0%|          | 0/1 [00:00<?, ?it/s]"
      ]
     },
     "metadata": {},
     "output_type": "display_data"
    },
    {
     "data": {
      "application/vnd.jupyter.widget-view+json": {
       "model_id": "b19fb71012d046fab0c35e7f675d28f9",
       "version_major": 2,
       "version_minor": 0
      },
      "text/plain": [
       "Parsing stores in CT:   0%|          | 0/13 [00:00<?, ?it/s]"
      ]
     },
     "metadata": {},
     "output_type": "display_data"
    },
    {
     "data": {
      "application/vnd.jupyter.widget-view+json": {
       "model_id": "085c2e1fd7b549599513c493dd0a6836",
       "version_major": 2,
       "version_minor": 0
      },
      "text/plain": [
       "Parsing stores in DE:   0%|          | 0/4 [00:00<?, ?it/s]"
      ]
     },
     "metadata": {},
     "output_type": "display_data"
    },
    {
     "data": {
      "application/vnd.jupyter.widget-view+json": {
       "model_id": "808494a7ad7441e3a8a62214399a9f75",
       "version_major": 2,
       "version_minor": 0
      },
      "text/plain": [
       "Parsing stores in FL:   0%|          | 0/41 [00:00<?, ?it/s]"
      ]
     },
     "metadata": {},
     "output_type": "display_data"
    },
    {
     "data": {
      "application/vnd.jupyter.widget-view+json": {
       "model_id": "0f98c9dfa1bb4defb39e839bc8616fd8",
       "version_major": 2,
       "version_minor": 0
      },
      "text/plain": [
       "Parsing stores in GA:   0%|          | 0/6 [00:00<?, ?it/s]"
      ]
     },
     "metadata": {},
     "output_type": "display_data"
    },
    {
     "data": {
      "application/vnd.jupyter.widget-view+json": {
       "model_id": "88a1ca73f5704f3d955b0018ae400b35",
       "version_major": 2,
       "version_minor": 0
      },
      "text/plain": [
       "Parsing stores in IN:   0%|          | 0/2 [00:00<?, ?it/s]"
      ]
     },
     "metadata": {},
     "output_type": "display_data"
    },
    {
     "data": {
      "application/vnd.jupyter.widget-view+json": {
       "model_id": "5a1e059da627496e9c35e2ae5f1eb30b",
       "version_major": 2,
       "version_minor": 0
      },
      "text/plain": [
       "Parsing stores in KY:   0%|          | 0/1 [00:00<?, ?it/s]"
      ]
     },
     "metadata": {},
     "output_type": "display_data"
    },
    {
     "data": {
      "application/vnd.jupyter.widget-view+json": {
       "model_id": "66515da0aa5a4abe885388e29c8a0407",
       "version_major": 2,
       "version_minor": 0
      },
      "text/plain": [
       "Parsing stores in ME:   0%|          | 0/3 [00:00<?, ?it/s]"
      ]
     },
     "metadata": {},
     "output_type": "display_data"
    },
    {
     "data": {
      "application/vnd.jupyter.widget-view+json": {
       "model_id": "fe6890b32bdb405290b3fc5e7aec7423",
       "version_major": 2,
       "version_minor": 0
      },
      "text/plain": [
       "Parsing stores in MD:   0%|          | 0/13 [00:00<?, ?it/s]"
      ]
     },
     "metadata": {},
     "output_type": "display_data"
    },
    {
     "data": {
      "application/vnd.jupyter.widget-view+json": {
       "model_id": "2d075a842632461496e6a390c01f1add",
       "version_major": 2,
       "version_minor": 0
      },
      "text/plain": [
       "Parsing stores in MA:   0%|          | 0/30 [00:00<?, ?it/s]"
      ]
     },
     "metadata": {},
     "output_type": "display_data"
    },
    {
     "data": {
      "application/vnd.jupyter.widget-view+json": {
       "model_id": "716e1d0fd42744f0a0924bd8d3139271",
       "version_major": 2,
       "version_minor": 0
      },
      "text/plain": [
       "Parsing stores in MI:   0%|          | 0/5 [00:00<?, ?it/s]"
      ]
     },
     "metadata": {},
     "output_type": "display_data"
    },
    {
     "data": {
      "application/vnd.jupyter.widget-view+json": {
       "model_id": "a169fd12a35a4654b6d1c1fafac485ef",
       "version_major": 2,
       "version_minor": 0
      },
      "text/plain": [
       "Parsing stores in NH:   0%|          | 0/7 [00:00<?, ?it/s]"
      ]
     },
     "metadata": {},
     "output_type": "display_data"
    },
    {
     "data": {
      "application/vnd.jupyter.widget-view+json": {
       "model_id": "cdbd4f817c5e45c3aa45f38b2e9f4192",
       "version_major": 2,
       "version_minor": 0
      },
      "text/plain": [
       "Parsing stores in NJ:   0%|          | 0/25 [00:00<?, ?it/s]"
      ]
     },
     "metadata": {},
     "output_type": "display_data"
    },
    {
     "data": {
      "application/vnd.jupyter.widget-view+json": {
       "model_id": "a209f65f3a394199983343ff55a1f3af",
       "version_major": 2,
       "version_minor": 0
      },
      "text/plain": [
       "Parsing stores in NY:   0%|          | 0/49 [00:00<?, ?it/s]"
      ]
     },
     "metadata": {},
     "output_type": "display_data"
    },
    {
     "data": {
      "application/vnd.jupyter.widget-view+json": {
       "model_id": "22b42572ae174bc59605d7e1098d06b3",
       "version_major": 2,
       "version_minor": 0
      },
      "text/plain": [
       "Parsing stores in NC:   0%|          | 0/10 [00:00<?, ?it/s]"
      ]
     },
     "metadata": {},
     "output_type": "display_data"
    },
    {
     "data": {
      "application/vnd.jupyter.widget-view+json": {
       "model_id": "1d967375ef904e5d81a630267c58cd51",
       "version_major": 2,
       "version_minor": 0
      },
      "text/plain": [
       "Parsing stores in OH:   0%|          | 0/8 [00:00<?, ?it/s]"
      ]
     },
     "metadata": {},
     "output_type": "display_data"
    },
    {
     "data": {
      "application/vnd.jupyter.widget-view+json": {
       "model_id": "1324be64de194186a3179ac59536c767",
       "version_major": 2,
       "version_minor": 0
      },
      "text/plain": [
       "Parsing stores in PA:   0%|          | 0/19 [00:00<?, ?it/s]"
      ]
     },
     "metadata": {},
     "output_type": "display_data"
    },
    {
     "data": {
      "application/vnd.jupyter.widget-view+json": {
       "model_id": "8ebf70a664e64d1dac7a06caecd6061a",
       "version_major": 2,
       "version_minor": 0
      },
      "text/plain": [
       "Parsing stores in RI:   0%|          | 0/5 [00:00<?, ?it/s]"
      ]
     },
     "metadata": {},
     "output_type": "display_data"
    },
    {
     "data": {
      "application/vnd.jupyter.widget-view+json": {
       "model_id": "a33fa1df7eef48a28a370cb6ee66a6d4",
       "version_major": 2,
       "version_minor": 0
      },
      "text/plain": [
       "Parsing stores in SC:   0%|          | 0/2 [00:00<?, ?it/s]"
      ]
     },
     "metadata": {},
     "output_type": "display_data"
    },
    {
     "data": {
      "application/vnd.jupyter.widget-view+json": {
       "model_id": "deff95d1fff9421f95ed6d538a36827b",
       "version_major": 2,
       "version_minor": 0
      },
      "text/plain": [
       "Parsing stores in TN:   0%|          | 0/4 [00:00<?, ?it/s]"
      ]
     },
     "metadata": {},
     "output_type": "display_data"
    },
    {
     "data": {
      "application/vnd.jupyter.widget-view+json": {
       "model_id": "168be84e9a294f1990ef852bf66853d4",
       "version_major": 2,
       "version_minor": 0
      },
      "text/plain": [
       "Parsing stores in VA:   0%|          | 0/15 [00:00<?, ?it/s]"
      ]
     },
     "metadata": {},
     "output_type": "display_data"
    }
   ],
   "source": [
    "for state in tqdm(states_list, desc=\"Parsing States\"):\n",
    "    state_code = state[\"StateCode\"]\n",
    "    towns = state[\"Towns\"]\n",
    "\n",
    "    state_store_list = []\n",
    "    # If File exists continue\n",
    "    if os.path.isfile(f\"data/states/{state_code}.gpkg\"):\n",
    "        continue\n",
    "\n",
    "    for town in tqdm(towns, desc=f\"Parsing stores in {state_code}\"):\n",
    "        store_id = town.split(\"|\")[0]\n",
    "        body = {\n",
    "            \"Town\": store_id,\n",
    "            \"latitude\": \"\",\n",
    "            \"longitude\": \"\",\n",
    "            \"radius\": \"\",\n",
    "            \"zipCode\": \"\",\n",
    "        }\n",
    "        r = requests.post(search_url, data=json.dumps(body), headers=headers)\n",
    "        if r.status_code != 200:\n",
    "            print(r.reason, r.status_code, store_id)\n",
    "\n",
    "        store_json = r.json()[\"Stores\"][\"PhysicalStore\"][0]\n",
    "        point = Point(store_json[\"longitude\"], store_json[\"latitude\"])\n",
    "        store_dict = {\"STATE\": state_code.upper(), \"geometry\": point}\n",
    "        state_store_list.append(store_dict)\n",
    "        time.sleep(random.uniform(0.01, 0.5))\n",
    "\n",
    "    if state_store_list:\n",
    "        bjs_state_gdf = gpd.GeoDataFrame(state_store_list, crs=4326)\n",
    "        bjs_state_gdf.to_file(f\"data/states/{state_code}.gpkg\")"
   ]
  },
  {
   "cell_type": "code",
   "execution_count": 157,
   "id": "eba6646a-fb99-4d01-9b3f-adf29223cb03",
   "metadata": {},
   "outputs": [],
   "source": [
    "bjs_gdfs = []\n",
    "states_path = \"data/states\"\n",
    "for file in os.listdir(\"data/states\"):\n",
    "    constructed_path = os.path.join(states_path, file)\n",
    "    if constructed_path.endswith(\".gpkg\"):\n",
    "        bjs_gdf = gpd.read_file(constructed_path)\n",
    "        bjs_gdfs.append(bjs_gdf)"
   ]
  },
  {
   "cell_type": "code",
   "execution_count": 158,
   "id": "34f8b060-1d6b-46a1-8aeb-433621895afd",
   "metadata": {},
   "outputs": [],
   "source": [
    "bjs_gdf = gpd.GeoDataFrame(pd.concat(bjs_gdfs, ignore_index=True))\n",
    "bjs_gdf = bjs_gdf.to_crs(3968)\n",
    "bjs_gdf.to_file(\"data/bjs.gpkg\")"
   ]
  },
  {
   "cell_type": "code",
   "execution_count": 159,
   "id": "67feebeb-cde5-4ebd-a7fc-e06f42761555",
   "metadata": {},
   "outputs": [],
   "source": [
    "bjs_counts_gdf = pd.DataFrame(bjs_gdf.groupby(\"STATE\").size(), columns=[\"BJS\"])\n",
    "bjs_counts_gdf = bjs_counts_gdf.reset_index()\n",
    "bjs_counts_gdf = bjs_counts_gdf.rename(columns={\"STATE\": \"STUSPS\"})"
   ]
  },
  {
   "cell_type": "markdown",
   "id": "94cb32a2-faf0-40fa-8616-e8f2275eca72",
   "metadata": {},
   "source": [
    "## Combine With States"
   ]
  },
  {
   "cell_type": "code",
   "execution_count": 160,
   "id": "c062806b-5f76-4d7e-a226-31383a266b6a",
   "metadata": {},
   "outputs": [],
   "source": [
    "bjs_state_counts_gdf = states_with_population_df.merge(\n",
    "    bjs_counts_gdf, on=\"STUSPS\", how=\"left\"\n",
    ")"
   ]
  },
  {
   "cell_type": "code",
   "execution_count": 161,
   "id": "300ee45e-48b8-48f6-9a3a-efd4904a5efe",
   "metadata": {},
   "outputs": [],
   "source": [
    "bjs_state_counts_gdf = bjs_state_counts_gdf.fillna(0)\n",
    "bjs_state_counts_gdf[\"BJS\"] = bjs_state_counts_gdf[\"BJS\"].astype(int)"
   ]
  },
  {
   "cell_type": "code",
   "execution_count": 162,
   "id": "8e8b581c-4e0c-40b8-81a9-4ea014470b40",
   "metadata": {},
   "outputs": [],
   "source": [
    "bjs_state_counts_gdf[\"per_1000\"] = bjs_state_counts_gdf[\"BJS\"] / (\n",
    "    bjs_state_counts_gdf[\"POPULATION\"] / 1000\n",
    ")\n",
    "bjs_state_counts_gdf[\"per_10k\"] = bjs_state_counts_gdf[\"BJS\"] / (\n",
    "    bjs_state_counts_gdf[\"POPULATION\"] / 10_000\n",
    ")\n",
    "bjs_state_counts_gdf[\"per_100k\"] = bjs_state_counts_gdf[\"BJS\"] / (\n",
    "    bjs_state_counts_gdf[\"POPULATION\"] / 100000\n",
    ")\n",
    "bjs_state_counts_gdf[\"per_500k\"] = bjs_state_counts_gdf[\"BJS\"] / (\n",
    "    bjs_state_counts_gdf[\"POPULATION\"] / 500_000\n",
    ")\n",
    "bjs_state_counts_gdf[\"per_1m\"] = bjs_state_counts_gdf[\"BJS\"] / (\n",
    "    bjs_state_counts_gdf[\"POPULATION\"] / 1_000_000\n",
    ")"
   ]
  },
  {
   "cell_type": "code",
   "execution_count": 163,
   "id": "237a0e6a-ccc2-4f3b-baad-d36ce4ecc481",
   "metadata": {},
   "outputs": [],
   "source": [
    "bjs_state_counts_gdf = bjs_state_counts_gdf.fillna(0)"
   ]
  },
  {
   "cell_type": "code",
   "execution_count": 164,
   "id": "944acfaa-313b-4a9f-aecc-53fe95e188be",
   "metadata": {},
   "outputs": [],
   "source": [
    "bjs_state_counts_gdf = bjs_state_counts_gdf.to_crs(3968)\n",
    "bjs_state_counts_gdf.to_file(f\"data/bjs_per_states.gpkg\")"
   ]
  },
  {
   "cell_type": "code",
   "execution_count": null,
   "id": "3eba1b99-001c-4de4-9fe1-1a06ea51e118",
   "metadata": {},
   "outputs": [],
   "source": []
  },
  {
   "cell_type": "code",
   "execution_count": null,
   "id": "8a23d1fa-408d-4071-9513-e5b0da2e5cfc",
   "metadata": {},
   "outputs": [],
   "source": []
  }
 ],
 "metadata": {
  "kernelspec": {
   "display_name": "Python 3 (ipykernel)",
   "language": "python",
   "name": "python3"
  },
  "language_info": {
   "codemirror_mode": {
    "name": "ipython",
    "version": 3
   },
   "file_extension": ".py",
   "mimetype": "text/x-python",
   "name": "python",
   "nbconvert_exporter": "python",
   "pygments_lexer": "ipython3",
   "version": "3.11.11"
  }
 },
 "nbformat": 4,
 "nbformat_minor": 5
}
