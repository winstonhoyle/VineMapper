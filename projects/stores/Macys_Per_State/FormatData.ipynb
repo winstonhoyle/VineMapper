{
 "cells": [
  {
   "cell_type": "code",
   "execution_count": 1,
   "id": "8eca3131-85dc-48b3-b640-f384104e123c",
   "metadata": {},
   "outputs": [],
   "source": [
    "import json\n",
    "import os\n",
    "import random\n",
    "import time"
   ]
  },
  {
   "cell_type": "code",
   "execution_count": 2,
   "id": "bc436e38-234d-44fd-b67b-d1f2974606d3",
   "metadata": {},
   "outputs": [],
   "source": [
    "from bs4 import BeautifulSoup\n",
    "import cloudscraper\n",
    "import geopandas as gpd\n",
    "import pandas as pd"
   ]
  },
  {
   "cell_type": "code",
   "execution_count": 3,
   "id": "13bbdea5-6ae9-4a3a-937a-12bb704da0f4",
   "metadata": {},
   "outputs": [],
   "source": [
    "from shapely.geometry import Point\n",
    "from tqdm.notebook import tqdm"
   ]
  },
  {
   "cell_type": "markdown",
   "id": "44a3df26-78d3-479c-99a2-c0e1ba91352e",
   "metadata": {},
   "source": [
    "## Get State Data"
   ]
  },
  {
   "cell_type": "code",
   "execution_count": 4,
   "id": "615eeabf-033b-425a-a81f-d7b4dd9e3a3e",
   "metadata": {},
   "outputs": [],
   "source": [
    "file_path = \"data/cb_2018_us_state_500k/cb_2018_us_state_500k.shp\"\n",
    "states_df = gpd.read_file(file_path)"
   ]
  },
  {
   "cell_type": "code",
   "execution_count": 5,
   "id": "502c6bfe-0912-4d37-95b0-47e7a14b468f",
   "metadata": {},
   "outputs": [],
   "source": [
    "states_df = states_df[[\"STUSPS\", \"NAME\", \"geometry\"]]"
   ]
  },
  {
   "cell_type": "markdown",
   "id": "4257620c-13d7-4071-bae2-a5a2aeae5ba7",
   "metadata": {},
   "source": [
    "## Get Population data"
   ]
  },
  {
   "cell_type": "code",
   "execution_count": 6,
   "id": "6c0e7a1d-5a9a-4c10-a5d4-28dc681a8a27",
   "metadata": {},
   "outputs": [],
   "source": [
    "state_populations = pd.read_excel(\n",
    "    \"data/NST-EST2024-POP.xlsx\", sheet_name=None, engine=\"openpyxl\"\n",
    ")"
   ]
  },
  {
   "cell_type": "code",
   "execution_count": 7,
   "id": "2614c2ab-96ec-4304-a287-6fd013fedbbb",
   "metadata": {},
   "outputs": [],
   "source": [
    "state_populations_df = state_populations[\"NST-EST2024-POP\"][\n",
    "    [\n",
    "        \"table with row headers in column A and column headers in rows 3 through 4. (leading dots indicate sub-parts)\",\n",
    "        \"Unnamed: 5\",\n",
    "    ]\n",
    "]\n",
    "state_populations_df = state_populations_df.rename(\n",
    "    columns={\n",
    "        \"table with row headers in column A and column headers in rows 3 through 4. (leading dots indicate sub-parts)\": \"NAME\",\n",
    "        \"Unnamed: 5\": \"POPULATION\",\n",
    "    }\n",
    ")\n",
    "state_populations_df[\"NAME\"] = state_populations_df[\"NAME\"].str[1:]"
   ]
  },
  {
   "cell_type": "code",
   "execution_count": 8,
   "id": "2a1a8b6e-a0bf-486b-b62e-46a23ca718e2",
   "metadata": {},
   "outputs": [],
   "source": [
    "states_with_population_df = states_df.merge(state_populations_df, on=\"NAME\", how=\"left\")\n",
    "states_with_population_df = states_with_population_df[\n",
    "    [\"STUSPS\", \"NAME\", \"POPULATION\", \"geometry\"]\n",
    "]"
   ]
  },
  {
   "cell_type": "markdown",
   "id": "6d2f1ce9-a36c-4292-99a0-ad42032c5ad4",
   "metadata": {},
   "source": [
    "## Get Macys Data"
   ]
  },
  {
   "cell_type": "code",
   "execution_count": 38,
   "id": "3902428a-92ab-4760-98db-4df4874009dc",
   "metadata": {},
   "outputs": [],
   "source": [
    "scraper = cloudscraper.create_scraper()"
   ]
  },
  {
   "cell_type": "code",
   "execution_count": 39,
   "id": "42ff52bc-3ed5-4e6c-b222-a02e95e62e8d",
   "metadata": {},
   "outputs": [],
   "source": [
    "def get_locations(url: str) -> list:\n",
    "    headers = {\"User-Agent\": \"Mozilla/5.0\"}\n",
    "\n",
    "    r = scraper.get(url, headers=headers)\n",
    "    if r.status_code != 200:\n",
    "        print(url, r.status_code, r.reason)\n",
    "        return []\n",
    "\n",
    "    soup = BeautifulSoup(r.text, \"html.parser\")\n",
    "    location_divs = soup.find_all(\"div\", {\"class\": \"map-list-item is-single\"})\n",
    "\n",
    "    if not location_divs:\n",
    "        print(\"No Divs\", url)\n",
    "        return []\n",
    "    else:\n",
    "        return location_divs"
   ]
  },
  {
   "cell_type": "code",
   "execution_count": 40,
   "id": "996cc77a-33c7-4fd5-b362-d16c81cd08aa",
   "metadata": {},
   "outputs": [],
   "source": [
    "def get_stores(url: str) -> list:\n",
    "    r = scraper.get(url)\n",
    "    if r.status_code != 200:\n",
    "        print(\"Status Code:\", r.status_code, url)\n",
    "        return []\n",
    "    soup = BeautifulSoup(r.text, \"html.parser\")\n",
    "    cards = soup.find_all(\"a\", {\"class\": \"ga-link fw-600\"})\n",
    "    return cards"
   ]
  },
  {
   "cell_type": "code",
   "execution_count": 41,
   "id": "98a79e3c-5dee-4dc7-bb48-5b6df8446b2b",
   "metadata": {},
   "outputs": [],
   "source": [
    "def get_coords(url: str) -> Point:\n",
    "    r = scraper.get(url)\n",
    "    if r.status_code != 200:\n",
    "        print(\"Status Code:\", r.status_code, url)\n",
    "        return {}\n",
    "\n",
    "    soup = BeautifulSoup(r.text, \"html.parser\")\n",
    "    macys_store_json = json.loads(\n",
    "        soup.find(\"script\", {\"type\": \"application/ld+json\"}).text\n",
    "    )[0]\n",
    "    lat = float(macys_store_json[\"geo\"][\"latitude\"])\n",
    "    lon = float(macys_store_json[\"geo\"][\"longitude\"])\n",
    "    return Point(lon, lat)"
   ]
  },
  {
   "cell_type": "code",
   "execution_count": 42,
   "id": "57180847-49ee-46cc-9612-bfebcd53bed2",
   "metadata": {},
   "outputs": [
    {
     "data": {
      "application/vnd.jupyter.widget-view+json": {
       "model_id": "31e357c616df408e9344a8c0530b5163",
       "version_major": 2,
       "version_minor": 0
      },
      "text/plain": [
       "Parsing States:   0%|          | 0/56 [00:00<?, ?it/s]"
      ]
     },
     "metadata": {},
     "output_type": "display_data"
    },
    {
     "name": "stdout",
     "output_type": "stream",
     "text": [
      "ms\n"
     ]
    },
    {
     "data": {
      "application/vnd.jupyter.widget-view+json": {
       "model_id": "34c928fd78bb45fca0ceda3e3f70bb81",
       "version_major": 2,
       "version_minor": 0
      },
      "text/plain": [
       "Parsing Locations In nc:   0%|          | 0/5 [00:00<?, ?it/s]"
      ]
     },
     "metadata": {},
     "output_type": "display_data"
    },
    {
     "data": {
      "application/vnd.jupyter.widget-view+json": {
       "model_id": "70b9a399662f4dbaa1b3a0f82fb41f6e",
       "version_major": 2,
       "version_minor": 0
      },
      "text/plain": [
       "Parsing Locations In ok:   0%|          | 0/2 [00:00<?, ?it/s]"
      ]
     },
     "metadata": {},
     "output_type": "display_data"
    },
    {
     "data": {
      "application/vnd.jupyter.widget-view+json": {
       "model_id": "8570215c6eb1480fbb24bbf3b1e119e9",
       "version_major": 2,
       "version_minor": 0
      },
      "text/plain": [
       "Parsing Locations In va:   0%|          | 0/14 [00:00<?, ?it/s]"
      ]
     },
     "metadata": {},
     "output_type": "display_data"
    },
    {
     "data": {
      "application/vnd.jupyter.widget-view+json": {
       "model_id": "0a795076e6234939b4986406f8c2784e",
       "version_major": 2,
       "version_minor": 0
      },
      "text/plain": [
       "Parsing Locations In wv:   0%|          | 0/1 [00:00<?, ?it/s]"
      ]
     },
     "metadata": {},
     "output_type": "display_data"
    },
    {
     "data": {
      "application/vnd.jupyter.widget-view+json": {
       "model_id": "15e980277431427894a0136e9210b8c5",
       "version_major": 2,
       "version_minor": 0
      },
      "text/plain": [
       "Parsing Locations In la:   0%|          | 0/3 [00:00<?, ?it/s]"
      ]
     },
     "metadata": {},
     "output_type": "display_data"
    },
    {
     "data": {
      "application/vnd.jupyter.widget-view+json": {
       "model_id": "326d6b9b64444b2b8dab94873a540bf3",
       "version_major": 2,
       "version_minor": 0
      },
      "text/plain": [
       "Parsing Locations In mi:   0%|          | 0/13 [00:00<?, ?it/s]"
      ]
     },
     "metadata": {},
     "output_type": "display_data"
    },
    {
     "data": {
      "application/vnd.jupyter.widget-view+json": {
       "model_id": "90b3c463e50444779767bac43de19c62",
       "version_major": 2,
       "version_minor": 0
      },
      "text/plain": [
       "Parsing Locations In ma:   0%|          | 0/16 [00:00<?, ?it/s]"
      ]
     },
     "metadata": {},
     "output_type": "display_data"
    },
    {
     "data": {
      "application/vnd.jupyter.widget-view+json": {
       "model_id": "8bf9c87b2cc3400cbfb6ea5b3fa39172",
       "version_major": 2,
       "version_minor": 0
      },
      "text/plain": [
       "Parsing Locations In id:   0%|          | 0/2 [00:00<?, ?it/s]"
      ]
     },
     "metadata": {},
     "output_type": "display_data"
    },
    {
     "data": {
      "application/vnd.jupyter.widget-view+json": {
       "model_id": "978fa5577a724795a4d08a783595ec45",
       "version_major": 2,
       "version_minor": 0
      },
      "text/plain": [
       "Parsing Locations In fl:   0%|          | 0/29 [00:00<?, ?it/s]"
      ]
     },
     "metadata": {},
     "output_type": "display_data"
    },
    {
     "name": "stdout",
     "output_type": "stream",
     "text": [
      "ne\n"
     ]
    },
    {
     "data": {
      "application/vnd.jupyter.widget-view+json": {
       "model_id": "036574a4b497481f8c7073434e3ad195",
       "version_major": 2,
       "version_minor": 0
      },
      "text/plain": [
       "Parsing Locations In wa:   0%|          | 0/15 [00:00<?, ?it/s]"
      ]
     },
     "metadata": {},
     "output_type": "display_data"
    },
    {
     "data": {
      "application/vnd.jupyter.widget-view+json": {
       "model_id": "30dfce7483dc454996b4fd7b4f4bedff",
       "version_major": 2,
       "version_minor": 0
      },
      "text/plain": [
       "Parsing Locations In nm:   0%|          | 0/1 [00:00<?, ?it/s]"
      ]
     },
     "metadata": {},
     "output_type": "display_data"
    },
    {
     "data": {
      "application/vnd.jupyter.widget-view+json": {
       "model_id": "0225dcdf7edb46e499f0dd490f113a8f",
       "version_major": 2,
       "version_minor": 0
      },
      "text/plain": [
       "Parsing Locations In pr:   0%|          | 0/2 [00:00<?, ?it/s]"
      ]
     },
     "metadata": {},
     "output_type": "display_data"
    },
    {
     "data": {
      "application/vnd.jupyter.widget-view+json": {
       "model_id": "37b7e57685f541b79403e430c8ba3fd4",
       "version_major": 2,
       "version_minor": 0
      },
      "text/plain": [
       "Parsing Locations In sd:   0%|          | 0/1 [00:00<?, ?it/s]"
      ]
     },
     "metadata": {},
     "output_type": "display_data"
    },
    {
     "data": {
      "application/vnd.jupyter.widget-view+json": {
       "model_id": "a52c3db28e9044039c013e2c6cc7b0f2",
       "version_major": 2,
       "version_minor": 0
      },
      "text/plain": [
       "Parsing Locations In tx:   0%|          | 0/27 [00:00<?, ?it/s]"
      ]
     },
     "metadata": {},
     "output_type": "display_data"
    },
    {
     "data": {
      "application/vnd.jupyter.widget-view+json": {
       "model_id": "4af631bb67cb4914863d787dcb6ffcba",
       "version_major": 2,
       "version_minor": 0
      },
      "text/plain": [
       "Parsing Locations In ca:   0%|          | 0/75 [00:00<?, ?it/s]"
      ]
     },
     "metadata": {},
     "output_type": "display_data"
    },
    {
     "data": {
      "application/vnd.jupyter.widget-view+json": {
       "model_id": "e314655794264d4bb033d94af6639f51",
       "version_major": 2,
       "version_minor": 0
      },
      "text/plain": [
       "Parsing Locations In al:   0%|          | 0/1 [00:00<?, ?it/s]"
      ]
     },
     "metadata": {},
     "output_type": "display_data"
    },
    {
     "data": {
      "application/vnd.jupyter.widget-view+json": {
       "model_id": "59931fda67954be99330d91a96238bc2",
       "version_major": 2,
       "version_minor": 0
      },
      "text/plain": [
       "Parsing Locations In ga:   0%|          | 0/15 [00:00<?, ?it/s]"
      ]
     },
     "metadata": {},
     "output_type": "display_data"
    },
    {
     "data": {
      "application/vnd.jupyter.widget-view+json": {
       "model_id": "6ee19460fb464cd794ef64e5250a4b30",
       "version_major": 2,
       "version_minor": 0
      },
      "text/plain": [
       "Parsing Locations In pa:   0%|          | 0/18 [00:00<?, ?it/s]"
      ]
     },
     "metadata": {},
     "output_type": "display_data"
    },
    {
     "data": {
      "application/vnd.jupyter.widget-view+json": {
       "model_id": "5fdeee33bb634065b1201c604f6dc52d",
       "version_major": 2,
       "version_minor": 0
      },
      "text/plain": [
       "Parsing Locations In mo:   0%|          | 0/7 [00:00<?, ?it/s]"
      ]
     },
     "metadata": {},
     "output_type": "display_data"
    },
    {
     "data": {
      "application/vnd.jupyter.widget-view+json": {
       "model_id": "72e21ab307af48aa91b7ce5b4f818c58",
       "version_major": 2,
       "version_minor": 0
      },
      "text/plain": [
       "Parsing Locations In co:   0%|          | 0/8 [00:00<?, ?it/s]"
      ]
     },
     "metadata": {},
     "output_type": "display_data"
    },
    {
     "data": {
      "application/vnd.jupyter.widget-view+json": {
       "model_id": "eec04dd5a6a84b40adc93e236262751d",
       "version_major": 2,
       "version_minor": 0
      },
      "text/plain": [
       "Parsing Locations In ut:   0%|          | 0/2 [00:00<?, ?it/s]"
      ]
     },
     "metadata": {},
     "output_type": "display_data"
    },
    {
     "data": {
      "application/vnd.jupyter.widget-view+json": {
       "model_id": "32efd6f606e04e109ed4102698869500",
       "version_major": 2,
       "version_minor": 0
      },
      "text/plain": [
       "Parsing Locations In tn:   0%|          | 0/3 [00:00<?, ?it/s]"
      ]
     },
     "metadata": {},
     "output_type": "display_data"
    },
    {
     "name": "stdout",
     "output_type": "stream",
     "text": [
      "wy\n"
     ]
    },
    {
     "data": {
      "application/vnd.jupyter.widget-view+json": {
       "model_id": "6f9e2144c0e7450e99642756578772c8",
       "version_major": 2,
       "version_minor": 0
      },
      "text/plain": [
       "Parsing Locations In ny:   0%|          | 0/28 [00:00<?, ?it/s]"
      ]
     },
     "metadata": {},
     "output_type": "display_data"
    },
    {
     "data": {
      "application/vnd.jupyter.widget-view+json": {
       "model_id": "426e21f3c937459c858f7f8925b4ab44",
       "version_major": 2,
       "version_minor": 0
      },
      "text/plain": [
       "Parsing Locations In ks:   0%|          | 0/2 [00:00<?, ?it/s]"
      ]
     },
     "metadata": {},
     "output_type": "display_data"
    },
    {
     "name": "stdout",
     "output_type": "stream",
     "text": [
      "ak\n"
     ]
    },
    {
     "data": {
      "application/vnd.jupyter.widget-view+json": {
       "model_id": "fb727a0e0376432fb8a731409b66426f",
       "version_major": 2,
       "version_minor": 0
      },
      "text/plain": [
       "Parsing Locations In nv:   0%|          | 0/3 [00:00<?, ?it/s]"
      ]
     },
     "metadata": {},
     "output_type": "display_data"
    },
    {
     "data": {
      "application/vnd.jupyter.widget-view+json": {
       "model_id": "1422b54292054327b151eda6b9e1c3cb",
       "version_major": 2,
       "version_minor": 0
      },
      "text/plain": [
       "Parsing Locations In il:   0%|          | 0/18 [00:00<?, ?it/s]"
      ]
     },
     "metadata": {},
     "output_type": "display_data"
    },
    {
     "name": "stdout",
     "output_type": "stream",
     "text": [
      "vt\n"
     ]
    },
    {
     "data": {
      "application/vnd.jupyter.widget-view+json": {
       "model_id": "622d7a5e92b446cda7d4c6613fd9b9fb",
       "version_major": 2,
       "version_minor": 0
      },
      "text/plain": [
       "Parsing Locations In mt:   0%|          | 0/1 [00:00<?, ?it/s]"
      ]
     },
     "metadata": {},
     "output_type": "display_data"
    },
    {
     "name": "stdout",
     "output_type": "stream",
     "text": [
      "ia\n"
     ]
    },
    {
     "data": {
      "application/vnd.jupyter.widget-view+json": {
       "model_id": "cb5b32035fd245b4b1b9f37e26754b1a",
       "version_major": 2,
       "version_minor": 0
      },
      "text/plain": [
       "Parsing Locations In sc:   0%|          | 0/2 [00:00<?, ?it/s]"
      ]
     },
     "metadata": {},
     "output_type": "display_data"
    },
    {
     "data": {
      "application/vnd.jupyter.widget-view+json": {
       "model_id": "454db33a36bf40c689b67d68fd9f107f",
       "version_major": 2,
       "version_minor": 0
      },
      "text/plain": [
       "Parsing Locations In nh:   0%|          | 0/4 [00:00<?, ?it/s]"
      ]
     },
     "metadata": {},
     "output_type": "display_data"
    },
    {
     "data": {
      "application/vnd.jupyter.widget-view+json": {
       "model_id": "c69ec1e644ef4e40b404e1055524123c",
       "version_major": 2,
       "version_minor": 0
      },
      "text/plain": [
       "Parsing Locations In az:   0%|          | 0/7 [00:00<?, ?it/s]"
      ]
     },
     "metadata": {},
     "output_type": "display_data"
    },
    {
     "data": {
      "application/vnd.jupyter.widget-view+json": {
       "model_id": "71c60e340f1e4975b937509285abf3aa",
       "version_major": 2,
       "version_minor": 0
      },
      "text/plain": [
       "Parsing Locations In dc:   0%|          | 0/1 [00:00<?, ?it/s]"
      ]
     },
     "metadata": {},
     "output_type": "display_data"
    },
    {
     "name": "stdout",
     "output_type": "stream",
     "text": [
      "as\n",
      "vi\n"
     ]
    },
    {
     "data": {
      "application/vnd.jupyter.widget-view+json": {
       "model_id": "25f42376d0314f2cb6b238fabbcf3460",
       "version_major": 2,
       "version_minor": 0
      },
      "text/plain": [
       "Parsing Locations In nj:   0%|          | 0/23 [00:00<?, ?it/s]"
      ]
     },
     "metadata": {},
     "output_type": "display_data"
    },
    {
     "data": {
      "application/vnd.jupyter.widget-view+json": {
       "model_id": "5a5577c88fc64ae8bb1c440979632c19",
       "version_major": 2,
       "version_minor": 0
      },
      "text/plain": [
       "Parsing Locations In md:   0%|          | 0/13 [00:00<?, ?it/s]"
      ]
     },
     "metadata": {},
     "output_type": "display_data"
    },
    {
     "data": {
      "application/vnd.jupyter.widget-view+json": {
       "model_id": "7ab5b373c093429a99532d77a98d92f3",
       "version_major": 2,
       "version_minor": 0
      },
      "text/plain": [
       "Parsing Locations In me:   0%|          | 0/1 [00:00<?, ?it/s]"
      ]
     },
     "metadata": {},
     "output_type": "display_data"
    },
    {
     "data": {
      "application/vnd.jupyter.widget-view+json": {
       "model_id": "102b46ef7d3340178ddb5f3b6829ca68",
       "version_major": 2,
       "version_minor": 0
      },
      "text/plain": [
       "Parsing Locations In hi:   0%|          | 0/6 [00:00<?, ?it/s]"
      ]
     },
     "metadata": {},
     "output_type": "display_data"
    },
    {
     "data": {
      "application/vnd.jupyter.widget-view+json": {
       "model_id": "18d768464c1a4b1680a45638a75759f8",
       "version_major": 2,
       "version_minor": 0
      },
      "text/plain": [
       "Parsing Locations In de:   0%|          | 0/2 [00:00<?, ?it/s]"
      ]
     },
     "metadata": {},
     "output_type": "display_data"
    },
    {
     "data": {
      "application/vnd.jupyter.widget-view+json": {
       "model_id": "5a8bce9f5a164a70ab7826f2e40415fc",
       "version_major": 2,
       "version_minor": 0
      },
      "text/plain": [
       "Parsing Locations In gu:   0%|          | 0/1 [00:00<?, ?it/s]"
      ]
     },
     "metadata": {},
     "output_type": "display_data"
    },
    {
     "name": "stdout",
     "output_type": "stream",
     "text": [
      "mp\n"
     ]
    },
    {
     "data": {
      "application/vnd.jupyter.widget-view+json": {
       "model_id": "25bbce3a807d4623bfbacd97679fcf61",
       "version_major": 2,
       "version_minor": 0
      },
      "text/plain": [
       "Parsing Locations In ri:   0%|          | 0/2 [00:00<?, ?it/s]"
      ]
     },
     "metadata": {},
     "output_type": "display_data"
    },
    {
     "data": {
      "application/vnd.jupyter.widget-view+json": {
       "model_id": "ea9bb5fef2f3479d859c54e8c3bf0543",
       "version_major": 2,
       "version_minor": 0
      },
      "text/plain": [
       "Parsing Locations In ky:   0%|          | 0/3 [00:00<?, ?it/s]"
      ]
     },
     "metadata": {},
     "output_type": "display_data"
    },
    {
     "data": {
      "application/vnd.jupyter.widget-view+json": {
       "model_id": "28cf65fc07e04fcda1d77ee53c133427",
       "version_major": 2,
       "version_minor": 0
      },
      "text/plain": [
       "Parsing Locations In oh:   0%|          | 0/14 [00:00<?, ?it/s]"
      ]
     },
     "metadata": {},
     "output_type": "display_data"
    },
    {
     "data": {
      "application/vnd.jupyter.widget-view+json": {
       "model_id": "38d69e4fe0594ddaa09f19622af2238e",
       "version_major": 2,
       "version_minor": 0
      },
      "text/plain": [
       "Parsing Locations In wi:   0%|          | 0/4 [00:00<?, ?it/s]"
      ]
     },
     "metadata": {},
     "output_type": "display_data"
    },
    {
     "data": {
      "application/vnd.jupyter.widget-view+json": {
       "model_id": "71cd609320e1475da3d6ed6c4732d037",
       "version_major": 2,
       "version_minor": 0
      },
      "text/plain": [
       "Parsing Locations In or:   0%|          | 0/7 [00:00<?, ?it/s]"
      ]
     },
     "metadata": {},
     "output_type": "display_data"
    },
    {
     "data": {
      "application/vnd.jupyter.widget-view+json": {
       "model_id": "2ddd18ce540846c9ae2b15a4b70d1091",
       "version_major": 2,
       "version_minor": 0
      },
      "text/plain": [
       "Parsing Locations In nd:   0%|          | 0/1 [00:00<?, ?it/s]"
      ]
     },
     "metadata": {},
     "output_type": "display_data"
    },
    {
     "name": "stdout",
     "output_type": "stream",
     "text": [
      "ar\n"
     ]
    },
    {
     "data": {
      "application/vnd.jupyter.widget-view+json": {
       "model_id": "c58db8f3e1764adaa900687e13186de3",
       "version_major": 2,
       "version_minor": 0
      },
      "text/plain": [
       "Parsing Locations In in:   0%|          | 0/8 [00:00<?, ?it/s]"
      ]
     },
     "metadata": {},
     "output_type": "display_data"
    },
    {
     "data": {
      "application/vnd.jupyter.widget-view+json": {
       "model_id": "1e1c688a715a42148077727de5d3c4f4",
       "version_major": 2,
       "version_minor": 0
      },
      "text/plain": [
       "Parsing Locations In mn:   0%|          | 0/8 [00:00<?, ?it/s]"
      ]
     },
     "metadata": {},
     "output_type": "display_data"
    },
    {
     "data": {
      "application/vnd.jupyter.widget-view+json": {
       "model_id": "e5b71202317a4f14b7a6a1dad9e2c8d5",
       "version_major": 2,
       "version_minor": 0
      },
      "text/plain": [
       "Parsing Locations In ct:   0%|          | 0/6 [00:00<?, ?it/s]"
      ]
     },
     "metadata": {},
     "output_type": "display_data"
    }
   ],
   "source": [
    "store_list = []\n",
    "url_base = \"https://www.macys.com/stores/\"\n",
    "\n",
    "for i in tqdm(range(len(states_df)), desc=\"Parsing States\"):\n",
    "    # Get State code\n",
    "    state_store_list = []\n",
    "    state_code = states_df.iloc[i][\"STUSPS\"].lower()\n",
    "\n",
    "    # If File exists continue\n",
    "    if os.path.isfile(f\"data/states/{state_code}.gpkg\"):\n",
    "        continue\n",
    "\n",
    "    # Get all locations in a state\n",
    "    url = os.path.join(url_base, state_code) + \"/\"\n",
    "    locations_divs = get_locations(url)\n",
    "\n",
    "    if not locations_divs:\n",
    "        print(state_code)\n",
    "        continue\n",
    "    elif (\n",
    "        locations_divs[0].find(\"a\").attrs[\"href\"] == \"https://www.macys.com/stores/gu/\"\n",
    "    ):\n",
    "        print(state_code)\n",
    "        continue\n",
    "\n",
    "    # Parse all locations in a state\n",
    "    for locations_div in tqdm(\n",
    "        locations_divs, desc=f\"Parsing Locations In {state_code}\"\n",
    "    ):\n",
    "        locations_a = locations_div.find(\"a\")\n",
    "        location_url = locations_a.attrs[\"href\"]\n",
    "        location_cards = get_stores(location_url)\n",
    "\n",
    "        # Multiple stores in locations, parse the stores per location\n",
    "        for location_card in location_cards:\n",
    "            store_url = location_card.attrs[\"href\"]\n",
    "            point = get_coords(store_url)\n",
    "            store_dict = {\n",
    "                \"STATE\": state_code,\n",
    "                \"geometry\": point,\n",
    "            }\n",
    "            store_list.append(store_dict)\n",
    "            state_store_list.append(store_dict)\n",
    "            time.sleep(random.uniform(0.01, 0.5))\n",
    "\n",
    "    if state_store_list:\n",
    "        state_macys_gdf = gpd.GeoDataFrame(state_store_list, crs=4326)\n",
    "        state_macys_gdf.to_file(f\"data/states/{state_code}.gpkg\")"
   ]
  },
  {
   "cell_type": "markdown",
   "id": "f2e1d560-e60f-4655-9502-3ba103884809",
   "metadata": {},
   "source": [
    "#### If the above cells breaks just keep running until complete. Then run the line below"
   ]
  },
  {
   "cell_type": "code",
   "execution_count": 43,
   "id": "48487d99-9fc6-4650-9192-c142c5d86cc3",
   "metadata": {},
   "outputs": [],
   "source": [
    "macys_gdfs = []\n",
    "states_path = \"data/states\"\n",
    "for file in os.listdir(\"data/states\"):\n",
    "    constructed_path = os.path.join(states_path, file)\n",
    "    if constructed_path.endswith(\".gpkg\"):\n",
    "        state_macys_gdf = gpd.read_file(constructed_path)\n",
    "        macys_gdfs.append(state_macys_gdf)"
   ]
  },
  {
   "cell_type": "code",
   "execution_count": 44,
   "id": "4700ceff-80d8-4b4a-97af-f6d9c801c052",
   "metadata": {},
   "outputs": [],
   "source": [
    "macys_gdf = gpd.GeoDataFrame(pd.concat(macys_gdfs, ignore_index=True))"
   ]
  },
  {
   "cell_type": "code",
   "execution_count": 45,
   "id": "30cdf6ab-4324-457b-bfc1-215c1c9fe2ce",
   "metadata": {},
   "outputs": [],
   "source": [
    "macys_gdf = macys_gdf.to_crs(9311)\n",
    "macys_gdf.to_file(f\"data/stores.gpkg\")"
   ]
  },
  {
   "cell_type": "markdown",
   "id": "94cb32a2-faf0-40fa-8616-e8f2275eca72",
   "metadata": {},
   "source": [
    "## Combine With States"
   ]
  },
  {
   "cell_type": "code",
   "execution_count": 58,
   "id": "eba6646a-fb99-4d01-9b3f-adf29223cb03",
   "metadata": {},
   "outputs": [],
   "source": [
    "macys_state_counts_series = macys_gdf.groupby(\"STATE\").size()\n",
    "macys_state_counts_df = pd.DataFrame(\n",
    "    {\n",
    "        \"STUSPS\": macys_state_counts_series.index.str.upper(),\n",
    "        \"stores\": macys_state_counts_series.values,\n",
    "    }\n",
    ")"
   ]
  },
  {
   "cell_type": "code",
   "execution_count": 61,
   "id": "c062806b-5f76-4d7e-a226-31383a266b6a",
   "metadata": {},
   "outputs": [],
   "source": [
    "macys_by_states_gdf = states_with_population_df.merge(\n",
    "    macys_state_counts_df, on=\"STUSPS\", how=\"left\"\n",
    ")"
   ]
  },
  {
   "cell_type": "code",
   "execution_count": 62,
   "id": "300ee45e-48b8-48f6-9a3a-efd4904a5efe",
   "metadata": {},
   "outputs": [],
   "source": [
    "macys_by_states_gdf = macys_by_states_gdf.fillna(0)\n",
    "macys_by_states_gdf[\"stores\"] = macys_by_states_gdf[\"stores\"].astype(int)"
   ]
  },
  {
   "cell_type": "code",
   "execution_count": 63,
   "id": "8e8b581c-4e0c-40b8-81a9-4ea014470b40",
   "metadata": {},
   "outputs": [],
   "source": [
    "macys_by_states_gdf[\"per_1000\"] = macys_by_states_gdf[\"stores\"] / (\n",
    "    macys_by_states_gdf[\"POPULATION\"] / 1000\n",
    ")\n",
    "macys_by_states_gdf[\"per_10k\"] = macys_by_states_gdf[\"stores\"] / (\n",
    "    macys_by_states_gdf[\"POPULATION\"] / 10_000\n",
    ")\n",
    "macys_by_states_gdf[\"per_100k\"] = macys_by_states_gdf[\"stores\"] / (\n",
    "    macys_by_states_gdf[\"POPULATION\"] / 100000\n",
    ")\n",
    "macys_by_states_gdf[\"per_500k\"] = macys_by_states_gdf[\"stores\"] / (\n",
    "    macys_by_states_gdf[\"POPULATION\"] / 500_000\n",
    ")\n",
    "macys_by_states_gdf[\"per_1m\"] = macys_by_states_gdf[\"stores\"] / (\n",
    "    macys_by_states_gdf[\"POPULATION\"] / 1_000_000\n",
    ")"
   ]
  },
  {
   "cell_type": "code",
   "execution_count": 64,
   "id": "237a0e6a-ccc2-4f3b-baad-d36ce4ecc481",
   "metadata": {},
   "outputs": [],
   "source": [
    "macys_by_states_gdf = macys_by_states_gdf.dropna()"
   ]
  },
  {
   "cell_type": "code",
   "execution_count": 65,
   "id": "944acfaa-313b-4a9f-aecc-53fe95e188be",
   "metadata": {},
   "outputs": [],
   "source": [
    "macys_by_states_gdf = macys_by_states_gdf.to_crs(9311)\n",
    "macys_by_states_gdf.to_file(f\"data/macys_per_state.gpkg\")"
   ]
  },
  {
   "cell_type": "code",
   "execution_count": null,
   "id": "4857fb82-2869-4020-8a57-c1983c9055b6",
   "metadata": {},
   "outputs": [],
   "source": []
  },
  {
   "cell_type": "code",
   "execution_count": null,
   "id": "3eba1b99-001c-4de4-9fe1-1a06ea51e118",
   "metadata": {},
   "outputs": [],
   "source": []
  }
 ],
 "metadata": {
  "kernelspec": {
   "display_name": "Python 3 (ipykernel)",
   "language": "python",
   "name": "python3"
  },
  "language_info": {
   "codemirror_mode": {
    "name": "ipython",
    "version": 3
   },
   "file_extension": ".py",
   "mimetype": "text/x-python",
   "name": "python",
   "nbconvert_exporter": "python",
   "pygments_lexer": "ipython3",
   "version": "3.11.11"
  }
 },
 "nbformat": 4,
 "nbformat_minor": 5
}
