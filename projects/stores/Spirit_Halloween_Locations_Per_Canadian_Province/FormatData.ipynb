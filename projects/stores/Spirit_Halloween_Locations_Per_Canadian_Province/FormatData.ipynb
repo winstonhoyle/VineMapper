{
 "cells": [
  {
   "cell_type": "code",
   "execution_count": 6,
   "id": "6aa0827c-59f2-481e-a871-e5ea56cf4aea",
   "metadata": {},
   "outputs": [],
   "source": [
    "import json\n",
    "import requests"
   ]
  },
  {
   "cell_type": "code",
   "execution_count": 7,
   "id": "3a8080b8-f75d-4f23-8c3a-f0184ec3cef4",
   "metadata": {},
   "outputs": [],
   "source": [
    "import geopandas as gpd\n",
    "import pandas as pd"
   ]
  },
  {
   "cell_type": "code",
   "execution_count": 8,
   "id": "0465bb74-de29-42f8-a656-097d407e8fe4",
   "metadata": {},
   "outputs": [],
   "source": [
    "from bs4 import BeautifulSoup\n",
    "from shapely.geometry import Point\n",
    "from tqdm.notebook import tqdm"
   ]
  },
  {
   "cell_type": "markdown",
   "id": "44a3df26-78d3-479c-99a2-c0e1ba91352e",
   "metadata": {},
   "source": [
    "## Get State Data"
   ]
  },
  {
   "cell_type": "code",
   "execution_count": 54,
   "id": "615eeabf-033b-425a-a81f-d7b4dd9e3a3e",
   "metadata": {},
   "outputs": [],
   "source": [
    "file_path = \"data/lecu000e21a_e/lpr_000e21a_e.shp\"\n",
    "states_df = gpd.read_file(file_path)"
   ]
  },
  {
   "cell_type": "code",
   "execution_count": 55,
   "id": "3ddb0443-9055-4405-b0d4-92f39c526e38",
   "metadata": {},
   "outputs": [],
   "source": [
    "canada_provinces = {\n",
    "    \"Alberta\": \"AB\",\n",
    "    \"British Columbia\": \"BC\",\n",
    "    \"Manitoba\": \"MB\",\n",
    "    \"New Brunswick\": \"NB\",\n",
    "    \"Newfoundland and Labrador\": \"NL\",\n",
    "    \"Northwest Territories\": \"NT\",\n",
    "    \"Nova Scotia\": \"NS\",\n",
    "    \"Nunavut\": \"NU\",\n",
    "    \"Ontario\": \"ON\",\n",
    "    \"Prince Edward Island\": \"PE\",\n",
    "    \"Quebec\": \"QC\",\n",
    "    \"Saskatchewan\": \"SK\",\n",
    "    \"Yukon\": \"YT\",\n",
    "}"
   ]
  },
  {
   "cell_type": "code",
   "execution_count": 56,
   "id": "bed1e774-9a64-4f34-b6f7-c14e14e8ef63",
   "metadata": {},
   "outputs": [],
   "source": [
    "states_df[\"STUSPS\"] = states_df[\"PRENAME\"].map(canada_provinces)"
   ]
  },
  {
   "cell_type": "code",
   "execution_count": 57,
   "id": "083dad33-c1b6-4afd-b5af-c2d584db010c",
   "metadata": {},
   "outputs": [],
   "source": [
    "states_df = states_df.rename(columns={\"PRENAME\": \"Geography\"})[\n",
    "    [\"geometry\", \"Geography\", \"STUSPS\"]\n",
    "]"
   ]
  },
  {
   "cell_type": "markdown",
   "id": "4257620c-13d7-4071-bae2-a5a2aeae5ba7",
   "metadata": {},
   "source": [
    "## Get Population data"
   ]
  },
  {
   "cell_type": "code",
   "execution_count": 58,
   "id": "6c0e7a1d-5a9a-4c10-a5d4-28dc681a8a27",
   "metadata": {},
   "outputs": [],
   "source": [
    "state_populations = pd.read_csv(\"data/1710000901-noSymbol.csv\")"
   ]
  },
  {
   "cell_type": "code",
   "execution_count": 59,
   "id": "2614c2ab-96ec-4304-a287-6fd013fedbbb",
   "metadata": {},
   "outputs": [],
   "source": [
    "states_population_gdf = states_df.merge(state_populations, on=\"Geography\", how=\"left\")\n",
    "states_population_gdf = states_population_gdf.rename(columns={\"Q1 2025\": \"POPULATION\"})\n",
    "states_population_gdf[\"POPULATION\"] = (\n",
    "    states_population_gdf[\"POPULATION\"].str.replace(\",\", \"\").astype(int)\n",
    ")"
   ]
  },
  {
   "cell_type": "markdown",
   "id": "6d2f1ce9-a36c-4292-99a0-ad42032c5ad4",
   "metadata": {},
   "source": [
    "## Get Store Data"
   ]
  },
  {
   "cell_type": "code",
   "execution_count": 9,
   "id": "dbe2bbe6-d360-455e-97f8-10363bd5baef",
   "metadata": {},
   "outputs": [],
   "source": [
    "url = \"https://maps.spirithalloween.com/api/getAsyncLocations\"\n",
    "params = {\n",
    "    \"template\": \"search\",\n",
    "    \"level\": \"search\",\n",
    "    \"radius\": 5000,\n",
    "    \"lat\": 39.0997,\n",
    "    \"lng\": -94.5786,\n",
    "    \"limit\": 2000,\n",
    "}"
   ]
  },
  {
   "cell_type": "code",
   "execution_count": 10,
   "id": "02933f74-997a-46f7-bd09-a7f993aedaf4",
   "metadata": {},
   "outputs": [],
   "source": [
    "r = requests.get(url, params=params)"
   ]
  },
  {
   "cell_type": "code",
   "execution_count": 11,
   "id": "b6969853-93a2-4b44-8abb-95e7dbd5e6b9",
   "metadata": {},
   "outputs": [],
   "source": [
    "data = r.json()\n",
    "locations = data[\"markers\"]"
   ]
  },
  {
   "cell_type": "code",
   "execution_count": 12,
   "id": "f2cbcaf1-8c14-42c2-bd97-55a3c81e8972",
   "metadata": {},
   "outputs": [],
   "source": [
    "store_dicts = []\n",
    "for location in locations:\n",
    "    soup = BeautifulSoup(location[\"info\"], \"html.parser\")\n",
    "    store_url = soup.find(\"a\", {\"class\": \"store-info\"}).attrs[\"href\"]\n",
    "\n",
    "    address = soup.find(\"div\", {\"class\": \"address\"})\n",
    "    text = address.find_all(\"div\")[-2].text\n",
    "    stusps = text.split(\" \")[-2]\n",
    "    if len(stusps) > 2:\n",
    "        stusps = text.split(\" \")[-3]\n",
    "\n",
    "    point = Point(location[\"lng\"], location[\"lat\"])\n",
    "    store_dict = {\"url\": store_url, \"geometry\": point, \"STUSPS\": stusps}\n",
    "    store_dicts.append(store_dict)"
   ]
  },
  {
   "cell_type": "code",
   "execution_count": 13,
   "id": "4ae1adcf-9668-4a2c-ba15-2a3638c2e42a",
   "metadata": {},
   "outputs": [],
   "source": [
    "store_gdf = gpd.GeoDataFrame(store_dicts, crs=4326)\n",
    "store_gdf.to_file(\"data/stores.gpkg\")"
   ]
  },
  {
   "cell_type": "markdown",
   "id": "4eaf7e7a-39c1-4cef-b087-583e145edcda",
   "metadata": {},
   "source": [
    "## If you have the data from a previous project"
   ]
  },
  {
   "cell_type": "code",
   "execution_count": 30,
   "id": "70b28054-3e9c-4de0-a7ba-7d443ae332e2",
   "metadata": {},
   "outputs": [],
   "source": [
    "store_gdf = gpd.read_file(\"data/stores.gpkg\")"
   ]
  },
  {
   "cell_type": "code",
   "execution_count": 31,
   "id": "644333e4-0b5f-442e-92e9-f8facab8003f",
   "metadata": {},
   "outputs": [],
   "source": [
    "store_counts_df = store_gdf.groupby(\"STUSPS\").size().reset_index(name=\"COUNT\")"
   ]
  },
  {
   "cell_type": "code",
   "execution_count": 38,
   "id": "368aa210-eaca-41aa-9daa-b14d2306d5d9",
   "metadata": {},
   "outputs": [
    {
     "data": {
      "text/html": [
       "<div>\n",
       "<style scoped>\n",
       "    .dataframe tbody tr th:only-of-type {\n",
       "        vertical-align: middle;\n",
       "    }\n",
       "\n",
       "    .dataframe tbody tr th {\n",
       "        vertical-align: top;\n",
       "    }\n",
       "\n",
       "    .dataframe thead th {\n",
       "        text-align: right;\n",
       "    }\n",
       "</style>\n",
       "<table border=\"1\" class=\"dataframe\">\n",
       "  <thead>\n",
       "    <tr style=\"text-align: right;\">\n",
       "      <th></th>\n",
       "      <th>Geography</th>\n",
       "      <th>geometry</th>\n",
       "      <th>POPULATION</th>\n",
       "    </tr>\n",
       "  </thead>\n",
       "  <tbody>\n",
       "    <tr>\n",
       "      <th>0</th>\n",
       "      <td>Newfoundland and Labrador</td>\n",
       "      <td>MULTIPOLYGON (((8514140.177 2242113.643, 85141...</td>\n",
       "      <td>545579</td>\n",
       "    </tr>\n",
       "    <tr>\n",
       "      <th>1</th>\n",
       "      <td>Prince Edward Island</td>\n",
       "      <td>MULTIPOLYGON (((8361759.451 1609870.034, 83617...</td>\n",
       "      <td>179280</td>\n",
       "    </tr>\n",
       "    <tr>\n",
       "      <th>2</th>\n",
       "      <td>Nova Scotia</td>\n",
       "      <td>MULTIPOLYGON (((8566602.126 1595861.269, 85665...</td>\n",
       "      <td>1079627</td>\n",
       "    </tr>\n",
       "    <tr>\n",
       "      <th>3</th>\n",
       "      <td>New Brunswick</td>\n",
       "      <td>MULTIPOLYGON (((8114947.354 1376014.071, 81149...</td>\n",
       "      <td>858963</td>\n",
       "    </tr>\n",
       "    <tr>\n",
       "      <th>4</th>\n",
       "      <td>Quebec</td>\n",
       "      <td>MULTIPOLYGON (((7632374.02 1242855.226, 763236...</td>\n",
       "      <td>9111629</td>\n",
       "    </tr>\n",
       "    <tr>\n",
       "      <th>5</th>\n",
       "      <td>Ontario</td>\n",
       "      <td>MULTIPOLYGON (((7574268.543 1177482.237, 75742...</td>\n",
       "      <td>16182641</td>\n",
       "    </tr>\n",
       "    <tr>\n",
       "      <th>6</th>\n",
       "      <td>Manitoba</td>\n",
       "      <td>POLYGON ((6039436.26 2637017.429, 6039446.631 ...</td>\n",
       "      <td>1504023</td>\n",
       "    </tr>\n",
       "    <tr>\n",
       "      <th>7</th>\n",
       "      <td>Saskatchewan</td>\n",
       "      <td>POLYGON ((5248633.914 2767057.263, 5249285.64 ...</td>\n",
       "      <td>1250909</td>\n",
       "    </tr>\n",
       "    <tr>\n",
       "      <th>8</th>\n",
       "      <td>Alberta</td>\n",
       "      <td>POLYGON ((5228304.177 2767597.891, 5228098.463...</td>\n",
       "      <td>4960097</td>\n",
       "    </tr>\n",
       "    <tr>\n",
       "      <th>9</th>\n",
       "      <td>British Columbia</td>\n",
       "      <td>MULTIPOLYGON (((3825396.686 2287453.014, 38253...</td>\n",
       "      <td>5722318</td>\n",
       "    </tr>\n",
       "    <tr>\n",
       "      <th>10</th>\n",
       "      <td>Yukon</td>\n",
       "      <td>MULTIPOLYGON (((4594777.5 4182590.123, 4594829...</td>\n",
       "      <td>47126</td>\n",
       "    </tr>\n",
       "    <tr>\n",
       "      <th>11</th>\n",
       "      <td>Northwest Territories</td>\n",
       "      <td>MULTIPOLYGON (((5622243.046 4093507.803, 56222...</td>\n",
       "      <td>45074</td>\n",
       "    </tr>\n",
       "    <tr>\n",
       "      <th>12</th>\n",
       "      <td>Nunavut</td>\n",
       "      <td>MULTIPOLYGON (((6709921.143 2151841.617, 67099...</td>\n",
       "      <td>41414</td>\n",
       "    </tr>\n",
       "  </tbody>\n",
       "</table>\n",
       "</div>"
      ],
      "text/plain": [
       "                    Geography  \\\n",
       "0   Newfoundland and Labrador   \n",
       "1        Prince Edward Island   \n",
       "2                 Nova Scotia   \n",
       "3               New Brunswick   \n",
       "4                      Quebec   \n",
       "5                     Ontario   \n",
       "6                    Manitoba   \n",
       "7                Saskatchewan   \n",
       "8                     Alberta   \n",
       "9            British Columbia   \n",
       "10                      Yukon   \n",
       "11      Northwest Territories   \n",
       "12                    Nunavut   \n",
       "\n",
       "                                             geometry  POPULATION  \n",
       "0   MULTIPOLYGON (((8514140.177 2242113.643, 85141...      545579  \n",
       "1   MULTIPOLYGON (((8361759.451 1609870.034, 83617...      179280  \n",
       "2   MULTIPOLYGON (((8566602.126 1595861.269, 85665...     1079627  \n",
       "3   MULTIPOLYGON (((8114947.354 1376014.071, 81149...      858963  \n",
       "4   MULTIPOLYGON (((7632374.02 1242855.226, 763236...     9111629  \n",
       "5   MULTIPOLYGON (((7574268.543 1177482.237, 75742...    16182641  \n",
       "6   POLYGON ((6039436.26 2637017.429, 6039446.631 ...     1504023  \n",
       "7   POLYGON ((5248633.914 2767057.263, 5249285.64 ...     1250909  \n",
       "8   POLYGON ((5228304.177 2767597.891, 5228098.463...     4960097  \n",
       "9   MULTIPOLYGON (((3825396.686 2287453.014, 38253...     5722318  \n",
       "10  MULTIPOLYGON (((4594777.5 4182590.123, 4594829...       47126  \n",
       "11  MULTIPOLYGON (((5622243.046 4093507.803, 56222...       45074  \n",
       "12  MULTIPOLYGON (((6709921.143 2151841.617, 67099...       41414  "
      ]
     },
     "execution_count": 38,
     "metadata": {},
     "output_type": "execute_result"
    }
   ],
   "source": [
    "states_population_gdf"
   ]
  },
  {
   "cell_type": "markdown",
   "id": "94cb32a2-faf0-40fa-8616-e8f2275eca72",
   "metadata": {},
   "source": [
    "## Combine With States"
   ]
  },
  {
   "cell_type": "code",
   "execution_count": 60,
   "id": "c062806b-5f76-4d7e-a226-31383a266b6a",
   "metadata": {},
   "outputs": [],
   "source": [
    "store_count_gdf = states_population_gdf.merge(store_counts_df, on=\"STUSPS\", how=\"left\")"
   ]
  },
  {
   "cell_type": "code",
   "execution_count": 61,
   "id": "8e8b581c-4e0c-40b8-81a9-4ea014470b40",
   "metadata": {},
   "outputs": [],
   "source": [
    "store_count_gdf[\"per_100k\"] = (\n",
    "    store_count_gdf[\"COUNT\"] / (store_count_gdf[\"POPULATION\"] / 100_000)\n",
    ").round(decimals=2)\n",
    "store_count_gdf[\"per_1m\"] = (\n",
    "    store_count_gdf[\"COUNT\"] / (store_count_gdf[\"POPULATION\"] / 1_000_000)\n",
    ").round(decimals=2)"
   ]
  },
  {
   "cell_type": "code",
   "execution_count": 62,
   "id": "944acfaa-313b-4a9f-aecc-53fe95e188be",
   "metadata": {},
   "outputs": [],
   "source": [
    "store_count_gdf = store_count_gdf.to_crs(3348)\n",
    "store_count_gdf.to_file(f\"data/Spirit_Halloween_Locations_Per_Canadian_Province.gpkg\")"
   ]
  },
  {
   "cell_type": "code",
   "execution_count": 63,
   "id": "8a23d1fa-408d-4071-9513-e5b0da2e5cfc",
   "metadata": {},
   "outputs": [
    {
     "data": {
      "text/html": [
       "<div>\n",
       "<style scoped>\n",
       "    .dataframe tbody tr th:only-of-type {\n",
       "        vertical-align: middle;\n",
       "    }\n",
       "\n",
       "    .dataframe tbody tr th {\n",
       "        vertical-align: top;\n",
       "    }\n",
       "\n",
       "    .dataframe thead th {\n",
       "        text-align: right;\n",
       "    }\n",
       "</style>\n",
       "<table border=\"1\" class=\"dataframe\">\n",
       "  <thead>\n",
       "    <tr style=\"text-align: right;\">\n",
       "      <th></th>\n",
       "      <th>geometry</th>\n",
       "      <th>Geography</th>\n",
       "      <th>STUSPS</th>\n",
       "      <th>POPULATION</th>\n",
       "      <th>COUNT</th>\n",
       "      <th>per_100k</th>\n",
       "      <th>per_1m</th>\n",
       "    </tr>\n",
       "  </thead>\n",
       "  <tbody>\n",
       "    <tr>\n",
       "      <th>1</th>\n",
       "      <td>MULTIPOLYGON (((8361759.451 1609870.034, 83617...</td>\n",
       "      <td>Prince Edward Island</td>\n",
       "      <td>PE</td>\n",
       "      <td>179280</td>\n",
       "      <td>1.0</td>\n",
       "      <td>0.56</td>\n",
       "      <td>5.58</td>\n",
       "    </tr>\n",
       "    <tr>\n",
       "      <th>0</th>\n",
       "      <td>MULTIPOLYGON (((8514140.177 2242113.643, 85141...</td>\n",
       "      <td>Newfoundland and Labrador</td>\n",
       "      <td>NL</td>\n",
       "      <td>545579</td>\n",
       "      <td>2.0</td>\n",
       "      <td>0.37</td>\n",
       "      <td>3.67</td>\n",
       "    </tr>\n",
       "    <tr>\n",
       "      <th>3</th>\n",
       "      <td>MULTIPOLYGON (((8114947.354 1376014.071, 81149...</td>\n",
       "      <td>New Brunswick</td>\n",
       "      <td>NB</td>\n",
       "      <td>858963</td>\n",
       "      <td>3.0</td>\n",
       "      <td>0.35</td>\n",
       "      <td>3.49</td>\n",
       "    </tr>\n",
       "    <tr>\n",
       "      <th>6</th>\n",
       "      <td>POLYGON ((6039436.26 2637017.429, 6039446.631 ...</td>\n",
       "      <td>Manitoba</td>\n",
       "      <td>MB</td>\n",
       "      <td>1504023</td>\n",
       "      <td>4.0</td>\n",
       "      <td>0.27</td>\n",
       "      <td>2.66</td>\n",
       "    </tr>\n",
       "    <tr>\n",
       "      <th>5</th>\n",
       "      <td>MULTIPOLYGON (((7574268.543 1177482.237, 75742...</td>\n",
       "      <td>Ontario</td>\n",
       "      <td>ON</td>\n",
       "      <td>16182641</td>\n",
       "      <td>39.0</td>\n",
       "      <td>0.24</td>\n",
       "      <td>2.41</td>\n",
       "    </tr>\n",
       "    <tr>\n",
       "      <th>7</th>\n",
       "      <td>POLYGON ((5248633.914 2767057.263, 5249285.64 ...</td>\n",
       "      <td>Saskatchewan</td>\n",
       "      <td>SK</td>\n",
       "      <td>1250909</td>\n",
       "      <td>3.0</td>\n",
       "      <td>0.24</td>\n",
       "      <td>2.40</td>\n",
       "    </tr>\n",
       "    <tr>\n",
       "      <th>9</th>\n",
       "      <td>MULTIPOLYGON (((3825396.686 2287453.014, 38253...</td>\n",
       "      <td>British Columbia</td>\n",
       "      <td>BC</td>\n",
       "      <td>5722318</td>\n",
       "      <td>13.0</td>\n",
       "      <td>0.23</td>\n",
       "      <td>2.27</td>\n",
       "    </tr>\n",
       "    <tr>\n",
       "      <th>8</th>\n",
       "      <td>POLYGON ((5228304.177 2767597.891, 5228098.463...</td>\n",
       "      <td>Alberta</td>\n",
       "      <td>AB</td>\n",
       "      <td>4960097</td>\n",
       "      <td>11.0</td>\n",
       "      <td>0.22</td>\n",
       "      <td>2.22</td>\n",
       "    </tr>\n",
       "    <tr>\n",
       "      <th>2</th>\n",
       "      <td>MULTIPOLYGON (((8566602.126 1595861.269, 85665...</td>\n",
       "      <td>Nova Scotia</td>\n",
       "      <td>NS</td>\n",
       "      <td>1079627</td>\n",
       "      <td>2.0</td>\n",
       "      <td>0.19</td>\n",
       "      <td>1.85</td>\n",
       "    </tr>\n",
       "    <tr>\n",
       "      <th>4</th>\n",
       "      <td>MULTIPOLYGON (((7632374.02 1242855.226, 763236...</td>\n",
       "      <td>Quebec</td>\n",
       "      <td>QC</td>\n",
       "      <td>9111629</td>\n",
       "      <td>8.0</td>\n",
       "      <td>0.09</td>\n",
       "      <td>0.88</td>\n",
       "    </tr>\n",
       "    <tr>\n",
       "      <th>10</th>\n",
       "      <td>MULTIPOLYGON (((4594777.5 4182590.123, 4594829...</td>\n",
       "      <td>Yukon</td>\n",
       "      <td>YT</td>\n",
       "      <td>47126</td>\n",
       "      <td>NaN</td>\n",
       "      <td>NaN</td>\n",
       "      <td>NaN</td>\n",
       "    </tr>\n",
       "    <tr>\n",
       "      <th>11</th>\n",
       "      <td>MULTIPOLYGON (((5622243.046 4093507.803, 56222...</td>\n",
       "      <td>Northwest Territories</td>\n",
       "      <td>NT</td>\n",
       "      <td>45074</td>\n",
       "      <td>NaN</td>\n",
       "      <td>NaN</td>\n",
       "      <td>NaN</td>\n",
       "    </tr>\n",
       "    <tr>\n",
       "      <th>12</th>\n",
       "      <td>MULTIPOLYGON (((6709921.143 2151841.617, 67099...</td>\n",
       "      <td>Nunavut</td>\n",
       "      <td>NU</td>\n",
       "      <td>41414</td>\n",
       "      <td>NaN</td>\n",
       "      <td>NaN</td>\n",
       "      <td>NaN</td>\n",
       "    </tr>\n",
       "  </tbody>\n",
       "</table>\n",
       "</div>"
      ],
      "text/plain": [
       "                                             geometry  \\\n",
       "1   MULTIPOLYGON (((8361759.451 1609870.034, 83617...   \n",
       "0   MULTIPOLYGON (((8514140.177 2242113.643, 85141...   \n",
       "3   MULTIPOLYGON (((8114947.354 1376014.071, 81149...   \n",
       "6   POLYGON ((6039436.26 2637017.429, 6039446.631 ...   \n",
       "5   MULTIPOLYGON (((7574268.543 1177482.237, 75742...   \n",
       "7   POLYGON ((5248633.914 2767057.263, 5249285.64 ...   \n",
       "9   MULTIPOLYGON (((3825396.686 2287453.014, 38253...   \n",
       "8   POLYGON ((5228304.177 2767597.891, 5228098.463...   \n",
       "2   MULTIPOLYGON (((8566602.126 1595861.269, 85665...   \n",
       "4   MULTIPOLYGON (((7632374.02 1242855.226, 763236...   \n",
       "10  MULTIPOLYGON (((4594777.5 4182590.123, 4594829...   \n",
       "11  MULTIPOLYGON (((5622243.046 4093507.803, 56222...   \n",
       "12  MULTIPOLYGON (((6709921.143 2151841.617, 67099...   \n",
       "\n",
       "                    Geography STUSPS  POPULATION  COUNT  per_100k  per_1m  \n",
       "1        Prince Edward Island     PE      179280    1.0      0.56    5.58  \n",
       "0   Newfoundland and Labrador     NL      545579    2.0      0.37    3.67  \n",
       "3               New Brunswick     NB      858963    3.0      0.35    3.49  \n",
       "6                    Manitoba     MB     1504023    4.0      0.27    2.66  \n",
       "5                     Ontario     ON    16182641   39.0      0.24    2.41  \n",
       "7                Saskatchewan     SK     1250909    3.0      0.24    2.40  \n",
       "9            British Columbia     BC     5722318   13.0      0.23    2.27  \n",
       "8                     Alberta     AB     4960097   11.0      0.22    2.22  \n",
       "2                 Nova Scotia     NS     1079627    2.0      0.19    1.85  \n",
       "4                      Quebec     QC     9111629    8.0      0.09    0.88  \n",
       "10                      Yukon     YT       47126    NaN       NaN     NaN  \n",
       "11      Northwest Territories     NT       45074    NaN       NaN     NaN  \n",
       "12                    Nunavut     NU       41414    NaN       NaN     NaN  "
      ]
     },
     "execution_count": 63,
     "metadata": {},
     "output_type": "execute_result"
    }
   ],
   "source": [
    "store_count_gdf.sort_values(\"per_1m\", ascending=False)"
   ]
  },
  {
   "cell_type": "code",
   "execution_count": 69,
   "id": "22ce3fe4-325e-425b-89c3-86620780e730",
   "metadata": {},
   "outputs": [],
   "source": [
    "canadian_stores_gdf = store_gdf[\n",
    "    store_gdf[\"STUSPS\"].isin(store_count_gdf[\"STUSPS\"].unique())\n",
    "].reset_index(drop=True)\n",
    "canadian_stores_gdf = canadian_stores_gdf.to_crs(3348)\n",
    "canadian_stores_gdf.to_file(\"data/canadian_stores.gpkg\")"
   ]
  },
  {
   "cell_type": "code",
   "execution_count": null,
   "id": "d1b2cd38-897b-4666-b09e-54f9590a2d57",
   "metadata": {},
   "outputs": [],
   "source": []
  }
 ],
 "metadata": {
  "kernelspec": {
   "display_name": "Python 3 (ipykernel)",
   "language": "python",
   "name": "python3"
  },
  "language_info": {
   "codemirror_mode": {
    "name": "ipython",
    "version": 3
   },
   "file_extension": ".py",
   "mimetype": "text/x-python",
   "name": "python",
   "nbconvert_exporter": "python",
   "pygments_lexer": "ipython3",
   "version": "3.11.13"
  }
 },
 "nbformat": 4,
 "nbformat_minor": 5
}
