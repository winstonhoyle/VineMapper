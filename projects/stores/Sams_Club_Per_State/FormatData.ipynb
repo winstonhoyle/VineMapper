{
 "cells": [
  {
   "cell_type": "code",
   "execution_count": 35,
   "id": "8eca3131-85dc-48b3-b640-f384104e123c",
   "metadata": {},
   "outputs": [],
   "source": [
    "from collections import Counter"
   ]
  },
  {
   "cell_type": "code",
   "execution_count": 11,
   "id": "bc436e38-234d-44fd-b67b-d1f2974606d3",
   "metadata": {},
   "outputs": [],
   "source": [
    "import cloudscraper\n",
    "import geopandas as gpd\n",
    "import pandas as pd"
   ]
  },
  {
   "cell_type": "markdown",
   "id": "44a3df26-78d3-479c-99a2-c0e1ba91352e",
   "metadata": {},
   "source": [
    "## Get State Data"
   ]
  },
  {
   "cell_type": "code",
   "execution_count": 13,
   "id": "615eeabf-033b-425a-a81f-d7b4dd9e3a3e",
   "metadata": {},
   "outputs": [],
   "source": [
    "file_path = \"data/cb_2018_us_state_500k/cb_2018_us_state_500k.shp\"\n",
    "states_df = gpd.read_file(file_path)"
   ]
  },
  {
   "cell_type": "code",
   "execution_count": 14,
   "id": "502c6bfe-0912-4d37-95b0-47e7a14b468f",
   "metadata": {},
   "outputs": [],
   "source": [
    "states_df = states_df[[\"STUSPS\", \"NAME\", \"geometry\"]]"
   ]
  },
  {
   "cell_type": "markdown",
   "id": "4257620c-13d7-4071-bae2-a5a2aeae5ba7",
   "metadata": {},
   "source": [
    "## Get Population data"
   ]
  },
  {
   "cell_type": "code",
   "execution_count": 15,
   "id": "6c0e7a1d-5a9a-4c10-a5d4-28dc681a8a27",
   "metadata": {},
   "outputs": [],
   "source": [
    "state_populations = pd.read_excel(\n",
    "    \"data/NST-EST2024-POP.xlsx\", sheet_name=None, engine=\"openpyxl\"\n",
    ")"
   ]
  },
  {
   "cell_type": "code",
   "execution_count": 16,
   "id": "2614c2ab-96ec-4304-a287-6fd013fedbbb",
   "metadata": {},
   "outputs": [],
   "source": [
    "state_populations_df = state_populations[\"NST-EST2024-POP\"][\n",
    "    [\n",
    "        \"table with row headers in column A and column headers in rows 3 through 4. (leading dots indicate sub-parts)\",\n",
    "        \"Unnamed: 5\",\n",
    "    ]\n",
    "]\n",
    "state_populations_df = state_populations_df.rename(\n",
    "    columns={\n",
    "        \"table with row headers in column A and column headers in rows 3 through 4. (leading dots indicate sub-parts)\": \"NAME\",\n",
    "        \"Unnamed: 5\": \"POPULATION\",\n",
    "    }\n",
    ")\n",
    "state_populations_df[\"NAME\"] = state_populations_df[\"NAME\"].str[1:]"
   ]
  },
  {
   "cell_type": "code",
   "execution_count": 17,
   "id": "2a1a8b6e-a0bf-486b-b62e-46a23ca718e2",
   "metadata": {},
   "outputs": [],
   "source": [
    "states_with_population_df = states_df.merge(state_populations_df, on=\"NAME\", how=\"left\")\n",
    "states_with_population_df = states_with_population_df[\n",
    "    [\"STUSPS\", \"NAME\", \"POPULATION\", \"geometry\"]\n",
    "]"
   ]
  },
  {
   "cell_type": "markdown",
   "id": "6d2f1ce9-a36c-4292-99a0-ad42032c5ad4",
   "metadata": {},
   "source": [
    "## Get Sams Club Data"
   ]
  },
  {
   "cell_type": "code",
   "execution_count": 51,
   "id": "e9c05bdf-2e7f-4f04-8e3b-ded05320ed06",
   "metadata": {},
   "outputs": [],
   "source": [
    "scraper = cloudscraper.create_scraper()"
   ]
  },
  {
   "cell_type": "code",
   "execution_count": 52,
   "id": "5e78a909-91d7-471f-adcc-34d00d10b7c4",
   "metadata": {},
   "outputs": [],
   "source": [
    "url_root = \"https://www.samsclub.com/api/node/vivaldi/browse/v2/clubfinder/search?isActive=true\"\n",
    "r = scraper.get(url_root)"
   ]
  },
  {
   "cell_type": "code",
   "execution_count": null,
   "id": "6d515286-a905-49ae-8aa7-dc6de8d99a6e",
   "metadata": {},
   "outputs": [],
   "source": [
    "stores_json = r.json()"
   ]
  },
  {
   "cell_type": "code",
   "execution_count": 54,
   "id": "5a43ae71-e8bd-485e-8bc9-d0b75a37f344",
   "metadata": {},
   "outputs": [],
   "source": [
    "state_sorted_list = sorted(stores_json, key=lambda x: x[\"address\"][\"state\"])\n",
    "states_by_stores = []\n",
    "for store_json in state_sorted_list:\n",
    "    states_by_stores.append(store_json[\"address\"][\"state\"])"
   ]
  },
  {
   "cell_type": "code",
   "execution_count": 55,
   "id": "520287ac-1c0f-428d-886e-6da19534f5c4",
   "metadata": {},
   "outputs": [],
   "source": [
    "sams_club_state_counts_df = pd.DataFrame.from_dict(\n",
    "    Counter(states_by_stores), orient=\"index\"\n",
    ").reset_index()\n",
    "sams_club_state_counts_df = sams_club_state_counts_df.rename(\n",
    "    columns={\"index\": \"STUSPS\", 0: \"SAMS_CLUBS\"}\n",
    ")"
   ]
  },
  {
   "cell_type": "markdown",
   "id": "94cb32a2-faf0-40fa-8616-e8f2275eca72",
   "metadata": {},
   "source": [
    "## Combine With States"
   ]
  },
  {
   "cell_type": "code",
   "execution_count": 57,
   "id": "c062806b-5f76-4d7e-a226-31383a266b6a",
   "metadata": {},
   "outputs": [],
   "source": [
    "sam_club_state_counts_gdf = states_with_population_df.merge(\n",
    "    sams_club_state_counts_df, on=\"STUSPS\", how=\"left\"\n",
    ")"
   ]
  },
  {
   "cell_type": "code",
   "execution_count": 58,
   "id": "300ee45e-48b8-48f6-9a3a-efd4904a5efe",
   "metadata": {},
   "outputs": [],
   "source": [
    "sam_club_state_counts_gdf = sam_club_state_counts_gdf.fillna(0)\n",
    "sam_club_state_counts_gdf[\"BJS\"] = sam_club_state_counts_gdf[\"SAMS_CLUBS\"].astype(int)"
   ]
  },
  {
   "cell_type": "code",
   "execution_count": 59,
   "id": "8e8b581c-4e0c-40b8-81a9-4ea014470b40",
   "metadata": {},
   "outputs": [],
   "source": [
    "sam_club_state_counts_gdf[\"per_1000\"] = sam_club_state_counts_gdf[\"SAMS_CLUBS\"] / (\n",
    "    sam_club_state_counts_gdf[\"POPULATION\"] / 1000\n",
    ")\n",
    "sam_club_state_counts_gdf[\"per_10k\"] = sam_club_state_counts_gdf[\"SAMS_CLUBS\"] / (\n",
    "    sam_club_state_counts_gdf[\"POPULATION\"] / 10_000\n",
    ")\n",
    "sam_club_state_counts_gdf[\"per_100k\"] = sam_club_state_counts_gdf[\"SAMS_CLUBS\"] / (\n",
    "    sam_club_state_counts_gdf[\"POPULATION\"] / 100000\n",
    ")\n",
    "sam_club_state_counts_gdf[\"per_500k\"] = sam_club_state_counts_gdf[\"SAMS_CLUBS\"] / (\n",
    "    sam_club_state_counts_gdf[\"POPULATION\"] / 500_000\n",
    ")\n",
    "sam_club_state_counts_gdf[\"per_1m\"] = sam_club_state_counts_gdf[\"SAMS_CLUBS\"] / (\n",
    "    sam_club_state_counts_gdf[\"POPULATION\"] / 1_000_000\n",
    ")"
   ]
  },
  {
   "cell_type": "code",
   "execution_count": 60,
   "id": "237a0e6a-ccc2-4f3b-baad-d36ce4ecc481",
   "metadata": {},
   "outputs": [],
   "source": [
    "sam_club_state_counts_gdf = sam_club_state_counts_gdf.fillna(0)"
   ]
  },
  {
   "cell_type": "code",
   "execution_count": 61,
   "id": "944acfaa-313b-4a9f-aecc-53fe95e188be",
   "metadata": {},
   "outputs": [],
   "source": [
    "sam_club_state_counts_gdf = sam_club_state_counts_gdf.to_crs(3968)\n",
    "sam_club_state_counts_gdf.to_file(f\"data/sams_clubs_per_states.gpkg\")"
   ]
  },
  {
   "cell_type": "code",
   "execution_count": null,
   "id": "8a23d1fa-408d-4071-9513-e5b0da2e5cfc",
   "metadata": {},
   "outputs": [],
   "source": []
  }
 ],
 "metadata": {
  "kernelspec": {
   "display_name": "Python 3 (ipykernel)",
   "language": "python",
   "name": "python3"
  },
  "language_info": {
   "codemirror_mode": {
    "name": "ipython",
    "version": 3
   },
   "file_extension": ".py",
   "mimetype": "text/x-python",
   "name": "python",
   "nbconvert_exporter": "python",
   "pygments_lexer": "ipython3",
   "version": "3.11.11"
  }
 },
 "nbformat": 4,
 "nbformat_minor": 5
}
