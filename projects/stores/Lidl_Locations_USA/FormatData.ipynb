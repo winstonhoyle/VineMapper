{
 "cells": [
  {
   "cell_type": "code",
   "execution_count": 1,
   "id": "56e5662e-24d3-4cd2-b9e7-3d8158375b43",
   "metadata": {},
   "outputs": [],
   "source": [
    "import requests"
   ]
  },
  {
   "cell_type": "code",
   "execution_count": 20,
   "id": "b9fc2fbd-f810-4f67-ab5d-736c1aa45c74",
   "metadata": {},
   "outputs": [],
   "source": [
    "import geopandas as gpd\n",
    "import pandas as pd"
   ]
  },
  {
   "cell_type": "code",
   "execution_count": 10,
   "id": "3f831734-0008-4598-bb22-605f5aaee1d7",
   "metadata": {},
   "outputs": [],
   "source": [
    "from shapely.geometry import Point"
   ]
  },
  {
   "cell_type": "markdown",
   "id": "56b9a31d-b0b4-4c7a-860b-a5afebdceef4",
   "metadata": {},
   "source": [
    "## Open GIS Data"
   ]
  },
  {
   "cell_type": "code",
   "execution_count": 24,
   "id": "5d0925da-a067-40a9-a385-47348db28c98",
   "metadata": {},
   "outputs": [],
   "source": [
    "file_path = \"data/cb_2018_us_state_500k/cb_2018_us_state_500k.shp\"\n",
    "states_df = gpd.read_file(file_path)"
   ]
  },
  {
   "cell_type": "markdown",
   "id": "e675a0cb-96bf-441d-a58f-15fa804356ed",
   "metadata": {},
   "source": [
    "## Get State Population data"
   ]
  },
  {
   "cell_type": "code",
   "execution_count": 30,
   "id": "e32942da-94cd-45da-8dc5-34c765eec18e",
   "metadata": {},
   "outputs": [],
   "source": [
    "state_populations = pd.read_excel(\n",
    "    \"data/NST-EST2023-POP.xlsx\", sheet_name=None, engine=\"openpyxl\"\n",
    ")"
   ]
  },
  {
   "cell_type": "code",
   "execution_count": 31,
   "id": "94f8af91-f023-4ad4-bca6-38c1470992f8",
   "metadata": {},
   "outputs": [],
   "source": [
    "state_populations_df = state_populations[\"NST-EST2023-POP\"][\n",
    "    [\n",
    "        \"table with row headers in column A and column headers in rows 3 through 4. (leading dots indicate sub-parts)\",\n",
    "        \"Unnamed: 5\",\n",
    "    ]\n",
    "]\n",
    "state_populations_df = state_populations_df.rename(\n",
    "    columns={\n",
    "        \"table with row headers in column A and column headers in rows 3 through 4. (leading dots indicate sub-parts)\": \"NAME\",\n",
    "        \"Unnamed: 5\": \"POPULATION\",\n",
    "    }\n",
    ")\n",
    "state_populations_df[\"NAME\"] = state_populations_df[\"NAME\"].str[1:]"
   ]
  },
  {
   "cell_type": "code",
   "execution_count": 27,
   "id": "5fac2d62-9a37-4070-8059-715c39d866c5",
   "metadata": {},
   "outputs": [],
   "source": [
    "states_with_population_df = states_df.merge(state_populations_df, on=\"NAME\", how=\"left\")\n",
    "states_with_population_df = states_with_population_df[\n",
    "    [\"STUSPS\", \"POPULATION\", \"geometry\"]\n",
    "]"
   ]
  },
  {
   "cell_type": "code",
   "execution_count": 28,
   "id": "9a3715e0-963b-4eb0-9855-c4d18f3b2562",
   "metadata": {},
   "outputs": [],
   "source": [
    "states_with_population_df = states_with_population_df.dropna()"
   ]
  },
  {
   "cell_type": "markdown",
   "id": "d209c017-5e52-47e2-ac3c-3136add9965e",
   "metadata": {},
   "source": [
    "## Get Lidl data"
   ]
  },
  {
   "cell_type": "code",
   "execution_count": 34,
   "id": "9b347877-3268-4550-93e7-308e261368b2",
   "metadata": {},
   "outputs": [],
   "source": [
    "r = requests.get(\"https://mobileapi.lidl.com/v1/stores?\")"
   ]
  },
  {
   "cell_type": "code",
   "execution_count": 35,
   "id": "04137d18-f697-43a5-880c-92420e43dcd4",
   "metadata": {},
   "outputs": [],
   "source": [
    "stores_json = r.json()"
   ]
  },
  {
   "cell_type": "code",
   "execution_count": 38,
   "id": "f229d423-48fc-4b22-b51d-aa87e2c97b28",
   "metadata": {},
   "outputs": [],
   "source": [
    "store_dict = {\"STUSPS\": [], \"geometry\": []}\n",
    "for store_json in stores_json[\"results\"]:\n",
    "    coords = store_json[\"coordinates\"]\n",
    "    p = Point(coords[\"lon\"], coords[\"lat\"])\n",
    "    store_dict[\"STUSPS\"].append(store_json[\"address\"][\"state\"])\n",
    "    store_dict[\"geometry\"].append(p)"
   ]
  },
  {
   "cell_type": "code",
   "execution_count": 65,
   "id": "ebf1ce36-0cc1-474d-9c4c-739acb277e4d",
   "metadata": {},
   "outputs": [],
   "source": [
    "lidl_gdf = gpd.GeoDataFrame(store_dict, crs=4326)"
   ]
  },
  {
   "cell_type": "code",
   "execution_count": 66,
   "id": "4eeaa188-1e83-4a92-8316-c73a845cc4b1",
   "metadata": {},
   "outputs": [],
   "source": [
    "totals = lidl_gdf.groupby(\"STUSPS\").size()\n",
    "totals_df = pd.DataFrame(\n",
    "    {\n",
    "        \"STUSPS\": totals.index,\n",
    "        \"COUNT\": totals.values,\n",
    "    }\n",
    ")"
   ]
  },
  {
   "cell_type": "markdown",
   "id": "4bf76ff1-a926-497c-bf15-c536d1035aa4",
   "metadata": {},
   "source": [
    "## Merge data"
   ]
  },
  {
   "cell_type": "code",
   "execution_count": 53,
   "id": "68352982-8e59-4623-a39f-b3c9f5a2eb5b",
   "metadata": {},
   "outputs": [],
   "source": [
    "states_with_population_with_totals_df = states_with_population_df.merge(\n",
    "    totals_df, on=\"STUSPS\", how=\"inner\"\n",
    ")"
   ]
  },
  {
   "cell_type": "code",
   "execution_count": 59,
   "id": "171ef241-2edb-4dcb-a4bb-0e04ff9c9493",
   "metadata": {},
   "outputs": [],
   "source": [
    "states_with_population_with_totals_df[\"people_per_store\"] = (\n",
    "    (\n",
    "        states_with_population_with_totals_df[\"POPULATION\"]\n",
    "        / states_with_population_with_totals_df[\"COUNT\"]\n",
    "    )\n",
    "    .round(decimals=0)\n",
    "    .astype(int)\n",
    ")\n",
    "states_with_population_with_totals_df[\n",
    "    \"stores_per_1m\"\n",
    "] = states_with_population_with_totals_df[\"COUNT\"] / (\n",
    "    states_with_population_with_totals_df[\"POPULATION\"] / 1_000_000\n",
    ")"
   ]
  },
  {
   "cell_type": "code",
   "execution_count": 61,
   "id": "8cb41f22-9612-40a1-a9cd-3567f96fead5",
   "metadata": {},
   "outputs": [],
   "source": [
    "states_with_population_with_totals_df = states_with_population_with_totals_df[\n",
    "    [\"geometry\", \"COUNT\", \"people_per_store\", \"stores_per_1m\"]\n",
    "]"
   ]
  },
  {
   "cell_type": "markdown",
   "id": "48546820-227b-4424-8977-9891f8cb8e14",
   "metadata": {},
   "source": [
    "## Export"
   ]
  },
  {
   "cell_type": "code",
   "execution_count": 62,
   "id": "307662bc-28de-4096-b1a9-1b101831ea5d",
   "metadata": {},
   "outputs": [],
   "source": [
    "states_with_population_with_totals_df = states_with_population_with_totals_df.to_crs(\n",
    "    32115\n",
    ")"
   ]
  },
  {
   "cell_type": "code",
   "execution_count": 63,
   "id": "c6a3c0d6-4b82-4769-b0d6-b0abbe540757",
   "metadata": {},
   "outputs": [],
   "source": [
    "states_with_population_with_totals_df.to_file(\"data/states_with_counts.gpkg\")"
   ]
  },
  {
   "cell_type": "code",
   "execution_count": 67,
   "id": "3eb5d315-8cc4-4dd1-a8ff-4a32c1b04c13",
   "metadata": {},
   "outputs": [],
   "source": [
    "lidl_gdf = lidl_gdf.to_crs(32115)\n",
    "lidl_gdf.to_file(\"data/stores.gpkg\")"
   ]
  },
  {
   "cell_type": "code",
   "execution_count": null,
   "id": "5cd97ce3-f58b-4b5a-8887-a39020f26b5d",
   "metadata": {},
   "outputs": [],
   "source": []
  }
 ],
 "metadata": {
  "kernelspec": {
   "display_name": "Python 3 (ipykernel)",
   "language": "python",
   "name": "python3"
  },
  "language_info": {
   "codemirror_mode": {
    "name": "ipython",
    "version": 3
   },
   "file_extension": ".py",
   "mimetype": "text/x-python",
   "name": "python",
   "nbconvert_exporter": "python",
   "pygments_lexer": "ipython3",
   "version": "3.11.11"
  }
 },
 "nbformat": 4,
 "nbformat_minor": 5
}
