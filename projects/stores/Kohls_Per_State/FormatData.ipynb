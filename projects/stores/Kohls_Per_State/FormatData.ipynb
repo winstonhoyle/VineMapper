{
 "cells": [
  {
   "cell_type": "code",
   "execution_count": 11,
   "id": "8eca3131-85dc-48b3-b640-f384104e123c",
   "metadata": {},
   "outputs": [],
   "source": [
    "import json\n",
    "import os\n",
    "import random\n",
    "import re\n",
    "import time"
   ]
  },
  {
   "cell_type": "code",
   "execution_count": 12,
   "id": "bc436e38-234d-44fd-b67b-d1f2974606d3",
   "metadata": {},
   "outputs": [],
   "source": [
    "from bs4 import BeautifulSoup\n",
    "import cloudscraper\n",
    "import geopandas as gpd\n",
    "import pandas as pd"
   ]
  },
  {
   "cell_type": "code",
   "execution_count": 13,
   "id": "13bbdea5-6ae9-4a3a-937a-12bb704da0f4",
   "metadata": {},
   "outputs": [],
   "source": [
    "from shapely.geometry import Point\n",
    "from tqdm.notebook import tqdm"
   ]
  },
  {
   "cell_type": "markdown",
   "id": "44a3df26-78d3-479c-99a2-c0e1ba91352e",
   "metadata": {},
   "source": [
    "## Get State Data"
   ]
  },
  {
   "cell_type": "code",
   "execution_count": 14,
   "id": "615eeabf-033b-425a-a81f-d7b4dd9e3a3e",
   "metadata": {},
   "outputs": [],
   "source": [
    "file_path = \"data/cb_2018_us_state_500k/cb_2018_us_state_500k.shp\"\n",
    "states_df = gpd.read_file(file_path)"
   ]
  },
  {
   "cell_type": "code",
   "execution_count": 15,
   "id": "502c6bfe-0912-4d37-95b0-47e7a14b468f",
   "metadata": {},
   "outputs": [],
   "source": [
    "states_df = states_df[[\"STUSPS\", \"NAME\", \"geometry\"]]"
   ]
  },
  {
   "cell_type": "markdown",
   "id": "4257620c-13d7-4071-bae2-a5a2aeae5ba7",
   "metadata": {},
   "source": [
    "## Get Population data"
   ]
  },
  {
   "cell_type": "code",
   "execution_count": 16,
   "id": "6c0e7a1d-5a9a-4c10-a5d4-28dc681a8a27",
   "metadata": {},
   "outputs": [],
   "source": [
    "state_populations = pd.read_excel(\n",
    "    \"data/NST-EST2024-POP.xlsx\", sheet_name=None, engine=\"openpyxl\"\n",
    ")"
   ]
  },
  {
   "cell_type": "code",
   "execution_count": 17,
   "id": "2614c2ab-96ec-4304-a287-6fd013fedbbb",
   "metadata": {},
   "outputs": [],
   "source": [
    "state_populations_df = state_populations[\"NST-EST2024-POP\"][\n",
    "    [\n",
    "        \"table with row headers in column A and column headers in rows 3 through 4. (leading dots indicate sub-parts)\",\n",
    "        \"Unnamed: 5\",\n",
    "    ]\n",
    "]\n",
    "state_populations_df = state_populations_df.rename(\n",
    "    columns={\n",
    "        \"table with row headers in column A and column headers in rows 3 through 4. (leading dots indicate sub-parts)\": \"NAME\",\n",
    "        \"Unnamed: 5\": \"POPULATION\",\n",
    "    }\n",
    ")\n",
    "state_populations_df[\"NAME\"] = state_populations_df[\"NAME\"].str[1:]"
   ]
  },
  {
   "cell_type": "code",
   "execution_count": 18,
   "id": "2a1a8b6e-a0bf-486b-b62e-46a23ca718e2",
   "metadata": {},
   "outputs": [],
   "source": [
    "states_with_population_df = states_df.merge(state_populations_df, on=\"NAME\", how=\"left\")\n",
    "states_with_population_df = states_with_population_df[\n",
    "    [\"STUSPS\", \"NAME\", \"POPULATION\", \"geometry\"]\n",
    "]"
   ]
  },
  {
   "cell_type": "markdown",
   "id": "6d2f1ce9-a36c-4292-99a0-ad42032c5ad4",
   "metadata": {},
   "source": [
    "## Get Kohls Data"
   ]
  },
  {
   "cell_type": "code",
   "execution_count": 27,
   "id": "3902428a-92ab-4760-98db-4df4874009dc",
   "metadata": {},
   "outputs": [],
   "source": [
    "scraper = cloudscraper.create_scraper()"
   ]
  },
  {
   "cell_type": "code",
   "execution_count": 31,
   "id": "57180847-49ee-46cc-9612-bfebcd53bed2",
   "metadata": {},
   "outputs": [
    {
     "data": {
      "application/vnd.jupyter.widget-view+json": {
       "model_id": "f43b1213b8cc4851800827a1dc17478e",
       "version_major": 2,
       "version_minor": 0
      },
      "text/plain": [
       "Parsing States:   0%|          | 0/56 [00:00<?, ?it/s]"
      ]
     },
     "metadata": {},
     "output_type": "display_data"
    },
    {
     "data": {
      "application/vnd.jupyter.widget-view+json": {
       "model_id": "9371427c567044a09d62842ce34bd983",
       "version_major": 2,
       "version_minor": 0
      },
      "text/plain": [
       "Parsing Cities in ms:   0%|          | 0/5 [00:00<?, ?it/s]"
      ]
     },
     "metadata": {},
     "output_type": "display_data"
    },
    {
     "data": {
      "application/vnd.jupyter.widget-view+json": {
       "model_id": "773421dcfb8b49dcaba9378f0d0db483",
       "version_major": 2,
       "version_minor": 0
      },
      "text/plain": [
       "Parsing Cities in nc:   0%|          | 0/29 [00:00<?, ?it/s]"
      ]
     },
     "metadata": {},
     "output_type": "display_data"
    },
    {
     "data": {
      "application/vnd.jupyter.widget-view+json": {
       "model_id": "0ca1f53aa81e438fbbf113aed19291a5",
       "version_major": 2,
       "version_minor": 0
      },
      "text/plain": [
       "Parsing Cities in ok:   0%|          | 0/10 [00:00<?, ?it/s]"
      ]
     },
     "metadata": {},
     "output_type": "display_data"
    },
    {
     "data": {
      "application/vnd.jupyter.widget-view+json": {
       "model_id": "930e4d5d2b064389ad5315e5286f5c0a",
       "version_major": 2,
       "version_minor": 0
      },
      "text/plain": [
       "Parsing Cities in va:   0%|          | 0/28 [00:00<?, ?it/s]"
      ]
     },
     "metadata": {},
     "output_type": "display_data"
    },
    {
     "data": {
      "application/vnd.jupyter.widget-view+json": {
       "model_id": "3e1b19161c12462d8bb1f72edd362abe",
       "version_major": 2,
       "version_minor": 0
      },
      "text/plain": [
       "Parsing Cities in wv:   0%|          | 0/8 [00:00<?, ?it/s]"
      ]
     },
     "metadata": {},
     "output_type": "display_data"
    },
    {
     "data": {
      "application/vnd.jupyter.widget-view+json": {
       "model_id": "efc37a139a5a4b1c81545fb71e7dc8d1",
       "version_major": 2,
       "version_minor": 0
      },
      "text/plain": [
       "Parsing Cities in la:   0%|          | 0/7 [00:00<?, ?it/s]"
      ]
     },
     "metadata": {},
     "output_type": "display_data"
    },
    {
     "data": {
      "application/vnd.jupyter.widget-view+json": {
       "model_id": "175fe9fcbd3c4b7a93c7f8422f5d0f2b",
       "version_major": 2,
       "version_minor": 0
      },
      "text/plain": [
       "Parsing Cities in mi:   0%|          | 0/44 [00:00<?, ?it/s]"
      ]
     },
     "metadata": {},
     "output_type": "display_data"
    },
    {
     "data": {
      "application/vnd.jupyter.widget-view+json": {
       "model_id": "4fff168d84e449f8a9ba57473aa71942",
       "version_major": 2,
       "version_minor": 0
      },
      "text/plain": [
       "Parsing Cities in ma:   0%|          | 0/24 [00:00<?, ?it/s]"
      ]
     },
     "metadata": {},
     "output_type": "display_data"
    },
    {
     "data": {
      "application/vnd.jupyter.widget-view+json": {
       "model_id": "1d3318ed02e24964b5127a39c3783917",
       "version_major": 2,
       "version_minor": 0
      },
      "text/plain": [
       "Parsing Cities in id:   0%|          | 0/6 [00:00<?, ?it/s]"
      ]
     },
     "metadata": {},
     "output_type": "display_data"
    },
    {
     "data": {
      "application/vnd.jupyter.widget-view+json": {
       "model_id": "c6672fc4019c4be6b32f841cfd5b2ba9",
       "version_major": 2,
       "version_minor": 0
      },
      "text/plain": [
       "Parsing Cities in fl:   0%|          | 0/48 [00:00<?, ?it/s]"
      ]
     },
     "metadata": {},
     "output_type": "display_data"
    },
    {
     "data": {
      "application/vnd.jupyter.widget-view+json": {
       "model_id": "764207dad6f5495c97158d0c9a64da99",
       "version_major": 2,
       "version_minor": 0
      },
      "text/plain": [
       "Parsing Cities in ne:   0%|          | 0/6 [00:00<?, ?it/s]"
      ]
     },
     "metadata": {},
     "output_type": "display_data"
    },
    {
     "data": {
      "application/vnd.jupyter.widget-view+json": {
       "model_id": "ea2f2f0af59343a9bef53c7d5bfc7975",
       "version_major": 2,
       "version_minor": 0
      },
      "text/plain": [
       "Parsing Cities in wa:   0%|          | 0/20 [00:00<?, ?it/s]"
      ]
     },
     "metadata": {},
     "output_type": "display_data"
    },
    {
     "data": {
      "application/vnd.jupyter.widget-view+json": {
       "model_id": "59cdeea3cd73472c92dcaff4394ef626",
       "version_major": 2,
       "version_minor": 0
      },
      "text/plain": [
       "Parsing Cities in nm:   0%|          | 0/3 [00:00<?, ?it/s]"
      ]
     },
     "metadata": {},
     "output_type": "display_data"
    },
    {
     "name": "stdout",
     "output_type": "stream",
     "text": [
      "pr https://www.kohls.com/stores/pr.shtml\n"
     ]
    },
    {
     "data": {
      "application/vnd.jupyter.widget-view+json": {
       "model_id": "34f26de0599c406eab4f0d5f822122d9",
       "version_major": 2,
       "version_minor": 0
      },
      "text/plain": [
       "Parsing Cities in pr: 0it [00:00, ?it/s]"
      ]
     },
     "metadata": {},
     "output_type": "display_data"
    },
    {
     "data": {
      "application/vnd.jupyter.widget-view+json": {
       "model_id": "ac8fd55af8ef4ef9a1e67ee6decdbd58",
       "version_major": 2,
       "version_minor": 0
      },
      "text/plain": [
       "Parsing Cities in sd:   0%|          | 0/3 [00:00<?, ?it/s]"
      ]
     },
     "metadata": {},
     "output_type": "display_data"
    },
    {
     "data": {
      "application/vnd.jupyter.widget-view+json": {
       "model_id": "1f48a3d7ad2f462b935f19dba9655d91",
       "version_major": 2,
       "version_minor": 0
      },
      "text/plain": [
       "Parsing Cities in tx:   0%|          | 0/76 [00:00<?, ?it/s]"
      ]
     },
     "metadata": {},
     "output_type": "display_data"
    },
    {
     "data": {
      "application/vnd.jupyter.widget-view+json": {
       "model_id": "41b681e7e8b041918411d05a685c2005",
       "version_major": 2,
       "version_minor": 0
      },
      "text/plain": [
       "Parsing Cities in ca:   0%|          | 0/107 [00:00<?, ?it/s]"
      ]
     },
     "metadata": {},
     "output_type": "display_data"
    },
    {
     "data": {
      "application/vnd.jupyter.widget-view+json": {
       "model_id": "bfe4927149d140e2baba7636cdb0b644",
       "version_major": 2,
       "version_minor": 0
      },
      "text/plain": [
       "Parsing Cities in al:   0%|          | 0/13 [00:00<?, ?it/s]"
      ]
     },
     "metadata": {},
     "output_type": "display_data"
    },
    {
     "data": {
      "application/vnd.jupyter.widget-view+json": {
       "model_id": "04d240c987ed46e587ea4e444aa8ce49",
       "version_major": 2,
       "version_minor": 0
      },
      "text/plain": [
       "Parsing Cities in ga:   0%|          | 0/33 [00:00<?, ?it/s]"
      ]
     },
     "metadata": {},
     "output_type": "display_data"
    },
    {
     "data": {
      "application/vnd.jupyter.widget-view+json": {
       "model_id": "2f151f5ce3a846feb0d8de1c9a923ac2",
       "version_major": 2,
       "version_minor": 0
      },
      "text/plain": [
       "Parsing Cities in pa:   0%|          | 0/48 [00:00<?, ?it/s]"
      ]
     },
     "metadata": {},
     "output_type": "display_data"
    },
    {
     "data": {
      "application/vnd.jupyter.widget-view+json": {
       "model_id": "4b27e9303e5b46c1ac0f2d7bd9acdc74",
       "version_major": 2,
       "version_minor": 0
      },
      "text/plain": [
       "Parsing Cities in mo:   0%|          | 0/26 [00:00<?, ?it/s]"
      ]
     },
     "metadata": {},
     "output_type": "display_data"
    },
    {
     "data": {
      "application/vnd.jupyter.widget-view+json": {
       "model_id": "9a729db007b44d27b421483fdc439aa5",
       "version_major": 2,
       "version_minor": 0
      },
      "text/plain": [
       "Parsing Cities in co:   0%|          | 0/20 [00:00<?, ?it/s]"
      ]
     },
     "metadata": {},
     "output_type": "display_data"
    },
    {
     "data": {
      "application/vnd.jupyter.widget-view+json": {
       "model_id": "6752254874e444ad8e5d8deb445cde7e",
       "version_major": 2,
       "version_minor": 0
      },
      "text/plain": [
       "Parsing Cities in ut:   0%|          | 0/12 [00:00<?, ?it/s]"
      ]
     },
     "metadata": {},
     "output_type": "display_data"
    },
    {
     "data": {
      "application/vnd.jupyter.widget-view+json": {
       "model_id": "3fe7182d944e4c47855676160a343172",
       "version_major": 2,
       "version_minor": 0
      },
      "text/plain": [
       "Parsing Cities in tn:   0%|          | 0/19 [00:00<?, ?it/s]"
      ]
     },
     "metadata": {},
     "output_type": "display_data"
    },
    {
     "data": {
      "application/vnd.jupyter.widget-view+json": {
       "model_id": "ac92cf7b103d483eab72f789abd4f88d",
       "version_major": 2,
       "version_minor": 0
      },
      "text/plain": [
       "Parsing Cities in wy:   0%|          | 0/2 [00:00<?, ?it/s]"
      ]
     },
     "metadata": {},
     "output_type": "display_data"
    },
    {
     "data": {
      "application/vnd.jupyter.widget-view+json": {
       "model_id": "dcfed5e1935140c189f635a6039ffd69",
       "version_major": 2,
       "version_minor": 0
      },
      "text/plain": [
       "Parsing Cities in ny:   0%|          | 0/50 [00:00<?, ?it/s]"
      ]
     },
     "metadata": {},
     "output_type": "display_data"
    },
    {
     "data": {
      "application/vnd.jupyter.widget-view+json": {
       "model_id": "059c58150a80432a8087cad3ea6db267",
       "version_major": 2,
       "version_minor": 0
      },
      "text/plain": [
       "Parsing Cities in ks:   0%|          | 0/11 [00:00<?, ?it/s]"
      ]
     },
     "metadata": {},
     "output_type": "display_data"
    },
    {
     "data": {
      "application/vnd.jupyter.widget-view+json": {
       "model_id": "3c579424762d4ec9b3b36d0824010d06",
       "version_major": 2,
       "version_minor": 0
      },
      "text/plain": [
       "Parsing Cities in ak:   0%|          | 0/1 [00:00<?, ?it/s]"
      ]
     },
     "metadata": {},
     "output_type": "display_data"
    },
    {
     "data": {
      "application/vnd.jupyter.widget-view+json": {
       "model_id": "35f9105d01b34c04b9e83f0c5d6debd4",
       "version_major": 2,
       "version_minor": 0
      },
      "text/plain": [
       "Parsing Cities in nv:   0%|          | 0/7 [00:00<?, ?it/s]"
      ]
     },
     "metadata": {},
     "output_type": "display_data"
    },
    {
     "data": {
      "application/vnd.jupyter.widget-view+json": {
       "model_id": "29185d55303e4fdfa8bf2d769a140cc9",
       "version_major": 2,
       "version_minor": 0
      },
      "text/plain": [
       "Parsing Cities in il:   0%|          | 0/64 [00:00<?, ?it/s]"
      ]
     },
     "metadata": {},
     "output_type": "display_data"
    },
    {
     "data": {
      "application/vnd.jupyter.widget-view+json": {
       "model_id": "991da868f2a34b78a5a2cebadc1899f4",
       "version_major": 2,
       "version_minor": 0
      },
      "text/plain": [
       "Parsing Cities in vt:   0%|          | 0/2 [00:00<?, ?it/s]"
      ]
     },
     "metadata": {},
     "output_type": "display_data"
    },
    {
     "data": {
      "application/vnd.jupyter.widget-view+json": {
       "model_id": "f44d17851b284334a17efb89834d32f7",
       "version_major": 2,
       "version_minor": 0
      },
      "text/plain": [
       "Parsing Cities in mt:   0%|          | 0/4 [00:00<?, ?it/s]"
      ]
     },
     "metadata": {},
     "output_type": "display_data"
    },
    {
     "data": {
      "application/vnd.jupyter.widget-view+json": {
       "model_id": "5ba3e27af0aa40c8aa0786114d0d7514",
       "version_major": 2,
       "version_minor": 0
      },
      "text/plain": [
       "Parsing Cities in ia:   0%|          | 0/17 [00:00<?, ?it/s]"
      ]
     },
     "metadata": {},
     "output_type": "display_data"
    },
    {
     "data": {
      "application/vnd.jupyter.widget-view+json": {
       "model_id": "6e5889ab20c44afd9e3819fac335403b",
       "version_major": 2,
       "version_minor": 0
      },
      "text/plain": [
       "Parsing Cities in sc:   0%|          | 0/16 [00:00<?, ?it/s]"
      ]
     },
     "metadata": {},
     "output_type": "display_data"
    },
    {
     "data": {
      "application/vnd.jupyter.widget-view+json": {
       "model_id": "789826c901704f05860a9f87d760f8a0",
       "version_major": 2,
       "version_minor": 0
      },
      "text/plain": [
       "Parsing Cities in nh:   0%|          | 0/11 [00:00<?, ?it/s]"
      ]
     },
     "metadata": {},
     "output_type": "display_data"
    },
    {
     "data": {
      "application/vnd.jupyter.widget-view+json": {
       "model_id": "516339020fd34560a8213397ab3238c1",
       "version_major": 2,
       "version_minor": 0
      },
      "text/plain": [
       "Parsing Cities in az:   0%|          | 0/18 [00:00<?, ?it/s]"
      ]
     },
     "metadata": {},
     "output_type": "display_data"
    },
    {
     "name": "stdout",
     "output_type": "stream",
     "text": [
      "dc https://www.kohls.com/stores/dc.shtml\n"
     ]
    },
    {
     "data": {
      "application/vnd.jupyter.widget-view+json": {
       "model_id": "038363bcfbad45db8f0c31d14efbcdd3",
       "version_major": 2,
       "version_minor": 0
      },
      "text/plain": [
       "Parsing Cities in dc: 0it [00:00, ?it/s]"
      ]
     },
     "metadata": {},
     "output_type": "display_data"
    },
    {
     "name": "stdout",
     "output_type": "stream",
     "text": [
      "as https://www.kohls.com/stores/as.shtml\n"
     ]
    },
    {
     "data": {
      "application/vnd.jupyter.widget-view+json": {
       "model_id": "f8cb419ec29842748c515bc30f102364",
       "version_major": 2,
       "version_minor": 0
      },
      "text/plain": [
       "Parsing Cities in as: 0it [00:00, ?it/s]"
      ]
     },
     "metadata": {},
     "output_type": "display_data"
    },
    {
     "name": "stdout",
     "output_type": "stream",
     "text": [
      "vi https://www.kohls.com/stores/vi.shtml\n"
     ]
    },
    {
     "data": {
      "application/vnd.jupyter.widget-view+json": {
       "model_id": "5e2c4aadfeb941699ac5d228c3ddf321",
       "version_major": 2,
       "version_minor": 0
      },
      "text/plain": [
       "Parsing Cities in vi: 0it [00:00, ?it/s]"
      ]
     },
     "metadata": {},
     "output_type": "display_data"
    },
    {
     "data": {
      "application/vnd.jupyter.widget-view+json": {
       "model_id": "9e4fcfdb7eb64cb7aa1fc649e3a39040",
       "version_major": 2,
       "version_minor": 0
      },
      "text/plain": [
       "Parsing Cities in nj:   0%|          | 0/38 [00:00<?, ?it/s]"
      ]
     },
     "metadata": {},
     "output_type": "display_data"
    },
    {
     "data": {
      "application/vnd.jupyter.widget-view+json": {
       "model_id": "588e83175eac43f89f6e45ec7eb36388",
       "version_major": 2,
       "version_minor": 0
      },
      "text/plain": [
       "Parsing Cities in md:   0%|          | 0/23 [00:00<?, ?it/s]"
      ]
     },
     "metadata": {},
     "output_type": "display_data"
    },
    {
     "data": {
      "application/vnd.jupyter.widget-view+json": {
       "model_id": "cfcfe3e578584c23870ed1b00fa41565",
       "version_major": 2,
       "version_minor": 0
      },
      "text/plain": [
       "Parsing Cities in me:   0%|          | 0/5 [00:00<?, ?it/s]"
      ]
     },
     "metadata": {},
     "output_type": "display_data"
    },
    {
     "name": "stdout",
     "output_type": "stream",
     "text": [
      "hi https://www.kohls.com/stores/hi.shtml\n"
     ]
    },
    {
     "data": {
      "application/vnd.jupyter.widget-view+json": {
       "model_id": "0396279342f446398674827ed7c7ac3d",
       "version_major": 2,
       "version_minor": 0
      },
      "text/plain": [
       "Parsing Cities in hi: 0it [00:00, ?it/s]"
      ]
     },
     "metadata": {},
     "output_type": "display_data"
    },
    {
     "data": {
      "application/vnd.jupyter.widget-view+json": {
       "model_id": "e31d310913664883943e41648c7de039",
       "version_major": 2,
       "version_minor": 0
      },
      "text/plain": [
       "Parsing Cities in de:   0%|          | 0/4 [00:00<?, ?it/s]"
      ]
     },
     "metadata": {},
     "output_type": "display_data"
    },
    {
     "name": "stdout",
     "output_type": "stream",
     "text": [
      "gu https://www.kohls.com/stores/gu.shtml\n"
     ]
    },
    {
     "data": {
      "application/vnd.jupyter.widget-view+json": {
       "model_id": "8bc5fce7422840bfbb504449795b750a",
       "version_major": 2,
       "version_minor": 0
      },
      "text/plain": [
       "Parsing Cities in gu: 0it [00:00, ?it/s]"
      ]
     },
     "metadata": {},
     "output_type": "display_data"
    },
    {
     "name": "stdout",
     "output_type": "stream",
     "text": [
      "mp https://www.kohls.com/stores/mp.shtml\n"
     ]
    },
    {
     "data": {
      "application/vnd.jupyter.widget-view+json": {
       "model_id": "1c97ed1f65754ac68b249db5b30ebda3",
       "version_major": 2,
       "version_minor": 0
      },
      "text/plain": [
       "Parsing Cities in mp: 0it [00:00, ?it/s]"
      ]
     },
     "metadata": {},
     "output_type": "display_data"
    },
    {
     "data": {
      "application/vnd.jupyter.widget-view+json": {
       "model_id": "2d769223cd0e46c982483a8648665565",
       "version_major": 2,
       "version_minor": 0
      },
      "text/plain": [
       "Parsing Cities in ri:   0%|          | 0/4 [00:00<?, ?it/s]"
      ]
     },
     "metadata": {},
     "output_type": "display_data"
    },
    {
     "data": {
      "application/vnd.jupyter.widget-view+json": {
       "model_id": "105c646d6bb34ee9837b904e3dfb1c3d",
       "version_major": 2,
       "version_minor": 0
      },
      "text/plain": [
       "Parsing Cities in ky:   0%|          | 0/15 [00:00<?, ?it/s]"
      ]
     },
     "metadata": {},
     "output_type": "display_data"
    },
    {
     "data": {
      "application/vnd.jupyter.widget-view+json": {
       "model_id": "a0fb39e96ae44d0b87c9f6ad2fed85aa",
       "version_major": 2,
       "version_minor": 0
      },
      "text/plain": [
       "Parsing Cities in oh:   0%|          | 0/55 [00:00<?, ?it/s]"
      ]
     },
     "metadata": {},
     "output_type": "display_data"
    },
    {
     "data": {
      "application/vnd.jupyter.widget-view+json": {
       "model_id": "3eb1b58b407347e1b59b7b5a5a1eb005",
       "version_major": 2,
       "version_minor": 0
      },
      "text/plain": [
       "Parsing Cities in wi:   0%|          | 0/38 [00:00<?, ?it/s]"
      ]
     },
     "metadata": {},
     "output_type": "display_data"
    },
    {
     "data": {
      "application/vnd.jupyter.widget-view+json": {
       "model_id": "14c419e5d74145feaea7df05fba9437e",
       "version_major": 2,
       "version_minor": 0
      },
      "text/plain": [
       "Parsing Cities in or:   0%|          | 0/11 [00:00<?, ?it/s]"
      ]
     },
     "metadata": {},
     "output_type": "display_data"
    },
    {
     "data": {
      "application/vnd.jupyter.widget-view+json": {
       "model_id": "7256bffd830f48ed847940501d167818",
       "version_major": 2,
       "version_minor": 0
      },
      "text/plain": [
       "Parsing Cities in nd:   0%|          | 0/4 [00:00<?, ?it/s]"
      ]
     },
     "metadata": {},
     "output_type": "display_data"
    },
    {
     "data": {
      "application/vnd.jupyter.widget-view+json": {
       "model_id": "513983376c18447aa4e0e4f1cb1008c6",
       "version_major": 2,
       "version_minor": 0
      },
      "text/plain": [
       "Parsing Cities in ar:   0%|          | 0/8 [00:00<?, ?it/s]"
      ]
     },
     "metadata": {},
     "output_type": "display_data"
    },
    {
     "data": {
      "application/vnd.jupyter.widget-view+json": {
       "model_id": "e1556cbeb639422eac8d0ebb5ab8c3b1",
       "version_major": 2,
       "version_minor": 0
      },
      "text/plain": [
       "Parsing Cities in in:   0%|          | 0/34 [00:00<?, ?it/s]"
      ]
     },
     "metadata": {},
     "output_type": "display_data"
    },
    {
     "data": {
      "application/vnd.jupyter.widget-view+json": {
       "model_id": "b192fd25617042cc84f1165987438f6a",
       "version_major": 2,
       "version_minor": 0
      },
      "text/plain": [
       "Parsing Cities in mn:   0%|          | 0/29 [00:00<?, ?it/s]"
      ]
     },
     "metadata": {},
     "output_type": "display_data"
    },
    {
     "data": {
      "application/vnd.jupyter.widget-view+json": {
       "model_id": "f29adab2169643c083986e145c1cfbba",
       "version_major": 2,
       "version_minor": 0
      },
      "text/plain": [
       "Parsing Cities in ct:   0%|          | 0/20 [00:00<?, ?it/s]"
      ]
     },
     "metadata": {},
     "output_type": "display_data"
    }
   ],
   "source": [
    "kohls_list = []\n",
    "\n",
    "for i in tqdm(range(len(states_df)), desc=\"Parsing States\"):\n",
    "    state_store_list = []\n",
    "    state_code = states_df.iloc[i][\"STUSPS\"].lower()\n",
    "\n",
    "    # If File exists continue\n",
    "    if os.path.isfile(f\"data/states/{state_code}.gpkg\"):\n",
    "        continue\n",
    "\n",
    "    r_state = scraper.get(\n",
    "        f\"https://www.kohls.com/stores/{state_code}.shtml\", allow_redirects=False\n",
    "    )\n",
    "    if r_state.status_code != 200:\n",
    "        print(state_code, r_state.url)\n",
    "\n",
    "    soup_state = BeautifulSoup(r_state.text, \"html.parser\")\n",
    "    city_as = soup_state.find_all(\"a\", {\"class\": \"ga-link\"})\n",
    "\n",
    "    for city_a in tqdm(city_as[:-1], desc=f\"Parsing Cities in {state_code}\"):\n",
    "        city_url = f\"https://www.kohls.com{city_a.attrs['href']}\"\n",
    "        r_city = scraper.get(city_url)\n",
    "        soup_city = BeautifulSoup(r_city.text, \"html.parser\")\n",
    "        store_divs = soup_city.find_all(\n",
    "            \"div\", {\"class\": \"map-list-links mt-10 rio-location-buttons\"}\n",
    "        )\n",
    "\n",
    "        for store_div in store_divs:\n",
    "            store_url = f\"https://www.kohls.com{store_div.find('a').attrs['href']}\"\n",
    "            r_store = scraper.get(store_url)\n",
    "            soup_store = BeautifulSoup(r_store.text, \"html.parser\")\n",
    "            store_json = json.loads(\n",
    "                soup_store.find(\"script\", {\"type\": \"application/ld+json\"}).text\n",
    "            )\n",
    "            geo_dict = store_json[0][\"geo\"]\n",
    "            store_dict = {\n",
    "                \"STATE\": state_code.upper(),\n",
    "                \"geometry\": Point(geo_dict[\"longitude\"], geo_dict[\"latitude\"]),\n",
    "            }\n",
    "            state_store_list.append(store_dict)\n",
    "            kohls_list.append(store_dict)\n",
    "            time.sleep(random.uniform(0.01, 0.5))\n",
    "\n",
    "    if state_store_list:\n",
    "        kohls_state_gdf = gpd.GeoDataFrame(state_store_list, crs=4326)\n",
    "        kohls_state_gdf.to_file(f\"data/states/{state_code}.gpkg\")"
   ]
  },
  {
   "cell_type": "code",
   "execution_count": 32,
   "id": "8e2886d6-a436-4ee1-88a3-7db399b8e8ef",
   "metadata": {},
   "outputs": [],
   "source": [
    "kohls_state_gdfs = []\n",
    "states_path = \"data/states\"\n",
    "for file in os.listdir(\"data/states\"):\n",
    "    constructed_path = os.path.join(states_path, file)\n",
    "    if constructed_path.endswith(\".gpkg\"):\n",
    "        state_kohls_gdf = gpd.read_file(constructed_path)\n",
    "        kohls_state_gdfs.append(state_kohls_gdf)"
   ]
  },
  {
   "cell_type": "code",
   "execution_count": 35,
   "id": "31d74560-6b27-42a2-a085-47406b711385",
   "metadata": {},
   "outputs": [],
   "source": [
    "kohls_gdf = gpd.GeoDataFrame(pd.concat(kohls_state_gdfs, ignore_index=True), crs=4326)"
   ]
  },
  {
   "cell_type": "code",
   "execution_count": 36,
   "id": "30cdf6ab-4324-457b-bfc1-215c1c9fe2ce",
   "metadata": {},
   "outputs": [],
   "source": [
    "kohls_gdf = kohls_gdf.to_crs(9311)\n",
    "kohls_gdf.to_file(f\"data/kohls.gpkg\")"
   ]
  },
  {
   "cell_type": "code",
   "execution_count": 44,
   "id": "1289f782-252b-4652-b213-09a4ed4b804c",
   "metadata": {},
   "outputs": [],
   "source": [
    "kohls_state_df = kohls_gdf.groupby(\"STATE\").size()\n",
    "kohls_state_counts_df = (\n",
    "    pd.DataFrame(kohls_state_df, columns=[\"KOHLS\"])\n",
    "    .reset_index()\n",
    "    .rename(columns={\"STATE\": \"STUSPS\"})\n",
    ")"
   ]
  },
  {
   "cell_type": "markdown",
   "id": "94cb32a2-faf0-40fa-8616-e8f2275eca72",
   "metadata": {},
   "source": [
    "## Combine With States"
   ]
  },
  {
   "cell_type": "code",
   "execution_count": 45,
   "id": "c062806b-5f76-4d7e-a226-31383a266b6a",
   "metadata": {},
   "outputs": [],
   "source": [
    "kokls_by_states_gdf = states_with_population_df.merge(\n",
    "    kohls_state_counts_df, on=\"STUSPS\", how=\"left\"\n",
    ")"
   ]
  },
  {
   "cell_type": "code",
   "execution_count": 48,
   "id": "8e8b581c-4e0c-40b8-81a9-4ea014470b40",
   "metadata": {},
   "outputs": [],
   "source": [
    "kokls_by_states_gdf[\"per_1000\"] = kokls_by_states_gdf[\"KOHLS\"] / (\n",
    "    kokls_by_states_gdf[\"POPULATION\"] / 1000\n",
    ")\n",
    "kokls_by_states_gdf[\"per_10k\"] = kokls_by_states_gdf[\"KOHLS\"] / (\n",
    "    kokls_by_states_gdf[\"POPULATION\"] / 10_000\n",
    ")\n",
    "kokls_by_states_gdf[\"per_100k\"] = kokls_by_states_gdf[\"KOHLS\"] / (\n",
    "    kokls_by_states_gdf[\"POPULATION\"] / 100000\n",
    ")\n",
    "kokls_by_states_gdf[\"per_500k\"] = kokls_by_states_gdf[\"KOHLS\"] / (\n",
    "    kokls_by_states_gdf[\"POPULATION\"] / 500_000\n",
    ")\n",
    "kokls_by_states_gdf[\"per_1m\"] = kokls_by_states_gdf[\"KOHLS\"] / (\n",
    "    kokls_by_states_gdf[\"POPULATION\"] / 1_000_000\n",
    ")"
   ]
  },
  {
   "cell_type": "code",
   "execution_count": 49,
   "id": "237a0e6a-ccc2-4f3b-baad-d36ce4ecc481",
   "metadata": {},
   "outputs": [],
   "source": [
    "kokls_by_states_gdf = kokls_by_states_gdf.dropna()"
   ]
  },
  {
   "cell_type": "code",
   "execution_count": 50,
   "id": "944acfaa-313b-4a9f-aecc-53fe95e188be",
   "metadata": {},
   "outputs": [],
   "source": [
    "kokls_by_states_gdf = kokls_by_states_gdf.to_crs(9311)\n",
    "kokls_by_states_gdf.to_file(f\"data/kohls_per_state.gpkg\")"
   ]
  },
  {
   "cell_type": "code",
   "execution_count": null,
   "id": "4857fb82-2869-4020-8a57-c1983c9055b6",
   "metadata": {},
   "outputs": [],
   "source": []
  },
  {
   "cell_type": "code",
   "execution_count": null,
   "id": "3eba1b99-001c-4de4-9fe1-1a06ea51e118",
   "metadata": {},
   "outputs": [],
   "source": []
  }
 ],
 "metadata": {
  "kernelspec": {
   "display_name": "Python 3 (ipykernel)",
   "language": "python",
   "name": "python3"
  },
  "language_info": {
   "codemirror_mode": {
    "name": "ipython",
    "version": 3
   },
   "file_extension": ".py",
   "mimetype": "text/x-python",
   "name": "python",
   "nbconvert_exporter": "python",
   "pygments_lexer": "ipython3",
   "version": "3.11.11"
  }
 },
 "nbformat": 4,
 "nbformat_minor": 5
}
