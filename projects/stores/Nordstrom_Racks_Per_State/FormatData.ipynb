{
 "cells": [
  {
   "cell_type": "code",
   "execution_count": 52,
   "id": "8eca3131-85dc-48b3-b640-f384104e123c",
   "metadata": {},
   "outputs": [],
   "source": [
    "from collections import Counter\n",
    "import os\n",
    "import random\n",
    "import re\n",
    "import time"
   ]
  },
  {
   "cell_type": "code",
   "execution_count": 2,
   "id": "bc436e38-234d-44fd-b67b-d1f2974606d3",
   "metadata": {},
   "outputs": [],
   "source": [
    "from bs4 import BeautifulSoup\n",
    "import cloudscraper\n",
    "import geopandas as gpd\n",
    "import pandas as pd"
   ]
  },
  {
   "cell_type": "code",
   "execution_count": 3,
   "id": "13bbdea5-6ae9-4a3a-937a-12bb704da0f4",
   "metadata": {},
   "outputs": [],
   "source": [
    "from shapely.geometry import Point\n",
    "from tqdm.notebook import tqdm"
   ]
  },
  {
   "cell_type": "markdown",
   "id": "44a3df26-78d3-479c-99a2-c0e1ba91352e",
   "metadata": {},
   "source": [
    "## Get State Data"
   ]
  },
  {
   "cell_type": "code",
   "execution_count": 4,
   "id": "615eeabf-033b-425a-a81f-d7b4dd9e3a3e",
   "metadata": {},
   "outputs": [],
   "source": [
    "file_path = \"data/cb_2018_us_state_500k/cb_2018_us_state_500k.shp\"\n",
    "states_df = gpd.read_file(file_path)"
   ]
  },
  {
   "cell_type": "code",
   "execution_count": 5,
   "id": "502c6bfe-0912-4d37-95b0-47e7a14b468f",
   "metadata": {},
   "outputs": [],
   "source": [
    "states_df = states_df[[\"STUSPS\", \"NAME\", \"geometry\"]]"
   ]
  },
  {
   "cell_type": "markdown",
   "id": "4257620c-13d7-4071-bae2-a5a2aeae5ba7",
   "metadata": {},
   "source": [
    "## Get Population data"
   ]
  },
  {
   "cell_type": "code",
   "execution_count": 6,
   "id": "6c0e7a1d-5a9a-4c10-a5d4-28dc681a8a27",
   "metadata": {},
   "outputs": [],
   "source": [
    "state_populations = pd.read_excel(\n",
    "    \"data/NST-EST2024-POP.xlsx\", sheet_name=None, engine=\"openpyxl\"\n",
    ")"
   ]
  },
  {
   "cell_type": "code",
   "execution_count": 7,
   "id": "2614c2ab-96ec-4304-a287-6fd013fedbbb",
   "metadata": {},
   "outputs": [],
   "source": [
    "state_populations_df = state_populations[\"NST-EST2024-POP\"][\n",
    "    [\n",
    "        \"table with row headers in column A and column headers in rows 3 through 4. (leading dots indicate sub-parts)\",\n",
    "        \"Unnamed: 5\",\n",
    "    ]\n",
    "]\n",
    "state_populations_df = state_populations_df.rename(\n",
    "    columns={\n",
    "        \"table with row headers in column A and column headers in rows 3 through 4. (leading dots indicate sub-parts)\": \"NAME\",\n",
    "        \"Unnamed: 5\": \"POPULATION\",\n",
    "    }\n",
    ")\n",
    "state_populations_df[\"NAME\"] = state_populations_df[\"NAME\"].str[1:]"
   ]
  },
  {
   "cell_type": "code",
   "execution_count": 8,
   "id": "2a1a8b6e-a0bf-486b-b62e-46a23ca718e2",
   "metadata": {},
   "outputs": [],
   "source": [
    "states_with_population_df = states_df.merge(state_populations_df, on=\"NAME\", how=\"left\")\n",
    "states_with_population_df = states_with_population_df[\n",
    "    [\"STUSPS\", \"NAME\", \"POPULATION\", \"geometry\"]\n",
    "]"
   ]
  },
  {
   "cell_type": "markdown",
   "id": "6d2f1ce9-a36c-4292-99a0-ad42032c5ad4",
   "metadata": {},
   "source": [
    "## Get Nordstrom Data"
   ]
  },
  {
   "cell_type": "code",
   "execution_count": 9,
   "id": "3902428a-92ab-4760-98db-4df4874009dc",
   "metadata": {},
   "outputs": [],
   "source": [
    "scraper = cloudscraper.create_scraper()"
   ]
  },
  {
   "cell_type": "code",
   "execution_count": 44,
   "id": "42ff52bc-3ed5-4e6c-b222-a02e95e62e8d",
   "metadata": {},
   "outputs": [],
   "source": [
    "def get_states(url: str, headers: dict) -> list:\n",
    "    r = scraper.get(url, headers=headers)\n",
    "\n",
    "    if r.status_code != 200:\n",
    "        print(url, r.status_code, r.reason)\n",
    "        return []\n",
    "\n",
    "    soup = BeautifulSoup(r.text, \"html.parser\")\n",
    "    state_divs = soup.find_all(\"div\", {\"class\": \"PiUHT fBKre hrzmx\"})\n",
    "\n",
    "    if not state_divs:\n",
    "        print(\"No divs\", url)\n",
    "        return []\n",
    "    else:\n",
    "        return state_divs"
   ]
  },
  {
   "cell_type": "code",
   "execution_count": 45,
   "id": "98a79e3c-5dee-4dc7-bb48-5b6df8446b2b",
   "metadata": {},
   "outputs": [],
   "source": [
    "def get_coords(url: str) -> Point:\n",
    "    r = scraper.get(url)\n",
    "    if r.status_code != 200:\n",
    "        print(\"Status Code:\", r.status_code, url)\n",
    "        return {}\n",
    "    try:\n",
    "        soup = BeautifulSoup(r.text, \"html.parser\")\n",
    "        lat = float(soup.find(\"meta\", {\"itemprop\": \"latitude\"}).attrs[\"content\"])\n",
    "        lon = float(soup.find(\"meta\", {\"itemprop\": \"longitude\"}).attrs[\"content\"])\n",
    "    except Exception as e:\n",
    "        print(e, url)\n",
    "    return Point(lon, lat)"
   ]
  },
  {
   "cell_type": "code",
   "execution_count": 46,
   "id": "c39ec75a-f096-4c15-ba65-1b3a8a85ae39",
   "metadata": {},
   "outputs": [],
   "source": [
    "def check_if_nordstrom_rack(url: str) -> bool:\n",
    "    if url.split(\".\")[1] == \"nordstromrack\":\n",
    "        return True\n",
    "    else:\n",
    "        return False"
   ]
  },
  {
   "cell_type": "code",
   "execution_count": 101,
   "id": "57180847-49ee-46cc-9612-bfebcd53bed2",
   "metadata": {},
   "outputs": [
    {
     "data": {
      "application/vnd.jupyter.widget-view+json": {
       "model_id": "cca3148e4b5b4366ab7bd1c6fa520d54",
       "version_major": 2,
       "version_minor": 0
      },
      "text/plain": [
       "Parsing States:   0%|          | 0/42 [00:00<?, ?it/s]"
      ]
     },
     "metadata": {},
     "output_type": "display_data"
    },
    {
     "name": "stdout",
     "output_type": "stream",
     "text": [
      "AK\n",
      "AL\n",
      "AZ\n",
      "Nordstrom https://www.nordstrom.com/store-details/united-states/az/scottsdale/nordstrom-scottsdale-fashion-square\n",
      "CA\n",
      "Nordstrom https://www.nordstrom.com/store-details/united-states/ca/arcadia/nordstrom-santa-anita\n",
      "Nordstrom https://www.nordstrom.com/store-details/united-states/ca/brea/nordstrom-brea-mall\n",
      "Nordstrom https://www.nordstrom.com/store-details/united-states/ca/canoga-park/nordstrom-topanga\n",
      "Nordstrom https://www.nordstrom.com/store-details/united-states/ca/cerritos/nordstrom-los-cerritos-center\n",
      "Nordstrom https://www.nordstrom.com/store-details/united-states/ca/corte-madera/nordstrom-the-village-at-corte-madera\n",
      "Nordstrom https://www.nordstrom.com/store-details/united-states/ca/costa-mesa/nordstrom-south-coast-plaza\n",
      "Nordstrom https://www.nordstrom.com/store-details/united-states/ca/glendale/nordstrom-at-the-americana-at-brand\n",
      "Nordstrom https://www.nordstrom.com/store-details/united-states/ca/irvine/nordstrom-irvine-spectrum-center\n",
      "Nordstrom https://www.nordstrom.com/store-details/united-states/ca/los-angeles/nordstrom-century-city\n",
      "Nordstrom https://www.nordstrom.com/store-details/united-states/ca/mission-viejo/nordstrom-the-shops-at-mission-viejo\n",
      "Nordstrom https://www.nordstrom.com/store-details/united-states/ca/newport-beach/nordstrom-fashion-island\n",
      "Nordstrom https://www.nordstrom.com/store-details/united-states/ca/palo-alto/nordstrom-stanford-shopping-center\n",
      "Nordstrom https://www.nordstrom.com/store-details/united-states/ca/roseville/nordstrom-galleria-at-roseville\n",
      "Nordstrom https://www.nordstrom.com/store-details/united-states/ca/san-diego/nordstrom-la-jolla-at-utc\n",
      "Nordstrom https://www.nordstrom.com/store-details/united-states/ca/san-diego/nordstrom-fashion-valley\n",
      "Nordstrom https://www.nordstrom.com/store-details/united-states/ca/san-jose/nordstrom-valley-fair\n",
      "Nordstrom https://www.nordstrom.com/store-details/united-states/ca/san-mateo/nordstrom-hillsdale-shopping-center\n",
      "Nordstrom https://www.nordstrom.com/store-details/united-states/ca/santa-monica/nordstrom-santa-monica\n",
      "Nordstrom https://www.nordstrom.com/store-details/united-states/ca/thousand-oaks/nordstrom-thousand-oaks\n",
      "Nordstrom https://www.nordstrom.com/store-details/united-states/ca/torrance/nordstrom-del-amo-fashion-center\n",
      "Nordstrom https://www.nordstrom.com/store-details/united-states/ca/walnut-creek/nordstrom-broadway-plaza-in-walnut-creek\n",
      "CO\n",
      "Nordstrom https://www.nordstrom.com/store-details/united-states/co/denver/nordstrom-cherry-creek-shopping-center\n",
      "Nordstrom https://www.nordstrom.com/store-details/united-states/co/lone-tree/nordstrom-park-meadows\n",
      "CT\n",
      "Nordstrom https://www.nordstrom.com/store-details/united-states/ct/farmington/nordstrom-westfarms\n",
      "Nordstrom https://www.nordstrom.com/store-details/united-states/ct/norwalk/nordstrom-at-the-sono-collection\n",
      "DC\n",
      "DE\n",
      "FL\n",
      "Nordstrom https://www.nordstrom.com/store-details/united-states/fl/aventura/nordstrom-aventura\n",
      "Nordstrom https://www.nordstrom.com/store-details/united-states/fl/boca-raton/nordstrom-town-center-at-boca-raton\n",
      "Nordstrom https://www.nordstrom.com/store-details/united-states/fl/coral-gables/nordstrom-shops-at-merrick-park\n",
      "Nordstrom https://www.nordstrom.com/store-details/united-states/fl/jacksonville/nordstrom-st-johns-town-center\n",
      "Nordstrom https://www.nordstrom.com/store-details/united-states/fl/palm-beach-gardens/nordstrom-the-gardens\n",
      "Nordstrom https://www.nordstrom.com/store-details/united-states/fl/tampa/nordstrom-international-plaza\n",
      "GA\n",
      "Nordstrom https://www.nordstrom.com/store-details/united-states/ga/atlanta/nordstrom-phipps-plaza\n",
      "Nordstrom https://www.nordstrom.com/store-details/united-states/ga/atlanta/nordstrom-perimeter-mall\n",
      "HI\n",
      "IA\n",
      "ID\n",
      "IL\n",
      "Nordstrom https://www.nordstrom.com/store-details/united-states/il/chicago/nordstrom-michigan-avenue\n",
      "Nordstrom https://www.nordstrom.com/store-details/united-states/il/oak-brook/nordstrom-oakbrook-center\n",
      "Nordstrom https://www.nordstrom.com/store-details/united-states/il/schaumburg/nordstrom-woodfield-shopping-center\n",
      "Nordstrom https://www.nordstrom.com/store-details/united-states/il/skokie/nordstrom-old-orchard-center\n",
      "IN\n",
      "Nordstrom https://www.nordstrom.com/store-details/united-states/in/indianapolis/nordstrom-fashion-mall-at-keystone\n",
      "KS\n",
      "Nordstrom https://www.nordstrom.com/store-details/united-states/ks/overland-park/nordstrom-oak-park-mall\n",
      "KY\n",
      "LA\n",
      "MA\n",
      "Nordstrom https://www.nordstrom.com/store-details/united-states/ma/braintree/nordstrom-south-shore-plaza\n",
      "Nordstrom https://www.nordstrom.com/store-details/united-states/ma/burlington/nordstrom-burlington\n",
      "Nordstrom https://www.nordstrom.com/store-details/united-states/ma/natick/nordstrom-natick-mall\n",
      "Nordstrom https://www.nordstrom.com/store-details/united-states/ma/peabody/nordstrom-northshore\n",
      "MD\n",
      "Nordstrom https://www.nordstrom.com/store-details/united-states/md/bethesda/nordstrom-montgomery-mall\n",
      "Nordstrom https://www.nordstrom.com/store-details/united-states/md/columbia/nordstrom-the-mall-in-columbia\n",
      "Nordstrom https://www.nordstrom.com/store-details/united-states/md/towson/nordstrom-towson-town-center\n",
      "ME\n",
      "MI\n",
      "Nordstrom https://www.nordstrom.com/store-details/united-states/mi/novi/nordstrom-twelve-oaks-mall\n",
      "Nordstrom https://www.nordstrom.com/store-details/united-states/mi/troy/nordstrom-somerset-collection\n",
      "MN\n",
      "Nordstrom https://www.nordstrom.com/store-details/united-states/mn/bloomington/nordstrom-mall-of-america\n",
      "Nordstrom https://www.nordstrom.com/store-details/united-states/mn/minnetonka/nordstrom-ridgedale\n",
      "MO\n",
      "Nordstrom https://www.nordstrom.com/store-details/united-states/mo/des-peres/nordstrom-west-county\n",
      "Nordstrom https://www.nordstrom.com/store-details/united-states/mo/st.-louis/nordstrom-saint-louis-galleria\n",
      "NC\n",
      "Nordstrom https://www.nordstrom.com/store-details/united-states/nc/charlotte/nordstrom-southpark\n",
      "Nordstrom https://www.nordstrom.com/store-details/united-states/nc/durham/nordstrom-the-streets-at-southpoint\n",
      "NE\n",
      "NJ\n",
      "Nordstrom https://www.nordstrom.com/store-details/united-states/nj/cherry-hill/nordstrom-cherry-hill\n",
      "Nordstrom https://www.nordstrom.com/store-details/united-states/nj/edison/nordstrom-menlo-park\n",
      "Nordstrom https://www.nordstrom.com/store-details/united-states/nj/paramus/nordstrom-garden-state-plaza\n",
      "Nordstrom https://www.nordstrom.com/store-details/united-states/nj/short-hills/nordstrom-the-mall-at-short-hills\n",
      "NM\n",
      "NV\n",
      "Nordstrom https://www.nordstrom.com/store-details/united-states/nv/las-vegas/nordstrom-fashion-show\n",
      "NY\n",
      "Nordstrom https://www.nordstrom.com/store-details/united-states/ny/garden-city/nordstrom-roosevelt-field\n",
      "Nordstrom https://www.nordstrom.com/store-details/united-states/ny/new-york/nordstrom-nyc-flagship\n",
      "Nordstrom https://www.nordstrom.com/store-details/united-states/ny/new-york/nordstrom-mens-store-nyc\n",
      "Nordstrom https://www.nordstrom.com/store-details/united-states/ny/white-plains/nordstrom-the-westchester\n",
      "OH\n",
      "Nordstrom https://www.nordstrom.com/store-details/united-states/oh/beachwood/nordstrom-beachwood-place\n",
      "Nordstrom https://www.nordstrom.com/store-details/united-states/oh/cincinnati/nordstrom-kenwood-towne-centre\n",
      "Nordstrom https://www.nordstrom.com/store-details/united-states/oh/columbus/nordstrom-easton-town-center\n",
      "OK\n",
      "OR\n",
      "Nordstrom https://www.nordstrom.com/store-details/united-states/or/portland/nordstrom-downtown-portland\n",
      "Nordstrom https://www.nordstrom.com/store-details/united-states/or/tigard/nordstrom-washington-square\n",
      "PA\n",
      "Nordstrom https://www.nordstrom.com/store-details/united-states/pa/king-of-prussia/nordstrom-the-plaza-at-king-of-prussia\n",
      "Nordstrom https://www.nordstrom.com/store-details/united-states/pa/pittsburgh/nordstrom-ross-park\n",
      "RI\n",
      "SC\n",
      "TN\n",
      "Nordstrom https://www.nordstrom.com/store-details/united-states/tn/nashville/nordstrom-the-mall-at-green-hills\n",
      "TX\n",
      "Nordstrom https://www.nordstrom.com/store-details/united-states/tx/austin/nordstrom-barton-creek-square\n",
      "Nordstrom https://www.nordstrom.com/store-details/united-states/tx/austin/nordstrom-domain-northside\n",
      "Nordstrom https://www.nordstrom.com/store-details/united-states/tx/dallas/nordstrom-galleria-dallas\n",
      "Nordstrom https://www.nordstrom.com/store-details/united-states/tx/dallas/nordstrom-northpark-center\n",
      "Nordstrom https://www.nordstrom.com/store-details/united-states/tx/frisco/nordstrom-stonebriar-centre\n",
      "Nordstrom https://www.nordstrom.com/store-details/united-states/tx/houston/nordstrom-houston-galleria\n",
      "Nordstrom https://www.nordstrom.com/store-details/united-states/tx/san-antonio/nordstrom-the-shops-at-la-cantera\n",
      "Nordstrom https://www.nordstrom.com/store-details/united-states/tx/the-woodlands/nordstrom-the-woodlands\n",
      "UT\n",
      "Nordstrom https://www.nordstrom.com/store-details/united-states/ut/murray/nordstrom-fashion-place\n",
      "Nordstrom https://www.nordstrom.com/store-details/united-states/ut/salt-lake-city/nordstrom-city-creek-center\n",
      "VA\n",
      "Nordstrom https://www.nordstrom.com/store-details/united-states/va/arlington/nordstrom-the-fashion-centre-at-pentagon-city\n",
      "Nordstrom https://www.nordstrom.com/store-details/united-states/va/mclean/nordstrom-tysons-corner-center\n",
      "WA\n",
      "Nordstrom https://www.nordstrom.com/store-details/united-states/wa/bellevue/nordstrom-bellevue-square\n",
      "Nordstrom https://www.nordstrom.com/store-details/united-states/wa/lynnwood/nordstrom-alderwood-mall\n",
      "Nordstrom https://www.nordstrom.com/store-details/united-states/wa/seattle/nordstrom-downtown-seattle\n",
      "Nordstrom https://www.nordstrom.com/store-details/united-states/wa/spokane/nordstrom-spokane\n",
      "Nordstrom https://www.nordstrom.com/store-details/united-states/wa/tacoma/nordstrom-tacoma-mall\n",
      "Nordstrom https://www.nordstrom.com/store-details/united-states/wa/tukwila/nordstrom-southcenter\n",
      "WI\n",
      "Nordstrom https://www.nordstrom.com/store-details/united-states/wi/wauwatosa/nordstrom-mayfair\n"
     ]
    }
   ],
   "source": [
    "nordstrom_list = []\n",
    "nordstrom_rack_list = []\n",
    "nordstrom_state_list = []\n",
    "\n",
    "states_url = os.path.join(\"https://stores.nordstromrack.com/us\")\n",
    "r_all_states = scraper.get(states_url)\n",
    "soup = BeautifulSoup(r_all_states.text, \"html.parser\")\n",
    "state_as = soup.find_all(\"a\", {\"class\": \"Directory-listLink\"})\n",
    "\n",
    "for state_a in tqdm(state_as, desc=\"Parsing States\"):\n",
    "    count = int(re.findall(r\"\\d+\", state_a.attrs[\"data-count\"])[0])\n",
    "    state_url = state_a.attrs[\"href\"]\n",
    "    state_code = state_url.split(\"/\")[4].upper()\n",
    "\n",
    "    print(state_code)\n",
    "\n",
    "    if count == 1:\n",
    "        if not check_if_nordstrom_rack(state_url):\n",
    "            print(\"Nordstrom\", state_url)\n",
    "            nordstrom_state_list.append(state_code)\n",
    "            continue\n",
    "        point = get_coords(state_url)\n",
    "        store_dict = {\"STATE\": state_code, \"geometry\": point}\n",
    "        if check_if_nordstrom_rack(state_url):\n",
    "            nordstrom_rack_list.append(store_dict)\n",
    "        else:\n",
    "            nordstrom_list.append(store_dict)\n",
    "        continue\n",
    "\n",
    "    r_state = scraper.get(state_url)\n",
    "    soup_state = BeautifulSoup(r_state.text, \"html.parser\")\n",
    "    cities_as = soup_state.find_all(\"a\", {\"class\": \"Directory-listLink\"})\n",
    "\n",
    "    for cities_a in cities_as:\n",
    "        city_url = \"/\".join(cities_a.attrs[\"href\"].split(\"/\")[:6])\n",
    "        r_city = scraper.get(city_url)\n",
    "        soup_city = BeautifulSoup(r_city.text, \"html.parser\")\n",
    "        store_as = soup_city.find_all(\"a\", {\"class\": \"Teaser-titleLink\"})\n",
    "        for store_a in store_as:\n",
    "            store_url = store_a.attrs[\"href\"]\n",
    "            if not check_if_nordstrom_rack(store_url):\n",
    "                print(\"Nordstrom\", store_url)\n",
    "                nordstrom_state_list.append(state_code)\n",
    "                continue\n",
    "            point = get_coords(store_url)\n",
    "            store_dict = {\"STATE\": state_code, \"geometry\": point}\n",
    "            if check_if_nordstrom_rack(state_url):\n",
    "                nordstrom_rack_list.append(store_dict)\n",
    "            else:\n",
    "                nordstrom_list.append(store_dict)\n",
    "\n",
    "        time.sleep(random.uniform(0.01, 0.5))"
   ]
  },
  {
   "cell_type": "code",
   "execution_count": 62,
   "id": "87874343-408d-458f-813f-f7de5131258e",
   "metadata": {},
   "outputs": [],
   "source": [
    "nordstrom_rack_gdf = gpd.GeoDataFrame(nordstrom_rack_list, crs=4326)"
   ]
  },
  {
   "cell_type": "code",
   "execution_count": 63,
   "id": "fb22493e-728c-4958-9037-59893ce4a08a",
   "metadata": {},
   "outputs": [],
   "source": [
    "nordstroms_per_state_df = pd.DataFrame.from_dict(\n",
    "    Counter(nordstrom_state_list), orient=\"index\"\n",
    ").reset_index()\n",
    "nordstroms_per_state_df = nordstroms_per_state_df.rename(\n",
    "    columns={\"index\": \"STUSPS\", 0: \"NORDSTROMS\"}\n",
    ")"
   ]
  },
  {
   "cell_type": "code",
   "execution_count": 64,
   "id": "30cdf6ab-4324-457b-bfc1-215c1c9fe2ce",
   "metadata": {},
   "outputs": [],
   "source": [
    "nordstrom_rack_gdf = nordstrom_rack_gdf.to_crs(9311)\n",
    "nordstrom_rack_gdf.to_file(f\"data/nordstrom_rack_stores.gpkg\")"
   ]
  },
  {
   "cell_type": "code",
   "execution_count": 80,
   "id": "112af0cc-95bd-4fe3-8310-8bb44dffc1be",
   "metadata": {},
   "outputs": [],
   "source": [
    "nordstrom_rack_state_counts_df = pd.DataFrame(\n",
    "    nordstrom_rack_gdf.groupby(\"STATE\").size(), columns=[\"NORDSTROM_RACKS\"]\n",
    ")\n",
    "nordstrom_rack_state_counts_df = nordstrom_rack_state_counts_df.reset_index()\n",
    "nordstrom_rack_state_counts_df = nordstrom_rack_state_counts_df.rename(\n",
    "    columns={\"STATE\": \"STUSPS\"}\n",
    ")"
   ]
  },
  {
   "cell_type": "markdown",
   "id": "94cb32a2-faf0-40fa-8616-e8f2275eca72",
   "metadata": {},
   "source": [
    "## Combine With States"
   ]
  },
  {
   "cell_type": "code",
   "execution_count": 88,
   "id": "c062806b-5f76-4d7e-a226-31383a266b6a",
   "metadata": {},
   "outputs": [],
   "source": [
    "nordstrom_rack_by_states_gdf = states_with_population_df.merge(\n",
    "    nordstrom_rack_state_counts_df, on=\"STUSPS\", how=\"left\"\n",
    ")"
   ]
  },
  {
   "cell_type": "code",
   "execution_count": 89,
   "id": "302d59e7-bdd6-4cc9-a3e6-fb180ae03ecd",
   "metadata": {},
   "outputs": [],
   "source": [
    "nordstrom_by_states_gdf = nordstrom_rack_by_states_gdf.merge(\n",
    "    nordstroms_per_state_df, on=\"STUSPS\", how=\"left\"\n",
    ")"
   ]
  },
  {
   "cell_type": "code",
   "execution_count": 90,
   "id": "58e95406-0246-435f-85ee-dcb3f79019fb",
   "metadata": {},
   "outputs": [],
   "source": [
    "nordstrom_by_states_gdf = nordstrom_by_states_gdf.fillna(0)\n",
    "nordstrom_by_states_gdf[\"NORDSTROM_RACKS\"] = nordstrom_by_states_gdf[\n",
    "    \"NORDSTROM_RACKS\"\n",
    "].astype(int)\n",
    "nordstrom_by_states_gdf[\"NORDSTROMS\"] = nordstrom_by_states_gdf[\"NORDSTROMS\"].astype(\n",
    "    int\n",
    ")"
   ]
  },
  {
   "cell_type": "code",
   "execution_count": 95,
   "id": "8e8b581c-4e0c-40b8-81a9-4ea014470b40",
   "metadata": {},
   "outputs": [],
   "source": [
    "nordstrom_by_states_gdf[\"nordstrom_per_1000\"] = nordstrom_by_states_gdf[\n",
    "    \"NORDSTROMS\"\n",
    "] / (nordstrom_by_states_gdf[\"POPULATION\"] / 1000)\n",
    "nordstrom_by_states_gdf[\"nordstrom_per_10k\"] = nordstrom_by_states_gdf[\"NORDSTROMS\"] / (\n",
    "    nordstrom_by_states_gdf[\"POPULATION\"] / 10_000\n",
    ")\n",
    "nordstrom_by_states_gdf[\"nordstrom_per_100k\"] = nordstrom_by_states_gdf[\n",
    "    \"NORDSTROMS\"\n",
    "] / (nordstrom_by_states_gdf[\"POPULATION\"] / 100000)\n",
    "nordstrom_by_states_gdf[\"nordstrom_per_500k\"] = nordstrom_by_states_gdf[\n",
    "    \"NORDSTROMS\"\n",
    "] / (nordstrom_by_states_gdf[\"POPULATION\"] / 500_000)\n",
    "nordstrom_by_states_gdf[\"nordstrom_per_1m\"] = nordstrom_by_states_gdf[\"NORDSTROMS\"] / (\n",
    "    nordstrom_by_states_gdf[\"POPULATION\"] / 1_000_000\n",
    ")\n",
    "nordstrom_by_states_gdf[\"nordstrom_rack_per_1000\"] = nordstrom_by_states_gdf[\n",
    "    \"NORDSTROMS\"\n",
    "] / (nordstrom_by_states_gdf[\"POPULATION\"] / 1000)\n",
    "nordstrom_by_states_gdf[\"nordstrom_rack_per_10k\"] = nordstrom_by_states_gdf[\n",
    "    \"NORDSTROMS\"\n",
    "] / (nordstrom_by_states_gdf[\"POPULATION\"] / 10_000)\n",
    "nordstrom_by_states_gdf[\"nordstrom_rack_per_100k\"] = nordstrom_by_states_gdf[\n",
    "    \"NORDSTROMS\"\n",
    "] / (nordstrom_by_states_gdf[\"POPULATION\"] / 100000)\n",
    "nordstrom_by_states_gdf[\"nordstrom_rack_per_500k\"] = nordstrom_by_states_gdf[\n",
    "    \"NORDSTROMS\"\n",
    "] / (nordstrom_by_states_gdf[\"POPULATION\"] / 500_000)\n",
    "nordstrom_by_states_gdf[\"nordstrom_rack_per_1m\"] = nordstrom_by_states_gdf[\n",
    "    \"NORDSTROMS\"\n",
    "] / (nordstrom_by_states_gdf[\"POPULATION\"] / 1_000_000)"
   ]
  },
  {
   "cell_type": "code",
   "execution_count": 96,
   "id": "237a0e6a-ccc2-4f3b-baad-d36ce4ecc481",
   "metadata": {},
   "outputs": [],
   "source": [
    "nordstrom_by_states_gdf = nordstrom_by_states_gdf.dropna()"
   ]
  },
  {
   "cell_type": "code",
   "execution_count": 97,
   "id": "944acfaa-313b-4a9f-aecc-53fe95e188be",
   "metadata": {},
   "outputs": [],
   "source": [
    "nordstrom_by_states_gdf = nordstrom_by_states_gdf.to_crs(9311)\n",
    "nordstrom_by_states_gdf.to_file(f\"data/nordstrom_per_state.gpkg\")"
   ]
  },
  {
   "cell_type": "code",
   "execution_count": null,
   "id": "4857fb82-2869-4020-8a57-c1983c9055b6",
   "metadata": {},
   "outputs": [],
   "source": []
  },
  {
   "cell_type": "code",
   "execution_count": null,
   "id": "3eba1b99-001c-4de4-9fe1-1a06ea51e118",
   "metadata": {},
   "outputs": [],
   "source": []
  }
 ],
 "metadata": {
  "kernelspec": {
   "display_name": "Python 3 (ipykernel)",
   "language": "python",
   "name": "python3"
  },
  "language_info": {
   "codemirror_mode": {
    "name": "ipython",
    "version": 3
   },
   "file_extension": ".py",
   "mimetype": "text/x-python",
   "name": "python",
   "nbconvert_exporter": "python",
   "pygments_lexer": "ipython3",
   "version": "3.11.11"
  }
 },
 "nbformat": 4,
 "nbformat_minor": 5
}
