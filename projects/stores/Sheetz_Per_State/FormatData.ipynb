{
 "cells": [
  {
   "cell_type": "code",
   "execution_count": 1,
   "id": "bc436e38-234d-44fd-b67b-d1f2974606d3",
   "metadata": {},
   "outputs": [],
   "source": [
    "import cloudscraper\n",
    "import geopandas as gpd\n",
    "import pandas as pd"
   ]
  },
  {
   "cell_type": "code",
   "execution_count": 23,
   "id": "4b033051-09a6-4072-a766-bb98cf8d57b5",
   "metadata": {},
   "outputs": [],
   "source": [
    "from shapely.geometry import Point"
   ]
  },
  {
   "cell_type": "markdown",
   "id": "44a3df26-78d3-479c-99a2-c0e1ba91352e",
   "metadata": {},
   "source": [
    "## Get State Data"
   ]
  },
  {
   "cell_type": "code",
   "execution_count": 24,
   "id": "615eeabf-033b-425a-a81f-d7b4dd9e3a3e",
   "metadata": {},
   "outputs": [],
   "source": [
    "file_path = \"data/cb_2018_us_state_500k/cb_2018_us_state_500k.shp\"\n",
    "states_df = gpd.read_file(file_path)"
   ]
  },
  {
   "cell_type": "code",
   "execution_count": 25,
   "id": "502c6bfe-0912-4d37-95b0-47e7a14b468f",
   "metadata": {},
   "outputs": [],
   "source": [
    "states_df = states_df[[\"STUSPS\", \"NAME\", \"geometry\"]]"
   ]
  },
  {
   "cell_type": "markdown",
   "id": "4257620c-13d7-4071-bae2-a5a2aeae5ba7",
   "metadata": {},
   "source": [
    "## Get Population data"
   ]
  },
  {
   "cell_type": "code",
   "execution_count": 26,
   "id": "6c0e7a1d-5a9a-4c10-a5d4-28dc681a8a27",
   "metadata": {},
   "outputs": [],
   "source": [
    "state_populations = pd.read_excel(\n",
    "    \"data/NST-EST2024-POP.xlsx\", sheet_name=None, engine=\"openpyxl\"\n",
    ")"
   ]
  },
  {
   "cell_type": "code",
   "execution_count": 27,
   "id": "2614c2ab-96ec-4304-a287-6fd013fedbbb",
   "metadata": {},
   "outputs": [],
   "source": [
    "state_populations_df = state_populations[\"NST-EST2024-POP\"][\n",
    "    [\n",
    "        \"table with row headers in column A and column headers in rows 3 through 4. (leading dots indicate sub-parts)\",\n",
    "        \"Unnamed: 5\",\n",
    "    ]\n",
    "]\n",
    "state_populations_df = state_populations_df.rename(\n",
    "    columns={\n",
    "        \"table with row headers in column A and column headers in rows 3 through 4. (leading dots indicate sub-parts)\": \"NAME\",\n",
    "        \"Unnamed: 5\": \"POPULATION\",\n",
    "    }\n",
    ")\n",
    "state_populations_df[\"NAME\"] = state_populations_df[\"NAME\"].str[1:]"
   ]
  },
  {
   "cell_type": "code",
   "execution_count": 28,
   "id": "2a1a8b6e-a0bf-486b-b62e-46a23ca718e2",
   "metadata": {},
   "outputs": [],
   "source": [
    "states_with_population_df = states_df.merge(state_populations_df, on=\"NAME\", how=\"left\")\n",
    "states_with_population_df = states_with_population_df[\n",
    "    [\"STUSPS\", \"NAME\", \"POPULATION\", \"geometry\"]\n",
    "]"
   ]
  },
  {
   "cell_type": "markdown",
   "id": "6d2f1ce9-a36c-4292-99a0-ad42032c5ad4",
   "metadata": {},
   "source": [
    "## Get Sheetz Data"
   ]
  },
  {
   "cell_type": "code",
   "execution_count": 29,
   "id": "4831e712-c020-4577-ad9c-8131af830bf3",
   "metadata": {},
   "outputs": [],
   "source": [
    "scraper = cloudscraper.create_scraper()"
   ]
  },
  {
   "cell_type": "code",
   "execution_count": 30,
   "id": "db51c68b-e1ae-4f7f-9ad8-e3bfaa811005",
   "metadata": {},
   "outputs": [],
   "source": [
    "url = \"https://orders.sheetz.com/anybff/api/stores/search\"\n",
    "params = {\"latitude\": 40.47275, \"longitude\": -78.42507, \"page\": 1, \"size\": 100}\n",
    "\n",
    "headers = {\n",
    "    \"accept\": \"application/json, text/plain, */*\",\n",
    "    \"accept-language\": \"en-US,en;q=0.9,ru-RU;q=0.8,ru;q=0.7\",\n",
    "    \"client-version\": \"2.48.0-4570\",\n",
    "    \"content-type\": \"application/json\",\n",
    "    \"priority\": \"u=1, i\",\n",
    "    \"sec-ch-ua\": '\"Google Chrome\";v=\"135\", \"Not-A.Brand\";v=\"8\", \"Chromium\";v=\"135\"',\n",
    "    \"sec-ch-ua-mobile\": \"?0\",\n",
    "    \"sec-ch-ua-platform\": '\"Windows\"',\n",
    "    \"sec-fetch-dest\": \"empty\",\n",
    "    \"sec-fetch-mode\": \"cors\",\n",
    "    \"sec-fetch-site\": \"same-origin\",\n",
    "    \"cookie\": \"\",  # Get from https://orders.sheetz.com/findASheetz\n",
    "    \"Referer\": \"https://orders.sheetz.com/findASheetz\",\n",
    "    \"Referrer-Policy\": \"strict-origin-when-cross-origin\",\n",
    "}"
   ]
  },
  {
   "cell_type": "code",
   "execution_count": 38,
   "id": "61fa907d-0490-4eae-81bb-624d033b1528",
   "metadata": {},
   "outputs": [
    {
     "name": "stdout",
     "output_type": "stream",
     "text": [
      "0 100\n",
      "1 100\n",
      "2 100\n",
      "3 100\n",
      "4 100\n",
      "5 100\n",
      "6 100\n",
      "7 75\n"
     ]
    }
   ],
   "source": [
    "store_dicts = []\n",
    "# If more sheetz change page limit to 9 or 10\n",
    "for i in range(8):\n",
    "    params = {\"latitude\": 40.47275, \"longitude\": -78.42507, \"page\": i, \"size\": 100}\n",
    "    r = scraper.post(url, headers=headers, data=\"{}\", params=params)\n",
    "    stores_json = r.json()[\"stores\"]\n",
    "    for store in stores_json:\n",
    "        store_id = store[\"storeNumber\"]\n",
    "        state_code = store[\"state\"]\n",
    "        point = Point(store[\"longitude\"], store[\"latitude\"])\n",
    "        store_dicts.append({\"geometry\": point, \"STUSPS\": state_code, \"ID\": store_id})\n",
    "    print(i, len(stores_json))"
   ]
  },
  {
   "cell_type": "code",
   "execution_count": 47,
   "id": "e9c05bdf-2e7f-4f04-8e3b-ded05320ed06",
   "metadata": {},
   "outputs": [],
   "source": [
    "sheetz_locations_gdf = gpd.GeoDataFrame(store_dicts, crs=4326)"
   ]
  },
  {
   "cell_type": "code",
   "execution_count": 48,
   "id": "5e78a909-91d7-471f-adcc-34d00d10b7c4",
   "metadata": {},
   "outputs": [],
   "source": [
    "sheetz_locations_gdf.to_file(\"data/sheetz.gpkg\")"
   ]
  },
  {
   "cell_type": "code",
   "execution_count": 49,
   "id": "8b12252f-b015-47a0-b95c-de313b05db05",
   "metadata": {},
   "outputs": [],
   "source": [
    "sheetz_state_counts_df = (\n",
    "    sheetz_locations_gdf.groupby(\"STUSPS\")\n",
    "    .size()\n",
    "    .reset_index()\n",
    "    .rename(columns={0: \"sheetz\"})\n",
    ")"
   ]
  },
  {
   "cell_type": "markdown",
   "id": "94cb32a2-faf0-40fa-8616-e8f2275eca72",
   "metadata": {},
   "source": [
    "## Combine With States"
   ]
  },
  {
   "cell_type": "code",
   "execution_count": 50,
   "id": "c062806b-5f76-4d7e-a226-31383a266b6a",
   "metadata": {},
   "outputs": [],
   "source": [
    "sheetz_state_counts_gdf = states_with_population_df.merge(\n",
    "    sheetz_state_counts_df, on=\"STUSPS\", how=\"left\"\n",
    ")"
   ]
  },
  {
   "cell_type": "code",
   "execution_count": 51,
   "id": "300ee45e-48b8-48f6-9a3a-efd4904a5efe",
   "metadata": {},
   "outputs": [],
   "source": [
    "sheetz_state_counts_gdf = sheetz_state_counts_gdf.fillna(0)\n",
    "sheetz_state_counts_gdf[\"sheetz\"] = sheetz_state_counts_gdf[\"sheetz\"].astype(int)"
   ]
  },
  {
   "cell_type": "code",
   "execution_count": 52,
   "id": "8e8b581c-4e0c-40b8-81a9-4ea014470b40",
   "metadata": {},
   "outputs": [],
   "source": [
    "sheetz_state_counts_gdf[\"per_100k\"] = sheetz_state_counts_gdf[\"sheetz\"] / (\n",
    "    sheetz_state_counts_gdf[\"POPULATION\"] / 100_000\n",
    ")\n",
    "sheetz_state_counts_gdf[\"per_1m\"] = sheetz_state_counts_gdf[\"sheetz\"] / (\n",
    "    sheetz_state_counts_gdf[\"POPULATION\"] / 1_000_000\n",
    ")"
   ]
  },
  {
   "cell_type": "code",
   "execution_count": 53,
   "id": "237a0e6a-ccc2-4f3b-baad-d36ce4ecc481",
   "metadata": {},
   "outputs": [],
   "source": [
    "sheetz_state_counts_gdf = sheetz_state_counts_gdf.fillna(0)"
   ]
  },
  {
   "cell_type": "code",
   "execution_count": 54,
   "id": "944acfaa-313b-4a9f-aecc-53fe95e188be",
   "metadata": {},
   "outputs": [],
   "source": [
    "sheetz_state_counts_gdf = sheetz_state_counts_gdf.to_crs(3968)\n",
    "sheetz_state_counts_gdf.to_file(f\"data/sheetz_states.gpkg\")"
   ]
  },
  {
   "cell_type": "code",
   "execution_count": null,
   "id": "8a23d1fa-408d-4071-9513-e5b0da2e5cfc",
   "metadata": {},
   "outputs": [],
   "source": []
  }
 ],
 "metadata": {
  "kernelspec": {
   "display_name": "Python 3 (ipykernel)",
   "language": "python",
   "name": "python3"
  },
  "language_info": {
   "codemirror_mode": {
    "name": "ipython",
    "version": 3
   },
   "file_extension": ".py",
   "mimetype": "text/x-python",
   "name": "python",
   "nbconvert_exporter": "python",
   "pygments_lexer": "ipython3",
   "version": "3.11.11"
  }
 },
 "nbformat": 4,
 "nbformat_minor": 5
}
