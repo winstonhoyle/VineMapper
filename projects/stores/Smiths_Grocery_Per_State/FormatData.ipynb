{
 "cells": [
  {
   "cell_type": "code",
   "execution_count": 1,
   "id": "6aa0827c-59f2-481e-a871-e5ea56cf4aea",
   "metadata": {},
   "outputs": [],
   "source": [
    "import json\n",
    "import os\n",
    "import random\n",
    "import time"
   ]
  },
  {
   "cell_type": "code",
   "execution_count": 2,
   "id": "bc436e38-234d-44fd-b67b-d1f2974606d3",
   "metadata": {},
   "outputs": [],
   "source": [
    "import h3\n",
    "import geopandas as gpd\n",
    "import pandas as pd"
   ]
  },
  {
   "cell_type": "code",
   "execution_count": 3,
   "id": "0465bb74-de29-42f8-a656-097d407e8fe4",
   "metadata": {},
   "outputs": [],
   "source": [
    "from kroger_api import KrogerAPI\n",
    "from kroger_api.utils.env import load_and_validate_env, get_zip_code\n",
    "from shapely.geometry import Point\n",
    "from tqdm.notebook import tqdm"
   ]
  },
  {
   "cell_type": "markdown",
   "id": "44a3df26-78d3-479c-99a2-c0e1ba91352e",
   "metadata": {},
   "source": [
    "## Get State Data"
   ]
  },
  {
   "cell_type": "code",
   "execution_count": 4,
   "id": "615eeabf-033b-425a-a81f-d7b4dd9e3a3e",
   "metadata": {},
   "outputs": [],
   "source": [
    "file_path = \"data/cb_2018_us_state_500k/cb_2018_us_state_500k.shp\"\n",
    "states_df = gpd.read_file(file_path)"
   ]
  },
  {
   "cell_type": "code",
   "execution_count": 5,
   "id": "502c6bfe-0912-4d37-95b0-47e7a14b468f",
   "metadata": {},
   "outputs": [],
   "source": [
    "states_df = states_df[[\"STUSPS\", \"NAME\", \"geometry\"]]"
   ]
  },
  {
   "cell_type": "markdown",
   "id": "4257620c-13d7-4071-bae2-a5a2aeae5ba7",
   "metadata": {},
   "source": [
    "## Get Population data"
   ]
  },
  {
   "cell_type": "code",
   "execution_count": 6,
   "id": "6c0e7a1d-5a9a-4c10-a5d4-28dc681a8a27",
   "metadata": {},
   "outputs": [],
   "source": [
    "state_populations = pd.read_excel(\n",
    "    \"data/NST-EST2024-POP.xlsx\", sheet_name=None, engine=\"openpyxl\"\n",
    ")"
   ]
  },
  {
   "cell_type": "code",
   "execution_count": 7,
   "id": "2614c2ab-96ec-4304-a287-6fd013fedbbb",
   "metadata": {},
   "outputs": [],
   "source": [
    "state_populations_df = state_populations[\"NST-EST2024-POP\"][\n",
    "    [\n",
    "        \"table with row headers in column A and column headers in rows 3 through 4. (leading dots indicate sub-parts)\",\n",
    "        \"Unnamed: 5\",\n",
    "    ]\n",
    "]\n",
    "state_populations_df = state_populations_df.rename(\n",
    "    columns={\n",
    "        \"table with row headers in column A and column headers in rows 3 through 4. (leading dots indicate sub-parts)\": \"NAME\",\n",
    "        \"Unnamed: 5\": \"POPULATION\",\n",
    "    }\n",
    ")\n",
    "state_populations_df[\"NAME\"] = state_populations_df[\"NAME\"].str[1:]"
   ]
  },
  {
   "cell_type": "code",
   "execution_count": 8,
   "id": "2a1a8b6e-a0bf-486b-b62e-46a23ca718e2",
   "metadata": {},
   "outputs": [],
   "source": [
    "states_with_population_df = states_df.merge(state_populations_df, on=\"NAME\", how=\"left\")\n",
    "states_with_population_df = states_with_population_df[\n",
    "    [\"STUSPS\", \"NAME\", \"POPULATION\", \"geometry\"]\n",
    "]"
   ]
  },
  {
   "cell_type": "markdown",
   "id": "6d2f1ce9-a36c-4292-99a0-ad42032c5ad4",
   "metadata": {},
   "source": [
    "## Get Store Data"
   ]
  },
  {
   "cell_type": "code",
   "execution_count": 9,
   "id": "dbe2bbe6-d360-455e-97f8-10363bd5baef",
   "metadata": {},
   "outputs": [],
   "source": [
    "load_and_validate_env([\"KROGER_CLIENT_ID\", \"KROGER_CLIENT_SECRET\"])\n",
    "zip_code = get_zip_code(default=\"10001\")"
   ]
  },
  {
   "cell_type": "code",
   "execution_count": 10,
   "id": "b3180f32-cf39-4a2d-847a-a30b7c9b5b5e",
   "metadata": {},
   "outputs": [
    {
     "name": "stdout",
     "output_type": "stream",
     "text": [
      "Found saved token, will test if it's still valid...\n",
      "Token appears invalid, requesting a new one\n"
     ]
    }
   ],
   "source": [
    "kroger = KrogerAPI()\n",
    "token_info = kroger.authorization.get_token_with_client_credentials(\"product.compact\")"
   ]
  },
  {
   "cell_type": "code",
   "execution_count": 11,
   "id": "5944589b-703a-446f-9c97-cec216148472",
   "metadata": {},
   "outputs": [],
   "source": [
    "res = 3\n",
    "distance = 0.5\n",
    "\n",
    "usa_geom = states_df[~states_df[\"STUSPS\"].isin([\"PR\", \"VI\", \"GU\", \"MP\", \"AS\"])][\n",
    "    \"geometry\"\n",
    "].union_all()\n",
    "\n",
    "h3_shape = h3.geo_to_h3shape(usa_geom.buffer(distance=distance))\n",
    "h3_cells = h3.h3shape_to_cells(h3_shape, res=res)\n",
    "geojson = h3.cells_to_geo(h3_cells)"
   ]
  },
  {
   "cell_type": "code",
   "execution_count": 12,
   "id": "5f7fe784-44ef-4258-8e05-4af0f74415d5",
   "metadata": {},
   "outputs": [
    {
     "data": {
      "application/vnd.jupyter.widget-view+json": {
       "model_id": "4bf53022675643aba21e451c87572d2c",
       "version_major": 2,
       "version_minor": 0
      },
      "text/plain": [
       "Parsing Stores:   0%|          | 0/911 [00:00<?, ?it/s]"
      ]
     },
     "metadata": {},
     "output_type": "display_data"
    }
   ],
   "source": [
    "stores = []\n",
    "for cell in tqdm(h3_cells, desc=\"Parsing Stores\"):\n",
    "    lat, lng = h3.cell_to_latlng(cell)\n",
    "    locations = kroger.location.search_locations(\n",
    "        lat=lat, lon=lng, radius_in_miles=100, limit=200\n",
    "    )\n",
    "    if len(locations[\"data\"]):\n",
    "        for location in locations[\"data\"]:\n",
    "            location[\"geometry\"] = Point(\n",
    "                location[\"geolocation\"][\"longitude\"],\n",
    "                location[\"geolocation\"][\"latitude\"],\n",
    "            )\n",
    "            location[\"STUSPS\"] = location[\"address\"][\"state\"]\n",
    "            stores.append(location)\n",
    "    else:\n",
    "        continue\n",
    "    time.sleep(random.uniform(0.01, 0.5))"
   ]
  },
  {
   "cell_type": "code",
   "execution_count": 45,
   "id": "451a17e6-bd9c-4162-b5f0-5e41e6c677ab",
   "metadata": {},
   "outputs": [],
   "source": [
    "stores_gdf = gpd.GeoDataFrame(stores, crs=4326)\n",
    "stores_gdf = stores_gdf.drop_duplicates(\"locationId\")\n",
    "stores_gdf.to_file(\"data/all_stores.gpkg\")"
   ]
  },
  {
   "cell_type": "code",
   "execution_count": 52,
   "id": "e897c4a8-9f11-429d-b20d-b2b40635b194",
   "metadata": {},
   "outputs": [],
   "source": [
    "stores_gdf = gpd.read_file(\"data/all_stores.gpkg\")"
   ]
  },
  {
   "cell_type": "code",
   "execution_count": 53,
   "id": "c6149ca6-2725-490b-84aa-47732999bf62",
   "metadata": {},
   "outputs": [],
   "source": [
    "smiths_gdf = stores_gdf[stores_gdf[\"chain\"] == \"SMITHS\"].reset_index(drop=True)"
   ]
  },
  {
   "cell_type": "code",
   "execution_count": 54,
   "id": "68cf2788-c243-4854-9378-7878a2f6103d",
   "metadata": {},
   "outputs": [],
   "source": [
    "smiths_gdf = smiths_gdf.to_crs(32143)\n",
    "smiths_gdf.to_file(\"data/stores.gpkg\")"
   ]
  },
  {
   "cell_type": "code",
   "execution_count": 55,
   "id": "e519e82a-94fc-4385-9a34-3dae667935bd",
   "metadata": {},
   "outputs": [],
   "source": [
    "smiths_count_gdf = smiths_gdf.groupby(\"STUSPS\").size().reset_index(name=\"COUNT\")"
   ]
  },
  {
   "cell_type": "markdown",
   "id": "94cb32a2-faf0-40fa-8616-e8f2275eca72",
   "metadata": {},
   "source": [
    "## Combine With States"
   ]
  },
  {
   "cell_type": "code",
   "execution_count": 56,
   "id": "c062806b-5f76-4d7e-a226-31383a266b6a",
   "metadata": {},
   "outputs": [],
   "source": [
    "store_count_gdf = states_with_population_df.merge(\n",
    "    smiths_count_gdf, on=\"STUSPS\", how=\"left\"\n",
    ")"
   ]
  },
  {
   "cell_type": "code",
   "execution_count": 61,
   "id": "300ee45e-48b8-48f6-9a3a-efd4904a5efe",
   "metadata": {},
   "outputs": [],
   "source": [
    "store_count_gdf = store_count_gdf.dropna()"
   ]
  },
  {
   "cell_type": "code",
   "execution_count": 62,
   "id": "8e8b581c-4e0c-40b8-81a9-4ea014470b40",
   "metadata": {},
   "outputs": [],
   "source": [
    "store_count_gdf[\"per_100k\"] = (\n",
    "    store_count_gdf[\"COUNT\"] / (store_count_gdf[\"POPULATION\"] / 100_000)\n",
    ").round(decimals=2)\n",
    "store_count_gdf[\"per_1m\"] = (\n",
    "    store_count_gdf[\"COUNT\"] / (store_count_gdf[\"POPULATION\"] / 1_000_000)\n",
    ").round(decimals=2)"
   ]
  },
  {
   "cell_type": "code",
   "execution_count": 63,
   "id": "944acfaa-313b-4a9f-aecc-53fe95e188be",
   "metadata": {},
   "outputs": [],
   "source": [
    "store_count_gdf = store_count_gdf.to_crs(32143)\n",
    "store_count_gdf.to_file(f\"data/Smiths_Grocery_Per_State.gpkg\")"
   ]
  },
  {
   "cell_type": "code",
   "execution_count": 64,
   "id": "8a23d1fa-408d-4071-9513-e5b0da2e5cfc",
   "metadata": {},
   "outputs": [
    {
     "data": {
      "text/html": [
       "<div>\n",
       "<style scoped>\n",
       "    .dataframe tbody tr th:only-of-type {\n",
       "        vertical-align: middle;\n",
       "    }\n",
       "\n",
       "    .dataframe tbody tr th {\n",
       "        vertical-align: top;\n",
       "    }\n",
       "\n",
       "    .dataframe thead th {\n",
       "        text-align: right;\n",
       "    }\n",
       "</style>\n",
       "<table border=\"1\" class=\"dataframe\">\n",
       "  <thead>\n",
       "    <tr style=\"text-align: right;\">\n",
       "      <th></th>\n",
       "      <th>STUSPS</th>\n",
       "      <th>NAME</th>\n",
       "      <th>POPULATION</th>\n",
       "      <th>geometry</th>\n",
       "      <th>COUNT</th>\n",
       "      <th>per_100k</th>\n",
       "      <th>per_1m</th>\n",
       "    </tr>\n",
       "  </thead>\n",
       "  <tbody>\n",
       "    <tr>\n",
       "      <th>22</th>\n",
       "      <td>UT</td>\n",
       "      <td>Utah</td>\n",
       "      <td>3443222.0</td>\n",
       "      <td>POLYGON ((274416.073 1920986.082, 274497.363 1...</td>\n",
       "      <td>56.0</td>\n",
       "      <td>1.63</td>\n",
       "      <td>16.26</td>\n",
       "    </tr>\n",
       "    <tr>\n",
       "      <th>28</th>\n",
       "      <td>NV</td>\n",
       "      <td>Nevada</td>\n",
       "      <td>3214363.0</td>\n",
       "      <td>POLYGON ((-233304.553 2134292.88, -233127.26 2...</td>\n",
       "      <td>46.0</td>\n",
       "      <td>1.43</td>\n",
       "      <td>14.31</td>\n",
       "    </tr>\n",
       "    <tr>\n",
       "      <th>24</th>\n",
       "      <td>WY</td>\n",
       "      <td>Wyoming</td>\n",
       "      <td>585067.0</td>\n",
       "      <td>POLYGON ((535264.098 2741376.081, 536015.388 2...</td>\n",
       "      <td>7.0</td>\n",
       "      <td>1.20</td>\n",
       "      <td>11.96</td>\n",
       "    </tr>\n",
       "    <tr>\n",
       "      <th>12</th>\n",
       "      <td>NM</td>\n",
       "      <td>New Mexico</td>\n",
       "      <td>2121164.0</td>\n",
       "      <td>POLYGON ((735127.619 1239819.536, 735099.428 1...</td>\n",
       "      <td>24.0</td>\n",
       "      <td>1.13</td>\n",
       "      <td>11.31</td>\n",
       "    </tr>\n",
       "    <tr>\n",
       "      <th>31</th>\n",
       "      <td>MT</td>\n",
       "      <td>Montana</td>\n",
       "      <td>1131302.0</td>\n",
       "      <td>POLYGON ((159953.554 3142118.013, 160030.284 3...</td>\n",
       "      <td>4.0</td>\n",
       "      <td>0.35</td>\n",
       "      <td>3.54</td>\n",
       "    </tr>\n",
       "    <tr>\n",
       "      <th>8</th>\n",
       "      <td>ID</td>\n",
       "      <td>Idaho</td>\n",
       "      <td>1971122.0</td>\n",
       "      <td>POLYGON ((41359.954 2688609.954, 42007.529 268...</td>\n",
       "      <td>3.0</td>\n",
       "      <td>0.15</td>\n",
       "      <td>1.52</td>\n",
       "    </tr>\n",
       "    <tr>\n",
       "      <th>35</th>\n",
       "      <td>AZ</td>\n",
       "      <td>Arizona</td>\n",
       "      <td>7473027.0</td>\n",
       "      <td>POLYGON ((186007.935 1357438.968, 186198.735 1...</td>\n",
       "      <td>4.0</td>\n",
       "      <td>0.05</td>\n",
       "      <td>0.54</td>\n",
       "    </tr>\n",
       "  </tbody>\n",
       "</table>\n",
       "</div>"
      ],
      "text/plain": [
       "   STUSPS        NAME  POPULATION  \\\n",
       "22     UT        Utah   3443222.0   \n",
       "28     NV      Nevada   3214363.0   \n",
       "24     WY     Wyoming    585067.0   \n",
       "12     NM  New Mexico   2121164.0   \n",
       "31     MT     Montana   1131302.0   \n",
       "8      ID       Idaho   1971122.0   \n",
       "35     AZ     Arizona   7473027.0   \n",
       "\n",
       "                                             geometry  COUNT  per_100k  per_1m  \n",
       "22  POLYGON ((274416.073 1920986.082, 274497.363 1...   56.0      1.63   16.26  \n",
       "28  POLYGON ((-233304.553 2134292.88, -233127.26 2...   46.0      1.43   14.31  \n",
       "24  POLYGON ((535264.098 2741376.081, 536015.388 2...    7.0      1.20   11.96  \n",
       "12  POLYGON ((735127.619 1239819.536, 735099.428 1...   24.0      1.13   11.31  \n",
       "31  POLYGON ((159953.554 3142118.013, 160030.284 3...    4.0      0.35    3.54  \n",
       "8   POLYGON ((41359.954 2688609.954, 42007.529 268...    3.0      0.15    1.52  \n",
       "35  POLYGON ((186007.935 1357438.968, 186198.735 1...    4.0      0.05    0.54  "
      ]
     },
     "execution_count": 64,
     "metadata": {},
     "output_type": "execute_result"
    }
   ],
   "source": [
    "store_count_gdf.sort_values(\"per_1m\", ascending=False)"
   ]
  },
  {
   "cell_type": "code",
   "execution_count": null,
   "id": "611d2061-f3f3-4837-9894-afe1053216ad",
   "metadata": {},
   "outputs": [],
   "source": []
  },
  {
   "cell_type": "code",
   "execution_count": null,
   "id": "22ce3fe4-325e-425b-89c3-86620780e730",
   "metadata": {},
   "outputs": [],
   "source": []
  }
 ],
 "metadata": {
  "kernelspec": {
   "display_name": "Python 3 (ipykernel)",
   "language": "python",
   "name": "python3"
  },
  "language_info": {
   "codemirror_mode": {
    "name": "ipython",
    "version": 3
   },
   "file_extension": ".py",
   "mimetype": "text/x-python",
   "name": "python",
   "nbconvert_exporter": "python",
   "pygments_lexer": "ipython3",
   "version": "3.11.13"
  }
 },
 "nbformat": 4,
 "nbformat_minor": 5
}
