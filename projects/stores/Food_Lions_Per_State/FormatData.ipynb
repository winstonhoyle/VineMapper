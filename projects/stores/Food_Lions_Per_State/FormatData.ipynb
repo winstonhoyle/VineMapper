{
 "cells": [
  {
   "cell_type": "code",
   "execution_count": null,
   "id": "6aa0827c-59f2-481e-a871-e5ea56cf4aea",
   "metadata": {},
   "outputs": [],
   "source": [
    "import httpx\n",
    "import os\n",
    "import random\n",
    "import time"
   ]
  },
  {
   "cell_type": "code",
   "execution_count": 46,
   "id": "bc436e38-234d-44fd-b67b-d1f2974606d3",
   "metadata": {},
   "outputs": [],
   "source": [
    "from bs4 import BeautifulSoup\n",
    "import geopandas as gpd\n",
    "import pandas as pd\n",
    "from shapely.geometry import Point\n",
    "from tqdm.notebook import tqdm"
   ]
  },
  {
   "cell_type": "markdown",
   "id": "44a3df26-78d3-479c-99a2-c0e1ba91352e",
   "metadata": {},
   "source": [
    "## Get State Data"
   ]
  },
  {
   "cell_type": "code",
   "execution_count": 47,
   "id": "615eeabf-033b-425a-a81f-d7b4dd9e3a3e",
   "metadata": {},
   "outputs": [],
   "source": [
    "file_path = \"data/cb_2018_us_state_500k/cb_2018_us_state_500k.shp\"\n",
    "states_df = gpd.read_file(file_path)"
   ]
  },
  {
   "cell_type": "code",
   "execution_count": 48,
   "id": "502c6bfe-0912-4d37-95b0-47e7a14b468f",
   "metadata": {},
   "outputs": [],
   "source": [
    "states_df = states_df[[\"STUSPS\", \"NAME\", \"geometry\"]]"
   ]
  },
  {
   "cell_type": "markdown",
   "id": "4257620c-13d7-4071-bae2-a5a2aeae5ba7",
   "metadata": {},
   "source": [
    "## Get Population data"
   ]
  },
  {
   "cell_type": "code",
   "execution_count": 49,
   "id": "6c0e7a1d-5a9a-4c10-a5d4-28dc681a8a27",
   "metadata": {},
   "outputs": [],
   "source": [
    "state_populations = pd.read_excel(\n",
    "    \"data/NST-EST2024-POP.xlsx\", sheet_name=None, engine=\"openpyxl\"\n",
    ")"
   ]
  },
  {
   "cell_type": "code",
   "execution_count": 50,
   "id": "2614c2ab-96ec-4304-a287-6fd013fedbbb",
   "metadata": {},
   "outputs": [],
   "source": [
    "state_populations_df = state_populations[\"NST-EST2024-POP\"][\n",
    "    [\n",
    "        \"table with row headers in column A and column headers in rows 3 through 4. (leading dots indicate sub-parts)\",\n",
    "        \"Unnamed: 5\",\n",
    "    ]\n",
    "]\n",
    "state_populations_df = state_populations_df.rename(\n",
    "    columns={\n",
    "        \"table with row headers in column A and column headers in rows 3 through 4. (leading dots indicate sub-parts)\": \"NAME\",\n",
    "        \"Unnamed: 5\": \"POPULATION\",\n",
    "    }\n",
    ")\n",
    "state_populations_df[\"NAME\"] = state_populations_df[\"NAME\"].str[1:]"
   ]
  },
  {
   "cell_type": "code",
   "execution_count": 51,
   "id": "2a1a8b6e-a0bf-486b-b62e-46a23ca718e2",
   "metadata": {},
   "outputs": [],
   "source": [
    "states_with_population_df = states_df.merge(state_populations_df, on=\"NAME\", how=\"left\")\n",
    "states_with_population_df = states_with_population_df[\n",
    "    [\"STUSPS\", \"NAME\", \"POPULATION\", \"geometry\"]\n",
    "]"
   ]
  },
  {
   "cell_type": "markdown",
   "id": "6d2f1ce9-a36c-4292-99a0-ad42032c5ad4",
   "metadata": {},
   "source": [
    "## Get Food Lion Data"
   ]
  },
  {
   "cell_type": "code",
   "execution_count": 52,
   "id": "ff00235e-2af2-4fb9-bc97-fa545c337767",
   "metadata": {},
   "outputs": [],
   "source": [
    "def get_coords(url: str) -> Point:\n",
    "    r = httpx.get(url)\n",
    "    soup = BeautifulSoup(r.text, \"html.parser\")\n",
    "    meta = soup.find(\"meta\", {\"name\": \"geo.position\"})\n",
    "    coords = meta.attrs[\"content\"].split(\";\")\n",
    "    return Point(float(coords[1]), float(coords[0]))"
   ]
  },
  {
   "cell_type": "code",
   "execution_count": 53,
   "id": "483ab397-113c-40c3-81d2-9cdcaed5f6ed",
   "metadata": {},
   "outputs": [],
   "source": [
    "url = \"https://stores.foodlion.com/\"\n",
    "r = httpx.get(url)"
   ]
  },
  {
   "cell_type": "code",
   "execution_count": 54,
   "id": "7d63e60c-4c89-455a-8774-90383134c1a9",
   "metadata": {},
   "outputs": [],
   "source": [
    "soup = BeautifulSoup(r.text, \"html.parser\")"
   ]
  },
  {
   "cell_type": "code",
   "execution_count": 56,
   "id": "4789c801-aac6-4d8b-a183-70bbc1fd1e5d",
   "metadata": {},
   "outputs": [
    {
     "data": {
      "application/vnd.jupyter.widget-view+json": {
       "model_id": "32e9c7f381e846a18f213035d0d0c92a",
       "version_major": 2,
       "version_minor": 0
      },
      "text/plain": [
       "Parsing States:   0%|          | 0/10 [00:00<?, ?it/s]"
      ]
     },
     "metadata": {},
     "output_type": "display_data"
    },
    {
     "data": {
      "application/vnd.jupyter.widget-view+json": {
       "model_id": "0022176a46bc4ac784e268682e8521de",
       "version_major": 2,
       "version_minor": 0
      },
      "text/plain": [
       "Parsing Locations in ga:   0%|          | 0/38 [00:00<?, ?it/s]"
      ]
     },
     "metadata": {},
     "output_type": "display_data"
    },
    {
     "data": {
      "application/vnd.jupyter.widget-view+json": {
       "model_id": "bc8178cd7cd5467fa1f473814cba87ae",
       "version_major": 2,
       "version_minor": 0
      },
      "text/plain": [
       "Parsing Locations in ky:   0%|          | 0/3 [00:00<?, ?it/s]"
      ]
     },
     "metadata": {},
     "output_type": "display_data"
    },
    {
     "data": {
      "application/vnd.jupyter.widget-view+json": {
       "model_id": "9d6b84ddbb5a4edfaa2e18d09d770809",
       "version_major": 2,
       "version_minor": 0
      },
      "text/plain": [
       "Parsing Locations in md:   0%|          | 0/45 [00:00<?, ?it/s]"
      ]
     },
     "metadata": {},
     "output_type": "display_data"
    },
    {
     "data": {
      "application/vnd.jupyter.widget-view+json": {
       "model_id": "55a00f98996345d583b115823abc916a",
       "version_major": 2,
       "version_minor": 0
      },
      "text/plain": [
       "Parsing Locations in nc:   0%|          | 0/244 [00:00<?, ?it/s]"
      ]
     },
     "metadata": {},
     "output_type": "display_data"
    },
    {
     "data": {
      "application/vnd.jupyter.widget-view+json": {
       "model_id": "18bb3aabb32945d48c30e68f9bc67ea6",
       "version_major": 2,
       "version_minor": 0
      },
      "text/plain": [
       "Parsing Locations in pa:   0%|          | 0/3 [00:00<?, ?it/s]"
      ]
     },
     "metadata": {},
     "output_type": "display_data"
    },
    {
     "data": {
      "application/vnd.jupyter.widget-view+json": {
       "model_id": "f4e0efe9a07e4ad7a8d87017e34814e3",
       "version_major": 2,
       "version_minor": 0
      },
      "text/plain": [
       "Parsing Locations in sc:   0%|          | 0/87 [00:00<?, ?it/s]"
      ]
     },
     "metadata": {},
     "output_type": "display_data"
    },
    {
     "data": {
      "application/vnd.jupyter.widget-view+json": {
       "model_id": "a1f5e33251d644c3ab8fa2e83a6bc6f9",
       "version_major": 2,
       "version_minor": 0
      },
      "text/plain": [
       "Parsing Locations in tn:   0%|          | 0/24 [00:00<?, ?it/s]"
      ]
     },
     "metadata": {},
     "output_type": "display_data"
    },
    {
     "data": {
      "application/vnd.jupyter.widget-view+json": {
       "model_id": "fb7e8340987242389b8639268b9f148b",
       "version_major": 2,
       "version_minor": 0
      },
      "text/plain": [
       "Parsing Locations in va:   0%|          | 0/143 [00:00<?, ?it/s]"
      ]
     },
     "metadata": {},
     "output_type": "display_data"
    },
    {
     "data": {
      "application/vnd.jupyter.widget-view+json": {
       "model_id": "af6f032079eb44ce882b4e7198852690",
       "version_major": 2,
       "version_minor": 0
      },
      "text/plain": [
       "Parsing Locations in wv:   0%|          | 0/14 [00:00<?, ?it/s]"
      ]
     },
     "metadata": {},
     "output_type": "display_data"
    }
   ],
   "source": [
    "state_as = soup.find_all(\"a\", {\"class\": \"Directory-listLink\"})\n",
    "for state_a in tqdm(state_as, desc=\"Parsing States\"):\n",
    "    # state store list\n",
    "    state_stores = []\n",
    "\n",
    "    # Format state info\n",
    "    state_code = state_a.attrs[\"href\"]\n",
    "    state_url = url + state_code\n",
    "\n",
    "    # If File exists continue\n",
    "    if os.path.isfile(f\"data/states/{state_code}.gpkg\"):\n",
    "        continue\n",
    "\n",
    "    # Request all cities in state\n",
    "    state_r = httpx.get(state_url)\n",
    "\n",
    "    # Get all cities from html\n",
    "    state_soup = BeautifulSoup(state_r.text, \"html.parser\")\n",
    "    city_as = state_soup.find_all(\"a\", {\"class\": \"Directory-listLink\"})\n",
    "\n",
    "    # Loop through all cities\n",
    "    for city_a in tqdm(city_as, desc=f\"Parsing Locations in {state_code}\"):\n",
    "        city_href = city_a.attrs[\"href\"]\n",
    "        href_split = city_href.split(\"/\")\n",
    "        city_url = url + city_href\n",
    "\n",
    "        # If cities have more than 1 store\n",
    "        if len(href_split) == 2:\n",
    "            city_url = url + city_href\n",
    "            r_stores = httpx.get(city_url)\n",
    "            stores_soup = BeautifulSoup(r_stores.text, \"html.parser\")\n",
    "            stores_div = stores_soup.find_all(\n",
    "                \"div\", {\"class\": \"Teaser-link Teaser-visitpage\"}\n",
    "            )\n",
    "            for store_div in stores_div:\n",
    "                store_a = store_div.find(\"a\")\n",
    "                store_url = store_a.attrs[\"href\"].replace(\"../\", url)\n",
    "                try:\n",
    "                    point = get_coords(store_url)\n",
    "                except Exception as e:\n",
    "                    print(store_url, str(e))\n",
    "                    continue\n",
    "                store_dict = {\n",
    "                    \"STUSPS\": state_code.upper(),\n",
    "                    \"geometry\": point,\n",
    "                    \"url\": city_url,\n",
    "                }\n",
    "                state_stores.append(store_dict)\n",
    "                time.sleep(random.uniform(0.01, 0.5))\n",
    "        else:\n",
    "            try:\n",
    "                point = get_coords(city_url)\n",
    "            except Exception as e:\n",
    "                print(city_url, str(e))\n",
    "                continue\n",
    "            store_dict = {\n",
    "                \"STUSPS\": state_code.upper(),\n",
    "                \"geometry\": point,\n",
    "                \"url\": city_url,\n",
    "            }\n",
    "            state_stores.append(store_dict)\n",
    "            time.sleep(random.uniform(0.01, 0.5))\n",
    "\n",
    "    state_stores_gdf = gpd.GeoDataFrame(state_stores, crs=4326)\n",
    "    state_stores_gdf.to_file(f\"data/states/{state_code}.gpkg\")"
   ]
  },
  {
   "cell_type": "code",
   "execution_count": 57,
   "id": "3a5eca26-842b-4d12-b93d-42763922aa65",
   "metadata": {},
   "outputs": [],
   "source": [
    "stores_gdfs = []\n",
    "states_path = \"data/states\"\n",
    "for file in os.listdir(\"data/states\"):\n",
    "    constructed_path = os.path.join(states_path, file)\n",
    "    if constructed_path.endswith(\".gpkg\"):\n",
    "        stores_gdf = gpd.read_file(constructed_path)\n",
    "        stores_gdfs.append(stores_gdf)"
   ]
  },
  {
   "cell_type": "code",
   "execution_count": 58,
   "id": "ba8f36ae-e061-4073-ba22-1accf875dcff",
   "metadata": {},
   "outputs": [],
   "source": [
    "store_gdf = gpd.GeoDataFrame(pd.concat(stores_gdfs, ignore_index=True))"
   ]
  },
  {
   "cell_type": "code",
   "execution_count": 59,
   "id": "764b7ca3-55dd-4139-bf72-1c013c0e8fa6",
   "metadata": {},
   "outputs": [],
   "source": [
    "store_gdf = store_gdf.to_crs(9311)\n",
    "store_gdf.to_file(f\"data/stores.gpkg\")"
   ]
  },
  {
   "cell_type": "code",
   "execution_count": 60,
   "id": "24937000-df21-4a12-bfe5-21f0ed7b823d",
   "metadata": {},
   "outputs": [],
   "source": [
    "state_counts_df = (\n",
    "    store_gdf.groupby(\"STUSPS\")\n",
    "    .size()\n",
    "    .reset_index(name=\"COUNT\")\n",
    "    .sort_values(\"COUNT\", ascending=False)\n",
    ")"
   ]
  },
  {
   "cell_type": "markdown",
   "id": "94cb32a2-faf0-40fa-8616-e8f2275eca72",
   "metadata": {},
   "source": [
    "## Combine With States"
   ]
  },
  {
   "cell_type": "code",
   "execution_count": 69,
   "id": "c062806b-5f76-4d7e-a226-31383a266b6a",
   "metadata": {},
   "outputs": [],
   "source": [
    "store_count_gdf = states_with_population_df.merge(\n",
    "    state_counts_df, on=\"STUSPS\", how=\"left\"\n",
    ")"
   ]
  },
  {
   "cell_type": "code",
   "execution_count": 70,
   "id": "300ee45e-48b8-48f6-9a3a-efd4904a5efe",
   "metadata": {},
   "outputs": [],
   "source": [
    "store_count_gdf = store_count_gdf.dropna()"
   ]
  },
  {
   "cell_type": "code",
   "execution_count": 77,
   "id": "8e8b581c-4e0c-40b8-81a9-4ea014470b40",
   "metadata": {},
   "outputs": [],
   "source": [
    "store_count_gdf[\"per_100k\"] = (\n",
    "    store_count_gdf[\"COUNT\"] / (store_count_gdf[\"POPULATION\"] / 100_000)\n",
    ").round(decimals=2)\n",
    "store_count_gdf[\"per_1m\"] = (\n",
    "    store_count_gdf[\"COUNT\"] / (store_count_gdf[\"POPULATION\"] / 1_000_000)\n",
    ").round(decimals=1)"
   ]
  },
  {
   "cell_type": "code",
   "execution_count": 78,
   "id": "944acfaa-313b-4a9f-aecc-53fe95e188be",
   "metadata": {},
   "outputs": [],
   "source": [
    "store_count_gdf = store_count_gdf.to_crs(9311)\n",
    "store_count_gdf.to_file(f\"data/food_lions_per_state.gpkg\")"
   ]
  },
  {
   "cell_type": "code",
   "execution_count": 79,
   "id": "8a23d1fa-408d-4071-9513-e5b0da2e5cfc",
   "metadata": {},
   "outputs": [
    {
     "data": {
      "text/html": [
       "<div>\n",
       "<style scoped>\n",
       "    .dataframe tbody tr th:only-of-type {\n",
       "        vertical-align: middle;\n",
       "    }\n",
       "\n",
       "    .dataframe tbody tr th {\n",
       "        vertical-align: top;\n",
       "    }\n",
       "\n",
       "    .dataframe thead th {\n",
       "        text-align: right;\n",
       "    }\n",
       "</style>\n",
       "<table border=\"1\" class=\"dataframe\">\n",
       "  <thead>\n",
       "    <tr style=\"text-align: right;\">\n",
       "      <th></th>\n",
       "      <th>STUSPS</th>\n",
       "      <th>NAME</th>\n",
       "      <th>POPULATION</th>\n",
       "      <th>geometry</th>\n",
       "      <th>COUNT</th>\n",
       "      <th>per_100k</th>\n",
       "      <th>per_1m</th>\n",
       "    </tr>\n",
       "  </thead>\n",
       "  <tbody>\n",
       "    <tr>\n",
       "      <th>1</th>\n",
       "      <td>NC</td>\n",
       "      <td>North Carolina</td>\n",
       "      <td>10881189.0</td>\n",
       "      <td>MULTIPOLYGON (((2154808.027 -692253.992, 21554...</td>\n",
       "      <td>532.0</td>\n",
       "      <td>4.89</td>\n",
       "      <td>48.9</td>\n",
       "    </tr>\n",
       "    <tr>\n",
       "      <th>3</th>\n",
       "      <td>VA</td>\n",
       "      <td>Virginia</td>\n",
       "      <td>8734685.0</td>\n",
       "      <td>MULTIPOLYGON (((2098153.247 -490400.387, 20981...</td>\n",
       "      <td>297.0</td>\n",
       "      <td>3.40</td>\n",
       "      <td>34.0</td>\n",
       "    </tr>\n",
       "    <tr>\n",
       "      <th>4</th>\n",
       "      <td>WV</td>\n",
       "      <td>West Virginia</td>\n",
       "      <td>1770495.0</td>\n",
       "      <td>POLYGON ((1506482.53 -601393.056, 1506489.516 ...</td>\n",
       "      <td>15.0</td>\n",
       "      <td>0.85</td>\n",
       "      <td>8.5</td>\n",
       "    </tr>\n",
       "    <tr>\n",
       "      <th>18</th>\n",
       "      <td>GA</td>\n",
       "      <td>Georgia</td>\n",
       "      <td>11064432.0</td>\n",
       "      <td>MULTIPOLYGON (((1774018.899 -1324581.179, 1774...</td>\n",
       "      <td>47.0</td>\n",
       "      <td>0.42</td>\n",
       "      <td>4.2</td>\n",
       "    </tr>\n",
       "    <tr>\n",
       "      <th>19</th>\n",
       "      <td>PA</td>\n",
       "      <td>Pennsylvania</td>\n",
       "      <td>13017721.0</td>\n",
       "      <td>POLYGON ((1619177.315 -262060.235, 1618879.478...</td>\n",
       "      <td>3.0</td>\n",
       "      <td>0.02</td>\n",
       "      <td>0.2</td>\n",
       "    </tr>\n",
       "    <tr>\n",
       "      <th>23</th>\n",
       "      <td>TN</td>\n",
       "      <td>Tennessee</td>\n",
       "      <td>7148304.0</td>\n",
       "      <td>POLYGON ((883547.508 -1059435.53, 883522.954 -...</td>\n",
       "      <td>27.0</td>\n",
       "      <td>0.38</td>\n",
       "      <td>3.8</td>\n",
       "    </tr>\n",
       "    <tr>\n",
       "      <th>33</th>\n",
       "      <td>SC</td>\n",
       "      <td>South Carolina</td>\n",
       "      <td>5387830.0</td>\n",
       "      <td>MULTIPOLYGON (((1898434.953 -1099843.186, 1898...</td>\n",
       "      <td>176.0</td>\n",
       "      <td>3.27</td>\n",
       "      <td>32.7</td>\n",
       "    </tr>\n",
       "    <tr>\n",
       "      <th>40</th>\n",
       "      <td>MD</td>\n",
       "      <td>Maryland</td>\n",
       "      <td>6217062.0</td>\n",
       "      <td>MULTIPOLYGON (((2067172.995 -478871.787, 20670...</td>\n",
       "      <td>53.0</td>\n",
       "      <td>0.85</td>\n",
       "      <td>8.5</td>\n",
       "    </tr>\n",
       "    <tr>\n",
       "      <th>43</th>\n",
       "      <td>DE</td>\n",
       "      <td>Delaware</td>\n",
       "      <td>1036423.0</td>\n",
       "      <td>MULTIPOLYGON (((2060773.554 -301785.14, 206090...</td>\n",
       "      <td>20.0</td>\n",
       "      <td>1.93</td>\n",
       "      <td>19.3</td>\n",
       "    </tr>\n",
       "    <tr>\n",
       "      <th>47</th>\n",
       "      <td>KY</td>\n",
       "      <td>Kentucky</td>\n",
       "      <td>4550595.0</td>\n",
       "      <td>MULTIPOLYGON (((946135.474 -881445.948, 946571...</td>\n",
       "      <td>4.0</td>\n",
       "      <td>0.09</td>\n",
       "      <td>0.9</td>\n",
       "    </tr>\n",
       "  </tbody>\n",
       "</table>\n",
       "</div>"
      ],
      "text/plain": [
       "   STUSPS            NAME  POPULATION  \\\n",
       "1      NC  North Carolina  10881189.0   \n",
       "3      VA        Virginia   8734685.0   \n",
       "4      WV   West Virginia   1770495.0   \n",
       "18     GA         Georgia  11064432.0   \n",
       "19     PA    Pennsylvania  13017721.0   \n",
       "23     TN       Tennessee   7148304.0   \n",
       "33     SC  South Carolina   5387830.0   \n",
       "40     MD        Maryland   6217062.0   \n",
       "43     DE        Delaware   1036423.0   \n",
       "47     KY        Kentucky   4550595.0   \n",
       "\n",
       "                                             geometry  COUNT  per_100k  per_1m  \n",
       "1   MULTIPOLYGON (((2154808.027 -692253.992, 21554...  532.0      4.89    48.9  \n",
       "3   MULTIPOLYGON (((2098153.247 -490400.387, 20981...  297.0      3.40    34.0  \n",
       "4   POLYGON ((1506482.53 -601393.056, 1506489.516 ...   15.0      0.85     8.5  \n",
       "18  MULTIPOLYGON (((1774018.899 -1324581.179, 1774...   47.0      0.42     4.2  \n",
       "19  POLYGON ((1619177.315 -262060.235, 1618879.478...    3.0      0.02     0.2  \n",
       "23  POLYGON ((883547.508 -1059435.53, 883522.954 -...   27.0      0.38     3.8  \n",
       "33  MULTIPOLYGON (((1898434.953 -1099843.186, 1898...  176.0      3.27    32.7  \n",
       "40  MULTIPOLYGON (((2067172.995 -478871.787, 20670...   53.0      0.85     8.5  \n",
       "43  MULTIPOLYGON (((2060773.554 -301785.14, 206090...   20.0      1.93    19.3  \n",
       "47  MULTIPOLYGON (((946135.474 -881445.948, 946571...    4.0      0.09     0.9  "
      ]
     },
     "execution_count": 79,
     "metadata": {},
     "output_type": "execute_result"
    }
   ],
   "source": [
    "store_count_gdf"
   ]
  },
  {
   "cell_type": "code",
   "execution_count": null,
   "id": "611d2061-f3f3-4837-9894-afe1053216ad",
   "metadata": {},
   "outputs": [],
   "source": []
  },
  {
   "cell_type": "code",
   "execution_count": null,
   "id": "22ce3fe4-325e-425b-89c3-86620780e730",
   "metadata": {},
   "outputs": [],
   "source": []
  }
 ],
 "metadata": {
  "kernelspec": {
   "display_name": "Python 3 (ipykernel)",
   "language": "python",
   "name": "python3"
  },
  "language_info": {
   "codemirror_mode": {
    "name": "ipython",
    "version": 3
   },
   "file_extension": ".py",
   "mimetype": "text/x-python",
   "name": "python",
   "nbconvert_exporter": "python",
   "pygments_lexer": "ipython3",
   "version": "3.11.13"
  }
 },
 "nbformat": 4,
 "nbformat_minor": 5
}
