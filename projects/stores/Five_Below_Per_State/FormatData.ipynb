{
 "cells": [
  {
   "cell_type": "code",
   "execution_count": 2,
   "id": "8eca3131-85dc-48b3-b640-f384104e123c",
   "metadata": {},
   "outputs": [],
   "source": [
    "from collections import Counter\n",
    "import os\n",
    "import random\n",
    "import re\n",
    "import time"
   ]
  },
  {
   "cell_type": "code",
   "execution_count": 3,
   "id": "bc436e38-234d-44fd-b67b-d1f2974606d3",
   "metadata": {},
   "outputs": [],
   "source": [
    "from bs4 import BeautifulSoup\n",
    "import cloudscraper\n",
    "import geopandas as gpd\n",
    "import pandas as pd"
   ]
  },
  {
   "cell_type": "code",
   "execution_count": 4,
   "id": "13bbdea5-6ae9-4a3a-937a-12bb704da0f4",
   "metadata": {},
   "outputs": [],
   "source": [
    "from shapely.geometry import Point\n",
    "from tqdm.notebook import tqdm"
   ]
  },
  {
   "cell_type": "markdown",
   "id": "44a3df26-78d3-479c-99a2-c0e1ba91352e",
   "metadata": {},
   "source": [
    "## Get State Data"
   ]
  },
  {
   "cell_type": "code",
   "execution_count": 5,
   "id": "615eeabf-033b-425a-a81f-d7b4dd9e3a3e",
   "metadata": {},
   "outputs": [],
   "source": [
    "file_path = \"data/cb_2018_us_state_500k/cb_2018_us_state_500k.shp\"\n",
    "states_df = gpd.read_file(file_path)"
   ]
  },
  {
   "cell_type": "code",
   "execution_count": 6,
   "id": "502c6bfe-0912-4d37-95b0-47e7a14b468f",
   "metadata": {},
   "outputs": [],
   "source": [
    "states_df = states_df[[\"STUSPS\", \"NAME\", \"geometry\"]]"
   ]
  },
  {
   "cell_type": "markdown",
   "id": "4257620c-13d7-4071-bae2-a5a2aeae5ba7",
   "metadata": {},
   "source": [
    "## Get Population data"
   ]
  },
  {
   "cell_type": "code",
   "execution_count": 7,
   "id": "6c0e7a1d-5a9a-4c10-a5d4-28dc681a8a27",
   "metadata": {},
   "outputs": [],
   "source": [
    "state_populations = pd.read_excel(\n",
    "    \"data/NST-EST2024-POP.xlsx\", sheet_name=None, engine=\"openpyxl\"\n",
    ")"
   ]
  },
  {
   "cell_type": "code",
   "execution_count": 8,
   "id": "2614c2ab-96ec-4304-a287-6fd013fedbbb",
   "metadata": {},
   "outputs": [],
   "source": [
    "state_populations_df = state_populations[\"NST-EST2024-POP\"][\n",
    "    [\n",
    "        \"table with row headers in column A and column headers in rows 3 through 4. (leading dots indicate sub-parts)\",\n",
    "        \"Unnamed: 5\",\n",
    "    ]\n",
    "]\n",
    "state_populations_df = state_populations_df.rename(\n",
    "    columns={\n",
    "        \"table with row headers in column A and column headers in rows 3 through 4. (leading dots indicate sub-parts)\": \"NAME\",\n",
    "        \"Unnamed: 5\": \"POPULATION\",\n",
    "    }\n",
    ")\n",
    "state_populations_df[\"NAME\"] = state_populations_df[\"NAME\"].str[1:]"
   ]
  },
  {
   "cell_type": "code",
   "execution_count": 9,
   "id": "2a1a8b6e-a0bf-486b-b62e-46a23ca718e2",
   "metadata": {},
   "outputs": [],
   "source": [
    "states_with_population_df = states_df.merge(state_populations_df, on=\"NAME\", how=\"left\")\n",
    "states_with_population_df = states_with_population_df[\n",
    "    [\"STUSPS\", \"NAME\", \"POPULATION\", \"geometry\"]\n",
    "]"
   ]
  },
  {
   "cell_type": "markdown",
   "id": "6d2f1ce9-a36c-4292-99a0-ad42032c5ad4",
   "metadata": {},
   "source": [
    "## Get Five Below Data"
   ]
  },
  {
   "cell_type": "code",
   "execution_count": 12,
   "id": "98a79e3c-5dee-4dc7-bb48-5b6df8446b2b",
   "metadata": {},
   "outputs": [],
   "source": [
    "def get_coords(url: str) -> Point:\n",
    "    r = scraper.get(url)\n",
    "    if r.status_code != 200:\n",
    "        print(\"Status Code:\", r.status_code, url)\n",
    "        return {}\n",
    "    try:\n",
    "        soup = BeautifulSoup(r.text, \"html.parser\")\n",
    "        lat = float(soup.find(\"meta\", {\"itemprop\": \"latitude\"}).attrs[\"content\"])\n",
    "        lon = float(soup.find(\"meta\", {\"itemprop\": \"longitude\"}).attrs[\"content\"])\n",
    "    except Exception as e:\n",
    "        print(e, url)\n",
    "    return Point(lon, lat)"
   ]
  },
  {
   "cell_type": "code",
   "execution_count": 11,
   "id": "3902428a-92ab-4760-98db-4df4874009dc",
   "metadata": {},
   "outputs": [],
   "source": [
    "scraper = cloudscraper.create_scraper()"
   ]
  },
  {
   "cell_type": "code",
   "execution_count": null,
   "id": "57180847-49ee-46cc-9612-bfebcd53bed2",
   "metadata": {},
   "outputs": [
    {
     "data": {
      "application/vnd.jupyter.widget-view+json": {
       "model_id": "ccd2b6a0098942658de9b542f5c84da5",
       "version_major": 2,
       "version_minor": 0
      },
      "text/plain": [
       "Parsing States:   0%|          | 0/45 [00:00<?, ?it/s]"
      ]
     },
     "metadata": {},
     "output_type": "display_data"
    },
    {
     "data": {
      "application/vnd.jupyter.widget-view+json": {
       "model_id": "a3218078bc8a4041a2eedd1ac7064ea1",
       "version_major": 2,
       "version_minor": 0
      },
      "text/plain": [
       "Parsing Locations in al:   0%|          | 0/29 [00:00<?, ?it/s]"
      ]
     },
     "metadata": {},
     "output_type": "display_data"
    },
    {
     "data": {
      "application/vnd.jupyter.widget-view+json": {
       "model_id": "892861030aa44860b64ee3364b594ed6",
       "version_major": 2,
       "version_minor": 0
      },
      "text/plain": [
       "Parsing Locations in az:   0%|          | 0/20 [00:00<?, ?it/s]"
      ]
     },
     "metadata": {},
     "output_type": "display_data"
    },
    {
     "data": {
      "application/vnd.jupyter.widget-view+json": {
       "model_id": "531084104d734b8c871f42da2bd10a97",
       "version_major": 2,
       "version_minor": 0
      },
      "text/plain": [
       "Parsing Locations in ar:   0%|          | 0/11 [00:00<?, ?it/s]"
      ]
     },
     "metadata": {},
     "output_type": "display_data"
    },
    {
     "data": {
      "application/vnd.jupyter.widget-view+json": {
       "model_id": "36abb24b9adf435abb0a0edf316a098e",
       "version_major": 2,
       "version_minor": 0
      },
      "text/plain": [
       "Parsing Locations in ca:   0%|          | 0/122 [00:00<?, ?it/s]"
      ]
     },
     "metadata": {},
     "output_type": "display_data"
    },
    {
     "data": {
      "application/vnd.jupyter.widget-view+json": {
       "model_id": "d70379fc1e2542898dd743c347e4e9ed",
       "version_major": 2,
       "version_minor": 0
      },
      "text/plain": [
       "Parsing Locations in co:   0%|          | 0/20 [00:00<?, ?it/s]"
      ]
     },
     "metadata": {},
     "output_type": "display_data"
    },
    {
     "data": {
      "application/vnd.jupyter.widget-view+json": {
       "model_id": "5e61ad89a3c843658a0309ec0412c6c0",
       "version_major": 2,
       "version_minor": 0
      },
      "text/plain": [
       "Parsing Locations in ct:   0%|          | 0/23 [00:00<?, ?it/s]"
      ]
     },
     "metadata": {},
     "output_type": "display_data"
    },
    {
     "data": {
      "application/vnd.jupyter.widget-view+json": {
       "model_id": "0c784cb5ff664c6681825ce6da9f1603",
       "version_major": 2,
       "version_minor": 0
      },
      "text/plain": [
       "Parsing Locations in de:   0%|          | 0/5 [00:00<?, ?it/s]"
      ]
     },
     "metadata": {},
     "output_type": "display_data"
    },
    {
     "data": {
      "application/vnd.jupyter.widget-view+json": {
       "model_id": "489bcde2915f4829996d620897c7f932",
       "version_major": 2,
       "version_minor": 0
      },
      "text/plain": [
       "Parsing Locations in fl:   0%|          | 0/101 [00:00<?, ?it/s]"
      ]
     },
     "metadata": {},
     "output_type": "display_data"
    },
    {
     "data": {
      "application/vnd.jupyter.widget-view+json": {
       "model_id": "056ee4a4823c4260b8c530cb2c97d4a0",
       "version_major": 2,
       "version_minor": 0
      },
      "text/plain": [
       "Parsing Locations in ga:   0%|          | 0/50 [00:00<?, ?it/s]"
      ]
     },
     "metadata": {},
     "output_type": "display_data"
    },
    {
     "data": {
      "application/vnd.jupyter.widget-view+json": {
       "model_id": "8548f9fae0124a13b383c3e5fcd1d207",
       "version_major": 2,
       "version_minor": 0
      },
      "text/plain": [
       "Parsing Locations in il:   0%|          | 0/68 [00:00<?, ?it/s]"
      ]
     },
     "metadata": {},
     "output_type": "display_data"
    },
    {
     "data": {
      "application/vnd.jupyter.widget-view+json": {
       "model_id": "6b828bd89cfb41c9a7a7a3d1120f97c3",
       "version_major": 2,
       "version_minor": 0
      },
      "text/plain": [
       "Parsing Locations in in:   0%|          | 0/32 [00:00<?, ?it/s]"
      ]
     },
     "metadata": {},
     "output_type": "display_data"
    },
    {
     "data": {
      "application/vnd.jupyter.widget-view+json": {
       "model_id": "16c58bb7dbd64906b19ac0db04e5beb9",
       "version_major": 2,
       "version_minor": 0
      },
      "text/plain": [
       "Parsing Locations in ia:   0%|          | 0/13 [00:00<?, ?it/s]"
      ]
     },
     "metadata": {},
     "output_type": "display_data"
    },
    {
     "data": {
      "application/vnd.jupyter.widget-view+json": {
       "model_id": "570c05690ffe492fb16d1828bad57e90",
       "version_major": 2,
       "version_minor": 0
      },
      "text/plain": [
       "Parsing Locations in ks:   0%|          | 0/13 [00:00<?, ?it/s]"
      ]
     },
     "metadata": {},
     "output_type": "display_data"
    },
    {
     "data": {
      "application/vnd.jupyter.widget-view+json": {
       "model_id": "fccfffdb5aee4101b4436d8681cccb31",
       "version_major": 2,
       "version_minor": 0
      },
      "text/plain": [
       "Parsing Locations in ky:   0%|          | 0/20 [00:00<?, ?it/s]"
      ]
     },
     "metadata": {},
     "output_type": "display_data"
    },
    {
     "data": {
      "application/vnd.jupyter.widget-view+json": {
       "model_id": "f3d0c6d327d540df91419d3bddac53dc",
       "version_major": 2,
       "version_minor": 0
      },
      "text/plain": [
       "Parsing Locations in la:   0%|          | 0/20 [00:00<?, ?it/s]"
      ]
     },
     "metadata": {},
     "output_type": "display_data"
    },
    {
     "data": {
      "application/vnd.jupyter.widget-view+json": {
       "model_id": "2f08c8103073497e9e7c1c958755296a",
       "version_major": 2,
       "version_minor": 0
      },
      "text/plain": [
       "Parsing Locations in me:   0%|          | 0/4 [00:00<?, ?it/s]"
      ]
     },
     "metadata": {},
     "output_type": "display_data"
    },
    {
     "data": {
      "application/vnd.jupyter.widget-view+json": {
       "model_id": "281579c7b9ae4fd3a13d18d548c765ff",
       "version_major": 2,
       "version_minor": 0
      },
      "text/plain": [
       "Parsing Locations in md:   0%|          | 0/43 [00:00<?, ?it/s]"
      ]
     },
     "metadata": {},
     "output_type": "display_data"
    },
    {
     "data": {
      "application/vnd.jupyter.widget-view+json": {
       "model_id": "98371163752046ea924cd0bf505c9b4f",
       "version_major": 2,
       "version_minor": 0
      },
      "text/plain": [
       "Parsing Locations in ma:   0%|          | 0/35 [00:00<?, ?it/s]"
      ]
     },
     "metadata": {},
     "output_type": "display_data"
    },
    {
     "data": {
      "application/vnd.jupyter.widget-view+json": {
       "model_id": "256c44cee1ba4d87ad0845781aaecbb9",
       "version_major": 2,
       "version_minor": 0
      },
      "text/plain": [
       "Parsing Locations in mi:   0%|          | 0/49 [00:00<?, ?it/s]"
      ]
     },
     "metadata": {},
     "output_type": "display_data"
    },
    {
     "data": {
      "application/vnd.jupyter.widget-view+json": {
       "model_id": "443a3e1450044b768c802b4fd9d9a534",
       "version_major": 2,
       "version_minor": 0
      },
      "text/plain": [
       "Parsing Locations in mn:   0%|          | 0/25 [00:00<?, ?it/s]"
      ]
     },
     "metadata": {},
     "output_type": "display_data"
    },
    {
     "data": {
      "application/vnd.jupyter.widget-view+json": {
       "model_id": "474f58f13ec548fd8a61461b9aca9d4f",
       "version_major": 2,
       "version_minor": 0
      },
      "text/plain": [
       "Parsing Locations in ms:   0%|          | 0/18 [00:00<?, ?it/s]"
      ]
     },
     "metadata": {},
     "output_type": "display_data"
    },
    {
     "data": {
      "application/vnd.jupyter.widget-view+json": {
       "model_id": "a0b91d39b33849ccadd88bac1b2ee4c0",
       "version_major": 2,
       "version_minor": 0
      },
      "text/plain": [
       "Parsing Locations in mo:   0%|          | 0/35 [00:00<?, ?it/s]"
      ]
     },
     "metadata": {},
     "output_type": "display_data"
    }
   ],
   "source": [
    "five_below_list = []\n",
    "\n",
    "root_url = \"https://locations.fivebelow.com/\"\n",
    "states_url = os.path.join(root_url, \"directory\")\n",
    "r_all_states = scraper.get(states_url)\n",
    "soup = BeautifulSoup(r_all_states.text, \"html.parser\")\n",
    "state_as = soup.find_all(\"a\", {\"class\": \"Directory-listLink\"})\n",
    "\n",
    "for state_a in tqdm(state_as, desc=\"Parsing States\"):\n",
    "    state_code = state_a.attrs[\"href\"].split(\"/\")[0]\n",
    "    state_store_list = []\n",
    "\n",
    "    # If File exists continue\n",
    "    if os.path.isfile(f\"data/states/{state_code}.gpkg\"):\n",
    "        continue\n",
    "\n",
    "    state_url = os.path.join(root_url, state_code)\n",
    "\n",
    "    r_state = scraper.get(state_url)\n",
    "    soup_state = BeautifulSoup(r_state.text, \"html.parser\")\n",
    "    location_as = soup_state.find_all(\"a\", {\"class\": \"Directory-listLink\"})\n",
    "\n",
    "    for location_a in tqdm(location_as, desc=f\"Parsing Locations in {state_code}\"):\n",
    "        location_href = \"/\".join(location_a.attrs[\"href\"].split(\"/\")[0:2])\n",
    "        location_url = os.path.join(root_url, location_href)\n",
    "        r_location = scraper.get(location_url)\n",
    "        soup_location = BeautifulSoup(r_location.text, \"html.parser\")\n",
    "        store_as = soup_location.find_all(\"a\", {\"class\": \"Teaser-titleLink\"})\n",
    "\n",
    "        for store_a in store_as:\n",
    "            store_url = store_a.attrs[\"href\"].replace(\"../\", root_url)\n",
    "            point = get_coords(store_url)\n",
    "            store_dict = {\"STATE\": state_code.upper(), \"geometry\": point}\n",
    "            five_below_list.append(store_dict)\n",
    "            state_store_list.append(store_dict)\n",
    "\n",
    "        time.sleep(random.uniform(0.01, 0.5))\n",
    "\n",
    "    if state_store_list:\n",
    "        five_below_state_gdf = gpd.GeoDataFrame(state_store_list, crs=4326)\n",
    "        five_below_state_gdf.to_file(f\"data/states/{state_code}.gpkg\")"
   ]
  },
  {
   "cell_type": "code",
   "execution_count": 62,
   "id": "87874343-408d-458f-813f-f7de5131258e",
   "metadata": {},
   "outputs": [],
   "source": [
    "five_below_gdfs = []\n",
    "states_path = \"data/states\"\n",
    "for file in os.listdir(\"data/states\"):\n",
    "    constructed_path = os.path.join(states_path, file)\n",
    "    if constructed_path.endswith(\".gpkg\"):\n",
    "        five_below_gdf = gpd.read_file(constructed_path)\n",
    "        five_below_gdfs.append(five_below_gdf)"
   ]
  },
  {
   "cell_type": "code",
   "execution_count": null,
   "id": "2027270c-8fd9-415b-b4fe-e86ed5e51eaf",
   "metadata": {},
   "outputs": [],
   "source": [
    "five_below_gdf = gpd.GeoDataFrame(pd.concat(five_below_gdfs, ignore_index=True))"
   ]
  },
  {
   "cell_type": "code",
   "execution_count": null,
   "id": "41a68569-acac-485c-8b1d-92a777c29f5e",
   "metadata": {},
   "outputs": [],
   "source": [
    "five_below_gdf = five_below_gdf.to_crs(9311)\n",
    "five_below_gdf.to_file(\"data/five_belows.gpkg\")"
   ]
  },
  {
   "cell_type": "code",
   "execution_count": 80,
   "id": "112af0cc-95bd-4fe3-8310-8bb44dffc1be",
   "metadata": {},
   "outputs": [],
   "source": [
    "five_below_counts_gdf = pd.DataFrame(\n",
    "    five_below_gdf.groupby(\"STATE\").size(), columns=[\"FIVE_BELOW\"]\n",
    ")\n",
    "five_below_counts_gdf = five_below_counts_gdf.reset_index()\n",
    "five_below_counts_gdf = five_below_counts_gdf.rename(columns={\"STATE\": \"STUSPS\"})"
   ]
  },
  {
   "cell_type": "markdown",
   "id": "94cb32a2-faf0-40fa-8616-e8f2275eca72",
   "metadata": {},
   "source": [
    "## Combine With States"
   ]
  },
  {
   "cell_type": "code",
   "execution_count": 88,
   "id": "c062806b-5f76-4d7e-a226-31383a266b6a",
   "metadata": {},
   "outputs": [],
   "source": [
    "five_below_by_states_gdf = states_with_population_df.merge(\n",
    "    five_below_counts_gdf, on=\"STUSPS\", how=\"left\"\n",
    ")"
   ]
  },
  {
   "cell_type": "code",
   "execution_count": 90,
   "id": "58e95406-0246-435f-85ee-dcb3f79019fb",
   "metadata": {},
   "outputs": [],
   "source": [
    "five_below_by_states_gdf = five_below_by_states_gdf.fillna(0)\n",
    "five_below_by_states_gdf[\"FIVE_BELOW\"] = five_below_by_states_gdf[\"FIVE_BELOW\"].astype(\n",
    "    int\n",
    ")"
   ]
  },
  {
   "cell_type": "code",
   "execution_count": 95,
   "id": "8e8b581c-4e0c-40b8-81a9-4ea014470b40",
   "metadata": {},
   "outputs": [],
   "source": [
    "five_below_by_states_gdf[\"per_1000\"] = five_below_by_states_gdf[\"FIVE_BELOW\"] / (\n",
    "    five_below_by_states_gdf[\"POPULATION\"] / 1000\n",
    ")\n",
    "five_below_by_states_gdf[\"per_10k\"] = five_below_by_states_gdf[\"FIVE_BELOW\"] / (\n",
    "    five_below_by_states_gdf[\"POPULATION\"] / 10_000\n",
    ")\n",
    "five_below_by_states_gdf[\"per_100k\"] = five_below_by_states_gdf[\"FIVE_BELOW\"] / (\n",
    "    five_below_by_states_gdf[\"POPULATION\"] / 100000\n",
    ")\n",
    "five_below_by_states_gdf[\"per_500k\"] = five_below_by_states_gdf[\"FIVE_BELOW\"] / (\n",
    "    five_below_by_states_gdf[\"POPULATION\"] / 500_000\n",
    ")\n",
    "five_below_by_states_gdf[\"per_1m\"] = five_below_by_states_gdf[\"FIVE_BELOW\"] / (\n",
    "    five_below_by_states_gdf[\"POPULATION\"] / 1_000_000\n",
    ")"
   ]
  },
  {
   "cell_type": "code",
   "execution_count": 96,
   "id": "237a0e6a-ccc2-4f3b-baad-d36ce4ecc481",
   "metadata": {},
   "outputs": [],
   "source": [
    "five_below_by_states_gdf = five_below_by_states_gdf.dropna()"
   ]
  },
  {
   "cell_type": "code",
   "execution_count": 97,
   "id": "944acfaa-313b-4a9f-aecc-53fe95e188be",
   "metadata": {},
   "outputs": [],
   "source": [
    "five_below_by_states_gdf = five_below_by_states_gdf.to_crs(9311)\n",
    "five_below_by_states_gdf.to_file(\"data/five_below_per_state.gpkg\")"
   ]
  },
  {
   "cell_type": "code",
   "execution_count": null,
   "id": "4857fb82-2869-4020-8a57-c1983c9055b6",
   "metadata": {},
   "outputs": [],
   "source": []
  },
  {
   "cell_type": "code",
   "execution_count": null,
   "id": "3eba1b99-001c-4de4-9fe1-1a06ea51e118",
   "metadata": {},
   "outputs": [],
   "source": []
  }
 ],
 "metadata": {
  "kernelspec": {
   "display_name": "Python 3 (ipykernel)",
   "language": "python",
   "name": "python3"
  },
  "language_info": {
   "codemirror_mode": {
    "name": "ipython",
    "version": 3
   },
   "file_extension": ".py",
   "mimetype": "text/x-python",
   "name": "python",
   "nbconvert_exporter": "python",
   "pygments_lexer": "ipython3",
   "version": "3.11.11"
  }
 },
 "nbformat": 4,
 "nbformat_minor": 5
}
