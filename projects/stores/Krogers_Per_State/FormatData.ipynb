{
 "cells": [
  {
   "cell_type": "code",
   "execution_count": 1,
   "id": "6aa0827c-59f2-481e-a871-e5ea56cf4aea",
   "metadata": {},
   "outputs": [],
   "source": [
    "import json\n",
    "import os\n",
    "import random\n",
    "import time"
   ]
  },
  {
   "cell_type": "code",
   "execution_count": 2,
   "id": "bc436e38-234d-44fd-b67b-d1f2974606d3",
   "metadata": {},
   "outputs": [],
   "source": [
    "import h3\n",
    "import geopandas as gpd\n",
    "import pandas as pd"
   ]
  },
  {
   "cell_type": "code",
   "execution_count": 3,
   "id": "0465bb74-de29-42f8-a656-097d407e8fe4",
   "metadata": {},
   "outputs": [],
   "source": [
    "from kroger_api import KrogerAPI\n",
    "from kroger_api.utils.env import load_and_validate_env, get_zip_code\n",
    "from shapely.geometry import Point\n",
    "from tqdm.notebook import tqdm"
   ]
  },
  {
   "cell_type": "markdown",
   "id": "44a3df26-78d3-479c-99a2-c0e1ba91352e",
   "metadata": {},
   "source": [
    "## Get State Data"
   ]
  },
  {
   "cell_type": "code",
   "execution_count": 4,
   "id": "615eeabf-033b-425a-a81f-d7b4dd9e3a3e",
   "metadata": {},
   "outputs": [],
   "source": [
    "file_path = \"data/cb_2018_us_state_500k/cb_2018_us_state_500k.shp\"\n",
    "states_df = gpd.read_file(file_path)"
   ]
  },
  {
   "cell_type": "code",
   "execution_count": 5,
   "id": "502c6bfe-0912-4d37-95b0-47e7a14b468f",
   "metadata": {},
   "outputs": [],
   "source": [
    "states_df = states_df[[\"STUSPS\", \"NAME\", \"geometry\"]]"
   ]
  },
  {
   "cell_type": "markdown",
   "id": "4257620c-13d7-4071-bae2-a5a2aeae5ba7",
   "metadata": {},
   "source": [
    "## Get Population data"
   ]
  },
  {
   "cell_type": "code",
   "execution_count": 6,
   "id": "6c0e7a1d-5a9a-4c10-a5d4-28dc681a8a27",
   "metadata": {},
   "outputs": [],
   "source": [
    "state_populations = pd.read_excel(\n",
    "    \"data/NST-EST2024-POP.xlsx\", sheet_name=None, engine=\"openpyxl\"\n",
    ")"
   ]
  },
  {
   "cell_type": "code",
   "execution_count": 7,
   "id": "2614c2ab-96ec-4304-a287-6fd013fedbbb",
   "metadata": {},
   "outputs": [],
   "source": [
    "state_populations_df = state_populations[\"NST-EST2024-POP\"][\n",
    "    [\n",
    "        \"table with row headers in column A and column headers in rows 3 through 4. (leading dots indicate sub-parts)\",\n",
    "        \"Unnamed: 5\",\n",
    "    ]\n",
    "]\n",
    "state_populations_df = state_populations_df.rename(\n",
    "    columns={\n",
    "        \"table with row headers in column A and column headers in rows 3 through 4. (leading dots indicate sub-parts)\": \"NAME\",\n",
    "        \"Unnamed: 5\": \"POPULATION\",\n",
    "    }\n",
    ")\n",
    "state_populations_df[\"NAME\"] = state_populations_df[\"NAME\"].str[1:]"
   ]
  },
  {
   "cell_type": "code",
   "execution_count": 8,
   "id": "2a1a8b6e-a0bf-486b-b62e-46a23ca718e2",
   "metadata": {},
   "outputs": [],
   "source": [
    "states_with_population_df = states_df.merge(state_populations_df, on=\"NAME\", how=\"left\")\n",
    "states_with_population_df = states_with_population_df[\n",
    "    [\"STUSPS\", \"NAME\", \"POPULATION\", \"geometry\"]\n",
    "]"
   ]
  },
  {
   "cell_type": "markdown",
   "id": "6d2f1ce9-a36c-4292-99a0-ad42032c5ad4",
   "metadata": {},
   "source": [
    "## Get Store Data"
   ]
  },
  {
   "cell_type": "code",
   "execution_count": 9,
   "id": "dbe2bbe6-d360-455e-97f8-10363bd5baef",
   "metadata": {},
   "outputs": [],
   "source": [
    "load_and_validate_env([\"KROGER_CLIENT_ID\", \"KROGER_CLIENT_SECRET\"])\n",
    "zip_code = get_zip_code(default=\"10001\")"
   ]
  },
  {
   "cell_type": "code",
   "execution_count": 10,
   "id": "b3180f32-cf39-4a2d-847a-a30b7c9b5b5e",
   "metadata": {},
   "outputs": [
    {
     "name": "stdout",
     "output_type": "stream",
     "text": [
      "Found saved token, will test if it's still valid...\n",
      "Token appears invalid, requesting a new one\n"
     ]
    }
   ],
   "source": [
    "kroger = KrogerAPI()\n",
    "token_info = kroger.authorization.get_token_with_client_credentials(\"product.compact\")"
   ]
  },
  {
   "cell_type": "code",
   "execution_count": 11,
   "id": "5944589b-703a-446f-9c97-cec216148472",
   "metadata": {},
   "outputs": [],
   "source": [
    "res = 3\n",
    "distance = 0.5\n",
    "\n",
    "usa_geom = states_df[~states_df[\"STUSPS\"].isin([\"PR\", \"VI\", \"GU\", \"MP\", \"AS\"])][\n",
    "    \"geometry\"\n",
    "].union_all()\n",
    "\n",
    "h3_shape = h3.geo_to_h3shape(usa_geom.buffer(distance=distance))\n",
    "h3_cells = h3.h3shape_to_cells(h3_shape, res=res)\n",
    "geojson = h3.cells_to_geo(h3_cells)"
   ]
  },
  {
   "cell_type": "code",
   "execution_count": 12,
   "id": "5f7fe784-44ef-4258-8e05-4af0f74415d5",
   "metadata": {},
   "outputs": [
    {
     "data": {
      "application/vnd.jupyter.widget-view+json": {
       "model_id": "4bf53022675643aba21e451c87572d2c",
       "version_major": 2,
       "version_minor": 0
      },
      "text/plain": [
       "Parsing Stores:   0%|          | 0/911 [00:00<?, ?it/s]"
      ]
     },
     "metadata": {},
     "output_type": "display_data"
    }
   ],
   "source": [
    "stores = []\n",
    "for cell in tqdm(h3_cells, desc=\"Parsing Stores\"):\n",
    "    lat, lng = h3.cell_to_latlng(cell)\n",
    "    locations = kroger.location.search_locations(\n",
    "        lat=lat, lon=lng, radius_in_miles=100, limit=200\n",
    "    )\n",
    "    if len(locations[\"data\"]):\n",
    "        for location in locations[\"data\"]:\n",
    "            location[\"geometry\"] = Point(\n",
    "                location[\"geolocation\"][\"longitude\"],\n",
    "                location[\"geolocation\"][\"latitude\"],\n",
    "            )\n",
    "            location[\"STUSPS\"] = location[\"address\"][\"state\"]\n",
    "            stores.append(location)\n",
    "    else:\n",
    "        continue\n",
    "    time.sleep(random.uniform(0.01, 0.5))"
   ]
  },
  {
   "cell_type": "code",
   "execution_count": 45,
   "id": "451a17e6-bd9c-4162-b5f0-5e41e6c677ab",
   "metadata": {},
   "outputs": [],
   "source": [
    "stores_gdf = gpd.GeoDataFrame(stores, crs=4326)\n",
    "stores_gdf = stores_gdf.drop_duplicates(\"locationId\")\n",
    "stores_gdf.to_file(\"data/all_stores.gpkg\")"
   ]
  },
  {
   "cell_type": "code",
   "execution_count": 100,
   "id": "e897c4a8-9f11-429d-b20d-b2b40635b194",
   "metadata": {},
   "outputs": [],
   "source": [
    "stores_gdf = gpd.read_file(\"data/all_stores.gpkg\")"
   ]
  },
  {
   "cell_type": "code",
   "execution_count": 101,
   "id": "ddbb78df-7e0a-43b6-87a2-6559d3fa74c9",
   "metadata": {},
   "outputs": [],
   "source": [
    "kroger_gdf = stores_gdf[stores_gdf[\"chain\"] == \"KROGER\"]\n",
    "kroger_gdf = kroger_gdf[\n",
    "    kroger_gdf[\"name\"].str.split(\" - \").str[0].isin([\"Kroger\", \"Kroger Marketplace\"])\n",
    "]\n",
    "kroger_gdf = kroger_gdf[\n",
    "    ~kroger_gdf[\"name\"].str.split(\" \").str[-1].isin([\"Spoke\", \"Fuel\", \"Shed\"])\n",
    "]\n",
    "kroger_gdf = kroger_gdf[~kroger_gdf[\"departments\"].isna()].reset_index(drop=True)"
   ]
  },
  {
   "cell_type": "code",
   "execution_count": 102,
   "id": "68cf2788-c243-4854-9378-7878a2f6103d",
   "metadata": {},
   "outputs": [],
   "source": [
    "kroger_gdf = kroger_gdf.to_crs(2274)\n",
    "kroger_gdf.to_file(\"data/stores.gpkg\")"
   ]
  },
  {
   "cell_type": "code",
   "execution_count": 103,
   "id": "e519e82a-94fc-4385-9a34-3dae667935bd",
   "metadata": {},
   "outputs": [],
   "source": [
    "kroger_count_df = kroger_gdf.groupby(\"STUSPS\").size().reset_index(name=\"COUNT\")"
   ]
  },
  {
   "cell_type": "markdown",
   "id": "94cb32a2-faf0-40fa-8616-e8f2275eca72",
   "metadata": {},
   "source": [
    "## Combine With States"
   ]
  },
  {
   "cell_type": "code",
   "execution_count": 104,
   "id": "c062806b-5f76-4d7e-a226-31383a266b6a",
   "metadata": {},
   "outputs": [],
   "source": [
    "store_count_gdf = states_with_population_df.merge(\n",
    "    kroger_count_df, on=\"STUSPS\", how=\"left\"\n",
    ")"
   ]
  },
  {
   "cell_type": "code",
   "execution_count": 105,
   "id": "300ee45e-48b8-48f6-9a3a-efd4904a5efe",
   "metadata": {},
   "outputs": [],
   "source": [
    "store_count_gdf = store_count_gdf.dropna()"
   ]
  },
  {
   "cell_type": "code",
   "execution_count": 106,
   "id": "8e8b581c-4e0c-40b8-81a9-4ea014470b40",
   "metadata": {},
   "outputs": [],
   "source": [
    "store_count_gdf[\"per_100k\"] = (\n",
    "    store_count_gdf[\"COUNT\"] / (store_count_gdf[\"POPULATION\"] / 100_000)\n",
    ").round(decimals=2)\n",
    "store_count_gdf[\"per_1m\"] = (\n",
    "    store_count_gdf[\"COUNT\"] / (store_count_gdf[\"POPULATION\"] / 1_000_000)\n",
    ").round(decimals=2)"
   ]
  },
  {
   "cell_type": "code",
   "execution_count": 107,
   "id": "944acfaa-313b-4a9f-aecc-53fe95e188be",
   "metadata": {},
   "outputs": [],
   "source": [
    "store_count_gdf = store_count_gdf.to_crs(2274)\n",
    "store_count_gdf.to_file(f\"data/Krogers_Per_State.gpkg\")"
   ]
  },
  {
   "cell_type": "code",
   "execution_count": 108,
   "id": "8a23d1fa-408d-4071-9513-e5b0da2e5cfc",
   "metadata": {},
   "outputs": [
    {
     "data": {
      "text/html": [
       "<div>\n",
       "<style scoped>\n",
       "    .dataframe tbody tr th:only-of-type {\n",
       "        vertical-align: middle;\n",
       "    }\n",
       "\n",
       "    .dataframe tbody tr th {\n",
       "        vertical-align: top;\n",
       "    }\n",
       "\n",
       "    .dataframe thead th {\n",
       "        text-align: right;\n",
       "    }\n",
       "</style>\n",
       "<table border=\"1\" class=\"dataframe\">\n",
       "  <thead>\n",
       "    <tr style=\"text-align: right;\">\n",
       "      <th></th>\n",
       "      <th>STUSPS</th>\n",
       "      <th>NAME</th>\n",
       "      <th>POPULATION</th>\n",
       "      <th>geometry</th>\n",
       "      <th>COUNT</th>\n",
       "      <th>per_100k</th>\n",
       "      <th>per_1m</th>\n",
       "    </tr>\n",
       "  </thead>\n",
       "  <tbody>\n",
       "    <tr>\n",
       "      <th>47</th>\n",
       "      <td>KY</td>\n",
       "      <td>Kentucky</td>\n",
       "      <td>4550595.0</td>\n",
       "      <td>MULTIPOLYGON (((968007.228 816363.1, 970232.76...</td>\n",
       "      <td>107.0</td>\n",
       "      <td>2.35</td>\n",
       "      <td>23.51</td>\n",
       "    </tr>\n",
       "    <tr>\n",
       "      <th>4</th>\n",
       "      <td>WV</td>\n",
       "      <td>West Virginia</td>\n",
       "      <td>1770495.0</td>\n",
       "      <td>POLYGON ((2934150.498 1413209.602, 2934202.45 ...</td>\n",
       "      <td>37.0</td>\n",
       "      <td>2.09</td>\n",
       "      <td>20.90</td>\n",
       "    </tr>\n",
       "    <tr>\n",
       "      <th>48</th>\n",
       "      <td>OH</td>\n",
       "      <td>Ohio</td>\n",
       "      <td>11824034.0</td>\n",
       "      <td>MULTIPOLYGON (((2865718.708 2665958.06, 286619...</td>\n",
       "      <td>196.0</td>\n",
       "      <td>1.66</td>\n",
       "      <td>16.58</td>\n",
       "    </tr>\n",
       "    <tr>\n",
       "      <th>23</th>\n",
       "      <td>TN</td>\n",
       "      <td>Tennessee</td>\n",
       "      <td>7148304.0</td>\n",
       "      <td>POLYGON ((677977.337 272663.652, 678190.718 27...</td>\n",
       "      <td>115.0</td>\n",
       "      <td>1.61</td>\n",
       "      <td>16.09</td>\n",
       "    </tr>\n",
       "    <tr>\n",
       "      <th>18</th>\n",
       "      <td>GA</td>\n",
       "      <td>Georgia</td>\n",
       "      <td>11064432.0</td>\n",
       "      <td>MULTIPOLYGON (((3446707.799 -1066701.233, 3447...</td>\n",
       "      <td>165.0</td>\n",
       "      <td>1.49</td>\n",
       "      <td>14.91</td>\n",
       "    </tr>\n",
       "    <tr>\n",
       "      <th>53</th>\n",
       "      <td>IN</td>\n",
       "      <td>Indiana</td>\n",
       "      <td>6880131.0</td>\n",
       "      <td>POLYGON ((1362895.418 1306544.785, 1363858.43 ...</td>\n",
       "      <td>101.0</td>\n",
       "      <td>1.47</td>\n",
       "      <td>14.68</td>\n",
       "    </tr>\n",
       "    <tr>\n",
       "      <th>6</th>\n",
       "      <td>MI</td>\n",
       "      <td>Michigan</td>\n",
       "      <td>10083356.0</td>\n",
       "      <td>MULTIPOLYGON (((2735910.388 2820304.362, 27363...</td>\n",
       "      <td>116.0</td>\n",
       "      <td>1.15</td>\n",
       "      <td>11.50</td>\n",
       "    </tr>\n",
       "    <tr>\n",
       "      <th>0</th>\n",
       "      <td>MS</td>\n",
       "      <td>Mississippi</td>\n",
       "      <td>2943172.0</td>\n",
       "      <td>MULTIPOLYGON (((1174302.608 -1491153.928, 1177...</td>\n",
       "      <td>29.0</td>\n",
       "      <td>0.99</td>\n",
       "      <td>9.85</td>\n",
       "    </tr>\n",
       "    <tr>\n",
       "      <th>52</th>\n",
       "      <td>AR</td>\n",
       "      <td>Arkansas</td>\n",
       "      <td>3069463.0</td>\n",
       "      <td>POLYGON ((-561356.152 899942.221, -561302.258 ...</td>\n",
       "      <td>26.0</td>\n",
       "      <td>0.85</td>\n",
       "      <td>8.47</td>\n",
       "    </tr>\n",
       "    <tr>\n",
       "      <th>3</th>\n",
       "      <td>VA</td>\n",
       "      <td>Virginia</td>\n",
       "      <td>8734685.0</td>\n",
       "      <td>MULTIPOLYGON (((4928230.479 1420441.13, 492842...</td>\n",
       "      <td>67.0</td>\n",
       "      <td>0.77</td>\n",
       "      <td>7.67</td>\n",
       "    </tr>\n",
       "    <tr>\n",
       "      <th>15</th>\n",
       "      <td>TX</td>\n",
       "      <td>Texas</td>\n",
       "      <td>30727890.0</td>\n",
       "      <td>MULTIPOLYGON (((-810297.604 -1555242.542, -809...</td>\n",
       "      <td>202.0</td>\n",
       "      <td>0.66</td>\n",
       "      <td>6.57</td>\n",
       "    </tr>\n",
       "    <tr>\n",
       "      <th>33</th>\n",
       "      <td>SC</td>\n",
       "      <td>South Carolina</td>\n",
       "      <td>5387830.0</td>\n",
       "      <td>MULTIPOLYGON (((3959341.172 -412157.421, 39595...</td>\n",
       "      <td>13.0</td>\n",
       "      <td>0.24</td>\n",
       "      <td>2.41</td>\n",
       "    </tr>\n",
       "    <tr>\n",
       "      <th>29</th>\n",
       "      <td>IL</td>\n",
       "      <td>Illinois</td>\n",
       "      <td>12642259.0</td>\n",
       "      <td>POLYGON ((424441.744 2174239.487, 425132.596 2...</td>\n",
       "      <td>30.0</td>\n",
       "      <td>0.24</td>\n",
       "      <td>2.37</td>\n",
       "    </tr>\n",
       "    <tr>\n",
       "      <th>17</th>\n",
       "      <td>AL</td>\n",
       "      <td>Alabama</td>\n",
       "      <td>5117673.0</td>\n",
       "      <td>MULTIPOLYGON (((1319171.74 -1387917.953, 13199...</td>\n",
       "      <td>11.0</td>\n",
       "      <td>0.21</td>\n",
       "      <td>2.15</td>\n",
       "    </tr>\n",
       "    <tr>\n",
       "      <th>5</th>\n",
       "      <td>LA</td>\n",
       "      <td>Louisiana</td>\n",
       "      <td>4588071.0</td>\n",
       "      <td>MULTIPOLYGON (((1054815.393 -1617190.488, 1055...</td>\n",
       "      <td>7.0</td>\n",
       "      <td>0.15</td>\n",
       "      <td>1.53</td>\n",
       "    </tr>\n",
       "    <tr>\n",
       "      <th>20</th>\n",
       "      <td>MO</td>\n",
       "      <td>Missouri</td>\n",
       "      <td>6208038.0</td>\n",
       "      <td>POLYGON ((-751276.026 2411796.542, -749697.693...</td>\n",
       "      <td>3.0</td>\n",
       "      <td>0.05</td>\n",
       "      <td>0.48</td>\n",
       "    </tr>\n",
       "  </tbody>\n",
       "</table>\n",
       "</div>"
      ],
      "text/plain": [
       "   STUSPS            NAME  POPULATION  \\\n",
       "47     KY        Kentucky   4550595.0   \n",
       "4      WV   West Virginia   1770495.0   \n",
       "48     OH            Ohio  11824034.0   \n",
       "23     TN       Tennessee   7148304.0   \n",
       "18     GA         Georgia  11064432.0   \n",
       "53     IN         Indiana   6880131.0   \n",
       "6      MI        Michigan  10083356.0   \n",
       "0      MS     Mississippi   2943172.0   \n",
       "52     AR        Arkansas   3069463.0   \n",
       "3      VA        Virginia   8734685.0   \n",
       "15     TX           Texas  30727890.0   \n",
       "33     SC  South Carolina   5387830.0   \n",
       "29     IL        Illinois  12642259.0   \n",
       "17     AL         Alabama   5117673.0   \n",
       "5      LA       Louisiana   4588071.0   \n",
       "20     MO        Missouri   6208038.0   \n",
       "\n",
       "                                             geometry  COUNT  per_100k  per_1m  \n",
       "47  MULTIPOLYGON (((968007.228 816363.1, 970232.76...  107.0      2.35   23.51  \n",
       "4   POLYGON ((2934150.498 1413209.602, 2934202.45 ...   37.0      2.09   20.90  \n",
       "48  MULTIPOLYGON (((2865718.708 2665958.06, 286619...  196.0      1.66   16.58  \n",
       "23  POLYGON ((677977.337 272663.652, 678190.718 27...  115.0      1.61   16.09  \n",
       "18  MULTIPOLYGON (((3446707.799 -1066701.233, 3447...  165.0      1.49   14.91  \n",
       "53  POLYGON ((1362895.418 1306544.785, 1363858.43 ...  101.0      1.47   14.68  \n",
       "6   MULTIPOLYGON (((2735910.388 2820304.362, 27363...  116.0      1.15   11.50  \n",
       "0   MULTIPOLYGON (((1174302.608 -1491153.928, 1177...   29.0      0.99    9.85  \n",
       "52  POLYGON ((-561356.152 899942.221, -561302.258 ...   26.0      0.85    8.47  \n",
       "3   MULTIPOLYGON (((4928230.479 1420441.13, 492842...   67.0      0.77    7.67  \n",
       "15  MULTIPOLYGON (((-810297.604 -1555242.542, -809...  202.0      0.66    6.57  \n",
       "33  MULTIPOLYGON (((3959341.172 -412157.421, 39595...   13.0      0.24    2.41  \n",
       "29  POLYGON ((424441.744 2174239.487, 425132.596 2...   30.0      0.24    2.37  \n",
       "17  MULTIPOLYGON (((1319171.74 -1387917.953, 13199...   11.0      0.21    2.15  \n",
       "5   MULTIPOLYGON (((1054815.393 -1617190.488, 1055...    7.0      0.15    1.53  \n",
       "20  POLYGON ((-751276.026 2411796.542, -749697.693...    3.0      0.05    0.48  "
      ]
     },
     "execution_count": 108,
     "metadata": {},
     "output_type": "execute_result"
    }
   ],
   "source": [
    "store_count_gdf.sort_values(\"per_1m\", ascending=False)"
   ]
  },
  {
   "cell_type": "code",
   "execution_count": null,
   "id": "611d2061-f3f3-4837-9894-afe1053216ad",
   "metadata": {},
   "outputs": [],
   "source": []
  },
  {
   "cell_type": "code",
   "execution_count": null,
   "id": "22ce3fe4-325e-425b-89c3-86620780e730",
   "metadata": {},
   "outputs": [],
   "source": []
  }
 ],
 "metadata": {
  "kernelspec": {
   "display_name": "Python 3 (ipykernel)",
   "language": "python",
   "name": "python3"
  },
  "language_info": {
   "codemirror_mode": {
    "name": "ipython",
    "version": 3
   },
   "file_extension": ".py",
   "mimetype": "text/x-python",
   "name": "python",
   "nbconvert_exporter": "python",
   "pygments_lexer": "ipython3",
   "version": "3.11.13"
  }
 },
 "nbformat": 4,
 "nbformat_minor": 5
}
