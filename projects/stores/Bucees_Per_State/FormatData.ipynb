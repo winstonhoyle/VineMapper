{
 "cells": [
  {
   "cell_type": "code",
   "execution_count": 90,
   "id": "8eca3131-85dc-48b3-b640-f384104e123c",
   "metadata": {},
   "outputs": [],
   "source": [
    "import json\n",
    "import os"
   ]
  },
  {
   "cell_type": "code",
   "execution_count": 124,
   "id": "bc436e38-234d-44fd-b67b-d1f2974606d3",
   "metadata": {},
   "outputs": [],
   "source": [
    "from bs4 import BeautifulSoup\n",
    "import cloudscraper\n",
    "import geopandas as gpd\n",
    "from geopy.geocoders import Nominatim\n",
    "import pandas as pd\n",
    "import shapely"
   ]
  },
  {
   "cell_type": "code",
   "execution_count": 125,
   "id": "13bbdea5-6ae9-4a3a-937a-12bb704da0f4",
   "metadata": {},
   "outputs": [],
   "source": [
    "from shapely.geometry import Point\n",
    "from tqdm.notebook import tqdm"
   ]
  },
  {
   "cell_type": "markdown",
   "id": "44a3df26-78d3-479c-99a2-c0e1ba91352e",
   "metadata": {},
   "source": [
    "## Get State Data"
   ]
  },
  {
   "cell_type": "code",
   "execution_count": 93,
   "id": "615eeabf-033b-425a-a81f-d7b4dd9e3a3e",
   "metadata": {},
   "outputs": [],
   "source": [
    "file_path = \"data/cb_2018_us_state_500k/cb_2018_us_state_500k.shp\"\n",
    "states_df = gpd.read_file(file_path)"
   ]
  },
  {
   "cell_type": "code",
   "execution_count": 94,
   "id": "502c6bfe-0912-4d37-95b0-47e7a14b468f",
   "metadata": {},
   "outputs": [],
   "source": [
    "states_df = states_df[[\"STUSPS\", \"NAME\", \"geometry\"]]"
   ]
  },
  {
   "cell_type": "markdown",
   "id": "4257620c-13d7-4071-bae2-a5a2aeae5ba7",
   "metadata": {},
   "source": [
    "## Get Population data"
   ]
  },
  {
   "cell_type": "code",
   "execution_count": 95,
   "id": "6c0e7a1d-5a9a-4c10-a5d4-28dc681a8a27",
   "metadata": {},
   "outputs": [],
   "source": [
    "state_populations = pd.read_excel(\n",
    "    \"data/NST-EST2024-POP.xlsx\", sheet_name=None, engine=\"openpyxl\"\n",
    ")"
   ]
  },
  {
   "cell_type": "code",
   "execution_count": 96,
   "id": "2614c2ab-96ec-4304-a287-6fd013fedbbb",
   "metadata": {},
   "outputs": [],
   "source": [
    "state_populations_df = state_populations[\"NST-EST2024-POP\"][\n",
    "    [\n",
    "        \"table with row headers in column A and column headers in rows 3 through 4. (leading dots indicate sub-parts)\",\n",
    "        \"Unnamed: 5\",\n",
    "    ]\n",
    "]\n",
    "state_populations_df = state_populations_df.rename(\n",
    "    columns={\n",
    "        \"table with row headers in column A and column headers in rows 3 through 4. (leading dots indicate sub-parts)\": \"NAME\",\n",
    "        \"Unnamed: 5\": \"POPULATION\",\n",
    "    }\n",
    ")\n",
    "state_populations_df[\"NAME\"] = state_populations_df[\"NAME\"].str[1:]"
   ]
  },
  {
   "cell_type": "code",
   "execution_count": 97,
   "id": "2a1a8b6e-a0bf-486b-b62e-46a23ca718e2",
   "metadata": {},
   "outputs": [],
   "source": [
    "states_with_population_df = states_df.merge(state_populations_df, on=\"NAME\", how=\"left\")\n",
    "states_with_population_df = states_with_population_df[\n",
    "    [\"STUSPS\", \"NAME\", \"POPULATION\", \"geometry\"]\n",
    "]"
   ]
  },
  {
   "cell_type": "markdown",
   "id": "501b478e-6e15-4383-91d2-fb9c9d66add1",
   "metadata": {},
   "source": [
    "## Geocoder"
   ]
  },
  {
   "cell_type": "code",
   "execution_count": 98,
   "id": "eace8839-444e-4105-aabf-027243c3298c",
   "metadata": {},
   "outputs": [],
   "source": [
    "geolocator = Nominatim(user_agent=\"vinemapper_geocoder\")"
   ]
  },
  {
   "cell_type": "markdown",
   "id": "6d2f1ce9-a36c-4292-99a0-ad42032c5ad4",
   "metadata": {},
   "source": [
    "## Get Bucees Data"
   ]
  },
  {
   "cell_type": "code",
   "execution_count": 99,
   "id": "9faa75ce-1dcd-44bc-84f2-6eb1011f9727",
   "metadata": {},
   "outputs": [],
   "source": [
    "scraper = cloudscraper.create_scraper()"
   ]
  },
  {
   "cell_type": "code",
   "execution_count": 100,
   "id": "5e78a909-91d7-471f-adcc-34d00d10b7c4",
   "metadata": {},
   "outputs": [],
   "source": [
    "url = \"https://buc-ees.com/locations/\"\n",
    "r = scraper.get(url)"
   ]
  },
  {
   "cell_type": "code",
   "execution_count": 101,
   "id": "3a70969a-da4f-4bd5-8bb2-e0d01d4fd44c",
   "metadata": {},
   "outputs": [],
   "source": [
    "soup = BeautifulSoup(r.text, \"html.parser\")\n",
    "store_divs = soup.find_all(\"div\", {\"class\": \"bucees-location\"})"
   ]
  },
  {
   "cell_type": "code",
   "execution_count": 111,
   "id": "140c0b4c-97a6-4a78-a834-219a6a8f0ca4",
   "metadata": {},
   "outputs": [
    {
     "data": {
      "application/vnd.jupyter.widget-view+json": {
       "model_id": "4a8dc1a548a24379ae4c8ca2c53900c8",
       "version_major": 2,
       "version_minor": 0
      },
      "text/plain": [
       "Parsing Stores:   0%|          | 0/51 [00:00<?, ?it/s]"
      ]
     },
     "metadata": {},
     "output_type": "display_data"
    },
    {
     "name": "stdout",
     "output_type": "stream",
     "text": [
      "20403 County Rd. 68,Robertsdale, Alabama 36567\n",
      "5201 Nugget Road,Berthoud, CO 80513\n",
      "200 World Commerce Pkwy,Saint Augustine, Florida 32092\n",
      "601 Union Grove Rd. SE,Adairsville, Georgia 30103\n",
      "1013 Buc-ee's Boulevard,Richmond, Kentucky 40475\n",
      "3284 N Beaver Rd,Springfield, Missouri 65803\n",
      "170 Buc-ee’s Blvd,Kodak, Tennessee 37764\n",
      "780 Hwy-35 N Byp,Alvin, Texas 77511\n",
      "9900 East Interstate 40,Amarillo, Texas 79118\n",
      "801 N Brooks,Brazoria, Texas 77422\n",
      "2800 S Interstate 35 E,Denton, Texas 76210\n",
      "505 E Main St,Eagle Lake, Texas 77434\n",
      "1402 South IH- 45,Ennis, Texas 75119\n",
      "4231 E. Hwy 332,Freeport, Texas 77541\n",
      "165 State Highway 77,Hillsboro, Texas 76645\n",
      "101 N Hwy 2004,Lake Jackson, Texas 77566\n",
      "598 Hwy 332,Lake Jackson, Texas 77566\n",
      "10070 West IH 10,Luling, Texas 78648\n",
      "205 IH-45 South,Madisonville, Texas 77864\n",
      "1550 Central Texas Expressway,Melissa, Texas 75454\n",
      "2541 S Main St,Pearland, Texas 77584\n",
      "506 W. IH 20,Terrell, Texas 75160\n",
      "6201 Gulf Fwy (IH 45),Texas City, Texas 77591\n",
      "40900 US Hwy 290 Bypass,Waller, Texas 77484\n",
      "10484 US 59 Road,Wharton, Texas 77488\n"
     ]
    }
   ],
   "source": [
    "stores_dicts = []\n",
    "for store_div in tqdm(store_divs, desc=\"Parsing Stores\"):\n",
    "    try:\n",
    "        address = store_div.find(\"strong\").get_text(separator=\",\").strip()\n",
    "        location = geolocator.geocode(address)\n",
    "        p = Point(*location[-1])\n",
    "        state_code = store_div.find(\"h4\").text.split(\", \")[1].strip()\n",
    "        store_dict = {\"STUSPS\": state_code, \"geometry\": p}\n",
    "        stores_dicts.append(store_dict)\n",
    "    except Exception as e:\n",
    "        print(address)"
   ]
  },
  {
   "cell_type": "markdown",
   "id": "7fa79c33-e009-40cb-abd9-09352e56d18c",
   "metadata": {},
   "source": [
    "#### Manually Add Bucees"
   ]
  },
  {
   "cell_type": "code",
   "execution_count": 140,
   "id": "3e1dec31-df31-4380-80ac-605052987213",
   "metadata": {},
   "outputs": [],
   "source": [
    "for store_dict in stores_dicts:\n",
    "    store_dict[\"geometry\"] = Point(store_dict[\"geometry\"].y, store_dict[\"geometry\"].x)"
   ]
  },
  {
   "cell_type": "code",
   "execution_count": 142,
   "id": "3f8c40ff-4d0f-4a5a-878b-6217f3a8b02e",
   "metadata": {},
   "outputs": [],
   "source": [
    "bucees_added_stores = [\n",
    "    {\"STUSPS\": \"AL\", \"geometry\": Point(-87.676603, 30.634139)},\n",
    "    {\"STUSPS\": \"CO\", \"geometry\": Point(-104.983475, 40.333570)},\n",
    "    {\"STUSPS\": \"FL\", \"geometry\": Point(-81.464112, 29.983560)},\n",
    "    {\"STUSPS\": \"GA\", \"geometry\": Point(-84.917040, 34.440284)},\n",
    "    {\"STUSPS\": \"KY\", \"geometry\": Point(-84.3079444426352, 37.67373894356118)},\n",
    "    {\"STUSPS\": \"MO\", \"geometry\": Point(-93.18206519487988, 37.254000259704426)},\n",
    "    {\"STUSPS\": \"TN\", \"geometry\": Point(-83.6048194795315, 35.98108931962975)},\n",
    "    {\n",
    "        \"STUSPS\": \"TX\",\n",
    "        \"geometry\": Point(\n",
    "            -95.22620368527583,\n",
    "            29.43020320482343,\n",
    "        ),\n",
    "    },\n",
    "    {\"STUSPS\": \"TX\", \"geometry\": Point(-101.7230606029954, 35.190679603560284)},\n",
    "    {\"STUSPS\": \"TX\", \"geometry\": Point(-95.57202854752714, 29.055519738817992)},\n",
    "    {\"STUSPS\": \"TX\", \"geometry\": Point(-97.10261671955992, 33.180736430307284)},\n",
    "    {\"STUSPS\": \"TX\", \"geometry\": Point(-96.33162684583283, 29.58587524461079)},\n",
    "    {\"STUSPS\": \"TX\", \"geometry\": Point(-96.60618997900579, 32.32325808964718)},\n",
    "    {\"STUSPS\": \"TX\", \"geometry\": Point(-95.3367248158416, 28.981127282053727)},\n",
    "    {\"STUSPS\": \"TX\", \"geometry\": Point(-97.09249792352892, 32.04676763777681)},\n",
    "    {\"STUSPS\": \"TX\", \"geometry\": Point(-95.42731628989688, 29.063725839343086)},\n",
    "    {\"STUSPS\": \"TX\", \"geometry\": Point(-95.43678878962275, 29.021594461711235)},\n",
    "    {\n",
    "        \"STUSPS\": \"TX\",\n",
    "        \"geometry\": Point(\n",
    "            -97.59244326097998,\n",
    "            29.651147356335326,\n",
    "        ),\n",
    "    },\n",
    "    {\"STUSPS\": \"TX\", \"geometry\": Point(-95.8800618784126, 30.965351743094768)},\n",
    "    {\"STUSPS\": \"TX\", \"geometry\": Point(-96.59196650492181, 33.27145714673755)},\n",
    "    {\"STUSPS\": \"TX\", \"geometry\": Point(-95.28517747359352, 29.560231359035207)},\n",
    "    {\"STUSPS\": \"TX\", \"geometry\": Point(-96.32107210037005, 32.71661804306466)},\n",
    "    {\"STUSPS\": \"TX\", \"geometry\": Point(-95.06337319005782, 29.428478230034607)},\n",
    "    {\"STUSPS\": \"TX\", \"geometry\": Point(-95.93185082940926, 30.07151056527443)},\n",
    "    {\"STUSPS\": \"TX\", \"geometry\": Point(-96.12354283881716, 29.325634226366244)},\n",
    "]"
   ]
  },
  {
   "cell_type": "code",
   "execution_count": 147,
   "id": "edebe762-0e0a-45bd-a8a1-2f7593520c91",
   "metadata": {},
   "outputs": [],
   "source": [
    "bucees_stores_gdf = gpd.GeoDataFrame([*stores_dicts, *bucees_added_stores], crs=4326)"
   ]
  },
  {
   "cell_type": "code",
   "execution_count": 148,
   "id": "9a128988-170d-433c-8b71-a5a28938d553",
   "metadata": {},
   "outputs": [],
   "source": [
    "bucees_stores_gdf.to_file(\"data/bucees_locations.gpkg\")"
   ]
  },
  {
   "cell_type": "code",
   "execution_count": 157,
   "id": "c439c79a-34ce-4078-87fe-6f0fe27732f5",
   "metadata": {},
   "outputs": [],
   "source": [
    "bucees_counts_df = (\n",
    "    pd.DataFrame(bucees_stores_gdf.groupby(\"STUSPS\").size())\n",
    "    .reset_index()\n",
    "    .rename(columns={0: \"stores\"})\n",
    ")"
   ]
  },
  {
   "cell_type": "markdown",
   "id": "94cb32a2-faf0-40fa-8616-e8f2275eca72",
   "metadata": {},
   "source": [
    "## Combine With States"
   ]
  },
  {
   "cell_type": "code",
   "execution_count": 158,
   "id": "c062806b-5f76-4d7e-a226-31383a266b6a",
   "metadata": {},
   "outputs": [],
   "source": [
    "bucees_counts_gdf = states_with_population_df.merge(\n",
    "    bucees_counts_df, on=\"STUSPS\", how=\"left\"\n",
    ")"
   ]
  },
  {
   "cell_type": "code",
   "execution_count": 159,
   "id": "300ee45e-48b8-48f6-9a3a-efd4904a5efe",
   "metadata": {},
   "outputs": [],
   "source": [
    "bucees_counts_gdf = bucees_counts_gdf.fillna(0)\n",
    "bucees_counts_gdf[\"stores\"] = bucees_counts_gdf[\"stores\"].astype(int)"
   ]
  },
  {
   "cell_type": "code",
   "execution_count": 160,
   "id": "8e8b581c-4e0c-40b8-81a9-4ea014470b40",
   "metadata": {},
   "outputs": [],
   "source": [
    "bucees_counts_gdf[\"per_1000\"] = bucees_counts_gdf[\"stores\"] / (\n",
    "    bucees_counts_gdf[\"POPULATION\"] / 1000\n",
    ")\n",
    "bucees_counts_gdf[\"per_10k\"] = bucees_counts_gdf[\"stores\"] / (\n",
    "    bucees_counts_gdf[\"POPULATION\"] / 10_000\n",
    ")\n",
    "bucees_counts_gdf[\"per_100k\"] = bucees_counts_gdf[\"stores\"] / (\n",
    "    bucees_counts_gdf[\"POPULATION\"] / 100000\n",
    ")\n",
    "bucees_counts_gdf[\"per_500k\"] = bucees_counts_gdf[\"stores\"] / (\n",
    "    bucees_counts_gdf[\"POPULATION\"] / 500_000\n",
    ")\n",
    "bucees_counts_gdf[\"per_1m\"] = bucees_counts_gdf[\"stores\"] / (\n",
    "    bucees_counts_gdf[\"POPULATION\"] / 1_000_000\n",
    ")"
   ]
  },
  {
   "cell_type": "code",
   "execution_count": 161,
   "id": "237a0e6a-ccc2-4f3b-baad-d36ce4ecc481",
   "metadata": {},
   "outputs": [],
   "source": [
    "bucees_counts_gdf = bucees_counts_gdf.fillna(0)"
   ]
  },
  {
   "cell_type": "code",
   "execution_count": 162,
   "id": "944acfaa-313b-4a9f-aecc-53fe95e188be",
   "metadata": {},
   "outputs": [],
   "source": [
    "bucees_counts_gdf = bucees_counts_gdf.to_crs(9311)\n",
    "bucees_counts_gdf.to_file(f\"data/bucees_per_states.gpkg\")"
   ]
  },
  {
   "cell_type": "code",
   "execution_count": null,
   "id": "3eba1b99-001c-4de4-9fe1-1a06ea51e118",
   "metadata": {},
   "outputs": [],
   "source": []
  }
 ],
 "metadata": {
  "kernelspec": {
   "display_name": "Python 3 (ipykernel)",
   "language": "python",
   "name": "python3"
  },
  "language_info": {
   "codemirror_mode": {
    "name": "ipython",
    "version": 3
   },
   "file_extension": ".py",
   "mimetype": "text/x-python",
   "name": "python",
   "nbconvert_exporter": "python",
   "pygments_lexer": "ipython3",
   "version": "3.11.11"
  }
 },
 "nbformat": 4,
 "nbformat_minor": 5
}
