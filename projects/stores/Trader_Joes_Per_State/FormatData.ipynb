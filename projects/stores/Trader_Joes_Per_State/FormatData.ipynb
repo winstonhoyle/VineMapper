{
 "cells": [
  {
   "cell_type": "code",
   "execution_count": 1,
   "id": "8eca3131-85dc-48b3-b640-f384104e123c",
   "metadata": {},
   "outputs": [],
   "source": [
    "import os"
   ]
  },
  {
   "cell_type": "code",
   "execution_count": 2,
   "id": "bc436e38-234d-44fd-b67b-d1f2974606d3",
   "metadata": {},
   "outputs": [],
   "source": [
    "from bs4 import BeautifulSoup\n",
    "import cloudscraper\n",
    "import geopandas as gpd\n",
    "import pandas as pd"
   ]
  },
  {
   "cell_type": "code",
   "execution_count": 3,
   "id": "13bbdea5-6ae9-4a3a-937a-12bb704da0f4",
   "metadata": {},
   "outputs": [],
   "source": [
    "from shapely.geometry import Point\n",
    "from tqdm.notebook import tqdm"
   ]
  },
  {
   "cell_type": "markdown",
   "id": "44a3df26-78d3-479c-99a2-c0e1ba91352e",
   "metadata": {},
   "source": [
    "## Get State Data"
   ]
  },
  {
   "cell_type": "code",
   "execution_count": 4,
   "id": "615eeabf-033b-425a-a81f-d7b4dd9e3a3e",
   "metadata": {},
   "outputs": [],
   "source": [
    "file_path = \"data/cb_2018_us_state_500k/cb_2018_us_state_500k.shp\"\n",
    "states_df = gpd.read_file(file_path)"
   ]
  },
  {
   "cell_type": "code",
   "execution_count": 5,
   "id": "502c6bfe-0912-4d37-95b0-47e7a14b468f",
   "metadata": {},
   "outputs": [],
   "source": [
    "states_df = states_df[[\"STUSPS\", \"NAME\", \"geometry\"]]"
   ]
  },
  {
   "cell_type": "markdown",
   "id": "4257620c-13d7-4071-bae2-a5a2aeae5ba7",
   "metadata": {},
   "source": [
    "## Get Population data"
   ]
  },
  {
   "cell_type": "code",
   "execution_count": 6,
   "id": "6c0e7a1d-5a9a-4c10-a5d4-28dc681a8a27",
   "metadata": {},
   "outputs": [],
   "source": [
    "state_populations = pd.read_excel(\n",
    "    \"data/NST-EST2024-POP.xlsx\", sheet_name=None, engine=\"openpyxl\"\n",
    ")"
   ]
  },
  {
   "cell_type": "code",
   "execution_count": 7,
   "id": "2614c2ab-96ec-4304-a287-6fd013fedbbb",
   "metadata": {},
   "outputs": [],
   "source": [
    "state_populations_df = state_populations[\"NST-EST2024-POP\"][\n",
    "    [\n",
    "        \"table with row headers in column A and column headers in rows 3 through 4. (leading dots indicate sub-parts)\",\n",
    "        \"Unnamed: 5\",\n",
    "    ]\n",
    "]\n",
    "state_populations_df = state_populations_df.rename(\n",
    "    columns={\n",
    "        \"table with row headers in column A and column headers in rows 3 through 4. (leading dots indicate sub-parts)\": \"NAME\",\n",
    "        \"Unnamed: 5\": \"POPULATION\",\n",
    "    }\n",
    ")\n",
    "state_populations_df[\"NAME\"] = state_populations_df[\"NAME\"].str[1:]"
   ]
  },
  {
   "cell_type": "code",
   "execution_count": 8,
   "id": "2a1a8b6e-a0bf-486b-b62e-46a23ca718e2",
   "metadata": {},
   "outputs": [],
   "source": [
    "states_with_population_df = states_df.merge(state_populations_df, on=\"NAME\", how=\"left\")\n",
    "states_with_population_df = states_with_population_df[\n",
    "    [\"STUSPS\", \"NAME\", \"POPULATION\", \"geometry\"]\n",
    "]"
   ]
  },
  {
   "cell_type": "markdown",
   "id": "6d2f1ce9-a36c-4292-99a0-ad42032c5ad4",
   "metadata": {},
   "source": [
    "## Get Trader Joes Data"
   ]
  },
  {
   "cell_type": "code",
   "execution_count": 9,
   "id": "9faa75ce-1dcd-44bc-84f2-6eb1011f9727",
   "metadata": {},
   "outputs": [],
   "source": [
    "scraper = cloudscraper.create_scraper()"
   ]
  },
  {
   "cell_type": "code",
   "execution_count": 10,
   "id": "57180847-49ee-46cc-9612-bfebcd53bed2",
   "metadata": {},
   "outputs": [
    {
     "data": {
      "application/vnd.jupyter.widget-view+json": {
       "model_id": "e2fe39e4b0c04948ac102efc40bf0efb",
       "version_major": 2,
       "version_minor": 0
      },
      "text/plain": [
       "Parsing States:   0%|          | 0/56 [00:00<?, ?it/s]"
      ]
     },
     "metadata": {},
     "output_type": "display_data"
    },
    {
     "data": {
      "application/vnd.jupyter.widget-view+json": {
       "model_id": "a5836c0ae73c4165ae183df3104a0b60",
       "version_major": 2,
       "version_minor": 0
      },
      "text/plain": [
       "Parsing Locations In MS: 0it [00:00, ?it/s]"
      ]
     },
     "metadata": {},
     "output_type": "display_data"
    },
    {
     "data": {
      "application/vnd.jupyter.widget-view+json": {
       "model_id": "baeb10511387452aa4f05f91913bbfda",
       "version_major": 2,
       "version_minor": 0
      },
      "text/plain": [
       "Parsing Locations In NC:   0%|          | 0/10 [00:00<?, ?it/s]"
      ]
     },
     "metadata": {},
     "output_type": "display_data"
    },
    {
     "data": {
      "application/vnd.jupyter.widget-view+json": {
       "model_id": "a91e9754a77b497186b8cba47c8884a3",
       "version_major": 2,
       "version_minor": 0
      },
      "text/plain": [
       "Parsing Locations In OK:   0%|          | 0/2 [00:00<?, ?it/s]"
      ]
     },
     "metadata": {},
     "output_type": "display_data"
    },
    {
     "data": {
      "application/vnd.jupyter.widget-view+json": {
       "model_id": "4aee9faaa94f4807a756e2a40ec88b73",
       "version_major": 2,
       "version_minor": 0
      },
      "text/plain": [
       "Parsing Locations In VA:   0%|          | 0/17 [00:00<?, ?it/s]"
      ]
     },
     "metadata": {},
     "output_type": "display_data"
    },
    {
     "data": {
      "application/vnd.jupyter.widget-view+json": {
       "model_id": "fa8e6fb21a474d06a48e79f26ff4481f",
       "version_major": 2,
       "version_minor": 0
      },
      "text/plain": [
       "Parsing Locations In WV: 0it [00:00, ?it/s]"
      ]
     },
     "metadata": {},
     "output_type": "display_data"
    },
    {
     "data": {
      "application/vnd.jupyter.widget-view+json": {
       "model_id": "8bf588af76de467ebe8c2cfbdc98b757",
       "version_major": 2,
       "version_minor": 0
      },
      "text/plain": [
       "Parsing Locations In LA:   0%|          | 0/2 [00:00<?, ?it/s]"
      ]
     },
     "metadata": {},
     "output_type": "display_data"
    },
    {
     "data": {
      "application/vnd.jupyter.widget-view+json": {
       "model_id": "b3624145baa94e93bdc9933412dda3cd",
       "version_major": 2,
       "version_minor": 0
      },
      "text/plain": [
       "Parsing Locations In MI:   0%|          | 0/9 [00:00<?, ?it/s]"
      ]
     },
     "metadata": {},
     "output_type": "display_data"
    },
    {
     "data": {
      "application/vnd.jupyter.widget-view+json": {
       "model_id": "50461136f2a84b2bb2945c0b65ca955d",
       "version_major": 2,
       "version_minor": 0
      },
      "text/plain": [
       "Parsing Locations In MA:   0%|          | 0/20 [00:00<?, ?it/s]"
      ]
     },
     "metadata": {},
     "output_type": "display_data"
    },
    {
     "data": {
      "application/vnd.jupyter.widget-view+json": {
       "model_id": "74e19ed5ecd64f3e912262af8baf500f",
       "version_major": 2,
       "version_minor": 0
      },
      "text/plain": [
       "Parsing Locations In ID:   0%|          | 0/3 [00:00<?, ?it/s]"
      ]
     },
     "metadata": {},
     "output_type": "display_data"
    },
    {
     "data": {
      "application/vnd.jupyter.widget-view+json": {
       "model_id": "fa8015ad7ab3459098a1cb971c94bd1b",
       "version_major": 2,
       "version_minor": 0
      },
      "text/plain": [
       "Parsing Locations In FL:   0%|          | 0/24 [00:00<?, ?it/s]"
      ]
     },
     "metadata": {},
     "output_type": "display_data"
    },
    {
     "data": {
      "application/vnd.jupyter.widget-view+json": {
       "model_id": "a39df321d61e4afa9f49264bfbf2bdfe",
       "version_major": 2,
       "version_minor": 0
      },
      "text/plain": [
       "Parsing Locations In NE:   0%|          | 0/2 [00:00<?, ?it/s]"
      ]
     },
     "metadata": {},
     "output_type": "display_data"
    },
    {
     "data": {
      "application/vnd.jupyter.widget-view+json": {
       "model_id": "b0345c87ac9c467181af3178e0030cb9",
       "version_major": 2,
       "version_minor": 0
      },
      "text/plain": [
       "Parsing Locations In WA:   0%|          | 0/18 [00:00<?, ?it/s]"
      ]
     },
     "metadata": {},
     "output_type": "display_data"
    },
    {
     "data": {
      "application/vnd.jupyter.widget-view+json": {
       "model_id": "6616a123b07e47d4a8dd4ae90cdc60c8",
       "version_major": 2,
       "version_minor": 0
      },
      "text/plain": [
       "Parsing Locations In NM:   0%|          | 0/2 [00:00<?, ?it/s]"
      ]
     },
     "metadata": {},
     "output_type": "display_data"
    },
    {
     "data": {
      "application/vnd.jupyter.widget-view+json": {
       "model_id": "84b42b57a662482e80e3f8d2f81f8db1",
       "version_major": 2,
       "version_minor": 0
      },
      "text/plain": [
       "Parsing Locations In PR: 0it [00:00, ?it/s]"
      ]
     },
     "metadata": {},
     "output_type": "display_data"
    },
    {
     "data": {
      "application/vnd.jupyter.widget-view+json": {
       "model_id": "d098a46f5e7b4c148b54133bd6bbd4e5",
       "version_major": 2,
       "version_minor": 0
      },
      "text/plain": [
       "Parsing Locations In SD: 0it [00:00, ?it/s]"
      ]
     },
     "metadata": {},
     "output_type": "display_data"
    },
    {
     "data": {
      "application/vnd.jupyter.widget-view+json": {
       "model_id": "f312d32e950040969a11722c05686fd4",
       "version_major": 2,
       "version_minor": 0
      },
      "text/plain": [
       "Parsing Locations In TX:   0%|          | 0/12 [00:00<?, ?it/s]"
      ]
     },
     "metadata": {},
     "output_type": "display_data"
    },
    {
     "data": {
      "application/vnd.jupyter.widget-view+json": {
       "model_id": "18ef349442c545f7a1163caffad5cd6c",
       "version_major": 2,
       "version_minor": 0
      },
      "text/plain": [
       "Parsing Locations In CA:   0%|          | 0/149 [00:00<?, ?it/s]"
      ]
     },
     "metadata": {},
     "output_type": "display_data"
    },
    {
     "data": {
      "application/vnd.jupyter.widget-view+json": {
       "model_id": "a7e1a06ca1e94f3aa06020a72dcd1f05",
       "version_major": 2,
       "version_minor": 0
      },
      "text/plain": [
       "Parsing Locations In AL:   0%|          | 0/3 [00:00<?, ?it/s]"
      ]
     },
     "metadata": {},
     "output_type": "display_data"
    },
    {
     "data": {
      "application/vnd.jupyter.widget-view+json": {
       "model_id": "891bb5e0609d443084b49aa7d9214634",
       "version_major": 2,
       "version_minor": 0
      },
      "text/plain": [
       "Parsing Locations In GA:   0%|          | 0/7 [00:00<?, ?it/s]"
      ]
     },
     "metadata": {},
     "output_type": "display_data"
    },
    {
     "data": {
      "application/vnd.jupyter.widget-view+json": {
       "model_id": "0cb20460e32946748077ab2252da61b0",
       "version_major": 2,
       "version_minor": 0
      },
      "text/plain": [
       "Parsing Locations In PA:   0%|          | 0/11 [00:00<?, ?it/s]"
      ]
     },
     "metadata": {},
     "output_type": "display_data"
    },
    {
     "data": {
      "application/vnd.jupyter.widget-view+json": {
       "model_id": "4bbed4bc4756489cbc0a4e9ab5eac564",
       "version_major": 2,
       "version_minor": 0
      },
      "text/plain": [
       "Parsing Locations In MO:   0%|          | 0/5 [00:00<?, ?it/s]"
      ]
     },
     "metadata": {},
     "output_type": "display_data"
    },
    {
     "data": {
      "application/vnd.jupyter.widget-view+json": {
       "model_id": "5efa939bae2347b5a517b1820efc5861",
       "version_major": 2,
       "version_minor": 0
      },
      "text/plain": [
       "Parsing Locations In CO:   0%|          | 0/7 [00:00<?, ?it/s]"
      ]
     },
     "metadata": {},
     "output_type": "display_data"
    },
    {
     "data": {
      "application/vnd.jupyter.widget-view+json": {
       "model_id": "b9f0f2cad4334f488105db3970cc7c36",
       "version_major": 2,
       "version_minor": 0
      },
      "text/plain": [
       "Parsing Locations In UT:   0%|          | 0/4 [00:00<?, ?it/s]"
      ]
     },
     "metadata": {},
     "output_type": "display_data"
    },
    {
     "data": {
      "application/vnd.jupyter.widget-view+json": {
       "model_id": "83ca9e2d79ca48d2aa7b756c1e326815",
       "version_major": 2,
       "version_minor": 0
      },
      "text/plain": [
       "Parsing Locations In TN:   0%|          | 0/6 [00:00<?, ?it/s]"
      ]
     },
     "metadata": {},
     "output_type": "display_data"
    },
    {
     "data": {
      "application/vnd.jupyter.widget-view+json": {
       "model_id": "f3ed437d6b0b48338fd58fb4cb07086e",
       "version_major": 2,
       "version_minor": 0
      },
      "text/plain": [
       "Parsing Locations In WY: 0it [00:00, ?it/s]"
      ]
     },
     "metadata": {},
     "output_type": "display_data"
    },
    {
     "data": {
      "application/vnd.jupyter.widget-view+json": {
       "model_id": "1deb2bf57e6b4b358c8396288bb17c5a",
       "version_major": 2,
       "version_minor": 0
      },
      "text/plain": [
       "Parsing Locations In NY:   0%|          | 0/21 [00:00<?, ?it/s]"
      ]
     },
     "metadata": {},
     "output_type": "display_data"
    },
    {
     "data": {
      "application/vnd.jupyter.widget-view+json": {
       "model_id": "0b0daf4d676b45388a89661950f3af50",
       "version_major": 2,
       "version_minor": 0
      },
      "text/plain": [
       "Parsing Locations In KS:   0%|          | 0/2 [00:00<?, ?it/s]"
      ]
     },
     "metadata": {},
     "output_type": "display_data"
    },
    {
     "data": {
      "application/vnd.jupyter.widget-view+json": {
       "model_id": "1473bef419de46c695e3f76198fc1a27",
       "version_major": 2,
       "version_minor": 0
      },
      "text/plain": [
       "Parsing Locations In AK: 0it [00:00, ?it/s]"
      ]
     },
     "metadata": {},
     "output_type": "display_data"
    },
    {
     "data": {
      "application/vnd.jupyter.widget-view+json": {
       "model_id": "6c6f3a112d404b82be8df9d6ba889081",
       "version_major": 2,
       "version_minor": 0
      },
      "text/plain": [
       "Parsing Locations In NV:   0%|          | 0/5 [00:00<?, ?it/s]"
      ]
     },
     "metadata": {},
     "output_type": "display_data"
    },
    {
     "data": {
      "application/vnd.jupyter.widget-view+json": {
       "model_id": "9401d3bdfc58436c8f30b92bf1de6fbb",
       "version_major": 2,
       "version_minor": 0
      },
      "text/plain": [
       "Parsing Locations In IL:   0%|          | 0/17 [00:00<?, ?it/s]"
      ]
     },
     "metadata": {},
     "output_type": "display_data"
    },
    {
     "data": {
      "application/vnd.jupyter.widget-view+json": {
       "model_id": "7c148970a61244f98edf200a50b3f9b7",
       "version_major": 2,
       "version_minor": 0
      },
      "text/plain": [
       "Parsing Locations In VT:   0%|          | 0/1 [00:00<?, ?it/s]"
      ]
     },
     "metadata": {},
     "output_type": "display_data"
    },
    {
     "data": {
      "application/vnd.jupyter.widget-view+json": {
       "model_id": "567d23fe89bc4fdeb3ce8228896d4790",
       "version_major": 2,
       "version_minor": 0
      },
      "text/plain": [
       "Parsing Locations In MT: 0it [00:00, ?it/s]"
      ]
     },
     "metadata": {},
     "output_type": "display_data"
    },
    {
     "data": {
      "application/vnd.jupyter.widget-view+json": {
       "model_id": "131dcaa24d46458b910620b6e5f935d3",
       "version_major": 2,
       "version_minor": 0
      },
      "text/plain": [
       "Parsing Locations In IA:   0%|          | 0/2 [00:00<?, ?it/s]"
      ]
     },
     "metadata": {},
     "output_type": "display_data"
    },
    {
     "data": {
      "application/vnd.jupyter.widget-view+json": {
       "model_id": "2b451fd487614bf886da2a1155d8a1e2",
       "version_major": 2,
       "version_minor": 0
      },
      "text/plain": [
       "Parsing Locations In SC:   0%|          | 0/3 [00:00<?, ?it/s]"
      ]
     },
     "metadata": {},
     "output_type": "display_data"
    },
    {
     "data": {
      "application/vnd.jupyter.widget-view+json": {
       "model_id": "99e6ba0261914b8ebeb11b3317a2df48",
       "version_major": 2,
       "version_minor": 0
      },
      "text/plain": [
       "Parsing Locations In NH:   0%|          | 0/3 [00:00<?, ?it/s]"
      ]
     },
     "metadata": {},
     "output_type": "display_data"
    },
    {
     "data": {
      "application/vnd.jupyter.widget-view+json": {
       "model_id": "cc10201aebdc491fab3cf6fca87a166e",
       "version_major": 2,
       "version_minor": 0
      },
      "text/plain": [
       "Parsing Locations In AZ:   0%|          | 0/12 [00:00<?, ?it/s]"
      ]
     },
     "metadata": {},
     "output_type": "display_data"
    },
    {
     "data": {
      "application/vnd.jupyter.widget-view+json": {
       "model_id": "0b938888cad640b88a027ac96c7329d9",
       "version_major": 2,
       "version_minor": 0
      },
      "text/plain": [
       "Parsing Locations In DC:   0%|          | 0/1 [00:00<?, ?it/s]"
      ]
     },
     "metadata": {},
     "output_type": "display_data"
    },
    {
     "data": {
      "application/vnd.jupyter.widget-view+json": {
       "model_id": "b47e94ac62ea45bf8481319b19fa451e",
       "version_major": 2,
       "version_minor": 0
      },
      "text/plain": [
       "Parsing Locations In AS: 0it [00:00, ?it/s]"
      ]
     },
     "metadata": {},
     "output_type": "display_data"
    },
    {
     "data": {
      "application/vnd.jupyter.widget-view+json": {
       "model_id": "0eb70aedb859485483dedb20ebd7a9b1",
       "version_major": 2,
       "version_minor": 0
      },
      "text/plain": [
       "Parsing Locations In VI: 0it [00:00, ?it/s]"
      ]
     },
     "metadata": {},
     "output_type": "display_data"
    },
    {
     "data": {
      "application/vnd.jupyter.widget-view+json": {
       "model_id": "5e1fa036ce9c44a0a37d0524c6247d90",
       "version_major": 2,
       "version_minor": 0
      },
      "text/plain": [
       "Parsing Locations In NJ:   0%|          | 0/19 [00:00<?, ?it/s]"
      ]
     },
     "metadata": {},
     "output_type": "display_data"
    },
    {
     "data": {
      "application/vnd.jupyter.widget-view+json": {
       "model_id": "0c6faf1d34714df9949483c4ac13fcf6",
       "version_major": 2,
       "version_minor": 0
      },
      "text/plain": [
       "Parsing Locations In MD:   0%|          | 0/8 [00:00<?, ?it/s]"
      ]
     },
     "metadata": {},
     "output_type": "display_data"
    },
    {
     "data": {
      "application/vnd.jupyter.widget-view+json": {
       "model_id": "b0826d4b39304dde84aff2f207a20621",
       "version_major": 2,
       "version_minor": 0
      },
      "text/plain": [
       "Parsing Locations In ME:   0%|          | 0/1 [00:00<?, ?it/s]"
      ]
     },
     "metadata": {},
     "output_type": "display_data"
    },
    {
     "data": {
      "application/vnd.jupyter.widget-view+json": {
       "model_id": "f4032cf9b6b747c2bc12744e0ddb2e99",
       "version_major": 2,
       "version_minor": 0
      },
      "text/plain": [
       "Parsing Locations In HI: 0it [00:00, ?it/s]"
      ]
     },
     "metadata": {},
     "output_type": "display_data"
    },
    {
     "data": {
      "application/vnd.jupyter.widget-view+json": {
       "model_id": "a16b5c34260c4abeb626a7455b79bd13",
       "version_major": 2,
       "version_minor": 0
      },
      "text/plain": [
       "Parsing Locations In DE:   0%|          | 0/2 [00:00<?, ?it/s]"
      ]
     },
     "metadata": {},
     "output_type": "display_data"
    },
    {
     "data": {
      "application/vnd.jupyter.widget-view+json": {
       "model_id": "1c2c4decc8a44d5fb66ab9275659eb66",
       "version_major": 2,
       "version_minor": 0
      },
      "text/plain": [
       "Parsing Locations In GU: 0it [00:00, ?it/s]"
      ]
     },
     "metadata": {},
     "output_type": "display_data"
    },
    {
     "data": {
      "application/vnd.jupyter.widget-view+json": {
       "model_id": "4723a5a9096a4ce5a43990367be10141",
       "version_major": 2,
       "version_minor": 0
      },
      "text/plain": [
       "Parsing Locations In MP: 0it [00:00, ?it/s]"
      ]
     },
     "metadata": {},
     "output_type": "display_data"
    },
    {
     "data": {
      "application/vnd.jupyter.widget-view+json": {
       "model_id": "e5495915b60d4b0cb919d790305288e5",
       "version_major": 2,
       "version_minor": 0
      },
      "text/plain": [
       "Parsing Locations In RI:   0%|          | 0/2 [00:00<?, ?it/s]"
      ]
     },
     "metadata": {},
     "output_type": "display_data"
    },
    {
     "data": {
      "application/vnd.jupyter.widget-view+json": {
       "model_id": "d877b2e38c4141b5b19791ab2cec95c0",
       "version_major": 2,
       "version_minor": 0
      },
      "text/plain": [
       "Parsing Locations In KY:   0%|          | 0/3 [00:00<?, ?it/s]"
      ]
     },
     "metadata": {},
     "output_type": "display_data"
    },
    {
     "data": {
      "application/vnd.jupyter.widget-view+json": {
       "model_id": "4e652e9f609544608378345f9eb3de83",
       "version_major": 2,
       "version_minor": 0
      },
      "text/plain": [
       "Parsing Locations In OH:   0%|          | 0/7 [00:00<?, ?it/s]"
      ]
     },
     "metadata": {},
     "output_type": "display_data"
    },
    {
     "data": {
      "application/vnd.jupyter.widget-view+json": {
       "model_id": "e861506bd5684c8da48d2ec64e49d133",
       "version_major": 2,
       "version_minor": 0
      },
      "text/plain": [
       "Parsing Locations In WI:   0%|          | 0/3 [00:00<?, ?it/s]"
      ]
     },
     "metadata": {},
     "output_type": "display_data"
    },
    {
     "data": {
      "application/vnd.jupyter.widget-view+json": {
       "model_id": "80efe4de67f9437f81e0861f208f6db5",
       "version_major": 2,
       "version_minor": 0
      },
      "text/plain": [
       "Parsing Locations In OR:   0%|          | 0/12 [00:00<?, ?it/s]"
      ]
     },
     "metadata": {},
     "output_type": "display_data"
    },
    {
     "data": {
      "application/vnd.jupyter.widget-view+json": {
       "model_id": "1fc3e425e4ff455b934ca272afb06f86",
       "version_major": 2,
       "version_minor": 0
      },
      "text/plain": [
       "Parsing Locations In ND: 0it [00:00, ?it/s]"
      ]
     },
     "metadata": {},
     "output_type": "display_data"
    },
    {
     "data": {
      "application/vnd.jupyter.widget-view+json": {
       "model_id": "2a36b68fc73549e0b89c832852e6aaaa",
       "version_major": 2,
       "version_minor": 0
      },
      "text/plain": [
       "Parsing Locations In AR:   0%|          | 0/1 [00:00<?, ?it/s]"
      ]
     },
     "metadata": {},
     "output_type": "display_data"
    },
    {
     "data": {
      "application/vnd.jupyter.widget-view+json": {
       "model_id": "640f166961964630a25f51c0a404a9c4",
       "version_major": 2,
       "version_minor": 0
      },
      "text/plain": [
       "Parsing Locations In IN:   0%|          | 0/3 [00:00<?, ?it/s]"
      ]
     },
     "metadata": {},
     "output_type": "display_data"
    },
    {
     "data": {
      "application/vnd.jupyter.widget-view+json": {
       "model_id": "4f37775cd5e44b63b457097d7d3f3122",
       "version_major": 2,
       "version_minor": 0
      },
      "text/plain": [
       "Parsing Locations In MN:   0%|          | 0/10 [00:00<?, ?it/s]"
      ]
     },
     "metadata": {},
     "output_type": "display_data"
    },
    {
     "data": {
      "application/vnd.jupyter.widget-view+json": {
       "model_id": "c74500e0d8a44dafb6d24db705d4cec1",
       "version_major": 2,
       "version_minor": 0
      },
      "text/plain": [
       "Parsing Locations In CT:   0%|          | 0/9 [00:00<?, ?it/s]"
      ]
     },
     "metadata": {},
     "output_type": "display_data"
    }
   ],
   "source": [
    "store_list = []\n",
    "url_base = \"https://locations.traderjoes.com/\"\n",
    "for i in tqdm(range(len(states_df)), desc=\"Parsing States\"):\n",
    "    # Get State code\n",
    "    state_store_list = []\n",
    "    state_code = states_df.iloc[i][\"STUSPS\"]\n",
    "\n",
    "    # If File exists continue\n",
    "    if os.path.isfile(f\"data/states/{state_code}.gpkg\"):\n",
    "        continue\n",
    "\n",
    "    # Get all locations in a state\n",
    "    url = os.path.join(url_base, state_code)\n",
    "    r = scraper.get(url)\n",
    "\n",
    "    if r.status_code != 200:\n",
    "        print(states_df.iloc[i][\"NAME\"])\n",
    "        continue\n",
    "\n",
    "    soup = BeautifulSoup(r.text, \"html.parser\")\n",
    "    locations_as = soup.find_all(\"a\", {\"data-gaact\": \"Click_to_CityPage\"})\n",
    "\n",
    "    # Parse all locations in a state\n",
    "    for locations_a in tqdm(locations_as, desc=f\"Parsing Locations In {state_code}\"):\n",
    "        href = locations_a.attrs[\"href\"]\n",
    "        location_url = url_base + href\n",
    "        r_location = scraper.get(location_url)\n",
    "        if r_location.status_code != 200:\n",
    "            print(location_paramters)\n",
    "            continue\n",
    "\n",
    "        ################ HERE\n",
    "        location_soup = BeautifulSoup(r_location.text, \"html.parser\")\n",
    "        location_cards = location_soup.find_all(\"a\", {\"class\": \"ga_w2gi_lp directions\"})\n",
    "\n",
    "        # Multiple stores in locations, parse the stores per location\n",
    "        for location_card in location_cards:\n",
    "            store_param = location_card.attrs[\"href\"]\n",
    "\n",
    "            # Get store lat,long\n",
    "            store_url = url_base + store_param\n",
    "            r_store = scraper.get(store_url)\n",
    "            if r_store.status_code != 200:\n",
    "                print(store_id)\n",
    "                continue\n",
    "\n",
    "            # Output to dict then append to list\n",
    "            store_soup = BeautifulSoup(r_store.text, \"html.parser\")\n",
    "            lat_meta = store_soup.find(\"meta\", {\"property\": \"place:location:latitude\"})\n",
    "            lat = float(lat_meta.attrs[\"content\"])\n",
    "            lon_meta = store_soup.find(\"meta\", {\"property\": \"place:location:longitude\"})\n",
    "            lon = float(lon_meta.attrs[\"content\"])\n",
    "            store_dict = {\n",
    "                \"STATE\": state_code,\n",
    "                \"geometry\": Point(lon, lat),\n",
    "            }\n",
    "            store_list.append(store_dict)\n",
    "            state_store_list.append(store_dict)\n",
    "\n",
    "    if state_store_list:\n",
    "        state_trader_joes_gdf = gpd.GeoDataFrame(state_store_list, crs=4326)\n",
    "        state_trader_joes_gdf.to_file(f\"data/states/{state_code}.gpkg\")"
   ]
  },
  {
   "cell_type": "markdown",
   "id": "f2e1d560-e60f-4655-9502-3ba103884809",
   "metadata": {},
   "source": [
    "#### If the above cells breaks just keep running until complete. Then run the line below"
   ]
  },
  {
   "cell_type": "code",
   "execution_count": 11,
   "id": "48487d99-9fc6-4650-9192-c142c5d86cc3",
   "metadata": {},
   "outputs": [],
   "source": [
    "trader_joes_gdfs = []\n",
    "states_path = \"data/states\"\n",
    "for file in os.listdir(\"data/states\"):\n",
    "    constructed_path = os.path.join(states_path, file)\n",
    "    if constructed_path.endswith(\".gpkg\"):\n",
    "        state_trader_joes_gdf = gpd.read_file(constructed_path)\n",
    "        trader_joes_gdfs.append(state_trader_joes_gdf)"
   ]
  },
  {
   "cell_type": "code",
   "execution_count": 12,
   "id": "4700ceff-80d8-4b4a-97af-f6d9c801c052",
   "metadata": {},
   "outputs": [],
   "source": [
    "trader_joes_gdf = gpd.GeoDataFrame(pd.concat(trader_joes_gdfs, ignore_index=True))"
   ]
  },
  {
   "cell_type": "code",
   "execution_count": 13,
   "id": "30cdf6ab-4324-457b-bfc1-215c1c9fe2ce",
   "metadata": {},
   "outputs": [],
   "source": [
    "trader_joes_gdf = trader_joes_gdf.to_crs(9311)\n",
    "trader_joes_gdf.to_file(f\"data/stores.gpkg\")"
   ]
  },
  {
   "cell_type": "markdown",
   "id": "94cb32a2-faf0-40fa-8616-e8f2275eca72",
   "metadata": {},
   "source": [
    "## Combine With States"
   ]
  },
  {
   "cell_type": "code",
   "execution_count": 14,
   "id": "eba6646a-fb99-4d01-9b3f-adf29223cb03",
   "metadata": {},
   "outputs": [],
   "source": [
    "trader_joes_state_counts_series = trader_joes_gdf.groupby(\"STATE\").size()\n",
    "trader_joes_state_counts_df = pd.DataFrame(\n",
    "    {\n",
    "        \"STUSPS\": trader_joes_state_counts_series.index,\n",
    "        \"stores\": trader_joes_state_counts_series.values,\n",
    "    }\n",
    ")"
   ]
  },
  {
   "cell_type": "code",
   "execution_count": 15,
   "id": "c062806b-5f76-4d7e-a226-31383a266b6a",
   "metadata": {},
   "outputs": [],
   "source": [
    "trader_joes_by_states_gdf = states_with_population_df.merge(\n",
    "    trader_joes_state_counts_df, on=\"STUSPS\", how=\"left\"\n",
    ")"
   ]
  },
  {
   "cell_type": "code",
   "execution_count": 16,
   "id": "300ee45e-48b8-48f6-9a3a-efd4904a5efe",
   "metadata": {},
   "outputs": [],
   "source": [
    "trader_joes_by_states_gdf = trader_joes_by_states_gdf.fillna(0)\n",
    "trader_joes_by_states_gdf[\"stores\"] = trader_joes_by_states_gdf[\"stores\"].astype(int)"
   ]
  },
  {
   "cell_type": "code",
   "execution_count": 17,
   "id": "8e8b581c-4e0c-40b8-81a9-4ea014470b40",
   "metadata": {},
   "outputs": [],
   "source": [
    "trader_joes_by_states_gdf[\"per_1000\"] = trader_joes_by_states_gdf[\"stores\"] / (\n",
    "    trader_joes_by_states_gdf[\"POPULATION\"] / 1000\n",
    ")\n",
    "trader_joes_by_states_gdf[\"per_10k\"] = trader_joes_by_states_gdf[\"stores\"] / (\n",
    "    trader_joes_by_states_gdf[\"POPULATION\"] / 10_000\n",
    ")\n",
    "trader_joes_by_states_gdf[\"per_100k\"] = trader_joes_by_states_gdf[\"stores\"] / (\n",
    "    trader_joes_by_states_gdf[\"POPULATION\"] / 100000\n",
    ")\n",
    "trader_joes_by_states_gdf[\"per_500k\"] = trader_joes_by_states_gdf[\"stores\"] / (\n",
    "    trader_joes_by_states_gdf[\"POPULATION\"] / 500_000\n",
    ")\n",
    "trader_joes_by_states_gdf[\"per_1m\"] = trader_joes_by_states_gdf[\"stores\"] / (\n",
    "    trader_joes_by_states_gdf[\"POPULATION\"] / 1_000_000\n",
    ")"
   ]
  },
  {
   "cell_type": "code",
   "execution_count": 18,
   "id": "237a0e6a-ccc2-4f3b-baad-d36ce4ecc481",
   "metadata": {},
   "outputs": [],
   "source": [
    "trader_joes_by_states_gdf = trader_joes_by_states_gdf.dropna()"
   ]
  },
  {
   "cell_type": "code",
   "execution_count": 19,
   "id": "944acfaa-313b-4a9f-aecc-53fe95e188be",
   "metadata": {},
   "outputs": [],
   "source": [
    "trader_joes_by_states_gdf = trader_joes_by_states_gdf.to_crs(9311)\n",
    "trader_joes_by_states_gdf.to_file(f\"data/stores_by_states.gpkg\")"
   ]
  },
  {
   "cell_type": "code",
   "execution_count": null,
   "id": "4857fb82-2869-4020-8a57-c1983c9055b6",
   "metadata": {},
   "outputs": [],
   "source": []
  },
  {
   "cell_type": "code",
   "execution_count": null,
   "id": "3eba1b99-001c-4de4-9fe1-1a06ea51e118",
   "metadata": {},
   "outputs": [],
   "source": []
  }
 ],
 "metadata": {
  "kernelspec": {
   "display_name": "Python 3 (ipykernel)",
   "language": "python",
   "name": "python3"
  },
  "language_info": {
   "codemirror_mode": {
    "name": "ipython",
    "version": 3
   },
   "file_extension": ".py",
   "mimetype": "text/x-python",
   "name": "python",
   "nbconvert_exporter": "python",
   "pygments_lexer": "ipython3",
   "version": "3.11.11"
  }
 },
 "nbformat": 4,
 "nbformat_minor": 5
}
