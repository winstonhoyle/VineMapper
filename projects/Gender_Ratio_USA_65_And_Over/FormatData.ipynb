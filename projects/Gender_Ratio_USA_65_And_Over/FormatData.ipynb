{
 "cells": [
  {
   "cell_type": "code",
   "execution_count": 17,
   "id": "082d543d-4097-4b86-84d7-7892d159f675",
   "metadata": {},
   "outputs": [],
   "source": [
    "import geopandas as gpd\n",
    "import pandas as pd"
   ]
  },
  {
   "cell_type": "markdown",
   "id": "228f9c5e-369a-430b-aa75-392d9b1c81a8",
   "metadata": {},
   "source": [
    "## Open GIS Data"
   ]
  },
  {
   "cell_type": "code",
   "execution_count": 18,
   "id": "e4a9a7f7-f84a-4c3c-b67c-19cdf9f4dd0d",
   "metadata": {},
   "outputs": [],
   "source": [
    "file_path = \"data/cb_2018_us_state_500k/cb_2018_us_state_500k.shp\"\n",
    "states_df = gpd.read_file(file_path)"
   ]
  },
  {
   "cell_type": "markdown",
   "id": "2d00e207-b96e-4b8f-a281-4d0c0b823356",
   "metadata": {},
   "source": [
    "## Get Age data"
   ]
  },
  {
   "cell_type": "code",
   "execution_count": 19,
   "id": "e4e57db8-8037-421f-96f3-f3f8dfdbaa81",
   "metadata": {},
   "outputs": [],
   "source": [
    "acs_age = pd.read_csv(\"data/ACSST1Y2023.S0101-2024-12-12T233736.csv\", thousands=\",\")"
   ]
  },
  {
   "cell_type": "code",
   "execution_count": 20,
   "id": "87b9ce31-e925-4da8-8470-9f3e77172cd9",
   "metadata": {},
   "outputs": [],
   "source": [
    "rename_columns_female = {}\n",
    "rename_columns_male = {}\n",
    "for column in list(acs_age.columns):\n",
    "    str_split = column.split(\"!!\")\n",
    "    if len(str_split) == 3:\n",
    "        if str_split[2] == \"Estimate\":\n",
    "            if str_split[1] == \"Male\":\n",
    "                rename_columns_male[column] = str_split[0].strip()\n",
    "            if str_split[1] == \"Female\":\n",
    "                rename_columns_female[column] = str_split[0].strip()\n",
    "    else:\n",
    "        continue"
   ]
  },
  {
   "cell_type": "code",
   "execution_count": 21,
   "id": "93337928-b1a9-46e7-8356-87d54b749344",
   "metadata": {},
   "outputs": [],
   "source": [
    "states = list(rename_columns_female.values())\n",
    "states.append(\"group\")"
   ]
  },
  {
   "cell_type": "code",
   "execution_count": 22,
   "id": "3c74383c-26fb-4fbd-932e-fe003d92e7ec",
   "metadata": {},
   "outputs": [],
   "source": [
    "rename_columns_female[\"Label (Grouping)\"] = \"group\"\n",
    "rename_columns_male[\"Label (Grouping)\"] = \"group\""
   ]
  },
  {
   "cell_type": "markdown",
   "id": "c10d496d-8771-4c8a-ad15-97f5dab14434",
   "metadata": {},
   "source": [
    "#### Females Data"
   ]
  },
  {
   "cell_type": "code",
   "execution_count": 23,
   "id": "44ef8343-a59a-4e92-818d-7d534538c106",
   "metadata": {},
   "outputs": [],
   "source": [
    "acs_age_female = acs_age.rename(columns=rename_columns_female)\n",
    "acs_age_female = acs_age_female[states]"
   ]
  },
  {
   "cell_type": "code",
   "execution_count": 24,
   "id": "29532278-ec8d-4f8a-aedd-9ead093ea425",
   "metadata": {},
   "outputs": [],
   "source": [
    "acs_age_female = acs_age_female.T.reset_index()\n",
    "acs_age_female.columns = acs_age_female.iloc[52]\n",
    "acs_age_female = acs_age_female.drop(acs_age_female.index[52:])"
   ]
  },
  {
   "cell_type": "markdown",
   "id": "b4c0e93c-1e45-4c8b-9a48-11c4c00c49fb",
   "metadata": {},
   "source": [
    "#### Males Data"
   ]
  },
  {
   "cell_type": "code",
   "execution_count": 25,
   "id": "8b4f1dfa-f5b1-4ae9-a70c-be13e605a42c",
   "metadata": {},
   "outputs": [],
   "source": [
    "acs_age_male = acs_age.rename(columns=rename_columns_male)\n",
    "acs_age_male = acs_age_male[states]"
   ]
  },
  {
   "cell_type": "code",
   "execution_count": 26,
   "id": "ad75a1cd-a100-4261-95c1-50ef6476b041",
   "metadata": {},
   "outputs": [],
   "source": [
    "acs_age_male = acs_age_male.T.reset_index()\n",
    "acs_age_male.columns = acs_age_male.iloc[52]\n",
    "acs_age_male = acs_age_male.drop(acs_age_male.index[52:])"
   ]
  },
  {
   "cell_type": "markdown",
   "id": "21b6a4f2-48e7-45ab-83cf-4e75b66f2bd7",
   "metadata": {},
   "source": [
    "#### Merge Gender Data"
   ]
  },
  {
   "cell_type": "code",
   "execution_count": 27,
   "id": "7ab36ff4-9f85-4762-abfb-d451e28a2b42",
   "metadata": {},
   "outputs": [],
   "source": [
    "gender_table = acs_age_male.merge(\n",
    "    acs_age_female, on=\"group\", how=\"inner\", suffixes=(\"_male\", \"_female\")\n",
    ")"
   ]
  },
  {
   "cell_type": "code",
   "execution_count": 28,
   "id": "1cd53661-a556-408a-b4a5-6e46bd15d253",
   "metadata": {},
   "outputs": [],
   "source": [
    "gender_table.columns = [\n",
    "    column.strip().replace(\" \", \"_\") for column in list(gender_table.columns)\n",
    "]"
   ]
  },
  {
   "cell_type": "code",
   "execution_count": 29,
   "id": "3e466f52-89ba-4de6-9658-43a755fdf8d5",
   "metadata": {},
   "outputs": [],
   "source": [
    "gender_table[\"65_years_and_over_male\"] = (\n",
    "    gender_table[\"65_years_and_over_male\"].str.replace(\",\", \"\").astype(int)\n",
    ")\n",
    "gender_table[\"65_years_and_over_female\"] = (\n",
    "    gender_table[\"65_years_and_over_female\"].str.replace(\",\", \"\").astype(int)\n",
    ")"
   ]
  },
  {
   "cell_type": "code",
   "execution_count": 30,
   "id": "212befe0-2b36-40c2-866f-e7501bf2c08c",
   "metadata": {},
   "outputs": [],
   "source": [
    "gender_table[\"gender_ratio_m_to_f_65_over\"] = (\n",
    "    gender_table[\"65_years_and_over_male\"] / gender_table[\"65_years_and_over_female\"]\n",
    ")"
   ]
  },
  {
   "cell_type": "code",
   "execution_count": 31,
   "id": "9ee4a45a-51b7-46f1-8789-8cde6f93bb17",
   "metadata": {},
   "outputs": [],
   "source": [
    "gender_table[\"gender_ratio_m_to_f_65_over\"] = (\n",
    "    gender_table[\"gender_ratio_m_to_f_65_over\"].round(decimals=2) * 100\n",
    ").astype(int)"
   ]
  },
  {
   "cell_type": "markdown",
   "id": "845a2fe2-8fd9-4218-898d-a6b0c6092507",
   "metadata": {},
   "source": [
    "## Combine Data"
   ]
  },
  {
   "cell_type": "code",
   "execution_count": 32,
   "id": "6c9c6046-8f14-4c73-adf8-0949c1892646",
   "metadata": {},
   "outputs": [],
   "source": [
    "gender_table = gender_table.rename(columns={\"group\": \"NAME\"})"
   ]
  },
  {
   "cell_type": "code",
   "execution_count": 33,
   "id": "60382782-c678-4973-94c0-ecc6470cbcbd",
   "metadata": {},
   "outputs": [],
   "source": [
    "gender_gdf = states_df.merge(gender_table, on=\"NAME\", how=\"left\")"
   ]
  },
  {
   "cell_type": "code",
   "execution_count": 34,
   "id": "46113ae7-cd6d-45c7-8980-6d2ec0b419d9",
   "metadata": {},
   "outputs": [],
   "source": [
    "gender_gdf = gender_gdf[[\"NAME\", \"geometry\", \"gender_ratio_m_to_f_65_over\"]].dropna()"
   ]
  },
  {
   "cell_type": "code",
   "execution_count": 35,
   "id": "405c1f3e-58a7-4038-bfae-00fe2cd3b773",
   "metadata": {},
   "outputs": [],
   "source": [
    "gender_gdf = gender_gdf.to_crs(9311)"
   ]
  },
  {
   "cell_type": "code",
   "execution_count": 36,
   "id": "cdb9ad00-072b-4c5d-8517-efa09bc758b7",
   "metadata": {},
   "outputs": [],
   "source": [
    "gender_gdf.to_file(\"data/gender_65_and_over.gpkg\")"
   ]
  },
  {
   "cell_type": "code",
   "execution_count": null,
   "id": "b788705d-8ed1-446b-9d8e-a113fe256b6a",
   "metadata": {},
   "outputs": [],
   "source": []
  }
 ],
 "metadata": {
  "kernelspec": {
   "display_name": "Python 3 (ipykernel)",
   "language": "python",
   "name": "python3"
  },
  "language_info": {
   "codemirror_mode": {
    "name": "ipython",
    "version": 3
   },
   "file_extension": ".py",
   "mimetype": "text/x-python",
   "name": "python",
   "nbconvert_exporter": "python",
   "pygments_lexer": "ipython3",
   "version": "3.11.11"
  }
 },
 "nbformat": 4,
 "nbformat_minor": 5
}
