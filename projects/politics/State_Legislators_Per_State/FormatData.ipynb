{
 "cells": [
  {
   "cell_type": "code",
   "execution_count": 22,
   "id": "c4323fb2-1721-463e-8602-d1c3302ff523",
   "metadata": {},
   "outputs": [],
   "source": [
    "import geopandas as gpd\n",
    "import pandas as pd\n",
    "import wikipedia as wp"
   ]
  },
  {
   "cell_type": "markdown",
   "id": "7bfd8f31-eada-447d-af06-da8a94290c02",
   "metadata": {},
   "source": [
    "## Open State data"
   ]
  },
  {
   "cell_type": "code",
   "execution_count": 23,
   "id": "5fadd853-8ad5-4832-976a-4d251d5a794b",
   "metadata": {},
   "outputs": [],
   "source": [
    "file_path = \"data/cb_2018_us_state_500k/cb_2018_us_state_500k.shp\"\n",
    "states_df = gpd.read_file(file_path)"
   ]
  },
  {
   "cell_type": "markdown",
   "id": "fd164c53-45e4-4194-923f-a30009847aca",
   "metadata": {},
   "source": [
    "## Open Population Data"
   ]
  },
  {
   "cell_type": "code",
   "execution_count": 24,
   "id": "0a20051e-cae3-4590-a990-552a4e501cda",
   "metadata": {},
   "outputs": [],
   "source": [
    "state_populations = pd.read_excel(\n",
    "    \"data/NST-EST2024-POP.xlsx\", sheet_name=None, engine=\"openpyxl\"\n",
    ")"
   ]
  },
  {
   "cell_type": "code",
   "execution_count": 25,
   "id": "c7dde3a1-af43-4153-84b5-4da9c18c4437",
   "metadata": {},
   "outputs": [],
   "source": [
    "state_populations_df = state_populations[\"NST-EST2024-POP\"][\n",
    "    [\n",
    "        \"table with row headers in column A and column headers in rows 3 through 4. (leading dots indicate sub-parts)\",\n",
    "        \"Unnamed: 5\",\n",
    "    ]\n",
    "]\n",
    "state_populations_df = state_populations_df.rename(\n",
    "    columns={\n",
    "        \"table with row headers in column A and column headers in rows 3 through 4. (leading dots indicate sub-parts)\": \"NAME\",\n",
    "        \"Unnamed: 5\": \"POPULATION\",\n",
    "    }\n",
    ")\n",
    "state_populations_df[\"NAME\"] = state_populations_df[\"NAME\"].str[1:]"
   ]
  },
  {
   "cell_type": "code",
   "execution_count": 26,
   "id": "9ada7cc6-08d2-4629-ad45-be85527ff63d",
   "metadata": {},
   "outputs": [],
   "source": [
    "states_with_population_df = states_df.merge(state_populations_df, on=\"NAME\", how=\"left\")\n",
    "states_with_population_df = states_with_population_df[\n",
    "    [\"STUSPS\", \"NAME\", \"POPULATION\", \"geometry\"]\n",
    "]"
   ]
  },
  {
   "cell_type": "markdown",
   "id": "74b55cfa-2db3-4a7c-bd04-0b341757effe",
   "metadata": {},
   "source": [
    "## Get State Legislator Data"
   ]
  },
  {
   "cell_type": "code",
   "execution_count": 28,
   "id": "59e27d69-2565-466c-a6e8-2ab7abf5470d",
   "metadata": {},
   "outputs": [],
   "source": [
    "html = (\n",
    "    wp.page(\"List_of_United_States_state_legislatures\", auto_suggest=False)\n",
    "    .html()\n",
    "    .encode(\"UTF-8\")\n",
    ")"
   ]
  },
  {
   "cell_type": "code",
   "execution_count": 29,
   "id": "189dd3a0-2bb7-4051-95c2-2831aaac2eae",
   "metadata": {},
   "outputs": [],
   "source": [
    "legislature_df = pd.read_html(html)[3]"
   ]
  },
  {
   "cell_type": "code",
   "execution_count": 30,
   "id": "4b281822-0816-4f6a-a3be-3e98db5326c2",
   "metadata": {},
   "outputs": [],
   "source": [
    "lower_sizes = pd.to_numeric(\n",
    "    legislature_df[(\"Lower house\", \"Size [2]\")], errors=\"coerce\"\n",
    ")\n",
    "upper_sizes = pd.to_numeric(\n",
    "    legislature_df[(\"Upper house\", \"Size [2]\")], errors=\"coerce\"\n",
    ")\n",
    "legislature_df[\"LEGISLATORS\"] = (lower_sizes.fillna(0) + upper_sizes.fillna(0)).astype(\n",
    "    int\n",
    ")"
   ]
  },
  {
   "cell_type": "code",
   "execution_count": 31,
   "id": "401e9457-3dae-47ac-af81-877931f06e82",
   "metadata": {},
   "outputs": [],
   "source": [
    "legislature_df = legislature_df[[\"LEGISLATORS\", \"State\"]]\n",
    "legislature_df = legislature_df.rename(columns={\"State\": \"NAME\"})"
   ]
  },
  {
   "cell_type": "code",
   "execution_count": 34,
   "id": "8e0b8d50-6890-4fae-9c2a-664ac54e4b78",
   "metadata": {},
   "outputs": [],
   "source": [
    "legislature_df.columns = [\n",
    "    col[1] if col[1] else col[0] for col in legislature_df.columns\n",
    "]"
   ]
  },
  {
   "cell_type": "markdown",
   "id": "ea0435b2-f5f4-4186-853b-615f63cc50aa",
   "metadata": {},
   "source": [
    "## Merge Data"
   ]
  },
  {
   "cell_type": "code",
   "execution_count": 43,
   "id": "335e5a07-6df8-46bf-bc7d-1512019384fd",
   "metadata": {},
   "outputs": [],
   "source": [
    "state_legislators_with_pop_gdf = states_with_population_df.merge(\n",
    "    legislature_df, on=\"NAME\", how=\"right\"\n",
    ").dropna()"
   ]
  },
  {
   "cell_type": "code",
   "execution_count": 44,
   "id": "9fcded5e-25db-4a17-bca0-8b37ea5193c8",
   "metadata": {},
   "outputs": [],
   "source": [
    "state_legislators_with_pop_gdf[\"PEOPLE_PER_LEGISLATOR\"] = (\n",
    "    (\n",
    "        state_legislators_with_pop_gdf[\"POPULATION\"]\n",
    "        / state_legislators_with_pop_gdf[\"LEGISLATORS\"]\n",
    "    )\n",
    "    .round(decimals=0)\n",
    "    .astype(int)\n",
    ")"
   ]
  },
  {
   "cell_type": "code",
   "execution_count": 45,
   "id": "ae923604-fd11-4c7d-a480-4f53abaeafbc",
   "metadata": {},
   "outputs": [],
   "source": [
    "state_legislators_with_pop_gdf = state_legislators_with_pop_gdf.to_crs(9311)\n",
    "state_legislators_with_pop_gdf.to_file(\"data/state_legislator.gpkg\")"
   ]
  },
  {
   "cell_type": "code",
   "execution_count": null,
   "id": "6ac41d48-ef3d-459f-a058-f97deb936292",
   "metadata": {},
   "outputs": [],
   "source": []
  }
 ],
 "metadata": {
  "kernelspec": {
   "display_name": "Python 3 (ipykernel)",
   "language": "python",
   "name": "python3"
  },
  "language_info": {
   "codemirror_mode": {
    "name": "ipython",
    "version": 3
   },
   "file_extension": ".py",
   "mimetype": "text/x-python",
   "name": "python",
   "nbconvert_exporter": "python",
   "pygments_lexer": "ipython3",
   "version": "3.11.11"
  }
 },
 "nbformat": 4,
 "nbformat_minor": 5
}
