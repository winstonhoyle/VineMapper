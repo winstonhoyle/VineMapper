{
 "cells": [
  {
   "cell_type": "code",
   "execution_count": 76,
   "id": "613f0fa3-72dc-4e32-ac5c-abf037b3928e",
   "metadata": {},
   "outputs": [],
   "source": [
    "import country_converter\n",
    "import geopandas as gpd\n",
    "import pandas as pd"
   ]
  },
  {
   "cell_type": "markdown",
   "id": "2770e7ff-5091-44a2-a30d-2de26b4f4b71",
   "metadata": {},
   "source": [
    "## Open Parliamentary Data"
   ]
  },
  {
   "cell_type": "code",
   "execution_count": 77,
   "id": "d229d531-cdf6-4d22-bc10-31e1ae379646",
   "metadata": {},
   "outputs": [],
   "source": [
    "df = pd.read_csv(\"data/data.txt\", sep=\",\")"
   ]
  },
  {
   "cell_type": "code",
   "execution_count": 78,
   "id": "c4ca03a5-d1c1-401c-ac66-319074d55164",
   "metadata": {},
   "outputs": [],
   "source": [
    "df[\"index\"] = df[\"WLPS\"].astype(float)\n",
    "df = df[[\"COUNTRY\", \"index\"]]"
   ]
  },
  {
   "cell_type": "code",
   "execution_count": 79,
   "id": "523f8511-83ae-4f82-82ef-38d8ecf29664",
   "metadata": {},
   "outputs": [],
   "source": [
    "cc = coco.CountryConverter()"
   ]
  },
  {
   "cell_type": "code",
   "execution_count": 80,
   "id": "10088785-2da8-4fec-baa8-043c1aebdce0",
   "metadata": {},
   "outputs": [
    {
     "name": "stderr",
     "output_type": "stream",
     "text": [
      "Central Afr. Rep. not found in regex\n",
      "Serbia & Montenegro not found in regex\n"
     ]
    }
   ],
   "source": [
    "df[\"ISO2\"] = df.apply(\n",
    "    lambda row: country_converter.convert(names=row[\"COUNTRY\"], to=\"ISO2\"), axis=1\n",
    ")"
   ]
  },
  {
   "cell_type": "markdown",
   "id": "df8718c9-4f33-45ef-8afb-8e854ae5191f",
   "metadata": {},
   "source": [
    "#### Manually Add Data"
   ]
  },
  {
   "cell_type": "code",
   "execution_count": 81,
   "id": "4097c4a6-c6b1-4ade-9ea0-4dbb5f59a0ee",
   "metadata": {},
   "outputs": [
    {
     "data": {
      "text/html": [
       "<div>\n",
       "<style scoped>\n",
       "    .dataframe tbody tr th:only-of-type {\n",
       "        vertical-align: middle;\n",
       "    }\n",
       "\n",
       "    .dataframe tbody tr th {\n",
       "        vertical-align: top;\n",
       "    }\n",
       "\n",
       "    .dataframe thead th {\n",
       "        text-align: right;\n",
       "    }\n",
       "</style>\n",
       "<table border=\"1\" class=\"dataframe\">\n",
       "  <thead>\n",
       "    <tr style=\"text-align: right;\">\n",
       "      <th></th>\n",
       "      <th>COUNTRY</th>\n",
       "      <th>index</th>\n",
       "      <th>ISO2</th>\n",
       "    </tr>\n",
       "  </thead>\n",
       "  <tbody>\n",
       "    <tr>\n",
       "      <th>25</th>\n",
       "      <td>Central Afr. Rep.</td>\n",
       "      <td>2.470967</td>\n",
       "      <td>not found</td>\n",
       "    </tr>\n",
       "    <tr>\n",
       "      <th>121</th>\n",
       "      <td>Serbia &amp; Montenegro</td>\n",
       "      <td>4.874050</td>\n",
       "      <td>not found</td>\n",
       "    </tr>\n",
       "  </tbody>\n",
       "</table>\n",
       "</div>"
      ],
      "text/plain": [
       "                 COUNTRY     index       ISO2\n",
       "25     Central Afr. Rep.  2.470967  not found\n",
       "121  Serbia & Montenegro  4.874050  not found"
      ]
     },
     "execution_count": 81,
     "metadata": {},
     "output_type": "execute_result"
    }
   ],
   "source": [
    "df[df[\"COUNTRY\"].isin([\"Serbia & Montenegro\", \"Central Afr. Rep.\"])]"
   ]
  },
  {
   "cell_type": "code",
   "execution_count": 82,
   "id": "8604d2e3-fe75-4eaf-96b4-2d25b488108d",
   "metadata": {},
   "outputs": [],
   "source": [
    "added_records = [\n",
    "    [\"Central African Republic\", 2.470967, \"CF\"],  # CAF\n",
    "    [\"Serbia\", 4.874050, \"RS\"],  # Serbia\n",
    "    [\"Montenegro\", 4.874050, \"ME\"],  # Montenegro\n",
    "]"
   ]
  },
  {
   "cell_type": "code",
   "execution_count": 83,
   "id": "896aef68-479d-4f35-aa57-f99ef7b55769",
   "metadata": {},
   "outputs": [],
   "source": [
    "added_df = pd.DataFrame(added_records, columns=df.columns)"
   ]
  },
  {
   "cell_type": "code",
   "execution_count": 84,
   "id": "e2b988fc-871e-47fe-b403-b966ee603ff9",
   "metadata": {},
   "outputs": [],
   "source": [
    "df = pd.concat([df, added_df])"
   ]
  },
  {
   "cell_type": "markdown",
   "id": "37aa7f22-a67f-4c19-93c2-613376d441ee",
   "metadata": {},
   "source": [
    "## Open World Data"
   ]
  },
  {
   "cell_type": "code",
   "execution_count": 85,
   "id": "cfc32d15-e813-4cd6-a33a-885e30ca70f2",
   "metadata": {},
   "outputs": [],
   "source": [
    "world_boundaries = gpd.read_file(\"data/world_boundaries.gpkg\")"
   ]
  },
  {
   "cell_type": "code",
   "execution_count": 86,
   "id": "30456f1d-2e0e-4fe6-bfd4-71d57fc7ece4",
   "metadata": {},
   "outputs": [],
   "source": [
    "gdf = world_boundaries[[\"iso_3166_1_alpha_2_codes\", \"geometry\"]]"
   ]
  },
  {
   "cell_type": "code",
   "execution_count": 87,
   "id": "95e2165d-20f1-4921-963c-b461b2566b71",
   "metadata": {},
   "outputs": [],
   "source": [
    "gdf = gdf.rename(columns={\"iso_3166_1_alpha_2_codes\": \"ISO2\"})"
   ]
  },
  {
   "cell_type": "markdown",
   "id": "feb89a45-5514-4b46-a3c6-29a99207da21",
   "metadata": {},
   "source": [
    "## Merge"
   ]
  },
  {
   "cell_type": "code",
   "execution_count": 95,
   "id": "adc98d57-b0bf-4997-9c07-3406876352f3",
   "metadata": {},
   "outputs": [],
   "source": [
    "parliamentary_gdf = gdf.merge(df, on=\"ISO2\", how=\"left\")"
   ]
  },
  {
   "cell_type": "code",
   "execution_count": 97,
   "id": "1d8f37ad-0918-4601-8791-7d179b8e7fec",
   "metadata": {},
   "outputs": [],
   "source": [
    "parliamentary_gdf.to_file(\"data/parliamentary.gpkg\")"
   ]
  },
  {
   "cell_type": "code",
   "execution_count": null,
   "id": "3768c369-8d9a-496e-bf44-4ec40306f01a",
   "metadata": {},
   "outputs": [],
   "source": []
  }
 ],
 "metadata": {
  "kernelspec": {
   "display_name": "Python 3 (ipykernel)",
   "language": "python",
   "name": "python3"
  },
  "language_info": {
   "codemirror_mode": {
    "name": "ipython",
    "version": 3
   },
   "file_extension": ".py",
   "mimetype": "text/x-python",
   "name": "python",
   "nbconvert_exporter": "python",
   "pygments_lexer": "ipython3",
   "version": "3.11.11"
  }
 },
 "nbformat": 4,
 "nbformat_minor": 5
}
