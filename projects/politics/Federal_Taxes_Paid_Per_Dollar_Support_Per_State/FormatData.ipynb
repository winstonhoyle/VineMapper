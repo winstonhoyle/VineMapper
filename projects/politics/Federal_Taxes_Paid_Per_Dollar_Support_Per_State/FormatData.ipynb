{
 "cells": [
  {
   "cell_type": "code",
   "execution_count": 1,
   "id": "a45b07ea-f783-4e41-99a2-2c33decb0b48",
   "metadata": {},
   "outputs": [],
   "source": [
    "import requests"
   ]
  },
  {
   "cell_type": "code",
   "execution_count": 2,
   "id": "c4323fb2-1721-463e-8602-d1c3302ff523",
   "metadata": {},
   "outputs": [],
   "source": [
    "from bs4 import BeautifulSoup\n",
    "import geopandas as gpd\n",
    "import pandas as pd"
   ]
  },
  {
   "cell_type": "markdown",
   "id": "7bfd8f31-eada-447d-af06-da8a94290c02",
   "metadata": {},
   "source": [
    "## Open State data"
   ]
  },
  {
   "cell_type": "code",
   "execution_count": 3,
   "id": "5fadd853-8ad5-4832-976a-4d251d5a794b",
   "metadata": {},
   "outputs": [],
   "source": [
    "file_path = \"data/cb_2018_us_state_500k/cb_2018_us_state_500k.shp\"\n",
    "states_df = gpd.read_file(file_path)"
   ]
  },
  {
   "cell_type": "markdown",
   "id": "74b55cfa-2db3-4a7c-bd04-0b341757effe",
   "metadata": {},
   "source": [
    "## Get Federal Tax Data"
   ]
  },
  {
   "cell_type": "code",
   "execution_count": 4,
   "id": "59e27d69-2565-466c-a6e8-2ab7abf5470d",
   "metadata": {},
   "outputs": [],
   "source": [
    "headers = {\n",
    "    \"User-Agent\": \"Mozilla/5.0 (Macintosh; Intel Mac OS X 10_11_5) AppleWebKit/537.36 (KHTML, like Gecko) Chrome/50.0.2661.102 Safari/537.36\"\n",
    "}"
   ]
  },
  {
   "cell_type": "code",
   "execution_count": 5,
   "id": "189dd3a0-2bb7-4051-95c2-2831aaac2eae",
   "metadata": {},
   "outputs": [],
   "source": [
    "r = requests.get(\n",
    "    \"https://worldpopulationreview.com/state-rankings/federal-aid-by-state\",\n",
    "    headers=headers,\n",
    ")"
   ]
  },
  {
   "cell_type": "code",
   "execution_count": 6,
   "id": "396197ed-7e88-4a3c-b9a1-48b336618026",
   "metadata": {},
   "outputs": [],
   "source": [
    "soup = BeautifulSoup(r.text, \"html.parser\")\n",
    "tbody = soup.find(\"tbody\")\n",
    "state_dict = {}\n",
    "for tr in tbody.find_all(\"tr\"):\n",
    "    tds = tr.find_all(\"td\")\n",
    "    state = tds[1].text\n",
    "    federal_dollars_spent = float(tds[3].text.replace(\"$\", \"\"))\n",
    "    state_dict[state] = federal_dollars_spent"
   ]
  },
  {
   "cell_type": "code",
   "execution_count": 7,
   "id": "f8a0438c-be0f-4d82-822e-a71c4c2b2f3d",
   "metadata": {},
   "outputs": [],
   "source": [
    "taxes_df = pd.DataFrame(state_dict.items(), columns=[\"NAME\", \"TAXES\"])"
   ]
  },
  {
   "cell_type": "markdown",
   "id": "ea0435b2-f5f4-4186-853b-615f63cc50aa",
   "metadata": {},
   "source": [
    "## Merge Data"
   ]
  },
  {
   "cell_type": "code",
   "execution_count": 8,
   "id": "335e5a07-6df8-46bf-bc7d-1512019384fd",
   "metadata": {},
   "outputs": [],
   "source": [
    "taxes_pop_df = states_df.merge(taxes_df, on=\"NAME\", how=\"right\").dropna()"
   ]
  },
  {
   "cell_type": "code",
   "execution_count": 9,
   "id": "ae923604-fd11-4c7d-a480-4f53abaeafbc",
   "metadata": {},
   "outputs": [],
   "source": [
    "taxes_pop_df = taxes_pop_df.to_crs(9311)\n",
    "taxes_pop_df.to_file(\"data/taxes.gpkg\")"
   ]
  },
  {
   "cell_type": "code",
   "execution_count": null,
   "id": "6ac41d48-ef3d-459f-a058-f97deb936292",
   "metadata": {},
   "outputs": [],
   "source": []
  }
 ],
 "metadata": {
  "kernelspec": {
   "display_name": "Python 3 (ipykernel)",
   "language": "python",
   "name": "python3"
  },
  "language_info": {
   "codemirror_mode": {
    "name": "ipython",
    "version": 3
   },
   "file_extension": ".py",
   "mimetype": "text/x-python",
   "name": "python",
   "nbconvert_exporter": "python",
   "pygments_lexer": "ipython3",
   "version": "3.11.11"
  }
 },
 "nbformat": 4,
 "nbformat_minor": 5
}
