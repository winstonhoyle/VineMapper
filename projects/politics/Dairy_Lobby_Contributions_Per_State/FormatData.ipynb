{
 "cells": [
  {
   "cell_type": "code",
   "execution_count": 7,
   "id": "34096667-a395-48d3-be7d-d2dfa7378003",
   "metadata": {},
   "outputs": [],
   "source": [
    "import os\n",
    "import requests"
   ]
  },
  {
   "cell_type": "code",
   "execution_count": 8,
   "id": "c4323fb2-1721-463e-8602-d1c3302ff523",
   "metadata": {},
   "outputs": [],
   "source": [
    "import geopandas as gpd\n",
    "import pandas as pd"
   ]
  },
  {
   "cell_type": "markdown",
   "id": "7bfd8f31-eada-447d-af06-da8a94290c02",
   "metadata": {},
   "source": [
    "## Open State data"
   ]
  },
  {
   "cell_type": "code",
   "execution_count": 9,
   "id": "5fadd853-8ad5-4832-976a-4d251d5a794b",
   "metadata": {},
   "outputs": [],
   "source": [
    "file_path = \"data/cb_2018_us_state_500k/cb_2018_us_state_500k.shp\"\n",
    "state_gdf = gpd.read_file(file_path)"
   ]
  },
  {
   "cell_type": "markdown",
   "id": "2246428d-fae0-4af8-97d2-96519e1527e2",
   "metadata": {},
   "source": [
    "## Open Politics Contributions Data"
   ]
  },
  {
   "cell_type": "code",
   "execution_count": 12,
   "id": "b2d8dc8c-e9ea-406c-b331-48431bfdb3d1",
   "metadata": {},
   "outputs": [],
   "source": [
    "def format_df(path: str) -> pd.DataFrame:\n",
    "    df = pd.read_csv(path)\n",
    "    df[\"Amount\"] = df[\"Amount\"].str.replace(\"$\", \"\").astype(int)\n",
    "    df = df.groupby(\"State\")[\"Amount\"].sum().reset_index(name=\"SUM\")\n",
    "    return df"
   ]
  },
  {
   "cell_type": "code",
   "execution_count": 13,
   "id": "2eb82f5c-d45c-4eae-90c1-ed8ecbaa16a1",
   "metadata": {},
   "outputs": [],
   "source": [
    "dfs = [format_df(f\"data/{csv}\") for csv in os.listdir(\"data\") if csv.endswith(\"csv\")]"
   ]
  },
  {
   "cell_type": "code",
   "execution_count": 14,
   "id": "b310d81b-607e-4b74-af5a-65cff4e1a3a5",
   "metadata": {},
   "outputs": [],
   "source": [
    "merged = pd.concat(dfs)\n",
    "money_df = merged.groupby(\"State\", as_index=False)[\"SUM\"].sum()\n",
    "money_df = money_df.rename(columns={\"State\": \"NAME\"})"
   ]
  },
  {
   "cell_type": "markdown",
   "id": "ea0435b2-f5f4-4186-853b-615f63cc50aa",
   "metadata": {},
   "source": [
    "## Merge Data"
   ]
  },
  {
   "cell_type": "code",
   "execution_count": 15,
   "id": "741bc565-ebfc-42ba-a794-913e31d2ea26",
   "metadata": {},
   "outputs": [],
   "source": [
    "congress_gdf = state_gdf.merge(money_df, on=\"NAME\", how=\"left\")"
   ]
  },
  {
   "cell_type": "code",
   "execution_count": 16,
   "id": "e546a1a4-232e-4102-9ee5-b725b4c685c0",
   "metadata": {},
   "outputs": [],
   "source": [
    "congress_gdf = congress_gdf.fillna(0)"
   ]
  },
  {
   "cell_type": "code",
   "execution_count": 17,
   "id": "ae923604-fd11-4c7d-a480-4f53abaeafbc",
   "metadata": {},
   "outputs": [],
   "source": [
    "congress_gdf = congress_gdf.to_crs(9311)\n",
    "congress_gdf.to_file(\"data/Dairy_Lobby_Contributions_Per_State.gpkg\")"
   ]
  },
  {
   "cell_type": "code",
   "execution_count": 18,
   "id": "52948e3a-809b-4265-8da9-6b0e3be97ea9",
   "metadata": {},
   "outputs": [
    {
     "data": {
      "text/plain": [
       "np.float64(2519445.0)"
      ]
     },
     "execution_count": 18,
     "metadata": {},
     "output_type": "execute_result"
    }
   ],
   "source": [
    "congress_gdf[\"SUM\"].sum()"
   ]
  },
  {
   "cell_type": "code",
   "execution_count": null,
   "id": "705d5b9a-707d-485e-8030-cdf842c9d994",
   "metadata": {},
   "outputs": [],
   "source": []
  },
  {
   "cell_type": "code",
   "execution_count": null,
   "id": "421d0ed2-b642-49f3-b9b5-25362f4c85b4",
   "metadata": {},
   "outputs": [],
   "source": []
  }
 ],
 "metadata": {
  "kernelspec": {
   "display_name": "Python 3 (ipykernel)",
   "language": "python",
   "name": "python3"
  },
  "language_info": {
   "codemirror_mode": {
    "name": "ipython",
    "version": 3
   },
   "file_extension": ".py",
   "mimetype": "text/x-python",
   "name": "python",
   "nbconvert_exporter": "python",
   "pygments_lexer": "ipython3",
   "version": "3.11.13"
  }
 },
 "nbformat": 4,
 "nbformat_minor": 5
}
