{
 "cells": [
  {
   "cell_type": "code",
   "execution_count": 1,
   "id": "34096667-a395-48d3-be7d-d2dfa7378003",
   "metadata": {},
   "outputs": [],
   "source": [
    "import requests"
   ]
  },
  {
   "cell_type": "code",
   "execution_count": 2,
   "id": "c4323fb2-1721-463e-8602-d1c3302ff523",
   "metadata": {},
   "outputs": [],
   "source": [
    "import geopandas as gpd\n",
    "import pandas as pd"
   ]
  },
  {
   "cell_type": "markdown",
   "id": "7bfd8f31-eada-447d-af06-da8a94290c02",
   "metadata": {},
   "source": [
    "## Open State data"
   ]
  },
  {
   "cell_type": "code",
   "execution_count": 3,
   "id": "5fadd853-8ad5-4832-976a-4d251d5a794b",
   "metadata": {},
   "outputs": [],
   "source": [
    "file_path = \"data/cb_2018_us_state_500k/cb_2018_us_state_500k.shp\"\n",
    "state_gdf = gpd.read_file(file_path)"
   ]
  },
  {
   "cell_type": "markdown",
   "id": "2246428d-fae0-4af8-97d2-96519e1527e2",
   "metadata": {},
   "source": [
    "## Open Pro-Israel Contributions Data"
   ]
  },
  {
   "cell_type": "code",
   "execution_count": 4,
   "id": "b2d8dc8c-e9ea-406c-b331-48431bfdb3d1",
   "metadata": {},
   "outputs": [],
   "source": [
    "representatives_df = pd.read_csv(\n",
    "    \"data/Money from Pro-Israel to US Representatives, 1990-2024.csv\"\n",
    ")"
   ]
  },
  {
   "cell_type": "code",
   "execution_count": 5,
   "id": "ab897b3d-8a37-41ff-896b-1af1ad91f68d",
   "metadata": {},
   "outputs": [],
   "source": [
    "representatives_df[\"Amount\"] = representatives_df[\"Amount\"].str[1:].astype(int)\n",
    "representatives_df = (\n",
    "    representatives_df.groupby(\"State\")[\"Amount\"]\n",
    "    .sum()\n",
    "    .reset_index(name=\"REPRESENTATIVE\")\n",
    ")\n",
    "representatives_df = representatives_df.rename(columns={\"State\": \"NAME\"})"
   ]
  },
  {
   "cell_type": "code",
   "execution_count": 6,
   "id": "ec36ba0e-ba9d-4280-afb7-29c801a56f11",
   "metadata": {},
   "outputs": [],
   "source": [
    "senate_df = pd.read_csv(\"data/Money from Pro-Israel to US Senators, 1990-2024.csv\")"
   ]
  },
  {
   "cell_type": "code",
   "execution_count": 7,
   "id": "d56aa0d9-a77f-4d4e-aec4-074b97c7740a",
   "metadata": {},
   "outputs": [],
   "source": [
    "senate_df[\"Amount\"] = senate_df[\"Amount\"].str[1:].astype(int)\n",
    "senate_df = senate_df.groupby(\"State\")[\"Amount\"].sum().reset_index(name=\"SENATE\")\n",
    "senate_df = senate_df.rename(columns={\"State\": \"NAME\"})"
   ]
  },
  {
   "cell_type": "code",
   "execution_count": 8,
   "id": "908cd969-550c-4a98-a880-633913170203",
   "metadata": {},
   "outputs": [],
   "source": [
    "congress_df = senate_df.merge(representatives_df, on=\"NAME\", how=\"inner\")\n",
    "congress_df[\"SUM\"] = congress_df[\"REPRESENTATIVE\"] + congress_df[\"SENATE\"]"
   ]
  },
  {
   "cell_type": "markdown",
   "id": "ea0435b2-f5f4-4186-853b-615f63cc50aa",
   "metadata": {},
   "source": [
    "## Merge Data"
   ]
  },
  {
   "cell_type": "code",
   "execution_count": 9,
   "id": "741bc565-ebfc-42ba-a794-913e31d2ea26",
   "metadata": {},
   "outputs": [],
   "source": [
    "congress_gdf = state_gdf.merge(congress_df, on=\"NAME\", how=\"inner\")"
   ]
  },
  {
   "cell_type": "code",
   "execution_count": 10,
   "id": "ae923604-fd11-4c7d-a480-4f53abaeafbc",
   "metadata": {},
   "outputs": [],
   "source": [
    "congress_gdf = congress_gdf.to_crs(9311)\n",
    "congress_gdf.to_file(\"data/Pro_Israel_Contributions_Per_State.gpkg\")"
   ]
  },
  {
   "cell_type": "code",
   "execution_count": 11,
   "id": "52948e3a-809b-4265-8da9-6b0e3be97ea9",
   "metadata": {},
   "outputs": [
    {
     "data": {
      "text/plain": [
       "np.int64(98155627)"
      ]
     },
     "execution_count": 11,
     "metadata": {},
     "output_type": "execute_result"
    }
   ],
   "source": [
    "congress_gdf[\"SENATE\"].sum()"
   ]
  },
  {
   "cell_type": "code",
   "execution_count": 12,
   "id": "027a15e5-4028-406c-ae22-ae88ea265c93",
   "metadata": {},
   "outputs": [
    {
     "data": {
      "text/plain": [
       "np.int64(177517895)"
      ]
     },
     "execution_count": 12,
     "metadata": {},
     "output_type": "execute_result"
    }
   ],
   "source": [
    "congress_gdf[\"REPRESENTATIVE\"].sum()"
   ]
  },
  {
   "cell_type": "code",
   "execution_count": null,
   "id": "705d5b9a-707d-485e-8030-cdf842c9d994",
   "metadata": {},
   "outputs": [],
   "source": []
  }
 ],
 "metadata": {
  "kernelspec": {
   "display_name": "Python 3 (ipykernel)",
   "language": "python",
   "name": "python3"
  },
  "language_info": {
   "codemirror_mode": {
    "name": "ipython",
    "version": 3
   },
   "file_extension": ".py",
   "mimetype": "text/x-python",
   "name": "python",
   "nbconvert_exporter": "python",
   "pygments_lexer": "ipython3",
   "version": "3.11.13"
  }
 },
 "nbformat": 4,
 "nbformat_minor": 5
}
