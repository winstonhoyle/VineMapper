{
 "cells": [
  {
   "cell_type": "code",
   "execution_count": 50,
   "id": "c4323fb2-1721-463e-8602-d1c3302ff523",
   "metadata": {},
   "outputs": [],
   "source": [
    "import geopandas as gpd\n",
    "import pandas as pd"
   ]
  },
  {
   "cell_type": "markdown",
   "id": "7bfd8f31-eada-447d-af06-da8a94290c02",
   "metadata": {},
   "source": [
    "## Open State data"
   ]
  },
  {
   "cell_type": "code",
   "execution_count": 51,
   "id": "5fadd853-8ad5-4832-976a-4d251d5a794b",
   "metadata": {},
   "outputs": [],
   "source": [
    "file_path = \"data/cb_2018_us_state_500k/cb_2018_us_state_500k.shp\"\n",
    "states_df = gpd.read_file(file_path)\n",
    "states_df = states_df[\n",
    "    ~states_df[\"STATEFP\"].isin([\"60\", \"66\", \"69\", \"72\", \"78\"])\n",
    "].reset_index(drop=True)"
   ]
  },
  {
   "cell_type": "markdown",
   "id": "fd164c53-45e4-4194-923f-a30009847aca",
   "metadata": {},
   "source": [
    "## Open Population Data"
   ]
  },
  {
   "cell_type": "code",
   "execution_count": 52,
   "id": "0a20051e-cae3-4590-a990-552a4e501cda",
   "metadata": {},
   "outputs": [],
   "source": [
    "state_populations = pd.read_excel(\n",
    "    \"data/NST-EST2024-POP.xlsx\", sheet_name=None, engine=\"openpyxl\"\n",
    ")"
   ]
  },
  {
   "cell_type": "code",
   "execution_count": 53,
   "id": "c7dde3a1-af43-4153-84b5-4da9c18c4437",
   "metadata": {},
   "outputs": [],
   "source": [
    "state_populations_df = state_populations[\"NST-EST2024-POP\"][\n",
    "    [\n",
    "        \"table with row headers in column A and column headers in rows 3 through 4. (leading dots indicate sub-parts)\",\n",
    "        \"Unnamed: 5\",\n",
    "    ]\n",
    "]\n",
    "state_populations_df = state_populations_df.rename(\n",
    "    columns={\n",
    "        \"table with row headers in column A and column headers in rows 3 through 4. (leading dots indicate sub-parts)\": \"NAME\",\n",
    "        \"Unnamed: 5\": \"POPULATION\",\n",
    "    }\n",
    ")\n",
    "state_populations_df[\"NAME\"] = state_populations_df[\"NAME\"].str[1:]"
   ]
  },
  {
   "cell_type": "code",
   "execution_count": 54,
   "id": "9ada7cc6-08d2-4629-ad45-be85527ff63d",
   "metadata": {},
   "outputs": [],
   "source": [
    "states_with_population_df = states_df.merge(state_populations_df, on=\"NAME\", how=\"left\")\n",
    "states_with_population_df = states_with_population_df[\n",
    "    [\"STUSPS\", \"NAME\", \"POPULATION\", \"geometry\"]\n",
    "]"
   ]
  },
  {
   "cell_type": "markdown",
   "id": "74b55cfa-2db3-4a7c-bd04-0b341757effe",
   "metadata": {},
   "source": [
    "## Get Hospital Data"
   ]
  },
  {
   "cell_type": "code",
   "execution_count": 55,
   "id": "59e27d69-2565-466c-a6e8-2ab7abf5470d",
   "metadata": {},
   "outputs": [],
   "source": [
    "hospitals_df = pd.read_csv(\"data/hospitals.csv\")"
   ]
  },
  {
   "cell_type": "code",
   "execution_count": 56,
   "id": "189dd3a0-2bb7-4051-95c2-2831aaac2eae",
   "metadata": {},
   "outputs": [],
   "source": [
    "hospitals_df[\"NAME\"] = hospitals_df[\"STATE\"].str.title()\n",
    "hospitals_df[\"NUMBER OF AT-RISK RURAL HOSPITALS\"] = hospitals_df[\n",
    "    \"NUMBER OF AT-RISK RURAL HOSPITALS\"\n",
    "].astype(int)"
   ]
  },
  {
   "cell_type": "code",
   "execution_count": 57,
   "id": "4b281822-0816-4f6a-a3be-3e98db5326c2",
   "metadata": {},
   "outputs": [],
   "source": [
    "hospitals_df = hospitals_df[[\"NAME\", \"NUMBER OF AT-RISK RURAL HOSPITALS\"]]"
   ]
  },
  {
   "cell_type": "markdown",
   "id": "ea0435b2-f5f4-4186-853b-615f63cc50aa",
   "metadata": {},
   "source": [
    "## Merge Data"
   ]
  },
  {
   "cell_type": "code",
   "execution_count": 58,
   "id": "335e5a07-6df8-46bf-bc7d-1512019384fd",
   "metadata": {},
   "outputs": [],
   "source": [
    "hospitals_gdf = states_with_population_df.merge(hospitals_df, on=\"NAME\", how=\"left\")"
   ]
  },
  {
   "cell_type": "code",
   "execution_count": 59,
   "id": "9fcded5e-25db-4a17-bca0-8b37ea5193c8",
   "metadata": {},
   "outputs": [],
   "source": [
    "hospitals_gdf[\"HOSPITALS_PER_100k\"] = hospitals_gdf[\n",
    "    \"NUMBER OF AT-RISK RURAL HOSPITALS\"\n",
    "] / (hospitals_gdf[\"POPULATION\"] / 100_000)\n",
    "hospitals_gdf[\"HOSPITALS_PER_1m\"] = hospitals_gdf[\n",
    "    \"NUMBER OF AT-RISK RURAL HOSPITALS\"\n",
    "] / (hospitals_gdf[\"POPULATION\"] / 1_000_000)"
   ]
  },
  {
   "cell_type": "code",
   "execution_count": 61,
   "id": "fe5ee245-01fe-446c-abf7-f9dce7665390",
   "metadata": {},
   "outputs": [],
   "source": [
    "hospitals_gdf = hospitals_gdf.fillna(0)"
   ]
  },
  {
   "cell_type": "code",
   "execution_count": 62,
   "id": "ae923604-fd11-4c7d-a480-4f53abaeafbc",
   "metadata": {},
   "outputs": [],
   "source": [
    "hospitals_gdf = hospitals_gdf.to_crs(9311)\n",
    "hospitals_gdf.to_file(\"data/hospitals.gpkg\")"
   ]
  },
  {
   "cell_type": "code",
   "execution_count": 63,
   "id": "6ac41d48-ef3d-459f-a058-f97deb936292",
   "metadata": {},
   "outputs": [
    {
     "data": {
      "text/plain": [
       "'Number Of At-Risk Rural Hospitals Per State'"
      ]
     },
     "execution_count": 63,
     "metadata": {},
     "output_type": "execute_result"
    }
   ],
   "source": [
    "\"NUMBER OF AT-RISK RURAL HOSPITALS PER STATE\".title()"
   ]
  },
  {
   "cell_type": "code",
   "execution_count": null,
   "id": "67018fb9-b783-4223-8cbe-90eb7a4bccd0",
   "metadata": {},
   "outputs": [],
   "source": []
  }
 ],
 "metadata": {
  "kernelspec": {
   "display_name": "Python 3 (ipykernel)",
   "language": "python",
   "name": "python3"
  },
  "language_info": {
   "codemirror_mode": {
    "name": "ipython",
    "version": 3
   },
   "file_extension": ".py",
   "mimetype": "text/x-python",
   "name": "python",
   "nbconvert_exporter": "python",
   "pygments_lexer": "ipython3",
   "version": "3.11.11"
  }
 },
 "nbformat": 4,
 "nbformat_minor": 5
}
