{
 "cells": [
  {
   "cell_type": "code",
   "execution_count": 1,
   "id": "8eca3131-85dc-48b3-b640-f384104e123c",
   "metadata": {},
   "outputs": [],
   "source": [
    "import json\n",
    "import os"
   ]
  },
  {
   "cell_type": "code",
   "execution_count": 29,
   "id": "bc436e38-234d-44fd-b67b-d1f2974606d3",
   "metadata": {},
   "outputs": [],
   "source": [
    "from bs4 import BeautifulSoup\n",
    "import cloudscraper\n",
    "import geopandas as gpd\n",
    "import numpy as np\n",
    "import pandas as pd"
   ]
  },
  {
   "cell_type": "code",
   "execution_count": 3,
   "id": "13bbdea5-6ae9-4a3a-937a-12bb704da0f4",
   "metadata": {},
   "outputs": [],
   "source": [
    "from shapely.geometry import Point\n",
    "from tqdm.notebook import tqdm"
   ]
  },
  {
   "cell_type": "markdown",
   "id": "44a3df26-78d3-479c-99a2-c0e1ba91352e",
   "metadata": {},
   "source": [
    "## Get State Data"
   ]
  },
  {
   "cell_type": "code",
   "execution_count": 4,
   "id": "615eeabf-033b-425a-a81f-d7b4dd9e3a3e",
   "metadata": {},
   "outputs": [],
   "source": [
    "file_path = \"data/cb_2018_us_state_500k/cb_2018_us_state_500k.shp\"\n",
    "states_df = gpd.read_file(file_path)"
   ]
  },
  {
   "cell_type": "code",
   "execution_count": 5,
   "id": "502c6bfe-0912-4d37-95b0-47e7a14b468f",
   "metadata": {},
   "outputs": [],
   "source": [
    "states_df = states_df[[\"STUSPS\", \"NAME\", \"geometry\"]]"
   ]
  },
  {
   "cell_type": "markdown",
   "id": "4257620c-13d7-4071-bae2-a5a2aeae5ba7",
   "metadata": {},
   "source": [
    "## Get Population data"
   ]
  },
  {
   "cell_type": "code",
   "execution_count": 6,
   "id": "6c0e7a1d-5a9a-4c10-a5d4-28dc681a8a27",
   "metadata": {},
   "outputs": [],
   "source": [
    "state_populations = pd.read_excel(\n",
    "    \"data/NST-EST2023-POP.xlsx\", sheet_name=None, engine=\"openpyxl\"\n",
    ")"
   ]
  },
  {
   "cell_type": "code",
   "execution_count": 7,
   "id": "2614c2ab-96ec-4304-a287-6fd013fedbbb",
   "metadata": {},
   "outputs": [],
   "source": [
    "state_populations_df = state_populations[\"NST-EST2023-POP\"][\n",
    "    [\n",
    "        \"table with row headers in column A and column headers in rows 3 through 4. (leading dots indicate sub-parts)\",\n",
    "        \"Unnamed: 5\",\n",
    "    ]\n",
    "]\n",
    "state_populations_df = state_populations_df.rename(\n",
    "    columns={\n",
    "        \"table with row headers in column A and column headers in rows 3 through 4. (leading dots indicate sub-parts)\": \"NAME\",\n",
    "        \"Unnamed: 5\": \"POPULATION\",\n",
    "    }\n",
    ")\n",
    "state_populations_df[\"NAME\"] = state_populations_df[\"NAME\"].str[1:]"
   ]
  },
  {
   "cell_type": "code",
   "execution_count": 8,
   "id": "2a1a8b6e-a0bf-486b-b62e-46a23ca718e2",
   "metadata": {},
   "outputs": [],
   "source": [
    "states_with_population_df = states_df.merge(state_populations_df, on=\"NAME\", how=\"left\")\n",
    "states_with_population_df = states_with_population_df[\n",
    "    [\"STUSPS\", \"NAME\", \"POPULATION\", \"geometry\"]\n",
    "]"
   ]
  },
  {
   "cell_type": "markdown",
   "id": "6d2f1ce9-a36c-4292-99a0-ad42032c5ad4",
   "metadata": {},
   "source": [
    "## Get Bojangles Data"
   ]
  },
  {
   "cell_type": "code",
   "execution_count": 9,
   "id": "9faa75ce-1dcd-44bc-84f2-6eb1011f9727",
   "metadata": {},
   "outputs": [],
   "source": [
    "scraper = cloudscraper.create_scraper()"
   ]
  },
  {
   "cell_type": "code",
   "execution_count": 12,
   "id": "57180847-49ee-46cc-9612-bfebcd53bed2",
   "metadata": {},
   "outputs": [
    {
     "data": {
      "application/vnd.jupyter.widget-view+json": {
       "model_id": "9a3268ecdb5f4413b532aeee87a88e8e",
       "version_major": 2,
       "version_minor": 0
      },
      "text/plain": [
       "Parsing States:   0%|          | 0/56 [00:00<?, ?it/s]"
      ]
     },
     "metadata": {},
     "output_type": "display_data"
    },
    {
     "data": {
      "application/vnd.jupyter.widget-view+json": {
       "model_id": "ab7a39c5c7f646859fec3e32d6421df3",
       "version_major": 2,
       "version_minor": 0
      },
      "text/plain": [
       "Parsing Locations In nc:   0%|          | 0/193 [00:00<?, ?it/s]"
      ]
     },
     "metadata": {},
     "output_type": "display_data"
    },
    {
     "name": "stdout",
     "output_type": "stream",
     "text": [
      "Oklahoma\n"
     ]
    },
    {
     "data": {
      "application/vnd.jupyter.widget-view+json": {
       "model_id": "1f6e800739ce4bf0bd3c16857103d951",
       "version_major": 2,
       "version_minor": 0
      },
      "text/plain": [
       "Parsing Locations In va:   0%|          | 0/55 [00:00<?, ?it/s]"
      ]
     },
     "metadata": {},
     "output_type": "display_data"
    },
    {
     "data": {
      "application/vnd.jupyter.widget-view+json": {
       "model_id": "c44967a06da44ded817eba97aaab57c1",
       "version_major": 2,
       "version_minor": 0
      },
      "text/plain": [
       "Parsing Locations In wv:   0%|          | 0/1 [00:00<?, ?it/s]"
      ]
     },
     "metadata": {},
     "output_type": "display_data"
    },
    {
     "data": {
      "application/vnd.jupyter.widget-view+json": {
       "model_id": "b2a88bb808da47588ba8137c38ea49e7",
       "version_major": 2,
       "version_minor": 0
      },
      "text/plain": [
       "Parsing Locations In la:   0%|          | 0/4 [00:00<?, ?it/s]"
      ]
     },
     "metadata": {},
     "output_type": "display_data"
    },
    {
     "name": "stdout",
     "output_type": "stream",
     "text": [
      "Michigan\n",
      "Massachusetts\n",
      "Idaho\n"
     ]
    },
    {
     "data": {
      "application/vnd.jupyter.widget-view+json": {
       "model_id": "764fcfc34797410f89fe62c2645d3a61",
       "version_major": 2,
       "version_minor": 0
      },
      "text/plain": [
       "Parsing Locations In fl:   0%|          | 0/7 [00:00<?, ?it/s]"
      ]
     },
     "metadata": {},
     "output_type": "display_data"
    },
    {
     "name": "stdout",
     "output_type": "stream",
     "text": [
      "Nebraska\n",
      "Washington\n",
      "New Mexico\n",
      "Puerto Rico\n",
      "South Dakota\n"
     ]
    },
    {
     "data": {
      "application/vnd.jupyter.widget-view+json": {
       "model_id": "6b7f5ab2df9541ea904d14dc652dcaf7",
       "version_major": 2,
       "version_minor": 0
      },
      "text/plain": [
       "Parsing Locations In tx:   0%|          | 0/11 [00:00<?, ?it/s]"
      ]
     },
     "metadata": {},
     "output_type": "display_data"
    },
    {
     "name": "stdout",
     "output_type": "stream",
     "text": [
      "California\n"
     ]
    },
    {
     "data": {
      "application/vnd.jupyter.widget-view+json": {
       "model_id": "94576184ab724513b8a3f4d39540d7eb",
       "version_major": 2,
       "version_minor": 0
      },
      "text/plain": [
       "Parsing Locations In al:   0%|          | 0/29 [00:00<?, ?it/s]"
      ]
     },
     "metadata": {},
     "output_type": "display_data"
    },
    {
     "data": {
      "application/vnd.jupyter.widget-view+json": {
       "model_id": "016fabc7385a44d2b430e55fc2a6754a",
       "version_major": 2,
       "version_minor": 0
      },
      "text/plain": [
       "Parsing Locations In ga:   0%|          | 0/84 [00:00<?, ?it/s]"
      ]
     },
     "metadata": {},
     "output_type": "display_data"
    },
    {
     "data": {
      "application/vnd.jupyter.widget-view+json": {
       "model_id": "d16ffb744e7944898186d8d866a53628",
       "version_major": 2,
       "version_minor": 0
      },
      "text/plain": [
       "Parsing Locations In pa:   0%|          | 0/2 [00:00<?, ?it/s]"
      ]
     },
     "metadata": {},
     "output_type": "display_data"
    },
    {
     "name": "stdout",
     "output_type": "stream",
     "text": [
      "Missouri\n",
      "Colorado\n",
      "Utah\n"
     ]
    },
    {
     "data": {
      "application/vnd.jupyter.widget-view+json": {
       "model_id": "bfca808b116146a484930e7f4253aa00",
       "version_major": 2,
       "version_minor": 0
      },
      "text/plain": [
       "Parsing Locations In tn:   0%|          | 0/51 [00:00<?, ?it/s]"
      ]
     },
     "metadata": {},
     "output_type": "display_data"
    },
    {
     "name": "stdout",
     "output_type": "stream",
     "text": [
      "Wyoming\n",
      "New York\n",
      "Kansas\n",
      "Alaska\n"
     ]
    },
    {
     "data": {
      "application/vnd.jupyter.widget-view+json": {
       "model_id": "ff7a4154f7f146118043b122d2778b21",
       "version_major": 2,
       "version_minor": 0
      },
      "text/plain": [
       "Parsing Locations In nv:   0%|          | 0/1 [00:00<?, ?it/s]"
      ]
     },
     "metadata": {},
     "output_type": "display_data"
    },
    {
     "data": {
      "application/vnd.jupyter.widget-view+json": {
       "model_id": "a9de4aa1668643a9a857476b5a999c79",
       "version_major": 2,
       "version_minor": 0
      },
      "text/plain": [
       "Parsing Locations In il:   0%|          | 0/3 [00:00<?, ?it/s]"
      ]
     },
     "metadata": {},
     "output_type": "display_data"
    },
    {
     "name": "stdout",
     "output_type": "stream",
     "text": [
      "Vermont\n",
      "Montana\n",
      "Iowa\n"
     ]
    },
    {
     "data": {
      "application/vnd.jupyter.widget-view+json": {
       "model_id": "91829b9acb9c43708bbe13ac956ac829",
       "version_major": 2,
       "version_minor": 0
      },
      "text/plain": [
       "Parsing Locations In sc:   0%|          | 0/92 [00:00<?, ?it/s]"
      ]
     },
     "metadata": {},
     "output_type": "display_data"
    },
    {
     "name": "stdout",
     "output_type": "stream",
     "text": [
      "New Hampshire\n",
      "Arizona\n",
      "District of Columbia\n",
      "American Samoa\n",
      "United States Virgin Islands\n",
      "New Jersey\n"
     ]
    },
    {
     "data": {
      "application/vnd.jupyter.widget-view+json": {
       "model_id": "7cd95836efa4479db69f855d14559ccd",
       "version_major": 2,
       "version_minor": 0
      },
      "text/plain": [
       "Parsing Locations In md:   0%|          | 0/1 [00:00<?, ?it/s]"
      ]
     },
     "metadata": {},
     "output_type": "display_data"
    },
    {
     "name": "stdout",
     "output_type": "stream",
     "text": [
      "Maine\n",
      "Hawaii\n",
      "Delaware\n",
      "Guam\n",
      "Commonwealth of the Northern Mariana Islands\n",
      "Rhode Island\n"
     ]
    },
    {
     "data": {
      "application/vnd.jupyter.widget-view+json": {
       "model_id": "f0e3a1f58cb348ce8bdbf1cd8bfb016a",
       "version_major": 2,
       "version_minor": 0
      },
      "text/plain": [
       "Parsing Locations In ky:   0%|          | 0/7 [00:00<?, ?it/s]"
      ]
     },
     "metadata": {},
     "output_type": "display_data"
    },
    {
     "data": {
      "application/vnd.jupyter.widget-view+json": {
       "model_id": "60440298a6c94df38300f9195cc70ca4",
       "version_major": 2,
       "version_minor": 0
      },
      "text/plain": [
       "Parsing Locations In oh:   0%|          | 0/4 [00:00<?, ?it/s]"
      ]
     },
     "metadata": {},
     "output_type": "display_data"
    },
    {
     "name": "stdout",
     "output_type": "stream",
     "text": [
      "Wisconsin\n",
      "Oregon\n",
      "North Dakota\n"
     ]
    },
    {
     "data": {
      "application/vnd.jupyter.widget-view+json": {
       "model_id": "67030123f34047d18f0c7f3132b76fd4",
       "version_major": 2,
       "version_minor": 0
      },
      "text/plain": [
       "Parsing Locations In ar:   0%|          | 0/2 [00:00<?, ?it/s]"
      ]
     },
     "metadata": {},
     "output_type": "display_data"
    },
    {
     "name": "stdout",
     "output_type": "stream",
     "text": [
      "Indiana\n",
      "Minnesota\n",
      "Connecticut\n"
     ]
    }
   ],
   "source": [
    "store_list = []\n",
    "url_base = \"https://locations.bojangles.com/\"\n",
    "for i in tqdm(range(len(states_df)), desc=\"Parsing States\"):\n",
    "    # Get State code\n",
    "    state_store_list = []\n",
    "    state_code = states_df.iloc[i][\"STUSPS\"].lower()\n",
    "\n",
    "    # If File exists continue\n",
    "    if os.path.isfile(f\"data/states/{state_code}.gpkg\"):\n",
    "        continue\n",
    "\n",
    "    # Get all locations in a state\n",
    "    url = os.path.join(url_base, f\"{state_code}.html\")\n",
    "    r = scraper.get(url)\n",
    "\n",
    "    if r.status_code != 200:\n",
    "        print(states_df.iloc[i][\"NAME\"])\n",
    "        continue\n",
    "\n",
    "    soup = BeautifulSoup(r.text, \"html.parser\")\n",
    "    locations_as = soup.find_all(\n",
    "        \"a\",\n",
    "        {\n",
    "            \"class\": \"Link flex lg:inline-block w-full lg:w-fit items-center justify-between\"\n",
    "        },\n",
    "    )\n",
    "\n",
    "    # Parse all locations in a state\n",
    "    for locations_a in tqdm(locations_as, desc=f\"Parsing Locations In {state_code}\"):\n",
    "        href = locations_a.attrs[\"href\"]\n",
    "        span = locations_a.find(\"span\").attrs\n",
    "        location_url = url_base + href\n",
    "\n",
    "        r = scraper.get(location_url)\n",
    "        location_soup = BeautifulSoup(r.text, \"html.parser\")\n",
    "        details_divs = location_soup.find_all(\n",
    "            \"div\",\n",
    "            {\n",
    "                \"class\": \"flex gap-2 p-4 justify-center items-center flex-1 rounded-br-[10px] border-t border-l border-gray-300 bg-white hover:bg-brand-gray-200\"\n",
    "            },\n",
    "        )\n",
    "\n",
    "        # Parse through all stores\n",
    "        for detail_div in details_divs:\n",
    "            details_a = detail_div.find(\n",
    "                \"a\",\n",
    "                {\n",
    "                    \"class\": \"Link link-underline font-normal text-[12px] leading-normal font-secondary text-black\"\n",
    "                },\n",
    "            )\n",
    "            store_param = details_a.attrs[\"href\"]\n",
    "            store_url = store_param.replace(\"../\", url_base)\n",
    "\n",
    "            r = scraper.get(store_url)\n",
    "            store_soup = BeautifulSoup(r.text, \"html.parser\")\n",
    "            store_info_dict = json.loads(\n",
    "                store_soup.find_all(\"script\", {\"type\": \"application/ld+json\"})[0].text\n",
    "            )\n",
    "            coords = store_info_dict[\"@graph\"][0][\"geo\"]\n",
    "            point = Point(coords[\"longitude\"], coords[\"latitude\"])\n",
    "            store_dict = {\n",
    "                \"STATE\": state_code,\n",
    "                \"geometry\": point,\n",
    "            }\n",
    "            store_list.append(store_dict)\n",
    "            state_store_list.append(store_dict)\n",
    "\n",
    "    if state_store_list:\n",
    "        bojangles_state_gdf = gpd.GeoDataFrame(state_store_list, crs=4326)\n",
    "        bojangles_state_gdf.to_file(f\"data/states/{state_code}.gpkg\")\n",
    "\n",
    "bojangles_state_gdf = gpd.GeoDataFrame(store_list, crs=4326)\n",
    "bojangles_state_gdf.to_file(f\"data/stores.gpkg\")"
   ]
  },
  {
   "cell_type": "markdown",
   "id": "f2e1d560-e60f-4655-9502-3ba103884809",
   "metadata": {},
   "source": [
    "#### If the above cells breaks just keep running until complete. Then run the line below"
   ]
  },
  {
   "cell_type": "code",
   "execution_count": 16,
   "id": "48487d99-9fc6-4650-9192-c142c5d86cc3",
   "metadata": {},
   "outputs": [],
   "source": [
    "bojangles_state_gdfs = []\n",
    "states_path = \"data/states\"\n",
    "for file in os.listdir(\"data/states\"):\n",
    "    constructed_path = os.path.join(states_path, file)\n",
    "    if constructed_path.endswith(\".gpkg\"):\n",
    "        state_bojangle_gdf = gpd.read_file(constructed_path)\n",
    "        bojangles_state_gdfs.append(state_bojangle_gdf)"
   ]
  },
  {
   "cell_type": "code",
   "execution_count": 17,
   "id": "4700ceff-80d8-4b4a-97af-f6d9c801c052",
   "metadata": {},
   "outputs": [],
   "source": [
    "bojangle_state_gdf = gpd.GeoDataFrame(\n",
    "    pd.concat(bojangles_state_gdfs, ignore_index=True)\n",
    ")"
   ]
  },
  {
   "cell_type": "code",
   "execution_count": 18,
   "id": "30cdf6ab-4324-457b-bfc1-215c1c9fe2ce",
   "metadata": {},
   "outputs": [],
   "source": [
    "bojangle_state_gdf = bojangle_state_gdf.to_crs(9311)\n",
    "bojangle_state_gdf.to_file(f\"data/stores.gpkg\")"
   ]
  },
  {
   "cell_type": "markdown",
   "id": "94cb32a2-faf0-40fa-8616-e8f2275eca72",
   "metadata": {},
   "source": [
    "## Combine With States"
   ]
  },
  {
   "cell_type": "code",
   "execution_count": 19,
   "id": "eba6646a-fb99-4d01-9b3f-adf29223cb03",
   "metadata": {},
   "outputs": [],
   "source": [
    "bojangle_state_counts_series = bojangle_state_gdf.groupby(\"STATE\").size()\n",
    "bojangles_state_counts_df = pd.DataFrame(\n",
    "    {\n",
    "        \"STUSPS\": bojangle_state_counts_series.index,\n",
    "        \"stores\": bojangle_state_counts_series.values,\n",
    "    }\n",
    ")"
   ]
  },
  {
   "cell_type": "code",
   "execution_count": 20,
   "id": "d0d5933d-9164-47af-8cd6-95632ca56726",
   "metadata": {},
   "outputs": [],
   "source": [
    "bojangles_state_counts_df[\"STUSPS\"] = bojangles_state_counts_df[\"STUSPS\"].str.upper()"
   ]
  },
  {
   "cell_type": "code",
   "execution_count": 21,
   "id": "c062806b-5f76-4d7e-a226-31383a266b6a",
   "metadata": {},
   "outputs": [],
   "source": [
    "bojangles_state_counts_df = states_with_population_df.merge(\n",
    "    bojangles_state_counts_df, on=\"STUSPS\", how=\"left\"\n",
    ")"
   ]
  },
  {
   "cell_type": "code",
   "execution_count": 23,
   "id": "300ee45e-48b8-48f6-9a3a-efd4904a5efe",
   "metadata": {},
   "outputs": [],
   "source": [
    "bojangles_state_counts_df = bojangles_state_counts_df.fillna(0)\n",
    "bojangles_state_counts_df[\"stores\"] = bojangles_state_counts_df[\"stores\"].astype(int)"
   ]
  },
  {
   "cell_type": "code",
   "execution_count": 24,
   "id": "8e8b581c-4e0c-40b8-81a9-4ea014470b40",
   "metadata": {},
   "outputs": [],
   "source": [
    "bojangles_state_counts_df[\"per_1000\"] = bojangles_state_counts_df[\"stores\"] / (\n",
    "    bojangles_state_counts_df[\"POPULATION\"] / 1000\n",
    ")\n",
    "bojangles_state_counts_df[\"per_10k\"] = bojangles_state_counts_df[\"stores\"] / (\n",
    "    bojangles_state_counts_df[\"POPULATION\"] / 10_000\n",
    ")\n",
    "bojangles_state_counts_df[\"per_100k\"] = bojangles_state_counts_df[\"stores\"] / (\n",
    "    bojangles_state_counts_df[\"POPULATION\"] / 100000\n",
    ")\n",
    "bojangles_state_counts_df[\"per_500k\"] = bojangles_state_counts_df[\"stores\"] / (\n",
    "    bojangles_state_counts_df[\"POPULATION\"] / 500_000\n",
    ")\n",
    "bojangles_state_counts_df[\"per_1m\"] = bojangles_state_counts_df[\"stores\"] / (\n",
    "    bojangles_state_counts_df[\"POPULATION\"] / 1_000_000\n",
    ")\n",
    "bojangles_state_counts_df[\"people_per_store\"] = (\n",
    "    bojangles_state_counts_df[\"POPULATION\"] / bojangles_state_counts_df[\"stores\"]\n",
    ")"
   ]
  },
  {
   "cell_type": "code",
   "execution_count": 33,
   "id": "92f3e01f-9b69-4511-b20c-9964e06ab29b",
   "metadata": {},
   "outputs": [],
   "source": [
    "bojangles_state_counts_df.replace([np.inf, -np.inf], 0, inplace=True)"
   ]
  },
  {
   "cell_type": "code",
   "execution_count": 36,
   "id": "6741ca4e-c605-4b01-b942-b2de84d9847d",
   "metadata": {},
   "outputs": [],
   "source": [
    "bojangles_state_counts_df[\"people_per_store\"] = bojangles_state_counts_df[\n",
    "    \"people_per_store\"\n",
    "].astype(int)"
   ]
  },
  {
   "cell_type": "code",
   "execution_count": 37,
   "id": "237a0e6a-ccc2-4f3b-baad-d36ce4ecc481",
   "metadata": {},
   "outputs": [],
   "source": [
    "bojangles_state_counts_df = bojangles_state_counts_df.dropna()"
   ]
  },
  {
   "cell_type": "code",
   "execution_count": 38,
   "id": "944acfaa-313b-4a9f-aecc-53fe95e188be",
   "metadata": {},
   "outputs": [],
   "source": [
    "bojangles_state_counts_df = bojangles_state_counts_df.to_crs(9311)\n",
    "bojangles_state_counts_df.to_file(f\"data/stores_by_states.gpkg\")"
   ]
  },
  {
   "cell_type": "code",
   "execution_count": null,
   "id": "3eba1b99-001c-4de4-9fe1-1a06ea51e118",
   "metadata": {},
   "outputs": [],
   "source": []
  }
 ],
 "metadata": {
  "kernelspec": {
   "display_name": "Python 3 (ipykernel)",
   "language": "python",
   "name": "python3"
  },
  "language_info": {
   "codemirror_mode": {
    "name": "ipython",
    "version": 3
   },
   "file_extension": ".py",
   "mimetype": "text/x-python",
   "name": "python",
   "nbconvert_exporter": "python",
   "pygments_lexer": "ipython3",
   "version": "3.11.11"
  }
 },
 "nbformat": 4,
 "nbformat_minor": 5
}
