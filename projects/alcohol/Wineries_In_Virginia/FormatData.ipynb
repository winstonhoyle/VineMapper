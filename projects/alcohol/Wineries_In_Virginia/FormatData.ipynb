{
 "cells": [
  {
   "cell_type": "code",
   "execution_count": 108,
   "id": "1974ff54-39b8-4e30-b3b2-37733ac28fda",
   "metadata": {},
   "outputs": [],
   "source": [
    "import os"
   ]
  },
  {
   "cell_type": "code",
   "execution_count": 109,
   "id": "ea8798c7-edff-4cf9-9a5d-cf4f1b6dea91",
   "metadata": {},
   "outputs": [],
   "source": [
    "from bs4 import BeautifulSoup\n",
    "import cloudscraper\n",
    "import geopandas as gpd"
   ]
  },
  {
   "cell_type": "code",
   "execution_count": 110,
   "id": "467a71cd-9c28-494b-ae02-8cef83538ef9",
   "metadata": {},
   "outputs": [],
   "source": [
    "from shapely.geometry import Point\n",
    "from tqdm.notebook import tqdm"
   ]
  },
  {
   "cell_type": "markdown",
   "id": "dcec5b28-d761-47be-9821-f064b458a607",
   "metadata": {},
   "source": [
    "## Get Winery Data"
   ]
  },
  {
   "cell_type": "code",
   "execution_count": 90,
   "id": "2544a2e2-ccde-4a7f-a36a-5bb5db2f7327",
   "metadata": {
    "scrolled": true
   },
   "outputs": [
    {
     "data": {
      "application/vnd.jupyter.widget-view+json": {
       "model_id": "e55c44ab77b84d1ca3f9a9862ad48cf5",
       "version_major": 2,
       "version_minor": 0
      },
      "text/plain": [
       "Looping Through wineries:   0%|          | 0/300 [00:00<?, ?it/s]"
      ]
     },
     "metadata": {},
     "output_type": "display_data"
    },
    {
     "name": "stdout",
     "output_type": "stream",
     "text": [
      "could not convert string to float: ''\n",
      "https://www.virginiawine.org/wineries/dogwood-thistle-wine-company\n"
     ]
    }
   ],
   "source": [
    "winery_list = []\n",
    "\n",
    "url_root = \"https://www.virginiawine.org\"\n",
    "scraper = cloudscraper.create_scraper()\n",
    "r = scraper.get(os.path.join(url_root, \"wineries/all\"))\n",
    "states_winery_soup = BeautifulSoup(r.text, \"html.parser\")\n",
    "winery_lis = states_winery_soup.find_all(\"li\", {\"class\": \"winery-list__item\"})\n",
    "\n",
    "for winery_li in tqdm(winery_lis, desc=\"Looping Through wineries\"):\n",
    "    winery_url = f\"{url_root}{winery_li.find('a').attrs['href']}\"\n",
    "    r_winery = scraper.get(winery_url)\n",
    "    winery_soup = BeautifulSoup(r_winery.text, \"html.parser\")\n",
    "    try:\n",
    "        map_div = winery_soup.find(\"div\", {\"class\": \"card__map\"})\n",
    "        point = Point(\n",
    "            float(map_div.attrs[\"data-lng\"]), float(map_div.attrs[\"data-lat\"])\n",
    "        )\n",
    "        winery_list.append(point)\n",
    "    except Exception as e:\n",
    "        print(e)\n",
    "        print(winery_url)"
   ]
  },
  {
   "cell_type": "code",
   "execution_count": 92,
   "id": "91218e5d-bb89-4bcb-8b11-5dda16df74d7",
   "metadata": {},
   "outputs": [],
   "source": [
    "wineries_gdf = gpd.GeoDataFrame({\"geometry\": winery_list}, crs=4326)"
   ]
  },
  {
   "cell_type": "code",
   "execution_count": 113,
   "id": "43d4f463-2084-4d3e-bdc6-2c24a0132aeb",
   "metadata": {},
   "outputs": [],
   "source": [
    "wineries_gdf = wineries_gdf.to_crs(3968)\n",
    "wineries_gdf.to_file(\"data/wineries.gpkg\")"
   ]
  },
  {
   "cell_type": "code",
   "execution_count": null,
   "id": "bf98c595-a5fb-4b26-b64a-e054c1827ba5",
   "metadata": {},
   "outputs": [],
   "source": []
  }
 ],
 "metadata": {
  "kernelspec": {
   "display_name": "Python 3 (ipykernel)",
   "language": "python",
   "name": "python3"
  },
  "language_info": {
   "codemirror_mode": {
    "name": "ipython",
    "version": 3
   },
   "file_extension": ".py",
   "mimetype": "text/x-python",
   "name": "python",
   "nbconvert_exporter": "python",
   "pygments_lexer": "ipython3",
   "version": "3.11.11"
  }
 },
 "nbformat": 4,
 "nbformat_minor": 5
}
