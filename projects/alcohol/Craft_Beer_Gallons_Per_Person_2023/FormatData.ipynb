{
 "cells": [
  {
   "cell_type": "code",
   "execution_count": 1,
   "id": "af26803a-0cf2-46b5-8cd8-c9ff26aeb93f",
   "metadata": {},
   "outputs": [],
   "source": [
    "import requests"
   ]
  },
  {
   "cell_type": "code",
   "execution_count": 2,
   "id": "1e21a849-2668-43d2-b15c-1efd924dc7ba",
   "metadata": {},
   "outputs": [],
   "source": [
    "from bs4 import BeautifulSoup\n",
    "import geopandas as gpd\n",
    "import pandas as pd"
   ]
  },
  {
   "cell_type": "markdown",
   "id": "c55d5d3f-990a-4aaf-a53b-05703741d09f",
   "metadata": {},
   "source": [
    "## Open GIS Data"
   ]
  },
  {
   "cell_type": "code",
   "execution_count": 3,
   "id": "2f5b05a6-4732-47eb-ada1-9fd09ccc63d3",
   "metadata": {},
   "outputs": [],
   "source": [
    "file_path = \"data/cb_2018_us_state_500k/cb_2018_us_state_500k.shp\"\n",
    "states_df = gpd.read_file(file_path)"
   ]
  },
  {
   "cell_type": "markdown",
   "id": "c671bfc1-cb70-4a27-aa55-0c2dac7ed7da",
   "metadata": {},
   "source": [
    "## Get Brewery Data"
   ]
  },
  {
   "cell_type": "code",
   "execution_count": 4,
   "id": "262009db-91e8-4a71-9d14-ac0423b25376",
   "metadata": {},
   "outputs": [],
   "source": [
    "r = requests.get(\n",
    "    \"https://worldpopulationreview.com/state-rankings/beer-production-by-state\"\n",
    ")"
   ]
  },
  {
   "cell_type": "code",
   "execution_count": 5,
   "id": "9605c38a-b065-42ed-a502-9b657ad31b3b",
   "metadata": {},
   "outputs": [],
   "source": [
    "soup = BeautifulSoup(r.text, \"html.parser\")"
   ]
  },
  {
   "cell_type": "code",
   "execution_count": 14,
   "id": "7d17f238-bcda-4ddd-901a-40bdfdaf7d32",
   "metadata": {},
   "outputs": [],
   "source": [
    "larger_table = soup.find_all(\"table\")[1]"
   ]
  },
  {
   "cell_type": "code",
   "execution_count": 15,
   "id": "29ac5bc4-2849-4887-b22a-51dfeee23573",
   "metadata": {},
   "outputs": [
    {
     "data": {
      "text/plain": [
       "'4.5M'"
      ]
     },
     "execution_count": 15,
     "metadata": {},
     "output_type": "execute_result"
    }
   ],
   "source": [
    "tr = larger_table.find_all(\"tr\", {\"class\": \"table-row\"})[0]\n",
    "tr.find_all(\"th\")[0].text\n",
    "float(tr.find_all(\"td\")[3].text)"
   ]
  },
  {
   "cell_type": "code",
   "execution_count": 24,
   "id": "4e7d6dd4-cfaa-4ffd-a15b-b620856d426b",
   "metadata": {},
   "outputs": [
    {
     "data": {
      "text/plain": [
       "'Ohio'"
      ]
     },
     "execution_count": 24,
     "metadata": {},
     "output_type": "execute_result"
    }
   ],
   "source": [
    "tr.find(\"th\").text"
   ]
  },
  {
   "cell_type": "code",
   "execution_count": 25,
   "id": "13b737b7-6ca7-4293-b85e-436760bfc6a5",
   "metadata": {},
   "outputs": [],
   "source": [
    "states = []\n",
    "amounts = []\n",
    "for tr in larger_table.find_all(\"tr\", {\"class\": \"table-row\"}):\n",
    "    state = tr.find(\"th\").text\n",
    "    amount = float(tr.find_all(\"td\")[3].text)\n",
    "    states.append(state)\n",
    "    amounts.append(amount)"
   ]
  },
  {
   "cell_type": "code",
   "execution_count": 29,
   "id": "f34f2280-0be7-42fa-8236-19a954dd86e5",
   "metadata": {},
   "outputs": [],
   "source": [
    "beer_df = pd.DataFrame({\"NAME\": states, \"BEER_G\": amounts})\n",
    "beer_df = beer_df.drop_duplicates()"
   ]
  },
  {
   "cell_type": "markdown",
   "id": "5c57d0bb-7a83-4577-99db-2af63d6278de",
   "metadata": {},
   "source": [
    "## Format data and Calculate per 100k"
   ]
  },
  {
   "cell_type": "code",
   "execution_count": 30,
   "id": "fe2b0f1a-b835-429f-9529-477a2d9a2a6b",
   "metadata": {},
   "outputs": [],
   "source": [
    "beer_per_state_gdf = states_df[[\"geometry\", \"NAME\"]].merge(\n",
    "    beer_df, on=\"NAME\", how=\"inner\"\n",
    ")"
   ]
  },
  {
   "cell_type": "code",
   "execution_count": 32,
   "id": "ec1fd26f-59c0-44d4-83aa-603a7958db41",
   "metadata": {},
   "outputs": [],
   "source": [
    "beer_per_state_gdf = beer_per_state_gdf.to_crs(9311)"
   ]
  },
  {
   "cell_type": "code",
   "execution_count": 33,
   "id": "6297825c-0b30-4c0f-a3b9-e6b2ae15183c",
   "metadata": {},
   "outputs": [],
   "source": [
    "beer_per_state_gdf.to_file(\"data/beer.gpkg\")"
   ]
  },
  {
   "cell_type": "code",
   "execution_count": null,
   "id": "374f8aa8-af45-4811-a935-2f1f2b2c879d",
   "metadata": {},
   "outputs": [],
   "source": []
  }
 ],
 "metadata": {
  "kernelspec": {
   "display_name": "Python 3 (ipykernel)",
   "language": "python",
   "name": "python3"
  },
  "language_info": {
   "codemirror_mode": {
    "name": "ipython",
    "version": 3
   },
   "file_extension": ".py",
   "mimetype": "text/x-python",
   "name": "python",
   "nbconvert_exporter": "python",
   "pygments_lexer": "ipython3",
   "version": "3.11.11"
  }
 },
 "nbformat": 4,
 "nbformat_minor": 5
}
