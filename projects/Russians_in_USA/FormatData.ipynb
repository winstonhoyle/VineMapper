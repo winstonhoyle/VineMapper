{
 "cells": [
  {
   "cell_type": "code",
   "execution_count": 1,
   "id": "f7ed976d-3ef0-45d1-b90c-dc80a6edc1d7",
   "metadata": {},
   "outputs": [],
   "source": [
    "import json"
   ]
  },
  {
   "cell_type": "code",
   "execution_count": 2,
   "id": "3602774a-bece-40da-bc0b-6d2b1b531eaa",
   "metadata": {},
   "outputs": [],
   "source": [
    "import requests\n",
    "import geopandas as gpd\n",
    "import pandas as pd"
   ]
  },
  {
   "cell_type": "code",
   "execution_count": 3,
   "id": "cf9c8eeb-1a35-4d43-bc5b-c28c79bd1d64",
   "metadata": {},
   "outputs": [],
   "source": [
    "from bs4 import BeautifulSoup\n",
    "import country_converter"
   ]
  },
  {
   "cell_type": "markdown",
   "id": "1c73ab1f-e735-4ef1-ab14-4cb84611ae0a",
   "metadata": {},
   "source": [
    "## Open GIS Data"
   ]
  },
  {
   "cell_type": "code",
   "execution_count": 4,
   "id": "4a14f105-db30-45fb-af3b-77ca20dbf12c",
   "metadata": {},
   "outputs": [],
   "source": [
    "file_path = \"data/cb_2018_us_state_500k/cb_2018_us_state_500k.shp\"\n",
    "states_df = gpd.read_file(file_path)"
   ]
  },
  {
   "cell_type": "markdown",
   "id": "2f277761-f727-4845-877d-b50bf6bbfd5c",
   "metadata": {},
   "source": [
    "## Get Population Data"
   ]
  },
  {
   "cell_type": "code",
   "execution_count": 17,
   "id": "eaadab37-4505-4635-8f55-cc4b994ff7e2",
   "metadata": {},
   "outputs": [],
   "source": [
    "state_populations = pd.read_excel(\n",
    "    \"data/NST-EST2023-POP.xlsx\", sheet_name=None, engine=\"openpyxl\"\n",
    ")"
   ]
  },
  {
   "cell_type": "code",
   "execution_count": 18,
   "id": "f03c9456-b532-421c-a18c-6bbeff060b10",
   "metadata": {},
   "outputs": [],
   "source": [
    "state_populations_df = state_populations[\"NST-EST2023-POP\"][\n",
    "    [\n",
    "        \"table with row headers in column A and column headers in rows 3 through 4. (leading dots indicate sub-parts)\",\n",
    "        \"Unnamed: 5\",\n",
    "    ]\n",
    "]\n",
    "state_populations_df = state_populations_df.rename(\n",
    "    columns={\n",
    "        \"table with row headers in column A and column headers in rows 3 through 4. (leading dots indicate sub-parts)\": \"NAME\",\n",
    "        \"Unnamed: 5\": \"POPULATION\",\n",
    "    }\n",
    ")\n",
    "state_populations_df[\"NAME\"] = state_populations_df[\"NAME\"].str[1:]"
   ]
  },
  {
   "cell_type": "code",
   "execution_count": 19,
   "id": "c7c7c485-df2b-4b2f-aaec-5524b9490566",
   "metadata": {},
   "outputs": [],
   "source": [
    "states_with_population_df = states_df.merge(state_populations_df, on=\"NAME\", how=\"left\")\n",
    "states_with_population_df = states_with_population_df[\n",
    "    [\"STUSPS\", \"POPULATION\", \"geometry\"]\n",
    "]"
   ]
  },
  {
   "cell_type": "code",
   "execution_count": 20,
   "id": "6c400f48-b2d3-4786-852b-327e00449a5e",
   "metadata": {},
   "outputs": [],
   "source": [
    "states_with_population_df = states_with_population_df.dropna()"
   ]
  },
  {
   "cell_type": "markdown",
   "id": "0fba7ad6-a134-470b-96e2-107fde947486",
   "metadata": {},
   "source": [
    "## Get Russian pops"
   ]
  },
  {
   "cell_type": "code",
   "execution_count": 9,
   "id": "dfec2cc5-18a6-4c98-af12-e2a86da62fe3",
   "metadata": {},
   "outputs": [],
   "source": [
    "headers = {\n",
    "    \"User-Agent\": \"Mozilla/5.0 (Macintosh; Intel Mac OS X 10_11_5) AppleWebKit/537.36 (KHTML, like Gecko) Chrome/50.0.2661.102 Safari/537.36\"\n",
    "}\n",
    "r = requests.get(\n",
    "    \"https://worldpopulationreview.com/state-rankings/russian-population-by-state\",\n",
    "    headers=headers,\n",
    ")"
   ]
  },
  {
   "cell_type": "code",
   "execution_count": 10,
   "id": "55c1412f-6c27-4a14-a131-bb426c2ded92",
   "metadata": {},
   "outputs": [],
   "source": [
    "soup = BeautifulSoup(r.text, \"html.parser\")\n",
    "table_rows = soup.find_all(\"tr\", {\"class\": \"table-row\"})"
   ]
  },
  {
   "cell_type": "code",
   "execution_count": 11,
   "id": "e3271417-a823-4d66-aa81-2c25bbcaa281",
   "metadata": {},
   "outputs": [],
   "source": [
    "state_list = []\n",
    "for table_row in table_rows:\n",
    "    state = table_row.find_all(\"a\")[0].text\n",
    "    tds = table_row.find_all(\n",
    "        \"td\", {\"class\": \"z-40 px-3 py-1.5 text-sm text-wpr-table_text md:px-4\"}\n",
    "    )\n",
    "    state_list.append(\n",
    "        {\n",
    "            \"NAME\": state,\n",
    "            \"RUSSIANS\": int(tds[0].text.replace(\",\", \"\")),\n",
    "            \"RUSSIAN_PERCENT\": float(tds[1].text.replace(\"%\", \"\")),\n",
    "        }\n",
    "    )"
   ]
  },
  {
   "cell_type": "code",
   "execution_count": 12,
   "id": "ddd79bff-6689-4fea-a4c3-1ae31a5e52f9",
   "metadata": {},
   "outputs": [],
   "source": [
    "russian_pop_df = pd.DataFrame(state_list)"
   ]
  },
  {
   "cell_type": "markdown",
   "id": "6cfad3eb-2d55-4258-ac9c-7c34e073d369",
   "metadata": {},
   "source": [
    "## Merge Data"
   ]
  },
  {
   "cell_type": "code",
   "execution_count": 34,
   "id": "0a699bf2-0be6-4b41-b764-d7753bb0ff52",
   "metadata": {},
   "outputs": [],
   "source": [
    "states_abv_df = states_df[['STUSPS','NAME']]states_with_population_df"
   ]
  },
  {
   "cell_type": "code",
   "execution_count": 41,
   "id": "3f408b50-21f6-402c-a5b1-aca2108827d4",
   "metadata": {},
   "outputs": [],
   "source": [
    "states_with_pop_gdf = states_with_population_df.merge(\n",
    "    states_abv_df, on=\"STUSPS\", how=\"left\"\n",
    ")"
   ]
  },
  {
   "cell_type": "code",
   "execution_count": 42,
   "id": "77c4d0eb-3be8-4dbb-9277-709d7a57ae4f",
   "metadata": {},
   "outputs": [],
   "source": [
    "russians_per_state_df = states_with_pop_gdf.merge(russian_pop_df, on=\"NAME\")"
   ]
  },
  {
   "cell_type": "code",
   "execution_count": 43,
   "id": "06a9422b-c47d-4887-9313-35955ae89084",
   "metadata": {},
   "outputs": [],
   "source": [
    "russians_per_state_df[\"per_100k\"] = russians_per_state_df[\"RUSSIANS\"] / (\n",
    "    russians_per_state_df[\"POPULATION\"] / 100000\n",
    ")\n",
    "russians_per_state_df[\"per_500k\"] = russians_per_state_df[\"RUSSIANS\"] / (\n",
    "    russians_per_state_df[\"POPULATION\"] / 500_000\n",
    ")\n",
    "russians_per_state_df[\"per_1m\"] = russians_per_state_df[\"RUSSIANS\"] / (\n",
    "    russians_per_state_df[\"POPULATION\"] / 1_000_000\n",
    ")\n",
    "russians_per_state_df[\"RUSSIAN_PERCENT_2023\"] = (\n",
    "    russians_per_state_df[\"RUSSIANS\"] / russians_per_state_df[\"POPULATION\"]\n",
    ")"
   ]
  },
  {
   "cell_type": "code",
   "execution_count": 44,
   "id": "fa151fd6-8c16-4e57-afb7-c21fa5eff1ca",
   "metadata": {},
   "outputs": [],
   "source": [
    "russians_per_state_df = russians_per_state_df[\n",
    "    [\n",
    "        \"STUSPS\",\n",
    "        \"geometry\",\n",
    "        \"RUSSIANS\",\n",
    "        \"RUSSIAN_PERCENT\",\n",
    "        \"RUSSIAN_PERCENT_2023\",\n",
    "        \"per_100k\",\n",
    "        \"per_500k\",\n",
    "        \"per_1m\",\n",
    "    ]\n",
    "]"
   ]
  },
  {
   "cell_type": "code",
   "execution_count": 45,
   "id": "cb82b408-71ab-4cdd-98c2-cedeccf83c38",
   "metadata": {},
   "outputs": [],
   "source": [
    "russians_per_state_df = russians_per_state_df.to_crs(9311)"
   ]
  },
  {
   "cell_type": "code",
   "execution_count": 46,
   "id": "26c28d2e-563f-4599-9050-b69188c4b73d",
   "metadata": {},
   "outputs": [],
   "source": [
    "russians_per_state_df.to_file(\"data/russians.gpkg\")"
   ]
  },
  {
   "cell_type": "code",
   "execution_count": null,
   "id": "fde853e2-4736-4daa-bd16-169ab75d1935",
   "metadata": {},
   "outputs": [],
   "source": []
  }
 ],
 "metadata": {
  "kernelspec": {
   "display_name": "Python 3 (ipykernel)",
   "language": "python",
   "name": "python3"
  },
  "language_info": {
   "codemirror_mode": {
    "name": "ipython",
    "version": 3
   },
   "file_extension": ".py",
   "mimetype": "text/x-python",
   "name": "python",
   "nbconvert_exporter": "python",
   "pygments_lexer": "ipython3",
   "version": "3.11.10"
  }
 },
 "nbformat": 4,
 "nbformat_minor": 5
}
