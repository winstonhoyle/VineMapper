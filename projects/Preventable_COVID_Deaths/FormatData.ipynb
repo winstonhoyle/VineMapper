{
 "cells": [
  {
   "cell_type": "code",
   "execution_count": 2,
   "id": "1ff896f6-cd67-4ff6-8d22-bf8818e3d205",
   "metadata": {},
   "outputs": [],
   "source": [
    "from bs4 import BeautifulSoup\n",
    "import geopandas as gpd\n",
    "import pandas as pd"
   ]
  },
  {
   "cell_type": "code",
   "execution_count": 19,
   "id": "cbe9716c-5756-4967-84a6-f72bfaa1d499",
   "metadata": {},
   "outputs": [],
   "source": [
    "import requests"
   ]
  },
  {
   "cell_type": "markdown",
   "id": "180ef575-5ded-4d45-9607-4c3c577bd712",
   "metadata": {},
   "source": [
    "## Get State Data"
   ]
  },
  {
   "cell_type": "code",
   "execution_count": 3,
   "id": "3cfd2819-b724-4e2c-924a-3cd397a4373d",
   "metadata": {},
   "outputs": [],
   "source": [
    "file_path = \"data/cb_2018_us_state_500k/cb_2018_us_state_500k.shp\"\n",
    "states_df = gpd.read_file(file_path)"
   ]
  },
  {
   "cell_type": "code",
   "execution_count": 4,
   "id": "dd688b76-3281-4d9b-bcf2-5ae6f86f2d67",
   "metadata": {},
   "outputs": [],
   "source": [
    "states_df = states_df[[\"STUSPS\", \"NAME\", \"geometry\"]]"
   ]
  },
  {
   "cell_type": "markdown",
   "id": "dff7917f-4bf0-4f06-86e3-3e3b8f161a5c",
   "metadata": {},
   "source": [
    "## Get Preventable Death Data"
   ]
  },
  {
   "cell_type": "code",
   "execution_count": 39,
   "id": "e362f6c2-fd3e-40a2-a3c0-1aab8dcfc4ef",
   "metadata": {},
   "outputs": [],
   "source": [
    "headers = {\n",
    "    \"User-Agent\": \"Mozilla/5.0 (Macintosh; Intel Mac OS X 10_11_5) AppleWebKit/537.36 (KHTML, like Gecko) Chrome/50.0.2661.102 Safari/537.36\"\n",
    "}"
   ]
  },
  {
   "cell_type": "code",
   "execution_count": 40,
   "id": "7541c7ae-0a1c-476c-b769-b3f54bbe00e6",
   "metadata": {},
   "outputs": [],
   "source": [
    "url = \"https://apps.npr.org/dailygraphics/graphics/vax-preventable-deaths-20220510/\""
   ]
  },
  {
   "cell_type": "code",
   "execution_count": 41,
   "id": "d8be2e3a-a6a2-467f-abae-e3688377b5f9",
   "metadata": {},
   "outputs": [],
   "source": [
    "r = requests.get(url, headers=headers)"
   ]
  },
  {
   "cell_type": "code",
   "execution_count": 42,
   "id": "81599cc5-8ce0-449d-b676-0acce562bccd",
   "metadata": {},
   "outputs": [],
   "source": [
    "soup = BeautifulSoup(r.text, \"html.parser\")"
   ]
  },
  {
   "cell_type": "code",
   "execution_count": 43,
   "id": "c9186d14-a662-4cb0-bf9f-1214d5fad667",
   "metadata": {},
   "outputs": [],
   "source": [
    "table = soup.find_all(\"table\", {\"id\": \"state-table\"})[0]"
   ]
  },
  {
   "cell_type": "code",
   "execution_count": 45,
   "id": "5a96646e-19df-46a9-9b28-8521bd247769",
   "metadata": {},
   "outputs": [],
   "source": [
    "preventable_deaths_dict = {\n",
    "    \"NAME\": [],\n",
    "    \"preventable_deaths\": [],\n",
    "    \"preventable_deaths_per_1m\": [],\n",
    "}\n",
    "for tr in table.find_all(\"tr\")[1:]:\n",
    "    tds = tr.find_all(\"td\")\n",
    "    preventable_deaths_dict[\"NAME\"].append(tds[0].text)\n",
    "    preventable_deaths_dict[\"preventable_deaths\"].append(\n",
    "        int(tds[1].text.replace(\",\", \"\"))\n",
    "    )\n",
    "    preventable_deaths_dict[\"preventable_deaths_per_1m\"].append(\n",
    "        int(tds[2].text.replace(\",\", \"\"))\n",
    "    )"
   ]
  },
  {
   "cell_type": "code",
   "execution_count": 46,
   "id": "f7d1f93a-9ad2-481f-826e-6c64abc7cf28",
   "metadata": {},
   "outputs": [],
   "source": [
    "preventable_deaths_df = pd.DataFrame(preventable_deaths_dict)"
   ]
  },
  {
   "cell_type": "markdown",
   "id": "b65362d0-58bc-4cc5-ba6a-b3a3b314a556",
   "metadata": {},
   "source": [
    "## Merge Data"
   ]
  },
  {
   "cell_type": "code",
   "execution_count": 50,
   "id": "b8579629-9f04-40ae-ac36-22e404dc57f0",
   "metadata": {},
   "outputs": [],
   "source": [
    "preventable_deaths_gdf = states_df.merge(preventable_deaths_df, on=\"NAME\", how=\"inner\")"
   ]
  },
  {
   "cell_type": "code",
   "execution_count": 52,
   "id": "8ba13214-4acc-4d90-95ee-e921ca7287a4",
   "metadata": {},
   "outputs": [],
   "source": [
    "preventable_deaths_gdf = preventable_deaths_gdf.to_crs(9311)"
   ]
  },
  {
   "cell_type": "code",
   "execution_count": 53,
   "id": "53b07f11-64b5-4aff-83be-7a8ce73633e2",
   "metadata": {},
   "outputs": [],
   "source": [
    "preventable_deaths_gdf.to_file(\"data/preventable_deaths.gpkg\")"
   ]
  },
  {
   "cell_type": "code",
   "execution_count": null,
   "id": "aa745e79-2b81-438c-8a01-d3e4e494f164",
   "metadata": {},
   "outputs": [],
   "source": []
  }
 ],
 "metadata": {
  "kernelspec": {
   "display_name": "Python 3 (ipykernel)",
   "language": "python",
   "name": "python3"
  },
  "language_info": {
   "codemirror_mode": {
    "name": "ipython",
    "version": 3
   },
   "file_extension": ".py",
   "mimetype": "text/x-python",
   "name": "python",
   "nbconvert_exporter": "python",
   "pygments_lexer": "ipython3",
   "version": "3.11.11"
  }
 },
 "nbformat": 4,
 "nbformat_minor": 5
}
