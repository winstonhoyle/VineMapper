{
 "cells": [
  {
   "cell_type": "code",
   "execution_count": 2,
   "id": "3f09eb12-f593-4e17-bf7f-507b5dce637e",
   "metadata": {},
   "outputs": [],
   "source": [
    "from fractions import Fraction"
   ]
  },
  {
   "cell_type": "code",
   "execution_count": 3,
   "id": "6c8b506a-4477-4416-bd68-b44f0b27a407",
   "metadata": {},
   "outputs": [],
   "source": [
    "import country_converter\n",
    "import geopandas as gpd\n",
    "import pandas as pd"
   ]
  },
  {
   "cell_type": "markdown",
   "id": "501b8f83-ceb2-4292-93d5-56f8dcd37cd8",
   "metadata": {},
   "source": [
    "## Open Geojson"
   ]
  },
  {
   "cell_type": "code",
   "execution_count": 4,
   "id": "4b832cd6-014c-4a54-b0c0-6b42255e20ce",
   "metadata": {},
   "outputs": [],
   "source": [
    "european_countries_gdf = gpd.read_file(\"data/europe.geojson\")"
   ]
  },
  {
   "cell_type": "markdown",
   "id": "0643d5ed-8563-475d-9572-3c635f6f8104",
   "metadata": {},
   "source": [
    "## Get Socialist data"
   ]
  },
  {
   "cell_type": "code",
   "execution_count": 5,
   "id": "ba325d9f-213d-4d40-977b-a21c142f50a5",
   "metadata": {},
   "outputs": [],
   "source": [
    "res = pd.read_html(\n",
    "    \"https://en.wikipedia.org/wiki/Party_of_European_Socialists#Full_members\"\n",
    ")"
   ]
  },
  {
   "cell_type": "code",
   "execution_count": 6,
   "id": "056037f3-14d2-4458-b3dd-cffca14ce7a4",
   "metadata": {},
   "outputs": [],
   "source": [
    "original_socialist_df = res[1][[\"State\", \"MEPs[a]\"]]"
   ]
  },
  {
   "cell_type": "code",
   "execution_count": 7,
   "id": "995cafe3-a9ae-4654-b974-4f1bd64beb18",
   "metadata": {},
   "outputs": [],
   "source": [
    "original_socialist_df = original_socialist_df[\n",
    "    original_socialist_df[\"MEPs[a]\"] != \"Not in EU\"\n",
    "].reset_index()"
   ]
  },
  {
   "cell_type": "markdown",
   "id": "a5990b00-8b12-4524-a7d6-2b65fa73207e",
   "metadata": {},
   "source": [
    "#### Manually Fix Duplicates"
   ]
  },
  {
   "cell_type": "code",
   "execution_count": 8,
   "id": "53d30126-bae7-421f-8d71-955235b4c50f",
   "metadata": {},
   "outputs": [
    {
     "data": {
      "text/html": [
       "<div>\n",
       "<style scoped>\n",
       "    .dataframe tbody tr th:only-of-type {\n",
       "        vertical-align: middle;\n",
       "    }\n",
       "\n",
       "    .dataframe tbody tr th {\n",
       "        vertical-align: top;\n",
       "    }\n",
       "\n",
       "    .dataframe thead th {\n",
       "        text-align: right;\n",
       "    }\n",
       "</style>\n",
       "<table border=\"1\" class=\"dataframe\">\n",
       "  <thead>\n",
       "    <tr style=\"text-align: right;\">\n",
       "      <th></th>\n",
       "      <th>index</th>\n",
       "      <th>State</th>\n",
       "      <th>MEPs[a]</th>\n",
       "    </tr>\n",
       "  </thead>\n",
       "  <tbody>\n",
       "    <tr>\n",
       "      <th>2</th>\n",
       "      <td>2</td>\n",
       "      <td>Belgium</td>\n",
       "      <td>1 / 13[. 2]</td>\n",
       "    </tr>\n",
       "    <tr>\n",
       "      <th>14</th>\n",
       "      <td>14</td>\n",
       "      <td>Hungary</td>\n",
       "      <td>0 / 21</td>\n",
       "    </tr>\n",
       "    <tr>\n",
       "      <th>17</th>\n",
       "      <td>17</td>\n",
       "      <td>Italy</td>\n",
       "      <td>0 / 76</td>\n",
       "    </tr>\n",
       "  </tbody>\n",
       "</table>\n",
       "</div>"
      ],
      "text/plain": [
       "    index    State      MEPs[a]\n",
       "2       2  Belgium  1 / 13[. 2]\n",
       "14     14  Hungary       0 / 21\n",
       "17     17    Italy       0 / 76"
      ]
     },
     "execution_count": 8,
     "metadata": {},
     "output_type": "execute_result"
    }
   ],
   "source": [
    "duplicate_df = original_socialist_df[original_socialist_df[\"State\"].duplicated()]\n",
    "duplicate_df"
   ]
  },
  {
   "cell_type": "code",
   "execution_count": 11,
   "id": "0163774c-a77d-40ca-aa81-28e37f94c4e5",
   "metadata": {},
   "outputs": [
    {
     "data": {
      "text/html": [
       "<div>\n",
       "<style scoped>\n",
       "    .dataframe tbody tr th:only-of-type {\n",
       "        vertical-align: middle;\n",
       "    }\n",
       "\n",
       "    .dataframe tbody tr th {\n",
       "        vertical-align: top;\n",
       "    }\n",
       "\n",
       "    .dataframe thead th {\n",
       "        text-align: right;\n",
       "    }\n",
       "</style>\n",
       "<table border=\"1\" class=\"dataframe\">\n",
       "  <thead>\n",
       "    <tr style=\"text-align: right;\">\n",
       "      <th></th>\n",
       "      <th>index</th>\n",
       "      <th>State</th>\n",
       "      <th>MEPs[a]</th>\n",
       "    </tr>\n",
       "  </thead>\n",
       "  <tbody>\n",
       "    <tr>\n",
       "      <th>1</th>\n",
       "      <td>1</td>\n",
       "      <td>Belgium</td>\n",
       "      <td>2 / 8[. 1]</td>\n",
       "    </tr>\n",
       "    <tr>\n",
       "      <th>2</th>\n",
       "      <td>2</td>\n",
       "      <td>Belgium</td>\n",
       "      <td>1 / 13[. 2]</td>\n",
       "    </tr>\n",
       "  </tbody>\n",
       "</table>\n",
       "</div>"
      ],
      "text/plain": [
       "   index    State      MEPs[a]\n",
       "1      1  Belgium   2 / 8[. 1]\n",
       "2      2  Belgium  1 / 13[. 2]"
      ]
     },
     "execution_count": 11,
     "metadata": {},
     "output_type": "execute_result"
    }
   ],
   "source": [
    "original_socialist_df[original_socialist_df[\"State\"] == \"Belgium\"]"
   ]
  },
  {
   "cell_type": "code",
   "execution_count": 12,
   "id": "9de03c1c-8e63-4af8-a3a2-3ce25a187658",
   "metadata": {},
   "outputs": [
    {
     "data": {
      "text/html": [
       "<div>\n",
       "<style scoped>\n",
       "    .dataframe tbody tr th:only-of-type {\n",
       "        vertical-align: middle;\n",
       "    }\n",
       "\n",
       "    .dataframe tbody tr th {\n",
       "        vertical-align: top;\n",
       "    }\n",
       "\n",
       "    .dataframe thead th {\n",
       "        text-align: right;\n",
       "    }\n",
       "</style>\n",
       "<table border=\"1\" class=\"dataframe\">\n",
       "  <thead>\n",
       "    <tr style=\"text-align: right;\">\n",
       "      <th></th>\n",
       "      <th>index</th>\n",
       "      <th>State</th>\n",
       "      <th>MEPs[a]</th>\n",
       "    </tr>\n",
       "  </thead>\n",
       "  <tbody>\n",
       "    <tr>\n",
       "      <th>13</th>\n",
       "      <td>13</td>\n",
       "      <td>Hungary</td>\n",
       "      <td>2 / 21</td>\n",
       "    </tr>\n",
       "    <tr>\n",
       "      <th>14</th>\n",
       "      <td>14</td>\n",
       "      <td>Hungary</td>\n",
       "      <td>0 / 21</td>\n",
       "    </tr>\n",
       "  </tbody>\n",
       "</table>\n",
       "</div>"
      ],
      "text/plain": [
       "    index    State MEPs[a]\n",
       "13     13  Hungary  2 / 21\n",
       "14     14  Hungary  0 / 21"
      ]
     },
     "execution_count": 12,
     "metadata": {},
     "output_type": "execute_result"
    }
   ],
   "source": [
    "original_socialist_df[original_socialist_df[\"State\"] == \"Hungary\"]"
   ]
  },
  {
   "cell_type": "code",
   "execution_count": 13,
   "id": "3392a783-7072-4549-8247-d433ca22e998",
   "metadata": {},
   "outputs": [
    {
     "data": {
      "text/html": [
       "<div>\n",
       "<style scoped>\n",
       "    .dataframe tbody tr th:only-of-type {\n",
       "        vertical-align: middle;\n",
       "    }\n",
       "\n",
       "    .dataframe tbody tr th {\n",
       "        vertical-align: top;\n",
       "    }\n",
       "\n",
       "    .dataframe thead th {\n",
       "        text-align: right;\n",
       "    }\n",
       "</style>\n",
       "<table border=\"1\" class=\"dataframe\">\n",
       "  <thead>\n",
       "    <tr style=\"text-align: right;\">\n",
       "      <th></th>\n",
       "      <th>index</th>\n",
       "      <th>State</th>\n",
       "      <th>MEPs[a]</th>\n",
       "    </tr>\n",
       "  </thead>\n",
       "  <tbody>\n",
       "    <tr>\n",
       "      <th>16</th>\n",
       "      <td>16</td>\n",
       "      <td>Italy</td>\n",
       "      <td>21 / 76</td>\n",
       "    </tr>\n",
       "    <tr>\n",
       "      <th>17</th>\n",
       "      <td>17</td>\n",
       "      <td>Italy</td>\n",
       "      <td>0 / 76</td>\n",
       "    </tr>\n",
       "  </tbody>\n",
       "</table>\n",
       "</div>"
      ],
      "text/plain": [
       "    index  State  MEPs[a]\n",
       "16     16  Italy  21 / 76\n",
       "17     17  Italy   0 / 76"
      ]
     },
     "execution_count": 13,
     "metadata": {},
     "output_type": "execute_result"
    }
   ],
   "source": [
    "original_socialist_df[original_socialist_df[\"State\"] == \"Italy\"]"
   ]
  },
  {
   "cell_type": "code",
   "execution_count": 14,
   "id": "58388e7f-13a5-4630-8e07-c1443fce5a8c",
   "metadata": {},
   "outputs": [],
   "source": [
    "duplicates = [\n",
    "    {\"State\": \"Belgium\", \"MEPs[a]\": \"3/21\"},\n",
    "    {\"State\": \"Hungary\", \"MEPs[a]\": \"2/21\"},\n",
    "    {\"State\": \"Italy\", \"MEPs[a]\": \"21/76\"},\n",
    "]\n",
    "fixed_duplicates_df = pd.DataFrame(duplicates)"
   ]
  },
  {
   "cell_type": "markdown",
   "id": "1527f870-0dbf-4aaa-804c-b8b289af9893",
   "metadata": {},
   "source": [
    "#### Back to Socialist DF"
   ]
  },
  {
   "cell_type": "code",
   "execution_count": 15,
   "id": "f8f59d10-96a6-4131-9d80-2dc4fb173df1",
   "metadata": {},
   "outputs": [],
   "source": [
    "socialist_df = original_socialist_df[\n",
    "    ~original_socialist_df[\"State\"].isin(duplicate_df[\"State\"])\n",
    "]"
   ]
  },
  {
   "cell_type": "code",
   "execution_count": 16,
   "id": "e13877e2-2fb4-4309-8afe-7e86a2c117e9",
   "metadata": {},
   "outputs": [],
   "source": [
    "socialist_df = pd.concat([socialist_df, fixed_duplicates_df])[\n",
    "    [\"State\", \"MEPs[a]\"]\n",
    "].reset_index()"
   ]
  },
  {
   "cell_type": "code",
   "execution_count": 18,
   "id": "890f399b-53c0-4ea1-ba18-ac012ac05cc3",
   "metadata": {},
   "outputs": [],
   "source": [
    "percent_of_socialists = []\n",
    "number_of_socialists = []\n",
    "for fraction in list(socialist_df[\"MEPs[a]\"]):\n",
    "    str_fraction = fraction.split(\"[\")[0].replace(\" \", \"\")\n",
    "    number_of_socialists.append(int(str_fraction.split(\"/\")[0]))\n",
    "\n",
    "    percent_of_socialist = float(Fraction(str_fraction))\n",
    "    percent_of_socialists.append(percent_of_socialist)"
   ]
  },
  {
   "cell_type": "code",
   "execution_count": 19,
   "id": "d0faa627-2fd8-4404-93c3-a9e215ade86b",
   "metadata": {},
   "outputs": [],
   "source": [
    "fractions = [\n",
    "    round(float(Fraction(fraction.split(\"[\")[0].replace(\" \", \"\"))), 3)\n",
    "    for fraction in list(socialist_df[\"MEPs[a]\"])\n",
    "]\n",
    "socialist_df[\"percent\"] = fractions\n",
    "socialist_df[\"number_of_socialists\"] = number_of_socialists"
   ]
  },
  {
   "cell_type": "code",
   "execution_count": 20,
   "id": "7667ba99-d17a-4a19-ad43-57bb96e44281",
   "metadata": {},
   "outputs": [],
   "source": [
    "socialist_df[\"ISO2\"] = socialist_df.apply(\n",
    "    lambda row: country_converter.convert(names=row[\"State\"], to=\"ISO2\"), axis=1\n",
    ")"
   ]
  },
  {
   "cell_type": "markdown",
   "id": "61bbea6a-153e-4c10-8054-0effdbae489f",
   "metadata": {},
   "source": [
    "## Merge data and export"
   ]
  },
  {
   "cell_type": "code",
   "execution_count": 21,
   "id": "c7b4bd43-70cc-4a6c-9b3d-be709f100cec",
   "metadata": {},
   "outputs": [],
   "source": [
    "socialist_gdf = european_countries_gdf.merge(socialist_df, on=\"ISO2\")[\n",
    "    [\"ISO2\", \"geometry\", \"percent\", \"number_of_socialists\"]\n",
    "]"
   ]
  },
  {
   "cell_type": "code",
   "execution_count": 22,
   "id": "4ffa9005-e930-4f7c-b705-cf5b8494ac42",
   "metadata": {},
   "outputs": [],
   "source": [
    "socialist_gdf = socialist_gdf.to_crs(3035)"
   ]
  },
  {
   "cell_type": "code",
   "execution_count": 24,
   "id": "37596e6c-39b9-4743-aa20-a09ad0a2c16c",
   "metadata": {},
   "outputs": [],
   "source": [
    "socialist_gdf.to_file(\"data/socialist_percent.gpkg\")"
   ]
  },
  {
   "cell_type": "code",
   "execution_count": 25,
   "id": "32ef6c87-3718-499c-83d1-09010279260c",
   "metadata": {},
   "outputs": [
    {
     "data": {
      "text/plain": [
       "np.int64(135)"
      ]
     },
     "execution_count": 25,
     "metadata": {},
     "output_type": "execute_result"
    }
   ],
   "source": [
    "socialist_gdf[\"number_of_socialists\"].sum()"
   ]
  },
  {
   "cell_type": "code",
   "execution_count": null,
   "id": "740780c4-977b-4173-91d7-4c1b9c5643c6",
   "metadata": {},
   "outputs": [],
   "source": []
  }
 ],
 "metadata": {
  "kernelspec": {
   "display_name": "Python 3 (ipykernel)",
   "language": "python",
   "name": "python3"
  },
  "language_info": {
   "codemirror_mode": {
    "name": "ipython",
    "version": 3
   },
   "file_extension": ".py",
   "mimetype": "text/x-python",
   "name": "python",
   "nbconvert_exporter": "python",
   "pygments_lexer": "ipython3",
   "version": "3.11.10"
  }
 },
 "nbformat": 4,
 "nbformat_minor": 5
}
