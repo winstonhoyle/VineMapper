{
 "cells": [
  {
   "cell_type": "code",
   "execution_count": 33,
   "id": "94cb5040-954a-44d0-b6d8-a8d032b8a823",
   "metadata": {},
   "outputs": [],
   "source": [
    "import geopandas as gpd\n",
    "import pandas as pd"
   ]
  },
  {
   "cell_type": "markdown",
   "id": "de631dea-bb87-4d73-adc1-81e05a61e779",
   "metadata": {},
   "source": [
    "## Open Europe Data"
   ]
  },
  {
   "cell_type": "code",
   "execution_count": 34,
   "id": "0249e130-fe93-40ed-ad1a-03217b6d7626",
   "metadata": {},
   "outputs": [],
   "source": [
    "world_boundaries = gpd.read_file(\"data/world_boundaries.gpkg\")"
   ]
  },
  {
   "cell_type": "code",
   "execution_count": 35,
   "id": "0ed2e75c-3efe-497c-b5bb-a7c8e532c4f1",
   "metadata": {},
   "outputs": [],
   "source": [
    "world_boundaries = world_boundaries[[\"geometry\", \"name\"]]"
   ]
  },
  {
   "cell_type": "code",
   "execution_count": 36,
   "id": "c246eaa1-71c7-440c-81ff-edc0be58e513",
   "metadata": {},
   "outputs": [],
   "source": [
    "world_boundaries = world_boundaries.rename(columns={\"name\": \"Area\"})"
   ]
  },
  {
   "cell_type": "markdown",
   "id": "3d0a8c15-b792-458a-a916-d951b59eb475",
   "metadata": {},
   "source": [
    "## Get Barley data"
   ]
  },
  {
   "cell_type": "code",
   "execution_count": 37,
   "id": "6a8517ba-d345-4abc-b068-ce383e41758d",
   "metadata": {},
   "outputs": [],
   "source": [
    "barley_df = pd.read_csv(\"data/FAOSTAT_data_en_2-11-2025.csv\")"
   ]
  },
  {
   "cell_type": "code",
   "execution_count": 38,
   "id": "2551f2fb-6ade-4619-9df5-008db0ea6306",
   "metadata": {},
   "outputs": [],
   "source": [
    "barley_production_df = barley_df[barley_df[\"Element\"] == \"Production\"]"
   ]
  },
  {
   "cell_type": "code",
   "execution_count": 39,
   "id": "a31f630f-9d22-4183-b69e-20e77796f130",
   "metadata": {},
   "outputs": [],
   "source": [
    "barley_production_gdf = world_boundaries.merge(\n",
    "    barley_production_df, on=\"Area\", how=\"left\"\n",
    ")"
   ]
  },
  {
   "cell_type": "code",
   "execution_count": 40,
   "id": "89dd83b9-27cb-4a39-bf1d-da705dce234c",
   "metadata": {},
   "outputs": [],
   "source": [
    "barley_production_gdf = barley_production_gdf[[\"geometry\", \"Value\", \"Area\"]].fillna(0)\n",
    "barley_production_gdf[\"Value\"] = barley_production_gdf[\"Value\"].astype(int)"
   ]
  },
  {
   "cell_type": "code",
   "execution_count": 41,
   "id": "1f2a281d-4340-4af5-8845-c063dbfa5891",
   "metadata": {},
   "outputs": [],
   "source": [
    "barley_production_gdf.to_file(\"data/grapes.gpkg\")"
   ]
  },
  {
   "cell_type": "code",
   "execution_count": null,
   "id": "04622e69-e536-4528-9151-4190116a521d",
   "metadata": {},
   "outputs": [],
   "source": []
  }
 ],
 "metadata": {
  "kernelspec": {
   "display_name": "Python 3 (ipykernel)",
   "language": "python",
   "name": "python3"
  },
  "language_info": {
   "codemirror_mode": {
    "name": "ipython",
    "version": 3
   },
   "file_extension": ".py",
   "mimetype": "text/x-python",
   "name": "python",
   "nbconvert_exporter": "python",
   "pygments_lexer": "ipython3",
   "version": "3.11.11"
  }
 },
 "nbformat": 4,
 "nbformat_minor": 5
}
