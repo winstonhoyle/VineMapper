{
 "cells": [
  {
   "cell_type": "code",
   "execution_count": 9,
   "id": "94cb5040-954a-44d0-b6d8-a8d032b8a823",
   "metadata": {},
   "outputs": [],
   "source": [
    "import geopandas as gpd\n",
    "import pandas as pd"
   ]
  },
  {
   "cell_type": "markdown",
   "id": "de631dea-bb87-4d73-adc1-81e05a61e779",
   "metadata": {},
   "source": [
    "## Open Europe Data"
   ]
  },
  {
   "cell_type": "code",
   "execution_count": 10,
   "id": "0249e130-fe93-40ed-ad1a-03217b6d7626",
   "metadata": {},
   "outputs": [],
   "source": [
    "world_boundaries = gpd.read_file(\"data/world_boundaries.gpkg\")"
   ]
  },
  {
   "cell_type": "code",
   "execution_count": 11,
   "id": "0ed2e75c-3efe-497c-b5bb-a7c8e532c4f1",
   "metadata": {},
   "outputs": [],
   "source": [
    "world_boundaries = world_boundaries[[\"geometry\", \"name\", \"iso3\"]]"
   ]
  },
  {
   "cell_type": "code",
   "execution_count": 12,
   "id": "c246eaa1-71c7-440c-81ff-edc0be58e513",
   "metadata": {},
   "outputs": [],
   "source": [
    "world_boundaries = world_boundaries.rename(\n",
    "    columns={\"name\": \"Area\", \"iso3\": \"Country Code\"}\n",
    ")"
   ]
  },
  {
   "cell_type": "markdown",
   "id": "f620ef04-69f2-466c-8868-7e0615abce90",
   "metadata": {},
   "source": [
    "## Open pop data"
   ]
  },
  {
   "cell_type": "code",
   "execution_count": 13,
   "id": "15f30f92-8ed7-4416-823c-69fcc7c1ead2",
   "metadata": {},
   "outputs": [],
   "source": [
    "country_pop_df = pd.read_csv(\n",
    "    \"data/API_SP.POP.TOTL_DS2_en_csv_v2_87/API_SP.POP.TOTL_DS2_en_csv_v2_87.csv\",\n",
    "    skiprows=4,\n",
    ")"
   ]
  },
  {
   "cell_type": "code",
   "execution_count": 14,
   "id": "e5d9f5bd-a046-410e-882f-66e6c218cff7",
   "metadata": {},
   "outputs": [],
   "source": [
    "country_pop_df = country_pop_df[[\"Country Code\", \"2022\"]]"
   ]
  },
  {
   "cell_type": "markdown",
   "id": "3d0a8c15-b792-458a-a916-d951b59eb475",
   "metadata": {},
   "source": [
    "## Get FAO data"
   ]
  },
  {
   "cell_type": "code",
   "execution_count": 15,
   "id": "6a8517ba-d345-4abc-b068-ce383e41758d",
   "metadata": {},
   "outputs": [
    {
     "name": "stderr",
     "output_type": "stream",
     "text": [
      "/tmp/ipykernel_63046/4000880986.py:1: DtypeWarning: Columns (11,14,17,20,23,26,29,32,35,38,41,44,47,50,53,56,59,62,65,68,71,74,77,80,83,86,89,92,95,98,101,104,107,110,113,116,119,122,125,128,131,134,137,140,143,146,149,152,155,158,161,164,167,170,173,176,179,182,185,188,191,194,197) have mixed types. Specify dtype option on import or set low_memory=False.\n",
      "  production_crops_df = pd.read_csv(\n"
     ]
    }
   ],
   "source": [
    "production_crops_df = pd.read_csv(\n",
    "    \"data/Production_Crops_Livestock_E_All_Data/Production_Crops_Livestock_E_All_Data.csv\"\n",
    ")"
   ]
  },
  {
   "cell_type": "code",
   "execution_count": 20,
   "id": "f553cdfa-8eed-445b-b756-532987060236",
   "metadata": {},
   "outputs": [],
   "source": [
    "cheese_df = production_crops_df[production_crops_df[\"Item Code\"] == 901]"
   ]
  },
  {
   "cell_type": "code",
   "execution_count": 22,
   "id": "9742408d-7fdd-4ef7-96c4-dc59975fd44b",
   "metadata": {},
   "outputs": [],
   "source": [
    "cheese_df = cheese_df[cheese_df[\"Element\"] == \"Production\"][[\"Area\", \"Y2022\"]]"
   ]
  },
  {
   "cell_type": "markdown",
   "id": "5f3bb8a6-04df-4368-a27f-c7ce6dcdee3c",
   "metadata": {},
   "source": [
    "## Merge Data"
   ]
  },
  {
   "cell_type": "code",
   "execution_count": 26,
   "id": "83e105cc-61b2-41c4-80ee-15658f0b7042",
   "metadata": {},
   "outputs": [],
   "source": [
    "world_boundaries_with_pop_gdf = world_boundaries.merge(\n",
    "    country_pop_df, on=\"Country Code\", how=\"left\"\n",
    ")"
   ]
  },
  {
   "cell_type": "code",
   "execution_count": 27,
   "id": "6d811eeb-4214-466a-b9b6-8d445b1d80c5",
   "metadata": {},
   "outputs": [],
   "source": [
    "to_replace = {\n",
    "    \"Turkey\": \"Türkiye\",\n",
    "    \"Bosnia & Herzegovina\": \"Bosnia and Herzegovina\",\n",
    "    \"Moldova, Republic of\": \"Republic of Moldova\",\n",
    "    \"The former Yugoslav Republic of Macedonia\": \"North Macedonia\",\n",
    "    \"Czech Republic\": \"Czechia\",\n",
    "    \"Moldova, Republic of\": \"Republic of Moldova\",\n",
    "    \"Netherlands\": \"Netherlands (Kingdom of the)\",\n",
    "    \"West Bank\": \"Palestine\",\n",
    "    \"U.K. of Great Britain and Northern Ireland\": \"United Kingdom of Great Britain and Northern Ireland\",\n",
    "}\n",
    "world_boundaries_with_pop_gdf = world_boundaries_with_pop_gdf.replace(to_replace)"
   ]
  },
  {
   "cell_type": "code",
   "execution_count": 28,
   "id": "6606b907-3647-4cc7-8154-8f78f877dc96",
   "metadata": {},
   "outputs": [],
   "source": [
    "cheese_gdf = world_boundaries_with_pop_gdf.merge(cheese_df, on=\"Area\", how=\"left\")"
   ]
  },
  {
   "cell_type": "code",
   "execution_count": 29,
   "id": "89dd83b9-27cb-4a39-bf1d-da705dce234c",
   "metadata": {},
   "outputs": [],
   "source": [
    "cheese_gdf = cheese_gdf[[\"geometry\", \"Y2022\", \"Area\", \"2022\"]].fillna(0)\n",
    "cheese_gdf = cheese_gdf.rename(columns={\"Y2022\": \"CHEESE\", \"2022\": \"POPULATION\"})\n",
    "cheese_gdf[\"CHEESE\"] = cheese_gdf[\"CHEESE\"].astype(int)\n",
    "cheese_gdf[\"POPULATION\"] = cheese_gdf[\"POPULATION\"].astype(int)"
   ]
  },
  {
   "cell_type": "code",
   "execution_count": 30,
   "id": "9e5c78f7-76e6-4030-9238-648cb1a484da",
   "metadata": {},
   "outputs": [],
   "source": [
    "cheese_gdf[\"CHEESE_PER_1000\"] = (\n",
    "    (cheese_gdf[\"CHEESE\"] / (cheese_gdf[\"POPULATION\"] / 1_000)).fillna(0)\n",
    ").round(decimals=1)\n",
    "cheese_gdf[\"CHEESE_PER_100\"] = (\n",
    "    (cheese_gdf[\"CHEESE\"] / (cheese_gdf[\"POPULATION\"] / 100)).fillna(0)\n",
    ").round(decimals=1)"
   ]
  },
  {
   "cell_type": "code",
   "execution_count": 31,
   "id": "1f2a281d-4340-4af5-8845-c063dbfa5891",
   "metadata": {},
   "outputs": [],
   "source": [
    "cheese_gdf.to_file(\"data/cheese_2022.gpkg\")"
   ]
  },
  {
   "cell_type": "code",
   "execution_count": null,
   "id": "04622e69-e536-4528-9151-4190116a521d",
   "metadata": {},
   "outputs": [],
   "source": []
  }
 ],
 "metadata": {
  "kernelspec": {
   "display_name": "Python 3 (ipykernel)",
   "language": "python",
   "name": "python3"
  },
  "language_info": {
   "codemirror_mode": {
    "name": "ipython",
    "version": 3
   },
   "file_extension": ".py",
   "mimetype": "text/x-python",
   "name": "python",
   "nbconvert_exporter": "python",
   "pygments_lexer": "ipython3",
   "version": "3.11.11"
  }
 },
 "nbformat": 4,
 "nbformat_minor": 5
}
