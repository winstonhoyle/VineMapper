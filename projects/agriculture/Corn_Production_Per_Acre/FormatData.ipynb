{
 "cells": [
  {
   "cell_type": "code",
   "execution_count": 1,
   "id": "18d8b4a4-37af-4e82-9d9b-6ff85e3bc00d",
   "metadata": {},
   "outputs": [],
   "source": [
    "from io import StringIO"
   ]
  },
  {
   "cell_type": "code",
   "execution_count": null,
   "id": "c4323fb2-1721-463e-8602-d1c3302ff523",
   "metadata": {},
   "outputs": [],
   "source": [
    "import geopandas as gpd\n",
    "import pandas as pd"
   ]
  },
  {
   "cell_type": "markdown",
   "id": "7bfd8f31-eada-447d-af06-da8a94290c02",
   "metadata": {},
   "source": [
    "## Open State data"
   ]
  },
  {
   "cell_type": "code",
   "execution_count": 3,
   "id": "5fadd853-8ad5-4832-976a-4d251d5a794b",
   "metadata": {},
   "outputs": [],
   "source": [
    "file_path = \"data/cb_2018_us_state_500k/cb_2018_us_state_500k.shp\"\n",
    "states_df = gpd.read_file(file_path)"
   ]
  },
  {
   "cell_type": "markdown",
   "id": "fd164c53-45e4-4194-923f-a30009847aca",
   "metadata": {},
   "source": [
    "## Open Population Data"
   ]
  },
  {
   "cell_type": "code",
   "execution_count": 4,
   "id": "0a20051e-cae3-4590-a990-552a4e501cda",
   "metadata": {},
   "outputs": [],
   "source": [
    "state_populations = pd.read_excel(\n",
    "    \"data/NST-EST2024-POP.xlsx\", sheet_name=None, engine=\"openpyxl\"\n",
    ")"
   ]
  },
  {
   "cell_type": "code",
   "execution_count": 5,
   "id": "c7dde3a1-af43-4153-84b5-4da9c18c4437",
   "metadata": {},
   "outputs": [],
   "source": [
    "state_populations_df = state_populations[\"NST-EST2024-POP\"][\n",
    "    [\n",
    "        \"table with row headers in column A and column headers in rows 3 through 4. (leading dots indicate sub-parts)\",\n",
    "        \"Unnamed: 5\",\n",
    "    ]\n",
    "]\n",
    "state_populations_df = state_populations_df.rename(\n",
    "    columns={\n",
    "        \"table with row headers in column A and column headers in rows 3 through 4. (leading dots indicate sub-parts)\": \"NAME\",\n",
    "        \"Unnamed: 5\": \"POPULATION\",\n",
    "    }\n",
    ")\n",
    "state_populations_df[\"NAME\"] = state_populations_df[\"NAME\"].str[1:]"
   ]
  },
  {
   "cell_type": "code",
   "execution_count": 6,
   "id": "9ada7cc6-08d2-4629-ad45-be85527ff63d",
   "metadata": {},
   "outputs": [],
   "source": [
    "states_with_population_df = states_df.merge(state_populations_df, on=\"NAME\", how=\"left\")\n",
    "states_with_population_df = states_with_population_df[\n",
    "    [\"STUSPS\", \"NAME\", \"POPULATION\", \"geometry\"]\n",
    "]"
   ]
  },
  {
   "cell_type": "markdown",
   "id": "74b55cfa-2db3-4a7c-bd04-0b341757effe",
   "metadata": {},
   "source": [
    "## Get Corn Data"
   ]
  },
  {
   "cell_type": "code",
   "execution_count": 7,
   "id": "b3b61583-4933-4ee3-b916-c79783d08ab9",
   "metadata": {},
   "outputs": [],
   "source": [
    "with open(\"data/cropan25/crop_p10_t145.csv\", encoding=\"cp1252\") as f:\n",
    "    lines = f.readlines()"
   ]
  },
  {
   "cell_type": "code",
   "execution_count": 8,
   "id": "3c048e55-0eb6-485c-9438-12709d900917",
   "metadata": {},
   "outputs": [],
   "source": [
    "data_lines = [line for line in lines if line.startswith('145,\"d\"')]\n",
    "data_lines = [\n",
    "    line\n",
    "    for line in data_lines\n",
    "    if not line.split(\",\")[2].strip('\"').strip().startswith('\"\"')\n",
    "    and line.split(\",\")[2].strip('\"').strip() != \"\"\n",
    "]"
   ]
  },
  {
   "cell_type": "code",
   "execution_count": 9,
   "id": "d1872ebf-2417-4334-b2e8-627da6f13a47",
   "metadata": {},
   "outputs": [],
   "source": [
    "header = [\n",
    "    \"series_id\",\n",
    "    \"type\",\n",
    "    \"NAME\",\n",
    "    \"yield_2022\",\n",
    "    \"yield_2023\",\n",
    "    \"yield_2024\",\n",
    "    \"prod_2022\",\n",
    "    \"prod_2023\",\n",
    "    \"prod_2024\",\n",
    "]"
   ]
  },
  {
   "cell_type": "code",
   "execution_count": 10,
   "id": "e17ca345-81b5-4f26-84b5-7559e46d4f0b",
   "metadata": {},
   "outputs": [],
   "source": [
    "csv_data = \"\\n\".join(data_lines)\n",
    "corn_df = pd.read_csv(StringIO(csv_data), names=header, na_values=[\"(NA)\"])"
   ]
  },
  {
   "cell_type": "code",
   "execution_count": 11,
   "id": "951c6129-1ae2-4b7b-a067-5b45d6658cd2",
   "metadata": {},
   "outputs": [],
   "source": [
    "corn_df.drop(columns=[\"series_id\", \"type\"], inplace=True)\n",
    "corn_df[\"NAME\"] = corn_df[\"NAME\"].str.replace(\n",
    "    r\"\\s*\\d+/\\s*\", \"\", regex=True\n",
    ")  # remove \" 1/\", \" 2/\" etc.\n",
    "corn_df[\"NAME\"] = corn_df[\"NAME\"].str.replace(\n",
    "    r\"[^\\w\\s-]\", \"\", regex=True\n",
    ")  # remove stray punctuation/symbols\n",
    "corn_df[\"NAME\"] = corn_df[\"NAME\"].str.strip()"
   ]
  },
  {
   "cell_type": "code",
   "execution_count": 12,
   "id": "b5b7f5fe-42cc-41b2-b1f1-ee892a55344b",
   "metadata": {},
   "outputs": [],
   "source": [
    "for col in corn_df.columns[1:]:  # skip 'state'\n",
    "    corn_df[col] = pd.to_numeric(corn_df[col], errors=\"coerce\")"
   ]
  },
  {
   "cell_type": "code",
   "execution_count": 13,
   "id": "041ba417-5db7-4b61-a653-68629a798386",
   "metadata": {},
   "outputs": [],
   "source": [
    "corn_df[\"prod_2022\"] = corn_df[\"prod_2022\"] * 1000\n",
    "corn_df[\"prod_2023\"] = corn_df[\"prod_2023\"] * 1000\n",
    "corn_df[\"prod_2024\"] = corn_df[\"prod_2024\"] * 1000"
   ]
  },
  {
   "cell_type": "markdown",
   "id": "ea0435b2-f5f4-4186-853b-615f63cc50aa",
   "metadata": {},
   "source": [
    "## Merge Data"
   ]
  },
  {
   "cell_type": "code",
   "execution_count": 14,
   "id": "335e5a07-6df8-46bf-bc7d-1512019384fd",
   "metadata": {},
   "outputs": [],
   "source": [
    "corn_gdf = states_with_population_df.merge(corn_df, on=\"NAME\", how=\"left\").fillna(0)"
   ]
  },
  {
   "cell_type": "code",
   "execution_count": 15,
   "id": "9fcded5e-25db-4a17-bca0-8b37ea5193c8",
   "metadata": {},
   "outputs": [],
   "source": [
    "corn_gdf[\"per_100\"] = corn_gdf[\"prod_2024\"] / (corn_gdf[\"POPULATION\"] / 100)\n",
    "corn_gdf[\"per_1000\"] = corn_gdf[\"prod_2024\"] / (corn_gdf[\"POPULATION\"] / 1_000)\n",
    "corn_gdf[\"per_100k\"] = corn_gdf[\"prod_2024\"] / (corn_gdf[\"POPULATION\"] / 100_000)\n",
    "corn_gdf[\"per_1m\"] = corn_gdf[\"prod_2024\"] / (corn_gdf[\"POPULATION\"] / 1_000_000)"
   ]
  },
  {
   "cell_type": "code",
   "execution_count": 16,
   "id": "ae923604-fd11-4c7d-a480-4f53abaeafbc",
   "metadata": {},
   "outputs": [],
   "source": [
    "corn_gdf = corn_gdf.to_crs(9311)\n",
    "corn_gdf.to_file(\"data/corn_per_state.gpkg\")"
   ]
  },
  {
   "cell_type": "code",
   "execution_count": null,
   "id": "b3be8b86-94af-45ec-ad54-9de517a81140",
   "metadata": {},
   "outputs": [],
   "source": []
  }
 ],
 "metadata": {
  "kernelspec": {
   "display_name": "Python 3 (ipykernel)",
   "language": "python",
   "name": "python3"
  },
  "language_info": {
   "codemirror_mode": {
    "name": "ipython",
    "version": 3
   },
   "file_extension": ".py",
   "mimetype": "text/x-python",
   "name": "python",
   "nbconvert_exporter": "python",
   "pygments_lexer": "ipython3",
   "version": "3.11.11"
  }
 },
 "nbformat": 4,
 "nbformat_minor": 5
}
