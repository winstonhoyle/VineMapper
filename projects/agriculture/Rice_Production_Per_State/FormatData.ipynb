{
 "cells": [
  {
   "cell_type": "code",
   "execution_count": 19,
   "id": "18d8b4a4-37af-4e82-9d9b-6ff85e3bc00d",
   "metadata": {},
   "outputs": [],
   "source": [
    "from io import StringIO"
   ]
  },
  {
   "cell_type": "code",
   "execution_count": 20,
   "id": "c4323fb2-1721-463e-8602-d1c3302ff523",
   "metadata": {},
   "outputs": [],
   "source": [
    "import geopandas as gpd\n",
    "import pandas as pd"
   ]
  },
  {
   "cell_type": "markdown",
   "id": "7bfd8f31-eada-447d-af06-da8a94290c02",
   "metadata": {},
   "source": [
    "## Open State data"
   ]
  },
  {
   "cell_type": "code",
   "execution_count": 21,
   "id": "5fadd853-8ad5-4832-976a-4d251d5a794b",
   "metadata": {},
   "outputs": [],
   "source": [
    "file_path = \"data/cb_2018_us_state_500k/cb_2018_us_state_500k.shp\"\n",
    "states_df = gpd.read_file(file_path)"
   ]
  },
  {
   "cell_type": "markdown",
   "id": "fd164c53-45e4-4194-923f-a30009847aca",
   "metadata": {},
   "source": [
    "## Open Population Data"
   ]
  },
  {
   "cell_type": "code",
   "execution_count": 22,
   "id": "0a20051e-cae3-4590-a990-552a4e501cda",
   "metadata": {},
   "outputs": [],
   "source": [
    "state_populations = pd.read_excel(\n",
    "    \"data/NST-EST2024-POP.xlsx\", sheet_name=None, engine=\"openpyxl\"\n",
    ")"
   ]
  },
  {
   "cell_type": "code",
   "execution_count": 23,
   "id": "c7dde3a1-af43-4153-84b5-4da9c18c4437",
   "metadata": {},
   "outputs": [],
   "source": [
    "state_populations_df = state_populations[\"NST-EST2024-POP\"][\n",
    "    [\n",
    "        \"table with row headers in column A and column headers in rows 3 through 4. (leading dots indicate sub-parts)\",\n",
    "        \"Unnamed: 5\",\n",
    "    ]\n",
    "]\n",
    "state_populations_df = state_populations_df.rename(\n",
    "    columns={\n",
    "        \"table with row headers in column A and column headers in rows 3 through 4. (leading dots indicate sub-parts)\": \"NAME\",\n",
    "        \"Unnamed: 5\": \"POPULATION\",\n",
    "    }\n",
    ")\n",
    "state_populations_df[\"NAME\"] = state_populations_df[\"NAME\"].str[1:]"
   ]
  },
  {
   "cell_type": "code",
   "execution_count": 24,
   "id": "9ada7cc6-08d2-4629-ad45-be85527ff63d",
   "metadata": {},
   "outputs": [],
   "source": [
    "states_with_population_df = states_df.merge(state_populations_df, on=\"NAME\", how=\"left\")\n",
    "states_with_population_df = states_with_population_df[\n",
    "    [\"STUSPS\", \"NAME\", \"POPULATION\", \"geometry\"]\n",
    "]"
   ]
  },
  {
   "cell_type": "markdown",
   "id": "74b55cfa-2db3-4a7c-bd04-0b341757effe",
   "metadata": {},
   "source": [
    "## Get Rice Data"
   ]
  },
  {
   "cell_type": "code",
   "execution_count": 25,
   "id": "b3b61583-4933-4ee3-b916-c79783d08ab9",
   "metadata": {},
   "outputs": [],
   "source": [
    "with open(\"data/cropan25/crop_p30_t161.csv\", encoding=\"cp1252\") as f:\n",
    "    lines = f.readlines()"
   ]
  },
  {
   "cell_type": "code",
   "execution_count": 26,
   "id": "3c048e55-0eb6-485c-9438-12709d900917",
   "metadata": {},
   "outputs": [],
   "source": [
    "data_lines = [line for line in lines if line.startswith('161,\"d\"')]\n",
    "data_lines = [\n",
    "    line\n",
    "    for line in data_lines\n",
    "    if not line.split(\",\")[2].strip('\"').strip().startswith('\"\"')\n",
    "    and line.split(\",\")[2].strip('\"').strip() != \"\"\n",
    "]"
   ]
  },
  {
   "cell_type": "code",
   "execution_count": 27,
   "id": "d1872ebf-2417-4334-b2e8-627da6f13a47",
   "metadata": {},
   "outputs": [],
   "source": [
    "header = [\n",
    "    \"series_id\",\n",
    "    \"type\",\n",
    "    \"NAME\",\n",
    "    \"yield_2022\",\n",
    "    \"yield_2023\",\n",
    "    \"yield_2024\",\n",
    "    \"prod_2022\",\n",
    "    \"prod_2023\",\n",
    "    \"prod_2024\",\n",
    "]"
   ]
  },
  {
   "cell_type": "code",
   "execution_count": 28,
   "id": "e17ca345-81b5-4f26-84b5-7559e46d4f0b",
   "metadata": {},
   "outputs": [],
   "source": [
    "csv_data = \"\\n\".join(data_lines)\n",
    "crop_df = pd.read_csv(StringIO(csv_data), names=header, na_values=[\"(NA)\"])"
   ]
  },
  {
   "cell_type": "code",
   "execution_count": 29,
   "id": "951c6129-1ae2-4b7b-a067-5b45d6658cd2",
   "metadata": {},
   "outputs": [],
   "source": [
    "crop_df.drop(columns=[\"series_id\", \"type\"], inplace=True)\n",
    "crop_df[\"NAME\"] = crop_df[\"NAME\"].str.replace(\n",
    "    r\"\\s*\\d+/\\s*\", \"\", regex=True\n",
    ")  # remove \" 1/\", \" 2/\" etc.\n",
    "crop_df[\"NAME\"] = crop_df[\"NAME\"].str.replace(\n",
    "    r\"[^\\w\\s-]\", \"\", regex=True\n",
    ")  # remove stray punctuation/symbols\n",
    "crop_df[\"NAME\"] = crop_df[\"NAME\"].str.strip()"
   ]
  },
  {
   "cell_type": "code",
   "execution_count": 30,
   "id": "b5b7f5fe-42cc-41b2-b1f1-ee892a55344b",
   "metadata": {},
   "outputs": [],
   "source": [
    "for col in crop_df.columns[1:]:  # skip 'state'\n",
    "    crop_df[col] = pd.to_numeric(crop_df[col], errors=\"coerce\")"
   ]
  },
  {
   "cell_type": "code",
   "execution_count": 35,
   "id": "73c8c81f-59b8-4d9c-9452-99e8f0d9def8",
   "metadata": {},
   "outputs": [],
   "source": [
    "crop_df = crop_df.iloc[21:27]"
   ]
  },
  {
   "cell_type": "code",
   "execution_count": 38,
   "id": "4975f11a-ac3d-48b1-b396-2ecb51b053d6",
   "metadata": {},
   "outputs": [
    {
     "name": "stderr",
     "output_type": "stream",
     "text": [
      "/tmp/ipykernel_3156/2122020868.py:1: SettingWithCopyWarning: \n",
      "A value is trying to be set on a copy of a slice from a DataFrame.\n",
      "Try using .loc[row_indexer,col_indexer] = value instead\n",
      "\n",
      "See the caveats in the documentation: https://pandas.pydata.org/pandas-docs/stable/user_guide/indexing.html#returning-a-view-versus-a-copy\n",
      "  crop_df[['yield_2022','yield_2023','yield_2024','prod_2022','prod_2023','prod_2024']] = crop_df[['yield_2022','yield_2023','yield_2024','prod_2022','prod_2023','prod_2024']].astype(int)\n"
     ]
    }
   ],
   "source": [
    "crop_df[\n",
    "    [\"yield_2022\", \"yield_2023\", \"yield_2024\", \"prod_2022\", \"prod_2023\", \"prod_2024\"]\n",
    "] = crop_df[\n",
    "    [\"yield_2022\", \"yield_2023\", \"yield_2024\", \"prod_2022\", \"prod_2023\", \"prod_2024\"]\n",
    "].astype(\n",
    "    int\n",
    ")"
   ]
  },
  {
   "cell_type": "code",
   "execution_count": 39,
   "id": "e15a740a-fb96-4762-a03b-678fce71d600",
   "metadata": {},
   "outputs": [
    {
     "data": {
      "text/html": [
       "<div>\n",
       "<style scoped>\n",
       "    .dataframe tbody tr th:only-of-type {\n",
       "        vertical-align: middle;\n",
       "    }\n",
       "\n",
       "    .dataframe tbody tr th {\n",
       "        vertical-align: top;\n",
       "    }\n",
       "\n",
       "    .dataframe thead th {\n",
       "        text-align: right;\n",
       "    }\n",
       "</style>\n",
       "<table border=\"1\" class=\"dataframe\">\n",
       "  <thead>\n",
       "    <tr style=\"text-align: right;\">\n",
       "      <th></th>\n",
       "      <th>NAME</th>\n",
       "      <th>yield_2022</th>\n",
       "      <th>yield_2023</th>\n",
       "      <th>yield_2024</th>\n",
       "      <th>prod_2022</th>\n",
       "      <th>prod_2023</th>\n",
       "      <th>prod_2024</th>\n",
       "    </tr>\n",
       "  </thead>\n",
       "  <tbody>\n",
       "    <tr>\n",
       "      <th>21</th>\n",
       "      <td>Arkansas</td>\n",
       "      <td>7410</td>\n",
       "      <td>7550</td>\n",
       "      <td>7640</td>\n",
       "      <td>80051</td>\n",
       "      <td>106895</td>\n",
       "      <td>109407</td>\n",
       "    </tr>\n",
       "    <tr>\n",
       "      <th>22</th>\n",
       "      <td>California</td>\n",
       "      <td>8770</td>\n",
       "      <td>8540</td>\n",
       "      <td>8530</td>\n",
       "      <td>22103</td>\n",
       "      <td>43827</td>\n",
       "      <td>39588</td>\n",
       "    </tr>\n",
       "    <tr>\n",
       "      <th>23</th>\n",
       "      <td>Louisiana</td>\n",
       "      <td>6660</td>\n",
       "      <td>6800</td>\n",
       "      <td>6710</td>\n",
       "      <td>27453</td>\n",
       "      <td>31431</td>\n",
       "      <td>30809</td>\n",
       "    </tr>\n",
       "    <tr>\n",
       "      <th>24</th>\n",
       "      <td>Mississippi</td>\n",
       "      <td>7370</td>\n",
       "      <td>7470</td>\n",
       "      <td>7540</td>\n",
       "      <td>6338</td>\n",
       "      <td>8964</td>\n",
       "      <td>11613</td>\n",
       "    </tr>\n",
       "    <tr>\n",
       "      <th>25</th>\n",
       "      <td>Missouri</td>\n",
       "      <td>7940</td>\n",
       "      <td>7990</td>\n",
       "      <td>8430</td>\n",
       "      <td>11991</td>\n",
       "      <td>15985</td>\n",
       "      <td>18040</td>\n",
       "    </tr>\n",
       "    <tr>\n",
       "      <th>26</th>\n",
       "      <td>Texas</td>\n",
       "      <td>6510</td>\n",
       "      <td>7670</td>\n",
       "      <td>8800</td>\n",
       "      <td>12105</td>\n",
       "      <td>10889</td>\n",
       "      <td>12676</td>\n",
       "    </tr>\n",
       "  </tbody>\n",
       "</table>\n",
       "</div>"
      ],
      "text/plain": [
       "           NAME  yield_2022  yield_2023  yield_2024  prod_2022  prod_2023  \\\n",
       "21     Arkansas        7410        7550        7640      80051     106895   \n",
       "22   California        8770        8540        8530      22103      43827   \n",
       "23    Louisiana        6660        6800        6710      27453      31431   \n",
       "24  Mississippi        7370        7470        7540       6338       8964   \n",
       "25     Missouri        7940        7990        8430      11991      15985   \n",
       "26        Texas        6510        7670        8800      12105      10889   \n",
       "\n",
       "    prod_2024  \n",
       "21     109407  \n",
       "22      39588  \n",
       "23      30809  \n",
       "24      11613  \n",
       "25      18040  \n",
       "26      12676  "
      ]
     },
     "execution_count": 39,
     "metadata": {},
     "output_type": "execute_result"
    }
   ],
   "source": [
    "crop_df"
   ]
  },
  {
   "cell_type": "markdown",
   "id": "ea0435b2-f5f4-4186-853b-615f63cc50aa",
   "metadata": {},
   "source": [
    "## Merge Data"
   ]
  },
  {
   "cell_type": "code",
   "execution_count": 40,
   "id": "335e5a07-6df8-46bf-bc7d-1512019384fd",
   "metadata": {},
   "outputs": [],
   "source": [
    "crop_gdf = states_with_population_df.merge(crop_df, on=\"NAME\", how=\"left\").fillna(0)"
   ]
  },
  {
   "cell_type": "raw",
   "id": "46a8554f-9e89-40f1-9b4e-c2813322fadb",
   "metadata": {},
   "source": [
    "crop_gdf[\"per_100\"] = crop_gdf[\"prod_2024\"] / (crop_gdf[\"POPULATION\"] / 100)\n",
    "crop_gdf[\"per_1000\"] = crop_gdf[\"prod_2024\"] / (crop_gdf[\"POPULATION\"] / 1_000)\n",
    "crop_gdf[\"per_100k\"] = crop_gdf[\"prod_2024\"] / (crop_gdf[\"POPULATION\"] / 100_000)\n",
    "crop_gdf[\"per_1m\"] = crop_gdf[\"prod_2024\"] / (crop_gdf[\"POPULATION\"] / 1_000_000)"
   ]
  },
  {
   "cell_type": "code",
   "execution_count": 41,
   "id": "ae923604-fd11-4c7d-a480-4f53abaeafbc",
   "metadata": {},
   "outputs": [],
   "source": [
    "crop_gdf = crop_gdf.to_crs(9311)\n",
    "crop_gdf.to_file(\"data/rice_per_state.gpkg\")"
   ]
  },
  {
   "cell_type": "code",
   "execution_count": null,
   "id": "b3be8b86-94af-45ec-ad54-9de517a81140",
   "metadata": {},
   "outputs": [],
   "source": []
  }
 ],
 "metadata": {
  "kernelspec": {
   "display_name": "Python 3 (ipykernel)",
   "language": "python",
   "name": "python3"
  },
  "language_info": {
   "codemirror_mode": {
    "name": "ipython",
    "version": 3
   },
   "file_extension": ".py",
   "mimetype": "text/x-python",
   "name": "python",
   "nbconvert_exporter": "python",
   "pygments_lexer": "ipython3",
   "version": "3.11.11"
  }
 },
 "nbformat": 4,
 "nbformat_minor": 5
}
