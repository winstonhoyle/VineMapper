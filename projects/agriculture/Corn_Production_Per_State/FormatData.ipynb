{
 "cells": [
  {
   "cell_type": "code",
   "execution_count": 44,
   "id": "18d8b4a4-37af-4e82-9d9b-6ff85e3bc00d",
   "metadata": {},
   "outputs": [],
   "source": [
    "import requests"
   ]
  },
  {
   "cell_type": "code",
   "execution_count": 45,
   "id": "c4323fb2-1721-463e-8602-d1c3302ff523",
   "metadata": {},
   "outputs": [],
   "source": [
    "from bs4 import BeautifulSoup\n",
    "import geopandas as gpd\n",
    "import pandas as pd"
   ]
  },
  {
   "cell_type": "markdown",
   "id": "7bfd8f31-eada-447d-af06-da8a94290c02",
   "metadata": {},
   "source": [
    "## Open State data"
   ]
  },
  {
   "cell_type": "code",
   "execution_count": 46,
   "id": "5fadd853-8ad5-4832-976a-4d251d5a794b",
   "metadata": {},
   "outputs": [],
   "source": [
    "file_path = \"data/cb_2018_us_state_500k/cb_2018_us_state_500k.shp\"\n",
    "states_df = gpd.read_file(file_path)"
   ]
  },
  {
   "cell_type": "markdown",
   "id": "fd164c53-45e4-4194-923f-a30009847aca",
   "metadata": {},
   "source": [
    "## Open Population Data"
   ]
  },
  {
   "cell_type": "code",
   "execution_count": 47,
   "id": "0a20051e-cae3-4590-a990-552a4e501cda",
   "metadata": {},
   "outputs": [],
   "source": [
    "state_populations = pd.read_excel(\n",
    "    \"data/NST-EST2024-POP.xlsx\", sheet_name=None, engine=\"openpyxl\"\n",
    ")"
   ]
  },
  {
   "cell_type": "code",
   "execution_count": 48,
   "id": "c7dde3a1-af43-4153-84b5-4da9c18c4437",
   "metadata": {},
   "outputs": [],
   "source": [
    "state_populations_df = state_populations[\"NST-EST2024-POP\"][\n",
    "    [\n",
    "        \"table with row headers in column A and column headers in rows 3 through 4. (leading dots indicate sub-parts)\",\n",
    "        \"Unnamed: 5\",\n",
    "    ]\n",
    "]\n",
    "state_populations_df = state_populations_df.rename(\n",
    "    columns={\n",
    "        \"table with row headers in column A and column headers in rows 3 through 4. (leading dots indicate sub-parts)\": \"NAME\",\n",
    "        \"Unnamed: 5\": \"POPULATION\",\n",
    "    }\n",
    ")\n",
    "state_populations_df[\"NAME\"] = state_populations_df[\"NAME\"].str[1:]"
   ]
  },
  {
   "cell_type": "code",
   "execution_count": 49,
   "id": "9ada7cc6-08d2-4629-ad45-be85527ff63d",
   "metadata": {},
   "outputs": [],
   "source": [
    "states_with_population_df = states_df.merge(state_populations_df, on=\"NAME\", how=\"left\")\n",
    "states_with_population_df = states_with_population_df[\n",
    "    [\"STUSPS\", \"NAME\", \"POPULATION\", \"geometry\"]\n",
    "]"
   ]
  },
  {
   "cell_type": "markdown",
   "id": "74b55cfa-2db3-4a7c-bd04-0b341757effe",
   "metadata": {},
   "source": [
    "## Get Corn Data"
   ]
  },
  {
   "cell_type": "code",
   "execution_count": 55,
   "id": "791e1873-728f-484e-a561-d7ba99bcd5e2",
   "metadata": {},
   "outputs": [],
   "source": [
    "corn_df = pd.read_csv(\"data/C99EEF3B-BA7C-3EB4-90E2-E57249E7B4A4.csv\", thousands=\",\")\n",
    "corn_df = corn_df.rename(columns={\"State\": \"NAME\", \"Value\": \"AMOUNT\"})\n",
    "corn_df[\"NAME\"] = corn_df[\"NAME\"].str.capitalize()\n",
    "corn_df = corn_df[[\"NAME\", \"AMOUNT\"]]"
   ]
  },
  {
   "cell_type": "markdown",
   "id": "ea0435b2-f5f4-4186-853b-615f63cc50aa",
   "metadata": {},
   "source": [
    "## Merge Data"
   ]
  },
  {
   "cell_type": "code",
   "execution_count": 56,
   "id": "335e5a07-6df8-46bf-bc7d-1512019384fd",
   "metadata": {},
   "outputs": [],
   "source": [
    "corn_gdf = states_with_population_df.merge(corn_df, on=\"NAME\", how=\"left\").fillna(0)"
   ]
  },
  {
   "cell_type": "code",
   "execution_count": 57,
   "id": "9fcded5e-25db-4a17-bca0-8b37ea5193c8",
   "metadata": {},
   "outputs": [],
   "source": [
    "corn_gdf[\"per_100\"] = corn_gdf[\"AMOUNT\"] / (corn_gdf[\"POPULATION\"] / 100)\n",
    "corn_gdf[\"per_1000\"] = corn_gdf[\"AMOUNT\"] / (corn_gdf[\"POPULATION\"] / 1_000)\n",
    "corn_gdf[\"per_100k\"] = corn_gdf[\"AMOUNT\"] / (corn_gdf[\"POPULATION\"] / 100_000)\n",
    "corn_gdf[\"per_1m\"] = corn_gdf[\"AMOUNT\"] / (corn_gdf[\"POPULATION\"] / 1_000_000)"
   ]
  },
  {
   "cell_type": "code",
   "execution_count": 58,
   "id": "ae923604-fd11-4c7d-a480-4f53abaeafbc",
   "metadata": {},
   "outputs": [],
   "source": [
    "corn_gdf = corn_gdf.to_crs(9311)\n",
    "corn_gdf.to_file(\"data/corn_per_state.gpkg\")"
   ]
  },
  {
   "cell_type": "code",
   "execution_count": null,
   "id": "6ac41d48-ef3d-459f-a058-f97deb936292",
   "metadata": {},
   "outputs": [],
   "source": []
  }
 ],
 "metadata": {
  "kernelspec": {
   "display_name": "Python 3 (ipykernel)",
   "language": "python",
   "name": "python3"
  },
  "language_info": {
   "codemirror_mode": {
    "name": "ipython",
    "version": 3
   },
   "file_extension": ".py",
   "mimetype": "text/x-python",
   "name": "python",
   "nbconvert_exporter": "python",
   "pygments_lexer": "ipython3",
   "version": "3.11.11"
  }
 },
 "nbformat": 4,
 "nbformat_minor": 5
}
