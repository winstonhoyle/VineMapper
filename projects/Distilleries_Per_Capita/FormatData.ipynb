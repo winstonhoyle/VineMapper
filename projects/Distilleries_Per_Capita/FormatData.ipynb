{
 "cells": [
  {
   "cell_type": "code",
   "execution_count": 1,
   "metadata": {
    "vscode": {
     "languageId": "plaintext"
    }
   },
   "outputs": [],
   "source": [
    "import json"
   ]
  },
  {
   "cell_type": "code",
   "execution_count": 2,
   "metadata": {},
   "outputs": [],
   "source": [
    "import requests\n",
    "import geopandas as gpd\n",
    "import pandas as pd"
   ]
  },
  {
   "cell_type": "code",
   "execution_count": 3,
   "metadata": {
    "vscode": {
     "languageId": "plaintext"
    }
   },
   "outputs": [],
   "source": [
    "from bs4 import BeautifulSoup\n",
    "from shapely.geometry import Point\n",
    "from tqdm.notebook import tqdm"
   ]
  },
  {
   "cell_type": "markdown",
   "metadata": {},
   "source": [
    "## Open GIS Data"
   ]
  },
  {
   "cell_type": "code",
   "execution_count": 4,
   "metadata": {
    "vscode": {
     "languageId": "plaintext"
    }
   },
   "outputs": [],
   "source": [
    "file_path = \"data/cb_2018_us_state_500k/cb_2018_us_state_500k.shp\"\n",
    "states_df = gpd.read_file(file_path)"
   ]
  },
  {
   "cell_type": "markdown",
   "metadata": {},
   "source": [
    "## Get Population Data"
   ]
  },
  {
   "cell_type": "code",
   "execution_count": 5,
   "metadata": {
    "vscode": {
     "languageId": "plaintext"
    }
   },
   "outputs": [],
   "source": [
    "state_populations = pd.read_excel(\n",
    "    \"data/NST-EST2023-POP.xlsx\", sheet_name=None, engine=\"openpyxl\"\n",
    ")"
   ]
  },
  {
   "cell_type": "code",
   "execution_count": 6,
   "metadata": {
    "vscode": {
     "languageId": "plaintext"
    }
   },
   "outputs": [],
   "source": [
    "state_populations_df = state_populations[\"NST-EST2023-POP\"][\n",
    "    [\n",
    "        \"table with row headers in column A and column headers in rows 3 through 4. (leading dots indicate sub-parts)\",\n",
    "        \"Unnamed: 5\",\n",
    "    ]\n",
    "]\n",
    "state_populations_df = state_populations_df.rename(\n",
    "    columns={\n",
    "        \"table with row headers in column A and column headers in rows 3 through 4. (leading dots indicate sub-parts)\": \"NAME\",\n",
    "        \"Unnamed: 5\": \"POPULATION\",\n",
    "    }\n",
    ")\n",
    "state_populations_df[\"NAME\"] = state_populations_df[\"NAME\"].str[1:]"
   ]
  },
  {
   "cell_type": "code",
   "execution_count": 7,
   "metadata": {
    "vscode": {
     "languageId": "plaintext"
    }
   },
   "outputs": [],
   "source": [
    "states_with_population_df = states_df.merge(state_populations_df, on=\"NAME\", how=\"left\")\n",
    "states_with_population_df = states_with_population_df[\n",
    "    [\"STUSPS\", \"POPULATION\", \"geometry\"]\n",
    "]"
   ]
  },
  {
   "cell_type": "code",
   "execution_count": 8,
   "metadata": {
    "vscode": {
     "languageId": "plaintext"
    }
   },
   "outputs": [],
   "source": [
    "states_with_population_df = states_with_population_df.dropna()"
   ]
  },
  {
   "cell_type": "markdown",
   "metadata": {},
   "source": [
    "## Get Distillery Data"
   ]
  },
  {
   "cell_type": "code",
   "execution_count": 9,
   "metadata": {},
   "outputs": [],
   "source": [
    "headers = {\n",
    "    \"User-Agent\": \"Mozilla/5.0 (Macintosh; Intel Mac OS X 10_11_5) AppleWebKit/537.36 (KHTML, like Gecko) Chrome/50.0.2661.102 Safari/537.36\"\n",
    "}\n",
    "r = requests.get(\n",
    "    \"https://www.distillerytrail.com/distillery-directory-map/\", headers=headers\n",
    ")"
   ]
  },
  {
   "cell_type": "code",
   "execution_count": 10,
   "metadata": {},
   "outputs": [],
   "source": [
    "soup = BeautifulSoup(r.text, \"html.parser\")"
   ]
  },
  {
   "cell_type": "code",
   "execution_count": 11,
   "metadata": {},
   "outputs": [],
   "source": [
    "divs = soup.find_all(\"div\", {\"class\": \"drts-location-entities-map-container\"})"
   ]
  },
  {
   "cell_type": "code",
   "execution_count": 12,
   "metadata": {},
   "outputs": [],
   "source": [
    "div = divs[0]\n",
    "script = div.find_all(\"script\")[0]"
   ]
  },
  {
   "cell_type": "code",
   "execution_count": 13,
   "metadata": {},
   "outputs": [],
   "source": [
    "almost_data = script.text.split(\"setMarkers\")[1]"
   ]
  },
  {
   "cell_type": "code",
   "execution_count": 14,
   "metadata": {},
   "outputs": [],
   "source": [
    "formatted_data_in_str = \"}\".join(almost_data[2:].split(\"}\")[:-2]) + \"}\"\n",
    "formatted_data_in_str = f\"[{formatted_data_in_str}]\""
   ]
  },
  {
   "cell_type": "code",
   "execution_count": 15,
   "metadata": {},
   "outputs": [],
   "source": [
    "distillery_data_list = json.loads(formatted_data_in_str)"
   ]
  },
  {
   "cell_type": "code",
   "execution_count": 17,
   "metadata": {},
   "outputs": [
    {
     "data": {
      "application/vnd.jupyter.widget-view+json": {
       "model_id": "39c6fa14c5d24ec6a099b710463b99ed",
       "version_major": 2,
       "version_minor": 0
      },
      "text/plain": [
       "Parsing Distilleries:   0%|          | 0/2109 [00:00<?, ?it/s]"
      ]
     },
     "metadata": {},
     "output_type": "display_data"
    },
    {
     "name": "stdout",
     "output_type": "stream",
     "text": [
      "{'index': 0, 'entity_id': 17238, 'content': '<div class=\"drts-bs-card drts-bs-border-0 drts-bs-bg-dark drts-bs-text-white drts-map-marker-content\">\\n<img class=\"drts-bs-card-img drts-no-image\" src=\"data:image/png;base64,iVBORw0KGgoAAAANSUhEUgAAAPAAAAC0CAQAAAAAlWljAAABIklEQVR42u3RAQ0AAAjDMK4c6aAD0klYM116XAADFmABFmABFmABBizAAizAAizAAgxYgAVYgAVYgAVYgAELsAALsAALsAADFmABFmABFmABBizAAizAAizAAizAgAVYgAVYgAVYgAELsAALsAALsAADBgxYgAVYgAVYgAUYsAALsAALsAALMGABFmABFmABFmABBizAAizAAizAAgxYgAVYgAVYgAUYsAALsAALsAALsAADFmABFmABFmABBizAAizAAizAAgzYBMACLMACLMACLMCABViABViABViAAQuwAAuwAAuwAAswYAEWYAEWYAEWYMACLMACLMACLMCABViABViABViABRiwAAuwAAuwAAswYAEWYAEWYAEWYMACrKst65UNXM2XNOgAAAAASUVORK5CYII=\" alt=\"\" />\\n<div class=\"drts-bs-card-img-overlay drts-bs-p-2\">\\n<div class=\"drts-bs-card-title\"><a href=\"https://www.distillerytrail.com/directory-distillery/listing/delaware-distilling-company/\" class=\"drts-bs-text-white drts-entity-permalink drts-entity-17238\" title=\"Delaware Distilling Company (Closed)\" data-type=\"post\" data-content-type=\"directory__listing\" data-content-name=\"distillery_dir_ltg\">Delaware Distilling Company (Closed)</a></div>\\n<address class=\"drts-map-marker-address drts-bs-card-text\">18693 Coastal Hwy, Rehoboth Beach, Delaware 19971, United States</address>\\n</div></div>', 'lat': 38.720945, 'lng': -75.076014, 'icon': None}\n"
     ]
    }
   ],
   "source": [
    "coord_list = []\n",
    "state_counts = {}\n",
    "distilleries = []\n",
    "for distillery in tqdm(distillery_data_list, desc=\"Parsing Distilleries\"):\n",
    "    point = Point(distillery[\"lng\"], distillery[\"lat\"])\n",
    "    try:\n",
    "        state_code = states_df[states_df.intersects(point)][\"STUSPS\"].iloc[0]\n",
    "        distilleries.append(point)\n",
    "    except IndexError:\n",
    "        print(distillery)\n",
    "        continue\n",
    "\n",
    "    if state_code not in state_counts:\n",
    "        state_counts[state_code] = 1\n",
    "    else:\n",
    "        state_counts[state_code] += 1"
   ]
  },
  {
   "cell_type": "code",
   "execution_count": 18,
   "metadata": {},
   "outputs": [],
   "source": [
    "distilleries_per_state_series = pd.Series(state_counts, name=\"distilleries\")\n",
    "distilleries_per_state_df = distilleries_per_state_series.reset_index()\n",
    "distilleries_per_state_df = distilleries_per_state_df.rename(\n",
    "    columns={\"index\": \"STUSPS\"}\n",
    ")"
   ]
  },
  {
   "cell_type": "markdown",
   "metadata": {},
   "source": [
    "## Merge Data"
   ]
  },
  {
   "cell_type": "code",
   "execution_count": 19,
   "metadata": {},
   "outputs": [],
   "source": [
    "distilleries_per_state_df = states_with_population_df.merge(\n",
    "    distilleries_per_state_df, on=\"STUSPS\", how=\"left\"\n",
    ")"
   ]
  },
  {
   "cell_type": "code",
   "execution_count": 20,
   "metadata": {},
   "outputs": [],
   "source": [
    "distilleries_per_state_df[\"per_100k\"] = distilleries_per_state_df[\"distilleries\"] / (\n",
    "    distilleries_per_state_df[\"POPULATION\"] / 100000\n",
    ")\n",
    "distilleries_per_state_df[\"per_500k\"] = distilleries_per_state_df[\"distilleries\"] / (\n",
    "    distilleries_per_state_df[\"POPULATION\"] / 500_000\n",
    ")\n",
    "distilleries_per_state_df[\"per_1m\"] = distilleries_per_state_df[\"distilleries\"] / (\n",
    "    distilleries_per_state_df[\"POPULATION\"] / 1_000_000\n",
    ")"
   ]
  },
  {
   "cell_type": "code",
   "execution_count": 21,
   "metadata": {},
   "outputs": [],
   "source": [
    "distilleries_per_state_df[\"per_1m\"] = distilleries_per_state_df[\"distilleries\"] / (\n",
    "    distilleries_per_state_df[\"POPULATION\"] / 1000000\n",
    ")"
   ]
  },
  {
   "cell_type": "code",
   "execution_count": 22,
   "metadata": {},
   "outputs": [],
   "source": [
    "distilleries_per_state_df = distilleries_per_state_df.to_crs(2163)"
   ]
  },
  {
   "cell_type": "code",
   "execution_count": 23,
   "metadata": {},
   "outputs": [
    {
     "name": "stderr",
     "output_type": "stream",
     "text": [
      "/mnt/c/Users/Winston/Documents/GitHub/VineMapper/.venv/lib/python3.11/site-packages/pyogrio/raw.py:723: RuntimeWarning: CRS EPSG:2163 is deprecated. Its non-deprecated replacement EPSG:9311 will be used instead. To use the original CRS, set the OSR_USE_NON_DEPRECATED configuration option to NO.\n",
      "  ogr_write(\n"
     ]
    }
   ],
   "source": [
    "distilleries_per_state_df.to_file(\"data/distilleries.gpkg\")"
   ]
  },
  {
   "cell_type": "code",
   "execution_count": 27,
   "metadata": {},
   "outputs": [],
   "source": [
    "distilleries_df = gpd.GeoDataFrame(geometry=distilleries, crs=\"4326\")\n",
    "distilleries_df = distilleries_df.to_crs(2163)\n",
    "distilleries_df.to_file(\"data/all_distilleries.gpkg\")"
   ]
  },
  {
   "cell_type": "code",
   "execution_count": null,
   "metadata": {},
   "outputs": [],
   "source": []
  }
 ],
 "metadata": {
  "kernelspec": {
   "display_name": "Python 3 (ipykernel)",
   "language": "python",
   "name": "python3"
  },
  "language_info": {
   "codemirror_mode": {
    "name": "ipython",
    "version": 3
   },
   "file_extension": ".py",
   "mimetype": "text/x-python",
   "name": "python",
   "nbconvert_exporter": "python",
   "pygments_lexer": "ipython3",
   "version": "3.11.10"
  }
 },
 "nbformat": 4,
 "nbformat_minor": 4
}
