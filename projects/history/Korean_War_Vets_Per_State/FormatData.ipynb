{
 "cells": [
  {
   "cell_type": "code",
   "execution_count": 1,
   "id": "082d543d-4097-4b86-84d7-7892d159f675",
   "metadata": {},
   "outputs": [],
   "source": [
    "import geopandas as gpd\n",
    "import pandas as pd"
   ]
  },
  {
   "cell_type": "markdown",
   "id": "228f9c5e-369a-430b-aa75-392d9b1c81a8",
   "metadata": {},
   "source": [
    "## Open GIS Data"
   ]
  },
  {
   "cell_type": "code",
   "execution_count": 2,
   "id": "e4a9a7f7-f84a-4c3c-b67c-19cdf9f4dd0d",
   "metadata": {},
   "outputs": [],
   "source": [
    "file_path = \"data/cb_2018_us_state_500k/cb_2018_us_state_500k.shp\"\n",
    "states_df = gpd.read_file(file_path)"
   ]
  },
  {
   "cell_type": "code",
   "execution_count": 3,
   "id": "18c7693c-d0d6-4844-98b5-1af4bb046a02",
   "metadata": {},
   "outputs": [],
   "source": [
    "states_df = states_df[[\"NAME\", \"geometry\"]]"
   ]
  },
  {
   "cell_type": "markdown",
   "id": "2d00e207-b96e-4b8f-a281-4d0c0b823356",
   "metadata": {},
   "source": [
    "## Get Age data"
   ]
  },
  {
   "cell_type": "code",
   "execution_count": 4,
   "id": "e4e57db8-8037-421f-96f3-f3f8dfdbaa81",
   "metadata": {},
   "outputs": [],
   "source": [
    "vet_df = pd.read_csv(\"data/ACSST5Y2023.S2101-2025-01-14T235917.csv\", thousands=\",\")"
   ]
  },
  {
   "cell_type": "markdown",
   "id": "81b56e5c-3b25-4d97-9f50-c06f22af63d7",
   "metadata": {},
   "source": [
    "##### Get Totals"
   ]
  },
  {
   "cell_type": "code",
   "execution_count": 5,
   "id": "87b9ce31-e925-4da8-8470-9f3e77172cd9",
   "metadata": {},
   "outputs": [],
   "source": [
    "rename_columns_vet_totals = {\"Label (Grouping)\": \"NAME\"}\n",
    "for column in list(vet_df.columns):\n",
    "    str_split = column.split(\"!!\")\n",
    "    if len(str_split) == 3:\n",
    "        if str_split[1] == \"Veterans\":\n",
    "            rename_columns_vet_totals[column] = str_split[0].strip()\n",
    "    else:\n",
    "        continue"
   ]
  },
  {
   "cell_type": "code",
   "execution_count": 6,
   "id": "f7be886d-a250-40a1-ba1a-3cc1e2247b2b",
   "metadata": {},
   "outputs": [],
   "source": [
    "vet_totals_df = (\n",
    "    vet_df[rename_columns_vet_totals.keys()]\n",
    "    .rename(columns=rename_columns_vet_totals)\n",
    "    .T.reset_index()\n",
    ")\n",
    "vet_totals_df.columns = [column.strip() for column in list(vet_totals_df.iloc[0])]\n",
    "vet_totals_df = vet_totals_df[1:]"
   ]
  },
  {
   "cell_type": "code",
   "execution_count": 7,
   "id": "0c083e1a-3bcb-4761-829e-001cbdaf4431",
   "metadata": {},
   "outputs": [],
   "source": [
    "vet_totals_df[\"vet_population\"] = (\n",
    "    vet_totals_df[\"Civilian population 18 years and over\"]\n",
    "    .str.replace(\",\", \"\")\n",
    "    .astype(int)\n",
    ")\n",
    "vet_totals_df[\"vet_gulf_war\"] = (\n",
    "    vet_totals_df[\"Gulf War (8/1990 to 8/2001) veterans\"]\n",
    "    .str.replace(\",\", \"\")\n",
    "    .astype(int)\n",
    ")\n",
    "vet_totals_df[\"vet_korean_war\"] = (\n",
    "    vet_totals_df[\"Korean War veterans\"].str.replace(\",\", \"\").astype(int)\n",
    ")"
   ]
  },
  {
   "cell_type": "code",
   "execution_count": 8,
   "id": "aa72cd87-d80b-40a9-b941-93ed8d56126d",
   "metadata": {},
   "outputs": [],
   "source": [
    "vet_totals_df = vet_totals_df[\n",
    "    [\"NAME\", \"vet_population\", \"vet_gulf_war\", \"vet_korean_war\"]\n",
    "]"
   ]
  },
  {
   "cell_type": "markdown",
   "id": "946123b0-570e-4cf0-8a5a-cb42a67f2c2c",
   "metadata": {},
   "source": [
    "##### Get Non Vet totals"
   ]
  },
  {
   "cell_type": "code",
   "execution_count": 9,
   "id": "7d6b7721-a65f-4c2f-bf44-5741d3c7b676",
   "metadata": {},
   "outputs": [],
   "source": [
    "rename_columns_nonvet_total = {\"Label (Grouping)\": \"NAME\"}\n",
    "for column in list(vet_df.columns):\n",
    "    str_split = column.split(\"!!\")\n",
    "    if len(str_split) == 3:\n",
    "        if str_split[1] == \"Total\":\n",
    "            rename_columns_nonvet_total[column] = str_split[0].strip()\n",
    "    else:\n",
    "        continue"
   ]
  },
  {
   "cell_type": "code",
   "execution_count": 10,
   "id": "69a207b7-fd9e-45cc-b6c1-7e47134fb3df",
   "metadata": {},
   "outputs": [],
   "source": [
    "nonvet_total_df = (\n",
    "    vet_df[rename_columns_nonvet_total.keys()]\n",
    "    .rename(columns=rename_columns_nonvet_total)\n",
    "    .T.reset_index()\n",
    ")\n",
    "nonvet_total_df.columns = [column.strip() for column in list(nonvet_total_df.iloc[0])]\n",
    "nonvet_total_df = nonvet_total_df[1:]"
   ]
  },
  {
   "cell_type": "code",
   "execution_count": 11,
   "id": "422a8ceb-e236-49f8-b025-3e44a4503a8e",
   "metadata": {},
   "outputs": [],
   "source": [
    "nonvet_total_df[\"nonvet_population_over_18\"] = (\n",
    "    nonvet_total_df[\"Civilian population 18 years and over\"]\n",
    "    .str.replace(\",\", \"\")\n",
    "    .astype(int)\n",
    ")\n",
    "nonvet_total_df = nonvet_total_df[[\"NAME\", \"nonvet_population_over_18\"]]"
   ]
  },
  {
   "cell_type": "code",
   "execution_count": 12,
   "id": "0018cc5c-e622-430e-a0bf-40157258df6c",
   "metadata": {},
   "outputs": [],
   "source": [
    "vet_df = vet_totals_df.merge(nonvet_total_df, on=\"NAME\", how=\"inner\")"
   ]
  },
  {
   "cell_type": "code",
   "execution_count": 21,
   "id": "567b4c09-6daa-4862-8cb2-0ab37d802af0",
   "metadata": {},
   "outputs": [],
   "source": [
    "vet_df[\"gulf_war_vets_per_10k\"] = (\n",
    "    (vet_df[\"vet_gulf_war\"] / (vet_df[\"nonvet_population_over_18\"] / 10_000))\n",
    "    .round(decimals=0)\n",
    "    .astype(int)\n",
    ")\n",
    "vet_df[\"gulf_war_vets_per_1000\"] = (\n",
    "    (vet_df[\"vet_gulf_war\"] / (vet_df[\"nonvet_population_over_18\"] / 1000))\n",
    "    .round(decimals=0)\n",
    "    .astype(int)\n",
    ")\n",
    "vet_df[\"korean_war_vets_per_10k\"] = (\n",
    "    (vet_df[\"vet_korean_war\"] / (vet_df[\"nonvet_population_over_18\"] / 10_000))\n",
    "    .round(decimals=0)\n",
    "    .astype(int)\n",
    ")"
   ]
  },
  {
   "cell_type": "markdown",
   "id": "7def0f6c-4dbd-42d3-8581-0f628429e6f3",
   "metadata": {},
   "source": [
    "## Merge data with GIS Data"
   ]
  },
  {
   "cell_type": "code",
   "execution_count": 22,
   "id": "a11f6ce5-3359-428e-afb3-05079dc4a840",
   "metadata": {},
   "outputs": [],
   "source": [
    "vet_df = vet_df[\n",
    "    [\n",
    "        \"NAME\",\n",
    "        \"vet_gulf_war\",\n",
    "        \"vet_korean_war\",\n",
    "        \"nonvet_population_over_18\",\n",
    "        \"korean_war_vets_per_10k\",\n",
    "        \"gulf_war_vets_per_10k\",\n",
    "        \"gulf_war_vets_per_1000\",\n",
    "    ]\n",
    "]"
   ]
  },
  {
   "cell_type": "code",
   "execution_count": 23,
   "id": "7c36294a-b33b-439c-8359-c9ff2356164a",
   "metadata": {},
   "outputs": [],
   "source": [
    "vet_population_gdf = states_df.merge(vet_df, on=\"NAME\", how=\"inner\")"
   ]
  },
  {
   "cell_type": "code",
   "execution_count": 24,
   "id": "a1bdce50-478a-4ba4-a266-8f878cdf4126",
   "metadata": {},
   "outputs": [],
   "source": [
    "vet_population_gdf = vet_population_gdf.to_crs(9311)"
   ]
  },
  {
   "cell_type": "code",
   "execution_count": 25,
   "id": "eb971462-820e-41c1-b9e2-3a3accb33fc6",
   "metadata": {},
   "outputs": [],
   "source": [
    "vet_population_gdf.to_file(\"data/vets.gpkg\")"
   ]
  },
  {
   "cell_type": "code",
   "execution_count": null,
   "id": "cf7ac63d-6c89-40d1-85c0-99ba99b9edb9",
   "metadata": {},
   "outputs": [],
   "source": []
  }
 ],
 "metadata": {
  "kernelspec": {
   "display_name": "Python 3 (ipykernel)",
   "language": "python",
   "name": "python3"
  },
  "language_info": {
   "codemirror_mode": {
    "name": "ipython",
    "version": 3
   },
   "file_extension": ".py",
   "mimetype": "text/x-python",
   "name": "python",
   "nbconvert_exporter": "python",
   "pygments_lexer": "ipython3",
   "version": "3.11.11"
  }
 },
 "nbformat": 4,
 "nbformat_minor": 5
}
