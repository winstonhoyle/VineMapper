{
 "cells": [
  {
   "cell_type": "code",
   "execution_count": 1,
   "id": "8b912cb1-2bf6-4d11-bb66-f663bccfe86b",
   "metadata": {},
   "outputs": [],
   "source": [
    "import requests"
   ]
  },
  {
   "cell_type": "code",
   "execution_count": 2,
   "id": "5228c041-a493-4f4b-a646-eba1a5dd504f",
   "metadata": {},
   "outputs": [],
   "source": [
    "from bs4 import BeautifulSoup\n",
    "import geopandas as gpd\n",
    "import pandas as pd"
   ]
  },
  {
   "cell_type": "markdown",
   "id": "f6e16d11-3435-4052-a4b8-49ef484c34ca",
   "metadata": {},
   "source": [
    "## Open 2023 Population Estimates"
   ]
  },
  {
   "cell_type": "code",
   "execution_count": 4,
   "id": "a11cbb6d-00ae-48d1-986b-a621f3b26a58",
   "metadata": {},
   "outputs": [],
   "source": [
    "county_populations = pd.read_csv(\n",
    "    \"data/co-est2023-alldata.csv\", sep=\",\", encoding=\"latin-1\"\n",
    ")"
   ]
  },
  {
   "cell_type": "code",
   "execution_count": 5,
   "id": "0cca3aaf-39f3-4370-acec-7381ae87f46a",
   "metadata": {},
   "outputs": [],
   "source": [
    "county_populations[\"FIPS\"] = county_populations.apply(\n",
    "    lambda row: f\"{row['STATE']:02d}{row['COUNTY']:03d}\", axis=1\n",
    ")"
   ]
  },
  {
   "cell_type": "code",
   "execution_count": 6,
   "id": "a5d66371-b27a-4582-b977-3cdf9501cbce",
   "metadata": {},
   "outputs": [],
   "source": [
    "county_populations_2023_df = county_populations[[\"POPESTIMATE2023\", \"FIPS\"]].dropna()"
   ]
  },
  {
   "cell_type": "markdown",
   "id": "d831c02e-cdf2-4ec8-9eba-089d7e0d297c",
   "metadata": {},
   "source": [
    "## Get 1790 Populations"
   ]
  },
  {
   "cell_type": "code",
   "execution_count": 7,
   "id": "ba5afea0-607d-479f-88f3-a97aaeb21e43",
   "metadata": {},
   "outputs": [],
   "source": [
    "headers = {\n",
    "    \"User-Agent\": \"Mozilla/5.0 (Macintosh; Intel Mac OS X 10_11_5) AppleWebKit/537.36 (KHTML, like Gecko) Chrome/50.0.2661.102 Safari/537.36\"\n",
    "}\n",
    "url = \"http://www.virginiaplaces.org/population/pop1790numbers.html\""
   ]
  },
  {
   "cell_type": "code",
   "execution_count": 8,
   "id": "2a771051-c3db-4642-aa31-d4dca091367e",
   "metadata": {},
   "outputs": [],
   "source": [
    "r = requests.get(url, headers=headers)"
   ]
  },
  {
   "cell_type": "code",
   "execution_count": 9,
   "id": "b2759c0b-543c-41cb-a4a2-6fd44d01fd04",
   "metadata": {},
   "outputs": [],
   "source": [
    "soup = BeautifulSoup(r.text, \"html.parser\")"
   ]
  },
  {
   "cell_type": "code",
   "execution_count": 10,
   "id": "6e747225-22f4-4bc8-9703-43f2c0ea8013",
   "metadata": {},
   "outputs": [],
   "source": [
    "population_table = soup.find_all(\"table\")[0]"
   ]
  },
  {
   "cell_type": "code",
   "execution_count": 11,
   "id": "a947eeaf-f7b2-41aa-b863-ce4ab6c12407",
   "metadata": {},
   "outputs": [],
   "source": [
    "counties_1790_dict = {}\n",
    "table_records = population_table.find_all(\"tr\")[1:-1]\n",
    "for table_record in table_records:\n",
    "    tds = table_record.find_all(\"td\")\n",
    "    counties_1790_dict[tds[0].text.lower()] = int(tds[1].text.replace(\",\", \"\"))"
   ]
  },
  {
   "cell_type": "code",
   "execution_count": 12,
   "id": "14827796-044b-43ad-bca4-7fe70dff8eee",
   "metadata": {},
   "outputs": [],
   "source": [
    "county_populations_1790_df = pd.DataFrame(\n",
    "    counties_1790_dict.items(), columns=[\"COUNTY_NAME\", \"POPULATION_1790\"]\n",
    ")"
   ]
  },
  {
   "cell_type": "markdown",
   "id": "c9c0103a-1bb4-418f-b215-909fe275c98d",
   "metadata": {},
   "source": [
    "## Open GIS Data"
   ]
  },
  {
   "cell_type": "code",
   "execution_count": 13,
   "id": "af68b71a-d9a3-4df5-a086-9a3ef913d61d",
   "metadata": {},
   "outputs": [],
   "source": [
    "file_path = \"data/cb_2018_us_county_500k/cb_2018_us_county_500k.shp\"\n",
    "counties_df = gpd.read_file(file_path)"
   ]
  },
  {
   "cell_type": "code",
   "execution_count": 14,
   "id": "6c9fd418-b096-4670-90ba-caf072bfff87",
   "metadata": {},
   "outputs": [],
   "source": [
    "file_path = \"data/cb_2018_us_state_500k/cb_2018_us_state_500k.shp\"\n",
    "states_df = gpd.read_file(file_path)"
   ]
  },
  {
   "cell_type": "code",
   "execution_count": 15,
   "id": "e5fd7971-6a4e-43d9-a03a-562c45f1adfc",
   "metadata": {},
   "outputs": [],
   "source": [
    "counties_gdf = counties_df.merge(\n",
    "    states_df[[\"STATEFP\", \"NAME\"]], on=\"STATEFP\", how=\"left\"\n",
    ")\n",
    "counties_gdf[\"FIPS\"] = counties_gdf[\"STATEFP\"] + counties_gdf[\"COUNTYFP\"]"
   ]
  },
  {
   "cell_type": "code",
   "execution_count": 16,
   "id": "94dd41b5-6575-4fcb-bd26-f2fab35ba43f",
   "metadata": {},
   "outputs": [],
   "source": [
    "counties_gdf = counties_gdf[[\"STATEFP\", \"geometry\", \"NAME_x\", \"NAME_y\", \"FIPS\"]]\n",
    "counties_gdf = counties_gdf.rename(\n",
    "    columns={\"NAME_x\": \"COUNTY_NAME\", \"NAME_y\": \"STATE_NAME\"}\n",
    ")"
   ]
  },
  {
   "cell_type": "code",
   "execution_count": 17,
   "id": "27e43789-2fe1-47f6-a2cc-cfe5559c90e9",
   "metadata": {},
   "outputs": [],
   "source": [
    "virginia_counties_gdf = counties_gdf[\n",
    "    (counties_gdf[\"STATE_NAME\"] == \"Virginia\")\n",
    "    | (counties_gdf[\"STATE_NAME\"] == \"West Virginia\")\n",
    "]\n",
    "virginia_counties_gdf = virginia_counties_gdf.reset_index()[\n",
    "    [\"geometry\", \"COUNTY_NAME\", \"FIPS\"]\n",
    "]"
   ]
  },
  {
   "cell_type": "code",
   "execution_count": 18,
   "id": "3e20d169-a825-4757-bb86-dd20c5f037b2",
   "metadata": {},
   "outputs": [],
   "source": [
    "virginia_counties_with_population_df = virginia_counties_gdf.merge(\n",
    "    county_populations_2023_df, on=\"FIPS\", how=\"left\"\n",
    ")"
   ]
  },
  {
   "cell_type": "markdown",
   "id": "5cc8b5dc-337c-40fa-9bdd-d9842b2bf263",
   "metadata": {},
   "source": [
    "## Merge Data"
   ]
  },
  {
   "cell_type": "code",
   "execution_count": 21,
   "id": "d33828fc-0481-4fbc-afe7-222af274b1d2",
   "metadata": {},
   "outputs": [],
   "source": [
    "county_populations_1790_df = county_populations_1790_df.replace(\"nansemond\", \"suffolk\")\n",
    "county_populations_1790_df = county_populations_1790_df.replace(\n",
    "    \"elizabeth city\", \"hampton\"\n",
    ")\n",
    "county_populations_1790_df = county_populations_1790_df.replace(\n",
    "    \"princess anne\", \"virginia beach\"\n",
    ")\n",
    "county_populations_1790_df = county_populations_1790_df.replace(\n",
    "    \"warwick\", \"newport news\"\n",
    ")"
   ]
  },
  {
   "cell_type": "code",
   "execution_count": 25,
   "id": "e83acfc4-b156-4cc7-8d26-d21c419b6449",
   "metadata": {},
   "outputs": [],
   "source": [
    "virginia_counties_with_population_df[\n",
    "    \"COUNTY_NAME\"\n",
    "] = virginia_counties_with_population_df[\"COUNTY_NAME\"].str.lower()"
   ]
  },
  {
   "cell_type": "code",
   "execution_count": 28,
   "id": "028f7ebf-dc50-4583-a01c-8f2ed2c14c69",
   "metadata": {},
   "outputs": [],
   "source": [
    "virginia_counties_with_population_1790_2023_df = county_populations_1790_df.merge(\n",
    "    virginia_counties_with_population_df, on=\"COUNTY_NAME\", how=\"left\"\n",
    ")"
   ]
  },
  {
   "cell_type": "code",
   "execution_count": 30,
   "id": "6862c9f9-e350-4b3c-8a43-32b1233a99c1",
   "metadata": {},
   "outputs": [],
   "source": [
    "virginia_counties_with_population_1790_2023_df[\"growth\"] = (\n",
    "    virginia_counties_with_population_1790_2023_df[\"POPESTIMATE2023\"]\n",
    "    > virginia_counties_with_population_1790_2023_df[\"POPULATION_1790\"]\n",
    ")"
   ]
  },
  {
   "cell_type": "code",
   "execution_count": 31,
   "id": "6d691f20-f0a6-46eb-8ac9-f32932e7d3e0",
   "metadata": {},
   "outputs": [],
   "source": [
    "virginia_counties_with_population_1790_2023_df[\"difference\"] = (\n",
    "    virginia_counties_with_population_1790_2023_df[\"POPESTIMATE2023\"]\n",
    "    - virginia_counties_with_population_1790_2023_df[\"POPULATION_1790\"]\n",
    ")"
   ]
  },
  {
   "cell_type": "code",
   "execution_count": 38,
   "id": "b316b8c7-b76d-47ce-a4a1-38a43f20be43",
   "metadata": {},
   "outputs": [],
   "source": [
    "virginia_counties_with_population_1790_2023_gdf = gpd.GeoDataFrame(\n",
    "    virginia_counties_with_population_1790_2023_df\n",
    ")"
   ]
  },
  {
   "cell_type": "code",
   "execution_count": 40,
   "id": "f3368fc3-a831-46d2-9814-4b38fb6ce3a1",
   "metadata": {},
   "outputs": [],
   "source": [
    "virginia_counties_with_population_1790_2023_gdf = (\n",
    "    virginia_counties_with_population_1790_2023_gdf.to_crs(3968)\n",
    ")"
   ]
  },
  {
   "cell_type": "code",
   "execution_count": 41,
   "id": "38c3c96c-d50d-48d9-bd08-2338284c2746",
   "metadata": {},
   "outputs": [],
   "source": [
    "virginia_counties_with_population_1790_2023_gdf.to_file(\n",
    "    \"data/virginia_populations_diff.gpkg\"\n",
    ")"
   ]
  },
  {
   "cell_type": "code",
   "execution_count": null,
   "id": "eef9e62d-e1fd-4d5d-9cb2-3242d3354396",
   "metadata": {},
   "outputs": [],
   "source": []
  }
 ],
 "metadata": {
  "kernelspec": {
   "display_name": "Python 3 (ipykernel)",
   "language": "python",
   "name": "python3"
  },
  "language_info": {
   "codemirror_mode": {
    "name": "ipython",
    "version": 3
   },
   "file_extension": ".py",
   "mimetype": "text/x-python",
   "name": "python",
   "nbconvert_exporter": "python",
   "pygments_lexer": "ipython3",
   "version": "3.11.11"
  }
 },
 "nbformat": 4,
 "nbformat_minor": 5
}
