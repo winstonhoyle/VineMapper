{
 "cells": [
  {
   "cell_type": "code",
   "execution_count": 39,
   "id": "082d543d-4097-4b86-84d7-7892d159f675",
   "metadata": {},
   "outputs": [],
   "source": [
    "import geopandas as gpd\n",
    "import pandas as pd\n",
    "import requests"
   ]
  },
  {
   "cell_type": "code",
   "execution_count": 40,
   "id": "2807458a-118f-47fd-b8e8-ea56a74b4c24",
   "metadata": {},
   "outputs": [],
   "source": [
    "from bs4 import BeautifulSoup"
   ]
  },
  {
   "cell_type": "markdown",
   "id": "228f9c5e-369a-430b-aa75-392d9b1c81a8",
   "metadata": {},
   "source": [
    "## Open GIS Data"
   ]
  },
  {
   "cell_type": "code",
   "execution_count": 45,
   "id": "e4a9a7f7-f84a-4c3c-b67c-19cdf9f4dd0d",
   "metadata": {},
   "outputs": [],
   "source": [
    "file_path = \"data/cb_2018_us_state_500k/cb_2018_us_state_500k.shp\"\n",
    "states_df = gpd.read_file(file_path)"
   ]
  },
  {
   "cell_type": "markdown",
   "id": "2d00e207-b96e-4b8f-a281-4d0c0b823356",
   "metadata": {},
   "source": [
    "## Get Deaths data"
   ]
  },
  {
   "cell_type": "code",
   "execution_count": 46,
   "id": "f1c25895-6cae-438b-aed8-4b1f0dd5bcfa",
   "metadata": {},
   "outputs": [],
   "source": [
    "url = \"https://www.americanwarlibrary.com/vietnam/vwc14.htm\""
   ]
  },
  {
   "cell_type": "code",
   "execution_count": 47,
   "id": "f59ed9b2-4620-4d4c-8691-65a6d061980e",
   "metadata": {},
   "outputs": [],
   "source": [
    "r = requests.get(url)"
   ]
  },
  {
   "cell_type": "code",
   "execution_count": 48,
   "id": "f0f9f208-262e-4644-a3d7-e8214c943ec1",
   "metadata": {},
   "outputs": [],
   "source": [
    "soup = BeautifulSoup(r.text, \"html.parser\")"
   ]
  },
  {
   "cell_type": "code",
   "execution_count": 49,
   "id": "79360b4a-6333-42a0-99a0-1bd45fa0b231",
   "metadata": {},
   "outputs": [],
   "source": [
    "th_div = soup.find_all(\"table\")[1].find_all(\"th\")[4:]"
   ]
  },
  {
   "cell_type": "code",
   "execution_count": 50,
   "id": "4d51055f-ad55-461c-bb8c-ccc6f6d5c66d",
   "metadata": {},
   "outputs": [],
   "source": [
    "states = [th.text for th in th_div[::3]]\n",
    "total_deaths = [int(th.text) for th in th_div[1::3]]\n",
    "per_100k = [float(th.text) for th in th_div[2::3]]"
   ]
  },
  {
   "cell_type": "code",
   "execution_count": 53,
   "id": "729a477f-a53e-438a-8791-2a914421c058",
   "metadata": {},
   "outputs": [],
   "source": [
    "vietnam_deaths_df = pd.DataFrame(\n",
    "    {\"NAME\": states, \"DEATHS\": total_deaths, \"PER_100k\": per_100k}\n",
    ")"
   ]
  },
  {
   "cell_type": "code",
   "execution_count": 67,
   "id": "aa4d490c-acd9-492f-b202-cf4059bcd5b0",
   "metadata": {},
   "outputs": [],
   "source": [
    "vietnam_deaths_df = vietnam_deaths_df.replace(\"Washg'tn\", \"Washington\")\n",
    "vietnam_deaths_df = vietnam_deaths_df.replace(\n",
    "    \"Dist of Columbia\", \"District of Columbia\"\n",
    ")"
   ]
  },
  {
   "cell_type": "markdown",
   "id": "845a2fe2-8fd9-4218-898d-a6b0c6092507",
   "metadata": {},
   "source": [
    "## Combine Data"
   ]
  },
  {
   "cell_type": "code",
   "execution_count": 68,
   "id": "60382782-c678-4973-94c0-ecc6470cbcbd",
   "metadata": {},
   "outputs": [],
   "source": [
    "vietnam_deaths_gdf = states_df.merge(vietnam_deaths_df, on=\"NAME\", how=\"left\")"
   ]
  },
  {
   "cell_type": "code",
   "execution_count": 69,
   "id": "1e1672f1-5a2b-40f8-a8db-7544c9f42095",
   "metadata": {},
   "outputs": [],
   "source": [
    "vietnam_deaths_gdf = vietnam_deaths_gdf[\n",
    "    [\"STUSPS\", \"NAME\", \"geometry\", \"DEATHS\", \"PER_100k\"]\n",
    "]"
   ]
  },
  {
   "cell_type": "code",
   "execution_count": 70,
   "id": "405c1f3e-58a7-4038-bfae-00fe2cd3b773",
   "metadata": {},
   "outputs": [],
   "source": [
    "vietnam_deaths_gdf = vietnam_deaths_gdf.to_crs(5070)"
   ]
  },
  {
   "cell_type": "code",
   "execution_count": 71,
   "id": "cdb9ad00-072b-4c5d-8517-efa09bc758b7",
   "metadata": {},
   "outputs": [],
   "source": [
    "vietnam_deaths_gdf.to_file(\"data/vietnam_deaths.gpkg\")"
   ]
  },
  {
   "cell_type": "code",
   "execution_count": null,
   "id": "b788705d-8ed1-446b-9d8e-a113fe256b6a",
   "metadata": {},
   "outputs": [],
   "source": []
  }
 ],
 "metadata": {
  "kernelspec": {
   "display_name": "Python 3 (ipykernel)",
   "language": "python",
   "name": "python3"
  },
  "language_info": {
   "codemirror_mode": {
    "name": "ipython",
    "version": 3
   },
   "file_extension": ".py",
   "mimetype": "text/x-python",
   "name": "python",
   "nbconvert_exporter": "python",
   "pygments_lexer": "ipython3",
   "version": "3.11.10"
  }
 },
 "nbformat": 4,
 "nbformat_minor": 5
}
