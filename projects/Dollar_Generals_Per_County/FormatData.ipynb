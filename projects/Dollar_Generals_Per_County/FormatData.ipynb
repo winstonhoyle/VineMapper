{
 "cells": [
  {
   "cell_type": "code",
   "execution_count": 3,
   "id": "bc436e38-234d-44fd-b67b-d1f2974606d3",
   "metadata": {},
   "outputs": [],
   "source": [
    "import geopandas as gpd"
   ]
  },
  {
   "cell_type": "markdown",
   "id": "44a3df26-78d3-479c-99a2-c0e1ba91352e",
   "metadata": {},
   "source": [
    "## Get State Data"
   ]
  },
  {
   "cell_type": "code",
   "execution_count": 4,
   "id": "615eeabf-033b-425a-a81f-d7b4dd9e3a3e",
   "metadata": {},
   "outputs": [],
   "source": [
    "file_path = \"data/cb_2018_us_state_500k/cb_2018_us_state_500k.shp\"\n",
    "states_df = gpd.read_file(file_path)"
   ]
  },
  {
   "cell_type": "code",
   "execution_count": 5,
   "id": "502c6bfe-0912-4d37-95b0-47e7a14b468f",
   "metadata": {},
   "outputs": [],
   "source": [
    "states_df = states_df[[\"STUSPS\", \"NAME\", \"geometry\"]]"
   ]
  },
  {
   "cell_type": "markdown",
   "id": "8fc4024b-9727-41ee-9708-ffb25364b616",
   "metadata": {},
   "source": [
    "## Open County Data"
   ]
  },
  {
   "cell_type": "code",
   "execution_count": 6,
   "id": "7813076e-14bc-42d5-baf9-15303e676d24",
   "metadata": {},
   "outputs": [],
   "source": [
    "file_path = \"data/cb_2018_us_county_500k/cb_2018_us_county_500k.shp\"\n",
    "counties_gdf = gpd.read_file(file_path)"
   ]
  },
  {
   "cell_type": "markdown",
   "id": "6d2f1ce9-a36c-4292-99a0-ad42032c5ad4",
   "metadata": {},
   "source": [
    "## Get Dollar General Data"
   ]
  },
  {
   "cell_type": "code",
   "execution_count": 7,
   "id": "282540fb-b4de-4e06-9236-91b80d24a10a",
   "metadata": {},
   "outputs": [],
   "source": [
    "dollar_general_gdf = gpd.read_file(\"data/stores.gpkg\")"
   ]
  },
  {
   "cell_type": "markdown",
   "id": "da5d5b73-81ab-499b-b6e7-cb9ca290c02c",
   "metadata": {},
   "source": [
    "## Intersect Data"
   ]
  },
  {
   "cell_type": "code",
   "execution_count": 9,
   "id": "4857fb82-2869-4020-8a57-c1983c9055b6",
   "metadata": {},
   "outputs": [],
   "source": [
    "counties_gdf = counties_gdf.to_crs(dollar_general_gdf.crs.srs)"
   ]
  },
  {
   "cell_type": "code",
   "execution_count": 10,
   "id": "bab7f06e-cb89-47d2-bef5-91e7f4e6a575",
   "metadata": {},
   "outputs": [],
   "source": [
    "counties_gdf[\"intersect_true\"] = counties_gdf.intersects(dollar_general_gdf.union_all())"
   ]
  },
  {
   "cell_type": "code",
   "execution_count": 11,
   "id": "0d9f236f-7509-4dc2-a858-edc8ca038f3f",
   "metadata": {},
   "outputs": [],
   "source": [
    "counties_gdf = counties_gdf.to_crs(9311)[[\"geometry\", \"intersect_true\"]]"
   ]
  },
  {
   "cell_type": "code",
   "execution_count": 12,
   "id": "f5f2f8bc-89b2-4b14-af20-958c4451eac7",
   "metadata": {},
   "outputs": [],
   "source": [
    "counties_gdf.to_file(\"data/dollar_generals_by_county.gpkg\")"
   ]
  },
  {
   "cell_type": "code",
   "execution_count": null,
   "id": "4dfc2320-070e-464f-83f8-9d3529c0f41b",
   "metadata": {},
   "outputs": [],
   "source": []
  }
 ],
 "metadata": {
  "kernelspec": {
   "display_name": "Python 3 (ipykernel)",
   "language": "python",
   "name": "python3"
  },
  "language_info": {
   "codemirror_mode": {
    "name": "ipython",
    "version": 3
   },
   "file_extension": ".py",
   "mimetype": "text/x-python",
   "name": "python",
   "nbconvert_exporter": "python",
   "pygments_lexer": "ipython3",
   "version": "3.11.11"
  }
 },
 "nbformat": 4,
 "nbformat_minor": 5
}
