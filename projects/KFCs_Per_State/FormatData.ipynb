{
 "cells": [
  {
   "cell_type": "code",
   "execution_count": 3,
   "id": "8eca3131-85dc-48b3-b640-f384104e123c",
   "metadata": {},
   "outputs": [],
   "source": [
    "import os\n",
    "import re"
   ]
  },
  {
   "cell_type": "code",
   "execution_count": 4,
   "id": "bc436e38-234d-44fd-b67b-d1f2974606d3",
   "metadata": {},
   "outputs": [],
   "source": [
    "from bs4 import BeautifulSoup\n",
    "import cloudscraper\n",
    "import geopandas as gpd\n",
    "import pandas as pd"
   ]
  },
  {
   "cell_type": "code",
   "execution_count": 5,
   "id": "13bbdea5-6ae9-4a3a-937a-12bb704da0f4",
   "metadata": {},
   "outputs": [],
   "source": [
    "from shapely.geometry import Point\n",
    "from tqdm.notebook import tqdm"
   ]
  },
  {
   "cell_type": "markdown",
   "id": "44a3df26-78d3-479c-99a2-c0e1ba91352e",
   "metadata": {},
   "source": [
    "## Get State Data"
   ]
  },
  {
   "cell_type": "code",
   "execution_count": 6,
   "id": "615eeabf-033b-425a-a81f-d7b4dd9e3a3e",
   "metadata": {},
   "outputs": [],
   "source": [
    "file_path = \"data/cb_2018_us_state_500k/cb_2018_us_state_500k.shp\"\n",
    "states_df = gpd.read_file(file_path)"
   ]
  },
  {
   "cell_type": "code",
   "execution_count": 7,
   "id": "502c6bfe-0912-4d37-95b0-47e7a14b468f",
   "metadata": {},
   "outputs": [],
   "source": [
    "states_df = states_df[[\"STUSPS\", \"NAME\", \"geometry\"]]"
   ]
  },
  {
   "cell_type": "markdown",
   "id": "4257620c-13d7-4071-bae2-a5a2aeae5ba7",
   "metadata": {},
   "source": [
    "## Get Population data"
   ]
  },
  {
   "cell_type": "code",
   "execution_count": 8,
   "id": "6c0e7a1d-5a9a-4c10-a5d4-28dc681a8a27",
   "metadata": {},
   "outputs": [],
   "source": [
    "state_populations = pd.read_excel(\n",
    "    \"data/NST-EST2023-POP.xlsx\", sheet_name=None, engine=\"openpyxl\"\n",
    ")"
   ]
  },
  {
   "cell_type": "code",
   "execution_count": 9,
   "id": "2614c2ab-96ec-4304-a287-6fd013fedbbb",
   "metadata": {},
   "outputs": [],
   "source": [
    "state_populations_df = state_populations[\"NST-EST2023-POP\"][\n",
    "    [\n",
    "        \"table with row headers in column A and column headers in rows 3 through 4. (leading dots indicate sub-parts)\",\n",
    "        \"Unnamed: 5\",\n",
    "    ]\n",
    "]\n",
    "state_populations_df = state_populations_df.rename(\n",
    "    columns={\n",
    "        \"table with row headers in column A and column headers in rows 3 through 4. (leading dots indicate sub-parts)\": \"NAME\",\n",
    "        \"Unnamed: 5\": \"POPULATION\",\n",
    "    }\n",
    ")\n",
    "state_populations_df[\"NAME\"] = state_populations_df[\"NAME\"].str[1:]"
   ]
  },
  {
   "cell_type": "code",
   "execution_count": 10,
   "id": "2a1a8b6e-a0bf-486b-b62e-46a23ca718e2",
   "metadata": {},
   "outputs": [],
   "source": [
    "states_with_population_df = states_df.merge(state_populations_df, on=\"NAME\", how=\"left\")\n",
    "states_with_population_df = states_with_population_df[\n",
    "    [\"STUSPS\", \"NAME\", \"POPULATION\", \"geometry\"]\n",
    "]"
   ]
  },
  {
   "cell_type": "markdown",
   "id": "6d2f1ce9-a36c-4292-99a0-ad42032c5ad4",
   "metadata": {},
   "source": [
    "## Get KFC Data"
   ]
  },
  {
   "cell_type": "code",
   "execution_count": 16,
   "id": "9faa75ce-1dcd-44bc-84f2-6eb1011f9727",
   "metadata": {},
   "outputs": [],
   "source": [
    "scraper = cloudscraper.create_scraper()"
   ]
  },
  {
   "cell_type": "code",
   "execution_count": 17,
   "id": "72bb2d2b-e262-4cdc-8408-3692a8bdbf6e",
   "metadata": {},
   "outputs": [],
   "source": [
    "def get_coords(url: str) -> Point:\n",
    "    r = scraper.get(url)\n",
    "    soup = BeautifulSoup(r.text, \"html.parser\")\n",
    "    latitude_meta = soup.find(\"meta\", {\"itemprop\": \"latitude\"})\n",
    "    longitude_meta = soup.find(\"meta\", {\"itemprop\": \"longitude\"})\n",
    "    lat = float(latitude_meta.attrs[\"content\"])\n",
    "    lon = float(longitude_meta.attrs[\"content\"])\n",
    "    return Point(lon, lat)"
   ]
  },
  {
   "cell_type": "code",
   "execution_count": 19,
   "id": "57180847-49ee-46cc-9612-bfebcd53bed2",
   "metadata": {},
   "outputs": [
    {
     "data": {
      "application/vnd.jupyter.widget-view+json": {
       "model_id": "4c9929a506254d91b8d39d1318934e2a",
       "version_major": 2,
       "version_minor": 0
      },
      "text/plain": [
       "Parsing States:   0%|          | 0/56 [00:00<?, ?it/s]"
      ]
     },
     "metadata": {},
     "output_type": "display_data"
    },
    {
     "name": "stdout",
     "output_type": "stream",
     "text": [
      "Puerto Rico\n",
      "American Samoa\n",
      "United States Virgin Islands\n",
      "Guam\n",
      "Commonwealth of the Northern Mariana Islands\n"
     ]
    },
    {
     "data": {
      "application/vnd.jupyter.widget-view+json": {
       "model_id": "f4056adf463e4e37b273e6b681976241",
       "version_major": 2,
       "version_minor": 0
      },
      "text/plain": [
       "Parsing Locations In in:   0%|          | 0/78 [00:00<?, ?it/s]"
      ]
     },
     "metadata": {},
     "output_type": "display_data"
    },
    {
     "name": "stdout",
     "output_type": "stream",
     "text": [
      "https://locations.kfc.com/in/indianapolis/8456-michigan-rd-H740024_D\n"
     ]
    },
    {
     "data": {
      "application/vnd.jupyter.widget-view+json": {
       "model_id": "cf75c755a3424462a8d19fa6fdf57a32",
       "version_major": 2,
       "version_minor": 0
      },
      "text/plain": [
       "Parsing Locations In mn:   0%|          | 0/40 [00:00<?, ?it/s]"
      ]
     },
     "metadata": {},
     "output_type": "display_data"
    },
    {
     "data": {
      "application/vnd.jupyter.widget-view+json": {
       "model_id": "970024e875c64cc78484b341bb0c91a3",
       "version_major": 2,
       "version_minor": 0
      },
      "text/plain": [
       "Parsing Locations In ct:   0%|          | 0/33 [00:00<?, ?it/s]"
      ]
     },
     "metadata": {},
     "output_type": "display_data"
    }
   ],
   "source": [
    "store_list = []\n",
    "url_base = \"https://locations.kfc.com/\"\n",
    "for i in tqdm(range(len(states_df)), desc=\"Parsing States\"):\n",
    "    # Get State code\n",
    "    state_store_list = []\n",
    "    state_code = states_df.iloc[i][\"STUSPS\"].lower()\n",
    "\n",
    "    # If File exists continue\n",
    "    if os.path.isfile(f\"data/states/{state_code}.gpkg\"):\n",
    "        continue\n",
    "\n",
    "    # Get all locations in a state\n",
    "    url = os.path.join(url_base, state_code)\n",
    "    r = scraper.get(url)\n",
    "\n",
    "    if r.status_code != 200:\n",
    "        print(states_df.iloc[i][\"NAME\"])\n",
    "        continue\n",
    "\n",
    "    soup = BeautifulSoup(r.text, \"html.parser\")\n",
    "    locations_as = soup.find_all(\"a\", {\"class\": \"Directory-listLink\"})\n",
    "\n",
    "    # Parse all locations in a state\n",
    "    for locations_a in tqdm(locations_as, desc=f\"Parsing Locations In {state_code}\"):\n",
    "        href = locations_a.attrs[\"href\"]\n",
    "        count = int(re.findall(r\"\\d+\", locations_a.attrs[\"data-count\"])[0])\n",
    "        location_url = url_base + href\n",
    "\n",
    "        if count == 1:\n",
    "            point = get_coords(location_url)\n",
    "            store_dict = {\n",
    "                \"STATE\": state_code,\n",
    "                \"geometry\": point,\n",
    "            }\n",
    "            store_list.append(store_dict)\n",
    "            state_store_list.append(store_dict)\n",
    "        else:\n",
    "            r_location = scraper.get(location_url)\n",
    "            location_soup = BeautifulSoup(r_location.text, \"html.parser\")\n",
    "            locations_as = location_soup.find_all(\"a\", {\"class\": \"Teaser-titleLink\"})\n",
    "\n",
    "            # Multiple stores in locations, parse the stores per location\n",
    "            for location_a in locations_as:\n",
    "                try:\n",
    "                    href = location_a.attrs[\"href\"]\n",
    "                    location_url = os.path.join(url_base, href.replace(\"../\", \"\"))\n",
    "                    point = get_coords(location_url)\n",
    "                    store_dict = {\n",
    "                        \"STATE\": state_code,\n",
    "                        \"geometry\": point,\n",
    "                    }\n",
    "                    store_list.append(store_dict)\n",
    "                    state_store_list.append(store_dict)\n",
    "                except Exception as e:\n",
    "                    print(location_url)\n",
    "\n",
    "    if state_store_list:\n",
    "        kfc_state_gdf = gpd.GeoDataFrame(state_store_list, crs=4326)\n",
    "        kfc_state_gdf.to_file(f\"data/states/{state_code}.gpkg\")"
   ]
  },
  {
   "cell_type": "markdown",
   "id": "f2e1d560-e60f-4655-9502-3ba103884809",
   "metadata": {},
   "source": [
    "#### If the above cells breaks just keep running until complete. Then run the line below"
   ]
  },
  {
   "cell_type": "code",
   "execution_count": 20,
   "id": "48487d99-9fc6-4650-9192-c142c5d86cc3",
   "metadata": {},
   "outputs": [],
   "source": [
    "kfc_state_gdfs = []\n",
    "states_path = \"data/states\"\n",
    "for file in os.listdir(\"data/states\"):\n",
    "    constructed_path = os.path.join(states_path, file)\n",
    "    if constructed_path.endswith(\".gpkg\"):\n",
    "        state_kfc_gdf = gpd.read_file(constructed_path)\n",
    "        kfc_state_gdfs.append(state_kfc_gdf)"
   ]
  },
  {
   "cell_type": "code",
   "execution_count": 21,
   "id": "4700ceff-80d8-4b4a-97af-f6d9c801c052",
   "metadata": {},
   "outputs": [],
   "source": [
    "kfc_state_gdf = gpd.GeoDataFrame(pd.concat(kfc_state_gdfs, ignore_index=True))"
   ]
  },
  {
   "cell_type": "code",
   "execution_count": 22,
   "id": "30cdf6ab-4324-457b-bfc1-215c1c9fe2ce",
   "metadata": {},
   "outputs": [],
   "source": [
    "kfc_state_gdf = kfc_state_gdf.to_crs(9311)\n",
    "kfc_state_gdf.to_file(f\"data/stores.gpkg\")"
   ]
  },
  {
   "cell_type": "markdown",
   "id": "94cb32a2-faf0-40fa-8616-e8f2275eca72",
   "metadata": {},
   "source": [
    "## Combine With States"
   ]
  },
  {
   "cell_type": "code",
   "execution_count": 32,
   "id": "eba6646a-fb99-4d01-9b3f-adf29223cb03",
   "metadata": {},
   "outputs": [],
   "source": [
    "kfc_state_counts_series = kfc_state_gdf.groupby(\"STATE\").size()\n",
    "kfc_state_counts_df = pd.DataFrame(\n",
    "    {\n",
    "        \"STUSPS\": kfc_state_counts_series.index,\n",
    "        \"stores\": kfc_state_counts_series.values,\n",
    "    }\n",
    ")"
   ]
  },
  {
   "cell_type": "code",
   "execution_count": 34,
   "id": "d0d5933d-9164-47af-8cd6-95632ca56726",
   "metadata": {},
   "outputs": [],
   "source": [
    "kfc_state_counts_df[\"STUSPS\"] = kfc_state_counts_df[\"STUSPS\"].str.upper()"
   ]
  },
  {
   "cell_type": "code",
   "execution_count": 36,
   "id": "c062806b-5f76-4d7e-a226-31383a266b6a",
   "metadata": {},
   "outputs": [],
   "source": [
    "kfc_state_counts_df = states_with_population_df.merge(\n",
    "    kfc_state_counts_df, on=\"STUSPS\", how=\"left\"\n",
    ")"
   ]
  },
  {
   "cell_type": "code",
   "execution_count": 37,
   "id": "300ee45e-48b8-48f6-9a3a-efd4904a5efe",
   "metadata": {},
   "outputs": [],
   "source": [
    "kfc_state_counts_df = kfc_state_counts_df.fillna(0)\n",
    "kfc_state_counts_df[\"stores\"] = kfc_state_counts_df[\"stores\"].astype(int)"
   ]
  },
  {
   "cell_type": "code",
   "execution_count": 38,
   "id": "8e8b581c-4e0c-40b8-81a9-4ea014470b40",
   "metadata": {},
   "outputs": [],
   "source": [
    "kfc_state_counts_df[\"per_1000\"] = kfc_state_counts_df[\"stores\"] / (\n",
    "    kfc_state_counts_df[\"POPULATION\"] / 1000\n",
    ")\n",
    "kfc_state_counts_df[\"per_10k\"] = kfc_state_counts_df[\"stores\"] / (\n",
    "    kfc_state_counts_df[\"POPULATION\"] / 10_000\n",
    ")\n",
    "kfc_state_counts_df[\"per_100k\"] = kfc_state_counts_df[\"stores\"] / (\n",
    "    kfc_state_counts_df[\"POPULATION\"] / 100000\n",
    ")\n",
    "kfc_state_counts_df[\"per_500k\"] = kfc_state_counts_df[\"stores\"] / (\n",
    "    kfc_state_counts_df[\"POPULATION\"] / 500_000\n",
    ")\n",
    "kfc_state_counts_df[\"per_1m\"] = kfc_state_counts_df[\"stores\"] / (\n",
    "    kfc_state_counts_df[\"POPULATION\"] / 1_000_000\n",
    ")"
   ]
  },
  {
   "cell_type": "code",
   "execution_count": 39,
   "id": "237a0e6a-ccc2-4f3b-baad-d36ce4ecc481",
   "metadata": {},
   "outputs": [],
   "source": [
    "kfc_state_counts_df = kfc_state_counts_df.dropna()"
   ]
  },
  {
   "cell_type": "code",
   "execution_count": 40,
   "id": "944acfaa-313b-4a9f-aecc-53fe95e188be",
   "metadata": {},
   "outputs": [],
   "source": [
    "kfc_state_counts_df = kfc_state_counts_df.to_crs(9311)\n",
    "kfc_state_counts_df.to_file(f\"data/stores_by_states.gpkg\")"
   ]
  },
  {
   "cell_type": "code",
   "execution_count": null,
   "id": "3eba1b99-001c-4de4-9fe1-1a06ea51e118",
   "metadata": {},
   "outputs": [],
   "source": []
  }
 ],
 "metadata": {
  "kernelspec": {
   "display_name": "Python 3 (ipykernel)",
   "language": "python",
   "name": "python3"
  },
  "language_info": {
   "codemirror_mode": {
    "name": "ipython",
    "version": 3
   },
   "file_extension": ".py",
   "mimetype": "text/x-python",
   "name": "python",
   "nbconvert_exporter": "python",
   "pygments_lexer": "ipython3",
   "version": "3.11.11"
  }
 },
 "nbformat": 4,
 "nbformat_minor": 5
}
