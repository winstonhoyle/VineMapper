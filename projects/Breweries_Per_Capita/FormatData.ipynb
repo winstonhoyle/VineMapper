{
 "cells": [
  {
   "cell_type": "code",
   "execution_count": 1,
   "id": "af26803a-0cf2-46b5-8cd8-c9ff26aeb93f",
   "metadata": {},
   "outputs": [],
   "source": [
    "import requests\n",
    "import geopandas as gpd\n",
    "import pandas as pd"
   ]
  },
  {
   "cell_type": "code",
   "execution_count": 17,
   "id": "df70ef4e-5c02-43da-853f-c2a6e33d040b",
   "metadata": {},
   "outputs": [],
   "source": [
    "from shapely.geometry import Point"
   ]
  },
  {
   "cell_type": "code",
   "execution_count": 51,
   "id": "1306272f-4f5c-413c-bec8-f2265dc021f4",
   "metadata": {},
   "outputs": [],
   "source": [
    "from tqdm.notebook import tqdm"
   ]
  },
  {
   "cell_type": "markdown",
   "id": "c55d5d3f-990a-4aaf-a53b-05703741d09f",
   "metadata": {},
   "source": [
    "## Open GIS Data"
   ]
  },
  {
   "cell_type": "code",
   "execution_count": null,
   "id": "2f5b05a6-4732-47eb-ada1-9fd09ccc63d3",
   "metadata": {},
   "outputs": [],
   "source": [
    "file_path = 'data/cb_2018_us_state_500k/cb_2018_us_state_500k.shp'\n",
    "states_df = gpd.read_file(file_path)"
   ]
  },
  {
   "cell_type": "markdown",
   "id": "c671bfc1-cb70-4a27-aa55-0c2dac7ed7da",
   "metadata": {},
   "source": [
    "## Get Brewery Data"
   ]
  },
  {
   "cell_type": "code",
   "execution_count": 2,
   "id": "262009db-91e8-4a71-9d14-ac0423b25376",
   "metadata": {},
   "outputs": [],
   "source": [
    "url = 'https://www.craftbeer.com/wp-content/themes/craftbeer2023/breweries/breweries.json'"
   ]
  },
  {
   "cell_type": "code",
   "execution_count": 3,
   "id": "9605c38a-b065-42ed-a502-9b657ad31b3b",
   "metadata": {},
   "outputs": [],
   "source": [
    "r = requests.get(url)"
   ]
  },
  {
   "cell_type": "code",
   "execution_count": 4,
   "id": "00f12282-8d1e-43d4-80bc-4207accc7736",
   "metadata": {},
   "outputs": [],
   "source": [
    "breweries_json = r.json()"
   ]
  },
  {
   "cell_type": "code",
   "execution_count": 13,
   "id": "5c2bce7d-e6c4-458f-acc9-c921ca0eda20",
   "metadata": {},
   "outputs": [
    {
     "data": {
      "text/plain": [
       "{'attributes': {'type': 'Account',\n",
       "  'url': '/services/data/v52.0/sobjects/Account/0014x00000x9ty2AAA'},\n",
       " 'Id': '0014x00000x9ty2AAA',\n",
       " 'Name': 'Barley POP! Brewing',\n",
       " 'Parent': None,\n",
       " 'Phone': '(360) 610-6843',\n",
       " 'Website': 'https://www.barleypopbeer.com/',\n",
       " 'Brewery_Type__c': 'Micro',\n",
       " 'BillingAddress': {'city': 'Snohomish',\n",
       "  'country': 'United States',\n",
       "  'countryCode': 'US',\n",
       "  'geocodeAccuracy': 'Address',\n",
       "  'latitude': 47.924323,\n",
       "  'longitude': -122.096792,\n",
       "  'postalCode': '98290',\n",
       "  'state': 'Washington',\n",
       "  'stateCode': 'WA',\n",
       "  'street': '1208 10th Street'},\n",
       " 'Is_Craft_Brewery__c': True,\n",
       " 'Voting_Member__c': True,\n",
       " 'Signed_Seal_Licensing_agreement__c': True,\n",
       " 'Membership_Record_Item__c': 'Monthly Brewery Membership',\n",
       " 'Membership_Record_Paid_Through_Date__c': '2024-12-20',\n",
       " 'Membership_Record_Status__c': 'Active',\n",
       " 'Brewery_DB_ID__c': None}"
      ]
     },
     "execution_count": 13,
     "metadata": {},
     "output_type": "execute_result"
    }
   ],
   "source": [
    "breweries_json[0]"
   ]
  },
  {
   "cell_type": "code",
   "execution_count": 66,
   "id": "3aaa1c38-0261-4824-857d-b5f140edb998",
   "metadata": {},
   "outputs": [
    {
     "data": {
      "application/vnd.jupyter.widget-view+json": {
       "model_id": "452f7f3623aa417d8d17054c618d3c09",
       "version_major": 2,
       "version_minor": 0
      },
      "text/plain": [
       "Parsing Breweries:   0%|          | 0/14542 [00:00<?, ?it/s]"
      ]
     },
     "metadata": {},
     "output_type": "display_data"
    },
    {
     "name": "stdout",
     "output_type": "stream",
     "text": [
      "Tower Brewing\n",
      "Nickel Brook Brewing Co.\n",
      "Brewpoint\n",
      "Cowbell Brewing Co.\n",
      "kroger\n",
      "Century Barn Brewing and Beverage Company\n",
      "H2 BrewHouse\n",
      "RAM Restaurant and Brewery - Tacoma\n",
      "Del Barril\n",
      "Otter Creek Brewing\n",
      "Crafted\n",
      "Tallgrass Tap House\n",
      "Keeper’s Cut Meadery\n",
      "Orpheus Brewing\n",
      "Horace Grove Brewery\n",
      "Platform Beer Co\n",
      "Arcadia Brewing\n",
      "Ale Asylum\n",
      "People’s Republic of South Central\n",
      "Great Frontier Holdings\n",
      "ENAY\n",
      "Sacred Vice Brewing - Howard Street\n",
      "Colsons Beer\n",
      "Ecliptic Brewing\n",
      "Isley Brewing\n",
      "Dillinger\n",
      "Honky Tonk Brewing Co\n",
      "Elk Valley Brewing\n",
      "Astro-Zombie Bio-Labs\n",
      "Shebeen Brewing Company\n",
      "Flying Fish\n",
      "JuneShine\n",
      "Griffon & Sphynx\n",
      "Gun Hill Brewing Company\n",
      "Deep Ellum Brewing Co\n",
      "Metropolitan Brewing\n",
      "Blackberry Farm Brewery\n",
      "Seldom Beer Co.\n",
      "Bravazzi\n",
      "Midway 154 Brewing\n",
      "Edge Brewing\n",
      "Peace Tree Brewing\n"
     ]
    }
   ],
   "source": [
    "coord_list = []\n",
    "state_counts = {}\n",
    "for brewery in tqdm(breweries_json, desc='Parsing Breweries'):\n",
    "    if brewery['BillingAddress']['longitude'] != None:\n",
    "\n",
    "        point = Point(brewery['BillingAddress']['longitude'], brewery['BillingAddress']['latitude'])\n",
    "        try:\n",
    "            state_code = states_df[states_df.intersects(point)]['STUSPS'].iloc[0]\n",
    "        except IndexError:\n",
    "            print(brewery['Name'])\n",
    "            continue\n",
    "    else:\n",
    "        state_code = brewery['BillingAddress']['stateCode']\n",
    "        if state_code == None:\n",
    "            if not brewery['Name'].endswith('Household'):\n",
    "                print(brewery['Name'])\n",
    "            continue\n",
    "\n",
    "    if state_code not in state_counts:\n",
    "        state_counts[state_code] = 1\n",
    "    else:\n",
    "        state_counts[state_code] += 1"
   ]
  },
  {
   "cell_type": "markdown",
   "id": "225e5d73-6127-4195-b62c-2204fa7e4e39",
   "metadata": {},
   "source": [
    "### Manually Look up the rest"
   ]
  },
  {
   "cell_type": "code",
   "execution_count": 72,
   "id": "f34f2280-0be7-42fa-8236-19a954dd86e5",
   "metadata": {},
   "outputs": [],
   "source": [
    "manually_added = {\"WA\": 1, \"PR\":1, \"VT\":1, \"KS\":1, \"NC\":2, \"WI\":1, \"CA\":2, \"PA\":1, \"OR\":1, \"TN\":2, \"MD\":1, \"TX\":1, \"IL\":2, \"ID\":1}"
   ]
  },
  {
   "cell_type": "code",
   "execution_count": 74,
   "id": "869b1362-5ddb-41ae-b0f4-e90bb4fb8347",
   "metadata": {},
   "outputs": [],
   "source": [
    "for state, counts in manually_added.items():\n",
    "    state_counts[state]+=counts"
   ]
  },
  {
   "cell_type": "code",
   "execution_count": 81,
   "id": "34009808-3d1a-48bd-99b1-455b08d75498",
   "metadata": {},
   "outputs": [],
   "source": [
    "breweries_per_state_series = pd.Series(state_counts, name=\"breweries\")"
   ]
  },
  {
   "cell_type": "code",
   "execution_count": 129,
   "id": "6b0da2b8-3491-4c67-ba66-ae133137ec61",
   "metadata": {},
   "outputs": [],
   "source": [
    "breweries_per_state_df = breweries_per_state_series.reset_index()\n",
    "breweries_per_state_df = breweries_per_state_df.rename(columns={'index':'STUSPS'})"
   ]
  },
  {
   "cell_type": "markdown",
   "id": "eec8f84b-9dd7-4f1d-ad34-c9485f6e1b44",
   "metadata": {},
   "source": [
    "## Get State Population data"
   ]
  },
  {
   "cell_type": "code",
   "execution_count": 115,
   "id": "0e07a33b-c8e4-4cf0-b15e-e08b0f35649b",
   "metadata": {},
   "outputs": [],
   "source": [
    "state_populations = pd.read_excel('data/NST-EST2023-POP.xlsx', sheet_name=None, engine='openpyxl')"
   ]
  },
  {
   "cell_type": "code",
   "execution_count": 118,
   "id": "b8be1216-eb81-4932-971a-20353e1089df",
   "metadata": {},
   "outputs": [],
   "source": [
    "state_populations_df = state_populations['NST-EST2023-POP'][['table with row headers in column A and column headers in rows 3 through 4. (leading dots indicate sub-parts)','Unnamed: 5']]\n",
    "state_populations_df = state_populations_df.rename(columns={'table with row headers in column A and column headers in rows 3 through 4. (leading dots indicate sub-parts)': \"NAME\",'Unnamed: 5':'POPULATION'})\n",
    "state_populations_df['NAME'] = state_populations_df['NAME'].str[1:]"
   ]
  },
  {
   "cell_type": "code",
   "execution_count": 122,
   "id": "64ea76e4-ee13-44bf-b6f8-5e997cfcfd6e",
   "metadata": {},
   "outputs": [],
   "source": [
    "states_with_population_df = states_df.merge(state_populations_df, on='NAME', how='left')\n",
    "states_with_population_df = states_with_population_df[['STUSPS','POPULATION','geometry']]"
   ]
  },
  {
   "cell_type": "code",
   "execution_count": 125,
   "id": "6134e8ed-9cdc-4732-8a76-a1a5293b92d3",
   "metadata": {},
   "outputs": [],
   "source": [
    "states_with_population_df = states_with_population_df.dropna()"
   ]
  },
  {
   "cell_type": "markdown",
   "id": "5c57d0bb-7a83-4577-99db-2af63d6278de",
   "metadata": {},
   "source": [
    "## Format data and Calculate per 100k"
   ]
  },
  {
   "cell_type": "code",
   "execution_count": 132,
   "id": "fe2b0f1a-b835-429f-9529-477a2d9a2a6b",
   "metadata": {},
   "outputs": [],
   "source": [
    "breweries_per_state_df = states_with_population_df.merge(breweries_per_state_df, on='STUSPS', how='left')"
   ]
  },
  {
   "cell_type": "code",
   "execution_count": 143,
   "id": "ec1fd26f-59c0-44d4-83aa-603a7958db41",
   "metadata": {},
   "outputs": [],
   "source": [
    "breweries_per_state_df['per_100k'] = breweries_per_state_df['breweries']/(breweries_per_state_df['POPULATION']/100000)"
   ]
  },
  {
   "cell_type": "code",
   "execution_count": 148,
   "id": "6297825c-0b30-4c0f-a3b9-e6b2ae15183c",
   "metadata": {},
   "outputs": [],
   "source": [
    "breweries_per_state_df.to_file('data/breweries.gpkg')"
   ]
  },
  {
   "cell_type": "code",
   "execution_count": null,
   "id": "374f8aa8-af45-4811-a935-2f1f2b2c879d",
   "metadata": {},
   "outputs": [],
   "source": []
  }
 ],
 "metadata": {
  "kernelspec": {
   "display_name": "Python 3 (ipykernel)",
   "language": "python",
   "name": "python3"
  },
  "language_info": {
   "codemirror_mode": {
    "name": "ipython",
    "version": 3
   },
   "file_extension": ".py",
   "mimetype": "text/x-python",
   "name": "python",
   "nbconvert_exporter": "python",
   "pygments_lexer": "ipython3",
   "version": "3.11.10"
  }
 },
 "nbformat": 4,
 "nbformat_minor": 5
}
