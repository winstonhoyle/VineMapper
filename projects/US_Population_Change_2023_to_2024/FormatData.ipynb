{
 "cells": [
  {
   "cell_type": "code",
   "execution_count": 2,
   "id": "fdc6b924-c3f7-4e94-86da-9894376da669",
   "metadata": {},
   "outputs": [],
   "source": [
    "import requests"
   ]
  },
  {
   "cell_type": "code",
   "execution_count": 3,
   "id": "b2f6e4cd-b286-4f07-a8ef-5008853c90bc",
   "metadata": {},
   "outputs": [],
   "source": [
    "from bs4 import BeautifulSoup\n",
    "import geopandas as gpd\n",
    "import pandas as pd"
   ]
  },
  {
   "cell_type": "markdown",
   "id": "294749e9-1b21-4ef2-b8ad-99a72bf37024",
   "metadata": {},
   "source": [
    "## Open GIS Data"
   ]
  },
  {
   "cell_type": "code",
   "execution_count": 44,
   "id": "873d65f2-fbe6-4a13-a828-4f2873ff7651",
   "metadata": {},
   "outputs": [],
   "source": [
    "file_path = \"data/cb_2018_us_state_500k/cb_2018_us_state_500k.shp\"\n",
    "states_df = gpd.read_file(file_path)"
   ]
  },
  {
   "cell_type": "code",
   "execution_count": 46,
   "id": "1c35647c-1fc9-4e0f-b248-73c21ce25f57",
   "metadata": {},
   "outputs": [],
   "source": [
    "states_df[\"NAME\"] = states_df[\"NAME\"].str.lower()"
   ]
  },
  {
   "cell_type": "markdown",
   "id": "7ee690d0-6069-494c-802d-0f7c23511e74",
   "metadata": {},
   "source": [
    "## Get Population Data"
   ]
  },
  {
   "cell_type": "code",
   "execution_count": 5,
   "id": "12217cd5-3899-4d7e-b37c-c3afecf4331f",
   "metadata": {},
   "outputs": [],
   "source": [
    "headers = {\n",
    "    \"User-Agent\": \"Mozilla/5.0 (Macintosh; Intel Mac OS X 10_11_5) AppleWebKit/537.36 (KHTML, like Gecko) Chrome/50.0.2661.102 Safari/537.36\"\n",
    "}"
   ]
  },
  {
   "cell_type": "code",
   "execution_count": 7,
   "id": "f296324b-8da7-4aa2-b3d8-2511bf7b0772",
   "metadata": {},
   "outputs": [],
   "source": [
    "r = requests.get(\"https://worldpopulationreview.com/states\", headers=headers)"
   ]
  },
  {
   "cell_type": "code",
   "execution_count": 9,
   "id": "57766f9f-8bae-43e8-9ec8-3ad3b47298ea",
   "metadata": {},
   "outputs": [],
   "source": [
    "soup = BeautifulSoup(r.text, \"html.parser\")\n",
    "tbodys = soup.find_all(\"tbody\", {\"class\": \"relative z-10 text-sm\"})\n",
    "population_table = tbodys[0]"
   ]
  },
  {
   "cell_type": "code",
   "execution_count": 40,
   "id": "32df1bdb-f6df-457e-90be-fab0b404b304",
   "metadata": {},
   "outputs": [],
   "source": [
    "population_list = []\n",
    "for tr in population_table.find_all(\"tr\"):\n",
    "    tds = tr.find_all(\"td\")\n",
    "    population_dict = {\n",
    "        \"NAME\": tr.find(\"a\").text.lower(),\n",
    "        \"rank\": tds[0].text,\n",
    "        \"pop2024\": int(tds[1].text.replace(\",\", \"\")),\n",
    "        \"pop2023\": int(tds[2].text.replace(\",\", \"\")),\n",
    "        \"change\": float(tds[3].find(\"span\").text.replace(\"%\", \"\")),\n",
    "    }\n",
    "    population_list.append(population_dict)\n",
    "\n",
    "for tr in tbodys[1].find_all(\"tr\"):\n",
    "    tds = tr.find_all(\"td\")\n",
    "    population_dict = {\n",
    "        \"NAME\": tr.find(\"a\").text.lower(),\n",
    "        \"pop2024\": int(tds[1].text.replace(\",\", \"\")),\n",
    "        \"pop2023\": int(tds[2].text.replace(\",\", \"\")),\n",
    "        \"change\": float(tds[3].find(\"span\").text.replace(\"%\", \"\")),\n",
    "    }\n",
    "    population_list.append(population_dict)"
   ]
  },
  {
   "cell_type": "code",
   "execution_count": 41,
   "id": "f00a6494-9d6a-4cd5-9a70-332f06b909bc",
   "metadata": {},
   "outputs": [],
   "source": [
    "population_df = pd.DataFrame(\n",
    "    population_list, columns=[\"NAME\", \"pop2024\", \"pop2023\", \"change\"]\n",
    ")"
   ]
  },
  {
   "cell_type": "markdown",
   "id": "c1db260e-53f5-4ac5-a3c7-63bf22bbde9c",
   "metadata": {},
   "source": [
    "## Merge Data"
   ]
  },
  {
   "cell_type": "code",
   "execution_count": 49,
   "id": "c670beb4-4d4f-40a8-9f22-6301c64235f0",
   "metadata": {},
   "outputs": [],
   "source": [
    "states_with_population_gdf = states_df.merge(population_df, on=\"NAME\", how=\"right\")[\n",
    "    [\"geometry\", \"pop2023\", \"pop2024\", \"change\"]\n",
    "]"
   ]
  },
  {
   "cell_type": "code",
   "execution_count": 51,
   "id": "93f0a7db-fa25-4234-8374-e70b5aed798b",
   "metadata": {},
   "outputs": [],
   "source": [
    "states_with_population_gdf[\"difference\"] = (\n",
    "    states_with_population_gdf[\"pop2024\"] - states_with_population_gdf[\"pop2023\"]\n",
    ")"
   ]
  },
  {
   "cell_type": "code",
   "execution_count": 52,
   "id": "8f20571c-0506-4027-b64d-48d1dbacce91",
   "metadata": {},
   "outputs": [],
   "source": [
    "states_with_population_gdf = states_with_population_gdf.to_crs(9311)"
   ]
  },
  {
   "cell_type": "code",
   "execution_count": 53,
   "id": "6b2047ad-6fa9-4da6-b0f6-61bb5d25a5fd",
   "metadata": {},
   "outputs": [],
   "source": [
    "states_with_population_gdf.to_file(\"data/population.gpkg\")"
   ]
  },
  {
   "cell_type": "code",
   "execution_count": null,
   "id": "c384e3e8-6b5d-47e6-a8ef-b8a084d68d9e",
   "metadata": {},
   "outputs": [],
   "source": []
  }
 ],
 "metadata": {
  "kernelspec": {
   "display_name": "Python 3 (ipykernel)",
   "language": "python",
   "name": "python3"
  },
  "language_info": {
   "codemirror_mode": {
    "name": "ipython",
    "version": 3
   },
   "file_extension": ".py",
   "mimetype": "text/x-python",
   "name": "python",
   "nbconvert_exporter": "python",
   "pygments_lexer": "ipython3",
   "version": "3.11.11"
  }
 },
 "nbformat": 4,
 "nbformat_minor": 5
}
