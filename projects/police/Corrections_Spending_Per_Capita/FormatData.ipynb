{
 "cells": [
  {
   "cell_type": "code",
   "execution_count": 24,
   "id": "8f95a1c5-dc65-4fd5-b1fc-779a3df2843e",
   "metadata": {},
   "outputs": [],
   "source": [
    "import re\n",
    "import requests"
   ]
  },
  {
   "cell_type": "code",
   "execution_count": 25,
   "id": "c2761071-fe2b-4326-b061-63f83539248d",
   "metadata": {},
   "outputs": [],
   "source": [
    "from bs4 import BeautifulSoup\n",
    "import geopandas as gpd\n",
    "import pandas as pd"
   ]
  },
  {
   "cell_type": "code",
   "execution_count": 35,
   "id": "41eb3f18-f968-47d7-a167-bfd451a769e2",
   "metadata": {},
   "outputs": [],
   "source": [
    "from tqdm.notebook import tqdm"
   ]
  },
  {
   "cell_type": "markdown",
   "id": "23e68515-3599-45b2-8813-4050821d6664",
   "metadata": {},
   "source": [
    "## Get Corrections Data"
   ]
  },
  {
   "cell_type": "code",
   "execution_count": 79,
   "id": "b7736d57-7280-4ee2-a94a-611c5dc4ac1d",
   "metadata": {},
   "outputs": [],
   "source": [
    "headers = {\n",
    "    \"User-Agent\": \"Mozilla/5.0 (Macintosh; Intel Mac OS X 10_11_5) AppleWebKit/537.36 (KHTML, like Gecko) Chrome/50.0.2661.102 Safari/537.36\"\n",
    "}"
   ]
  },
  {
   "cell_type": "code",
   "execution_count": 80,
   "id": "aa768bdc-4133-4a23-9407-b67f22b51c97",
   "metadata": {},
   "outputs": [],
   "source": [
    "url = \"https://www.moneygeek.com/financial-planning/taxes/state-policing-corrections-spending/#methodology\""
   ]
  },
  {
   "cell_type": "code",
   "execution_count": 81,
   "id": "e60437c9-e76f-4e66-a18b-82be4129761e",
   "metadata": {},
   "outputs": [],
   "source": [
    "r = requests.get(url, headers=headers)"
   ]
  },
  {
   "cell_type": "code",
   "execution_count": 82,
   "id": "02654a92-2da8-487a-867e-74743cd7f300",
   "metadata": {},
   "outputs": [],
   "source": [
    "soup = BeautifulSoup(r.text, \"html.parser\")"
   ]
  },
  {
   "cell_type": "code",
   "execution_count": 83,
   "id": "613f2e82-84b2-44a1-b936-792cfc8a16d8",
   "metadata": {},
   "outputs": [],
   "source": [
    "corrections_table = soup.find_all(\n",
    "    \"table\", {\"class\": \"w-full lining-nums tabular-nums style_table__H8eRl\"}\n",
    ")[2]"
   ]
  },
  {
   "cell_type": "code",
   "execution_count": 84,
   "id": "ce22db79-044f-467e-939a-ec8ae5de8569",
   "metadata": {},
   "outputs": [],
   "source": [
    "table_rows = corrections_table.find_all(\"tr\")"
   ]
  },
  {
   "cell_type": "code",
   "execution_count": 85,
   "id": "c4214b49-bf1c-4c3c-8d0d-7f89a0de04ff",
   "metadata": {},
   "outputs": [
    {
     "data": {
      "application/vnd.jupyter.widget-view+json": {
       "model_id": "743cd63323e245198dbac987bd126665",
       "version_major": 2,
       "version_minor": 0
      },
      "text/plain": [
       "Parsing Table:   0%|          | 0/52 [00:00<?, ?it/s]"
      ]
     },
     "metadata": {},
     "output_type": "display_data"
    }
   ],
   "source": [
    "corrections_spend = []\n",
    "for table_row in tqdm(table_rows, desc=\"Parsing Table\"):\n",
    "    tds = table_row.find_all(\"td\")\n",
    "    if not tds:\n",
    "        continue\n",
    "    row = {\n",
    "        \"Rank (Highest Corrections % of total Spend)\": int(\n",
    "            \"\".join(re.findall(r\"\\d+\", tds[0].text))\n",
    "        ),\n",
    "        \"State\": tds[1].text,\n",
    "        \"Corrections % of Total Spend\": float(\n",
    "            \".\".join(re.findall(r\"\\d+\", tds[2].text))\n",
    "        ),\n",
    "        \"Corrections Per Capita Spend\": int(\"\".join(re.findall(r\"\\d+\", tds[3].text))),\n",
    "        \"Corrections Expenditures ($ Millions)\": int(\n",
    "            \"\".join(re.findall(r\"\\d+\", tds[4].text))\n",
    "        ),\n",
    "    }\n",
    "    corrections_spend.append(row)"
   ]
  },
  {
   "cell_type": "code",
   "execution_count": 90,
   "id": "4208b14c-545b-4e5a-bd54-f7d58121c971",
   "metadata": {},
   "outputs": [],
   "source": [
    "corrections_df = pd.DataFrame(corrections_spend)"
   ]
  },
  {
   "cell_type": "code",
   "execution_count": 92,
   "id": "64fd601e-88af-4553-a31e-6184ae7f97ef",
   "metadata": {},
   "outputs": [],
   "source": [
    "corrections_df = corrections_df.rename(columns={\"State\": \"NAME\"})"
   ]
  },
  {
   "cell_type": "markdown",
   "id": "d4a8846b-077d-4cc7-82ac-54feea65f1e2",
   "metadata": {},
   "source": [
    "## Get State Data"
   ]
  },
  {
   "cell_type": "code",
   "execution_count": 88,
   "id": "8c3d535f-7a22-422e-a013-0e433836fa31",
   "metadata": {},
   "outputs": [],
   "source": [
    "file_path = \"data/cb_2018_us_state_500k/cb_2018_us_state_500k.shp\"\n",
    "states_df = gpd.read_file(file_path)"
   ]
  },
  {
   "cell_type": "code",
   "execution_count": 89,
   "id": "bfe6445a-f818-48b3-9098-412bfff14903",
   "metadata": {},
   "outputs": [],
   "source": [
    "states_df = states_df[[\"STUSPS\", \"NAME\", \"geometry\"]]"
   ]
  },
  {
   "cell_type": "markdown",
   "id": "eb91d790-79aa-4b69-ac6d-6fcc57de561f",
   "metadata": {},
   "source": [
    "## Merge Data"
   ]
  },
  {
   "cell_type": "code",
   "execution_count": 93,
   "id": "83b05b7a-3bed-4883-b3e2-67546c8bc2e8",
   "metadata": {},
   "outputs": [],
   "source": [
    "corrections_gdf = states_df.merge(corrections_df, on=\"NAME\", how=\"left\")"
   ]
  },
  {
   "cell_type": "code",
   "execution_count": 97,
   "id": "0ab7c7aa-15d8-4e82-852b-1034cd1d7294",
   "metadata": {},
   "outputs": [],
   "source": [
    "corrections_gdf = corrections_gdf.dropna().reset_index()"
   ]
  },
  {
   "cell_type": "code",
   "execution_count": 98,
   "id": "68201120-ab98-4359-8624-3b7e94ee0b3c",
   "metadata": {},
   "outputs": [],
   "source": [
    "corrections_gdf = corrections_gdf.to_crs(9311)"
   ]
  },
  {
   "cell_type": "code",
   "execution_count": 99,
   "id": "42af5759-7315-4fa2-a213-468df0d8da0f",
   "metadata": {},
   "outputs": [],
   "source": [
    "corrections_gdf.to_file(\"data/corrections_per_state.gpkg\")"
   ]
  },
  {
   "cell_type": "code",
   "execution_count": null,
   "id": "4113ca30-0ba2-4742-9d09-b3c959165843",
   "metadata": {},
   "outputs": [],
   "source": []
  }
 ],
 "metadata": {
  "kernelspec": {
   "display_name": "Python 3 (ipykernel)",
   "language": "python",
   "name": "python3"
  },
  "language_info": {
   "codemirror_mode": {
    "name": "ipython",
    "version": 3
   },
   "file_extension": ".py",
   "mimetype": "text/x-python",
   "name": "python",
   "nbconvert_exporter": "python",
   "pygments_lexer": "ipython3",
   "version": "3.11.11"
  }
 },
 "nbformat": 4,
 "nbformat_minor": 5
}
