{
 "cells": [
  {
   "cell_type": "code",
   "execution_count": 12,
   "id": "a45b07ea-f783-4e41-99a2-2c33decb0b48",
   "metadata": {},
   "outputs": [],
   "source": [
    "import json\n",
    "import requests"
   ]
  },
  {
   "cell_type": "code",
   "execution_count": 13,
   "id": "c4323fb2-1721-463e-8602-d1c3302ff523",
   "metadata": {},
   "outputs": [],
   "source": [
    "import geopandas as gpd\n",
    "import pandas as pd"
   ]
  },
  {
   "cell_type": "code",
   "execution_count": 14,
   "id": "21d315a0-9301-4861-b116-4a241fa95f8d",
   "metadata": {},
   "outputs": [],
   "source": [
    "from tqdm.notebook import tqdm"
   ]
  },
  {
   "cell_type": "markdown",
   "id": "7bfd8f31-eada-447d-af06-da8a94290c02",
   "metadata": {},
   "source": [
    "## Open State data"
   ]
  },
  {
   "cell_type": "code",
   "execution_count": 15,
   "id": "5fadd853-8ad5-4832-976a-4d251d5a794b",
   "metadata": {},
   "outputs": [],
   "source": [
    "file_path = \"data/cb_2018_us_state_500k/cb_2018_us_state_500k.shp\"\n",
    "states_df = gpd.read_file(file_path)"
   ]
  },
  {
   "cell_type": "markdown",
   "id": "927a96c1-24c2-48d8-97e1-69b2a0ae7ea9",
   "metadata": {},
   "source": [
    "## Get Poplation Data"
   ]
  },
  {
   "cell_type": "code",
   "execution_count": 16,
   "id": "893947a3-03c8-46bb-aad8-bc856a0a8834",
   "metadata": {},
   "outputs": [],
   "source": [
    "state_populations = pd.read_excel(\n",
    "    \"data/NST-EST2024-POP.xlsx\", sheet_name=None, engine=\"openpyxl\"\n",
    ")"
   ]
  },
  {
   "cell_type": "code",
   "execution_count": 17,
   "id": "3772ff44-b63d-4c61-b913-a232a53357cb",
   "metadata": {},
   "outputs": [],
   "source": [
    "state_populations_df = state_populations[\"NST-EST2024-POP\"][\n",
    "    [\n",
    "        \"table with row headers in column A and column headers in rows 3 through 4. (leading dots indicate sub-parts)\",\n",
    "        \"Unnamed: 5\",\n",
    "    ]\n",
    "]\n",
    "state_populations_df = state_populations_df.rename(\n",
    "    columns={\n",
    "        \"table with row headers in column A and column headers in rows 3 through 4. (leading dots indicate sub-parts)\": \"NAME\",\n",
    "        \"Unnamed: 5\": \"POPULATION\",\n",
    "    }\n",
    ")\n",
    "state_populations_df[\"NAME\"] = state_populations_df[\"NAME\"].str[1:]"
   ]
  },
  {
   "cell_type": "code",
   "execution_count": 18,
   "id": "afb550fe-675e-4507-ad45-e19344aca111",
   "metadata": {},
   "outputs": [],
   "source": [
    "states_with_population_df = states_df.merge(state_populations_df, on=\"NAME\", how=\"left\")\n",
    "states_with_population_df = states_with_population_df[\n",
    "    [\"STUSPS\", \"NAME\", \"POPULATION\", \"geometry\"]\n",
    "]"
   ]
  },
  {
   "cell_type": "code",
   "execution_count": 19,
   "id": "55f8cdad-8367-4365-9a7e-97c0fa266f19",
   "metadata": {},
   "outputs": [],
   "source": [
    "states_with_population_df = states_with_population_df.dropna()"
   ]
  },
  {
   "cell_type": "markdown",
   "id": "74b55cfa-2db3-4a7c-bd04-0b341757effe",
   "metadata": {},
   "source": [
    "## Get Police Data"
   ]
  },
  {
   "cell_type": "code",
   "execution_count": 5,
   "id": "59e27d69-2565-466c-a6e8-2ab7abf5470d",
   "metadata": {},
   "outputs": [],
   "source": [
    "url = \"https://data.bls.gov/OESServices/resultsgeoocc\"\n",
    "headers = {\n",
    "    \"accept\": \"application/json, text/plain, */*\",\n",
    "    \"accept-language\": \"en-US,en;q=0.9,ru;q=0.8,el;q=0.7\",\n",
    "    \"cache-control\": \"no-cache\",\n",
    "    \"content-type\": \"application/json;charset=UTF-8\",\n",
    "    \"pragma\": \"no-cache\",\n",
    "    \"sec-ch-ua\": '\"Google Chrome\";v=\"141\", \"Not?A_Brand\";v=\"8\", \"Chromium\";v=\"141\"',\n",
    "    \"sec-ch-ua-mobile\": \"?0\",\n",
    "    \"sec-ch-ua-platform\": '\"Windows\"',\n",
    "    \"sec-fetch-dest\": \"empty\",\n",
    "    \"sec-fetch-mode\": \"cors\",\n",
    "    \"sec-fetch-site\": \"same-origin\",\n",
    "    \"cookie\": \"_ga=GA1.1.1422392323.1761498607; nmstat=87e614f7-860e-eda0-1961-b768847a4d81; _ga_CSLL4ZEK4L=GS2.1.s1761498607$o1$g1$t1761498779$j59$l0$h0\",\n",
    "    \"Referer\": \"https://data.bls.gov/oes/\",\n",
    "}"
   ]
  },
  {
   "cell_type": "code",
   "execution_count": 6,
   "id": "0991bac9-05c1-4e36-9f82-652355f7275c",
   "metadata": {},
   "outputs": [],
   "source": [
    "body = {\n",
    "    \"areaTypeCode\": \"S\",\n",
    "    \"areaCode\": \"9900000\",\n",
    "    \"industryCode\": \"000000\",\n",
    "    \"occupationCode\": [\"333051\"],\n",
    "    \"datatype\": [\"01\"],\n",
    "    \"releaseDateCode\": [\"2024A01\", \"2024A01\"],\n",
    "    \"outputType\": \"H\",\n",
    "}\n",
    "r = requests.post(url, headers=headers, data=json.dumps(body))"
   ]
  },
  {
   "cell_type": "code",
   "execution_count": 8,
   "id": "396197ed-7e88-4a3c-b9a1-48b336618026",
   "metadata": {},
   "outputs": [
    {
     "data": {
      "application/vnd.jupyter.widget-view+json": {
       "model_id": "823484074d13496e809ca1f83f8891f3",
       "version_major": 2,
       "version_minor": 0
      },
      "text/plain": [
       "Parsing States:   0%|          | 0/56 [00:00<?, ?it/s]"
      ]
     },
     "metadata": {},
     "output_type": "display_data"
    },
    {
     "name": "stdout",
     "output_type": "stream",
     "text": [
      "American Samoa\n",
      "United States Virgin Islands\n",
      "Guam\n",
      "Commonwealth of the Northern Mariana Islands\n"
     ]
    }
   ],
   "source": [
    "data = []\n",
    "for i in tqdm(range(len(states_df)), desc=\"Parsing States\"):\n",
    "    body = {\n",
    "        \"areaTypeCode\": \"S\",\n",
    "        \"areaCode\": f\"{states_df.iloc[i]['STATEFP']}00000\",\n",
    "        \"industryCode\": \"000000\",\n",
    "        \"occupationCode\": [\"333051\"],\n",
    "        \"datatype\": [\"01\"],\n",
    "        \"releaseDateCode\": [\"2024A01\", \"2024A01\"],\n",
    "        \"outputType\": \"H\",\n",
    "    }\n",
    "    r = requests.post(url, headers=headers, data=json.dumps(body))\n",
    "    json_resp = r.json()\n",
    "    if json_resp[\"resultsGeoOccVO\"][0][\"occupations\"]:\n",
    "        police_officers = int(\n",
    "            r.json()[\"resultsGeoOccVO\"][0][\"occupations\"][0][\"values\"][0][\"value\"]\n",
    "        )\n",
    "        data.append(\n",
    "            {\"STUSPS\": states_df.iloc[i][\"STUSPS\"], \"officers\": police_officers}\n",
    "        )\n",
    "    else:\n",
    "        print(states_df.iloc[i][\"NAME\"])"
   ]
  },
  {
   "cell_type": "code",
   "execution_count": 20,
   "id": "f8a0438c-be0f-4d82-822e-a71c4c2b2f3d",
   "metadata": {},
   "outputs": [],
   "source": [
    "occupation_df = pd.DataFrame(\n",
    "    data,\n",
    ")"
   ]
  },
  {
   "cell_type": "markdown",
   "id": "ea0435b2-f5f4-4186-853b-615f63cc50aa",
   "metadata": {},
   "source": [
    "## Merge Data"
   ]
  },
  {
   "cell_type": "code",
   "execution_count": 21,
   "id": "335e5a07-6df8-46bf-bc7d-1512019384fd",
   "metadata": {},
   "outputs": [],
   "source": [
    "occupation_gdf = states_with_population_df.merge(\n",
    "    occupation_df, on=\"STUSPS\", how=\"inner\"\n",
    ").dropna()"
   ]
  },
  {
   "cell_type": "code",
   "execution_count": 27,
   "id": "e383623f-6d20-4de5-ac2b-f0de2fe4a609",
   "metadata": {},
   "outputs": [],
   "source": [
    "occupation_gdf[\"per_100k\"] = (\n",
    "    (occupation_gdf[\"officers\"] / (occupation_gdf[\"POPULATION\"] / 100_000))\n",
    "    .round(decimals=0)\n",
    "    .astype(int)\n",
    ")\n",
    "occupation_gdf[\"per_1m\"] = (\n",
    "    (occupation_gdf[\"officers\"] / (occupation_gdf[\"POPULATION\"] / 1_000_000))\n",
    "    .round(decimals=0)\n",
    "    .astype(int)\n",
    ")"
   ]
  },
  {
   "cell_type": "code",
   "execution_count": 29,
   "id": "ae923604-fd11-4c7d-a480-4f53abaeafbc",
   "metadata": {},
   "outputs": [],
   "source": [
    "occupation_gdf = occupation_gdf.to_crs(9311)\n",
    "occupation_gdf.to_file(\"data/Police_Officers_Per_State.gpkg\")"
   ]
  },
  {
   "cell_type": "code",
   "execution_count": null,
   "id": "6ac41d48-ef3d-459f-a058-f97deb936292",
   "metadata": {},
   "outputs": [],
   "source": []
  }
 ],
 "metadata": {
  "kernelspec": {
   "display_name": "Python 3 (ipykernel)",
   "language": "python",
   "name": "python3"
  },
  "language_info": {
   "codemirror_mode": {
    "name": "ipython",
    "version": 3
   },
   "file_extension": ".py",
   "mimetype": "text/x-python",
   "name": "python",
   "nbconvert_exporter": "python",
   "pygments_lexer": "ipython3",
   "version": "3.11.13"
  }
 },
 "nbformat": 4,
 "nbformat_minor": 5
}
