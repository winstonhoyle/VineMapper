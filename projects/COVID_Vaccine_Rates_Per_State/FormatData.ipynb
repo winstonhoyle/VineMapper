{
 "cells": [
  {
   "cell_type": "code",
   "execution_count": 1,
   "id": "34fd0446-e6ae-4e1f-bf2f-dd1994023afd",
   "metadata": {},
   "outputs": [],
   "source": [
    "import requests"
   ]
  },
  {
   "cell_type": "code",
   "execution_count": 2,
   "id": "893082b1-5ca3-42ac-b288-320d4149b45d",
   "metadata": {},
   "outputs": [],
   "source": [
    "import geopandas as gpd\n",
    "import pandas as pd"
   ]
  },
  {
   "cell_type": "markdown",
   "id": "dabc597b-ccf6-4bcd-850c-810ca2e65108",
   "metadata": {},
   "source": [
    "## Get State Data"
   ]
  },
  {
   "cell_type": "code",
   "execution_count": 3,
   "id": "32820946-b13d-4e83-a150-dedc8729dd61",
   "metadata": {},
   "outputs": [],
   "source": [
    "file_path = \"data/cb_2018_us_state_500k/cb_2018_us_state_500k.shp\"\n",
    "states_df = gpd.read_file(file_path)"
   ]
  },
  {
   "cell_type": "code",
   "execution_count": 4,
   "id": "422ebbc6-04f8-4c7f-b8b0-39a72c2fb447",
   "metadata": {},
   "outputs": [],
   "source": [
    "states_df = states_df[[\"STUSPS\", \"NAME\", \"geometry\"]]"
   ]
  },
  {
   "cell_type": "markdown",
   "id": "12391c84-b799-45e1-9233-d4733d1d0b8d",
   "metadata": {},
   "source": [
    "## Get COVID Data"
   ]
  },
  {
   "cell_type": "code",
   "execution_count": 5,
   "id": "516b251f-378f-4bb8-970c-a701570232d0",
   "metadata": {},
   "outputs": [],
   "source": [
    "url = \"https://jhucoronavirus.azureedge.net/jhucoronavirus/state_vaccination_rates.dev.json\"\n",
    "r = requests.get(url)"
   ]
  },
  {
   "cell_type": "code",
   "execution_count": 6,
   "id": "f28751a8-5e12-4d7d-9a23-a562eebd00a8",
   "metadata": {},
   "outputs": [],
   "source": [
    "list_of_vaccinations = r.json()"
   ]
  },
  {
   "cell_type": "code",
   "execution_count": 7,
   "id": "7f76f095-ce5c-4e86-9f98-53a98bd1fe05",
   "metadata": {},
   "outputs": [],
   "source": [
    "formatted_list = []\n",
    "for vaccine_dict in list_of_vaccinations:\n",
    "    vaccine_data = vaccine_dict[\"data\"].copy()\n",
    "    vaccine_data.update({\"NAME\": vaccine_dict[\"state\"]})\n",
    "    formatted_list.append(vaccine_data)"
   ]
  },
  {
   "cell_type": "code",
   "execution_count": 8,
   "id": "455ab375-2d7b-4708-9dcf-bd48a032a722",
   "metadata": {},
   "outputs": [],
   "source": [
    "vaccine_df = pd.DataFrame(formatted_list)"
   ]
  },
  {
   "cell_type": "markdown",
   "id": "fd3cbdf8-9e7e-4e55-be1a-d16174b9df7c",
   "metadata": {},
   "source": [
    "## Get Population Data"
   ]
  },
  {
   "cell_type": "code",
   "execution_count": 9,
   "id": "798b06d4-307f-4068-bcb1-f76e2d2fda4f",
   "metadata": {},
   "outputs": [],
   "source": [
    "state_populations = pd.read_excel(\n",
    "    \"data/NST-EST2023-POP.xlsx\", sheet_name=None, engine=\"openpyxl\"\n",
    ")"
   ]
  },
  {
   "cell_type": "code",
   "execution_count": 10,
   "id": "8bf57304-3327-4a1d-a8bd-b11c99d91865",
   "metadata": {},
   "outputs": [],
   "source": [
    "state_populations_df = state_populations[\"NST-EST2023-POP\"][\n",
    "    [\n",
    "        \"table with row headers in column A and column headers in rows 3 through 4. (leading dots indicate sub-parts)\",\n",
    "        \"Unnamed: 5\",\n",
    "    ]\n",
    "]\n",
    "state_populations_df = state_populations_df.rename(\n",
    "    columns={\n",
    "        \"table with row headers in column A and column headers in rows 3 through 4. (leading dots indicate sub-parts)\": \"NAME\",\n",
    "        \"Unnamed: 5\": \"POPULATION\",\n",
    "    }\n",
    ")\n",
    "state_populations_df[\"NAME\"] = state_populations_df[\"NAME\"].str[1:]"
   ]
  },
  {
   "cell_type": "markdown",
   "id": "a3c32afb-0f83-428d-9f25-ffa010840033",
   "metadata": {},
   "source": [
    "## Merge Data"
   ]
  },
  {
   "cell_type": "code",
   "execution_count": 16,
   "id": "a543ab76-8a33-44df-af65-b2604e1e3856",
   "metadata": {},
   "outputs": [],
   "source": [
    "states_with_population_df = states_df.merge(state_populations_df, on=\"NAME\", how=\"left\")"
   ]
  },
  {
   "cell_type": "code",
   "execution_count": 18,
   "id": "95e3aa9f-3e51-4c49-a611-ec5749d0faa9",
   "metadata": {},
   "outputs": [],
   "source": [
    "states_with_population_df = states_with_population_df.merge(\n",
    "    vaccine_df, on=\"NAME\", how=\"left\"\n",
    ")\n",
    "states_with_population_df = states_with_population_df[\n",
    "    [\n",
    "        \"doses_admin\",\n",
    "        \"raw_full_vac\",\n",
    "        \"percent_full_vac\",\n",
    "        \"per100k_full_vac\",\n",
    "        \"NAME\",\n",
    "        \"POPULATION\",\n",
    "        \"geometry\",\n",
    "    ]\n",
    "]"
   ]
  },
  {
   "cell_type": "code",
   "execution_count": 19,
   "id": "789434f8-beb1-4cd1-bb8b-265868dabdd5",
   "metadata": {},
   "outputs": [
    {
     "name": "stderr",
     "output_type": "stream",
     "text": [
      "/tmp/ipykernel_115440/2083432451.py:1: SettingWithCopyWarning: \n",
      "A value is trying to be set on a copy of a slice from a DataFrame\n",
      "\n",
      "See the caveats in the documentation: https://pandas.pydata.org/pandas-docs/stable/user_guide/indexing.html#returning-a-view-versus-a-copy\n",
      "  states_with_population_df.iloc[37]['POPULATION'] = 43914\n",
      "/tmp/ipykernel_115440/2083432451.py:2: SettingWithCopyWarning: \n",
      "A value is trying to be set on a copy of a slice from a DataFrame\n",
      "\n",
      "See the caveats in the documentation: https://pandas.pydata.org/pandas-docs/stable/user_guide/indexing.html#returning-a-view-versus-a-copy\n",
      "  states_with_population_df.iloc[44]['POPULATION'] = 172952\n"
     ]
    }
   ],
   "source": [
    "states_with_population_df.iloc[37][\"POPULATION\"] = 43914\n",
    "states_with_population_df.iloc[44][\"POPULATION\"] = 172952"
   ]
  },
  {
   "cell_type": "code",
   "execution_count": 20,
   "id": "f7004c96-f791-48c0-a343-0b3dd1127bf2",
   "metadata": {},
   "outputs": [],
   "source": [
    "states_with_population_df = states_with_population_df.dropna()"
   ]
  },
  {
   "cell_type": "code",
   "execution_count": 21,
   "id": "5861a842-35f0-4a38-bd8b-46e7543bf6ff",
   "metadata": {},
   "outputs": [],
   "source": [
    "states_with_population_df[\"per_1000\"] = states_with_population_df[\"raw_full_vac\"] / (\n",
    "    states_with_population_df[\"POPULATION\"] / 1000\n",
    ")\n",
    "states_with_population_df[\"per_10k\"] = states_with_population_df[\"raw_full_vac\"] / (\n",
    "    states_with_population_df[\"POPULATION\"] / 10_000\n",
    ")\n",
    "states_with_population_df[\"per_100k\"] = states_with_population_df[\"raw_full_vac\"] / (\n",
    "    states_with_population_df[\"POPULATION\"] / 100000\n",
    ")\n",
    "states_with_population_df[\"per_500k\"] = states_with_population_df[\"raw_full_vac\"] / (\n",
    "    states_with_population_df[\"POPULATION\"] / 500_000\n",
    ")\n",
    "states_with_population_df[\"per_1m\"] = states_with_population_df[\"raw_full_vac\"] / (\n",
    "    states_with_population_df[\"POPULATION\"] / 1_000_000\n",
    ")\n",
    "states_with_population_df[\"per_capita\"] = (\n",
    "    states_with_population_df[\"raw_full_vac\"] / states_with_population_df[\"POPULATION\"]\n",
    ")"
   ]
  },
  {
   "cell_type": "code",
   "execution_count": 22,
   "id": "0d473b8c-87c3-4216-b788-732f0da2150d",
   "metadata": {},
   "outputs": [],
   "source": [
    "states_with_population_df = states_with_population_df.to_crs(9311)"
   ]
  },
  {
   "cell_type": "code",
   "execution_count": 23,
   "id": "4404fa78-c8e8-4ce4-852b-e63eb1ee5467",
   "metadata": {},
   "outputs": [],
   "source": [
    "states_with_population_df.to_file(\"data/covid_vacines.gpkg\")"
   ]
  },
  {
   "cell_type": "code",
   "execution_count": null,
   "id": "6bb18c9d-afb2-4aee-88e8-573520f4ded5",
   "metadata": {},
   "outputs": [],
   "source": []
  }
 ],
 "metadata": {
  "kernelspec": {
   "display_name": "Python 3 (ipykernel)",
   "language": "python",
   "name": "python3"
  },
  "language_info": {
   "codemirror_mode": {
    "name": "ipython",
    "version": 3
   },
   "file_extension": ".py",
   "mimetype": "text/x-python",
   "name": "python",
   "nbconvert_exporter": "python",
   "pygments_lexer": "ipython3",
   "version": "3.11.11"
  }
 },
 "nbformat": 4,
 "nbformat_minor": 5
}
