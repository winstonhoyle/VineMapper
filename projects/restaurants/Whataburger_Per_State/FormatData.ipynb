{
 "cells": [
  {
   "cell_type": "code",
   "execution_count": 1,
   "id": "c86ad9f6-4aaf-469e-a56e-363083168e1e",
   "metadata": {},
   "outputs": [],
   "source": [
    "import os\n",
    "import random\n",
    "import time"
   ]
  },
  {
   "cell_type": "code",
   "execution_count": 2,
   "id": "10fa1d09-7717-4ea8-9ce7-1cef37b4da9c",
   "metadata": {},
   "outputs": [],
   "source": [
    "import cloudscraper\n",
    "from bs4 import BeautifulSoup\n",
    "import geopandas as gpd\n",
    "import pandas as pd"
   ]
  },
  {
   "cell_type": "code",
   "execution_count": 3,
   "id": "d22202a0-bf3c-4953-81ce-105a19e002a0",
   "metadata": {},
   "outputs": [],
   "source": [
    "from shapely.geometry import Point\n",
    "from tqdm.notebook import tqdm"
   ]
  },
  {
   "cell_type": "markdown",
   "id": "02e1dfb5-464d-4984-8c84-5599ce9dcd5d",
   "metadata": {},
   "source": [
    "## Get State Data"
   ]
  },
  {
   "cell_type": "code",
   "execution_count": 4,
   "id": "84b53c65-5746-4ab8-8c99-6dfe3e967797",
   "metadata": {},
   "outputs": [],
   "source": [
    "file_path = \"data/cb_2018_us_state_500k/cb_2018_us_state_500k.shp\"\n",
    "states_df = gpd.read_file(file_path)"
   ]
  },
  {
   "cell_type": "code",
   "execution_count": 5,
   "id": "191755a6-eb92-4683-833e-b69f4be9f3f5",
   "metadata": {},
   "outputs": [],
   "source": [
    "states_df = states_df[[\"STUSPS\", \"NAME\", \"geometry\"]]"
   ]
  },
  {
   "cell_type": "markdown",
   "id": "f3ad4feb-2496-4c2f-827b-04c586ef17ba",
   "metadata": {},
   "source": [
    "## Get Whataburger Data"
   ]
  },
  {
   "cell_type": "code",
   "execution_count": 6,
   "id": "4c063aa4-d1b0-400e-a449-8125a2a0596a",
   "metadata": {},
   "outputs": [],
   "source": [
    "scraper = cloudscraper.create_scraper()"
   ]
  },
  {
   "cell_type": "code",
   "execution_count": 8,
   "id": "0285bab4-1726-4db5-99be-c8f78b78413c",
   "metadata": {},
   "outputs": [],
   "source": [
    "r = scraper.get(\"https://locations.whataburger.com/directory.html\")\n",
    "soup = BeautifulSoup(r.text, \"html.parser\")\n",
    "state_as = soup.find_all(\"a\", {\"class\": \"Directory-listLink\"})"
   ]
  },
  {
   "cell_type": "code",
   "execution_count": 9,
   "id": "5aef1183-5737-4009-b665-b03840acd717",
   "metadata": {},
   "outputs": [],
   "source": [
    "def get_coords(url: str) -> Point:\n",
    "    r = scraper.get(url)\n",
    "    soup = BeautifulSoup(r.text, \"html.parser\")\n",
    "    latitude = float(soup.find(\"meta\", {\"itemprop\": \"latitude\"}).attrs[\"content\"])\n",
    "    longitude = float(soup.find(\"meta\", {\"itemprop\": \"longitude\"}).attrs[\"content\"])\n",
    "    return Point(longitude, latitude)"
   ]
  },
  {
   "cell_type": "code",
   "execution_count": 10,
   "id": "838e0a05-ac40-4abd-ba47-537f23fc16f2",
   "metadata": {},
   "outputs": [
    {
     "data": {
      "application/vnd.jupyter.widget-view+json": {
       "model_id": "789dd6c2ca894dd6af9ad6af0bbf7d01",
       "version_major": 2,
       "version_minor": 0
      },
      "text/plain": [
       "Parsing State:   0%|          | 0/17 [00:00<?, ?it/s]"
      ]
     },
     "metadata": {},
     "output_type": "display_data"
    },
    {
     "data": {
      "application/vnd.jupyter.widget-view+json": {
       "model_id": "36c8a551609743e2bc38381d91826b6a",
       "version_major": 2,
       "version_minor": 0
      },
      "text/plain": [
       "Parsing Cities in AL:   0%|          | 0/34 [00:00<?, ?it/s]"
      ]
     },
     "metadata": {},
     "output_type": "display_data"
    },
    {
     "name": "stdout",
     "output_type": "stream",
     "text": [
      "42 stores\n"
     ]
    },
    {
     "data": {
      "application/vnd.jupyter.widget-view+json": {
       "model_id": "2033d4acf313499f9d443fbfe08711a6",
       "version_major": 2,
       "version_minor": 0
      },
      "text/plain": [
       "Parsing Cities in AZ:   0%|          | 0/16 [00:00<?, ?it/s]"
      ]
     },
     "metadata": {},
     "output_type": "display_data"
    },
    {
     "name": "stdout",
     "output_type": "stream",
     "text": [
      "42 stores\n"
     ]
    },
    {
     "data": {
      "application/vnd.jupyter.widget-view+json": {
       "model_id": "d5472340d11f4b638e488633095a092e",
       "version_major": 2,
       "version_minor": 0
      },
      "text/plain": [
       "Parsing Cities in AR:   0%|          | 0/19 [00:00<?, ?it/s]"
      ]
     },
     "metadata": {},
     "output_type": "display_data"
    },
    {
     "name": "stdout",
     "output_type": "stream",
     "text": [
      "20 stores\n"
     ]
    },
    {
     "data": {
      "application/vnd.jupyter.widget-view+json": {
       "model_id": "bc07b8be16eb41a885a8cb07533e8c6c",
       "version_major": 2,
       "version_minor": 0
      },
      "text/plain": [
       "Parsing Cities in CO:   0%|          | 0/3 [00:00<?, ?it/s]"
      ]
     },
     "metadata": {},
     "output_type": "display_data"
    },
    {
     "name": "stdout",
     "output_type": "stream",
     "text": [
      "8 stores\n"
     ]
    },
    {
     "data": {
      "application/vnd.jupyter.widget-view+json": {
       "model_id": "fd034d3fd27846eeba24b6dac8ab933b",
       "version_major": 2,
       "version_minor": 0
      },
      "text/plain": [
       "Parsing Cities in FL:   0%|          | 0/24 [00:00<?, ?it/s]"
      ]
     },
     "metadata": {},
     "output_type": "display_data"
    },
    {
     "name": "stdout",
     "output_type": "stream",
     "text": [
      "46 stores\n"
     ]
    },
    {
     "data": {
      "application/vnd.jupyter.widget-view+json": {
       "model_id": "88bea0c7d62542bfb6c5bcf374bfb807",
       "version_major": 2,
       "version_minor": 0
      },
      "text/plain": [
       "Parsing Cities in GA:   0%|          | 0/27 [00:00<?, ?it/s]"
      ]
     },
     "metadata": {},
     "output_type": "display_data"
    },
    {
     "name": "stdout",
     "output_type": "stream",
     "text": [
      "32 stores\n"
     ]
    },
    {
     "data": {
      "application/vnd.jupyter.widget-view+json": {
       "model_id": "5b6b2a7224f3464f8b73d45e0e03105e",
       "version_major": 2,
       "version_minor": 0
      },
      "text/plain": [
       "Parsing Cities in KS:   0%|          | 0/5 [00:00<?, ?it/s]"
      ]
     },
     "metadata": {},
     "output_type": "display_data"
    },
    {
     "name": "stdout",
     "output_type": "stream",
     "text": [
      "8 stores\n"
     ]
    },
    {
     "data": {
      "application/vnd.jupyter.widget-view+json": {
       "model_id": "14edfb5fa69b4ed88907ffe29d845adf",
       "version_major": 2,
       "version_minor": 0
      },
      "text/plain": [
       "Parsing Cities in LA:   0%|          | 0/19 [00:00<?, ?it/s]"
      ]
     },
     "metadata": {},
     "output_type": "display_data"
    },
    {
     "name": "stdout",
     "output_type": "stream",
     "text": [
      "30 stores\n"
     ]
    },
    {
     "data": {
      "application/vnd.jupyter.widget-view+json": {
       "model_id": "393135e0795e4971a3b09b386aad0675",
       "version_major": 2,
       "version_minor": 0
      },
      "text/plain": [
       "Parsing Cities in MS:   0%|          | 0/13 [00:00<?, ?it/s]"
      ]
     },
     "metadata": {},
     "output_type": "display_data"
    },
    {
     "name": "stdout",
     "output_type": "stream",
     "text": [
      "14 stores\n"
     ]
    },
    {
     "data": {
      "application/vnd.jupyter.widget-view+json": {
       "model_id": "b1630bde51f34fc4ab0c50a2b8c42c9b",
       "version_major": 2,
       "version_minor": 0
      },
      "text/plain": [
       "Parsing Cities in MO:   0%|          | 0/15 [00:00<?, ?it/s]"
      ]
     },
     "metadata": {},
     "output_type": "display_data"
    },
    {
     "name": "stdout",
     "output_type": "stream",
     "text": [
      "20 stores\n"
     ]
    },
    {
     "data": {
      "application/vnd.jupyter.widget-view+json": {
       "model_id": "11ef9873e8e34179be0a92072cc1ea52",
       "version_major": 2,
       "version_minor": 0
      },
      "text/plain": [
       "Parsing Cities in NV:   0%|          | 0/1 [00:00<?, ?it/s]"
      ]
     },
     "metadata": {},
     "output_type": "display_data"
    },
    {
     "name": "stdout",
     "output_type": "stream",
     "text": [
      "1 stores\n"
     ]
    },
    {
     "data": {
      "application/vnd.jupyter.widget-view+json": {
       "model_id": "291042d0b4d94d7f8f4238e88af2d4d9",
       "version_major": 2,
       "version_minor": 0
      },
      "text/plain": [
       "Parsing Cities in NM:   0%|          | 0/6 [00:00<?, ?it/s]"
      ]
     },
     "metadata": {},
     "output_type": "display_data"
    },
    {
     "name": "stdout",
     "output_type": "stream",
     "text": [
      "16 stores\n"
     ]
    },
    {
     "data": {
      "application/vnd.jupyter.widget-view+json": {
       "model_id": "acf78165990f49018e449a8601b2d377",
       "version_major": 2,
       "version_minor": 0
      },
      "text/plain": [
       "Parsing Cities in NC:   0%|          | 0/9 [00:00<?, ?it/s]"
      ]
     },
     "metadata": {},
     "output_type": "display_data"
    },
    {
     "name": "stdout",
     "output_type": "stream",
     "text": [
      "10 stores\n"
     ]
    },
    {
     "data": {
      "application/vnd.jupyter.widget-view+json": {
       "model_id": "ebf96938be644a04ad8237750b09eeb8",
       "version_major": 2,
       "version_minor": 0
      },
      "text/plain": [
       "Parsing Cities in OK:   0%|          | 0/29 [00:00<?, ?it/s]"
      ]
     },
     "metadata": {},
     "output_type": "display_data"
    },
    {
     "name": "stdout",
     "output_type": "stream",
     "text": [
      "48 stores\n"
     ]
    },
    {
     "data": {
      "application/vnd.jupyter.widget-view+json": {
       "model_id": "a165a3fa7c1547348036f78c23976e62",
       "version_major": 2,
       "version_minor": 0
      },
      "text/plain": [
       "Parsing Cities in SC:   0%|          | 0/9 [00:00<?, ?it/s]"
      ]
     },
     "metadata": {},
     "output_type": "display_data"
    },
    {
     "name": "stdout",
     "output_type": "stream",
     "text": [
      "11 stores\n"
     ]
    },
    {
     "data": {
      "application/vnd.jupyter.widget-view+json": {
       "model_id": "75acac0918a44c8e9399944380068b42",
       "version_major": 2,
       "version_minor": 0
      },
      "text/plain": [
       "Parsing Cities in TN:   0%|          | 0/17 [00:00<?, ?it/s]"
      ]
     },
     "metadata": {},
     "output_type": "display_data"
    },
    {
     "name": "stdout",
     "output_type": "stream",
     "text": [
      "26 stores\n"
     ]
    },
    {
     "data": {
      "application/vnd.jupyter.widget-view+json": {
       "model_id": "369e979145bd41ba99c94f7b63ac6504",
       "version_major": 2,
       "version_minor": 0
      },
      "text/plain": [
       "Parsing Cities in TX:   0%|          | 0/315 [00:00<?, ?it/s]"
      ]
     },
     "metadata": {},
     "output_type": "display_data"
    },
    {
     "name": "stdout",
     "output_type": "stream",
     "text": [
      "764 stores\n"
     ]
    }
   ],
   "source": [
    "url_root = \"https://locations.whataburger.com/\"\n",
    "for state_a in tqdm(state_as, desc=\"Parsing State\"):\n",
    "    state_store_list = []\n",
    "\n",
    "    state_code = state_a.attrs[\"href\"].split(\"/\")[0].split(\".\")[0].upper()\n",
    "    state_url = os.path.join(url_root, state_code.lower()) + \".html\"\n",
    "\n",
    "    # If File exists continue\n",
    "    if os.path.isfile(f\"data/states/{state_code}.gpkg\"):\n",
    "        continue\n",
    "\n",
    "    r_state = scraper.get(state_url)\n",
    "    state_soup = BeautifulSoup(r_state.text, \"html.parser\")\n",
    "    city_as = state_soup.find_all(\"a\", {\"class\": \"Directory-listLink\"})\n",
    "    city_hrefs = [\n",
    "        \"/\".join(city_a.attrs[\"href\"].split(\".\")[0].split(\"/\")[:2]) + \".html\"\n",
    "        for city_a in city_as\n",
    "    ]\n",
    "\n",
    "    for city_href in tqdm(city_hrefs, desc=f\"Parsing Cities in {state_code}\"):\n",
    "        city_url = os.path.join(url_root, city_href)\n",
    "        r_city = scraper.get(city_url)\n",
    "        city_soup = BeautifulSoup(r_city.text, \"html.parser\")\n",
    "        city_lis = city_soup.find_all(\n",
    "            \"li\", {\"class\": \"ResultList-item js-resultlist-item\"}\n",
    "        )\n",
    "        for city_li in city_lis:\n",
    "            try:\n",
    "                store_url = city_li.attrs[\"data-url\"].replace(\"../\", url_root)\n",
    "                point = get_coords(store_url)\n",
    "                store_dict = {\"STUSPS\": state_code, \"geometry\": point, \"url\": store_url}\n",
    "                state_store_list.append(store_dict)\n",
    "                time.sleep(random.uniform(0.01, 0.5))\n",
    "            except Exception:\n",
    "                print(city_url)\n",
    "\n",
    "    if state_store_list:\n",
    "        print(len(state_store_list), \"stores\")\n",
    "        whataburger_state_gdf = gpd.GeoDataFrame(state_store_list, crs=4326)\n",
    "        whataburger_state_gdf.to_file(f\"data/states/{state_code}.gpkg\")"
   ]
  },
  {
   "cell_type": "code",
   "execution_count": 11,
   "id": "5a316e9b-26f5-47f0-9870-9b0ca13caa23",
   "metadata": {},
   "outputs": [],
   "source": [
    "whataburger_gdfs = []\n",
    "states_path = \"data/states\"\n",
    "for file in os.listdir(\"data/states\"):\n",
    "    constructed_path = os.path.join(states_path, file)\n",
    "    if constructed_path.endswith(\".gpkg\"):\n",
    "        whataburger_gdf = gpd.read_file(constructed_path)\n",
    "        whataburger_gdfs.append(whataburger_gdf)"
   ]
  },
  {
   "cell_type": "code",
   "execution_count": 13,
   "id": "cd663d4c-5181-4839-9607-63d4b0f62f86",
   "metadata": {},
   "outputs": [],
   "source": [
    "whataburger_gdf = gpd.GeoDataFrame(pd.concat(whataburger_gdfs, ignore_index=True))"
   ]
  },
  {
   "cell_type": "code",
   "execution_count": 14,
   "id": "fb6e0c4f-6187-413c-9e8e-73b749f428fd",
   "metadata": {},
   "outputs": [],
   "source": [
    "whataburger_gdf.to_file(\"data/whataburger_locations.gpkg\")"
   ]
  },
  {
   "cell_type": "code",
   "execution_count": 15,
   "id": "331fb21c-f2e1-4ddf-bad5-2526bd0952a0",
   "metadata": {},
   "outputs": [],
   "source": [
    "whataburger_gdf = whataburger_gdf.to_crs(9311)\n",
    "whataburger_gdf.to_file(f\"data/whataburger.gpkg\")"
   ]
  },
  {
   "cell_type": "markdown",
   "id": "5a42dfab-fc47-49d7-8092-f08b31392df8",
   "metadata": {},
   "source": [
    "## Get Population Data"
   ]
  },
  {
   "cell_type": "code",
   "execution_count": 16,
   "id": "3cce9c91-abf1-4055-8b9a-5fd1f6cf611f",
   "metadata": {},
   "outputs": [],
   "source": [
    "state_populations = pd.read_excel(\n",
    "    \"data/NST-EST2024-POP.xlsx\", sheet_name=None, engine=\"openpyxl\"\n",
    ")"
   ]
  },
  {
   "cell_type": "code",
   "execution_count": 17,
   "id": "2eaacc28-fa8e-410e-b084-02ce24ec11a1",
   "metadata": {},
   "outputs": [],
   "source": [
    "state_populations_df = state_populations[\"NST-EST2024-POP\"][\n",
    "    [\n",
    "        \"table with row headers in column A and column headers in rows 3 through 4. (leading dots indicate sub-parts)\",\n",
    "        \"Unnamed: 5\",\n",
    "    ]\n",
    "]\n",
    "state_populations_df = state_populations_df.rename(\n",
    "    columns={\n",
    "        \"table with row headers in column A and column headers in rows 3 through 4. (leading dots indicate sub-parts)\": \"NAME\",\n",
    "        \"Unnamed: 5\": \"POPULATION\",\n",
    "    }\n",
    ")\n",
    "state_populations_df[\"NAME\"] = state_populations_df[\"NAME\"].str[1:]"
   ]
  },
  {
   "cell_type": "code",
   "execution_count": 18,
   "id": "2d6342e1-fc3f-4006-8d8a-d7612903a625",
   "metadata": {},
   "outputs": [],
   "source": [
    "states_with_population_df = states_df.merge(state_populations_df, on=\"NAME\", how=\"left\")\n",
    "states_with_population_df = states_with_population_df[\n",
    "    [\"STUSPS\", \"NAME\", \"POPULATION\", \"geometry\"]\n",
    "]"
   ]
  },
  {
   "cell_type": "code",
   "execution_count": 19,
   "id": "94150db1-9ce7-43cb-8c08-3f6d9bb58497",
   "metadata": {},
   "outputs": [],
   "source": [
    "states_with_population_df = states_with_population_df.dropna()"
   ]
  },
  {
   "cell_type": "markdown",
   "id": "af5c5e13-c89d-43ed-8021-13ba93990599",
   "metadata": {},
   "source": [
    "## Merge Data"
   ]
  },
  {
   "cell_type": "code",
   "execution_count": 20,
   "id": "8a4afa33-893a-4b6b-8df1-f5151243deeb",
   "metadata": {},
   "outputs": [],
   "source": [
    "whataburger_state_counts_gdf = pd.DataFrame(\n",
    "    whataburger_gdf.groupby(\"STUSPS\").size(), columns=[\"WHATABURGERs\"]\n",
    ").reset_index()"
   ]
  },
  {
   "cell_type": "code",
   "execution_count": 21,
   "id": "024f894e-3c15-4a7a-8dba-8a8b39f1b32b",
   "metadata": {},
   "outputs": [],
   "source": [
    "whataburger_state_counts_population_gdf = states_with_population_df.merge(\n",
    "    whataburger_state_counts_gdf, on=\"STUSPS\", how=\"left\"\n",
    ")\n",
    "whataburger_state_counts_population_gdf = (\n",
    "    whataburger_state_counts_population_gdf.fillna(0)\n",
    ")"
   ]
  },
  {
   "cell_type": "code",
   "execution_count": 22,
   "id": "f50526e2-4c7a-4d13-8d5e-aaddbeec7751",
   "metadata": {},
   "outputs": [],
   "source": [
    "whataburger_state_counts_population_gdf[\n",
    "    \"per_100k\"\n",
    "] = whataburger_state_counts_population_gdf[\"WHATABURGERs\"] / (\n",
    "    whataburger_state_counts_population_gdf[\"POPULATION\"] / 100000\n",
    ")\n",
    "whataburger_state_counts_population_gdf[\n",
    "    \"per_1m\"\n",
    "] = whataburger_state_counts_population_gdf[\"WHATABURGERs\"] / (\n",
    "    whataburger_state_counts_population_gdf[\"POPULATION\"] / 1_000_000\n",
    ")"
   ]
  },
  {
   "cell_type": "code",
   "execution_count": 23,
   "id": "4d00c57e-a978-4938-b5f5-cb176b29cf77",
   "metadata": {},
   "outputs": [],
   "source": [
    "whataburger_state_counts_population_gdf = (\n",
    "    whataburger_state_counts_population_gdf.to_crs(9311)\n",
    ")"
   ]
  },
  {
   "cell_type": "code",
   "execution_count": 24,
   "id": "f8feb339-fc3c-41f9-8bd8-50ee507bb185",
   "metadata": {},
   "outputs": [],
   "source": [
    "whataburger_state_counts_population_gdf.to_file(\"data/whataburgers_per_state.gpkg\")"
   ]
  },
  {
   "cell_type": "code",
   "execution_count": null,
   "id": "6fe12df3-c59b-48b5-bd11-cdbae9436a65",
   "metadata": {},
   "outputs": [],
   "source": []
  },
  {
   "cell_type": "code",
   "execution_count": null,
   "id": "e92773a5-ed1b-4850-b29c-fcc40f9d5289",
   "metadata": {},
   "outputs": [],
   "source": []
  }
 ],
 "metadata": {
  "kernelspec": {
   "display_name": "Python 3 (ipykernel)",
   "language": "python",
   "name": "python3"
  },
  "language_info": {
   "codemirror_mode": {
    "name": "ipython",
    "version": 3
   },
   "file_extension": ".py",
   "mimetype": "text/x-python",
   "name": "python",
   "nbconvert_exporter": "python",
   "pygments_lexer": "ipython3",
   "version": "3.11.11"
  }
 },
 "nbformat": 4,
 "nbformat_minor": 5
}
