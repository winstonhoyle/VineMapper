{
 "cells": [
  {
   "cell_type": "code",
   "execution_count": 1,
   "id": "c86ad9f6-4aaf-469e-a56e-363083168e1e",
   "metadata": {},
   "outputs": [],
   "source": [
    "import os\n",
    "import re\n",
    "import random\n",
    "import json\n",
    "import time\n",
    "import html"
   ]
  },
  {
   "cell_type": "code",
   "execution_count": 2,
   "id": "119bf4ac-df6b-4696-890e-1773ed9075ba",
   "metadata": {},
   "outputs": [],
   "source": [
    "from urllib.parse import urljoin"
   ]
  },
  {
   "cell_type": "code",
   "execution_count": 3,
   "id": "10fa1d09-7717-4ea8-9ce7-1cef37b4da9c",
   "metadata": {},
   "outputs": [],
   "source": [
    "import cloudscraper\n",
    "from bs4 import BeautifulSoup\n",
    "import geopandas as gpd\n",
    "import pandas as pd"
   ]
  },
  {
   "cell_type": "code",
   "execution_count": 4,
   "id": "d22202a0-bf3c-4953-81ce-105a19e002a0",
   "metadata": {},
   "outputs": [],
   "source": [
    "from shapely.geometry import Point\n",
    "from tqdm.notebook import tqdm"
   ]
  },
  {
   "cell_type": "markdown",
   "id": "02e1dfb5-464d-4984-8c84-5599ce9dcd5d",
   "metadata": {},
   "source": [
    "## Get State Data"
   ]
  },
  {
   "cell_type": "code",
   "execution_count": 5,
   "id": "84b53c65-5746-4ab8-8c99-6dfe3e967797",
   "metadata": {},
   "outputs": [],
   "source": [
    "file_path = \"data/cb_2018_us_state_500k/cb_2018_us_state_500k.shp\"\n",
    "states_df = gpd.read_file(file_path)"
   ]
  },
  {
   "cell_type": "code",
   "execution_count": 6,
   "id": "191755a6-eb92-4683-833e-b69f4be9f3f5",
   "metadata": {},
   "outputs": [],
   "source": [
    "states_df = states_df[[\"STUSPS\", \"NAME\", \"geometry\"]]"
   ]
  },
  {
   "cell_type": "markdown",
   "id": "f3ad4feb-2496-4c2f-827b-04c586ef17ba",
   "metadata": {},
   "source": [
    "## Get Food Data"
   ]
  },
  {
   "cell_type": "code",
   "execution_count": 7,
   "id": "4c063aa4-d1b0-400e-a449-8125a2a0596a",
   "metadata": {},
   "outputs": [],
   "source": [
    "scraper = cloudscraper.create_scraper()"
   ]
  },
  {
   "cell_type": "code",
   "execution_count": 9,
   "id": "821f8f8b-91cb-4aae-a6f6-e413a891b199",
   "metadata": {},
   "outputs": [],
   "source": [
    "def get_coords(store_url: str) -> Point:\n",
    "    r = scraper.get(store_url)\n",
    "    soup = BeautifulSoup(r.text, \"html.parser\")\n",
    "    raw = soup.find(\"script\", {\"type\": \"application/ld+json\"}).text.strip()\n",
    "    clean = html.unescape(raw)\n",
    "    clean = re.sub(r\"[\\x00-\\x1f]+\", \" \", clean)\n",
    "\n",
    "    # Try to trim trailing braces until JSON parses\n",
    "    while True:\n",
    "        try:\n",
    "            data = json.loads(clean)\n",
    "            break  # success\n",
    "        except json.JSONDecodeError as e:\n",
    "            if clean.endswith(\"}\"):\n",
    "                clean = clean[:-1].rstrip()\n",
    "            else:\n",
    "                raise e\n",
    "\n",
    "    lat = round(float(data[\"geo\"][\"latitude\"]), 6)\n",
    "    lon = round(float(data[\"geo\"][\"longitude\"]), 6)\n",
    "    return Point(lon, lat)"
   ]
  },
  {
   "cell_type": "code",
   "execution_count": 10,
   "id": "b074441f-f39f-4917-a926-df22d1d8d308",
   "metadata": {},
   "outputs": [],
   "source": [
    "def find_cities(url: str) -> list:\n",
    "    base_url = \"https://locations.deltaco.com\"\n",
    "    r = scraper.get(url)\n",
    "    soup = BeautifulSoup(r.text, \"html.parser\")\n",
    "    city_divs = soup.find_all(\"div\", {\"class\": \"city-name\"})\n",
    "    city_urls = [\n",
    "        base_url + \"/\".join(city_div.find(\"a\").attrs[\"href\"].split(\"/\")[:4])\n",
    "        for city_div in city_divs\n",
    "    ]\n",
    "    return city_urls"
   ]
  },
  {
   "cell_type": "code",
   "execution_count": 11,
   "id": "0d5b7a9a-9d3e-4cff-a39e-c90f4ff96a83",
   "metadata": {},
   "outputs": [],
   "source": [
    "def find_stores(url: str) -> list:\n",
    "    base_url = \"https://locations.deltaco.com\"\n",
    "    r = scraper.get(url)\n",
    "    soup = BeautifulSoup(r.text, \"html.parser\")\n",
    "    store_divs = soup.find_all(\"div\", {\"class\": \"store-name\"})\n",
    "    store_urls = [\n",
    "        base_url + \"/\".join(store_div.find(\"a\").attrs[\"href\"].split(\"/\")[:5])\n",
    "        for store_div in store_divs\n",
    "    ]\n",
    "    return store_urls"
   ]
  },
  {
   "cell_type": "code",
   "execution_count": 14,
   "id": "d1ee7ee8-51c8-4d73-9162-fab19fa082c0",
   "metadata": {},
   "outputs": [
    {
     "data": {
      "text/plain": [
       "'/us/sc'"
      ]
     },
     "execution_count": 14,
     "metadata": {},
     "output_type": "execute_result"
    }
   ],
   "source": [
    "state_href"
   ]
  },
  {
   "cell_type": "code",
   "execution_count": 15,
   "id": "b1793bb5-26c3-4408-8572-175ba688bb03",
   "metadata": {},
   "outputs": [
    {
     "data": {
      "application/vnd.jupyter.widget-view+json": {
       "model_id": "f93d08010de641ae957adb02d771986a",
       "version_major": 2,
       "version_minor": 0
      },
      "text/plain": [
       "Parsing States:   0%|          | 0/19 [00:00<?, ?it/s]"
      ]
     },
     "metadata": {},
     "output_type": "display_data"
    },
    {
     "data": {
      "application/vnd.jupyter.widget-view+json": {
       "model_id": "abc52534620145f7987f2efa3e3e931e",
       "version_major": 2,
       "version_minor": 0
      },
      "text/plain": [
       "Parsing Locations in AL:   0%|          | 0/2 [00:00<?, ?it/s]"
      ]
     },
     "metadata": {},
     "output_type": "display_data"
    },
    {
     "data": {
      "application/vnd.jupyter.widget-view+json": {
       "model_id": "8db4d2d574d84574b1eb954c726fd9de",
       "version_major": 2,
       "version_minor": 0
      },
      "text/plain": [
       "Parsing Locations in AZ:   0%|          | 0/21 [00:00<?, ?it/s]"
      ]
     },
     "metadata": {},
     "output_type": "display_data"
    },
    {
     "data": {
      "application/vnd.jupyter.widget-view+json": {
       "model_id": "14748abd2519498f8920097f5ec7b8bc",
       "version_major": 2,
       "version_minor": 0
      },
      "text/plain": [
       "Parsing Locations in CA:   0%|          | 0/179 [00:00<?, ?it/s]"
      ]
     },
     "metadata": {},
     "output_type": "display_data"
    },
    {
     "data": {
      "application/vnd.jupyter.widget-view+json": {
       "model_id": "fbf236c2bad84fadb0a0cf15f773ac24",
       "version_major": 2,
       "version_minor": 0
      },
      "text/plain": [
       "Parsing Locations in CO:   0%|          | 0/15 [00:00<?, ?it/s]"
      ]
     },
     "metadata": {},
     "output_type": "display_data"
    },
    {
     "data": {
      "application/vnd.jupyter.widget-view+json": {
       "model_id": "4d9407be36804ec0b9c049c48ad961e2",
       "version_major": 2,
       "version_minor": 0
      },
      "text/plain": [
       "Parsing Locations in FL:   0%|          | 0/13 [00:00<?, ?it/s]"
      ]
     },
     "metadata": {},
     "output_type": "display_data"
    },
    {
     "data": {
      "application/vnd.jupyter.widget-view+json": {
       "model_id": "70ffe6a772334d2abea1817aca81cd98",
       "version_major": 2,
       "version_minor": 0
      },
      "text/plain": [
       "Parsing Locations in GA:   0%|          | 0/12 [00:00<?, ?it/s]"
      ]
     },
     "metadata": {},
     "output_type": "display_data"
    },
    {
     "data": {
      "application/vnd.jupyter.widget-view+json": {
       "model_id": "898a18b3616240038bd25594a88cd117",
       "version_major": 2,
       "version_minor": 0
      },
      "text/plain": [
       "Parsing Locations in ID:   0%|          | 0/7 [00:00<?, ?it/s]"
      ]
     },
     "metadata": {},
     "output_type": "display_data"
    },
    {
     "data": {
      "application/vnd.jupyter.widget-view+json": {
       "model_id": "1b6b9117a67a4aeab8920eded177d073",
       "version_major": 2,
       "version_minor": 0
      },
      "text/plain": [
       "Parsing Locations in MI:   0%|          | 0/9 [00:00<?, ?it/s]"
      ]
     },
     "metadata": {},
     "output_type": "display_data"
    },
    {
     "data": {
      "application/vnd.jupyter.widget-view+json": {
       "model_id": "fe13990227b84415840380a943b8024b",
       "version_major": 2,
       "version_minor": 0
      },
      "text/plain": [
       "Parsing Locations in MS:   0%|          | 0/1 [00:00<?, ?it/s]"
      ]
     },
     "metadata": {},
     "output_type": "display_data"
    },
    {
     "data": {
      "application/vnd.jupyter.widget-view+json": {
       "model_id": "7a43edb3e05e46e8bacfb51b9f874971",
       "version_major": 2,
       "version_minor": 0
      },
      "text/plain": [
       "Parsing Locations in NV:   0%|          | 0/8 [00:00<?, ?it/s]"
      ]
     },
     "metadata": {},
     "output_type": "display_data"
    },
    {
     "data": {
      "application/vnd.jupyter.widget-view+json": {
       "model_id": "d327fcf528df452ea97cfb2469cd056b",
       "version_major": 2,
       "version_minor": 0
      },
      "text/plain": [
       "Parsing Locations in NM:   0%|          | 0/7 [00:00<?, ?it/s]"
      ]
     },
     "metadata": {},
     "output_type": "display_data"
    },
    {
     "data": {
      "application/vnd.jupyter.widget-view+json": {
       "model_id": "03580babf976480f8da7763f6c7584de",
       "version_major": 2,
       "version_minor": 0
      },
      "text/plain": [
       "Parsing Locations in NC:   0%|          | 0/2 [00:00<?, ?it/s]"
      ]
     },
     "metadata": {},
     "output_type": "display_data"
    },
    {
     "data": {
      "application/vnd.jupyter.widget-view+json": {
       "model_id": "47aa02fc8a4e44ff85351ca4954b16aa",
       "version_major": 2,
       "version_minor": 0
      },
      "text/plain": [
       "Parsing Locations in OH:   0%|          | 0/3 [00:00<?, ?it/s]"
      ]
     },
     "metadata": {},
     "output_type": "display_data"
    },
    {
     "data": {
      "application/vnd.jupyter.widget-view+json": {
       "model_id": "2cd4874a46ed410195ec7173495695b5",
       "version_major": 2,
       "version_minor": 0
      },
      "text/plain": [
       "Parsing Locations in OK:   0%|          | 0/6 [00:00<?, ?it/s]"
      ]
     },
     "metadata": {},
     "output_type": "display_data"
    },
    {
     "data": {
      "application/vnd.jupyter.widget-view+json": {
       "model_id": "2f20cbffadc4405499c62ff94347c77b",
       "version_major": 2,
       "version_minor": 0
      },
      "text/plain": [
       "Parsing Locations in OR:   0%|          | 0/7 [00:00<?, ?it/s]"
      ]
     },
     "metadata": {},
     "output_type": "display_data"
    },
    {
     "data": {
      "application/vnd.jupyter.widget-view+json": {
       "model_id": "067bd7babf5d482eb01b75aae2e341fc",
       "version_major": 2,
       "version_minor": 0
      },
      "text/plain": [
       "Parsing Locations in SC:   0%|          | 0/1 [00:00<?, ?it/s]"
      ]
     },
     "metadata": {},
     "output_type": "display_data"
    },
    {
     "data": {
      "application/vnd.jupyter.widget-view+json": {
       "model_id": "64d8d1beec3e4786992a32404e2d4e9b",
       "version_major": 2,
       "version_minor": 0
      },
      "text/plain": [
       "Parsing Locations in UT:   0%|          | 0/29 [00:00<?, ?it/s]"
      ]
     },
     "metadata": {},
     "output_type": "display_data"
    },
    {
     "data": {
      "application/vnd.jupyter.widget-view+json": {
       "model_id": "a7eb48cb42af4b8b8d3f0d93bc0f9ad3",
       "version_major": 2,
       "version_minor": 0
      },
      "text/plain": [
       "Parsing Locations in VA:   0%|          | 0/2 [00:00<?, ?it/s]"
      ]
     },
     "metadata": {},
     "output_type": "display_data"
    },
    {
     "data": {
      "application/vnd.jupyter.widget-view+json": {
       "model_id": "24733fbabf25455aa729638937b439c5",
       "version_major": 2,
       "version_minor": 0
      },
      "text/plain": [
       "Parsing Locations in WA:   0%|          | 0/7 [00:00<?, ?it/s]"
      ]
     },
     "metadata": {},
     "output_type": "display_data"
    }
   ],
   "source": [
    "r = scraper.get(\"https://locations.deltaco.com/us\")\n",
    "soup = BeautifulSoup(r.text, \"html.parser\")\n",
    "state_divs = soup.find_all(\n",
    "    \"div\", {\"class\": \"city-name col-6 col-sm-4 col-md-3 col-lg-2\"}\n",
    ")\n",
    "state_hrefs = [\n",
    "    \"/\".join(state_div.find(\"a\").attrs[\"href\"].split(\"/\")[:3])\n",
    "    for state_div in state_divs\n",
    "]\n",
    "\n",
    "\n",
    "# Parse all locations in a state\n",
    "for state_href in tqdm(state_hrefs, desc=\"Parsing States\"):\n",
    "    state_store_list = []\n",
    "    state_code = state_href.split(\"/\")[-1].upper()\n",
    "\n",
    "    # If File exists continue\n",
    "    if os.path.isfile(f\"data/states/{state_code}.gpkg\"):\n",
    "        continue\n",
    "\n",
    "    state_url = \"https://locations.deltaco.com\" + state_href\n",
    "\n",
    "    city_urls = find_cities(state_url)\n",
    "\n",
    "    if not city_urls:\n",
    "        print(state_code, state_url)\n",
    "        continue\n",
    "\n",
    "    for city_url in tqdm(city_urls, desc=f\"Parsing Locations in {state_code}\"):\n",
    "        store_urls = find_stores(city_url)\n",
    "        if not store_urls:\n",
    "            print(city_url)\n",
    "            continue\n",
    "\n",
    "        for store_url in store_urls:\n",
    "            try:\n",
    "                point = get_coords(store_url)\n",
    "            except Exception as e:\n",
    "                print(store_url, e)\n",
    "            store_dict = {\"STUSPS\": state_code, \"geometry\": point, \"url\": store_url}\n",
    "            state_store_list.append(store_dict)\n",
    "            time.sleep(random.uniform(0.01, 0.5))\n",
    "\n",
    "    if state_store_list:\n",
    "        store_gdf = gpd.GeoDataFrame(state_store_list, crs=4326)\n",
    "        store_gdf.to_file(f\"data/states/{state_code}.gpkg\")"
   ]
  },
  {
   "cell_type": "code",
   "execution_count": 16,
   "id": "c1d32989-5a24-46f7-954f-a607979d4aa5",
   "metadata": {},
   "outputs": [],
   "source": [
    "store_gdfs = []\n",
    "states_path = \"data/states\"\n",
    "for file in os.listdir(\"data/states\"):\n",
    "    constructed_path = os.path.join(states_path, file)\n",
    "    if constructed_path.endswith(\".gpkg\"):\n",
    "        del_taco_gdf = gpd.read_file(constructed_path)\n",
    "        store_gdfs.append(del_taco_gdf)"
   ]
  },
  {
   "cell_type": "code",
   "execution_count": 17,
   "id": "1e616021-e53a-4cc6-b3b0-e6b7f7ee5f21",
   "metadata": {},
   "outputs": [],
   "source": [
    "del_taco_gdf = pd.concat(store_gdfs, ignore_index=True)"
   ]
  },
  {
   "cell_type": "code",
   "execution_count": 18,
   "id": "c9395e2c-41e3-4cc8-9109-d0d345af1f8d",
   "metadata": {},
   "outputs": [
    {
     "data": {
      "text/html": [
       "<div>\n",
       "<style scoped>\n",
       "    .dataframe tbody tr th:only-of-type {\n",
       "        vertical-align: middle;\n",
       "    }\n",
       "\n",
       "    .dataframe tbody tr th {\n",
       "        vertical-align: top;\n",
       "    }\n",
       "\n",
       "    .dataframe thead th {\n",
       "        text-align: right;\n",
       "    }\n",
       "</style>\n",
       "<table border=\"1\" class=\"dataframe\">\n",
       "  <thead>\n",
       "    <tr style=\"text-align: right;\">\n",
       "      <th></th>\n",
       "      <th>STUSPS</th>\n",
       "      <th>url</th>\n",
       "      <th>geometry</th>\n",
       "    </tr>\n",
       "  </thead>\n",
       "  <tbody>\n",
       "    <tr>\n",
       "      <th>0</th>\n",
       "      <td>AL</td>\n",
       "      <td>https://locations.deltaco.com/us/al/huntsville...</td>\n",
       "      <td>POINT (-86.67673 34.70951)</td>\n",
       "    </tr>\n",
       "    <tr>\n",
       "      <th>1</th>\n",
       "      <td>AL</td>\n",
       "      <td>https://locations.deltaco.com/us/al/phenix-cit...</td>\n",
       "      <td>POINT (-85.02818 32.47034)</td>\n",
       "    </tr>\n",
       "    <tr>\n",
       "      <th>2</th>\n",
       "      <td>AZ</td>\n",
       "      <td>https://locations.deltaco.com/us/az/ash-fork/9...</td>\n",
       "      <td>POINT (-112.49748 35.22275)</td>\n",
       "    </tr>\n",
       "    <tr>\n",
       "      <th>3</th>\n",
       "      <td>AZ</td>\n",
       "      <td>https://locations.deltaco.com/us/az/avondale/1...</td>\n",
       "      <td>POINT (-112.34041 33.45439)</td>\n",
       "    </tr>\n",
       "    <tr>\n",
       "      <th>4</th>\n",
       "      <td>AZ</td>\n",
       "      <td>https://locations.deltaco.com/us/az/bullhead-c...</td>\n",
       "      <td>POINT (-114.5925 35.12012)</td>\n",
       "    </tr>\n",
       "  </tbody>\n",
       "</table>\n",
       "</div>"
      ],
      "text/plain": [
       "  STUSPS                                                url  \\\n",
       "0     AL  https://locations.deltaco.com/us/al/huntsville...   \n",
       "1     AL  https://locations.deltaco.com/us/al/phenix-cit...   \n",
       "2     AZ  https://locations.deltaco.com/us/az/ash-fork/9...   \n",
       "3     AZ  https://locations.deltaco.com/us/az/avondale/1...   \n",
       "4     AZ  https://locations.deltaco.com/us/az/bullhead-c...   \n",
       "\n",
       "                      geometry  \n",
       "0   POINT (-86.67673 34.70951)  \n",
       "1   POINT (-85.02818 32.47034)  \n",
       "2  POINT (-112.49748 35.22275)  \n",
       "3  POINT (-112.34041 33.45439)  \n",
       "4   POINT (-114.5925 35.12012)  "
      ]
     },
     "execution_count": 18,
     "metadata": {},
     "output_type": "execute_result"
    }
   ],
   "source": [
    "del_taco_gdf.head()"
   ]
  },
  {
   "cell_type": "code",
   "execution_count": 20,
   "id": "82626e84-9c67-4460-a792-9668dbda6768",
   "metadata": {},
   "outputs": [],
   "source": [
    "del_taco_gdf = del_taco_gdf.to_crs(9311)\n",
    "del_taco_gdf.to_file(f\"data/stores.gpkg\")"
   ]
  },
  {
   "cell_type": "markdown",
   "id": "5a42dfab-fc47-49d7-8092-f08b31392df8",
   "metadata": {},
   "source": [
    "## Get Population Data"
   ]
  },
  {
   "cell_type": "code",
   "execution_count": 21,
   "id": "3cce9c91-abf1-4055-8b9a-5fd1f6cf611f",
   "metadata": {},
   "outputs": [],
   "source": [
    "state_populations = pd.read_excel(\n",
    "    \"data/NST-EST2024-POP.xlsx\", sheet_name=None, engine=\"openpyxl\"\n",
    ")"
   ]
  },
  {
   "cell_type": "code",
   "execution_count": 22,
   "id": "2eaacc28-fa8e-410e-b084-02ce24ec11a1",
   "metadata": {},
   "outputs": [],
   "source": [
    "state_populations_df = state_populations[\"NST-EST2024-POP\"][\n",
    "    [\n",
    "        \"table with row headers in column A and column headers in rows 3 through 4. (leading dots indicate sub-parts)\",\n",
    "        \"Unnamed: 5\",\n",
    "    ]\n",
    "]\n",
    "state_populations_df = state_populations_df.rename(\n",
    "    columns={\n",
    "        \"table with row headers in column A and column headers in rows 3 through 4. (leading dots indicate sub-parts)\": \"NAME\",\n",
    "        \"Unnamed: 5\": \"POPULATION\",\n",
    "    }\n",
    ")\n",
    "state_populations_df[\"NAME\"] = state_populations_df[\"NAME\"].str[1:]"
   ]
  },
  {
   "cell_type": "code",
   "execution_count": 23,
   "id": "2d6342e1-fc3f-4006-8d8a-d7612903a625",
   "metadata": {},
   "outputs": [],
   "source": [
    "states_with_population_df = states_df.merge(state_populations_df, on=\"NAME\", how=\"left\")\n",
    "states_with_population_df = states_with_population_df[\n",
    "    [\"STUSPS\", \"NAME\", \"POPULATION\", \"geometry\"]\n",
    "]"
   ]
  },
  {
   "cell_type": "code",
   "execution_count": 24,
   "id": "94150db1-9ce7-43cb-8c08-3f6d9bb58497",
   "metadata": {},
   "outputs": [],
   "source": [
    "states_with_population_df = states_with_population_df.dropna()"
   ]
  },
  {
   "cell_type": "markdown",
   "id": "af5c5e13-c89d-43ed-8021-13ba93990599",
   "metadata": {},
   "source": [
    "## Merge Data"
   ]
  },
  {
   "cell_type": "code",
   "execution_count": 25,
   "id": "f6900380-39b5-4cca-abf9-b46f7b886f9d",
   "metadata": {},
   "outputs": [],
   "source": [
    "del_taco_count_df = pd.DataFrame(\n",
    "    del_taco_gdf.groupby(\"STUSPS\").size(), columns=[\"DTs\"]\n",
    ").reset_index()"
   ]
  },
  {
   "cell_type": "code",
   "execution_count": 26,
   "id": "8a4afa33-893a-4b6b-8df1-f5151243deeb",
   "metadata": {},
   "outputs": [],
   "source": [
    "del_taco_count_gdf = states_with_population_df.merge(\n",
    "    del_taco_count_df, on=\"STUSPS\", how=\"left\"\n",
    ")\n",
    "del_taco_count_gdf = del_taco_count_gdf.fillna(0)"
   ]
  },
  {
   "cell_type": "code",
   "execution_count": 29,
   "id": "f50526e2-4c7a-4d13-8d5e-aaddbeec7751",
   "metadata": {},
   "outputs": [],
   "source": [
    "del_taco_count_gdf[\"per_100k\"] = (\n",
    "    del_taco_count_gdf[\"DTs\"] / (del_taco_count_gdf[\"POPULATION\"] / 100000)\n",
    ").round(decimals=2)\n",
    "del_taco_count_gdf[\"per_1m\"] = (\n",
    "    del_taco_count_gdf[\"DTs\"] / (del_taco_count_gdf[\"POPULATION\"] / 1_000_000)\n",
    ").round(decimals=1)"
   ]
  },
  {
   "cell_type": "code",
   "execution_count": 30,
   "id": "4d00c57e-a978-4938-b5f5-cb176b29cf77",
   "metadata": {},
   "outputs": [],
   "source": [
    "del_taco_count_gdf = del_taco_count_gdf.to_crs(9311)"
   ]
  },
  {
   "cell_type": "code",
   "execution_count": 31,
   "id": "f8feb339-fc3c-41f9-8bd8-50ee507bb185",
   "metadata": {},
   "outputs": [],
   "source": [
    "del_taco_count_gdf.to_file(\"data/Del_Taco_Per_State.gpkg\")"
   ]
  },
  {
   "cell_type": "code",
   "execution_count": 32,
   "id": "6fe12df3-c59b-48b5-bd11-cdbae9436a65",
   "metadata": {},
   "outputs": [
    {
     "data": {
      "text/html": [
       "<div>\n",
       "<style scoped>\n",
       "    .dataframe tbody tr th:only-of-type {\n",
       "        vertical-align: middle;\n",
       "    }\n",
       "\n",
       "    .dataframe tbody tr th {\n",
       "        vertical-align: top;\n",
       "    }\n",
       "\n",
       "    .dataframe thead th {\n",
       "        text-align: right;\n",
       "    }\n",
       "</style>\n",
       "<table border=\"1\" class=\"dataframe\">\n",
       "  <thead>\n",
       "    <tr style=\"text-align: right;\">\n",
       "      <th></th>\n",
       "      <th>DTs</th>\n",
       "      <th>per_100k</th>\n",
       "      <th>per_1m</th>\n",
       "      <th>STUSPS</th>\n",
       "    </tr>\n",
       "  </thead>\n",
       "  <tbody>\n",
       "    <tr>\n",
       "      <th>28</th>\n",
       "      <td>44.0</td>\n",
       "      <td>1.37</td>\n",
       "      <td>13.7</td>\n",
       "      <td>NV</td>\n",
       "    </tr>\n",
       "    <tr>\n",
       "      <th>22</th>\n",
       "      <td>37.0</td>\n",
       "      <td>1.07</td>\n",
       "      <td>10.7</td>\n",
       "      <td>UT</td>\n",
       "    </tr>\n",
       "    <tr>\n",
       "      <th>16</th>\n",
       "      <td>350.0</td>\n",
       "      <td>0.89</td>\n",
       "      <td>8.9</td>\n",
       "      <td>CA</td>\n",
       "    </tr>\n",
       "    <tr>\n",
       "      <th>8</th>\n",
       "      <td>10.0</td>\n",
       "      <td>0.51</td>\n",
       "      <td>5.1</td>\n",
       "      <td>ID</td>\n",
       "    </tr>\n",
       "    <tr>\n",
       "      <th>35</th>\n",
       "      <td>38.0</td>\n",
       "      <td>0.51</td>\n",
       "      <td>5.1</td>\n",
       "      <td>AZ</td>\n",
       "    </tr>\n",
       "    <tr>\n",
       "      <th>12</th>\n",
       "      <td>10.0</td>\n",
       "      <td>0.47</td>\n",
       "      <td>4.7</td>\n",
       "      <td>NM</td>\n",
       "    </tr>\n",
       "    <tr>\n",
       "      <th>21</th>\n",
       "      <td>19.0</td>\n",
       "      <td>0.32</td>\n",
       "      <td>3.2</td>\n",
       "      <td>CO</td>\n",
       "    </tr>\n",
       "    <tr>\n",
       "      <th>2</th>\n",
       "      <td>9.0</td>\n",
       "      <td>0.22</td>\n",
       "      <td>2.2</td>\n",
       "      <td>OK</td>\n",
       "    </tr>\n",
       "    <tr>\n",
       "      <th>46</th>\n",
       "      <td>8.0</td>\n",
       "      <td>0.19</td>\n",
       "      <td>1.9</td>\n",
       "      <td>OR</td>\n",
       "    </tr>\n",
       "    <tr>\n",
       "      <th>18</th>\n",
       "      <td>13.0</td>\n",
       "      <td>0.12</td>\n",
       "      <td>1.2</td>\n",
       "      <td>GA</td>\n",
       "    </tr>\n",
       "    <tr>\n",
       "      <th>6</th>\n",
       "      <td>10.0</td>\n",
       "      <td>0.10</td>\n",
       "      <td>1.0</td>\n",
       "      <td>MI</td>\n",
       "    </tr>\n",
       "    <tr>\n",
       "      <th>11</th>\n",
       "      <td>7.0</td>\n",
       "      <td>0.09</td>\n",
       "      <td>0.9</td>\n",
       "      <td>WA</td>\n",
       "    </tr>\n",
       "    <tr>\n",
       "      <th>9</th>\n",
       "      <td>15.0</td>\n",
       "      <td>0.07</td>\n",
       "      <td>0.7</td>\n",
       "      <td>FL</td>\n",
       "    </tr>\n",
       "    <tr>\n",
       "      <th>17</th>\n",
       "      <td>2.0</td>\n",
       "      <td>0.04</td>\n",
       "      <td>0.4</td>\n",
       "      <td>AL</td>\n",
       "    </tr>\n",
       "    <tr>\n",
       "      <th>44</th>\n",
       "      <td>3.0</td>\n",
       "      <td>0.03</td>\n",
       "      <td>0.3</td>\n",
       "      <td>OH</td>\n",
       "    </tr>\n",
       "    <tr>\n",
       "      <th>0</th>\n",
       "      <td>1.0</td>\n",
       "      <td>0.03</td>\n",
       "      <td>0.3</td>\n",
       "      <td>MS</td>\n",
       "    </tr>\n",
       "    <tr>\n",
       "      <th>3</th>\n",
       "      <td>2.0</td>\n",
       "      <td>0.02</td>\n",
       "      <td>0.2</td>\n",
       "      <td>VA</td>\n",
       "    </tr>\n",
       "    <tr>\n",
       "      <th>33</th>\n",
       "      <td>1.0</td>\n",
       "      <td>0.02</td>\n",
       "      <td>0.2</td>\n",
       "      <td>SC</td>\n",
       "    </tr>\n",
       "    <tr>\n",
       "      <th>1</th>\n",
       "      <td>2.0</td>\n",
       "      <td>0.02</td>\n",
       "      <td>0.2</td>\n",
       "      <td>NC</td>\n",
       "    </tr>\n",
       "    <tr>\n",
       "      <th>10</th>\n",
       "      <td>0.0</td>\n",
       "      <td>0.00</td>\n",
       "      <td>0.0</td>\n",
       "      <td>NE</td>\n",
       "    </tr>\n",
       "    <tr>\n",
       "      <th>19</th>\n",
       "      <td>0.0</td>\n",
       "      <td>0.00</td>\n",
       "      <td>0.0</td>\n",
       "      <td>PA</td>\n",
       "    </tr>\n",
       "    <tr>\n",
       "      <th>13</th>\n",
       "      <td>0.0</td>\n",
       "      <td>0.00</td>\n",
       "      <td>0.0</td>\n",
       "      <td>PR</td>\n",
       "    </tr>\n",
       "    <tr>\n",
       "      <th>14</th>\n",
       "      <td>0.0</td>\n",
       "      <td>0.00</td>\n",
       "      <td>0.0</td>\n",
       "      <td>SD</td>\n",
       "    </tr>\n",
       "    <tr>\n",
       "      <th>15</th>\n",
       "      <td>0.0</td>\n",
       "      <td>0.00</td>\n",
       "      <td>0.0</td>\n",
       "      <td>TX</td>\n",
       "    </tr>\n",
       "    <tr>\n",
       "      <th>7</th>\n",
       "      <td>0.0</td>\n",
       "      <td>0.00</td>\n",
       "      <td>0.0</td>\n",
       "      <td>MA</td>\n",
       "    </tr>\n",
       "    <tr>\n",
       "      <th>5</th>\n",
       "      <td>0.0</td>\n",
       "      <td>0.00</td>\n",
       "      <td>0.0</td>\n",
       "      <td>LA</td>\n",
       "    </tr>\n",
       "    <tr>\n",
       "      <th>4</th>\n",
       "      <td>0.0</td>\n",
       "      <td>0.00</td>\n",
       "      <td>0.0</td>\n",
       "      <td>WV</td>\n",
       "    </tr>\n",
       "    <tr>\n",
       "      <th>24</th>\n",
       "      <td>0.0</td>\n",
       "      <td>0.00</td>\n",
       "      <td>0.0</td>\n",
       "      <td>WY</td>\n",
       "    </tr>\n",
       "    <tr>\n",
       "      <th>27</th>\n",
       "      <td>0.0</td>\n",
       "      <td>0.00</td>\n",
       "      <td>0.0</td>\n",
       "      <td>AK</td>\n",
       "    </tr>\n",
       "    <tr>\n",
       "      <th>26</th>\n",
       "      <td>0.0</td>\n",
       "      <td>0.00</td>\n",
       "      <td>0.0</td>\n",
       "      <td>KS</td>\n",
       "    </tr>\n",
       "    <tr>\n",
       "      <th>25</th>\n",
       "      <td>0.0</td>\n",
       "      <td>0.00</td>\n",
       "      <td>0.0</td>\n",
       "      <td>NY</td>\n",
       "    </tr>\n",
       "    <tr>\n",
       "      <th>29</th>\n",
       "      <td>0.0</td>\n",
       "      <td>0.00</td>\n",
       "      <td>0.0</td>\n",
       "      <td>IL</td>\n",
       "    </tr>\n",
       "    <tr>\n",
       "      <th>31</th>\n",
       "      <td>0.0</td>\n",
       "      <td>0.00</td>\n",
       "      <td>0.0</td>\n",
       "      <td>MT</td>\n",
       "    </tr>\n",
       "    <tr>\n",
       "      <th>30</th>\n",
       "      <td>0.0</td>\n",
       "      <td>0.00</td>\n",
       "      <td>0.0</td>\n",
       "      <td>VT</td>\n",
       "    </tr>\n",
       "    <tr>\n",
       "      <th>20</th>\n",
       "      <td>0.0</td>\n",
       "      <td>0.00</td>\n",
       "      <td>0.0</td>\n",
       "      <td>MO</td>\n",
       "    </tr>\n",
       "    <tr>\n",
       "      <th>23</th>\n",
       "      <td>0.0</td>\n",
       "      <td>0.00</td>\n",
       "      <td>0.0</td>\n",
       "      <td>TN</td>\n",
       "    </tr>\n",
       "    <tr>\n",
       "      <th>34</th>\n",
       "      <td>0.0</td>\n",
       "      <td>0.00</td>\n",
       "      <td>0.0</td>\n",
       "      <td>NH</td>\n",
       "    </tr>\n",
       "    <tr>\n",
       "      <th>32</th>\n",
       "      <td>0.0</td>\n",
       "      <td>0.00</td>\n",
       "      <td>0.0</td>\n",
       "      <td>IA</td>\n",
       "    </tr>\n",
       "    <tr>\n",
       "      <th>36</th>\n",
       "      <td>0.0</td>\n",
       "      <td>0.00</td>\n",
       "      <td>0.0</td>\n",
       "      <td>DC</td>\n",
       "    </tr>\n",
       "    <tr>\n",
       "      <th>37</th>\n",
       "      <td>0.0</td>\n",
       "      <td>0.00</td>\n",
       "      <td>0.0</td>\n",
       "      <td>NJ</td>\n",
       "    </tr>\n",
       "    <tr>\n",
       "      <th>40</th>\n",
       "      <td>0.0</td>\n",
       "      <td>0.00</td>\n",
       "      <td>0.0</td>\n",
       "      <td>HI</td>\n",
       "    </tr>\n",
       "    <tr>\n",
       "      <th>41</th>\n",
       "      <td>0.0</td>\n",
       "      <td>0.00</td>\n",
       "      <td>0.0</td>\n",
       "      <td>DE</td>\n",
       "    </tr>\n",
       "    <tr>\n",
       "      <th>38</th>\n",
       "      <td>0.0</td>\n",
       "      <td>0.00</td>\n",
       "      <td>0.0</td>\n",
       "      <td>MD</td>\n",
       "    </tr>\n",
       "    <tr>\n",
       "      <th>39</th>\n",
       "      <td>0.0</td>\n",
       "      <td>0.00</td>\n",
       "      <td>0.0</td>\n",
       "      <td>ME</td>\n",
       "    </tr>\n",
       "    <tr>\n",
       "      <th>43</th>\n",
       "      <td>0.0</td>\n",
       "      <td>0.00</td>\n",
       "      <td>0.0</td>\n",
       "      <td>KY</td>\n",
       "    </tr>\n",
       "    <tr>\n",
       "      <th>42</th>\n",
       "      <td>0.0</td>\n",
       "      <td>0.00</td>\n",
       "      <td>0.0</td>\n",
       "      <td>RI</td>\n",
       "    </tr>\n",
       "    <tr>\n",
       "      <th>45</th>\n",
       "      <td>0.0</td>\n",
       "      <td>0.00</td>\n",
       "      <td>0.0</td>\n",
       "      <td>WI</td>\n",
       "    </tr>\n",
       "    <tr>\n",
       "      <th>47</th>\n",
       "      <td>0.0</td>\n",
       "      <td>0.00</td>\n",
       "      <td>0.0</td>\n",
       "      <td>ND</td>\n",
       "    </tr>\n",
       "    <tr>\n",
       "      <th>48</th>\n",
       "      <td>0.0</td>\n",
       "      <td>0.00</td>\n",
       "      <td>0.0</td>\n",
       "      <td>AR</td>\n",
       "    </tr>\n",
       "    <tr>\n",
       "      <th>49</th>\n",
       "      <td>0.0</td>\n",
       "      <td>0.00</td>\n",
       "      <td>0.0</td>\n",
       "      <td>IN</td>\n",
       "    </tr>\n",
       "    <tr>\n",
       "      <th>50</th>\n",
       "      <td>0.0</td>\n",
       "      <td>0.00</td>\n",
       "      <td>0.0</td>\n",
       "      <td>MN</td>\n",
       "    </tr>\n",
       "    <tr>\n",
       "      <th>51</th>\n",
       "      <td>0.0</td>\n",
       "      <td>0.00</td>\n",
       "      <td>0.0</td>\n",
       "      <td>CT</td>\n",
       "    </tr>\n",
       "  </tbody>\n",
       "</table>\n",
       "</div>"
      ],
      "text/plain": [
       "      DTs  per_100k  per_1m STUSPS\n",
       "28   44.0      1.37    13.7     NV\n",
       "22   37.0      1.07    10.7     UT\n",
       "16  350.0      0.89     8.9     CA\n",
       "8    10.0      0.51     5.1     ID\n",
       "35   38.0      0.51     5.1     AZ\n",
       "12   10.0      0.47     4.7     NM\n",
       "21   19.0      0.32     3.2     CO\n",
       "2     9.0      0.22     2.2     OK\n",
       "46    8.0      0.19     1.9     OR\n",
       "18   13.0      0.12     1.2     GA\n",
       "6    10.0      0.10     1.0     MI\n",
       "11    7.0      0.09     0.9     WA\n",
       "9    15.0      0.07     0.7     FL\n",
       "17    2.0      0.04     0.4     AL\n",
       "44    3.0      0.03     0.3     OH\n",
       "0     1.0      0.03     0.3     MS\n",
       "3     2.0      0.02     0.2     VA\n",
       "33    1.0      0.02     0.2     SC\n",
       "1     2.0      0.02     0.2     NC\n",
       "10    0.0      0.00     0.0     NE\n",
       "19    0.0      0.00     0.0     PA\n",
       "13    0.0      0.00     0.0     PR\n",
       "14    0.0      0.00     0.0     SD\n",
       "15    0.0      0.00     0.0     TX\n",
       "7     0.0      0.00     0.0     MA\n",
       "5     0.0      0.00     0.0     LA\n",
       "4     0.0      0.00     0.0     WV\n",
       "24    0.0      0.00     0.0     WY\n",
       "27    0.0      0.00     0.0     AK\n",
       "26    0.0      0.00     0.0     KS\n",
       "25    0.0      0.00     0.0     NY\n",
       "29    0.0      0.00     0.0     IL\n",
       "31    0.0      0.00     0.0     MT\n",
       "30    0.0      0.00     0.0     VT\n",
       "20    0.0      0.00     0.0     MO\n",
       "23    0.0      0.00     0.0     TN\n",
       "34    0.0      0.00     0.0     NH\n",
       "32    0.0      0.00     0.0     IA\n",
       "36    0.0      0.00     0.0     DC\n",
       "37    0.0      0.00     0.0     NJ\n",
       "40    0.0      0.00     0.0     HI\n",
       "41    0.0      0.00     0.0     DE\n",
       "38    0.0      0.00     0.0     MD\n",
       "39    0.0      0.00     0.0     ME\n",
       "43    0.0      0.00     0.0     KY\n",
       "42    0.0      0.00     0.0     RI\n",
       "45    0.0      0.00     0.0     WI\n",
       "47    0.0      0.00     0.0     ND\n",
       "48    0.0      0.00     0.0     AR\n",
       "49    0.0      0.00     0.0     IN\n",
       "50    0.0      0.00     0.0     MN\n",
       "51    0.0      0.00     0.0     CT"
      ]
     },
     "execution_count": 32,
     "metadata": {},
     "output_type": "execute_result"
    }
   ],
   "source": [
    "del_taco_count_gdf[[\"DTs\", \"per_100k\", \"per_1m\", \"STUSPS\"]].sort_values(\n",
    "    \"per_100k\", ascending=False\n",
    ")"
   ]
  },
  {
   "cell_type": "code",
   "execution_count": null,
   "id": "e92773a5-ed1b-4850-b29c-fcc40f9d5289",
   "metadata": {},
   "outputs": [],
   "source": []
  },
  {
   "cell_type": "code",
   "execution_count": null,
   "id": "c9806eba-88eb-4815-9a19-2629138ed337",
   "metadata": {},
   "outputs": [],
   "source": []
  }
 ],
 "metadata": {
  "kernelspec": {
   "display_name": "Python 3 (ipykernel)",
   "language": "python",
   "name": "python3"
  },
  "language_info": {
   "codemirror_mode": {
    "name": "ipython",
    "version": 3
   },
   "file_extension": ".py",
   "mimetype": "text/x-python",
   "name": "python",
   "nbconvert_exporter": "python",
   "pygments_lexer": "ipython3",
   "version": "3.11.13"
  }
 },
 "nbformat": 4,
 "nbformat_minor": 5
}
