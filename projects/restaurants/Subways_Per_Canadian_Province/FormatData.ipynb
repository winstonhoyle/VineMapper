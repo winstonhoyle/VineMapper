{
 "cells": [
  {
   "cell_type": "code",
   "execution_count": null,
   "id": "8eca3131-85dc-48b3-b640-f384104e123c",
   "metadata": {},
   "outputs": [],
   "source": [
    "import os\n",
    "import random\n",
    "import re\n",
    "import time"
   ]
  },
  {
   "cell_type": "code",
   "execution_count": 2,
   "id": "bc436e38-234d-44fd-b67b-d1f2974606d3",
   "metadata": {},
   "outputs": [],
   "source": [
    "from bs4 import BeautifulSoup\n",
    "import cloudscraper\n",
    "import geopandas as gpd\n",
    "import pandas as pd"
   ]
  },
  {
   "cell_type": "code",
   "execution_count": 3,
   "id": "2d1e0efb-fe0d-41c3-8fa6-ef65597011c8",
   "metadata": {},
   "outputs": [],
   "source": [
    "from shapely.geometry import Point\n",
    "from tqdm.notebook import tqdm"
   ]
  },
  {
   "cell_type": "markdown",
   "id": "44a3df26-78d3-479c-99a2-c0e1ba91352e",
   "metadata": {},
   "source": [
    "## Get State Data"
   ]
  },
  {
   "cell_type": "code",
   "execution_count": 65,
   "id": "615eeabf-033b-425a-a81f-d7b4dd9e3a3e",
   "metadata": {},
   "outputs": [],
   "source": [
    "file_path = \"data/lecu000e21a_e/lpr_000e21a_e.shp\"\n",
    "states_df = gpd.read_file(file_path)"
   ]
  },
  {
   "cell_type": "code",
   "execution_count": 78,
   "id": "502c6bfe-0912-4d37-95b0-47e7a14b468f",
   "metadata": {},
   "outputs": [],
   "source": [
    "states_df = states_df[[\"PRENAME\", \"geometry\"]]\n",
    "states_df = states_df.rename(columns={\"PRENAME\": \"Geography\"})"
   ]
  },
  {
   "cell_type": "markdown",
   "id": "4257620c-13d7-4071-bae2-a5a2aeae5ba7",
   "metadata": {},
   "source": [
    "## Get Population data"
   ]
  },
  {
   "cell_type": "code",
   "execution_count": 91,
   "id": "6c0e7a1d-5a9a-4c10-a5d4-28dc681a8a27",
   "metadata": {},
   "outputs": [],
   "source": [
    "state_populations = pd.read_csv(\"data/1710000901-noSymbol.csv\")"
   ]
  },
  {
   "cell_type": "code",
   "execution_count": 104,
   "id": "21d055c0-759f-4024-b471-3eb17242b2f2",
   "metadata": {},
   "outputs": [],
   "source": [
    "states_population_gdf = states_df.merge(state_populations, on=\"Geography\", how=\"left\")\n",
    "states_population_gdf = states_population_gdf.rename(columns={\"Q1 2025\": \"POPULATION\"})\n",
    "states_population_gdf[\"POPULATION\"] = (\n",
    "    states_population_gdf[\"POPULATION\"].str.replace(\",\", \"\").astype(int)\n",
    ")"
   ]
  },
  {
   "cell_type": "markdown",
   "id": "6d2f1ce9-a36c-4292-99a0-ad42032c5ad4",
   "metadata": {},
   "source": [
    "## Get Subway Data"
   ]
  },
  {
   "cell_type": "code",
   "execution_count": 15,
   "id": "a36b1cd2-6a8f-47c5-81bd-0b457b5e15d8",
   "metadata": {},
   "outputs": [],
   "source": [
    "def get_coords(soup) -> Point:\n",
    "    latitude_meta = soup.find(\"meta\", {\"itemprop\": \"latitude\"})\n",
    "    longitude_meta = soup.find(\"meta\", {\"itemprop\": \"longitude\"})\n",
    "    lat = float(latitude_meta.attrs[\"content\"])\n",
    "    lon = float(longitude_meta.attrs[\"content\"])\n",
    "    return Point(lon, lat)"
   ]
  },
  {
   "cell_type": "code",
   "execution_count": 18,
   "id": "9faa75ce-1dcd-44bc-84f2-6eb1011f9727",
   "metadata": {},
   "outputs": [],
   "source": [
    "scraper = cloudscraper.create_scraper()\n",
    "url_root = \"https://restaurants.subway.com\""
   ]
  },
  {
   "cell_type": "code",
   "execution_count": 55,
   "id": "bf141e51-6947-492b-b53c-8ed683353d9f",
   "metadata": {},
   "outputs": [
    {
     "data": {
      "application/vnd.jupyter.widget-view+json": {
       "model_id": "6c64732b318b4c5094c5e2d385c152cf",
       "version_major": 2,
       "version_minor": 0
      },
      "text/plain": [
       "Parsing States:   0%|          | 0/12 [00:00<?, ?it/s]"
      ]
     },
     "metadata": {},
     "output_type": "display_data"
    },
    {
     "data": {
      "application/vnd.jupyter.widget-view+json": {
       "model_id": "45fffc0c3b874eff87d5f0d15715cfaa",
       "version_major": 2,
       "version_minor": 0
      },
      "text/plain": [
       "Parsing Locations In ab:   0%|          | 0/119 [00:00<?, ?it/s]"
      ]
     },
     "metadata": {},
     "output_type": "display_data"
    },
    {
     "name": "stdout",
     "output_type": "stream",
     "text": [
      "https://restaurants.subway.com/canada/ab/calgary/5125-126th-avenue-se\n",
      "https://restaurants.subway.com/canada/ab/edmonton/2-10507-104-ave-nw\n",
      "https://restaurants.subway.com/canada/ab/edmonton/10551-kingsway-avenue\n",
      "https://restaurants.subway.com/canada/ab/edmonton/2020-101-street-sw\n",
      "https://restaurants.subway.com/canada/ab/edmonton/302-1100-westmount-shop-centre\n",
      "https://restaurants.subway.com/canada/ab/jasper/626-a-connaught-drive\n",
      "https://restaurants.subway.com/canada/ab/lethbridge/4401-university-drive-w\n",
      "https://restaurants.subway.com/canada/ab/swan-hills/4619-federated-road\n"
     ]
    },
    {
     "data": {
      "application/vnd.jupyter.widget-view+json": {
       "model_id": "13bbe7128bbb490fb72829e9d70c022e",
       "version_major": 2,
       "version_minor": 0
      },
      "text/plain": [
       "Parsing Locations In bc:   0%|          | 0/113 [00:00<?, ?it/s]"
      ]
     },
     "metadata": {},
     "output_type": "display_data"
    },
    {
     "name": "stdout",
     "output_type": "stream",
     "text": [
      "https://restaurants.subway.com/canada/bc/burnaby/3294-production-way\n",
      "https://restaurants.subway.com/canada/bc/burnaby/6569-kingsway\n",
      "https://restaurants.subway.com/canada/bc/burnaby/7215-canada-way\n",
      "https://restaurants.subway.com/canada/bc/burnaby/8888-university-dr\n",
      "https://restaurants.subway.com/canada/bc/coquitlam/602-clarke-rd\n",
      "https://restaurants.subway.com/canada/bc/kimberley/460-ross-st\n",
      "https://restaurants.subway.com/canada/bc/north-vancouver/2916-lonsdale-ave\n",
      "https://restaurants.subway.com/canada/bc/parksville/826-west-island-hwy\n",
      "https://restaurants.subway.com/canada/bc/richmond/unit-105-3675-westminster-hwy\n",
      "https://restaurants.subway.com/canada/bc/surrey/14313-cresent-rd\n",
      "https://restaurants.subway.com/canada/bc/vancouver/110-510-w-hastings-st\n",
      "https://restaurants.subway.com/canada/bc/vancouver/1368-w-georgia-st\n",
      "https://restaurants.subway.com/canada/bc/vancouver/4665-arbutus-street\n",
      "https://restaurants.subway.com/canada/bc/vancouver/505-burrard-st\n",
      "https://restaurants.subway.com/canada/bc/victoria/1420-quadra-street\n"
     ]
    },
    {
     "data": {
      "application/vnd.jupyter.widget-view+json": {
       "model_id": "0bc87edec0d64d8eb0fad067b4a2b9d8",
       "version_major": 2,
       "version_minor": 0
      },
      "text/plain": [
       "Parsing Locations In mb:   0%|          | 0/46 [00:00<?, ?it/s]"
      ]
     },
     "metadata": {},
     "output_type": "display_data"
    },
    {
     "name": "stdout",
     "output_type": "stream",
     "text": [
      "https://restaurants.subway.com/canada/mb/winnipeg/393-portage-ave\n",
      "https://restaurants.subway.com/canada/mb/winnipeg/747-corydon-ave\n",
      "https://restaurants.subway.com/canada/mb/winnipeg/can-west-globel-park\n"
     ]
    },
    {
     "data": {
      "application/vnd.jupyter.widget-view+json": {
       "model_id": "fa996195a267476cafc8ae1daadece36",
       "version_major": 2,
       "version_minor": 0
      },
      "text/plain": [
       "Parsing Locations In nb:   0%|          | 0/41 [00:00<?, ?it/s]"
      ]
     },
     "metadata": {},
     "output_type": "display_data"
    },
    {
     "name": "stdout",
     "output_type": "stream",
     "text": [
      "https://restaurants.subway.com/canada/nb/bathurst/310-vanier-blvd\n",
      "https://restaurants.subway.com/canada/nb/miramichi/186-king-st\n",
      "https://restaurants.subway.com/canada/nb/moncton/2731-mountain-road\n"
     ]
    },
    {
     "data": {
      "application/vnd.jupyter.widget-view+json": {
       "model_id": "ad26c727c24e479ba021d7175057aacb",
       "version_major": 2,
       "version_minor": 0
      },
      "text/plain": [
       "Parsing Locations In nl:   0%|          | 0/27 [00:00<?, ?it/s]"
      ]
     },
     "metadata": {},
     "output_type": "display_data"
    },
    {
     "name": "stdout",
     "output_type": "stream",
     "text": [
      "https://restaurants.subway.com/canada/nl/st-johns/430-top-sail-rd\n",
      "https://restaurants.subway.com/canada/nl/st-anthony/46-48-west-street\n"
     ]
    },
    {
     "data": {
      "application/vnd.jupyter.widget-view+json": {
       "model_id": "6d834bee389b468580674cf214792d96",
       "version_major": 2,
       "version_minor": 0
      },
      "text/plain": [
       "Parsing Locations In nt:   0%|          | 0/1 [00:00<?, ?it/s]"
      ]
     },
     "metadata": {},
     "output_type": "display_data"
    },
    {
     "data": {
      "application/vnd.jupyter.widget-view+json": {
       "model_id": "b2152d8b6e324886a079c846c866cced",
       "version_major": 2,
       "version_minor": 0
      },
      "text/plain": [
       "Parsing Locations In ns:   0%|          | 0/46 [00:00<?, ?it/s]"
      ]
     },
     "metadata": {},
     "output_type": "display_data"
    },
    {
     "name": "stdout",
     "output_type": "stream",
     "text": [
      "https://restaurants.subway.com/canada/ns/dartmouth/100-ilsley-ave\n",
      "https://restaurants.subway.com/canada/ns/eastern-passage/71-cow-bay-rd\n",
      "https://restaurants.subway.com/canada/ns/eskasoni/4716-shore-road\n",
      "https://restaurants.subway.com/canada/ns/sydney/1102-kings-road\n"
     ]
    },
    {
     "data": {
      "application/vnd.jupyter.widget-view+json": {
       "model_id": "e2be2df85ce14c5da305d02ba36358d3",
       "version_major": 2,
       "version_minor": 0
      },
      "text/plain": [
       "Parsing Locations In on:   0%|          | 0/291 [00:00<?, ?it/s]"
      ]
     },
     "metadata": {},
     "output_type": "display_data"
    },
    {
     "name": "stdout",
     "output_type": "stream",
     "text": [
      "https://restaurants.subway.com/canada/on/arnprior/100-madawaska-blvd\n",
      "https://restaurants.subway.com/canada/on/brampton/2084-steeles-ave-e\n",
      "https://restaurants.subway.com/canada/on/brampton/490-bramalea-road\n",
      "https://restaurants.subway.com/canada/on/caledon/3005-charleston-side-road\n",
      "https://restaurants.subway.com/canada/on/cornwall/33-9th-street-east\n",
      "https://restaurants.subway.com/canada/on/etobicoke/300-browns-line\n",
      "https://restaurants.subway.com/canada/on/etobicoke/500-rexdale-blvd\n",
      "https://restaurants.subway.com/canada/on/glouester/1616-cyrville-road\n",
      "https://restaurants.subway.com/canada/on/guelph/765-woolwich-st\n",
      "https://restaurants.subway.com/canada/on/hamilton/114-york-blvd\n",
      "https://restaurants.subway.com/canada/on/hamilton/135-fennell-ave-w\n",
      "https://restaurants.subway.com/canada/on/hampton/2363-taunton-road-east\n",
      "https://restaurants.subway.com/canada/on/kaladar/10201-highway-41\n",
      "https://restaurants.subway.com/canada/on/kemptville/2600-county-road-43\n",
      "https://restaurants.subway.com/canada/on/london/266-epworth-avenue\n",
      "https://restaurants.subway.com/canada/on/london/3035-wonderland-rd-south\n",
      "https://restaurants.subway.com/canada/on/london/355-wellington-street\n",
      "https://restaurants.subway.com/canada/on/london/95-101-york-st\n",
      "https://restaurants.subway.com/canada/on/long-sault/39-long-sault-drive\n",
      "https://restaurants.subway.com/canada/on/mississauga/2855-derry-road-east\n",
      "https://restaurants.subway.com/canada/on/mississauga/3470-platinum-drive-unit40\n",
      "https://restaurants.subway.com/canada/on/mississauga/5019-spectrum-way\n",
      "https://restaurants.subway.com/canada/on/north-bay/100-college-blvd\n",
      "https://restaurants.subway.com/canada/on/north-bay/22-wing-hornell-heights\n",
      "https://restaurants.subway.com/canada/on/oakville/2525-prince-micheal-drive\n",
      "https://restaurants.subway.com/canada/on/oakville/3300-south-service-rd-west\n",
      "https://restaurants.subway.com/canada/on/oakville/511-maple-grove-drive\n",
      "https://restaurants.subway.com/canada/on/oshawa/1481-harmony-road-north\n",
      "https://restaurants.subway.com/canada/on/ottawa/365-laurier-ave-w\n",
      "https://restaurants.subway.com/canada/on/peterborough/360-george-st-n\n",
      "https://restaurants.subway.com/canada/on/peterborough/500-lansdowne-street-west\n",
      "https://restaurants.subway.com/canada/on/red-lake/11-hwy\n",
      "https://restaurants.subway.com/canada/on/richmond-hill/10885-leslie-street\n",
      "https://restaurants.subway.com/canada/on/ridgetown/10-erie-st-s\n",
      "https://restaurants.subway.com/canada/on/south-porcupine/93-harold-ave\n",
      "https://restaurants.subway.com/canada/on/st-catharine's/1812-sir-isaac-brock-way\n",
      "https://restaurants.subway.com/canada/on/stouffville/1076-hoover-park-dr\n",
      "https://restaurants.subway.com/canada/on/tecumseh/3025-manning-road\n",
      "https://restaurants.subway.com/canada/on/thornhill/10-disera-drive\n",
      "https://restaurants.subway.com/canada/on/thornhill/2300-john-st\n",
      "https://restaurants.subway.com/canada/on/thunder-bay/955-oliver-rd\n",
      "https://restaurants.subway.com/canada/on/tilbury/90-queen-st-n\n",
      "https://restaurants.subway.com/canada/on/toronto/1016-1/2-pape-avenue\n",
      "https://restaurants.subway.com/canada/on/toronto/1194-weston-rd\n",
      "https://restaurants.subway.com/canada/on/toronto/1489-bayview-ave\n",
      "https://restaurants.subway.com/canada/on/toronto/173-church-street\n",
      "https://restaurants.subway.com/canada/on/toronto/200-front-street-west\n",
      "https://restaurants.subway.com/canada/on/toronto/200-kings-st-e\n",
      "https://restaurants.subway.com/canada/on/toronto/209-victoria-st\n",
      "https://restaurants.subway.com/canada/on/toronto/24-richmond-st-east\n",
      "https://restaurants.subway.com/canada/on/toronto/2510-2592-finch-ave-west\n",
      "https://restaurants.subway.com/canada/on/toronto/3401-dufferin-street\n",
      "https://restaurants.subway.com/canada/on/toronto/4651-sheppard-avenue-east\n",
      "https://restaurants.subway.com/canada/on/toronto/626a-sheppard-avew(@bathurst)\n",
      "https://restaurants.subway.com/canada/on/toronto/6318-yonge-st\n",
      "https://restaurants.subway.com/canada/on/toronto/777-bay-st\n",
      "https://restaurants.subway.com/canada/on/vaughan/2180-steeles-ave-w\n",
      "https://restaurants.subway.com/canada/on/vaughan/9580-jane-street-55129-4\n",
      "https://restaurants.subway.com/canada/on/wasaga-beach/10-main-street\n",
      "https://restaurants.subway.com/canada/on/waterloo/75-university-avenue-west\n",
      "https://restaurants.subway.com/canada/on/windsor/2470-dougall-ave\n",
      "https://restaurants.subway.com/canada/on/windsor/2760-howard-ave\n"
     ]
    },
    {
     "data": {
      "application/vnd.jupyter.widget-view+json": {
       "model_id": "20b3826477824c57b6cd2f80aacb6e6e",
       "version_major": 2,
       "version_minor": 0
      },
      "text/plain": [
       "Parsing Locations In pe:   0%|          | 0/8 [00:00<?, ?it/s]"
      ]
     },
     "metadata": {},
     "output_type": "display_data"
    },
    {
     "data": {
      "application/vnd.jupyter.widget-view+json": {
       "model_id": "e156f66b77ca49919fccaedd33e5b58f",
       "version_major": 2,
       "version_minor": 0
      },
      "text/plain": [
       "Parsing Locations In qc:   0%|          | 0/269 [00:00<?, ?it/s]"
      ]
     },
     "metadata": {},
     "output_type": "display_data"
    },
    {
     "name": "stdout",
     "output_type": "stream",
     "text": [
      "https://restaurants.subway.com/canada/qc/alma/65-st-joseph\n",
      "https://restaurants.subway.com/canada/qc/bedford/77-principal-st\n",
      "https://restaurants.subway.com/canada/qc/boisbriand/4-boul-des-entreprises\n",
      "https://restaurants.subway.com/canada/qc/gatineau/120-blvd-de-l'hopital\n",
      "https://restaurants.subway.com/canada/qc/gatineau/177-boul-st-joseph\n",
      "https://restaurants.subway.com/canada/qc/gatineau/2335-rue-saint-louis\n",
      "https://restaurants.subway.com/canada/qc/gatineau/320-st-joseph-blvd\n",
      "https://restaurants.subway.com/canada/qc/hull/40-promenade-du-portage\n",
      "https://restaurants.subway.com/canada/qc/kirkland/2899-boul-st-charles\n",
      "https://restaurants.subway.com/canada/qc/lasalle/7814-boul-champlain\n",
      "https://restaurants.subway.com/canada/qc/laval/1120-le-corbusier-boulevard\n",
      "https://restaurants.subway.com/canada/qc/levis/1655-blvd-alphonse-desjardins\n",
      "https://restaurants.subway.com/canada/qc/longueuil/3137-boul-taschereau\n",
      "https://restaurants.subway.com/canada/qc/mont-royal/2305-chemin-rockland\n",
      "https://restaurants.subway.com/canada/qc/montreal/1000-sherbrooke-street-west\n",
      "https://restaurants.subway.com/canada/qc/montreal/1055-wellington-st\n",
      "https://restaurants.subway.com/canada/qc/montreal/120-henri-bourassa-o\n",
      "https://restaurants.subway.com/canada/qc/montreal/1430-stanley-st\n",
      "https://restaurants.subway.com/canada/qc/montreal/1450-guy-street\n",
      "https://restaurants.subway.com/canada/qc/montreal/1500-aveatwater\n",
      "https://restaurants.subway.com/canada/qc/montreal/3250-boul-henri-bourassa-estates\n",
      "https://restaurants.subway.com/canada/qc/montreal/400-jean-talon-estates\n",
      "https://restaurants.subway.com/canada/qc/montreal/417-mont-royal-east\n",
      "https://restaurants.subway.com/canada/qc/montreal/4507-rue-beaubien-east\n",
      "https://restaurants.subway.com/canada/qc/montreal/5047-saint-denis\n",
      "https://restaurants.subway.com/canada/qc/montreal/625-sainte-catherine-st-west\n",
      "https://restaurants.subway.com/canada/qc/montreal/635-avepresident-kennedy\n",
      "https://restaurants.subway.com/canada/qc/montreal/6448-papineau\n",
      "https://restaurants.subway.com/canada/qc/montreal/7780-rue-sherbrooke-estates\n",
      "https://restaurants.subway.com/canada/qc/montreal/853-sherbrooke-st-west\n",
      "https://restaurants.subway.com/canada/qc/pierrefonds/14359-pierrefonds-boulevard\n",
      "https://restaurants.subway.com/canada/qc/pincourt/103b-cardinal-leger\n",
      "https://restaurants.subway.com/canada/qc/prevost/3029-labelle-blvd\n",
      "https://restaurants.subway.com/canada/qc/saint-laurent/821-sainte-croix\n",
      "https://restaurants.subway.com/canada/qc/sorel-tracy/990-boulevard-marie-victorin\n",
      "https://restaurants.subway.com/canada/qc/st-georges/11575-1st-avenue-east\n",
      "https://restaurants.subway.com/canada/qc/st-andre-avellin/225-rue-principale\n",
      "https://restaurants.subway.com/canada/qc/st-leonard/4845-rue-jean-talon-e\n",
      "https://restaurants.subway.com/canada/qc/st-nicephore/4522-st-joseph-blvd\n",
      "https://restaurants.subway.com/canada/qc/st-polycarpe/144-chemin-suite-catherine\n",
      "https://restaurants.subway.com/canada/qc/ste-anne-de-bellevue/103-st-anne-st\n",
      "https://restaurants.subway.com/canada/qc/ste-therese/20-blainville-st-west\n",
      "https://restaurants.subway.com/canada/qc/trois-rivieres/4350-gene-h-kruger\n",
      "https://restaurants.subway.com/canada/qc/vaudreuil-dorion/401-harwood\n",
      "https://restaurants.subway.com/canada/qc/ville-marie/26-b-des-oblats-nord\n",
      "https://restaurants.subway.com/canada/qc/weedon/495-2e-avenue\n"
     ]
    },
    {
     "data": {
      "application/vnd.jupyter.widget-view+json": {
       "model_id": "1f9664cdc9a7490da9f43c6d8bc10ba1",
       "version_major": 2,
       "version_minor": 0
      },
      "text/plain": [
       "Parsing Locations In sk:   0%|          | 0/71 [00:00<?, ?it/s]"
      ]
     },
     "metadata": {},
     "output_type": "display_data"
    },
    {
     "data": {
      "application/vnd.jupyter.widget-view+json": {
       "model_id": "bfb4880654e1430fb2e0d3334896fc05",
       "version_major": 2,
       "version_minor": 0
      },
      "text/plain": [
       "Parsing Locations In yt:   0%|          | 0/1 [00:00<?, ?it/s]"
      ]
     },
     "metadata": {},
     "output_type": "display_data"
    }
   ],
   "source": [
    "count_dict = {}\n",
    "store_list = []\n",
    "\n",
    "canada_url = \"https://restaurants.subway.com/canada\"\n",
    "r = scraper.get(canada_url)\n",
    "soup = BeautifulSoup(r.text, \"html.parser\")\n",
    "province_as = soup.find_all(\"a\", {\"class\": \"Directory-listLink\"})[:-1]\n",
    "\n",
    "for province_a in tqdm(province_as, desc=\"Parsing States\"):\n",
    "    # Get Url\n",
    "    href = province_a[\"href\"]\n",
    "    state_code = href.split(\"/\")[1]\n",
    "    province_url = os.path.join(\"https://restaurants.subway.com/canada\", state_code)\n",
    "\n",
    "    # Get State code\n",
    "    state_store_list = []\n",
    "\n",
    "    # If File exists continue\n",
    "    if os.path.isfile(f\"data/states/{state_code}.gpkg\"):\n",
    "        continue\n",
    "\n",
    "    state_r = scraper.get(province_url)\n",
    "\n",
    "    if state_r.status_code != 200:\n",
    "        print(province_url)\n",
    "        continue\n",
    "\n",
    "    soup_state = BeautifulSoup(state_r.text, \"html.parser\")\n",
    "    locations_as = soup_state.find_all(\"a\", {\"class\": \"Directory-listLink\"})\n",
    "\n",
    "    # Parse all locations in a state\n",
    "    for locations_a in tqdm(locations_as, desc=f\"Parsing Locations In {state_code}\"):\n",
    "        href = locations_a.attrs[\"href\"]\n",
    "        count = int(re.findall(r\"\\d+\", locations_a.attrs[\"data-count\"])[0])\n",
    "        location_url = href.replace(\"..\", url_root)\n",
    "        if count == 1:\n",
    "            r_location = scraper.get(location_url)\n",
    "            location_soup = BeautifulSoup(r_location.text, \"html.parser\")\n",
    "            tbody = location_soup.find(\"tbody\")\n",
    "            schedule = list(\n",
    "                set(\n",
    "                    [\n",
    "                        td.text\n",
    "                        for td in tbody.find_all(\n",
    "                            \"td\", {\"class\": \"c-hours-details-row-intervals\"}\n",
    "                        )\n",
    "                    ]\n",
    "                )\n",
    "            )\n",
    "            if len(schedule) == 1 and schedule[0] == \"Closed\":\n",
    "                print(location_url)\n",
    "                continue\n",
    "            point = get_coords(location_soup)\n",
    "            store_dict = {\n",
    "                \"STATE\": state_code,\n",
    "                \"geometry\": point,\n",
    "            }\n",
    "            store_list.append(store_dict)\n",
    "            state_store_list.append(store_dict)\n",
    "        else:\n",
    "            r_location = scraper.get(location_url)\n",
    "            location_soup = BeautifulSoup(r_location.text, \"html.parser\")\n",
    "            locations_divs = location_soup.find_all(\n",
    "                \"div\", {\"class\": \"Teaser-innerWrapper\"}\n",
    "            )\n",
    "\n",
    "            # Multiple stores in locations, parse the stores per location\n",
    "            for location_div in locations_divs:\n",
    "                try:\n",
    "                    location_a = location_div.find(\"a\")\n",
    "                    location_url = location_a.attrs[\"href\"].replace(\"../..\", url_root)\n",
    "                    r_store = scraper.get(location_url)\n",
    "                    store_soup = BeautifulSoup(r_store.text, \"html.parser\")\n",
    "                    tbody = store_soup.find(\"tbody\")\n",
    "                    schedule = list(\n",
    "                        set(\n",
    "                            [\n",
    "                                td.text\n",
    "                                for td in tbody.find_all(\n",
    "                                    \"td\", {\"class\": \"c-hours-details-row-intervals\"}\n",
    "                                )\n",
    "                            ]\n",
    "                        )\n",
    "                    )\n",
    "                    if len(schedule) == 1 and schedule[0] == \"Closed\":\n",
    "                        print(location_url)\n",
    "                        continue\n",
    "                    point = get_coords(store_soup)\n",
    "                    store_dict = {\n",
    "                        \"STATE\": state_code,\n",
    "                        \"geometry\": point,\n",
    "                    }\n",
    "                    store_list.append(store_dict)\n",
    "                    state_store_list.append(store_dict)\n",
    "                except Exception as e:\n",
    "                    print(e, location_url)\n",
    "\n",
    "    if state_store_list:\n",
    "        subway_state_gdf = gpd.GeoDataFrame(state_store_list, crs=4326)\n",
    "        subway_state_gdf.to_file(f\"data/states/{state_code}.gpkg\")\n",
    "\n",
    "    time.sleep(random.uniform(0.01, 0.25))"
   ]
  },
  {
   "cell_type": "code",
   "execution_count": 56,
   "id": "95883a0c-210f-4b3c-90ee-2cb376830f48",
   "metadata": {},
   "outputs": [],
   "source": [
    "subway_gdfs = []\n",
    "states_path = \"data/states\"\n",
    "for file in os.listdir(\"data/states\"):\n",
    "    constructed_path = os.path.join(states_path, file)\n",
    "    if constructed_path.endswith(\".gpkg\"):\n",
    "        subway_gdf = gpd.read_file(constructed_path)\n",
    "        subway_gdfs.append(subway_gdf)"
   ]
  },
  {
   "cell_type": "code",
   "execution_count": 57,
   "id": "cc9f2287-bb86-4e94-9f80-7020e8581aa4",
   "metadata": {},
   "outputs": [],
   "source": [
    "subway_gdf = gpd.GeoDataFrame(pd.concat(subway_gdfs, ignore_index=True))\n",
    "subway_gdf = subway_gdf.to_crs(9311)\n",
    "subway_gdf.to_file(f\"data/stores.gpkg\")"
   ]
  },
  {
   "cell_type": "code",
   "execution_count": 95,
   "id": "e5c127b9-6673-48b6-83c1-f29a707e5de8",
   "metadata": {},
   "outputs": [],
   "source": [
    "subways_by_state_df = pd.DataFrame(\n",
    "    {\n",
    "        \"STUSPS\": subway_by_state_series.index,\n",
    "        \"COUNT\": subway_by_state_series.values,\n",
    "    }\n",
    ")"
   ]
  },
  {
   "cell_type": "markdown",
   "id": "2c7828d8-fbc4-4220-948e-f5f161abc27b",
   "metadata": {},
   "source": [
    "## Merge Data"
   ]
  },
  {
   "cell_type": "code",
   "execution_count": 97,
   "id": "8cc50fd2-6e9b-4df7-a713-38019920b315",
   "metadata": {},
   "outputs": [],
   "source": [
    "province_ref_dict = {\n",
    "    \"Newfoundland and Labrador\": \"nl\",\n",
    "    \"Prince Edward Island\": \"pe\",\n",
    "    \"Nova Scotia\": \"ns\",\n",
    "    \"New Brunswick\": \"nb\",\n",
    "    \"Quebec\": \"qc\",\n",
    "    \"Ontario\": \"on\",\n",
    "    \"Manitoba\": \"mb\",\n",
    "    \"Saskatchewan\": \"sk\",\n",
    "    \"Alberta\": \"ab\",\n",
    "    \"British Columbia\": \"bc\",\n",
    "    \"Yukon\": \"yt\",\n",
    "    \"Northwest Territories\": \"nt\",\n",
    "    \"Nunavut\": \"nu\",\n",
    "}"
   ]
  },
  {
   "cell_type": "code",
   "execution_count": 102,
   "id": "76be8234-7c12-46e1-a1a6-5cf5e7ff20fc",
   "metadata": {},
   "outputs": [],
   "source": [
    "ref_df = pd.DataFrame(province_ref_dict.items(), columns=[\"Geography\", \"STUSPS\"])"
   ]
  },
  {
   "cell_type": "code",
   "execution_count": 107,
   "id": "034d7299-287b-42c6-9ca2-0225a6a6f4fe",
   "metadata": {},
   "outputs": [],
   "source": [
    "subway_population_gdf = states_population_gdf.merge(\n",
    "    subways_by_state_df.merge(ref_df, on=\"STUSPS\", how=\"inner\"),\n",
    "    on=\"Geography\",\n",
    "    how=\"inner\",\n",
    ")"
   ]
  },
  {
   "cell_type": "code",
   "execution_count": 18,
   "id": "8e8b581c-4e0c-40b8-81a9-4ea014470b40",
   "metadata": {},
   "outputs": [],
   "source": [
    "subway_population_gdf[\"per_100k\"] = (\n",
    "    (subway_population_gdf[\"COUNT\"] / (subway_population_gdf[\"POPULATION\"] / 100000))\n",
    "    .round(decimals=0)\n",
    "    .astype(int)\n",
    ")\n",
    "\n",
    "subway_population_gdf[\"per_1m\"] = (\n",
    "    (subway_population_gdf[\"COUNT\"] / (subway_population_gdf[\"POPULATION\"] / 1_000_000))\n",
    "    .round(decimals=0)\n",
    "    .astype(int)\n",
    ")"
   ]
  },
  {
   "cell_type": "code",
   "execution_count": 19,
   "id": "237a0e6a-ccc2-4f3b-baad-d36ce4ecc481",
   "metadata": {},
   "outputs": [],
   "source": [
    "subways_by_states_gdf = subways_by_states_gdf.dropna()"
   ]
  },
  {
   "cell_type": "code",
   "execution_count": 21,
   "id": "944acfaa-313b-4a9f-aecc-53fe95e188be",
   "metadata": {},
   "outputs": [],
   "source": [
    "subways_by_states_gdf = subways_by_states_gdf.to_crs(9311)\n",
    "subways_by_states_gdf.to_file(f\"data/stores_by_states.gpkg\")"
   ]
  },
  {
   "cell_type": "code",
   "execution_count": null,
   "id": "4857fb82-2869-4020-8a57-c1983c9055b6",
   "metadata": {},
   "outputs": [],
   "source": []
  }
 ],
 "metadata": {
  "kernelspec": {
   "display_name": "Python 3 (ipykernel)",
   "language": "python",
   "name": "python3"
  },
  "language_info": {
   "codemirror_mode": {
    "name": "ipython",
    "version": 3
   },
   "file_extension": ".py",
   "mimetype": "text/x-python",
   "name": "python",
   "nbconvert_exporter": "python",
   "pygments_lexer": "ipython3",
   "version": "3.11.11"
  }
 },
 "nbformat": 4,
 "nbformat_minor": 5
}
