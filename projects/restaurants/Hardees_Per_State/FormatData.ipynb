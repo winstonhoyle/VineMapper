{
 "cells": [
  {
   "cell_type": "code",
   "execution_count": 11,
   "id": "b204414f-bb97-4de5-8393-8a83aa996be2",
   "metadata": {},
   "outputs": [],
   "source": [
    "import os\n",
    "import random\n",
    "import time"
   ]
  },
  {
   "cell_type": "code",
   "execution_count": 12,
   "id": "bc436e38-234d-44fd-b67b-d1f2974606d3",
   "metadata": {},
   "outputs": [],
   "source": [
    "from bs4 import BeautifulSoup\n",
    "import cloudscraper\n",
    "import geopandas as gpd\n",
    "import numpy as np\n",
    "import pandas as pd"
   ]
  },
  {
   "cell_type": "code",
   "execution_count": 13,
   "id": "13bbdea5-6ae9-4a3a-937a-12bb704da0f4",
   "metadata": {},
   "outputs": [],
   "source": [
    "from shapely.geometry import Point\n",
    "from tqdm.notebook import tqdm"
   ]
  },
  {
   "cell_type": "markdown",
   "id": "44a3df26-78d3-479c-99a2-c0e1ba91352e",
   "metadata": {},
   "source": [
    "## Get State Data"
   ]
  },
  {
   "cell_type": "code",
   "execution_count": 14,
   "id": "615eeabf-033b-425a-a81f-d7b4dd9e3a3e",
   "metadata": {},
   "outputs": [],
   "source": [
    "file_path = \"data/cb_2018_us_state_500k/cb_2018_us_state_500k.shp\"\n",
    "states_df = gpd.read_file(file_path)"
   ]
  },
  {
   "cell_type": "code",
   "execution_count": 15,
   "id": "502c6bfe-0912-4d37-95b0-47e7a14b468f",
   "metadata": {},
   "outputs": [],
   "source": [
    "states_df = states_df[[\"STUSPS\", \"NAME\", \"geometry\"]]"
   ]
  },
  {
   "cell_type": "markdown",
   "id": "4257620c-13d7-4071-bae2-a5a2aeae5ba7",
   "metadata": {},
   "source": [
    "## Get Population data"
   ]
  },
  {
   "cell_type": "code",
   "execution_count": 16,
   "id": "6c0e7a1d-5a9a-4c10-a5d4-28dc681a8a27",
   "metadata": {},
   "outputs": [],
   "source": [
    "state_populations = pd.read_excel(\n",
    "    \"data/NST-EST2024-POP.xlsx\", sheet_name=None, engine=\"openpyxl\"\n",
    ")"
   ]
  },
  {
   "cell_type": "code",
   "execution_count": 17,
   "id": "2614c2ab-96ec-4304-a287-6fd013fedbbb",
   "metadata": {},
   "outputs": [],
   "source": [
    "state_populations_df = state_populations[\"NST-EST2024-POP\"][\n",
    "    [\n",
    "        \"table with row headers in column A and column headers in rows 3 through 4. (leading dots indicate sub-parts)\",\n",
    "        \"Unnamed: 5\",\n",
    "    ]\n",
    "]\n",
    "state_populations_df = state_populations_df.rename(\n",
    "    columns={\n",
    "        \"table with row headers in column A and column headers in rows 3 through 4. (leading dots indicate sub-parts)\": \"NAME\",\n",
    "        \"Unnamed: 5\": \"POPULATION\",\n",
    "    }\n",
    ")\n",
    "state_populations_df[\"NAME\"] = state_populations_df[\"NAME\"].str[1:]"
   ]
  },
  {
   "cell_type": "code",
   "execution_count": 18,
   "id": "2a1a8b6e-a0bf-486b-b62e-46a23ca718e2",
   "metadata": {},
   "outputs": [],
   "source": [
    "states_with_population_df = states_df.merge(state_populations_df, on=\"NAME\", how=\"left\")\n",
    "states_with_population_df = states_with_population_df[\n",
    "    [\"STUSPS\", \"NAME\", \"POPULATION\", \"geometry\"]\n",
    "]"
   ]
  },
  {
   "cell_type": "markdown",
   "id": "6d2f1ce9-a36c-4292-99a0-ad42032c5ad4",
   "metadata": {},
   "source": [
    "## Get Hardees Data"
   ]
  },
  {
   "cell_type": "code",
   "execution_count": 19,
   "id": "9faa75ce-1dcd-44bc-84f2-6eb1011f9727",
   "metadata": {},
   "outputs": [],
   "source": [
    "scraper = cloudscraper.create_scraper()"
   ]
  },
  {
   "cell_type": "code",
   "execution_count": 21,
   "id": "57180847-49ee-46cc-9612-bfebcd53bed2",
   "metadata": {},
   "outputs": [
    {
     "data": {
      "application/vnd.jupyter.widget-view+json": {
       "model_id": "7f81d578013340d297da8fc40d399214",
       "version_major": 2,
       "version_minor": 0
      },
      "text/plain": [
       "Parsing States:   0%|          | 0/31 [00:00<?, ?it/s]"
      ]
     },
     "metadata": {},
     "output_type": "display_data"
    },
    {
     "data": {
      "application/vnd.jupyter.widget-view+json": {
       "model_id": "645ae37d9fbb4ddc9742427e7c11e849",
       "version_major": 2,
       "version_minor": 0
      },
      "text/plain": [
       "Parsing Locations In AL:   0%|          | 0/78 [00:00<?, ?it/s]"
      ]
     },
     "metadata": {},
     "output_type": "display_data"
    },
    {
     "data": {
      "application/vnd.jupyter.widget-view+json": {
       "model_id": "01ac090fd79248daa6f893167c591478",
       "version_major": 2,
       "version_minor": 0
      },
      "text/plain": [
       "Parsing Locations In AR:   0%|          | 0/20 [00:00<?, ?it/s]"
      ]
     },
     "metadata": {},
     "output_type": "display_data"
    },
    {
     "data": {
      "application/vnd.jupyter.widget-view+json": {
       "model_id": "c747b7cf8d9d4438bf627986b11bec3a",
       "version_major": 2,
       "version_minor": 0
      },
      "text/plain": [
       "Parsing Locations In DE:   0%|          | 0/9 [00:00<?, ?it/s]"
      ]
     },
     "metadata": {},
     "output_type": "display_data"
    },
    {
     "data": {
      "application/vnd.jupyter.widget-view+json": {
       "model_id": "a10cef5decb243579d2b8f3c2490dd50",
       "version_major": 2,
       "version_minor": 0
      },
      "text/plain": [
       "Parsing Locations In FL:   0%|          | 0/73 [00:00<?, ?it/s]"
      ]
     },
     "metadata": {},
     "output_type": "display_data"
    },
    {
     "data": {
      "application/vnd.jupyter.widget-view+json": {
       "model_id": "416e157544cd465091dd5adf0321f18d",
       "version_major": 2,
       "version_minor": 0
      },
      "text/plain": [
       "Parsing Locations In IN:   0%|          | 0/52 [00:00<?, ?it/s]"
      ]
     },
     "metadata": {},
     "output_type": "display_data"
    },
    {
     "data": {
      "application/vnd.jupyter.widget-view+json": {
       "model_id": "38e8b88c7488408daee9f3ceb045fecf",
       "version_major": 2,
       "version_minor": 0
      },
      "text/plain": [
       "Parsing Locations In KS:   0%|          | 0/8 [00:00<?, ?it/s]"
      ]
     },
     "metadata": {},
     "output_type": "display_data"
    },
    {
     "data": {
      "application/vnd.jupyter.widget-view+json": {
       "model_id": "05cf0bfcd1d9441d9b6000c7f46da896",
       "version_major": 2,
       "version_minor": 0
      },
      "text/plain": [
       "Parsing Locations In KY:   0%|          | 0/62 [00:00<?, ?it/s]"
      ]
     },
     "metadata": {},
     "output_type": "display_data"
    },
    {
     "data": {
      "application/vnd.jupyter.widget-view+json": {
       "model_id": "ecf2d1838589492c9d8c42a134b2e7ee",
       "version_major": 2,
       "version_minor": 0
      },
      "text/plain": [
       "Parsing Locations In LA:   0%|          | 0/3 [00:00<?, ?it/s]"
      ]
     },
     "metadata": {},
     "output_type": "display_data"
    },
    {
     "data": {
      "application/vnd.jupyter.widget-view+json": {
       "model_id": "73c9c950ffd64385bf021ae9c56b186c",
       "version_major": 2,
       "version_minor": 0
      },
      "text/plain": [
       "Parsing Locations In MD:   0%|          | 0/13 [00:00<?, ?it/s]"
      ]
     },
     "metadata": {},
     "output_type": "display_data"
    },
    {
     "data": {
      "application/vnd.jupyter.widget-view+json": {
       "model_id": "9de411421127442e8f32bac701c245de",
       "version_major": 2,
       "version_minor": 0
      },
      "text/plain": [
       "Parsing Locations In MI:   0%|          | 0/15 [00:00<?, ?it/s]"
      ]
     },
     "metadata": {},
     "output_type": "display_data"
    },
    {
     "data": {
      "application/vnd.jupyter.widget-view+json": {
       "model_id": "9a17faffc37b4eb285ed9c48628acc66",
       "version_major": 2,
       "version_minor": 0
      },
      "text/plain": [
       "Parsing Locations In MN:   0%|          | 0/32 [00:00<?, ?it/s]"
      ]
     },
     "metadata": {},
     "output_type": "display_data"
    },
    {
     "data": {
      "application/vnd.jupyter.widget-view+json": {
       "model_id": "3f700e3950af4aa299e942ac251d5886",
       "version_major": 2,
       "version_minor": 0
      },
      "text/plain": [
       "Parsing Locations In MO:   0%|          | 0/55 [00:00<?, ?it/s]"
      ]
     },
     "metadata": {},
     "output_type": "display_data"
    },
    {
     "data": {
      "application/vnd.jupyter.widget-view+json": {
       "model_id": "88f1a37877f1409db957f6ced69f0f66",
       "version_major": 2,
       "version_minor": 0
      },
      "text/plain": [
       "Parsing Locations In MS:   0%|          | 0/34 [00:00<?, ?it/s]"
      ]
     },
     "metadata": {},
     "output_type": "display_data"
    },
    {
     "data": {
      "application/vnd.jupyter.widget-view+json": {
       "model_id": "2991943d7697450c99338497f3ad346c",
       "version_major": 2,
       "version_minor": 0
      },
      "text/plain": [
       "Parsing Locations In MT:   0%|          | 0/5 [00:00<?, ?it/s]"
      ]
     },
     "metadata": {},
     "output_type": "display_data"
    },
    {
     "data": {
      "application/vnd.jupyter.widget-view+json": {
       "model_id": "1b3aa29d13f642118099b9290570609d",
       "version_major": 2,
       "version_minor": 0
      },
      "text/plain": [
       "Parsing Locations In NC:   0%|          | 0/170 [00:00<?, ?it/s]"
      ]
     },
     "metadata": {},
     "output_type": "display_data"
    },
    {
     "data": {
      "application/vnd.jupyter.widget-view+json": {
       "model_id": "7df4debdedab44cf85034ccf1b3d89ce",
       "version_major": 2,
       "version_minor": 0
      },
      "text/plain": [
       "Parsing Locations In ND:   0%|          | 0/9 [00:00<?, ?it/s]"
      ]
     },
     "metadata": {},
     "output_type": "display_data"
    },
    {
     "data": {
      "application/vnd.jupyter.widget-view+json": {
       "model_id": "2fb98780bf0d4767a86196e5496919bb",
       "version_major": 2,
       "version_minor": 0
      },
      "text/plain": [
       "Parsing Locations In NE:   0%|          | 0/6 [00:00<?, ?it/s]"
      ]
     },
     "metadata": {},
     "output_type": "display_data"
    },
    {
     "data": {
      "application/vnd.jupyter.widget-view+json": {
       "model_id": "e994ba8fc38549e289b035918897adf2",
       "version_major": 2,
       "version_minor": 0
      },
      "text/plain": [
       "Parsing Locations In NY:   0%|          | 0/1 [00:00<?, ?it/s]"
      ]
     },
     "metadata": {},
     "output_type": "display_data"
    },
    {
     "data": {
      "application/vnd.jupyter.widget-view+json": {
       "model_id": "a304c8871a2a493083d89622d6ead9fa",
       "version_major": 2,
       "version_minor": 0
      },
      "text/plain": [
       "Parsing Locations In OH:   0%|          | 0/34 [00:00<?, ?it/s]"
      ]
     },
     "metadata": {},
     "output_type": "display_data"
    },
    {
     "data": {
      "application/vnd.jupyter.widget-view+json": {
       "model_id": "49fe7dbde56f4eceb6bce8fbffec8943",
       "version_major": 2,
       "version_minor": 0
      },
      "text/plain": [
       "Parsing Locations In OK:   0%|          | 0/1 [00:00<?, ?it/s]"
      ]
     },
     "metadata": {},
     "output_type": "display_data"
    },
    {
     "data": {
      "application/vnd.jupyter.widget-view+json": {
       "model_id": "97953c6ba91840abac3d1e843712d2f6",
       "version_major": 2,
       "version_minor": 0
      },
      "text/plain": [
       "Parsing Locations In PA:   0%|          | 0/14 [00:00<?, ?it/s]"
      ]
     },
     "metadata": {},
     "output_type": "display_data"
    },
    {
     "data": {
      "application/vnd.jupyter.widget-view+json": {
       "model_id": "4f309dc266a340dba5750ba9dce5b30d",
       "version_major": 2,
       "version_minor": 0
      },
      "text/plain": [
       "Parsing Locations In SC:   0%|          | 0/92 [00:00<?, ?it/s]"
      ]
     },
     "metadata": {},
     "output_type": "display_data"
    },
    {
     "data": {
      "application/vnd.jupyter.widget-view+json": {
       "model_id": "ca179eee0f9d4156829e00d8033b0f29",
       "version_major": 2,
       "version_minor": 0
      },
      "text/plain": [
       "Parsing Locations In SD:   0%|          | 0/6 [00:00<?, ?it/s]"
      ]
     },
     "metadata": {},
     "output_type": "display_data"
    },
    {
     "data": {
      "application/vnd.jupyter.widget-view+json": {
       "model_id": "8f46d5571b9d46cfb4702af382e1d0ac",
       "version_major": 2,
       "version_minor": 0
      },
      "text/plain": [
       "Parsing Locations In TN:   0%|          | 0/108 [00:00<?, ?it/s]"
      ]
     },
     "metadata": {},
     "output_type": "display_data"
    },
    {
     "data": {
      "application/vnd.jupyter.widget-view+json": {
       "model_id": "7145de7355ee4ae69c4b42bff7346e11",
       "version_major": 2,
       "version_minor": 0
      },
      "text/plain": [
       "Parsing Locations In VA:   0%|          | 0/110 [00:00<?, ?it/s]"
      ]
     },
     "metadata": {},
     "output_type": "display_data"
    },
    {
     "data": {
      "application/vnd.jupyter.widget-view+json": {
       "model_id": "4de2f78c5a6b41ab82d3ae4cd7a0b0e0",
       "version_major": 2,
       "version_minor": 0
      },
      "text/plain": [
       "Parsing Locations In WI:   0%|          | 0/31 [00:00<?, ?it/s]"
      ]
     },
     "metadata": {},
     "output_type": "display_data"
    },
    {
     "data": {
      "application/vnd.jupyter.widget-view+json": {
       "model_id": "bc6ed1555062424b836a3d08eda72a3e",
       "version_major": 2,
       "version_minor": 0
      },
      "text/plain": [
       "Parsing Locations In WV:   0%|          | 0/20 [00:00<?, ?it/s]"
      ]
     },
     "metadata": {},
     "output_type": "display_data"
    },
    {
     "data": {
      "application/vnd.jupyter.widget-view+json": {
       "model_id": "2e83b3ec7f3040ae9373a644247d0988",
       "version_major": 2,
       "version_minor": 0
      },
      "text/plain": [
       "Parsing Locations In WY:   0%|          | 0/2 [00:00<?, ?it/s]"
      ]
     },
     "metadata": {},
     "output_type": "display_data"
    }
   ],
   "source": [
    "store_list = []\n",
    "url_base = \"https://locations.hardees.com/\"\n",
    "r = scraper.get(url_base)\n",
    "states_soup = BeautifulSoup(r.text, \"html.parser\")\n",
    "states_a = states_soup.find_all(\"a\", {\"class\": \"Directory-listLink\"})\n",
    "for state_a in tqdm(states_a, desc=\"Parsing States\"):\n",
    "    state_name = state_a.text\n",
    "    state_url = state_a.attrs[\"href\"]\n",
    "    state_code = states_with_population_df[\n",
    "        states_with_population_df[\"NAME\"] == state_name\n",
    "    ].iloc[0][\"STUSPS\"]\n",
    "\n",
    "    # Get State code\n",
    "    state_store_list = []\n",
    "\n",
    "    # If File exists continue\n",
    "    if os.path.isfile(f\"data/states/{state_code}.gpkg\"):\n",
    "        continue\n",
    "\n",
    "    # Get all locations in a state\n",
    "    r_state_locations = scraper.get(state_url)\n",
    "\n",
    "    if r_state_locations.status_code != 200:\n",
    "        print(state_code)\n",
    "        continue\n",
    "\n",
    "    state_locations_soup = BeautifulSoup(r_state_locations.text, \"html.parser\")\n",
    "    locations_as = state_locations_soup.find_all(\"a\", {\"class\": \"Directory-listLink\"})\n",
    "\n",
    "    # Parse all locations in a state\n",
    "    for locations_a in tqdm(locations_as, desc=f\"Parsing Locations In {state_code}\"):\n",
    "        location_url = locations_a.attrs[\"href\"]\n",
    "\n",
    "        r_location = scraper.get(location_url)\n",
    "        location_soup = BeautifulSoup(r_location.text, \"html.parser\")\n",
    "        store_as = location_soup.find_all(\"a\", {\"class\": \"Teaser-ctaLink\"})\n",
    "\n",
    "        # Parse through all stores\n",
    "        for store_a in store_as:\n",
    "            store_url = store_a.attrs[\"href\"]\n",
    "            r_store = scraper.get(store_url)\n",
    "            store_soup = BeautifulSoup(r_store.text, \"html.parser\")\n",
    "\n",
    "            try:\n",
    "                lat = float(\n",
    "                    store_soup.find(\n",
    "                        \"meta\", {\"property\": \"place:location:latitude\"}\n",
    "                    ).attrs[\"content\"]\n",
    "                )\n",
    "                lon = float(\n",
    "                    store_soup.find(\n",
    "                        \"meta\", {\"property\": \"place:location:longitude\"}\n",
    "                    ).attrs[\"content\"]\n",
    "                )\n",
    "            except Exception as e:\n",
    "                print(e)\n",
    "                print(store_url)\n",
    "            point = Point(lon, lat)\n",
    "            store_dict = {\n",
    "                \"STATE\": state_code,\n",
    "                \"geometry\": point,\n",
    "            }\n",
    "            store_list.append(store_dict)\n",
    "            state_store_list.append(store_dict)\n",
    "            time.sleep(random.uniform(0.01, 0.5))\n",
    "    if state_store_list:\n",
    "        hardees_state_gdf = gpd.GeoDataFrame(state_store_list, crs=4326)\n",
    "        hardees_state_gdf.to_file(f\"data/states/{state_code}.gpkg\")"
   ]
  },
  {
   "cell_type": "markdown",
   "id": "f2e1d560-e60f-4655-9502-3ba103884809",
   "metadata": {},
   "source": [
    "#### If the above cells breaks just keep running until complete. Then run the line below"
   ]
  },
  {
   "cell_type": "code",
   "execution_count": 22,
   "id": "48487d99-9fc6-4650-9192-c142c5d86cc3",
   "metadata": {},
   "outputs": [],
   "source": [
    "hardees_state_gdfs = []\n",
    "states_path = \"data/states\"\n",
    "for file in os.listdir(\"data/states\"):\n",
    "    constructed_path = os.path.join(states_path, file)\n",
    "    if constructed_path.endswith(\".gpkg\"):\n",
    "        state_hardees_gdf = gpd.read_file(constructed_path)\n",
    "        hardees_state_gdfs.append(state_hardees_gdf)"
   ]
  },
  {
   "cell_type": "code",
   "execution_count": 23,
   "id": "4700ceff-80d8-4b4a-97af-f6d9c801c052",
   "metadata": {},
   "outputs": [],
   "source": [
    "hardees_state_gdf = gpd.GeoDataFrame(pd.concat(hardees_state_gdfs, ignore_index=True))"
   ]
  },
  {
   "cell_type": "code",
   "execution_count": 24,
   "id": "30cdf6ab-4324-457b-bfc1-215c1c9fe2ce",
   "metadata": {},
   "outputs": [],
   "source": [
    "hardees_state_gdf = hardees_state_gdf.to_crs(9311)\n",
    "hardees_state_gdf.to_file(f\"data/hardees.gpkg\")"
   ]
  },
  {
   "cell_type": "markdown",
   "id": "94cb32a2-faf0-40fa-8616-e8f2275eca72",
   "metadata": {},
   "source": [
    "## Combine With States"
   ]
  },
  {
   "cell_type": "code",
   "execution_count": 25,
   "id": "eba6646a-fb99-4d01-9b3f-adf29223cb03",
   "metadata": {},
   "outputs": [],
   "source": [
    "hardees_state_counts_series = hardees_state_gdf.groupby(\"STATE\").size()\n",
    "hardees_state_state_counts_df = pd.DataFrame(\n",
    "    {\n",
    "        \"STUSPS\": hardees_state_counts_series.index,\n",
    "        \"stores\": hardees_state_counts_series.values,\n",
    "    }\n",
    ")"
   ]
  },
  {
   "cell_type": "code",
   "execution_count": 26,
   "id": "d0d5933d-9164-47af-8cd6-95632ca56726",
   "metadata": {},
   "outputs": [],
   "source": [
    "hardees_state_state_counts_df[\"STUSPS\"] = hardees_state_state_counts_df[\n",
    "    \"STUSPS\"\n",
    "].str.upper()"
   ]
  },
  {
   "cell_type": "code",
   "execution_count": 27,
   "id": "c062806b-5f76-4d7e-a226-31383a266b6a",
   "metadata": {},
   "outputs": [],
   "source": [
    "hardees_state_state_counts_gdf = states_with_population_df.merge(\n",
    "    hardees_state_state_counts_df, on=\"STUSPS\", how=\"left\"\n",
    ")"
   ]
  },
  {
   "cell_type": "code",
   "execution_count": 28,
   "id": "300ee45e-48b8-48f6-9a3a-efd4904a5efe",
   "metadata": {},
   "outputs": [],
   "source": [
    "hardees_state_state_counts_gdf = hardees_state_state_counts_gdf.fillna(0)\n",
    "hardees_state_state_counts_gdf[\"stores\"] = hardees_state_state_counts_gdf[\n",
    "    \"stores\"\n",
    "].astype(int)"
   ]
  },
  {
   "cell_type": "code",
   "execution_count": 29,
   "id": "8e8b581c-4e0c-40b8-81a9-4ea014470b40",
   "metadata": {},
   "outputs": [],
   "source": [
    "hardees_state_state_counts_gdf[\"per_1000\"] = hardees_state_state_counts_gdf[\n",
    "    \"stores\"\n",
    "] / (hardees_state_state_counts_gdf[\"POPULATION\"] / 1000)\n",
    "hardees_state_state_counts_gdf[\"per_10k\"] = hardees_state_state_counts_gdf[\"stores\"] / (\n",
    "    hardees_state_state_counts_gdf[\"POPULATION\"] / 10_000\n",
    ")\n",
    "hardees_state_state_counts_gdf[\"per_100k\"] = (\n",
    "    hardees_state_state_counts_gdf[\"stores\"]\n",
    "    / (hardees_state_state_counts_gdf[\"POPULATION\"] / 100000)\n",
    ").round(decimals=2)\n",
    "\n",
    "hardees_state_state_counts_gdf[\"per_500k\"] = (\n",
    "    hardees_state_state_counts_gdf[\"stores\"]\n",
    "    / (hardees_state_state_counts_gdf[\"POPULATION\"] / 500_000)\n",
    ").round(decimals=2)\n",
    "\n",
    "hardees_state_state_counts_gdf[\"per_1m\"] = (\n",
    "    hardees_state_state_counts_gdf[\"stores\"]\n",
    "    / (hardees_state_state_counts_gdf[\"POPULATION\"] / 1_000_000)\n",
    ").round(decimals=2)\n",
    "\n",
    "hardees_state_state_counts_gdf[\"people_per_store\"] = (\n",
    "    hardees_state_state_counts_gdf[\"POPULATION\"]\n",
    "    / hardees_state_state_counts_gdf[\"stores\"]\n",
    ").round(decimals=2)"
   ]
  },
  {
   "cell_type": "code",
   "execution_count": 30,
   "id": "92f3e01f-9b69-4511-b20c-9964e06ab29b",
   "metadata": {},
   "outputs": [],
   "source": [
    "hardees_state_state_counts_gdf.replace([np.inf, -np.inf], 0, inplace=True)"
   ]
  },
  {
   "cell_type": "code",
   "execution_count": 31,
   "id": "fba7541b-3a18-42b5-9bae-b10826002e3b",
   "metadata": {},
   "outputs": [],
   "source": [
    "hardees_state_state_counts_gdf = hardees_state_state_counts_gdf.dropna()"
   ]
  },
  {
   "cell_type": "code",
   "execution_count": 32,
   "id": "6741ca4e-c605-4b01-b942-b2de84d9847d",
   "metadata": {},
   "outputs": [],
   "source": [
    "hardees_state_state_counts_gdf[\"people_per_store\"] = hardees_state_state_counts_gdf[\n",
    "    \"people_per_store\"\n",
    "].astype(int)"
   ]
  },
  {
   "cell_type": "code",
   "execution_count": 33,
   "id": "cc0d9bd8-54c9-4303-814e-b722562b3ada",
   "metadata": {},
   "outputs": [],
   "source": [
    "hardees_state_state_counts_gdf = hardees_state_state_counts_gdf.dropna()"
   ]
  },
  {
   "cell_type": "code",
   "execution_count": 34,
   "id": "944acfaa-313b-4a9f-aecc-53fe95e188be",
   "metadata": {},
   "outputs": [],
   "source": [
    "hardees_state_state_counts_gdf = hardees_state_state_counts_gdf.to_crs(9311)\n",
    "hardees_state_state_counts_gdf.to_file(f\"data/hardees_per_state.gpkg\")"
   ]
  },
  {
   "cell_type": "code",
   "execution_count": null,
   "id": "3eba1b99-001c-4de4-9fe1-1a06ea51e118",
   "metadata": {},
   "outputs": [],
   "source": []
  },
  {
   "cell_type": "code",
   "execution_count": null,
   "id": "9187169c-7299-4b46-8ce5-691aff300b18",
   "metadata": {},
   "outputs": [],
   "source": []
  }
 ],
 "metadata": {
  "kernelspec": {
   "display_name": "Python 3 (ipykernel)",
   "language": "python",
   "name": "python3"
  },
  "language_info": {
   "codemirror_mode": {
    "name": "ipython",
    "version": 3
   },
   "file_extension": ".py",
   "mimetype": "text/x-python",
   "name": "python",
   "nbconvert_exporter": "python",
   "pygments_lexer": "ipython3",
   "version": "3.11.11"
  }
 },
 "nbformat": 4,
 "nbformat_minor": 5
}
