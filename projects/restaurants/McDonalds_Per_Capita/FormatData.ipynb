{
 "cells": [
  {
   "cell_type": "code",
   "execution_count": 1,
   "id": "1d7af001-ab04-4e89-92ab-35d78fa8efe5",
   "metadata": {},
   "outputs": [],
   "source": [
    "import json"
   ]
  },
  {
   "cell_type": "code",
   "execution_count": 2,
   "id": "bc436e38-234d-44fd-b67b-d1f2974606d3",
   "metadata": {},
   "outputs": [],
   "source": [
    "import geopandas as gpd\n",
    "import numpy as np\n",
    "import pandas as pd"
   ]
  },
  {
   "cell_type": "markdown",
   "id": "dcf3f047-ee1e-4150-a849-2e1f0d2175e5",
   "metadata": {},
   "source": [
    "## Open State Data"
   ]
  },
  {
   "cell_type": "code",
   "execution_count": 3,
   "id": "225153f0-a79e-4689-a47f-06a2052e6a1c",
   "metadata": {},
   "outputs": [],
   "source": [
    "file_path = \"data/cb_2018_us_state_500k/cb_2018_us_state_500k.shp\"\n",
    "states_gdf = gpd.read_file(file_path)"
   ]
  },
  {
   "cell_type": "code",
   "execution_count": 4,
   "id": "c76606a3-9707-41d2-97aa-4fe839cdcfb2",
   "metadata": {},
   "outputs": [],
   "source": [
    "states_gdf = states_gdf[[\"STUSPS\", \"NAME\", \"geometry\"]]"
   ]
  },
  {
   "cell_type": "code",
   "execution_count": 5,
   "id": "63747d53-fb6c-476d-815d-6580ec955b7b",
   "metadata": {},
   "outputs": [],
   "source": [
    "states_gdf = states_gdf[\n",
    "    ~states_gdf[\"STUSPS\"].isin([\"MP\", \"PR\", \"VI\", \"GU\"])\n",
    "].reset_index()[[\"geometry\"]]"
   ]
  },
  {
   "cell_type": "markdown",
   "id": "6e218f92-1ce9-4adb-95d9-aa18d8a08dfb",
   "metadata": {},
   "source": [
    "## Open 2023 Population Estimates"
   ]
  },
  {
   "cell_type": "code",
   "execution_count": 25,
   "id": "de9107c6-6705-4db0-8675-f8ad2c11eb19",
   "metadata": {},
   "outputs": [],
   "source": [
    "county_populations = pd.read_csv(\n",
    "    \"data/co-est2023-alldata.csv\", sep=\",\", encoding=\"latin-1\"\n",
    ")"
   ]
  },
  {
   "cell_type": "code",
   "execution_count": 26,
   "id": "adf329d0-9b7b-4464-a347-fc7a8d3ca8c7",
   "metadata": {},
   "outputs": [],
   "source": [
    "county_populations[\"FIPS\"] = county_populations.apply(\n",
    "    lambda row: f\"{row['STATE']:02d}{row['COUNTY']:03d}\", axis=1\n",
    ")"
   ]
  },
  {
   "cell_type": "code",
   "execution_count": 27,
   "id": "7074b6f0-e0d5-4556-938e-69218842499a",
   "metadata": {},
   "outputs": [],
   "source": [
    "county_populations_2023_df = county_populations[[\"POPESTIMATE2023\", \"FIPS\"]].dropna()"
   ]
  },
  {
   "cell_type": "markdown",
   "id": "aa2554ec-b940-4d4c-b77d-3cef5ddc32d0",
   "metadata": {},
   "source": [
    "## Open County Data (Better Geometryy Values)"
   ]
  },
  {
   "cell_type": "code",
   "execution_count": 28,
   "id": "c6d9caba-acbf-4665-8a4a-ba8dea4f5e34",
   "metadata": {},
   "outputs": [],
   "source": [
    "file_path = \"data/cb_2018_us_county_500k/cb_2018_us_county_500k.shp\"\n",
    "counties__better_geo_gdf = gpd.read_file(file_path)"
   ]
  },
  {
   "cell_type": "code",
   "execution_count": 29,
   "id": "def2d175-b86d-44b7-9c90-d6e8a241a7e2",
   "metadata": {},
   "outputs": [],
   "source": [
    "usa_union = counties__better_geo_gdf.geometry.union_all()"
   ]
  },
  {
   "cell_type": "markdown",
   "id": "8fc4024b-9727-41ee-9708-ffb25364b616",
   "metadata": {},
   "source": [
    "## Open County Data (Correct CT Values)"
   ]
  },
  {
   "cell_type": "code",
   "execution_count": 11,
   "id": "7813076e-14bc-42d5-baf9-15303e676d24",
   "metadata": {},
   "outputs": [],
   "source": [
    "file_path = \"data/tl_2024_us_county/tl_2024_us_county.shp\"\n",
    "counties_gdf = gpd.read_file(file_path)"
   ]
  },
  {
   "cell_type": "code",
   "execution_count": 12,
   "id": "f853f255-3235-46a7-88d1-17877165141b",
   "metadata": {},
   "outputs": [],
   "source": [
    "counties_gdf = counties_gdf.rename(columns={\"GEOID\": \"FIPS\"})"
   ]
  },
  {
   "cell_type": "code",
   "execution_count": 13,
   "id": "04149e42-92d0-432a-9bf4-f6b3676e4142",
   "metadata": {},
   "outputs": [],
   "source": [
    "county_populations_2023_gdf = counties_gdf.merge(\n",
    "    county_populations_2023_df, on=\"FIPS\", how=\"left\"\n",
    ")"
   ]
  },
  {
   "cell_type": "markdown",
   "id": "aea1002b-da44-4e4c-84f5-d15ef097a921",
   "metadata": {},
   "source": [
    "## Clip Counties"
   ]
  },
  {
   "cell_type": "code",
   "execution_count": 17,
   "id": "12396cf1-0ee2-4a6c-a823-22ba759d2b0f",
   "metadata": {},
   "outputs": [],
   "source": [
    "clipped_counties_gdf = gpd.clip(county_populations_2023_gdf, mask=usa_union)"
   ]
  },
  {
   "cell_type": "markdown",
   "id": "6d2f1ce9-a36c-4292-99a0-ad42032c5ad4",
   "metadata": {},
   "source": [
    "## Get McDonalds Data"
   ]
  },
  {
   "cell_type": "code",
   "execution_count": 30,
   "id": "282540fb-b4de-4e06-9236-91b80d24a10a",
   "metadata": {},
   "outputs": [],
   "source": [
    "mcdonalds_gdf = gpd.read_file(\"data/mcdonalds_va_h3_5.gpkg\")\n",
    "mcdonalds_gdf = mcdonalds_gdf.to_crs(clipped_counties_gdf.crs)"
   ]
  },
  {
   "cell_type": "markdown",
   "id": "da5d5b73-81ab-499b-b6e7-cb9ca290c02c",
   "metadata": {},
   "source": [
    "## Intersect Data"
   ]
  },
  {
   "cell_type": "code",
   "execution_count": 32,
   "id": "4857fb82-2869-4020-8a57-c1983c9055b6",
   "metadata": {},
   "outputs": [],
   "source": [
    "county_populations_2023_gdf = county_populations_2023_gdf.to_crs(mcdonalds_gdf.crs.srs)"
   ]
  },
  {
   "cell_type": "code",
   "execution_count": 33,
   "id": "4dfc2320-070e-464f-83f8-9d3529c0f41b",
   "metadata": {},
   "outputs": [],
   "source": [
    "county_with_counts_gdf = county_populations_2023_gdf.join(\n",
    "    gpd.sjoin(mcdonalds_gdf, county_populations_2023_gdf)\n",
    "    .groupby(\"index_right\")\n",
    "    .size()\n",
    "    .rename(\"stores\"),\n",
    "    how=\"left\",\n",
    ")"
   ]
  },
  {
   "cell_type": "code",
   "execution_count": 34,
   "id": "137e765e-e293-4c64-ad14-c0e8e2c368ac",
   "metadata": {},
   "outputs": [],
   "source": [
    "county_with_counts_gdf = county_with_counts_gdf.fillna(0)"
   ]
  },
  {
   "cell_type": "code",
   "execution_count": 35,
   "id": "5cf9761c-f376-47b6-804c-b901362ab85c",
   "metadata": {},
   "outputs": [],
   "source": [
    "county_with_counts_gdf[\"stores\"] = county_with_counts_gdf[\"stores\"].astype(int)"
   ]
  },
  {
   "cell_type": "code",
   "execution_count": 36,
   "id": "a1c0bc59-9dd4-42f7-83cf-bb922502ae12",
   "metadata": {},
   "outputs": [],
   "source": [
    "county_with_counts_gdf[\"stores\"] = county_with_counts_gdf[\"stores\"].astype(int)\n",
    "county_with_counts_gdf = county_with_counts_gdf[\n",
    "    [\"STATEFP\", \"FIPS\", \"geometry\", \"stores\", \"NAME\", \"POPESTIMATE2023\"]\n",
    "]"
   ]
  },
  {
   "cell_type": "code",
   "execution_count": 44,
   "id": "4d3ffa04-89f8-4aeb-8aa3-dd1e1254a556",
   "metadata": {},
   "outputs": [],
   "source": [
    "county_with_counts_gdf[\"per_capita\"] = county_with_counts_gdf[\"POPESTIMATE2023\"].div(\n",
    "    county_with_counts_gdf[\"stores\"]\n",
    ")"
   ]
  },
  {
   "cell_type": "code",
   "execution_count": 45,
   "id": "4ab3c2fc-5a67-48d5-9ad2-e002b306ae2c",
   "metadata": {},
   "outputs": [],
   "source": [
    "county_with_counts_gdf.replace(np.inf, 0, inplace=True)\n",
    "county_with_counts_gdf = county_with_counts_gdf.dropna()"
   ]
  },
  {
   "cell_type": "code",
   "execution_count": 46,
   "id": "48689934-67a1-4d3d-8c66-0ddde225a68f",
   "metadata": {},
   "outputs": [
    {
     "name": "stderr",
     "output_type": "stream",
     "text": [
      "/mnt/c/Users/Winston/Documents/GitHub/massachusetts-income-tracts/.venv/lib/python3.11/site-packages/geopandas/geodataframe.py:1819: SettingWithCopyWarning: \n",
      "A value is trying to be set on a copy of a slice from a DataFrame.\n",
      "Try using .loc[row_indexer,col_indexer] = value instead\n",
      "\n",
      "See the caveats in the documentation: https://pandas.pydata.org/pandas-docs/stable/user_guide/indexing.html#returning-a-view-versus-a-copy\n",
      "  super().__setitem__(key, value)\n"
     ]
    }
   ],
   "source": [
    "county_with_counts_gdf[\"per_capita\"] = county_with_counts_gdf[\"per_capita\"].astype(int)"
   ]
  },
  {
   "cell_type": "code",
   "execution_count": 47,
   "id": "3469783b-6392-454e-96f4-2739e97084ad",
   "metadata": {},
   "outputs": [
    {
     "name": "stderr",
     "output_type": "stream",
     "text": [
      "/mnt/c/Users/Winston/Documents/GitHub/massachusetts-income-tracts/.venv/lib/python3.11/site-packages/geopandas/geodataframe.py:1819: SettingWithCopyWarning: \n",
      "A value is trying to be set on a copy of a slice from a DataFrame.\n",
      "Try using .loc[row_indexer,col_indexer] = value instead\n",
      "\n",
      "See the caveats in the documentation: https://pandas.pydata.org/pandas-docs/stable/user_guide/indexing.html#returning-a-view-versus-a-copy\n",
      "  super().__setitem__(key, value)\n"
     ]
    }
   ],
   "source": [
    "county_with_counts_gdf[\"per_100k\"] = county_with_counts_gdf[\"stores\"] / (\n",
    "    county_with_counts_gdf[\"POPESTIMATE2023\"] / 100_000\n",
    ")"
   ]
  },
  {
   "cell_type": "code",
   "execution_count": 52,
   "id": "93858874-cd81-4a8c-a3f3-50abd2b8488f",
   "metadata": {},
   "outputs": [],
   "source": [
    "county_with_counts_gdf.replace([np.inf, -np.inf], np.nan, inplace=True)"
   ]
  },
  {
   "cell_type": "code",
   "execution_count": 56,
   "id": "99691308-6d70-4345-a7ca-8e5969f08300",
   "metadata": {},
   "outputs": [
    {
     "data": {
      "text/plain": [
       "np.float64(3.7198902821990356)"
      ]
     },
     "execution_count": 56,
     "metadata": {},
     "output_type": "execute_result"
    }
   ],
   "source": [
    "county_with_counts_gdf[\"per_100k\"].std()"
   ]
  },
  {
   "cell_type": "code",
   "execution_count": null,
   "id": "ddde2bd0-bece-4848-85e3-c44428f95f18",
   "metadata": {},
   "outputs": [],
   "source": [
    "county_with_counts_gdf = county_with_counts_gdf.to_crs(9311)"
   ]
  },
  {
   "cell_type": "code",
   "execution_count": null,
   "id": "42224b05-ff0e-4048-91bb-d7e003da2257",
   "metadata": {},
   "outputs": [],
   "source": [
    "county_with_counts_gdf"
   ]
  },
  {
   "cell_type": "code",
   "execution_count": null,
   "id": "5b3eb724-8113-4c4e-b7be-cc2fae642d09",
   "metadata": {},
   "outputs": [],
   "source": [
    "len(county_with_counts_gdf)"
   ]
  },
  {
   "cell_type": "code",
   "execution_count": null,
   "id": "548325aa-ac60-4c0d-baca-d5c57cb30a4c",
   "metadata": {},
   "outputs": [],
   "source": [
    "county_with_counts_clipped_gdf = gpd.clip(\n",
    "    county_with_counts_gdf,\n",
    "    mask=states_gdf.to_crs(county_with_counts_gdf.crs).union_all(),\n",
    "    keep_geom_type=True,\n",
    ")"
   ]
  },
  {
   "cell_type": "code",
   "execution_count": 105,
   "id": "59424b3e-b239-40bb-9dc0-99554ccf29a9",
   "metadata": {},
   "outputs": [],
   "source": [
    "county_with_counts_clipped_gdf = county_with_counts_clipped_gdf.dissolve(by=\"FIPS\")"
   ]
  },
  {
   "cell_type": "code",
   "execution_count": 106,
   "id": "1fddb8c0-c23c-444c-bb22-abffbe0c10bc",
   "metadata": {},
   "outputs": [],
   "source": [
    "county_with_counts_clipped_gdf.to_file(\"data/counties_per_capita.gpkg\")"
   ]
  },
  {
   "cell_type": "code",
   "execution_count": null,
   "id": "f973e260-dc66-4131-8a82-e738d8d60f6b",
   "metadata": {},
   "outputs": [],
   "source": [
    "len(county_with_counts_gdf)"
   ]
  },
  {
   "cell_type": "code",
   "execution_count": 178,
   "id": "48e5d698-b924-4356-9909-e6acfb2cbb2b",
   "metadata": {},
   "outputs": [],
   "source": []
  }
 ],
 "metadata": {
  "kernelspec": {
   "display_name": "Python 3 (ipykernel)",
   "language": "python",
   "name": "python3"
  },
  "language_info": {
   "codemirror_mode": {
    "name": "ipython",
    "version": 3
   },
   "file_extension": ".py",
   "mimetype": "text/x-python",
   "name": "python",
   "nbconvert_exporter": "python",
   "pygments_lexer": "ipython3",
   "version": "3.11.11"
  }
 },
 "nbformat": 4,
 "nbformat_minor": 5
}
