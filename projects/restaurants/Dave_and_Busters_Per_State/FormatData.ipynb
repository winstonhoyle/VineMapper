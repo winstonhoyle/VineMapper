{
 "cells": [
  {
   "cell_type": "code",
   "execution_count": 1,
   "id": "c86ad9f6-4aaf-469e-a56e-363083168e1e",
   "metadata": {},
   "outputs": [],
   "source": [
    "import json\n",
    "import os\n",
    "import random\n",
    "import time"
   ]
  },
  {
   "cell_type": "code",
   "execution_count": 2,
   "id": "10fa1d09-7717-4ea8-9ce7-1cef37b4da9c",
   "metadata": {},
   "outputs": [],
   "source": [
    "import cloudscraper\n",
    "from bs4 import BeautifulSoup\n",
    "import geopandas as gpd\n",
    "import pandas as pd"
   ]
  },
  {
   "cell_type": "code",
   "execution_count": 3,
   "id": "d22202a0-bf3c-4953-81ce-105a19e002a0",
   "metadata": {},
   "outputs": [],
   "source": [
    "from shapely.geometry import Point\n",
    "from tqdm.notebook import tqdm"
   ]
  },
  {
   "cell_type": "markdown",
   "id": "02e1dfb5-464d-4984-8c84-5599ce9dcd5d",
   "metadata": {},
   "source": [
    "## Get State Data"
   ]
  },
  {
   "cell_type": "code",
   "execution_count": 4,
   "id": "84b53c65-5746-4ab8-8c99-6dfe3e967797",
   "metadata": {},
   "outputs": [],
   "source": [
    "file_path = \"data/cb_2018_us_state_500k/cb_2018_us_state_500k.shp\"\n",
    "states_df = gpd.read_file(file_path)"
   ]
  },
  {
   "cell_type": "code",
   "execution_count": 5,
   "id": "191755a6-eb92-4683-833e-b69f4be9f3f5",
   "metadata": {},
   "outputs": [],
   "source": [
    "states_df = states_df[[\"STUSPS\", \"NAME\", \"geometry\"]]"
   ]
  },
  {
   "cell_type": "markdown",
   "id": "f3ad4feb-2496-4c2f-827b-04c586ef17ba",
   "metadata": {},
   "source": [
    "## Get D&B Data"
   ]
  },
  {
   "cell_type": "code",
   "execution_count": 138,
   "id": "4c063aa4-d1b0-400e-a449-8125a2a0596a",
   "metadata": {},
   "outputs": [],
   "source": [
    "scraper = cloudscraper.create_scraper()"
   ]
  },
  {
   "cell_type": "code",
   "execution_count": 139,
   "id": "6a981eba-d8ce-43ee-b0da-83f8d45067eb",
   "metadata": {},
   "outputs": [],
   "source": [
    "stores_r = scraper.get(\"https://www.daveandbusters.com/us/en/about/locations\")"
   ]
  },
  {
   "cell_type": "code",
   "execution_count": 140,
   "id": "af7f77c0-d23b-4b23-a26d-9414b76d7084",
   "metadata": {},
   "outputs": [],
   "source": [
    "soup = BeautifulSoup(stores_r.text, \"html.parser\")\n",
    "divs = soup.find_all(\"div\", {\"class\": \"accordion-item\"})[:-2]"
   ]
  },
  {
   "cell_type": "code",
   "execution_count": 141,
   "id": "4ec60938-db4c-400e-ad7c-b25978b43852",
   "metadata": {},
   "outputs": [],
   "source": [
    "def parse_store(url: str) -> dict:\n",
    "    store_r = scraper.get(url)\n",
    "    soup = BeautifulSoup(store_r.text, \"html.parser\")\n",
    "    body = soup.find(\"body\", {\"class\": \"page basicpage\"})\n",
    "    store_id = body.attrs[\"id\"].split(\"-\")[1]\n",
    "    json_url = f\"https://www.daveandbusters.com/content/dnb-request/datadetails.json?mode=location&entityId={store_id}\"\n",
    "    json_r = scraper.get(json_url)\n",
    "    store_json = json_r.json()\n",
    "    state_code = store_json[\"address\"][\"state\"]\n",
    "    p = Point(store_json[\"longitude\"], store_json[\"latitude\"])\n",
    "    return {\"STUSPS\": state_code, \"geometry\": p}"
   ]
  },
  {
   "cell_type": "code",
   "execution_count": 142,
   "id": "0ba8b6e8-b708-4462-a02c-2d344ca4fa8d",
   "metadata": {},
   "outputs": [
    {
     "data": {
      "application/vnd.jupyter.widget-view+json": {
       "model_id": "bc1a89b2f8154b0b90118accee5c2597",
       "version_major": 2,
       "version_minor": 0
      },
      "text/plain": [
       "Parsing States:   0%|          | 0/44 [00:00<?, ?it/s]"
      ]
     },
     "metadata": {},
     "output_type": "display_data"
    },
    {
     "name": "stdout",
     "output_type": "stream",
     "text": [
      "https://www.daveandbusters.com/us/en/about/locations/rancho-mirage\n",
      "https://www.daveandbusters.com/us/en/about/locations/orlando\n"
     ]
    }
   ],
   "source": [
    "stores_list = []\n",
    "for div in tqdm(divs, desc=\"Parsing States\"):\n",
    "    state_name = div.find(\"p\").text.title()\n",
    "    state_as_list = div.find_all(\"a\")\n",
    "    for state_a in state_as_list:\n",
    "        try:\n",
    "            store_dict = parse_store(\n",
    "                f\"https://www.daveandbusters.com{state_a.attrs['href']}\"\n",
    "            )\n",
    "            stores_list.append(store_dict)\n",
    "        except Exception:\n",
    "            print(state_a.attrs[\"href\"])"
   ]
  },
  {
   "cell_type": "code",
   "execution_count": 143,
   "id": "29b55d78-adcd-4ad4-bc4e-2a03ea798759",
   "metadata": {},
   "outputs": [],
   "source": [
    "store_1 = parse_store(\n",
    "    \"https://www.daveandbusters.com/us/en/about/locations/rancho-mirage\"\n",
    ")\n",
    "store_2 = parse_store(\"https://www.daveandbusters.com/us/en/about/locations/orlando\")"
   ]
  },
  {
   "cell_type": "code",
   "execution_count": 144,
   "id": "35835c35-2fa9-4f7b-be9e-c180a77aa0a3",
   "metadata": {},
   "outputs": [],
   "source": [
    "stores_list = [*stores_list, store_1, store_2]"
   ]
  },
  {
   "cell_type": "code",
   "execution_count": 145,
   "id": "cd663d4c-5181-4839-9607-63d4b0f62f86",
   "metadata": {},
   "outputs": [],
   "source": [
    "dave_and_busters_gdf = gpd.GeoDataFrame(stores_list, crs=4326)"
   ]
  },
  {
   "cell_type": "code",
   "execution_count": 147,
   "id": "fb6e0c4f-6187-413c-9e8e-73b749f428fd",
   "metadata": {},
   "outputs": [],
   "source": [
    "dave_and_busters_gdf.to_file(\"data/d_b_locations.gpkg\")"
   ]
  },
  {
   "cell_type": "code",
   "execution_count": 148,
   "id": "331fb21c-f2e1-4ddf-bad5-2526bd0952a0",
   "metadata": {},
   "outputs": [],
   "source": [
    "db_counts_df = (\n",
    "    pd.DataFrame(dave_and_busters_gdf.groupby(\"STUSPS\").size())\n",
    "    .reset_index()\n",
    "    .rename(columns={0: \"DBs\"})\n",
    ")"
   ]
  },
  {
   "cell_type": "markdown",
   "id": "5a42dfab-fc47-49d7-8092-f08b31392df8",
   "metadata": {},
   "source": [
    "## Get Population Data"
   ]
  },
  {
   "cell_type": "code",
   "execution_count": 149,
   "id": "3cce9c91-abf1-4055-8b9a-5fd1f6cf611f",
   "metadata": {},
   "outputs": [],
   "source": [
    "state_populations = pd.read_excel(\n",
    "    \"data/NST-EST2024-POP.xlsx\", sheet_name=None, engine=\"openpyxl\"\n",
    ")"
   ]
  },
  {
   "cell_type": "code",
   "execution_count": 150,
   "id": "2eaacc28-fa8e-410e-b084-02ce24ec11a1",
   "metadata": {},
   "outputs": [],
   "source": [
    "state_populations_df = state_populations[\"NST-EST2024-POP\"][\n",
    "    [\n",
    "        \"table with row headers in column A and column headers in rows 3 through 4. (leading dots indicate sub-parts)\",\n",
    "        \"Unnamed: 5\",\n",
    "    ]\n",
    "]\n",
    "state_populations_df = state_populations_df.rename(\n",
    "    columns={\n",
    "        \"table with row headers in column A and column headers in rows 3 through 4. (leading dots indicate sub-parts)\": \"NAME\",\n",
    "        \"Unnamed: 5\": \"POPULATION\",\n",
    "    }\n",
    ")\n",
    "state_populations_df[\"NAME\"] = state_populations_df[\"NAME\"].str[1:]"
   ]
  },
  {
   "cell_type": "code",
   "execution_count": 151,
   "id": "2d6342e1-fc3f-4006-8d8a-d7612903a625",
   "metadata": {},
   "outputs": [],
   "source": [
    "states_with_population_df = states_df.merge(state_populations_df, on=\"NAME\", how=\"left\")\n",
    "states_with_population_df = states_with_population_df[\n",
    "    [\"STUSPS\", \"NAME\", \"POPULATION\", \"geometry\"]\n",
    "]"
   ]
  },
  {
   "cell_type": "code",
   "execution_count": 152,
   "id": "94150db1-9ce7-43cb-8c08-3f6d9bb58497",
   "metadata": {},
   "outputs": [],
   "source": [
    "states_with_population_df = states_with_population_df.dropna()"
   ]
  },
  {
   "cell_type": "markdown",
   "id": "af5c5e13-c89d-43ed-8021-13ba93990599",
   "metadata": {},
   "source": [
    "## Merge Data"
   ]
  },
  {
   "cell_type": "code",
   "execution_count": 131,
   "id": "8a4afa33-893a-4b6b-8df1-f5151243deeb",
   "metadata": {},
   "outputs": [],
   "source": [
    "dave_and_busters_counts_gdf = states_with_population_df.merge(\n",
    "    db_counts_df, on=\"STUSPS\", how=\"left\"\n",
    ")\n",
    "dave_and_busters_counts_gdf = dave_and_busters_counts_gdf.fillna(0)"
   ]
  },
  {
   "cell_type": "code",
   "execution_count": 132,
   "id": "f50526e2-4c7a-4d13-8d5e-aaddbeec7751",
   "metadata": {},
   "outputs": [],
   "source": [
    "dave_and_busters_counts_gdf[\"per_100k\"] = dave_and_busters_counts_gdf[\"DBs\"] / (\n",
    "    dave_and_busters_counts_gdf[\"POPULATION\"] / 100000\n",
    ")\n",
    "dave_and_busters_counts_gdf[\"per_1m\"] = dave_and_busters_counts_gdf[\"DBs\"] / (\n",
    "    dave_and_busters_counts_gdf[\"POPULATION\"] / 1_000_000\n",
    ")"
   ]
  },
  {
   "cell_type": "code",
   "execution_count": 133,
   "id": "4d00c57e-a978-4938-b5f5-cb176b29cf77",
   "metadata": {},
   "outputs": [],
   "source": [
    "dave_and_busters_counts_gdf = dave_and_busters_counts_gdf.to_crs(9311)"
   ]
  },
  {
   "cell_type": "code",
   "execution_count": 134,
   "id": "f8feb339-fc3c-41f9-8bd8-50ee507bb185",
   "metadata": {},
   "outputs": [],
   "source": [
    "dave_and_busters_counts_gdf.to_file(\"data/dbs_per_state.gpkg\")"
   ]
  },
  {
   "cell_type": "code",
   "execution_count": null,
   "id": "6fe12df3-c59b-48b5-bd11-cdbae9436a65",
   "metadata": {},
   "outputs": [],
   "source": []
  },
  {
   "cell_type": "code",
   "execution_count": null,
   "id": "e92773a5-ed1b-4850-b29c-fcc40f9d5289",
   "metadata": {},
   "outputs": [],
   "source": []
  }
 ],
 "metadata": {
  "kernelspec": {
   "display_name": "Python 3 (ipykernel)",
   "language": "python",
   "name": "python3"
  },
  "language_info": {
   "codemirror_mode": {
    "name": "ipython",
    "version": 3
   },
   "file_extension": ".py",
   "mimetype": "text/x-python",
   "name": "python",
   "nbconvert_exporter": "python",
   "pygments_lexer": "ipython3",
   "version": "3.11.11"
  }
 },
 "nbformat": 4,
 "nbformat_minor": 5
}
