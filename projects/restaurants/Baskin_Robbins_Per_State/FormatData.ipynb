{
 "cells": [
  {
   "cell_type": "code",
   "execution_count": 2,
   "id": "8eca3131-85dc-48b3-b640-f384104e123c",
   "metadata": {},
   "outputs": [],
   "source": [
    "import json\n",
    "import os\n",
    "import random\n",
    "import time"
   ]
  },
  {
   "cell_type": "code",
   "execution_count": 3,
   "id": "bc436e38-234d-44fd-b67b-d1f2974606d3",
   "metadata": {},
   "outputs": [],
   "source": [
    "from bs4 import BeautifulSoup\n",
    "import cloudscraper\n",
    "import geopandas as gpd\n",
    "import pandas as pd"
   ]
  },
  {
   "cell_type": "code",
   "execution_count": 4,
   "id": "13bbdea5-6ae9-4a3a-937a-12bb704da0f4",
   "metadata": {},
   "outputs": [],
   "source": [
    "from shapely.geometry import Point\n",
    "from tqdm.notebook import tqdm"
   ]
  },
  {
   "cell_type": "markdown",
   "id": "44a3df26-78d3-479c-99a2-c0e1ba91352e",
   "metadata": {},
   "source": [
    "## Get State Data"
   ]
  },
  {
   "cell_type": "code",
   "execution_count": 5,
   "id": "615eeabf-033b-425a-a81f-d7b4dd9e3a3e",
   "metadata": {},
   "outputs": [],
   "source": [
    "file_path = \"data/cb_2018_us_state_500k/cb_2018_us_state_500k.shp\"\n",
    "states_df = gpd.read_file(file_path)"
   ]
  },
  {
   "cell_type": "code",
   "execution_count": 6,
   "id": "502c6bfe-0912-4d37-95b0-47e7a14b468f",
   "metadata": {},
   "outputs": [],
   "source": [
    "states_df = states_df[[\"STUSPS\", \"NAME\", \"geometry\"]]"
   ]
  },
  {
   "cell_type": "markdown",
   "id": "4257620c-13d7-4071-bae2-a5a2aeae5ba7",
   "metadata": {},
   "source": [
    "## Get Population data"
   ]
  },
  {
   "cell_type": "code",
   "execution_count": 7,
   "id": "6c0e7a1d-5a9a-4c10-a5d4-28dc681a8a27",
   "metadata": {},
   "outputs": [],
   "source": [
    "state_populations = pd.read_excel(\n",
    "    \"data/NST-EST2024-POP.xlsx\", sheet_name=None, engine=\"openpyxl\"\n",
    ")"
   ]
  },
  {
   "cell_type": "code",
   "execution_count": 8,
   "id": "2614c2ab-96ec-4304-a287-6fd013fedbbb",
   "metadata": {},
   "outputs": [],
   "source": [
    "state_populations_df = state_populations[\"NST-EST2024-POP\"][\n",
    "    [\n",
    "        \"table with row headers in column A and column headers in rows 3 through 4. (leading dots indicate sub-parts)\",\n",
    "        \"Unnamed: 5\",\n",
    "    ]\n",
    "]\n",
    "state_populations_df = state_populations_df.rename(\n",
    "    columns={\n",
    "        \"table with row headers in column A and column headers in rows 3 through 4. (leading dots indicate sub-parts)\": \"NAME\",\n",
    "        \"Unnamed: 5\": \"POPULATION\",\n",
    "    }\n",
    ")\n",
    "state_populations_df[\"NAME\"] = state_populations_df[\"NAME\"].str[1:]"
   ]
  },
  {
   "cell_type": "code",
   "execution_count": 9,
   "id": "2a1a8b6e-a0bf-486b-b62e-46a23ca718e2",
   "metadata": {},
   "outputs": [],
   "source": [
    "states_with_population_df = states_df.merge(state_populations_df, on=\"NAME\", how=\"left\")\n",
    "states_with_population_df = states_with_population_df[\n",
    "    [\"STUSPS\", \"NAME\", \"POPULATION\", \"geometry\"]\n",
    "]"
   ]
  },
  {
   "cell_type": "markdown",
   "id": "6d2f1ce9-a36c-4292-99a0-ad42032c5ad4",
   "metadata": {},
   "source": [
    "## Get Baskin Robbins Data"
   ]
  },
  {
   "cell_type": "code",
   "execution_count": 43,
   "id": "98a79e3c-5dee-4dc7-bb48-5b6df8446b2b",
   "metadata": {},
   "outputs": [],
   "source": [
    "def get_coords(url: str) -> Point:\n",
    "    r = scraper.get(url)\n",
    "    if r.status_code != 200:\n",
    "        print(\"Status Code:\", r.status_code, url)\n",
    "        return {}\n",
    "    try:\n",
    "        soup_store = BeautifulSoup(r.text, \"html.parser\")\n",
    "        store_json = json.loads(\n",
    "            \"=\".join(soup_store.find_all(\"script\")[0].text.split(\"=\")[1:])\n",
    "        )\n",
    "        coord = store_json[\"document\"][\"geocodedCoordinate\"]\n",
    "        lat = float(coord[\"latitude\"])\n",
    "        lon = float(coord[\"longitude\"])\n",
    "        return Point(lon, lat)\n",
    "    except Exception as e:\n",
    "        coord = store_json[\"document\"][\"yextDisplayCoordinate\"]\n",
    "        if \"-\".join(url.split(\"/\")[-1].split(\"-\")[:3]) == \"123-dunkin-st\":\n",
    "            print(e, url, f\"{coord['latitude']},{coord['longitude']}\")\n",
    "            return\n",
    "        else:\n",
    "            lat = float(coord[\"latitude\"])\n",
    "            lon = float(coord[\"longitude\"])\n",
    "            return Point(lon, lat)\n",
    "        return"
   ]
  },
  {
   "cell_type": "code",
   "execution_count": 35,
   "id": "3902428a-92ab-4760-98db-4df4874009dc",
   "metadata": {},
   "outputs": [],
   "source": [
    "scraper = cloudscraper.create_scraper()"
   ]
  },
  {
   "cell_type": "code",
   "execution_count": 45,
   "id": "57180847-49ee-46cc-9612-bfebcd53bed2",
   "metadata": {},
   "outputs": [
    {
     "data": {
      "application/vnd.jupyter.widget-view+json": {
       "model_id": "32d39ab92d0542349c9f9b4fc982f50d",
       "version_major": 2,
       "version_minor": 0
      },
      "text/plain": [
       "Parsing States:   0%|          | 0/45 [00:00<?, ?it/s]"
      ]
     },
     "metadata": {},
     "output_type": "display_data"
    },
    {
     "data": {
      "application/vnd.jupyter.widget-view+json": {
       "model_id": "121e51ca922e40efba322ee006d09895",
       "version_major": 2,
       "version_minor": 0
      },
      "text/plain": [
       "Parsing Locations in al:   0%|          | 0/14 [00:00<?, ?it/s]"
      ]
     },
     "metadata": {},
     "output_type": "display_data"
    },
    {
     "name": "stdout",
     "output_type": "stream",
     "text": [
      "'geocodedCoordinate' https://locations.baskinrobbins.com/al/madison/123-dunkin-st-366109-br 34.7091114,-86.761749\n"
     ]
    },
    {
     "data": {
      "application/vnd.jupyter.widget-view+json": {
       "model_id": "6703b5265c8b4b32b184f46f842405b2",
       "version_major": 2,
       "version_minor": 0
      },
      "text/plain": [
       "Parsing Locations in ak:   0%|          | 0/1 [00:00<?, ?it/s]"
      ]
     },
     "metadata": {},
     "output_type": "display_data"
    },
    {
     "data": {
      "application/vnd.jupyter.widget-view+json": {
       "model_id": "04a1b62defa747ac81e92d3bed712354",
       "version_major": 2,
       "version_minor": 0
      },
      "text/plain": [
       "Parsing Locations in az:   0%|          | 0/26 [00:00<?, ?it/s]"
      ]
     },
     "metadata": {},
     "output_type": "display_data"
    },
    {
     "data": {
      "application/vnd.jupyter.widget-view+json": {
       "model_id": "3f30a426685e48759cda3d1c9cdc7f31",
       "version_major": 2,
       "version_minor": 0
      },
      "text/plain": [
       "Parsing Locations in ar:   0%|          | 0/23 [00:00<?, ?it/s]"
      ]
     },
     "metadata": {},
     "output_type": "display_data"
    },
    {
     "data": {
      "application/vnd.jupyter.widget-view+json": {
       "model_id": "7b7dc60884f6456a8117593b16d16ce0",
       "version_major": 2,
       "version_minor": 0
      },
      "text/plain": [
       "Parsing Locations in ca:   0%|          | 0/272 [00:00<?, ?it/s]"
      ]
     },
     "metadata": {},
     "output_type": "display_data"
    },
    {
     "name": "stdout",
     "output_type": "stream",
     "text": [
      "'geocodedCoordinate' https://locations.baskinrobbins.com/ca/chico/123-dunkin-st-366162-br 39.6237203,-121.8577205\n",
      "'geocodedCoordinate' https://locations.baskinrobbins.com/ca/menifee/123-dunkin-st-366112-br 33.7441155,-117.1617685\n",
      "'geocodedCoordinate' https://locations.baskinrobbins.com/ca/oroville/123-dunkin-st-366054-br 39.51747943,-121.58554353\n",
      "'geocodedCoordinate' https://locations.baskinrobbins.com/ca/simi-valley/123-dunkin-st-366048-br 34.275113,-118.7095413\n"
     ]
    },
    {
     "data": {
      "application/vnd.jupyter.widget-view+json": {
       "model_id": "8c4244bc73d7441f8f06c1e765bf4731",
       "version_major": 2,
       "version_minor": 0
      },
      "text/plain": [
       "Parsing Locations in co:   0%|          | 0/22 [00:00<?, ?it/s]"
      ]
     },
     "metadata": {},
     "output_type": "display_data"
    },
    {
     "data": {
      "application/vnd.jupyter.widget-view+json": {
       "model_id": "81a17d4603b44449ae59da1f99264cb6",
       "version_major": 2,
       "version_minor": 0
      },
      "text/plain": [
       "Parsing Locations in ct:   0%|          | 0/6 [00:00<?, ?it/s]"
      ]
     },
     "metadata": {},
     "output_type": "display_data"
    },
    {
     "data": {
      "application/vnd.jupyter.widget-view+json": {
       "model_id": "00cd8aa3cfc04b14b460d207ece65129",
       "version_major": 2,
       "version_minor": 0
      },
      "text/plain": [
       "Parsing Locations in de:   0%|          | 0/3 [00:00<?, ?it/s]"
      ]
     },
     "metadata": {},
     "output_type": "display_data"
    },
    {
     "data": {
      "application/vnd.jupyter.widget-view+json": {
       "model_id": "0024ff23b9ab48389101f47029113bdf",
       "version_major": 2,
       "version_minor": 0
      },
      "text/plain": [
       "Parsing Locations in fl:   0%|          | 0/82 [00:00<?, ?it/s]"
      ]
     },
     "metadata": {},
     "output_type": "display_data"
    },
    {
     "data": {
      "application/vnd.jupyter.widget-view+json": {
       "model_id": "afefbf1599744539bedd9ead425b6b19",
       "version_major": 2,
       "version_minor": 0
      },
      "text/plain": [
       "Parsing Locations in ga:   0%|          | 0/48 [00:00<?, ?it/s]"
      ]
     },
     "metadata": {},
     "output_type": "display_data"
    },
    {
     "data": {
      "application/vnd.jupyter.widget-view+json": {
       "model_id": "05d096733e474aa7a89dfd76e0c0c300",
       "version_major": 2,
       "version_minor": 0
      },
      "text/plain": [
       "Parsing Locations in hi:   0%|          | 0/13 [00:00<?, ?it/s]"
      ]
     },
     "metadata": {},
     "output_type": "display_data"
    },
    {
     "data": {
      "application/vnd.jupyter.widget-view+json": {
       "model_id": "a1b92345b26841d3ad6eca34edf6597e",
       "version_major": 2,
       "version_minor": 0
      },
      "text/plain": [
       "Parsing Locations in id:   0%|          | 0/6 [00:00<?, ?it/s]"
      ]
     },
     "metadata": {},
     "output_type": "display_data"
    },
    {
     "data": {
      "application/vnd.jupyter.widget-view+json": {
       "model_id": "5f6a7dfb4c4c4cf5888e1a539cf67d3d",
       "version_major": 2,
       "version_minor": 0
      },
      "text/plain": [
       "Parsing Locations in il:   0%|          | 0/129 [00:00<?, ?it/s]"
      ]
     },
     "metadata": {},
     "output_type": "display_data"
    },
    {
     "data": {
      "application/vnd.jupyter.widget-view+json": {
       "model_id": "acf015a7bf5849559ea050d2b753952c",
       "version_major": 2,
       "version_minor": 0
      },
      "text/plain": [
       "Parsing Locations in in:   0%|          | 0/22 [00:00<?, ?it/s]"
      ]
     },
     "metadata": {},
     "output_type": "display_data"
    },
    {
     "data": {
      "application/vnd.jupyter.widget-view+json": {
       "model_id": "1c0fcc88b5fb471c84c6b7c1dcd74980",
       "version_major": 2,
       "version_minor": 0
      },
      "text/plain": [
       "Parsing Locations in ia:   0%|          | 0/4 [00:00<?, ?it/s]"
      ]
     },
     "metadata": {},
     "output_type": "display_data"
    },
    {
     "data": {
      "application/vnd.jupyter.widget-view+json": {
       "model_id": "72f7a2a96f624559ad69746273dcf115",
       "version_major": 2,
       "version_minor": 0
      },
      "text/plain": [
       "Parsing Locations in ks:   0%|          | 0/12 [00:00<?, ?it/s]"
      ]
     },
     "metadata": {},
     "output_type": "display_data"
    },
    {
     "data": {
      "application/vnd.jupyter.widget-view+json": {
       "model_id": "22188c983b0848d3b91a6015fd90c241",
       "version_major": 2,
       "version_minor": 0
      },
      "text/plain": [
       "Parsing Locations in ky:   0%|          | 0/15 [00:00<?, ?it/s]"
      ]
     },
     "metadata": {},
     "output_type": "display_data"
    },
    {
     "data": {
      "application/vnd.jupyter.widget-view+json": {
       "model_id": "237141292c7647bda9216125e7fde311",
       "version_major": 2,
       "version_minor": 0
      },
      "text/plain": [
       "Parsing Locations in la:   0%|          | 0/22 [00:00<?, ?it/s]"
      ]
     },
     "metadata": {},
     "output_type": "display_data"
    },
    {
     "data": {
      "application/vnd.jupyter.widget-view+json": {
       "model_id": "2a47416dc386479f930ded92ffa246e5",
       "version_major": 2,
       "version_minor": 0
      },
      "text/plain": [
       "Parsing Locations in md:   0%|          | 0/60 [00:00<?, ?it/s]"
      ]
     },
     "metadata": {},
     "output_type": "display_data"
    },
    {
     "data": {
      "application/vnd.jupyter.widget-view+json": {
       "model_id": "bf025d2d9d8d484ca8eeca74a7596feb",
       "version_major": 2,
       "version_minor": 0
      },
      "text/plain": [
       "Parsing Locations in ma:   0%|          | 0/3 [00:00<?, ?it/s]"
      ]
     },
     "metadata": {},
     "output_type": "display_data"
    },
    {
     "data": {
      "application/vnd.jupyter.widget-view+json": {
       "model_id": "affdb6ae605e49d883770d0b990ce17c",
       "version_major": 2,
       "version_minor": 0
      },
      "text/plain": [
       "Parsing Locations in mi:   0%|          | 0/44 [00:00<?, ?it/s]"
      ]
     },
     "metadata": {},
     "output_type": "display_data"
    },
    {
     "data": {
      "application/vnd.jupyter.widget-view+json": {
       "model_id": "eee797e9e5164474afa08fa5e0cb4d6e",
       "version_major": 2,
       "version_minor": 0
      },
      "text/plain": [
       "Parsing Locations in mn:   0%|          | 0/11 [00:00<?, ?it/s]"
      ]
     },
     "metadata": {},
     "output_type": "display_data"
    },
    {
     "data": {
      "application/vnd.jupyter.widget-view+json": {
       "model_id": "dfb7ffdcfd194a9fa2745a4287cce5bf",
       "version_major": 2,
       "version_minor": 0
      },
      "text/plain": [
       "Parsing Locations in ms:   0%|          | 0/32 [00:00<?, ?it/s]"
      ]
     },
     "metadata": {},
     "output_type": "display_data"
    },
    {
     "data": {
      "application/vnd.jupyter.widget-view+json": {
       "model_id": "22b5094be6214b099174e6bc7343d7a3",
       "version_major": 2,
       "version_minor": 0
      },
      "text/plain": [
       "Parsing Locations in mo:   0%|          | 0/22 [00:00<?, ?it/s]"
      ]
     },
     "metadata": {},
     "output_type": "display_data"
    },
    {
     "data": {
      "application/vnd.jupyter.widget-view+json": {
       "model_id": "9da869a0aead4ba09a5c45732b9a4a74",
       "version_major": 2,
       "version_minor": 0
      },
      "text/plain": [
       "Parsing Locations in mt:   0%|          | 0/2 [00:00<?, ?it/s]"
      ]
     },
     "metadata": {},
     "output_type": "display_data"
    },
    {
     "data": {
      "application/vnd.jupyter.widget-view+json": {
       "model_id": "738eefd220d4414eaf125a21104875f7",
       "version_major": 2,
       "version_minor": 0
      },
      "text/plain": [
       "Parsing Locations in ne:   0%|          | 0/3 [00:00<?, ?it/s]"
      ]
     },
     "metadata": {},
     "output_type": "display_data"
    },
    {
     "data": {
      "application/vnd.jupyter.widget-view+json": {
       "model_id": "57cc4a5ac8d644b89aaf8dc155e6d563",
       "version_major": 2,
       "version_minor": 0
      },
      "text/plain": [
       "Parsing Locations in nv:   0%|          | 0/7 [00:00<?, ?it/s]"
      ]
     },
     "metadata": {},
     "output_type": "display_data"
    },
    {
     "data": {
      "application/vnd.jupyter.widget-view+json": {
       "model_id": "c77faaf3af314722b53518e571a9e9ae",
       "version_major": 2,
       "version_minor": 0
      },
      "text/plain": [
       "Parsing Locations in nj:   0%|          | 0/60 [00:00<?, ?it/s]"
      ]
     },
     "metadata": {},
     "output_type": "display_data"
    },
    {
     "data": {
      "application/vnd.jupyter.widget-view+json": {
       "model_id": "53286d4f16564fb8b49540342fa03385",
       "version_major": 2,
       "version_minor": 0
      },
      "text/plain": [
       "Parsing Locations in nm:   0%|          | 0/13 [00:00<?, ?it/s]"
      ]
     },
     "metadata": {},
     "output_type": "display_data"
    },
    {
     "data": {
      "application/vnd.jupyter.widget-view+json": {
       "model_id": "e633848717c04959b174e53b9f8d7f14",
       "version_major": 2,
       "version_minor": 0
      },
      "text/plain": [
       "Parsing Locations in ny:   0%|          | 0/120 [00:00<?, ?it/s]"
      ]
     },
     "metadata": {},
     "output_type": "display_data"
    },
    {
     "data": {
      "application/vnd.jupyter.widget-view+json": {
       "model_id": "e511b0fa4f8d4119ae664b87dd7bbb54",
       "version_major": 2,
       "version_minor": 0
      },
      "text/plain": [
       "Parsing Locations in nc:   0%|          | 0/36 [00:00<?, ?it/s]"
      ]
     },
     "metadata": {},
     "output_type": "display_data"
    },
    {
     "data": {
      "application/vnd.jupyter.widget-view+json": {
       "model_id": "785085bf80884666a2bc700643af046f",
       "version_major": 2,
       "version_minor": 0
      },
      "text/plain": [
       "Parsing Locations in oh:   0%|          | 0/24 [00:00<?, ?it/s]"
      ]
     },
     "metadata": {},
     "output_type": "display_data"
    },
    {
     "data": {
      "application/vnd.jupyter.widget-view+json": {
       "model_id": "d2ff9f17f2bf4e1fbda3e52153cc750d",
       "version_major": 2,
       "version_minor": 0
      },
      "text/plain": [
       "Parsing Locations in ok:   0%|          | 0/10 [00:00<?, ?it/s]"
      ]
     },
     "metadata": {},
     "output_type": "display_data"
    },
    {
     "data": {
      "application/vnd.jupyter.widget-view+json": {
       "model_id": "31619b4da38348eeb5700ff99b81a0ac",
       "version_major": 2,
       "version_minor": 0
      },
      "text/plain": [
       "Parsing Locations in or:   0%|          | 0/17 [00:00<?, ?it/s]"
      ]
     },
     "metadata": {},
     "output_type": "display_data"
    },
    {
     "data": {
      "application/vnd.jupyter.widget-view+json": {
       "model_id": "7440ed154e894dfea7003f8cdcb3b7d4",
       "version_major": 2,
       "version_minor": 0
      },
      "text/plain": [
       "Parsing Locations in pa:   0%|          | 0/24 [00:00<?, ?it/s]"
      ]
     },
     "metadata": {},
     "output_type": "display_data"
    },
    {
     "data": {
      "application/vnd.jupyter.widget-view+json": {
       "model_id": "c921493dc9ce42a1853455d8a969bdfe",
       "version_major": 2,
       "version_minor": 0
      },
      "text/plain": [
       "Parsing Locations in sc:   0%|          | 0/14 [00:00<?, ?it/s]"
      ]
     },
     "metadata": {},
     "output_type": "display_data"
    },
    {
     "data": {
      "application/vnd.jupyter.widget-view+json": {
       "model_id": "2b64f8523f894791a8804959a97f4072",
       "version_major": 2,
       "version_minor": 0
      },
      "text/plain": [
       "Parsing Locations in tn:   0%|          | 0/41 [00:00<?, ?it/s]"
      ]
     },
     "metadata": {},
     "output_type": "display_data"
    },
    {
     "data": {
      "application/vnd.jupyter.widget-view+json": {
       "model_id": "528260e4738943aab5af03120be9eeab",
       "version_major": 2,
       "version_minor": 0
      },
      "text/plain": [
       "Parsing Locations in tx:   0%|          | 0/93 [00:00<?, ?it/s]"
      ]
     },
     "metadata": {},
     "output_type": "display_data"
    },
    {
     "name": "stdout",
     "output_type": "stream",
     "text": [
      "'geocodedCoordinate' https://locations.baskinrobbins.com/tx/denton/123-dunkin-st-366052-br 33.20266,-97.12299\n"
     ]
    },
    {
     "data": {
      "application/vnd.jupyter.widget-view+json": {
       "model_id": "e0265b9a7bf0474ab5c8dbd657007ee7",
       "version_major": 2,
       "version_minor": 0
      },
      "text/plain": [
       "Parsing Locations in ut:   0%|          | 0/16 [00:00<?, ?it/s]"
      ]
     },
     "metadata": {},
     "output_type": "display_data"
    },
    {
     "data": {
      "application/vnd.jupyter.widget-view+json": {
       "model_id": "614ef73e7e284363a1d473a056652757",
       "version_major": 2,
       "version_minor": 0
      },
      "text/plain": [
       "Parsing Locations in va:   0%|          | 0/36 [00:00<?, ?it/s]"
      ]
     },
     "metadata": {},
     "output_type": "display_data"
    },
    {
     "data": {
      "application/vnd.jupyter.widget-view+json": {
       "model_id": "1f1595cc48054eef8e837dc1a150a35e",
       "version_major": 2,
       "version_minor": 0
      },
      "text/plain": [
       "Parsing Locations in wa:   0%|          | 0/32 [00:00<?, ?it/s]"
      ]
     },
     "metadata": {},
     "output_type": "display_data"
    },
    {
     "data": {
      "application/vnd.jupyter.widget-view+json": {
       "model_id": "40b0956285234ad1b70b6652efc4832e",
       "version_major": 2,
       "version_minor": 0
      },
      "text/plain": [
       "Parsing Locations in dc:   0%|          | 0/1 [00:00<?, ?it/s]"
      ]
     },
     "metadata": {},
     "output_type": "display_data"
    },
    {
     "data": {
      "application/vnd.jupyter.widget-view+json": {
       "model_id": "0a161baafdb449a3adea889d7ca38a3f",
       "version_major": 2,
       "version_minor": 0
      },
      "text/plain": [
       "Parsing Locations in wv:   0%|          | 0/5 [00:00<?, ?it/s]"
      ]
     },
     "metadata": {},
     "output_type": "display_data"
    },
    {
     "data": {
      "application/vnd.jupyter.widget-view+json": {
       "model_id": "aa401d7712874a938253f743f1cadd22",
       "version_major": 2,
       "version_minor": 0
      },
      "text/plain": [
       "Parsing Locations in wi:   0%|          | 0/30 [00:00<?, ?it/s]"
      ]
     },
     "metadata": {},
     "output_type": "display_data"
    },
    {
     "data": {
      "application/vnd.jupyter.widget-view+json": {
       "model_id": "8d9d7a0b89944c929a6f86a15323e2cf",
       "version_major": 2,
       "version_minor": 0
      },
      "text/plain": [
       "Parsing Locations in wy:   0%|          | 0/4 [00:00<?, ?it/s]"
      ]
     },
     "metadata": {},
     "output_type": "display_data"
    }
   ],
   "source": [
    "root_url = \"https://locations.baskinrobbins.com/\"\n",
    "r_all_states = scraper.get(root_url)\n",
    "soup = BeautifulSoup(r_all_states.text, \"html.parser\")\n",
    "state_as = soup.find_all(\n",
    "    \"a\",\n",
    "    {\n",
    "        \"class\": \"Link Link--primary border-white inline-block w-full after:content-[attr(data-count)] after:ml-2 sm:border-brand-secondary sm:w-auto\"\n",
    "    },\n",
    ")\n",
    "\n",
    "for state_a in tqdm(state_as, desc=\"Parsing States\"):\n",
    "    state_code = state_a.attrs[\"href\"].split(\"/\")[0]\n",
    "    state_store_list = []\n",
    "\n",
    "    # If File exists continue\n",
    "    if os.path.isfile(f\"data/states/{state_code}.gpkg\"):\n",
    "        continue\n",
    "\n",
    "    state_url = os.path.join(root_url, state_code)\n",
    "\n",
    "    r_state = scraper.get(state_url)\n",
    "    soup_state = BeautifulSoup(r_state.text, \"html.parser\")\n",
    "    location_as = soup_state.find_all(\n",
    "        \"a\",\n",
    "        {\n",
    "            \"class\": \"Link Link--primary border-white inline-block w-full after:content-[attr(data-count)] after:ml-2 sm:border-brand-secondary sm:w-auto\"\n",
    "        },\n",
    "    )\n",
    "\n",
    "    for location_a in tqdm(location_as, desc=f\"Parsing Locations in {state_code}\"):\n",
    "        location_href = \"/\".join(location_a.attrs[\"href\"].split(\"/\")[:2])\n",
    "        location_url = os.path.join(root_url, location_href)\n",
    "        r_location = scraper.get(location_url)\n",
    "        soup_location = BeautifulSoup(r_location.text, \"html.parser\")\n",
    "        store_as = soup_location.find_all(\n",
    "            \"a\",\n",
    "            {\n",
    "                \"class\": \"Link Directorycard block bg-white p-6 border-2 border-brand-gray-700 hover:border-brand-secondary h-full\"\n",
    "            },\n",
    "        )\n",
    "\n",
    "        for store_a in store_as:\n",
    "            store_url = store_a.attrs[\"href\"].replace(\"../\", root_url)\n",
    "            point = get_coords(store_url)\n",
    "            if point:\n",
    "                store_dict = {\"STUSPS\": state_code.upper(), \"geometry\": point}\n",
    "            state_store_list.append(store_dict)\n",
    "\n",
    "        time.sleep(random.uniform(0.01, 0.5))\n",
    "\n",
    "    if state_store_list:\n",
    "        baskin_robbins_gdf = gpd.GeoDataFrame(state_store_list, crs=4326)\n",
    "        baskin_robbins_gdf.to_file(f\"data/states/{state_code}.gpkg\")"
   ]
  },
  {
   "cell_type": "code",
   "execution_count": 46,
   "id": "87874343-408d-458f-813f-f7de5131258e",
   "metadata": {},
   "outputs": [],
   "source": [
    "baskin_robbins_gdfs = []\n",
    "states_path = \"data/states\"\n",
    "for file in os.listdir(\"data/states\"):\n",
    "    constructed_path = os.path.join(states_path, file)\n",
    "    if constructed_path.endswith(\".gpkg\"):\n",
    "        baskin_robbins_gdf = gpd.read_file(constructed_path)\n",
    "        baskin_robbins_gdfs.append(baskin_robbins_gdf)"
   ]
  },
  {
   "cell_type": "code",
   "execution_count": 47,
   "id": "2027270c-8fd9-415b-b4fe-e86ed5e51eaf",
   "metadata": {},
   "outputs": [],
   "source": [
    "baskin_robbins_gdf = gpd.GeoDataFrame(pd.concat(baskin_robbins_gdfs, ignore_index=True))"
   ]
  },
  {
   "cell_type": "code",
   "execution_count": 55,
   "id": "41a68569-acac-485c-8b1d-92a777c29f5e",
   "metadata": {},
   "outputs": [],
   "source": [
    "baskin_robbins_gdf = baskin_robbins_gdf.to_crs(9311)\n",
    "baskin_robbins_gdf.to_file(\"data/baskin_robbins.gpkg\")"
   ]
  },
  {
   "cell_type": "code",
   "execution_count": 56,
   "id": "112af0cc-95bd-4fe3-8310-8bb44dffc1be",
   "metadata": {},
   "outputs": [],
   "source": [
    "baskin_robbins_counts_gdf = pd.DataFrame(\n",
    "    baskin_robbins_gdf.groupby(\"STUSPS\").size(), columns=[\"BASKIN_ROBBINS\"]\n",
    ")\n",
    "baskin_robbins_counts_gdf = baskin_robbins_counts_gdf.reset_index()"
   ]
  },
  {
   "cell_type": "markdown",
   "id": "94cb32a2-faf0-40fa-8616-e8f2275eca72",
   "metadata": {},
   "source": [
    "## Combine With States"
   ]
  },
  {
   "cell_type": "code",
   "execution_count": 57,
   "id": "c062806b-5f76-4d7e-a226-31383a266b6a",
   "metadata": {},
   "outputs": [],
   "source": [
    "baskin_robbins_per_state_gdf = states_with_population_df.merge(\n",
    "    baskin_robbins_counts_gdf, on=\"STUSPS\", how=\"left\"\n",
    ")"
   ]
  },
  {
   "cell_type": "code",
   "execution_count": 58,
   "id": "58e95406-0246-435f-85ee-dcb3f79019fb",
   "metadata": {},
   "outputs": [],
   "source": [
    "baskin_robbins_per_state_gdf = baskin_robbins_per_state_gdf.fillna(0)\n",
    "baskin_robbins_per_state_gdf[\"BASKIN_ROBBINS\"] = baskin_robbins_per_state_gdf[\n",
    "    \"BASKIN_ROBBINS\"\n",
    "].astype(int)"
   ]
  },
  {
   "cell_type": "code",
   "execution_count": 59,
   "id": "8e8b581c-4e0c-40b8-81a9-4ea014470b40",
   "metadata": {},
   "outputs": [],
   "source": [
    "baskin_robbins_per_state_gdf[\"per_1000\"] = baskin_robbins_per_state_gdf[\n",
    "    \"BASKIN_ROBBINS\"\n",
    "] / (baskin_robbins_per_state_gdf[\"POPULATION\"] / 1000)\n",
    "baskin_robbins_per_state_gdf[\"per_10k\"] = baskin_robbins_per_state_gdf[\n",
    "    \"BASKIN_ROBBINS\"\n",
    "] / (baskin_robbins_per_state_gdf[\"POPULATION\"] / 10_000)\n",
    "baskin_robbins_per_state_gdf[\"per_100k\"] = baskin_robbins_per_state_gdf[\n",
    "    \"BASKIN_ROBBINS\"\n",
    "] / (baskin_robbins_per_state_gdf[\"POPULATION\"] / 100000)\n",
    "baskin_robbins_per_state_gdf[\"per_500k\"] = baskin_robbins_per_state_gdf[\n",
    "    \"BASKIN_ROBBINS\"\n",
    "] / (baskin_robbins_per_state_gdf[\"POPULATION\"] / 500_000)\n",
    "baskin_robbins_per_state_gdf[\"per_1m\"] = baskin_robbins_per_state_gdf[\n",
    "    \"BASKIN_ROBBINS\"\n",
    "] / (baskin_robbins_per_state_gdf[\"POPULATION\"] / 1_000_000)"
   ]
  },
  {
   "cell_type": "code",
   "execution_count": 60,
   "id": "237a0e6a-ccc2-4f3b-baad-d36ce4ecc481",
   "metadata": {},
   "outputs": [],
   "source": [
    "baskin_robbins_per_state_gdf = baskin_robbins_per_state_gdf.dropna()"
   ]
  },
  {
   "cell_type": "code",
   "execution_count": 61,
   "id": "944acfaa-313b-4a9f-aecc-53fe95e188be",
   "metadata": {},
   "outputs": [],
   "source": [
    "baskin_robbins_per_state_gdf = baskin_robbins_per_state_gdf.to_crs(9311)\n",
    "baskin_robbins_per_state_gdf.to_file(\"data/baskin_robbins_per_state.gpkg\")"
   ]
  },
  {
   "cell_type": "code",
   "execution_count": null,
   "id": "4857fb82-2869-4020-8a57-c1983c9055b6",
   "metadata": {},
   "outputs": [],
   "source": []
  }
 ],
 "metadata": {
  "kernelspec": {
   "display_name": "Python 3 (ipykernel)",
   "language": "python",
   "name": "python3"
  },
  "language_info": {
   "codemirror_mode": {
    "name": "ipython",
    "version": 3
   },
   "file_extension": ".py",
   "mimetype": "text/x-python",
   "name": "python",
   "nbconvert_exporter": "python",
   "pygments_lexer": "ipython3",
   "version": "3.11.11"
  }
 },
 "nbformat": 4,
 "nbformat_minor": 5
}
