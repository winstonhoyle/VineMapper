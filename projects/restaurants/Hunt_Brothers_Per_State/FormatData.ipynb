{
 "cells": [
  {
   "cell_type": "code",
   "execution_count": 7,
   "id": "c86ad9f6-4aaf-469e-a56e-363083168e1e",
   "metadata": {},
   "outputs": [],
   "source": [
    "import json\n",
    "import os\n",
    "import random\n",
    "import requests\n",
    "import time"
   ]
  },
  {
   "cell_type": "code",
   "execution_count": 8,
   "id": "10fa1d09-7717-4ea8-9ce7-1cef37b4da9c",
   "metadata": {},
   "outputs": [],
   "source": [
    "import geopandas as gpd\n",
    "import h3\n",
    "import pandas as pd"
   ]
  },
  {
   "cell_type": "code",
   "execution_count": 9,
   "id": "d22202a0-bf3c-4953-81ce-105a19e002a0",
   "metadata": {},
   "outputs": [],
   "source": [
    "from shapely.geometry import Point\n",
    "from tqdm.notebook import tqdm"
   ]
  },
  {
   "cell_type": "markdown",
   "id": "02e1dfb5-464d-4984-8c84-5599ce9dcd5d",
   "metadata": {},
   "source": [
    "## Get State Data"
   ]
  },
  {
   "cell_type": "code",
   "execution_count": 10,
   "id": "84b53c65-5746-4ab8-8c99-6dfe3e967797",
   "metadata": {},
   "outputs": [],
   "source": [
    "file_path = \"data/cb_2018_us_state_500k/cb_2018_us_state_500k.shp\"\n",
    "states_df = gpd.read_file(file_path)"
   ]
  },
  {
   "cell_type": "code",
   "execution_count": 11,
   "id": "191755a6-eb92-4683-833e-b69f4be9f3f5",
   "metadata": {},
   "outputs": [],
   "source": [
    "states_df = states_df[[\"STUSPS\", \"NAME\", \"geometry\"]]"
   ]
  },
  {
   "cell_type": "markdown",
   "id": "f3ad4feb-2496-4c2f-827b-04c586ef17ba",
   "metadata": {},
   "source": [
    "## Get Hunt Brothers Data"
   ]
  },
  {
   "cell_type": "code",
   "execution_count": 16,
   "id": "4d4778d4-32ac-4c20-80d3-c99d294da90d",
   "metadata": {},
   "outputs": [],
   "source": [
    "national_restaurant_list = []\n",
    "res = 3\n",
    "margin = 0.5\n",
    "state_counts = {}"
   ]
  },
  {
   "cell_type": "code",
   "execution_count": 19,
   "id": "763857ee-9a16-4fe4-be4e-983c531137da",
   "metadata": {},
   "outputs": [
    {
     "data": {
      "application/vnd.jupyter.widget-view+json": {
       "model_id": "d61573c82a94428a99afb8295f9a2503",
       "version_major": 2,
       "version_minor": 0
      },
      "text/plain": [
       "States:   0%|          | 0/56 [00:00<?, ?it/s]"
      ]
     },
     "metadata": {},
     "output_type": "display_data"
    },
    {
     "data": {
      "application/vnd.jupyter.widget-view+json": {
       "model_id": "31e43f324af84719be79843dad660cdb",
       "version_major": 2,
       "version_minor": 0
      },
      "text/plain": [
       "Parsing state: MA in Resolution: 3:   0%|          | 0/7 [00:00<?, ?it/s]"
      ]
     },
     "metadata": {},
     "output_type": "display_data"
    },
    {
     "name": "stdout",
     "output_type": "stream",
     "text": [
      "MA\n"
     ]
    },
    {
     "data": {
      "application/vnd.jupyter.widget-view+json": {
       "model_id": "878df126de004832868bbd54d753354a",
       "version_major": 2,
       "version_minor": 0
      },
      "text/plain": [
       "Parsing state: WA in Resolution: 3:   0%|          | 0/35 [00:00<?, ?it/s]"
      ]
     },
     "metadata": {},
     "output_type": "display_data"
    },
    {
     "name": "stdout",
     "output_type": "stream",
     "text": [
      "WA\n"
     ]
    },
    {
     "data": {
      "application/vnd.jupyter.widget-view+json": {
       "model_id": "6fdf5911f421474c89700cc832df8ee5",
       "version_major": 2,
       "version_minor": 0
      },
      "text/plain": [
       "Parsing state: CA in Resolution: 3:   0%|          | 0/70 [00:00<?, ?it/s]"
      ]
     },
     "metadata": {},
     "output_type": "display_data"
    },
    {
     "name": "stdout",
     "output_type": "stream",
     "text": [
      "CA\n"
     ]
    },
    {
     "data": {
      "application/vnd.jupyter.widget-view+json": {
       "model_id": "d4c6d25735db4133855a7f5cd279cf37",
       "version_major": 2,
       "version_minor": 0
      },
      "text/plain": [
       "Parsing state: AK in Resolution: 3:   0%|          | 0/203 [00:00<?, ?it/s]"
      ]
     },
     "metadata": {},
     "output_type": "display_data"
    },
    {
     "name": "stdout",
     "output_type": "stream",
     "text": [
      "AK\n"
     ]
    },
    {
     "data": {
      "application/vnd.jupyter.widget-view+json": {
       "model_id": "ca7485f5913343c6902f9c3c7f574f24",
       "version_major": 2,
       "version_minor": 0
      },
      "text/plain": [
       "Parsing state: NV in Resolution: 3:   0%|          | 0/42 [00:00<?, ?it/s]"
      ]
     },
     "metadata": {},
     "output_type": "display_data"
    },
    {
     "name": "stdout",
     "output_type": "stream",
     "text": [
      "NV\n"
     ]
    },
    {
     "data": {
      "application/vnd.jupyter.widget-view+json": {
       "model_id": "803297f1b20149f489a4936e3713b5c8",
       "version_major": 2,
       "version_minor": 0
      },
      "text/plain": [
       "Parsing state: NH in Resolution: 3:   0%|          | 0/7 [00:00<?, ?it/s]"
      ]
     },
     "metadata": {},
     "output_type": "display_data"
    },
    {
     "name": "stdout",
     "output_type": "stream",
     "text": [
      "NH\n"
     ]
    },
    {
     "data": {
      "application/vnd.jupyter.widget-view+json": {
       "model_id": "2bf3b6e1bd274013af50d59b69fdbd74",
       "version_major": 2,
       "version_minor": 0
      },
      "text/plain": [
       "Parsing state: DC in Resolution: 3: 0it [00:00, ?it/s]"
      ]
     },
     "metadata": {},
     "output_type": "display_data"
    },
    {
     "name": "stdout",
     "output_type": "stream",
     "text": [
      "DC\n"
     ]
    },
    {
     "data": {
      "application/vnd.jupyter.widget-view+json": {
       "model_id": "8e3af4893d3c4e65ae02f4211c9490a2",
       "version_major": 2,
       "version_minor": 0
      },
      "text/plain": [
       "Parsing state: NJ in Resolution: 3:   0%|          | 0/7 [00:00<?, ?it/s]"
      ]
     },
     "metadata": {},
     "output_type": "display_data"
    },
    {
     "data": {
      "application/vnd.jupyter.widget-view+json": {
       "model_id": "db4a3a0a5a104df18a45f02a3a202bb1",
       "version_major": 2,
       "version_minor": 0
      },
      "text/plain": [
       "Parsing state: MD in Resolution: 3:   0%|          | 0/14 [00:00<?, ?it/s]"
      ]
     },
     "metadata": {},
     "output_type": "display_data"
    },
    {
     "data": {
      "application/vnd.jupyter.widget-view+json": {
       "model_id": "5abc636864b9499a8bdf6d91a9b392f2",
       "version_major": 2,
       "version_minor": 0
      },
      "text/plain": [
       "Parsing state: ME in Resolution: 3:   0%|          | 0/21 [00:00<?, ?it/s]"
      ]
     },
     "metadata": {},
     "output_type": "display_data"
    },
    {
     "name": "stdout",
     "output_type": "stream",
     "text": [
      "ME\n"
     ]
    },
    {
     "data": {
      "application/vnd.jupyter.widget-view+json": {
       "model_id": "9a89457c63674d19ad3942fd9f6ba0d8",
       "version_major": 2,
       "version_minor": 0
      },
      "text/plain": [
       "Parsing state: HI in Resolution: 3:   0%|          | 0/14 [00:00<?, ?it/s]"
      ]
     },
     "metadata": {},
     "output_type": "display_data"
    },
    {
     "name": "stdout",
     "output_type": "stream",
     "text": [
      "HI\n"
     ]
    },
    {
     "data": {
      "application/vnd.jupyter.widget-view+json": {
       "model_id": "dc7d66d23f6c44928b48c45ec52c8c9e",
       "version_major": 2,
       "version_minor": 0
      },
      "text/plain": [
       "Parsing state: DE in Resolution: 3: 0it [00:00, ?it/s]"
      ]
     },
     "metadata": {},
     "output_type": "display_data"
    },
    {
     "name": "stdout",
     "output_type": "stream",
     "text": [
      "DE\n"
     ]
    },
    {
     "data": {
      "application/vnd.jupyter.widget-view+json": {
       "model_id": "957b9a4e27924afd86d9b35d2607a0b2",
       "version_major": 2,
       "version_minor": 0
      },
      "text/plain": [
       "Parsing state: RI in Resolution: 3:   0%|          | 0/7 [00:00<?, ?it/s]"
      ]
     },
     "metadata": {},
     "output_type": "display_data"
    },
    {
     "name": "stdout",
     "output_type": "stream",
     "text": [
      "RI\n"
     ]
    },
    {
     "data": {
      "application/vnd.jupyter.widget-view+json": {
       "model_id": "67ae9243502b447e95117ce49ca28d92",
       "version_major": 2,
       "version_minor": 0
      },
      "text/plain": [
       "Parsing state: KY in Resolution: 3:   0%|          | 0/21 [00:00<?, ?it/s]"
      ]
     },
     "metadata": {},
     "output_type": "display_data"
    },
    {
     "data": {
      "application/vnd.jupyter.widget-view+json": {
       "model_id": "bd1ce415aab841af844e4c0e3fc80011",
       "version_major": 2,
       "version_minor": 0
      },
      "text/plain": [
       "Parsing state: OH in Resolution: 3:   0%|          | 0/21 [00:00<?, ?it/s]"
      ]
     },
     "metadata": {},
     "output_type": "display_data"
    },
    {
     "data": {
      "application/vnd.jupyter.widget-view+json": {
       "model_id": "a5d5b1ff2d7a47dba1e3e91aec33d9a2",
       "version_major": 2,
       "version_minor": 0
      },
      "text/plain": [
       "Parsing state: WI in Resolution: 3:   0%|          | 0/21 [00:00<?, ?it/s]"
      ]
     },
     "metadata": {},
     "output_type": "display_data"
    },
    {
     "data": {
      "application/vnd.jupyter.widget-view+json": {
       "model_id": "89b6d2777d5744679da8e4afb81b8402",
       "version_major": 2,
       "version_minor": 0
      },
      "text/plain": [
       "Parsing state: OR in Resolution: 3:   0%|          | 0/49 [00:00<?, ?it/s]"
      ]
     },
     "metadata": {},
     "output_type": "display_data"
    },
    {
     "name": "stdout",
     "output_type": "stream",
     "text": [
      "OR\n"
     ]
    },
    {
     "data": {
      "application/vnd.jupyter.widget-view+json": {
       "model_id": "d377e713fa2b481a97ad857f511025cb",
       "version_major": 2,
       "version_minor": 0
      },
      "text/plain": [
       "Parsing state: ND in Resolution: 3:   0%|          | 0/35 [00:00<?, ?it/s]"
      ]
     },
     "metadata": {},
     "output_type": "display_data"
    },
    {
     "data": {
      "application/vnd.jupyter.widget-view+json": {
       "model_id": "e45ca5a9de17482caf290ca053b4950b",
       "version_major": 2,
       "version_minor": 0
      },
      "text/plain": [
       "Parsing state: AR in Resolution: 3:   0%|          | 0/21 [00:00<?, ?it/s]"
      ]
     },
     "metadata": {},
     "output_type": "display_data"
    },
    {
     "data": {
      "application/vnd.jupyter.widget-view+json": {
       "model_id": "a0e97a2400124d61aa8d53dfc712a19a",
       "version_major": 2,
       "version_minor": 0
      },
      "text/plain": [
       "Parsing state: IN in Resolution: 3:   0%|          | 0/28 [00:00<?, ?it/s]"
      ]
     },
     "metadata": {},
     "output_type": "display_data"
    },
    {
     "data": {
      "application/vnd.jupyter.widget-view+json": {
       "model_id": "b1ab27b8d248441aa8e326995544839f",
       "version_major": 2,
       "version_minor": 0
      },
      "text/plain": [
       "Parsing state: MN in Resolution: 3:   0%|          | 0/49 [00:00<?, ?it/s]"
      ]
     },
     "metadata": {},
     "output_type": "display_data"
    },
    {
     "data": {
      "application/vnd.jupyter.widget-view+json": {
       "model_id": "df274c282768467dbb64cb8067f23465",
       "version_major": 2,
       "version_minor": 0
      },
      "text/plain": [
       "Parsing state: CT in Resolution: 3:   0%|          | 0/7 [00:00<?, ?it/s]"
      ]
     },
     "metadata": {},
     "output_type": "display_data"
    }
   ],
   "source": [
    "for i in tqdm(range(len(states_df)), desc=\"States\"):\n",
    "    state_restaurant_list = []\n",
    "\n",
    "    state_code = states_df.iloc[i][\"STUSPS\"]\n",
    "    if state_code in [\"PR\", \"VI\", \"GU\", \"MP\", \"AS\"]:\n",
    "        continue\n",
    "\n",
    "    # If File exists continue\n",
    "    if os.path.isfile(f\"data/states/{state_code}.gpkg\"):\n",
    "        continue\n",
    "\n",
    "    state_shape = states_df.iloc[i][\"geometry\"]\n",
    "    h3_shape = h3.geo_to_h3shape(state_shape)\n",
    "    h3_cells = h3.h3shape_to_cells(h3_shape, res=res)\n",
    "    parents = [\n",
    "        h3.cell_to_children(parent)\n",
    "        for parent in [h3.cell_to_parent(h3_cell) for h3_cell in h3_cells]\n",
    "    ]\n",
    "    h3_cells = list(set(sum(parents, [])))\n",
    "\n",
    "    for h3_cell in tqdm(\n",
    "        h3_cells, desc=f\"Parsing state: {state_code} in Resolution: {res}\"\n",
    "    ):\n",
    "        boundary_points = h3.cell_to_boundary(h3_cell)\n",
    "        lats = [point[0] for point in boundary_points]\n",
    "        lngs = [point[1] for point in boundary_points]\n",
    "\n",
    "        url = \"https://api.huntbrotherspizza.com/location/wp_search_result\"\n",
    "        params = {\n",
    "            \"latitude:range[start]\": str(min(lats) - margin),\n",
    "            \"latitude:range[end]\": str(max(lats) + margin),\n",
    "            \"longitude:range[start]\": str(min(lngs) - margin),\n",
    "            \"longitude:range[end]\": str(max(lngs) + margin),\n",
    "            \"published\": True,\n",
    "        }\n",
    "        locations = requests.get(url, params=params)\n",
    "\n",
    "        if not locations.text:\n",
    "            continue\n",
    "\n",
    "        # pattern = r\"\\[id\\] => (\\d+).*?\\[latitude\\] => ([\\d\\.-]+).*?\\[longitude\\] => ([\\d\\.-]+)\"\n",
    "        # matches = re.findall(pattern, locations.text, re.DOTALL)\n",
    "\n",
    "        # for id_val, lat, lon in matches:\n",
    "        #    store_dict = {\"id\": id_val, \"geometry\": Point(lon, lat)}\n",
    "        #    state_restaurant_list.append(store_dict)\n",
    "        #    national_restaurant_list.append(store_dict)\n",
    "\n",
    "        stores = locations.json()[\"payload\"]\n",
    "        for store in stores:\n",
    "            store_dict = {\n",
    "                \"id\": store[\"id\"],\n",
    "                \"geometry\": Point(store[\"longitude\"], store[\"latitude\"]),\n",
    "            }\n",
    "            state_restaurant_list.append(store_dict)\n",
    "            national_restaurant_list.append(store_dict)\n",
    "\n",
    "        time.sleep(random.uniform(0.01, 0.5))\n",
    "\n",
    "    if not state_restaurant_list:\n",
    "        print(state_code)\n",
    "        continue\n",
    "\n",
    "    state_hunt_brothers = gpd.GeoDataFrame(state_restaurant_list, crs=4326)\n",
    "    state_hunt_brothers = state_hunt_brothers.drop_duplicates(\"id\")\n",
    "    state_hunt_brothers = state_hunt_brothers[\n",
    "        state_hunt_brothers.intersects(state_shape)\n",
    "    ]\n",
    "    state_hunt_brothers = state_hunt_brothers.reset_index(drop=True)\n",
    "    state_hunt_brothers.to_file(f\"data/states/{state_code}.gpkg\")\n",
    "    state_counts[state_code] = len(state_hunt_brothers)"
   ]
  },
  {
   "cell_type": "code",
   "execution_count": 23,
   "id": "07fc9a87-fd84-47bf-aab4-ef0c76888907",
   "metadata": {},
   "outputs": [],
   "source": [
    "national_hunt_brothers = gpd.GeoDataFrame(national_restaurant_list, crs=4326)\n",
    "national_hunt_brothers = national_hunt_brothers.drop_duplicates(\"id\")\n",
    "national_hunt_brothers = national_hunt_brothers.reset_index(drop=True)\n",
    "national_hunt_brothers.to_file(f\"data/locations.gpkg\")"
   ]
  },
  {
   "cell_type": "code",
   "execution_count": 59,
   "id": "da697ba0-453b-4f76-ae04-e419d5c25ab9",
   "metadata": {},
   "outputs": [],
   "source": [
    "national_hunt_brothers_gdfs = []\n",
    "states_path = \"data/states\"\n",
    "for file in os.listdir(\"data/states\"):\n",
    "    constructed_path = os.path.join(states_path, file)\n",
    "    if constructed_path.endswith(\".gpkg\"):\n",
    "        state_hunt_brother_gdf = gpd.read_file(constructed_path)\n",
    "        national_hunt_brothers_gdfs.append(state_hunt_brother_gdf)"
   ]
  },
  {
   "cell_type": "markdown",
   "id": "5a42dfab-fc47-49d7-8092-f08b31392df8",
   "metadata": {},
   "source": [
    "## Get Population Data"
   ]
  },
  {
   "cell_type": "code",
   "execution_count": 60,
   "id": "3cce9c91-abf1-4055-8b9a-5fd1f6cf611f",
   "metadata": {},
   "outputs": [],
   "source": [
    "state_populations = pd.read_excel(\n",
    "    \"data/NST-EST2023-POP.xlsx\", sheet_name=None, engine=\"openpyxl\"\n",
    ")"
   ]
  },
  {
   "cell_type": "code",
   "execution_count": 61,
   "id": "2eaacc28-fa8e-410e-b084-02ce24ec11a1",
   "metadata": {},
   "outputs": [],
   "source": [
    "state_populations_df = state_populations[\"NST-EST2023-POP\"][\n",
    "    [\n",
    "        \"table with row headers in column A and column headers in rows 3 through 4. (leading dots indicate sub-parts)\",\n",
    "        \"Unnamed: 5\",\n",
    "    ]\n",
    "]\n",
    "state_populations_df = state_populations_df.rename(\n",
    "    columns={\n",
    "        \"table with row headers in column A and column headers in rows 3 through 4. (leading dots indicate sub-parts)\": \"NAME\",\n",
    "        \"Unnamed: 5\": \"POPULATION\",\n",
    "    }\n",
    ")\n",
    "state_populations_df[\"NAME\"] = state_populations_df[\"NAME\"].str[1:]"
   ]
  },
  {
   "cell_type": "code",
   "execution_count": 62,
   "id": "2d6342e1-fc3f-4006-8d8a-d7612903a625",
   "metadata": {},
   "outputs": [],
   "source": [
    "states_with_population_df = states_df.merge(state_populations_df, on=\"NAME\", how=\"left\")\n",
    "states_with_population_df = states_with_population_df[\n",
    "    [\"STUSPS\", \"POPULATION\", \"geometry\", \"NAME\"]\n",
    "]"
   ]
  },
  {
   "cell_type": "code",
   "execution_count": 63,
   "id": "94150db1-9ce7-43cb-8c08-3f6d9bb58497",
   "metadata": {},
   "outputs": [],
   "source": [
    "states_with_population_df = states_with_population_df.dropna()"
   ]
  },
  {
   "cell_type": "markdown",
   "id": "af5c5e13-c89d-43ed-8021-13ba93990599",
   "metadata": {},
   "source": [
    "## Merge Data"
   ]
  },
  {
   "cell_type": "code",
   "execution_count": 64,
   "id": "f6900380-39b5-4cca-abf9-b46f7b886f9d",
   "metadata": {},
   "outputs": [],
   "source": [
    "hunt_brothers_per_state_counts_df = pd.Series(state_counts, name=\"stores\")\n",
    "hunt_brothers_per_state_counts_df = hunt_brothers_per_state_counts_df.reset_index()\n",
    "hunt_brothers_per_state_counts_df = hunt_brothers_per_state_counts_df.rename(\n",
    "    columns={\"index\": \"STUSPS\"}\n",
    ")"
   ]
  },
  {
   "cell_type": "code",
   "execution_count": 65,
   "id": "8a4afa33-893a-4b6b-8df1-f5151243deeb",
   "metadata": {},
   "outputs": [],
   "source": [
    "hunt_brothers_per_state_df = states_with_population_df.merge(\n",
    "    hunt_brothers_per_state_counts_df, on=\"STUSPS\", how=\"left\"\n",
    ")\n",
    "hunt_brothers_per_state_df = national_hunt_brothers.fillna(0)"
   ]
  },
  {
   "cell_type": "code",
   "execution_count": 66,
   "id": "f50526e2-4c7a-4d13-8d5e-aaddbeec7751",
   "metadata": {},
   "outputs": [],
   "source": [
    "hunt_brothers_per_state_df[\"per_1000\"] = hunt_brothers_per_state_df[\"stores\"] / (\n",
    "    hunt_brothers_per_state_df[\"POPULATION\"] / 1000\n",
    ")\n",
    "hunt_brothers_per_state_df[\"per_10k\"] = hunt_brothers_per_state_df[\"stores\"] / (\n",
    "    hunt_brothers_per_state_df[\"POPULATION\"] / 10_000\n",
    ")\n",
    "hunt_brothers_per_state_df[\"per_100k\"] = hunt_brothers_per_state_df[\"stores\"] / (\n",
    "    hunt_brothers_per_state_df[\"POPULATION\"] / 100000\n",
    ")\n",
    "hunt_brothers_per_state_df[\"per_500k\"] = hunt_brothers_per_state_df[\"stores\"] / (\n",
    "    hunt_brothers_per_state_df[\"POPULATION\"] / 500_000\n",
    ")\n",
    "hunt_brothers_per_state_df[\"per_1m\"] = hunt_brothers_per_state_df[\"stores\"] / (\n",
    "    hunt_brothers_per_state_df[\"POPULATION\"] / 1_000_000\n",
    ")\n",
    "hunt_brothers_per_state_df[\"per_capita\"] = (\n",
    "    hunt_brothers_per_state_df[\"POPULATION\"] / hunt_brothers_per_state_df[\"stores\"]\n",
    ")"
   ]
  },
  {
   "cell_type": "code",
   "execution_count": 67,
   "id": "4d00c57e-a978-4938-b5f5-cb176b29cf77",
   "metadata": {},
   "outputs": [],
   "source": [
    "hunt_brothers_per_state_df = hunt_brothers_per_state_df.to_crs(9311)"
   ]
  },
  {
   "cell_type": "code",
   "execution_count": 68,
   "id": "f8feb339-fc3c-41f9-8bd8-50ee507bb185",
   "metadata": {},
   "outputs": [],
   "source": [
    "hunt_brothers_per_state_df.to_file(\"data/hunt_brothers_per_state.gpkg\")"
   ]
  },
  {
   "cell_type": "code",
   "execution_count": null,
   "id": "6fe12df3-c59b-48b5-bd11-cdbae9436a65",
   "metadata": {},
   "outputs": [],
   "source": []
  },
  {
   "cell_type": "code",
   "execution_count": null,
   "id": "fc363c18-848a-4645-9df1-3e17bd99d99f",
   "metadata": {},
   "outputs": [],
   "source": []
  }
 ],
 "metadata": {
  "kernelspec": {
   "display_name": "Python 3 (ipykernel)",
   "language": "python",
   "name": "python3"
  },
  "language_info": {
   "codemirror_mode": {
    "name": "ipython",
    "version": 3
   },
   "file_extension": ".py",
   "mimetype": "text/x-python",
   "name": "python",
   "nbconvert_exporter": "python",
   "pygments_lexer": "ipython3",
   "version": "3.11.11"
  }
 },
 "nbformat": 4,
 "nbformat_minor": 5
}
