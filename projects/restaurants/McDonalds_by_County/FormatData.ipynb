{
 "cells": [
  {
   "cell_type": "code",
   "execution_count": 1,
   "id": "10fa1d09-7717-4ea8-9ce7-1cef37b4da9c",
   "metadata": {},
   "outputs": [],
   "source": [
    "import geopandas as gpd"
   ]
  },
  {
   "cell_type": "markdown",
   "id": "02e1dfb5-464d-4984-8c84-5599ce9dcd5d",
   "metadata": {},
   "source": [
    "## Get County Data"
   ]
  },
  {
   "cell_type": "code",
   "execution_count": 6,
   "id": "84b53c65-5746-4ab8-8c99-6dfe3e967797",
   "metadata": {},
   "outputs": [],
   "source": [
    "file_path = \"data/cb_2018_us_county_500k/cb_2018_us_county_500k.shp\"\n",
    "counties_gdf = gpd.read_file(file_path)"
   ]
  },
  {
   "cell_type": "markdown",
   "id": "f3ad4feb-2496-4c2f-827b-04c586ef17ba",
   "metadata": {},
   "source": [
    "## Open McDonalds Data"
   ]
  },
  {
   "cell_type": "code",
   "execution_count": 8,
   "id": "b7a1298b-c648-490d-bdef-9cd7a0c6715e",
   "metadata": {},
   "outputs": [],
   "source": [
    "file_path = \"data/mcdonalds_va_h3_5.gpkg\"\n",
    "mcdonalds_gdf = gpd.read_file(file_path)"
   ]
  },
  {
   "cell_type": "markdown",
   "id": "af5c5e13-c89d-43ed-8021-13ba93990599",
   "metadata": {},
   "source": [
    "## Intersect Data"
   ]
  },
  {
   "cell_type": "code",
   "execution_count": 23,
   "id": "713e3811-68f9-4ad1-b8c1-508ff121272b",
   "metadata": {},
   "outputs": [],
   "source": [
    "counties_gdf = counties_gdf.to_crs(mcdonalds_gdf.crs.srs)"
   ]
  },
  {
   "cell_type": "code",
   "execution_count": 24,
   "id": "41e05ca2-18c1-4a66-86b8-9661ba3e8850",
   "metadata": {},
   "outputs": [],
   "source": [
    "counties_gdf[\"intersect_true\"] = counties_gdf.intersects(mcdonalds_gdf.union_all())"
   ]
  },
  {
   "cell_type": "code",
   "execution_count": 30,
   "id": "84483e3f-db3c-4c27-9e66-e671b5bc71ef",
   "metadata": {},
   "outputs": [],
   "source": [
    "counties_gdf = counties_gdf.to_crs(9311)[[\"geometry\", \"intersect_true\"]]"
   ]
  },
  {
   "cell_type": "code",
   "execution_count": 31,
   "id": "6fe12df3-c59b-48b5-bd11-cdbae9436a65",
   "metadata": {},
   "outputs": [],
   "source": [
    "counties_gdf.to_file(\"data/mcdonalds_by_county.gpkg\")"
   ]
  },
  {
   "cell_type": "code",
   "execution_count": null,
   "id": "03178200-d19e-4f1d-91c7-346397fe6959",
   "metadata": {},
   "outputs": [],
   "source": []
  }
 ],
 "metadata": {
  "kernelspec": {
   "display_name": "Python 3 (ipykernel)",
   "language": "python",
   "name": "python3"
  },
  "language_info": {
   "codemirror_mode": {
    "name": "ipython",
    "version": 3
   },
   "file_extension": ".py",
   "mimetype": "text/x-python",
   "name": "python",
   "nbconvert_exporter": "python",
   "pygments_lexer": "ipython3",
   "version": "3.11.11"
  }
 },
 "nbformat": 4,
 "nbformat_minor": 5
}
