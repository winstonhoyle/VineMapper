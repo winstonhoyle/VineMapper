{
 "cells": [
  {
   "cell_type": "code",
   "execution_count": 15,
   "id": "c86ad9f6-4aaf-469e-a56e-363083168e1e",
   "metadata": {},
   "outputs": [],
   "source": [
    "import os\n",
    "import re\n",
    "import random\n",
    "import json\n",
    "import time"
   ]
  },
  {
   "cell_type": "code",
   "execution_count": 16,
   "id": "119bf4ac-df6b-4696-890e-1773ed9075ba",
   "metadata": {},
   "outputs": [],
   "source": [
    "from urllib.parse import urljoin"
   ]
  },
  {
   "cell_type": "code",
   "execution_count": 17,
   "id": "10fa1d09-7717-4ea8-9ce7-1cef37b4da9c",
   "metadata": {},
   "outputs": [],
   "source": [
    "import cloudscraper\n",
    "from bs4 import BeautifulSoup\n",
    "import geopandas as gpd\n",
    "import pandas as pd"
   ]
  },
  {
   "cell_type": "code",
   "execution_count": 18,
   "id": "d22202a0-bf3c-4953-81ce-105a19e002a0",
   "metadata": {},
   "outputs": [],
   "source": [
    "from shapely.geometry import Point\n",
    "from tqdm.notebook import tqdm"
   ]
  },
  {
   "cell_type": "markdown",
   "id": "02e1dfb5-464d-4984-8c84-5599ce9dcd5d",
   "metadata": {},
   "source": [
    "## Get State Data"
   ]
  },
  {
   "cell_type": "code",
   "execution_count": 19,
   "id": "84b53c65-5746-4ab8-8c99-6dfe3e967797",
   "metadata": {},
   "outputs": [],
   "source": [
    "file_path = \"data/cb_2018_us_state_500k/cb_2018_us_state_500k.shp\"\n",
    "states_df = gpd.read_file(file_path)"
   ]
  },
  {
   "cell_type": "code",
   "execution_count": 20,
   "id": "191755a6-eb92-4683-833e-b69f4be9f3f5",
   "metadata": {},
   "outputs": [],
   "source": [
    "states_df = states_df[[\"STUSPS\", \"NAME\", \"geometry\"]]"
   ]
  },
  {
   "cell_type": "markdown",
   "id": "f3ad4feb-2496-4c2f-827b-04c586ef17ba",
   "metadata": {},
   "source": [
    "## Get Chipotle Data"
   ]
  },
  {
   "cell_type": "code",
   "execution_count": 21,
   "id": "4c063aa4-d1b0-400e-a449-8125a2a0596a",
   "metadata": {},
   "outputs": [],
   "source": [
    "scraper = cloudscraper.create_scraper()"
   ]
  },
  {
   "cell_type": "code",
   "execution_count": 22,
   "id": "267af8f6-5ae7-4c32-864b-5f970236c8b8",
   "metadata": {},
   "outputs": [],
   "source": [
    "def get_coords(store_url: str) -> Point:\n",
    "    r = scraper.get(store_url)\n",
    "    soup = BeautifulSoup(r.text, \"html.parser\")\n",
    "    store_dict = json.loads(soup.find(\"script\", {\"type\": \"application/ld+json\"}).text)\n",
    "    lat = round(float(store_dict[\"@graph\"][1][\"geo\"][\"latitude\"]), 6)\n",
    "    lon = round(float(store_dict[\"@graph\"][1][\"geo\"][\"longitude\"]), 6)\n",
    "    return Point(lon, lat)"
   ]
  },
  {
   "cell_type": "code",
   "execution_count": 23,
   "id": "b074441f-f39f-4917-a926-df22d1d8d308",
   "metadata": {},
   "outputs": [],
   "source": [
    "def get_urls(url: str) -> list:\n",
    "    r = scraper.get(url)\n",
    "    soup = BeautifulSoup(r.text, \"html.parser\")\n",
    "    ul = soup.find(\n",
    "        \"ul\", {\"class\": \"lg:columns-4 md:columns-3 sm:columns-2 columns-1 lg:-m-3\"}\n",
    "    )\n",
    "    urls = [urljoin(url, a.attrs[\"href\"]) for a in ul.find_all(\"a\")]\n",
    "    return urls"
   ]
  },
  {
   "cell_type": "code",
   "execution_count": 24,
   "id": "26ae91ce-c229-467c-a23d-3b9981072df9",
   "metadata": {},
   "outputs": [],
   "source": [
    "def find_stores(url: str) -> list:\n",
    "    base_url = \"https://locations.qdoba.com/\"\n",
    "    r = scraper.get(url)\n",
    "    soup = BeautifulSoup(r.text, \"html.parser\")\n",
    "    h3s = soup.find_all(\"h3\", {\"class\": \"locationProjectName\"})\n",
    "    return [h3.find_next(\"a\").attrs[\"href\"].replace(\"../../\", base_url) for h3 in h3s]"
   ]
  },
  {
   "cell_type": "code",
   "execution_count": 26,
   "id": "b1793bb5-26c3-4408-8572-175ba688bb03",
   "metadata": {},
   "outputs": [
    {
     "data": {
      "application/vnd.jupyter.widget-view+json": {
       "model_id": "89059028bb3d4b12a60fb49f6e88fdf2",
       "version_major": 2,
       "version_minor": 0
      },
      "text/plain": [
       "Parsing States:   0%|          | 0/46 [00:00<?, ?it/s]"
      ]
     },
     "metadata": {},
     "output_type": "display_data"
    },
    {
     "data": {
      "application/vnd.jupyter.widget-view+json": {
       "model_id": "daad23cd648543e49bce0c88901c93c7",
       "version_major": 2,
       "version_minor": 0
      },
      "text/plain": [
       "Parsing Locations in FL:   0%|          | 0/19 [00:00<?, ?it/s]"
      ]
     },
     "metadata": {},
     "output_type": "display_data"
    },
    {
     "data": {
      "application/vnd.jupyter.widget-view+json": {
       "model_id": "100648761892403e8b91d0a7c240faac",
       "version_major": 2,
       "version_minor": 0
      },
      "text/plain": [
       "Parsing Locations in GA:   0%|          | 0/8 [00:00<?, ?it/s]"
      ]
     },
     "metadata": {},
     "output_type": "display_data"
    },
    {
     "data": {
      "application/vnd.jupyter.widget-view+json": {
       "model_id": "5b4bfcd780a449538f923d6ae9bd8b27",
       "version_major": 2,
       "version_minor": 0
      },
      "text/plain": [
       "Parsing Locations in ID:   0%|          | 0/5 [00:00<?, ?it/s]"
      ]
     },
     "metadata": {},
     "output_type": "display_data"
    },
    {
     "data": {
      "application/vnd.jupyter.widget-view+json": {
       "model_id": "ccf69802de6942bbbaf95e6402e8b82c",
       "version_major": 2,
       "version_minor": 0
      },
      "text/plain": [
       "Parsing Locations in IL:   0%|          | 0/19 [00:00<?, ?it/s]"
      ]
     },
     "metadata": {},
     "output_type": "display_data"
    },
    {
     "name": "stdout",
     "output_type": "stream",
     "text": [
      "https://locations.qdoba.com/us/il/east-peoria/1040-w-camp-st 'NoneType' object has no attribute 'text'\n"
     ]
    },
    {
     "data": {
      "application/vnd.jupyter.widget-view+json": {
       "model_id": "99de3fc3b4c1422191a87318885d5165",
       "version_major": 2,
       "version_minor": 0
      },
      "text/plain": [
       "Parsing Locations in IN:   0%|          | 0/32 [00:00<?, ?it/s]"
      ]
     },
     "metadata": {},
     "output_type": "display_data"
    },
    {
     "data": {
      "application/vnd.jupyter.widget-view+json": {
       "model_id": "4362bfb2d0634a1997d7c27018d853be",
       "version_major": 2,
       "version_minor": 0
      },
      "text/plain": [
       "Parsing Locations in IA:   0%|          | 0/4 [00:00<?, ?it/s]"
      ]
     },
     "metadata": {},
     "output_type": "display_data"
    },
    {
     "data": {
      "application/vnd.jupyter.widget-view+json": {
       "model_id": "4650cc1dcc1940efbf38852793d930bf",
       "version_major": 2,
       "version_minor": 0
      },
      "text/plain": [
       "Parsing Locations in KS:   0%|          | 0/12 [00:00<?, ?it/s]"
      ]
     },
     "metadata": {},
     "output_type": "display_data"
    },
    {
     "data": {
      "application/vnd.jupyter.widget-view+json": {
       "model_id": "1af1acd5db624d02a1d13b0f12773f24",
       "version_major": 2,
       "version_minor": 0
      },
      "text/plain": [
       "Parsing Locations in KY:   0%|          | 0/13 [00:00<?, ?it/s]"
      ]
     },
     "metadata": {},
     "output_type": "display_data"
    },
    {
     "data": {
      "application/vnd.jupyter.widget-view+json": {
       "model_id": "8a6727307fc34cf8896185597938c114",
       "version_major": 2,
       "version_minor": 0
      },
      "text/plain": [
       "Parsing Locations in LA:   0%|          | 0/3 [00:00<?, ?it/s]"
      ]
     },
     "metadata": {},
     "output_type": "display_data"
    },
    {
     "data": {
      "application/vnd.jupyter.widget-view+json": {
       "model_id": "0c328317d5814cabbd4389a07d100a3a",
       "version_major": 2,
       "version_minor": 0
      },
      "text/plain": [
       "Parsing Locations in MD:   0%|          | 0/19 [00:00<?, ?it/s]"
      ]
     },
     "metadata": {},
     "output_type": "display_data"
    },
    {
     "name": "stdout",
     "output_type": "stream",
     "text": [
      "https://locations.qdoba.com/us/md/fort-meade/fort-meade 'NoneType' object has no attribute 'text'\n"
     ]
    },
    {
     "data": {
      "application/vnd.jupyter.widget-view+json": {
       "model_id": "b5514916fdd043f8b5688ec862b713f9",
       "version_major": 2,
       "version_minor": 0
      },
      "text/plain": [
       "Parsing Locations in MA:   0%|          | 0/16 [00:00<?, ?it/s]"
      ]
     },
     "metadata": {},
     "output_type": "display_data"
    },
    {
     "data": {
      "application/vnd.jupyter.widget-view+json": {
       "model_id": "6225d55b791648238b7178e718321a31",
       "version_major": 2,
       "version_minor": 0
      },
      "text/plain": [
       "Parsing Locations in MI:   0%|          | 0/58 [00:00<?, ?it/s]"
      ]
     },
     "metadata": {},
     "output_type": "display_data"
    },
    {
     "data": {
      "application/vnd.jupyter.widget-view+json": {
       "model_id": "48680f729b2a4fce99f0e4af30e900a2",
       "version_major": 2,
       "version_minor": 0
      },
      "text/plain": [
       "Parsing Locations in MN:   0%|          | 0/26 [00:00<?, ?it/s]"
      ]
     },
     "metadata": {},
     "output_type": "display_data"
    },
    {
     "data": {
      "application/vnd.jupyter.widget-view+json": {
       "model_id": "4a9e2b9c0d4e44029b60a7e441e3637e",
       "version_major": 2,
       "version_minor": 0
      },
      "text/plain": [
       "Parsing Locations in MS:   0%|          | 0/3 [00:00<?, ?it/s]"
      ]
     },
     "metadata": {},
     "output_type": "display_data"
    },
    {
     "data": {
      "application/vnd.jupyter.widget-view+json": {
       "model_id": "83c06658b5a7438597a117b7eb9c2c3c",
       "version_major": 2,
       "version_minor": 0
      },
      "text/plain": [
       "Parsing Locations in MO:   0%|          | 0/28 [00:00<?, ?it/s]"
      ]
     },
     "metadata": {},
     "output_type": "display_data"
    },
    {
     "data": {
      "application/vnd.jupyter.widget-view+json": {
       "model_id": "df4b8b85a9e54ad7a2946f534c6033be",
       "version_major": 2,
       "version_minor": 0
      },
      "text/plain": [
       "Parsing Locations in MT:   0%|          | 0/5 [00:00<?, ?it/s]"
      ]
     },
     "metadata": {},
     "output_type": "display_data"
    },
    {
     "data": {
      "application/vnd.jupyter.widget-view+json": {
       "model_id": "23aee5f14a824f12bb3985047a4d8fa6",
       "version_major": 2,
       "version_minor": 0
      },
      "text/plain": [
       "Parsing Locations in NE:   0%|          | 0/11 [00:00<?, ?it/s]"
      ]
     },
     "metadata": {},
     "output_type": "display_data"
    },
    {
     "data": {
      "application/vnd.jupyter.widget-view+json": {
       "model_id": "3be0cbc78e16408298cbe7ec703238dd",
       "version_major": 2,
       "version_minor": 0
      },
      "text/plain": [
       "Parsing Locations in NV:   0%|          | 0/7 [00:00<?, ?it/s]"
      ]
     },
     "metadata": {},
     "output_type": "display_data"
    },
    {
     "data": {
      "application/vnd.jupyter.widget-view+json": {
       "model_id": "4b54779a24b34b6dbee276ead5be5c16",
       "version_major": 2,
       "version_minor": 0
      },
      "text/plain": [
       "Parsing Locations in NH:   0%|          | 0/1 [00:00<?, ?it/s]"
      ]
     },
     "metadata": {},
     "output_type": "display_data"
    },
    {
     "data": {
      "application/vnd.jupyter.widget-view+json": {
       "model_id": "1855301a84e5468cb7e73f012c9269f9",
       "version_major": 2,
       "version_minor": 0
      },
      "text/plain": [
       "Parsing Locations in NJ:   0%|          | 0/25 [00:00<?, ?it/s]"
      ]
     },
     "metadata": {},
     "output_type": "display_data"
    },
    {
     "name": "stdout",
     "output_type": "stream",
     "text": [
      "https://locations.qdoba.com/us/nj/patterson/186-218-maple-st 'NoneType' object has no attribute 'text'\n"
     ]
    },
    {
     "data": {
      "application/vnd.jupyter.widget-view+json": {
       "model_id": "307b14813af54a9a81b51787509455e5",
       "version_major": 2,
       "version_minor": 0
      },
      "text/plain": [
       "Parsing Locations in NY:   0%|          | 0/15 [00:00<?, ?it/s]"
      ]
     },
     "metadata": {},
     "output_type": "display_data"
    },
    {
     "name": "stdout",
     "output_type": "stream",
     "text": [
      "https://locations.qdoba.com/us/ny/new-york\n"
     ]
    },
    {
     "data": {
      "application/vnd.jupyter.widget-view+json": {
       "model_id": "46b7cf84e93d4bd2a4db65289e806095",
       "version_major": 2,
       "version_minor": 0
      },
      "text/plain": [
       "Parsing Locations in NC:   0%|          | 0/11 [00:00<?, ?it/s]"
      ]
     },
     "metadata": {},
     "output_type": "display_data"
    },
    {
     "data": {
      "application/vnd.jupyter.widget-view+json": {
       "model_id": "ea20e755cb3e4e2799d6902bff38c55a",
       "version_major": 2,
       "version_minor": 0
      },
      "text/plain": [
       "Parsing Locations in ND:   0%|          | 0/6 [00:00<?, ?it/s]"
      ]
     },
     "metadata": {},
     "output_type": "display_data"
    },
    {
     "data": {
      "application/vnd.jupyter.widget-view+json": {
       "model_id": "01a9a08573694ff29d917b845c94c2c6",
       "version_major": 2,
       "version_minor": 0
      },
      "text/plain": [
       "Parsing Locations in OH:   0%|          | 0/16 [00:00<?, ?it/s]"
      ]
     },
     "metadata": {},
     "output_type": "display_data"
    },
    {
     "data": {
      "application/vnd.jupyter.widget-view+json": {
       "model_id": "24897c4b770a41b7b6a07ab00c611355",
       "version_major": 2,
       "version_minor": 0
      },
      "text/plain": [
       "Parsing Locations in OK:   0%|          | 0/15 [00:00<?, ?it/s]"
      ]
     },
     "metadata": {},
     "output_type": "display_data"
    },
    {
     "data": {
      "application/vnd.jupyter.widget-view+json": {
       "model_id": "f396caa875fa409f9dffe96bd6e1c6c2",
       "version_major": 2,
       "version_minor": 0
      },
      "text/plain": [
       "Parsing Locations in OR:   0%|          | 0/8 [00:00<?, ?it/s]"
      ]
     },
     "metadata": {},
     "output_type": "display_data"
    },
    {
     "data": {
      "application/vnd.jupyter.widget-view+json": {
       "model_id": "65bf80275b344482947374e2052ab49a",
       "version_major": 2,
       "version_minor": 0
      },
      "text/plain": [
       "Parsing Locations in PA:   0%|          | 0/23 [00:00<?, ?it/s]"
      ]
     },
     "metadata": {},
     "output_type": "display_data"
    },
    {
     "name": "stdout",
     "output_type": "stream",
     "text": [
      "https://locations.qdoba.com/us/pa/bryn-mawr/1112-w-lancaster-ave 'NoneType' object has no attribute 'text'\n"
     ]
    },
    {
     "data": {
      "application/vnd.jupyter.widget-view+json": {
       "model_id": "3678d239f5854f6b842672bf7898fb09",
       "version_major": 2,
       "version_minor": 0
      },
      "text/plain": [
       "Parsing Locations in SC:   0%|          | 0/2 [00:00<?, ?it/s]"
      ]
     },
     "metadata": {},
     "output_type": "display_data"
    },
    {
     "data": {
      "application/vnd.jupyter.widget-view+json": {
       "model_id": "a8e8a30498f940a5919e1016f6ba8427",
       "version_major": 2,
       "version_minor": 0
      },
      "text/plain": [
       "Parsing Locations in SD:   0%|          | 0/7 [00:00<?, ?it/s]"
      ]
     },
     "metadata": {},
     "output_type": "display_data"
    },
    {
     "data": {
      "application/vnd.jupyter.widget-view+json": {
       "model_id": "e346ba172d3c438f8a415a86821bede3",
       "version_major": 2,
       "version_minor": 0
      },
      "text/plain": [
       "Parsing Locations in TN:   0%|          | 0/1 [00:00<?, ?it/s]"
      ]
     },
     "metadata": {},
     "output_type": "display_data"
    },
    {
     "data": {
      "application/vnd.jupyter.widget-view+json": {
       "model_id": "a5b3f8cdff0746e3af63cf65a2761bd7",
       "version_major": 2,
       "version_minor": 0
      },
      "text/plain": [
       "Parsing Locations in TX:   0%|          | 0/18 [00:00<?, ?it/s]"
      ]
     },
     "metadata": {},
     "output_type": "display_data"
    },
    {
     "data": {
      "application/vnd.jupyter.widget-view+json": {
       "model_id": "e0e7e78cc1a04db78289647ba3be0eb9",
       "version_major": 2,
       "version_minor": 0
      },
      "text/plain": [
       "Parsing Locations in UT:   0%|          | 0/2 [00:00<?, ?it/s]"
      ]
     },
     "metadata": {},
     "output_type": "display_data"
    },
    {
     "data": {
      "application/vnd.jupyter.widget-view+json": {
       "model_id": "57e32479b3524edf964e31952ffeab2f",
       "version_major": 2,
       "version_minor": 0
      },
      "text/plain": [
       "Parsing Locations in VA:   0%|          | 0/28 [00:00<?, ?it/s]"
      ]
     },
     "metadata": {},
     "output_type": "display_data"
    },
    {
     "name": "stdout",
     "output_type": "stream",
     "text": [
      "https://locations.qdoba.com/us/va/mclean/mclean 'NoneType' object has no attribute 'text'\n"
     ]
    },
    {
     "data": {
      "application/vnd.jupyter.widget-view+json": {
       "model_id": "7508ab0baef7485ea375e47d74cac27d",
       "version_major": 2,
       "version_minor": 0
      },
      "text/plain": [
       "Parsing Locations in WA:   0%|          | 0/20 [00:00<?, ?it/s]"
      ]
     },
     "metadata": {},
     "output_type": "display_data"
    },
    {
     "data": {
      "application/vnd.jupyter.widget-view+json": {
       "model_id": "6bccc27cf3024bcf945a022d1add2b10",
       "version_major": 2,
       "version_minor": 0
      },
      "text/plain": [
       "Parsing Locations in DC:   0%|          | 0/2 [00:00<?, ?it/s]"
      ]
     },
     "metadata": {},
     "output_type": "display_data"
    },
    {
     "data": {
      "application/vnd.jupyter.widget-view+json": {
       "model_id": "d63d630716a14a06938b6d9c03942e47",
       "version_major": 2,
       "version_minor": 0
      },
      "text/plain": [
       "Parsing Locations in WV:   0%|          | 0/6 [00:00<?, ?it/s]"
      ]
     },
     "metadata": {},
     "output_type": "display_data"
    },
    {
     "data": {
      "application/vnd.jupyter.widget-view+json": {
       "model_id": "9eebb5f1ffd148b08da6a08187270c21",
       "version_major": 2,
       "version_minor": 0
      },
      "text/plain": [
       "Parsing Locations in WI:   0%|          | 0/42 [00:00<?, ?it/s]"
      ]
     },
     "metadata": {},
     "output_type": "display_data"
    },
    {
     "data": {
      "application/vnd.jupyter.widget-view+json": {
       "model_id": "7700e33e88ba439cbed1129d9e1df068",
       "version_major": 2,
       "version_minor": 0
      },
      "text/plain": [
       "Parsing Locations in WY:   0%|          | 0/5 [00:00<?, ?it/s]"
      ]
     },
     "metadata": {},
     "output_type": "display_data"
    }
   ],
   "source": [
    "state_urls = get_urls(\"https://locations.qdoba.com/us\")\n",
    "\n",
    "# Parse all locations in a state\n",
    "for state_url in tqdm(state_urls, desc=\"Parsing States\"):\n",
    "    state_store_list = []\n",
    "    state_code = state_url.split(\"/\")[-1].upper()\n",
    "\n",
    "    # If File exists continue\n",
    "    if os.path.isfile(f\"data/states/{state_code}.gpkg\"):\n",
    "        continue\n",
    "\n",
    "    city_urls = get_urls(state_url)\n",
    "\n",
    "    if not city_urls:\n",
    "        print(state_code)\n",
    "        continue\n",
    "\n",
    "    for city_url in tqdm(city_urls, desc=f\"Parsing Locations in {state_code}\"):\n",
    "        store_urls = find_stores(city_url)\n",
    "        if not store_urls:\n",
    "            print(city_url)\n",
    "            continue\n",
    "\n",
    "        for store_url in store_urls:\n",
    "            try:\n",
    "                point = get_coords(store_url)\n",
    "            except Exception as e:\n",
    "                print(store_url, e)\n",
    "            store_dict = {\"STUSPS\": state_code, \"geometry\": point, \"url\": store_url}\n",
    "            state_store_list.append(store_dict)\n",
    "            time.sleep(random.uniform(0.01, 0.5))\n",
    "\n",
    "    if state_store_list:\n",
    "        store_gdf = gpd.GeoDataFrame(state_store_list, crs=4326)\n",
    "        store_gdf.to_file(f\"data/states/{state_code}.gpkg\")"
   ]
  },
  {
   "cell_type": "markdown",
   "id": "9249bc3d-8847-4b25-bbb8-4a4086cf61c2",
   "metadata": {},
   "source": [
    "## Manually Add 1 in FL that wasn't picked up"
   ]
  },
  {
   "cell_type": "code",
   "execution_count": 28,
   "id": "c1d32989-5a24-46f7-954f-a607979d4aa5",
   "metadata": {},
   "outputs": [],
   "source": [
    "store_gdfs = []\n",
    "states_path = \"data/states\"\n",
    "for file in os.listdir(\"data/states\"):\n",
    "    constructed_path = os.path.join(states_path, file)\n",
    "    if constructed_path.endswith(\".gpkg\"):\n",
    "        qdoba_gdf = gpd.read_file(constructed_path)\n",
    "        store_gdfs.append(qdoba_gdf)"
   ]
  },
  {
   "cell_type": "code",
   "execution_count": 30,
   "id": "1e616021-e53a-4cc6-b3b0-e6b7f7ee5f21",
   "metadata": {},
   "outputs": [],
   "source": [
    "qdoba_gdf = pd.concat(store_gdfs, ignore_index=True)"
   ]
  },
  {
   "cell_type": "code",
   "execution_count": 31,
   "id": "c9395e2c-41e3-4cc8-9109-d0d345af1f8d",
   "metadata": {},
   "outputs": [
    {
     "data": {
      "text/html": [
       "<div>\n",
       "<style scoped>\n",
       "    .dataframe tbody tr th:only-of-type {\n",
       "        vertical-align: middle;\n",
       "    }\n",
       "\n",
       "    .dataframe tbody tr th {\n",
       "        vertical-align: top;\n",
       "    }\n",
       "\n",
       "    .dataframe thead th {\n",
       "        text-align: right;\n",
       "    }\n",
       "</style>\n",
       "<table border=\"1\" class=\"dataframe\">\n",
       "  <thead>\n",
       "    <tr style=\"text-align: right;\">\n",
       "      <th></th>\n",
       "      <th>STUSPS</th>\n",
       "      <th>url</th>\n",
       "      <th>geometry</th>\n",
       "    </tr>\n",
       "  </thead>\n",
       "  <tbody>\n",
       "    <tr>\n",
       "      <th>0</th>\n",
       "      <td>AK</td>\n",
       "      <td>https://locations.qdoba.com/us/ak/anchorage/70...</td>\n",
       "      <td>POINT (-149.87024 61.19319)</td>\n",
       "    </tr>\n",
       "    <tr>\n",
       "      <th>1</th>\n",
       "      <td>AK</td>\n",
       "      <td>https://locations.qdoba.com/us/ak/anchorage/19...</td>\n",
       "      <td>POINT (-149.8475 61.1431)</td>\n",
       "    </tr>\n",
       "    <tr>\n",
       "      <th>2</th>\n",
       "      <td>AK</td>\n",
       "      <td>https://locations.qdoba.com/us/ak/anchorage/11...</td>\n",
       "      <td>POINT (-149.73958 61.22703)</td>\n",
       "    </tr>\n",
       "    <tr>\n",
       "      <th>3</th>\n",
       "      <td>AK</td>\n",
       "      <td>https://locations.qdoba.com/us/ak/wasilla/1515...</td>\n",
       "      <td>POINT (-149.41159 61.5781)</td>\n",
       "    </tr>\n",
       "    <tr>\n",
       "      <th>4</th>\n",
       "      <td>AL</td>\n",
       "      <td>https://locations.qdoba.com/us/al/birmingham/4...</td>\n",
       "      <td>POINT (-86.80123 33.50858)</td>\n",
       "    </tr>\n",
       "  </tbody>\n",
       "</table>\n",
       "</div>"
      ],
      "text/plain": [
       "  STUSPS                                                url  \\\n",
       "0     AK  https://locations.qdoba.com/us/ak/anchorage/70...   \n",
       "1     AK  https://locations.qdoba.com/us/ak/anchorage/19...   \n",
       "2     AK  https://locations.qdoba.com/us/ak/anchorage/11...   \n",
       "3     AK  https://locations.qdoba.com/us/ak/wasilla/1515...   \n",
       "4     AL  https://locations.qdoba.com/us/al/birmingham/4...   \n",
       "\n",
       "                      geometry  \n",
       "0  POINT (-149.87024 61.19319)  \n",
       "1    POINT (-149.8475 61.1431)  \n",
       "2  POINT (-149.73958 61.22703)  \n",
       "3   POINT (-149.41159 61.5781)  \n",
       "4   POINT (-86.80123 33.50858)  "
      ]
     },
     "execution_count": 31,
     "metadata": {},
     "output_type": "execute_result"
    }
   ],
   "source": [
    "qdoba_gdf.head()"
   ]
  },
  {
   "cell_type": "code",
   "execution_count": 32,
   "id": "82626e84-9c67-4460-a792-9668dbda6768",
   "metadata": {},
   "outputs": [],
   "source": [
    "qdoba_gdf = qdoba_gdf.to_crs(9311)\n",
    "qdoba_gdf.to_file(f\"data/stores.gpkg\")"
   ]
  },
  {
   "cell_type": "markdown",
   "id": "5a42dfab-fc47-49d7-8092-f08b31392df8",
   "metadata": {},
   "source": [
    "## Get Population Data"
   ]
  },
  {
   "cell_type": "code",
   "execution_count": 33,
   "id": "3cce9c91-abf1-4055-8b9a-5fd1f6cf611f",
   "metadata": {},
   "outputs": [],
   "source": [
    "state_populations = pd.read_excel(\n",
    "    \"data/NST-EST2024-POP.xlsx\", sheet_name=None, engine=\"openpyxl\"\n",
    ")"
   ]
  },
  {
   "cell_type": "code",
   "execution_count": 34,
   "id": "2eaacc28-fa8e-410e-b084-02ce24ec11a1",
   "metadata": {},
   "outputs": [],
   "source": [
    "state_populations_df = state_populations[\"NST-EST2024-POP\"][\n",
    "    [\n",
    "        \"table with row headers in column A and column headers in rows 3 through 4. (leading dots indicate sub-parts)\",\n",
    "        \"Unnamed: 5\",\n",
    "    ]\n",
    "]\n",
    "state_populations_df = state_populations_df.rename(\n",
    "    columns={\n",
    "        \"table with row headers in column A and column headers in rows 3 through 4. (leading dots indicate sub-parts)\": \"NAME\",\n",
    "        \"Unnamed: 5\": \"POPULATION\",\n",
    "    }\n",
    ")\n",
    "state_populations_df[\"NAME\"] = state_populations_df[\"NAME\"].str[1:]"
   ]
  },
  {
   "cell_type": "code",
   "execution_count": 35,
   "id": "2d6342e1-fc3f-4006-8d8a-d7612903a625",
   "metadata": {},
   "outputs": [],
   "source": [
    "states_with_population_df = states_df.merge(state_populations_df, on=\"NAME\", how=\"left\")\n",
    "states_with_population_df = states_with_population_df[\n",
    "    [\"STUSPS\", \"NAME\", \"POPULATION\", \"geometry\"]\n",
    "]"
   ]
  },
  {
   "cell_type": "code",
   "execution_count": 36,
   "id": "94150db1-9ce7-43cb-8c08-3f6d9bb58497",
   "metadata": {},
   "outputs": [],
   "source": [
    "states_with_population_df = states_with_population_df.dropna()"
   ]
  },
  {
   "cell_type": "markdown",
   "id": "af5c5e13-c89d-43ed-8021-13ba93990599",
   "metadata": {},
   "source": [
    "## Merge Data"
   ]
  },
  {
   "cell_type": "code",
   "execution_count": 37,
   "id": "f6900380-39b5-4cca-abf9-b46f7b886f9d",
   "metadata": {},
   "outputs": [],
   "source": [
    "qdoba_count_df = pd.DataFrame(\n",
    "    qdoba_gdf.groupby(\"STUSPS\").size(), columns=[\"QDOBAs\"]\n",
    ").reset_index()"
   ]
  },
  {
   "cell_type": "code",
   "execution_count": 38,
   "id": "8a4afa33-893a-4b6b-8df1-f5151243deeb",
   "metadata": {},
   "outputs": [],
   "source": [
    "qdoba_count_gdf = states_with_population_df.merge(\n",
    "    qdoba_count_df, on=\"STUSPS\", how=\"left\"\n",
    ")\n",
    "qdoba_count_gdf = qdoba_count_gdf.fillna(0)"
   ]
  },
  {
   "cell_type": "code",
   "execution_count": 39,
   "id": "f50526e2-4c7a-4d13-8d5e-aaddbeec7751",
   "metadata": {},
   "outputs": [],
   "source": [
    "qdoba_count_gdf[\"per_100k\"] = (\n",
    "    qdoba_count_gdf[\"QDOBAs\"] / (qdoba_count_gdf[\"POPULATION\"] / 100000)\n",
    ").round(decimals=2)\n",
    "qdoba_count_gdf[\"per_1m\"] = (\n",
    "    qdoba_count_gdf[\"QDOBAs\"] / (qdoba_count_gdf[\"POPULATION\"] / 1_000_000)\n",
    ").round(decimals=1)"
   ]
  },
  {
   "cell_type": "code",
   "execution_count": 40,
   "id": "4d00c57e-a978-4938-b5f5-cb176b29cf77",
   "metadata": {},
   "outputs": [],
   "source": [
    "qdoba_count_gdf = qdoba_count_gdf.to_crs(9311)"
   ]
  },
  {
   "cell_type": "code",
   "execution_count": 41,
   "id": "f8feb339-fc3c-41f9-8bd8-50ee507bb185",
   "metadata": {},
   "outputs": [],
   "source": [
    "qdoba_count_gdf.to_file(\"data/QDOBA_Per_State.gpkg\")"
   ]
  },
  {
   "cell_type": "code",
   "execution_count": 43,
   "id": "6fe12df3-c59b-48b5-bd11-cdbae9436a65",
   "metadata": {},
   "outputs": [
    {
     "data": {
      "text/html": [
       "<div>\n",
       "<style scoped>\n",
       "    .dataframe tbody tr th:only-of-type {\n",
       "        vertical-align: middle;\n",
       "    }\n",
       "\n",
       "    .dataframe tbody tr th {\n",
       "        vertical-align: top;\n",
       "    }\n",
       "\n",
       "    .dataframe thead th {\n",
       "        text-align: right;\n",
       "    }\n",
       "</style>\n",
       "<table border=\"1\" class=\"dataframe\">\n",
       "  <thead>\n",
       "    <tr style=\"text-align: right;\">\n",
       "      <th></th>\n",
       "      <th>QDOBAs</th>\n",
       "      <th>per_100k</th>\n",
       "      <th>per_1m</th>\n",
       "      <th>STUSPS</th>\n",
       "    </tr>\n",
       "  </thead>\n",
       "  <tbody>\n",
       "    <tr>\n",
       "      <th>21</th>\n",
       "      <td>90.0</td>\n",
       "      <td>1.53</td>\n",
       "      <td>15.3</td>\n",
       "      <td>CO</td>\n",
       "    </tr>\n",
       "    <tr>\n",
       "      <th>14</th>\n",
       "      <td>11.0</td>\n",
       "      <td>1.20</td>\n",
       "      <td>12.0</td>\n",
       "      <td>SD</td>\n",
       "    </tr>\n",
       "    <tr>\n",
       "      <th>24</th>\n",
       "      <td>7.0</td>\n",
       "      <td>1.20</td>\n",
       "      <td>12.0</td>\n",
       "      <td>WY</td>\n",
       "    </tr>\n",
       "    <tr>\n",
       "      <th>10</th>\n",
       "      <td>21.0</td>\n",
       "      <td>1.06</td>\n",
       "      <td>10.6</td>\n",
       "      <td>NE</td>\n",
       "    </tr>\n",
       "    <tr>\n",
       "      <th>45</th>\n",
       "      <td>59.0</td>\n",
       "      <td>0.99</td>\n",
       "      <td>9.9</td>\n",
       "      <td>WI</td>\n",
       "    </tr>\n",
       "    <tr>\n",
       "      <th>47</th>\n",
       "      <td>7.0</td>\n",
       "      <td>0.89</td>\n",
       "      <td>8.9</td>\n",
       "      <td>ND</td>\n",
       "    </tr>\n",
       "    <tr>\n",
       "      <th>6</th>\n",
       "      <td>72.0</td>\n",
       "      <td>0.71</td>\n",
       "      <td>7.1</td>\n",
       "      <td>MI</td>\n",
       "    </tr>\n",
       "    <tr>\n",
       "      <th>49</th>\n",
       "      <td>46.0</td>\n",
       "      <td>0.67</td>\n",
       "      <td>6.7</td>\n",
       "      <td>IN</td>\n",
       "    </tr>\n",
       "    <tr>\n",
       "      <th>43</th>\n",
       "      <td>29.0</td>\n",
       "      <td>0.64</td>\n",
       "      <td>6.4</td>\n",
       "      <td>KY</td>\n",
       "    </tr>\n",
       "    <tr>\n",
       "      <th>20</th>\n",
       "      <td>40.0</td>\n",
       "      <td>0.64</td>\n",
       "      <td>6.4</td>\n",
       "      <td>MO</td>\n",
       "    </tr>\n",
       "    <tr>\n",
       "      <th>2</th>\n",
       "      <td>24.0</td>\n",
       "      <td>0.59</td>\n",
       "      <td>5.9</td>\n",
       "      <td>OK</td>\n",
       "    </tr>\n",
       "    <tr>\n",
       "      <th>27</th>\n",
       "      <td>4.0</td>\n",
       "      <td>0.54</td>\n",
       "      <td>5.4</td>\n",
       "      <td>AK</td>\n",
       "    </tr>\n",
       "    <tr>\n",
       "      <th>26</th>\n",
       "      <td>15.0</td>\n",
       "      <td>0.51</td>\n",
       "      <td>5.1</td>\n",
       "      <td>KS</td>\n",
       "    </tr>\n",
       "    <tr>\n",
       "      <th>50</th>\n",
       "      <td>28.0</td>\n",
       "      <td>0.49</td>\n",
       "      <td>4.9</td>\n",
       "      <td>MN</td>\n",
       "    </tr>\n",
       "    <tr>\n",
       "      <th>31</th>\n",
       "      <td>5.0</td>\n",
       "      <td>0.44</td>\n",
       "      <td>4.4</td>\n",
       "      <td>MT</td>\n",
       "    </tr>\n",
       "    <tr>\n",
       "      <th>36</th>\n",
       "      <td>3.0</td>\n",
       "      <td>0.44</td>\n",
       "      <td>4.4</td>\n",
       "      <td>DC</td>\n",
       "    </tr>\n",
       "    <tr>\n",
       "      <th>38</th>\n",
       "      <td>25.0</td>\n",
       "      <td>0.40</td>\n",
       "      <td>4.0</td>\n",
       "      <td>MD</td>\n",
       "    </tr>\n",
       "    <tr>\n",
       "      <th>41</th>\n",
       "      <td>4.0</td>\n",
       "      <td>0.39</td>\n",
       "      <td>3.9</td>\n",
       "      <td>DE</td>\n",
       "    </tr>\n",
       "    <tr>\n",
       "      <th>3</th>\n",
       "      <td>32.0</td>\n",
       "      <td>0.37</td>\n",
       "      <td>3.7</td>\n",
       "      <td>VA</td>\n",
       "    </tr>\n",
       "    <tr>\n",
       "      <th>4</th>\n",
       "      <td>6.0</td>\n",
       "      <td>0.34</td>\n",
       "      <td>3.4</td>\n",
       "      <td>WV</td>\n",
       "    </tr>\n",
       "    <tr>\n",
       "      <th>11</th>\n",
       "      <td>25.0</td>\n",
       "      <td>0.32</td>\n",
       "      <td>3.2</td>\n",
       "      <td>WA</td>\n",
       "    </tr>\n",
       "    <tr>\n",
       "      <th>28</th>\n",
       "      <td>10.0</td>\n",
       "      <td>0.31</td>\n",
       "      <td>3.1</td>\n",
       "      <td>NV</td>\n",
       "    </tr>\n",
       "    <tr>\n",
       "      <th>8</th>\n",
       "      <td>6.0</td>\n",
       "      <td>0.30</td>\n",
       "      <td>3.0</td>\n",
       "      <td>ID</td>\n",
       "    </tr>\n",
       "    <tr>\n",
       "      <th>37</th>\n",
       "      <td>26.0</td>\n",
       "      <td>0.28</td>\n",
       "      <td>2.8</td>\n",
       "      <td>NJ</td>\n",
       "    </tr>\n",
       "    <tr>\n",
       "      <th>7</th>\n",
       "      <td>17.0</td>\n",
       "      <td>0.24</td>\n",
       "      <td>2.4</td>\n",
       "      <td>MA</td>\n",
       "    </tr>\n",
       "    <tr>\n",
       "      <th>46</th>\n",
       "      <td>9.0</td>\n",
       "      <td>0.21</td>\n",
       "      <td>2.1</td>\n",
       "      <td>OR</td>\n",
       "    </tr>\n",
       "    <tr>\n",
       "      <th>19</th>\n",
       "      <td>27.0</td>\n",
       "      <td>0.21</td>\n",
       "      <td>2.1</td>\n",
       "      <td>PA</td>\n",
       "    </tr>\n",
       "    <tr>\n",
       "      <th>29</th>\n",
       "      <td>21.0</td>\n",
       "      <td>0.17</td>\n",
       "      <td>1.7</td>\n",
       "      <td>IL</td>\n",
       "    </tr>\n",
       "    <tr>\n",
       "      <th>1</th>\n",
       "      <td>18.0</td>\n",
       "      <td>0.17</td>\n",
       "      <td>1.7</td>\n",
       "      <td>NC</td>\n",
       "    </tr>\n",
       "    <tr>\n",
       "      <th>44</th>\n",
       "      <td>19.0</td>\n",
       "      <td>0.16</td>\n",
       "      <td>1.6</td>\n",
       "      <td>OH</td>\n",
       "    </tr>\n",
       "    <tr>\n",
       "      <th>32</th>\n",
       "      <td>5.0</td>\n",
       "      <td>0.16</td>\n",
       "      <td>1.6</td>\n",
       "      <td>IA</td>\n",
       "    </tr>\n",
       "    <tr>\n",
       "      <th>35</th>\n",
       "      <td>11.0</td>\n",
       "      <td>0.15</td>\n",
       "      <td>1.5</td>\n",
       "      <td>AZ</td>\n",
       "    </tr>\n",
       "    <tr>\n",
       "      <th>9</th>\n",
       "      <td>25.0</td>\n",
       "      <td>0.11</td>\n",
       "      <td>1.1</td>\n",
       "      <td>FL</td>\n",
       "    </tr>\n",
       "    <tr>\n",
       "      <th>48</th>\n",
       "      <td>3.0</td>\n",
       "      <td>0.10</td>\n",
       "      <td>1.0</td>\n",
       "      <td>AR</td>\n",
       "    </tr>\n",
       "    <tr>\n",
       "      <th>0</th>\n",
       "      <td>3.0</td>\n",
       "      <td>0.10</td>\n",
       "      <td>1.0</td>\n",
       "      <td>MS</td>\n",
       "    </tr>\n",
       "    <tr>\n",
       "      <th>25</th>\n",
       "      <td>18.0</td>\n",
       "      <td>0.09</td>\n",
       "      <td>0.9</td>\n",
       "      <td>NY</td>\n",
       "    </tr>\n",
       "    <tr>\n",
       "      <th>17</th>\n",
       "      <td>4.0</td>\n",
       "      <td>0.08</td>\n",
       "      <td>0.8</td>\n",
       "      <td>AL</td>\n",
       "    </tr>\n",
       "    <tr>\n",
       "      <th>18</th>\n",
       "      <td>9.0</td>\n",
       "      <td>0.08</td>\n",
       "      <td>0.8</td>\n",
       "      <td>GA</td>\n",
       "    </tr>\n",
       "    <tr>\n",
       "      <th>5</th>\n",
       "      <td>3.0</td>\n",
       "      <td>0.07</td>\n",
       "      <td>0.7</td>\n",
       "      <td>LA</td>\n",
       "    </tr>\n",
       "    <tr>\n",
       "      <th>15</th>\n",
       "      <td>23.0</td>\n",
       "      <td>0.07</td>\n",
       "      <td>0.7</td>\n",
       "      <td>TX</td>\n",
       "    </tr>\n",
       "    <tr>\n",
       "      <th>34</th>\n",
       "      <td>1.0</td>\n",
       "      <td>0.07</td>\n",
       "      <td>0.7</td>\n",
       "      <td>NH</td>\n",
       "    </tr>\n",
       "    <tr>\n",
       "      <th>22</th>\n",
       "      <td>2.0</td>\n",
       "      <td>0.06</td>\n",
       "      <td>0.6</td>\n",
       "      <td>UT</td>\n",
       "    </tr>\n",
       "    <tr>\n",
       "      <th>33</th>\n",
       "      <td>3.0</td>\n",
       "      <td>0.06</td>\n",
       "      <td>0.6</td>\n",
       "      <td>SC</td>\n",
       "    </tr>\n",
       "    <tr>\n",
       "      <th>51</th>\n",
       "      <td>2.0</td>\n",
       "      <td>0.05</td>\n",
       "      <td>0.5</td>\n",
       "      <td>CT</td>\n",
       "    </tr>\n",
       "    <tr>\n",
       "      <th>16</th>\n",
       "      <td>12.0</td>\n",
       "      <td>0.03</td>\n",
       "      <td>0.3</td>\n",
       "      <td>CA</td>\n",
       "    </tr>\n",
       "    <tr>\n",
       "      <th>23</th>\n",
       "      <td>1.0</td>\n",
       "      <td>0.01</td>\n",
       "      <td>0.1</td>\n",
       "      <td>TN</td>\n",
       "    </tr>\n",
       "    <tr>\n",
       "      <th>13</th>\n",
       "      <td>0.0</td>\n",
       "      <td>0.00</td>\n",
       "      <td>0.0</td>\n",
       "      <td>PR</td>\n",
       "    </tr>\n",
       "    <tr>\n",
       "      <th>12</th>\n",
       "      <td>0.0</td>\n",
       "      <td>0.00</td>\n",
       "      <td>0.0</td>\n",
       "      <td>NM</td>\n",
       "    </tr>\n",
       "    <tr>\n",
       "      <th>30</th>\n",
       "      <td>0.0</td>\n",
       "      <td>0.00</td>\n",
       "      <td>0.0</td>\n",
       "      <td>VT</td>\n",
       "    </tr>\n",
       "    <tr>\n",
       "      <th>42</th>\n",
       "      <td>0.0</td>\n",
       "      <td>0.00</td>\n",
       "      <td>0.0</td>\n",
       "      <td>RI</td>\n",
       "    </tr>\n",
       "    <tr>\n",
       "      <th>39</th>\n",
       "      <td>0.0</td>\n",
       "      <td>0.00</td>\n",
       "      <td>0.0</td>\n",
       "      <td>ME</td>\n",
       "    </tr>\n",
       "    <tr>\n",
       "      <th>40</th>\n",
       "      <td>0.0</td>\n",
       "      <td>0.00</td>\n",
       "      <td>0.0</td>\n",
       "      <td>HI</td>\n",
       "    </tr>\n",
       "  </tbody>\n",
       "</table>\n",
       "</div>"
      ],
      "text/plain": [
       "    QDOBAs  per_100k  per_1m STUSPS\n",
       "21    90.0      1.53    15.3     CO\n",
       "14    11.0      1.20    12.0     SD\n",
       "24     7.0      1.20    12.0     WY\n",
       "10    21.0      1.06    10.6     NE\n",
       "45    59.0      0.99     9.9     WI\n",
       "47     7.0      0.89     8.9     ND\n",
       "6     72.0      0.71     7.1     MI\n",
       "49    46.0      0.67     6.7     IN\n",
       "43    29.0      0.64     6.4     KY\n",
       "20    40.0      0.64     6.4     MO\n",
       "2     24.0      0.59     5.9     OK\n",
       "27     4.0      0.54     5.4     AK\n",
       "26    15.0      0.51     5.1     KS\n",
       "50    28.0      0.49     4.9     MN\n",
       "31     5.0      0.44     4.4     MT\n",
       "36     3.0      0.44     4.4     DC\n",
       "38    25.0      0.40     4.0     MD\n",
       "41     4.0      0.39     3.9     DE\n",
       "3     32.0      0.37     3.7     VA\n",
       "4      6.0      0.34     3.4     WV\n",
       "11    25.0      0.32     3.2     WA\n",
       "28    10.0      0.31     3.1     NV\n",
       "8      6.0      0.30     3.0     ID\n",
       "37    26.0      0.28     2.8     NJ\n",
       "7     17.0      0.24     2.4     MA\n",
       "46     9.0      0.21     2.1     OR\n",
       "19    27.0      0.21     2.1     PA\n",
       "29    21.0      0.17     1.7     IL\n",
       "1     18.0      0.17     1.7     NC\n",
       "44    19.0      0.16     1.6     OH\n",
       "32     5.0      0.16     1.6     IA\n",
       "35    11.0      0.15     1.5     AZ\n",
       "9     25.0      0.11     1.1     FL\n",
       "48     3.0      0.10     1.0     AR\n",
       "0      3.0      0.10     1.0     MS\n",
       "25    18.0      0.09     0.9     NY\n",
       "17     4.0      0.08     0.8     AL\n",
       "18     9.0      0.08     0.8     GA\n",
       "5      3.0      0.07     0.7     LA\n",
       "15    23.0      0.07     0.7     TX\n",
       "34     1.0      0.07     0.7     NH\n",
       "22     2.0      0.06     0.6     UT\n",
       "33     3.0      0.06     0.6     SC\n",
       "51     2.0      0.05     0.5     CT\n",
       "16    12.0      0.03     0.3     CA\n",
       "23     1.0      0.01     0.1     TN\n",
       "13     0.0      0.00     0.0     PR\n",
       "12     0.0      0.00     0.0     NM\n",
       "30     0.0      0.00     0.0     VT\n",
       "42     0.0      0.00     0.0     RI\n",
       "39     0.0      0.00     0.0     ME\n",
       "40     0.0      0.00     0.0     HI"
      ]
     },
     "execution_count": 43,
     "metadata": {},
     "output_type": "execute_result"
    }
   ],
   "source": [
    "qdoba_count_gdf[[\"QDOBAs\", \"per_100k\", \"per_1m\", \"STUSPS\"]].sort_values(\n",
    "    \"per_100k\", ascending=False\n",
    ")"
   ]
  },
  {
   "cell_type": "code",
   "execution_count": null,
   "id": "e92773a5-ed1b-4850-b29c-fcc40f9d5289",
   "metadata": {},
   "outputs": [],
   "source": []
  },
  {
   "cell_type": "code",
   "execution_count": null,
   "id": "c9806eba-88eb-4815-9a19-2629138ed337",
   "metadata": {},
   "outputs": [],
   "source": []
  }
 ],
 "metadata": {
  "kernelspec": {
   "display_name": "Python 3 (ipykernel)",
   "language": "python",
   "name": "python3"
  },
  "language_info": {
   "codemirror_mode": {
    "name": "ipython",
    "version": 3
   },
   "file_extension": ".py",
   "mimetype": "text/x-python",
   "name": "python",
   "nbconvert_exporter": "python",
   "pygments_lexer": "ipython3",
   "version": "3.11.13"
  }
 },
 "nbformat": 4,
 "nbformat_minor": 5
}
