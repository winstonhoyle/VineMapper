{
 "cells": [
  {
   "cell_type": "code",
   "execution_count": 14,
   "id": "8eca3131-85dc-48b3-b640-f384104e123c",
   "metadata": {},
   "outputs": [],
   "source": [
    "import os\n",
    "import random\n",
    "import re\n",
    "import requests\n",
    "import time"
   ]
  },
  {
   "cell_type": "code",
   "execution_count": 15,
   "id": "bc436e38-234d-44fd-b67b-d1f2974606d3",
   "metadata": {},
   "outputs": [],
   "source": [
    "from bs4 import BeautifulSoup\n",
    "import cloudscraper\n",
    "import geopandas as gpd\n",
    "import pandas as pd"
   ]
  },
  {
   "cell_type": "code",
   "execution_count": 16,
   "id": "2d1e0efb-fe0d-41c3-8fa6-ef65597011c8",
   "metadata": {},
   "outputs": [],
   "source": [
    "from shapely.geometry import Point\n",
    "from tqdm.notebook import tqdm"
   ]
  },
  {
   "cell_type": "markdown",
   "id": "44a3df26-78d3-479c-99a2-c0e1ba91352e",
   "metadata": {},
   "source": [
    "## Get State Data"
   ]
  },
  {
   "cell_type": "code",
   "execution_count": 17,
   "id": "615eeabf-033b-425a-a81f-d7b4dd9e3a3e",
   "metadata": {},
   "outputs": [],
   "source": [
    "file_path = \"data/cb_2018_us_state_500k/cb_2018_us_state_500k.shp\"\n",
    "states_df = gpd.read_file(file_path)"
   ]
  },
  {
   "cell_type": "code",
   "execution_count": 18,
   "id": "502c6bfe-0912-4d37-95b0-47e7a14b468f",
   "metadata": {},
   "outputs": [],
   "source": [
    "states_df = states_df[[\"STUSPS\", \"NAME\", \"geometry\"]]"
   ]
  },
  {
   "cell_type": "markdown",
   "id": "4257620c-13d7-4071-bae2-a5a2aeae5ba7",
   "metadata": {},
   "source": [
    "## Get Population data"
   ]
  },
  {
   "cell_type": "code",
   "execution_count": 19,
   "id": "6c0e7a1d-5a9a-4c10-a5d4-28dc681a8a27",
   "metadata": {},
   "outputs": [],
   "source": [
    "state_populations = pd.read_excel(\n",
    "    \"data/NST-EST2024-POP.xlsx\", sheet_name=None, engine=\"openpyxl\"\n",
    ")"
   ]
  },
  {
   "cell_type": "code",
   "execution_count": 20,
   "id": "2614c2ab-96ec-4304-a287-6fd013fedbbb",
   "metadata": {},
   "outputs": [],
   "source": [
    "state_populations_df = state_populations[\"NST-EST2024-POP\"][\n",
    "    [\n",
    "        \"table with row headers in column A and column headers in rows 3 through 4. (leading dots indicate sub-parts)\",\n",
    "        \"Unnamed: 5\",\n",
    "    ]\n",
    "]\n",
    "state_populations_df = state_populations_df.rename(\n",
    "    columns={\n",
    "        \"table with row headers in column A and column headers in rows 3 through 4. (leading dots indicate sub-parts)\": \"NAME\",\n",
    "        \"Unnamed: 5\": \"POPULATION\",\n",
    "    }\n",
    ")\n",
    "state_populations_df[\"NAME\"] = state_populations_df[\"NAME\"].str[1:]"
   ]
  },
  {
   "cell_type": "code",
   "execution_count": 21,
   "id": "2a1a8b6e-a0bf-486b-b62e-46a23ca718e2",
   "metadata": {},
   "outputs": [],
   "source": [
    "states_with_population_df = states_df.merge(state_populations_df, on=\"NAME\", how=\"left\")\n",
    "states_with_population_df = states_with_population_df[\n",
    "    [\"STUSPS\", \"NAME\", \"POPULATION\", \"geometry\"]\n",
    "]"
   ]
  },
  {
   "cell_type": "markdown",
   "id": "6d2f1ce9-a36c-4292-99a0-ad42032c5ad4",
   "metadata": {},
   "source": [
    "## Get Subway Data"
   ]
  },
  {
   "cell_type": "code",
   "execution_count": 22,
   "id": "a36b1cd2-6a8f-47c5-81bd-0b457b5e15d8",
   "metadata": {},
   "outputs": [],
   "source": [
    "def get_coords(url: str) -> Point:\n",
    "    r = scraper.get(url)\n",
    "    soup = BeautifulSoup(r.text, \"html.parser\")\n",
    "    latitude_meta = soup.find(\"meta\", {\"itemprop\": \"latitude\"})\n",
    "    longitude_meta = soup.find(\"meta\", {\"itemprop\": \"longitude\"})\n",
    "    lat = float(latitude_meta.attrs[\"content\"])\n",
    "    lon = float(longitude_meta.attrs[\"content\"])\n",
    "    return Point(lon, lat)"
   ]
  },
  {
   "cell_type": "code",
   "execution_count": 23,
   "id": "9faa75ce-1dcd-44bc-84f2-6eb1011f9727",
   "metadata": {},
   "outputs": [],
   "source": [
    "scraper = cloudscraper.create_scraper()\n",
    "url_root = \"https://restaurants.subway.com\""
   ]
  },
  {
   "cell_type": "code",
   "execution_count": 24,
   "id": "bf141e51-6947-492b-b53c-8ed683353d9f",
   "metadata": {},
   "outputs": [
    {
     "data": {
      "application/vnd.jupyter.widget-view+json": {
       "model_id": "e6339e4f56e14038b6f4247f68da2326",
       "version_major": 2,
       "version_minor": 0
      },
      "text/plain": [
       "Parsing States:   0%|          | 0/56 [00:00<?, ?it/s]"
      ]
     },
     "metadata": {},
     "output_type": "display_data"
    },
    {
     "data": {
      "application/vnd.jupyter.widget-view+json": {
       "model_id": "ffd5920838124d78906887f413a5b483",
       "version_major": 2,
       "version_minor": 0
      },
      "text/plain": [
       "Parsing Locations In ms:   0%|          | 0/142 [00:00<?, ?it/s]"
      ]
     },
     "metadata": {},
     "output_type": "display_data"
    },
    {
     "data": {
      "application/vnd.jupyter.widget-view+json": {
       "model_id": "323ea0b2b3dc4403b0e9af4e1d0d81d5",
       "version_major": 2,
       "version_minor": 0
      },
      "text/plain": [
       "Parsing Locations In nc:   0%|          | 0/302 [00:00<?, ?it/s]"
      ]
     },
     "metadata": {},
     "output_type": "display_data"
    },
    {
     "data": {
      "application/vnd.jupyter.widget-view+json": {
       "model_id": "9be3e3aa1e5049c9b1cc314a2cadb07d",
       "version_major": 2,
       "version_minor": 0
      },
      "text/plain": [
       "Parsing Locations In ok:   0%|          | 0/163 [00:00<?, ?it/s]"
      ]
     },
     "metadata": {},
     "output_type": "display_data"
    },
    {
     "data": {
      "application/vnd.jupyter.widget-view+json": {
       "model_id": "23074a4ffba84b2bb9f84e62c44d2acc",
       "version_major": 2,
       "version_minor": 0
      },
      "text/plain": [
       "Parsing Locations In va:   0%|          | 0/238 [00:00<?, ?it/s]"
      ]
     },
     "metadata": {},
     "output_type": "display_data"
    },
    {
     "data": {
      "application/vnd.jupyter.widget-view+json": {
       "model_id": "08d9f78b179b4e87a85c5d5bc6b3da8e",
       "version_major": 2,
       "version_minor": 0
      },
      "text/plain": [
       "Parsing Locations In wv:   0%|          | 0/108 [00:00<?, ?it/s]"
      ]
     },
     "metadata": {},
     "output_type": "display_data"
    },
    {
     "data": {
      "application/vnd.jupyter.widget-view+json": {
       "model_id": "676b2ae896184aa0a18f0a39df1bcef5",
       "version_major": 2,
       "version_minor": 0
      },
      "text/plain": [
       "Parsing Locations In la:   0%|          | 0/153 [00:00<?, ?it/s]"
      ]
     },
     "metadata": {},
     "output_type": "display_data"
    },
    {
     "data": {
      "application/vnd.jupyter.widget-view+json": {
       "model_id": "ff9c31487f9c440c8c8478fc7fe0d2eb",
       "version_major": 2,
       "version_minor": 0
      },
      "text/plain": [
       "Parsing Locations In mi:   0%|          | 0/384 [00:00<?, ?it/s]"
      ]
     },
     "metadata": {},
     "output_type": "display_data"
    },
    {
     "data": {
      "application/vnd.jupyter.widget-view+json": {
       "model_id": "5a52e516e0ad4f6e9c0322c2966e4e2e",
       "version_major": 2,
       "version_minor": 0
      },
      "text/plain": [
       "Parsing Locations In ma:   0%|          | 0/174 [00:00<?, ?it/s]"
      ]
     },
     "metadata": {},
     "output_type": "display_data"
    },
    {
     "data": {
      "application/vnd.jupyter.widget-view+json": {
       "model_id": "81dae26b2537415d860e855c66839ec5",
       "version_major": 2,
       "version_minor": 0
      },
      "text/plain": [
       "Parsing Locations In id:   0%|          | 0/63 [00:00<?, ?it/s]"
      ]
     },
     "metadata": {},
     "output_type": "display_data"
    },
    {
     "data": {
      "application/vnd.jupyter.widget-view+json": {
       "model_id": "0d1bbe6d962e4af7b0670a25c40f109d",
       "version_major": 2,
       "version_minor": 0
      },
      "text/plain": [
       "Parsing Locations In fl:   0%|          | 0/358 [00:00<?, ?it/s]"
      ]
     },
     "metadata": {},
     "output_type": "display_data"
    },
    {
     "data": {
      "application/vnd.jupyter.widget-view+json": {
       "model_id": "498160afd11644deb2458845c3a7e0d7",
       "version_major": 2,
       "version_minor": 0
      },
      "text/plain": [
       "Parsing Locations In ne:   0%|          | 0/94 [00:00<?, ?it/s]"
      ]
     },
     "metadata": {},
     "output_type": "display_data"
    },
    {
     "data": {
      "application/vnd.jupyter.widget-view+json": {
       "model_id": "ba276989d7c34e638d4f2b919a53084f",
       "version_major": 2,
       "version_minor": 0
      },
      "text/plain": [
       "Parsing Locations In wa:   0%|          | 0/168 [00:00<?, ?it/s]"
      ]
     },
     "metadata": {},
     "output_type": "display_data"
    },
    {
     "data": {
      "application/vnd.jupyter.widget-view+json": {
       "model_id": "3a38b642b7474de4908034dad32a610b",
       "version_major": 2,
       "version_minor": 0
      },
      "text/plain": [
       "Parsing Locations In nm:   0%|          | 0/57 [00:00<?, ?it/s]"
      ]
     },
     "metadata": {},
     "output_type": "display_data"
    },
    {
     "data": {
      "application/vnd.jupyter.widget-view+json": {
       "model_id": "87da6289e72f44988afeaaef034c83b1",
       "version_major": 2,
       "version_minor": 0
      },
      "text/plain": [
       "Parsing Locations In sd:   0%|          | 0/55 [00:00<?, ?it/s]"
      ]
     },
     "metadata": {},
     "output_type": "display_data"
    },
    {
     "data": {
      "application/vnd.jupyter.widget-view+json": {
       "model_id": "eec774082507490b846a8e678cc7bc0d",
       "version_major": 2,
       "version_minor": 0
      },
      "text/plain": [
       "Parsing Locations In tx:   0%|          | 0/574 [00:00<?, ?it/s]"
      ]
     },
     "metadata": {},
     "output_type": "display_data"
    },
    {
     "data": {
      "application/vnd.jupyter.widget-view+json": {
       "model_id": "620dc0d97d9c445ab59c29aafa312cea",
       "version_major": 2,
       "version_minor": 0
      },
      "text/plain": [
       "Parsing Locations In ca:   0%|          | 0/570 [00:00<?, ?it/s]"
      ]
     },
     "metadata": {},
     "output_type": "display_data"
    },
    {
     "data": {
      "application/vnd.jupyter.widget-view+json": {
       "model_id": "345a9ccc38ad436f81c875b50c55a182",
       "version_major": 2,
       "version_minor": 0
      },
      "text/plain": [
       "Parsing Locations In al:   0%|          | 0/206 [00:00<?, ?it/s]"
      ]
     },
     "metadata": {},
     "output_type": "display_data"
    },
    {
     "data": {
      "application/vnd.jupyter.widget-view+json": {
       "model_id": "f95b9129527540d4bc9163c7b31a26f5",
       "version_major": 2,
       "version_minor": 0
      },
      "text/plain": [
       "Parsing Locations In ga:   0%|          | 0/280 [00:00<?, ?it/s]"
      ]
     },
     "metadata": {},
     "output_type": "display_data"
    },
    {
     "data": {
      "application/vnd.jupyter.widget-view+json": {
       "model_id": "90fe664e498042289f85c704a9b3a88e",
       "version_major": 2,
       "version_minor": 0
      },
      "text/plain": [
       "Parsing Locations In pa:   0%|          | 0/373 [00:00<?, ?it/s]"
      ]
     },
     "metadata": {},
     "output_type": "display_data"
    },
    {
     "data": {
      "application/vnd.jupyter.widget-view+json": {
       "model_id": "868f734dc7f44535b7c87d529c6b5497",
       "version_major": 2,
       "version_minor": 0
      },
      "text/plain": [
       "Parsing Locations In mo:   0%|          | 0/249 [00:00<?, ?it/s]"
      ]
     },
     "metadata": {},
     "output_type": "display_data"
    },
    {
     "data": {
      "application/vnd.jupyter.widget-view+json": {
       "model_id": "9d93c949ba314b3da8a6d1da46dfda49",
       "version_major": 2,
       "version_minor": 0
      },
      "text/plain": [
       "Parsing Locations In co:   0%|          | 0/136 [00:00<?, ?it/s]"
      ]
     },
     "metadata": {},
     "output_type": "display_data"
    },
    {
     "data": {
      "application/vnd.jupyter.widget-view+json": {
       "model_id": "2ccfe7451abb4844a5440be0d20f5078",
       "version_major": 2,
       "version_minor": 0
      },
      "text/plain": [
       "Parsing Locations In ut:   0%|          | 0/99 [00:00<?, ?it/s]"
      ]
     },
     "metadata": {},
     "output_type": "display_data"
    },
    {
     "data": {
      "application/vnd.jupyter.widget-view+json": {
       "model_id": "cf843d5837a94e50846beac699e6d29d",
       "version_major": 2,
       "version_minor": 0
      },
      "text/plain": [
       "Parsing Locations In tn:   0%|          | 0/220 [00:00<?, ?it/s]"
      ]
     },
     "metadata": {},
     "output_type": "display_data"
    },
    {
     "data": {
      "application/vnd.jupyter.widget-view+json": {
       "model_id": "4552b7c7e23c41c8ab4f90add943c3e2",
       "version_major": 2,
       "version_minor": 0
      },
      "text/plain": [
       "Parsing Locations In wy:   0%|          | 0/34 [00:00<?, ?it/s]"
      ]
     },
     "metadata": {},
     "output_type": "display_data"
    },
    {
     "data": {
      "application/vnd.jupyter.widget-view+json": {
       "model_id": "3a63afa854364efdb176429be013786d",
       "version_major": 2,
       "version_minor": 0
      },
      "text/plain": [
       "Parsing Locations In ny:   0%|          | 0/384 [00:00<?, ?it/s]"
      ]
     },
     "metadata": {},
     "output_type": "display_data"
    },
    {
     "data": {
      "application/vnd.jupyter.widget-view+json": {
       "model_id": "e4058b7a407e466e97e50e7d560d957d",
       "version_major": 2,
       "version_minor": 0
      },
      "text/plain": [
       "Parsing Locations In ks:   0%|          | 0/119 [00:00<?, ?it/s]"
      ]
     },
     "metadata": {},
     "output_type": "display_data"
    },
    {
     "data": {
      "application/vnd.jupyter.widget-view+json": {
       "model_id": "244f450e892a4aa6a9fae99a450eba5e",
       "version_major": 2,
       "version_minor": 0
      },
      "text/plain": [
       "Parsing Locations In ak:   0%|          | 0/23 [00:00<?, ?it/s]"
      ]
     },
     "metadata": {},
     "output_type": "display_data"
    },
    {
     "data": {
      "application/vnd.jupyter.widget-view+json": {
       "model_id": "167d2a6d7dcf4faca1512553dd2d4f7a",
       "version_major": 2,
       "version_minor": 0
      },
      "text/plain": [
       "Parsing Locations In nv:   0%|          | 0/36 [00:00<?, ?it/s]"
      ]
     },
     "metadata": {},
     "output_type": "display_data"
    },
    {
     "data": {
      "application/vnd.jupyter.widget-view+json": {
       "model_id": "d70a96dee3f24f38846dc13e0f575d74",
       "version_major": 2,
       "version_minor": 0
      },
      "text/plain": [
       "Parsing Locations In il:   0%|          | 0/434 [00:00<?, ?it/s]"
      ]
     },
     "metadata": {},
     "output_type": "display_data"
    },
    {
     "data": {
      "application/vnd.jupyter.widget-view+json": {
       "model_id": "47fed90ba754417593e90104658a274d",
       "version_major": 2,
       "version_minor": 0
      },
      "text/plain": [
       "Parsing Locations In vt:   0%|          | 0/36 [00:00<?, ?it/s]"
      ]
     },
     "metadata": {},
     "output_type": "display_data"
    },
    {
     "data": {
      "application/vnd.jupyter.widget-view+json": {
       "model_id": "71fbaace539b4795aef7fb7f3b616b88",
       "version_major": 2,
       "version_minor": 0
      },
      "text/plain": [
       "Parsing Locations In mt:   0%|          | 0/44 [00:00<?, ?it/s]"
      ]
     },
     "metadata": {},
     "output_type": "display_data"
    },
    {
     "data": {
      "application/vnd.jupyter.widget-view+json": {
       "model_id": "39a844d5f4204cf58aa9c160848de2e2",
       "version_major": 2,
       "version_minor": 0
      },
      "text/plain": [
       "Parsing Locations In ia:   0%|          | 0/174 [00:00<?, ?it/s]"
      ]
     },
     "metadata": {},
     "output_type": "display_data"
    },
    {
     "data": {
      "application/vnd.jupyter.widget-view+json": {
       "model_id": "e7e480383ee94245b9b988969091e92e",
       "version_major": 2,
       "version_minor": 0
      },
      "text/plain": [
       "Parsing Locations In sc:   0%|          | 0/151 [00:00<?, ?it/s]"
      ]
     },
     "metadata": {},
     "output_type": "display_data"
    },
    {
     "data": {
      "application/vnd.jupyter.widget-view+json": {
       "model_id": "6c08efe101e349188e4298895c5e08d4",
       "version_major": 2,
       "version_minor": 0
      },
      "text/plain": [
       "Parsing Locations In nh:   0%|          | 0/59 [00:00<?, ?it/s]"
      ]
     },
     "metadata": {},
     "output_type": "display_data"
    },
    {
     "data": {
      "application/vnd.jupyter.widget-view+json": {
       "model_id": "c7c8c347ff7c4d028d4760c30740393a",
       "version_major": 2,
       "version_minor": 0
      },
      "text/plain": [
       "Parsing Locations In az:   0%|          | 0/98 [00:00<?, ?it/s]"
      ]
     },
     "metadata": {},
     "output_type": "display_data"
    },
    {
     "data": {
      "application/vnd.jupyter.widget-view+json": {
       "model_id": "ab7c3a228bf0452e80ebf471b82f1511",
       "version_major": 2,
       "version_minor": 0
      },
      "text/plain": [
       "Parsing Locations In dc:   0%|          | 0/2 [00:00<?, ?it/s]"
      ]
     },
     "metadata": {},
     "output_type": "display_data"
    },
    {
     "data": {
      "application/vnd.jupyter.widget-view+json": {
       "model_id": "b2986bfeb6be4e4ca3bdd6decf4c243c",
       "version_major": 2,
       "version_minor": 0
      },
      "text/plain": [
       "Parsing Locations In nj:   0%|          | 0/125 [00:00<?, ?it/s]"
      ]
     },
     "metadata": {},
     "output_type": "display_data"
    },
    {
     "data": {
      "application/vnd.jupyter.widget-view+json": {
       "model_id": "9fc38d8b2a7a45d38739fdd19169b181",
       "version_major": 2,
       "version_minor": 0
      },
      "text/plain": [
       "Parsing Locations In md:   0%|          | 0/173 [00:00<?, ?it/s]"
      ]
     },
     "metadata": {},
     "output_type": "display_data"
    },
    {
     "data": {
      "application/vnd.jupyter.widget-view+json": {
       "model_id": "06ab62aa7eb546729958276e3cd64ff3",
       "version_major": 2,
       "version_minor": 0
      },
      "text/plain": [
       "Parsing Locations In me:   0%|          | 0/81 [00:00<?, ?it/s]"
      ]
     },
     "metadata": {},
     "output_type": "display_data"
    },
    {
     "data": {
      "application/vnd.jupyter.widget-view+json": {
       "model_id": "3b3e813a866c414a9e158b91be5fcda5",
       "version_major": 2,
       "version_minor": 0
      },
      "text/plain": [
       "Parsing Locations In hi:   0%|          | 0/35 [00:00<?, ?it/s]"
      ]
     },
     "metadata": {},
     "output_type": "display_data"
    },
    {
     "data": {
      "application/vnd.jupyter.widget-view+json": {
       "model_id": "aded0e46e9b14ffeb154f7ce37853f3e",
       "version_major": 2,
       "version_minor": 0
      },
      "text/plain": [
       "Parsing Locations In de:   0%|          | 0/18 [00:00<?, ?it/s]"
      ]
     },
     "metadata": {},
     "output_type": "display_data"
    },
    {
     "data": {
      "application/vnd.jupyter.widget-view+json": {
       "model_id": "ce18d819c8da43e5b535db65df31ec39",
       "version_major": 2,
       "version_minor": 0
      },
      "text/plain": [
       "Parsing Locations In ri:   0%|          | 0/29 [00:00<?, ?it/s]"
      ]
     },
     "metadata": {},
     "output_type": "display_data"
    },
    {
     "data": {
      "application/vnd.jupyter.widget-view+json": {
       "model_id": "e977ce345373477da279685062517386",
       "version_major": 2,
       "version_minor": 0
      },
      "text/plain": [
       "Parsing Locations In ky:   0%|          | 0/182 [00:00<?, ?it/s]"
      ]
     },
     "metadata": {},
     "output_type": "display_data"
    },
    {
     "data": {
      "application/vnd.jupyter.widget-view+json": {
       "model_id": "9c9dd80e77794fed9f4664fa9ab7fe7c",
       "version_major": 2,
       "version_minor": 0
      },
      "text/plain": [
       "Parsing Locations In oh:   0%|          | 0/441 [00:00<?, ?it/s]"
      ]
     },
     "metadata": {},
     "output_type": "display_data"
    },
    {
     "data": {
      "application/vnd.jupyter.widget-view+json": {
       "model_id": "bfdce3633df1424688196c80289af943",
       "version_major": 2,
       "version_minor": 0
      },
      "text/plain": [
       "Parsing Locations In wi:   0%|          | 0/267 [00:00<?, ?it/s]"
      ]
     },
     "metadata": {},
     "output_type": "display_data"
    },
    {
     "data": {
      "application/vnd.jupyter.widget-view+json": {
       "model_id": "8cddbded88b94b29ad87a65516066e6f",
       "version_major": 2,
       "version_minor": 0
      },
      "text/plain": [
       "Parsing Locations In or:   0%|          | 0/113 [00:00<?, ?it/s]"
      ]
     },
     "metadata": {},
     "output_type": "display_data"
    },
    {
     "data": {
      "application/vnd.jupyter.widget-view+json": {
       "model_id": "a6eafa39289d4c5cb5434e123ff97174",
       "version_major": 2,
       "version_minor": 0
      },
      "text/plain": [
       "Parsing Locations In nd:   0%|          | 0/34 [00:00<?, ?it/s]"
      ]
     },
     "metadata": {},
     "output_type": "display_data"
    },
    {
     "data": {
      "application/vnd.jupyter.widget-view+json": {
       "model_id": "6a4734c927f64a9cb81f685a37ce9b8d",
       "version_major": 2,
       "version_minor": 0
      },
      "text/plain": [
       "Parsing Locations In ar:   0%|          | 0/138 [00:00<?, ?it/s]"
      ]
     },
     "metadata": {},
     "output_type": "display_data"
    },
    {
     "data": {
      "application/vnd.jupyter.widget-view+json": {
       "model_id": "8c06484cccc8478db7270f4719aa670f",
       "version_major": 2,
       "version_minor": 0
      },
      "text/plain": [
       "Parsing Locations In in:   0%|          | 0/253 [00:00<?, ?it/s]"
      ]
     },
     "metadata": {},
     "output_type": "display_data"
    },
    {
     "data": {
      "application/vnd.jupyter.widget-view+json": {
       "model_id": "7231ee5a3b904998b377992aceb66644",
       "version_major": 2,
       "version_minor": 0
      },
      "text/plain": [
       "Parsing Locations In mn:   0%|          | 0/241 [00:00<?, ?it/s]"
      ]
     },
     "metadata": {},
     "output_type": "display_data"
    },
    {
     "data": {
      "application/vnd.jupyter.widget-view+json": {
       "model_id": "bd914a5a95074d0cb94b432935559812",
       "version_major": 2,
       "version_minor": 0
      },
      "text/plain": [
       "Parsing Locations In ct:   0%|          | 0/128 [00:00<?, ?it/s]"
      ]
     },
     "metadata": {},
     "output_type": "display_data"
    }
   ],
   "source": [
    "count_dict = {}\n",
    "store_list = []\n",
    "\n",
    "for i in tqdm(range(len(states_df)), desc=\"Parsing States\"):\n",
    "    # Get State code\n",
    "    state_store_list = []\n",
    "    state_code = states_df.iloc[i][\"STUSPS\"].lower()\n",
    "\n",
    "    # Skip Territories\n",
    "    if state_code in [\"pr\", \"as\", \"vi\", \"gu\", \"mp\"]:\n",
    "        continue\n",
    "\n",
    "    # If File exists continue\n",
    "    if os.path.isfile(f\"data/states/{state_code}.gpkg\"):\n",
    "        continue\n",
    "\n",
    "    state_url = f\"{url_root}/united-states/{state_code}\"\n",
    "    state_r = scraper.get(state_url)\n",
    "\n",
    "    if state_r.status_code != 200:\n",
    "        print(states_df.iloc[i][\"NAME\"])\n",
    "        print(state_url)\n",
    "        continue\n",
    "\n",
    "    soup = BeautifulSoup(state_r.text, \"html.parser\")\n",
    "    locations_as = soup.find_all(\"a\", {\"class\": \"Directory-listLink\"})\n",
    "\n",
    "    # Parse all locations in a state\n",
    "    for locations_a in tqdm(locations_as, desc=f\"Parsing Locations In {state_code}\"):\n",
    "        href = locations_a.attrs[\"href\"]\n",
    "        count = int(re.findall(r\"\\d+\", locations_a.attrs[\"data-count\"])[0])\n",
    "        location_url = href.replace(\"..\", url_root)\n",
    "        if count == 1:\n",
    "            point = get_coords(location_url)\n",
    "            store_dict = {\n",
    "                \"STATE\": state_code,\n",
    "                \"geometry\": point,\n",
    "            }\n",
    "            store_list.append(store_dict)\n",
    "            state_store_list.append(store_dict)\n",
    "        else:\n",
    "            r_location = scraper.get(location_url)\n",
    "            location_soup = BeautifulSoup(r_location.text, \"html.parser\")\n",
    "            locations_divs = location_soup.find_all(\n",
    "                \"div\", {\"class\": \"Teaser-innerWrapper\"}\n",
    "            )\n",
    "\n",
    "            # Multiple stores in locations, parse the stores per location\n",
    "            for location_div in locations_divs:\n",
    "                try:\n",
    "                    location_a = location_div.find(\"a\")\n",
    "                    location_url = location_a.attrs[\"href\"].replace(\"../..\", url_root)\n",
    "                    point = get_coords(location_url)\n",
    "                    store_dict = {\n",
    "                        \"STATE\": state_code,\n",
    "                        \"geometry\": point,\n",
    "                    }\n",
    "                    store_list.append(store_dict)\n",
    "                    state_store_list.append(store_dict)\n",
    "                except Exception as e:\n",
    "                    print(location_url)\n",
    "                time.sleep(random.uniform(0.01, 0.5))\n",
    "\n",
    "    if state_store_list:\n",
    "        subway_state_gdf = gpd.GeoDataFrame(state_store_list, crs=4326)\n",
    "        subway_state_gdf.to_file(f\"data/states/{state_code}.gpkg\")\n",
    "\n",
    "    time.sleep(random.uniform(0.01, 0.25))"
   ]
  },
  {
   "cell_type": "code",
   "execution_count": 46,
   "id": "95883a0c-210f-4b3c-90ee-2cb376830f48",
   "metadata": {},
   "outputs": [],
   "source": [
    "subway_gdfs = []\n",
    "states_path = \"data/states\"\n",
    "for file in os.listdir(\"data/states\"):\n",
    "    constructed_path = os.path.join(states_path, file)\n",
    "    if constructed_path.endswith(\".gpkg\"):\n",
    "        subway_gdf = gpd.read_file(constructed_path)\n",
    "        subway_gdfs.append(subway_gdf)"
   ]
  },
  {
   "cell_type": "code",
   "execution_count": 47,
   "id": "cc9f2287-bb86-4e94-9f80-7020e8581aa4",
   "metadata": {},
   "outputs": [],
   "source": [
    "subway_gdf = gpd.GeoDataFrame(pd.concat(subway_gdfs, ignore_index=True))\n",
    "subway_gdf = subway_gdf.to_crs(9311)\n",
    "subway_gdf.to_file(f\"data/stores.gpkg\")"
   ]
  },
  {
   "cell_type": "code",
   "execution_count": 48,
   "id": "603524cb-75b6-48a7-86aa-b979955ef7a2",
   "metadata": {},
   "outputs": [],
   "source": [
    "subway_by_state_series = subway_gdf.groupby([\"STATE\"]).size()"
   ]
  },
  {
   "cell_type": "code",
   "execution_count": 49,
   "id": "bed65fb6-1966-4a07-b497-247596cefff1",
   "metadata": {},
   "outputs": [],
   "source": [
    "subways_by_state_df = pd.DataFrame(\n",
    "    {\n",
    "        \"STUSPS\": subway_by_state_series.index,\n",
    "        \"COUNT\": subway_by_state_series.values,\n",
    "    }\n",
    ")"
   ]
  },
  {
   "cell_type": "code",
   "execution_count": 50,
   "id": "e410b754-fd76-4e57-9662-6dc672d95458",
   "metadata": {},
   "outputs": [],
   "source": [
    "subways_by_state_df[\"STUSPS\"] = subways_by_state_df[\"STUSPS\"].str.upper()"
   ]
  },
  {
   "cell_type": "code",
   "execution_count": 51,
   "id": "c062806b-5f76-4d7e-a226-31383a266b6a",
   "metadata": {},
   "outputs": [],
   "source": [
    "subways_by_states_gdf = states_with_population_df.merge(\n",
    "    subways_by_state_df, on=\"STUSPS\", how=\"inner\"\n",
    ")"
   ]
  },
  {
   "cell_type": "code",
   "execution_count": 52,
   "id": "8e8b581c-4e0c-40b8-81a9-4ea014470b40",
   "metadata": {},
   "outputs": [],
   "source": [
    "subways_by_states_gdf[\"per_1000\"] = subways_by_states_gdf[\"COUNT\"] / (\n",
    "    subways_by_states_gdf[\"POPULATION\"] / 1000\n",
    ")\n",
    "subways_by_states_gdf[\"per_10k\"] = subways_by_states_gdf[\"COUNT\"] / (\n",
    "    subways_by_states_gdf[\"POPULATION\"] / 10_000\n",
    ")\n",
    "subways_by_states_gdf[\"per_100k\"] = (\n",
    "    (subways_by_states_gdf[\"COUNT\"] / (subways_by_states_gdf[\"POPULATION\"] / 100000))\n",
    "    .round(decimals=0)\n",
    "    .astype(int)\n",
    ")\n",
    "subways_by_states_gdf[\"per_500k\"] = subways_by_states_gdf[\"COUNT\"] / (\n",
    "    subways_by_states_gdf[\"POPULATION\"] / 500_000\n",
    ")\n",
    "subways_by_states_gdf[\"per_1m\"] = (\n",
    "    (subways_by_states_gdf[\"COUNT\"] / (subways_by_states_gdf[\"POPULATION\"] / 1_000_000))\n",
    "    .round(decimals=0)\n",
    "    .astype(int)\n",
    ")"
   ]
  },
  {
   "cell_type": "code",
   "execution_count": 53,
   "id": "237a0e6a-ccc2-4f3b-baad-d36ce4ecc481",
   "metadata": {},
   "outputs": [],
   "source": [
    "subways_by_states_gdf = subways_by_states_gdf.dropna()"
   ]
  },
  {
   "cell_type": "code",
   "execution_count": 54,
   "id": "944acfaa-313b-4a9f-aecc-53fe95e188be",
   "metadata": {},
   "outputs": [],
   "source": [
    "subways_by_states_gdf = subways_by_states_gdf.to_crs(9311)\n",
    "subways_by_states_gdf.to_file(f\"data/stores_by_states.gpkg\")"
   ]
  },
  {
   "cell_type": "code",
   "execution_count": null,
   "id": "4857fb82-2869-4020-8a57-c1983c9055b6",
   "metadata": {},
   "outputs": [],
   "source": []
  }
 ],
 "metadata": {
  "kernelspec": {
   "display_name": "Python 3 (ipykernel)",
   "language": "python",
   "name": "python3"
  },
  "language_info": {
   "codemirror_mode": {
    "name": "ipython",
    "version": 3
   },
   "file_extension": ".py",
   "mimetype": "text/x-python",
   "name": "python",
   "nbconvert_exporter": "python",
   "pygments_lexer": "ipython3",
   "version": "3.11.11"
  }
 },
 "nbformat": 4,
 "nbformat_minor": 5
}
