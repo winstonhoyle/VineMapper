{
 "cells": [
  {
   "cell_type": "code",
   "execution_count": 156,
   "id": "bc436e38-234d-44fd-b67b-d1f2974606d3",
   "metadata": {},
   "outputs": [],
   "source": [
    "import geopandas as gpd\n",
    "import numpy as np\n",
    "import pandas as pd"
   ]
  },
  {
   "cell_type": "markdown",
   "id": "8fc4024b-9727-41ee-9708-ffb25364b616",
   "metadata": {},
   "source": [
    "## Open County Data"
   ]
  },
  {
   "cell_type": "code",
   "execution_count": 157,
   "id": "7813076e-14bc-42d5-baf9-15303e676d24",
   "metadata": {},
   "outputs": [],
   "source": [
    "file_path = \"data/cb_2018_us_county_500k/cb_2018_us_county_500k.shp\"\n",
    "counties_gdf = gpd.read_file(file_path)"
   ]
  },
  {
   "cell_type": "code",
   "execution_count": 158,
   "id": "32ae5607-a36c-47e3-88e3-1197e0f90c05",
   "metadata": {},
   "outputs": [],
   "source": [
    "counties_gdf = counties_gdf.rename(columns={\"GEOID\": \"FIPS\"})"
   ]
  },
  {
   "cell_type": "markdown",
   "id": "3e0d0f92-5d15-4e2a-bf1d-f075fc8fcbca",
   "metadata": {},
   "source": [
    "## Open 2023 Population Estimates"
   ]
  },
  {
   "cell_type": "code",
   "execution_count": 159,
   "id": "5c34e27d-509f-4940-8bd0-4450485f9a95",
   "metadata": {},
   "outputs": [],
   "source": [
    "county_populations = pd.read_csv(\n",
    "    \"data/co-est2023-alldata.csv\", sep=\",\", encoding=\"latin-1\"\n",
    ")"
   ]
  },
  {
   "cell_type": "code",
   "execution_count": 160,
   "id": "e487f0c3-4d87-487d-ac2c-12009685cc66",
   "metadata": {},
   "outputs": [],
   "source": [
    "county_populations[\"FIPS\"] = county_populations.apply(\n",
    "    lambda row: f\"{row['STATE']:02d}{row['COUNTY']:03d}\", axis=1\n",
    ")"
   ]
  },
  {
   "cell_type": "code",
   "execution_count": 161,
   "id": "dacc3f35-4701-4e43-becb-ff2d778fb1e5",
   "metadata": {},
   "outputs": [],
   "source": [
    "county_populations_2023_df = county_populations[[\"POPESTIMATE2023\", \"FIPS\"]].dropna()"
   ]
  },
  {
   "cell_type": "markdown",
   "id": "aba784b6-2dcd-4dc6-a345-283aec00afb4",
   "metadata": {},
   "source": [
    "## Merge data"
   ]
  },
  {
   "cell_type": "code",
   "execution_count": 162,
   "id": "83b6f528-a155-4e3f-8b40-ae1dad94d941",
   "metadata": {},
   "outputs": [],
   "source": [
    "county_populations_2023_gdf = counties_gdf.merge(\n",
    "    county_populations_2023_df, on=\"FIPS\", how=\"left\"\n",
    ")"
   ]
  },
  {
   "cell_type": "code",
   "execution_count": 163,
   "id": "e3e95794-1422-425e-9802-9e959ff9a945",
   "metadata": {},
   "outputs": [],
   "source": [
    "county_populations_2023_gdf = county_populations_2023_gdf[\n",
    "    county_populations_2023_gdf[\"STATEFP\"] == \"48\"\n",
    "]"
   ]
  },
  {
   "cell_type": "markdown",
   "id": "6d2f1ce9-a36c-4292-99a0-ad42032c5ad4",
   "metadata": {},
   "source": [
    "## Get Whataburger Data"
   ]
  },
  {
   "cell_type": "code",
   "execution_count": 164,
   "id": "282540fb-b4de-4e06-9236-91b80d24a10a",
   "metadata": {},
   "outputs": [],
   "source": [
    "whataburger_gdf = gpd.read_file(\"data/whataburger_locations.gpkg\")"
   ]
  },
  {
   "cell_type": "markdown",
   "id": "da5d5b73-81ab-499b-b6e7-cb9ca290c02c",
   "metadata": {},
   "source": [
    "## Intersect Data"
   ]
  },
  {
   "cell_type": "code",
   "execution_count": 165,
   "id": "4857fb82-2869-4020-8a57-c1983c9055b6",
   "metadata": {},
   "outputs": [],
   "source": [
    "county_populations_2023_gdf = county_populations_2023_gdf.to_crs(\n",
    "    whataburger_gdf.crs.srs\n",
    ")"
   ]
  },
  {
   "cell_type": "code",
   "execution_count": 166,
   "id": "4dfc2320-070e-464f-83f8-9d3529c0f41b",
   "metadata": {},
   "outputs": [],
   "source": [
    "counties_count_gdf = county_populations_2023_gdf.join(\n",
    "    gpd.sjoin(whataburger_gdf, county_populations_2023_gdf)\n",
    "    .groupby(\"index_right\")\n",
    "    .size()\n",
    "    .rename(\"stores\"),\n",
    "    how=\"left\",\n",
    ")"
   ]
  },
  {
   "cell_type": "code",
   "execution_count": 167,
   "id": "2280b969-e19f-400a-9e57-61806b2029d7",
   "metadata": {},
   "outputs": [],
   "source": [
    "counties_count_gdf = counties_count_gdf.fillna(0)\n",
    "counties_count_gdf[\"POPESTIMATE2023\"] = counties_count_gdf[\"POPESTIMATE2023\"].astype(\n",
    "    int\n",
    ")\n",
    "counties_count_gdf[\"stores\"] = counties_count_gdf[\"stores\"].astype(int)"
   ]
  },
  {
   "cell_type": "code",
   "execution_count": 168,
   "id": "79296df7-cd28-42b1-9933-874eb00509e4",
   "metadata": {},
   "outputs": [],
   "source": [
    "counties_count_gdf = counties_count_gdf[\n",
    "    [\"geometry\", \"stores\", \"POPESTIMATE2023\", \"NAME\"]\n",
    "]"
   ]
  },
  {
   "cell_type": "code",
   "execution_count": 169,
   "id": "7ca62239-3439-49da-b2a1-d17c575a9b3f",
   "metadata": {},
   "outputs": [],
   "source": [
    "counties_count_gdf[\"per_capita\"] = counties_count_gdf[\"POPESTIMATE2023\"].div(\n",
    "    counties_count_gdf[\"stores\"]\n",
    ")\n",
    "counties_count_gdf[\"per_100k\"] = (counties_count_gdf[\"POPESTIMATE2023\"] / 100_000).div(\n",
    "    counties_count_gdf[\"stores\"]\n",
    ")"
   ]
  },
  {
   "cell_type": "code",
   "execution_count": 170,
   "id": "b2390f33-6287-4fdf-a72b-9a04b26121ce",
   "metadata": {},
   "outputs": [],
   "source": [
    "counties_count_gdf.replace([np.inf, -np.inf], np.nan, inplace=True)\n",
    "counties_count_gdf = counties_count_gdf.fillna(0)"
   ]
  },
  {
   "cell_type": "code",
   "execution_count": 171,
   "id": "d523c266-6dae-4ebb-b9a4-8339da4898e7",
   "metadata": {},
   "outputs": [],
   "source": [
    "counties_count_gdf.to_file(\"data/counties_count.gpkg\")"
   ]
  },
  {
   "cell_type": "code",
   "execution_count": null,
   "id": "3c272511-ccbd-443f-8c65-028307c34172",
   "metadata": {},
   "outputs": [],
   "source": []
  },
  {
   "cell_type": "code",
   "execution_count": null,
   "id": "83e75ca1-961f-433b-aca7-b7bf3196201b",
   "metadata": {},
   "outputs": [],
   "source": []
  }
 ],
 "metadata": {
  "kernelspec": {
   "display_name": "Python 3 (ipykernel)",
   "language": "python",
   "name": "python3"
  },
  "language_info": {
   "codemirror_mode": {
    "name": "ipython",
    "version": 3
   },
   "file_extension": ".py",
   "mimetype": "text/x-python",
   "name": "python",
   "nbconvert_exporter": "python",
   "pygments_lexer": "ipython3",
   "version": "3.11.11"
  }
 },
 "nbformat": 4,
 "nbformat_minor": 5
}
