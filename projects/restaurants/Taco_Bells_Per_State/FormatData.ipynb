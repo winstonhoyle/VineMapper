{
 "cells": [
  {
   "cell_type": "code",
   "execution_count": 1,
   "id": "c86ad9f6-4aaf-469e-a56e-363083168e1e",
   "metadata": {},
   "outputs": [],
   "source": [
    "import json\n",
    "import os\n",
    "import random\n",
    "import re\n",
    "import time"
   ]
  },
  {
   "cell_type": "code",
   "execution_count": 2,
   "id": "10fa1d09-7717-4ea8-9ce7-1cef37b4da9c",
   "metadata": {},
   "outputs": [],
   "source": [
    "import cloudscraper\n",
    "from bs4 import BeautifulSoup\n",
    "import geopandas as gpd\n",
    "import pandas as pd\n",
    "import h3"
   ]
  },
  {
   "cell_type": "code",
   "execution_count": 3,
   "id": "d22202a0-bf3c-4953-81ce-105a19e002a0",
   "metadata": {},
   "outputs": [],
   "source": [
    "from shapely.geometry import Point\n",
    "from tqdm.notebook import tqdm"
   ]
  },
  {
   "cell_type": "markdown",
   "id": "02e1dfb5-464d-4984-8c84-5599ce9dcd5d",
   "metadata": {},
   "source": [
    "## Get State Data"
   ]
  },
  {
   "cell_type": "code",
   "execution_count": 4,
   "id": "84b53c65-5746-4ab8-8c99-6dfe3e967797",
   "metadata": {},
   "outputs": [],
   "source": [
    "file_path = \"data/cb_2018_us_state_500k/cb_2018_us_state_500k.shp\"\n",
    "states_df = gpd.read_file(file_path)"
   ]
  },
  {
   "cell_type": "code",
   "execution_count": 5,
   "id": "191755a6-eb92-4683-833e-b69f4be9f3f5",
   "metadata": {},
   "outputs": [],
   "source": [
    "states_df = states_df[[\"STUSPS\", \"NAME\", \"geometry\"]]"
   ]
  },
  {
   "cell_type": "markdown",
   "id": "f3ad4feb-2496-4c2f-827b-04c586ef17ba",
   "metadata": {},
   "source": [
    "## Get Taco Bell Data"
   ]
  },
  {
   "cell_type": "code",
   "execution_count": 6,
   "id": "4c063aa4-d1b0-400e-a449-8125a2a0596a",
   "metadata": {},
   "outputs": [],
   "source": [
    "scraper = cloudscraper.create_scraper()"
   ]
  },
  {
   "cell_type": "code",
   "execution_count": 7,
   "id": "8d69e310-5a2a-404e-b595-1733fc9f11ac",
   "metadata": {},
   "outputs": [],
   "source": [
    "url_root = \"https://locations.tacobell.com/\n",
    "national_store_list = []"
   ]
  },
  {
   "cell_type": "code",
   "execution_count": 16,
   "id": "b1793bb5-26c3-4408-8572-175ba688bb03",
   "metadata": {},
   "outputs": [
    {
     "data": {
      "application/vnd.jupyter.widget-view+json": {
       "model_id": "08ea01bcf793408db0899d1cd10ba880",
       "version_major": 2,
       "version_minor": 0
      },
      "text/plain": [
       "Parsing States:   0%|          | 0/56 [00:00<?, ?it/s]"
      ]
     },
     "metadata": {},
     "output_type": "display_data"
    },
    {
     "data": {
      "application/vnd.jupyter.widget-view+json": {
       "model_id": "a8756f36b5324bfda0bd9f972e23c3e0",
       "version_major": 2,
       "version_minor": 0
      },
      "text/plain": [
       "Parsing Locations in nc:   0%|          | 0/159 [00:00<?, ?it/s]"
      ]
     },
     "metadata": {},
     "output_type": "display_data"
    },
    {
     "name": "stdout",
     "output_type": "stream",
     "text": [
      "https://locations.tacobell.com/nc/clinton/1410-sunset-avenue.html\n",
      "https://locations.tacobell.com/nc/williamston/1471-washington-street.html\n",
      "https://locations.tacobell.com/nc/wilson/901-highway-301.html\n"
     ]
    },
    {
     "data": {
      "application/vnd.jupyter.widget-view+json": {
       "model_id": "729d5553adc143508a1c36d3bde40163",
       "version_major": 2,
       "version_minor": 0
      },
      "text/plain": [
       "Parsing Locations in ok:   0%|          | 0/76 [00:00<?, ?it/s]"
      ]
     },
     "metadata": {},
     "output_type": "display_data"
    },
    {
     "name": "stdout",
     "output_type": "stream",
     "text": [
      "https://locations.tacobell.com/ok/tinker-afb/3360-n-avenue.html\n"
     ]
    },
    {
     "data": {
      "application/vnd.jupyter.widget-view+json": {
       "model_id": "56b5b29582344e5cb490bd291a9e9cc1",
       "version_major": 2,
       "version_minor": 0
      },
      "text/plain": [
       "Parsing Locations in va:   0%|          | 0/118 [00:00<?, ?it/s]"
      ]
     },
     "metadata": {},
     "output_type": "display_data"
    },
    {
     "name": "stdout",
     "output_type": "stream",
     "text": [
      "https://locations.tacobell.com/va/chantilly/4418-chantilly-place.html\n",
      "https://locations.tacobell.com/va/emporia/107-cloverleaf-drive.html\n",
      "https://locations.tacobell.com/va/franklin/1290-armory-drive.html\n",
      "https://locations.tacobell.com/va/reston/11257-roger-bacon-dr.html\n"
     ]
    },
    {
     "data": {
      "application/vnd.jupyter.widget-view+json": {
       "model_id": "6e7964fc5ac24fa0a02527ba8a8e1f4b",
       "version_major": 2,
       "version_minor": 0
      },
      "text/plain": [
       "Parsing Locations in wv:   0%|          | 0/57 [00:00<?, ?it/s]"
      ]
     },
     "metadata": {},
     "output_type": "display_data"
    },
    {
     "data": {
      "application/vnd.jupyter.widget-view+json": {
       "model_id": "927308ae4c0b4396a50840e223d6246c",
       "version_major": 2,
       "version_minor": 0
      },
      "text/plain": [
       "Parsing Locations in la:   0%|          | 0/74 [00:00<?, ?it/s]"
      ]
     },
     "metadata": {},
     "output_type": "display_data"
    },
    {
     "name": "stdout",
     "output_type": "stream",
     "text": [
      "https://locations.tacobell.com/la/gonzales/1202-n--airline-hwy-.html\n"
     ]
    },
    {
     "data": {
      "application/vnd.jupyter.widget-view+json": {
       "model_id": "866cd84028334844b4a2a6e226822a14",
       "version_major": 2,
       "version_minor": 0
      },
      "text/plain": [
       "Parsing Locations in mi:   0%|          | 0/216 [00:00<?, ?it/s]"
      ]
     },
     "metadata": {},
     "output_type": "display_data"
    },
    {
     "name": "stdout",
     "output_type": "stream",
     "text": [
      "https://locations.tacobell.com/mi/detroit/5221-gullen-mall.html\n",
      "https://locations.tacobell.com/mi/east-lansing/601-e-grand-river-ave.html\n"
     ]
    },
    {
     "data": {
      "application/vnd.jupyter.widget-view+json": {
       "model_id": "7f451ca01bab4882a3986582fb327349",
       "version_major": 2,
       "version_minor": 0
      },
      "text/plain": [
       "Parsing Locations in ma:   0%|          | 0/61 [00:00<?, ?it/s]"
      ]
     },
     "metadata": {},
     "output_type": "display_data"
    },
    {
     "data": {
      "application/vnd.jupyter.widget-view+json": {
       "model_id": "3787cc794946415da3b8c321b9aef83c",
       "version_major": 2,
       "version_minor": 0
      },
      "text/plain": [
       "Parsing Locations in id:   0%|          | 0/23 [00:00<?, ?it/s]"
      ]
     },
     "metadata": {},
     "output_type": "display_data"
    },
    {
     "data": {
      "application/vnd.jupyter.widget-view+json": {
       "model_id": "1d110f04cfc94feb92c445e1efd548bd",
       "version_major": 2,
       "version_minor": 0
      },
      "text/plain": [
       "Parsing Locations in fl:   0%|          | 0/205 [00:00<?, ?it/s]"
      ]
     },
     "metadata": {},
     "output_type": "display_data"
    },
    {
     "name": "stdout",
     "output_type": "stream",
     "text": [
      "https://locations.tacobell.com/fl/orlando/4225-e-colonial-drive.html\n",
      "https://locations.tacobell.com/fl/orlando/5109-international-dr-.html\n",
      "https://locations.tacobell.com/fl/orlando/7853-colonial-drive.html\n",
      "https://locations.tacobell.com/fl/winter-springs/1345-tuskawilla-rd.html\n"
     ]
    },
    {
     "data": {
      "application/vnd.jupyter.widget-view+json": {
       "model_id": "c6fdb23ad8e94635aa045df70b5b61e6",
       "version_major": 2,
       "version_minor": 0
      },
      "text/plain": [
       "Parsing Locations in ne:   0%|          | 0/19 [00:00<?, ?it/s]"
      ]
     },
     "metadata": {},
     "output_type": "display_data"
    },
    {
     "data": {
      "application/vnd.jupyter.widget-view+json": {
       "model_id": "1e8aba8436014f8a92d6ab14b6df9436",
       "version_major": 2,
       "version_minor": 0
      },
      "text/plain": [
       "Parsing Locations in wa:   0%|          | 0/88 [00:00<?, ?it/s]"
      ]
     },
     "metadata": {},
     "output_type": "display_data"
    },
    {
     "name": "stdout",
     "output_type": "stream",
     "text": [
      "https://locations.tacobell.com/wa/colville/1520-n--highway-395.html\n"
     ]
    },
    {
     "data": {
      "application/vnd.jupyter.widget-view+json": {
       "model_id": "89ca82fcdd584722a8367d0d963a9ad2",
       "version_major": 2,
       "version_minor": 0
      },
      "text/plain": [
       "Parsing Locations in nm:   0%|          | 0/27 [00:00<?, ?it/s]"
      ]
     },
     "metadata": {},
     "output_type": "display_data"
    },
    {
     "name": "stdout",
     "output_type": "stream",
     "text": [
      "pr\n"
     ]
    },
    {
     "data": {
      "application/vnd.jupyter.widget-view+json": {
       "model_id": "c620a414e047414389d58998f7f389a7",
       "version_major": 2,
       "version_minor": 0
      },
      "text/plain": [
       "Parsing Locations in sd:   0%|          | 0/8 [00:00<?, ?it/s]"
      ]
     },
     "metadata": {},
     "output_type": "display_data"
    },
    {
     "data": {
      "application/vnd.jupyter.widget-view+json": {
       "model_id": "668b14d4746641618b6cb7a422c0a8b5",
       "version_major": 2,
       "version_minor": 0
      },
      "text/plain": [
       "Parsing Locations in tx:   0%|          | 0/306 [00:00<?, ?it/s]"
      ]
     },
     "metadata": {},
     "output_type": "display_data"
    },
    {
     "name": "stdout",
     "output_type": "stream",
     "text": [
      "https://locations.tacobell.com/tx/anthony/1811-antonio-street.html\n",
      "https://locations.tacobell.com/tx/bedford/1505-brown-trail.html\n",
      "https://locations.tacobell.com/tx/carrollton/4117-north-josey-lane.html\n",
      "https://locations.tacobell.com/tx/dallas/8001-forest-lane.html\n",
      "https://locations.tacobell.com/tx/dallas/3001-n--hampton-rd-.html\n",
      "https://locations.tacobell.com/tx/mckinney/2920-w--eldorado-parkway.html\n",
      "https://locations.tacobell.com/tx/midland/4727-n--midkiff-drive.html\n",
      "https://locations.tacobell.com/tx/midland/1814-n--midland-drive.html\n",
      "https://locations.tacobell.com/tx/odessa/1713-n--county-road-w-.html\n",
      "https://locations.tacobell.com/tx/plano/401-coit-road.html\n",
      "https://locations.tacobell.com/tx/plano/7100-corporate-drive.html\n",
      "https://locations.tacobell.com/tx/southlake/101-north-kimball-avenue.html\n"
     ]
    },
    {
     "data": {
      "application/vnd.jupyter.widget-view+json": {
       "model_id": "f5862990435c4eb98591639cb051d168",
       "version_major": 2,
       "version_minor": 0
      },
      "text/plain": [
       "Parsing Locations in ca:   0%|          | 0/416 [00:00<?, ?it/s]"
      ]
     },
     "metadata": {},
     "output_type": "display_data"
    },
    {
     "name": "stdout",
     "output_type": "stream",
     "text": [
      "https://locations.tacobell.com/ca/oakland/6035-telegraph-road.html\n",
      "https://locations.tacobell.com/ca/phelan/9619-sheep-creek-road.html\n",
      "https://locations.tacobell.com/ca/santa-ana/2720-w-edinger.html\n"
     ]
    },
    {
     "data": {
      "application/vnd.jupyter.widget-view+json": {
       "model_id": "8a00cf14246d43b286c84dd923ec4613",
       "version_major": 2,
       "version_minor": 0
      },
      "text/plain": [
       "Parsing Locations in al:   0%|          | 0/104 [00:00<?, ?it/s]"
      ]
     },
     "metadata": {},
     "output_type": "display_data"
    },
    {
     "name": "stdout",
     "output_type": "stream",
     "text": [
      "https://locations.tacobell.com/al/bessemer/710-9th-ave-n.html\n"
     ]
    },
    {
     "data": {
      "application/vnd.jupyter.widget-view+json": {
       "model_id": "7fa19ec686474e308becfb8c7591fcfd",
       "version_major": 2,
       "version_minor": 0
      },
      "text/plain": [
       "Parsing Locations in ga:   0%|          | 0/156 [00:00<?, ?it/s]"
      ]
     },
     "metadata": {},
     "output_type": "display_data"
    },
    {
     "name": "stdout",
     "output_type": "stream",
     "text": [
      "https://locations.tacobell.com/ga/atlanta/3385-buford-hwy.html\n"
     ]
    },
    {
     "data": {
      "application/vnd.jupyter.widget-view+json": {
       "model_id": "3050cb260a254bc9a036e8d147d05adc",
       "version_major": 2,
       "version_minor": 0
      },
      "text/plain": [
       "Parsing Locations in pa:   0%|          | 0/164 [00:00<?, ?it/s]"
      ]
     },
     "metadata": {},
     "output_type": "display_data"
    },
    {
     "name": "stdout",
     "output_type": "stream",
     "text": [
      "https://locations.tacobell.com/pa/philadelphia/1500-jfk-boulevard.html\n"
     ]
    },
    {
     "data": {
      "application/vnd.jupyter.widget-view+json": {
       "model_id": "441bcc51ee0f423d8cfb9d1de56ae10c",
       "version_major": 2,
       "version_minor": 0
      },
      "text/plain": [
       "Parsing Locations in mo:   0%|          | 0/140 [00:00<?, ?it/s]"
      ]
     },
     "metadata": {},
     "output_type": "display_data"
    },
    {
     "data": {
      "application/vnd.jupyter.widget-view+json": {
       "model_id": "45443e9baafc480782c52d812cec45c2",
       "version_major": 2,
       "version_minor": 0
      },
      "text/plain": [
       "Parsing Locations in co:   0%|          | 0/63 [00:00<?, ?it/s]"
      ]
     },
     "metadata": {},
     "output_type": "display_data"
    },
    {
     "data": {
      "application/vnd.jupyter.widget-view+json": {
       "model_id": "e56a304918264d44b7623cbb4508b87d",
       "version_major": 2,
       "version_minor": 0
      },
      "text/plain": [
       "Parsing Locations in ut:   0%|          | 0/44 [00:00<?, ?it/s]"
      ]
     },
     "metadata": {},
     "output_type": "display_data"
    },
    {
     "data": {
      "application/vnd.jupyter.widget-view+json": {
       "model_id": "53c5f5f9265f4ffd9a247843ee46910c",
       "version_major": 2,
       "version_minor": 0
      },
      "text/plain": [
       "Parsing Locations in tn:   0%|          | 0/137 [00:00<?, ?it/s]"
      ]
     },
     "metadata": {},
     "output_type": "display_data"
    },
    {
     "name": "stdout",
     "output_type": "stream",
     "text": [
      "https://locations.tacobell.com/tn/atoka/11200-highway-51-south.html\n",
      "https://locations.tacobell.com/tn/johnson-city/1276-gilbreath-drive.html\n",
      "https://locations.tacobell.com/tn/knoxville/1900-w-cumberland.html\n",
      "https://locations.tacobell.com/tn/waverly/310-west-main-street.html\n"
     ]
    },
    {
     "data": {
      "application/vnd.jupyter.widget-view+json": {
       "model_id": "44349204367f4e789b1715a1b1d95ebf",
       "version_major": 2,
       "version_minor": 0
      },
      "text/plain": [
       "Parsing Locations in wy:   0%|          | 0/12 [00:00<?, ?it/s]"
      ]
     },
     "metadata": {},
     "output_type": "display_data"
    },
    {
     "data": {
      "application/vnd.jupyter.widget-view+json": {
       "model_id": "0de7df3a56154f4bbadf8c4b29afd941",
       "version_major": 2,
       "version_minor": 0
      },
      "text/plain": [
       "Parsing Locations in ny:   0%|          | 0/172 [00:00<?, ?it/s]"
      ]
     },
     "metadata": {},
     "output_type": "display_data"
    },
    {
     "name": "stdout",
     "output_type": "stream",
     "text": [
      "https://locations.tacobell.com/ny/new-york/1884-third-ave.html\n"
     ]
    },
    {
     "data": {
      "application/vnd.jupyter.widget-view+json": {
       "model_id": "a71557fc06e14d2492c80cae440d30c8",
       "version_major": 2,
       "version_minor": 0
      },
      "text/plain": [
       "Parsing Locations in ks:   0%|          | 0/54 [00:00<?, ?it/s]"
      ]
     },
     "metadata": {},
     "output_type": "display_data"
    },
    {
     "data": {
      "application/vnd.jupyter.widget-view+json": {
       "model_id": "de52f000d65945a584d5cf02ae2555d1",
       "version_major": 2,
       "version_minor": 0
      },
      "text/plain": [
       "Parsing Locations in ak:   0%|          | 0/8 [00:00<?, ?it/s]"
      ]
     },
     "metadata": {},
     "output_type": "display_data"
    },
    {
     "data": {
      "application/vnd.jupyter.widget-view+json": {
       "model_id": "7f5b05d1a90c43d690f41bfc924c84d4",
       "version_major": 2,
       "version_minor": 0
      },
      "text/plain": [
       "Parsing Locations in nv:   0%|          | 0/19 [00:00<?, ?it/s]"
      ]
     },
     "metadata": {},
     "output_type": "display_data"
    },
    {
     "name": "stdout",
     "output_type": "stream",
     "text": [
      "https://locations.tacobell.com/nv/las-vegas/333-w-st-louis-ave.html\n"
     ]
    },
    {
     "data": {
      "application/vnd.jupyter.widget-view+json": {
       "model_id": "054f0c24065c4ef583de4cfde4018dcb",
       "version_major": 2,
       "version_minor": 0
      },
      "text/plain": [
       "Parsing Locations in il:   0%|          | 0/206 [00:00<?, ?it/s]"
      ]
     },
     "metadata": {},
     "output_type": "display_data"
    },
    {
     "name": "stdout",
     "output_type": "stream",
     "text": [
      "https://locations.tacobell.com/il/benton/634-west-main-street.html\n"
     ]
    },
    {
     "data": {
      "application/vnd.jupyter.widget-view+json": {
       "model_id": "0fab6881ad6e48fea513fba8bbcb4174",
       "version_major": 2,
       "version_minor": 0
      },
      "text/plain": [
       "Parsing Locations in vt:   0%|          | 0/5 [00:00<?, ?it/s]"
      ]
     },
     "metadata": {},
     "output_type": "display_data"
    },
    {
     "name": "stdout",
     "output_type": "stream",
     "text": [
      "https://locations.tacobell.com/vt/brattleboro/1007-putney-road.html\n"
     ]
    },
    {
     "data": {
      "application/vnd.jupyter.widget-view+json": {
       "model_id": "3a9e3589f8464534bf9adf81e2d6fdd7",
       "version_major": 2,
       "version_minor": 0
      },
      "text/plain": [
       "Parsing Locations in mt:   0%|          | 0/12 [00:00<?, ?it/s]"
      ]
     },
     "metadata": {},
     "output_type": "display_data"
    },
    {
     "data": {
      "application/vnd.jupyter.widget-view+json": {
       "model_id": "d8caa9a74fb3403eb2705166266ff467",
       "version_major": 2,
       "version_minor": 0
      },
      "text/plain": [
       "Parsing Locations in ia:   0%|          | 0/42 [00:00<?, ?it/s]"
      ]
     },
     "metadata": {},
     "output_type": "display_data"
    },
    {
     "data": {
      "application/vnd.jupyter.widget-view+json": {
       "model_id": "4b35fe3528c346febe1962b18519efd6",
       "version_major": 2,
       "version_minor": 0
      },
      "text/plain": [
       "Parsing Locations in sc:   0%|          | 0/78 [00:00<?, ?it/s]"
      ]
     },
     "metadata": {},
     "output_type": "display_data"
    },
    {
     "name": "stdout",
     "output_type": "stream",
     "text": [
      "https://locations.tacobell.com/sc/charleston/2040-savannah-hwy.html\n"
     ]
    },
    {
     "data": {
      "application/vnd.jupyter.widget-view+json": {
       "model_id": "52a3a22c007b4efd98eb35ea38578dd5",
       "version_major": 2,
       "version_minor": 0
      },
      "text/plain": [
       "Parsing Locations in nh:   0%|          | 0/17 [00:00<?, ?it/s]"
      ]
     },
     "metadata": {},
     "output_type": "display_data"
    },
    {
     "name": "stdout",
     "output_type": "stream",
     "text": [
      "https://locations.tacobell.com/nh/seabrook/306-lafayette-road.html\n"
     ]
    },
    {
     "data": {
      "application/vnd.jupyter.widget-view+json": {
       "model_id": "d82ccd1d618f46028f99da5bb84c9477",
       "version_major": 2,
       "version_minor": 0
      },
      "text/plain": [
       "Parsing Locations in az:   0%|          | 0/64 [00:00<?, ?it/s]"
      ]
     },
     "metadata": {},
     "output_type": "display_data"
    },
    {
     "name": "stdout",
     "output_type": "stream",
     "text": [
      "https://locations.tacobell.com/az/phoenix/3507-w--peoria-ave-.html\n",
      "https://locations.tacobell.com/az/sierra-vista/3920-east-fry-blvd.html\n"
     ]
    },
    {
     "data": {
      "application/vnd.jupyter.widget-view+json": {
       "model_id": "2093888fff7d4359a72f20b899c5b77c",
       "version_major": 2,
       "version_minor": 0
      },
      "text/plain": [
       "Parsing Locations in dc:   0%|          | 0/1 [00:00<?, ?it/s]"
      ]
     },
     "metadata": {},
     "output_type": "display_data"
    },
    {
     "name": "stdout",
     "output_type": "stream",
     "text": [
      "as\n",
      "vi\n"
     ]
    },
    {
     "data": {
      "application/vnd.jupyter.widget-view+json": {
       "model_id": "9b364f16907b46e89206e7e3e08fb568",
       "version_major": 2,
       "version_minor": 0
      },
      "text/plain": [
       "Parsing Locations in nj:   0%|          | 0/107 [00:00<?, ?it/s]"
      ]
     },
     "metadata": {},
     "output_type": "display_data"
    },
    {
     "name": "stdout",
     "output_type": "stream",
     "text": [
      "https://locations.tacobell.com/nj/columbia/2-simpson-road.html\n",
      "https://locations.tacobell.com/nj/newark/150-bleeker-street.html\n"
     ]
    },
    {
     "data": {
      "application/vnd.jupyter.widget-view+json": {
       "model_id": "208d75f3f04b47ada7766f27986db3a6",
       "version_major": 2,
       "version_minor": 0
      },
      "text/plain": [
       "Parsing Locations in md:   0%|          | 0/77 [00:00<?, ?it/s]"
      ]
     },
     "metadata": {},
     "output_type": "display_data"
    },
    {
     "data": {
      "application/vnd.jupyter.widget-view+json": {
       "model_id": "4ae4e2d689624f9ea72c2fdc9f472881",
       "version_major": 2,
       "version_minor": 0
      },
      "text/plain": [
       "Parsing Locations in me:   0%|          | 0/19 [00:00<?, ?it/s]"
      ]
     },
     "metadata": {},
     "output_type": "display_data"
    },
    {
     "data": {
      "application/vnd.jupyter.widget-view+json": {
       "model_id": "4262a51f46394b41b757c8179aae6980",
       "version_major": 2,
       "version_minor": 0
      },
      "text/plain": [
       "Parsing Locations in hi:   0%|          | 0/18 [00:00<?, ?it/s]"
      ]
     },
     "metadata": {},
     "output_type": "display_data"
    },
    {
     "name": "stdout",
     "output_type": "stream",
     "text": [
      "https://locations.tacobell.com/hi/lahaina/127-a-hinau-st.html\n"
     ]
    },
    {
     "data": {
      "application/vnd.jupyter.widget-view+json": {
       "model_id": "dd633c1c0bea4c27af4551ac0912e21a",
       "version_major": 2,
       "version_minor": 0
      },
      "text/plain": [
       "Parsing Locations in de:   0%|          | 0/15 [00:00<?, ?it/s]"
      ]
     },
     "metadata": {},
     "output_type": "display_data"
    },
    {
     "name": "stdout",
     "output_type": "stream",
     "text": [
      "https://locations.tacobell.com/de/rehoboth-beach/19010-coastal-hwy.html\n",
      "gu\n",
      "mp\n"
     ]
    },
    {
     "data": {
      "application/vnd.jupyter.widget-view+json": {
       "model_id": "9169250cf6e64f4191c41ed36c26a98b",
       "version_major": 2,
       "version_minor": 0
      },
      "text/plain": [
       "Parsing Locations in ri:   0%|          | 0/12 [00:00<?, ?it/s]"
      ]
     },
     "metadata": {},
     "output_type": "display_data"
    },
    {
     "data": {
      "application/vnd.jupyter.widget-view+json": {
       "model_id": "c2ce034434244c809104bbfc6bc563e8",
       "version_major": 2,
       "version_minor": 0
      },
      "text/plain": [
       "Parsing Locations in ky:   0%|          | 0/104 [00:00<?, ?it/s]"
      ]
     },
     "metadata": {},
     "output_type": "display_data"
    },
    {
     "name": "stdout",
     "output_type": "stream",
     "text": [
      "https://locations.tacobell.com/ky/cadiz/57-hospitality-lane.html\n",
      "https://locations.tacobell.com/ky/cynthiana/905-u-s--highway-27-south.html\n",
      "https://locations.tacobell.com/ky/dry-ridge/71-broadway-street.html\n",
      "https://locations.tacobell.com/ky/fort-campbell/3001-bastogne-avenue.html\n",
      "https://locations.tacobell.com/ky/louisville/one-arena-plaza-307695.html\n",
      "https://locations.tacobell.com/ky/louisville/1441-gardiner-lane.html\n",
      "https://locations.tacobell.com/ky/louisville/one-arena-plaza-307696.html\n"
     ]
    },
    {
     "data": {
      "application/vnd.jupyter.widget-view+json": {
       "model_id": "bb54bfbfd3934924acbc618fdaf65907",
       "version_major": 2,
       "version_minor": 0
      },
      "text/plain": [
       "Parsing Locations in oh:   0%|          | 0/249 [00:00<?, ?it/s]"
      ]
     },
     "metadata": {},
     "output_type": "display_data"
    },
    {
     "data": {
      "application/vnd.jupyter.widget-view+json": {
       "model_id": "59e5919faa18436f98b865af532b685a",
       "version_major": 2,
       "version_minor": 0
      },
      "text/plain": [
       "Parsing Locations in wi:   0%|          | 0/103 [00:00<?, ?it/s]"
      ]
     },
     "metadata": {},
     "output_type": "display_data"
    },
    {
     "data": {
      "application/vnd.jupyter.widget-view+json": {
       "model_id": "a1907f895c674ee18c54a4cccd09d2c1",
       "version_major": 2,
       "version_minor": 0
      },
      "text/plain": [
       "Parsing Locations in or:   0%|          | 0/70 [00:00<?, ?it/s]"
      ]
     },
     "metadata": {},
     "output_type": "display_data"
    },
    {
     "name": "stdout",
     "output_type": "stream",
     "text": [
      "https://locations.tacobell.com/or/silverton/605-west-c-street.html\n",
      "https://locations.tacobell.com/or/wasco/91444-biggs-rufus-hwy.html\n"
     ]
    },
    {
     "data": {
      "application/vnd.jupyter.widget-view+json": {
       "model_id": "4c664fd6913e44578d2392ead3ee423b",
       "version_major": 2,
       "version_minor": 0
      },
      "text/plain": [
       "Parsing Locations in nd:   0%|          | 0/8 [00:00<?, ?it/s]"
      ]
     },
     "metadata": {},
     "output_type": "display_data"
    },
    {
     "data": {
      "application/vnd.jupyter.widget-view+json": {
       "model_id": "5ee6244fc2474dc4be320b455bbf765d",
       "version_major": 2,
       "version_minor": 0
      },
      "text/plain": [
       "Parsing Locations in ar:   0%|          | 0/79 [00:00<?, ?it/s]"
      ]
     },
     "metadata": {},
     "output_type": "display_data"
    },
    {
     "data": {
      "application/vnd.jupyter.widget-view+json": {
       "model_id": "219f507993ef414e9b42223daf989452",
       "version_major": 2,
       "version_minor": 0
      },
      "text/plain": [
       "Parsing Locations in in:   0%|          | 0/137 [00:00<?, ?it/s]"
      ]
     },
     "metadata": {},
     "output_type": "display_data"
    },
    {
     "data": {
      "application/vnd.jupyter.widget-view+json": {
       "model_id": "57bf49c8b46e44cd9803b176bb489e3c",
       "version_major": 2,
       "version_minor": 0
      },
      "text/plain": [
       "Parsing Locations in mn:   0%|          | 0/72 [00:00<?, ?it/s]"
      ]
     },
     "metadata": {},
     "output_type": "display_data"
    },
    {
     "data": {
      "application/vnd.jupyter.widget-view+json": {
       "model_id": "560a6927074f4d3ab29536d06a8fb057",
       "version_major": 2,
       "version_minor": 0
      },
      "text/plain": [
       "Parsing Locations in ct:   0%|          | 0/43 [00:00<?, ?it/s]"
      ]
     },
     "metadata": {},
     "output_type": "display_data"
    }
   ],
   "source": [
    "# Parse all locations in a state\n",
    "for i in tqdm(range(len(states_df)), desc=f\"Parsing States\"):\n",
    "    state_store_list = []\n",
    "    state_code = states_df.iloc[i][\"STUSPS\"].lower()\n",
    "\n",
    "    # If File exists continue\n",
    "    if os.path.isfile(f\"data/states/{state_code}.gpkg\"):\n",
    "        continue\n",
    "\n",
    "    state_url = f\"{url_root}{state_code}.html\"\n",
    "    locations_r = scraper.get(state_url)\n",
    "\n",
    "    if locations_r.status_code != 200:\n",
    "        print(state_code)\n",
    "        continue\n",
    "\n",
    "    soup = BeautifulSoup(locations_r.text, \"html.parser\")\n",
    "\n",
    "    city_as = soup.find_all(\"a\", {\"class\": \"Link DirLinks\"})\n",
    "    for city_a in tqdm(city_as, desc=f\"Parsing Locations in {state_code}\"):\n",
    "        href = city_a.attrs[\"href\"]\n",
    "\n",
    "        city_url = f\"{url_root}{href}.html\"\n",
    "        r_city = scraper.get(city_url)\n",
    "        city_soup = BeautifulSoup(r_city.text, \"html.parser\")\n",
    "        taco_bell_locations_as = city_soup.find_all(\n",
    "            \"a\",\n",
    "            {\n",
    "                \"class\": \"Link font-bold text-2xl text-purple underline uppercase hover:font-black\"\n",
    "            },\n",
    "        )\n",
    "\n",
    "        for taco_bell_locations_a in taco_bell_locations_as:\n",
    "            taco_bell_url = taco_bell_locations_a.attrs[\"href\"].replace(\"../\", url_root)\n",
    "            taco_bell_r = scraper.get(taco_bell_url)\n",
    "            taco_bell_soup = BeautifulSoup(taco_bell_r.text, \"html.parser\")\n",
    "            table = taco_bell_soup.find_all(\"table\", {\"class\": \"w-full\"})\n",
    "            if table:\n",
    "                table = table[0]\n",
    "                tds = table.find_all(\"td\")\n",
    "                times = list(set([td.find(\"span\").text for td in tds[1::2]]))\n",
    "                if len(times) == 1 and times[0] == \"Closed\":\n",
    "                    print(taco_bell_r.url)\n",
    "                    continue\n",
    "\n",
    "            lat = float(\n",
    "                taco_bell_soup.find(\"meta\", {\"itemprop\": \"latitude\"}).attrs[\"content\"]\n",
    "            )\n",
    "            lng = float(\n",
    "                taco_bell_soup.find(\"meta\", {\"itemprop\": \"longitude\"}).attrs[\"content\"]\n",
    "            )\n",
    "            store_dict = {\"STUSPS\": state_code.upper(), \"geometry\": Point(lng, lat)}\n",
    "            national_store_list.append(store_dict)\n",
    "            state_store_list.append(store_dict)\n",
    "\n",
    "        time.sleep(random.uniform(0.01, 0.5))\n",
    "\n",
    "    if state_store_list:\n",
    "        state_taco_bell = gpd.GeoDataFrame(state_store_list, crs=4326)\n",
    "        state_taco_bell.to_file(f\"data/states/{state_code}.gpkg\")"
   ]
  },
  {
   "cell_type": "code",
   "execution_count": 18,
   "id": "c1d32989-5a24-46f7-954f-a607979d4aa5",
   "metadata": {},
   "outputs": [],
   "source": [
    "taco_bells_state_gdfs = []\n",
    "states_path = \"data/states\"\n",
    "for file in os.listdir(\"data/states\"):\n",
    "    constructed_path = os.path.join(states_path, file)\n",
    "    if constructed_path.endswith(\".gpkg\"):\n",
    "        state_taco_bell_gdf = gpd.read_file(constructed_path)\n",
    "        taco_bells_state_gdfs.append(state_taco_bell_gdf)"
   ]
  },
  {
   "cell_type": "code",
   "execution_count": 20,
   "id": "8c3dbe83-66a7-4abe-aa82-61170375498c",
   "metadata": {},
   "outputs": [],
   "source": [
    "taco_bell_gdf = gpd.GeoDataFrame(pd.concat(taco_bells_state_gdfs, ignore_index=True))"
   ]
  },
  {
   "cell_type": "code",
   "execution_count": 21,
   "id": "82626e84-9c67-4460-a792-9668dbda6768",
   "metadata": {},
   "outputs": [],
   "source": [
    "taco_bell_gdf = taco_bell_gdf.to_crs(9311)\n",
    "taco_bell_gdf.to_file(f\"data/stores.gpkg\")"
   ]
  },
  {
   "cell_type": "markdown",
   "id": "5a42dfab-fc47-49d7-8092-f08b31392df8",
   "metadata": {},
   "source": [
    "## Get Population Data"
   ]
  },
  {
   "cell_type": "code",
   "execution_count": 23,
   "id": "3cce9c91-abf1-4055-8b9a-5fd1f6cf611f",
   "metadata": {},
   "outputs": [],
   "source": [
    "state_populations = pd.read_excel(\n",
    "    \"data/NST-EST2024-POP.xlsx\", sheet_name=None, engine=\"openpyxl\"\n",
    ")"
   ]
  },
  {
   "cell_type": "code",
   "execution_count": 24,
   "id": "2eaacc28-fa8e-410e-b084-02ce24ec11a1",
   "metadata": {},
   "outputs": [],
   "source": [
    "state_populations_df = state_populations[\"NST-EST2024-POP\"][\n",
    "    [\n",
    "        \"table with row headers in column A and column headers in rows 3 through 4. (leading dots indicate sub-parts)\",\n",
    "        \"Unnamed: 5\",\n",
    "    ]\n",
    "]\n",
    "state_populations_df = state_populations_df.rename(\n",
    "    columns={\n",
    "        \"table with row headers in column A and column headers in rows 3 through 4. (leading dots indicate sub-parts)\": \"NAME\",\n",
    "        \"Unnamed: 5\": \"POPULATION\",\n",
    "    }\n",
    ")\n",
    "state_populations_df[\"NAME\"] = state_populations_df[\"NAME\"].str[1:]"
   ]
  },
  {
   "cell_type": "code",
   "execution_count": 25,
   "id": "2d6342e1-fc3f-4006-8d8a-d7612903a625",
   "metadata": {},
   "outputs": [],
   "source": [
    "states_with_population_df = states_df.merge(state_populations_df, on=\"NAME\", how=\"left\")\n",
    "states_with_population_df = states_with_population_df[\n",
    "    [\"STUSPS\", \"NAME\", \"POPULATION\", \"geometry\"]\n",
    "]"
   ]
  },
  {
   "cell_type": "code",
   "execution_count": 26,
   "id": "94150db1-9ce7-43cb-8c08-3f6d9bb58497",
   "metadata": {},
   "outputs": [],
   "source": [
    "states_with_population_df = states_with_population_df.dropna()"
   ]
  },
  {
   "cell_type": "markdown",
   "id": "af5c5e13-c89d-43ed-8021-13ba93990599",
   "metadata": {},
   "source": [
    "## Merge Data"
   ]
  },
  {
   "cell_type": "code",
   "execution_count": 27,
   "id": "f6900380-39b5-4cca-abf9-b46f7b886f9d",
   "metadata": {},
   "outputs": [],
   "source": [
    "taco_bell_per_state_df = pd.Series(state_counts, name=\"stores\")\n",
    "taco_bell_per_state_df = taco_bell_per_state_df.reset_index()\n",
    "taco_bell_per_state_df = taco_bell_per_state_df.rename(columns={\"index\": \"STUSPS\"})"
   ]
  },
  {
   "cell_type": "code",
   "execution_count": 29,
   "id": "8a4afa33-893a-4b6b-8df1-f5151243deeb",
   "metadata": {},
   "outputs": [],
   "source": [
    "taco_bell_per_state_df = states_with_population_df.merge(\n",
    "    taco_bell_per_state_df, on=\"STUSPS\", how=\"left\"\n",
    ")\n",
    "taco_bell_per_state_df = taco_bell_per_state_df.fillna(0)"
   ]
  },
  {
   "cell_type": "code",
   "execution_count": 30,
   "id": "f50526e2-4c7a-4d13-8d5e-aaddbeec7751",
   "metadata": {},
   "outputs": [],
   "source": [
    "taco_bell_per_state_df[\"per_1000\"] = taco_bell_per_state_df[\"stores\"] / (\n",
    "    taco_bell_per_state_df[\"POPULATION\"] / 1000\n",
    ")\n",
    "taco_bell_per_state_df[\"per_10k\"] = taco_bell_per_state_df[\"stores\"] / (\n",
    "    taco_bell_per_state_df[\"POPULATION\"] / 10_000\n",
    ")\n",
    "taco_bell_per_state_df[\"per_100k\"] = taco_bell_per_state_df[\"stores\"] / (\n",
    "    taco_bell_per_state_df[\"POPULATION\"] / 100000\n",
    ")\n",
    "taco_bell_per_state_df[\"per_500k\"] = taco_bell_per_state_df[\"stores\"] / (\n",
    "    taco_bell_per_state_df[\"POPULATION\"] / 500_000\n",
    ")\n",
    "taco_bell_per_state_df[\"per_1m\"] = taco_bell_per_state_df[\"stores\"] / (\n",
    "    taco_bell_per_state_df[\"POPULATION\"] / 1_000_000\n",
    ")\n",
    "taco_bell_per_state_df[\"per_capita\"] = (\n",
    "    taco_bell_per_state_df[\"POPULATION\"] / taco_bell_per_state_df[\"stores\"]\n",
    ")"
   ]
  },
  {
   "cell_type": "code",
   "execution_count": 31,
   "id": "4d00c57e-a978-4938-b5f5-cb176b29cf77",
   "metadata": {},
   "outputs": [],
   "source": [
    "taco_bell_per_state_df = taco_bell_per_state_df.to_crs(9311)"
   ]
  },
  {
   "cell_type": "code",
   "execution_count": 32,
   "id": "f8feb339-fc3c-41f9-8bd8-50ee507bb185",
   "metadata": {},
   "outputs": [],
   "source": [
    "taco_bell_per_state_df.to_file(\"data/taco_bell_per_state.gpkg\")"
   ]
  },
  {
   "cell_type": "code",
   "execution_count": null,
   "id": "6fe12df3-c59b-48b5-bd11-cdbae9436a65",
   "metadata": {},
   "outputs": [],
   "source": []
  }
 ],
 "metadata": {
  "kernelspec": {
   "display_name": "Python 3 (ipykernel)",
   "language": "python",
   "name": "python3"
  },
  "language_info": {
   "codemirror_mode": {
    "name": "ipython",
    "version": 3
   },
   "file_extension": ".py",
   "mimetype": "text/x-python",
   "name": "python",
   "nbconvert_exporter": "python",
   "pygments_lexer": "ipython3",
   "version": "3.11.11"
  }
 },
 "nbformat": 4,
 "nbformat_minor": 5
}
