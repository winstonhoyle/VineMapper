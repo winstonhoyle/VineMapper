{
 "cells": [
  {
   "cell_type": "code",
   "execution_count": 2,
   "id": "483a873e-ad3b-4fdf-8887-3cb95190a18e",
   "metadata": {},
   "outputs": [],
   "source": [
    "import json\n",
    "import os\n",
    "import random\n",
    "import time"
   ]
  },
  {
   "cell_type": "code",
   "execution_count": 3,
   "id": "bc436e38-234d-44fd-b67b-d1f2974606d3",
   "metadata": {},
   "outputs": [],
   "source": [
    "import cloudscraper\n",
    "import geopandas as gpd\n",
    "import pandas as pd\n",
    "import h3"
   ]
  },
  {
   "cell_type": "code",
   "execution_count": 4,
   "id": "13bbdea5-6ae9-4a3a-937a-12bb704da0f4",
   "metadata": {},
   "outputs": [],
   "source": [
    "from shapely.geometry import Point\n",
    "from tqdm.notebook import tqdm"
   ]
  },
  {
   "cell_type": "markdown",
   "id": "44a3df26-78d3-479c-99a2-c0e1ba91352e",
   "metadata": {},
   "source": [
    "## Get State Data"
   ]
  },
  {
   "cell_type": "code",
   "execution_count": 5,
   "id": "615eeabf-033b-425a-a81f-d7b4dd9e3a3e",
   "metadata": {},
   "outputs": [],
   "source": [
    "file_path = \"data/cb_2018_us_state_500k/cb_2018_us_state_500k.shp\"\n",
    "states_df = gpd.read_file(file_path)"
   ]
  },
  {
   "cell_type": "code",
   "execution_count": 6,
   "id": "502c6bfe-0912-4d37-95b0-47e7a14b468f",
   "metadata": {},
   "outputs": [],
   "source": [
    "states_df = states_df[[\"STUSPS\", \"NAME\", \"geometry\"]]"
   ]
  },
  {
   "cell_type": "markdown",
   "id": "4257620c-13d7-4071-bae2-a5a2aeae5ba7",
   "metadata": {},
   "source": [
    "## Get Population data"
   ]
  },
  {
   "cell_type": "code",
   "execution_count": 7,
   "id": "6c0e7a1d-5a9a-4c10-a5d4-28dc681a8a27",
   "metadata": {},
   "outputs": [],
   "source": [
    "state_populations = pd.read_excel(\n",
    "    \"data/NST-EST2024-POP.xlsx\", sheet_name=None, engine=\"openpyxl\"\n",
    ")"
   ]
  },
  {
   "cell_type": "code",
   "execution_count": 8,
   "id": "2614c2ab-96ec-4304-a287-6fd013fedbbb",
   "metadata": {},
   "outputs": [],
   "source": [
    "state_populations_df = state_populations[\"NST-EST2024-POP\"][\n",
    "    [\n",
    "        \"table with row headers in column A and column headers in rows 3 through 4. (leading dots indicate sub-parts)\",\n",
    "        \"Unnamed: 5\",\n",
    "    ]\n",
    "]\n",
    "state_populations_df = state_populations_df.rename(\n",
    "    columns={\n",
    "        \"table with row headers in column A and column headers in rows 3 through 4. (leading dots indicate sub-parts)\": \"NAME\",\n",
    "        \"Unnamed: 5\": \"POPULATION\",\n",
    "    }\n",
    ")\n",
    "state_populations_df[\"NAME\"] = state_populations_df[\"NAME\"].str[1:]"
   ]
  },
  {
   "cell_type": "code",
   "execution_count": 9,
   "id": "2a1a8b6e-a0bf-486b-b62e-46a23ca718e2",
   "metadata": {},
   "outputs": [],
   "source": [
    "states_with_population_df = states_df.merge(state_populations_df, on=\"NAME\", how=\"left\")\n",
    "states_with_population_df = states_with_population_df[\n",
    "    [\"STUSPS\", \"NAME\", \"POPULATION\", \"geometry\"]\n",
    "]"
   ]
  },
  {
   "cell_type": "markdown",
   "id": "6d2f1ce9-a36c-4292-99a0-ad42032c5ad4",
   "metadata": {},
   "source": [
    "## Get Burger King Data"
   ]
  },
  {
   "cell_type": "code",
   "execution_count": 10,
   "id": "9faa75ce-1dcd-44bc-84f2-6eb1011f9727",
   "metadata": {},
   "outputs": [],
   "source": [
    "scraper = cloudscraper.create_scraper()"
   ]
  },
  {
   "cell_type": "code",
   "execution_count": 11,
   "id": "399ca5ca-e120-486e-abbf-291db5a4128a",
   "metadata": {},
   "outputs": [],
   "source": [
    "url = \"https://use1-prod-bk-gateway.rbictg.com/graphql\"\n",
    "headers = {\n",
    "    \"accept\": \"*/*\",\n",
    "    \"accept-language\": \"en-US,en;q=0.9,ru-RU;q=0.8,ru;q=0.7\",\n",
    "    \"apollographql-client-name\": \"wl-rn-web\",\n",
    "    \"apollographql-client-version\": \"7.48.0-7.48.0-no-uid-80341dd\",\n",
    "    \"content-type\": \"application/json\",\n",
    "    \"priority\": \"u=1, i\",\n",
    "    \"sec-ch-ua\": '\"Google Chrome\";v=\"135\", \"Not-A.Brand\";v=\"8\", \"Chromium\";v=\"135\"',\n",
    "    \"sec-ch-ua-mobile\": \"?0\",\n",
    "    \"sec-ch-ua-platform\": '\"Windows\"',\n",
    "    \"sec-fetch-dest\": \"empty\",\n",
    "    \"sec-fetch-mode\": \"cors\",\n",
    "    \"sec-fetch-site\": \"cross-site\",\n",
    "    \"x-forter-token\": \"e18e49d691f449b58ac38163f1fbfb81_1743979237613__UDF43-m4_13ck_\",\n",
    "    \"x-platform-framework\": \"react-dom\",\n",
    "    \"x-session-id\": \"1743979237610\",\n",
    "    \"x-ui-language\": \"en\",\n",
    "    \"x-ui-platform\": \"web\",\n",
    "    \"x-ui-region\": \"US\",\n",
    "    \"x-ui-version\": \"7.48.0\",\n",
    "    \"x-user-datetime\": \"2025-05-06T14:59:34-07:00\",\n",
    "}"
   ]
  },
  {
   "cell_type": "code",
   "execution_count": 14,
   "id": "b2a53528-e31d-4ec1-b7c6-6de7056e4f45",
   "metadata": {},
   "outputs": [
    {
     "data": {
      "application/vnd.jupyter.widget-view+json": {
       "model_id": "c1968d7f26ab48c79adb9a48e29c6339",
       "version_major": 2,
       "version_minor": 0
      },
      "text/plain": [
       "States:   0%|          | 0/56 [00:00<?, ?it/s]"
      ]
     },
     "metadata": {},
     "output_type": "display_data"
    },
    {
     "data": {
      "application/vnd.jupyter.widget-view+json": {
       "model_id": "d9f5c203b1b24770a172bfddffa3b698",
       "version_major": 2,
       "version_minor": 0
      },
      "text/plain": [
       "Parsing state: IL in Resolution: 4:   0%|          | 0/106 [00:00<?, ?it/s]"
      ]
     },
     "metadata": {},
     "output_type": "display_data"
    },
    {
     "data": {
      "application/vnd.jupyter.widget-view+json": {
       "model_id": "93a10863aa594728b5adc5585eef1d64",
       "version_major": 2,
       "version_minor": 0
      },
      "text/plain": [
       "Parsing state: VT in Resolution: 4:   0%|          | 0/22 [00:00<?, ?it/s]"
      ]
     },
     "metadata": {},
     "output_type": "display_data"
    },
    {
     "data": {
      "application/vnd.jupyter.widget-view+json": {
       "model_id": "a303c4b329b04806a3c14181609c0404",
       "version_major": 2,
       "version_minor": 0
      },
      "text/plain": [
       "Parsing state: MT in Resolution: 4:   0%|          | 0/258 [00:00<?, ?it/s]"
      ]
     },
     "metadata": {},
     "output_type": "display_data"
    },
    {
     "data": {
      "application/vnd.jupyter.widget-view+json": {
       "model_id": "89172d082c134740b16ff471653d9c3d",
       "version_major": 2,
       "version_minor": 0
      },
      "text/plain": [
       "Parsing state: IA in Resolution: 4:   0%|          | 0/100 [00:00<?, ?it/s]"
      ]
     },
     "metadata": {},
     "output_type": "display_data"
    },
    {
     "data": {
      "application/vnd.jupyter.widget-view+json": {
       "model_id": "2f8b75a68ae74f4ca3a7a6bb0ca2854d",
       "version_major": 2,
       "version_minor": 0
      },
      "text/plain": [
       "Parsing state: SC in Resolution: 4:   0%|          | 0/69 [00:00<?, ?it/s]"
      ]
     },
     "metadata": {},
     "output_type": "display_data"
    },
    {
     "data": {
      "application/vnd.jupyter.widget-view+json": {
       "model_id": "c91f3a13f0794e4e87dd0dadf0ce4f52",
       "version_major": 2,
       "version_minor": 0
      },
      "text/plain": [
       "Parsing state: NH in Resolution: 4:   0%|          | 0/21 [00:00<?, ?it/s]"
      ]
     },
     "metadata": {},
     "output_type": "display_data"
    },
    {
     "data": {
      "application/vnd.jupyter.widget-view+json": {
       "model_id": "39eb078acc384d3c806a79e3e89b9d59",
       "version_major": 2,
       "version_minor": 0
      },
      "text/plain": [
       "Parsing state: AZ in Resolution: 4:   0%|          | 0/169 [00:00<?, ?it/s]"
      ]
     },
     "metadata": {},
     "output_type": "display_data"
    },
    {
     "data": {
      "application/vnd.jupyter.widget-view+json": {
       "model_id": "17d0888cf1274284b91124d3dc0234fc",
       "version_major": 2,
       "version_minor": 0
      },
      "text/plain": [
       "Parsing state: DC in Resolution: 4:   0%|          | 0/2 [00:00<?, ?it/s]"
      ]
     },
     "metadata": {},
     "output_type": "display_data"
    },
    {
     "data": {
      "application/vnd.jupyter.widget-view+json": {
       "model_id": "b5e7ede9d6964775a34ff65a6570259f",
       "version_major": 2,
       "version_minor": 0
      },
      "text/plain": [
       "Parsing state: NJ in Resolution: 4:   0%|          | 0/20 [00:00<?, ?it/s]"
      ]
     },
     "metadata": {},
     "output_type": "display_data"
    },
    {
     "data": {
      "application/vnd.jupyter.widget-view+json": {
       "model_id": "f935623a57f146c2815d1d29e981ecd5",
       "version_major": 2,
       "version_minor": 0
      },
      "text/plain": [
       "Parsing state: MD in Resolution: 4:   0%|          | 0/34 [00:00<?, ?it/s]"
      ]
     },
     "metadata": {},
     "output_type": "display_data"
    },
    {
     "data": {
      "application/vnd.jupyter.widget-view+json": {
       "model_id": "94b4540de4904e23a4b79432d35e6882",
       "version_major": 2,
       "version_minor": 0
      },
      "text/plain": [
       "Parsing state: ME in Resolution: 4:   0%|          | 0/59 [00:00<?, ?it/s]"
      ]
     },
     "metadata": {},
     "output_type": "display_data"
    },
    {
     "data": {
      "application/vnd.jupyter.widget-view+json": {
       "model_id": "8c02c8ee43024ff7b1f0aec3d697852a",
       "version_major": 2,
       "version_minor": 0
      },
      "text/plain": [
       "Parsing state: HI in Resolution: 4:   0%|          | 0/32 [00:00<?, ?it/s]"
      ]
     },
     "metadata": {},
     "output_type": "display_data"
    },
    {
     "data": {
      "application/vnd.jupyter.widget-view+json": {
       "model_id": "c586375e46124dfeb9971aa6eb4e5558",
       "version_major": 2,
       "version_minor": 0
      },
      "text/plain": [
       "Parsing state: DE in Resolution: 4:   0%|          | 0/8 [00:00<?, ?it/s]"
      ]
     },
     "metadata": {},
     "output_type": "display_data"
    },
    {
     "data": {
      "application/vnd.jupyter.widget-view+json": {
       "model_id": "1cb9cdb108924343897a30c96871ba92",
       "version_major": 2,
       "version_minor": 0
      },
      "text/plain": [
       "Parsing state: RI in Resolution: 4:   0%|          | 0/5 [00:00<?, ?it/s]"
      ]
     },
     "metadata": {},
     "output_type": "display_data"
    },
    {
     "data": {
      "application/vnd.jupyter.widget-view+json": {
       "model_id": "34f80fcdf187488d90e6892c7c91723e",
       "version_major": 2,
       "version_minor": 0
      },
      "text/plain": [
       "Parsing state: KY in Resolution: 4:   0%|          | 0/85 [00:00<?, ?it/s]"
      ]
     },
     "metadata": {},
     "output_type": "display_data"
    },
    {
     "data": {
      "application/vnd.jupyter.widget-view+json": {
       "model_id": "17885b7474d44cd1ac911a22673c9764",
       "version_major": 2,
       "version_minor": 0
      },
      "text/plain": [
       "Parsing state: OH in Resolution: 4:   0%|          | 0/79 [00:00<?, ?it/s]"
      ]
     },
     "metadata": {},
     "output_type": "display_data"
    },
    {
     "data": {
      "application/vnd.jupyter.widget-view+json": {
       "model_id": "e63a50aa25c14735ae632654bc6575d7",
       "version_major": 2,
       "version_minor": 0
      },
      "text/plain": [
       "Parsing state: WI in Resolution: 4:   0%|          | 0/100 [00:00<?, ?it/s]"
      ]
     },
     "metadata": {},
     "output_type": "display_data"
    },
    {
     "data": {
      "application/vnd.jupyter.widget-view+json": {
       "model_id": "493926c9bc94404899486dbaa3651a7c",
       "version_major": 2,
       "version_minor": 0
      },
      "text/plain": [
       "Parsing state: OR in Resolution: 4:   0%|          | 0/175 [00:00<?, ?it/s]"
      ]
     },
     "metadata": {},
     "output_type": "display_data"
    },
    {
     "data": {
      "application/vnd.jupyter.widget-view+json": {
       "model_id": "0ff5a167389a480eadef09ab3539a61a",
       "version_major": 2,
       "version_minor": 0
      },
      "text/plain": [
       "Parsing state: ND in Resolution: 4:   0%|          | 0/123 [00:00<?, ?it/s]"
      ]
     },
     "metadata": {},
     "output_type": "display_data"
    },
    {
     "data": {
      "application/vnd.jupyter.widget-view+json": {
       "model_id": "bf546bd8e79645e686fd31115a6daf7d",
       "version_major": 2,
       "version_minor": 0
      },
      "text/plain": [
       "Parsing state: AR in Resolution: 4:   0%|          | 0/99 [00:00<?, ?it/s]"
      ]
     },
     "metadata": {},
     "output_type": "display_data"
    },
    {
     "data": {
      "application/vnd.jupyter.widget-view+json": {
       "model_id": "7afe063df8e34ba39c8501cda754693f",
       "version_major": 2,
       "version_minor": 0
      },
      "text/plain": [
       "Parsing state: IN in Resolution: 4:   0%|          | 0/70 [00:00<?, ?it/s]"
      ]
     },
     "metadata": {},
     "output_type": "display_data"
    },
    {
     "data": {
      "application/vnd.jupyter.widget-view+json": {
       "model_id": "2ccb34f5970f42dcac5d0a2662fdc29c",
       "version_major": 2,
       "version_minor": 0
      },
      "text/plain": [
       "Parsing state: MN in Resolution: 4:   0%|          | 0/147 [00:00<?, ?it/s]"
      ]
     },
     "metadata": {},
     "output_type": "display_data"
    },
    {
     "data": {
      "application/vnd.jupyter.widget-view+json": {
       "model_id": "6062c75cbd074c3db94662c842ce52c0",
       "version_major": 2,
       "version_minor": 0
      },
      "text/plain": [
       "Parsing state: CT in Resolution: 4:   0%|          | 0/13 [00:00<?, ?it/s]"
      ]
     },
     "metadata": {},
     "output_type": "display_data"
    }
   ],
   "source": [
    "national_restaurant_list = []\n",
    "res = 4\n",
    "for i in tqdm(range(len(states_df)), desc=\"States\"):\n",
    "    state_restaurant_list = []\n",
    "\n",
    "    state_code = states_df.iloc[i][\"STUSPS\"]\n",
    "\n",
    "    # Skip territories\n",
    "    if state_code in [\"PR\", \"VI\", \"GU\", \"MP\", \"AS\"]:\n",
    "        continue\n",
    "\n",
    "    # If File exists continue\n",
    "    if os.path.isfile(f\"data/states/{state_code}.gpkg\"):\n",
    "        continue\n",
    "\n",
    "    state_shape = states_df.iloc[i][\"geometry\"]\n",
    "    h3_shape = h3.geo_to_h3shape(state_shape.buffer(distance=0.2))\n",
    "    h3_cells = h3.h3shape_to_cells(h3_shape, res=res)\n",
    "    for h3_cell in tqdm(\n",
    "        h3_cells, desc=f\"Parsing state: {state_code} in Resolution: {res}\"\n",
    "    ):\n",
    "        lat, lng = h3.cell_to_latlng(h3_cell)\n",
    "        params = {\n",
    "            \"operationName\": \"GetNearbyRestaurants\",\n",
    "            \"variables\": json.dumps(\n",
    "                {\n",
    "                    \"input\": {\n",
    "                        \"pagination\": {\"first\": 100},\n",
    "                        \"radiusStrictMode\": False,\n",
    "                        \"coordinates\": {\n",
    "                            \"searchRadius\": 32000,\n",
    "                            \"userLat\": lat,\n",
    "                            \"userLng\": lng,\n",
    "                        },\n",
    "                    }\n",
    "                }\n",
    "            ),\n",
    "            \"extensions\": json.dumps(\n",
    "                {\n",
    "                    \"persistedQuery\": {\n",
    "                        \"version\": 1,\n",
    "                        \"sha256Hash\": \"823984086ffe25adca8294186fc551ab2aa4830da4e851f91298d423adab5b20\",\n",
    "                    }\n",
    "                }\n",
    "            ),\n",
    "        }\n",
    "        r = scraper.get(url=url, params=params, headers=headers)\n",
    "        store_jsons = r.json()[\"data\"][\"restaurantsV2\"][\"nearby\"][\"nodes\"]\n",
    "        for store_json in store_jsons:\n",
    "            store_id = store_json[\"storeId\"]\n",
    "            store_state_code = store_json[\"physicalAddress\"][\"stateProvinceShort\"]\n",
    "            store_lat = store_json[\"latitude\"]\n",
    "            store_long = store_json[\"longitude\"]\n",
    "\n",
    "            if state_code != store_state_code:\n",
    "                continue\n",
    "            else:\n",
    "                store_dict = {\n",
    "                    \"ID\": store_id,\n",
    "                    \"STUSPS\": store_state_code,\n",
    "                    \"geometry\": Point(store_long, store_lat),\n",
    "                }\n",
    "                state_restaurant_list.append(store_dict)\n",
    "\n",
    "    state_bk_gdf = gpd.GeoDataFrame(state_restaurant_list, crs=4326)\n",
    "    state_bk_gdf = state_bk_gdf.drop_duplicates(\"ID\")\n",
    "    state_bk_gdf = state_bk_gdf[state_bk_gdf[\"STUSPS\"] == state_code]\n",
    "    state_bk_gdf.to_file(f\"data/states/{state_code}.gpkg\")"
   ]
  },
  {
   "cell_type": "code",
   "execution_count": 15,
   "id": "d55170e1-992e-4069-8833-28d5a02eada8",
   "metadata": {},
   "outputs": [],
   "source": [
    "bk_gdfs = []\n",
    "states_path = \"data/states\"\n",
    "for file in os.listdir(\"data/states\"):\n",
    "    constructed_path = os.path.join(states_path, file)\n",
    "    if constructed_path.endswith(\".gpkg\"):\n",
    "        bk_gdf = gpd.read_file(constructed_path)\n",
    "        bk_gdfs.append(bk_gdf)"
   ]
  },
  {
   "cell_type": "code",
   "execution_count": 16,
   "id": "6094e77e-ea4d-48de-aff1-2b1e1e41d9d0",
   "metadata": {},
   "outputs": [],
   "source": [
    "bk_gdf = gpd.GeoDataFrame(pd.concat(bk_gdfs, ignore_index=True))\n",
    "bk_gdf = bk_gdf.to_crs(9311)\n",
    "bk_gdf.to_file(f\"data/stores.gpkg\")"
   ]
  },
  {
   "cell_type": "code",
   "execution_count": 23,
   "id": "b50ee5fb-0971-4e9c-80c7-d4864976d611",
   "metadata": {},
   "outputs": [],
   "source": [
    "bk_counts_df = (\n",
    "    pd.DataFrame(bk_gdf.groupby(\"STUSPS\").size())\n",
    "    .reset_index()\n",
    "    .rename(columns={0: \"BKs\"})\n",
    ")"
   ]
  },
  {
   "cell_type": "markdown",
   "id": "94cb32a2-faf0-40fa-8616-e8f2275eca72",
   "metadata": {},
   "source": [
    "## Combine With States"
   ]
  },
  {
   "cell_type": "code",
   "execution_count": 28,
   "id": "c062806b-5f76-4d7e-a226-31383a266b6a",
   "metadata": {},
   "outputs": [],
   "source": [
    "bk_counts_gdf = states_with_population_df.merge(bk_counts_df, on=\"STUSPS\", how=\"left\")"
   ]
  },
  {
   "cell_type": "code",
   "execution_count": 29,
   "id": "300ee45e-48b8-48f6-9a3a-efd4904a5efe",
   "metadata": {},
   "outputs": [],
   "source": [
    "bk_counts_gdf = bk_counts_gdf.fillna(0)\n",
    "bk_counts_gdf[\"BKs\"] = bk_counts_gdf[\"BKs\"].astype(int)"
   ]
  },
  {
   "cell_type": "code",
   "execution_count": 30,
   "id": "8e8b581c-4e0c-40b8-81a9-4ea014470b40",
   "metadata": {},
   "outputs": [],
   "source": [
    "bk_counts_gdf[\"per_100k\"] = bk_counts_gdf[\"BKs\"] / (\n",
    "    bk_counts_gdf[\"POPULATION\"] / 100_000\n",
    ")\n",
    "bk_counts_gdf[\"per_1m\"] = bk_counts_gdf[\"BKs\"] / (\n",
    "    bk_counts_gdf[\"POPULATION\"] / 1_000_000\n",
    ")"
   ]
  },
  {
   "cell_type": "code",
   "execution_count": 31,
   "id": "237a0e6a-ccc2-4f3b-baad-d36ce4ecc481",
   "metadata": {},
   "outputs": [],
   "source": [
    "bk_counts_gdf = bk_counts_gdf.fillna(0)"
   ]
  },
  {
   "cell_type": "code",
   "execution_count": 32,
   "id": "c66d3820-67e7-4d50-9d48-3e75073353ef",
   "metadata": {},
   "outputs": [],
   "source": [
    "bk_counts_gdf = bk_counts_gdf[\n",
    "    [\"POPULATION\", \"geometry\", \"NAME\", \"per_100k\", \"per_1m\", \"BKs\"]\n",
    "]"
   ]
  },
  {
   "cell_type": "code",
   "execution_count": 33,
   "id": "944acfaa-313b-4a9f-aecc-53fe95e188be",
   "metadata": {},
   "outputs": [],
   "source": [
    "bk_counts_gdf = bk_counts_gdf.to_crs(9311)\n",
    "bk_counts_gdf.to_file(f\"data/bks_per_state.gpkg\")"
   ]
  },
  {
   "cell_type": "code",
   "execution_count": null,
   "id": "3eba1b99-001c-4de4-9fe1-1a06ea51e118",
   "metadata": {},
   "outputs": [],
   "source": []
  },
  {
   "cell_type": "code",
   "execution_count": null,
   "id": "18b0fa13-51da-4520-9b93-1d58b048b8eb",
   "metadata": {},
   "outputs": [],
   "source": []
  }
 ],
 "metadata": {
  "kernelspec": {
   "display_name": "Python 3 (ipykernel)",
   "language": "python",
   "name": "python3"
  },
  "language_info": {
   "codemirror_mode": {
    "name": "ipython",
    "version": 3
   },
   "file_extension": ".py",
   "mimetype": "text/x-python",
   "name": "python",
   "nbconvert_exporter": "python",
   "pygments_lexer": "ipython3",
   "version": "3.11.11"
  }
 },
 "nbformat": 4,
 "nbformat_minor": 5
}
