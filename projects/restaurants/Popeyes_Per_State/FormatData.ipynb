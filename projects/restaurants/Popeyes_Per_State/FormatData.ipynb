{
 "cells": [
  {
   "cell_type": "code",
   "execution_count": 1,
   "id": "c86ad9f6-4aaf-469e-a56e-363083168e1e",
   "metadata": {},
   "outputs": [],
   "source": [
    "import json\n",
    "import os\n",
    "import random\n",
    "import time\n",
    "from urllib import parse"
   ]
  },
  {
   "cell_type": "code",
   "execution_count": 2,
   "id": "10fa1d09-7717-4ea8-9ce7-1cef37b4da9c",
   "metadata": {},
   "outputs": [],
   "source": [
    "import cloudscraper\n",
    "import geopandas as gpd\n",
    "import pandas as pd\n",
    "import h3"
   ]
  },
  {
   "cell_type": "code",
   "execution_count": 3,
   "id": "d22202a0-bf3c-4953-81ce-105a19e002a0",
   "metadata": {},
   "outputs": [],
   "source": [
    "from shapely.geometry import Point\n",
    "from tqdm.notebook import tqdm"
   ]
  },
  {
   "cell_type": "markdown",
   "id": "02e1dfb5-464d-4984-8c84-5599ce9dcd5d",
   "metadata": {},
   "source": [
    "## Get State Data"
   ]
  },
  {
   "cell_type": "code",
   "execution_count": 4,
   "id": "84b53c65-5746-4ab8-8c99-6dfe3e967797",
   "metadata": {},
   "outputs": [],
   "source": [
    "file_path = \"data/cb_2018_us_state_500k/cb_2018_us_state_500k.shp\"\n",
    "states_df = gpd.read_file(file_path)"
   ]
  },
  {
   "cell_type": "code",
   "execution_count": 5,
   "id": "191755a6-eb92-4683-833e-b69f4be9f3f5",
   "metadata": {},
   "outputs": [],
   "source": [
    "states_df = states_df[[\"STUSPS\", \"NAME\", \"geometry\"]]"
   ]
  },
  {
   "cell_type": "markdown",
   "id": "f3ad4feb-2496-4c2f-827b-04c586ef17ba",
   "metadata": {},
   "source": [
    "## Get Popeyes Data"
   ]
  },
  {
   "cell_type": "code",
   "execution_count": 6,
   "id": "4c063aa4-d1b0-400e-a449-8125a2a0596a",
   "metadata": {},
   "outputs": [],
   "source": [
    "scraper = cloudscraper.create_scraper()"
   ]
  },
  {
   "cell_type": "code",
   "execution_count": 7,
   "id": "ced46161-5292-4fc9-a1b4-517104bb346c",
   "metadata": {},
   "outputs": [],
   "source": [
    "scraper = cloudscraper.create_scraper()"
   ]
  },
  {
   "cell_type": "code",
   "execution_count": 12,
   "id": "998ab22e-252e-4c54-b8fa-ccbb6658a2b7",
   "metadata": {},
   "outputs": [],
   "source": [
    "url_root = \"https://use1-prod-plk-gateway.rbictg.com/graphql\"\n",
    "headers = {\n",
    "    \"accept\": \"*/*\",\n",
    "    \"accept-language\": \"en-US,en;q=0.9,ru-RU;q=0.8,ru;q=0.7\",\n",
    "    \"content-type\": \"application/json\",\n",
    "    \"priority\": \"u=1, i\",\n",
    "    \"sec-ch-ua\": '\"Not A(Brand\";v=\"8\", \"Chromium\";v=\"132\", \"Google Chrome\";v=\"132\"',\n",
    "    \"sec-ch-ua-mobile\": \"?0\",\n",
    "    \"sec-ch-ua-platform\": '\"Windows\"',\n",
    "    \"sec-fetch-dest\": \"empty\",\n",
    "    \"sec-fetch-mode\": \"cors\",\n",
    "    \"sec-fetch-site\": \"cross-site\",\n",
    "    \"x-aws-waf-token\": \"592c2aa2-3ebb-41ba-81a3-d6e7912995a8:EQoAuocKRhbpAAAA:nJ7mLBJkONDux6Yf6B9WWlPwFugBs/8em5qO2lu/ekmCIAX6sZpW1d3ydpjXUCMj4DjpPR+rJ2i1WNMribj++SWhmkVhBor+RjLeNZtYZ6TcE7mJxjdYjnCRmoLEyiKoTkUDGaGrXJO7Hc5KQkGsKgcEji1mYYWtwB5JpvVNI3cY3sfSuf8weyOrUet62Mu99yhWq49jBSdt3BD37A7UCyojbaoIykfr950JC73fZUAXrunKHSf6PB/VBSOx\",\n",
    "    \"x-client-name\": \"plk-rn-web\",\n",
    "    \"x-client-version\": \"-no-uid-83d730e\",\n",
    "    \"x-device-id\": \"9d2816a2-0b8f-48b0-a15c-509ec3bed620\",\n",
    "    \"x-forter-token\": \"29bf6fba84f947a98ec7c5f8824d902b_1739237863565_396_dUAL9_13ck_tt\",\n",
    "    \"x-platform-framework\": \"react-dom\",\n",
    "    \"x-session-id\": \"1739237863454\",\n",
    "    \"x-ui-language\": \"en\",\n",
    "    \"x-ui-platform\": \"web\",\n",
    "    \"x-ui-region\": \"US\",\n",
    "    \"x-user-datetime\": \"2025-02-10T17:37:58-08:00\",\n",
    "}"
   ]
  },
  {
   "cell_type": "code",
   "execution_count": 13,
   "id": "df3568b8-42f3-44e8-873e-1a3fd9015ff4",
   "metadata": {},
   "outputs": [],
   "source": [
    "res = 4\n",
    "usa_geom = states_df[~states_df[\"STUSPS\"].isin([\"PR\", \"VI\", \"GU\", \"MP\", \"AS\"])][\n",
    "    \"geometry\"\n",
    "].union_all()\n",
    "h3_cells = h3.geo_to_cells(usa_geom, res=res)\n",
    "parent_cells = list(set([h3.cell_to_parent(h3_cell) for h3_cell in h3_cells]))\n",
    "all_res_cells = list(\n",
    "    set(sum([h3.cell_to_children(parent_cell) for parent_cell in parent_cells], []))\n",
    ")\n",
    "all_res_cells_sorted = sorted(all_res_cells)\n",
    "all_cells_including_neighbors = list(\n",
    "    set(\n",
    "        sum(\n",
    "            [\n",
    "                h3.grid_disk(res_cells_sorted, 2)\n",
    "                for res_cells_sorted in all_res_cells_sorted\n",
    "            ],\n",
    "            [],\n",
    "        )\n",
    "    )\n",
    ")"
   ]
  },
  {
   "cell_type": "code",
   "execution_count": null,
   "id": "94ab86eb-1285-4abb-9e76-47690e85262b",
   "metadata": {},
   "outputs": [],
   "source": [
    "open(\"data/cells_neighbors_2x.geojson\", \"w\").write(\n",
    "    json.dumps(h3.cells_to_geo(all_neighbors_cells))\n",
    ")"
   ]
  },
  {
   "cell_type": "code",
   "execution_count": 14,
   "id": "763857ee-9a16-4fe4-be4e-983c531137da",
   "metadata": {},
   "outputs": [
    {
     "data": {
      "application/vnd.jupyter.widget-view+json": {
       "model_id": "e1ce42c201cf42f4849681407d55737e",
       "version_major": 2,
       "version_minor": 0
      },
      "text/plain": [
       "Parsing cells in Resolution: 4:   0%|          | 0/7612 [00:00<?, ?it/s]"
      ]
     },
     "metadata": {},
     "output_type": "display_data"
    }
   ],
   "source": [
    "restaurant_list = []\n",
    "for h3_cell in tqdm(\n",
    "    all_cells_including_neighbors, desc=f\"Parsing cells in Resolution: {res}\"\n",
    "):\n",
    "    lat, lng = h3.cell_to_latlng(h3_cell)\n",
    "    variables = {\n",
    "        \"input\": {\n",
    "            \"pagination\": {\"first\": 100},\n",
    "            \"coordinates\": {\"userLat\": lat, \"userLng\": lng},\n",
    "            \"radiusStrictMode\": True,\n",
    "        }\n",
    "    }\n",
    "    params = {\n",
    "        \"operationName\": \"GetNearbyRestaurants\",\n",
    "        \"variables\": json.dumps(variables),\n",
    "        \"extensions\": '{\"persistedQuery\":{\"version\":1,\"sha256Hash\":\"4f7636962d84eeab7b47b60f6eb2a1e527b8fbc656c881a179cfe4f847a641da\"}}',\n",
    "    }\n",
    "    r = scraper.get(url_root, params=params, headers=headers)\n",
    "    stores = r.json()[\"data\"][\"restaurantsV2\"][\"nearby\"][\"nodes\"]\n",
    "    for store in stores:\n",
    "        store_dict = {\n",
    "            \"geometry\": Point(store[\"longitude\"], store[\"latitude\"]),\n",
    "            \"storeId\": store[\"storeId\"],\n",
    "            \"STUSPS\": store[\"physicalAddress\"][\"stateProvinceShort\"],\n",
    "            \"url\": f\"https://www.popeyes.com/store-locator/store/{store['_id']}\",\n",
    "        }\n",
    "        restaurant_list.append(store_dict)\n",
    "\n",
    "    # time.sleep(random.uniform(0.01, 0.5))"
   ]
  },
  {
   "cell_type": "code",
   "execution_count": 16,
   "id": "524b4167-d4ae-4171-ac19-b814b31ec37e",
   "metadata": {},
   "outputs": [],
   "source": [
    "gdf = gpd.GeoDataFrame(restaurant_list, crs=4326)\n",
    "gdf.drop_duplicates(\"storeId\").reset_index(drop=True).to_file(\"data/popeyes_v2.gpkg\")"
   ]
  },
  {
   "cell_type": "markdown",
   "id": "5a42dfab-fc47-49d7-8092-f08b31392df8",
   "metadata": {},
   "source": [
    "## Get Population Data"
   ]
  },
  {
   "cell_type": "code",
   "execution_count": 57,
   "id": "3cce9c91-abf1-4055-8b9a-5fd1f6cf611f",
   "metadata": {},
   "outputs": [],
   "source": [
    "state_populations = pd.read_excel(\n",
    "    \"data/NST-EST2024-POP.xlsx\", sheet_name=None, engine=\"openpyxl\"\n",
    ")"
   ]
  },
  {
   "cell_type": "code",
   "execution_count": 58,
   "id": "2eaacc28-fa8e-410e-b084-02ce24ec11a1",
   "metadata": {},
   "outputs": [],
   "source": [
    "state_populations_df = state_populations[\"NST-EST2024-POP\"][\n",
    "    [\n",
    "        \"table with row headers in column A and column headers in rows 3 through 4. (leading dots indicate sub-parts)\",\n",
    "        \"Unnamed: 5\",\n",
    "    ]\n",
    "]\n",
    "state_populations_df = state_populations_df.rename(\n",
    "    columns={\n",
    "        \"table with row headers in column A and column headers in rows 3 through 4. (leading dots indicate sub-parts)\": \"NAME\",\n",
    "        \"Unnamed: 5\": \"POPULATION\",\n",
    "    }\n",
    ")\n",
    "state_populations_df[\"NAME\"] = state_populations_df[\"NAME\"].str[1:]"
   ]
  },
  {
   "cell_type": "code",
   "execution_count": 59,
   "id": "2d6342e1-fc3f-4006-8d8a-d7612903a625",
   "metadata": {},
   "outputs": [],
   "source": [
    "states_with_population_df = states_df.merge(state_populations_df, on=\"NAME\", how=\"left\")\n",
    "states_with_population_df = states_with_population_df[\n",
    "    [\"STUSPS\", \"POPULATION\", \"geometry\", \"NAME\"]\n",
    "]"
   ]
  },
  {
   "cell_type": "code",
   "execution_count": 60,
   "id": "94150db1-9ce7-43cb-8c08-3f6d9bb58497",
   "metadata": {},
   "outputs": [],
   "source": [
    "states_with_population_df = states_with_population_df.dropna()"
   ]
  },
  {
   "cell_type": "markdown",
   "id": "af5c5e13-c89d-43ed-8021-13ba93990599",
   "metadata": {},
   "source": [
    "## Merge Data"
   ]
  },
  {
   "cell_type": "code",
   "execution_count": 136,
   "id": "bb579ac8-6b25-42da-9597-1f1cfa7a9484",
   "metadata": {},
   "outputs": [
    {
     "data": {
      "application/vnd.jupyter.widget-view+json": {
       "model_id": "efbb9fc35e9a40e3b845996679bde709",
       "version_major": 2,
       "version_minor": 0
      },
      "text/plain": [
       "Parsing McDonalds:   0%|          | 0/13512 [00:00<?, ?it/s]"
      ]
     },
     "metadata": {},
     "output_type": "display_data"
    },
    {
     "name": "stdout",
     "output_type": "stream",
     "text": [
      "8825\n"
     ]
    }
   ],
   "source": [
    "state_counts = {}\n",
    "for i in tqdm(range(len(mcdonalds_new_gdf)), desc=\"Parsing McDonalds\"):\n",
    "    try:\n",
    "        state_code = states_df[\n",
    "            states_df.intersects(mcdonalds_new_gdf.iloc[i][\"geometry\"])\n",
    "        ][\"STUSPS\"].iloc[0]\n",
    "    except IndexError:\n",
    "        print(i)\n",
    "        continue\n",
    "\n",
    "    if state_code not in state_counts:\n",
    "        state_counts[state_code] = 1\n",
    "    else:\n",
    "        state_counts[state_code] += 1"
   ]
  },
  {
   "cell_type": "code",
   "execution_count": 139,
   "id": "f6900380-39b5-4cca-abf9-b46f7b886f9d",
   "metadata": {},
   "outputs": [],
   "source": [
    "mcdonalds_per_state_df = pd.Series(state_counts, name=\"stores\")\n",
    "mcdonalds_per_state_df = mcdonalds_per_state_df.reset_index()\n",
    "mcdonalds_per_state_df = mcdonalds_per_state_df.rename(columns={\"index\": \"STUSPS\"})"
   ]
  },
  {
   "cell_type": "code",
   "execution_count": 141,
   "id": "8a4afa33-893a-4b6b-8df1-f5151243deeb",
   "metadata": {},
   "outputs": [],
   "source": [
    "mcdonalds_per_state_df = states_with_population_df.merge(\n",
    "    mcdonalds_per_state_df, on=\"STUSPS\", how=\"left\"\n",
    ")\n",
    "mcdonalds_per_state_df = mcdonalds_per_state_df.fillna(0)"
   ]
  },
  {
   "cell_type": "code",
   "execution_count": 142,
   "id": "f50526e2-4c7a-4d13-8d5e-aaddbeec7751",
   "metadata": {},
   "outputs": [],
   "source": [
    "mcdonalds_per_state_df[\"per_1000\"] = mcdonalds_per_state_df[\"stores\"] / (\n",
    "    mcdonalds_per_state_df[\"POPULATION\"] / 1000\n",
    ")\n",
    "mcdonalds_per_state_df[\"per_10k\"] = mcdonalds_per_state_df[\"stores\"] / (\n",
    "    mcdonalds_per_state_df[\"POPULATION\"] / 10_000\n",
    ")\n",
    "mcdonalds_per_state_df[\"per_100k\"] = mcdonalds_per_state_df[\"stores\"] / (\n",
    "    mcdonalds_per_state_df[\"POPULATION\"] / 100000\n",
    ")\n",
    "mcdonalds_per_state_df[\"per_500k\"] = mcdonalds_per_state_df[\"stores\"] / (\n",
    "    mcdonalds_per_state_df[\"POPULATION\"] / 500_000\n",
    ")\n",
    "mcdonalds_per_state_df[\"per_1m\"] = mcdonalds_per_state_df[\"stores\"] / (\n",
    "    mcdonalds_per_state_df[\"POPULATION\"] / 1_000_000\n",
    ")\n",
    "mcdonalds_per_state_df[\"per_capita\"] = (\n",
    "    mcdonalds_per_state_df[\"POPULATION\"] / mcdonalds_per_state_df[\"stores\"]\n",
    ")"
   ]
  },
  {
   "cell_type": "code",
   "execution_count": 146,
   "id": "4d00c57e-a978-4938-b5f5-cb176b29cf77",
   "metadata": {},
   "outputs": [],
   "source": [
    "mcdonalds_per_state_df = mcdonalds_per_state_df.to_crs(9311)"
   ]
  },
  {
   "cell_type": "code",
   "execution_count": 147,
   "id": "f8feb339-fc3c-41f9-8bd8-50ee507bb185",
   "metadata": {},
   "outputs": [],
   "source": [
    "mcdonalds_per_state_df.to_file(\"data/mcdonalds_per_state.gpkg\")"
   ]
  },
  {
   "cell_type": "code",
   "execution_count": null,
   "id": "6fe12df3-c59b-48b5-bd11-cdbae9436a65",
   "metadata": {},
   "outputs": [],
   "source": []
  }
 ],
 "metadata": {
  "kernelspec": {
   "display_name": "Python 3 (ipykernel)",
   "language": "python",
   "name": "python3"
  },
  "language_info": {
   "codemirror_mode": {
    "name": "ipython",
    "version": 3
   },
   "file_extension": ".py",
   "mimetype": "text/x-python",
   "name": "python",
   "nbconvert_exporter": "python",
   "pygments_lexer": "ipython3",
   "version": "3.11.11"
  }
 },
 "nbformat": 4,
 "nbformat_minor": 5
}
