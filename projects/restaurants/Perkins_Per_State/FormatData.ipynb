{
 "cells": [
  {
   "cell_type": "code",
   "execution_count": 2,
   "id": "c86ad9f6-4aaf-469e-a56e-363083168e1e",
   "metadata": {},
   "outputs": [],
   "source": [
    "import json\n",
    "import os\n",
    "import re"
   ]
  },
  {
   "cell_type": "code",
   "execution_count": 3,
   "id": "10fa1d09-7717-4ea8-9ce7-1cef37b4da9c",
   "metadata": {},
   "outputs": [],
   "source": [
    "import cloudscraper\n",
    "from bs4 import BeautifulSoup\n",
    "import geopandas as gpd\n",
    "import pandas as pd"
   ]
  },
  {
   "cell_type": "code",
   "execution_count": 4,
   "id": "d22202a0-bf3c-4953-81ce-105a19e002a0",
   "metadata": {},
   "outputs": [],
   "source": [
    "from shapely.geometry import Point\n",
    "from tqdm.notebook import tqdm"
   ]
  },
  {
   "cell_type": "markdown",
   "id": "02e1dfb5-464d-4984-8c84-5599ce9dcd5d",
   "metadata": {},
   "source": [
    "## Get State Data"
   ]
  },
  {
   "cell_type": "code",
   "execution_count": 5,
   "id": "84b53c65-5746-4ab8-8c99-6dfe3e967797",
   "metadata": {},
   "outputs": [],
   "source": [
    "file_path = \"data/cb_2018_us_state_500k/cb_2018_us_state_500k.shp\"\n",
    "states_df = gpd.read_file(file_path)"
   ]
  },
  {
   "cell_type": "code",
   "execution_count": 6,
   "id": "191755a6-eb92-4683-833e-b69f4be9f3f5",
   "metadata": {},
   "outputs": [],
   "source": [
    "states_df = states_df[[\"STUSPS\", \"NAME\", \"geometry\"]]"
   ]
  },
  {
   "cell_type": "markdown",
   "id": "f3ad4feb-2496-4c2f-827b-04c586ef17ba",
   "metadata": {},
   "source": [
    "## Get Perkins Data"
   ]
  },
  {
   "cell_type": "code",
   "execution_count": 7,
   "id": "4c063aa4-d1b0-400e-a449-8125a2a0596a",
   "metadata": {},
   "outputs": [],
   "source": [
    "scraper = cloudscraper.create_scraper()"
   ]
  },
  {
   "cell_type": "code",
   "execution_count": 8,
   "id": "0285bab4-1726-4db5-99be-c8f78b78413c",
   "metadata": {},
   "outputs": [],
   "source": [
    "r = scraper.get(\"https://www.perkinsrestaurants.com/locations/\")\n",
    "soup = BeautifulSoup(r.text, \"html.parser\")"
   ]
  },
  {
   "cell_type": "code",
   "execution_count": 9,
   "id": "bdf9c653-6926-478b-a5d6-51501b6f636f",
   "metadata": {},
   "outputs": [],
   "source": [
    "stores_text = soup.find_all(\"script\")[2].text"
   ]
  },
  {
   "cell_type": "code",
   "execution_count": 10,
   "id": "232a2349-3372-4b4c-a7b0-a7a04eab435b",
   "metadata": {},
   "outputs": [],
   "source": [
    "content_regex = r\"content:\\{(.*?)\\},path:\"\n",
    "contents = re.findall(content_regex, stores_text)"
   ]
  },
  {
   "cell_type": "code",
   "execution_count": 11,
   "id": "f37b6b33-de8d-4b1d-93f8-facfc70cd476",
   "metadata": {},
   "outputs": [],
   "source": [
    "path_regex = r'path:\"(.*?)\"'\n",
    "paths = re.findall(path_regex, stores_text)"
   ]
  },
  {
   "cell_type": "code",
   "execution_count": 13,
   "id": "3ee26141-089b-4185-82d3-5035af9189d0",
   "metadata": {},
   "outputs": [
    {
     "name": "stdout",
     "output_type": "stream",
     "text": [
      "No Coords\n"
     ]
    }
   ],
   "source": [
    "store_list = []\n",
    "for i, content in enumerate(contents):\n",
    "    latlon_regex = re.compile(\n",
    "        r'latitude:(?:\"-?[\\d\\.]+\"|-?[\\d\\.]+),longitude:(?:\"-?[\\d\\.]+\"|-?[\\d\\.]+)'\n",
    "    )\n",
    "    match = latlon_regex.search(content)\n",
    "    if not match:\n",
    "        print(\"No Coords\")\n",
    "        continue\n",
    "    split_lat, split_lon = match.group(0).split(\",\")\n",
    "    lat = float(split_lat.split(\":\")[-1].replace('\"', \"\"))\n",
    "    lon = float(split_lon.split(\":\")[-1].replace('\"', \"\"))\n",
    "    geometry = Point(float(lon), float(lat))\n",
    "\n",
    "    path = paths[i]\n",
    "    if not path:\n",
    "        print(i, \"No Path\")\n",
    "        continue\n",
    "    else:\n",
    "        state_code = path.encode(\"utf-8\").decode(\"unicode_escape\").split(\"/\")[2].upper()\n",
    "        store_dict = {\"geometry\": geometry, \"STUSPS\": state_code}\n",
    "        store_list.append(store_dict)"
   ]
  },
  {
   "cell_type": "code",
   "execution_count": 14,
   "id": "516aef66-df74-438b-8d92-0635cae7e3d3",
   "metadata": {},
   "outputs": [],
   "source": [
    "perkins_location_gdf = (\n",
    "    gpd.GeoDataFrame(store_list, crs=4326).drop_duplicates().reset_index(drop=True)\n",
    ")"
   ]
  },
  {
   "cell_type": "code",
   "execution_count": 15,
   "id": "e7c0f953-3bf5-42b4-b49b-e251183d1dbe",
   "metadata": {},
   "outputs": [],
   "source": [
    "perkins_location_gdf.to_file(\"data/perkins.gpkg\")"
   ]
  },
  {
   "cell_type": "markdown",
   "id": "5a42dfab-fc47-49d7-8092-f08b31392df8",
   "metadata": {},
   "source": [
    "## Get Population Data"
   ]
  },
  {
   "cell_type": "code",
   "execution_count": 16,
   "id": "3cce9c91-abf1-4055-8b9a-5fd1f6cf611f",
   "metadata": {},
   "outputs": [],
   "source": [
    "state_populations = pd.read_excel(\n",
    "    \"data/NST-EST2024-POP.xlsx\", sheet_name=None, engine=\"openpyxl\"\n",
    ")"
   ]
  },
  {
   "cell_type": "code",
   "execution_count": 17,
   "id": "2eaacc28-fa8e-410e-b084-02ce24ec11a1",
   "metadata": {},
   "outputs": [],
   "source": [
    "state_populations_df = state_populations[\"NST-EST2024-POP\"][\n",
    "    [\n",
    "        \"table with row headers in column A and column headers in rows 3 through 4. (leading dots indicate sub-parts)\",\n",
    "        \"Unnamed: 5\",\n",
    "    ]\n",
    "]\n",
    "state_populations_df = state_populations_df.rename(\n",
    "    columns={\n",
    "        \"table with row headers in column A and column headers in rows 3 through 4. (leading dots indicate sub-parts)\": \"NAME\",\n",
    "        \"Unnamed: 5\": \"POPULATION\",\n",
    "    }\n",
    ")\n",
    "state_populations_df[\"NAME\"] = state_populations_df[\"NAME\"].str[1:]"
   ]
  },
  {
   "cell_type": "code",
   "execution_count": 18,
   "id": "2d6342e1-fc3f-4006-8d8a-d7612903a625",
   "metadata": {},
   "outputs": [],
   "source": [
    "states_with_population_df = states_df.merge(state_populations_df, on=\"NAME\", how=\"left\")\n",
    "states_with_population_df = states_with_population_df[\n",
    "    [\"STUSPS\", \"NAME\", \"POPULATION\", \"geometry\"]\n",
    "]"
   ]
  },
  {
   "cell_type": "code",
   "execution_count": 19,
   "id": "94150db1-9ce7-43cb-8c08-3f6d9bb58497",
   "metadata": {},
   "outputs": [],
   "source": [
    "states_with_population_df = states_with_population_df.dropna()\n",
    "states_with_population_df = states_with_population_df.to_crs(perkins_location_gdf.crs)"
   ]
  },
  {
   "cell_type": "markdown",
   "id": "af5c5e13-c89d-43ed-8021-13ba93990599",
   "metadata": {},
   "source": [
    "## Merge Data"
   ]
  },
  {
   "cell_type": "code",
   "execution_count": 24,
   "id": "8a4afa33-893a-4b6b-8df1-f5151243deeb",
   "metadata": {},
   "outputs": [],
   "source": [
    "perkins_count_df = pd.DataFrame(\n",
    "    {\"stores\": perkins_location_gdf.groupby(\"STUSPS\").size()}\n",
    ").reset_index()"
   ]
  },
  {
   "cell_type": "code",
   "execution_count": 26,
   "id": "8b6e9ba7-e866-4872-afc5-de6c97694596",
   "metadata": {},
   "outputs": [],
   "source": [
    "perkins_count_gdf = states_with_population_df.merge(\n",
    "    perkins_count_df, on=\"STUSPS\", how=\"left\"\n",
    ")\n",
    "perkins_count_gdf = perkins_count_gdf.fillna(0)"
   ]
  },
  {
   "cell_type": "code",
   "execution_count": 27,
   "id": "f50526e2-4c7a-4d13-8d5e-aaddbeec7751",
   "metadata": {},
   "outputs": [],
   "source": [
    "perkins_count_gdf[\"per_100k\"] = perkins_count_gdf[\"stores\"] / (\n",
    "    perkins_count_gdf[\"POPULATION\"] / 100000\n",
    ")\n",
    "perkins_count_gdf[\"per_1m\"] = perkins_count_gdf[\"stores\"] / (\n",
    "    perkins_count_gdf[\"POPULATION\"] / 1_000_000\n",
    ")"
   ]
  },
  {
   "cell_type": "code",
   "execution_count": 28,
   "id": "4d00c57e-a978-4938-b5f5-cb176b29cf77",
   "metadata": {},
   "outputs": [],
   "source": [
    "perkins_count_gdf = perkins_count_gdf.to_crs(9311)"
   ]
  },
  {
   "cell_type": "code",
   "execution_count": 29,
   "id": "f8feb339-fc3c-41f9-8bd8-50ee507bb185",
   "metadata": {},
   "outputs": [],
   "source": [
    "perkins_count_gdf.to_file(\"data/perkins_per_state.gpkg\")"
   ]
  },
  {
   "cell_type": "code",
   "execution_count": null,
   "id": "e92773a5-ed1b-4850-b29c-fcc40f9d5289",
   "metadata": {},
   "outputs": [],
   "source": []
  },
  {
   "cell_type": "code",
   "execution_count": null,
   "id": "8aa63456-7d2f-4f41-a35b-9cd70d4d365c",
   "metadata": {},
   "outputs": [],
   "source": []
  }
 ],
 "metadata": {
  "kernelspec": {
   "display_name": "Python 3 (ipykernel)",
   "language": "python",
   "name": "python3"
  },
  "language_info": {
   "codemirror_mode": {
    "name": "ipython",
    "version": 3
   },
   "file_extension": ".py",
   "mimetype": "text/x-python",
   "name": "python",
   "nbconvert_exporter": "python",
   "pygments_lexer": "ipython3",
   "version": "3.11.11"
  }
 },
 "nbformat": 4,
 "nbformat_minor": 5
}
