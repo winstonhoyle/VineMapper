{
 "cells": [
  {
   "cell_type": "code",
   "execution_count": 36,
   "id": "8eca3131-85dc-48b3-b640-f384104e123c",
   "metadata": {},
   "outputs": [],
   "source": [
    "import json\n",
    "import os\n",
    "import random\n",
    "import re\n",
    "import time"
   ]
  },
  {
   "cell_type": "code",
   "execution_count": 3,
   "id": "bc436e38-234d-44fd-b67b-d1f2974606d3",
   "metadata": {},
   "outputs": [],
   "source": [
    "from bs4 import BeautifulSoup\n",
    "import cloudscraper\n",
    "import geopandas as gpd\n",
    "import pandas as pd"
   ]
  },
  {
   "cell_type": "code",
   "execution_count": 4,
   "id": "13bbdea5-6ae9-4a3a-937a-12bb704da0f4",
   "metadata": {},
   "outputs": [],
   "source": [
    "from shapely.geometry import Point\n",
    "from tqdm.notebook import tqdm"
   ]
  },
  {
   "cell_type": "markdown",
   "id": "44a3df26-78d3-479c-99a2-c0e1ba91352e",
   "metadata": {},
   "source": [
    "## Get State Data"
   ]
  },
  {
   "cell_type": "code",
   "execution_count": 5,
   "id": "615eeabf-033b-425a-a81f-d7b4dd9e3a3e",
   "metadata": {},
   "outputs": [],
   "source": [
    "file_path = \"data/cb_2018_us_state_500k/cb_2018_us_state_500k.shp\"\n",
    "states_df = gpd.read_file(file_path)"
   ]
  },
  {
   "cell_type": "code",
   "execution_count": 6,
   "id": "502c6bfe-0912-4d37-95b0-47e7a14b468f",
   "metadata": {},
   "outputs": [],
   "source": [
    "states_df = states_df[[\"STUSPS\", \"NAME\", \"geometry\"]]"
   ]
  },
  {
   "cell_type": "markdown",
   "id": "4257620c-13d7-4071-bae2-a5a2aeae5ba7",
   "metadata": {},
   "source": [
    "## Get Population data"
   ]
  },
  {
   "cell_type": "code",
   "execution_count": 7,
   "id": "6c0e7a1d-5a9a-4c10-a5d4-28dc681a8a27",
   "metadata": {},
   "outputs": [],
   "source": [
    "state_populations = pd.read_excel(\n",
    "    \"data/NST-EST2024-POP.xlsx\", sheet_name=None, engine=\"openpyxl\"\n",
    ")"
   ]
  },
  {
   "cell_type": "code",
   "execution_count": 8,
   "id": "2614c2ab-96ec-4304-a287-6fd013fedbbb",
   "metadata": {},
   "outputs": [],
   "source": [
    "state_populations_df = state_populations[\"NST-EST2024-POP\"][\n",
    "    [\n",
    "        \"table with row headers in column A and column headers in rows 3 through 4. (leading dots indicate sub-parts)\",\n",
    "        \"Unnamed: 5\",\n",
    "    ]\n",
    "]\n",
    "state_populations_df = state_populations_df.rename(\n",
    "    columns={\n",
    "        \"table with row headers in column A and column headers in rows 3 through 4. (leading dots indicate sub-parts)\": \"NAME\",\n",
    "        \"Unnamed: 5\": \"POPULATION\",\n",
    "    }\n",
    ")\n",
    "state_populations_df[\"NAME\"] = state_populations_df[\"NAME\"].str[1:]"
   ]
  },
  {
   "cell_type": "code",
   "execution_count": 9,
   "id": "2a1a8b6e-a0bf-486b-b62e-46a23ca718e2",
   "metadata": {},
   "outputs": [],
   "source": [
    "states_with_population_df = states_df.merge(state_populations_df, on=\"NAME\", how=\"left\")\n",
    "states_with_population_df = states_with_population_df[\n",
    "    [\"STUSPS\", \"NAME\", \"POPULATION\", \"geometry\"]\n",
    "]"
   ]
  },
  {
   "cell_type": "markdown",
   "id": "6d2f1ce9-a36c-4292-99a0-ad42032c5ad4",
   "metadata": {},
   "source": [
    "## Get Cold Store Data"
   ]
  },
  {
   "cell_type": "code",
   "execution_count": 60,
   "id": "3902428a-92ab-4760-98db-4df4874009dc",
   "metadata": {},
   "outputs": [],
   "source": [
    "scraper = cloudscraper.create_scraper()"
   ]
  },
  {
   "cell_type": "code",
   "execution_count": 61,
   "id": "3dc4e39d-df99-4335-8a41-e495a6995e10",
   "metadata": {},
   "outputs": [],
   "source": [
    "url = \"https://www.coldstonecreamery.com/locator/\""
   ]
  },
  {
   "cell_type": "code",
   "execution_count": 62,
   "id": "e9e2cb48-0082-4801-830a-a1b6c3f59681",
   "metadata": {},
   "outputs": [],
   "source": [
    "r = scraper.get(url)"
   ]
  },
  {
   "cell_type": "code",
   "execution_count": 63,
   "id": "7c17b734-9c5f-46ae-bc33-e87b94b73d59",
   "metadata": {},
   "outputs": [],
   "source": [
    "soup = BeautifulSoup(r.text, \"html.parser\")\n",
    "div = soup.find(\"div\", {\"id\": \"main\"})\n",
    "script_text = div.find(\"script\").text"
   ]
  },
  {
   "cell_type": "code",
   "execution_count": 64,
   "id": "7c6d24ef-6c3a-4aa0-a562-52d9b3b6662d",
   "metadata": {},
   "outputs": [],
   "source": [
    "pattern_coords = r'\"Latitude\":([-+]?\\d+\\.\\d+),\"Longitude\":([-+]?\\d+\\.\\d+)'\n",
    "matches = re.findall(pattern, script_text)\n",
    "points = [Point(float(match[1]), float(match[0])) for match in matches]\n",
    "pattern_state = r'\"State\":\"(.*?)\"'\n",
    "matches_state = re.findall(pattern_state, script_text)"
   ]
  },
  {
   "cell_type": "code",
   "execution_count": 65,
   "id": "7bca640e-b0ff-4fde-9c9f-f80b46bb87e7",
   "metadata": {},
   "outputs": [],
   "source": [
    "cold_stone_gdf = gpd.GeoDataFrame(\n",
    "    {\"geometry\": points, \"STUSPS\": matches_state}, crs=4326\n",
    ")"
   ]
  },
  {
   "cell_type": "code",
   "execution_count": 66,
   "id": "41a68569-acac-485c-8b1d-92a777c29f5e",
   "metadata": {},
   "outputs": [],
   "source": [
    "cold_stone_gdf = cold_stone_gdf.to_crs(9311)\n",
    "cold_stone_gdf.to_file(\"data/cold_stone.gpkg\")"
   ]
  },
  {
   "cell_type": "code",
   "execution_count": 67,
   "id": "112af0cc-95bd-4fe3-8310-8bb44dffc1be",
   "metadata": {},
   "outputs": [],
   "source": [
    "cold_stone_counts_gdf = pd.DataFrame(\n",
    "    cold_stone_gdf.groupby(\"STUSPS\").size(), columns=[\"COLD_STONE\"]\n",
    ")\n",
    "cold_stone_counts_gdf = cold_stone_counts_gdf.reset_index()"
   ]
  },
  {
   "cell_type": "markdown",
   "id": "94cb32a2-faf0-40fa-8616-e8f2275eca72",
   "metadata": {},
   "source": [
    "## Combine With States"
   ]
  },
  {
   "cell_type": "code",
   "execution_count": 68,
   "id": "c062806b-5f76-4d7e-a226-31383a266b6a",
   "metadata": {},
   "outputs": [],
   "source": [
    "cold_stone_per_state_gdf = states_with_population_df.merge(\n",
    "    cold_stone_counts_gdf, on=\"STUSPS\", how=\"left\"\n",
    ")"
   ]
  },
  {
   "cell_type": "code",
   "execution_count": 70,
   "id": "58e95406-0246-435f-85ee-dcb3f79019fb",
   "metadata": {},
   "outputs": [],
   "source": [
    "cold_stone_per_state_gdf = cold_stone_per_state_gdf.fillna(0)\n",
    "cold_stone_per_state_gdf[\"COLD_STONE\"] = cold_stone_per_state_gdf[\"COLD_STONE\"].astype(\n",
    "    int\n",
    ")"
   ]
  },
  {
   "cell_type": "code",
   "execution_count": 71,
   "id": "8e8b581c-4e0c-40b8-81a9-4ea014470b40",
   "metadata": {},
   "outputs": [],
   "source": [
    "cold_stone_per_state_gdf[\"per_1000\"] = cold_stone_per_state_gdf[\"COLD_STONE\"] / (\n",
    "    cold_stone_per_state_gdf[\"POPULATION\"] / 1000\n",
    ")\n",
    "cold_stone_per_state_gdf[\"per_10k\"] = cold_stone_per_state_gdf[\"COLD_STONE\"] / (\n",
    "    cold_stone_per_state_gdf[\"POPULATION\"] / 10_000\n",
    ")\n",
    "cold_stone_per_state_gdf[\"per_100k\"] = cold_stone_per_state_gdf[\"COLD_STONE\"] / (\n",
    "    cold_stone_per_state_gdf[\"POPULATION\"] / 100000\n",
    ")\n",
    "cold_stone_per_state_gdf[\"per_500k\"] = cold_stone_per_state_gdf[\"COLD_STONE\"] / (\n",
    "    cold_stone_per_state_gdf[\"POPULATION\"] / 500_000\n",
    ")\n",
    "cold_stone_per_state_gdf[\"per_1m\"] = cold_stone_per_state_gdf[\"COLD_STONE\"] / (\n",
    "    cold_stone_per_state_gdf[\"POPULATION\"] / 1_000_000\n",
    ")"
   ]
  },
  {
   "cell_type": "code",
   "execution_count": 72,
   "id": "237a0e6a-ccc2-4f3b-baad-d36ce4ecc481",
   "metadata": {},
   "outputs": [],
   "source": [
    "cold_stone_per_state_gdf = cold_stone_per_state_gdf.dropna()"
   ]
  },
  {
   "cell_type": "code",
   "execution_count": 73,
   "id": "944acfaa-313b-4a9f-aecc-53fe95e188be",
   "metadata": {},
   "outputs": [],
   "source": [
    "cold_stone_per_state_gdf = cold_stone_per_state_gdf.to_crs(9311)\n",
    "cold_stone_per_state_gdf.to_file(\"data/cold_stones_per_state.gpkg\")"
   ]
  },
  {
   "cell_type": "code",
   "execution_count": null,
   "id": "4857fb82-2869-4020-8a57-c1983c9055b6",
   "metadata": {},
   "outputs": [],
   "source": []
  }
 ],
 "metadata": {
  "kernelspec": {
   "display_name": "Python 3 (ipykernel)",
   "language": "python",
   "name": "python3"
  },
  "language_info": {
   "codemirror_mode": {
    "name": "ipython",
    "version": 3
   },
   "file_extension": ".py",
   "mimetype": "text/x-python",
   "name": "python",
   "nbconvert_exporter": "python",
   "pygments_lexer": "ipython3",
   "version": "3.11.11"
  }
 },
 "nbformat": 4,
 "nbformat_minor": 5
}
