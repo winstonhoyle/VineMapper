{
 "cells": [
  {
   "cell_type": "code",
   "execution_count": 15,
   "id": "c86ad9f6-4aaf-469e-a56e-363083168e1e",
   "metadata": {},
   "outputs": [],
   "source": [
    "import json\n",
    "import os"
   ]
  },
  {
   "cell_type": "code",
   "execution_count": 16,
   "id": "10fa1d09-7717-4ea8-9ce7-1cef37b4da9c",
   "metadata": {},
   "outputs": [],
   "source": [
    "import cloudscraper\n",
    "from bs4 import BeautifulSoup\n",
    "import geopandas as gpd\n",
    "import pandas as pd"
   ]
  },
  {
   "cell_type": "code",
   "execution_count": 17,
   "id": "d22202a0-bf3c-4953-81ce-105a19e002a0",
   "metadata": {},
   "outputs": [],
   "source": [
    "from shapely.geometry import Point\n",
    "from tqdm.notebook import tqdm"
   ]
  },
  {
   "cell_type": "markdown",
   "id": "02e1dfb5-464d-4984-8c84-5599ce9dcd5d",
   "metadata": {},
   "source": [
    "## Get State Data"
   ]
  },
  {
   "cell_type": "code",
   "execution_count": 18,
   "id": "84b53c65-5746-4ab8-8c99-6dfe3e967797",
   "metadata": {},
   "outputs": [],
   "source": [
    "file_path = \"data/cb_2018_us_state_500k/cb_2018_us_state_500k.shp\"\n",
    "states_df = gpd.read_file(file_path)"
   ]
  },
  {
   "cell_type": "code",
   "execution_count": 19,
   "id": "191755a6-eb92-4683-833e-b69f4be9f3f5",
   "metadata": {},
   "outputs": [],
   "source": [
    "states_df = states_df[[\"STUSPS\", \"NAME\", \"geometry\"]]"
   ]
  },
  {
   "cell_type": "markdown",
   "id": "f3ad4feb-2496-4c2f-827b-04c586ef17ba",
   "metadata": {},
   "source": [
    "## Get WH Data"
   ]
  },
  {
   "cell_type": "code",
   "execution_count": 48,
   "id": "4c063aa4-d1b0-400e-a449-8125a2a0596a",
   "metadata": {},
   "outputs": [],
   "source": [
    "scraper = cloudscraper.create_scraper()"
   ]
  },
  {
   "cell_type": "code",
   "execution_count": 49,
   "id": "0285bab4-1726-4db5-99be-c8f78b78413c",
   "metadata": {},
   "outputs": [],
   "source": [
    "r = scraper.get(\"https://locations.wafflehouse.com/\")\n",
    "soup_state = BeautifulSoup(r.text, \"html.parser\")"
   ]
  },
  {
   "cell_type": "code",
   "execution_count": 50,
   "id": "d537cdd8-9147-4fe1-9890-ebab50d4aa61",
   "metadata": {},
   "outputs": [],
   "source": [
    "locations = json.loads(\n",
    "    soup_state.find(\"script\", {\"id\": \"__NEXT_DATA__\", \"type\": \"application/json\"}).text\n",
    ")[\"props\"][\"pageProps\"][\"locations\"]"
   ]
  },
  {
   "cell_type": "code",
   "execution_count": 51,
   "id": "5a316e9b-26f5-47f0-9870-9b0ca13caa23",
   "metadata": {},
   "outputs": [],
   "source": [
    "waffle_house_df = pd.DataFrame(locations)"
   ]
  },
  {
   "cell_type": "code",
   "execution_count": 61,
   "id": "cd663d4c-5181-4839-9607-63d4b0f62f86",
   "metadata": {},
   "outputs": [],
   "source": [
    "waffle_house_locations_gdf = gpd.GeoDataFrame(\n",
    "    waffle_house_df,\n",
    "    geometry=gpd.points_from_xy(\n",
    "        waffle_house_df[\"longitude\"], waffle_house_df[\"latitude\"]\n",
    "    ),\n",
    "    crs=4326,\n",
    ")"
   ]
  },
  {
   "cell_type": "code",
   "execution_count": 62,
   "id": "fb6e0c4f-6187-413c-9e8e-73b749f428fd",
   "metadata": {},
   "outputs": [],
   "source": [
    "waffle_house_locations_gdf.to_file(\"data/wafflehouse_locations.gpkg\")"
   ]
  },
  {
   "cell_type": "code",
   "execution_count": 75,
   "id": "331fb21c-f2e1-4ddf-bad5-2526bd0952a0",
   "metadata": {},
   "outputs": [],
   "source": [
    "wafflehouse_counts_df = (\n",
    "    pd.DataFrame(waffle_house_df.groupby(\"state\").size())\n",
    "    .reset_index()\n",
    "    .rename(columns={\"state\": \"STUSPS\", 0: \"WHS\"})\n",
    ")"
   ]
  },
  {
   "cell_type": "markdown",
   "id": "5a42dfab-fc47-49d7-8092-f08b31392df8",
   "metadata": {},
   "source": [
    "## Get Population Data"
   ]
  },
  {
   "cell_type": "code",
   "execution_count": 66,
   "id": "3cce9c91-abf1-4055-8b9a-5fd1f6cf611f",
   "metadata": {},
   "outputs": [],
   "source": [
    "state_populations = pd.read_excel(\n",
    "    \"data/NST-EST2024-POP.xlsx\", sheet_name=None, engine=\"openpyxl\"\n",
    ")"
   ]
  },
  {
   "cell_type": "code",
   "execution_count": 67,
   "id": "2eaacc28-fa8e-410e-b084-02ce24ec11a1",
   "metadata": {},
   "outputs": [],
   "source": [
    "state_populations_df = state_populations[\"NST-EST2024-POP\"][\n",
    "    [\n",
    "        \"table with row headers in column A and column headers in rows 3 through 4. (leading dots indicate sub-parts)\",\n",
    "        \"Unnamed: 5\",\n",
    "    ]\n",
    "]\n",
    "state_populations_df = state_populations_df.rename(\n",
    "    columns={\n",
    "        \"table with row headers in column A and column headers in rows 3 through 4. (leading dots indicate sub-parts)\": \"NAME\",\n",
    "        \"Unnamed: 5\": \"POPULATION\",\n",
    "    }\n",
    ")\n",
    "state_populations_df[\"NAME\"] = state_populations_df[\"NAME\"].str[1:]"
   ]
  },
  {
   "cell_type": "code",
   "execution_count": 68,
   "id": "2d6342e1-fc3f-4006-8d8a-d7612903a625",
   "metadata": {},
   "outputs": [],
   "source": [
    "states_with_population_df = states_df.merge(state_populations_df, on=\"NAME\", how=\"left\")\n",
    "states_with_population_df = states_with_population_df[\n",
    "    [\"STUSPS\", \"NAME\", \"POPULATION\", \"geometry\"]\n",
    "]"
   ]
  },
  {
   "cell_type": "code",
   "execution_count": 69,
   "id": "94150db1-9ce7-43cb-8c08-3f6d9bb58497",
   "metadata": {},
   "outputs": [],
   "source": [
    "states_with_population_df = states_with_population_df.dropna()"
   ]
  },
  {
   "cell_type": "markdown",
   "id": "af5c5e13-c89d-43ed-8021-13ba93990599",
   "metadata": {},
   "source": [
    "## Merge Data"
   ]
  },
  {
   "cell_type": "code",
   "execution_count": 77,
   "id": "8a4afa33-893a-4b6b-8df1-f5151243deeb",
   "metadata": {},
   "outputs": [],
   "source": [
    "wafflehouse_counts_gdf = states_with_population_df.merge(\n",
    "    wafflehouse_counts_df, on=\"STUSPS\", how=\"left\"\n",
    ")\n",
    "wafflehouse_counts_gdf = wafflehouse_counts_gdf.fillna(0)"
   ]
  },
  {
   "cell_type": "code",
   "execution_count": 78,
   "id": "f50526e2-4c7a-4d13-8d5e-aaddbeec7751",
   "metadata": {},
   "outputs": [],
   "source": [
    "wafflehouse_counts_gdf[\"per_100k\"] = wafflehouse_counts_gdf[\"WHS\"] / (\n",
    "    wafflehouse_counts_gdf[\"POPULATION\"] / 100000\n",
    ")\n",
    "wafflehouse_counts_gdf[\"per_1m\"] = wafflehouse_counts_gdf[\"WHS\"] / (\n",
    "    wafflehouse_counts_gdf[\"POPULATION\"] / 1_000_000\n",
    ")"
   ]
  },
  {
   "cell_type": "code",
   "execution_count": 79,
   "id": "4d00c57e-a978-4938-b5f5-cb176b29cf77",
   "metadata": {},
   "outputs": [],
   "source": [
    "wafflehouse_counts_gdf = wafflehouse_counts_gdf.to_crs(9311)"
   ]
  },
  {
   "cell_type": "code",
   "execution_count": 80,
   "id": "f8feb339-fc3c-41f9-8bd8-50ee507bb185",
   "metadata": {},
   "outputs": [],
   "source": [
    "wafflehouse_counts_gdf.to_file(\"data/whs_per_state.gpkg\")"
   ]
  },
  {
   "cell_type": "code",
   "execution_count": null,
   "id": "6fe12df3-c59b-48b5-bd11-cdbae9436a65",
   "metadata": {},
   "outputs": [],
   "source": []
  },
  {
   "cell_type": "code",
   "execution_count": null,
   "id": "e92773a5-ed1b-4850-b29c-fcc40f9d5289",
   "metadata": {},
   "outputs": [],
   "source": []
  }
 ],
 "metadata": {
  "kernelspec": {
   "display_name": "Python 3 (ipykernel)",
   "language": "python",
   "name": "python3"
  },
  "language_info": {
   "codemirror_mode": {
    "name": "ipython",
    "version": 3
   },
   "file_extension": ".py",
   "mimetype": "text/x-python",
   "name": "python",
   "nbconvert_exporter": "python",
   "pygments_lexer": "ipython3",
   "version": "3.11.11"
  }
 },
 "nbformat": 4,
 "nbformat_minor": 5
}
