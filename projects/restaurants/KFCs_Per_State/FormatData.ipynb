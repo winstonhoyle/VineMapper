{
 "cells": [
  {
   "cell_type": "code",
   "execution_count": 13,
   "id": "8eca3131-85dc-48b3-b640-f384104e123c",
   "metadata": {},
   "outputs": [],
   "source": [
    "import json\n",
    "import os\n",
    "import random\n",
    "import re\n",
    "import time"
   ]
  },
  {
   "cell_type": "code",
   "execution_count": 14,
   "id": "bc436e38-234d-44fd-b67b-d1f2974606d3",
   "metadata": {},
   "outputs": [],
   "source": [
    "from bs4 import BeautifulSoup\n",
    "import bs4\n",
    "import cloudscraper\n",
    "import geopandas as gpd\n",
    "import pandas as pd"
   ]
  },
  {
   "cell_type": "code",
   "execution_count": 15,
   "id": "13bbdea5-6ae9-4a3a-937a-12bb704da0f4",
   "metadata": {},
   "outputs": [],
   "source": [
    "from shapely.geometry import Point\n",
    "from tqdm.notebook import tqdm"
   ]
  },
  {
   "cell_type": "markdown",
   "id": "44a3df26-78d3-479c-99a2-c0e1ba91352e",
   "metadata": {},
   "source": [
    "## Get State Data"
   ]
  },
  {
   "cell_type": "code",
   "execution_count": 16,
   "id": "615eeabf-033b-425a-a81f-d7b4dd9e3a3e",
   "metadata": {},
   "outputs": [],
   "source": [
    "file_path = \"data/cb_2018_us_state_500k/cb_2018_us_state_500k.shp\"\n",
    "states_df = gpd.read_file(file_path)"
   ]
  },
  {
   "cell_type": "code",
   "execution_count": 17,
   "id": "502c6bfe-0912-4d37-95b0-47e7a14b468f",
   "metadata": {},
   "outputs": [],
   "source": [
    "states_df = states_df[[\"STUSPS\", \"NAME\", \"geometry\"]]"
   ]
  },
  {
   "cell_type": "markdown",
   "id": "4257620c-13d7-4071-bae2-a5a2aeae5ba7",
   "metadata": {},
   "source": [
    "## Get Population data"
   ]
  },
  {
   "cell_type": "code",
   "execution_count": 18,
   "id": "6c0e7a1d-5a9a-4c10-a5d4-28dc681a8a27",
   "metadata": {},
   "outputs": [],
   "source": [
    "state_populations = pd.read_excel(\n",
    "    \"data/NST-EST2024-POP.xlsx\", sheet_name=None, engine=\"openpyxl\"\n",
    ")"
   ]
  },
  {
   "cell_type": "code",
   "execution_count": 19,
   "id": "2614c2ab-96ec-4304-a287-6fd013fedbbb",
   "metadata": {},
   "outputs": [],
   "source": [
    "state_populations_df = state_populations[\"NST-EST2024-POP\"][\n",
    "    [\n",
    "        \"table with row headers in column A and column headers in rows 3 through 4. (leading dots indicate sub-parts)\",\n",
    "        \"Unnamed: 5\",\n",
    "    ]\n",
    "]\n",
    "state_populations_df = state_populations_df.rename(\n",
    "    columns={\n",
    "        \"table with row headers in column A and column headers in rows 3 through 4. (leading dots indicate sub-parts)\": \"NAME\",\n",
    "        \"Unnamed: 5\": \"POPULATION\",\n",
    "    }\n",
    ")\n",
    "state_populations_df[\"NAME\"] = state_populations_df[\"NAME\"].str[1:]"
   ]
  },
  {
   "cell_type": "code",
   "execution_count": 20,
   "id": "2a1a8b6e-a0bf-486b-b62e-46a23ca718e2",
   "metadata": {},
   "outputs": [],
   "source": [
    "states_with_population_df = states_df.merge(state_populations_df, on=\"NAME\", how=\"left\")\n",
    "states_with_population_df = states_with_population_df[\n",
    "    [\"STUSPS\", \"NAME\", \"POPULATION\", \"geometry\"]\n",
    "]"
   ]
  },
  {
   "cell_type": "markdown",
   "id": "6d2f1ce9-a36c-4292-99a0-ad42032c5ad4",
   "metadata": {},
   "source": [
    "## Get KFC Data"
   ]
  },
  {
   "cell_type": "code",
   "execution_count": 21,
   "id": "9faa75ce-1dcd-44bc-84f2-6eb1011f9727",
   "metadata": {},
   "outputs": [],
   "source": [
    "scraper = cloudscraper.create_scraper()"
   ]
  },
  {
   "cell_type": "code",
   "execution_count": 22,
   "id": "224d3812-549e-437c-a7aa-5276c0c3bd57",
   "metadata": {},
   "outputs": [],
   "source": [
    "def restaurant_open(div_teaser_open: bs4.element.Tag) -> bool:\n",
    "    open_list = []\n",
    "    for span in div_teaser_open.find_all(\"span\")[0].find_all(\"span\"):\n",
    "        if span.text:\n",
    "            open_list.append(span.text.strip())\n",
    "    times_open = list(set(open_list))\n",
    "    if len(times_open) == 1 and times_open[0] == \"Closed Today\":\n",
    "        return False\n",
    "    return True"
   ]
  },
  {
   "cell_type": "code",
   "execution_count": 23,
   "id": "72bb2d2b-e262-4cdc-8408-3692a8bdbf6e",
   "metadata": {},
   "outputs": [],
   "source": [
    "def get_coords(url: str) -> Point:\n",
    "    r = scraper.get(url)\n",
    "    soup = BeautifulSoup(r.text, \"html.parser\")\n",
    "    latitude_meta = soup.find(\"meta\", {\"itemprop\": \"latitude\"})\n",
    "    longitude_meta = soup.find(\"meta\", {\"itemprop\": \"longitude\"})\n",
    "    lat = float(latitude_meta.attrs[\"content\"])\n",
    "    lon = float(longitude_meta.attrs[\"content\"])\n",
    "    return Point(lon, lat)"
   ]
  },
  {
   "cell_type": "code",
   "execution_count": 25,
   "id": "57180847-49ee-46cc-9612-bfebcd53bed2",
   "metadata": {},
   "outputs": [
    {
     "data": {
      "application/vnd.jupyter.widget-view+json": {
       "model_id": "7ad92132ad334306824d8552d75d3849",
       "version_major": 2,
       "version_minor": 0
      },
      "text/plain": [
       "Parsing States:   0%|          | 0/56 [00:00<?, ?it/s]"
      ]
     },
     "metadata": {},
     "output_type": "display_data"
    },
    {
     "data": {
      "application/vnd.jupyter.widget-view+json": {
       "model_id": "550c9ffafdc845f0b064c5862d25ae0f",
       "version_major": 2,
       "version_minor": 0
      },
      "text/plain": [
       "Parsing Locations In ms:   0%|          | 0/57 [00:00<?, ?it/s]"
      ]
     },
     "metadata": {},
     "output_type": "display_data"
    },
    {
     "name": "stdout",
     "output_type": "stream",
     "text": [
      "https://locations.kfc.com/ms/brookhaven/755-brookway-boulevard Closed\n",
      "https://locations.kfc.com/ms/laurel/724-chantilly Closed\n",
      "https://locations.kfc.com/ms/vicksburg/3144-indiana-avenue Closed\n",
      "ms Closed: 3\n"
     ]
    },
    {
     "data": {
      "application/vnd.jupyter.widget-view+json": {
       "model_id": "acbf6bcf97864cb6a1ed9931bb42acca",
       "version_major": 2,
       "version_minor": 0
      },
      "text/plain": [
       "Parsing Locations In nc:   0%|          | 0/121 [00:00<?, ?it/s]"
      ]
     },
     "metadata": {},
     "output_type": "display_data"
    },
    {
     "name": "stdout",
     "output_type": "stream",
     "text": [
      "https://locations.kfc.com/nc/belmont/6813-e-wilkinson-boulevard-C426002 Closed\n",
      "https://locations.kfc.com/nc/boiling-springs/219-south-main-st-C426007 Closed\n",
      "https://locations.kfc.com/nc/charlotte/4601-n-tryon-st Closed\n",
      "https://locations.kfc.com/nc/fayetteville/3002-raeford-road Closed\n",
      "https://locations.kfc.com/nc/forest-city/131-bethany-church-road-C426003 Closed\n",
      "https://locations.kfc.com/nc/greenville/2000-south-east-greenville-boulevard Closed\n",
      "https://locations.kfc.com/nc/henderson/130-raleigh-road Closed\n",
      "https://locations.kfc.com/nc/kings-mountain/409-e-king-street-C426001 Closed\n",
      "https://locations.kfc.com/nc/marion/1110-highway-70-w Closed\n",
      "https://locations.kfc.com/nc/mooresville/429-e-plaza-drive-C426004 Closed\n",
      "https://locations.kfc.com/nc/morganton/324-carbon-city-rd Closed\n",
      "https://locations.kfc.com/nc/rutherfordton/115-college-ave-C426005 Closed\n",
      "https://locations.kfc.com/nc/siler-city/1702-east-11th-street-7926557243761100751 Closed\n",
      "https://locations.kfc.com/nc/wilmington/6826-1/2-market-street Closed\n",
      "nc Closed: 14\n"
     ]
    },
    {
     "data": {
      "application/vnd.jupyter.widget-view+json": {
       "model_id": "1ac7dd562ce64cf18a788d59063279de",
       "version_major": 2,
       "version_minor": 0
      },
      "text/plain": [
       "Parsing Locations In ok:   0%|          | 0/43 [00:00<?, ?it/s]"
      ]
     },
     "metadata": {},
     "output_type": "display_data"
    },
    {
     "name": "stdout",
     "output_type": "stream",
     "text": [
      "https://locations.kfc.com/ok/enid/702-east-main Closed\n",
      "https://locations.kfc.com/ok/lawton/8-se-lee-blvd Closed\n",
      "ok Closed: 2\n"
     ]
    },
    {
     "data": {
      "application/vnd.jupyter.widget-view+json": {
       "model_id": "404167e4c8344b3597e807a1b87c7660",
       "version_major": 2,
       "version_minor": 0
      },
      "text/plain": [
       "Parsing Locations In va:   0%|          | 0/73 [00:00<?, ?it/s]"
      ]
     },
     "metadata": {},
     "output_type": "display_data"
    },
    {
     "name": "stdout",
     "output_type": "stream",
     "text": [
      "va Closed: 0\n"
     ]
    },
    {
     "data": {
      "application/vnd.jupyter.widget-view+json": {
       "model_id": "63d97d8a82154fe2a64a242cfb557fc4",
       "version_major": 2,
       "version_minor": 0
      },
      "text/plain": [
       "Parsing Locations In wv:   0%|          | 0/34 [00:00<?, ?it/s]"
      ]
     },
     "metadata": {},
     "output_type": "display_data"
    },
    {
     "name": "stdout",
     "output_type": "stream",
     "text": [
      "wv Closed: 0\n"
     ]
    },
    {
     "data": {
      "application/vnd.jupyter.widget-view+json": {
       "model_id": "90d330a0353143e9b07fbd1c4e9f11a2",
       "version_major": 2,
       "version_minor": 0
      },
      "text/plain": [
       "Parsing Locations In la:   0%|          | 0/25 [00:00<?, ?it/s]"
      ]
     },
     "metadata": {},
     "output_type": "display_data"
    },
    {
     "name": "stdout",
     "output_type": "stream",
     "text": [
      "https://locations.kfc.com/la/baton-rouge/9445-greenwell-springs-road Closed\n",
      "la Closed: 1\n"
     ]
    },
    {
     "data": {
      "application/vnd.jupyter.widget-view+json": {
       "model_id": "7f58be265fe445b09a71d61bd31a5cf8",
       "version_major": 2,
       "version_minor": 0
      },
      "text/plain": [
       "Parsing Locations In mi:   0%|          | 0/122 [00:00<?, ?it/s]"
      ]
     },
     "metadata": {},
     "output_type": "display_data"
    },
    {
     "name": "stdout",
     "output_type": "stream",
     "text": [
      "https://locations.kfc.com/mi/sterling-heights/4050-metropolitan-parkway Closed\n",
      "mi Closed: 1\n"
     ]
    },
    {
     "data": {
      "application/vnd.jupyter.widget-view+json": {
       "model_id": "374f47d3b8064d24a56366d21ede6481",
       "version_major": 2,
       "version_minor": 0
      },
      "text/plain": [
       "Parsing Locations In ma:   0%|          | 0/43 [00:00<?, ?it/s]"
      ]
     },
     "metadata": {},
     "output_type": "display_data"
    },
    {
     "name": "stdout",
     "output_type": "stream",
     "text": [
      "ma Closed: 0\n"
     ]
    },
    {
     "data": {
      "application/vnd.jupyter.widget-view+json": {
       "model_id": "cd8a48a3fb4e4e9cb91390bb580f4349",
       "version_major": 2,
       "version_minor": 0
      },
      "text/plain": [
       "Parsing Locations In id:   0%|          | 0/13 [00:00<?, ?it/s]"
      ]
     },
     "metadata": {},
     "output_type": "display_data"
    },
    {
     "name": "stdout",
     "output_type": "stream",
     "text": [
      "id Closed: 0\n"
     ]
    },
    {
     "data": {
      "application/vnd.jupyter.widget-view+json": {
       "model_id": "0b3021d95d074e78a89e2763280182f7",
       "version_major": 2,
       "version_minor": 0
      },
      "text/plain": [
       "Parsing Locations In fl:   0%|          | 0/152 [00:00<?, ?it/s]"
      ]
     },
     "metadata": {},
     "output_type": "display_data"
    },
    {
     "name": "stdout",
     "output_type": "stream",
     "text": [
      "https://locations.kfc.com/fl/gainesville/newell-dr-&-stadium-rd Closed\n",
      "https://locations.kfc.com/fl/miami/20505-s-dixie-highway Closed\n",
      "https://locations.kfc.com/fl/miami/4200-nw-21-street Closed\n",
      "https://locations.kfc.com/fl/miami/4200-nw-21-street-mia-terminal-5-pre-s Closed\n",
      "https://locations.kfc.com/fl/ocala/13545-sw-17th-court Closed\n",
      "https://locations.kfc.com/fl/ocala/3325-nw-pine-avenue Closed\n",
      "https://locations.kfc.com/fl/ocoee/mile-post-263-68 Closed\n",
      "https://locations.kfc.com/fl/okeechobee/mile-marker-184-70 Closed\n",
      "https://locations.kfc.com/fl/saint-augustine/2515-county-road-208 Closed\n",
      "https://locations.kfc.com/fl/tallahassee/100-paul-russell-rd Closed\n",
      "https://locations.kfc.com/fl/west-palm-beach/mile-post-94-69 Closed\n",
      "https://locations.kfc.com/fl/wildwood/mile-post-299-florida-turnpike-81 Closed\n",
      "fl Closed: 12\n"
     ]
    },
    {
     "data": {
      "application/vnd.jupyter.widget-view+json": {
       "model_id": "2a70a8d5f0c94d8a95c1d489a3d65022",
       "version_major": 2,
       "version_minor": 0
      },
      "text/plain": [
       "Parsing Locations In ne:   0%|          | 0/16 [00:00<?, ?it/s]"
      ]
     },
     "metadata": {},
     "output_type": "display_data"
    },
    {
     "name": "stdout",
     "output_type": "stream",
     "text": [
      "ne Closed: 0\n"
     ]
    },
    {
     "data": {
      "application/vnd.jupyter.widget-view+json": {
       "model_id": "9e4307aa240f404bba4fbdf59e698d4c",
       "version_major": 2,
       "version_minor": 0
      },
      "text/plain": [
       "Parsing Locations In wa:   0%|          | 0/59 [00:00<?, ?it/s]"
      ]
     },
     "metadata": {},
     "output_type": "display_data"
    },
    {
     "name": "stdout",
     "output_type": "stream",
     "text": [
      "https://locations.kfc.com/wa/federal-way/34506-16th-avenue-s Closed\n",
      "https://locations.kfc.com/wa/puyallup/12118-meridian-street-east Closed\n",
      "https://locations.kfc.com/wa/seattle/1140-nw-market-st Closed\n",
      "wa Closed: 3\n"
     ]
    },
    {
     "data": {
      "application/vnd.jupyter.widget-view+json": {
       "model_id": "e5ddb69af41b4409a84b7d317ecebb9f",
       "version_major": 2,
       "version_minor": 0
      },
      "text/plain": [
       "Parsing Locations In nm:   0%|          | 0/25 [00:00<?, ?it/s]"
      ]
     },
     "metadata": {},
     "output_type": "display_data"
    },
    {
     "name": "stdout",
     "output_type": "stream",
     "text": [
      "https://locations.kfc.com/nm/albuquerque/4901-gibson-blvd-se Closed\n",
      "https://locations.kfc.com/nm/las-cruces/300-e-idaho Closed\n",
      "nm Closed: 2\n",
      "Puerto Rico\n"
     ]
    },
    {
     "data": {
      "application/vnd.jupyter.widget-view+json": {
       "model_id": "3bf7ab119cba4b82b9822abf3c6e6ee4",
       "version_major": 2,
       "version_minor": 0
      },
      "text/plain": [
       "Parsing Locations In sd:   0%|          | 0/6 [00:00<?, ?it/s]"
      ]
     },
     "metadata": {},
     "output_type": "display_data"
    },
    {
     "name": "stdout",
     "output_type": "stream",
     "text": [
      "sd Closed: 0\n"
     ]
    },
    {
     "data": {
      "application/vnd.jupyter.widget-view+json": {
       "model_id": "c1b7fcc15a914c179660e3cfc6328a08",
       "version_major": 2,
       "version_minor": 0
      },
      "text/plain": [
       "Parsing Locations In tx:   0%|          | 0/168 [00:00<?, ?it/s]"
      ]
     },
     "metadata": {},
     "output_type": "display_data"
    },
    {
     "name": "stdout",
     "output_type": "stream",
     "text": [
      "https://locations.kfc.com/tx/bedford/1505-brown-trail-C771006duplicate Closed\n",
      "https://locations.kfc.com/tx/bedford/3116-harwood-road-C771008duplicate Closed\n",
      "https://locations.kfc.com/tx/cypress/20320-fm-529-road Closed\n",
      "https://locations.kfc.com/tx/dallas/3633-forest-lane Closed\n",
      "https://locations.kfc.com/tx/dallas/5240-spring-valley-road Closed\n",
      "https://locations.kfc.com/tx/dallas/7975-belt-line-rd Closed\n",
      "https://locations.kfc.com/tx/el-paso/12130-montwood-drive Closed\n",
      "https://locations.kfc.com/tx/el-paso/427-n-yarbrough-drive Closed\n",
      "https://locations.kfc.com/tx/euless/200-w-euless-blvd-C771007duplicate Closed\n",
      "https://locations.kfc.com/tx/houston/12076-veterans-memorial-drive Closed\n",
      "https://locations.kfc.com/tx/houston/15207-vickery-drive Closed\n",
      "https://locations.kfc.com/tx/hurst/777-ne-loop-820-C771002duplicate Closed\n",
      "https://locations.kfc.com/tx/katy/25112-market-place-drive Closed\n",
      "https://locations.kfc.com/tx/north-richland-hills/5651-rufe-snow-dr-C771005- dupe Closed\n",
      "https://locations.kfc.com/tx/north-richland-hills/5651-rufe-snow-dr-C771005-dupe- J417008 Closed\n",
      "https://locations.kfc.com/tx/north-richland-hills/5651-rufe-snow-dr-C771005duplicate Closed\n",
      "https://locations.kfc.com/tx/plano/7100-corporate-drive Closed\n",
      "https://locations.kfc.com/tx/san-antonio/8727-perrin-beitel Closed\n",
      "tx Closed: 18\n"
     ]
    },
    {
     "data": {
      "application/vnd.jupyter.widget-view+json": {
       "model_id": "8293dc93f0934f54aa48e48edc33e88e",
       "version_major": 2,
       "version_minor": 0
      },
      "text/plain": [
       "Parsing Locations In ca:   0%|          | 0/263 [00:00<?, ?it/s]"
      ]
     },
     "metadata": {},
     "output_type": "display_data"
    },
    {
     "name": "stdout",
     "output_type": "stream",
     "text": [
      "https://locations.kfc.com/ca/antioch/2410-mahogany-way Closed\n",
      "https://locations.kfc.com/ca/auburn/13366-lincoln-way Closed\n",
      "'NoneType' object has no attribute 'find_all' https://locations.kfc.com/ca/barstow/110-coolwater-lane-K312073_Delivery\n",
      "https://locations.kfc.com/ca/brentwood/6371-lone-tree-way Closed\n",
      "https://locations.kfc.com/ca/citrus-heights/8034-greenback-lane Closed\n",
      "https://locations.kfc.com/ca/concord/2160-monument-boulevard Closed\n",
      "https://locations.kfc.com/ca/fontana/16931-foothill-blvd Closed\n",
      "https://locations.kfc.com/ca/irvine/15463-culver-drive Closed\n",
      "https://locations.kfc.com/ca/long-beach/1601-east-seventh-street Closed\n",
      "https://locations.kfc.com/ca/los-angeles/1400-glendale-blvd Closed\n",
      "https://locations.kfc.com/ca/los-angeles/1550-s-la-cienega-blvd Closed\n",
      "https://locations.kfc.com/ca/los-angeles/3061-sawtelle-blvd Closed\n",
      "https://locations.kfc.com/ca/los-angeles/380-world-way-82 Closed\n",
      "https://locations.kfc.com/ca/los-angeles/6421-york-blvd Closed\n",
      "https://locations.kfc.com/ca/los-angeles/708-south-broadway Closed\n",
      "https://locations.kfc.com/ca/moreno-valley/13945-perris-blvd Closed\n",
      "https://locations.kfc.com/ca/napa/3246-jefferson-st Closed\n",
      "https://locations.kfc.com/ca/oakland/2800-telegraph-avenue Closed\n",
      "https://locations.kfc.com/ca/oakland/470-lake-park-avenue Closed\n",
      "https://locations.kfc.com/ca/paramount/7905-alondra-boulevard Closed\n",
      "'NoneType' object has no attribute 'find_all' https://locations.kfc.com/ca/perris/2560-n-perris-blvd-K312074_Delivery\n",
      "https://locations.kfc.com/ca/sacramento/1601-del-paso-boulevard Closed\n",
      "https://locations.kfc.com/ca/sacramento/3030-capitol-avenue Closed\n",
      "https://locations.kfc.com/ca/san-diego/1641-grand-ave Closed\n",
      "https://locations.kfc.com/ca/san-diego/2260-callagan-hwy Closed\n",
      "https://locations.kfc.com/ca/san-diego/3195-market-street Closed\n",
      "https://locations.kfc.com/ca/san-francisco/2040-ocean-avenue Closed\n",
      "https://locations.kfc.com/ca/san-jose/6171-santa-teresa-boulevard Closed\n",
      "https://locations.kfc.com/ca/san-jose/955-saratoga-avenue Closed\n",
      "https://locations.kfc.com/ca/santa-ana/1325-e-17th-street Closed\n",
      "https://locations.kfc.com/ca/sonora/13783-mono-way Closed\n",
      "https://locations.kfc.com/ca/south-san-francisco/1111-el-camino-real Closed\n",
      "https://locations.kfc.com/ca/sylmar/13924-foothill-boulevard Closed\n",
      "https://locations.kfc.com/ca/torrance/3777-pacific-coast-hwy Closed\n",
      "ca Closed: 32\n"
     ]
    },
    {
     "data": {
      "application/vnd.jupyter.widget-view+json": {
       "model_id": "4b5f2a71bb1f4ef1a6906e9c1c7cb61b",
       "version_major": 2,
       "version_minor": 0
      },
      "text/plain": [
       "Parsing Locations In al:   0%|          | 0/63 [00:00<?, ?it/s]"
      ]
     },
     "metadata": {},
     "output_type": "display_data"
    },
    {
     "name": "stdout",
     "output_type": "stream",
     "text": [
      "https://locations.kfc.com/al/mobile/2351-st-stephens Closed\n",
      "https://locations.kfc.com/al/montgomery/1955-coliseum-boulevard Closed\n",
      "al Closed: 2\n"
     ]
    },
    {
     "data": {
      "application/vnd.jupyter.widget-view+json": {
       "model_id": "ecbf55b2031a40948f7b1c4760854b83",
       "version_major": 2,
       "version_minor": 0
      },
      "text/plain": [
       "Parsing Locations In ga:   0%|          | 0/109 [00:00<?, ?it/s]"
      ]
     },
     "metadata": {},
     "output_type": "display_data"
    },
    {
     "name": "stdout",
     "output_type": "stream",
     "text": [
      "https://locations.kfc.com/ga/canton/3750-sixes-road Closed\n",
      "https://locations.kfc.com/ga/canton/6113-hickory-flat-highway Closed\n",
      "https://locations.kfc.com/ga/lawrenceville/928-buford-drive Closed\n",
      "ga Closed: 3\n"
     ]
    },
    {
     "data": {
      "application/vnd.jupyter.widget-view+json": {
       "model_id": "a839662df6254a44a250f50d4180b76e",
       "version_major": 2,
       "version_minor": 0
      },
      "text/plain": [
       "Parsing Locations In pa:   0%|          | 0/90 [00:00<?, ?it/s]"
      ]
     },
     "metadata": {},
     "output_type": "display_data"
    },
    {
     "name": "stdout",
     "output_type": "stream",
     "text": [
      "https://locations.kfc.com/pa/altoona/2525-sixth-ave Closed\n",
      "https://locations.kfc.com/pa/butler/212-new-castle-road Closed\n",
      "https://locations.kfc.com/pa/philadelphia/3981-kensington-avenue Closed\n",
      "https://locations.kfc.com/pa/philadelphia/9021-frankford-avenue Closed\n",
      "pa Closed: 4\n"
     ]
    },
    {
     "data": {
      "application/vnd.jupyter.widget-view+json": {
       "model_id": "d4cf58a406bd4167bd7df6d1a702723d",
       "version_major": 2,
       "version_minor": 0
      },
      "text/plain": [
       "Parsing Locations In mo:   0%|          | 0/61 [00:00<?, ?it/s]"
      ]
     },
     "metadata": {},
     "output_type": "display_data"
    },
    {
     "name": "stdout",
     "output_type": "stream",
     "text": [
      "https://locations.kfc.com/mo/saint-louis/430-south-15th-street Closed\n",
      "mo Closed: 1\n"
     ]
    },
    {
     "data": {
      "application/vnd.jupyter.widget-view+json": {
       "model_id": "4c96d0aebb09432a8dbdcc1acd2ecf6c",
       "version_major": 2,
       "version_minor": 0
      },
      "text/plain": [
       "Parsing Locations In co:   0%|          | 0/42 [00:00<?, ?it/s]"
      ]
     },
     "metadata": {},
     "output_type": "display_data"
    },
    {
     "name": "stdout",
     "output_type": "stream",
     "text": [
      "https://locations.kfc.com/co/arvada/6390-sheridan-blvd Closed\n",
      "https://locations.kfc.com/co/aurora/24223-e-prospect-avenue Closed\n",
      "https://locations.kfc.com/co/aurora/6350-south-parker-road Closed\n",
      "https://locations.kfc.com/co/colorado-springs/4540-centennial-blvd Closed\n",
      "https://locations.kfc.com/co/colorado-springs/5550-e-woodmen-rd Closed\n",
      "https://locations.kfc.com/co/westminster/8471-church-ranch-blvd Closed\n",
      "co Closed: 6\n"
     ]
    },
    {
     "data": {
      "application/vnd.jupyter.widget-view+json": {
       "model_id": "9e4ab97fe4ee447f9141b95cd19af8ac",
       "version_major": 2,
       "version_minor": 0
      },
      "text/plain": [
       "Parsing Locations In ut:   0%|          | 0/30 [00:00<?, ?it/s]"
      ]
     },
     "metadata": {},
     "output_type": "display_data"
    },
    {
     "name": "stdout",
     "output_type": "stream",
     "text": [
      "https://locations.kfc.com/ut/salt-lake-city/2435-south-state-street Closed\n",
      "ut Closed: 1\n"
     ]
    },
    {
     "data": {
      "application/vnd.jupyter.widget-view+json": {
       "model_id": "e56a20f6540c4167ace42a2345e76bea",
       "version_major": 2,
       "version_minor": 0
      },
      "text/plain": [
       "Parsing Locations In tn:   0%|          | 0/88 [00:00<?, ?it/s]"
      ]
     },
     "metadata": {},
     "output_type": "display_data"
    },
    {
     "name": "stdout",
     "output_type": "stream",
     "text": [
      "https://locations.kfc.com/tn/clarksville/1879-madison-street Closed\n",
      "https://locations.kfc.com/tn/clarksville/781-north-2nd-street Closed\n",
      "https://locations.kfc.com/tn/dayton/3586-rhea-county-hwy-4072965250211272460 Closed\n",
      "tn Closed: 3\n"
     ]
    },
    {
     "data": {
      "application/vnd.jupyter.widget-view+json": {
       "model_id": "5b4fc8ffbbff4956aed69090f000a630",
       "version_major": 2,
       "version_minor": 0
      },
      "text/plain": [
       "Parsing Locations In wy:   0%|          | 0/7 [00:00<?, ?it/s]"
      ]
     },
     "metadata": {},
     "output_type": "display_data"
    },
    {
     "name": "stdout",
     "output_type": "stream",
     "text": [
      "wy Closed: 0\n"
     ]
    },
    {
     "data": {
      "application/vnd.jupyter.widget-view+json": {
       "model_id": "9824cc848c654d7b8bedcc6db8803d5f",
       "version_major": 2,
       "version_minor": 0
      },
      "text/plain": [
       "Parsing Locations In ny:   0%|          | 0/120 [00:00<?, ?it/s]"
      ]
     },
     "metadata": {},
     "output_type": "display_data"
    },
    {
     "name": "stdout",
     "output_type": "stream",
     "text": [
      "https://locations.kfc.com/ny/brooklyn/5219-5233-fifth-avenue Closed\n",
      "https://locations.kfc.com/ny/brooklyn/9201-5th-ave Closed\n",
      "https://locations.kfc.com/ny/flushing/158-05-union-turnpike Closed\n",
      "https://locations.kfc.com/ny/middle-village/62-02-fresh-pond-road-DUP_36829 Closed\n",
      "https://locations.kfc.com/ny/new-rochelle/490-north-avenue Closed\n",
      "https://locations.kfc.com/ny/new-york/2-penn-plaza Closed\n",
      "https://locations.kfc.com/ny/new-york/2755-broadway Closed\n",
      "https://locations.kfc.com/ny/new-york/761-seventh-avenue Closed\n",
      "https://locations.kfc.com/ny/staten-island/2655-richmond-avenue Closed\n",
      "ny Closed: 9\n"
     ]
    },
    {
     "data": {
      "application/vnd.jupyter.widget-view+json": {
       "model_id": "1b4ace18e31f4858be2f49ac62bb0cc8",
       "version_major": 2,
       "version_minor": 0
      },
      "text/plain": [
       "Parsing Locations In ks:   0%|          | 0/29 [00:00<?, ?it/s]"
      ]
     },
     "metadata": {},
     "output_type": "display_data"
    },
    {
     "name": "stdout",
     "output_type": "stream",
     "text": [
      "ks Closed: 0\n"
     ]
    },
    {
     "data": {
      "application/vnd.jupyter.widget-view+json": {
       "model_id": "bdb9f5e8e31244fd9ec220cbd0150f8f",
       "version_major": 2,
       "version_minor": 0
      },
      "text/plain": [
       "Parsing Locations In ak:   0%|          | 0/4 [00:00<?, ?it/s]"
      ]
     },
     "metadata": {},
     "output_type": "display_data"
    },
    {
     "name": "stdout",
     "output_type": "stream",
     "text": [
      "https://locations.kfc.com/ak/anchorage/123-west-northern-lights-blvd Closed\n",
      "https://locations.kfc.com/ak/fairbanks/62-college-road Closed\n",
      "ak Closed: 2\n"
     ]
    },
    {
     "data": {
      "application/vnd.jupyter.widget-view+json": {
       "model_id": "88725afb1963419aaa8e9d501d788ff5",
       "version_major": 2,
       "version_minor": 0
      },
      "text/plain": [
       "Parsing Locations In nv:   0%|          | 0/14 [00:00<?, ?it/s]"
      ]
     },
     "metadata": {},
     "output_type": "display_data"
    },
    {
     "name": "stdout",
     "output_type": "stream",
     "text": [
      "https://locations.kfc.com/nv/henderson/10510-south-eastern-avenue Closed\n",
      "https://locations.kfc.com/nv/las-vegas/10267-w-charleston-blvd Closed\n",
      "https://locations.kfc.com/nv/las-vegas/2355-e-windmill-lane Closed\n",
      "https://locations.kfc.com/nv/las-vegas/2400-north-rancho-drive-I678001 Closed\n",
      "https://locations.kfc.com/nv/las-vegas/2400-north-rancho-drive-I678001_DUP Closed\n",
      "https://locations.kfc.com/nv/las-vegas/2750-s-maryland-pkwy Closed\n",
      "https://locations.kfc.com/nv/las-vegas/4434-n-rancho-dr Closed\n",
      "https://locations.kfc.com/nv/las-vegas/71-north-nellis-blvd Closed\n",
      "https://locations.kfc.com/nv/north-las-vegas/3812-e-craig-road-food-court Closed\n",
      "nv Closed: 9\n"
     ]
    },
    {
     "data": {
      "application/vnd.jupyter.widget-view+json": {
       "model_id": "9ea679c5dbb5420e847313a427557414",
       "version_major": 2,
       "version_minor": 0
      },
      "text/plain": [
       "Parsing Locations In il:   0%|          | 0/94 [00:00<?, ?it/s]"
      ]
     },
     "metadata": {},
     "output_type": "display_data"
    },
    {
     "name": "stdout",
     "output_type": "stream",
     "text": [
      "https://locations.kfc.com/il/aurora/136-fox-valley-center Closed\n",
      "https://locations.kfc.com/il/chicago/100-w-randolph Closed\n",
      "https://locations.kfc.com/il/chicago/1600-w-marquette-road Closed\n",
      "https://locations.kfc.com/il/chicago/1914-west-79th-street Closed\n",
      "https://locations.kfc.com/il/chicago/8307-south-chicago-avenue Closed\n",
      "https://locations.kfc.com/il/joliet/3340-mall-loop-dr Closed\n",
      "https://locations.kfc.com/il/pontiac/1036-west-reynolds Closed\n",
      "il Closed: 7\n"
     ]
    },
    {
     "data": {
      "application/vnd.jupyter.widget-view+json": {
       "model_id": "ce6e76a2f5aa4f099cc2a3ff81e61b2e",
       "version_major": 2,
       "version_minor": 0
      },
      "text/plain": [
       "Parsing Locations In vt:   0%|          | 0/7 [00:00<?, ?it/s]"
      ]
     },
     "metadata": {},
     "output_type": "display_data"
    },
    {
     "name": "stdout",
     "output_type": "stream",
     "text": [
      "vt Closed: 0\n"
     ]
    },
    {
     "data": {
      "application/vnd.jupyter.widget-view+json": {
       "model_id": "9db0287f0427410f8b37ec2078d9ab34",
       "version_major": 2,
       "version_minor": 0
      },
      "text/plain": [
       "Parsing Locations In mt:   0%|          | 0/11 [00:00<?, ?it/s]"
      ]
     },
     "metadata": {},
     "output_type": "display_data"
    },
    {
     "name": "stdout",
     "output_type": "stream",
     "text": [
      "https://locations.kfc.com/mt/whitehall/1-commercial-way-S985042 Closed\n",
      "https://locations.kfc.com/mt/whitehall/1-commercial-way-E514001 Closed\n",
      "mt Closed: 2\n"
     ]
    },
    {
     "data": {
      "application/vnd.jupyter.widget-view+json": {
       "model_id": "a24cdd91d9ea4635ae0fe8a283520a6a",
       "version_major": 2,
       "version_minor": 0
      },
      "text/plain": [
       "Parsing Locations In ia:   0%|          | 0/32 [00:00<?, ?it/s]"
      ]
     },
     "metadata": {},
     "output_type": "display_data"
    },
    {
     "name": "stdout",
     "output_type": "stream",
     "text": [
      "https://locations.kfc.com/ia/cedar-rapids/1341-first-avenue-se Closed\n",
      "https://locations.kfc.com/ia/sioux-city/1500-hamilton-boulevard-C750137_DUP Closed\n",
      "ia Closed: 2\n"
     ]
    },
    {
     "data": {
      "application/vnd.jupyter.widget-view+json": {
       "model_id": "53de894a98704a7ba97f5a3ad76d824e",
       "version_major": 2,
       "version_minor": 0
      },
      "text/plain": [
       "Parsing Locations In sc:   0%|          | 0/74 [00:00<?, ?it/s]"
      ]
     },
     "metadata": {},
     "output_type": "display_data"
    },
    {
     "name": "stdout",
     "output_type": "stream",
     "text": [
      "https://locations.kfc.com/sc/duncan/1540-east-main-st-C426008 Closed\n",
      "sc Closed: 1\n"
     ]
    },
    {
     "data": {
      "application/vnd.jupyter.widget-view+json": {
       "model_id": "01991203e7ea49579272f7d7099eb9c4",
       "version_major": 2,
       "version_minor": 0
      },
      "text/plain": [
       "Parsing Locations In nh:   0%|          | 0/13 [00:00<?, ?it/s]"
      ]
     },
     "metadata": {},
     "output_type": "display_data"
    },
    {
     "name": "stdout",
     "output_type": "stream",
     "text": [
      "nh Closed: 0\n"
     ]
    },
    {
     "data": {
      "application/vnd.jupyter.widget-view+json": {
       "model_id": "fee0966b244d4774aa13fd1100ce6609",
       "version_major": 2,
       "version_minor": 0
      },
      "text/plain": [
       "Parsing Locations In az:   0%|          | 0/40 [00:00<?, ?it/s]"
      ]
     },
     "metadata": {},
     "output_type": "display_data"
    },
    {
     "name": "stdout",
     "output_type": "stream",
     "text": [
      "https://locations.kfc.com/az/gilbert/117-south-val-vista-drive Closed\n",
      "https://locations.kfc.com/az/glendale/6708-w-deer-valley-road-40476 Closed\n",
      "https://locations.kfc.com/az/glendale/6708-w-deer-valley-road-D212072 Closed\n",
      "https://locations.kfc.com/az/kingman/2302-hualapai-mountain-road Closed\n",
      "https://locations.kfc.com/az/mesa/6837-e-main-street Closed\n",
      "https://locations.kfc.com/az/peoria/7541-w-thunderbird-road Closed\n",
      "https://locations.kfc.com/az/peoria/9039-w-olive-avenue Closed\n",
      "https://locations.kfc.com/az/phoenix/2750-s-75th-ave Closed\n",
      "https://locations.kfc.com/az/phoenix/3914-east-chandler-blvd Closed\n",
      "https://locations.kfc.com/az/surprise/15504-w-bell-road Closed\n",
      "https://locations.kfc.com/az/tucson/2980-w-ina-rd Closed\n",
      "https://locations.kfc.com/az/tucson/3344-n-oracle-road Closed\n",
      "https://locations.kfc.com/az/tucson/5010-s-campbell-avenue Closed\n",
      "https://locations.kfc.com/az/tucson/6872-e-tanque-verde-road Closed\n",
      "az Closed: 14\n"
     ]
    },
    {
     "data": {
      "application/vnd.jupyter.widget-view+json": {
       "model_id": "b36d0642222d4e07aa8a96ac04e365cb",
       "version_major": 2,
       "version_minor": 0
      },
      "text/plain": [
       "Parsing Locations In dc:   0%|          | 0/1 [00:00<?, ?it/s]"
      ]
     },
     "metadata": {},
     "output_type": "display_data"
    },
    {
     "name": "stdout",
     "output_type": "stream",
     "text": [
      "https://locations.kfc.com/dc/washington/1944-bladensburg-rd-ne Closed\n",
      "https://locations.kfc.com/dc/washington/220-riggs-rd-ne Closed\n",
      "dc Closed: 2\n",
      "American Samoa\n",
      "United States Virgin Islands\n"
     ]
    },
    {
     "data": {
      "application/vnd.jupyter.widget-view+json": {
       "model_id": "828b0157b42b40fb9ac4b0cd5e0a454d",
       "version_major": 2,
       "version_minor": 0
      },
      "text/plain": [
       "Parsing Locations In nj:   0%|          | 0/53 [00:00<?, ?it/s]"
      ]
     },
     "metadata": {},
     "output_type": "display_data"
    },
    {
     "name": "stdout",
     "output_type": "stream",
     "text": [
      "https://locations.kfc.com/nj/paramus/440-forest-avenue Closed\n",
      "nj Closed: 1\n"
     ]
    },
    {
     "data": {
      "application/vnd.jupyter.widget-view+json": {
       "model_id": "76a9a14b281b469baa125001df0a6ba8",
       "version_major": 2,
       "version_minor": 0
      },
      "text/plain": [
       "Parsing Locations In md:   0%|          | 0/48 [00:00<?, ?it/s]"
      ]
     },
     "metadata": {},
     "output_type": "display_data"
    },
    {
     "name": "stdout",
     "output_type": "stream",
     "text": [
      "https://locations.kfc.com/md/baltimore/2205-e-joppa-rd Closed\n",
      "https://locations.kfc.com/md/baltimore/3710-pulaski-highway Closed\n",
      "https://locations.kfc.com/md/north-east/i-95-at-mile-marker-968-65 Closed\n",
      "md Closed: 3\n"
     ]
    },
    {
     "data": {
      "application/vnd.jupyter.widget-view+json": {
       "model_id": "b7839ad1d04f46fd89c1685d72538f59",
       "version_major": 2,
       "version_minor": 0
      },
      "text/plain": [
       "Parsing Locations In me:   0%|          | 0/17 [00:00<?, ?it/s]"
      ]
     },
     "metadata": {},
     "output_type": "display_data"
    },
    {
     "name": "stdout",
     "output_type": "stream",
     "text": [
      "https://locations.kfc.com/me/bangor/43-longview-drive Closed\n",
      "me Closed: 1\n"
     ]
    },
    {
     "data": {
      "application/vnd.jupyter.widget-view+json": {
       "model_id": "9f4fbe2278fb4ba4b09631a33f9a3a80",
       "version_major": 2,
       "version_minor": 0
      },
      "text/plain": [
       "Parsing Locations In hi:   0%|          | 0/12 [00:00<?, ?it/s]"
      ]
     },
     "metadata": {},
     "output_type": "display_data"
    },
    {
     "name": "stdout",
     "output_type": "stream",
     "text": [
      "https://locations.kfc.com/hi/honolulu/131-kaiulani-ave Closed\n",
      "https://locations.kfc.com/hi/kailua-kona/75-5595-palani-road Closed\n",
      "hi Closed: 2\n"
     ]
    },
    {
     "data": {
      "application/vnd.jupyter.widget-view+json": {
       "model_id": "e6d0b6890d28417fbdc6b928102eb4f4",
       "version_major": 2,
       "version_minor": 0
      },
      "text/plain": [
       "Parsing Locations In de:   0%|          | 0/11 [00:00<?, ?it/s]"
      ]
     },
     "metadata": {},
     "output_type": "display_data"
    },
    {
     "name": "stdout",
     "output_type": "stream",
     "text": [
      "https://locations.kfc.com/de/dover/1030-forrest-avenue Closed\n",
      "https://locations.kfc.com/de/wilmington/705-west-newport-pike Closed\n",
      "de Closed: 2\n",
      "Guam\n",
      "Commonwealth of the Northern Mariana Islands\n"
     ]
    },
    {
     "data": {
      "application/vnd.jupyter.widget-view+json": {
       "model_id": "d4c4f88ef6ee4167b0f311bad3b0cdd9",
       "version_major": 2,
       "version_minor": 0
      },
      "text/plain": [
       "Parsing Locations In ri:   0%|          | 0/16 [00:00<?, ?it/s]"
      ]
     },
     "metadata": {},
     "output_type": "display_data"
    },
    {
     "name": "stdout",
     "output_type": "stream",
     "text": [
      "ri Closed: 0\n"
     ]
    },
    {
     "data": {
      "application/vnd.jupyter.widget-view+json": {
       "model_id": "0250253284fa4be0adb0948d0422dc83",
       "version_major": 2,
       "version_minor": 0
      },
      "text/plain": [
       "Parsing Locations In ky:   0%|          | 0/79 [00:00<?, ?it/s]"
      ]
     },
     "metadata": {},
     "output_type": "display_data"
    },
    {
     "name": "stdout",
     "output_type": "stream",
     "text": [
      "https://locations.kfc.com/ky/brandenburg/1200-bypass-road Closed\n",
      "'NoneType' object has no attribute 'find_all' https://locations.kfc.com/ky/louisville/1441-gardiner-lane\n",
      "https://locations.kfc.com/ky/louisville/3905-taylorsville-rd Closed\n",
      "https://locations.kfc.com/ky/louisville/one-arena-plaza-58 Closed\n",
      "https://locations.kfc.com/ky/louisville/one-arena-plaza-59 Closed\n",
      "https://locations.kfc.com/ky/louisville/one-arena-plaza-60 Closed\n",
      "https://locations.kfc.com/ky/pikeville/28-weddington-branch-road Closed\n",
      "ky Closed: 6\n"
     ]
    },
    {
     "data": {
      "application/vnd.jupyter.widget-view+json": {
       "model_id": "0508f293531846a794f25ead649adb65",
       "version_major": 2,
       "version_minor": 0
      },
      "text/plain": [
       "Parsing Locations In oh:   0%|          | 0/149 [00:00<?, ?it/s]"
      ]
     },
     "metadata": {},
     "output_type": "display_data"
    },
    {
     "name": "stdout",
     "output_type": "stream",
     "text": [
      "https://locations.kfc.com/oh/broadview-heights/10037-broadview-road Closed\n",
      "https://locations.kfc.com/oh/broadview-heights/2000-w-edgerton-road Closed\n",
      "https://locations.kfc.com/oh/findlay/1225-tiffin-ave Closed\n",
      "https://locations.kfc.com/oh/toledo/5001-monroe-street Closed\n",
      "oh Closed: 4\n"
     ]
    },
    {
     "data": {
      "application/vnd.jupyter.widget-view+json": {
       "model_id": "3f75586a23b44169a98cfd0f1ccd04fa",
       "version_major": 2,
       "version_minor": 0
      },
      "text/plain": [
       "Parsing Locations In wi:   0%|          | 0/42 [00:00<?, ?it/s]"
      ]
     },
     "metadata": {},
     "output_type": "display_data"
    },
    {
     "name": "stdout",
     "output_type": "stream",
     "text": [
      "https://locations.kfc.com/wi/madison/4802-annamark-drive Closed\n",
      "https://locations.kfc.com/wi/waukesha/20351-w-bluemound-road Closed\n",
      "wi Closed: 2\n"
     ]
    },
    {
     "data": {
      "application/vnd.jupyter.widget-view+json": {
       "model_id": "3e53d3ff8833450087a93c3cfd9a4b09",
       "version_major": 2,
       "version_minor": 0
      },
      "text/plain": [
       "Parsing Locations In or:   0%|          | 0/36 [00:00<?, ?it/s]"
      ]
     },
     "metadata": {},
     "output_type": "display_data"
    },
    {
     "name": "stdout",
     "output_type": "stream",
     "text": [
      "https://locations.kfc.com/or/medford/308-barnett-road Closed\n",
      "https://locations.kfc.com/or/medford/390-east-mcandrews-road Closed\n",
      "or Closed: 2\n"
     ]
    },
    {
     "data": {
      "application/vnd.jupyter.widget-view+json": {
       "model_id": "2e0caf7289664e5b96fd0e2dd8e44d44",
       "version_major": 2,
       "version_minor": 0
      },
      "text/plain": [
       "Parsing Locations In nd:   0%|          | 0/8 [00:00<?, ?it/s]"
      ]
     },
     "metadata": {},
     "output_type": "display_data"
    },
    {
     "name": "stdout",
     "output_type": "stream",
     "text": [
      "nd Closed: 0\n"
     ]
    },
    {
     "data": {
      "application/vnd.jupyter.widget-view+json": {
       "model_id": "7d76954b92544462ad87033b48141b71",
       "version_major": 2,
       "version_minor": 0
      },
      "text/plain": [
       "Parsing Locations In ar:   0%|          | 0/43 [00:00<?, ?it/s]"
      ]
     },
     "metadata": {},
     "output_type": "display_data"
    },
    {
     "name": "stdout",
     "output_type": "stream",
     "text": [
      "https://locations.kfc.com/ar/fayetteville/2992-north-college-avenue Closed\n",
      "https://locations.kfc.com/ar/marion/3050-service-road-i-55 Closed\n",
      "ar Closed: 2\n"
     ]
    },
    {
     "data": {
      "application/vnd.jupyter.widget-view+json": {
       "model_id": "8ec6dd4a84974a6480613580a9a71ff3",
       "version_major": 2,
       "version_minor": 0
      },
      "text/plain": [
       "Parsing Locations In in:   0%|          | 0/78 [00:00<?, ?it/s]"
      ]
     },
     "metadata": {},
     "output_type": "display_data"
    },
    {
     "name": "stdout",
     "output_type": "stream",
     "text": [
      "https://locations.kfc.com/in/carmel/10575-n-michigan-road Closed\n",
      "https://locations.kfc.com/in/evansville/1201-covert-avenue Closed\n",
      "https://locations.kfc.com/in/indianapolis/7215-n-michigan-road Closed\n",
      "'NoneType' object has no attribute 'find_all' https://locations.kfc.com/in/indianapolis/8456-michigan-rd-H740024_D\n",
      "https://locations.kfc.com/in/jeffersonville/1426-east-tenth-street Closed\n",
      "https://locations.kfc.com/in/ligonier/241-us-highway-6-s-37838 Closed\n",
      "https://locations.kfc.com/in/ligonier/241-us-highway-6-s-C119015 Closed\n",
      "in Closed: 6\n"
     ]
    },
    {
     "data": {
      "application/vnd.jupyter.widget-view+json": {
       "model_id": "eeb372400b504dbb9dddf02d7fdc8b51",
       "version_major": 2,
       "version_minor": 0
      },
      "text/plain": [
       "Parsing Locations In mn:   0%|          | 0/40 [00:00<?, ?it/s]"
      ]
     },
     "metadata": {},
     "output_type": "display_data"
    },
    {
     "name": "stdout",
     "output_type": "stream",
     "text": [
      "mn Closed: 0\n"
     ]
    },
    {
     "data": {
      "application/vnd.jupyter.widget-view+json": {
       "model_id": "6f0b040d81404bc49ef20c5ec4f9d638",
       "version_major": 2,
       "version_minor": 0
      },
      "text/plain": [
       "Parsing Locations In ct:   0%|          | 0/33 [00:00<?, ?it/s]"
      ]
     },
     "metadata": {},
     "output_type": "display_data"
    },
    {
     "name": "stdout",
     "output_type": "stream",
     "text": [
      "https://locations.kfc.com/ct/norwalk/75-richards-ave-F033001 Closed\n",
      "ct Closed: 1\n"
     ]
    }
   ],
   "source": [
    "store_list = []\n",
    "url_base = \"https://locations.kfc.com/\"\n",
    "for i in tqdm(range(len(states_df)), desc=\"Parsing States\"):\n",
    "    # Get State code\n",
    "    state_store_list = []\n",
    "    state_code = states_df.iloc[i][\"STUSPS\"].lower()\n",
    "\n",
    "    # If File exists continue\n",
    "    if os.path.isfile(f\"data/states/{state_code}.gpkg\"):\n",
    "        continue\n",
    "\n",
    "    # Get all locations in a state\n",
    "    url = os.path.join(url_base, state_code)\n",
    "    r = scraper.get(url)\n",
    "\n",
    "    if r.status_code != 200:\n",
    "        print(states_df.iloc[i][\"NAME\"])\n",
    "        continue\n",
    "\n",
    "    soup = BeautifulSoup(r.text, \"html.parser\")\n",
    "    locations_as = soup.find_all(\"a\", {\"class\": \"Directory-listLink\"})\n",
    "\n",
    "    # Parse all locations in a state\n",
    "    closed = 0\n",
    "    for locations_a in tqdm(locations_as, desc=f\"Parsing Locations In {state_code}\"):\n",
    "        href = locations_a.attrs[\"href\"]\n",
    "        count = int(re.findall(r\"\\d+\", locations_a.attrs[\"data-count\"])[0])\n",
    "        location_url = url_base + href\n",
    "\n",
    "        if count == 1:\n",
    "            point = get_coords(location_url)\n",
    "            store_dict = {\n",
    "                \"STATE\": state_code,\n",
    "                \"geometry\": point,\n",
    "            }\n",
    "            store_list.append(store_dict)\n",
    "            state_store_list.append(store_dict)\n",
    "        else:\n",
    "            r_location = scraper.get(location_url)\n",
    "            location_soup = BeautifulSoup(r_location.text, \"html.parser\")\n",
    "            locations_lis = location_soup.find_all(\n",
    "                \"li\", {\"class\": \"Directory-listTeaser\"}\n",
    "            )\n",
    "\n",
    "            # Multiple stores in locations, parse the stores per location\n",
    "            for locations_li in locations_lis:\n",
    "                try:\n",
    "                    # Get url before open so I can print it to check if it's actually closed\n",
    "                    location_a = locations_li.find(\"a\", {\"class\": \"Teaser-titleLink\"})\n",
    "                    href = location_a.attrs[\"href\"]\n",
    "                    location_url = os.path.join(url_base, href.replace(\"../\", \"\"))\n",
    "\n",
    "                    # Determine if open\n",
    "                    div_teaser_open = locations_li.find(\"div\", {\"class\": \"Teaser-open\"})\n",
    "                    restaurant_open_b = restaurant_open(div_teaser_open)\n",
    "                    if not restaurant_open_b:\n",
    "                        print(location_url, \"Closed\")\n",
    "                        closed += 1\n",
    "                        continue\n",
    "\n",
    "                    point = get_coords(location_url)\n",
    "                    store_dict = {\n",
    "                        \"STATE\": state_code,\n",
    "                        \"geometry\": point,\n",
    "                    }\n",
    "                    store_list.append(store_dict)\n",
    "                    state_store_list.append(store_dict)\n",
    "                except Exception as e:\n",
    "                    print(e, location_url)\n",
    "                time.sleep(random.uniform(0.01, 0.5))\n",
    "\n",
    "    print(state_code, f\"Closed: {closed}\")\n",
    "    if state_store_list:\n",
    "        kfc_state_gdf = gpd.GeoDataFrame(state_store_list, crs=4326)\n",
    "        kfc_state_gdf.to_file(f\"data/states/{state_code}.gpkg\")"
   ]
  },
  {
   "cell_type": "markdown",
   "id": "f2e1d560-e60f-4655-9502-3ba103884809",
   "metadata": {},
   "source": [
    "#### If the above cells breaks just keep running until complete. Then run the line below"
   ]
  },
  {
   "cell_type": "code",
   "execution_count": 26,
   "id": "48487d99-9fc6-4650-9192-c142c5d86cc3",
   "metadata": {},
   "outputs": [],
   "source": [
    "kfc_state_gdfs = []\n",
    "states_path = \"data/states\"\n",
    "for file in os.listdir(\"data/states\"):\n",
    "    constructed_path = os.path.join(states_path, file)\n",
    "    if constructed_path.endswith(\".gpkg\"):\n",
    "        state_kfc_gdf = gpd.read_file(constructed_path)\n",
    "        kfc_state_gdfs.append(state_kfc_gdf)"
   ]
  },
  {
   "cell_type": "code",
   "execution_count": 27,
   "id": "4700ceff-80d8-4b4a-97af-f6d9c801c052",
   "metadata": {},
   "outputs": [],
   "source": [
    "kfc_state_gdf = gpd.GeoDataFrame(pd.concat(kfc_state_gdfs, ignore_index=True))"
   ]
  },
  {
   "cell_type": "code",
   "execution_count": 28,
   "id": "30cdf6ab-4324-457b-bfc1-215c1c9fe2ce",
   "metadata": {},
   "outputs": [],
   "source": [
    "kfc_state_gdf = kfc_state_gdf.to_crs(9311)\n",
    "kfc_state_gdf.to_file(f\"data/stores.gpkg\")"
   ]
  },
  {
   "cell_type": "markdown",
   "id": "94cb32a2-faf0-40fa-8616-e8f2275eca72",
   "metadata": {},
   "source": [
    "## Combine With States"
   ]
  },
  {
   "cell_type": "code",
   "execution_count": 29,
   "id": "eba6646a-fb99-4d01-9b3f-adf29223cb03",
   "metadata": {},
   "outputs": [],
   "source": [
    "kfc_state_counts_series = kfc_state_gdf.groupby(\"STATE\").size()\n",
    "kfc_state_counts_df = pd.DataFrame(\n",
    "    {\n",
    "        \"STUSPS\": kfc_state_counts_series.index,\n",
    "        \"stores\": kfc_state_counts_series.values,\n",
    "    }\n",
    ")"
   ]
  },
  {
   "cell_type": "code",
   "execution_count": 30,
   "id": "d0d5933d-9164-47af-8cd6-95632ca56726",
   "metadata": {},
   "outputs": [],
   "source": [
    "kfc_state_counts_df[\"STUSPS\"] = kfc_state_counts_df[\"STUSPS\"].str.upper()"
   ]
  },
  {
   "cell_type": "code",
   "execution_count": 31,
   "id": "c062806b-5f76-4d7e-a226-31383a266b6a",
   "metadata": {},
   "outputs": [],
   "source": [
    "kfc_state_counts_df = states_with_population_df.merge(\n",
    "    kfc_state_counts_df, on=\"STUSPS\", how=\"left\"\n",
    ")"
   ]
  },
  {
   "cell_type": "code",
   "execution_count": 32,
   "id": "300ee45e-48b8-48f6-9a3a-efd4904a5efe",
   "metadata": {},
   "outputs": [],
   "source": [
    "kfc_state_counts_df = kfc_state_counts_df.fillna(0)\n",
    "kfc_state_counts_df[\"stores\"] = kfc_state_counts_df[\"stores\"].astype(int)"
   ]
  },
  {
   "cell_type": "code",
   "execution_count": 33,
   "id": "8e8b581c-4e0c-40b8-81a9-4ea014470b40",
   "metadata": {},
   "outputs": [],
   "source": [
    "kfc_state_counts_df[\"per_100k\"] = kfc_state_counts_df[\"stores\"] / (\n",
    "    kfc_state_counts_df[\"POPULATION\"] / 100000\n",
    ")\n",
    "kfc_state_counts_df[\"per_1m\"] = kfc_state_counts_df[\"stores\"] / (\n",
    "    kfc_state_counts_df[\"POPULATION\"] / 1_000_000\n",
    ")"
   ]
  },
  {
   "cell_type": "code",
   "execution_count": 34,
   "id": "237a0e6a-ccc2-4f3b-baad-d36ce4ecc481",
   "metadata": {},
   "outputs": [],
   "source": [
    "kfc_state_counts_df = kfc_state_counts_df.dropna()"
   ]
  },
  {
   "cell_type": "code",
   "execution_count": 35,
   "id": "944acfaa-313b-4a9f-aecc-53fe95e188be",
   "metadata": {},
   "outputs": [],
   "source": [
    "kfc_state_counts_df = kfc_state_counts_df.to_crs(9311)\n",
    "kfc_state_counts_df.to_file(f\"data/stores_by_states.gpkg\")"
   ]
  },
  {
   "cell_type": "code",
   "execution_count": null,
   "id": "3eba1b99-001c-4de4-9fe1-1a06ea51e118",
   "metadata": {},
   "outputs": [],
   "source": []
  },
  {
   "cell_type": "code",
   "execution_count": null,
   "id": "4fa2d685-c11d-4508-9fe3-94f1007de6d2",
   "metadata": {},
   "outputs": [],
   "source": []
  }
 ],
 "metadata": {
  "kernelspec": {
   "display_name": "Python 3 (ipykernel)",
   "language": "python",
   "name": "python3"
  },
  "language_info": {
   "codemirror_mode": {
    "name": "ipython",
    "version": 3
   },
   "file_extension": ".py",
   "mimetype": "text/x-python",
   "name": "python",
   "nbconvert_exporter": "python",
   "pygments_lexer": "ipython3",
   "version": "3.11.11"
  }
 },
 "nbformat": 4,
 "nbformat_minor": 5
}
