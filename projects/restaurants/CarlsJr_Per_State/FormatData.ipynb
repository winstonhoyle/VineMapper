{
 "cells": [
  {
   "cell_type": "code",
   "execution_count": 16,
   "id": "b204414f-bb97-4de5-8393-8a83aa996be2",
   "metadata": {},
   "outputs": [],
   "source": [
    "import os"
   ]
  },
  {
   "cell_type": "code",
   "execution_count": 17,
   "id": "bc436e38-234d-44fd-b67b-d1f2974606d3",
   "metadata": {},
   "outputs": [],
   "source": [
    "from bs4 import BeautifulSoup\n",
    "import cloudscraper\n",
    "import geopandas as gpd\n",
    "import numpy as np\n",
    "import pandas as pd"
   ]
  },
  {
   "cell_type": "code",
   "execution_count": 18,
   "id": "13bbdea5-6ae9-4a3a-937a-12bb704da0f4",
   "metadata": {},
   "outputs": [],
   "source": [
    "from shapely.geometry import Point\n",
    "from tqdm.notebook import tqdm"
   ]
  },
  {
   "cell_type": "markdown",
   "id": "44a3df26-78d3-479c-99a2-c0e1ba91352e",
   "metadata": {},
   "source": [
    "## Get State Data"
   ]
  },
  {
   "cell_type": "code",
   "execution_count": 19,
   "id": "615eeabf-033b-425a-a81f-d7b4dd9e3a3e",
   "metadata": {},
   "outputs": [],
   "source": [
    "file_path = \"data/cb_2018_us_state_500k/cb_2018_us_state_500k.shp\"\n",
    "states_df = gpd.read_file(file_path)"
   ]
  },
  {
   "cell_type": "code",
   "execution_count": 20,
   "id": "502c6bfe-0912-4d37-95b0-47e7a14b468f",
   "metadata": {},
   "outputs": [],
   "source": [
    "states_df = states_df[[\"STUSPS\", \"NAME\", \"geometry\"]]"
   ]
  },
  {
   "cell_type": "markdown",
   "id": "4257620c-13d7-4071-bae2-a5a2aeae5ba7",
   "metadata": {},
   "source": [
    "## Get Population data"
   ]
  },
  {
   "cell_type": "code",
   "execution_count": 21,
   "id": "6c0e7a1d-5a9a-4c10-a5d4-28dc681a8a27",
   "metadata": {},
   "outputs": [],
   "source": [
    "state_populations = pd.read_excel(\n",
    "    \"data/NST-EST2024-POP.xlsx\", sheet_name=None, engine=\"openpyxl\"\n",
    ")"
   ]
  },
  {
   "cell_type": "code",
   "execution_count": 22,
   "id": "2614c2ab-96ec-4304-a287-6fd013fedbbb",
   "metadata": {},
   "outputs": [],
   "source": [
    "state_populations_df = state_populations[\"NST-EST2024-POP\"][\n",
    "    [\n",
    "        \"table with row headers in column A and column headers in rows 3 through 4. (leading dots indicate sub-parts)\",\n",
    "        \"Unnamed: 5\",\n",
    "    ]\n",
    "]\n",
    "state_populations_df = state_populations_df.rename(\n",
    "    columns={\n",
    "        \"table with row headers in column A and column headers in rows 3 through 4. (leading dots indicate sub-parts)\": \"NAME\",\n",
    "        \"Unnamed: 5\": \"POPULATION\",\n",
    "    }\n",
    ")\n",
    "state_populations_df[\"NAME\"] = state_populations_df[\"NAME\"].str[1:]"
   ]
  },
  {
   "cell_type": "code",
   "execution_count": 23,
   "id": "2a1a8b6e-a0bf-486b-b62e-46a23ca718e2",
   "metadata": {},
   "outputs": [],
   "source": [
    "states_with_population_df = states_df.merge(state_populations_df, on=\"NAME\", how=\"left\")\n",
    "states_with_population_df = states_with_population_df[\n",
    "    [\"STUSPS\", \"NAME\", \"POPULATION\", \"geometry\"]\n",
    "]"
   ]
  },
  {
   "cell_type": "markdown",
   "id": "6d2f1ce9-a36c-4292-99a0-ad42032c5ad4",
   "metadata": {},
   "source": [
    "## Get Carls Jr Data"
   ]
  },
  {
   "cell_type": "code",
   "execution_count": 24,
   "id": "9faa75ce-1dcd-44bc-84f2-6eb1011f9727",
   "metadata": {},
   "outputs": [],
   "source": [
    "scraper = cloudscraper.create_scraper()"
   ]
  },
  {
   "cell_type": "code",
   "execution_count": 74,
   "id": "57180847-49ee-46cc-9612-bfebcd53bed2",
   "metadata": {},
   "outputs": [
    {
     "data": {
      "application/vnd.jupyter.widget-view+json": {
       "model_id": "19d622aaddb34ad88bbca2f14d8aaf6b",
       "version_major": 2,
       "version_minor": 0
      },
      "text/plain": [
       "Parsing States:   0%|          | 0/16 [00:00<?, ?it/s]"
      ]
     },
     "metadata": {},
     "output_type": "display_data"
    },
    {
     "data": {
      "application/vnd.jupyter.widget-view+json": {
       "model_id": "66b37ee042304914bce06085b3be79e4",
       "version_major": 2,
       "version_minor": 0
      },
      "text/plain": [
       "Parsing Locations In CA:   0%|          | 0/321 [00:00<?, ?it/s]"
      ]
     },
     "metadata": {},
     "output_type": "display_data"
    },
    {
     "data": {
      "application/vnd.jupyter.widget-view+json": {
       "model_id": "c92da31c7afd4ab3bffe58ac8146d2c9",
       "version_major": 2,
       "version_minor": 0
      },
      "text/plain": [
       "Parsing Locations In CO:   0%|          | 0/29 [00:00<?, ?it/s]"
      ]
     },
     "metadata": {},
     "output_type": "display_data"
    },
    {
     "data": {
      "application/vnd.jupyter.widget-view+json": {
       "model_id": "e85ea6ccccb64161a1b4de727300f25f",
       "version_major": 2,
       "version_minor": 0
      },
      "text/plain": [
       "Parsing Locations In FL:   0%|          | 0/1 [00:00<?, ?it/s]"
      ]
     },
     "metadata": {},
     "output_type": "display_data"
    },
    {
     "data": {
      "application/vnd.jupyter.widget-view+json": {
       "model_id": "b78aa51c1fea4fe09e91bab2971cd7dc",
       "version_major": 2,
       "version_minor": 0
      },
      "text/plain": [
       "Parsing Locations In HI:   0%|          | 0/2 [00:00<?, ?it/s]"
      ]
     },
     "metadata": {},
     "output_type": "display_data"
    },
    {
     "data": {
      "application/vnd.jupyter.widget-view+json": {
       "model_id": "1927922511ca4322a4cf6d722f3d45ee",
       "version_major": 2,
       "version_minor": 0
      },
      "text/plain": [
       "Parsing Locations In ID:   0%|          | 0/12 [00:00<?, ?it/s]"
      ]
     },
     "metadata": {},
     "output_type": "display_data"
    },
    {
     "data": {
      "application/vnd.jupyter.widget-view+json": {
       "model_id": "79f99bc497c049d38b00809e97a58521",
       "version_major": 2,
       "version_minor": 0
      },
      "text/plain": [
       "Parsing Locations In LA:   0%|          | 0/1 [00:00<?, ?it/s]"
      ]
     },
     "metadata": {},
     "output_type": "display_data"
    },
    {
     "data": {
      "application/vnd.jupyter.widget-view+json": {
       "model_id": "007350a37b5f4814aa8e7149f9cd78b1",
       "version_major": 2,
       "version_minor": 0
      },
      "text/plain": [
       "Parsing Locations In NM:   0%|          | 0/9 [00:00<?, ?it/s]"
      ]
     },
     "metadata": {},
     "output_type": "display_data"
    },
    {
     "data": {
      "application/vnd.jupyter.widget-view+json": {
       "model_id": "f497a09c92a54ed0899e854f2eb0c01e",
       "version_major": 2,
       "version_minor": 0
      },
      "text/plain": [
       "Parsing Locations In NV:   0%|          | 0/9 [00:00<?, ?it/s]"
      ]
     },
     "metadata": {},
     "output_type": "display_data"
    },
    {
     "data": {
      "application/vnd.jupyter.widget-view+json": {
       "model_id": "996889d9d2a2406c8b0d84566e028cc2",
       "version_major": 2,
       "version_minor": 0
      },
      "text/plain": [
       "Parsing Locations In OK:   0%|          | 0/23 [00:00<?, ?it/s]"
      ]
     },
     "metadata": {},
     "output_type": "display_data"
    },
    {
     "data": {
      "application/vnd.jupyter.widget-view+json": {
       "model_id": "97a15f1ba12243df9e7dd37b2be83771",
       "version_major": 2,
       "version_minor": 0
      },
      "text/plain": [
       "Parsing Locations In OR:   0%|          | 0/32 [00:00<?, ?it/s]"
      ]
     },
     "metadata": {},
     "output_type": "display_data"
    },
    {
     "data": {
      "application/vnd.jupyter.widget-view+json": {
       "model_id": "ae0b86b8066b4492967c9160add49644",
       "version_major": 2,
       "version_minor": 0
      },
      "text/plain": [
       "Parsing Locations In TX:   0%|          | 0/19 [00:00<?, ?it/s]"
      ]
     },
     "metadata": {},
     "output_type": "display_data"
    },
    {
     "data": {
      "application/vnd.jupyter.widget-view+json": {
       "model_id": "4a54bdf4f16a4ee1ab10c3cf0d052c2c",
       "version_major": 2,
       "version_minor": 0
      },
      "text/plain": [
       "Parsing Locations In UT:   0%|          | 0/33 [00:00<?, ?it/s]"
      ]
     },
     "metadata": {},
     "output_type": "display_data"
    },
    {
     "data": {
      "application/vnd.jupyter.widget-view+json": {
       "model_id": "868fb8ce96274295a048a3af28e1f792",
       "version_major": 2,
       "version_minor": 0
      },
      "text/plain": [
       "Parsing Locations In WA:   0%|          | 0/27 [00:00<?, ?it/s]"
      ]
     },
     "metadata": {},
     "output_type": "display_data"
    },
    {
     "data": {
      "application/vnd.jupyter.widget-view+json": {
       "model_id": "69aadfbd699243e3918f879745c4bed8",
       "version_major": 2,
       "version_minor": 0
      },
      "text/plain": [
       "Parsing Locations In WY:   0%|          | 0/3 [00:00<?, ?it/s]"
      ]
     },
     "metadata": {},
     "output_type": "display_data"
    }
   ],
   "source": [
    "store_list = []\n",
    "url_base = \"https://locations.carlsjr.com/\"\n",
    "r = scraper.get(url_base)\n",
    "states_soup = BeautifulSoup(r.text, \"html.parser\")\n",
    "states_a = states_soup.find_all(\"a\", {\"class\": \"Directory-listLink\"})\n",
    "for state_a in tqdm(states_a, desc=\"Parsing States\"):\n",
    "    state_name = state_a.text\n",
    "    state_url = state_a.attrs[\"href\"]\n",
    "    state_code = states_with_population_df[\n",
    "        states_with_population_df[\"NAME\"] == state_name\n",
    "    ].iloc[0][\"STUSPS\"]\n",
    "\n",
    "    # Get State code\n",
    "    state_store_list = []\n",
    "\n",
    "    # If File exists continue\n",
    "    if os.path.isfile(f\"data/states/{state_code}.gpkg\"):\n",
    "        continue\n",
    "\n",
    "    # Get all locations in a state\n",
    "    r_state_locations = scraper.get(state_url)\n",
    "\n",
    "    if r_state_locations.status_code != 200:\n",
    "        print(state_code)\n",
    "        continue\n",
    "\n",
    "    state_locations_soup = BeautifulSoup(r_state_locations.text, \"html.parser\")\n",
    "    locations_as = state_locations_soup.find_all(\"a\", {\"class\": \"Directory-listLink\"})\n",
    "\n",
    "    # Parse all locations in a state\n",
    "    for locations_a in tqdm(locations_as, desc=f\"Parsing Locations In {state_code}\"):\n",
    "        location_url = locations_a.attrs[\"href\"]\n",
    "\n",
    "        r_location = scraper.get(location_url)\n",
    "        location_soup = BeautifulSoup(r_location.text, \"html.parser\")\n",
    "        store_as = location_soup.find_all(\"a\", {\"class\": \"Teaser-ctaLink\"})\n",
    "\n",
    "        # Parse through all stores\n",
    "        for store_a in store_as:\n",
    "            store_url = store_a.attrs[\"href\"]\n",
    "            r_store = scraper.get(store_url)\n",
    "            store_soup = BeautifulSoup(r_store.text, \"html.parser\")\n",
    "\n",
    "            try:\n",
    "                lat = float(\n",
    "                    store_soup.find(\n",
    "                        \"meta\", {\"property\": \"place:location:latitude\"}\n",
    "                    ).attrs[\"content\"]\n",
    "                )\n",
    "                lon = float(\n",
    "                    store_soup.find(\n",
    "                        \"meta\", {\"property\": \"place:location:longitude\"}\n",
    "                    ).attrs[\"content\"]\n",
    "                )\n",
    "            except Exception as e:\n",
    "                print(e)\n",
    "                print(store_url)\n",
    "            point = Point(lon, lat)\n",
    "            store_dict = {\n",
    "                \"STATE\": state_code,\n",
    "                \"geometry\": point,\n",
    "            }\n",
    "            store_list.append(store_dict)\n",
    "            state_store_list.append(store_dict)\n",
    "\n",
    "    if state_store_list:\n",
    "        carls_jr_state_gdf = gpd.GeoDataFrame(state_store_list, crs=4326)\n",
    "        carls_jr_state_gdf.to_file(f\"data/states/{state_code}.gpkg\")"
   ]
  },
  {
   "cell_type": "markdown",
   "id": "f2e1d560-e60f-4655-9502-3ba103884809",
   "metadata": {},
   "source": [
    "#### If the above cells breaks just keep running until complete. Then run the line below"
   ]
  },
  {
   "cell_type": "code",
   "execution_count": 75,
   "id": "48487d99-9fc6-4650-9192-c142c5d86cc3",
   "metadata": {},
   "outputs": [],
   "source": [
    "carls_jr_state_gdfs = []\n",
    "states_path = \"data/states\"\n",
    "for file in os.listdir(\"data/states\"):\n",
    "    constructed_path = os.path.join(states_path, file)\n",
    "    if constructed_path.endswith(\".gpkg\"):\n",
    "        state_carls_jr_gdf = gpd.read_file(constructed_path)\n",
    "        carls_jr_state_gdfs.append(state_carls_jr_gdf)"
   ]
  },
  {
   "cell_type": "code",
   "execution_count": 76,
   "id": "4700ceff-80d8-4b4a-97af-f6d9c801c052",
   "metadata": {},
   "outputs": [],
   "source": [
    "carls_jr_state_gdf = gpd.GeoDataFrame(pd.concat(carls_jr_state_gdfs, ignore_index=True))"
   ]
  },
  {
   "cell_type": "code",
   "execution_count": 78,
   "id": "30cdf6ab-4324-457b-bfc1-215c1c9fe2ce",
   "metadata": {},
   "outputs": [],
   "source": [
    "carls_jr_state_gdf = carls_jr_state_gdf.to_crs(9311)\n",
    "carls_jr_state_gdf.to_file(f\"data/carlsjr.gpkg\")"
   ]
  },
  {
   "cell_type": "markdown",
   "id": "94cb32a2-faf0-40fa-8616-e8f2275eca72",
   "metadata": {},
   "source": [
    "## Combine With States"
   ]
  },
  {
   "cell_type": "code",
   "execution_count": 128,
   "id": "eba6646a-fb99-4d01-9b3f-adf29223cb03",
   "metadata": {},
   "outputs": [],
   "source": [
    "carls_jr_state_counts_series = carls_jr_state_gdf.groupby(\"STATE\").size()\n",
    "carls_jr_state_state_counts_df = pd.DataFrame(\n",
    "    {\n",
    "        \"STUSPS\": carls_jr_state_counts_series.index,\n",
    "        \"stores\": carls_jr_state_counts_series.values,\n",
    "    }\n",
    ")"
   ]
  },
  {
   "cell_type": "code",
   "execution_count": 129,
   "id": "d0d5933d-9164-47af-8cd6-95632ca56726",
   "metadata": {},
   "outputs": [],
   "source": [
    "carls_jr_state_state_counts_df[\"STUSPS\"] = carls_jr_state_state_counts_df[\n",
    "    \"STUSPS\"\n",
    "].str.upper()"
   ]
  },
  {
   "cell_type": "code",
   "execution_count": 130,
   "id": "c062806b-5f76-4d7e-a226-31383a266b6a",
   "metadata": {},
   "outputs": [],
   "source": [
    "carls_jr_state_state_counts_gdf = states_with_population_df.merge(\n",
    "    carls_jr_state_state_counts_df, on=\"STUSPS\", how=\"left\"\n",
    ")"
   ]
  },
  {
   "cell_type": "code",
   "execution_count": 131,
   "id": "300ee45e-48b8-48f6-9a3a-efd4904a5efe",
   "metadata": {},
   "outputs": [],
   "source": [
    "carls_jr_state_state_counts_gdf = carls_jr_state_state_counts_gdf.fillna(0)\n",
    "carls_jr_state_state_counts_gdf[\"stores\"] = carls_jr_state_state_counts_gdf[\n",
    "    \"stores\"\n",
    "].astype(int)"
   ]
  },
  {
   "cell_type": "code",
   "execution_count": 132,
   "id": "8e8b581c-4e0c-40b8-81a9-4ea014470b40",
   "metadata": {},
   "outputs": [],
   "source": [
    "carls_jr_state_state_counts_gdf[\"per_1000\"] = carls_jr_state_state_counts_gdf[\n",
    "    \"stores\"\n",
    "] / (carls_jr_state_state_counts_gdf[\"POPULATION\"] / 1000)\n",
    "carls_jr_state_state_counts_gdf[\"per_10k\"] = carls_jr_state_state_counts_gdf[\n",
    "    \"stores\"\n",
    "] / (carls_jr_state_state_counts_gdf[\"POPULATION\"] / 10_000)\n",
    "carls_jr_state_state_counts_gdf[\"per_100k\"] = (\n",
    "    carls_jr_state_state_counts_gdf[\"stores\"]\n",
    "    / (carls_jr_state_state_counts_gdf[\"POPULATION\"] / 100000)\n",
    ").round(decimals=2)\n",
    "\n",
    "carls_jr_state_state_counts_gdf[\"per_500k\"] = (\n",
    "    carls_jr_state_state_counts_gdf[\"stores\"]\n",
    "    / (carls_jr_state_state_counts_gdf[\"POPULATION\"] / 500_000)\n",
    ").round(decimals=2)\n",
    "\n",
    "carls_jr_state_state_counts_gdf[\"per_1m\"] = (\n",
    "    carls_jr_state_state_counts_gdf[\"stores\"]\n",
    "    / (carls_jr_state_state_counts_gdf[\"POPULATION\"] / 1_000_000)\n",
    ").round(decimals=2)\n",
    "\n",
    "carls_jr_state_state_counts_gdf[\"people_per_store\"] = (\n",
    "    carls_jr_state_state_counts_gdf[\"POPULATION\"]\n",
    "    / carls_jr_state_state_counts_gdf[\"stores\"]\n",
    ").round(decimals=2)"
   ]
  },
  {
   "cell_type": "code",
   "execution_count": 133,
   "id": "92f3e01f-9b69-4511-b20c-9964e06ab29b",
   "metadata": {},
   "outputs": [],
   "source": [
    "carls_jr_state_state_counts_gdf.replace([np.inf, -np.inf], 0, inplace=True)"
   ]
  },
  {
   "cell_type": "code",
   "execution_count": 135,
   "id": "fba7541b-3a18-42b5-9bae-b10826002e3b",
   "metadata": {},
   "outputs": [],
   "source": [
    "carls_jr_state_state_counts_gdf = carls_jr_state_state_counts_gdf.dropna()"
   ]
  },
  {
   "cell_type": "code",
   "execution_count": 136,
   "id": "6741ca4e-c605-4b01-b942-b2de84d9847d",
   "metadata": {},
   "outputs": [],
   "source": [
    "carls_jr_state_state_counts_gdf[\"people_per_store\"] = carls_jr_state_state_counts_gdf[\n",
    "    \"people_per_store\"\n",
    "].astype(int)"
   ]
  },
  {
   "cell_type": "code",
   "execution_count": 137,
   "id": "cc0d9bd8-54c9-4303-814e-b722562b3ada",
   "metadata": {},
   "outputs": [],
   "source": [
    "carls_jr_state_state_counts_gdf = carls_jr_state_state_counts_gdf.dropna()"
   ]
  },
  {
   "cell_type": "code",
   "execution_count": 138,
   "id": "944acfaa-313b-4a9f-aecc-53fe95e188be",
   "metadata": {},
   "outputs": [],
   "source": [
    "carls_jr_state_state_counts_gdf = carls_jr_state_state_counts_gdf.to_crs(9311)\n",
    "carls_jr_state_state_counts_gdf.to_file(f\"data/carls_jrs_per_state.gpkg\")"
   ]
  },
  {
   "cell_type": "code",
   "execution_count": null,
   "id": "3eba1b99-001c-4de4-9fe1-1a06ea51e118",
   "metadata": {},
   "outputs": [],
   "source": []
  }
 ],
 "metadata": {
  "kernelspec": {
   "display_name": "Python 3 (ipykernel)",
   "language": "python",
   "name": "python3"
  },
  "language_info": {
   "codemirror_mode": {
    "name": "ipython",
    "version": 3
   },
   "file_extension": ".py",
   "mimetype": "text/x-python",
   "name": "python",
   "nbconvert_exporter": "python",
   "pygments_lexer": "ipython3",
   "version": "3.11.11"
  }
 },
 "nbformat": 4,
 "nbformat_minor": 5
}
