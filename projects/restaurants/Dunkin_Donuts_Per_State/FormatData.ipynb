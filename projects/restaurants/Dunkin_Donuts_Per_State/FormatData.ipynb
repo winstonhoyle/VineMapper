{
 "cells": [
  {
   "cell_type": "code",
   "execution_count": 1,
   "id": "c86ad9f6-4aaf-469e-a56e-363083168e1e",
   "metadata": {},
   "outputs": [],
   "source": [
    "import json\n",
    "import os\n",
    "import re"
   ]
  },
  {
   "cell_type": "code",
   "execution_count": 2,
   "id": "10fa1d09-7717-4ea8-9ce7-1cef37b4da9c",
   "metadata": {},
   "outputs": [],
   "source": [
    "import cloudscraper\n",
    "from bs4 import BeautifulSoup\n",
    "import geopandas as gpd\n",
    "import pandas as pd\n",
    "import h3"
   ]
  },
  {
   "cell_type": "code",
   "execution_count": 3,
   "id": "d22202a0-bf3c-4953-81ce-105a19e002a0",
   "metadata": {},
   "outputs": [],
   "source": [
    "from shapely.geometry import Point\n",
    "from tqdm.notebook import tqdm"
   ]
  },
  {
   "cell_type": "markdown",
   "id": "02e1dfb5-464d-4984-8c84-5599ce9dcd5d",
   "metadata": {},
   "source": [
    "## Get State Data"
   ]
  },
  {
   "cell_type": "code",
   "execution_count": 4,
   "id": "84b53c65-5746-4ab8-8c99-6dfe3e967797",
   "metadata": {},
   "outputs": [],
   "source": [
    "file_path = \"data/cb_2018_us_state_500k/cb_2018_us_state_500k.shp\"\n",
    "states_df = gpd.read_file(file_path)"
   ]
  },
  {
   "cell_type": "code",
   "execution_count": 5,
   "id": "191755a6-eb92-4683-833e-b69f4be9f3f5",
   "metadata": {},
   "outputs": [],
   "source": [
    "states_df = states_df[[\"STUSPS\", \"NAME\", \"geometry\"]]"
   ]
  },
  {
   "cell_type": "markdown",
   "id": "f3ad4feb-2496-4c2f-827b-04c586ef17ba",
   "metadata": {},
   "source": [
    "## Get Dunkin Data"
   ]
  },
  {
   "cell_type": "code",
   "execution_count": 6,
   "id": "4c063aa4-d1b0-400e-a449-8125a2a0596a",
   "metadata": {},
   "outputs": [],
   "source": [
    "scraper = cloudscraper.create_scraper()"
   ]
  },
  {
   "cell_type": "code",
   "execution_count": 7,
   "id": "267af8f6-5ae7-4c32-864b-5f970236c8b8",
   "metadata": {},
   "outputs": [],
   "source": [
    "def get_coords(store_url: str) -> Point:\n",
    "    r = scraper.get(store_url)\n",
    "    soup = BeautifulSoup(r.text, \"html.parser\")\n",
    "    lat = float(\n",
    "        re.search(r'\"latitude\"\\s*:\\s*([-]?\\d+\\.\\d+)', soup.find(\"script\").text).group(1)\n",
    "    )\n",
    "    lon = float(\n",
    "        re.search(r'\"longitude\"\\s*:\\s*([-]?\\d+\\.\\d+)', soup.find(\"script\").text).group(\n",
    "            1\n",
    "        )\n",
    "    )\n",
    "    return Point(lon, lat)"
   ]
  },
  {
   "cell_type": "code",
   "execution_count": 17,
   "id": "b1793bb5-26c3-4408-8572-175ba688bb03",
   "metadata": {},
   "outputs": [
    {
     "data": {
      "application/vnd.jupyter.widget-view+json": {
       "model_id": "a4dca6a504d04c83b82219be71c0baad",
       "version_major": 2,
       "version_minor": 0
      },
      "text/plain": [
       "Parsing States:   0%|          | 0/56 [00:00<?, ?it/s]"
      ]
     },
     "metadata": {},
     "output_type": "display_data"
    },
    {
     "data": {
      "application/vnd.jupyter.widget-view+json": {
       "model_id": "b58ff24a5bfc4c788b98b373daee3fc4",
       "version_major": 2,
       "version_minor": 0
      },
      "text/plain": [
       "Parsing Locations in nc:   0%|          | 0/111 [00:00<?, ?it/s]"
      ]
     },
     "metadata": {},
     "output_type": "display_data"
    },
    {
     "name": "stdout",
     "output_type": "stream",
     "text": [
      "229 stores\n"
     ]
    },
    {
     "data": {
      "application/vnd.jupyter.widget-view+json": {
       "model_id": "253bdae610a146849cb76eb46b93885c",
       "version_major": 2,
       "version_minor": 0
      },
      "text/plain": [
       "Parsing Locations in ok:   0%|          | 0/13 [00:00<?, ?it/s]"
      ]
     },
     "metadata": {},
     "output_type": "display_data"
    },
    {
     "name": "stdout",
     "output_type": "stream",
     "text": [
      "23 stores\n"
     ]
    },
    {
     "data": {
      "application/vnd.jupyter.widget-view+json": {
       "model_id": "e2e5b005de6d48e6b52aab82fd18d962",
       "version_major": 2,
       "version_minor": 0
      },
      "text/plain": [
       "Parsing Locations in va:   0%|          | 0/101 [00:00<?, ?it/s]"
      ]
     },
     "metadata": {},
     "output_type": "display_data"
    },
    {
     "name": "stdout",
     "output_type": "stream",
     "text": [
      "'NoneType' object has no attribute 'group' https://locations.dunkindonuts.com/en/va/fort-belvoir/7500-heller-loop/349159\n",
      "'NoneType' object has no attribute 'group' https://locations.dunkindonuts.com/en/va/norfolk/2336-east-little-creek-road/363627\n",
      "242 stores\n"
     ]
    },
    {
     "data": {
      "application/vnd.jupyter.widget-view+json": {
       "model_id": "d15cd3246ab644ee8e61b65afb59d237",
       "version_major": 2,
       "version_minor": 0
      },
      "text/plain": [
       "Parsing Locations in wv:   0%|          | 0/22 [00:00<?, ?it/s]"
      ]
     },
     "metadata": {},
     "output_type": "display_data"
    },
    {
     "name": "stdout",
     "output_type": "stream",
     "text": [
      "'NoneType' object has no attribute 'group' https://locations.dunkindonuts.com/en/wv/barboursville/8224-us-route-60/362521\n",
      "33 stores\n"
     ]
    },
    {
     "data": {
      "application/vnd.jupyter.widget-view+json": {
       "model_id": "05d0b259d2ef49b4875b954c3d3c5269",
       "version_major": 2,
       "version_minor": 0
      },
      "text/plain": [
       "Parsing Locations in la:   0%|          | 0/12 [00:00<?, ?it/s]"
      ]
     },
     "metadata": {},
     "output_type": "display_data"
    },
    {
     "name": "stdout",
     "output_type": "stream",
     "text": [
      "'NoneType' object has no attribute 'group' https://locations.dunkindonuts.com/en/la/lake-charles/4990-e-mcneese-st/358017\n",
      "15 stores\n"
     ]
    },
    {
     "data": {
      "application/vnd.jupyter.widget-view+json": {
       "model_id": "cff0c1de887e48f7809947e511985d76",
       "version_major": 2,
       "version_minor": 0
      },
      "text/plain": [
       "Parsing Locations in mi:   0%|          | 0/80 [00:00<?, ?it/s]"
      ]
     },
     "metadata": {},
     "output_type": "display_data"
    },
    {
     "name": "stdout",
     "output_type": "stream",
     "text": [
      "'NoneType' object has no attribute 'group' https://locations.dunkindonuts.com/en/mi/southfield/24740-telegraph-rd/300702\n",
      "'NoneType' object has no attribute 'group' https://locations.dunkindonuts.com/en/mi/traverse-city/3575-n-us-highway-31-s/351749\n",
      "114 stores\n"
     ]
    },
    {
     "data": {
      "application/vnd.jupyter.widget-view+json": {
       "model_id": "c34385478bec484c9299cc33acf994b5",
       "version_major": 2,
       "version_minor": 0
      },
      "text/plain": [
       "Parsing Locations in ma:   0%|          | 0/297 [00:00<?, ?it/s]"
      ]
     },
     "metadata": {},
     "output_type": "display_data"
    },
    {
     "name": "stdout",
     "output_type": "stream",
     "text": [
      "'NoneType' object has no attribute 'group' https://locations.dunkindonuts.com/en/ma/boston/4-yawkey-way/343654\n",
      "'NoneType' object has no attribute 'group' https://locations.dunkindonuts.com/en/ma/boston/causeway-street/331941\n",
      "'NoneType' object has no attribute 'group' https://locations.dunkindonuts.com/en/ma/boston/logan-international-airport/359938\n",
      "'NoneType' object has no attribute 'group' https://locations.dunkindonuts.com/en/ma/boston/logan-international-airport/357905\n",
      "'NoneType' object has no attribute 'group' https://locations.dunkindonuts.com/en/ma/buzzards-bay/3052-cranberry-hwy/301582\n",
      "'NoneType' object has no attribute 'group' https://locations.dunkindonuts.com/en/ma/cambridge/222-broadway/334913\n",
      "'NoneType' object has no attribute 'group' https://locations.dunkindonuts.com/en/ma/chatham/1563-main-street/348496\n",
      "'NoneType' object has no attribute 'group' https://locations.dunkindonuts.com/en/ma/devens/10-andrews-parkway/341685\n",
      "'NoneType' object has no attribute 'group' https://locations.dunkindonuts.com/en/ma/east-boston/logan-airport/342230\n",
      "'NoneType' object has no attribute 'group' https://locations.dunkindonuts.com/en/ma/fall-river/1510-brayton-ave/335784\n",
      "'NoneType' object has no attribute 'group' https://locations.dunkindonuts.com/en/ma/sandwich/290-route-130/302363\n",
      "'NoneType' object has no attribute 'group' https://locations.dunkindonuts.com/en/ma/springfield/1500-main-st/330238\n",
      "'NoneType' object has no attribute 'group' https://locations.dunkindonuts.com/en/ma/tewksbury/5-east-st/342605\n",
      "'NoneType' object has no attribute 'group' https://locations.dunkindonuts.com/en/ma/uxbridge/30-lackey-dam-rd/334763\n",
      "'NoneType' object has no attribute 'group' https://locations.dunkindonuts.com/en/ma/wareham/2360-cranberry-hwy/302723\n",
      "'NoneType' object has no attribute 'group' https://locations.dunkindonuts.com/en/ma/westborough/mile-105-mass-turnpike/336018\n",
      "'NoneType' object has no attribute 'group' https://locations.dunkindonuts.com/en/ma/westford/179-littleton-rd/337411\n",
      "1021 stores\n",
      "id\n"
     ]
    },
    {
     "data": {
      "application/vnd.jupyter.widget-view+json": {
       "model_id": "9fdfe37dd36b45b3bde601e0888e06b5",
       "version_major": 2,
       "version_minor": 0
      },
      "text/plain": [
       "Parsing Locations in fl:   0%|          | 0/253 [00:00<?, ?it/s]"
      ]
     },
     "metadata": {},
     "output_type": "display_data"
    },
    {
     "name": "stdout",
     "output_type": "stream",
     "text": [
      "'NoneType' object has no attribute 'group' https://locations.dunkindonuts.com/en/fl/jacksonville/116-oakleaf-village-pkwy/346314\n",
      "'NoneType' object has no attribute 'group' https://locations.dunkindonuts.com/en/fl/jacksonville/mayport-naval-station/358770\n",
      "'NoneType' object has no attribute 'group' https://locations.dunkindonuts.com/en/fl/lake-worth/5905-s.-state-road-7/338390\n",
      "'NoneType' object has no attribute 'group' https://locations.dunkindonuts.com/en/fl/margate/mp-65-pompano-beach-(fl-tpk)/348484\n",
      "'NoneType' object has no attribute 'group' https://locations.dunkindonuts.com/en/fl/miami/miami-intl-airport/351343\n",
      "'NoneType' object has no attribute 'group' https://locations.dunkindonuts.com/en/fl/miami/miami-int.-airport/342711\n",
      "'NoneType' object has no attribute 'group' https://locations.dunkindonuts.com/en/fl/ocala/4410-nw-cr-326/353469\n",
      "'NoneType' object has no attribute 'group' https://locations.dunkindonuts.com/en/fl/saint-augustine/2435-state-road-207/354039\n",
      "911 stores\n"
     ]
    },
    {
     "data": {
      "application/vnd.jupyter.widget-view+json": {
       "model_id": "dc748d9bb8704079bedaa98382feec34",
       "version_major": 2,
       "version_minor": 0
      },
      "text/plain": [
       "Parsing Locations in ne:   0%|          | 0/12 [00:00<?, ?it/s]"
      ]
     },
     "metadata": {},
     "output_type": "display_data"
    },
    {
     "name": "stdout",
     "output_type": "stream",
     "text": [
      "25 stores\n",
      "wa\n"
     ]
    },
    {
     "data": {
      "application/vnd.jupyter.widget-view+json": {
       "model_id": "a99db6cd52a8410caac4773717c9e685",
       "version_major": 2,
       "version_minor": 0
      },
      "text/plain": [
       "Parsing Locations in nm:   0%|          | 0/13 [00:00<?, ?it/s]"
      ]
     },
     "metadata": {},
     "output_type": "display_data"
    },
    {
     "name": "stdout",
     "output_type": "stream",
     "text": [
      "21 stores\n",
      "pr\n",
      "sd\n"
     ]
    },
    {
     "data": {
      "application/vnd.jupyter.widget-view+json": {
       "model_id": "795a070910cd4da3872aa424ed5beabf",
       "version_major": 2,
       "version_minor": 0
      },
      "text/plain": [
       "Parsing Locations in tx:   0%|          | 0/118 [00:00<?, ?it/s]"
      ]
     },
     "metadata": {},
     "output_type": "display_data"
    },
    {
     "name": "stdout",
     "output_type": "stream",
     "text": [
      "'NoneType' object has no attribute 'group' https://locations.dunkindonuts.com/en/tx/dallas/dallas-love-field-airport/350843\n",
      "'NoneType' object has no attribute 'group' https://locations.dunkindonuts.com/en/tx/dallas/dallas-love-field-airport/350844\n",
      "'NoneType' object has no attribute 'group' https://locations.dunkindonuts.com/en/tx/el-paso/12379-edgemere-blvd/350841\n",
      "'NoneType' object has no attribute 'group' https://locations.dunkindonuts.com/en/tx/frisco/2155-west-university-dr/362898\n",
      "'NoneType' object has no attribute 'group' https://locations.dunkindonuts.com/en/tx/grand-prairie/3206-w-trinity-blvd/357242\n",
      "'NoneType' object has no attribute 'group' https://locations.dunkindonuts.com/en/tx/kermit/127-w-state-highway-302/358146\n",
      "'NoneType' object has no attribute 'group' https://locations.dunkindonuts.com/en/tx/kermit/700-w-state-highway-302/359035\n",
      "'NoneType' object has no attribute 'group' https://locations.dunkindonuts.com/en/tx/mckinney/116-s-custer-rd/352584\n",
      "'NoneType' object has no attribute 'group' https://locations.dunkindonuts.com/en/tx/monahans/101-s-loop-464-rd/359036\n",
      "'NoneType' object has no attribute 'group' https://locations.dunkindonuts.com/en/tx/prairie-view/100-university-drive/363479\n",
      "227 stores\n"
     ]
    },
    {
     "data": {
      "application/vnd.jupyter.widget-view+json": {
       "model_id": "607f17bb42ff413393be19b0fc7dc59f",
       "version_major": 2,
       "version_minor": 0
      },
      "text/plain": [
       "Parsing Locations in ca:   0%|          | 0/105 [00:00<?, ?it/s]"
      ]
     },
     "metadata": {},
     "output_type": "display_data"
    },
    {
     "name": "stdout",
     "output_type": "stream",
     "text": [
      "'NoneType' object has no attribute 'group' https://locations.dunkindonuts.com/en/ca/los-angeles/11419-w-olympic-blvd/364252\n",
      "144 stores\n"
     ]
    },
    {
     "data": {
      "application/vnd.jupyter.widget-view+json": {
       "model_id": "fa135a556d8145be9fac5f05d007f1fd",
       "version_major": 2,
       "version_minor": 0
      },
      "text/plain": [
       "Parsing Locations in al:   0%|          | 0/46 [00:00<?, ?it/s]"
      ]
     },
     "metadata": {},
     "output_type": "display_data"
    },
    {
     "name": "stdout",
     "output_type": "stream",
     "text": [
      "'NoneType' object has no attribute 'group' https://locations.dunkindonuts.com/en/al/tuscaloosa/160-mccorvey-dr/350819\n",
      "68 stores\n"
     ]
    },
    {
     "data": {
      "application/vnd.jupyter.widget-view+json": {
       "model_id": "f9e9b760da4b4019a123c9c86941b4c4",
       "version_major": 2,
       "version_minor": 0
      },
      "text/plain": [
       "Parsing Locations in ga:   0%|          | 0/128 [00:00<?, ?it/s]"
      ]
     },
     "metadata": {},
     "output_type": "display_data"
    },
    {
     "name": "stdout",
     "output_type": "stream",
     "text": [
      "'NoneType' object has no attribute 'group' https://locations.dunkindonuts.com/en/ga/atlanta/hartsfield-jackson-atl-airport/352523\n",
      "'NoneType' object has no attribute 'group' https://locations.dunkindonuts.com/en/ga/atlanta/hartsfield-jackson-atl-airport/348469\n",
      "'NoneType' object has no attribute 'group' https://locations.dunkindonuts.com/en/ga/jonesboro/2091-mount-zion-road/362643\n",
      "'NoneType' object has no attribute 'group' https://locations.dunkindonuts.com/en/ga/lagrange/150-tom-hall-pkwy/356480\n",
      "'NoneType' object has no attribute 'group' https://locations.dunkindonuts.com/en/ga/tifton/1505-us-highway-82-w/363867\n",
      "290 stores\n"
     ]
    },
    {
     "data": {
      "application/vnd.jupyter.widget-view+json": {
       "model_id": "38e9e2b5973643cc90c7e810f8638d66",
       "version_major": 2,
       "version_minor": 0
      },
      "text/plain": [
       "Parsing Locations in pa:   0%|          | 0/325 [00:00<?, ?it/s]"
      ]
     },
     "metadata": {},
     "output_type": "display_data"
    },
    {
     "name": "stdout",
     "output_type": "stream",
     "text": [
      "'NoneType' object has no attribute 'group' https://locations.dunkindonuts.com/en/pa/allentown/leigh-valley-int.-airport/359283\n",
      "'NoneType' object has no attribute 'group' https://locations.dunkindonuts.com/en/pa/chambersburg/1479-lincoln-way-e/335467\n",
      "'NoneType' object has no attribute 'group' https://locations.dunkindonuts.com/en/pa/coraopolis/pittsburgh-international-airport/357132\n",
      "'NoneType' object has no attribute 'group' https://locations.dunkindonuts.com/en/pa/coraopolis/pittsburgh-international-airport/357131\n",
      "'NoneType' object has no attribute 'group' https://locations.dunkindonuts.com/en/pa/newtown/811-durham-road/356357\n",
      "'NoneType' object has no attribute 'group' https://locations.dunkindonuts.com/en/pa/plumsteadville/5762-easton-rd/351476\n",
      "'NoneType' object has no attribute 'group' https://locations.dunkindonuts.com/en/pa/warminster/1425-w-street-rd/342872\n",
      "'NoneType' object has no attribute 'group' https://locations.dunkindonuts.com/en/pa/washington/600-adios-dr/355756\n",
      "'NoneType' object has no attribute 'group' https://locations.dunkindonuts.com/en/pa/west-hazleton/48-pennsylvania-93/351908\n",
      "642 stores\n"
     ]
    },
    {
     "data": {
      "application/vnd.jupyter.widget-view+json": {
       "model_id": "32d5e74c123d420c946bc1d8a3bf8d3f",
       "version_major": 2,
       "version_minor": 0
      },
      "text/plain": [
       "Parsing Locations in mo:   0%|          | 0/40 [00:00<?, ?it/s]"
      ]
     },
     "metadata": {},
     "output_type": "display_data"
    },
    {
     "name": "stdout",
     "output_type": "stream",
     "text": [
      "'NoneType' object has no attribute 'group' https://locations.dunkindonuts.com/en/mo/fredericktown/missouri-72/364989\n",
      "'NoneType' object has no attribute 'group' https://locations.dunkindonuts.com/en/mo/richmond-heights/1754-s-hanley-rd/353975\n",
      "52 stores\n"
     ]
    },
    {
     "data": {
      "application/vnd.jupyter.widget-view+json": {
       "model_id": "07541ba2904b40caa4407763f959f1c6",
       "version_major": 2,
       "version_minor": 0
      },
      "text/plain": [
       "Parsing Locations in co:   0%|          | 0/27 [00:00<?, ?it/s]"
      ]
     },
     "metadata": {},
     "output_type": "display_data"
    },
    {
     "name": "stdout",
     "output_type": "stream",
     "text": [
      "'NoneType' object has no attribute 'group' https://locations.dunkindonuts.com/en/co/fort-carson/980-oconnell-blvd/356358\n",
      "'NoneType' object has no attribute 'group' https://locations.dunkindonuts.com/en/co/monument/15455-terrazzo-dr/357063\n",
      "45 stores\n"
     ]
    },
    {
     "data": {
      "application/vnd.jupyter.widget-view+json": {
       "model_id": "fcfcc21d4cf444a8ae427dcc25e5cc58",
       "version_major": 2,
       "version_minor": 0
      },
      "text/plain": [
       "Parsing Locations in ut:   0%|          | 0/2 [00:00<?, ?it/s]"
      ]
     },
     "metadata": {},
     "output_type": "display_data"
    },
    {
     "name": "stdout",
     "output_type": "stream",
     "text": [
      "2 stores\n"
     ]
    },
    {
     "data": {
      "application/vnd.jupyter.widget-view+json": {
       "model_id": "234aceed1b1e492ba2305c444552c19d",
       "version_major": 2,
       "version_minor": 0
      },
      "text/plain": [
       "Parsing Locations in tn:   0%|          | 0/77 [00:00<?, ?it/s]"
      ]
     },
     "metadata": {},
     "output_type": "display_data"
    },
    {
     "name": "stdout",
     "output_type": "stream",
     "text": [
      "145 stores\n"
     ]
    },
    {
     "data": {
      "application/vnd.jupyter.widget-view+json": {
       "model_id": "4b6c5f520a0b4a45b27dba5c9e3a1ba4",
       "version_major": 2,
       "version_minor": 0
      },
      "text/plain": [
       "Parsing Locations in wy:   0%|          | 0/2 [00:00<?, ?it/s]"
      ]
     },
     "metadata": {},
     "output_type": "display_data"
    },
    {
     "name": "stdout",
     "output_type": "stream",
     "text": [
      "2 stores\n"
     ]
    },
    {
     "data": {
      "application/vnd.jupyter.widget-view+json": {
       "model_id": "f4fdfeb05d9448f883798fde5415b0ac",
       "version_major": 2,
       "version_minor": 0
      },
      "text/plain": [
       "Parsing Locations in ny:   0%|          | 0/473 [00:00<?, ?it/s]"
      ]
     },
     "metadata": {},
     "output_type": "display_data"
    },
    {
     "name": "stdout",
     "output_type": "stream",
     "text": [
      "'NoneType' object has no attribute 'group' https://locations.dunkindonuts.com/en/ny/albany/51-s-pearl-st/353599\n",
      "'NoneType' object has no attribute 'group' https://locations.dunkindonuts.com/en/ny/bronx/2241-southern-blvd/338698\n",
      "'NoneType' object has no attribute 'group' https://locations.dunkindonuts.com/en/ny/bronx/2350-jerome-ave/345536\n",
      "'NoneType' object has no attribute 'group' https://locations.dunkindonuts.com/en/ny/brooklyn/934-kings-hwy/361797\n",
      "'NoneType' object has no attribute 'group' https://locations.dunkindonuts.com/en/ny/burnt-hills/809b-route-50/301760\n",
      "'NoneType' object has no attribute 'group' https://locations.dunkindonuts.com/en/ny/cato/3475-route-370/353408\n",
      "'NoneType' object has no attribute 'group' https://locations.dunkindonuts.com/en/ny/east-elmhurst/10801-grand-central-pkwy/341050\n",
      "'NoneType' object has no attribute 'group' https://locations.dunkindonuts.com/en/ny/jamaica/162-25-liberty-ave/342633\n",
      "'NoneType' object has no attribute 'group' https://locations.dunkindonuts.com/en/ny/jamaica/jfk-intl-airport/346724\n",
      "'NoneType' object has no attribute 'group' https://locations.dunkindonuts.com/en/ny/jamaica/jfk-intl-airport/349291\n",
      "'NoneType' object has no attribute 'group' https://locations.dunkindonuts.com/en/ny/jamaica/jfk-intl-airport/353847\n",
      "'NoneType' object has no attribute 'group' https://locations.dunkindonuts.com/en/ny/jamaica/jfk-intl-airport/356918\n",
      "'NoneType' object has no attribute 'group' https://locations.dunkindonuts.com/en/ny/jamaica/jfk-intl-airport/350145\n",
      "'NoneType' object has no attribute 'group' https://locations.dunkindonuts.com/en/ny/jamaica/jfk-intl-airport/346725\n",
      "'NoneType' object has no attribute 'group' https://locations.dunkindonuts.com/en/ny/jamaica/jfk-intl-airport/346726\n",
      "'NoneType' object has no attribute 'group' https://locations.dunkindonuts.com/en/ny/medford/3197-horseblock-road/341639\n",
      "'NoneType' object has no attribute 'group' https://locations.dunkindonuts.com/en/ny/new-york/125-park-avenue/364912\n",
      "'NoneType' object has no attribute 'group' https://locations.dunkindonuts.com/en/ny/preble/7073-route-281/347937\n",
      "'NoneType' object has no attribute 'group' https://locations.dunkindonuts.com/en/ny/queens/7905-metropolitan-avenue/364014\n",
      "'NoneType' object has no attribute 'group' https://locations.dunkindonuts.com/en/ny/richmond-hill/135-04-jamaica-ave/345949\n",
      "'NoneType' object has no attribute 'group' https://locations.dunkindonuts.com/en/ny/staten-island/1776-forest-ave/342308\n",
      "1420 stores\n"
     ]
    },
    {
     "data": {
      "application/vnd.jupyter.widget-view+json": {
       "model_id": "dd7fae4372e9403b9d1e6f3b9a306174",
       "version_major": 2,
       "version_minor": 0
      },
      "text/plain": [
       "Parsing Locations in ks:   0%|          | 0/15 [00:00<?, ?it/s]"
      ]
     },
     "metadata": {},
     "output_type": "display_data"
    },
    {
     "name": "stdout",
     "output_type": "stream",
     "text": [
      "27 stores\n",
      "ak\n"
     ]
    },
    {
     "data": {
      "application/vnd.jupyter.widget-view+json": {
       "model_id": "0cdebfca92454f0aa39e213bb6c3d0e2",
       "version_major": 2,
       "version_minor": 0
      },
      "text/plain": [
       "Parsing Locations in nv:   0%|          | 0/6 [00:00<?, ?it/s]"
      ]
     },
     "metadata": {},
     "output_type": "display_data"
    },
    {
     "name": "stdout",
     "output_type": "stream",
     "text": [
      "'NoneType' object has no attribute 'group' https://locations.dunkindonuts.com/en/nv/las-vegas/3150-paradise-road/363497\n",
      "43 stores\n"
     ]
    },
    {
     "data": {
      "application/vnd.jupyter.widget-view+json": {
       "model_id": "5f708c9bd290409887c9c41bda510902",
       "version_major": 2,
       "version_minor": 0
      },
      "text/plain": [
       "Parsing Locations in il:   0%|          | 0/251 [00:00<?, ?it/s]"
      ]
     },
     "metadata": {},
     "output_type": "display_data"
    },
    {
     "name": "stdout",
     "output_type": "stream",
     "text": [
      "'NoneType' object has no attribute 'group' https://locations.dunkindonuts.com/en/il/antioch/475-e-route-173/343291\n",
      "'NoneType' object has no attribute 'group' https://locations.dunkindonuts.com/en/il/aurora/1237-n-eola-rd/337268\n",
      "'NoneType' object has no attribute 'group' https://locations.dunkindonuts.com/en/il/aurora/2380-south-eola-rd/342011\n",
      "'NoneType' object has no attribute 'group' https://locations.dunkindonuts.com/en/il/chicago/1535-w-grand-ave/339270\n",
      "'NoneType' object has no attribute 'group' https://locations.dunkindonuts.com/en/il/chicago/400-s.-fin.-place-shp-ctr/336132\n",
      "'NoneType' object has no attribute 'group' https://locations.dunkindonuts.com/en/il/chicago/ohare-airport-terminal-5-departures/362916\n",
      "'NoneType' object has no attribute 'group' https://locations.dunkindonuts.com/en/il/naperville/4940-s-route-59/354550\n",
      "'NoneType' object has no attribute 'group' https://locations.dunkindonuts.com/en/il/palos-park/13029-s-lagrange-rd/344311\n",
      "'NoneType' object has no attribute 'group' https://locations.dunkindonuts.com/en/il/schaumburg/477-west-golf-rd/336651\n",
      "709 stores\n"
     ]
    },
    {
     "data": {
      "application/vnd.jupyter.widget-view+json": {
       "model_id": "0b94c98f4ad645f18064f4341db336fe",
       "version_major": 2,
       "version_minor": 0
      },
      "text/plain": [
       "Parsing Locations in vt:   0%|          | 0/36 [00:00<?, ?it/s]"
      ]
     },
     "metadata": {},
     "output_type": "display_data"
    },
    {
     "name": "stdout",
     "output_type": "stream",
     "text": [
      "'NoneType' object has no attribute 'group' https://locations.dunkindonuts.com/en/vt/ascutney/100-rt-131/340762\n",
      "48 stores\n",
      "mt\n"
     ]
    },
    {
     "data": {
      "application/vnd.jupyter.widget-view+json": {
       "model_id": "08037e266d3549fdabd6b55e560ad540",
       "version_major": 2,
       "version_minor": 0
      },
      "text/plain": [
       "Parsing Locations in ia:   0%|          | 0/26 [00:00<?, ?it/s]"
      ]
     },
     "metadata": {},
     "output_type": "display_data"
    },
    {
     "name": "stdout",
     "output_type": "stream",
     "text": [
      "37 stores\n"
     ]
    },
    {
     "data": {
      "application/vnd.jupyter.widget-view+json": {
       "model_id": "30a4421d124847fd983f28897bb09871",
       "version_major": 2,
       "version_minor": 0
      },
      "text/plain": [
       "Parsing Locations in sc:   0%|          | 0/58 [00:00<?, ?it/s]"
      ]
     },
     "metadata": {},
     "output_type": "display_data"
    },
    {
     "name": "stdout",
     "output_type": "stream",
     "text": [
      "120 stores\n"
     ]
    },
    {
     "data": {
      "application/vnd.jupyter.widget-view+json": {
       "model_id": "eea171e184b84abdb4fc0bdedc99ef3a",
       "version_major": 2,
       "version_minor": 0
      },
      "text/plain": [
       "Parsing Locations in nh:   0%|          | 0/103 [00:00<?, ?it/s]"
      ]
     },
     "metadata": {},
     "output_type": "display_data"
    },
    {
     "name": "stdout",
     "output_type": "stream",
     "text": [
      "'NoneType' object has no attribute 'group' https://locations.dunkindonuts.com/en/nh/chichester/6-horse-corner-rd/337626\n",
      "'NoneType' object has no attribute 'group' https://locations.dunkindonuts.com/en/nh/nashua/103-broad-st/300254\n",
      "211 stores\n"
     ]
    },
    {
     "data": {
      "application/vnd.jupyter.widget-view+json": {
       "model_id": "d9ee394895844738979c6ef12c8fe205",
       "version_major": 2,
       "version_minor": 0
      },
      "text/plain": [
       "Parsing Locations in az:   0%|          | 0/34 [00:00<?, ?it/s]"
      ]
     },
     "metadata": {},
     "output_type": "display_data"
    },
    {
     "name": "stdout",
     "output_type": "stream",
     "text": [
      "'NoneType' object has no attribute 'group' https://locations.dunkindonuts.com/en/az/chandler/2021-s-alma-school-rd/346777\n",
      "'NoneType' object has no attribute 'group' https://locations.dunkindonuts.com/en/az/gilbert/1633-s-higley-rd/352832\n",
      "'NoneType' object has no attribute 'group' https://locations.dunkindonuts.com/en/az/lake-havasu-city/14750-highway-95/358550\n",
      "106 stores\n"
     ]
    },
    {
     "data": {
      "application/vnd.jupyter.widget-view+json": {
       "model_id": "39381371b3a64a9fbc7c739467a8cfd0",
       "version_major": 2,
       "version_minor": 0
      },
      "text/plain": [
       "Parsing Locations in dc:   0%|          | 0/1 [00:00<?, ?it/s]"
      ]
     },
     "metadata": {},
     "output_type": "display_data"
    },
    {
     "name": "stdout",
     "output_type": "stream",
     "text": [
      "'NoneType' object has no attribute 'group' https://locations.dunkindonuts.com/en/dc/washington/725-17th-st-nw/357554\n",
      "'NoneType' object has no attribute 'group' https://locations.dunkindonuts.com/en/dc/washington/shirley-memorial-hwy/337643\n",
      "17 stores\n",
      "as\n",
      "vi\n"
     ]
    },
    {
     "data": {
      "application/vnd.jupyter.widget-view+json": {
       "model_id": "e43a0b56bc9b447ca549ab3f902dbdb1",
       "version_major": 2,
       "version_minor": 0
      },
      "text/plain": [
       "Parsing Locations in nj:   0%|          | 0/396 [00:00<?, ?it/s]"
      ]
     },
     "metadata": {},
     "output_type": "display_data"
    },
    {
     "name": "stdout",
     "output_type": "stream",
     "text": [
      "'NoneType' object has no attribute 'group' https://locations.dunkindonuts.com/en/nj/atco/296-white-horse-park/348945\n",
      "'NoneType' object has no attribute 'group' https://locations.dunkindonuts.com/en/nj/brielle/1007-route-70/343584\n",
      "'NoneType' object has no attribute 'group' https://locations.dunkindonuts.com/en/nj/cedar-brook/4-n-route-73/355542\n",
      "'NoneType' object has no attribute 'group' https://locations.dunkindonuts.com/en/nj/egg-harbor-city/101-atlantic-city-intl-airport-post-full/359814\n",
      "'NoneType' object has no attribute 'group' https://locations.dunkindonuts.com/en/nj/englewood/70-route-4/351165\n",
      "'NoneType' object has no attribute 'group' https://locations.dunkindonuts.com/en/nj/fair-lawn/14-00-state-highway-208/342234\n",
      "'NoneType' object has no attribute 'group' https://locations.dunkindonuts.com/en/nj/florence/2043-rte-130/350909\n",
      "'NoneType' object has no attribute 'group' https://locations.dunkindonuts.com/en/nj/hamilton-square/1235-route-33/350756\n",
      "'NoneType' object has no attribute 'group' https://locations.dunkindonuts.com/en/nj/hope/484-hope-blairstown-rd/354597\n",
      "'NoneType' object has no attribute 'group' https://locations.dunkindonuts.com/en/nj/millstone-township/700-route-33/339284\n",
      "'NoneType' object has no attribute 'group' https://locations.dunkindonuts.com/en/nj/monmouth-junction/495-georges-rd/336904\n",
      "'NoneType' object has no attribute 'group' https://locations.dunkindonuts.com/en/nj/newark/1118-broad-st/341635\n",
      "'NoneType' object has no attribute 'group' https://locations.dunkindonuts.com/en/nj/newark/374-south-st/342876\n",
      "'NoneType' object has no attribute 'group' https://locations.dunkindonuts.com/en/nj/newark/6-earhart-drive/362517\n",
      "'NoneType' object has no attribute 'group' https://locations.dunkindonuts.com/en/nj/rutherford/131-147-rte-17-n/347095\n",
      "'NoneType' object has no attribute 'group' https://locations.dunkindonuts.com/en/nj/south-brunswick/805-cranbury-rd/341967\n",
      "851 stores\n"
     ]
    },
    {
     "data": {
      "application/vnd.jupyter.widget-view+json": {
       "model_id": "b57060dcb10243bdab2b3dc743492c65",
       "version_major": 2,
       "version_minor": 0
      },
      "text/plain": [
       "Parsing Locations in md:   0%|          | 0/132 [00:00<?, ?it/s]"
      ]
     },
     "metadata": {},
     "output_type": "display_data"
    },
    {
     "name": "stdout",
     "output_type": "stream",
     "text": [
      "'NoneType' object has no attribute 'group' https://locations.dunkindonuts.com/en/md/aberdeen/maryland-turnpike-i-95/350848\n",
      "'NoneType' object has no attribute 'group' https://locations.dunkindonuts.com/en/md/fruitland/409-n-fruitland-blvd/342111\n",
      "'NoneType' object has no attribute 'group' https://locations.dunkindonuts.com/en/md/hagerstown/20145-professional-boulevard/359624\n",
      "309 stores\n"
     ]
    },
    {
     "data": {
      "application/vnd.jupyter.widget-view+json": {
       "model_id": "4d42e70df0784038bc05673f29fb976b",
       "version_major": 2,
       "version_minor": 0
      },
      "text/plain": [
       "Parsing Locations in me:   0%|          | 0/105 [00:00<?, ?it/s]"
      ]
     },
     "metadata": {},
     "output_type": "display_data"
    },
    {
     "name": "stdout",
     "output_type": "stream",
     "text": [
      "'NoneType' object has no attribute 'group' https://locations.dunkindonuts.com/en/me/sanford/577-main-st/342383\n",
      "'NoneType' object has no attribute 'group' https://locations.dunkindonuts.com/en/me/turner/6-stonecrest-dr/355876\n",
      "158 stores\n"
     ]
    },
    {
     "data": {
      "application/vnd.jupyter.widget-view+json": {
       "model_id": "bebd3843f7ea4bfd89c060d1bb1551c9",
       "version_major": 2,
       "version_minor": 0
      },
      "text/plain": [
       "Parsing Locations in hi:   0%|          | 0/4 [00:00<?, ?it/s]"
      ]
     },
     "metadata": {},
     "output_type": "display_data"
    },
    {
     "name": "stdout",
     "output_type": "stream",
     "text": [
      "6 stores\n"
     ]
    },
    {
     "data": {
      "application/vnd.jupyter.widget-view+json": {
       "model_id": "00db6c530c7e43d1911cadb084137fd3",
       "version_major": 2,
       "version_minor": 0
      },
      "text/plain": [
       "Parsing Locations in de:   0%|          | 0/21 [00:00<?, ?it/s]"
      ]
     },
     "metadata": {},
     "output_type": "display_data"
    },
    {
     "name": "stdout",
     "output_type": "stream",
     "text": [
      "70 stores\n",
      "gu\n",
      "mp\n"
     ]
    },
    {
     "data": {
      "application/vnd.jupyter.widget-view+json": {
       "model_id": "bf5f1b2bec3d4085a2856758b91f3b19",
       "version_major": 2,
       "version_minor": 0
      },
      "text/plain": [
       "Parsing Locations in ri:   0%|          | 0/42 [00:00<?, ?it/s]"
      ]
     },
     "metadata": {},
     "output_type": "display_data"
    },
    {
     "name": "stdout",
     "output_type": "stream",
     "text": [
      "'NoneType' object has no attribute 'group' https://locations.dunkindonuts.com/en/ri/richmond/418-kingston-road/342433\n",
      "'NoneType' object has no attribute 'group' https://locations.dunkindonuts.com/en/ri/warwick/t.f.-green-airport/345396\n",
      "156 stores\n"
     ]
    },
    {
     "data": {
      "application/vnd.jupyter.widget-view+json": {
       "model_id": "96ac0865efe2467a8d4feb726a460de2",
       "version_major": 2,
       "version_minor": 0
      },
      "text/plain": [
       "Parsing Locations in ky:   0%|          | 0/36 [00:00<?, ?it/s]"
      ]
     },
     "metadata": {},
     "output_type": "display_data"
    },
    {
     "name": "stdout",
     "output_type": "stream",
     "text": [
      "55 stores\n"
     ]
    },
    {
     "data": {
      "application/vnd.jupyter.widget-view+json": {
       "model_id": "e3126e1e0ad24b32bd416e9c37174940",
       "version_major": 2,
       "version_minor": 0
      },
      "text/plain": [
       "Parsing Locations in oh:   0%|          | 0/161 [00:00<?, ?it/s]"
      ]
     },
     "metadata": {},
     "output_type": "display_data"
    },
    {
     "name": "stdout",
     "output_type": "stream",
     "text": [
      "'NoneType' object has no attribute 'group' https://locations.dunkindonuts.com/en/oh/cleveland/cleveland-hopkin-intl-airport/348515\n",
      "'NoneType' object has no attribute 'group' https://locations.dunkindonuts.com/en/oh/clyde/1012-ohio-turnpike/363521\n",
      "270 stores\n"
     ]
    },
    {
     "data": {
      "application/vnd.jupyter.widget-view+json": {
       "model_id": "96b78269bcc84fd682b8a2910f97fe32",
       "version_major": 2,
       "version_minor": 0
      },
      "text/plain": [
       "Parsing Locations in wi:   0%|          | 0/77 [00:00<?, ?it/s]"
      ]
     },
     "metadata": {},
     "output_type": "display_data"
    },
    {
     "name": "stdout",
     "output_type": "stream",
     "text": [
      "106 stores\n",
      "or\n",
      "nd\n"
     ]
    },
    {
     "data": {
      "application/vnd.jupyter.widget-view+json": {
       "model_id": "dc070dea31524bf3975563da8f164cd6",
       "version_major": 2,
       "version_minor": 0
      },
      "text/plain": [
       "Parsing Locations in ar:   0%|          | 0/12 [00:00<?, ?it/s]"
      ]
     },
     "metadata": {},
     "output_type": "display_data"
    },
    {
     "name": "stdout",
     "output_type": "stream",
     "text": [
      "'NoneType' object has no attribute 'group' https://locations.dunkindonuts.com/en/ar/harrison/1326-north-hwy-62/65/362824\n",
      "'NoneType' object has no attribute 'group' https://locations.dunkindonuts.com/en/ar/jonesboro/926-canera-dr/364760\n",
      "12 stores\n"
     ]
    },
    {
     "data": {
      "application/vnd.jupyter.widget-view+json": {
       "model_id": "c1809d1669004ac7941ace06a531aaaf",
       "version_major": 2,
       "version_minor": 0
      },
      "text/plain": [
       "Parsing Locations in in:   0%|          | 0/73 [00:00<?, ?it/s]"
      ]
     },
     "metadata": {},
     "output_type": "display_data"
    },
    {
     "name": "stdout",
     "output_type": "stream",
     "text": [
      "'NoneType' object has no attribute 'group' https://locations.dunkindonuts.com/en/in/hammond/7935-indianapolis-boulevard/358736\n",
      "124 stores\n"
     ]
    },
    {
     "data": {
      "application/vnd.jupyter.widget-view+json": {
       "model_id": "3c2f1018331345009bedba1c42a6ee6c",
       "version_major": 2,
       "version_minor": 0
      },
      "text/plain": [
       "Parsing Locations in mn:   0%|          | 0/35 [00:00<?, ?it/s]"
      ]
     },
     "metadata": {},
     "output_type": "display_data"
    },
    {
     "name": "stdout",
     "output_type": "stream",
     "text": [
      "'NoneType' object has no attribute 'group' https://locations.dunkindonuts.com/en/mn/duluth/104-west-central-entrance/353944\n",
      "41 stores\n"
     ]
    },
    {
     "data": {
      "application/vnd.jupyter.widget-view+json": {
       "model_id": "cc513a6366c74df5b363db506a07d67e",
       "version_major": 2,
       "version_minor": 0
      },
      "text/plain": [
       "Parsing Locations in ct:   0%|          | 0/157 [00:00<?, ?it/s]"
      ]
     },
     "metadata": {},
     "output_type": "display_data"
    },
    {
     "name": "stdout",
     "output_type": "stream",
     "text": [
      "'NoneType' object has no attribute 'group' https://locations.dunkindonuts.com/en/ct/bristol/1053-farmington-ave/345665\n",
      "'NoneType' object has no attribute 'group' https://locations.dunkindonuts.com/en/ct/madison/720-route-95-north/349431\n",
      "'NoneType' object has no attribute 'group' https://locations.dunkindonuts.com/en/ct/manchester/1205-tolland-tpke/306504\n",
      "'NoneType' object has no attribute 'group' https://locations.dunkindonuts.com/en/ct/manchester/318-adams-st/343320\n",
      "'NoneType' object has no attribute 'group' https://locations.dunkindonuts.com/en/ct/manchester/81-oakland-st/310194\n",
      "'NoneType' object has no attribute 'group' https://locations.dunkindonuts.com/en/ct/orange/3-wilbur-cross-parkway-nb/349429\n",
      "'NoneType' object has no attribute 'group' https://locations.dunkindonuts.com/en/ct/plainfield/rt-395-southbound/349415\n",
      "'NoneType' object has no attribute 'group' https://locations.dunkindonuts.com/en/ct/stamford/30-station-pl/336890\n",
      "'NoneType' object has no attribute 'group' https://locations.dunkindonuts.com/en/ct/west-hartford/500-west-farms-mall/344373\n",
      "'NoneType' object has no attribute 'group' https://locations.dunkindonuts.com/en/ct/windsor-locks/bradley-intl-airport/347845\n",
      "'NoneType' object has no attribute 'group' https://locations.dunkindonuts.com/en/ct/windsor-locks/bradley-int.-airport/344249\n",
      "461 stores\n"
     ]
    }
   ],
   "source": [
    "url_root = \"https://locations.dunkindonuts.com\"\n",
    "\n",
    "# Parse all locations in a state\n",
    "for i in tqdm(range(len(states_df)), desc=\"Parsing States\"):\n",
    "    state_store_list = []\n",
    "    state_code = states_df.iloc[i][\"STUSPS\"].lower()\n",
    "\n",
    "    # If File exists continue\n",
    "    if os.path.isfile(f\"data/states/{state_code}.gpkg\"):\n",
    "        continue\n",
    "\n",
    "    state_url = os.path.join(url_root, \"en/\" + state_code)\n",
    "    locations_r = scraper.get(state_url)\n",
    "\n",
    "    if locations_r.status_code != 200:\n",
    "        print(state_code)\n",
    "        continue\n",
    "\n",
    "    soup_state = BeautifulSoup(locations_r.text, \"html.parser\")\n",
    "    city_as = soup_state.find_all(\n",
    "        \"a\",\n",
    "        {\n",
    "            \"class\": \"Link no-underline inline-flex p-4 sm:p-0 justify-between items-center w-full\"\n",
    "        },\n",
    "    )\n",
    "\n",
    "    for city_a in tqdm(city_as, desc=f\"Parsing Locations in {state_code}\"):\n",
    "        href = city_a.attrs[\"href\"]\n",
    "        count = int(re.findall(r\"\\d+\", city_a.find(\"span\").attrs[\"data-count\"])[0])\n",
    "\n",
    "        if count == 1:\n",
    "            store_url = href.replace(\"..\", url_root)\n",
    "\n",
    "            try:\n",
    "                point = get_coords(store_url)\n",
    "                store_dict = {\"STUSPS\": state_code.upper(), \"geometry\": point}\n",
    "                state_store_list.append(store_dict)\n",
    "            except Exception as e:\n",
    "                print(e, store_url)\n",
    "\n",
    "            continue\n",
    "\n",
    "        city_url = href.replace(\"..\", url_root)\n",
    "        r_city = scraper.get(city_url)\n",
    "        soup_city = BeautifulSoup(r_city.text, \"html.parser\")\n",
    "        store_as = soup_city.find_all(\n",
    "            \"a\",\n",
    "            {\n",
    "                \"class\": \"Link no-underline border border-brand-gray-200 hover:border-brand-secondary rounded-[16px] p-8 sm:p-10 h-full block\"\n",
    "            },\n",
    "        )\n",
    "\n",
    "        for store_a in store_as:\n",
    "            store_url = store_a.attrs[\"href\"].replace(\"../..\", url_root)\n",
    "            try:\n",
    "                point = get_coords(store_url)\n",
    "                store_dict = {\"STUSPS\": state_code.upper(), \"geometry\": point}\n",
    "                state_store_list.append(store_dict)\n",
    "            except Exception as e:\n",
    "                print(e, store_url)\n",
    "\n",
    "    if state_store_list:\n",
    "        print(len(state_store_list), \"stores\")\n",
    "        state_dunkin_gdf = gpd.GeoDataFrame(state_store_list, crs=4326)\n",
    "        state_dunkin_gdf.to_file(f\"data/states/{state_code}.gpkg\")"
   ]
  },
  {
   "cell_type": "code",
   "execution_count": 24,
   "id": "f897c14a-ad5d-4c45-a45d-bf2da5ad0d03",
   "metadata": {},
   "outputs": [],
   "source": [
    "added_dunkins = [\n",
    "    {\"STUSPS\": \"CT\", \"geometry\": Point(41.754286501902484, -71.87852045766724)},\n",
    "    {\"STUSPS\": \"CT\", \"geometry\": Point(41.04674704030949, -73.54207345763879)},\n",
    "    {\"STUSPS\": \"CT\", \"geometry\": Point(41.72391345834193, -72.76283231532206)},\n",
    "    {\"STUSPS\": \"CT\", \"geometry\": Point(41.92995211964665, -72.68351842466396)},\n",
    "    {\"STUSPS\": \"CT\", \"geometry\": Point(41.929732710831, -72.684471757736)},\n",
    "    {\"STUSPS\": \"IN\", \"geometry\": Point(41.569458440202226, -87.47499044418842)},\n",
    "    {\"STUSPS\": \"MN\", \"geometry\": Point(46.80013730594761, -92.13581944413997)},\n",
    "    {\"STUSPS\": \"AR\", \"geometry\": Point(36.262820230178384, -93.13454364421959)},\n",
    "    {\"STUSPS\": \"AR\", \"geometry\": Point(35.85595143908745, -90.660867113483)},\n",
    "    {\"STUSPS\": \"OH\", \"geometry\": Point(41.41091286966159, -81.83890696929409)},\n",
    "    {\"STUSPS\": \"OH\", \"geometry\": Point(41.36782623309512, -82.9587364404243)},\n",
    "    {\"STUSPS\": \"ME\", \"geometry\": Point(43.458161306067765, -70.79234869815791)},\n",
    "    {\"STUSPS\": \"ME\", \"geometry\": Point(44.19779937833875, -70.2436976288386)},\n",
    "    {\"STUSPS\": \"MD\", \"geometry\": Point(39.497434307984925, -76.23218037297032)},\n",
    "    {\"STUSPS\": \"MD\", \"geometry\": Point(38.32824660812148, -75.61029249628726)},\n",
    "    {\"STUSPS\": \"MD\", \"geometry\": Point(39.624718785586445, -77.6737266693742)},\n",
    "    {\"STUSPS\": \"NJ\", \"geometry\": Point(40.72340826552654, -74.1790485000014)},\n",
    "    {\"STUSPS\": \"NJ\", \"geometry\": Point(40.71885925024087, -74.16111118655158)},\n",
    "    {\"STUSPS\": \"NJ\", \"geometry\": Point(40.684081864048274, -74.18797492431557)},\n",
    "    {\"STUSPS\": \"NJ\", \"geometry\": Point(40.820309702021305, -74.10040532884034)},\n",
    "    {\"STUSPS\": \"NJ\", \"geometry\": Point(40.38595950718633, -74.44448270584272)},\n",
    "    {\"STUSPS\": \"NJ\", \"geometry\": Point(40.101610114435935, -74.7966029711416)},\n",
    "    {\"STUSPS\": \"NJ\", \"geometry\": Point(40.22622691708618, -74.66427638659187)},\n",
    "    {\"STUSPS\": \"NJ\", \"geometry\": Point(40.927330983349115, -74.95854256735116)},\n",
    "    {\"STUSPS\": \"NJ\", \"geometry\": Point(40.262680889960166, -74.43286839040037)},\n",
    "    {\"STUSPS\": \"NJ\", \"geometry\": Point(40.38217980755236, -74.51807312712059)},\n",
    "    {\"STUSPS\": \"NJ\", \"geometry\": Point(40.933415957983776, -74.11850104419173)},\n",
    "    {\"STUSPS\": \"NJ\", \"geometry\": Point(39.77208439217998, -74.9001633692162)},\n",
    "    {\"STUSPS\": \"NJ\", \"geometry\": Point(39.7171170412217, -74.90014775763805)},\n",
    "    {\"STUSPS\": \"NJ\", \"geometry\": Point(39.450561087305054, -74.57166453469667)},\n",
    "    {\"STUSPS\": \"NJ\", \"geometry\": Point(40.88150978063889, -73.98632808472692)},\n",
    "    {\"STUSPS\": \"DC\", \"geometry\": Point(38.899748121269376, -77.03912117502784)},\n",
    "    {\"STUSPS\": \"VA\", \"geometry\": Point(38.8721783939383, -77.05618108271511)},\n",
    "    {\"STUSPS\": \"AZ\", \"geometry\": Point(33.27545989415952, -111.8579851441912)},\n",
    "    {\"STUSPS\": \"AZ\", \"geometry\": Point(33.32078843157168, -111.72062358826375)},\n",
    "    {\"STUSPS\": \"AZ\", \"geometry\": Point(34.72826701487247, -114.3156597170695)},\n",
    "    {\"STUSPS\": \"VT\", \"geometry\": Point(43.404336850051195, -72.41123072881537)},\n",
    "    {\"STUSPS\": \"NH\", \"geometry\": Point(43.24360373075477, -71.40508070000098)},\n",
    "    {\"STUSPS\": \"NH\", \"geometry\": Point(42.77010934493543, -71.4917666577028)},\n",
    "    {\"STUSPS\": \"IL\", \"geometry\": Point(42.46872118652512, -88.06455633872041)},\n",
    "    {\"STUSPS\": \"IL\", \"geometry\": Point(41.782495997987226, -88.23997885586925)},\n",
    "    {\"STUSPS\": \"IL\", \"geometry\": Point(41.71130392217927, -88.25358063237103)},\n",
    "    {\"STUSPS\": \"IL\", \"geometry\": Point(41.890711466886444, -87.66664325767968)},\n",
    "    {\"STUSPS\": \"IL\", \"geometry\": Point(41.876771590661676, -87.63341984812915)},\n",
    "    {\"STUSPS\": \"IL\", \"geometry\": Point(41.97513888325788, -87.88998068285552)},\n",
    "    {\"STUSPS\": \"IL\", \"geometry\": Point(41.68103687717942, -88.20391794764383)},\n",
    "    {\"STUSPS\": \"IL\", \"geometry\": Point(41.65344883734468, -87.8531498865651)},\n",
    "    {\"STUSPS\": \"IL\", \"geometry\": Point(42.04828264433846, -88.09105101355834)},\n",
    "    {\"STUSPS\": \"NV\", \"geometry\": Point(36.12948346384014, -115.15446778650971)},\n",
    "    {\"STUSPS\": \"NY\", \"geometry\": Point(40.71352306286673, -73.87392219811173)},\n",
    "    {\"STUSPS\": \"NY\", \"geometry\": Point(40.70229620129257, -73.81684705579092)},\n",
    "    {\"STUSPS\": \"NY\", \"geometry\": Point(40.624632843899086, -74.14815075959103)},\n",
    "    {\"STUSPS\": \"NY\", \"geometry\": Point(40.64750551200695, -73.79067714421964)},\n",
    "    {\"STUSPS\": \"NY\", \"geometry\": Point(40.6436657293237, -73.7905555103908)},\n",
    "    {\"STUSPS\": \"NY\", \"geometry\": Point(40.643023556421625, -73.7903647957481)},\n",
    "    {\"STUSPS\": \"NY\", \"geometry\": Point(40.82538235666321, -72.98213348656833)},\n",
    "    {\"STUSPS\": \"NY\", \"geometry\": Point(40.75174425348389, -73.97737961350093)},\n",
    "    {\"STUSPS\": \"NY\", \"geometry\": Point(42.74773290321274, -76.13538180182165)},\n",
    "    {\"STUSPS\": \"NY\", \"geometry\": Point(40.76538438520437, -73.86205655948531)},\n",
    "    {\"STUSPS\": \"NY\", \"geometry\": Point(40.70247913224715, -73.79185101897774)},\n",
    "    {\"STUSPS\": \"NY\", \"geometry\": Point(40.642986620554225, -73.78366465187679)},\n",
    "    {\"STUSPS\": \"NY\", \"geometry\": Point(40.64303683359327, -73.7906509654871)},\n",
    "    {\"STUSPS\": \"NY\", \"geometry\": Point(40.64757791062497, -73.79031640251786)},\n",
    "    {\"STUSPS\": \"NY\", \"geometry\": Point(40.849235879611996, -73.88347374233237)},\n",
    "    {\"STUSPS\": \"NY\", \"geometry\": Point(40.86017401438138, -73.90258613073937)},\n",
    "    {\"STUSPS\": \"NY\", \"geometry\": Point(40.60679175574763, -73.96279270179576)},\n",
    "    {\"STUSPS\": \"NY\", \"geometry\": Point(42.909613764264954, -73.8994144711684)},\n",
    "    {\"STUSPS\": \"NY\", \"geometry\": Point(43.168189737602546, -76.51136099999137)},\n",
    "    {\"STUSPS\": \"MO\", \"geometry\": Point(37.56730971833378, -90.32297039104101)},\n",
    "    {\"STUSPS\": \"MO\", \"geometry\": Point(38.62323304193598, -90.33362116944677)},\n",
    "    {\"STUSPS\": \"CO\", \"geometry\": Point(38.754130549024076, -104.7871115423505)},\n",
    "    {\"STUSPS\": \"CO\", \"geometry\": Point(39.05575484045122, -104.85376034232999)},\n",
    "    {\"STUSPS\": \"PA\", \"geometry\": Point(40.6523338712971, -75.43560064234464)},\n",
    "    {\"STUSPS\": \"PA\", \"geometry\": Point(39.92552511890636, -77.61671456920033)},\n",
    "    {\"STUSPS\": \"PA\", \"geometry\": Point(40.495774603032444, -80.25617791533756)},\n",
    "    {\"STUSPS\": \"PA\", \"geometry\": Point(40.496007374307304, -80.24568206113817)},\n",
    "    {\"STUSPS\": \"PA\", \"geometry\": Point(40.2818360144692, -74.99483725765916)},\n",
    "    {\"STUSPS\": \"PA\", \"geometry\": Point(40.38154114099451, -75.14669068467698)},\n",
    "    {\"STUSPS\": \"PA\", \"geometry\": Point(40.21923332701709, -75.12097424237238)},\n",
    "    {\"STUSPS\": \"PA\", \"geometry\": Point(40.21496236060761, -80.19962311346772)},\n",
    "    {\"STUSPS\": \"GA\", \"geometry\": Point(33.64094291158585, -84.44615694160487)},\n",
    "    {\"STUSPS\": \"GA\", \"geometry\": Point(33.64229437461597, -84.43584252883242)},\n",
    "    {\"STUSPS\": \"GA\", \"geometry\": Point(33.56037799134848, -84.32225171347994)},\n",
    "    {\"STUSPS\": \"GA\", \"geometry\": Point(32.99454369623157, -85.02468121722868)},\n",
    "    {\"STUSPS\": \"GA\", \"geometry\": Point(31.448067135748474, -83.53844165413472)},\n",
    "    {\"STUSPS\": \"CA\", \"geometry\": Point(33.21753241496846, -87.54619678464068)},\n",
    "    {\"STUSPS\": \"AL\", \"geometry\": Point(34.03684223401944, -118.44415632743608)},\n",
    "    {\"STUSPS\": \"TX\", \"geometry\": Point(32.84567142486981, -96.84991764415028)},\n",
    "    {\"STUSPS\": \"TX\", \"geometry\": Point(32.84562635656773, -96.8498532711796)},\n",
    "    {\"STUSPS\": \"TX\", \"geometry\": Point(31.792850669365706, -106.26035368654158)},\n",
    "    {\"STUSPS\": \"TX\", \"geometry\": Point(33.218530690217825, -96.87014687304624)},\n",
    "    {\"STUSPS\": \"TX\", \"geometry\": Point(32.80184383661128, -97.03044984416309)},\n",
    "    {\"STUSPS\": \"TX\", \"geometry\": Point(31.843537011575712, -103.10387845351553)},\n",
    "    {\"STUSPS\": \"TX\", \"geometry\": Point(31.853429199078445, -103.06764601589605)},\n",
    "    {\"STUSPS\": \"TX\", \"geometry\": Point(33.202576156885904, -96.73384144416352)},\n",
    "    {\"STUSPS\": \"TX\", \"geometry\": Point(31.5875320073589, -102.91746945908615)},\n",
    "    {\"STUSPS\": \"TX\", \"geometry\": Point(30.086718041665637, -95.989460715347)},\n",
    "    {\"STUSPS\": \"FL\", \"geometry\": Point(30.194993309695413, -81.82508198651242)},\n",
    "    {\"STUSPS\": \"FL\", \"geometry\": Point(30.391101472088078, -81.4152165711754)},\n",
    "    {\"STUSPS\": \"FL\", \"geometry\": Point(26.59248634176106, -80.20673861538502)},\n",
    "    {\"STUSPS\": \"FL\", \"geometry\": Point(26.226113441391103, -80.18322903426454)},\n",
    "    {\"STUSPS\": \"FL\", \"geometry\": Point(25.79408090816204, -80.27823619806102)},\n",
    "    {\"STUSPS\": \"FL\", \"geometry\": Point(25.794617511250493, -80.27915899999887)},\n",
    "    {\"STUSPS\": \"FL\", \"geometry\": Point(29.26632029228428, -82.19411128460669)},\n",
    "    {\"STUSPS\": \"FL\", \"geometry\": Point(29.829902531676584, -81.376239700004)},\n",
    "    {\"STUSPS\": \"MA\", \"geometry\": Point(41.713695457570395, -70.48949014230323)},\n",
    "    {\"STUSPS\": \"MA\", \"geometry\": Point(42.10234909940595, -72.59262191532598)},\n",
    "    {\"STUSPS\": \"MA\", \"geometry\": Point(42.62139704212644, -71.18471634405807)},\n",
    "    {\"STUSPS\": \"MA\", \"geometry\": Point(42.085995905715194, -71.6953464981217)},\n",
    "    {\"STUSPS\": \"MA\", \"geometry\": Point(41.78903280298809, -70.7505340288379)},\n",
    "    {\"STUSPS\": \"MA\", \"geometry\": Point(42.24530562602001, -71.59204106784708)},\n",
    "    {\"STUSPS\": \"MA\", \"geometry\": Point(42.567046854024, -71.42377952509118)},\n",
    "    {\"STUSPS\": \"MA\", \"geometry\": Point(42.36635292846306, -71.0940975576558)},\n",
    "    {\"STUSPS\": \"MA\", \"geometry\": Point(41.682186478721306, -69.99146264411009)},\n",
    "    {\"STUSPS\": \"MA\", \"geometry\": Point(42.539766762752514, -71.61400079999423)},\n",
    "    {\"STUSPS\": \"MA\", \"geometry\": Point(42.36665919354714, -71.0166829780522)},\n",
    "    {\"STUSPS\": \"MA\", \"geometry\": Point(41.681342726252026, -71.13194270000571)},\n",
    "    {\"STUSPS\": \"VA\", \"geometry\": Point(38.753554247872586, -77.1970829559064)},\n",
    "    {\"STUSPS\": \"VA\", \"geometry\": Point(36.915414811009704, -76.21815824417234)},\n",
    "    {\"STUSPS\": \"WV\", \"geometry\": Point(38.41536907150278, -82.25813075585062)},\n",
    "    {\"STUSPS\": \"LA\", \"geometry\": Point(30.177286139033633, -93.12980565585583)},\n",
    "    {\"STUSPS\": \"MI\", \"geometry\": Point(44.73888705682888, -85.64763225191356)},\n",
    "    {\"STUSPS\": \"MI\", \"geometry\": Point(42.47074507072462, -83.28026474232622)},\n",
    "    {\"STUSPS\": \"MA\", \"geometry\": Point(42.3458784112385, -71.09886448142649)},\n",
    "    {\"STUSPS\": \"MA\", \"geometry\": Point(42.36436721561039, -71.06292885842072)},\n",
    "    {\"STUSPS\": \"MA\", \"geometry\": Point(42.366308052557116, -71.01738044450374)},\n",
    "    {\"STUSPS\": \"MA\", \"geometry\": Point(42.36631040682103, -71.01688683775811)},\n",
    "    {\"STUSPS\": \"MA\", \"geometry\": Point(41.75710837750203, -70.65354744771972)},\n",
    "]"
   ]
  },
  {
   "cell_type": "code",
   "execution_count": 36,
   "id": "193169be-3cbe-4f09-845c-307c873630a7",
   "metadata": {},
   "outputs": [],
   "source": [
    "added_dunkins = gpd.GeoDataFrame(added_dunkins)\n",
    "added_dunkins[\"geometry\"] = added_dunkins.apply(\n",
    "    lambda row: Point(row[\"geometry\"].y, row[\"geometry\"].x), axis=1\n",
    ")\n",
    "added_dunkins = added_dunkins.set_crs(4326)"
   ]
  },
  {
   "cell_type": "code",
   "execution_count": 37,
   "id": "c1d32989-5a24-46f7-954f-a607979d4aa5",
   "metadata": {},
   "outputs": [],
   "source": [
    "dunkin_state_gdfs = []\n",
    "states_path = \"data/states\"\n",
    "for file in os.listdir(\"data/states\"):\n",
    "    constructed_path = os.path.join(states_path, file)\n",
    "    if constructed_path.endswith(\".gpkg\"):\n",
    "        state_dunkin_gdf = gpd.read_file(constructed_path)\n",
    "        dunkin_state_gdfs.append(state_dunkin_gdf)\n",
    "dunkin_state_gdfs.append(added_dunkins)"
   ]
  },
  {
   "cell_type": "code",
   "execution_count": 38,
   "id": "8c3dbe83-66a7-4abe-aa82-61170375498c",
   "metadata": {},
   "outputs": [],
   "source": [
    "dunkin_gdf = gpd.GeoDataFrame(pd.concat(dunkin_state_gdfs, ignore_index=True))"
   ]
  },
  {
   "cell_type": "code",
   "execution_count": 46,
   "id": "82626e84-9c67-4460-a792-9668dbda6768",
   "metadata": {},
   "outputs": [],
   "source": [
    "dunkin_gdf = dunkin_gdf.to_crs(9311)\n",
    "dunkin_gdf.to_file(f\"data/dunkins.gpkg\")"
   ]
  },
  {
   "cell_type": "markdown",
   "id": "5a42dfab-fc47-49d7-8092-f08b31392df8",
   "metadata": {},
   "source": [
    "## Get Population Data"
   ]
  },
  {
   "cell_type": "code",
   "execution_count": 40,
   "id": "3cce9c91-abf1-4055-8b9a-5fd1f6cf611f",
   "metadata": {},
   "outputs": [],
   "source": [
    "state_populations = pd.read_excel(\n",
    "    \"data/NST-EST2024-POP.xlsx\", sheet_name=None, engine=\"openpyxl\"\n",
    ")"
   ]
  },
  {
   "cell_type": "code",
   "execution_count": 41,
   "id": "2eaacc28-fa8e-410e-b084-02ce24ec11a1",
   "metadata": {},
   "outputs": [],
   "source": [
    "state_populations_df = state_populations[\"NST-EST2024-POP\"][\n",
    "    [\n",
    "        \"table with row headers in column A and column headers in rows 3 through 4. (leading dots indicate sub-parts)\",\n",
    "        \"Unnamed: 5\",\n",
    "    ]\n",
    "]\n",
    "state_populations_df = state_populations_df.rename(\n",
    "    columns={\n",
    "        \"table with row headers in column A and column headers in rows 3 through 4. (leading dots indicate sub-parts)\": \"NAME\",\n",
    "        \"Unnamed: 5\": \"POPULATION\",\n",
    "    }\n",
    ")\n",
    "state_populations_df[\"NAME\"] = state_populations_df[\"NAME\"].str[1:]"
   ]
  },
  {
   "cell_type": "code",
   "execution_count": 42,
   "id": "2d6342e1-fc3f-4006-8d8a-d7612903a625",
   "metadata": {},
   "outputs": [],
   "source": [
    "states_with_population_df = states_df.merge(state_populations_df, on=\"NAME\", how=\"left\")\n",
    "states_with_population_df = states_with_population_df[\n",
    "    [\"STUSPS\", \"NAME\", \"POPULATION\", \"geometry\"]\n",
    "]"
   ]
  },
  {
   "cell_type": "code",
   "execution_count": 43,
   "id": "94150db1-9ce7-43cb-8c08-3f6d9bb58497",
   "metadata": {},
   "outputs": [],
   "source": [
    "states_with_population_df = states_with_population_df.dropna()"
   ]
  },
  {
   "cell_type": "markdown",
   "id": "af5c5e13-c89d-43ed-8021-13ba93990599",
   "metadata": {},
   "source": [
    "## Merge Data"
   ]
  },
  {
   "cell_type": "code",
   "execution_count": 52,
   "id": "f6900380-39b5-4cca-abf9-b46f7b886f9d",
   "metadata": {},
   "outputs": [],
   "source": [
    "dunkin_state_counts_df = pd.DataFrame(\n",
    "    dunkin_gdf.groupby(\"STUSPS\").size(), columns=[\"DUNKINS\"]\n",
    ").reset_index()"
   ]
  },
  {
   "cell_type": "code",
   "execution_count": 53,
   "id": "8a4afa33-893a-4b6b-8df1-f5151243deeb",
   "metadata": {},
   "outputs": [],
   "source": [
    "dunkin_per_state_gdf = states_with_population_df.merge(\n",
    "    dunkin_state_counts_df, on=\"STUSPS\", how=\"left\"\n",
    ")\n",
    "dunkin_per_state_gdf = dunkin_per_state_gdf.fillna(0)"
   ]
  },
  {
   "cell_type": "code",
   "execution_count": 54,
   "id": "f50526e2-4c7a-4d13-8d5e-aaddbeec7751",
   "metadata": {},
   "outputs": [],
   "source": [
    "dunkin_per_state_gdf[\"per_1000\"] = dunkin_per_state_gdf[\"DUNKINS\"] / (\n",
    "    dunkin_per_state_gdf[\"POPULATION\"] / 1000\n",
    ")\n",
    "dunkin_per_state_gdf[\"per_10k\"] = dunkin_per_state_gdf[\"DUNKINS\"] / (\n",
    "    dunkin_per_state_gdf[\"POPULATION\"] / 10_000\n",
    ")\n",
    "dunkin_per_state_gdf[\"per_100k\"] = dunkin_per_state_gdf[\"DUNKINS\"] / (\n",
    "    dunkin_per_state_gdf[\"POPULATION\"] / 100000\n",
    ")\n",
    "dunkin_per_state_gdf[\"per_500k\"] = dunkin_per_state_gdf[\"DUNKINS\"] / (\n",
    "    dunkin_per_state_gdf[\"POPULATION\"] / 500_000\n",
    ")\n",
    "dunkin_per_state_gdf[\"per_1m\"] = dunkin_per_state_gdf[\"DUNKINS\"] / (\n",
    "    dunkin_per_state_gdf[\"POPULATION\"] / 1_000_000\n",
    ")\n",
    "dunkin_per_state_gdf[\"per_capita\"] = (\n",
    "    dunkin_per_state_gdf[\"POPULATION\"] / dunkin_per_state_gdf[\"DUNKINS\"]\n",
    ")"
   ]
  },
  {
   "cell_type": "code",
   "execution_count": 55,
   "id": "4d00c57e-a978-4938-b5f5-cb176b29cf77",
   "metadata": {},
   "outputs": [],
   "source": [
    "dunkin_per_state_gdf = dunkin_per_state_gdf.to_crs(9311)"
   ]
  },
  {
   "cell_type": "code",
   "execution_count": 56,
   "id": "f8feb339-fc3c-41f9-8bd8-50ee507bb185",
   "metadata": {},
   "outputs": [],
   "source": [
    "dunkin_per_state_gdf.to_file(\"data/dunkins_per_state.gpkg\")"
   ]
  },
  {
   "cell_type": "code",
   "execution_count": null,
   "id": "6fe12df3-c59b-48b5-bd11-cdbae9436a65",
   "metadata": {},
   "outputs": [],
   "source": []
  }
 ],
 "metadata": {
  "kernelspec": {
   "display_name": "Python 3 (ipykernel)",
   "language": "python",
   "name": "python3"
  },
  "language_info": {
   "codemirror_mode": {
    "name": "ipython",
    "version": 3
   },
   "file_extension": ".py",
   "mimetype": "text/x-python",
   "name": "python",
   "nbconvert_exporter": "python",
   "pygments_lexer": "ipython3",
   "version": "3.11.11"
  }
 },
 "nbformat": 4,
 "nbformat_minor": 5
}
