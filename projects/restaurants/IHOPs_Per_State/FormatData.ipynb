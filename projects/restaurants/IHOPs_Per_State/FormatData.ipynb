{
 "cells": [
  {
   "cell_type": "code",
   "execution_count": 1,
   "id": "c86ad9f6-4aaf-469e-a56e-363083168e1e",
   "metadata": {},
   "outputs": [],
   "source": [
    "import json\n",
    "import os\n",
    "import random\n",
    "import time"
   ]
  },
  {
   "cell_type": "code",
   "execution_count": 2,
   "id": "10fa1d09-7717-4ea8-9ce7-1cef37b4da9c",
   "metadata": {},
   "outputs": [],
   "source": [
    "import cloudscraper\n",
    "from bs4 import BeautifulSoup\n",
    "import geopandas as gpd\n",
    "import pandas as pd"
   ]
  },
  {
   "cell_type": "code",
   "execution_count": 3,
   "id": "d22202a0-bf3c-4953-81ce-105a19e002a0",
   "metadata": {},
   "outputs": [],
   "source": [
    "from shapely.geometry import Point\n",
    "from tqdm.notebook import tqdm"
   ]
  },
  {
   "cell_type": "markdown",
   "id": "02e1dfb5-464d-4984-8c84-5599ce9dcd5d",
   "metadata": {},
   "source": [
    "## Get State Data"
   ]
  },
  {
   "cell_type": "code",
   "execution_count": 4,
   "id": "84b53c65-5746-4ab8-8c99-6dfe3e967797",
   "metadata": {},
   "outputs": [],
   "source": [
    "file_path = \"data/cb_2018_us_state_500k/cb_2018_us_state_500k.shp\"\n",
    "states_df = gpd.read_file(file_path)"
   ]
  },
  {
   "cell_type": "code",
   "execution_count": 5,
   "id": "191755a6-eb92-4683-833e-b69f4be9f3f5",
   "metadata": {},
   "outputs": [],
   "source": [
    "states_df = states_df[[\"STUSPS\", \"NAME\", \"geometry\"]]"
   ]
  },
  {
   "cell_type": "markdown",
   "id": "f3ad4feb-2496-4c2f-827b-04c586ef17ba",
   "metadata": {},
   "source": [
    "## Get IHOP's Data"
   ]
  },
  {
   "cell_type": "code",
   "execution_count": 23,
   "id": "4c063aa4-d1b0-400e-a449-8125a2a0596a",
   "metadata": {},
   "outputs": [],
   "source": [
    "scraper = cloudscraper.create_scraper()"
   ]
  },
  {
   "cell_type": "code",
   "execution_count": 30,
   "id": "267af8f6-5ae7-4c32-864b-5f970236c8b8",
   "metadata": {},
   "outputs": [],
   "source": [
    "def get_coords(store_url: str) -> Point:\n",
    "    ##store_url = 'https://restaurants.ihop.com/en-us/nc/garner/breakfast-1450-us-hwy-70-w-4434'\n",
    "    href = \"/\".join(store_url.split(\"/\")[4:])\n",
    "    store_json_url = os.path.join(\n",
    "        \"https://api.wordlift.io/data/https/restaurants.ihop.com/en-us\", href\n",
    "    )\n",
    "    r = scraper.get(store_json_url)\n",
    "    if r.status_code != 200 or not r.json():\n",
    "        print(store_json_url)\n",
    "        return\n",
    "    store_json = r.json()[0]\n",
    "    lat = float(store_json[\"geo\"][\"latitude\"])\n",
    "    lon = float(store_json[\"geo\"][\"longitude\"])\n",
    "    return Point(lon, lat)"
   ]
  },
  {
   "cell_type": "code",
   "execution_count": 31,
   "id": "b1793bb5-26c3-4408-8572-175ba688bb03",
   "metadata": {},
   "outputs": [
    {
     "data": {
      "application/vnd.jupyter.widget-view+json": {
       "model_id": "7b7bc3c2029344c5a875cb0d550bf1b8",
       "version_major": 2,
       "version_minor": 0
      },
      "text/plain": [
       "Parsing States:   0%|          | 0/56 [00:00<?, ?it/s]"
      ]
     },
     "metadata": {},
     "output_type": "display_data"
    },
    {
     "data": {
      "application/vnd.jupyter.widget-view+json": {
       "model_id": "c7cc93f68fce47828bf8af732f162288",
       "version_major": 2,
       "version_minor": 0
      },
      "text/plain": [
       "Parsing Locations in ms:   0%|          | 0/12 [00:00<?, ?it/s]"
      ]
     },
     "metadata": {},
     "output_type": "display_data"
    },
    {
     "name": "stdout",
     "output_type": "stream",
     "text": [
      "https://api.wordlift.io/data/https/restaurants.ihop.com/en-us/ms/biloxi/breakfast-2680-beach-blvd-451\n",
      "None\n",
      "https://api.wordlift.io/data/https/restaurants.ihop.com/en-us/ms/diberville/breakfast-11475-cinema-way-dr-2106\n",
      "None\n",
      "https://api.wordlift.io/data/https/restaurants.ihop.com/en-us/ms/flowood/breakfast-5076-lakeland-drive-3646\n",
      "None\n",
      "https://api.wordlift.io/data/https/restaurants.ihop.com/en-us/ms/gulfport/breakfast-15130-turkey-creek-dr-4484\n",
      "None\n"
     ]
    },
    {
     "ename": "KeyboardInterrupt",
     "evalue": "",
     "output_type": "error",
     "traceback": [
      "\u001b[0;31m---------------------------------------------------------------------------\u001b[0m",
      "\u001b[0;31mKeyboardInterrupt\u001b[0m                         Traceback (most recent call last)",
      "Cell \u001b[0;32mIn[31], line 40\u001b[0m\n\u001b[1;32m     38\u001b[0m         \u001b[38;5;28mprint\u001b[39m(point)\n\u001b[1;32m     39\u001b[0m         state_store_list\u001b[38;5;241m.\u001b[39mappend(store_dict)\n\u001b[0;32m---> 40\u001b[0m         \u001b[43mtime\u001b[49m\u001b[38;5;241;43m.\u001b[39;49m\u001b[43msleep\u001b[49m\u001b[43m(\u001b[49m\u001b[43mrandom\u001b[49m\u001b[38;5;241;43m.\u001b[39;49m\u001b[43muniform\u001b[49m\u001b[43m(\u001b[49m\u001b[38;5;241;43m0.01\u001b[39;49m\u001b[43m,\u001b[49m\u001b[43m \u001b[49m\u001b[38;5;241;43m0.5\u001b[39;49m\u001b[43m)\u001b[49m\u001b[43m)\u001b[49m\n\u001b[1;32m     42\u001b[0m \u001b[38;5;28;01mif\u001b[39;00m state_store_list:\n\u001b[1;32m     43\u001b[0m     \u001b[38;5;28mprint\u001b[39m(\u001b[38;5;28mlen\u001b[39m(state_store_list), \u001b[38;5;124m\"\u001b[39m\u001b[38;5;124mstores\u001b[39m\u001b[38;5;124m\"\u001b[39m)\n",
      "\u001b[0;31mKeyboardInterrupt\u001b[0m: "
     ]
    }
   ],
   "source": [
    "url_root = \"https://restaurants.ihop.com/en-us/\"\n",
    "\n",
    "# Parse all locations in a state\n",
    "for i in tqdm(range(len(states_df)), desc=\"Parsing States\"):\n",
    "    state_code = states_df.iloc[i][\"STUSPS\"].lower()\n",
    "    state_url = f\"{url_root}{state_code}/\"\n",
    "    state_store_list = []\n",
    "\n",
    "    # If File exists continue\n",
    "    if os.path.isfile(f\"data/states/{state_code}.gpkg\"):\n",
    "        continue\n",
    "\n",
    "    r_state = scraper.get(state_url)\n",
    "\n",
    "    if r_state.status_code != 200:\n",
    "        print(state_code)\n",
    "        continue\n",
    "\n",
    "    soup_state = BeautifulSoup(r_state.text, \"html.parser\")\n",
    "    location_lis = soup_state.find_all(\"li\", {\"class\": \"map-list-item-wrap is-single\"})\n",
    "    city_as = [location_li.find(\"a\") for location_li in location_lis]\n",
    "\n",
    "    for city_a in tqdm(city_as, desc=f\"Parsing Locations in {state_code}\"):\n",
    "        city_url = city_a.attrs[\"href\"]\n",
    "        r_city = scraper.get(city_url)\n",
    "        soup_city = BeautifulSoup(r_city.text, \"html.parser\")\n",
    "        store_divs = soup_city.find_all(\"div\", {\"class\": \"map-list-item-header\"})\n",
    "        store_as = [store_div.find(\"a\") for store_div in store_divs]\n",
    "\n",
    "        for store_a in store_as:\n",
    "            try:\n",
    "                store_url = store_a.attrs[\"href\"]\n",
    "                point = get_coords(store_url)\n",
    "            except Exception as e:\n",
    "                print(store_url, e)\n",
    "                continue\n",
    "            store_dict = {\"STUSPS\": state_code, \"geometry\": point}\n",
    "            print(point)\n",
    "            state_store_list.append(store_dict)\n",
    "            time.sleep(random.uniform(0.01, 0.5))\n",
    "\n",
    "    if state_store_list:\n",
    "        print(len(state_store_list), \"stores\")\n",
    "        state_IHOP_gdf = gpd.GeoDataFrame(state_store_list, crs=4326)\n",
    "        state_IHOP_gdf.to_file(f\"data/states/{state_code}.gpkg\")"
   ]
  },
  {
   "cell_type": "code",
   "execution_count": 41,
   "id": "c1d32989-5a24-46f7-954f-a607979d4aa5",
   "metadata": {},
   "outputs": [],
   "source": [
    "ihop_state_gdfs = []\n",
    "states_path = \"data/states\"\n",
    "for file in os.listdir(\"data/states\"):\n",
    "    constructed_path = os.path.join(states_path, file)\n",
    "    if constructed_path.endswith(\".gpkg\"):\n",
    "        ihop_state_gdf = gpd.read_file(constructed_path)\n",
    "        ihop_state_gdfs.append(ihop_state_gdf)"
   ]
  },
  {
   "cell_type": "code",
   "execution_count": 42,
   "id": "8c3dbe83-66a7-4abe-aa82-61170375498c",
   "metadata": {},
   "outputs": [],
   "source": [
    "ihop_state_gdf = gpd.GeoDataFrame(pd.concat(ihop_state_gdfs, ignore_index=True))"
   ]
  },
  {
   "cell_type": "code",
   "execution_count": 43,
   "id": "82626e84-9c67-4460-a792-9668dbda6768",
   "metadata": {},
   "outputs": [],
   "source": [
    "ihop_state_gdf = ihop_state_gdf.to_crs(9311)\n",
    "ihop_state_gdf.to_file(f\"data/ihops.gpkg\")"
   ]
  },
  {
   "cell_type": "markdown",
   "id": "5a42dfab-fc47-49d7-8092-f08b31392df8",
   "metadata": {},
   "source": [
    "## Get Population Data"
   ]
  },
  {
   "cell_type": "code",
   "execution_count": 44,
   "id": "3cce9c91-abf1-4055-8b9a-5fd1f6cf611f",
   "metadata": {},
   "outputs": [],
   "source": [
    "state_populations = pd.read_excel(\n",
    "    \"data/NST-EST2024-POP.xlsx\", sheet_name=None, engine=\"openpyxl\"\n",
    ")"
   ]
  },
  {
   "cell_type": "code",
   "execution_count": 45,
   "id": "2eaacc28-fa8e-410e-b084-02ce24ec11a1",
   "metadata": {},
   "outputs": [],
   "source": [
    "state_populations_df = state_populations[\"NST-EST2024-POP\"][\n",
    "    [\n",
    "        \"table with row headers in column A and column headers in rows 3 through 4. (leading dots indicate sub-parts)\",\n",
    "        \"Unnamed: 5\",\n",
    "    ]\n",
    "]\n",
    "state_populations_df = state_populations_df.rename(\n",
    "    columns={\n",
    "        \"table with row headers in column A and column headers in rows 3 through 4. (leading dots indicate sub-parts)\": \"NAME\",\n",
    "        \"Unnamed: 5\": \"POPULATION\",\n",
    "    }\n",
    ")\n",
    "state_populations_df[\"NAME\"] = state_populations_df[\"NAME\"].str[1:]"
   ]
  },
  {
   "cell_type": "code",
   "execution_count": 46,
   "id": "2d6342e1-fc3f-4006-8d8a-d7612903a625",
   "metadata": {},
   "outputs": [],
   "source": [
    "states_with_population_df = states_df.merge(state_populations_df, on=\"NAME\", how=\"left\")\n",
    "states_with_population_df = states_with_population_df[\n",
    "    [\"STUSPS\", \"NAME\", \"POPULATION\", \"geometry\"]\n",
    "]"
   ]
  },
  {
   "cell_type": "code",
   "execution_count": 47,
   "id": "94150db1-9ce7-43cb-8c08-3f6d9bb58497",
   "metadata": {},
   "outputs": [],
   "source": [
    "states_with_population_df = states_with_population_df.dropna()"
   ]
  },
  {
   "cell_type": "markdown",
   "id": "af5c5e13-c89d-43ed-8021-13ba93990599",
   "metadata": {},
   "source": [
    "## Merge Data"
   ]
  },
  {
   "cell_type": "code",
   "execution_count": 54,
   "id": "f6900380-39b5-4cca-abf9-b46f7b886f9d",
   "metadata": {},
   "outputs": [],
   "source": [
    "ihop_state_counts_df = pd.DataFrame(\n",
    "    ihop_state_gdf.groupby(\"STUSPS\").size(), columns=[\"IHOPs\"]\n",
    ").reset_index()"
   ]
  },
  {
   "cell_type": "code",
   "execution_count": 55,
   "id": "8a4afa33-893a-4b6b-8df1-f5151243deeb",
   "metadata": {},
   "outputs": [],
   "source": [
    "ihop_state_counts_pop_df = states_with_population_df.merge(\n",
    "    ihop_state_counts_df, on=\"STUSPS\", how=\"left\"\n",
    ")\n",
    "ihop_state_counts_pop_df = ihop_state_counts_pop_df.fillna(0)"
   ]
  },
  {
   "cell_type": "code",
   "execution_count": 56,
   "id": "f50526e2-4c7a-4d13-8d5e-aaddbeec7751",
   "metadata": {},
   "outputs": [],
   "source": [
    "ihop_state_counts_pop_df[\"per_1000\"] = ihop_state_counts_pop_df[\"IHOPs\"] / (\n",
    "    ihop_state_counts_pop_df[\"POPULATION\"] / 1000\n",
    ")\n",
    "ihop_state_counts_pop_df[\"per_10k\"] = ihop_state_counts_pop_df[\"IHOPs\"] / (\n",
    "    ihop_state_counts_pop_df[\"POPULATION\"] / 10_000\n",
    ")\n",
    "ihop_state_counts_pop_df[\"per_100k\"] = ihop_state_counts_pop_df[\"IHOPs\"] / (\n",
    "    ihop_state_counts_pop_df[\"POPULATION\"] / 100000\n",
    ")\n",
    "ihop_state_counts_pop_df[\"per_500k\"] = ihop_state_counts_pop_df[\"IHOPs\"] / (\n",
    "    ihop_state_counts_pop_df[\"POPULATION\"] / 500_000\n",
    ")\n",
    "ihop_state_counts_pop_df[\"per_1m\"] = ihop_state_counts_pop_df[\"IHOPs\"] / (\n",
    "    ihop_state_counts_pop_df[\"POPULATION\"] / 1_000_000\n",
    ")\n",
    "ihop_state_counts_pop_df[\"per_capita\"] = (\n",
    "    ihop_state_counts_pop_df[\"POPULATION\"] / ihop_state_counts_pop_df[\"IHOPs\"]\n",
    ")"
   ]
  },
  {
   "cell_type": "code",
   "execution_count": 57,
   "id": "4d00c57e-a978-4938-b5f5-cb176b29cf77",
   "metadata": {},
   "outputs": [],
   "source": [
    "ihop_state_counts_pop_df = ihop_state_counts_pop_df.to_crs(9311)"
   ]
  },
  {
   "cell_type": "code",
   "execution_count": 58,
   "id": "f8feb339-fc3c-41f9-8bd8-50ee507bb185",
   "metadata": {},
   "outputs": [],
   "source": [
    "ihop_state_counts_pop_df.to_file(\"data/IHOPs_per_state.gpkg\")"
   ]
  },
  {
   "cell_type": "code",
   "execution_count": null,
   "id": "6fe12df3-c59b-48b5-bd11-cdbae9436a65",
   "metadata": {},
   "outputs": [],
   "source": []
  },
  {
   "cell_type": "code",
   "execution_count": null,
   "id": "19fb982c-be8e-4971-9e5b-ef5f94db3c5c",
   "metadata": {},
   "outputs": [],
   "source": []
  }
 ],
 "metadata": {
  "kernelspec": {
   "display_name": "Python 3 (ipykernel)",
   "language": "python",
   "name": "python3"
  },
  "language_info": {
   "codemirror_mode": {
    "name": "ipython",
    "version": 3
   },
   "file_extension": ".py",
   "mimetype": "text/x-python",
   "name": "python",
   "nbconvert_exporter": "python",
   "pygments_lexer": "ipython3",
   "version": "3.11.11"
  }
 },
 "nbformat": 4,
 "nbformat_minor": 5
}
