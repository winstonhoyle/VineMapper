{
 "cells": [
  {
   "cell_type": "code",
   "execution_count": 9,
   "id": "c86ad9f6-4aaf-469e-a56e-363083168e1e",
   "metadata": {},
   "outputs": [],
   "source": [
    "import json\n",
    "import os\n",
    "import random\n",
    "import time"
   ]
  },
  {
   "cell_type": "code",
   "execution_count": 10,
   "id": "10fa1d09-7717-4ea8-9ce7-1cef37b4da9c",
   "metadata": {},
   "outputs": [],
   "source": [
    "import cloudscraper\n",
    "from bs4 import BeautifulSoup\n",
    "import geopandas as gpd\n",
    "import pandas as pd"
   ]
  },
  {
   "cell_type": "code",
   "execution_count": 11,
   "id": "d22202a0-bf3c-4953-81ce-105a19e002a0",
   "metadata": {},
   "outputs": [],
   "source": [
    "from shapely.geometry import Point\n",
    "from tqdm.notebook import tqdm"
   ]
  },
  {
   "cell_type": "markdown",
   "id": "02e1dfb5-464d-4984-8c84-5599ce9dcd5d",
   "metadata": {},
   "source": [
    "## Get State Data"
   ]
  },
  {
   "cell_type": "code",
   "execution_count": 12,
   "id": "84b53c65-5746-4ab8-8c99-6dfe3e967797",
   "metadata": {},
   "outputs": [],
   "source": [
    "file_path = \"data/cb_2018_us_state_500k/cb_2018_us_state_500k.shp\"\n",
    "states_df = gpd.read_file(file_path)"
   ]
  },
  {
   "cell_type": "code",
   "execution_count": 13,
   "id": "191755a6-eb92-4683-833e-b69f4be9f3f5",
   "metadata": {},
   "outputs": [],
   "source": [
    "states_df = states_df[[\"STUSPS\", \"NAME\", \"geometry\"]]"
   ]
  },
  {
   "cell_type": "markdown",
   "id": "f3ad4feb-2496-4c2f-827b-04c586ef17ba",
   "metadata": {},
   "source": [
    "## Get IHOP's Data"
   ]
  },
  {
   "cell_type": "code",
   "execution_count": 14,
   "id": "4c063aa4-d1b0-400e-a449-8125a2a0596a",
   "metadata": {},
   "outputs": [],
   "source": [
    "scraper = cloudscraper.create_scraper()"
   ]
  },
  {
   "cell_type": "code",
   "execution_count": 15,
   "id": "267af8f6-5ae7-4c32-864b-5f970236c8b8",
   "metadata": {},
   "outputs": [],
   "source": [
    "def get_coords(store_url: str) -> Point:\n",
    "    r = scraper.get(store_url)\n",
    "    soup = BeautifulSoup(r.text, \"html.parser\")\n",
    "    div = soup.find(\"div\", {\"id\": \"locator-content\"})\n",
    "    store_json = json.loads(\n",
    "        div.find_all(\"script\", {\"type\": \"application/ld+json\"})[0].text\n",
    "    )[0]\n",
    "    lat = float(store_json[\"geo\"][\"latitude\"])\n",
    "    lon = float(store_json[\"geo\"][\"longitude\"])\n",
    "    return Point(lon, lat)"
   ]
  },
  {
   "cell_type": "code",
   "execution_count": 16,
   "id": "b1793bb5-26c3-4408-8572-175ba688bb03",
   "metadata": {},
   "outputs": [
    {
     "data": {
      "application/vnd.jupyter.widget-view+json": {
       "model_id": "de37203ab8d24a3a9f6408af69a4b6c5",
       "version_major": 2,
       "version_minor": 0
      },
      "text/plain": [
       "Parsing States:   0%|          | 0/56 [00:00<?, ?it/s]"
      ]
     },
     "metadata": {},
     "output_type": "display_data"
    },
    {
     "data": {
      "application/vnd.jupyter.widget-view+json": {
       "model_id": "065760d7461f4ab5a0f5367f4f62ddea",
       "version_major": 2,
       "version_minor": 0
      },
      "text/plain": [
       "Parsing Locations in ms:   0%|          | 0/12 [00:00<?, ?it/s]"
      ]
     },
     "metadata": {},
     "output_type": "display_data"
    },
    {
     "name": "stdout",
     "output_type": "stream",
     "text": [
      "13 stores\n"
     ]
    },
    {
     "data": {
      "application/vnd.jupyter.widget-view+json": {
       "model_id": "5300d77914ce40459c4510832a555310",
       "version_major": 2,
       "version_minor": 0
      },
      "text/plain": [
       "Parsing Locations in nc:   0%|          | 0/40 [00:00<?, ?it/s]"
      ]
     },
     "metadata": {},
     "output_type": "display_data"
    },
    {
     "name": "stdout",
     "output_type": "stream",
     "text": [
      "https://restaurants.ihop.com/en-us/nc/garner/breakfast-1450-us-hwy-70-w-4434 list index out of range\n",
      "https://restaurants.ihop.com/en-us/nc/kannapolis/breakfast-800-cloverleaf-plaza-4417 list index out of range\n",
      "https://restaurants.ihop.com/en-us/nc/knightdale/breakfast-6707-knightdale-blvd-3180 list index out of range\n",
      "https://restaurants.ihop.com/en-us/nc/rockingham/breakfast-714-w-us-74-hwy-3782 list index out of range\n",
      "48 stores\n"
     ]
    },
    {
     "data": {
      "application/vnd.jupyter.widget-view+json": {
       "model_id": "caf2902560bb485e9c997faa67b5c081",
       "version_major": 2,
       "version_minor": 0
      },
      "text/plain": [
       "Parsing Locations in ok:   0%|          | 0/23 [00:00<?, ?it/s]"
      ]
     },
     "metadata": {},
     "output_type": "display_data"
    },
    {
     "name": "stdout",
     "output_type": "stream",
     "text": [
      "https://restaurants.ihop.com/en-us/ok/tulsa/breakfast-3130-s-memorial-dr-1488 list index out of range\n",
      "34 stores\n"
     ]
    },
    {
     "data": {
      "application/vnd.jupyter.widget-view+json": {
       "model_id": "78684272ed2b4010bdd9956ede00bb94",
       "version_major": 2,
       "version_minor": 0
      },
      "text/plain": [
       "Parsing Locations in va:   0%|          | 0/48 [00:00<?, ?it/s]"
      ]
     },
     "metadata": {},
     "output_type": "display_data"
    },
    {
     "name": "stdout",
     "output_type": "stream",
     "text": [
      "https://restaurants.ihop.com/en-us/va/chesapeake/breakfast-2501-taylor-rd-575 list index out of range\n",
      "https://restaurants.ihop.com/en-us/va/chester/breakfast-12251-bermuda-cross-rd-ln-4507 list index out of range\n",
      "https://restaurants.ihop.com/en-us/va/dumfries/breakfast-3914-fettler-park-dr-3289 list index out of range\n",
      "https://restaurants.ihop.com/en-us/va/manassas/breakfast-8785-centreville-rd-564 list index out of range\n",
      "63 stores\n"
     ]
    },
    {
     "data": {
      "application/vnd.jupyter.widget-view+json": {
       "model_id": "413a317e02224472bfadc1311ddbe378",
       "version_major": 2,
       "version_minor": 0
      },
      "text/plain": [
       "Parsing Locations in wv:   0%|          | 0/9 [00:00<?, ?it/s]"
      ]
     },
     "metadata": {},
     "output_type": "display_data"
    },
    {
     "name": "stdout",
     "output_type": "stream",
     "text": [
      "https://restaurants.ihop.com/en-us/wv/charleston/breakfast-6308-maccorkle-ave-se-4502 list index out of range\n",
      "9 stores\n"
     ]
    },
    {
     "data": {
      "application/vnd.jupyter.widget-view+json": {
       "model_id": "850998ee23d645b79b0f1acee82e955e",
       "version_major": 2,
       "version_minor": 0
      },
      "text/plain": [
       "Parsing Locations in la:   0%|          | 0/21 [00:00<?, ?it/s]"
      ]
     },
     "metadata": {},
     "output_type": "display_data"
    },
    {
     "name": "stdout",
     "output_type": "stream",
     "text": [
      "https://restaurants.ihop.com/en-us/la/baton-rouge/breakfast-3006-college-dr-1930 list index out of range\n",
      "https://restaurants.ihop.com/en-us/la/baton-rouge/breakfast-3680-harding-blvd-2034 list index out of range\n",
      "https://restaurants.ihop.com/en-us/la/kenner/breakfast-3400-williams-blvd-3112 list index out of range\n",
      "https://restaurants.ihop.com/en-us/la/thibodaux/breakfast-632-n-canal-blvd-3779 list index out of range\n",
      "25 stores\n"
     ]
    },
    {
     "data": {
      "application/vnd.jupyter.widget-view+json": {
       "model_id": "07f5656d6bd146b289786537071a9bf8",
       "version_major": 2,
       "version_minor": 0
      },
      "text/plain": [
       "Parsing Locations in mi:   0%|          | 0/27 [00:00<?, ?it/s]"
      ]
     },
     "metadata": {},
     "output_type": "display_data"
    },
    {
     "name": "stdout",
     "output_type": "stream",
     "text": [
      "https://restaurants.ihop.com/en-us/mi/detroit/breakfast-333-e.-jefferson-ave-3591 list index out of range\n",
      "27 stores\n"
     ]
    },
    {
     "data": {
      "application/vnd.jupyter.widget-view+json": {
       "model_id": "5291954ef668444aa5c09b477e8aa1e9",
       "version_major": 2,
       "version_minor": 0
      },
      "text/plain": [
       "Parsing Locations in ma:   0%|          | 0/21 [00:00<?, ?it/s]"
      ]
     },
     "metadata": {},
     "output_type": "display_data"
    },
    {
     "name": "stdout",
     "output_type": "stream",
     "text": [
      "https://restaurants.ihop.com/en-us/ma/brighton/breakfast-1850-soldiers-field-rd-4725 list index out of range\n",
      "https://restaurants.ihop.com/en-us/ma/north-dartmouth/breakfast-47-faunce-corner-rd-2012 list index out of range\n",
      "https://restaurants.ihop.com/en-us/ma/northborough/breakfast-4102-shops-way-3426 list index out of range\n",
      "https://restaurants.ihop.com/en-us/ma/revere/breakfast-105-squire-rd-4732 list index out of range\n",
      "17 stores\n"
     ]
    },
    {
     "data": {
      "application/vnd.jupyter.widget-view+json": {
       "model_id": "92ad9b46a7c24e7ba6b92b69db5f78f7",
       "version_major": 2,
       "version_minor": 0
      },
      "text/plain": [
       "Parsing Locations in id:   0%|          | 0/6 [00:00<?, ?it/s]"
      ]
     },
     "metadata": {},
     "output_type": "display_data"
    },
    {
     "name": "stdout",
     "output_type": "stream",
     "text": [
      "7 stores\n"
     ]
    },
    {
     "data": {
      "application/vnd.jupyter.widget-view+json": {
       "model_id": "5fe9e88d438a490db9745b1bf47b5057",
       "version_major": 2,
       "version_minor": 0
      },
      "text/plain": [
       "Parsing Locations in fl:   0%|          | 0/96 [00:00<?, ?it/s]"
      ]
     },
     "metadata": {},
     "output_type": "display_data"
    },
    {
     "name": "stdout",
     "output_type": "stream",
     "text": [
      "https://restaurants.ihop.com/en-us/fl/homestead/breakfast-35-south-homestead-blvd-360242 list index out of range\n",
      "https://restaurants.ihop.com/en-us/fl/orlando/breakfast-11793-international-drive-360229 list index out of range\n",
      "https://restaurants.ihop.com/en-us/fl/orlando/breakfast-12400-s-apopka-vineland-road-360114 list index out of range\n",
      "https://restaurants.ihop.com/en-us/fl/pinellas-park/breakfast-4671-park-blvd-360227 list index out of range\n",
      "https://restaurants.ihop.com/en-us/fl/tamarac/breakfast-6101-n-university-dr-360063 list index out of range\n",
      "https://restaurants.ihop.com/en-us/fl/temple-terrace/breakfast-11710-morris-bridge-road-360180 list index out of range\n",
      "137 stores\n"
     ]
    },
    {
     "data": {
      "application/vnd.jupyter.widget-view+json": {
       "model_id": "fb237436d0be47ccbd0d75c507a0100b",
       "version_major": 2,
       "version_minor": 0
      },
      "text/plain": [
       "Parsing Locations in ne:   0%|          | 0/5 [00:00<?, ?it/s]"
      ]
     },
     "metadata": {},
     "output_type": "display_data"
    },
    {
     "name": "stdout",
     "output_type": "stream",
     "text": [
      "https://restaurants.ihop.com/en-us/ne/bellevue/breakfast-1503-cornhusker-rd-5331 list index out of range\n",
      "https://restaurants.ihop.com/en-us/ne/lincoln/breakfast-4501-n-27th-st-5326 list index out of range\n",
      "5 stores\n"
     ]
    },
    {
     "data": {
      "application/vnd.jupyter.widget-view+json": {
       "model_id": "4da1aac23f134463852be4882e9d57ab",
       "version_major": 2,
       "version_minor": 0
      },
      "text/plain": [
       "Parsing Locations in wa:   0%|          | 0/28 [00:00<?, ?it/s]"
      ]
     },
     "metadata": {},
     "output_type": "display_data"
    },
    {
     "name": "stdout",
     "output_type": "stream",
     "text": [
      "https://restaurants.ihop.com/en-us/wa/kent/breakfast-24060-104th-ave-se-3708 list index out of range\n",
      "36 stores\n"
     ]
    },
    {
     "data": {
      "application/vnd.jupyter.widget-view+json": {
       "model_id": "56f5c95d470a4c02a938800de7d6b785",
       "version_major": 2,
       "version_minor": 0
      },
      "text/plain": [
       "Parsing Locations in nm:   0%|          | 0/12 [00:00<?, ?it/s]"
      ]
     },
     "metadata": {},
     "output_type": "display_data"
    },
    {
     "name": "stdout",
     "output_type": "stream",
     "text": [
      "15 stores\n"
     ]
    },
    {
     "data": {
      "application/vnd.jupyter.widget-view+json": {
       "model_id": "86d3a25a62b54e1db8d083d658e02655",
       "version_major": 2,
       "version_minor": 0
      },
      "text/plain": [
       "Parsing Locations in pr:   0%|          | 0/6 [00:00<?, ?it/s]"
      ]
     },
     "metadata": {},
     "output_type": "display_data"
    },
    {
     "name": "stdout",
     "output_type": "stream",
     "text": [
      "6 stores\n"
     ]
    },
    {
     "data": {
      "application/vnd.jupyter.widget-view+json": {
       "model_id": "ea76a84770b44edb9e52ca65c2be05d3",
       "version_major": 2,
       "version_minor": 0
      },
      "text/plain": [
       "Parsing Locations in sd:   0%|          | 0/2 [00:00<?, ?it/s]"
      ]
     },
     "metadata": {},
     "output_type": "display_data"
    },
    {
     "name": "stdout",
     "output_type": "stream",
     "text": [
      "2 stores\n"
     ]
    },
    {
     "data": {
      "application/vnd.jupyter.widget-view+json": {
       "model_id": "3325b528d45545faa818102ef1161f45",
       "version_major": 2,
       "version_minor": 0
      },
      "text/plain": [
       "Parsing Locations in tx:   0%|          | 0/124 [00:00<?, ?it/s]"
      ]
     },
     "metadata": {},
     "output_type": "display_data"
    },
    {
     "name": "stdout",
     "output_type": "stream",
     "text": [
      "https://restaurants.ihop.com/en-us/tx/arlington/breakfast-1105-w-interstate-hwy-20-1432 list index out of range\n",
      "https://restaurants.ihop.com/en-us/tx/beaumont/breakfast-5875-eastex-frwy-1900 list index out of range\n",
      "https://restaurants.ihop.com/en-us/tx/grand-prairie/breakfast-5252-s.-state-hwy-360-3508 list index out of range\n",
      "https://restaurants.ihop.com/en-us/tx/grand-prairie/breakfast-4103-s-carrier-pkwy-1931 list index out of range\n",
      "https://restaurants.ihop.com/en-us/tx/harker-heights/breakfast-170-east-central-texas-expy-3028 list index out of range\n",
      "https://restaurants.ihop.com/en-us/tx/harlingen/breakfast-2105-w-lincoln-st-1923 list index out of range\n",
      "https://restaurants.ihop.com/en-us/tx/lufkin/breakfast-4400-s-medford-dr-1474 list index out of range\n",
      "https://restaurants.ihop.com/en-us/tx/mc-allen/breakfast-4321-n-10th-st-1902 list index out of range\n",
      "https://restaurants.ihop.com/en-us/tx/missouri-city/breakfast-9220-hwy-6-3598 list index out of range\n",
      "https://restaurants.ihop.com/en-us/tx/schertz/breakfast-17220-interstate-hwy-35-north-3173 list index out of range\n",
      "206 stores\n"
     ]
    },
    {
     "data": {
      "application/vnd.jupyter.widget-view+json": {
       "model_id": "76c32eb70e224208b9e488cece0b1d91",
       "version_major": 2,
       "version_minor": 0
      },
      "text/plain": [
       "Parsing Locations in ca:   0%|          | 0/169 [00:00<?, ?it/s]"
      ]
     },
     "metadata": {},
     "output_type": "display_data"
    },
    {
     "name": "stdout",
     "output_type": "stream",
     "text": [
      "https://restaurants.ihop.com/en-us/ca/fontana/breakfast-9781-sierra-ave-3457 list index out of range\n",
      "https://restaurants.ihop.com/en-us/ca/hayward/breakfast-22222-foothill-blvd-601 list index out of range\n",
      "https://restaurants.ihop.com/en-us/ca/los-angeles/breakfast-5655-wilshire-blvd-796 list index out of range\n",
      "https://restaurants.ihop.com/en-us/ca/los-angeles/breakfast-800-s-flower-st-797 list index out of range\n",
      "https://restaurants.ihop.com/en-us/ca/menifee/breakfast-26035-newport-rd-2021 list index out of range\n",
      "https://restaurants.ihop.com/en-us/ca/moreno-valley/breakfast-24318-hemlock-ave-760 list index out of range\n",
      "https://restaurants.ihop.com/en-us/ca/riverside/breakfast-10301-magnolia-ave-941 list index out of range\n",
      "https://restaurants.ihop.com/en-us/ca/sacramento/breakfast-3001-n-st-3378 list index out of range\n"
     ]
    },
    {
     "ename": "KeyboardInterrupt",
     "evalue": "",
     "output_type": "error",
     "traceback": [
      "\u001b[0;31m---------------------------------------------------------------------------\u001b[0m",
      "\u001b[0;31mKeyboardInterrupt\u001b[0m                         Traceback (most recent call last)",
      "Cell \u001b[0;32mIn[16], line 35\u001b[0m\n\u001b[1;32m     33\u001b[0m \u001b[38;5;28;01mtry\u001b[39;00m:\n\u001b[1;32m     34\u001b[0m     store_url \u001b[38;5;241m=\u001b[39m store_url \u001b[38;5;241m=\u001b[39m store_a\u001b[38;5;241m.\u001b[39mattrs[\u001b[38;5;124m'\u001b[39m\u001b[38;5;124mhref\u001b[39m\u001b[38;5;124m'\u001b[39m]\n\u001b[0;32m---> 35\u001b[0m     point \u001b[38;5;241m=\u001b[39m \u001b[43mget_coords\u001b[49m\u001b[43m(\u001b[49m\u001b[43mstore_url\u001b[49m\u001b[43m)\u001b[49m\n\u001b[1;32m     36\u001b[0m \u001b[38;5;28;01mexcept\u001b[39;00m \u001b[38;5;167;01mException\u001b[39;00m \u001b[38;5;28;01mas\u001b[39;00m e:\n\u001b[1;32m     37\u001b[0m     \u001b[38;5;28mprint\u001b[39m(store_url, e)\n",
      "Cell \u001b[0;32mIn[15], line 2\u001b[0m, in \u001b[0;36mget_coords\u001b[0;34m(store_url)\u001b[0m\n\u001b[1;32m      1\u001b[0m \u001b[38;5;28;01mdef\u001b[39;00m \u001b[38;5;21mget_coords\u001b[39m(store_url: \u001b[38;5;28mstr\u001b[39m) \u001b[38;5;241m-\u001b[39m\u001b[38;5;241m>\u001b[39m Point:\n\u001b[0;32m----> 2\u001b[0m     r \u001b[38;5;241m=\u001b[39m \u001b[43mscraper\u001b[49m\u001b[38;5;241;43m.\u001b[39;49m\u001b[43mget\u001b[49m\u001b[43m(\u001b[49m\u001b[43mstore_url\u001b[49m\u001b[43m)\u001b[49m\n\u001b[1;32m      3\u001b[0m     soup \u001b[38;5;241m=\u001b[39m BeautifulSoup(r\u001b[38;5;241m.\u001b[39mtext, \u001b[38;5;124m\"\u001b[39m\u001b[38;5;124mhtml.parser\u001b[39m\u001b[38;5;124m\"\u001b[39m)\n\u001b[1;32m      4\u001b[0m     div \u001b[38;5;241m=\u001b[39m soup\u001b[38;5;241m.\u001b[39mfind(\u001b[38;5;124m'\u001b[39m\u001b[38;5;124mdiv\u001b[39m\u001b[38;5;124m'\u001b[39m, {\u001b[38;5;124m\"\u001b[39m\u001b[38;5;124mid\u001b[39m\u001b[38;5;124m\"\u001b[39m:\u001b[38;5;124m\"\u001b[39m\u001b[38;5;124mlocator-content\u001b[39m\u001b[38;5;124m\"\u001b[39m})\n",
      "File \u001b[0;32m/mnt/c/Users/Winston/Documents/GitHub/VineMapper/.venv/lib/python3.11/site-packages/requests/sessions.py:602\u001b[0m, in \u001b[0;36mSession.get\u001b[0;34m(self, url, **kwargs)\u001b[0m\n\u001b[1;32m    594\u001b[0m \u001b[38;5;250m\u001b[39m\u001b[38;5;124mr\u001b[39m\u001b[38;5;124;03m\"\"\"Sends a GET request. Returns :class:`Response` object.\u001b[39;00m\n\u001b[1;32m    595\u001b[0m \n\u001b[1;32m    596\u001b[0m \u001b[38;5;124;03m:param url: URL for the new :class:`Request` object.\u001b[39;00m\n\u001b[1;32m    597\u001b[0m \u001b[38;5;124;03m:param \\*\\*kwargs: Optional arguments that ``request`` takes.\u001b[39;00m\n\u001b[1;32m    598\u001b[0m \u001b[38;5;124;03m:rtype: requests.Response\u001b[39;00m\n\u001b[1;32m    599\u001b[0m \u001b[38;5;124;03m\"\"\"\u001b[39;00m\n\u001b[1;32m    601\u001b[0m kwargs\u001b[38;5;241m.\u001b[39msetdefault(\u001b[38;5;124m\"\u001b[39m\u001b[38;5;124mallow_redirects\u001b[39m\u001b[38;5;124m\"\u001b[39m, \u001b[38;5;28;01mTrue\u001b[39;00m)\n\u001b[0;32m--> 602\u001b[0m \u001b[38;5;28;01mreturn\u001b[39;00m \u001b[38;5;28;43mself\u001b[39;49m\u001b[38;5;241;43m.\u001b[39;49m\u001b[43mrequest\u001b[49m\u001b[43m(\u001b[49m\u001b[38;5;124;43m\"\u001b[39;49m\u001b[38;5;124;43mGET\u001b[39;49m\u001b[38;5;124;43m\"\u001b[39;49m\u001b[43m,\u001b[49m\u001b[43m \u001b[49m\u001b[43murl\u001b[49m\u001b[43m,\u001b[49m\u001b[43m \u001b[49m\u001b[38;5;241;43m*\u001b[39;49m\u001b[38;5;241;43m*\u001b[39;49m\u001b[43mkwargs\u001b[49m\u001b[43m)\u001b[49m\n",
      "File \u001b[0;32m/mnt/c/Users/Winston/Documents/GitHub/VineMapper/.venv/lib/python3.11/site-packages/cloudscraper/__init__.py:259\u001b[0m, in \u001b[0;36mCloudScraper.request\u001b[0;34m(self, method, url, *args, **kwargs)\u001b[0m\n\u001b[1;32m    246\u001b[0m     (method, url, args, kwargs) \u001b[38;5;241m=\u001b[39m \u001b[38;5;28mself\u001b[39m\u001b[38;5;241m.\u001b[39mrequestPreHook(\n\u001b[1;32m    247\u001b[0m         \u001b[38;5;28mself\u001b[39m,\n\u001b[1;32m    248\u001b[0m         method,\n\u001b[0;32m   (...)\u001b[0m\n\u001b[1;32m    251\u001b[0m         \u001b[38;5;241m*\u001b[39m\u001b[38;5;241m*\u001b[39mkwargs\n\u001b[1;32m    252\u001b[0m     )\n\u001b[1;32m    254\u001b[0m \u001b[38;5;66;03m# ------------------------------------------------------------------------------- #\u001b[39;00m\n\u001b[1;32m    255\u001b[0m \u001b[38;5;66;03m# Make the request via requests.\u001b[39;00m\n\u001b[1;32m    256\u001b[0m \u001b[38;5;66;03m# ------------------------------------------------------------------------------- #\u001b[39;00m\n\u001b[1;32m    258\u001b[0m response \u001b[38;5;241m=\u001b[39m \u001b[38;5;28mself\u001b[39m\u001b[38;5;241m.\u001b[39mdecodeBrotli(\n\u001b[0;32m--> 259\u001b[0m     \u001b[38;5;28;43mself\u001b[39;49m\u001b[38;5;241;43m.\u001b[39;49m\u001b[43mperform_request\u001b[49m\u001b[43m(\u001b[49m\u001b[43mmethod\u001b[49m\u001b[43m,\u001b[49m\u001b[43m \u001b[49m\u001b[43murl\u001b[49m\u001b[43m,\u001b[49m\u001b[43m \u001b[49m\u001b[38;5;241;43m*\u001b[39;49m\u001b[43margs\u001b[49m\u001b[43m,\u001b[49m\u001b[43m \u001b[49m\u001b[38;5;241;43m*\u001b[39;49m\u001b[38;5;241;43m*\u001b[39;49m\u001b[43mkwargs\u001b[49m\u001b[43m)\u001b[49m\n\u001b[1;32m    260\u001b[0m )\n\u001b[1;32m    262\u001b[0m \u001b[38;5;66;03m# ------------------------------------------------------------------------------- #\u001b[39;00m\n\u001b[1;32m    263\u001b[0m \u001b[38;5;66;03m# Debug the request via the Response object.\u001b[39;00m\n\u001b[1;32m    264\u001b[0m \u001b[38;5;66;03m# ------------------------------------------------------------------------------- #\u001b[39;00m\n\u001b[1;32m    266\u001b[0m \u001b[38;5;28;01mif\u001b[39;00m \u001b[38;5;28mself\u001b[39m\u001b[38;5;241m.\u001b[39mdebug:\n",
      "File \u001b[0;32m/mnt/c/Users/Winston/Documents/GitHub/VineMapper/.venv/lib/python3.11/site-packages/cloudscraper/__init__.py:192\u001b[0m, in \u001b[0;36mCloudScraper.perform_request\u001b[0;34m(self, method, url, *args, **kwargs)\u001b[0m\n\u001b[1;32m    191\u001b[0m \u001b[38;5;28;01mdef\u001b[39;00m \u001b[38;5;21mperform_request\u001b[39m(\u001b[38;5;28mself\u001b[39m, method, url, \u001b[38;5;241m*\u001b[39margs, \u001b[38;5;241m*\u001b[39m\u001b[38;5;241m*\u001b[39mkwargs):\n\u001b[0;32m--> 192\u001b[0m     \u001b[38;5;28;01mreturn\u001b[39;00m \u001b[38;5;28;43msuper\u001b[39;49m\u001b[43m(\u001b[49m\u001b[43mCloudScraper\u001b[49m\u001b[43m,\u001b[49m\u001b[43m \u001b[49m\u001b[38;5;28;43mself\u001b[39;49m\u001b[43m)\u001b[49m\u001b[38;5;241;43m.\u001b[39;49m\u001b[43mrequest\u001b[49m\u001b[43m(\u001b[49m\u001b[43mmethod\u001b[49m\u001b[43m,\u001b[49m\u001b[43m \u001b[49m\u001b[43murl\u001b[49m\u001b[43m,\u001b[49m\u001b[43m \u001b[49m\u001b[38;5;241;43m*\u001b[39;49m\u001b[43margs\u001b[49m\u001b[43m,\u001b[49m\u001b[43m \u001b[49m\u001b[38;5;241;43m*\u001b[39;49m\u001b[38;5;241;43m*\u001b[39;49m\u001b[43mkwargs\u001b[49m\u001b[43m)\u001b[49m\n",
      "File \u001b[0;32m/mnt/c/Users/Winston/Documents/GitHub/VineMapper/.venv/lib/python3.11/site-packages/requests/sessions.py:589\u001b[0m, in \u001b[0;36mSession.request\u001b[0;34m(self, method, url, params, data, headers, cookies, files, auth, timeout, allow_redirects, proxies, hooks, stream, verify, cert, json)\u001b[0m\n\u001b[1;32m    584\u001b[0m send_kwargs \u001b[38;5;241m=\u001b[39m {\n\u001b[1;32m    585\u001b[0m     \u001b[38;5;124m\"\u001b[39m\u001b[38;5;124mtimeout\u001b[39m\u001b[38;5;124m\"\u001b[39m: timeout,\n\u001b[1;32m    586\u001b[0m     \u001b[38;5;124m\"\u001b[39m\u001b[38;5;124mallow_redirects\u001b[39m\u001b[38;5;124m\"\u001b[39m: allow_redirects,\n\u001b[1;32m    587\u001b[0m }\n\u001b[1;32m    588\u001b[0m send_kwargs\u001b[38;5;241m.\u001b[39mupdate(settings)\n\u001b[0;32m--> 589\u001b[0m resp \u001b[38;5;241m=\u001b[39m \u001b[38;5;28;43mself\u001b[39;49m\u001b[38;5;241;43m.\u001b[39;49m\u001b[43msend\u001b[49m\u001b[43m(\u001b[49m\u001b[43mprep\u001b[49m\u001b[43m,\u001b[49m\u001b[43m \u001b[49m\u001b[38;5;241;43m*\u001b[39;49m\u001b[38;5;241;43m*\u001b[39;49m\u001b[43msend_kwargs\u001b[49m\u001b[43m)\u001b[49m\n\u001b[1;32m    591\u001b[0m \u001b[38;5;28;01mreturn\u001b[39;00m resp\n",
      "File \u001b[0;32m/mnt/c/Users/Winston/Documents/GitHub/VineMapper/.venv/lib/python3.11/site-packages/requests/sessions.py:703\u001b[0m, in \u001b[0;36mSession.send\u001b[0;34m(self, request, **kwargs)\u001b[0m\n\u001b[1;32m    700\u001b[0m start \u001b[38;5;241m=\u001b[39m preferred_clock()\n\u001b[1;32m    702\u001b[0m \u001b[38;5;66;03m# Send the request\u001b[39;00m\n\u001b[0;32m--> 703\u001b[0m r \u001b[38;5;241m=\u001b[39m \u001b[43madapter\u001b[49m\u001b[38;5;241;43m.\u001b[39;49m\u001b[43msend\u001b[49m\u001b[43m(\u001b[49m\u001b[43mrequest\u001b[49m\u001b[43m,\u001b[49m\u001b[43m \u001b[49m\u001b[38;5;241;43m*\u001b[39;49m\u001b[38;5;241;43m*\u001b[39;49m\u001b[43mkwargs\u001b[49m\u001b[43m)\u001b[49m\n\u001b[1;32m    705\u001b[0m \u001b[38;5;66;03m# Total elapsed time of the request (approximately)\u001b[39;00m\n\u001b[1;32m    706\u001b[0m elapsed \u001b[38;5;241m=\u001b[39m preferred_clock() \u001b[38;5;241m-\u001b[39m start\n",
      "File \u001b[0;32m/mnt/c/Users/Winston/Documents/GitHub/VineMapper/.venv/lib/python3.11/site-packages/requests/adapters.py:667\u001b[0m, in \u001b[0;36mHTTPAdapter.send\u001b[0;34m(self, request, stream, timeout, verify, cert, proxies)\u001b[0m\n\u001b[1;32m    664\u001b[0m     timeout \u001b[38;5;241m=\u001b[39m TimeoutSauce(connect\u001b[38;5;241m=\u001b[39mtimeout, read\u001b[38;5;241m=\u001b[39mtimeout)\n\u001b[1;32m    666\u001b[0m \u001b[38;5;28;01mtry\u001b[39;00m:\n\u001b[0;32m--> 667\u001b[0m     resp \u001b[38;5;241m=\u001b[39m \u001b[43mconn\u001b[49m\u001b[38;5;241;43m.\u001b[39;49m\u001b[43murlopen\u001b[49m\u001b[43m(\u001b[49m\n\u001b[1;32m    668\u001b[0m \u001b[43m        \u001b[49m\u001b[43mmethod\u001b[49m\u001b[38;5;241;43m=\u001b[39;49m\u001b[43mrequest\u001b[49m\u001b[38;5;241;43m.\u001b[39;49m\u001b[43mmethod\u001b[49m\u001b[43m,\u001b[49m\n\u001b[1;32m    669\u001b[0m \u001b[43m        \u001b[49m\u001b[43murl\u001b[49m\u001b[38;5;241;43m=\u001b[39;49m\u001b[43murl\u001b[49m\u001b[43m,\u001b[49m\n\u001b[1;32m    670\u001b[0m \u001b[43m        \u001b[49m\u001b[43mbody\u001b[49m\u001b[38;5;241;43m=\u001b[39;49m\u001b[43mrequest\u001b[49m\u001b[38;5;241;43m.\u001b[39;49m\u001b[43mbody\u001b[49m\u001b[43m,\u001b[49m\n\u001b[1;32m    671\u001b[0m \u001b[43m        \u001b[49m\u001b[43mheaders\u001b[49m\u001b[38;5;241;43m=\u001b[39;49m\u001b[43mrequest\u001b[49m\u001b[38;5;241;43m.\u001b[39;49m\u001b[43mheaders\u001b[49m\u001b[43m,\u001b[49m\n\u001b[1;32m    672\u001b[0m \u001b[43m        \u001b[49m\u001b[43mredirect\u001b[49m\u001b[38;5;241;43m=\u001b[39;49m\u001b[38;5;28;43;01mFalse\u001b[39;49;00m\u001b[43m,\u001b[49m\n\u001b[1;32m    673\u001b[0m \u001b[43m        \u001b[49m\u001b[43massert_same_host\u001b[49m\u001b[38;5;241;43m=\u001b[39;49m\u001b[38;5;28;43;01mFalse\u001b[39;49;00m\u001b[43m,\u001b[49m\n\u001b[1;32m    674\u001b[0m \u001b[43m        \u001b[49m\u001b[43mpreload_content\u001b[49m\u001b[38;5;241;43m=\u001b[39;49m\u001b[38;5;28;43;01mFalse\u001b[39;49;00m\u001b[43m,\u001b[49m\n\u001b[1;32m    675\u001b[0m \u001b[43m        \u001b[49m\u001b[43mdecode_content\u001b[49m\u001b[38;5;241;43m=\u001b[39;49m\u001b[38;5;28;43;01mFalse\u001b[39;49;00m\u001b[43m,\u001b[49m\n\u001b[1;32m    676\u001b[0m \u001b[43m        \u001b[49m\u001b[43mretries\u001b[49m\u001b[38;5;241;43m=\u001b[39;49m\u001b[38;5;28;43mself\u001b[39;49m\u001b[38;5;241;43m.\u001b[39;49m\u001b[43mmax_retries\u001b[49m\u001b[43m,\u001b[49m\n\u001b[1;32m    677\u001b[0m \u001b[43m        \u001b[49m\u001b[43mtimeout\u001b[49m\u001b[38;5;241;43m=\u001b[39;49m\u001b[43mtimeout\u001b[49m\u001b[43m,\u001b[49m\n\u001b[1;32m    678\u001b[0m \u001b[43m        \u001b[49m\u001b[43mchunked\u001b[49m\u001b[38;5;241;43m=\u001b[39;49m\u001b[43mchunked\u001b[49m\u001b[43m,\u001b[49m\n\u001b[1;32m    679\u001b[0m \u001b[43m    \u001b[49m\u001b[43m)\u001b[49m\n\u001b[1;32m    681\u001b[0m \u001b[38;5;28;01mexcept\u001b[39;00m (ProtocolError, \u001b[38;5;167;01mOSError\u001b[39;00m) \u001b[38;5;28;01mas\u001b[39;00m err:\n\u001b[1;32m    682\u001b[0m     \u001b[38;5;28;01mraise\u001b[39;00m \u001b[38;5;167;01mConnectionError\u001b[39;00m(err, request\u001b[38;5;241m=\u001b[39mrequest)\n",
      "File \u001b[0;32m/mnt/c/Users/Winston/Documents/GitHub/VineMapper/.venv/lib/python3.11/site-packages/urllib3/connectionpool.py:789\u001b[0m, in \u001b[0;36mHTTPConnectionPool.urlopen\u001b[0;34m(self, method, url, body, headers, retries, redirect, assert_same_host, timeout, pool_timeout, release_conn, chunked, body_pos, preload_content, decode_content, **response_kw)\u001b[0m\n\u001b[1;32m    786\u001b[0m response_conn \u001b[38;5;241m=\u001b[39m conn \u001b[38;5;28;01mif\u001b[39;00m \u001b[38;5;129;01mnot\u001b[39;00m release_conn \u001b[38;5;28;01melse\u001b[39;00m \u001b[38;5;28;01mNone\u001b[39;00m\n\u001b[1;32m    788\u001b[0m \u001b[38;5;66;03m# Make the request on the HTTPConnection object\u001b[39;00m\n\u001b[0;32m--> 789\u001b[0m response \u001b[38;5;241m=\u001b[39m \u001b[38;5;28;43mself\u001b[39;49m\u001b[38;5;241;43m.\u001b[39;49m\u001b[43m_make_request\u001b[49m\u001b[43m(\u001b[49m\n\u001b[1;32m    790\u001b[0m \u001b[43m    \u001b[49m\u001b[43mconn\u001b[49m\u001b[43m,\u001b[49m\n\u001b[1;32m    791\u001b[0m \u001b[43m    \u001b[49m\u001b[43mmethod\u001b[49m\u001b[43m,\u001b[49m\n\u001b[1;32m    792\u001b[0m \u001b[43m    \u001b[49m\u001b[43murl\u001b[49m\u001b[43m,\u001b[49m\n\u001b[1;32m    793\u001b[0m \u001b[43m    \u001b[49m\u001b[43mtimeout\u001b[49m\u001b[38;5;241;43m=\u001b[39;49m\u001b[43mtimeout_obj\u001b[49m\u001b[43m,\u001b[49m\n\u001b[1;32m    794\u001b[0m \u001b[43m    \u001b[49m\u001b[43mbody\u001b[49m\u001b[38;5;241;43m=\u001b[39;49m\u001b[43mbody\u001b[49m\u001b[43m,\u001b[49m\n\u001b[1;32m    795\u001b[0m \u001b[43m    \u001b[49m\u001b[43mheaders\u001b[49m\u001b[38;5;241;43m=\u001b[39;49m\u001b[43mheaders\u001b[49m\u001b[43m,\u001b[49m\n\u001b[1;32m    796\u001b[0m \u001b[43m    \u001b[49m\u001b[43mchunked\u001b[49m\u001b[38;5;241;43m=\u001b[39;49m\u001b[43mchunked\u001b[49m\u001b[43m,\u001b[49m\n\u001b[1;32m    797\u001b[0m \u001b[43m    \u001b[49m\u001b[43mretries\u001b[49m\u001b[38;5;241;43m=\u001b[39;49m\u001b[43mretries\u001b[49m\u001b[43m,\u001b[49m\n\u001b[1;32m    798\u001b[0m \u001b[43m    \u001b[49m\u001b[43mresponse_conn\u001b[49m\u001b[38;5;241;43m=\u001b[39;49m\u001b[43mresponse_conn\u001b[49m\u001b[43m,\u001b[49m\n\u001b[1;32m    799\u001b[0m \u001b[43m    \u001b[49m\u001b[43mpreload_content\u001b[49m\u001b[38;5;241;43m=\u001b[39;49m\u001b[43mpreload_content\u001b[49m\u001b[43m,\u001b[49m\n\u001b[1;32m    800\u001b[0m \u001b[43m    \u001b[49m\u001b[43mdecode_content\u001b[49m\u001b[38;5;241;43m=\u001b[39;49m\u001b[43mdecode_content\u001b[49m\u001b[43m,\u001b[49m\n\u001b[1;32m    801\u001b[0m \u001b[43m    \u001b[49m\u001b[38;5;241;43m*\u001b[39;49m\u001b[38;5;241;43m*\u001b[39;49m\u001b[43mresponse_kw\u001b[49m\u001b[43m,\u001b[49m\n\u001b[1;32m    802\u001b[0m \u001b[43m\u001b[49m\u001b[43m)\u001b[49m\n\u001b[1;32m    804\u001b[0m \u001b[38;5;66;03m# Everything went great!\u001b[39;00m\n\u001b[1;32m    805\u001b[0m clean_exit \u001b[38;5;241m=\u001b[39m \u001b[38;5;28;01mTrue\u001b[39;00m\n",
      "File \u001b[0;32m/mnt/c/Users/Winston/Documents/GitHub/VineMapper/.venv/lib/python3.11/site-packages/urllib3/connectionpool.py:536\u001b[0m, in \u001b[0;36mHTTPConnectionPool._make_request\u001b[0;34m(self, conn, method, url, body, headers, retries, timeout, chunked, response_conn, preload_content, decode_content, enforce_content_length)\u001b[0m\n\u001b[1;32m    534\u001b[0m \u001b[38;5;66;03m# Receive the response from the server\u001b[39;00m\n\u001b[1;32m    535\u001b[0m \u001b[38;5;28;01mtry\u001b[39;00m:\n\u001b[0;32m--> 536\u001b[0m     response \u001b[38;5;241m=\u001b[39m \u001b[43mconn\u001b[49m\u001b[38;5;241;43m.\u001b[39;49m\u001b[43mgetresponse\u001b[49m\u001b[43m(\u001b[49m\u001b[43m)\u001b[49m\n\u001b[1;32m    537\u001b[0m \u001b[38;5;28;01mexcept\u001b[39;00m (BaseSSLError, \u001b[38;5;167;01mOSError\u001b[39;00m) \u001b[38;5;28;01mas\u001b[39;00m e:\n\u001b[1;32m    538\u001b[0m     \u001b[38;5;28mself\u001b[39m\u001b[38;5;241m.\u001b[39m_raise_timeout(err\u001b[38;5;241m=\u001b[39me, url\u001b[38;5;241m=\u001b[39murl, timeout_value\u001b[38;5;241m=\u001b[39mread_timeout)\n",
      "File \u001b[0;32m/mnt/c/Users/Winston/Documents/GitHub/VineMapper/.venv/lib/python3.11/site-packages/urllib3/connection.py:507\u001b[0m, in \u001b[0;36mHTTPConnection.getresponse\u001b[0;34m(self)\u001b[0m\n\u001b[1;32m    504\u001b[0m \u001b[38;5;28;01mfrom\u001b[39;00m \u001b[38;5;21;01m.\u001b[39;00m\u001b[38;5;21;01mresponse\u001b[39;00m \u001b[38;5;28;01mimport\u001b[39;00m HTTPResponse\n\u001b[1;32m    506\u001b[0m \u001b[38;5;66;03m# Get the response from http.client.HTTPConnection\u001b[39;00m\n\u001b[0;32m--> 507\u001b[0m httplib_response \u001b[38;5;241m=\u001b[39m \u001b[38;5;28;43msuper\u001b[39;49m\u001b[43m(\u001b[49m\u001b[43m)\u001b[49m\u001b[38;5;241;43m.\u001b[39;49m\u001b[43mgetresponse\u001b[49m\u001b[43m(\u001b[49m\u001b[43m)\u001b[49m\n\u001b[1;32m    509\u001b[0m \u001b[38;5;28;01mtry\u001b[39;00m:\n\u001b[1;32m    510\u001b[0m     assert_header_parsing(httplib_response\u001b[38;5;241m.\u001b[39mmsg)\n",
      "File \u001b[0;32m/usr/lib/python3.11/http/client.py:1395\u001b[0m, in \u001b[0;36mHTTPConnection.getresponse\u001b[0;34m(self)\u001b[0m\n\u001b[1;32m   1393\u001b[0m \u001b[38;5;28;01mtry\u001b[39;00m:\n\u001b[1;32m   1394\u001b[0m     \u001b[38;5;28;01mtry\u001b[39;00m:\n\u001b[0;32m-> 1395\u001b[0m         \u001b[43mresponse\u001b[49m\u001b[38;5;241;43m.\u001b[39;49m\u001b[43mbegin\u001b[49m\u001b[43m(\u001b[49m\u001b[43m)\u001b[49m\n\u001b[1;32m   1396\u001b[0m     \u001b[38;5;28;01mexcept\u001b[39;00m \u001b[38;5;167;01mConnectionError\u001b[39;00m:\n\u001b[1;32m   1397\u001b[0m         \u001b[38;5;28mself\u001b[39m\u001b[38;5;241m.\u001b[39mclose()\n",
      "File \u001b[0;32m/usr/lib/python3.11/http/client.py:325\u001b[0m, in \u001b[0;36mHTTPResponse.begin\u001b[0;34m(self)\u001b[0m\n\u001b[1;32m    323\u001b[0m \u001b[38;5;66;03m# read until we get a non-100 response\u001b[39;00m\n\u001b[1;32m    324\u001b[0m \u001b[38;5;28;01mwhile\u001b[39;00m \u001b[38;5;28;01mTrue\u001b[39;00m:\n\u001b[0;32m--> 325\u001b[0m     version, status, reason \u001b[38;5;241m=\u001b[39m \u001b[38;5;28;43mself\u001b[39;49m\u001b[38;5;241;43m.\u001b[39;49m\u001b[43m_read_status\u001b[49m\u001b[43m(\u001b[49m\u001b[43m)\u001b[49m\n\u001b[1;32m    326\u001b[0m     \u001b[38;5;28;01mif\u001b[39;00m status \u001b[38;5;241m!=\u001b[39m CONTINUE:\n\u001b[1;32m    327\u001b[0m         \u001b[38;5;28;01mbreak\u001b[39;00m\n",
      "File \u001b[0;32m/usr/lib/python3.11/http/client.py:286\u001b[0m, in \u001b[0;36mHTTPResponse._read_status\u001b[0;34m(self)\u001b[0m\n\u001b[1;32m    285\u001b[0m \u001b[38;5;28;01mdef\u001b[39;00m \u001b[38;5;21m_read_status\u001b[39m(\u001b[38;5;28mself\u001b[39m):\n\u001b[0;32m--> 286\u001b[0m     line \u001b[38;5;241m=\u001b[39m \u001b[38;5;28mstr\u001b[39m(\u001b[38;5;28mself\u001b[39m\u001b[38;5;241m.\u001b[39mfp\u001b[38;5;241m.\u001b[39mreadline(_MAXLINE \u001b[38;5;241m+\u001b[39m \u001b[38;5;241m1\u001b[39m), \u001b[38;5;124m\"\u001b[39m\u001b[38;5;124miso-8859-1\u001b[39m\u001b[38;5;124m\"\u001b[39m)\n\u001b[1;32m    287\u001b[0m     \u001b[38;5;28;01mif\u001b[39;00m \u001b[38;5;28mlen\u001b[39m(line) \u001b[38;5;241m>\u001b[39m _MAXLINE:\n\u001b[1;32m    288\u001b[0m         \u001b[38;5;28;01mraise\u001b[39;00m LineTooLong(\u001b[38;5;124m\"\u001b[39m\u001b[38;5;124mstatus line\u001b[39m\u001b[38;5;124m\"\u001b[39m)\n",
      "File \u001b[0;32m/usr/lib/python3.11/socket.py:718\u001b[0m, in \u001b[0;36mSocketIO.readinto\u001b[0;34m(self, b)\u001b[0m\n\u001b[1;32m    716\u001b[0m \u001b[38;5;28;01mwhile\u001b[39;00m \u001b[38;5;28;01mTrue\u001b[39;00m:\n\u001b[1;32m    717\u001b[0m     \u001b[38;5;28;01mtry\u001b[39;00m:\n\u001b[0;32m--> 718\u001b[0m         \u001b[38;5;28;01mreturn\u001b[39;00m \u001b[38;5;28;43mself\u001b[39;49m\u001b[38;5;241;43m.\u001b[39;49m\u001b[43m_sock\u001b[49m\u001b[38;5;241;43m.\u001b[39;49m\u001b[43mrecv_into\u001b[49m\u001b[43m(\u001b[49m\u001b[43mb\u001b[49m\u001b[43m)\u001b[49m\n\u001b[1;32m    719\u001b[0m     \u001b[38;5;28;01mexcept\u001b[39;00m timeout:\n\u001b[1;32m    720\u001b[0m         \u001b[38;5;28mself\u001b[39m\u001b[38;5;241m.\u001b[39m_timeout_occurred \u001b[38;5;241m=\u001b[39m \u001b[38;5;28;01mTrue\u001b[39;00m\n",
      "File \u001b[0;32m/usr/lib/python3.11/ssl.py:1314\u001b[0m, in \u001b[0;36mSSLSocket.recv_into\u001b[0;34m(self, buffer, nbytes, flags)\u001b[0m\n\u001b[1;32m   1310\u001b[0m     \u001b[38;5;28;01mif\u001b[39;00m flags \u001b[38;5;241m!=\u001b[39m \u001b[38;5;241m0\u001b[39m:\n\u001b[1;32m   1311\u001b[0m         \u001b[38;5;28;01mraise\u001b[39;00m \u001b[38;5;167;01mValueError\u001b[39;00m(\n\u001b[1;32m   1312\u001b[0m           \u001b[38;5;124m\"\u001b[39m\u001b[38;5;124mnon-zero flags not allowed in calls to recv_into() on \u001b[39m\u001b[38;5;132;01m%s\u001b[39;00m\u001b[38;5;124m\"\u001b[39m \u001b[38;5;241m%\u001b[39m\n\u001b[1;32m   1313\u001b[0m           \u001b[38;5;28mself\u001b[39m\u001b[38;5;241m.\u001b[39m\u001b[38;5;18m__class__\u001b[39m)\n\u001b[0;32m-> 1314\u001b[0m     \u001b[38;5;28;01mreturn\u001b[39;00m \u001b[38;5;28;43mself\u001b[39;49m\u001b[38;5;241;43m.\u001b[39;49m\u001b[43mread\u001b[49m\u001b[43m(\u001b[49m\u001b[43mnbytes\u001b[49m\u001b[43m,\u001b[49m\u001b[43m \u001b[49m\u001b[43mbuffer\u001b[49m\u001b[43m)\u001b[49m\n\u001b[1;32m   1315\u001b[0m \u001b[38;5;28;01melse\u001b[39;00m:\n\u001b[1;32m   1316\u001b[0m     \u001b[38;5;28;01mreturn\u001b[39;00m \u001b[38;5;28msuper\u001b[39m()\u001b[38;5;241m.\u001b[39mrecv_into(buffer, nbytes, flags)\n",
      "File \u001b[0;32m/usr/lib/python3.11/ssl.py:1166\u001b[0m, in \u001b[0;36mSSLSocket.read\u001b[0;34m(self, len, buffer)\u001b[0m\n\u001b[1;32m   1164\u001b[0m \u001b[38;5;28;01mtry\u001b[39;00m:\n\u001b[1;32m   1165\u001b[0m     \u001b[38;5;28;01mif\u001b[39;00m buffer \u001b[38;5;129;01mis\u001b[39;00m \u001b[38;5;129;01mnot\u001b[39;00m \u001b[38;5;28;01mNone\u001b[39;00m:\n\u001b[0;32m-> 1166\u001b[0m         \u001b[38;5;28;01mreturn\u001b[39;00m \u001b[38;5;28;43mself\u001b[39;49m\u001b[38;5;241;43m.\u001b[39;49m\u001b[43m_sslobj\u001b[49m\u001b[38;5;241;43m.\u001b[39;49m\u001b[43mread\u001b[49m\u001b[43m(\u001b[49m\u001b[38;5;28;43mlen\u001b[39;49m\u001b[43m,\u001b[49m\u001b[43m \u001b[49m\u001b[43mbuffer\u001b[49m\u001b[43m)\u001b[49m\n\u001b[1;32m   1167\u001b[0m     \u001b[38;5;28;01melse\u001b[39;00m:\n\u001b[1;32m   1168\u001b[0m         \u001b[38;5;28;01mreturn\u001b[39;00m \u001b[38;5;28mself\u001b[39m\u001b[38;5;241m.\u001b[39m_sslobj\u001b[38;5;241m.\u001b[39mread(\u001b[38;5;28mlen\u001b[39m)\n",
      "\u001b[0;31mKeyboardInterrupt\u001b[0m: "
     ]
    }
   ],
   "source": [
    "url_root = \"https://restaurants.ihop.com/en-us/\"\n",
    "\n",
    "# Parse all locations in a state\n",
    "for i in tqdm(range(len(states_df)), desc=\"Parsing States\"):\n",
    "    state_code = states_df.iloc[i][\"STUSPS\"].lower()\n",
    "    state_url = f\"{url_root}{state_code}/\"\n",
    "    state_store_list = []\n",
    "\n",
    "    # If File exists continue\n",
    "    if os.path.isfile(f\"data/states/{state_code}.gpkg\"):\n",
    "        continue\n",
    "\n",
    "    r_state = scraper.get(state_url)\n",
    "\n",
    "    if r_state.status_code != 200:\n",
    "        print(state_code)\n",
    "        continue\n",
    "\n",
    "    soup_state = BeautifulSoup(r_state.text, \"html.parser\")\n",
    "    location_lis = soup_state.find_all(\"li\", {\"class\": \"map-list-item-wrap is-single\"})\n",
    "    city_as = [location_li.find(\"a\") for location_li in location_lis]\n",
    "\n",
    "    for city_a in tqdm(city_as, desc=f\"Parsing Locations in {state_code}\"):\n",
    "        city_url = city_a.attrs[\"href\"]\n",
    "        r_city = scraper.get(city_url)\n",
    "        soup_city = BeautifulSoup(r_city.text, \"html.parser\")\n",
    "        store_divs = soup_city.find_all(\"div\", {\"class\": \"map-list-item-header\"})\n",
    "        store_as = [store_div.find(\"a\") for store_div in store_divs]\n",
    "\n",
    "        for store_a in store_as:\n",
    "            try:\n",
    "                store_url = store_url = store_a.attrs[\"href\"]\n",
    "                point = get_coords(store_url)\n",
    "            except Exception as e:\n",
    "                print(store_url, e)\n",
    "                continue\n",
    "            store_dict = {\"STUSPS\": state_code, \"geometry\": point}\n",
    "            state_store_list.append(store_dict)\n",
    "            time.sleep(random.uniform(0.01, 0.5))\n",
    "\n",
    "    if state_store_list:\n",
    "        print(len(state_store_list), \"stores\")\n",
    "        state_IHOP_gdf = gpd.GeoDataFrame(state_store_list, crs=4326)\n",
    "        state_IHOP_gdf.to_file(f\"data/states/{state_code}.gpkg\")"
   ]
  },
  {
   "cell_type": "code",
   "execution_count": 37,
   "id": "c1d32989-5a24-46f7-954f-a607979d4aa5",
   "metadata": {},
   "outputs": [],
   "source": [
    "dennys_state_gdfs = []\n",
    "states_path = \"data/states\"\n",
    "for file in os.listdir(\"data/states\"):\n",
    "    constructed_path = os.path.join(states_path, file)\n",
    "    if constructed_path.endswith(\".gpkg\"):\n",
    "        dennys_state_gdf = gpd.read_file(constructed_path)\n",
    "        dennys_state_gdfs.append(dennys_state_gdf)"
   ]
  },
  {
   "cell_type": "code",
   "execution_count": 38,
   "id": "8c3dbe83-66a7-4abe-aa82-61170375498c",
   "metadata": {},
   "outputs": [],
   "source": [
    "dennys_gdf = gpd.GeoDataFrame(pd.concat(dennys_state_gdfs, ignore_index=True))"
   ]
  },
  {
   "cell_type": "code",
   "execution_count": 46,
   "id": "82626e84-9c67-4460-a792-9668dbda6768",
   "metadata": {},
   "outputs": [],
   "source": [
    "dennys_gdf = dennys_gdf.to_crs(9311)\n",
    "dennys_gdf.to_file(f\"data/dennys.gpkg\")"
   ]
  },
  {
   "cell_type": "markdown",
   "id": "5a42dfab-fc47-49d7-8092-f08b31392df8",
   "metadata": {},
   "source": [
    "## Get Population Data"
   ]
  },
  {
   "cell_type": "code",
   "execution_count": 40,
   "id": "3cce9c91-abf1-4055-8b9a-5fd1f6cf611f",
   "metadata": {},
   "outputs": [],
   "source": [
    "state_populations = pd.read_excel(\n",
    "    \"data/NST-EST2024-POP.xlsx\", sheet_name=None, engine=\"openpyxl\"\n",
    ")"
   ]
  },
  {
   "cell_type": "code",
   "execution_count": 41,
   "id": "2eaacc28-fa8e-410e-b084-02ce24ec11a1",
   "metadata": {},
   "outputs": [],
   "source": [
    "state_populations_df = state_populations[\"NST-EST2024-POP\"][\n",
    "    [\n",
    "        \"table with row headers in column A and column headers in rows 3 through 4. (leading dots indicate sub-parts)\",\n",
    "        \"Unnamed: 5\",\n",
    "    ]\n",
    "]\n",
    "state_populations_df = state_populations_df.rename(\n",
    "    columns={\n",
    "        \"table with row headers in column A and column headers in rows 3 through 4. (leading dots indicate sub-parts)\": \"NAME\",\n",
    "        \"Unnamed: 5\": \"POPULATION\",\n",
    "    }\n",
    ")\n",
    "state_populations_df[\"NAME\"] = state_populations_df[\"NAME\"].str[1:]"
   ]
  },
  {
   "cell_type": "code",
   "execution_count": 42,
   "id": "2d6342e1-fc3f-4006-8d8a-d7612903a625",
   "metadata": {},
   "outputs": [],
   "source": [
    "states_with_population_df = states_df.merge(state_populations_df, on=\"NAME\", how=\"left\")\n",
    "states_with_population_df = states_with_population_df[\n",
    "    [\"STUSPS\", \"NAME\", \"POPULATION\", \"geometry\"]\n",
    "]"
   ]
  },
  {
   "cell_type": "code",
   "execution_count": 43,
   "id": "94150db1-9ce7-43cb-8c08-3f6d9bb58497",
   "metadata": {},
   "outputs": [],
   "source": [
    "states_with_population_df = states_with_population_df.dropna()"
   ]
  },
  {
   "cell_type": "markdown",
   "id": "af5c5e13-c89d-43ed-8021-13ba93990599",
   "metadata": {},
   "source": [
    "## Merge Data"
   ]
  },
  {
   "cell_type": "code",
   "execution_count": 52,
   "id": "f6900380-39b5-4cca-abf9-b46f7b886f9d",
   "metadata": {},
   "outputs": [],
   "source": [
    "dennys_state_counts_df = pd.DataFrame(\n",
    "    dennys_gdf.groupby(\"STUSPS\").size(), columns=[\"DENNYS\"]\n",
    ").reset_index()"
   ]
  },
  {
   "cell_type": "code",
   "execution_count": 53,
   "id": "8a4afa33-893a-4b6b-8df1-f5151243deeb",
   "metadata": {},
   "outputs": [],
   "source": [
    "dennys_state_counts_df = states_with_population_df.merge(\n",
    "    dennys_state_counts_df, on=\"STUSPS\", how=\"left\"\n",
    ")\n",
    "dennys_state_counts_df = dennys_state_counts_df.fillna(0)"
   ]
  },
  {
   "cell_type": "code",
   "execution_count": 54,
   "id": "f50526e2-4c7a-4d13-8d5e-aaddbeec7751",
   "metadata": {},
   "outputs": [],
   "source": [
    "dennys_state_counts_df[\"per_1000\"] = dennys_state_counts_df[\"DENNYS\"] / (\n",
    "    dennys_state_counts_df[\"POPULATION\"] / 1000\n",
    ")\n",
    "dennys_state_counts_df[\"per_10k\"] = dennys_state_counts_df[\"DENNYS\"] / (\n",
    "    dennys_state_counts_df[\"POPULATION\"] / 10_000\n",
    ")\n",
    "dennys_state_counts_df[\"per_100k\"] = dennys_state_counts_df[\"DENNYS\"] / (\n",
    "    dennys_state_counts_df[\"POPULATION\"] / 100000\n",
    ")\n",
    "dennys_state_counts_df[\"per_500k\"] = dennys_state_counts_df[\"DENNYS\"] / (\n",
    "    dennys_state_counts_df[\"POPULATION\"] / 500_000\n",
    ")\n",
    "dennys_state_counts_df[\"per_1m\"] = dennys_state_counts_df[\"DENNYS\"] / (\n",
    "    dennys_state_counts_df[\"POPULATION\"] / 1_000_000\n",
    ")\n",
    "dennys_state_counts_df[\"per_capita\"] = (\n",
    "    dennys_state_counts_df[\"POPULATION\"] / dennys_state_counts_df[\"DENNYS\"]\n",
    ")"
   ]
  },
  {
   "cell_type": "code",
   "execution_count": 55,
   "id": "4d00c57e-a978-4938-b5f5-cb176b29cf77",
   "metadata": {},
   "outputs": [],
   "source": [
    "dennys_state_counts_df = dennys_state_counts_df.to_crs(9311)"
   ]
  },
  {
   "cell_type": "code",
   "execution_count": 56,
   "id": "f8feb339-fc3c-41f9-8bd8-50ee507bb185",
   "metadata": {},
   "outputs": [],
   "source": [
    "dennys_state_counts_df.to_file(\"data/dennys_per_state.gpkg\")"
   ]
  },
  {
   "cell_type": "code",
   "execution_count": null,
   "id": "6fe12df3-c59b-48b5-bd11-cdbae9436a65",
   "metadata": {},
   "outputs": [],
   "source": []
  }
 ],
 "metadata": {
  "kernelspec": {
   "display_name": "Python 3 (ipykernel)",
   "language": "python",
   "name": "python3"
  },
  "language_info": {
   "codemirror_mode": {
    "name": "ipython",
    "version": 3
   },
   "file_extension": ".py",
   "mimetype": "text/x-python",
   "name": "python",
   "nbconvert_exporter": "python",
   "pygments_lexer": "ipython3",
   "version": "3.11.11"
  }
 },
 "nbformat": 4,
 "nbformat_minor": 5
}
