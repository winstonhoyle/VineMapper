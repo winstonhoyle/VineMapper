{
 "cells": [
  {
   "cell_type": "code",
   "execution_count": 1,
   "id": "c86ad9f6-4aaf-469e-a56e-363083168e1e",
   "metadata": {},
   "outputs": [],
   "source": [
    "import json\n",
    "import os\n",
    "import random\n",
    "import time"
   ]
  },
  {
   "cell_type": "code",
   "execution_count": 2,
   "id": "10fa1d09-7717-4ea8-9ce7-1cef37b4da9c",
   "metadata": {},
   "outputs": [],
   "source": [
    "import cloudscraper\n",
    "from bs4 import BeautifulSoup\n",
    "import geopandas as gpd\n",
    "import pandas as pd"
   ]
  },
  {
   "cell_type": "code",
   "execution_count": 3,
   "id": "d22202a0-bf3c-4953-81ce-105a19e002a0",
   "metadata": {},
   "outputs": [],
   "source": [
    "from shapely.geometry import Point\n",
    "from tqdm.notebook import tqdm"
   ]
  },
  {
   "cell_type": "markdown",
   "id": "02e1dfb5-464d-4984-8c84-5599ce9dcd5d",
   "metadata": {},
   "source": [
    "## Get State Data"
   ]
  },
  {
   "cell_type": "code",
   "execution_count": 4,
   "id": "84b53c65-5746-4ab8-8c99-6dfe3e967797",
   "metadata": {},
   "outputs": [],
   "source": [
    "file_path = \"data/cb_2018_us_state_500k/cb_2018_us_state_500k.shp\"\n",
    "states_df = gpd.read_file(file_path)"
   ]
  },
  {
   "cell_type": "code",
   "execution_count": 5,
   "id": "191755a6-eb92-4683-833e-b69f4be9f3f5",
   "metadata": {},
   "outputs": [],
   "source": [
    "states_df = states_df[[\"STUSPS\", \"NAME\", \"geometry\"]]"
   ]
  },
  {
   "cell_type": "markdown",
   "id": "f3ad4feb-2496-4c2f-827b-04c586ef17ba",
   "metadata": {},
   "source": [
    "## Get IHOP's Data"
   ]
  },
  {
   "cell_type": "code",
   "execution_count": 6,
   "id": "4c063aa4-d1b0-400e-a449-8125a2a0596a",
   "metadata": {},
   "outputs": [],
   "source": [
    "scraper = cloudscraper.create_scraper()"
   ]
  },
  {
   "cell_type": "code",
   "execution_count": 16,
   "id": "267af8f6-5ae7-4c32-864b-5f970236c8b8",
   "metadata": {},
   "outputs": [],
   "source": [
    "def get_coords(store_url: str) -> Point:\n",
    "    href = \"/\".join(store_url.split(\"/\")[4:])\n",
    "    store_json_url = os.path.join(\n",
    "        \"https://api.wordlift.io/data/https/restaurants.ihop.com/en-us\", href\n",
    "    )\n",
    "    r = scraper.get(store_json_url)\n",
    "    if r.status_code != 200 or not r.json():\n",
    "        r = scraper.get(store_url)\n",
    "        soup = BeautifulSoup(r.text, \"html.parser\")\n",
    "        store_json = json.loads(\n",
    "            soup.find(\"script\", {\"type\": \"application/ld+json\"}).text\n",
    "        )[0]\n",
    "    else:\n",
    "        store_json = r.json()[0]\n",
    "    lat = float(store_json[\"geo\"][\"latitude\"])\n",
    "    lon = float(store_json[\"geo\"][\"longitude\"])\n",
    "    return Point(lon, lat)"
   ]
  },
  {
   "cell_type": "code",
   "execution_count": 22,
   "id": "b1793bb5-26c3-4408-8572-175ba688bb03",
   "metadata": {},
   "outputs": [
    {
     "data": {
      "application/vnd.jupyter.widget-view+json": {
       "model_id": "1a5058333e0045ea83510a361c27d4cd",
       "version_major": 2,
       "version_minor": 0
      },
      "text/plain": [
       "Parsing States:   0%|          | 0/56 [00:00<?, ?it/s]"
      ]
     },
     "metadata": {},
     "output_type": "display_data"
    },
    {
     "data": {
      "application/vnd.jupyter.widget-view+json": {
       "model_id": "b39d7166e4e34ee4a47f9dab8390fb07",
       "version_major": 2,
       "version_minor": 0
      },
      "text/plain": [
       "Parsing Locations in ms:   0%|          | 0/12 [00:00<?, ?it/s]"
      ]
     },
     "metadata": {},
     "output_type": "display_data"
    },
    {
     "name": "stdout",
     "output_type": "stream",
     "text": [
      "13 stores\n"
     ]
    },
    {
     "data": {
      "application/vnd.jupyter.widget-view+json": {
       "model_id": "07c5b4cd8a05421cb3acc3feee4eaf58",
       "version_major": 2,
       "version_minor": 0
      },
      "text/plain": [
       "Parsing Locations in nc:   0%|          | 0/40 [00:00<?, ?it/s]"
      ]
     },
     "metadata": {},
     "output_type": "display_data"
    },
    {
     "name": "stdout",
     "output_type": "stream",
     "text": [
      "https://restaurants.ihop.com/en-us/nc/rockingham/breakfast-714-w-us-74-hwy-3782 'geo'\n",
      "51 stores\n"
     ]
    },
    {
     "data": {
      "application/vnd.jupyter.widget-view+json": {
       "model_id": "8d98a72b3a1843a7b39541793a179199",
       "version_major": 2,
       "version_minor": 0
      },
      "text/plain": [
       "Parsing Locations in ok:   0%|          | 0/23 [00:00<?, ?it/s]"
      ]
     },
     "metadata": {},
     "output_type": "display_data"
    },
    {
     "name": "stdout",
     "output_type": "stream",
     "text": [
      "35 stores\n"
     ]
    },
    {
     "data": {
      "application/vnd.jupyter.widget-view+json": {
       "model_id": "e3268c44f4da4a6abd523c1c7bb343b7",
       "version_major": 2,
       "version_minor": 0
      },
      "text/plain": [
       "Parsing Locations in va:   0%|          | 0/48 [00:00<?, ?it/s]"
      ]
     },
     "metadata": {},
     "output_type": "display_data"
    },
    {
     "name": "stdout",
     "output_type": "stream",
     "text": [
      "67 stores\n"
     ]
    },
    {
     "data": {
      "application/vnd.jupyter.widget-view+json": {
       "model_id": "db75240d3c624e93b2ee1f04adfc16f5",
       "version_major": 2,
       "version_minor": 0
      },
      "text/plain": [
       "Parsing Locations in wv:   0%|          | 0/9 [00:00<?, ?it/s]"
      ]
     },
     "metadata": {},
     "output_type": "display_data"
    },
    {
     "name": "stdout",
     "output_type": "stream",
     "text": [
      "10 stores\n"
     ]
    },
    {
     "data": {
      "application/vnd.jupyter.widget-view+json": {
       "model_id": "e2d89099cbd4408aa0efbb4f3780c92c",
       "version_major": 2,
       "version_minor": 0
      },
      "text/plain": [
       "Parsing Locations in la:   0%|          | 0/21 [00:00<?, ?it/s]"
      ]
     },
     "metadata": {},
     "output_type": "display_data"
    },
    {
     "name": "stdout",
     "output_type": "stream",
     "text": [
      "29 stores\n"
     ]
    },
    {
     "data": {
      "application/vnd.jupyter.widget-view+json": {
       "model_id": "cb809988ef8d460fa255b6df7f517df6",
       "version_major": 2,
       "version_minor": 0
      },
      "text/plain": [
       "Parsing Locations in mi:   0%|          | 0/27 [00:00<?, ?it/s]"
      ]
     },
     "metadata": {},
     "output_type": "display_data"
    },
    {
     "name": "stdout",
     "output_type": "stream",
     "text": [
      "28 stores\n"
     ]
    },
    {
     "data": {
      "application/vnd.jupyter.widget-view+json": {
       "model_id": "62813b802e8843a4a40edad4df13c812",
       "version_major": 2,
       "version_minor": 0
      },
      "text/plain": [
       "Parsing Locations in ma:   0%|          | 0/21 [00:00<?, ?it/s]"
      ]
     },
     "metadata": {},
     "output_type": "display_data"
    },
    {
     "name": "stdout",
     "output_type": "stream",
     "text": [
      "21 stores\n"
     ]
    },
    {
     "data": {
      "application/vnd.jupyter.widget-view+json": {
       "model_id": "5bf0251d2e49417490246c5e66f2e9c4",
       "version_major": 2,
       "version_minor": 0
      },
      "text/plain": [
       "Parsing Locations in id:   0%|          | 0/6 [00:00<?, ?it/s]"
      ]
     },
     "metadata": {},
     "output_type": "display_data"
    },
    {
     "name": "stdout",
     "output_type": "stream",
     "text": [
      "7 stores\n"
     ]
    },
    {
     "data": {
      "application/vnd.jupyter.widget-view+json": {
       "model_id": "bbfd87ff7ee340b7a88540a0982250d9",
       "version_major": 2,
       "version_minor": 0
      },
      "text/plain": [
       "Parsing Locations in fl:   0%|          | 0/96 [00:00<?, ?it/s]"
      ]
     },
     "metadata": {},
     "output_type": "display_data"
    },
    {
     "name": "stdout",
     "output_type": "stream",
     "text": [
      "143 stores\n"
     ]
    },
    {
     "data": {
      "application/vnd.jupyter.widget-view+json": {
       "model_id": "40e150a23efa4016be47ed5fe71067ab",
       "version_major": 2,
       "version_minor": 0
      },
      "text/plain": [
       "Parsing Locations in ne:   0%|          | 0/5 [00:00<?, ?it/s]"
      ]
     },
     "metadata": {},
     "output_type": "display_data"
    },
    {
     "name": "stdout",
     "output_type": "stream",
     "text": [
      "7 stores\n"
     ]
    },
    {
     "data": {
      "application/vnd.jupyter.widget-view+json": {
       "model_id": "63babfe466ce4256bfa6096b75747297",
       "version_major": 2,
       "version_minor": 0
      },
      "text/plain": [
       "Parsing Locations in wa:   0%|          | 0/28 [00:00<?, ?it/s]"
      ]
     },
     "metadata": {},
     "output_type": "display_data"
    },
    {
     "name": "stdout",
     "output_type": "stream",
     "text": [
      "37 stores\n"
     ]
    },
    {
     "data": {
      "application/vnd.jupyter.widget-view+json": {
       "model_id": "25eb6932c6ad452abd0b5b4cf33280bf",
       "version_major": 2,
       "version_minor": 0
      },
      "text/plain": [
       "Parsing Locations in nm:   0%|          | 0/12 [00:00<?, ?it/s]"
      ]
     },
     "metadata": {},
     "output_type": "display_data"
    },
    {
     "name": "stdout",
     "output_type": "stream",
     "text": [
      "15 stores\n"
     ]
    },
    {
     "data": {
      "application/vnd.jupyter.widget-view+json": {
       "model_id": "ae6e10eaa5cf4ed5840ee24c50ced1a7",
       "version_major": 2,
       "version_minor": 0
      },
      "text/plain": [
       "Parsing Locations in pr:   0%|          | 0/6 [00:00<?, ?it/s]"
      ]
     },
     "metadata": {},
     "output_type": "display_data"
    },
    {
     "name": "stdout",
     "output_type": "stream",
     "text": [
      "6 stores\n"
     ]
    },
    {
     "data": {
      "application/vnd.jupyter.widget-view+json": {
       "model_id": "f08df3e3904f4224a68b625fb1c0cdea",
       "version_major": 2,
       "version_minor": 0
      },
      "text/plain": [
       "Parsing Locations in sd:   0%|          | 0/2 [00:00<?, ?it/s]"
      ]
     },
     "metadata": {},
     "output_type": "display_data"
    },
    {
     "name": "stdout",
     "output_type": "stream",
     "text": [
      "2 stores\n"
     ]
    },
    {
     "data": {
      "application/vnd.jupyter.widget-view+json": {
       "model_id": "e56e4d3796b14dceaa0178d40b842462",
       "version_major": 2,
       "version_minor": 0
      },
      "text/plain": [
       "Parsing Locations in tx:   0%|          | 0/124 [00:00<?, ?it/s]"
      ]
     },
     "metadata": {},
     "output_type": "display_data"
    },
    {
     "name": "stdout",
     "output_type": "stream",
     "text": [
      "216 stores\n"
     ]
    },
    {
     "data": {
      "application/vnd.jupyter.widget-view+json": {
       "model_id": "d7e1ed6b2b264a31986c6ff928f20428",
       "version_major": 2,
       "version_minor": 0
      },
      "text/plain": [
       "Parsing Locations in ca:   0%|          | 0/169 [00:00<?, ?it/s]"
      ]
     },
     "metadata": {},
     "output_type": "display_data"
    },
    {
     "name": "stdout",
     "output_type": "stream",
     "text": [
      "223 stores\n"
     ]
    },
    {
     "data": {
      "application/vnd.jupyter.widget-view+json": {
       "model_id": "cab0847735d14a208c1ea68fb96ccea5",
       "version_major": 2,
       "version_minor": 0
      },
      "text/plain": [
       "Parsing Locations in al:   0%|          | 0/13 [00:00<?, ?it/s]"
      ]
     },
     "metadata": {},
     "output_type": "display_data"
    },
    {
     "name": "stdout",
     "output_type": "stream",
     "text": [
      "15 stores\n"
     ]
    },
    {
     "data": {
      "application/vnd.jupyter.widget-view+json": {
       "model_id": "1989a03de2cd4c0c873e96c22aab0be8",
       "version_major": 2,
       "version_minor": 0
      },
      "text/plain": [
       "Parsing Locations in ga:   0%|          | 0/69 [00:00<?, ?it/s]"
      ]
     },
     "metadata": {},
     "output_type": "display_data"
    },
    {
     "name": "stdout",
     "output_type": "stream",
     "text": [
      "85 stores\n"
     ]
    },
    {
     "data": {
      "application/vnd.jupyter.widget-view+json": {
       "model_id": "a70a34b92dec4c08b426942b490ef4ee",
       "version_major": 2,
       "version_minor": 0
      },
      "text/plain": [
       "Parsing Locations in pa:   0%|          | 0/22 [00:00<?, ?it/s]"
      ]
     },
     "metadata": {},
     "output_type": "display_data"
    },
    {
     "name": "stdout",
     "output_type": "stream",
     "text": [
      "28 stores\n"
     ]
    },
    {
     "data": {
      "application/vnd.jupyter.widget-view+json": {
       "model_id": "a0035ec12f864406b2fd6c9542fa55a3",
       "version_major": 2,
       "version_minor": 0
      },
      "text/plain": [
       "Parsing Locations in mo:   0%|          | 0/29 [00:00<?, ?it/s]"
      ]
     },
     "metadata": {},
     "output_type": "display_data"
    },
    {
     "name": "stdout",
     "output_type": "stream",
     "text": [
      "32 stores\n"
     ]
    },
    {
     "data": {
      "application/vnd.jupyter.widget-view+json": {
       "model_id": "bdda7d6475d140c68fb394d2abdea5e2",
       "version_major": 2,
       "version_minor": 0
      },
      "text/plain": [
       "Parsing Locations in co:   0%|          | 0/25 [00:00<?, ?it/s]"
      ]
     },
     "metadata": {},
     "output_type": "display_data"
    },
    {
     "name": "stdout",
     "output_type": "stream",
     "text": [
      "36 stores\n"
     ]
    },
    {
     "data": {
      "application/vnd.jupyter.widget-view+json": {
       "model_id": "654cad573d1943a9a8a22b4d50972bf6",
       "version_major": 2,
       "version_minor": 0
      },
      "text/plain": [
       "Parsing Locations in ut:   0%|          | 0/18 [00:00<?, ?it/s]"
      ]
     },
     "metadata": {},
     "output_type": "display_data"
    },
    {
     "name": "stdout",
     "output_type": "stream",
     "text": [
      "20 stores\n"
     ]
    },
    {
     "data": {
      "application/vnd.jupyter.widget-view+json": {
       "model_id": "29ac64112df440d1b8e9f1bc82cb3736",
       "version_major": 2,
       "version_minor": 0
      },
      "text/plain": [
       "Parsing Locations in tn:   0%|          | 0/27 [00:00<?, ?it/s]"
      ]
     },
     "metadata": {},
     "output_type": "display_data"
    },
    {
     "name": "stdout",
     "output_type": "stream",
     "text": [
      "35 stores\n"
     ]
    },
    {
     "data": {
      "application/vnd.jupyter.widget-view+json": {
       "model_id": "60caa34da1694ba48615065247cac6cf",
       "version_major": 2,
       "version_minor": 0
      },
      "text/plain": [
       "Parsing Locations in wy:   0%|          | 0/1 [00:00<?, ?it/s]"
      ]
     },
     "metadata": {},
     "output_type": "display_data"
    },
    {
     "name": "stdout",
     "output_type": "stream",
     "text": [
      "1 stores\n"
     ]
    },
    {
     "data": {
      "application/vnd.jupyter.widget-view+json": {
       "model_id": "0a96f05e3c684e96bc0f3b421ea70ccc",
       "version_major": 2,
       "version_minor": 0
      },
      "text/plain": [
       "Parsing Locations in ny:   0%|          | 0/50 [00:00<?, ?it/s]"
      ]
     },
     "metadata": {},
     "output_type": "display_data"
    },
    {
     "name": "stdout",
     "output_type": "stream",
     "text": [
      "https://restaurants.ihop.com/en-us/ny/brooklyn/breakfast-1019-surf-ave-2132 'NoneType' object has no attribute 'text'\n",
      "60 stores\n"
     ]
    },
    {
     "data": {
      "application/vnd.jupyter.widget-view+json": {
       "model_id": "520a90d7a80d45279a03279cd1ac745a",
       "version_major": 2,
       "version_minor": 0
      },
      "text/plain": [
       "Parsing Locations in ks:   0%|          | 0/20 [00:00<?, ?it/s]"
      ]
     },
     "metadata": {},
     "output_type": "display_data"
    },
    {
     "name": "stdout",
     "output_type": "stream",
     "text": [
      "30 stores\n"
     ]
    },
    {
     "data": {
      "application/vnd.jupyter.widget-view+json": {
       "model_id": "7d7f4d493860448ba1925e3dda9e4835",
       "version_major": 2,
       "version_minor": 0
      },
      "text/plain": [
       "Parsing Locations in ak:   0%|          | 0/2 [00:00<?, ?it/s]"
      ]
     },
     "metadata": {},
     "output_type": "display_data"
    },
    {
     "name": "stdout",
     "output_type": "stream",
     "text": [
      "4 stores\n"
     ]
    },
    {
     "data": {
      "application/vnd.jupyter.widget-view+json": {
       "model_id": "e1e75dbb2bc0483fbf648456886d1ff6",
       "version_major": 2,
       "version_minor": 0
      },
      "text/plain": [
       "Parsing Locations in nv:   0%|          | 0/5 [00:00<?, ?it/s]"
      ]
     },
     "metadata": {},
     "output_type": "display_data"
    },
    {
     "name": "stdout",
     "output_type": "stream",
     "text": [
      "23 stores\n"
     ]
    },
    {
     "data": {
      "application/vnd.jupyter.widget-view+json": {
       "model_id": "6564b86edadf4308bb20958ff1aed286",
       "version_major": 2,
       "version_minor": 0
      },
      "text/plain": [
       "Parsing Locations in il:   0%|          | 0/38 [00:00<?, ?it/s]"
      ]
     },
     "metadata": {},
     "output_type": "display_data"
    },
    {
     "name": "stdout",
     "output_type": "stream",
     "text": [
      "44 stores\n"
     ]
    },
    {
     "data": {
      "application/vnd.jupyter.widget-view+json": {
       "model_id": "911e759b02a046bfac35a34a6632374c",
       "version_major": 2,
       "version_minor": 0
      },
      "text/plain": [
       "Parsing Locations in vt:   0%|          | 0/51 [00:00<?, ?it/s]"
      ]
     },
     "metadata": {},
     "output_type": "display_data"
    },
    {
     "data": {
      "application/vnd.jupyter.widget-view+json": {
       "model_id": "64e5c8551c1d496080a379467a49255f",
       "version_major": 2,
       "version_minor": 0
      },
      "text/plain": [
       "Parsing Locations in mt:   0%|          | 0/4 [00:00<?, ?it/s]"
      ]
     },
     "metadata": {},
     "output_type": "display_data"
    },
    {
     "name": "stdout",
     "output_type": "stream",
     "text": [
      "4 stores\n"
     ]
    },
    {
     "data": {
      "application/vnd.jupyter.widget-view+json": {
       "model_id": "1d5a5b648de54ed29a71c06f5866fa29",
       "version_major": 2,
       "version_minor": 0
      },
      "text/plain": [
       "Parsing Locations in ia:   0%|          | 0/11 [00:00<?, ?it/s]"
      ]
     },
     "metadata": {},
     "output_type": "display_data"
    },
    {
     "name": "stdout",
     "output_type": "stream",
     "text": [
      "11 stores\n"
     ]
    },
    {
     "data": {
      "application/vnd.jupyter.widget-view+json": {
       "model_id": "fa0f7e3debad4572ab1cc7995bc0c0bd",
       "version_major": 2,
       "version_minor": 0
      },
      "text/plain": [
       "Parsing Locations in sc:   0%|          | 0/23 [00:00<?, ?it/s]"
      ]
     },
     "metadata": {},
     "output_type": "display_data"
    },
    {
     "name": "stdout",
     "output_type": "stream",
     "text": [
      "30 stores\n"
     ]
    },
    {
     "data": {
      "application/vnd.jupyter.widget-view+json": {
       "model_id": "f66709c49d514f82beea15a912fe861f",
       "version_major": 2,
       "version_minor": 0
      },
      "text/plain": [
       "Parsing Locations in nh:   0%|          | 0/4 [00:00<?, ?it/s]"
      ]
     },
     "metadata": {},
     "output_type": "display_data"
    },
    {
     "name": "stdout",
     "output_type": "stream",
     "text": [
      "4 stores\n"
     ]
    },
    {
     "data": {
      "application/vnd.jupyter.widget-view+json": {
       "model_id": "718887b4591c43998e6bda79e18d02ef",
       "version_major": 2,
       "version_minor": 0
      },
      "text/plain": [
       "Parsing Locations in az:   0%|          | 0/21 [00:00<?, ?it/s]"
      ]
     },
     "metadata": {},
     "output_type": "display_data"
    },
    {
     "name": "stdout",
     "output_type": "stream",
     "text": [
      "42 stores\n"
     ]
    },
    {
     "data": {
      "application/vnd.jupyter.widget-view+json": {
       "model_id": "c4c8281c8a9c44c2ada4f04a8007084f",
       "version_major": 2,
       "version_minor": 0
      },
      "text/plain": [
       "Parsing Locations in dc:   0%|          | 0/1 [00:00<?, ?it/s]"
      ]
     },
     "metadata": {},
     "output_type": "display_data"
    },
    {
     "name": "stdout",
     "output_type": "stream",
     "text": [
      "2 stores\n"
     ]
    },
    {
     "data": {
      "application/vnd.jupyter.widget-view+json": {
       "model_id": "6873be90f26746c5bd5710e212a3cead",
       "version_major": 2,
       "version_minor": 0
      },
      "text/plain": [
       "Parsing Locations in as:   0%|          | 0/51 [00:00<?, ?it/s]"
      ]
     },
     "metadata": {},
     "output_type": "display_data"
    },
    {
     "data": {
      "application/vnd.jupyter.widget-view+json": {
       "model_id": "8e0d077382344a948eefdf79c7c2df59",
       "version_major": 2,
       "version_minor": 0
      },
      "text/plain": [
       "Parsing Locations in vi:   0%|          | 0/51 [00:00<?, ?it/s]"
      ]
     },
     "metadata": {},
     "output_type": "display_data"
    },
    {
     "data": {
      "application/vnd.jupyter.widget-view+json": {
       "model_id": "3933c28374a64f7493452f1e26f0c8c3",
       "version_major": 2,
       "version_minor": 0
      },
      "text/plain": [
       "Parsing Locations in nj:   0%|          | 0/45 [00:00<?, ?it/s]"
      ]
     },
     "metadata": {},
     "output_type": "display_data"
    },
    {
     "name": "stdout",
     "output_type": "stream",
     "text": [
      "49 stores\n"
     ]
    },
    {
     "data": {
      "application/vnd.jupyter.widget-view+json": {
       "model_id": "d15a4c77a3724fe79b38d89eb533c08f",
       "version_major": 2,
       "version_minor": 0
      },
      "text/plain": [
       "Parsing Locations in md:   0%|          | 0/51 [00:00<?, ?it/s]"
      ]
     },
     "metadata": {},
     "output_type": "display_data"
    },
    {
     "name": "stdout",
     "output_type": "stream",
     "text": [
      "54 stores\n"
     ]
    },
    {
     "data": {
      "application/vnd.jupyter.widget-view+json": {
       "model_id": "58f0969f7a344cbe9f4440f69fafa81f",
       "version_major": 2,
       "version_minor": 0
      },
      "text/plain": [
       "Parsing Locations in me:   0%|          | 0/5 [00:00<?, ?it/s]"
      ]
     },
     "metadata": {},
     "output_type": "display_data"
    },
    {
     "name": "stdout",
     "output_type": "stream",
     "text": [
      "5 stores\n"
     ]
    },
    {
     "data": {
      "application/vnd.jupyter.widget-view+json": {
       "model_id": "88a5a80e6b734ef49b88423610898e2a",
       "version_major": 2,
       "version_minor": 0
      },
      "text/plain": [
       "Parsing Locations in hi:   0%|          | 0/5 [00:00<?, ?it/s]"
      ]
     },
     "metadata": {},
     "output_type": "display_data"
    },
    {
     "name": "stdout",
     "output_type": "stream",
     "text": [
      "7 stores\n"
     ]
    },
    {
     "data": {
      "application/vnd.jupyter.widget-view+json": {
       "model_id": "cef2db1569d24f6d84ea733c25cf2137",
       "version_major": 2,
       "version_minor": 0
      },
      "text/plain": [
       "Parsing Locations in de:   0%|          | 0/8 [00:00<?, ?it/s]"
      ]
     },
     "metadata": {},
     "output_type": "display_data"
    },
    {
     "name": "stdout",
     "output_type": "stream",
     "text": [
      "8 stores\n"
     ]
    },
    {
     "data": {
      "application/vnd.jupyter.widget-view+json": {
       "model_id": "6990e0b7fc7a450688db65c2c7aeaecb",
       "version_major": 2,
       "version_minor": 0
      },
      "text/plain": [
       "Parsing Locations in gu:   0%|          | 0/51 [00:00<?, ?it/s]"
      ]
     },
     "metadata": {},
     "output_type": "display_data"
    },
    {
     "data": {
      "application/vnd.jupyter.widget-view+json": {
       "model_id": "fea984d9678d40f7adff03a3e517d615",
       "version_major": 2,
       "version_minor": 0
      },
      "text/plain": [
       "Parsing Locations in mp:   0%|          | 0/51 [00:00<?, ?it/s]"
      ]
     },
     "metadata": {},
     "output_type": "display_data"
    },
    {
     "data": {
      "application/vnd.jupyter.widget-view+json": {
       "model_id": "82d6d0a1d56d4617a84e3b765fbf3f4f",
       "version_major": 2,
       "version_minor": 0
      },
      "text/plain": [
       "Parsing Locations in ri:   0%|          | 0/5 [00:00<?, ?it/s]"
      ]
     },
     "metadata": {},
     "output_type": "display_data"
    },
    {
     "name": "stdout",
     "output_type": "stream",
     "text": [
      "5 stores\n"
     ]
    },
    {
     "data": {
      "application/vnd.jupyter.widget-view+json": {
       "model_id": "b686112fca08497bacd5f17b876c3ac6",
       "version_major": 2,
       "version_minor": 0
      },
      "text/plain": [
       "Parsing Locations in ky:   0%|          | 0/11 [00:00<?, ?it/s]"
      ]
     },
     "metadata": {},
     "output_type": "display_data"
    },
    {
     "name": "stdout",
     "output_type": "stream",
     "text": [
      "12 stores\n"
     ]
    },
    {
     "data": {
      "application/vnd.jupyter.widget-view+json": {
       "model_id": "80600ab67d734c1d9194a2950efc3f54",
       "version_major": 2,
       "version_minor": 0
      },
      "text/plain": [
       "Parsing Locations in oh:   0%|          | 0/32 [00:00<?, ?it/s]"
      ]
     },
     "metadata": {},
     "output_type": "display_data"
    },
    {
     "name": "stdout",
     "output_type": "stream",
     "text": [
      "40 stores\n"
     ]
    },
    {
     "data": {
      "application/vnd.jupyter.widget-view+json": {
       "model_id": "8fb5d67995bc4009ac0bef42e49d4bf7",
       "version_major": 2,
       "version_minor": 0
      },
      "text/plain": [
       "Parsing Locations in wi:   0%|          | 0/18 [00:00<?, ?it/s]"
      ]
     },
     "metadata": {},
     "output_type": "display_data"
    },
    {
     "name": "stdout",
     "output_type": "stream",
     "text": [
      "18 stores\n"
     ]
    },
    {
     "data": {
      "application/vnd.jupyter.widget-view+json": {
       "model_id": "69564ed600374d69b007a1a67cbc8002",
       "version_major": 2,
       "version_minor": 0
      },
      "text/plain": [
       "Parsing Locations in or:   0%|          | 0/13 [00:00<?, ?it/s]"
      ]
     },
     "metadata": {},
     "output_type": "display_data"
    },
    {
     "name": "stdout",
     "output_type": "stream",
     "text": [
      "14 stores\n"
     ]
    },
    {
     "data": {
      "application/vnd.jupyter.widget-view+json": {
       "model_id": "28625e2a63734b499227228aaa7b8d86",
       "version_major": 2,
       "version_minor": 0
      },
      "text/plain": [
       "Parsing Locations in nd:   0%|          | 0/3 [00:00<?, ?it/s]"
      ]
     },
     "metadata": {},
     "output_type": "display_data"
    },
    {
     "name": "stdout",
     "output_type": "stream",
     "text": [
      "3 stores\n"
     ]
    },
    {
     "data": {
      "application/vnd.jupyter.widget-view+json": {
       "model_id": "a9e402bc49e444c9b729ffa4b84e7fae",
       "version_major": 2,
       "version_minor": 0
      },
      "text/plain": [
       "Parsing Locations in ar:   0%|          | 0/16 [00:00<?, ?it/s]"
      ]
     },
     "metadata": {},
     "output_type": "display_data"
    },
    {
     "name": "stdout",
     "output_type": "stream",
     "text": [
      "17 stores\n"
     ]
    },
    {
     "data": {
      "application/vnd.jupyter.widget-view+json": {
       "model_id": "37b24d238373422a8c46414659eb46df",
       "version_major": 2,
       "version_minor": 0
      },
      "text/plain": [
       "Parsing Locations in in:   0%|          | 0/21 [00:00<?, ?it/s]"
      ]
     },
     "metadata": {},
     "output_type": "display_data"
    },
    {
     "name": "stdout",
     "output_type": "stream",
     "text": [
      "26 stores\n"
     ]
    },
    {
     "data": {
      "application/vnd.jupyter.widget-view+json": {
       "model_id": "b5bc4d1c75a24b2891420357000259fd",
       "version_major": 2,
       "version_minor": 0
      },
      "text/plain": [
       "Parsing Locations in mn:   0%|          | 0/8 [00:00<?, ?it/s]"
      ]
     },
     "metadata": {},
     "output_type": "display_data"
    },
    {
     "name": "stdout",
     "output_type": "stream",
     "text": [
      "8 stores\n"
     ]
    },
    {
     "data": {
      "application/vnd.jupyter.widget-view+json": {
       "model_id": "94f1d914910b48258720418d817f0fe0",
       "version_major": 2,
       "version_minor": 0
      },
      "text/plain": [
       "Parsing Locations in ct:   0%|          | 0/11 [00:00<?, ?it/s]"
      ]
     },
     "metadata": {},
     "output_type": "display_data"
    },
    {
     "name": "stdout",
     "output_type": "stream",
     "text": [
      "10 stores\n"
     ]
    }
   ],
   "source": [
    "url_root = \"https://restaurants.ihop.com/en-us/\"\n",
    "points = []\n",
    "# Parse all locations in a state\n",
    "for i in tqdm(range(len(states_df)), desc=\"Parsing States\"):\n",
    "    state_code = states_df.iloc[i][\"STUSPS\"].lower()\n",
    "    state_url = f\"{url_root}{state_code}/\"\n",
    "    state_store_list = []\n",
    "\n",
    "    # If File exists continue\n",
    "    if os.path.isfile(f\"data/states/{state_code}.gpkg\"):\n",
    "        continue\n",
    "\n",
    "    r_state = scraper.get(state_url)\n",
    "\n",
    "    if r_state.status_code != 200:\n",
    "        print(state_code)\n",
    "        continue\n",
    "\n",
    "    soup_state = BeautifulSoup(r_state.text, \"html.parser\")\n",
    "    location_lis = soup_state.find_all(\"li\", {\"class\": \"map-list-item-wrap is-single\"})\n",
    "    city_as = [location_li.find(\"a\") for location_li in location_lis]\n",
    "\n",
    "    for city_a in tqdm(city_as, desc=f\"Parsing Locations in {state_code}\"):\n",
    "        city_url = city_a.attrs[\"href\"]\n",
    "        r_city = scraper.get(city_url)\n",
    "        soup_city = BeautifulSoup(r_city.text, \"html.parser\")\n",
    "        store_divs = soup_city.find_all(\"div\", {\"class\": \"map-list-item-header\"})\n",
    "        store_as = [store_div.find(\"a\") for store_div in store_divs]\n",
    "\n",
    "        for store_a in store_as:\n",
    "            try:\n",
    "                store_url = store_a.attrs[\"href\"]\n",
    "                point = get_coords(store_url)\n",
    "            except Exception as e:\n",
    "                print(store_url, e)\n",
    "                continue\n",
    "            store_dict = {\"STUSPS\": state_code, \"geometry\": point}\n",
    "            state_store_list.append(store_dict)\n",
    "            time.sleep(random.uniform(0.01, 0.5))\n",
    "            if point in points:\n",
    "                print(\"Duplicate\")\n",
    "                print(store_url)\n",
    "            points.append(point)\n",
    "\n",
    "    if state_store_list:\n",
    "        print(len(state_store_list), \"stores\")\n",
    "        state_IHOP_gdf = gpd.GeoDataFrame(state_store_list, crs=4326)\n",
    "        state_IHOP_gdf.to_file(f\"data/states/{state_code}.gpkg\")"
   ]
  },
  {
   "cell_type": "code",
   "execution_count": 39,
   "id": "1f2ab68c-781f-42d7-a036-0c8e622f74d7",
   "metadata": {},
   "outputs": [],
   "source": [
    "manually_added_records = gpd.GeoDataFrame(\n",
    "    [\n",
    "        {\"STUSPS\": \"nc\", \"geometry\": Point(-79.735968, 34.915083)},\n",
    "        {\"STUSPS\": \"ny\", \"geometry\": Point(-73.97880764438892, 40.57569919305785)},\n",
    "    ],\n",
    "    crs=4326,\n",
    ")"
   ]
  },
  {
   "cell_type": "code",
   "execution_count": 40,
   "id": "c1d32989-5a24-46f7-954f-a607979d4aa5",
   "metadata": {},
   "outputs": [],
   "source": [
    "ihop_state_gdfs = []\n",
    "states_path = \"data/states\"\n",
    "for file in os.listdir(\"data/states\"):\n",
    "    constructed_path = os.path.join(states_path, file)\n",
    "    if constructed_path.endswith(\".gpkg\"):\n",
    "        ihop_state_gdf = gpd.read_file(constructed_path)\n",
    "        ihop_state_gdfs.append(ihop_state_gdf)\n",
    "ihop_state_gdfs.append(manually_added_records)"
   ]
  },
  {
   "cell_type": "code",
   "execution_count": 41,
   "id": "8c3dbe83-66a7-4abe-aa82-61170375498c",
   "metadata": {},
   "outputs": [],
   "source": [
    "ihop_state_gdf = gpd.GeoDataFrame(pd.concat(ihop_state_gdfs, ignore_index=True))"
   ]
  },
  {
   "cell_type": "code",
   "execution_count": 42,
   "id": "c6fbad61-efb1-4e28-94ca-6be294ec4c78",
   "metadata": {},
   "outputs": [],
   "source": [
    "ihop_state_gdf[\"STUSPS\"] = ihop_state_gdf[\"STUSPS\"].str.upper()"
   ]
  },
  {
   "cell_type": "code",
   "execution_count": 43,
   "id": "82626e84-9c67-4460-a792-9668dbda6768",
   "metadata": {},
   "outputs": [],
   "source": [
    "ihop_state_gdf = ihop_state_gdf.to_crs(9311)\n",
    "ihop_state_gdf.to_file(f\"data/ihops.gpkg\")"
   ]
  },
  {
   "cell_type": "markdown",
   "id": "5a42dfab-fc47-49d7-8092-f08b31392df8",
   "metadata": {},
   "source": [
    "## Get Population Data"
   ]
  },
  {
   "cell_type": "code",
   "execution_count": 44,
   "id": "3cce9c91-abf1-4055-8b9a-5fd1f6cf611f",
   "metadata": {},
   "outputs": [],
   "source": [
    "state_populations = pd.read_excel(\n",
    "    \"data/NST-EST2024-POP.xlsx\", sheet_name=None, engine=\"openpyxl\"\n",
    ")"
   ]
  },
  {
   "cell_type": "code",
   "execution_count": 45,
   "id": "2eaacc28-fa8e-410e-b084-02ce24ec11a1",
   "metadata": {},
   "outputs": [],
   "source": [
    "state_populations_df = state_populations[\"NST-EST2024-POP\"][\n",
    "    [\n",
    "        \"table with row headers in column A and column headers in rows 3 through 4. (leading dots indicate sub-parts)\",\n",
    "        \"Unnamed: 5\",\n",
    "    ]\n",
    "]\n",
    "state_populations_df = state_populations_df.rename(\n",
    "    columns={\n",
    "        \"table with row headers in column A and column headers in rows 3 through 4. (leading dots indicate sub-parts)\": \"NAME\",\n",
    "        \"Unnamed: 5\": \"POPULATION\",\n",
    "    }\n",
    ")\n",
    "state_populations_df[\"NAME\"] = state_populations_df[\"NAME\"].str[1:]"
   ]
  },
  {
   "cell_type": "code",
   "execution_count": 46,
   "id": "2d6342e1-fc3f-4006-8d8a-d7612903a625",
   "metadata": {},
   "outputs": [],
   "source": [
    "states_with_population_df = states_df.merge(state_populations_df, on=\"NAME\", how=\"left\")\n",
    "states_with_population_df = states_with_population_df[\n",
    "    [\"STUSPS\", \"NAME\", \"POPULATION\", \"geometry\"]\n",
    "]"
   ]
  },
  {
   "cell_type": "code",
   "execution_count": 47,
   "id": "94150db1-9ce7-43cb-8c08-3f6d9bb58497",
   "metadata": {},
   "outputs": [],
   "source": [
    "states_with_population_df = states_with_population_df.dropna()"
   ]
  },
  {
   "cell_type": "markdown",
   "id": "af5c5e13-c89d-43ed-8021-13ba93990599",
   "metadata": {},
   "source": [
    "## Merge Data"
   ]
  },
  {
   "cell_type": "code",
   "execution_count": 48,
   "id": "f6900380-39b5-4cca-abf9-b46f7b886f9d",
   "metadata": {},
   "outputs": [],
   "source": [
    "ihop_state_counts_df = pd.DataFrame(\n",
    "    ihop_state_gdf.groupby(\"STUSPS\").size(), columns=[\"IHOPs\"]\n",
    ").reset_index()"
   ]
  },
  {
   "cell_type": "code",
   "execution_count": 50,
   "id": "8a4afa33-893a-4b6b-8df1-f5151243deeb",
   "metadata": {},
   "outputs": [],
   "source": [
    "ihop_state_counts_pop_df = states_with_population_df.merge(\n",
    "    ihop_state_counts_df, on=\"STUSPS\", how=\"left\"\n",
    ")\n",
    "ihop_state_counts_pop_df = ihop_state_counts_pop_df.fillna(0)"
   ]
  },
  {
   "cell_type": "code",
   "execution_count": 51,
   "id": "f50526e2-4c7a-4d13-8d5e-aaddbeec7751",
   "metadata": {},
   "outputs": [],
   "source": [
    "ihop_state_counts_pop_df[\"per_1000\"] = ihop_state_counts_pop_df[\"IHOPs\"] / (\n",
    "    ihop_state_counts_pop_df[\"POPULATION\"] / 1000\n",
    ")\n",
    "ihop_state_counts_pop_df[\"per_10k\"] = ihop_state_counts_pop_df[\"IHOPs\"] / (\n",
    "    ihop_state_counts_pop_df[\"POPULATION\"] / 10_000\n",
    ")\n",
    "ihop_state_counts_pop_df[\"per_100k\"] = ihop_state_counts_pop_df[\"IHOPs\"] / (\n",
    "    ihop_state_counts_pop_df[\"POPULATION\"] / 100000\n",
    ")\n",
    "ihop_state_counts_pop_df[\"per_500k\"] = ihop_state_counts_pop_df[\"IHOPs\"] / (\n",
    "    ihop_state_counts_pop_df[\"POPULATION\"] / 500_000\n",
    ")\n",
    "ihop_state_counts_pop_df[\"per_1m\"] = ihop_state_counts_pop_df[\"IHOPs\"] / (\n",
    "    ihop_state_counts_pop_df[\"POPULATION\"] / 1_000_000\n",
    ")\n",
    "ihop_state_counts_pop_df[\"per_capita\"] = (\n",
    "    ihop_state_counts_pop_df[\"POPULATION\"] / ihop_state_counts_pop_df[\"IHOPs\"]\n",
    ")"
   ]
  },
  {
   "cell_type": "code",
   "execution_count": 52,
   "id": "4d00c57e-a978-4938-b5f5-cb176b29cf77",
   "metadata": {},
   "outputs": [],
   "source": [
    "ihop_state_counts_pop_df = ihop_state_counts_pop_df.to_crs(9311)"
   ]
  },
  {
   "cell_type": "code",
   "execution_count": 53,
   "id": "f8feb339-fc3c-41f9-8bd8-50ee507bb185",
   "metadata": {},
   "outputs": [],
   "source": [
    "ihop_state_counts_pop_df.to_file(\"data/IHOPs_per_state.gpkg\")"
   ]
  },
  {
   "cell_type": "code",
   "execution_count": null,
   "id": "6fe12df3-c59b-48b5-bd11-cdbae9436a65",
   "metadata": {},
   "outputs": [],
   "source": []
  },
  {
   "cell_type": "code",
   "execution_count": null,
   "id": "19fb982c-be8e-4971-9e5b-ef5f94db3c5c",
   "metadata": {},
   "outputs": [],
   "source": []
  }
 ],
 "metadata": {
  "kernelspec": {
   "display_name": "Python 3 (ipykernel)",
   "language": "python",
   "name": "python3"
  },
  "language_info": {
   "codemirror_mode": {
    "name": "ipython",
    "version": 3
   },
   "file_extension": ".py",
   "mimetype": "text/x-python",
   "name": "python",
   "nbconvert_exporter": "python",
   "pygments_lexer": "ipython3",
   "version": "3.11.11"
  }
 },
 "nbformat": 4,
 "nbformat_minor": 5
}
