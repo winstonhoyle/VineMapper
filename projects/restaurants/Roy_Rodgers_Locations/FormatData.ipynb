{
 "cells": [
  {
   "cell_type": "code",
   "execution_count": 1,
   "id": "56e5662e-24d3-4cd2-b9e7-3d8158375b43",
   "metadata": {},
   "outputs": [],
   "source": [
    "import json\n",
    "import requests"
   ]
  },
  {
   "cell_type": "code",
   "execution_count": 2,
   "id": "b9fc2fbd-f810-4f67-ab5d-736c1aa45c74",
   "metadata": {},
   "outputs": [],
   "source": [
    "from bs4 import BeautifulSoup\n",
    "import geopandas as gpd\n",
    "import pandas as pd"
   ]
  },
  {
   "cell_type": "code",
   "execution_count": 3,
   "id": "3f831734-0008-4598-bb22-605f5aaee1d7",
   "metadata": {},
   "outputs": [],
   "source": [
    "from shapely.geometry import Point"
   ]
  },
  {
   "cell_type": "markdown",
   "id": "56b9a31d-b0b4-4c7a-860b-a5afebdceef4",
   "metadata": {},
   "source": [
    "## Open GIS Data"
   ]
  },
  {
   "cell_type": "code",
   "execution_count": 4,
   "id": "5d0925da-a067-40a9-a385-47348db28c98",
   "metadata": {},
   "outputs": [],
   "source": [
    "file_path = \"data/cb_2018_us_state_500k/cb_2018_us_state_500k.shp\"\n",
    "states_df = gpd.read_file(file_path)"
   ]
  },
  {
   "cell_type": "markdown",
   "id": "e675a0cb-96bf-441d-a58f-15fa804356ed",
   "metadata": {},
   "source": [
    "## Get State Population data"
   ]
  },
  {
   "cell_type": "code",
   "execution_count": 5,
   "id": "e32942da-94cd-45da-8dc5-34c765eec18e",
   "metadata": {},
   "outputs": [],
   "source": [
    "state_populations = pd.read_excel(\n",
    "    \"data/NST-EST2024-POP.xlsx\", sheet_name=None, engine=\"openpyxl\"\n",
    ")"
   ]
  },
  {
   "cell_type": "code",
   "execution_count": 6,
   "id": "94f8af91-f023-4ad4-bca6-38c1470992f8",
   "metadata": {},
   "outputs": [],
   "source": [
    "state_populations_df = state_populations[\"NST-EST2024-POP\"][\n",
    "    [\n",
    "        \"table with row headers in column A and column headers in rows 3 through 4. (leading dots indicate sub-parts)\",\n",
    "        \"Unnamed: 5\",\n",
    "    ]\n",
    "]\n",
    "state_populations_df = state_populations_df.rename(\n",
    "    columns={\n",
    "        \"table with row headers in column A and column headers in rows 3 through 4. (leading dots indicate sub-parts)\": \"NAME\",\n",
    "        \"Unnamed: 5\": \"POPULATION\",\n",
    "    }\n",
    ")\n",
    "state_populations_df[\"NAME\"] = state_populations_df[\"NAME\"].str[1:]"
   ]
  },
  {
   "cell_type": "code",
   "execution_count": 7,
   "id": "5fac2d62-9a37-4070-8059-715c39d866c5",
   "metadata": {},
   "outputs": [],
   "source": [
    "states_with_population_df = states_df.merge(state_populations_df, on=\"NAME\", how=\"left\")\n",
    "states_with_population_df = states_with_population_df[\n",
    "    [\"STUSPS\", \"POPULATION\", \"geometry\"]\n",
    "]"
   ]
  },
  {
   "cell_type": "code",
   "execution_count": 8,
   "id": "9a3715e0-963b-4eb0-9855-c4d18f3b2562",
   "metadata": {},
   "outputs": [],
   "source": [
    "states_with_population_df = states_with_population_df.dropna()"
   ]
  },
  {
   "cell_type": "markdown",
   "id": "d209c017-5e52-47e2-ac3c-3136add9965e",
   "metadata": {},
   "source": [
    "## Get Roy Rodgers data"
   ]
  },
  {
   "cell_type": "code",
   "execution_count": 10,
   "id": "9b347877-3268-4550-93e7-308e261368b2",
   "metadata": {},
   "outputs": [],
   "source": [
    "r = requests.get(\"https://www.royrogersrestaurants.com/locations\")"
   ]
  },
  {
   "cell_type": "code",
   "execution_count": 11,
   "id": "b59d0b47-94eb-4746-8b1a-4db63b0919dc",
   "metadata": {},
   "outputs": [],
   "source": [
    "soup = BeautifulSoup(r.text, \"html.parser\")"
   ]
  },
  {
   "cell_type": "code",
   "execution_count": 12,
   "id": "70725912-3bd3-4f48-b4fe-bcf97e628c6c",
   "metadata": {},
   "outputs": [],
   "source": [
    "roy_rodgers_json = json.loads(\n",
    "    soup.find(\"script\", {\"data-drupal-selector\": \"drupal-settings-json\"}).text\n",
    ")"
   ]
  },
  {
   "cell_type": "code",
   "execution_count": 13,
   "id": "128b1247-d47e-4a02-a6c5-db84ad7735b8",
   "metadata": {},
   "outputs": [],
   "source": [
    "roy_rodgers_gdf = gpd.GeoDataFrame.from_features(\n",
    "    roy_rodgers_json[\"geofield_google_map\"][\"geofield-map-view-locations-block-3\"][\n",
    "        \"data\"\n",
    "    ][\"features\"],\n",
    "    crs=4326,\n",
    ")"
   ]
  },
  {
   "cell_type": "code",
   "execution_count": 14,
   "id": "12a71fe5-66c5-4862-8952-adcd3ceb1dfb",
   "metadata": {},
   "outputs": [],
   "source": [
    "roy_rodgers_gdf[[\"geometry\"]].to_file(\"data/roy_rodgers.gpkg\")"
   ]
  },
  {
   "cell_type": "code",
   "execution_count": 15,
   "id": "fecea7dc-043c-459d-ad3e-aaeb8fd86020",
   "metadata": {},
   "outputs": [],
   "source": [
    "def find_state(data: dict) -> str:\n",
    "    try:\n",
    "        soup = BeautifulSoup(data[\"field_phone_number\"], \"html.parser\")\n",
    "        state_code = soup.find(\"span\", {\"class\": \"administrative-area\"}).text\n",
    "        return state_code\n",
    "    except TypeError:\n",
    "        return None"
   ]
  },
  {
   "cell_type": "code",
   "execution_count": 16,
   "id": "911a835d-5838-4aad-9cf6-c2642f49edc1",
   "metadata": {},
   "outputs": [],
   "source": [
    "roy_rodgers_gdf[\"STUSPS\"] = roy_rodgers_gdf.apply(\n",
    "    lambda row: find_state(row[\"data\"]), axis=1\n",
    ")"
   ]
  },
  {
   "cell_type": "code",
   "execution_count": 17,
   "id": "0bc15fec-ecd6-42eb-be06-a6ecfb9fab81",
   "metadata": {},
   "outputs": [],
   "source": [
    "roy_rodgers_gdf.loc[roy_rodgers_gdf.index == 25, \"STUSPS\"] = \"NJ\"\n",
    "roy_rodgers_gdf.loc[roy_rodgers_gdf.index == 39, \"STUSPS\"] = \"VA\""
   ]
  },
  {
   "cell_type": "code",
   "execution_count": 19,
   "id": "7803dc3e-2437-4c08-9241-aa2a216004a7",
   "metadata": {},
   "outputs": [],
   "source": [
    "roy_rodgers_counts_gdf = roy_rodgers_gdf.groupby(\"STUSPS\").size().reset_index()\n",
    "roy_rodgers_counts_gdf = roy_rodgers_counts_gdf.rename(columns={0: \"ROY_RODGERS\"})"
   ]
  },
  {
   "cell_type": "code",
   "execution_count": 21,
   "id": "9479a494-0c20-46c5-9301-51c73a0462b3",
   "metadata": {},
   "outputs": [
    {
     "data": {
      "text/html": [
       "<div>\n",
       "<style scoped>\n",
       "    .dataframe tbody tr th:only-of-type {\n",
       "        vertical-align: middle;\n",
       "    }\n",
       "\n",
       "    .dataframe tbody tr th {\n",
       "        vertical-align: top;\n",
       "    }\n",
       "\n",
       "    .dataframe thead th {\n",
       "        text-align: right;\n",
       "    }\n",
       "</style>\n",
       "<table border=\"1\" class=\"dataframe\">\n",
       "  <thead>\n",
       "    <tr style=\"text-align: right;\">\n",
       "      <th></th>\n",
       "      <th>STUSPS</th>\n",
       "      <th>ROY_RODGERS</th>\n",
       "    </tr>\n",
       "  </thead>\n",
       "  <tbody>\n",
       "    <tr>\n",
       "      <th>0</th>\n",
       "      <td>MD</td>\n",
       "      <td>22</td>\n",
       "    </tr>\n",
       "    <tr>\n",
       "      <th>1</th>\n",
       "      <td>NJ</td>\n",
       "      <td>3</td>\n",
       "    </tr>\n",
       "    <tr>\n",
       "      <th>2</th>\n",
       "      <td>PA</td>\n",
       "      <td>7</td>\n",
       "    </tr>\n",
       "    <tr>\n",
       "      <th>3</th>\n",
       "      <td>VA</td>\n",
       "      <td>8</td>\n",
       "    </tr>\n",
       "    <tr>\n",
       "      <th>4</th>\n",
       "      <td>WV</td>\n",
       "      <td>1</td>\n",
       "    </tr>\n",
       "  </tbody>\n",
       "</table>\n",
       "</div>"
      ],
      "text/plain": [
       "  STUSPS  ROY_RODGERS\n",
       "0     MD           22\n",
       "1     NJ            3\n",
       "2     PA            7\n",
       "3     VA            8\n",
       "4     WV            1"
      ]
     },
     "execution_count": 21,
     "metadata": {},
     "output_type": "execute_result"
    }
   ],
   "source": [
    "roy_rodgers_counts_gdf"
   ]
  },
  {
   "cell_type": "markdown",
   "id": "4bf76ff1-a926-497c-bf15-c536d1035aa4",
   "metadata": {},
   "source": [
    "## Merge data"
   ]
  },
  {
   "cell_type": "code",
   "execution_count": 23,
   "id": "68352982-8e59-4623-a39f-b3c9f5a2eb5b",
   "metadata": {},
   "outputs": [],
   "source": [
    "states_with_population_with_totals_df = states_with_population_df.merge(\n",
    "    roy_rodgers_counts_gdf, on=\"STUSPS\", how=\"inner\"\n",
    ")"
   ]
  },
  {
   "cell_type": "code",
   "execution_count": 25,
   "id": "171ef241-2edb-4dcb-a4bb-0e04ff9c9493",
   "metadata": {},
   "outputs": [],
   "source": [
    "states_with_population_with_totals_df[\"people_per_store\"] = (\n",
    "    (\n",
    "        states_with_population_with_totals_df[\"POPULATION\"]\n",
    "        / states_with_population_with_totals_df[\"ROY_RODGERS\"]\n",
    "    )\n",
    "    .round(decimals=0)\n",
    "    .astype(int)\n",
    ")\n",
    "states_with_population_with_totals_df[\n",
    "    \"stores_per_1m\"\n",
    "] = states_with_population_with_totals_df[\"ROY_RODGERS\"] / (\n",
    "    states_with_population_with_totals_df[\"POPULATION\"] / 1_000_000\n",
    ")"
   ]
  },
  {
   "cell_type": "code",
   "execution_count": 26,
   "id": "8cb41f22-9612-40a1-a9cd-3567f96fead5",
   "metadata": {},
   "outputs": [],
   "source": [
    "states_with_population_with_totals_df = states_with_population_with_totals_df[\n",
    "    [\"geometry\", \"ROY_RODGERS\", \"people_per_store\", \"stores_per_1m\"]\n",
    "]"
   ]
  },
  {
   "cell_type": "markdown",
   "id": "48546820-227b-4424-8977-9891f8cb8e14",
   "metadata": {},
   "source": [
    "## Export"
   ]
  },
  {
   "cell_type": "code",
   "execution_count": 28,
   "id": "307662bc-28de-4096-b1a9-1b101831ea5d",
   "metadata": {},
   "outputs": [],
   "source": [
    "states_with_population_with_totals_df = states_with_population_with_totals_df.to_crs(\n",
    "    32115\n",
    ")"
   ]
  },
  {
   "cell_type": "code",
   "execution_count": 29,
   "id": "c6a3c0d6-4b82-4769-b0d6-b0abbe540757",
   "metadata": {},
   "outputs": [],
   "source": [
    "states_with_population_with_totals_df.to_file(\"data/states_with_counts.gpkg\")"
   ]
  },
  {
   "cell_type": "code",
   "execution_count": null,
   "id": "5cd97ce3-f58b-4b5a-8887-a39020f26b5d",
   "metadata": {},
   "outputs": [],
   "source": []
  }
 ],
 "metadata": {
  "kernelspec": {
   "display_name": "Python 3 (ipykernel)",
   "language": "python",
   "name": "python3"
  },
  "language_info": {
   "codemirror_mode": {
    "name": "ipython",
    "version": 3
   },
   "file_extension": ".py",
   "mimetype": "text/x-python",
   "name": "python",
   "nbconvert_exporter": "python",
   "pygments_lexer": "ipython3",
   "version": "3.11.11"
  }
 },
 "nbformat": 4,
 "nbformat_minor": 5
}
