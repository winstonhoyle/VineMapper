{
 "cells": [
  {
   "cell_type": "code",
   "execution_count": 1,
   "id": "10fa1d09-7717-4ea8-9ce7-1cef37b4da9c",
   "metadata": {},
   "outputs": [],
   "source": [
    "import cloudscraper\n",
    "import geopandas as gpd\n",
    "import pandas as pd"
   ]
  },
  {
   "cell_type": "code",
   "execution_count": 2,
   "id": "d22202a0-bf3c-4953-81ce-105a19e002a0",
   "metadata": {},
   "outputs": [],
   "source": [
    "from shapely.geometry import Point"
   ]
  },
  {
   "cell_type": "markdown",
   "id": "02e1dfb5-464d-4984-8c84-5599ce9dcd5d",
   "metadata": {},
   "source": [
    "## Get State Data"
   ]
  },
  {
   "cell_type": "code",
   "execution_count": 3,
   "id": "84b53c65-5746-4ab8-8c99-6dfe3e967797",
   "metadata": {},
   "outputs": [],
   "source": [
    "file_path = \"data/cb_2018_us_state_500k/cb_2018_us_state_500k.shp\"\n",
    "states_df = gpd.read_file(file_path)"
   ]
  },
  {
   "cell_type": "code",
   "execution_count": 4,
   "id": "191755a6-eb92-4683-833e-b69f4be9f3f5",
   "metadata": {},
   "outputs": [],
   "source": [
    "states_df = states_df[[\"STUSPS\", \"NAME\", \"geometry\"]]"
   ]
  },
  {
   "cell_type": "markdown",
   "id": "f3ad4feb-2496-4c2f-827b-04c586ef17ba",
   "metadata": {},
   "source": [
    "## Get Crumbl Data"
   ]
  },
  {
   "cell_type": "code",
   "execution_count": 36,
   "id": "4c063aa4-d1b0-400e-a449-8125a2a0596a",
   "metadata": {},
   "outputs": [],
   "source": [
    "scraper = cloudscraper.create_scraper()"
   ]
  },
  {
   "cell_type": "code",
   "execution_count": 37,
   "id": "267af8f6-5ae7-4c32-864b-5f970236c8b8",
   "metadata": {},
   "outputs": [],
   "source": [
    "r = scraper.get(\n",
    "    \"https://crumblcookies.com/_next/data/Qfw251bnmrP52or8JVfsV/en-US/stores.json\"\n",
    ")"
   ]
  },
  {
   "cell_type": "code",
   "execution_count": 38,
   "id": "295e9e48-ddb7-42c3-b77e-c308f9730bf0",
   "metadata": {},
   "outputs": [],
   "source": [
    "json_data = r.json()"
   ]
  },
  {
   "cell_type": "code",
   "execution_count": 39,
   "id": "50234cdb-defe-41fe-84db-853bdfff17b5",
   "metadata": {},
   "outputs": [],
   "source": [
    "stores_df = pd.DataFrame(json_data[\"pageProps\"][\"allActiveStores\"])"
   ]
  },
  {
   "cell_type": "code",
   "execution_count": 40,
   "id": "c59cbeb2-43bb-4c2c-81ea-713e754cbcb9",
   "metadata": {},
   "outputs": [],
   "source": [
    "stores_df[\"geometry\"] = stores_df.apply(\n",
    "    lambda row: Point(float(row[\"longitude\"]), float(row[\"latitude\"])), axis=1\n",
    ")"
   ]
  },
  {
   "cell_type": "code",
   "execution_count": 41,
   "id": "842cf0ee-96c1-42c0-83d5-260189fe897e",
   "metadata": {},
   "outputs": [],
   "source": [
    "stores_gdf = gpd.GeoDataFrame(stores_df, crs=4326)"
   ]
  },
  {
   "cell_type": "code",
   "execution_count": 42,
   "id": "83f9ea85-7234-4e23-947a-a2a78336181c",
   "metadata": {},
   "outputs": [],
   "source": [
    "stores_gdf = stores_gdf.to_crs(9311)\n",
    "stores_gdf.to_file(\"data/stores.gpkg\")"
   ]
  },
  {
   "cell_type": "markdown",
   "id": "5a42dfab-fc47-49d7-8092-f08b31392df8",
   "metadata": {},
   "source": [
    "## Get Population Data"
   ]
  },
  {
   "cell_type": "code",
   "execution_count": 43,
   "id": "3cce9c91-abf1-4055-8b9a-5fd1f6cf611f",
   "metadata": {},
   "outputs": [],
   "source": [
    "state_populations = pd.read_excel(\n",
    "    \"data/NST-EST2024-POP.xlsx\", sheet_name=None, engine=\"openpyxl\"\n",
    ")"
   ]
  },
  {
   "cell_type": "code",
   "execution_count": 44,
   "id": "2eaacc28-fa8e-410e-b084-02ce24ec11a1",
   "metadata": {},
   "outputs": [],
   "source": [
    "state_populations_df = state_populations[\"NST-EST2024-POP\"][\n",
    "    [\n",
    "        \"table with row headers in column A and column headers in rows 3 through 4. (leading dots indicate sub-parts)\",\n",
    "        \"Unnamed: 5\",\n",
    "    ]\n",
    "]\n",
    "state_populations_df = state_populations_df.rename(\n",
    "    columns={\n",
    "        \"table with row headers in column A and column headers in rows 3 through 4. (leading dots indicate sub-parts)\": \"NAME\",\n",
    "        \"Unnamed: 5\": \"POPULATION\",\n",
    "    }\n",
    ")\n",
    "state_populations_df[\"NAME\"] = state_populations_df[\"NAME\"].str[1:]"
   ]
  },
  {
   "cell_type": "code",
   "execution_count": 45,
   "id": "2d6342e1-fc3f-4006-8d8a-d7612903a625",
   "metadata": {},
   "outputs": [],
   "source": [
    "states_with_population_df = states_df.merge(state_populations_df, on=\"NAME\", how=\"left\")\n",
    "states_with_population_df = states_with_population_df[\n",
    "    [\"STUSPS\", \"NAME\", \"POPULATION\", \"geometry\"]\n",
    "]"
   ]
  },
  {
   "cell_type": "code",
   "execution_count": 46,
   "id": "94150db1-9ce7-43cb-8c08-3f6d9bb58497",
   "metadata": {},
   "outputs": [],
   "source": [
    "states_with_population_df = states_with_population_df.dropna()"
   ]
  },
  {
   "cell_type": "markdown",
   "id": "af5c5e13-c89d-43ed-8021-13ba93990599",
   "metadata": {},
   "source": [
    "## Merge Data"
   ]
  },
  {
   "cell_type": "code",
   "execution_count": 51,
   "id": "f6900380-39b5-4cca-abf9-b46f7b886f9d",
   "metadata": {},
   "outputs": [],
   "source": [
    "crumble_cookies_state_df = pd.DataFrame(\n",
    "    stores_gdf.groupby(\"stateInitials\").size(), columns=[\"COUNTS\"]\n",
    ").reset_index(names=\"STUSPS\")"
   ]
  },
  {
   "cell_type": "code",
   "execution_count": 52,
   "id": "8a4afa33-893a-4b6b-8df1-f5151243deeb",
   "metadata": {},
   "outputs": [],
   "source": [
    "crumble_cookies_state_gdf = states_with_population_df.merge(\n",
    "    crumble_cookies_state_df, on=\"STUSPS\", how=\"left\"\n",
    ")\n",
    "crumble_cookies_state_gdf = crumble_cookies_state_gdf.fillna(0)"
   ]
  },
  {
   "cell_type": "code",
   "execution_count": 53,
   "id": "f50526e2-4c7a-4d13-8d5e-aaddbeec7751",
   "metadata": {},
   "outputs": [],
   "source": [
    "crumble_cookies_state_gdf[\"per_100k\"] = crumble_cookies_state_gdf[\"COUNTS\"] / (\n",
    "    crumble_cookies_state_gdf[\"POPULATION\"] / 100000\n",
    ")\n",
    "crumble_cookies_state_gdf[\"per_1m\"] = crumble_cookies_state_gdf[\"COUNTS\"] / (\n",
    "    crumble_cookies_state_gdf[\"POPULATION\"] / 1_000_000\n",
    ")"
   ]
  },
  {
   "cell_type": "code",
   "execution_count": 54,
   "id": "4d00c57e-a978-4938-b5f5-cb176b29cf77",
   "metadata": {},
   "outputs": [],
   "source": [
    "crumble_cookies_state_gdf = crumble_cookies_state_gdf.to_crs(9311)"
   ]
  },
  {
   "cell_type": "code",
   "execution_count": 55,
   "id": "f8feb339-fc3c-41f9-8bd8-50ee507bb185",
   "metadata": {},
   "outputs": [],
   "source": [
    "crumble_cookies_state_gdf.to_file(\"data/crumble_cookies_state.gpkg\")"
   ]
  },
  {
   "cell_type": "code",
   "execution_count": null,
   "id": "6fe12df3-c59b-48b5-bd11-cdbae9436a65",
   "metadata": {},
   "outputs": [],
   "source": []
  },
  {
   "cell_type": "code",
   "execution_count": null,
   "id": "e92773a5-ed1b-4850-b29c-fcc40f9d5289",
   "metadata": {},
   "outputs": [],
   "source": []
  }
 ],
 "metadata": {
  "kernelspec": {
   "display_name": "Python 3 (ipykernel)",
   "language": "python",
   "name": "python3"
  },
  "language_info": {
   "codemirror_mode": {
    "name": "ipython",
    "version": 3
   },
   "file_extension": ".py",
   "mimetype": "text/x-python",
   "name": "python",
   "nbconvert_exporter": "python",
   "pygments_lexer": "ipython3",
   "version": "3.11.11"
  }
 },
 "nbformat": 4,
 "nbformat_minor": 5
}
