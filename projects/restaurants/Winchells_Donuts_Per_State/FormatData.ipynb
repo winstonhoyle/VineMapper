{
 "cells": [
  {
   "cell_type": "code",
   "execution_count": 1,
   "id": "c86ad9f6-4aaf-469e-a56e-363083168e1e",
   "metadata": {},
   "outputs": [],
   "source": [
    "from xml.etree import ElementTree"
   ]
  },
  {
   "cell_type": "code",
   "execution_count": 2,
   "id": "10fa1d09-7717-4ea8-9ce7-1cef37b4da9c",
   "metadata": {},
   "outputs": [],
   "source": [
    "import cloudscraper\n",
    "import geopandas as gpd\n",
    "import pandas as pd\n",
    "from shapely.geometry import Point"
   ]
  },
  {
   "cell_type": "markdown",
   "id": "02e1dfb5-464d-4984-8c84-5599ce9dcd5d",
   "metadata": {},
   "source": [
    "## Get State Data"
   ]
  },
  {
   "cell_type": "code",
   "execution_count": 23,
   "id": "84b53c65-5746-4ab8-8c99-6dfe3e967797",
   "metadata": {},
   "outputs": [],
   "source": [
    "file_path = \"data/cb_2018_us_state_500k/cb_2018_us_state_500k.shp\"\n",
    "states_df = gpd.read_file(file_path)"
   ]
  },
  {
   "cell_type": "code",
   "execution_count": 24,
   "id": "191755a6-eb92-4683-833e-b69f4be9f3f5",
   "metadata": {},
   "outputs": [],
   "source": [
    "states_df = states_df[[\"STUSPS\", \"NAME\", \"geometry\"]]"
   ]
  },
  {
   "cell_type": "markdown",
   "id": "f3ad4feb-2496-4c2f-827b-04c586ef17ba",
   "metadata": {},
   "source": [
    "## Get Winchells Donuts"
   ]
  },
  {
   "cell_type": "code",
   "execution_count": 25,
   "id": "4c063aa4-d1b0-400e-a449-8125a2a0596a",
   "metadata": {},
   "outputs": [],
   "source": [
    "scraper = cloudscraper.create_scraper()"
   ]
  },
  {
   "cell_type": "code",
   "execution_count": 26,
   "id": "2742fd39-6e47-4af7-9163-6362a861cb01",
   "metadata": {},
   "outputs": [],
   "source": [
    "r = scraper.get(\"https://winchells.com/maps_xml\")"
   ]
  },
  {
   "cell_type": "code",
   "execution_count": 27,
   "id": "e1a6439b-05b9-46aa-ba29-a73ddfee1e30",
   "metadata": {},
   "outputs": [],
   "source": [
    "tree = ElementTree.fromstring(r.content)"
   ]
  },
  {
   "cell_type": "code",
   "execution_count": 28,
   "id": "5f2ed666-9c8c-4a29-8b51-dbfec164f3bc",
   "metadata": {},
   "outputs": [],
   "source": [
    "store_dicts = []\n",
    "for child in tree:\n",
    "    try:\n",
    "        address = child.attrib[\"Address\"]\n",
    "        state_code = address.split(\",\")[2].strip().split(\" \")[0]\n",
    "        if state_code == \"Guam\" or address == \"143 4, Hagåtña, 96910, Guam\":\n",
    "            state_code = \"GU\"\n",
    "    except Exception:\n",
    "        if address == \"603 E University Dr. Ste D Carson, CA\":\n",
    "            state_code = \"CA\"\n",
    "        else:\n",
    "            print(child.attrib[\"Address\"])\n",
    "\n",
    "    point = Point(child.attrib[\"Xcoord\"], child.attrib[\"Ycoord\"])\n",
    "    store_dicts.append({\"geometry\": point, \"STUSPS\": state_code, \"address\": address})"
   ]
  },
  {
   "cell_type": "code",
   "execution_count": 29,
   "id": "18f12f42-73ca-4932-9cf3-8a545bf28b6d",
   "metadata": {},
   "outputs": [],
   "source": [
    "winchells_gdf = gpd.GeoDataFrame(store_dicts, crs=4326)"
   ]
  },
  {
   "cell_type": "code",
   "execution_count": 30,
   "id": "82626e84-9c67-4460-a792-9668dbda6768",
   "metadata": {},
   "outputs": [],
   "source": [
    "winchells_gdf = winchells_gdf.to_crs(9311)\n",
    "winchells_gdf.to_file(f\"data/locations.gpkg\")"
   ]
  },
  {
   "cell_type": "markdown",
   "id": "5a42dfab-fc47-49d7-8092-f08b31392df8",
   "metadata": {},
   "source": [
    "## Get Population Data"
   ]
  },
  {
   "cell_type": "code",
   "execution_count": 39,
   "id": "3cce9c91-abf1-4055-8b9a-5fd1f6cf611f",
   "metadata": {},
   "outputs": [],
   "source": [
    "state_populations = pd.read_excel(\n",
    "    \"data/NST-EST2024-POP.xlsx\", sheet_name=None, engine=\"openpyxl\"\n",
    ")"
   ]
  },
  {
   "cell_type": "code",
   "execution_count": 40,
   "id": "2eaacc28-fa8e-410e-b084-02ce24ec11a1",
   "metadata": {},
   "outputs": [],
   "source": [
    "state_populations_df = state_populations[\"NST-EST2024-POP\"][\n",
    "    [\n",
    "        \"table with row headers in column A and column headers in rows 3 through 4. (leading dots indicate sub-parts)\",\n",
    "        \"Unnamed: 5\",\n",
    "    ]\n",
    "]\n",
    "state_populations_df = state_populations_df.rename(\n",
    "    columns={\n",
    "        \"table with row headers in column A and column headers in rows 3 through 4. (leading dots indicate sub-parts)\": \"NAME\",\n",
    "        \"Unnamed: 5\": \"POPULATION\",\n",
    "    }\n",
    ")\n",
    "state_populations_df[\"NAME\"] = state_populations_df[\"NAME\"].str[1:]"
   ]
  },
  {
   "cell_type": "markdown",
   "id": "981edb95-1ae3-45e5-be08-f55aa76cd325",
   "metadata": {},
   "source": [
    "#### Manually Add Guam"
   ]
  },
  {
   "cell_type": "code",
   "execution_count": 43,
   "id": "bc0f5ed8-029b-431d-8301-5cfa2f37fa29",
   "metadata": {},
   "outputs": [],
   "source": [
    "state_populations_df.loc[-1] = [\"Guam\", 167777]\n",
    "state_populations_df.index = state_populations_df.index + 1\n",
    "state_populations_df = state_populations_df.sort_index()"
   ]
  },
  {
   "cell_type": "code",
   "execution_count": 45,
   "id": "2d6342e1-fc3f-4006-8d8a-d7612903a625",
   "metadata": {},
   "outputs": [],
   "source": [
    "states_with_population_df = states_df.merge(state_populations_df, on=\"NAME\", how=\"left\")\n",
    "states_with_population_df = states_with_population_df[\n",
    "    [\"STUSPS\", \"NAME\", \"POPULATION\", \"geometry\"]\n",
    "]"
   ]
  },
  {
   "cell_type": "code",
   "execution_count": 46,
   "id": "94150db1-9ce7-43cb-8c08-3f6d9bb58497",
   "metadata": {},
   "outputs": [],
   "source": [
    "states_with_population_df = states_with_population_df.dropna()"
   ]
  },
  {
   "cell_type": "markdown",
   "id": "af5c5e13-c89d-43ed-8021-13ba93990599",
   "metadata": {},
   "source": [
    "## Merge Data"
   ]
  },
  {
   "cell_type": "code",
   "execution_count": 53,
   "id": "6b48eb33-c929-44b2-be49-eb0d800ac89c",
   "metadata": {},
   "outputs": [],
   "source": [
    "groupby_df = winchells_gdf.groupby(\"STUSPS\").size()\n",
    "winchells_counts_df = pd.DataFrame(groupby_df).rename(columns={0: \"Winchells\"})"
   ]
  },
  {
   "cell_type": "code",
   "execution_count": 54,
   "id": "8a4afa33-893a-4b6b-8df1-f5151243deeb",
   "metadata": {},
   "outputs": [],
   "source": [
    "winchells_counts_gdf = states_with_population_df.merge(\n",
    "    winchells_counts_df, on=\"STUSPS\", how=\"left\"\n",
    ")\n",
    "winchells_counts_gdf = winchells_counts_gdf.fillna(0)"
   ]
  },
  {
   "cell_type": "code",
   "execution_count": 57,
   "id": "f50526e2-4c7a-4d13-8d5e-aaddbeec7751",
   "metadata": {},
   "outputs": [],
   "source": [
    "winchells_counts_gdf[\"Per_100k\"] = winchells_counts_gdf[\"Winchells\"] / (\n",
    "    winchells_counts_gdf[\"POPULATION\"] / 100_000\n",
    ")\n",
    "winchells_counts_gdf[\"Per_1m\"] = winchells_counts_gdf[\"Winchells\"] / (\n",
    "    winchells_counts_gdf[\"POPULATION\"] / 1_000_000\n",
    ")\n",
    "winchells_counts_gdf[\"Winchells\"] = winchells_counts_gdf[\"Winchells\"].astype(int)"
   ]
  },
  {
   "cell_type": "code",
   "execution_count": 58,
   "id": "4d00c57e-a978-4938-b5f5-cb176b29cf77",
   "metadata": {},
   "outputs": [],
   "source": [
    "winchells_counts_gdf = winchells_counts_gdf.to_crs(9311)"
   ]
  },
  {
   "cell_type": "code",
   "execution_count": 59,
   "id": "f8feb339-fc3c-41f9-8bd8-50ee507bb185",
   "metadata": {},
   "outputs": [],
   "source": [
    "winchells_counts_gdf.to_file(\"data/Winchells.gpkg\")"
   ]
  },
  {
   "cell_type": "code",
   "execution_count": null,
   "id": "6fe12df3-c59b-48b5-bd11-cdbae9436a65",
   "metadata": {},
   "outputs": [],
   "source": []
  },
  {
   "cell_type": "code",
   "execution_count": null,
   "id": "e92773a5-ed1b-4850-b29c-fcc40f9d5289",
   "metadata": {},
   "outputs": [],
   "source": []
  }
 ],
 "metadata": {
  "kernelspec": {
   "display_name": "Python 3 (ipykernel)",
   "language": "python",
   "name": "python3"
  },
  "language_info": {
   "codemirror_mode": {
    "name": "ipython",
    "version": 3
   },
   "file_extension": ".py",
   "mimetype": "text/x-python",
   "name": "python",
   "nbconvert_exporter": "python",
   "pygments_lexer": "ipython3",
   "version": "3.11.11"
  }
 },
 "nbformat": 4,
 "nbformat_minor": 5
}
