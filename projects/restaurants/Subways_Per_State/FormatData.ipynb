{
 "cells": [
  {
   "cell_type": "code",
   "execution_count": 1,
   "id": "8eca3131-85dc-48b3-b640-f384104e123c",
   "metadata": {},
   "outputs": [],
   "source": [
    "import os\n",
    "import random\n",
    "import re\n",
    "import requests\n",
    "import time"
   ]
  },
  {
   "cell_type": "code",
   "execution_count": 2,
   "id": "bc436e38-234d-44fd-b67b-d1f2974606d3",
   "metadata": {},
   "outputs": [],
   "source": [
    "from bs4 import BeautifulSoup\n",
    "import cloudscraper\n",
    "import geopandas as gpd\n",
    "import pandas as pd"
   ]
  },
  {
   "cell_type": "code",
   "execution_count": 3,
   "id": "2d1e0efb-fe0d-41c3-8fa6-ef65597011c8",
   "metadata": {},
   "outputs": [],
   "source": [
    "from shapely.geometry import Point\n",
    "from tqdm.notebook import tqdm"
   ]
  },
  {
   "cell_type": "markdown",
   "id": "44a3df26-78d3-479c-99a2-c0e1ba91352e",
   "metadata": {},
   "source": [
    "## Get State Data"
   ]
  },
  {
   "cell_type": "code",
   "execution_count": 4,
   "id": "615eeabf-033b-425a-a81f-d7b4dd9e3a3e",
   "metadata": {},
   "outputs": [],
   "source": [
    "file_path = \"data/cb_2018_us_state_500k/cb_2018_us_state_500k.shp\"\n",
    "states_df = gpd.read_file(file_path)"
   ]
  },
  {
   "cell_type": "code",
   "execution_count": 5,
   "id": "502c6bfe-0912-4d37-95b0-47e7a14b468f",
   "metadata": {},
   "outputs": [],
   "source": [
    "states_df = states_df[[\"STUSPS\", \"NAME\", \"geometry\"]]"
   ]
  },
  {
   "cell_type": "markdown",
   "id": "4257620c-13d7-4071-bae2-a5a2aeae5ba7",
   "metadata": {},
   "source": [
    "## Get Population data"
   ]
  },
  {
   "cell_type": "code",
   "execution_count": 6,
   "id": "6c0e7a1d-5a9a-4c10-a5d4-28dc681a8a27",
   "metadata": {},
   "outputs": [],
   "source": [
    "state_populations = pd.read_excel(\n",
    "    \"data/NST-EST2024-POP.xlsx\", sheet_name=None, engine=\"openpyxl\"\n",
    ")"
   ]
  },
  {
   "cell_type": "code",
   "execution_count": 7,
   "id": "2614c2ab-96ec-4304-a287-6fd013fedbbb",
   "metadata": {},
   "outputs": [],
   "source": [
    "state_populations_df = state_populations[\"NST-EST2024-POP\"][\n",
    "    [\n",
    "        \"table with row headers in column A and column headers in rows 3 through 4. (leading dots indicate sub-parts)\",\n",
    "        \"Unnamed: 5\",\n",
    "    ]\n",
    "]\n",
    "state_populations_df = state_populations_df.rename(\n",
    "    columns={\n",
    "        \"table with row headers in column A and column headers in rows 3 through 4. (leading dots indicate sub-parts)\": \"NAME\",\n",
    "        \"Unnamed: 5\": \"POPULATION\",\n",
    "    }\n",
    ")\n",
    "state_populations_df[\"NAME\"] = state_populations_df[\"NAME\"].str[1:]"
   ]
  },
  {
   "cell_type": "code",
   "execution_count": 8,
   "id": "2a1a8b6e-a0bf-486b-b62e-46a23ca718e2",
   "metadata": {},
   "outputs": [],
   "source": [
    "states_with_population_df = states_df.merge(state_populations_df, on=\"NAME\", how=\"left\")\n",
    "states_with_population_df = states_with_population_df[\n",
    "    [\"STUSPS\", \"NAME\", \"POPULATION\", \"geometry\"]\n",
    "]"
   ]
  },
  {
   "cell_type": "markdown",
   "id": "6d2f1ce9-a36c-4292-99a0-ad42032c5ad4",
   "metadata": {},
   "source": [
    "## Get Subway Data"
   ]
  },
  {
   "cell_type": "code",
   "execution_count": 9,
   "id": "a36b1cd2-6a8f-47c5-81bd-0b457b5e15d8",
   "metadata": {},
   "outputs": [],
   "source": [
    "def get_coords(soup) -> Point:\n",
    "    latitude_meta = soup.find(\"meta\", {\"itemprop\": \"latitude\"})\n",
    "    longitude_meta = soup.find(\"meta\", {\"itemprop\": \"longitude\"})\n",
    "    lat = float(latitude_meta.attrs[\"content\"])\n",
    "    lon = float(longitude_meta.attrs[\"content\"])\n",
    "    return Point(lon, lat)"
   ]
  },
  {
   "cell_type": "code",
   "execution_count": 10,
   "id": "9faa75ce-1dcd-44bc-84f2-6eb1011f9727",
   "metadata": {},
   "outputs": [],
   "source": [
    "scraper = cloudscraper.create_scraper()\n",
    "url_root = \"https://restaurants.subway.com\""
   ]
  },
  {
   "cell_type": "code",
   "execution_count": 11,
   "id": "bf141e51-6947-492b-b53c-8ed683353d9f",
   "metadata": {},
   "outputs": [
    {
     "data": {
      "application/vnd.jupyter.widget-view+json": {
       "model_id": "39a3bb781e1e42c59cd3b3d33d5c0a71",
       "version_major": 2,
       "version_minor": 0
      },
      "text/plain": [
       "Parsing States:   0%|          | 0/56 [00:00<?, ?it/s]"
      ]
     },
     "metadata": {},
     "output_type": "display_data"
    },
    {
     "data": {
      "application/vnd.jupyter.widget-view+json": {
       "model_id": "e213f0240bcc4079af921cd24e51b502",
       "version_major": 2,
       "version_minor": 0
      },
      "text/plain": [
       "Parsing Locations In ms:   0%|          | 0/142 [00:00<?, ?it/s]"
      ]
     },
     "metadata": {},
     "output_type": "display_data"
    },
    {
     "name": "stdout",
     "output_type": "stream",
     "text": [
      "https://restaurants.subway.com/united-states/ms/d'iberville/3821-promenade-parkway\n",
      "https://restaurants.subway.com/united-states/ms/gautier/7204-martin-bluff-drive\n",
      "https://restaurants.subway.com/united-states/ms/jackson/1263-high-street\n",
      "https://restaurants.subway.com/united-states/ms/jackson/1400-john-r-lynch-st\n",
      "https://restaurants.subway.com/united-states/ms/jackson/6351-i-55-n\n",
      "https://restaurants.subway.com/united-states/ms/madison/175-grandview\n",
      "https://restaurants.subway.com/united-states/ms/meridian/1729-hwy-39-n\n",
      "https://restaurants.subway.com/united-states/ms/mississippi-state/85-old-main-street\n",
      "https://restaurants.subway.com/united-states/ms/pass-christian/125-davis-avenue\n",
      "https://restaurants.subway.com/united-states/ms/picayune/1701-highway-43-north\n",
      "https://restaurants.subway.com/united-states/ms/port-gibson/1113-hwy-61-n\n",
      "https://restaurants.subway.com/united-states/ms/woodville/187-us-highway-61\n"
     ]
    },
    {
     "data": {
      "application/vnd.jupyter.widget-view+json": {
       "model_id": "9b3c185d4ddf4b7dbe3010b844a76034",
       "version_major": 2,
       "version_minor": 0
      },
      "text/plain": [
       "Parsing Locations In nc:   0%|          | 0/302 [00:00<?, ?it/s]"
      ]
     },
     "metadata": {},
     "output_type": "display_data"
    },
    {
     "name": "stdout",
     "output_type": "stream",
     "text": [
      "https://restaurants.subway.com/united-states/nc/asheboro/2003-north-fayetteville-street\n",
      "https://restaurants.subway.com/united-states/nc/asheville/278-smokey-park-hwy\n",
      "https://restaurants.subway.com/united-states/nc/asheville/4-old-eastwood-village-blvd\n",
      "https://restaurants.subway.com/united-states/nc/black-mountain/202-nc-hwy-9\n",
      "https://restaurants.subway.com/united-states/nc/boone/200-watauga-village-drive\n",
      "https://restaurants.subway.com/united-states/nc/burlington/216-huffman-mill-rd\n",
      "https://restaurants.subway.com/united-states/nc/burlington/2310-maple-avenue\n",
      "https://restaurants.subway.com/united-states/nc/carthage/1005-monroe-street\n",
      "https://restaurants.subway.com/united-states/nc/cary/611-e-chatham-street\n",
      "https://restaurants.subway.com/united-states/nc/chapel-hill/11552-us-hwy-15-501-n\n",
      "https://restaurants.subway.com/united-states/nc/charlotte/108-c-s-sharon-amity-road\n",
      "https://restaurants.subway.com/united-states/nc/charlotte/1300-the-plaza\n",
      "https://restaurants.subway.com/united-states/nc/charlotte/1816-galleria-blvd\n",
      "https://restaurants.subway.com/united-states/nc/charlotte/324-s-mint-st\n",
      "https://restaurants.subway.com/united-states/nc/charlotte/4323-park-road\n",
      "https://restaurants.subway.com/united-states/nc/charlotte/6133-s-blvd\n",
      "https://restaurants.subway.com/united-states/nc/charlotte/8318-pineville-mathews-rd\n",
      "https://restaurants.subway.com/united-states/nc/charlotte/9201-university-blvd\n",
      "https://restaurants.subway.com/united-states/nc/conover/508-10th-st-nw\n",
      "https://restaurants.subway.com/united-states/nc/davidson/1-harbour-place\n",
      "https://restaurants.subway.com/united-states/nc/denver/143-cross-center-drive\n",
      "https://restaurants.subway.com/united-states/nc/durham/3500-roxboro-rd\n",
      "https://restaurants.subway.com/united-states/nc/durham/610-e-lawson-street\n",
      "https://restaurants.subway.com/united-states/nc/fayetteville/1738-bingham-drive\n",
      "https://restaurants.subway.com/united-states/nc/franklinton/3470-us-1\n",
      "https://restaurants.subway.com/united-states/nc/greensboro/1200-north-elm-street\n",
      "https://restaurants.subway.com/united-states/nc/greensboro/2715-d-grandview-avenue\n",
      "https://restaurants.subway.com/united-states/nc/greensboro/341-n-four-seasons-town-ctr\n",
      "https://restaurants.subway.com/united-states/nc/greenville/110-east-10th-st\n",
      "https://restaurants.subway.com/united-states/nc/jamestown/5635-riverdale-drive\n",
      "https://restaurants.subway.com/united-states/nc/kinston/4153-w-vernon-ave\n",
      "https://restaurants.subway.com/united-states/nc/manteo/highway-64-e\n",
      "https://restaurants.subway.com/united-states/nc/mathews/2800-campus-ridge-road\n",
      "https://restaurants.subway.com/united-states/nc/monroe/4102-hwy-74-w\n",
      "https://restaurants.subway.com/united-states/nc/new-bern/131-bridgetown-rd\n",
      "https://restaurants.subway.com/united-states/nc/newland/100-linville-st\n",
      "https://restaurants.subway.com/united-states/nc/old-fort/85-s-catawba-ave\n",
      "https://restaurants.subway.com/united-states/nc/point-harbor/8981-caratoke-hwy\n",
      "https://restaurants.subway.com/united-states/nc/raleigh/706-w-peace-st\n",
      "https://restaurants.subway.com/united-states/nc/rockingham/980-us-hwy-1-n-&-wiregrass-rd\n",
      "https://restaurants.subway.com/united-states/nc/smithfield/150-equity-dr\n",
      "https://restaurants.subway.com/united-states/nc/swannanoa/2344-us-hwy-70\n",
      "https://restaurants.subway.com/united-states/nc/thomasville/283-old-greensboro-rd\n",
      "https://restaurants.subway.com/united-states/nc/wilmington/5315-s-college-rd\n",
      "https://restaurants.subway.com/united-states/nc/wilmington/7110-wrightsville-ave\n",
      "https://restaurants.subway.com/united-states/nc/winston-salem/3277-robinhood-road\n"
     ]
    },
    {
     "data": {
      "application/vnd.jupyter.widget-view+json": {
       "model_id": "3421d13cba6c4e4db751961afd44e632",
       "version_major": 2,
       "version_minor": 0
      },
      "text/plain": [
       "Parsing Locations In ok:   0%|          | 0/163 [00:00<?, ?it/s]"
      ]
     },
     "metadata": {},
     "output_type": "display_data"
    },
    {
     "name": "stdout",
     "output_type": "stream",
     "text": [
      "https://restaurants.subway.com/united-states/ok/heavener/708-us-hwy-59\n",
      "https://restaurants.subway.com/united-states/ok/jenks/12018-south-elm\n",
      "https://restaurants.subway.com/united-states/ok/kingston/719-hwy-70-east\n",
      "https://restaurants.subway.com/united-states/ok/oklahoma-city/13325-n-macarthur-blvd\n",
      "https://restaurants.subway.com/united-states/ok/oklahoma-city/216-n-harvey\n",
      "https://restaurants.subway.com/united-states/ok/oklahoma-city/6301-north-kelly-ave\n",
      "https://restaurants.subway.com/united-states/ok/oklahoma-city/6900-n-may\n",
      "https://restaurants.subway.com/united-states/ok/oklahoma-city/8425-s-western\n",
      "https://restaurants.subway.com/united-states/ok/owasso/12140-east-96th-street-north\n",
      "https://restaurants.subway.com/united-states/ok/pawnee/599-harrison-street\n",
      "https://restaurants.subway.com/united-states/ok/seminole/1700-n-milt-phillips-ave\n",
      "https://restaurants.subway.com/united-states/ok/shawnee/4439-n-kickapoo\n",
      "https://restaurants.subway.com/united-states/ok/tulsa/4-w-4th-st\n",
      "https://restaurants.subway.com/united-states/ok/tulsa/7021-s-memorial-dr\n",
      "https://restaurants.subway.com/united-states/ok/tulsa/8010-e-106th-st\n"
     ]
    },
    {
     "data": {
      "application/vnd.jupyter.widget-view+json": {
       "model_id": "6362c64491af463ea2244e1427e36d98",
       "version_major": 2,
       "version_minor": 0
      },
      "text/plain": [
       "Parsing Locations In va:   0%|          | 0/238 [00:00<?, ?it/s]"
      ]
     },
     "metadata": {},
     "output_type": "display_data"
    },
    {
     "name": "stdout",
     "output_type": "stream",
     "text": [
      "https://restaurants.subway.com/united-states/va/alexandria/3829-mount-vernon-ave\n",
      "https://restaurants.subway.com/united-states/va/alexandria/4553-duke-st\n",
      "https://restaurants.subway.com/united-states/va/arlington/2154-crystal-plaza-arcade\n",
      "https://restaurants.subway.com/united-states/va/burke/5765-burke-ctr-pky\n",
      "https://restaurants.subway.com/united-states/va/fairfax/4400-university-drive\n",
      "https://restaurants.subway.com/united-states/va/fredericksburg/626-warrenton-rd\n",
      "https://restaurants.subway.com/united-states/va/hampton/3000-coliseum-drive\n",
      "https://restaurants.subway.com/united-states/va/hampton/99-thomas-nelson-drive\n",
      "https://restaurants.subway.com/united-states/va/harrisonburg/grace-st-apartments\n",
      "https://restaurants.subway.com/united-states/va/keysville/140-king-st\n",
      "https://restaurants.subway.com/united-states/va/locust-grove/5390-lyndon-dr\n",
      "https://restaurants.subway.com/united-states/va/midlothian/14600-time-square-drive\n",
      "https://restaurants.subway.com/united-states/va/new-castle/297-market-street\n",
      "https://restaurants.subway.com/united-states/va/norfolk/4902-hampton-blvd\n",
      "https://restaurants.subway.com/united-states/va/richmond/321-e-broad-street\n",
      "https://restaurants.subway.com/united-states/va/richmond/3326-pump-rd\n",
      "https://restaurants.subway.com/united-states/va/richmond/medical-center\n",
      "https://restaurants.subway.com/united-states/va/stephens-city/152-fairfax-pike\n",
      "https://restaurants.subway.com/united-states/va/suffolk/1524-holland-rd\n",
      "https://restaurants.subway.com/united-states/va/toms-brook/1014-mt-olive-road\n",
      "https://restaurants.subway.com/united-states/va/virginia-beach/1817-london-bridge-rd\n",
      "https://restaurants.subway.com/united-states/va/virginia-beach/910-atlantic-ave\n",
      "https://restaurants.subway.com/united-states/va/winchester/303-west-boscawen-street\n"
     ]
    },
    {
     "data": {
      "application/vnd.jupyter.widget-view+json": {
       "model_id": "405bcf51a193420094abd59917580651",
       "version_major": 2,
       "version_minor": 0
      },
      "text/plain": [
       "Parsing Locations In wv:   0%|          | 0/108 [00:00<?, ?it/s]"
      ]
     },
     "metadata": {},
     "output_type": "display_data"
    },
    {
     "name": "stdout",
     "output_type": "stream",
     "text": [
      "https://restaurants.subway.com/united-states/wv/bluefield/us-460-state-rt-25\n",
      "https://restaurants.subway.com/united-states/wv/bridgeport/1219-johnson-ave\n",
      "https://restaurants.subway.com/united-states/wv/clarksburg/90-wilsonburg-rd\n",
      "https://restaurants.subway.com/united-states/wv/fairmont/609-bellview-blvd\n",
      "https://restaurants.subway.com/united-states/wv/hamlin/8515-court-ave\n",
      "https://restaurants.subway.com/united-states/wv/huntington/4388-5th-st-rd\n",
      "https://restaurants.subway.com/united-states/wv/princeton/236-meadowfield-la\n",
      "https://restaurants.subway.com/united-states/wv/rainelle/515-kanawha-ave\n",
      "https://restaurants.subway.com/united-states/wv/seneca-rocks/470-alleghenydrive\n",
      "https://restaurants.subway.com/united-states/wv/wheeling/1130-market-street\n"
     ]
    },
    {
     "data": {
      "application/vnd.jupyter.widget-view+json": {
       "model_id": "5ba46ce9e08647179db9cf2d7a1ce09e",
       "version_major": 2,
       "version_minor": 0
      },
      "text/plain": [
       "Parsing Locations In la:   0%|          | 0/153 [00:00<?, ?it/s]"
      ]
     },
     "metadata": {},
     "output_type": "display_data"
    },
    {
     "name": "stdout",
     "output_type": "stream",
     "text": [
      "https://restaurants.subway.com/united-states/la/baton-rouge/119-foster-hall-&-dalrymple\n",
      "https://restaurants.subway.com/united-states/la/baton-rouge/4631-perkins-road\n",
      "https://restaurants.subway.com/united-states/la/baton-rouge/9441-cortana-place\n",
      "https://restaurants.subway.com/united-states/la/bossier-city/4012-benton-road\n",
      "https://restaurants.subway.com/united-states/la/bunkie/7349-hwy-29\n",
      "https://restaurants.subway.com/united-states/la/covington/78482-hwy-437\n",
      "https://restaurants.subway.com/united-states/la/delcambre/1616-veterans-memorial-drive\n",
      "https://restaurants.subway.com/united-states/la/grambling/486-rwe-jones\n",
      "https://restaurants.subway.com/united-states/la/hammond/301a-ned-mcgehee-drive\n",
      "https://restaurants.subway.com/united-states/la/kenner/2629-williams-blvd\n",
      "https://restaurants.subway.com/united-states/la/lafayette/515-jefferson-street\n",
      "https://restaurants.subway.com/united-states/la/lake-charles/108-broad-st\n",
      "https://restaurants.subway.com/united-states/la/metairie/4401-airline-drive\n",
      "https://restaurants.subway.com/united-states/la/monroe/700-university-avenue\n",
      "https://restaurants.subway.com/united-states/la/new-orleans/1400-annunciation-st\n",
      "https://restaurants.subway.com/united-states/la/new-orleans/1409-canal-st\n",
      "https://restaurants.subway.com/united-states/la/new-orleans/2700-s-claiborne-ave\n",
      "https://restaurants.subway.com/united-states/la/oak-grove/103-s-constitution\n",
      "https://restaurants.subway.com/united-states/la/pineville/1140-college-dr\n",
      "https://restaurants.subway.com/united-states/la/pineville/5115-shreveport-hwy\n",
      "https://restaurants.subway.com/united-states/la/slidell/199-west-gause-blvd\n"
     ]
    },
    {
     "data": {
      "application/vnd.jupyter.widget-view+json": {
       "model_id": "d59fdf27d90c4e618468872ccd5f9d92",
       "version_major": 2,
       "version_minor": 0
      },
      "text/plain": [
       "Parsing Locations In mi:   0%|          | 0/384 [00:00<?, ?it/s]"
      ]
     },
     "metadata": {},
     "output_type": "display_data"
    },
    {
     "name": "stdout",
     "output_type": "stream",
     "text": [
      "https://restaurants.subway.com/united-states/mi/allegan/504-western-ave\n",
      "https://restaurants.subway.com/united-states/mi/ann-arbor/1251-north-maple\n",
      "https://restaurants.subway.com/united-states/mi/auburn-hills/4141-joslyn-rd\n",
      "https://restaurants.subway.com/united-states/mi/bad-axe/885-n-van-dyke\n",
      "https://restaurants.subway.com/united-states/mi/battle-creek/10-w-michigan-ave\n",
      "https://restaurants.subway.com/united-states/mi/battle-creek/6405-b-drive-north\n",
      "https://restaurants.subway.com/united-states/mi/benzonia/790-michigan-ave\n",
      "https://restaurants.subway.com/united-states/mi/big-rapids/620-maple-st\n",
      "https://restaurants.subway.com/united-states/mi/brownstown-township/20765-gibralter-rd\n",
      "https://restaurants.subway.com/united-states/mi/canton/40341-michigan-ave\n",
      "https://restaurants.subway.com/united-states/mi/clare/402-mcewan-st\n",
      "https://restaurants.subway.com/united-states/mi/clarkston/5930-sashabaw-rd\n",
      "https://restaurants.subway.com/united-states/mi/detroit/2101-connor-avenue\n",
      "https://restaurants.subway.com/united-states/mi/detroit/8200-west-outer-drive\n",
      "https://restaurants.subway.com/united-states/mi/detroit/the-renaissance-ctr\n",
      "https://restaurants.subway.com/united-states/mi/east-lansing/16800-s-chandler-road\n",
      "https://restaurants.subway.com/united-states/mi/farmington-hills/32419-northwestern-hwy\n",
      "https://restaurants.subway.com/united-states/mi/flint/303-south-saginaw-street\n",
      "https://restaurants.subway.com/united-states/mi/flint/3341-s-linden-rd\n",
      "https://restaurants.subway.com/united-states/mi/flint/3631-miller-rd\n",
      "https://restaurants.subway.com/united-states/mi/grand-rapids/6260-28th-street-se\n",
      "https://restaurants.subway.com/united-states/mi/grandville/3700-rivertown-pkwy\n",
      "https://restaurants.subway.com/united-states/mi/houghton/200-pearl-st\n",
      "https://restaurants.subway.com/united-states/mi/jackson/2044-s-cooper-st\n",
      "https://restaurants.subway.com/united-states/mi/kalamazoo/1717-schaffer-street\n",
      "https://restaurants.subway.com/united-states/mi/kalamazoo/1903-w-michigan-ave\n",
      "https://restaurants.subway.com/united-states/mi/kalamazoo/6460-stadium-drive\n",
      "https://restaurants.subway.com/united-states/mi/lansing/5025-n-grand-river-rd\n",
      "https://restaurants.subway.com/united-states/mi/lewiston/5105-county-rd-612\n",
      "https://restaurants.subway.com/united-states/mi/livonia/27600-schoolcraft\n",
      "https://restaurants.subway.com/united-states/mi/mackinaw-city/222-e-central-ave\n",
      "https://restaurants.subway.com/united-states/mi/mason/550-hull-road\n",
      "https://restaurants.subway.com/united-states/mi/midland/309-jerome-street\n",
      "https://restaurants.subway.com/united-states/mi/muskegon/1845-lakeshore-drive\n",
      "https://restaurants.subway.com/united-states/mi/new-buffalo/207a-n-whittaker-st\n",
      "https://restaurants.subway.com/united-states/mi/okemos/3520-okemos-rd\n",
      "https://restaurants.subway.com/united-states/mi/paw-paw/26778-state-hwy-43-m\n",
      "https://restaurants.subway.com/united-states/mi/plymouth/930-w-ann-arbor-trail\n",
      "https://restaurants.subway.com/united-states/mi/prudenville/888-w-houghton-lake-dr\n",
      "https://restaurants.subway.com/united-states/mi/romulus/mcnamara-terminal-concourse-c\n",
      "https://restaurants.subway.com/united-states/mi/saginaw/2829-bay-rd\n",
      "https://restaurants.subway.com/united-states/mi/sault-sainte-marie/215-w-portage-ave\n",
      "https://restaurants.subway.com/united-states/mi/south-haven/1223-phoenix-st\n",
      "https://restaurants.subway.com/united-states/mi/taylor/23000-eureka-road\n",
      "https://restaurants.subway.com/united-states/mi/troy/2907-e-big-beaver-rd\n",
      "https://restaurants.subway.com/united-states/mi/westland/35000-w-warren\n",
      "https://restaurants.subway.com/united-states/mi/wyoming/3501-s-division-avenue\n",
      "https://restaurants.subway.com/united-states/mi/zeeland/10402-chicago-dr\n"
     ]
    },
    {
     "data": {
      "application/vnd.jupyter.widget-view+json": {
       "model_id": "52d674601bca494b9adb545fa59a53d9",
       "version_major": 2,
       "version_minor": 0
      },
      "text/plain": [
       "Parsing Locations In ma:   0%|          | 0/174 [00:00<?, ?it/s]"
      ]
     },
     "metadata": {},
     "output_type": "display_data"
    },
    {
     "name": "stdout",
     "output_type": "stream",
     "text": [
      "https://restaurants.subway.com/united-states/ma/adams/27b-park-street\n",
      "https://restaurants.subway.com/united-states/ma/blackstone/4-main-street\n",
      "https://restaurants.subway.com/united-states/ma/boston/230-tremont-st\n",
      "https://restaurants.subway.com/united-states/ma/boston/274-franklin-st\n",
      "https://restaurants.subway.com/united-states/ma/dennis-port/49-main-street\n",
      "https://restaurants.subway.com/united-states/ma/dudley/157-w-main-st\n",
      "https://restaurants.subway.com/united-states/ma/east-falmouth/236-teaticket-hwy\n",
      "https://restaurants.subway.com/united-states/ma/fall-river/356-mariano-s-bishop-blvd\n",
      "https://restaurants.subway.com/united-states/ma/littleton/287-great-rd\n",
      "https://restaurants.subway.com/united-states/ma/lowell/1-solomont-way\n",
      "https://restaurants.subway.com/united-states/ma/lowell/254-merrimack-st\n",
      "https://restaurants.subway.com/united-states/ma/marshfield/1899-ocean-st\n",
      "https://restaurants.subway.com/united-states/ma/maynard/95-main-st\n",
      "https://restaurants.subway.com/united-states/ma/natick/251-w-central-st\n",
      "https://restaurants.subway.com/united-states/ma/orange/12-e-main-st\n",
      "https://restaurants.subway.com/united-states/ma/pocassett/626-macarthur-boulevard\n",
      "https://restaurants.subway.com/united-states/ma/ridgeland/205-sunnybrook-road\n",
      "https://restaurants.subway.com/united-states/ma/south-boston/11-west-broadway\n",
      "https://restaurants.subway.com/united-states/ma/springfield/263-alden-st\n",
      "https://restaurants.subway.com/united-states/ma/w-brookfield/143-w-main-st\n",
      "https://restaurants.subway.com/united-states/ma/west-springfield/1305-memorial-ave\n"
     ]
    },
    {
     "data": {
      "application/vnd.jupyter.widget-view+json": {
       "model_id": "2475407874e547f79b0c2803fec6e5c8",
       "version_major": 2,
       "version_minor": 0
      },
      "text/plain": [
       "Parsing Locations In id:   0%|          | 0/63 [00:00<?, ?it/s]"
      ]
     },
     "metadata": {},
     "output_type": "display_data"
    },
    {
     "name": "stdout",
     "output_type": "stream",
     "text": [
      "https://restaurants.subway.com/united-states/id/island-park/4141-sawtelle-peak-rd\n"
     ]
    },
    {
     "data": {
      "application/vnd.jupyter.widget-view+json": {
       "model_id": "b008c8e2c26d44c1859d55b92ba4bc87",
       "version_major": 2,
       "version_minor": 0
      },
      "text/plain": [
       "Parsing Locations In fl:   0%|          | 0/358 [00:00<?, ?it/s]"
      ]
     },
     "metadata": {},
     "output_type": "display_data"
    },
    {
     "name": "stdout",
     "output_type": "stream",
     "text": [
      "https://restaurants.subway.com/united-states/fl/altamonte-springs/954-e-altamonte-dr\n",
      "https://restaurants.subway.com/united-states/fl/apopka/101-w-main-st\n",
      "https://restaurants.subway.com/united-states/fl/atlantic-beach/469-atlantic-boulevard\n",
      "https://restaurants.subway.com/united-states/fl/boca-raton/1285-a-w-palmetto-park-rd\n",
      "https://restaurants.subway.com/united-states/fl/boca-raton/3013-yamato-rd\n",
      "https://restaurants.subway.com/united-states/fl/boca-raton/5030-champion-blvd\n",
      "https://restaurants.subway.com/united-states/fl/bonita-springs/3300-bonita-beach-rd\n",
      "https://restaurants.subway.com/united-states/fl/boynton-beach/6651-woolbright-road\n",
      "https://restaurants.subway.com/united-states/fl/boynton-beach/7460-w-boynton-beach-blvd\n",
      "https://restaurants.subway.com/united-states/fl/brooksville/13078-cortez-blvd\n",
      "https://restaurants.subway.com/united-states/fl/clearwater/1444-a-belcher-rd\n",
      "https://restaurants.subway.com/united-states/fl/coral-gables/1350-miller-drive\n",
      "https://restaurants.subway.com/united-states/fl/coral-springs/6230-106-coral-ridge-drive\n",
      "https://restaurants.subway.com/united-states/fl/davie/13606-w-state-rd-84\n",
      "https://restaurants.subway.com/united-states/fl/davie/3301-college-ave\n",
      "https://restaurants.subway.com/united-states/fl/davie/4301-south-flamingo-road\n",
      "https://restaurants.subway.com/united-states/fl/davie/4900-s-university-drive\n",
      "https://restaurants.subway.com/united-states/fl/delray-beach/7533-west-atlantic-ave\n",
      "https://restaurants.subway.com/united-states/fl/dunedin/2610-bayshore-blvd\n",
      "https://restaurants.subway.com/united-states/fl/fort-lauderdale/100-e-broward-blvd\n",
      "https://restaurants.subway.com/united-states/fl/fort-lauderdale/110-se-6th-street\n",
      "https://restaurants.subway.com/united-states/fl/fort-lauderdale/1930-east-sunrise-blvd\n",
      "https://restaurants.subway.com/united-states/fl/fort-lauderdale/2863-d-west-sunrise-blvd\n",
      "https://restaurants.subway.com/united-states/fl/fort-myers/12331-town-lake-drive\n",
      "https://restaurants.subway.com/united-states/fl/fort-myers/15600-21a-san-carlos-blvd\n",
      "https://restaurants.subway.com/united-states/fl/fort-pierce/116-north-2nd-st\n",
      "https://restaurants.subway.com/united-states/fl/fort-walton-beach/161-n-eglin-pky\n",
      "https://restaurants.subway.com/united-states/fl/ft-myers/3006-palm-beach-blvd\n",
      "https://restaurants.subway.com/united-states/fl/ft-myers/7205-estero-boulevard\n",
      "https://restaurants.subway.com/united-states/fl/greenacres/4815-s-military-trail\n",
      "https://restaurants.subway.com/united-states/fl/hollywood/6105-w-hollywood-blvd\n",
      "https://restaurants.subway.com/united-states/fl/jacksonville/3000-moncrief-rd\n",
      "https://restaurants.subway.com/united-states/fl/jacksonville/9000-normandy-blvd\n",
      "https://restaurants.subway.com/united-states/fl/jacksonville/9475-001-philips-highway\n",
      "https://restaurants.subway.com/united-states/fl/lake-worth/8855-hyploxo-rd\n",
      "https://restaurants.subway.com/united-states/fl/lakeland/2810-s-florida-ave\n",
      "https://restaurants.subway.com/united-states/fl/loxahatchee/12041-southern-blvd\n",
      "https://restaurants.subway.com/united-states/fl/maitland/120-independence-lane\n",
      "https://restaurants.subway.com/united-states/fl/mangonia-park/1800-45th-st\n",
      "https://restaurants.subway.com/united-states/fl/marco-island/147-s-barfield-drive\n",
      "https://restaurants.subway.com/united-states/fl/margate/690-south-state-road-7\n",
      "https://restaurants.subway.com/united-states/fl/melbourne/7777-n-wickham-road\n",
      "https://restaurants.subway.com/united-states/fl/miami/12840-sw-120th-st\n",
      "https://restaurants.subway.com/united-states/fl/miami/15707-sw-56th-street\n",
      "https://restaurants.subway.com/united-states/fl/miami/172-west-flagler-street\n",
      "https://restaurants.subway.com/united-states/fl/miami/1951-nw-7th-ave\n",
      "https://restaurants.subway.com/united-states/fl/miami/19790-s-dixie-highway\n",
      "https://restaurants.subway.com/united-states/fl/miami/201-a-nw-1st-ave\n",
      "https://restaurants.subway.com/united-states/fl/miami/6790-west-flagler-street\n",
      "https://restaurants.subway.com/united-states/fl/middleburg/2572-county-road-220\n",
      "https://restaurants.subway.com/united-states/fl/naples/13800-n-tamiami-trail\n",
      "https://restaurants.subway.com/united-states/fl/naples/50-wilson-blvd-south\n",
      "https://restaurants.subway.com/united-states/fl/naples/7770-preserve-lane\n",
      "https://restaurants.subway.com/united-states/fl/new-smyrna-beach/1319-saxon-dr\n",
      "https://restaurants.subway.com/united-states/fl/north-miami-beach/18900-ne-25th-avenue\n",
      "https://restaurants.subway.com/united-states/fl/north-palm-beach/12100-us-highway-1\n",
      "https://restaurants.subway.com/united-states/fl/ocala/2785-nw-49th-ave\n",
      "https://restaurants.subway.com/united-states/fl/okeechobee/2101-s-parrott-ave\n",
      "https://restaurants.subway.com/united-states/fl/okeechobee/422-ne-park-street\n",
      "https://restaurants.subway.com/united-states/fl/orlando/7151-earhart-dr\n",
      "https://restaurants.subway.com/united-states/fl/palm-beach-gardens/2520-pga-blvd\n",
      "https://restaurants.subway.com/united-states/fl/palm-coast/104-flagler-plaza-dr\n",
      "https://restaurants.subway.com/united-states/fl/palm-harbor/30543-us-hwy-19-n\n",
      "https://restaurants.subway.com/united-states/fl/panama-city-beach/8744-thomas-drive\n",
      "https://restaurants.subway.com/united-states/fl/pensacola/1717-north-e-street\n",
      "https://restaurants.subway.com/united-states/fl/pompano-beach/2900-w-sample-rd\n",
      "https://restaurants.subway.com/united-states/fl/ponce-de-leon/2951-n-highway-81\n",
      "https://restaurants.subway.com/united-states/fl/ponte-vedra-beach/254-solana-road\n",
      "https://restaurants.subway.com/united-states/fl/port-charlotte/829-tamiami-trail\n",
      "https://restaurants.subway.com/united-states/fl/port-st-lucie/1658-1700-se-port-st-lucie-blvd\n",
      "https://restaurants.subway.com/united-states/fl/spring-hill/4144-mariner-blvd\n",
      "https://restaurants.subway.com/united-states/fl/st-petersburg/3993-tyrone-blvd\n",
      "https://restaurants.subway.com/united-states/fl/steinhatchee/815-1st-ave-south\n",
      "https://restaurants.subway.com/united-states/fl/stuart/5924-se-federal-highway\n",
      "https://restaurants.subway.com/united-states/fl/stuart/839-south-federal-highway\n",
      "https://restaurants.subway.com/united-states/fl/tallahassee/411-n-magnolia-drive\n",
      "https://restaurants.subway.com/united-states/fl/tampa/1819-e-fowler-ave\n",
      "https://restaurants.subway.com/united-states/fl/tampa/2001-e-hillsborough-avenue\n",
      "https://restaurants.subway.com/united-states/fl/tampa/304b-east-davis-blvd\n",
      "https://restaurants.subway.com/united-states/fl/wauchula/1444-us-hwy-17-n\n",
      "https://restaurants.subway.com/united-states/fl/west-palm-beach/1241-south-military-trail\n",
      "https://restaurants.subway.com/united-states/fl/west-palm-beach/242-s-congress-ave\n",
      "https://restaurants.subway.com/united-states/fl/west-palm-beach/6405-s-dixie-highway\n",
      "https://restaurants.subway.com/united-states/fl/weston/292-indian-trace-road\n",
      "https://restaurants.subway.com/united-states/fl/windermere/7315-wintergarden-vineland-rd\n"
     ]
    },
    {
     "data": {
      "application/vnd.jupyter.widget-view+json": {
       "model_id": "7c53581cc66644dd8692c4a2d2b7444a",
       "version_major": 2,
       "version_minor": 0
      },
      "text/plain": [
       "Parsing Locations In ne:   0%|          | 0/94 [00:00<?, ?it/s]"
      ]
     },
     "metadata": {},
     "output_type": "display_data"
    },
    {
     "name": "stdout",
     "output_type": "stream",
     "text": [
      "https://restaurants.subway.com/united-states/ne/columbus/2035-23rd-street\n",
      "https://restaurants.subway.com/united-states/ne/grand-island/2250-n-diers\n",
      "https://restaurants.subway.com/united-states/ne/henderson/905-road-b\n",
      "https://restaurants.subway.com/united-states/ne/kearney/1015-west-27th-street\n",
      "https://restaurants.subway.com/united-states/ne/kearney/232-w-42nd-st\n",
      "https://restaurants.subway.com/united-states/ne/laurel/101-north-hwy-20\n",
      "https://restaurants.subway.com/united-states/ne/omaha/210-s-16th-street\n"
     ]
    },
    {
     "data": {
      "application/vnd.jupyter.widget-view+json": {
       "model_id": "4ba0596950a945a096e378366a1c28bb",
       "version_major": 2,
       "version_minor": 0
      },
      "text/plain": [
       "Parsing Locations In wa:   0%|          | 0/168 [00:00<?, ?it/s]"
      ]
     },
     "metadata": {},
     "output_type": "display_data"
    },
    {
     "name": "stdout",
     "output_type": "stream",
     "text": [
      "https://restaurants.subway.com/united-states/wa/anacortes/1518-commercial-ave\n",
      "https://restaurants.subway.com/united-states/wa/bellevue/3080-148th-ave-se\n",
      "https://restaurants.subway.com/united-states/wa/federal-way/2004-s-commons\n",
      "https://restaurants.subway.com/united-states/wa/fife/4420-pacific-hwy-east\n",
      "https://restaurants.subway.com/united-states/wa/kenmore/7016-ne-bothell-way\n",
      "https://restaurants.subway.com/united-states/wa/kent/12925-se-kent-kangley-rd\n",
      "https://restaurants.subway.com/united-states/wa/kent/23235-pacific-coast-hwy-south\n",
      "https://restaurants.subway.com/united-states/wa/maple-valley/22141-se-237th\n",
      "https://restaurants.subway.com/united-states/wa/nine-mile-falls/5978-highway-291\n",
      "https://restaurants.subway.com/united-states/wa/olympia/6541-sexton-dr-nw\n",
      "https://restaurants.subway.com/united-states/wa/oroville/2002-main-street\n",
      "https://restaurants.subway.com/united-states/wa/seattle/12248-aurora-ave-n\n",
      "https://restaurants.subway.com/united-states/wa/seattle/2423-second-ave\n",
      "https://restaurants.subway.com/united-states/wa/seattle/725-pike-st\n",
      "https://restaurants.subway.com/united-states/wa/spokane/12801-e-sprague-avenue\n",
      "https://restaurants.subway.com/united-states/wa/spokane/1422-w-3rd-ave\n",
      "https://restaurants.subway.com/united-states/wa/spokane/1710-n-hamilton\n",
      "https://restaurants.subway.com/united-states/wa/spokane/9502-n-newport-hwy\n",
      "https://restaurants.subway.com/united-states/wa/tacoma/s-101-38th-st\n",
      "https://restaurants.subway.com/united-states/wa/tumwater/408-cleveland-ave-se\n",
      "https://restaurants.subway.com/united-states/wa/vancouver/2265-ne-andresen-road\n",
      "https://restaurants.subway.com/united-states/wa/vancouver/406-west-8th-st\n",
      "https://restaurants.subway.com/united-states/wa/vancouver/8902-ne-5th-ave\n",
      "https://restaurants.subway.com/united-states/wa/wapato/631-1st-street\n"
     ]
    },
    {
     "data": {
      "application/vnd.jupyter.widget-view+json": {
       "model_id": "0b1a7099ae3a4b17a4a0af391ee1f0a8",
       "version_major": 2,
       "version_minor": 0
      },
      "text/plain": [
       "Parsing Locations In nm:   0%|          | 0/57 [00:00<?, ?it/s]"
      ]
     },
     "metadata": {},
     "output_type": "display_data"
    },
    {
     "name": "stdout",
     "output_type": "stream",
     "text": [
      "https://restaurants.subway.com/united-states/nm/alamogordo/630-s-white-sands-blvd\n",
      "https://restaurants.subway.com/united-states/nm/albuquerque/12700-san-rafael-ave-ne\n",
      "https://restaurants.subway.com/united-states/nm/albuquerque/2103-menaul-ne\n",
      "https://restaurants.subway.com/united-states/nm/albuquerque/2451-san-mateo-blvd-ne\n",
      "https://restaurants.subway.com/united-states/nm/albuquerque/2820-central-south-east\n",
      "https://restaurants.subway.com/united-states/nm/albuquerque/8201-golf-course-rd-nw\n",
      "https://restaurants.subway.com/united-states/nm/albuquerque/931-old-coors-dr-sw\n",
      "https://restaurants.subway.com/united-states/nm/albuquerque/9370-coors-blvd-nw\n",
      "https://restaurants.subway.com/united-states/nm/farmington/1400-w-main-st\n",
      "https://restaurants.subway.com/united-states/nm/kirtland-afb/4503-biggs-ave\n",
      "https://restaurants.subway.com/united-states/nm/las-cruces/3925-s-main-street\n",
      "https://restaurants.subway.com/united-states/nm/tularosa/100-central-avenue\n"
     ]
    },
    {
     "data": {
      "application/vnd.jupyter.widget-view+json": {
       "model_id": "976827f5e6ac4d6caa5a066651a874d6",
       "version_major": 2,
       "version_minor": 0
      },
      "text/plain": [
       "Parsing Locations In sd:   0%|          | 0/55 [00:00<?, ?it/s]"
      ]
     },
     "metadata": {},
     "output_type": "display_data"
    },
    {
     "name": "stdout",
     "output_type": "stream",
     "text": [
      "https://restaurants.subway.com/united-states/sd/britton/305-vander-horck\n",
      "https://restaurants.subway.com/united-states/sd/huron/2791-dakota-ave-south\n",
      "https://restaurants.subway.com/united-states/sd/keystone/804-hwy-16-a\n",
      "https://restaurants.subway.com/united-states/sd/mobridge/310-west-grand-xing\n"
     ]
    },
    {
     "data": {
      "application/vnd.jupyter.widget-view+json": {
       "model_id": "6b7d3db6ed6547a69087cacb92ebf154",
       "version_major": 2,
       "version_minor": 0
      },
      "text/plain": [
       "Parsing Locations In tx:   0%|          | 0/574 [00:00<?, ?it/s]"
      ]
     },
     "metadata": {},
     "output_type": "display_data"
    },
    {
     "name": "stdout",
     "output_type": "stream",
     "text": [
      "https://restaurants.subway.com/united-states/tx/abilene/1149-n-mockingbird\n",
      "https://restaurants.subway.com/united-states/tx/alvin/6735-hwy-35-south\n",
      "https://restaurants.subway.com/united-states/tx/amarillo/3325-s-georgia\n",
      "https://restaurants.subway.com/united-states/tx/arlington/816-e-abram-st\n",
      "https://restaurants.subway.com/united-states/tx/austin/1700-west-parmer-lane\n",
      "https://restaurants.subway.com/united-states/tx/austin/1900-e-oltorf-street\n",
      "https://restaurants.subway.com/united-states/tx/austin/7301-ranch-rd-620-n\n",
      "https://restaurants.subway.com/united-states/tx/blanco/1202-main-st\n",
      "https://restaurants.subway.com/united-states/tx/brownsville/1400-palm-blvd\n",
      "https://restaurants.subway.com/united-states/tx/college-station/330-george-bush-dr\n",
      "https://restaurants.subway.com/united-states/tx/corpus-christi/3133-s-alameda\n",
      "https://restaurants.subway.com/united-states/tx/dallas/10053-marsh-lane\n",
      "https://restaurants.subway.com/united-states/tx/dallas/1219-n-beckley-ave\n",
      "https://restaurants.subway.com/united-states/tx/dallas/12800-abrams-road\n",
      "https://restaurants.subway.com/united-states/tx/dallas/1441-n-beckley-ave\n",
      "https://restaurants.subway.com/united-states/tx/dallas/309-w-kiest-blvd\n",
      "https://restaurants.subway.com/united-states/tx/dallas/5924-samuell-blvd\n",
      "https://restaurants.subway.com/united-states/tx/edinburg/1501-s-mccoll-road\n",
      "https://restaurants.subway.com/united-states/tx/el-paso/1135-joe-battle-blvd\n",
      "https://restaurants.subway.com/united-states/tx/el-paso/14696-montana\n",
      "https://restaurants.subway.com/united-states/tx/el-paso/200-rick-francis\n",
      "https://restaurants.subway.com/united-states/tx/el-paso/919-hunter-dr\n",
      "https://restaurants.subway.com/united-states/tx/euless/1060-n-main-st\n",
      "https://restaurants.subway.com/united-states/tx/fort-worth/2977-s-precinct-line-rd\n",
      "https://restaurants.subway.com/united-states/tx/friendswood/3141-fm-528\n",
      "https://restaurants.subway.com/united-states/tx/galveston/16510-san-luis-pass-road\n",
      "https://restaurants.subway.com/united-states/tx/garland/3243-forest-ln\n",
      "https://restaurants.subway.com/united-states/tx/houston/11177-b-katy-frwy\n",
      "https://restaurants.subway.com/united-states/tx/houston/3000-north-sam-houston-parkway\n",
      "https://restaurants.subway.com/united-states/tx/houston/3500-terminal-rd-n\n",
      "https://restaurants.subway.com/united-states/tx/houston/3518-s-shepherd\n",
      "https://restaurants.subway.com/united-states/tx/houston/802-rankin-road\n",
      "https://restaurants.subway.com/united-states/tx/houston/9404-w-sam-houston-parkway\n",
      "https://restaurants.subway.com/united-states/tx/huntsville/3011-hwy-30-west\n",
      "https://restaurants.subway.com/united-states/tx/irving/5001-n-macarthur-blvd\n",
      "https://restaurants.subway.com/united-states/tx/keller/8561-n-beach\n",
      "https://restaurants.subway.com/united-states/tx/lackland-afb/2180-reese-st\n",
      "https://restaurants.subway.com/united-states/tx/lake-dallas/102-hundley-drive\n",
      "https://restaurants.subway.com/united-states/tx/lancaster/3030-north-dallas-ave\n",
      "https://restaurants.subway.com/united-states/tx/laredo/11801-fm-1472\n",
      "https://restaurants.subway.com/united-states/tx/midland/1220-n-midkiff\n",
      "https://restaurants.subway.com/united-states/tx/mount-vernon/215-e-i-30-n-service-rd\n",
      "https://restaurants.subway.com/united-states/tx/pharr/1808-north-cage-blvd\n",
      "https://restaurants.subway.com/united-states/tx/pharr/2506-s-cage-blvd\n",
      "https://restaurants.subway.com/united-states/tx/plano/230-west-parker-road\n",
      "https://restaurants.subway.com/united-states/tx/round-rock/1500-saw-grimes-blvd\n",
      "https://restaurants.subway.com/united-states/tx/saginaw/1200-s-bluemound-rd\n",
      "https://restaurants.subway.com/united-states/tx/san-angelo/2601-w-avenue-n\n",
      "https://restaurants.subway.com/united-states/tx/san-antonio/1-utsa-circle\n",
      "https://restaurants.subway.com/united-states/tx/san-antonio/12066-starcrest\n",
      "https://restaurants.subway.com/united-states/tx/san-antonio/1582-babcock-rd\n",
      "https://restaurants.subway.com/united-states/tx/san-antonio/2400-west-avenue\n",
      "https://restaurants.subway.com/united-states/tx/san-antonio/2927-e-southcross-blvd\n",
      "https://restaurants.subway.com/united-states/tx/san-antonio/702-south-acme-road\n",
      "https://restaurants.subway.com/united-states/tx/shepherd/4730-us-hwy-59\n",
      "https://restaurants.subway.com/united-states/tx/socorro/10005-alameda-ave\n",
      "https://restaurants.subway.com/united-states/tx/sugar-land/9722-us-90a\n",
      "https://restaurants.subway.com/united-states/tx/three-rivers/301-s-harborth-ave\n",
      "https://restaurants.subway.com/united-states/tx/tyler/3900-university-blvd\n",
      "https://restaurants.subway.com/united-states/tx/waco/2444-a-17-hwy-6\n",
      "https://restaurants.subway.com/united-states/tx/wichita-falls/3141-5th-st\n"
     ]
    },
    {
     "data": {
      "application/vnd.jupyter.widget-view+json": {
       "model_id": "558067af13dd47669ac4cdb164e35c18",
       "version_major": 2,
       "version_minor": 0
      },
      "text/plain": [
       "Parsing Locations In ca:   0%|          | 0/570 [00:00<?, ?it/s]"
      ]
     },
     "metadata": {},
     "output_type": "display_data"
    },
    {
     "name": "stdout",
     "output_type": "stream",
     "text": [
      "https://restaurants.subway.com/united-states/ca/acampo/24323-north-highway-99\n",
      "https://restaurants.subway.com/united-states/ca/aliso-viejo/26741-aliso-creek-rd\n",
      "https://restaurants.subway.com/united-states/ca/altadena/2200-lincoln-ave\n",
      "https://restaurants.subway.com/united-states/ca/anaheim/1210-south-state-college\n",
      "https://restaurants.subway.com/united-states/ca/auburn/10025-combie-road\n",
      "https://restaurants.subway.com/united-states/ca/azusa/1127-e-alosta-ave\n",
      "https://restaurants.subway.com/united-states/ca/bakerfield/29727-stockdale-hwy\n",
      "https://restaurants.subway.com/united-states/ca/bakersfield/2200-white-lane\n",
      "https://restaurants.subway.com/united-states/ca/bakersfield/3006-ming-avenue\n",
      "https://restaurants.subway.com/united-states/ca/bakersfield/8632-highway-166\n",
      "https://restaurants.subway.com/united-states/ca/baldwin-park/1620-puente-avenue\n",
      "https://restaurants.subway.com/united-states/ca/berkeley/1105-university-ave\n",
      "https://restaurants.subway.com/united-states/ca/burbank/2404-west-victory-blvd\n",
      "https://restaurants.subway.com/united-states/ca/camp-pendleton/bld-53-341-area-53\n",
      "https://restaurants.subway.com/united-states/ca/camp-pendleton/san-mateo\n",
      "https://restaurants.subway.com/united-states/ca/carlsbad/880-carlsbad-village-drive\n",
      "https://restaurants.subway.com/united-states/ca/cathedral-city/67850-vista-chino\n",
      "https://restaurants.subway.com/united-states/ca/chester/433-main-st\n",
      "https://restaurants.subway.com/united-states/ca/chino/7041-schaefer-ave\n",
      "https://restaurants.subway.com/united-states/ca/chino-hills/15390-fairfield-ranch-road\n",
      "https://restaurants.subway.com/united-states/ca/chino-hills/4200-chino-hills-pkwy\n",
      "https://restaurants.subway.com/united-states/ca/concord/2166-solano-way\n",
      "https://restaurants.subway.com/united-states/ca/cotati/8500-gravenstein-highway\n",
      "https://restaurants.subway.com/united-states/ca/cypress/10131-valley-view-street\n",
      "https://restaurants.subway.com/united-states/ca/davis/757-russell-blvd\n",
      "https://restaurants.subway.com/united-states/ca/diamond-bar/508-north-diamond-bar-blvd\n",
      "https://restaurants.subway.com/united-states/ca/downey/9131-b-imperial-highway\n",
      "https://restaurants.subway.com/united-states/ca/dublin/6599-dublin-blvd\n",
      "https://restaurants.subway.com/united-states/ca/edwards/10-wolfe-ave\n",
      "https://restaurants.subway.com/united-states/ca/escalon/1205-plaza-avenue\n",
      "https://restaurants.subway.com/united-states/ca/eureka/1651-myrtle-avenue\n",
      "https://restaurants.subway.com/united-states/ca/eureka/1906-4th-st\n",
      "https://restaurants.subway.com/united-states/ca/fort-hunter-liggett/238-california-avenue\n",
      "https://restaurants.subway.com/united-states/ca/fowler/124-n-sumner-ave\n",
      "https://restaurants.subway.com/united-states/ca/fremont/43571-mission-blvd\n",
      "https://restaurants.subway.com/united-states/ca/fresno/5665-n-blackstone-ave\n",
      "https://restaurants.subway.com/united-states/ca/fresno/6031-north-fig-garden-drive\n",
      "https://restaurants.subway.com/united-states/ca/guadalupe/253-guadalupe-street\n",
      "https://restaurants.subway.com/united-states/ca/hawthorne/5123-w-el-segundo-blvd\n",
      "https://restaurants.subway.com/united-states/ca/hayward/22549-second-street\n",
      "https://restaurants.subway.com/united-states/ca/hesperia/12721-main-st\n",
      "https://restaurants.subway.com/united-states/ca/laguna-hills/23582-moulton-pkwy\n",
      "https://restaurants.subway.com/united-states/ca/lake-forest/21701-lake-forest-drive\n",
      "https://restaurants.subway.com/united-states/ca/long-beach/2183-e-south-st\n",
      "https://restaurants.subway.com/united-states/ca/los-angeles/10401-venice-blvd\n",
      "https://restaurants.subway.com/united-states/ca/los-angeles/11733-barrington-court\n",
      "https://restaurants.subway.com/united-states/ca/los-angeles/2601-south-la-brea-avenue\n",
      "https://restaurants.subway.com/united-states/ca/los-angeles/3105-san-fernando-rd\n",
      "https://restaurants.subway.com/united-states/ca/los-angeles/3323-west-pico-blvd\n",
      "https://restaurants.subway.com/united-states/ca/los-angeles/4528-whittier-blvd\n",
      "https://restaurants.subway.com/united-states/ca/los-angeles/617-charles-young-drive-east\n",
      "https://restaurants.subway.com/united-states/ca/madera/22717-ave-18-1/2\n",
      "https://restaurants.subway.com/united-states/ca/martinez/6654-alhambra-avenue\n",
      "https://restaurants.subway.com/united-states/ca/milpitas/61-serra-way\n",
      "https://restaurants.subway.com/united-states/ca/mission-viejo/24000-alicia-parkway-blvd\n",
      "https://restaurants.subway.com/united-states/ca/mission-viejo/26861-trabuco-rd\n",
      "https://restaurants.subway.com/united-states/ca/monterey/296-lighthouse-avenue\n",
      "https://restaurants.subway.com/united-states/ca/monterey-park/309-s-garfield-avenue\n",
      "https://restaurants.subway.com/united-states/ca/murrieta/39872-los-alamos-rd\n",
      "https://restaurants.subway.com/united-states/ca/napa/3214-jefferson-st\n",
      "https://restaurants.subway.com/united-states/ca/napa/902-enterprise-way\n",
      "https://restaurants.subway.com/united-states/ca/newark/5743-stevenson-blvd\n",
      "https://restaurants.subway.com/united-states/ca/newport-beach/401-newport-center-drive\n",
      "https://restaurants.subway.com/united-states/ca/oakland/1000-jefferson\n",
      "https://restaurants.subway.com/united-states/ca/oakland/2087-mountain-blvd\n",
      "https://restaurants.subway.com/united-states/ca/oakland/3301-e-12th-street\n",
      "https://restaurants.subway.com/united-states/ca/oceanside/3480-marron-rd\n",
      "https://restaurants.subway.com/united-states/ca/orange/20-city-boulevard-west\n",
      "https://restaurants.subway.com/united-states/ca/orinda/2-theatre-square\n",
      "https://restaurants.subway.com/united-states/ca/oxnard/2031-statham-blvd\n",
      "https://restaurants.subway.com/united-states/ca/pacific-palisades/17334-sunset-blvd\n",
      "https://restaurants.subway.com/united-states/ca/paso-robles/1171-creston-rd\n",
      "https://restaurants.subway.com/united-states/ca/petaluma/221-north-mcdowell-blvd\n",
      "https://restaurants.subway.com/united-states/ca/petaluma/2620-lakeville-highway\n",
      "https://restaurants.subway.com/united-states/ca/petaluma/961-lakeville-highway\n",
      "https://restaurants.subway.com/united-states/ca/pleasanton/4515-rosewood-drive\n",
      "https://restaurants.subway.com/united-states/ca/pomona/68-rio-rancho-rd\n",
      "https://restaurants.subway.com/united-states/ca/red-bluff/1076-south-main-st\n",
      "https://restaurants.subway.com/united-states/ca/redding/1150-dana-drive\n",
      "https://restaurants.subway.com/united-states/ca/redding/18850-old-oasis-road\n",
      "https://restaurants.subway.com/united-states/ca/riverside/1242-university-ave\n",
      "https://restaurants.subway.com/united-states/ca/riverside/2851-canyon-springs-pkwy\n",
      "https://restaurants.subway.com/united-states/ca/riverside/4955-felspar-st\n",
      "https://restaurants.subway.com/united-states/ca/rosemead/1717-walnut-grove-avenue\n",
      "https://restaurants.subway.com/united-states/ca/roseville/1097-roseville-square\n",
      "https://restaurants.subway.com/united-states/ca/roseville/1906-taylor-road\n",
      "https://restaurants.subway.com/united-states/ca/sacramento/3709-47th-ave\n",
      "https://restaurants.subway.com/united-states/ca/sacramento/5749-hillsdale-blvd\n",
      "https://restaurants.subway.com/united-states/ca/sacramento/6000-j-street\n",
      "https://restaurants.subway.com/united-states/ca/salinas/32-w-gabilan-street\n",
      "https://restaurants.subway.com/united-states/ca/san-bernardino/466-w-5th-st\n",
      "https://restaurants.subway.com/united-states/ca/san-bernardino/494-w-orange-show-road\n",
      "https://restaurants.subway.com/united-states/ca/san-diego/11983-bernardo-plaza-dr\n",
      "https://restaurants.subway.com/united-states/ca/san-diego/12030-scripps-summit-dr\n",
      "https://restaurants.subway.com/united-states/ca/san-diego/2015-garnet-ave\n",
      "https://restaurants.subway.com/united-states/ca/san-diego/3020-children's-way\n",
      "https://restaurants.subway.com/united-states/ca/san-diego/3089-clairemont-drive\n",
      "https://restaurants.subway.com/united-states/ca/san-diego/4641-4643-college-ave\n",
      "https://restaurants.subway.com/united-states/ca/san-diego/5517-c-clairemont-mesa-blvd\n",
      "https://restaurants.subway.com/united-states/ca/san-francisco/1501b-sloat-blvd\n",
      "https://restaurants.subway.com/united-states/ca/san-francisco/170-o'farrell-st\n",
      "https://restaurants.subway.com/united-states/ca/san-francisco/595-buckingham-way\n",
      "https://restaurants.subway.com/united-states/ca/san-francisco/795-folsom-street\n",
      "https://restaurants.subway.com/united-states/ca/san-jose/1710-berryessa-rd\n",
      "https://restaurants.subway.com/united-states/ca/san-jose/350-bird-ave\n",
      "https://restaurants.subway.com/united-states/ca/san-jose/6180-bollinger-rd\n",
      "https://restaurants.subway.com/united-states/ca/san-jose/705-capitol-expressway-auto-ma\n",
      "https://restaurants.subway.com/united-states/ca/san-jose/925-blossom-hill-road\n",
      "https://restaurants.subway.com/united-states/ca/san-leandro/13808-east-14th-street\n",
      "https://restaurants.subway.com/united-states/ca/san-leandro/14393-washington-avenue\n",
      "https://restaurants.subway.com/united-states/ca/san-marcos/133-n-twin-oaks-valley-rd\n",
      "https://restaurants.subway.com/united-states/ca/san-mateo/3880-s-el-camino-real\n",
      "https://restaurants.subway.com/united-states/ca/san-pablo/3340-m-san-pablo-dam-road\n",
      "https://restaurants.subway.com/united-states/ca/santa-ana/2860-s-bristol-street\n",
      "https://restaurants.subway.com/united-states/ca/santa-ana/600-s-grand-ave\n",
      "https://restaurants.subway.com/united-states/ca/santa-rosa/4754-old-redwood-highway\n",
      "https://restaurants.subway.com/united-states/ca/solana-beach/124-lomas-santa-fe-dr\n",
      "https://restaurants.subway.com/united-states/ca/sonoma/927-broadway\n",
      "https://restaurants.subway.com/united-states/ca/spring-valley/2615-sweetwater-springs-blvd\n",
      "https://restaurants.subway.com/united-states/ca/studio-city/12727-ventura-blvd\n",
      "https://restaurants.subway.com/united-states/ca/sunnyvale/264-e-java-dr\n",
      "https://restaurants.subway.com/united-states/ca/temecula/40820-winchester-road\n",
      "https://restaurants.subway.com/united-states/ca/thousand-oaks/425-e-avenida-de-los-arboles\n",
      "https://restaurants.subway.com/united-states/ca/tracy/118-west-10th-street\n",
      "https://restaurants.subway.com/united-states/ca/truckee/11375a-deerfield-drive\n",
      "https://restaurants.subway.com/united-states/ca/turlock/3210-w-monte-vista-avenue\n",
      "https://restaurants.subway.com/united-states/ca/tustin/15081-newport-ave\n",
      "https://restaurants.subway.com/united-states/ca/valencia/26888-the-old-road\n",
      "https://restaurants.subway.com/united-states/ca/venice/245-main-street\n",
      "https://restaurants.subway.com/united-states/ca/ventura/2121-harbor-blvd\n",
      "https://restaurants.subway.com/united-states/ca/walnut-creek/1514-geary-road\n",
      "https://restaurants.subway.com/united-states/ca/watsonville/1487-main-street\n",
      "https://restaurants.subway.com/united-states/ca/wildomar/23905-clinton-keith-rd\n",
      "https://restaurants.subway.com/united-states/ca/woodland/2021-bronze-star-drive\n"
     ]
    },
    {
     "data": {
      "application/vnd.jupyter.widget-view+json": {
       "model_id": "631fdb310116407faa845e19a8215134",
       "version_major": 2,
       "version_minor": 0
      },
      "text/plain": [
       "Parsing Locations In al:   0%|          | 0/206 [00:00<?, ?it/s]"
      ]
     },
     "metadata": {},
     "output_type": "display_data"
    },
    {
     "name": "stdout",
     "output_type": "stream",
     "text": [
      "https://restaurants.subway.com/united-states/al/alexander-city/875-market-place\n",
      "https://restaurants.subway.com/united-states/al/birmingham/4851-cahaba-river-rd\n",
      "https://restaurants.subway.com/united-states/al/birmingham/873-dennison-ave\n",
      "https://restaurants.subway.com/united-states/al/brewton/13288-hwy-113\n",
      "https://restaurants.subway.com/united-states/al/calera/5100-highway-31\n",
      "https://restaurants.subway.com/united-states/al/clayton/19-western-bypass\n",
      "https://restaurants.subway.com/united-states/al/demopolis/726-highway-80-e-3\n",
      "https://restaurants.subway.com/united-states/al/helena/205-helena-market-place\n",
      "https://restaurants.subway.com/united-states/al/jasper/300-hwy-78-e\n",
      "https://restaurants.subway.com/united-states/al/mobile/121-dauphin-st\n",
      "https://restaurants.subway.com/united-states/al/montgomery/2537-madison-ave\n",
      "https://restaurants.subway.com/united-states/al/pelham/3018-pelham-parkway\n",
      "https://restaurants.subway.com/united-states/al/tanner/5956-hwy-31-n\n",
      "https://restaurants.subway.com/united-states/al/tuscaloosa/stadium-drive-&-8th-ave\n"
     ]
    },
    {
     "data": {
      "application/vnd.jupyter.widget-view+json": {
       "model_id": "d9326928b379423ab85523d4fb513019",
       "version_major": 2,
       "version_minor": 0
      },
      "text/plain": [
       "Parsing Locations In ga:   0%|          | 0/279 [00:00<?, ?it/s]"
      ]
     },
     "metadata": {},
     "output_type": "display_data"
    },
    {
     "name": "stdout",
     "output_type": "stream",
     "text": [
      "https://restaurants.subway.com/united-states/ga/alpharetta/12850-hwy-9\n",
      "https://restaurants.subway.com/united-states/ga/alto/501-east-charlie-davis-road\n",
      "https://restaurants.subway.com/united-states/ga/atlanta/1217-metropolitan-pkwy\n",
      "https://restaurants.subway.com/united-states/ga/atlanta/1989-hosea-l-williams-dr-ne\n",
      "https://restaurants.subway.com/united-states/ga/atlanta/3030-headland-dr\n",
      "https://restaurants.subway.com/united-states/ga/atlanta/32-decatur-street-se\n",
      "https://restaurants.subway.com/united-states/ga/atlanta/3730-carmia-drive\n",
      "https://restaurants.subway.com/united-states/ga/atlanta/50-upper-alabama-st\n",
      "https://restaurants.subway.com/united-states/ga/atlanta/5630-fulton-industrial-blvd\n",
      "https://restaurants.subway.com/united-states/ga/atlanta/74-northside-drive-sw\n",
      "https://restaurants.subway.com/united-states/ga/augusta/2164-central-avenue\n",
      "https://restaurants.subway.com/united-states/ga/augusta/236-robert-c-daniel-pkwy\n",
      "https://restaurants.subway.com/united-states/ga/augusta/3736-c-mike-padgett-highway\n",
      "https://restaurants.subway.com/united-states/ga/conley/4205-thurman-road\n",
      "https://restaurants.subway.com/united-states/ga/conyers/1620-f-dogwood-dr\n",
      "https://restaurants.subway.com/united-states/ga/dacula/2740-braselton-highway\n",
      "https://restaurants.subway.com/united-states/ga/decatur/2113-n-decatur-rd\n",
      "https://restaurants.subway.com/united-states/ga/decatur/225-e-ponce-de-leon-ave\n",
      "https://restaurants.subway.com/united-states/ga/decatur/3926-north-druid-hills-rd\n",
      "https://restaurants.subway.com/united-states/ga/duluth/3665-club-dr\n",
      "https://restaurants.subway.com/united-states/ga/dunwoody/4725-ashford-dunwoody-road\n",
      "https://restaurants.subway.com/united-states/ga/forest-park/4505-jonesboro-rd/hwy-54\n",
      "https://restaurants.subway.com/united-states/ga/grayson/1911-grayson-highway\n",
      "https://restaurants.subway.com/united-states/ga/johns-creek/10900-medlock-bridge-road\n",
      "https://restaurants.subway.com/united-states/ga/kennesaw/4430-wade-green-rd\n",
      "https://restaurants.subway.com/united-states/ga/lawrenceville/1942-atkinson-road\n",
      "https://restaurants.subway.com/united-states/ga/lawrenceville/4850-sugarloaf-pkwy\n",
      "https://restaurants.subway.com/united-states/ga/lilburn/4044-lawrenceville-hwy\n",
      "https://restaurants.subway.com/united-states/ga/lithonia/7910-mall-ring-road\n",
      "https://restaurants.subway.com/united-states/ga/macon/1602-montpelier-avenue\n",
      "https://restaurants.subway.com/united-states/ga/macon/student-life-center\n",
      "https://restaurants.subway.com/united-states/ga/marietta/2525-shallowford-rd\n",
      "https://restaurants.subway.com/united-states/ga/marietta/2610-delk-rd\n",
      "https://restaurants.subway.com/united-states/ga/marietta/3165-johnson-ferry-rd\n",
      "https://restaurants.subway.com/united-states/ga/marietta/3600-dallas-hwy\n",
      "https://restaurants.subway.com/united-states/ga/marietta/4880-lower-roswell-rd\n",
      "https://restaurants.subway.com/united-states/ga/norcross/4015-holcomb-bridge-rd\n",
      "https://restaurants.subway.com/united-states/ga/ocilla/802-n-irwin-ave\n",
      "https://restaurants.subway.com/united-states/ga/savannah/13051-abercorn-st\n",
      "https://restaurants.subway.com/united-states/ga/waycross/2017-memorial-drive\n"
     ]
    },
    {
     "data": {
      "application/vnd.jupyter.widget-view+json": {
       "model_id": "bb43aa5b5b124d6a9c7dc74c9a8da99f",
       "version_major": 2,
       "version_minor": 0
      },
      "text/plain": [
       "Parsing Locations In pa:   0%|          | 0/373 [00:00<?, ?it/s]"
      ]
     },
     "metadata": {},
     "output_type": "display_data"
    },
    {
     "name": "stdout",
     "output_type": "stream",
     "text": [
      "https://restaurants.subway.com/united-states/pa/albrightsville/2681-state-route-903\n",
      "https://restaurants.subway.com/united-states/pa/aliquippa/2049-brodhead-rd\n",
      "https://restaurants.subway.com/united-states/pa/allentown/3830-dorney-park-road\n",
      "https://restaurants.subway.com/united-states/pa/allentown/755-hanover-ave\n",
      "https://restaurants.subway.com/united-states/pa/allison-park/4706-route-8\n",
      "https://restaurants.subway.com/united-states/pa/bellefonte/219-s-water-street\n",
      "https://restaurants.subway.com/united-states/pa/bridgeville/1025-washington-pike\n",
      "https://restaurants.subway.com/united-states/pa/brookhaven/3424-edgemont-avenue\n",
      "https://restaurants.subway.com/united-states/pa/clintonville/4046-state-route-308\n",
      "https://restaurants.subway.com/united-states/pa/coudersport/105-north-main\n",
      "https://restaurants.subway.com/united-states/pa/delmont/195-a-sheffield-drive\n",
      "https://restaurants.subway.com/united-states/pa/easton/1500-northampton-street\n",
      "https://restaurants.subway.com/united-states/pa/erie/6850-peach-street\n",
      "https://restaurants.subway.com/united-states/pa/forest-hills/2020-ardmore-blvd\n",
      "https://restaurants.subway.com/united-states/pa/gap/5360-lincoln-highway\n",
      "https://restaurants.subway.com/united-states/pa/greensburg/5126-route-30\n",
      "https://restaurants.subway.com/united-states/pa/grindstone/111-roberts-road\n",
      "https://restaurants.subway.com/united-states/pa/grove-city/139-south-broad-street\n",
      "https://restaurants.subway.com/united-states/pa/harrisburg/3501-paxton-street\n",
      "https://restaurants.subway.com/united-states/pa/harrisville/5613-state-route-8\n",
      "'NoneType' object has no attribute 'find_all' https://restaurants.subway.com/united-states/pa/hershey/100-w-hersheypark-dr\n",
      "https://restaurants.subway.com/united-states/pa/hershey/100-west-hersheypark-drive-5216-2\n",
      "https://restaurants.subway.com/united-states/pa/lancaster/217-219-n-queen-street\n",
      "https://restaurants.subway.com/united-states/pa/lancaster/307-stanley-k-tanger-drive\n",
      "https://restaurants.subway.com/united-states/pa/lewistown/2-e-market-st\n",
      "https://restaurants.subway.com/united-states/pa/linwood/2400-market-st\n",
      "https://restaurants.subway.com/united-states/pa/mckees-rocks/2-beaver-grade-rd\n",
      "https://restaurants.subway.com/united-states/pa/mechanicsburg/20-w-main-st\n",
      "https://restaurants.subway.com/united-states/pa/mill-hall/5868-nittany-valley-dr\n",
      "https://restaurants.subway.com/united-states/pa/monaca/3588-brodhead-rd\n",
      "https://restaurants.subway.com/united-states/pa/mount-pleasant/448-main-st\n",
      "https://restaurants.subway.com/united-states/pa/mountain-top/60-s-mountain-blvd\n",
      "https://restaurants.subway.com/united-states/pa/natrona-heights/1732-pacific-ave\n",
      "https://restaurants.subway.com/united-states/pa/new-castle/2335-harlansburg-rd\n",
      "https://restaurants.subway.com/united-states/pa/new-wilmington/961-state-route-18\n",
      "https://restaurants.subway.com/united-states/pa/newville/1-mill-rd\n",
      "https://restaurants.subway.com/united-states/pa/north-east/12271-e-main-st\n",
      "https://restaurants.subway.com/united-states/pa/north-wales/1210-bethlehem-pike\n",
      "https://restaurants.subway.com/united-states/pa/northern-cambria/2910-bigler-ave\n",
      "https://restaurants.subway.com/united-states/pa/pittsburgh/4613-centre-ave\n",
      "https://restaurants.subway.com/united-states/pa/pittsburgh/55-alpha-dr\n",
      "https://restaurants.subway.com/united-states/pa/plains/286-s-river-st\n",
      "https://restaurants.subway.com/united-states/pa/reading/100-love-road\n",
      "https://restaurants.subway.com/united-states/pa/reading/3225-n-5th-st-highway\n",
      "https://restaurants.subway.com/united-states/pa/reading/5370-allentown-pike\n",
      "https://restaurants.subway.com/united-states/pa/royersford/70-buckwalter-rd\n",
      "https://restaurants.subway.com/united-states/pa/schellsburg/3966-lincoln-highway\n",
      "https://restaurants.subway.com/united-states/pa/scranton/900-wyoming-ave\n",
      "https://restaurants.subway.com/united-states/pa/shickshinny/19-21-north-main-street\n",
      "https://restaurants.subway.com/united-states/pa/west-reading/450-penn-ave\n",
      "https://restaurants.subway.com/united-states/pa/willow-grove/112-park-avenue\n",
      "https://restaurants.subway.com/united-states/pa/worthington/1050-rt-422\n"
     ]
    },
    {
     "data": {
      "application/vnd.jupyter.widget-view+json": {
       "model_id": "e39b4392ffca4e1e9d949e8a04a3b27f",
       "version_major": 2,
       "version_minor": 0
      },
      "text/plain": [
       "Parsing Locations In mo:   0%|          | 0/249 [00:00<?, ?it/s]"
      ]
     },
     "metadata": {},
     "output_type": "display_data"
    },
    {
     "name": "stdout",
     "output_type": "stream",
     "text": [
      "https://restaurants.subway.com/united-states/mo/blue-springs/600-ne-coronado-drive\n",
      "https://restaurants.subway.com/united-states/mo/charleston/7-charleston-plaza\n",
      "https://restaurants.subway.com/united-states/mo/columbia/1406-forum-blvd\n",
      "https://restaurants.subway.com/united-states/mo/columbia/909-hitt-st\n",
      "https://restaurants.subway.com/united-states/mo/creve-coeur/782-north-new-ballas-rd\n",
      "https://restaurants.subway.com/united-states/mo/florissant/60-grandview-plz-shopping-ctr\n",
      "https://restaurants.subway.com/united-states/mo/hannibal/113-n-3rd-st\n",
      "https://restaurants.subway.com/united-states/mo/jefferson-city/1850-rte-c\n",
      "https://restaurants.subway.com/united-states/mo/jefferson-city/3600-country-club-dr\n",
      "https://restaurants.subway.com/united-states/mo/kansas-city/13615-washington-street\n",
      "https://restaurants.subway.com/united-states/mo/kansas-city/4545-worlds-of-fun\n",
      "https://restaurants.subway.com/united-states/mo/lee's-summit/3410-sw-market-street\n",
      "https://restaurants.subway.com/united-states/mo/milan/203-n-pearl\n",
      "https://restaurants.subway.com/united-states/mo/new-madrid/625-us-hwy-61\n",
      "https://restaurants.subway.com/united-states/mo/paris/504b-s-main\n",
      "https://restaurants.subway.com/united-states/mo/raytown/10300-east-350-hwy\n",
      "https://restaurants.subway.com/united-states/mo/shell-knob/26082-state-highway-39-south\n",
      "https://restaurants.subway.com/united-states/mo/sparta/6730-state-hwy-14\n",
      "https://restaurants.subway.com/united-states/mo/springfield/329-e-kearney\n",
      "https://restaurants.subway.com/united-states/mo/st-peters/2955-n-st-peters-parkway\n",
      "https://restaurants.subway.com/united-states/mo/st-louis/1820-market\n",
      "https://restaurants.subway.com/united-states/mo/st-louis/216-n-7th-st\n",
      "https://restaurants.subway.com/united-states/mo/st-louis/4600-chippewa-ave\n",
      "https://restaurants.subway.com/united-states/mo/sunset-hills/10754-sunset-hills-plaza\n",
      "https://restaurants.subway.com/united-states/mo/des-peres/1183-85-colonnade-ctr\n"
     ]
    },
    {
     "data": {
      "application/vnd.jupyter.widget-view+json": {
       "model_id": "250417b1b86d4ee3a73fb65ff3988730",
       "version_major": 2,
       "version_minor": 0
      },
      "text/plain": [
       "Parsing Locations In co:   0%|          | 0/136 [00:00<?, ?it/s]"
      ]
     },
     "metadata": {},
     "output_type": "display_data"
    },
    {
     "name": "stdout",
     "output_type": "stream",
     "text": [
      "https://restaurants.subway.com/united-states/co/arvada/7310-w-52nd-ave\n",
      "https://restaurants.subway.com/united-states/co/arvada/8050-kipling-street\n",
      "https://restaurants.subway.com/united-states/co/arvada/9400-ralston-road\n",
      "https://restaurants.subway.com/united-states/co/boulder/1669-euclid-ave\n",
      "https://restaurants.subway.com/united-states/co/colorado-springs/11590-black-forest-rd\n",
      "https://restaurants.subway.com/united-states/co/colorado-springs/1714-s-circle\n",
      "https://restaurants.subway.com/united-states/co/colorado-springs/1732a-w-uintah\n",
      "https://restaurants.subway.com/united-states/co/colorado-springs/3434-n-academy-blvd\n",
      "https://restaurants.subway.com/united-states/co/denver/1945-s-sheridan\n",
      "https://restaurants.subway.com/united-states/co/denver/201-w-colfax\n",
      "https://restaurants.subway.com/united-states/co/denver/472-broadway\n",
      "https://restaurants.subway.com/united-states/co/denver/8450-east-iliff-avenue\n",
      "https://restaurants.subway.com/united-states/co/edwards/439-edwards-access-rd\n",
      "https://restaurants.subway.com/united-states/co/flagler/402-high-street\n",
      "https://restaurants.subway.com/united-states/co/ft-carson/bldg-900-mcgrath-ave\n",
      "https://restaurants.subway.com/united-states/co/glenwood-springs/101-w-6th-street\n",
      "https://restaurants.subway.com/united-states/co/grand-junction/115-w-grand-ave\n",
      "https://restaurants.subway.com/united-states/co/greenwood-village/8081-e-orchard-rd\n",
      "https://restaurants.subway.com/united-states/co/lakewood/10790-w-colfax-ave\n",
      "https://restaurants.subway.com/united-states/co/longmont/1630-north-main-st\n",
      "https://restaurants.subway.com/united-states/co/monument/1018-w-baptist-rd\n",
      "https://restaurants.subway.com/united-states/co/monument/570-highway-105\n",
      "https://restaurants.subway.com/united-states/co/parachute/318-e-1st-st\n",
      "https://restaurants.subway.com/united-states/co/rifle/101-e-26th-street\n",
      "https://restaurants.subway.com/united-states/co/steamboat-springs/1815-central-park-drive\n",
      "https://restaurants.subway.com/united-states/co/westminster/5076-w-92nd-ave\n"
     ]
    },
    {
     "data": {
      "application/vnd.jupyter.widget-view+json": {
       "model_id": "df6cd3cd1b024fe1b3293562393c3e91",
       "version_major": 2,
       "version_minor": 0
      },
      "text/plain": [
       "Parsing Locations In ut:   0%|          | 0/99 [00:00<?, ?it/s]"
      ]
     },
     "metadata": {},
     "output_type": "display_data"
    },
    {
     "name": "stdout",
     "output_type": "stream",
     "text": [
      "https://restaurants.subway.com/united-states/ut/farmington/375-n-hwy-91\n",
      "https://restaurants.subway.com/united-states/ut/ogden/5475-south-500-east\n",
      "https://restaurants.subway.com/united-states/ut/park-city/1612-west-ute-blvd\n",
      "https://restaurants.subway.com/united-states/ut/salt-lake-city/1427-south-300-west\n",
      "https://restaurants.subway.com/united-states/ut/salt-lake-city/4725-s-highland-drive\n",
      "https://restaurants.subway.com/united-states/ut/sandy/10450-south-state-street\n",
      "https://restaurants.subway.com/united-states/ut/west-valley-city/3601-s-2700-w\n"
     ]
    },
    {
     "data": {
      "application/vnd.jupyter.widget-view+json": {
       "model_id": "e41ecb2646ec4a6f81bb6b133906ce23",
       "version_major": 2,
       "version_minor": 0
      },
      "text/plain": [
       "Parsing Locations In tn:   0%|          | 0/220 [00:00<?, ?it/s]"
      ]
     },
     "metadata": {},
     "output_type": "display_data"
    },
    {
     "name": "stdout",
     "output_type": "stream",
     "text": [
      "https://restaurants.subway.com/united-states/tn/bristol/2742-w-state-st\n",
      "https://restaurants.subway.com/united-states/tn/chattanooga/stacy-town-center\n",
      "https://restaurants.subway.com/united-states/tn/franklin/3046-columbia-ave\n",
      "https://restaurants.subway.com/united-states/tn/franklin/330-mayfield-dr\n",
      "https://restaurants.subway.com/united-states/tn/greeneville/11190-baileyton-rd\n",
      "https://restaurants.subway.com/united-states/tn/greeneville/227-west-summer-street\n",
      "https://restaurants.subway.com/united-states/tn/harriman/1619-s-roane-st\n",
      "https://restaurants.subway.com/united-states/tn/johnson-city/4307-north-roan-street\n",
      "https://restaurants.subway.com/united-states/tn/kingsport/1708-east-stone-drive\n",
      "https://restaurants.subway.com/united-states/tn/kingston/1452-lawnville-road\n",
      "https://restaurants.subway.com/united-states/tn/knoxville/1325-n-cherry-street\n",
      "https://restaurants.subway.com/united-states/tn/knoxville/1606-lovell-rd\n",
      "https://restaurants.subway.com/united-states/tn/knoxville/7701-northshore-dr\n",
      "https://restaurants.subway.com/united-states/tn/knoxville/8410-middlebrook-pike\n",
      "https://restaurants.subway.com/united-states/tn/memphis/tiger-den-fc-3174-campus\n",
      "https://restaurants.subway.com/united-states/tn/nashville/1703-portland-ave\n",
      "https://restaurants.subway.com/united-states/tn/nashville/246-rep-john-lewis-way-north\n",
      "https://restaurants.subway.com/united-states/tn/nashville/530-church-st\n",
      "https://restaurants.subway.com/united-states/tn/nashville/705-main-street\n",
      "https://restaurants.subway.com/united-states/tn/sevierville/510-winfield-dunn-pkwy\n"
     ]
    },
    {
     "data": {
      "application/vnd.jupyter.widget-view+json": {
       "model_id": "a097b544a1c44c3db8ced3e7dab2eb19",
       "version_major": 2,
       "version_minor": 0
      },
      "text/plain": [
       "Parsing Locations In wy:   0%|          | 0/34 [00:00<?, ?it/s]"
      ]
     },
     "metadata": {},
     "output_type": "display_data"
    },
    {
     "name": "stdout",
     "output_type": "stream",
     "text": [
      "https://restaurants.subway.com/united-states/wy/cheyenne/1821-dell-range-blvd\n",
      "https://restaurants.subway.com/united-states/wy/laramie/4308-grand-ave\n",
      "https://restaurants.subway.com/united-states/wy/pinedale/1088-w-pine-st\n",
      "https://restaurants.subway.com/united-states/wy/riverton/900-w-main-st\n",
      "https://restaurants.subway.com/united-states/wy/rock-springs/91-gateway-blvd\n",
      "https://restaurants.subway.com/united-states/wy/wheatland/1455-south-st\n"
     ]
    },
    {
     "data": {
      "application/vnd.jupyter.widget-view+json": {
       "model_id": "1d91e215f39f4967bdbbf9e1115ccc4b",
       "version_major": 2,
       "version_minor": 0
      },
      "text/plain": [
       "Parsing Locations In ny:   0%|          | 0/384 [00:00<?, ?it/s]"
      ]
     },
     "metadata": {},
     "output_type": "display_data"
    },
    {
     "name": "stdout",
     "output_type": "stream",
     "text": [
      "https://restaurants.subway.com/united-states/ny/baldwinsville/24-e-genessee-st\n",
      "https://restaurants.subway.com/united-states/ny/bethpage/390-north-wantagh-ave\n",
      "https://restaurants.subway.com/united-states/ny/binghamton/232-conklin-ave\n",
      "https://restaurants.subway.com/united-states/ny/binghamton/4400-vestal-parkway-east\n",
      "https://restaurants.subway.com/united-states/ny/brentwood/1001-crooked-hill-rd\n",
      "https://restaurants.subway.com/united-states/ny/briarwood/138-05-queens-boulevard\n",
      "https://restaurants.subway.com/united-states/ny/brockport/350-new-campus-drive\n",
      "https://restaurants.subway.com/united-states/ny/bronx/597-east-tremont-ave\n",
      "https://restaurants.subway.com/united-states/ny/brooklyn/5107-church-ave\n",
      "https://restaurants.subway.com/united-states/ny/brooklyn/528a-clarkson-ave\n",
      "https://restaurants.subway.com/united-states/ny/buffalo/1124-elmwood-ave\n",
      "https://restaurants.subway.com/united-states/ny/buffalo/1300-elmwood-ave\n",
      "https://restaurants.subway.com/united-states/ny/buffalo/565-abbott-rd\n",
      "https://restaurants.subway.com/united-states/ny/cheektowaga/2789-union-rd\n",
      "https://restaurants.subway.com/united-states/ny/cheektowaga/576-dick-rd\n",
      "https://restaurants.subway.com/united-states/ny/claverack/634-route-23b\n",
      "https://restaurants.subway.com/united-states/ny/clay/4206-route-31\n",
      "https://restaurants.subway.com/united-states/ny/clay/5194-w-taft-road\n",
      "https://restaurants.subway.com/united-states/ny/clinton/32-college-st\n",
      "https://restaurants.subway.com/united-states/ny/colonie/155-wolf-rd\n",
      "https://restaurants.subway.com/united-states/ny/colonie/88-wolf-road\n",
      "https://restaurants.subway.com/united-states/ny/dannemora/route-374\n",
      "https://restaurants.subway.com/united-states/ny/darien-center/9993-alleghany-rd-23944-0\n",
      "https://restaurants.subway.com/united-states/ny/darien-center/9993-alleghany-rd-23944-1\n",
      "https://restaurants.subway.com/united-states/ny/delmar/180-delaware-avenue\n",
      "https://restaurants.subway.com/united-states/ny/east-meadow/483-bellmore-avenue\n",
      "https://restaurants.subway.com/united-states/ny/east-northport/220-laurel-rd\n",
      "https://restaurants.subway.com/united-states/ny/eden/8151-n-main-st\n",
      "https://restaurants.subway.com/united-states/ny/ellicottville/38-washington-street\n",
      "https://restaurants.subway.com/united-states/ny/elmhurst/43-43-91st-place\n",
      "https://restaurants.subway.com/united-states/ny/elmhurst/74-22-broadway\n",
      "https://restaurants.subway.com/united-states/ny/endicott/61-washington-ave\n",
      "https://restaurants.subway.com/united-states/ny/fishkill/17-merritt-blvd-us-rt-9\n",
      "https://restaurants.subway.com/united-states/ny/forest-hills/116-30-queens-blvd\n",
      "https://restaurants.subway.com/united-states/ny/fort-edward/351-broadway-(rte-4)\n",
      "https://restaurants.subway.com/united-states/ny/hewlett/1239-broadway\n",
      "https://restaurants.subway.com/united-states/ny/huntington-station/271-275-rt-110\n",
      "https://restaurants.subway.com/united-states/ny/island-park/4385-austin-blvd\n",
      "https://restaurants.subway.com/united-states/ny/islip-terrace/876-connequot-ave\n",
      "https://restaurants.subway.com/united-states/ny/jamaica/8000-utopia-prkwy\n",
      "https://restaurants.subway.com/united-states/ny/kew-gardens/120-80-queens-blvd\n",
      "https://restaurants.subway.com/united-states/ny/lake-george/1471-state-route-9\n",
      "https://restaurants.subway.com/united-states/ny/liverpool/642-old-liverpool-road\n",
      "https://restaurants.subway.com/united-states/ny/macedon/1503-canandaigua-rd\n",
      "https://restaurants.subway.com/united-states/ny/mineola/113-mineola-blvd\n",
      "https://restaurants.subway.com/united-states/ny/mount-vernon/5-e-prospect-ave\n",
      "https://restaurants.subway.com/united-states/ny/mt-sinai/5507-nesconset-hwy\n",
      "https://restaurants.subway.com/united-states/ny/new-hartford/8455-seneca-turnpike\n",
      "https://restaurants.subway.com/united-states/ny/new-hartford/routes-5-&-5a\n",
      "https://restaurants.subway.com/united-states/ny/new-york/111-broadway\n",
      "https://restaurants.subway.com/united-states/ny/new-york/111-central-park-north\n",
      "https://restaurants.subway.com/united-states/ny/new-york/153-chambers-st\n",
      "https://restaurants.subway.com/united-states/ny/new-york/153-third-ave\n",
      "https://restaurants.subway.com/united-states/ny/new-york/1752-park-avenue\n",
      "https://restaurants.subway.com/united-states/ny/new-york/250-west-54th-st\n",
      "https://restaurants.subway.com/united-states/ny/new-york/28-water-street\n",
      "https://restaurants.subway.com/united-states/ny/new-york/300-west-17th-st\n",
      "https://restaurants.subway.com/united-states/ny/new-york/64-delancey-street\n",
      "https://restaurants.subway.com/united-states/ny/newburgh/88-north-plank-road\n",
      "https://restaurants.subway.com/united-states/ny/plainview/1022-old-country-road\n",
      "https://restaurants.subway.com/united-states/ny/plattsburgh/334-cornelia-street\n",
      "https://restaurants.subway.com/united-states/ny/rockville-centre/604-merrick-rd\n",
      "https://restaurants.subway.com/united-states/ny/ronkonkoma/43-railroad-ave\n",
      "https://restaurants.subway.com/united-states/ny/somers/325-route-100\n",
      "https://restaurants.subway.com/united-states/ny/stony-brook/roth-cafe\n",
      "https://restaurants.subway.com/united-states/ny/tonawanda/750-young-street\n",
      "https://restaurants.subway.com/united-states/ny/wellsville/131-bolivar-rd\n",
      "https://restaurants.subway.com/united-states/ny/whitehall/264-broadway\n",
      "https://restaurants.subway.com/united-states/ny/whitestone/153-01-10th-avenue\n",
      "https://restaurants.subway.com/united-states/ny/windsor/100-main-st\n",
      "https://restaurants.subway.com/united-states/ny/woodside/63-02-queens-blvd-45-06-64thst\n",
      "https://restaurants.subway.com/united-states/ny/yonkers/1-ridge-hill-blvd\n"
     ]
    },
    {
     "data": {
      "application/vnd.jupyter.widget-view+json": {
       "model_id": "35b64523a43c409d86c66be23a11a5bf",
       "version_major": 2,
       "version_minor": 0
      },
      "text/plain": [
       "Parsing Locations In ks:   0%|          | 0/119 [00:00<?, ?it/s]"
      ]
     },
     "metadata": {},
     "output_type": "display_data"
    },
    {
     "name": "stdout",
     "output_type": "stream",
     "text": [
      "https://restaurants.subway.com/united-states/ks/kansas-city/315-southwest-blvd\n",
      "https://restaurants.subway.com/united-states/ks/kansas-city/800-s-7th-st\n",
      "https://restaurants.subway.com/united-states/ks/maize/5255-n-maize-rd\n",
      "https://restaurants.subway.com/united-states/ks/manhattan/908-ksu-student-union\n",
      "https://restaurants.subway.com/united-states/ks/olathe/11932-s-strang-line-rd\n",
      "https://restaurants.subway.com/united-states/ks/olathe/20801-west-151st-street\n",
      "https://restaurants.subway.com/united-states/ks/overland-park/11011-antioch-road\n",
      "https://restaurants.subway.com/united-states/ks/overland-park/6312-college-boulevard\n",
      "https://restaurants.subway.com/united-states/ks/shawnee/16022-w-65th-street\n",
      "https://restaurants.subway.com/united-states/ks/topeka/1801-sw-wanamaker\n"
     ]
    },
    {
     "data": {
      "application/vnd.jupyter.widget-view+json": {
       "model_id": "16fc15544462450b814dfa7a26a441c8",
       "version_major": 2,
       "version_minor": 0
      },
      "text/plain": [
       "Parsing Locations In ak:   0%|          | 0/23 [00:00<?, ?it/s]"
      ]
     },
     "metadata": {},
     "output_type": "display_data"
    },
    {
     "name": "stdout",
     "output_type": "stream",
     "text": [
      "https://restaurants.subway.com/united-states/ak/denali-national-park-and-preserve/mile-2386-parks-hwy\n",
      "https://restaurants.subway.com/united-states/ak/wasilla/5-w-parks-highway\n"
     ]
    },
    {
     "data": {
      "application/vnd.jupyter.widget-view+json": {
       "model_id": "ec65c088a4f6490995f20b7447a61a10",
       "version_major": 2,
       "version_minor": 0
      },
      "text/plain": [
       "Parsing Locations In nv:   0%|          | 0/36 [00:00<?, ?it/s]"
      ]
     },
     "metadata": {},
     "output_type": "display_data"
    },
    {
     "name": "stdout",
     "output_type": "stream",
     "text": [
      "https://restaurants.subway.com/united-states/nv/henderson/1300-west-sunset-road\n",
      "https://restaurants.subway.com/united-states/nv/henderson/777-w-lake-mead-pkwy\n",
      "https://restaurants.subway.com/united-states/nv/las-vegas/2520-s-eastern-ave\n",
      "https://restaurants.subway.com/united-states/nv/las-vegas/600-e-fremont-st\n",
      "https://restaurants.subway.com/united-states/nv/las-vegas/600-e-warm-springs-road\n",
      "https://restaurants.subway.com/united-states/nv/las-vegas/9090-alta-dr\n",
      "https://restaurants.subway.com/united-states/nv/las-vegas/9175-s-las-vegas-blvd\n",
      "https://restaurants.subway.com/united-states/nv/reno/75-pringle-way\n"
     ]
    },
    {
     "data": {
      "application/vnd.jupyter.widget-view+json": {
       "model_id": "513eb0ab261a4e998e457f9e3201d96b",
       "version_major": 2,
       "version_minor": 0
      },
      "text/plain": [
       "Parsing Locations In il:   0%|          | 0/434 [00:00<?, ?it/s]"
      ]
     },
     "metadata": {},
     "output_type": "display_data"
    },
    {
     "name": "stdout",
     "output_type": "stream",
     "text": [
      "https://restaurants.subway.com/united-states/il/alton/712-e-broadway\n",
      "https://restaurants.subway.com/united-states/il/arlington-heights/4204-d-n-arlington-heights-rd\n",
      "https://restaurants.subway.com/united-states/il/arlington-heights/45-w-golf-rd\n",
      "https://restaurants.subway.com/united-states/il/aurora/2916-ogden-ave\n",
      "https://restaurants.subway.com/united-states/il/bartlett/5590-county-farm-road\n",
      "https://restaurants.subway.com/united-states/il/bloomingdale/158-a-e-lake-st\n",
      "https://restaurants.subway.com/united-states/il/bridgeview/8761-s-harlem-ave\n",
      "https://restaurants.subway.com/united-states/il/bunker-hill/720-s-washington\n",
      "https://restaurants.subway.com/united-states/il/cambridge/312-east-court-street\n",
      "https://restaurants.subway.com/united-states/il/carbondale/1255-lincoln-drive\n",
      "https://restaurants.subway.com/united-states/il/chicago/177-n-wells\n",
      "https://restaurants.subway.com/united-states/il/chicago/1818-w-montrose\n",
      "https://restaurants.subway.com/united-states/il/chicago/1938-w-lawrence-ave\n",
      "https://restaurants.subway.com/united-states/il/chicago/201-n-clark\n",
      "https://restaurants.subway.com/united-states/il/chicago/205-e-ohio\n",
      "https://restaurants.subway.com/united-states/il/chicago/304-south-jefferson-street\n",
      "https://restaurants.subway.com/united-states/il/chicago/3167-n-lincoln-ave\n",
      "https://restaurants.subway.com/united-states/il/chicago/3661-w-grand-street\n",
      "https://restaurants.subway.com/united-states/il/chicago/400-s-financial-place\n",
      "https://restaurants.subway.com/united-states/il/chicago/4633-west-diversey-avenue\n",
      "https://restaurants.subway.com/united-states/il/chicago/5215-w-chicago-avenue\n",
      "https://restaurants.subway.com/united-states/il/chicago/53-w-79th-street\n",
      "https://restaurants.subway.com/united-states/il/chicago/7358-s-stoney-island\n",
      "https://restaurants.subway.com/united-states/il/chicago/7601-s-cicero-ave\n",
      "https://restaurants.subway.com/united-states/il/chicago/7852-s-cottage-grove\n",
      "https://restaurants.subway.com/united-states/il/chicago/9518-s-halsted\n",
      "https://restaurants.subway.com/united-states/il/christopher/506-w-egyptian-ave\n",
      "https://restaurants.subway.com/united-states/il/danville/1220-e-main-st\n",
      "https://restaurants.subway.com/united-states/il/downers-grove/1544-ogden\n",
      "https://restaurants.subway.com/united-states/il/edwards/7200-n-kickapoo-edwards-rd\n",
      "https://restaurants.subway.com/united-states/il/effingham/1711-s-banker-st\n",
      "https://restaurants.subway.com/united-states/il/elmhurst/183-south-route-83\n",
      "https://restaurants.subway.com/united-states/il/elmwood/102-w-main-st\n",
      "https://restaurants.subway.com/united-states/il/elmwood-park/2836-n-harlem-ave\n",
      "https://restaurants.subway.com/united-states/il/evanston/900-chicago-avenue\n",
      "https://restaurants.subway.com/united-states/il/forsyth/1400-hickory-point-dr\n",
      "https://restaurants.subway.com/united-states/il/goreville/108-n-broadway\n",
      "https://restaurants.subway.com/united-states/il/henry/1044-western-ave\n",
      "https://restaurants.subway.com/united-states/il/lincoln/3091-woodlawn-road\n",
      "https://restaurants.subway.com/united-states/il/lyons/3900-a-s-harlem-ave\n",
      "https://restaurants.subway.com/united-states/il/marrisa/601-e-lyons\n",
      "https://restaurants.subway.com/united-states/il/marshall/902-s-2nd-street\n",
      "https://restaurants.subway.com/united-states/il/mchenry/2222-w-route-120\n",
      "https://restaurants.subway.com/united-states/il/melrose-park/701-w-north-avenue\n",
      "https://restaurants.subway.com/united-states/il/morton-grove/5841-w-dempster-ave\n",
      "https://restaurants.subway.com/united-states/il/mt-pulaski/513-e-chestnut-street\n",
      "https://restaurants.subway.com/united-states/il/newton/207-e-jourdan\n",
      "https://restaurants.subway.com/united-states/il/niles/850-civic-center-drive\n",
      "https://restaurants.subway.com/united-states/il/north-aurora/249-genesis-drive\n",
      "https://restaurants.subway.com/united-states/il/north-aurora/53-s-randall-rd\n",
      "https://restaurants.subway.com/united-states/il/oak-lawn/6350-w-95th-st\n",
      "https://restaurants.subway.com/united-states/il/palatine/1200-algonquin-rd\n",
      "https://restaurants.subway.com/united-states/il/peoria/1307-west-glen\n",
      "https://restaurants.subway.com/united-states/il/peoria/3315-n-university-st\n",
      "https://restaurants.subway.com/united-states/il/peoria/411-hamilton-blvd\n",
      "https://restaurants.subway.com/united-states/il/prospect-heights/1209a-n-elmhurst-rd\n",
      "https://restaurants.subway.com/united-states/il/prospect-heights/684-n-milwaukee-ave\n",
      "https://restaurants.subway.com/united-states/il/raymond/304-s-obannon\n",
      "https://restaurants.subway.com/united-states/il/schiller-park/10201-belle-plaine-ave\n",
      "https://restaurants.subway.com/united-states/il/skokie/5041-oakton-ave\n",
      "https://restaurants.subway.com/united-states/il/springfield/1200-capital-city-drive\n",
      "https://restaurants.subway.com/united-states/il/virginia/350-n-main-st\n",
      "https://restaurants.subway.com/united-states/il/wenona/1-carrier-la\n",
      "https://restaurants.subway.com/united-states/il/woodhull/440-west-highway-ave\n"
     ]
    },
    {
     "data": {
      "application/vnd.jupyter.widget-view+json": {
       "model_id": "2464f80fd88a4b9396030eb6823a1047",
       "version_major": 2,
       "version_minor": 0
      },
      "text/plain": [
       "Parsing Locations In vt:   0%|          | 0/36 [00:00<?, ?it/s]"
      ]
     },
     "metadata": {},
     "output_type": "display_data"
    },
    {
     "name": "stdout",
     "output_type": "stream",
     "text": [
      "https://restaurants.subway.com/united-states/vt/bellows-falls/61-square\n",
      "https://restaurants.subway.com/united-states/vt/jeffersonville/4828-route-15\n",
      "https://restaurants.subway.com/united-states/vt/orleans/25-railroad-ave\n",
      "https://restaurants.subway.com/united-states/vt/st-albans/366-swanton-rd-rte-7\n",
      "https://restaurants.subway.com/united-states/vt/swanton/165-first-street\n",
      "https://restaurants.subway.com/united-states/vt/winooski/476-main-st\n"
     ]
    },
    {
     "data": {
      "application/vnd.jupyter.widget-view+json": {
       "model_id": "bc217350dcb64ea99498cc90c74e12e3",
       "version_major": 2,
       "version_minor": 0
      },
      "text/plain": [
       "Parsing Locations In mt:   0%|          | 0/44 [00:00<?, ?it/s]"
      ]
     },
     "metadata": {},
     "output_type": "display_data"
    },
    {
     "name": "stdout",
     "output_type": "stream",
     "text": [
      "https://restaurants.subway.com/united-states/mt/big-fork/8270-us-hwy-35\n",
      "https://restaurants.subway.com/united-states/mt/evergreen/1420-state-highway-35\n",
      "https://restaurants.subway.com/united-states/mt/florence/5502-old-hwy-93\n",
      "https://restaurants.subway.com/united-states/mt/gardiner/401-w-scott-st\n",
      "https://restaurants.subway.com/united-states/mt/milltown/7895-us-hwy-200-e\n",
      "https://restaurants.subway.com/united-states/mt/missoula/624-e-broadway\n",
      "https://restaurants.subway.com/united-states/mt/west-yellowstone/136-n-canyon-st\n"
     ]
    },
    {
     "data": {
      "application/vnd.jupyter.widget-view+json": {
       "model_id": "0844dbdfc1da45e9a4266749590266eb",
       "version_major": 2,
       "version_minor": 0
      },
      "text/plain": [
       "Parsing Locations In ia:   0%|          | 0/174 [00:00<?, ?it/s]"
      ]
     },
     "metadata": {},
     "output_type": "display_data"
    },
    {
     "name": "stdout",
     "output_type": "stream",
     "text": [
      "https://restaurants.subway.com/united-states/ia/ames/113-welch-ave\n",
      "https://restaurants.subway.com/united-states/ia/cascade/329-1st-ave-w\n",
      "https://restaurants.subway.com/united-states/ia/coralville/2425-2nd-st\n",
      "https://restaurants.subway.com/united-states/ia/coralville/570-1st-avenue\n",
      "https://restaurants.subway.com/united-states/ia/greenfield/212-se-kent-hwy-92\n",
      "https://restaurants.subway.com/united-states/ia/hinton/111-south-floyd-avenue\n",
      "https://restaurants.subway.com/united-states/ia/rockwell-city/730-high-st\n",
      "https://restaurants.subway.com/united-states/ia/sioux-city/lakeport-&-sergent-rd\n",
      "https://restaurants.subway.com/united-states/ia/spencer/603-s-grand\n",
      "https://restaurants.subway.com/united-states/ia/urbandale/4640-86th-st\n",
      "https://restaurants.subway.com/united-states/ia/waterloo/518-jefferson-st\n",
      "https://restaurants.subway.com/united-states/ia/williamsburg/1991-o'donnell-road\n",
      "https://restaurants.subway.com/united-states/ia/des-moines/1315-31st-street\n",
      "https://restaurants.subway.com/united-states/ia/des-moines/555-walnut-st\n"
     ]
    },
    {
     "data": {
      "application/vnd.jupyter.widget-view+json": {
       "model_id": "7a75400dd6c1441fbb79f1319ad7e6bb",
       "version_major": 2,
       "version_minor": 0
      },
      "text/plain": [
       "Parsing Locations In sc:   0%|          | 0/151 [00:00<?, ?it/s]"
      ]
     },
     "metadata": {},
     "output_type": "display_data"
    },
    {
     "name": "stdout",
     "output_type": "stream",
     "text": [
      "https://restaurants.subway.com/united-states/sc/anderson/3812-liberty-highway\n",
      "https://restaurants.subway.com/united-states/sc/charleston-afb/101-lawson-drive\n",
      "https://restaurants.subway.com/united-states/sc/clemson/341-college-ave\n",
      "https://restaurants.subway.com/united-states/sc/columbia/2020-taylor-street\n",
      "https://restaurants.subway.com/united-states/sc/columbia/316-s-beltline-blvd\n",
      "https://restaurants.subway.com/united-states/sc/columbia/5-richland-medical-park-drive\n",
      "https://restaurants.subway.com/united-states/sc/florence/2715-lucas-st\n",
      "https://restaurants.subway.com/united-states/sc/fort-mill/106-clebourne-street\n",
      "https://restaurants.subway.com/united-states/sc/gaffney/918-hyatt-st\n",
      "https://restaurants.subway.com/united-states/sc/greenville/1119-woodruff-rd\n",
      "https://restaurants.subway.com/united-states/sc/greenville/225-n-main-st\n",
      "https://restaurants.subway.com/united-states/sc/greenville/945-s-main-st\n",
      "https://restaurants.subway.com/united-states/sc/lexington/5035-augusta-road\n",
      "https://restaurants.subway.com/united-states/sc/north-myrtle-beach/3300-b-hwy-17-s\n",
      "https://restaurants.subway.com/united-states/sc/rock-hill/2079-celanese-rd\n",
      "https://restaurants.subway.com/united-states/sc/spartanburg/1006-tyger-lake-rd\n",
      "https://restaurants.subway.com/united-states/sc/spartanburg/156-magnolia-st\n",
      "https://restaurants.subway.com/united-states/sc/west-columbia/1260-lexington-dr\n",
      "https://restaurants.subway.com/united-states/sc/west-columbia/2236-airport-blvd\n"
     ]
    },
    {
     "data": {
      "application/vnd.jupyter.widget-view+json": {
       "model_id": "2901b5cdc96243d8b2c2b05ff77a6310",
       "version_major": 2,
       "version_minor": 0
      },
      "text/plain": [
       "Parsing Locations In nh:   0%|          | 0/59 [00:00<?, ?it/s]"
      ]
     },
     "metadata": {},
     "output_type": "display_data"
    },
    {
     "name": "stdout",
     "output_type": "stream",
     "text": [
      "https://restaurants.subway.com/united-states/nh/concord/39-n-main-st\n",
      "https://restaurants.subway.com/united-states/nh/epping/7-exeter-rd\n",
      "https://restaurants.subway.com/united-states/nh/hudson/77-lowell-road\n",
      "https://restaurants.subway.com/united-states/nh/keene/37-main-st\n",
      "https://restaurants.subway.com/united-states/nh/manchester/997-elm-street\n",
      "https://restaurants.subway.com/united-states/nh/merrimack/7-continental-blvd\n",
      "https://restaurants.subway.com/united-states/nh/nashua/291-main-st\n",
      "https://restaurants.subway.com/united-states/nh/nashua/4-coliseum-ave\n",
      "https://restaurants.subway.com/united-states/nh/raymond/51-old-manchester-road\n",
      "https://restaurants.subway.com/united-states/nh/rindge/750-us-hwy-202\n",
      "https://restaurants.subway.com/united-states/nh/salem/352-354-s-broadway\n",
      "https://restaurants.subway.com/united-states/nh/swanzey/37-monadnock-hwy\n",
      "https://restaurants.subway.com/united-states/nh/west-lebanon/1-glenn-rd\n",
      "https://restaurants.subway.com/united-states/nh/woodsville/4901-dartmouth-college-hwy\n"
     ]
    },
    {
     "data": {
      "application/vnd.jupyter.widget-view+json": {
       "model_id": "44e3c60cff9241f0a84a764057044089",
       "version_major": 2,
       "version_minor": 0
      },
      "text/plain": [
       "Parsing Locations In az:   0%|          | 0/98 [00:00<?, ?it/s]"
      ]
     },
     "metadata": {},
     "output_type": "display_data"
    },
    {
     "name": "stdout",
     "output_type": "stream",
     "text": [
      "https://restaurants.subway.com/united-states/az/benson/995-w-4th-st\n",
      "https://restaurants.subway.com/united-states/az/flagstaff/1000-n-humphreys-st\n",
      "https://restaurants.subway.com/united-states/az/flagstaff/2104-kachina-blvd\n",
      "https://restaurants.subway.com/united-states/az/mesa/161-west-main-st\n",
      "https://restaurants.subway.com/united-states/az/mesa/polytechnic-campus\n",
      "https://restaurants.subway.com/united-states/az/phoenix/2316-w-bethany-home-rd\n",
      "https://restaurants.subway.com/united-states/az/phoenix/555-n-central-ave\n",
      "https://restaurants.subway.com/united-states/az/prescott-valley/4596-n-robert-rd\n",
      "https://restaurants.subway.com/united-states/az/scottsdale/23535-n-scottsdale-road\n",
      "https://restaurants.subway.com/united-states/az/scottsdale/7908-e-chaparral-rd\n",
      "https://restaurants.subway.com/united-states/az/sierra-vista/space-1128\n",
      "https://restaurants.subway.com/united-states/az/tempe/1860-east-warner-road\n",
      "https://restaurants.subway.com/united-states/az/tucson/8140-s-houghton-road\n",
      "https://restaurants.subway.com/united-states/az/tucson/9565-e-22nd-st\n",
      "https://restaurants.subway.com/united-states/az/yuma/1418-s-yuma-palms-pkwy\n"
     ]
    },
    {
     "data": {
      "application/vnd.jupyter.widget-view+json": {
       "model_id": "234d41a43fee432dbfe863b3c35fc11e",
       "version_major": 2,
       "version_minor": 0
      },
      "text/plain": [
       "Parsing Locations In dc:   0%|          | 0/2 [00:00<?, ?it/s]"
      ]
     },
     "metadata": {},
     "output_type": "display_data"
    },
    {
     "name": "stdout",
     "output_type": "stream",
     "text": [
      "https://restaurants.subway.com/united-states/dc/washington/1100-new-york-ave-nw\n",
      "https://restaurants.subway.com/united-states/dc/washington/1412-good-hope-rd-se\n",
      "https://restaurants.subway.com/united-states/dc/washington/1613-17th-st-nw\n",
      "https://restaurants.subway.com/united-states/dc/washington/2401-e-street-nw\n",
      "https://restaurants.subway.com/united-states/dc/washington/3160-3174-mt-pleasant-st-nw\n",
      "https://restaurants.subway.com/united-states/dc/washington/530-morse-st-ne\n",
      "https://restaurants.subway.com/united-states/dc/washington/5300-wisconsin-ave-nw\n"
     ]
    },
    {
     "data": {
      "application/vnd.jupyter.widget-view+json": {
       "model_id": "bd18f93d9bf74b1daf5ee15503ab9e6e",
       "version_major": 2,
       "version_minor": 0
      },
      "text/plain": [
       "Parsing Locations In nj:   0%|          | 0/125 [00:00<?, ?it/s]"
      ]
     },
     "metadata": {},
     "output_type": "display_data"
    },
    {
     "name": "stdout",
     "output_type": "stream",
     "text": [
      "https://restaurants.subway.com/united-states/nj/bayonne/1-lafante-way\n",
      "https://restaurants.subway.com/united-states/nj/budd-lake/61-international-dr\n",
      "https://restaurants.subway.com/united-states/nj/carlstadt/300-washington-avenue\n",
      "https://restaurants.subway.com/united-states/nj/colts-neck/340-route-34\n",
      "https://restaurants.subway.com/united-states/nj/dayton/485-georges-road\n",
      "https://restaurants.subway.com/united-states/nj/hackettstown/196-mountain-ave\n",
      "https://restaurants.subway.com/united-states/nj/jersey-city/student-center-food-court\n",
      "https://restaurants.subway.com/united-states/nj/long-branch/231-3rd-ave\n",
      "https://restaurants.subway.com/united-states/nj/millville/1209-n-high-st\n",
      "https://restaurants.subway.com/united-states/nj/montague/15-route-23-south\n",
      "https://restaurants.subway.com/united-states/nj/montclair/49-claremont-ave\n",
      "https://restaurants.subway.com/united-states/nj/new-brunswick/126-college-ave\n",
      "https://restaurants.subway.com/united-states/nj/newark/1-3-penn-plaza-e-28156-1\n",
      "https://restaurants.subway.com/united-states/nj/newark/1-3-penn-plaza-e-29140-3\n",
      "https://restaurants.subway.com/united-states/nj/newton/19-hampton-house-road\n",
      "https://restaurants.subway.com/united-states/nj/north-brunswick/2221-rte-1-south\n",
      "https://restaurants.subway.com/united-states/nj/perth-amboy/519-convery-blvd\n",
      "https://restaurants.subway.com/united-states/nj/princeton/655-nassau-park-blvd\n",
      "https://restaurants.subway.com/united-states/nj/rio-grande/1613-route-47\n",
      "https://restaurants.subway.com/united-states/nj/skillman/1378-route-206\n",
      "https://restaurants.subway.com/united-states/nj/spotswood/428-main-street\n",
      "https://restaurants.subway.com/united-states/nj/weehawken/4100-park-ave\n"
     ]
    },
    {
     "data": {
      "application/vnd.jupyter.widget-view+json": {
       "model_id": "3ce5c4ae5d4c4fa397d6d83f034f8dd7",
       "version_major": 2,
       "version_minor": 0
      },
      "text/plain": [
       "Parsing Locations In md:   0%|          | 0/173 [00:00<?, ?it/s]"
      ]
     },
     "metadata": {},
     "output_type": "display_data"
    },
    {
     "name": "stdout",
     "output_type": "stream",
     "text": [
      "https://restaurants.subway.com/united-states/md/annapolis/693-kinkaid-road\n",
      "https://restaurants.subway.com/united-states/md/arnold/101-college-parkway\n",
      "https://restaurants.subway.com/united-states/md/arnold/1450-ritchie-hwy\n",
      "https://restaurants.subway.com/united-states/md/baltimore/1520-west-north-ave\n",
      "https://restaurants.subway.com/united-states/md/baltimore/1950-n-broadway\n",
      "https://restaurants.subway.com/united-states/md/baltimore/2407-frederick-ave\n",
      "https://restaurants.subway.com/united-states/md/baltimore/5520-reisterstown-rd\n",
      "https://restaurants.subway.com/united-states/md/baltimore/6901-security-boulevard\n",
      "https://restaurants.subway.com/united-states/md/baltimore/7839-eastern-avenue\n",
      "https://restaurants.subway.com/united-states/md/bowie/16501-ballpark-rd\n",
      "https://restaurants.subway.com/united-states/md/bowie/4825-glen-dale-road\n",
      "https://restaurants.subway.com/united-states/md/college-park/regents-drive\n",
      "https://restaurants.subway.com/united-states/md/college-park/terp-zone-food-crt-of-stamp\n",
      "https://restaurants.subway.com/united-states/md/crisfield/253-n-somerset-ave\n",
      "https://restaurants.subway.com/united-states/md/fort-meade/bldg-2480-llewellen-road\n",
      "https://restaurants.subway.com/united-states/md/hagerstown/12813-f-shank-farm-way\n",
      "https://restaurants.subway.com/united-states/md/highland/13380-clarksville-pike\n",
      "https://restaurants.subway.com/united-states/md/lanham/9201-woodmore-centre-drive\n",
      "https://restaurants.subway.com/united-states/md/lavale/1262-vocke-road\n",
      "https://restaurants.subway.com/united-states/md/new-carrollton/5000-ellin-road\n",
      "https://restaurants.subway.com/united-states/md/oakland/225-e-oak-street\n",
      "https://restaurants.subway.com/united-states/md/ocean-city/1201-atlantic-avenue\n",
      "https://restaurants.subway.com/united-states/md/ocean-city/2109-philadelphia-avenue\n",
      "https://restaurants.subway.com/united-states/md/ocean-city/605-atlantic-avenue\n",
      "https://restaurants.subway.com/united-states/md/ridgely/204-east-6th-street\n",
      "https://restaurants.subway.com/united-states/md/rockville/1402-rockville-pike\n",
      "https://restaurants.subway.com/united-states/md/towson/1254-putty-hill-road\n"
     ]
    },
    {
     "data": {
      "application/vnd.jupyter.widget-view+json": {
       "model_id": "128574cc07584b7bbfa55642b9fd9b89",
       "version_major": 2,
       "version_minor": 0
      },
      "text/plain": [
       "Parsing Locations In me:   0%|          | 0/81 [00:00<?, ?it/s]"
      ]
     },
     "metadata": {},
     "output_type": "display_data"
    },
    {
     "name": "stdout",
     "output_type": "stream",
     "text": [
      "https://restaurants.subway.com/united-states/me/augusta/19-stephen-king-drive\n",
      "https://restaurants.subway.com/united-states/me/bar-harbor/4-cottage-street\n",
      "https://restaurants.subway.com/united-states/me/bath/193-water-st\n",
      "https://restaurants.subway.com/united-states/me/hermon/2402-route-2\n",
      "https://restaurants.subway.com/united-states/me/holden/1025-main-rd\n",
      "https://restaurants.subway.com/united-states/me/kittery/290-us-route-1\n",
      "https://restaurants.subway.com/united-states/me/manchester/964-western-avenue\n",
      "https://restaurants.subway.com/united-states/me/old-orchard-beach/15-old-orchard-st\n",
      "https://restaurants.subway.com/united-states/me/portland/296-st-john-st\n",
      "https://restaurants.subway.com/united-states/me/springvale/514-main-st\n",
      "https://restaurants.subway.com/united-states/me/wells/952-post-rd\n"
     ]
    },
    {
     "data": {
      "application/vnd.jupyter.widget-view+json": {
       "model_id": "8bb0a2c904094a41a004c83135cc1efb",
       "version_major": 2,
       "version_minor": 0
      },
      "text/plain": [
       "Parsing Locations In hi:   0%|          | 0/35 [00:00<?, ?it/s]"
      ]
     },
     "metadata": {},
     "output_type": "display_data"
    },
    {
     "name": "stdout",
     "output_type": "stream",
     "text": [
      "https://restaurants.subway.com/united-states/hi/honolulu/4614-kilauea-ave\n",
      "https://restaurants.subway.com/united-states/hi/honolulu/565-kokea-st\n",
      "https://restaurants.subway.com/united-states/hi/honolulu/700-bishop-st\n",
      "https://restaurants.subway.com/united-states/hi/kailua-kona/75-5799-alii-drive\n",
      "https://restaurants.subway.com/united-states/hi/lahaina/910-honoapiilani-hwy\n",
      "https://restaurants.subway.com/united-states/hi/pearl-city/96-045-ala-ike\n",
      "https://restaurants.subway.com/united-states/hi/waikoloa/waikoloa-beach-drive\n"
     ]
    },
    {
     "data": {
      "application/vnd.jupyter.widget-view+json": {
       "model_id": "4668b36e199d41408f92b1d0d718c943",
       "version_major": 2,
       "version_minor": 0
      },
      "text/plain": [
       "Parsing Locations In de:   0%|          | 0/18 [00:00<?, ?it/s]"
      ]
     },
     "metadata": {},
     "output_type": "display_data"
    },
    {
     "name": "stdout",
     "output_type": "stream",
     "text": [
      "https://restaurants.subway.com/united-states/de/rehoboth-beach/23a-rehoboth-avenue\n"
     ]
    },
    {
     "data": {
      "application/vnd.jupyter.widget-view+json": {
       "model_id": "1a88f5ae9b76427da217e2d6c3ac67e7",
       "version_major": 2,
       "version_minor": 0
      },
      "text/plain": [
       "Parsing Locations In ri:   0%|          | 0/29 [00:00<?, ?it/s]"
      ]
     },
     "metadata": {},
     "output_type": "display_data"
    },
    {
     "name": "stdout",
     "output_type": "stream",
     "text": [
      "https://restaurants.subway.com/united-states/ri/central-falls/310-broad-street\n",
      "https://restaurants.subway.com/united-states/ri/cranston/300-park-ave\n",
      "https://restaurants.subway.com/united-states/ri/greenville/445-putnam-pike\n",
      "https://restaurants.subway.com/united-states/ri/lincoln/622-george-washington-hwy\n",
      "https://restaurants.subway.com/united-states/ri/north-kingstown/76-gate-road\n",
      "https://restaurants.subway.com/united-states/ri/pawtucket/749-mineral-spring-ave\n",
      "https://restaurants.subway.com/united-states/ri/providence/583-elmwood-ave\n",
      "https://restaurants.subway.com/united-states/ri/saunderstown/3045-tower-hill-rd\n",
      "https://restaurants.subway.com/united-states/ri/w-warwick/927-main-st\n",
      "https://restaurants.subway.com/united-states/ri/warwick/3602-3604-post-rd\n"
     ]
    },
    {
     "data": {
      "application/vnd.jupyter.widget-view+json": {
       "model_id": "09ff99d5955d4877ae9fd88768de7edf",
       "version_major": 2,
       "version_minor": 0
      },
      "text/plain": [
       "Parsing Locations In ky:   0%|          | 0/182 [00:00<?, ?it/s]"
      ]
     },
     "metadata": {},
     "output_type": "display_data"
    },
    {
     "name": "stdout",
     "output_type": "stream",
     "text": [
      "https://restaurants.subway.com/united-states/ky/ashland/6515-us-highway-60-west\n",
      "https://restaurants.subway.com/united-states/ky/bardstown/141-w-john-rowan\n",
      "https://restaurants.subway.com/united-states/ky/florence/8460-us-hwy-42\n",
      "https://restaurants.subway.com/united-states/ky/la-grange/4101-w-highway-146\n",
      "https://restaurants.subway.com/united-states/ky/lancaster/1-public-square\n",
      "https://restaurants.subway.com/united-states/ky/louisville/719-s-brook-st\n",
      "https://restaurants.subway.com/united-states/ky/nicholasville/109-springdale-dr\n",
      "https://restaurants.subway.com/united-states/ky/richmond/521-lancaster-avecase\n",
      "https://restaurants.subway.com/united-states/ky/somerset/300-sam-walton-drrive\n"
     ]
    },
    {
     "data": {
      "application/vnd.jupyter.widget-view+json": {
       "model_id": "dd4b89bf448544d39d12450ea4cdc286",
       "version_major": 2,
       "version_minor": 0
      },
      "text/plain": [
       "Parsing Locations In oh:   0%|          | 0/441 [00:00<?, ?it/s]"
      ]
     },
     "metadata": {},
     "output_type": "display_data"
    },
    {
     "name": "stdout",
     "output_type": "stream",
     "text": [
      "https://restaurants.subway.com/united-states/oh/akron/2635-gilchrest-road\n",
      "https://restaurants.subway.com/united-states/oh/akron/3983-south-main-street\n",
      "https://restaurants.subway.com/united-states/oh/akron/904-tallmadge-ave\n",
      "https://restaurants.subway.com/united-states/oh/alliance/2700-west-state-street\n",
      "https://restaurants.subway.com/united-states/oh/antwerp/104-s-main-st\n",
      "https://restaurants.subway.com/united-states/oh/batavia/4200-clermont-college-drive\n",
      "https://restaurants.subway.com/united-states/oh/beavercreek/2495-commons-boulevard\n",
      "https://restaurants.subway.com/united-states/oh/bellville/14-mill-rd\n",
      "https://restaurants.subway.com/united-states/oh/broadview-heights/1100-royalton-rd\n",
      "https://restaurants.subway.com/united-states/oh/canton/4004-tuscarawas-street-west\n",
      "https://restaurants.subway.com/united-states/oh/cleveland/5300-riverside-dr\n",
      "https://restaurants.subway.com/united-states/oh/cleveland/6551-broadway-ave\n",
      "https://restaurants.subway.com/united-states/oh/cleveland/7917-euclid-ave\n",
      "https://restaurants.subway.com/united-states/oh/columbus/1952-n-high-street\n",
      "https://restaurants.subway.com/united-states/oh/columbus/2910-e-main-st\n",
      "https://restaurants.subway.com/united-states/oh/columbus/53-s-grant-st\n",
      "https://restaurants.subway.com/united-states/oh/cuyahoga-falls/4041-state-rd\n",
      "https://restaurants.subway.com/united-states/oh/elyria/1005-n-abbe-rd\n",
      "https://restaurants.subway.com/united-states/oh/fremont/1744-tiffin-rd\n",
      "https://restaurants.subway.com/united-states/oh/gahanna/110-granville-st\n",
      "https://restaurants.subway.com/united-states/oh/garfield-heights/4542-east-131st-st\n",
      "https://restaurants.subway.com/united-states/oh/granville/115-e-elm-st\n",
      "https://restaurants.subway.com/united-states/oh/hicksville/103-w-high-st\n",
      "https://restaurants.subway.com/united-states/oh/huber-heights/7817-wayne-town-blvd\n",
      "https://restaurants.subway.com/united-states/oh/lisbon/119-e-lincoln-way\n",
      "https://restaurants.subway.com/united-states/oh/macedonia/8160-macedonia-commons-blvd\n",
      "https://restaurants.subway.com/united-states/oh/massillon/1-massillon-market-place\n",
      "https://restaurants.subway.com/united-states/oh/middleburg-heights/7214-pearl-rd\n",
      "https://restaurants.subway.com/united-states/oh/new-concord/15-w-main-st\n",
      "https://restaurants.subway.com/united-states/oh/new-richmond/1041-old-us-hwy-52\n",
      "https://restaurants.subway.com/united-states/oh/north-canton/4300-4304-portage-st-nw\n",
      "https://restaurants.subway.com/united-states/oh/ottoville/190-a-west-third-street\n",
      "https://restaurants.subway.com/united-states/oh/parma-heights/6370-york-rd\n",
      "https://restaurants.subway.com/united-states/oh/pepper-pike/30579-pinetree-rd\n",
      "https://restaurants.subway.com/united-states/oh/put-in-bay/272-delaware-ave\n",
      "https://restaurants.subway.com/united-states/oh/ravenna/1052-w-main-st\n",
      "https://restaurants.subway.com/united-states/oh/ravenna/2600-state-route-59\n",
      "https://restaurants.subway.com/united-states/oh/rockford/101-n-main-st\n",
      "https://restaurants.subway.com/united-states/oh/south-euclid/4265-monticello-blvd\n",
      "https://restaurants.subway.com/united-states/oh/spencerville/106-e-4th-st\n",
      "https://restaurants.subway.com/united-states/oh/st-clairsville/50706-national-rd\n",
      "https://restaurants.subway.com/united-states/oh/stow/3022-graham-rd\n",
      "https://restaurants.subway.com/united-states/oh/streetsboro/905-singletary-drive\n",
      "https://restaurants.subway.com/united-states/oh/sunbury/747-w-cherry-street\n",
      "https://restaurants.subway.com/united-states/oh/toledo/1465-secor-road\n",
      "https://restaurants.subway.com/united-states/oh/toledo/4400-chrysler-drive-51805-0\n",
      "https://restaurants.subway.com/united-states/oh/toledo/648-main-st\n",
      "https://restaurants.subway.com/united-states/oh/toledo/812-matzinger-rd\n",
      "https://restaurants.subway.com/united-states/oh/twinsburg/8027-darrow-rd\n",
      "https://restaurants.subway.com/united-states/oh/university-heights/13888-cedar-rd\n",
      "https://restaurants.subway.com/united-states/oh/westlake/30325-detroit-rd\n",
      "https://restaurants.subway.com/united-states/oh/xenia/572-w-main-st\n",
      "https://restaurants.subway.com/united-states/oh/youngstown/3500-canfield-rd\n"
     ]
    },
    {
     "data": {
      "application/vnd.jupyter.widget-view+json": {
       "model_id": "7e712a73162e4e699d940205ac6c452c",
       "version_major": 2,
       "version_minor": 0
      },
      "text/plain": [
       "Parsing Locations In wi:   0%|          | 0/267 [00:00<?, ?it/s]"
      ]
     },
     "metadata": {},
     "output_type": "display_data"
    },
    {
     "name": "stdout",
     "output_type": "stream",
     "text": [
      "https://restaurants.subway.com/united-states/wi/algoma/2217-lake-st\n",
      "https://restaurants.subway.com/united-states/wi/altoona/1027-n-hillcrest-pkwy\n",
      "https://restaurants.subway.com/united-states/wi/appleton/105-w-northland-ave\n",
      "https://restaurants.subway.com/united-states/wi/appleton/318-w-college-ave\n",
      "https://restaurants.subway.com/united-states/wi/belgium/119-main-st\n",
      "https://restaurants.subway.com/united-states/wi/brookfield/15375-bluemound-rd\n",
      "https://restaurants.subway.com/united-states/wi/chippewa-falls/2986-commercial-blvd\n",
      "https://restaurants.subway.com/united-states/wi/clinton/503-peck-ave\n",
      "https://restaurants.subway.com/united-states/wi/delavan/1741-east-geneva-st\n",
      "https://restaurants.subway.com/united-states/wi/durand/300-w-prospect-street\n",
      "https://restaurants.subway.com/united-states/wi/eau-claire/2831-hendrickson-dr\n",
      "https://restaurants.subway.com/united-states/wi/florence/1000-central-ave\n",
      "https://restaurants.subway.com/united-states/wi/fort-atkinson/1220-janesville-ave\n",
      "https://restaurants.subway.com/united-states/wi/green-bay/2512-steffens-ct\n",
      "https://restaurants.subway.com/united-states/wi/green-bay/303-bay-park-square\n",
      "https://restaurants.subway.com/united-states/wi/hubertus/1241-hwy-175\n",
      "https://restaurants.subway.com/united-states/wi/iola/115-meadow-road\n",
      "https://restaurants.subway.com/united-states/wi/janesville/2900-deerfield-dr\n",
      "https://restaurants.subway.com/united-states/wi/lakewood/15345-s-hwy-32\n",
      "https://restaurants.subway.com/united-states/wi/lomira/400-east-ave\n",
      "https://restaurants.subway.com/united-states/wi/mercer/5116-n-hwy-51\n",
      "https://restaurants.subway.com/united-states/wi/milwaukee/2970-south-chase-avenue\n",
      "https://restaurants.subway.com/united-states/wi/milwaukee/5401-n-lovers-lane-rd\n",
      "https://restaurants.subway.com/united-states/wi/milwaukee/6311-s-13th-st\n",
      "https://restaurants.subway.com/united-states/wi/milwaukee/9109-w-burleigh-st\n",
      "https://restaurants.subway.com/united-states/wi/neenah/224-w-wisconsin-ave\n",
      "https://restaurants.subway.com/united-states/wi/new-berlin/15415-w-national-ave\n",
      "https://restaurants.subway.com/united-states/wi/new-holstein/2305-calumet-dr\n",
      "https://restaurants.subway.com/united-states/wi/oak-creek/2191-e-rawson-avenue\n",
      "https://restaurants.subway.com/united-states/wi/oostburg/948-center-st\n",
      "https://restaurants.subway.com/united-states/wi/richfield/n-128-w-21760-holy-hill-rd\n",
      "https://restaurants.subway.com/united-states/wi/stevens-point/28-park-ridge-dr\n",
      "https://restaurants.subway.com/united-states/wi/sturgeon-bay/1463-egg-harbor-rd\n",
      "https://restaurants.subway.com/united-states/wi/sun-prairie/4711-county-hwy-tt\n",
      "https://restaurants.subway.com/united-states/wi/watertown/1303-memorial-dr\n",
      "https://restaurants.subway.com/united-states/wi/wausau/151101-county-road-nn\n"
     ]
    },
    {
     "data": {
      "application/vnd.jupyter.widget-view+json": {
       "model_id": "294f8023695347a6bb972029ebd66b12",
       "version_major": 2,
       "version_minor": 0
      },
      "text/plain": [
       "Parsing Locations In or:   0%|          | 0/113 [00:00<?, ?it/s]"
      ]
     },
     "metadata": {},
     "output_type": "display_data"
    },
    {
     "name": "stdout",
     "output_type": "stream",
     "text": [
      "https://restaurants.subway.com/united-states/or/banks/12350-nw-main-st\n",
      "https://restaurants.subway.com/united-states/or/beaverton/17040-sw-whitley-way\n",
      "https://restaurants.subway.com/united-states/or/canyonville/165-main-street\n",
      "https://restaurants.subway.com/united-states/or/eugene/1079-valley-river-way\n",
      "https://restaurants.subway.com/united-states/or/gladstone/19516-se-mcloughlin-blvd\n",
      "https://restaurants.subway.com/united-states/or/hillsboro/2020-ne-cornell-rd\n",
      "https://restaurants.subway.com/united-states/or/klamath-falls/3201-campus-dr\n",
      "https://restaurants.subway.com/united-states/or/lincoln-city/2185-nw-highway-101\n",
      "https://restaurants.subway.com/united-states/or/medford/950-n-phoenix-rd\n",
      "https://restaurants.subway.com/united-states/or/myrtle-creek/845-&-849-south-main-street\n",
      "https://restaurants.subway.com/united-states/or/north-plains/10175-nw-glencoe-rd\n",
      "https://restaurants.subway.com/united-states/or/oregon-city/1900-se-mcloughlin-blvd\n",
      "https://restaurants.subway.com/united-states/or/portland/10643-ne-sandy-blvd\n",
      "https://restaurants.subway.com/united-states/or/portland/1926-ne-sandy-blvd\n",
      "https://restaurants.subway.com/united-states/or/portland/4711a-north-lagoon-ave\n",
      "https://restaurants.subway.com/united-states/or/portland/4729-ne-columbia-blvd\n",
      "https://restaurants.subway.com/united-states/or/portland/9377-cascades-parkway\n",
      "https://restaurants.subway.com/united-states/or/rainier/101-5th-st-west\n",
      "https://restaurants.subway.com/united-states/or/roseburg/2345-nw-stewart-parkway\n",
      "https://restaurants.subway.com/united-states/or/roseburg/4872-grange-road\n",
      "https://restaurants.subway.com/united-states/or/salem/1245-columbia-street\n",
      "https://restaurants.subway.com/united-states/or/sherwood/21320-sw-langer-farms-pkwy\n",
      "https://restaurants.subway.com/united-states/or/sisters/620-n-arrowleaf-trail\n",
      "https://restaurants.subway.com/united-states/or/springfield/774-main-street\n",
      "https://restaurants.subway.com/united-states/or/sunriver/56896-venture-lane\n",
      "https://restaurants.subway.com/united-states/or/talent/160-n-pacific-highway\n",
      "https://restaurants.subway.com/united-states/or/troutdale/450-nw-257th-avenue\n",
      "https://restaurants.subway.com/united-states/or/welches/70000-e-highway-26\n",
      "https://restaurants.subway.com/united-states/or/wilsonville/30060-sw-boones-ferry-road\n",
      "https://restaurants.subway.com/united-states/or/woodburn/1001-n-arney-road\n"
     ]
    },
    {
     "data": {
      "application/vnd.jupyter.widget-view+json": {
       "model_id": "b8d1a8fe43f0405ba6af24f7f923972a",
       "version_major": 2,
       "version_minor": 0
      },
      "text/plain": [
       "Parsing Locations In nd:   0%|          | 0/34 [00:00<?, ?it/s]"
      ]
     },
     "metadata": {},
     "output_type": "display_data"
    },
    {
     "name": "stdout",
     "output_type": "stream",
     "text": [
      "https://restaurants.subway.com/united-states/nd/fargo/115-broadway\n",
      "https://restaurants.subway.com/united-states/nd/grand-forks/3341-32nd-ave-south\n",
      "https://restaurants.subway.com/united-states/nd/harvey/2571-25th-street-ne\n",
      "https://restaurants.subway.com/united-states/nd/hillsboro/22-6th-street-nw\n",
      "https://restaurants.subway.com/united-states/nd/jamestown/909-7th-ave-se\n"
     ]
    },
    {
     "data": {
      "application/vnd.jupyter.widget-view+json": {
       "model_id": "54f2a81213504137af6ee0d0a6e8ac5d",
       "version_major": 2,
       "version_minor": 0
      },
      "text/plain": [
       "Parsing Locations In ar:   0%|          | 0/138 [00:00<?, ?it/s]"
      ]
     },
     "metadata": {},
     "output_type": "display_data"
    },
    {
     "name": "stdout",
     "output_type": "stream",
     "text": [
      "https://restaurants.subway.com/united-states/ar/ashdown/1160-s-constitution-hwy-71\n",
      "https://restaurants.subway.com/united-states/ar/corning/105-n-missouri\n",
      "https://restaurants.subway.com/united-states/ar/little-rock/16800-chenal-parkway\n",
      "https://restaurants.subway.com/united-states/ar/mt-ida/34-marina-dr\n",
      "https://restaurants.subway.com/united-states/ar/newport/3210-hwy-367-north\n",
      "https://restaurants.subway.com/united-states/ar/rector/218-east-9th-st\n",
      "https://restaurants.subway.com/united-states/ar/rogers/2301-w-walnut-st\n",
      "https://restaurants.subway.com/united-states/ar/star-city/700-n-lincoln-street\n"
     ]
    },
    {
     "data": {
      "application/vnd.jupyter.widget-view+json": {
       "model_id": "7e8348a0f5d24add909ef6f6e606a1a9",
       "version_major": 2,
       "version_minor": 0
      },
      "text/plain": [
       "Parsing Locations In in:   0%|          | 0/253 [00:00<?, ?it/s]"
      ]
     },
     "metadata": {},
     "output_type": "display_data"
    },
    {
     "name": "stdout",
     "output_type": "stream",
     "text": [
      "https://restaurants.subway.com/united-states/in/albion/901-n-ridge-rd\n",
      "https://restaurants.subway.com/united-states/in/clarksville/highway-131\n",
      "https://restaurants.subway.com/united-states/in/edinburgh/gatling-streeet\n",
      "https://restaurants.subway.com/united-states/in/fort-wayne/425-e-paulding-rd\n",
      "https://restaurants.subway.com/united-states/in/fort-wayne/4935-bluffton-rd\n",
      "https://restaurants.subway.com/united-states/in/highland/2305-main-street\n",
      "https://restaurants.subway.com/united-states/in/indianapolis/3200-cold-spring\n",
      "https://restaurants.subway.com/united-states/in/indianapolis/421-north-alabama\n",
      "https://restaurants.subway.com/united-states/in/indianapolis/4607-s-harding-st\n",
      "https://restaurants.subway.com/united-states/in/indianapolis/7137-n-michigan-rd\n",
      "https://restaurants.subway.com/united-states/in/logansport/3424-e-market-street\n",
      "https://restaurants.subway.com/united-states/in/mishawaka/2315-lincolnway-w\n",
      "https://restaurants.subway.com/united-states/in/new-albany/3400-grantline-rd\n",
      "https://restaurants.subway.com/united-states/in/plymouth/2505-n-oak-drive\n",
      "https://restaurants.subway.com/united-states/in/valparaiso/1655-morthland-ave\n",
      "https://restaurants.subway.com/united-states/in/west-lafayette/135-s-chauncey\n",
      "https://restaurants.subway.com/united-states/in/westfield/201-e-main-st\n"
     ]
    },
    {
     "data": {
      "application/vnd.jupyter.widget-view+json": {
       "model_id": "4c649056a90e42ad84fcb87201047509",
       "version_major": 2,
       "version_minor": 0
      },
      "text/plain": [
       "Parsing Locations In mn:   0%|          | 0/241 [00:00<?, ?it/s]"
      ]
     },
     "metadata": {},
     "output_type": "display_data"
    },
    {
     "name": "stdout",
     "output_type": "stream",
     "text": [
      "https://restaurants.subway.com/united-states/mn/arden-hills/3673-lexington-avenue-north\n",
      "https://restaurants.subway.com/united-states/mn/blaine/4369-ball-rd\n",
      "https://restaurants.subway.com/united-states/mn/brainerd/hwys-210-and-25\n",
      "https://restaurants.subway.com/united-states/mn/burnsville/1100-county-rd-42\n",
      "https://restaurants.subway.com/united-states/mn/burnsville/13700-13720-county-rd-11\n",
      "https://restaurants.subway.com/united-states/mn/cook/221-s-hwy-53\n",
      "https://restaurants.subway.com/united-states/mn/cottage-grove/7430-80th-st\n",
      "https://restaurants.subway.com/united-states/mn/eden-prairie/9633-anderson-lakes-pkwy\n",
      "https://restaurants.subway.com/united-states/mn/fosston/511-1st-st-west\n",
      "https://restaurants.subway.com/united-states/mn/ham-lake/1444-147th-ave-ne\n",
      "https://restaurants.subway.com/united-states/mn/hibbing/12080-hwy-169\n",
      "https://restaurants.subway.com/united-states/mn/kenyon/701-2nd-st\n",
      "https://restaurants.subway.com/united-states/mn/little-canada/3340-rice-st\n",
      "https://restaurants.subway.com/united-states/mn/milaca/410-10th-ave-se\n",
      "https://restaurants.subway.com/united-states/mn/minneapolis/1400-se-5th-street\n",
      "https://restaurants.subway.com/united-states/mn/minneapolis/4-oak-st-&-1925-university\n",
      "https://restaurants.subway.com/united-states/mn/monticello/9320-cedar-st\n",
      "https://restaurants.subway.com/united-states/mn/mountain-iron/8580-rock-ridge-drive\n",
      "https://restaurants.subway.com/united-states/mn/rochester/102-20th-street-se\n",
      "https://restaurants.subway.com/united-states/mn/rochester/155-1st-ave-sw\n",
      "https://restaurants.subway.com/united-states/mn/rochester/3456-east-circle-dr-ne\n",
      "https://restaurants.subway.com/united-states/mn/sartell/1091-2nd-street-south\n",
      "https://restaurants.subway.com/united-states/mn/shakopee/valleyfair-drive\n",
      "https://restaurants.subway.com/united-states/mn/st-paul/599-university-ave\n",
      "https://restaurants.subway.com/united-states/mn/st-paul/857-selby-avenue\n",
      "https://restaurants.subway.com/united-states/mn/st-paul/945-rice-st\n"
     ]
    },
    {
     "data": {
      "application/vnd.jupyter.widget-view+json": {
       "model_id": "7aa8f190eafc46cc99ca8406dcd4ac19",
       "version_major": 2,
       "version_minor": 0
      },
      "text/plain": [
       "Parsing Locations In ct:   0%|          | 0/128 [00:00<?, ?it/s]"
      ]
     },
     "metadata": {},
     "output_type": "display_data"
    },
    {
     "name": "stdout",
     "output_type": "stream",
     "text": [
      "https://restaurants.subway.com/united-states/ct/bridgeport/244-university-avenue\n",
      "https://restaurants.subway.com/united-states/ct/canaan/101-church-st\n",
      "https://restaurants.subway.com/united-states/ct/danbury/73-mill-plain-rd\n",
      "https://restaurants.subway.com/united-states/ct/deep-river/83-main-st\n",
      "https://restaurants.subway.com/united-states/ct/east-hartford/1210-main-street\n",
      "https://restaurants.subway.com/united-states/ct/enfield/323-hazard-avenue\n",
      "https://restaurants.subway.com/united-states/ct/griswold/832-voluntown-rd\n",
      "https://restaurants.subway.com/united-states/ct/groton/967-poquonnock-rd\n",
      "https://restaurants.subway.com/united-states/ct/hamden/2411-whitney-avenue\n",
      "https://restaurants.subway.com/united-states/ct/hebron/43-main-st\n",
      "https://restaurants.subway.com/united-states/ct/manchester/288-center-st\n",
      "https://restaurants.subway.com/united-states/ct/meriden/325-chamberlain-hwy\n",
      "https://restaurants.subway.com/united-states/ct/new-britain/260-newington-ave\n",
      "https://restaurants.subway.com/united-states/ct/new-fairfield/28-route-39\n",
      "https://restaurants.subway.com/united-states/ct/new-milford/80-park-lane-rd\n",
      "https://restaurants.subway.com/united-states/ct/plainfield/15-e-main-st\n",
      "https://restaurants.subway.com/united-states/ct/prospect/28-waterbury-road\n",
      "https://restaurants.subway.com/united-states/ct/ridgefield/632-danbury-rd\n",
      "https://restaurants.subway.com/united-states/ct/south-windham/881\n",
      "https://restaurants.subway.com/united-states/ct/southbury/14-oak-tree-rd\n",
      "https://restaurants.subway.com/united-states/ct/southport/3363-post-road\n",
      "https://restaurants.subway.com/united-states/ct/stamford/417-shippan-avenue\n",
      "https://restaurants.subway.com/united-states/ct/storrs/125b-n-eagleville-rd\n",
      "https://restaurants.subway.com/united-states/ct/waterford/850-hartford-turnpike\n",
      "https://restaurants.subway.com/united-states/ct/west-hartford/1037-boulevard\n",
      "https://restaurants.subway.com/united-states/ct/west-hartford/200-bloomfield-ave-village\n",
      "https://restaurants.subway.com/united-states/ct/westport/940-post-road-east\n"
     ]
    }
   ],
   "source": [
    "count_dict = {}\n",
    "store_list = []\n",
    "\n",
    "for i in tqdm(range(len(states_df)), desc=\"Parsing States\"):\n",
    "    # Get State code\n",
    "    state_store_list = []\n",
    "    state_code = states_df.iloc[i][\"STUSPS\"].lower()\n",
    "\n",
    "    # Skip Territories\n",
    "    if state_code in [\"pr\", \"as\", \"vi\", \"gu\", \"mp\"]:\n",
    "        continue\n",
    "\n",
    "    # If File exists continue\n",
    "    if os.path.isfile(f\"data/states/{state_code}.gpkg\"):\n",
    "        continue\n",
    "\n",
    "    state_url = f\"{url_root}/united-states/{state_code}\"\n",
    "    state_r = scraper.get(state_url)\n",
    "\n",
    "    if state_r.status_code != 200:\n",
    "        print(states_df.iloc[i][\"NAME\"])\n",
    "        print(state_url)\n",
    "        continue\n",
    "\n",
    "    soup = BeautifulSoup(state_r.text, \"html.parser\")\n",
    "    locations_as = soup.find_all(\"a\", {\"class\": \"Directory-listLink\"})\n",
    "\n",
    "    # Parse all locations in a state\n",
    "    for locations_a in tqdm(locations_as, desc=f\"Parsing Locations In {state_code}\"):\n",
    "        href = locations_a.attrs[\"href\"]\n",
    "        count = int(re.findall(r\"\\d+\", locations_a.attrs[\"data-count\"])[0])\n",
    "        location_url = href.replace(\"..\", url_root)\n",
    "        if count == 1:\n",
    "            r_location = scraper.get(location_url)\n",
    "            location_soup = BeautifulSoup(r_location.text, \"html.parser\")\n",
    "            tbody = location_soup.find(\"tbody\")\n",
    "            schedule = list(\n",
    "                set(\n",
    "                    [\n",
    "                        td.text\n",
    "                        for td in tbody.find_all(\n",
    "                            \"td\", {\"class\": \"c-hours-details-row-intervals\"}\n",
    "                        )\n",
    "                    ]\n",
    "                )\n",
    "            )\n",
    "            if len(schedule) == 1 and schedule[0] == \"Closed\":\n",
    "                print(location_url)\n",
    "                continue\n",
    "            point = get_coords(location_soup)\n",
    "            store_dict = {\n",
    "                \"STATE\": state_code,\n",
    "                \"geometry\": point,\n",
    "            }\n",
    "            store_list.append(store_dict)\n",
    "            state_store_list.append(store_dict)\n",
    "        else:\n",
    "            r_location = scraper.get(location_url)\n",
    "            location_soup = BeautifulSoup(r_location.text, \"html.parser\")\n",
    "            locations_divs = location_soup.find_all(\n",
    "                \"div\", {\"class\": \"Teaser-innerWrapper\"}\n",
    "            )\n",
    "\n",
    "            # Multiple stores in locations, parse the stores per location\n",
    "            for location_div in locations_divs:\n",
    "                try:\n",
    "                    location_a = location_div.find(\"a\")\n",
    "                    location_url = location_a.attrs[\"href\"].replace(\"../..\", url_root)\n",
    "                    r_store = scraper.get(location_url)\n",
    "                    store_soup = BeautifulSoup(r_store.text, \"html.parser\")\n",
    "                    tbody = store_soup.find(\"tbody\")\n",
    "                    schedule = list(\n",
    "                        set(\n",
    "                            [\n",
    "                                td.text\n",
    "                                for td in tbody.find_all(\n",
    "                                    \"td\", {\"class\": \"c-hours-details-row-intervals\"}\n",
    "                                )\n",
    "                            ]\n",
    "                        )\n",
    "                    )\n",
    "                    if len(schedule) == 1 and schedule[0] == \"Closed\":\n",
    "                        print(location_url)\n",
    "                        continue\n",
    "                    point = get_coords(store_soup)\n",
    "                    store_dict = {\n",
    "                        \"STATE\": state_code,\n",
    "                        \"geometry\": point,\n",
    "                    }\n",
    "                    store_list.append(store_dict)\n",
    "                    state_store_list.append(store_dict)\n",
    "                except Exception as e:\n",
    "                    print(e, location_url)\n",
    "                time.sleep(random.uniform(0.01, 0.5))\n",
    "\n",
    "    if state_store_list:\n",
    "        subway_state_gdf = gpd.GeoDataFrame(state_store_list, crs=4326)\n",
    "        subway_state_gdf.to_file(f\"data/states/{state_code}.gpkg\")\n",
    "\n",
    "    time.sleep(random.uniform(0.01, 0.25))"
   ]
  },
  {
   "cell_type": "code",
   "execution_count": 12,
   "id": "95883a0c-210f-4b3c-90ee-2cb376830f48",
   "metadata": {},
   "outputs": [],
   "source": [
    "subway_gdfs = []\n",
    "states_path = \"data/states\"\n",
    "for file in os.listdir(\"data/states\"):\n",
    "    constructed_path = os.path.join(states_path, file)\n",
    "    if constructed_path.endswith(\".gpkg\"):\n",
    "        subway_gdf = gpd.read_file(constructed_path)\n",
    "        subway_gdfs.append(subway_gdf)"
   ]
  },
  {
   "cell_type": "code",
   "execution_count": 13,
   "id": "cc9f2287-bb86-4e94-9f80-7020e8581aa4",
   "metadata": {},
   "outputs": [],
   "source": [
    "subway_gdf = gpd.GeoDataFrame(pd.concat(subway_gdfs, ignore_index=True))\n",
    "subway_gdf = subway_gdf.to_crs(9311)\n",
    "subway_gdf.to_file(f\"data/stores.gpkg\")"
   ]
  },
  {
   "cell_type": "code",
   "execution_count": 14,
   "id": "603524cb-75b6-48a7-86aa-b979955ef7a2",
   "metadata": {},
   "outputs": [],
   "source": [
    "subway_by_state_series = subway_gdf.groupby([\"STATE\"]).size()"
   ]
  },
  {
   "cell_type": "code",
   "execution_count": 15,
   "id": "bed65fb6-1966-4a07-b497-247596cefff1",
   "metadata": {},
   "outputs": [],
   "source": [
    "subways_by_state_df = pd.DataFrame(\n",
    "    {\n",
    "        \"STUSPS\": subway_by_state_series.index,\n",
    "        \"COUNT\": subway_by_state_series.values,\n",
    "    }\n",
    ")"
   ]
  },
  {
   "cell_type": "code",
   "execution_count": 16,
   "id": "e410b754-fd76-4e57-9662-6dc672d95458",
   "metadata": {},
   "outputs": [],
   "source": [
    "subways_by_state_df[\"STUSPS\"] = subways_by_state_df[\"STUSPS\"].str.upper()"
   ]
  },
  {
   "cell_type": "code",
   "execution_count": 17,
   "id": "c062806b-5f76-4d7e-a226-31383a266b6a",
   "metadata": {},
   "outputs": [],
   "source": [
    "subways_by_states_gdf = states_with_population_df.merge(\n",
    "    subways_by_state_df, on=\"STUSPS\", how=\"inner\"\n",
    ")"
   ]
  },
  {
   "cell_type": "code",
   "execution_count": 18,
   "id": "8e8b581c-4e0c-40b8-81a9-4ea014470b40",
   "metadata": {},
   "outputs": [],
   "source": [
    "subways_by_states_gdf[\"per_1000\"] = subways_by_states_gdf[\"COUNT\"] / (\n",
    "    subways_by_states_gdf[\"POPULATION\"] / 1000\n",
    ")\n",
    "subways_by_states_gdf[\"per_10k\"] = subways_by_states_gdf[\"COUNT\"] / (\n",
    "    subways_by_states_gdf[\"POPULATION\"] / 10_000\n",
    ")\n",
    "subways_by_states_gdf[\"per_100k\"] = (\n",
    "    (subways_by_states_gdf[\"COUNT\"] / (subways_by_states_gdf[\"POPULATION\"] / 100000))\n",
    "    .round(decimals=0)\n",
    "    .astype(int)\n",
    ")\n",
    "subways_by_states_gdf[\"per_500k\"] = subways_by_states_gdf[\"COUNT\"] / (\n",
    "    subways_by_states_gdf[\"POPULATION\"] / 500_000\n",
    ")\n",
    "subways_by_states_gdf[\"per_1m\"] = (\n",
    "    (subways_by_states_gdf[\"COUNT\"] / (subways_by_states_gdf[\"POPULATION\"] / 1_000_000))\n",
    "    .round(decimals=0)\n",
    "    .astype(int)\n",
    ")"
   ]
  },
  {
   "cell_type": "code",
   "execution_count": 19,
   "id": "237a0e6a-ccc2-4f3b-baad-d36ce4ecc481",
   "metadata": {},
   "outputs": [],
   "source": [
    "subways_by_states_gdf = subways_by_states_gdf.dropna()"
   ]
  },
  {
   "cell_type": "code",
   "execution_count": 21,
   "id": "944acfaa-313b-4a9f-aecc-53fe95e188be",
   "metadata": {},
   "outputs": [],
   "source": [
    "subways_by_states_gdf = subways_by_states_gdf.to_crs(9311)\n",
    "subways_by_states_gdf.to_file(f\"data/stores_by_states.gpkg\")"
   ]
  },
  {
   "cell_type": "code",
   "execution_count": null,
   "id": "4857fb82-2869-4020-8a57-c1983c9055b6",
   "metadata": {},
   "outputs": [],
   "source": []
  }
 ],
 "metadata": {
  "kernelspec": {
   "display_name": "Python 3 (ipykernel)",
   "language": "python",
   "name": "python3"
  },
  "language_info": {
   "codemirror_mode": {
    "name": "ipython",
    "version": 3
   },
   "file_extension": ".py",
   "mimetype": "text/x-python",
   "name": "python",
   "nbconvert_exporter": "python",
   "pygments_lexer": "ipython3",
   "version": "3.11.11"
  }
 },
 "nbformat": 4,
 "nbformat_minor": 5
}
