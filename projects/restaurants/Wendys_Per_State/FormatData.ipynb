{
 "cells": [
  {
   "cell_type": "code",
   "execution_count": 2,
   "id": "c86ad9f6-4aaf-469e-a56e-363083168e1e",
   "metadata": {},
   "outputs": [],
   "source": [
    "import os\n",
    "import re\n",
    "import random\n",
    "import time"
   ]
  },
  {
   "cell_type": "code",
   "execution_count": 3,
   "id": "10fa1d09-7717-4ea8-9ce7-1cef37b4da9c",
   "metadata": {},
   "outputs": [],
   "source": [
    "import cloudscraper\n",
    "from bs4 import BeautifulSoup\n",
    "import geopandas as gpd\n",
    "import pandas as pd"
   ]
  },
  {
   "cell_type": "code",
   "execution_count": 4,
   "id": "d22202a0-bf3c-4953-81ce-105a19e002a0",
   "metadata": {},
   "outputs": [],
   "source": [
    "from shapely.geometry import Point\n",
    "from tqdm.notebook import tqdm"
   ]
  },
  {
   "cell_type": "markdown",
   "id": "02e1dfb5-464d-4984-8c84-5599ce9dcd5d",
   "metadata": {},
   "source": [
    "## Get State Data"
   ]
  },
  {
   "cell_type": "code",
   "execution_count": 5,
   "id": "84b53c65-5746-4ab8-8c99-6dfe3e967797",
   "metadata": {},
   "outputs": [],
   "source": [
    "file_path = \"data/cb_2018_us_state_500k/cb_2018_us_state_500k.shp\"\n",
    "states_df = gpd.read_file(file_path)"
   ]
  },
  {
   "cell_type": "code",
   "execution_count": 6,
   "id": "191755a6-eb92-4683-833e-b69f4be9f3f5",
   "metadata": {},
   "outputs": [],
   "source": [
    "states_df = states_df[[\"STUSPS\", \"NAME\", \"geometry\"]]"
   ]
  },
  {
   "cell_type": "markdown",
   "id": "f3ad4feb-2496-4c2f-827b-04c586ef17ba",
   "metadata": {},
   "source": [
    "## Get Wendy's Data"
   ]
  },
  {
   "cell_type": "code",
   "execution_count": 7,
   "id": "4c063aa4-d1b0-400e-a449-8125a2a0596a",
   "metadata": {},
   "outputs": [],
   "source": [
    "scraper = cloudscraper.create_scraper()"
   ]
  },
  {
   "cell_type": "code",
   "execution_count": 8,
   "id": "267af8f6-5ae7-4c32-864b-5f970236c8b8",
   "metadata": {},
   "outputs": [],
   "source": [
    "def get_coords(store_url: str) -> Point:\n",
    "    r = scraper.get(store_url)\n",
    "    soup = BeautifulSoup(r.text, \"html.parser\")\n",
    "    lat = float(soup.find(\"meta\", {\"itemprop\": \"latitude\"}).attrs[\"content\"])\n",
    "    lon = float(soup.find(\"meta\", {\"itemprop\": \"longitude\"}).attrs[\"content\"])\n",
    "    return Point(lon, lat)"
   ]
  },
  {
   "cell_type": "code",
   "execution_count": 40,
   "id": "b1793bb5-26c3-4408-8572-175ba688bb03",
   "metadata": {},
   "outputs": [
    {
     "data": {
      "application/vnd.jupyter.widget-view+json": {
       "model_id": "26a6fd2b5959465ba3b171fc3f2ad686",
       "version_major": 2,
       "version_minor": 0
      },
      "text/plain": [
       "Parsing States:   0%|          | 0/51 [00:00<?, ?it/s]"
      ]
     },
     "metadata": {},
     "output_type": "display_data"
    },
    {
     "data": {
      "application/vnd.jupyter.widget-view+json": {
       "model_id": "08e9f500fd3542e592a68072b75fed24",
       "version_major": 2,
       "version_minor": 0
      },
      "text/plain": [
       "Parsing Locations in DC:   0%|          | 0/1 [00:00<?, ?it/s]"
      ]
     },
     "metadata": {},
     "output_type": "display_data"
    },
    {
     "name": "stdout",
     "output_type": "stream",
     "text": [
      "3 stores\n"
     ]
    }
   ],
   "source": [
    "r = scraper.get(\"https://locations.wendys.com/united-states\")\n",
    "soup = BeautifulSoup(r.text, \"html.parser\")\n",
    "state_as = soup.find_all(\"a\", {\"class\": \"Directory-listLink\"})[:-2]\n",
    "\n",
    "# Parse all locations in a state\n",
    "for state_a in tqdm(state_as, desc=\"Parsing States\"):\n",
    "    state_store_list = []\n",
    "    state_code = state_a[\"href\"].split(\"/\")[1].upper()\n",
    "    state_url = os.path.join(\"https://locations.wendys.com\", state_a[\"href\"])\n",
    "\n",
    "    # If File exists continue\n",
    "    if os.path.isfile(f\"data/states/{state_code}.gpkg\"):\n",
    "        continue\n",
    "\n",
    "    r_state = scraper.get(state_url)\n",
    "\n",
    "    if r_state.status_code != 200:\n",
    "        print(state_code)\n",
    "        continue\n",
    "\n",
    "    soup_state = BeautifulSoup(r_state.text, \"html.parser\")\n",
    "    city_as = soup_state.find_all(\"a\", {\"class\": \"Directory-listLink\"})[:-2]\n",
    "    city_urls = [\n",
    "        \"/\".join(city_a[\"href\"].split(\"/\")[:4]).replace(\n",
    "            \"..\", \"https://locations.wendys.com\"\n",
    "        )\n",
    "        for city_a in city_as\n",
    "    ]\n",
    "\n",
    "    if state_code == \"DC\":\n",
    "        city_urls = [state_url]\n",
    "\n",
    "    for city_url in tqdm(city_urls, desc=f\"Parsing Locations in {state_code}\"):\n",
    "        r_city = scraper.get(city_url)\n",
    "        soup_city = BeautifulSoup(r_city.text, \"html.parser\")\n",
    "        city_as = soup_city.find_all(\"a\", {\"data-ya-track\": \"visitpage\"})\n",
    "        restaurant_urls = [\n",
    "            city_a[\"href\"].replace(\"../..\", \"https://locations.wendys.com\")\n",
    "            for city_a in city_as\n",
    "        ]\n",
    "        for restaurant_url in restaurant_urls:\n",
    "            try:\n",
    "                point = get_coords(restaurant_url)\n",
    "            except Exception as e:\n",
    "                print(restaurant_url, e)\n",
    "            store_dict = {\"STUSPS\": state_code, \"geometry\": point}\n",
    "            state_store_list.append(store_dict)\n",
    "            time.sleep(random.uniform(0.01, 0.5))\n",
    "\n",
    "    if state_store_list:\n",
    "        print(len(state_store_list), \"stores\")\n",
    "        state_dennys_gdf = gpd.GeoDataFrame(state_store_list, crs=4326)\n",
    "        state_dennys_gdf.to_file(f\"data/states/{state_code}.gpkg\")"
   ]
  },
  {
   "cell_type": "code",
   "execution_count": 41,
   "id": "c1d32989-5a24-46f7-954f-a607979d4aa5",
   "metadata": {},
   "outputs": [],
   "source": [
    "wendys_state_gdfs = []\n",
    "states_path = \"data/states\"\n",
    "for file in os.listdir(\"data/states\"):\n",
    "    constructed_path = os.path.join(states_path, file)\n",
    "    if constructed_path.endswith(\".gpkg\"):\n",
    "        wendys_state_gdf = gpd.read_file(constructed_path)\n",
    "        wendys_state_gdfs.append(wendys_state_gdf)"
   ]
  },
  {
   "cell_type": "code",
   "execution_count": 42,
   "id": "8c3dbe83-66a7-4abe-aa82-61170375498c",
   "metadata": {},
   "outputs": [],
   "source": [
    "wendys_gdf = gpd.GeoDataFrame(pd.concat(wendys_state_gdfs, ignore_index=True))"
   ]
  },
  {
   "cell_type": "code",
   "execution_count": 43,
   "id": "82626e84-9c67-4460-a792-9668dbda6768",
   "metadata": {},
   "outputs": [],
   "source": [
    "wendys_gdf = wendys_gdf.to_crs(9311)\n",
    "wendys_gdf.to_file(f\"data/wendys.gpkg\")"
   ]
  },
  {
   "cell_type": "markdown",
   "id": "5a42dfab-fc47-49d7-8092-f08b31392df8",
   "metadata": {},
   "source": [
    "## Get Population Data"
   ]
  },
  {
   "cell_type": "code",
   "execution_count": 44,
   "id": "3cce9c91-abf1-4055-8b9a-5fd1f6cf611f",
   "metadata": {},
   "outputs": [],
   "source": [
    "state_populations = pd.read_excel(\n",
    "    \"data/NST-EST2024-POP.xlsx\", sheet_name=None, engine=\"openpyxl\"\n",
    ")"
   ]
  },
  {
   "cell_type": "code",
   "execution_count": 45,
   "id": "2eaacc28-fa8e-410e-b084-02ce24ec11a1",
   "metadata": {},
   "outputs": [],
   "source": [
    "state_populations_df = state_populations[\"NST-EST2024-POP\"][\n",
    "    [\n",
    "        \"table with row headers in column A and column headers in rows 3 through 4. (leading dots indicate sub-parts)\",\n",
    "        \"Unnamed: 5\",\n",
    "    ]\n",
    "]\n",
    "state_populations_df = state_populations_df.rename(\n",
    "    columns={\n",
    "        \"table with row headers in column A and column headers in rows 3 through 4. (leading dots indicate sub-parts)\": \"NAME\",\n",
    "        \"Unnamed: 5\": \"POPULATION\",\n",
    "    }\n",
    ")\n",
    "state_populations_df[\"NAME\"] = state_populations_df[\"NAME\"].str[1:]"
   ]
  },
  {
   "cell_type": "code",
   "execution_count": 46,
   "id": "2d6342e1-fc3f-4006-8d8a-d7612903a625",
   "metadata": {},
   "outputs": [],
   "source": [
    "states_with_population_df = states_df.merge(state_populations_df, on=\"NAME\", how=\"left\")\n",
    "states_with_population_df = states_with_population_df[\n",
    "    [\"STUSPS\", \"NAME\", \"POPULATION\", \"geometry\"]\n",
    "]"
   ]
  },
  {
   "cell_type": "code",
   "execution_count": 47,
   "id": "94150db1-9ce7-43cb-8c08-3f6d9bb58497",
   "metadata": {},
   "outputs": [],
   "source": [
    "states_with_population_df = states_with_population_df.dropna()"
   ]
  },
  {
   "cell_type": "markdown",
   "id": "af5c5e13-c89d-43ed-8021-13ba93990599",
   "metadata": {},
   "source": [
    "## Merge Data"
   ]
  },
  {
   "cell_type": "code",
   "execution_count": 48,
   "id": "f6900380-39b5-4cca-abf9-b46f7b886f9d",
   "metadata": {},
   "outputs": [],
   "source": [
    "wendys_state_counts_df = pd.DataFrame(\n",
    "    wendys_gdf.groupby(\"STUSPS\").size(), columns=[\"WENDYS\"]\n",
    ").reset_index()"
   ]
  },
  {
   "cell_type": "code",
   "execution_count": 49,
   "id": "8a4afa33-893a-4b6b-8df1-f5151243deeb",
   "metadata": {},
   "outputs": [],
   "source": [
    "wendys_state_counts_df = states_with_population_df.merge(\n",
    "    wendys_state_counts_df, on=\"STUSPS\", how=\"left\"\n",
    ")\n",
    "wendys_state_counts_df = wendys_state_counts_df.fillna(0)"
   ]
  },
  {
   "cell_type": "code",
   "execution_count": 50,
   "id": "f50526e2-4c7a-4d13-8d5e-aaddbeec7751",
   "metadata": {},
   "outputs": [],
   "source": [
    "wendys_state_counts_df[\"per_1000\"] = wendys_state_counts_df[\"WENDYS\"] / (\n",
    "    wendys_state_counts_df[\"POPULATION\"] / 1000\n",
    ")\n",
    "wendys_state_counts_df[\"per_10k\"] = wendys_state_counts_df[\"WENDYS\"] / (\n",
    "    wendys_state_counts_df[\"POPULATION\"] / 10_000\n",
    ")\n",
    "wendys_state_counts_df[\"per_100k\"] = wendys_state_counts_df[\"WENDYS\"] / (\n",
    "    wendys_state_counts_df[\"POPULATION\"] / 100000\n",
    ")\n",
    "wendys_state_counts_df[\"per_500k\"] = wendys_state_counts_df[\"WENDYS\"] / (\n",
    "    wendys_state_counts_df[\"POPULATION\"] / 500_000\n",
    ")\n",
    "wendys_state_counts_df[\"per_1m\"] = wendys_state_counts_df[\"WENDYS\"] / (\n",
    "    wendys_state_counts_df[\"POPULATION\"] / 1_000_000\n",
    ")\n",
    "wendys_state_counts_df[\"per_capita\"] = (\n",
    "    wendys_state_counts_df[\"POPULATION\"] / wendys_state_counts_df[\"WENDYS\"]\n",
    ")"
   ]
  },
  {
   "cell_type": "code",
   "execution_count": 51,
   "id": "4d00c57e-a978-4938-b5f5-cb176b29cf77",
   "metadata": {},
   "outputs": [],
   "source": [
    "wendys_state_counts_df = wendys_state_counts_df.to_crs(9311)"
   ]
  },
  {
   "cell_type": "code",
   "execution_count": 52,
   "id": "f8feb339-fc3c-41f9-8bd8-50ee507bb185",
   "metadata": {},
   "outputs": [],
   "source": [
    "wendys_state_counts_df.to_file(\"data/wendys_per_state.gpkg\")"
   ]
  },
  {
   "cell_type": "code",
   "execution_count": null,
   "id": "6fe12df3-c59b-48b5-bd11-cdbae9436a65",
   "metadata": {},
   "outputs": [],
   "source": []
  },
  {
   "cell_type": "code",
   "execution_count": null,
   "id": "e92773a5-ed1b-4850-b29c-fcc40f9d5289",
   "metadata": {},
   "outputs": [],
   "source": []
  }
 ],
 "metadata": {
  "kernelspec": {
   "display_name": "Python 3 (ipykernel)",
   "language": "python",
   "name": "python3"
  },
  "language_info": {
   "codemirror_mode": {
    "name": "ipython",
    "version": 3
   },
   "file_extension": ".py",
   "mimetype": "text/x-python",
   "name": "python",
   "nbconvert_exporter": "python",
   "pygments_lexer": "ipython3",
   "version": "3.11.11"
  }
 },
 "nbformat": 4,
 "nbformat_minor": 5
}
