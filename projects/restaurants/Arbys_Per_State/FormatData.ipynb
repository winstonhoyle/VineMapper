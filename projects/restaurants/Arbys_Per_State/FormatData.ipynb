{
 "cells": [
  {
   "cell_type": "code",
   "execution_count": 10,
   "id": "bc436e38-234d-44fd-b67b-d1f2974606d3",
   "metadata": {},
   "outputs": [],
   "source": [
    "import cloudscraper\n",
    "import geopandas as gpd\n",
    "import pandas as pd"
   ]
  },
  {
   "cell_type": "code",
   "execution_count": 11,
   "id": "13bbdea5-6ae9-4a3a-937a-12bb704da0f4",
   "metadata": {},
   "outputs": [],
   "source": [
    "from shapely.geometry import Point\n",
    "from tqdm.notebook import tqdm"
   ]
  },
  {
   "cell_type": "markdown",
   "id": "44a3df26-78d3-479c-99a2-c0e1ba91352e",
   "metadata": {},
   "source": [
    "## Get State Data"
   ]
  },
  {
   "cell_type": "code",
   "execution_count": 12,
   "id": "615eeabf-033b-425a-a81f-d7b4dd9e3a3e",
   "metadata": {},
   "outputs": [],
   "source": [
    "file_path = \"data/cb_2018_us_state_500k/cb_2018_us_state_500k.shp\"\n",
    "states_df = gpd.read_file(file_path)"
   ]
  },
  {
   "cell_type": "code",
   "execution_count": 13,
   "id": "502c6bfe-0912-4d37-95b0-47e7a14b468f",
   "metadata": {},
   "outputs": [],
   "source": [
    "states_df = states_df[[\"STUSPS\", \"NAME\", \"geometry\"]]"
   ]
  },
  {
   "cell_type": "markdown",
   "id": "4257620c-13d7-4071-bae2-a5a2aeae5ba7",
   "metadata": {},
   "source": [
    "## Get Population data"
   ]
  },
  {
   "cell_type": "code",
   "execution_count": 14,
   "id": "6c0e7a1d-5a9a-4c10-a5d4-28dc681a8a27",
   "metadata": {},
   "outputs": [],
   "source": [
    "state_populations = pd.read_excel(\n",
    "    \"data/NST-EST2024-POP.xlsx\", sheet_name=None, engine=\"openpyxl\"\n",
    ")"
   ]
  },
  {
   "cell_type": "code",
   "execution_count": 15,
   "id": "2614c2ab-96ec-4304-a287-6fd013fedbbb",
   "metadata": {},
   "outputs": [],
   "source": [
    "state_populations_df = state_populations[\"NST-EST2024-POP\"][\n",
    "    [\n",
    "        \"table with row headers in column A and column headers in rows 3 through 4. (leading dots indicate sub-parts)\",\n",
    "        \"Unnamed: 5\",\n",
    "    ]\n",
    "]\n",
    "state_populations_df = state_populations_df.rename(\n",
    "    columns={\n",
    "        \"table with row headers in column A and column headers in rows 3 through 4. (leading dots indicate sub-parts)\": \"NAME\",\n",
    "        \"Unnamed: 5\": \"POPULATION\",\n",
    "    }\n",
    ")\n",
    "state_populations_df[\"NAME\"] = state_populations_df[\"NAME\"].str[1:]"
   ]
  },
  {
   "cell_type": "code",
   "execution_count": 16,
   "id": "2a1a8b6e-a0bf-486b-b62e-46a23ca718e2",
   "metadata": {},
   "outputs": [],
   "source": [
    "states_with_population_df = states_df.merge(state_populations_df, on=\"NAME\", how=\"left\")\n",
    "states_with_population_df = states_with_population_df[\n",
    "    [\"STUSPS\", \"NAME\", \"POPULATION\", \"geometry\"]\n",
    "]"
   ]
  },
  {
   "cell_type": "markdown",
   "id": "6d2f1ce9-a36c-4292-99a0-ad42032c5ad4",
   "metadata": {},
   "source": [
    "## Get Campground Data"
   ]
  },
  {
   "cell_type": "code",
   "execution_count": 17,
   "id": "9faa75ce-1dcd-44bc-84f2-6eb1011f9727",
   "metadata": {},
   "outputs": [],
   "source": [
    "scraper = cloudscraper.create_scraper()"
   ]
  },
  {
   "cell_type": "code",
   "execution_count": 62,
   "id": "01b0b1f0-e530-4258-b246-253fee5c2379",
   "metadata": {},
   "outputs": [],
   "source": [
    "url = \"https://api.arbys.com/arb/web-exp-api/v1/location\"\n",
    "params = {\n",
    "    \"latitude\": 39.099724,\n",
    "    \"longitude\": -94.578331,\n",
    "    \"radius\": 5000,\n",
    "    \"limit\": 4000,\n",
    "    \"page\": 0,\n",
    "    \"locale\": \"en-us\",\n",
    "}\n",
    "\n",
    "headers = {\n",
    "    \"accept\": \"*/*\",\n",
    "    \"accept-language\": \"en-US,en;q=0.9,ru-RU;q=0.8,ru;q=0.7\",\n",
    "    \"priority\": \"u=1, i\",\n",
    "    \"sec-ch-ua\": '\"Google Chrome\";v=\"135\", \"Not-A.Brand\";v=\"8\", \"Chromium\";v=\"135\"',\n",
    "    \"sec-ch-ua-mobile\": \"?0\",\n",
    "    \"sec-ch-ua-platform\": '\"Windows\"',\n",
    "    \"sec-fetch-dest\": \"empty\",\n",
    "    \"sec-fetch-mode\": \"cors\",\n",
    "    \"sec-fetch-site\": \"same-site\",\n",
    "    \"session-id\": \"\",  # Get from https://www.arbys.com/locations/\n",
    "    \"cookie\": \"\",  # Get from https://www.arbys.com/locations/\n",
    "    \"Referer\": \"https://www.arbys.com/\",\n",
    "    \"Referrer-Policy\": \"strict-origin-when-cross-origin\",\n",
    "}"
   ]
  },
  {
   "cell_type": "code",
   "execution_count": 63,
   "id": "9fbba369-6f5a-4c67-ae10-6e28c8a538d4",
   "metadata": {},
   "outputs": [],
   "source": [
    "r = scraper.get(url=url, params=params, headers=headers)"
   ]
  },
  {
   "cell_type": "code",
   "execution_count": 64,
   "id": "d55170e1-992e-4069-8833-28d5a02eada8",
   "metadata": {},
   "outputs": [],
   "source": [
    "stores_json = r.json()"
   ]
  },
  {
   "cell_type": "code",
   "execution_count": 65,
   "id": "6094e77e-ea4d-48de-aff1-2b1e1e41d9d0",
   "metadata": {},
   "outputs": [
    {
     "data": {
      "application/vnd.jupyter.widget-view+json": {
       "model_id": "f739844db549488aa7a121d99c6eaf76",
       "version_major": 2,
       "version_minor": 0
      },
      "text/plain": [
       "Parsing Stores:   0%|          | 0/3287 [00:00<?, ?it/s]"
      ]
     },
     "metadata": {},
     "output_type": "display_data"
    }
   ],
   "source": [
    "store_dicts = []\n",
    "for store_json in tqdm(stores_json[\"locations\"], desc=\"Parsing Stores\"):\n",
    "    formatted_store_dict = {\n",
    "        \"id\": store_json[\"id\"],\n",
    "        \"STUSPS\": store_json[\"contactDetails\"][\"address\"][\"stateProvinceCode\"],\n",
    "        \"geometry\": Point(\n",
    "            store_json[\"details\"][\"longitude\"], store_json[\"details\"][\"latitude\"]\n",
    "        ),\n",
    "    }\n",
    "    store_dicts.append(formatted_store_dict)"
   ]
  },
  {
   "cell_type": "code",
   "execution_count": 66,
   "id": "30b12c49-3fad-45c5-b19e-bf296b816621",
   "metadata": {},
   "outputs": [],
   "source": [
    "arbys_locations_gdf = gpd.GeoDataFrame(store_dicts, crs=4326)"
   ]
  },
  {
   "cell_type": "code",
   "execution_count": 67,
   "id": "36040f1d-8942-4747-84b1-27f1da782cd2",
   "metadata": {},
   "outputs": [],
   "source": [
    "arbys_locations_gdf.to_file(\"data/arbys_locations.gpkg\")"
   ]
  },
  {
   "cell_type": "code",
   "execution_count": 68,
   "id": "b50ee5fb-0971-4e9c-80c7-d4864976d611",
   "metadata": {},
   "outputs": [],
   "source": [
    "arbys_counts_df = (\n",
    "    pd.DataFrame(arbys_locations_gdf.groupby(\"STUSPS\").size())\n",
    "    .reset_index()\n",
    "    .rename(columns={0: \"arbys\"})\n",
    ")"
   ]
  },
  {
   "cell_type": "markdown",
   "id": "94cb32a2-faf0-40fa-8616-e8f2275eca72",
   "metadata": {},
   "source": [
    "## Combine With States"
   ]
  },
  {
   "cell_type": "code",
   "execution_count": 69,
   "id": "c062806b-5f76-4d7e-a226-31383a266b6a",
   "metadata": {},
   "outputs": [],
   "source": [
    "arbys_counts_gdf = states_with_population_df.merge(\n",
    "    arbys_counts_df, on=\"STUSPS\", how=\"left\"\n",
    ")"
   ]
  },
  {
   "cell_type": "code",
   "execution_count": 70,
   "id": "300ee45e-48b8-48f6-9a3a-efd4904a5efe",
   "metadata": {},
   "outputs": [],
   "source": [
    "arbys_counts_gdf = arbys_counts_gdf.fillna(0)\n",
    "arbys_counts_gdf[\"arbys\"] = arbys_counts_gdf[\"arbys\"].astype(int)"
   ]
  },
  {
   "cell_type": "code",
   "execution_count": 71,
   "id": "8e8b581c-4e0c-40b8-81a9-4ea014470b40",
   "metadata": {},
   "outputs": [],
   "source": [
    "arbys_counts_gdf[\"per_100k\"] = arbys_counts_gdf[\"arbys\"] / (\n",
    "    arbys_counts_gdf[\"POPULATION\"] / 100_000\n",
    ")\n",
    "arbys_counts_gdf[\"per_1m\"] = arbys_counts_gdf[\"arbys\"] / (\n",
    "    arbys_counts_gdf[\"POPULATION\"] / 1_000_000\n",
    ")"
   ]
  },
  {
   "cell_type": "code",
   "execution_count": 72,
   "id": "237a0e6a-ccc2-4f3b-baad-d36ce4ecc481",
   "metadata": {},
   "outputs": [],
   "source": [
    "arbys_counts_gdf = arbys_counts_gdf.fillna(0)"
   ]
  },
  {
   "cell_type": "code",
   "execution_count": 73,
   "id": "c66d3820-67e7-4d50-9d48-3e75073353ef",
   "metadata": {},
   "outputs": [],
   "source": [
    "arbys_counts_gdf = arbys_counts_gdf[\n",
    "    [\"POPULATION\", \"geometry\", \"NAME\", \"per_100k\", \"per_1m\", \"arbys\"]\n",
    "]"
   ]
  },
  {
   "cell_type": "code",
   "execution_count": 74,
   "id": "944acfaa-313b-4a9f-aecc-53fe95e188be",
   "metadata": {},
   "outputs": [],
   "source": [
    "arbys_counts_gdf = arbys_counts_gdf.to_crs(9311)\n",
    "arbys_counts_gdf.to_file(f\"data/arbys_per_state.gpkg\")"
   ]
  },
  {
   "cell_type": "code",
   "execution_count": null,
   "id": "3eba1b99-001c-4de4-9fe1-1a06ea51e118",
   "metadata": {},
   "outputs": [],
   "source": []
  },
  {
   "cell_type": "code",
   "execution_count": null,
   "id": "18b0fa13-51da-4520-9b93-1d58b048b8eb",
   "metadata": {},
   "outputs": [],
   "source": []
  }
 ],
 "metadata": {
  "kernelspec": {
   "display_name": "Python 3 (ipykernel)",
   "language": "python",
   "name": "python3"
  },
  "language_info": {
   "codemirror_mode": {
    "name": "ipython",
    "version": 3
   },
   "file_extension": ".py",
   "mimetype": "text/x-python",
   "name": "python",
   "nbconvert_exporter": "python",
   "pygments_lexer": "ipython3",
   "version": "3.11.11"
  }
 },
 "nbformat": 4,
 "nbformat_minor": 5
}
