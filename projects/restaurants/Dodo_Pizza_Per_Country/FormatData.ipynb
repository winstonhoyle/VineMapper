{
 "cells": [
  {
   "cell_type": "code",
   "execution_count": 134,
   "id": "10fa1d09-7717-4ea8-9ce7-1cef37b4da9c",
   "metadata": {},
   "outputs": [],
   "source": [
    "import country_converter as coco\n",
    "import requests\n",
    "import geopandas as gpd\n",
    "import pandas as pd"
   ]
  },
  {
   "cell_type": "code",
   "execution_count": 135,
   "id": "d22202a0-bf3c-4953-81ce-105a19e002a0",
   "metadata": {},
   "outputs": [],
   "source": [
    "from shapely.geometry import Point\n",
    "from tqdm.notebook import tqdm"
   ]
  },
  {
   "cell_type": "markdown",
   "id": "f3ad4feb-2496-4c2f-827b-04c586ef17ba",
   "metadata": {},
   "source": [
    "## Get DoDo Data"
   ]
  },
  {
   "cell_type": "code",
   "execution_count": 37,
   "id": "953d9043-a51a-4df6-95ba-6c4b93e94601",
   "metadata": {},
   "outputs": [],
   "source": [
    "url = \"https://globalapi.dodopizza.com/api/v1/pizzerias/count\"\n",
    "r = requests.get(url)"
   ]
  },
  {
   "cell_type": "code",
   "execution_count": 38,
   "id": "794d1610-065f-4b86-ba32-74e4f1fa6642",
   "metadata": {},
   "outputs": [],
   "source": [
    "country_codes = [country[\"countryCode\"] for country in r.json()[\"countries\"]]"
   ]
  },
  {
   "cell_type": "code",
   "execution_count": 39,
   "id": "a2f54080-ab67-497e-a5b4-50f037d02f68",
   "metadata": {},
   "outputs": [
    {
     "data": {
      "application/vnd.jupyter.widget-view+json": {
       "model_id": "ce21c29257a648da8664cd2c42fd43fa",
       "version_major": 2,
       "version_minor": 0
      },
      "text/plain": [
       "Parsing Locations:   0%|          | 0/24 [00:00<?, ?it/s]"
      ]
     },
     "metadata": {},
     "output_type": "display_data"
    }
   ],
   "source": [
    "dodo_dfs = []\n",
    "for country_code in tqdm(country_codes, desc=\"Parsing Locations\"):\n",
    "    r = requests.get(f\"https://publicapi.dodois.io/{country_code}/api/v1/unitinfo/all\")\n",
    "    locations = r.json()\n",
    "    dodo_df = pd.DataFrame(locations)\n",
    "    dodo_df[\"CountryCode\"] = country_code\n",
    "    dodo_dfs.append(dodo_df)"
   ]
  },
  {
   "cell_type": "code",
   "execution_count": 40,
   "id": "1cd02a8a-94a9-4f19-a286-e189aa033a41",
   "metadata": {},
   "outputs": [],
   "source": [
    "dodo_df = pd.concat(dodo_dfs, ignore_index=True)"
   ]
  },
  {
   "cell_type": "code",
   "execution_count": 41,
   "id": "43fee11e-c3db-40db-a9d0-2c50707af89d",
   "metadata": {},
   "outputs": [],
   "source": [
    "dodo_locations_df = dodo_df[~dodo_df[\"Location\"].isnull()]"
   ]
  },
  {
   "cell_type": "code",
   "execution_count": 42,
   "id": "f5a70c29-5078-44dd-b8a0-3abc5bd08167",
   "metadata": {},
   "outputs": [],
   "source": [
    "def build_point(row):\n",
    "    try:\n",
    "        lon = row[\"Location\"][\"Longitude\"]\n",
    "        lat = row[\"Location\"][\"Latitude\"]\n",
    "    except Exception as e:\n",
    "        print(row[\"Location\"])\n",
    "    return Point(lon, lat)"
   ]
  },
  {
   "cell_type": "code",
   "execution_count": 88,
   "id": "bf1dc589-f6c2-4da2-b7f0-10e39bff2c0c",
   "metadata": {},
   "outputs": [
    {
     "name": "stderr",
     "output_type": "stream",
     "text": [
      "/tmp/ipykernel_33633/1505705900.py:1: SettingWithCopyWarning: \n",
      "A value is trying to be set on a copy of a slice from a DataFrame.\n",
      "Try using .loc[row_indexer,col_indexer] = value instead\n",
      "\n",
      "See the caveats in the documentation: https://pandas.pydata.org/pandas-docs/stable/user_guide/indexing.html#returning-a-view-versus-a-copy\n",
      "  dodo_locations_df['geometry'] = dodo_locations_df.apply(lambda row: build_point(row), axis=1)\n"
     ]
    }
   ],
   "source": [
    "dodo_locations_df[\"geometry\"] = dodo_locations_df.apply(\n",
    "    lambda row: build_point(row), axis=1\n",
    ")"
   ]
  },
  {
   "cell_type": "code",
   "execution_count": 89,
   "id": "ba842a30-90ed-4314-9c04-5389b26726e2",
   "metadata": {},
   "outputs": [],
   "source": [
    "dodo_gdf = gpd.GeoDataFrame(dodo_locations_df, crs=4326)"
   ]
  },
  {
   "cell_type": "code",
   "execution_count": 90,
   "id": "2680bb5b-99ab-4136-b7a0-54fec5e4aab6",
   "metadata": {},
   "outputs": [],
   "source": [
    "dodo_gdf = dodo_gdf.to_crs(3576)\n",
    "dodo_gdf.to_file(\"data/dodo_locations.gpkg\")"
   ]
  },
  {
   "cell_type": "markdown",
   "id": "dd06232d-a552-444f-8ac5-1f0abfea890b",
   "metadata": {},
   "source": [
    "## Open World data"
   ]
  },
  {
   "cell_type": "code",
   "execution_count": 129,
   "id": "d512fdf8-a573-4e6e-be84-7e0d40eb2e30",
   "metadata": {},
   "outputs": [],
   "source": [
    "country_pop_df = pd.read_csv(\n",
    "    \"data/API_SP.POP.TOTL_DS2_en_csv_v2_87/API_SP.POP.TOTL_DS2_en_csv_v2_87.csv\"\n",
    ")"
   ]
  },
  {
   "cell_type": "code",
   "execution_count": 138,
   "id": "63d22d9a-f4ad-47ed-96eb-b8e61bac21c1",
   "metadata": {},
   "outputs": [
    {
     "name": "stderr",
     "output_type": "stream",
     "text": [
      "AFE not found in ISO3\n",
      "AFW not found in ISO3\n",
      "ARB not found in ISO3\n",
      "CEB not found in ISO3\n",
      "CHI not found in ISO3\n",
      "CSS not found in ISO3\n",
      "EAP not found in ISO3\n",
      "EAR not found in ISO3\n",
      "EAS not found in ISO3\n",
      "ECA not found in ISO3\n",
      "ECS not found in ISO3\n",
      "EMU not found in ISO3\n",
      "EUU not found in ISO3\n",
      "FCS not found in ISO3\n",
      "HIC not found in ISO3\n",
      "HPC not found in ISO3\n",
      "IBD not found in ISO3\n",
      "IBT not found in ISO3\n",
      "IDA not found in ISO3\n",
      "IDB not found in ISO3\n",
      "IDX not found in ISO3\n",
      "INX not found in ISO3\n",
      "LAC not found in ISO3\n",
      "LCN not found in ISO3\n",
      "LDC not found in ISO3\n",
      "LIC not found in ISO3\n",
      "LMC not found in ISO3\n",
      "LMY not found in ISO3\n",
      "LTE not found in ISO3\n",
      "MEA not found in ISO3\n",
      "MIC not found in ISO3\n",
      "MNA not found in ISO3\n",
      "NAC not found in ISO3\n",
      "OED not found in ISO3\n",
      "OSS not found in ISO3\n",
      "PRE not found in ISO3\n",
      "PSS not found in ISO3\n",
      "PST not found in ISO3\n",
      "SAS not found in ISO3\n",
      "SSA not found in ISO3\n",
      "SSF not found in ISO3\n",
      "SST not found in ISO3\n",
      "TEA not found in ISO3\n",
      "TEC not found in ISO3\n",
      "TLA not found in ISO3\n",
      "TMN not found in ISO3\n",
      "TSA not found in ISO3\n",
      "TSS not found in ISO3\n",
      "UMC not found in ISO3\n",
      "WLD not found in ISO3\n"
     ]
    }
   ],
   "source": [
    "country_pop_df[\"iso_3166_1_alpha_2_codes\"] = country_pop_df.apply(\n",
    "    lambda row: coco.convert(names=[row[\"Country Code\"]], to=\"ISO2\"), axis=1\n",
    ")"
   ]
  },
  {
   "cell_type": "code",
   "execution_count": 140,
   "id": "7ee7451b-f631-4329-8c02-4c8e16cf1580",
   "metadata": {},
   "outputs": [],
   "source": [
    "country_pop_df = country_pop_df[[\"iso_3166_1_alpha_2_codes\", \"2023\"]]"
   ]
  },
  {
   "cell_type": "code",
   "execution_count": 141,
   "id": "c99c6c74-8559-4182-8eef-bf38d2609ecc",
   "metadata": {},
   "outputs": [],
   "source": [
    "world_boundaries = gpd.read_file(\"data/world_boundaries.gpkg\")"
   ]
  },
  {
   "cell_type": "code",
   "execution_count": 142,
   "id": "696cbb24-86bf-4561-8363-c73b16ff1c5c",
   "metadata": {},
   "outputs": [],
   "source": [
    "world_boundaries_reproj = world_boundaries.to_crs(3576)\n",
    "world_boundaries_reproj.to_file(\"data/world_boundaries_reproj.gpkg\")"
   ]
  },
  {
   "cell_type": "markdown",
   "id": "88547380-9cde-4103-93a4-f00fd3dc2b5e",
   "metadata": {},
   "source": [
    "## Merge data"
   ]
  },
  {
   "cell_type": "code",
   "execution_count": 155,
   "id": "82626e84-9c67-4460-a792-9668dbda6768",
   "metadata": {},
   "outputs": [],
   "source": [
    "dodo_counts_df = pd.DataFrame(\n",
    "    dodo_gdf.groupby(\"CountryCode\").size(), columns=[\"DODOs\"]\n",
    ").reset_index()"
   ]
  },
  {
   "cell_type": "code",
   "execution_count": 156,
   "id": "4c8a8c9b-6095-4fc2-969b-f16caa963ef8",
   "metadata": {},
   "outputs": [],
   "source": [
    "dodo_counts_df[\"iso_3166_1_alpha_2_codes\"] = dodo_counts_df[\"CountryCode\"].str.upper()\n",
    "dodo_counts_df = dodo_counts_df.merge(\n",
    "    world_boundaries_reproj[[\"geometry\", \"iso_3166_1_alpha_2_codes\"]],\n",
    "    on=\"iso_3166_1_alpha_2_codes\",\n",
    "    how=\"left\",\n",
    ")"
   ]
  },
  {
   "cell_type": "code",
   "execution_count": 157,
   "id": "c152ffe7-34ea-4828-bc10-74ae7ec34929",
   "metadata": {},
   "outputs": [],
   "source": [
    "dodo_counts_population_gdf = dodo_counts_df.merge(\n",
    "    country_pop_df, on=\"iso_3166_1_alpha_2_codes\", how=\"left\"\n",
    ")"
   ]
  },
  {
   "cell_type": "code",
   "execution_count": 158,
   "id": "dc7adf1d-bdb9-410f-a961-e34ed28f2c0f",
   "metadata": {},
   "outputs": [],
   "source": [
    "dodo_counts_population_gdf = dodo_counts_population_gdf.rename(\n",
    "    columns={\"iso_3166_1_alpha_2_codes\": \"COUNTRY\"}\n",
    ")\n",
    "dodo_counts_population_gdf = dodo_counts_population_gdf[\n",
    "    [\"DODOs\", \"COUNTRY\", \"geometry\", \"2023\"]\n",
    "]"
   ]
  },
  {
   "cell_type": "code",
   "execution_count": 166,
   "id": "21dc90f4-225c-4adb-baca-9ffb26733fe4",
   "metadata": {},
   "outputs": [],
   "source": [
    "dodo_counts_population_gdf[\"per_100k\"] = (\n",
    "    dodo_counts_population_gdf[\"DODOs\"] / (dodo_counts_population_gdf[\"2023\"] / 100_000)\n",
    ").round(decimals=2)\n",
    "dodo_counts_population_gdf[\"per_1m\"] = (\n",
    "    dodo_counts_population_gdf[\"DODOs\"]\n",
    "    / (dodo_counts_population_gdf[\"2023\"] / 1_000_000)\n",
    ").round(decimals=2)"
   ]
  },
  {
   "cell_type": "code",
   "execution_count": 169,
   "id": "36782a0e-7116-480f-8114-4c8495e50064",
   "metadata": {},
   "outputs": [
    {
     "data": {
      "text/html": [
       "<div>\n",
       "<style scoped>\n",
       "    .dataframe tbody tr th:only-of-type {\n",
       "        vertical-align: middle;\n",
       "    }\n",
       "\n",
       "    .dataframe tbody tr th {\n",
       "        vertical-align: top;\n",
       "    }\n",
       "\n",
       "    .dataframe thead th {\n",
       "        text-align: right;\n",
       "    }\n",
       "</style>\n",
       "<table border=\"1\" class=\"dataframe\">\n",
       "  <thead>\n",
       "    <tr style=\"text-align: right;\">\n",
       "      <th></th>\n",
       "      <th>DODOs</th>\n",
       "      <th>COUNTRY</th>\n",
       "      <th>geometry</th>\n",
       "      <th>2023</th>\n",
       "      <th>per_100k</th>\n",
       "      <th>per_1m</th>\n",
       "    </tr>\n",
       "  </thead>\n",
       "  <tbody>\n",
       "    <tr>\n",
       "      <th>18</th>\n",
       "      <td>1211</td>\n",
       "      <td>RU</td>\n",
       "      <td>MULTIPOLYGON (((3403040.93 -3796309.94, 340002...</td>\n",
       "      <td>143826130.0</td>\n",
       "      <td>0.84</td>\n",
       "      <td>8.42</td>\n",
       "    </tr>\n",
       "    <tr>\n",
       "      <th>12</th>\n",
       "      <td>148</td>\n",
       "      <td>KZ</td>\n",
       "      <td>MULTIPOLYGON (((-206621.28 -4461148.288, -2090...</td>\n",
       "      <td>20330104.0</td>\n",
       "      <td>0.73</td>\n",
       "      <td>7.28</td>\n",
       "    </tr>\n",
       "    <tr>\n",
       "      <th>4</th>\n",
       "      <td>53</td>\n",
       "      <td>BY</td>\n",
       "      <td>MULTIPOLYGON (((-3527768.256 -2185935.142, -35...</td>\n",
       "      <td>9178298.0</td>\n",
       "      <td>0.58</td>\n",
       "      <td>5.77</td>\n",
       "    </tr>\n",
       "    <tr>\n",
       "      <th>7</th>\n",
       "      <td>6</td>\n",
       "      <td>EE</td>\n",
       "      <td>MULTIPOLYGON (((-3185560.803 -1351196.362, -31...</td>\n",
       "      <td>1370286.0</td>\n",
       "      <td>0.44</td>\n",
       "      <td>4.38</td>\n",
       "    </tr>\n",
       "    <tr>\n",
       "      <th>13</th>\n",
       "      <td>11</td>\n",
       "      <td>LT</td>\n",
       "      <td>MULTIPOLYGON (((-3561985.219 -1366234.642, -35...</td>\n",
       "      <td>2871585.0</td>\n",
       "      <td>0.38</td>\n",
       "      <td>3.83</td>\n",
       "    </tr>\n",
       "    <tr>\n",
       "      <th>5</th>\n",
       "      <td>3</td>\n",
       "      <td>CY</td>\n",
       "      <td>MULTIPOLYGON (((-4847973.754 -3284793.567, -48...</td>\n",
       "      <td>1344976.0</td>\n",
       "      <td>0.22</td>\n",
       "      <td>2.23</td>\n",
       "    </tr>\n",
       "    <tr>\n",
       "      <th>11</th>\n",
       "      <td>14</td>\n",
       "      <td>KG</td>\n",
       "      <td>MULTIPOLYGON (((-877920.364 -5100677.016, -877...</td>\n",
       "      <td>7099750.0</td>\n",
       "      <td>0.20</td>\n",
       "      <td>1.97</td>\n",
       "    </tr>\n",
       "    <tr>\n",
       "      <th>1</th>\n",
       "      <td>5</td>\n",
       "      <td>AM</td>\n",
       "      <td>MULTIPOLYGON (((-3790449.151 -3999941.976, -37...</td>\n",
       "      <td>2990900.0</td>\n",
       "      <td>0.17</td>\n",
       "      <td>1.67</td>\n",
       "    </tr>\n",
       "    <tr>\n",
       "      <th>0</th>\n",
       "      <td>15</td>\n",
       "      <td>AE</td>\n",
       "      <td>MULTIPOLYGON (((-4077961.819 -5605599.919, -40...</td>\n",
       "      <td>10483751.0</td>\n",
       "      <td>0.14</td>\n",
       "      <td>1.43</td>\n",
       "    </tr>\n",
       "    <tr>\n",
       "      <th>19</th>\n",
       "      <td>3</td>\n",
       "      <td>SI</td>\n",
       "      <td>MULTIPOLYGON (((-4539707.301 -1354024.532, -45...</td>\n",
       "      <td>2120461.0</td>\n",
       "      <td>0.14</td>\n",
       "      <td>1.41</td>\n",
       "    </tr>\n",
       "    <tr>\n",
       "      <th>20</th>\n",
       "      <td>9</td>\n",
       "      <td>TJ</td>\n",
       "      <td>MULTIPOLYGON (((-1750895.671 -5079796.984, -17...</td>\n",
       "      <td>10389799.0</td>\n",
       "      <td>0.09</td>\n",
       "      <td>0.87</td>\n",
       "    </tr>\n",
       "    <tr>\n",
       "      <th>16</th>\n",
       "      <td>16</td>\n",
       "      <td>RO</td>\n",
       "      <td>MULTIPOLYGON (((-4267760.135 -2289776.286, -42...</td>\n",
       "      <td>19059479.0</td>\n",
       "      <td>0.08</td>\n",
       "      <td>0.84</td>\n",
       "    </tr>\n",
       "    <tr>\n",
       "      <th>8</th>\n",
       "      <td>3</td>\n",
       "      <td>GE</td>\n",
       "      <td>MULTIPOLYGON (((-3586783.123 -3773311.783, -35...</td>\n",
       "      <td>3715483.0</td>\n",
       "      <td>0.08</td>\n",
       "      <td>0.81</td>\n",
       "    </tr>\n",
       "    <tr>\n",
       "      <th>3</th>\n",
       "      <td>4</td>\n",
       "      <td>BG</td>\n",
       "      <td>MULTIPOLYGON (((-4406079.1 -2400600.595, -4407...</td>\n",
       "      <td>6446596.0</td>\n",
       "      <td>0.06</td>\n",
       "      <td>0.62</td>\n",
       "    </tr>\n",
       "    <tr>\n",
       "      <th>22</th>\n",
       "      <td>18</td>\n",
       "      <td>UZ</td>\n",
       "      <td>MULTIPOLYGON (((-1685593.317 -4887228.635, -16...</td>\n",
       "      <td>35652307.0</td>\n",
       "      <td>0.05</td>\n",
       "      <td>0.50</td>\n",
       "    </tr>\n",
       "    <tr>\n",
       "      <th>17</th>\n",
       "      <td>3</td>\n",
       "      <td>RS</td>\n",
       "      <td>MULTIPOLYGON (((-4479189.091 -1653438.925, -44...</td>\n",
       "      <td>6623183.0</td>\n",
       "      <td>0.05</td>\n",
       "      <td>0.45</td>\n",
       "    </tr>\n",
       "    <tr>\n",
       "      <th>2</th>\n",
       "      <td>3</td>\n",
       "      <td>AZ</td>\n",
       "      <td>MULTIPOLYGON (((-3818042.73 -3978393.924, -382...</td>\n",
       "      <td>10153958.0</td>\n",
       "      <td>0.03</td>\n",
       "      <td>0.30</td>\n",
       "    </tr>\n",
       "    <tr>\n",
       "      <th>21</th>\n",
       "      <td>23</td>\n",
       "      <td>TR</td>\n",
       "      <td>MULTIPOLYGON (((-4849593.251 -2346937.566, -48...</td>\n",
       "      <td>85325965.0</td>\n",
       "      <td>0.03</td>\n",
       "      <td>0.27</td>\n",
       "    </tr>\n",
       "    <tr>\n",
       "      <th>9</th>\n",
       "      <td>1</td>\n",
       "      <td>HR</td>\n",
       "      <td>MULTIPOLYGON (((-4881310.332 -1562101.803, -48...</td>\n",
       "      <td>3859686.0</td>\n",
       "      <td>0.03</td>\n",
       "      <td>0.26</td>\n",
       "    </tr>\n",
       "    <tr>\n",
       "      <th>15</th>\n",
       "      <td>6</td>\n",
       "      <td>PL</td>\n",
       "      <td>MULTIPOLYGON (((-3674655.434 -1310456.271, -36...</td>\n",
       "      <td>36687353.0</td>\n",
       "      <td>0.02</td>\n",
       "      <td>0.16</td>\n",
       "    </tr>\n",
       "    <tr>\n",
       "      <th>14</th>\n",
       "      <td>19</td>\n",
       "      <td>NG</td>\n",
       "      <td>MULTIPOLYGON (((-8592267.717 -1086005.852, -85...</td>\n",
       "      <td>227882945.0</td>\n",
       "      <td>0.01</td>\n",
       "      <td>0.08</td>\n",
       "    </tr>\n",
       "    <tr>\n",
       "      <th>23</th>\n",
       "      <td>7</td>\n",
       "      <td>VN</td>\n",
       "      <td>MULTIPOLYGON (((1986302.463 -7917813.904, 1989...</td>\n",
       "      <td>100352192.0</td>\n",
       "      <td>0.01</td>\n",
       "      <td>0.07</td>\n",
       "    </tr>\n",
       "    <tr>\n",
       "      <th>6</th>\n",
       "      <td>1</td>\n",
       "      <td>DE</td>\n",
       "      <td>MULTIPOLYGON (((-3836598.171 -972629.195, -383...</td>\n",
       "      <td>83280000.0</td>\n",
       "      <td>0.00</td>\n",
       "      <td>0.01</td>\n",
       "    </tr>\n",
       "    <tr>\n",
       "      <th>10</th>\n",
       "      <td>1</td>\n",
       "      <td>ID</td>\n",
       "      <td>MULTIPOLYGON (((5377086.152 -8211273.645, 5374...</td>\n",
       "      <td>281190067.0</td>\n",
       "      <td>0.00</td>\n",
       "      <td>0.00</td>\n",
       "    </tr>\n",
       "  </tbody>\n",
       "</table>\n",
       "</div>"
      ],
      "text/plain": [
       "    DODOs COUNTRY                                           geometry  \\\n",
       "18   1211      RU  MULTIPOLYGON (((3403040.93 -3796309.94, 340002...   \n",
       "12    148      KZ  MULTIPOLYGON (((-206621.28 -4461148.288, -2090...   \n",
       "4      53      BY  MULTIPOLYGON (((-3527768.256 -2185935.142, -35...   \n",
       "7       6      EE  MULTIPOLYGON (((-3185560.803 -1351196.362, -31...   \n",
       "13     11      LT  MULTIPOLYGON (((-3561985.219 -1366234.642, -35...   \n",
       "5       3      CY  MULTIPOLYGON (((-4847973.754 -3284793.567, -48...   \n",
       "11     14      KG  MULTIPOLYGON (((-877920.364 -5100677.016, -877...   \n",
       "1       5      AM  MULTIPOLYGON (((-3790449.151 -3999941.976, -37...   \n",
       "0      15      AE  MULTIPOLYGON (((-4077961.819 -5605599.919, -40...   \n",
       "19      3      SI  MULTIPOLYGON (((-4539707.301 -1354024.532, -45...   \n",
       "20      9      TJ  MULTIPOLYGON (((-1750895.671 -5079796.984, -17...   \n",
       "16     16      RO  MULTIPOLYGON (((-4267760.135 -2289776.286, -42...   \n",
       "8       3      GE  MULTIPOLYGON (((-3586783.123 -3773311.783, -35...   \n",
       "3       4      BG  MULTIPOLYGON (((-4406079.1 -2400600.595, -4407...   \n",
       "22     18      UZ  MULTIPOLYGON (((-1685593.317 -4887228.635, -16...   \n",
       "17      3      RS  MULTIPOLYGON (((-4479189.091 -1653438.925, -44...   \n",
       "2       3      AZ  MULTIPOLYGON (((-3818042.73 -3978393.924, -382...   \n",
       "21     23      TR  MULTIPOLYGON (((-4849593.251 -2346937.566, -48...   \n",
       "9       1      HR  MULTIPOLYGON (((-4881310.332 -1562101.803, -48...   \n",
       "15      6      PL  MULTIPOLYGON (((-3674655.434 -1310456.271, -36...   \n",
       "14     19      NG  MULTIPOLYGON (((-8592267.717 -1086005.852, -85...   \n",
       "23      7      VN  MULTIPOLYGON (((1986302.463 -7917813.904, 1989...   \n",
       "6       1      DE  MULTIPOLYGON (((-3836598.171 -972629.195, -383...   \n",
       "10      1      ID  MULTIPOLYGON (((5377086.152 -8211273.645, 5374...   \n",
       "\n",
       "           2023  per_100k  per_1m  \n",
       "18  143826130.0      0.84    8.42  \n",
       "12   20330104.0      0.73    7.28  \n",
       "4     9178298.0      0.58    5.77  \n",
       "7     1370286.0      0.44    4.38  \n",
       "13    2871585.0      0.38    3.83  \n",
       "5     1344976.0      0.22    2.23  \n",
       "11    7099750.0      0.20    1.97  \n",
       "1     2990900.0      0.17    1.67  \n",
       "0    10483751.0      0.14    1.43  \n",
       "19    2120461.0      0.14    1.41  \n",
       "20   10389799.0      0.09    0.87  \n",
       "16   19059479.0      0.08    0.84  \n",
       "8     3715483.0      0.08    0.81  \n",
       "3     6446596.0      0.06    0.62  \n",
       "22   35652307.0      0.05    0.50  \n",
       "17    6623183.0      0.05    0.45  \n",
       "2    10153958.0      0.03    0.30  \n",
       "21   85325965.0      0.03    0.27  \n",
       "9     3859686.0      0.03    0.26  \n",
       "15   36687353.0      0.02    0.16  \n",
       "14  227882945.0      0.01    0.08  \n",
       "23  100352192.0      0.01    0.07  \n",
       "6    83280000.0      0.00    0.01  \n",
       "10  281190067.0      0.00    0.00  "
      ]
     },
     "execution_count": 169,
     "metadata": {},
     "output_type": "execute_result"
    }
   ],
   "source": [
    "dodo_counts_population_gdf.sort_values(\"per_1m\", ascending=False)"
   ]
  },
  {
   "cell_type": "code",
   "execution_count": 118,
   "id": "9dcd70f0-62d5-4728-9bc9-56fb16285d71",
   "metadata": {},
   "outputs": [],
   "source": [
    "dodo_counts_gdf = gpd.GeoDataFrame(dodo_counts_df, crs=3576)\n",
    "dodo_counts_gdf.to_file(\"data/dodo_country_counts.gpkg\")"
   ]
  }
 ],
 "metadata": {
  "kernelspec": {
   "display_name": "Python 3 (ipykernel)",
   "language": "python",
   "name": "python3"
  },
  "language_info": {
   "codemirror_mode": {
    "name": "ipython",
    "version": 3
   },
   "file_extension": ".py",
   "mimetype": "text/x-python",
   "name": "python",
   "nbconvert_exporter": "python",
   "pygments_lexer": "ipython3",
   "version": "3.11.11"
  }
 },
 "nbformat": 4,
 "nbformat_minor": 5
}
