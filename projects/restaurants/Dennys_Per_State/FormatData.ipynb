{
 "cells": [
  {
   "cell_type": "code",
   "execution_count": 9,
   "id": "c86ad9f6-4aaf-469e-a56e-363083168e1e",
   "metadata": {},
   "outputs": [],
   "source": [
    "import json\n",
    "import os\n",
    "import re\n",
    "import random\n",
    "import time"
   ]
  },
  {
   "cell_type": "code",
   "execution_count": 10,
   "id": "10fa1d09-7717-4ea8-9ce7-1cef37b4da9c",
   "metadata": {},
   "outputs": [],
   "source": [
    "import cloudscraper\n",
    "from bs4 import BeautifulSoup\n",
    "import geopandas as gpd\n",
    "import pandas as pd"
   ]
  },
  {
   "cell_type": "code",
   "execution_count": 11,
   "id": "d22202a0-bf3c-4953-81ce-105a19e002a0",
   "metadata": {},
   "outputs": [],
   "source": [
    "from shapely.geometry import Point\n",
    "from tqdm.notebook import tqdm"
   ]
  },
  {
   "cell_type": "markdown",
   "id": "02e1dfb5-464d-4984-8c84-5599ce9dcd5d",
   "metadata": {},
   "source": [
    "## Get State Data"
   ]
  },
  {
   "cell_type": "code",
   "execution_count": 12,
   "id": "84b53c65-5746-4ab8-8c99-6dfe3e967797",
   "metadata": {},
   "outputs": [],
   "source": [
    "file_path = \"data/cb_2018_us_state_500k/cb_2018_us_state_500k.shp\"\n",
    "states_df = gpd.read_file(file_path)"
   ]
  },
  {
   "cell_type": "code",
   "execution_count": 13,
   "id": "191755a6-eb92-4683-833e-b69f4be9f3f5",
   "metadata": {},
   "outputs": [],
   "source": [
    "states_df = states_df[[\"STUSPS\", \"NAME\", \"geometry\"]]"
   ]
  },
  {
   "cell_type": "markdown",
   "id": "f3ad4feb-2496-4c2f-827b-04c586ef17ba",
   "metadata": {},
   "source": [
    "## Get Denny's Data"
   ]
  },
  {
   "cell_type": "code",
   "execution_count": 14,
   "id": "4c063aa4-d1b0-400e-a449-8125a2a0596a",
   "metadata": {},
   "outputs": [],
   "source": [
    "scraper = cloudscraper.create_scraper()"
   ]
  },
  {
   "cell_type": "code",
   "execution_count": 15,
   "id": "267af8f6-5ae7-4c32-864b-5f970236c8b8",
   "metadata": {},
   "outputs": [],
   "source": [
    "def get_coords(store_url: str) -> Point:\n",
    "    r = scraper.get(store_url)\n",
    "    soup = BeautifulSoup(r.text, \"html.parser\")\n",
    "    store_json = json.loads(soup.find(\"main\").find(\"script\").text)\n",
    "    lat = float(store_json[\"geo\"][\"latitude\"])\n",
    "    lon = float(store_json[\"geo\"][\"longitude\"])\n",
    "    return Point(lon, lat)"
   ]
  },
  {
   "cell_type": "code",
   "execution_count": 16,
   "id": "b1793bb5-26c3-4408-8572-175ba688bb03",
   "metadata": {},
   "outputs": [
    {
     "data": {
      "application/vnd.jupyter.widget-view+json": {
       "model_id": "a3a9d7859cee4d9cba59b1863389c6d0",
       "version_major": 2,
       "version_minor": 0
      },
      "text/plain": [
       "Parsing States:   0%|          | 0/50 [00:00<?, ?it/s]"
      ]
     },
     "metadata": {},
     "output_type": "display_data"
    },
    {
     "data": {
      "application/vnd.jupyter.widget-view+json": {
       "model_id": "fc03845d29f6448286bcb412704b9632",
       "version_major": 2,
       "version_minor": 0
      },
      "text/plain": [
       "Parsing Locations in AL:   0%|          | 0/3 [00:00<?, ?it/s]"
      ]
     },
     "metadata": {},
     "output_type": "display_data"
    },
    {
     "name": "stdout",
     "output_type": "stream",
     "text": [
      "3 stores\n"
     ]
    },
    {
     "data": {
      "application/vnd.jupyter.widget-view+json": {
       "model_id": "a105b2558d3e4bfb8f5c6ba914777676",
       "version_major": 2,
       "version_minor": 0
      },
      "text/plain": [
       "Parsing Locations in AK:   0%|          | 0/1 [00:00<?, ?it/s]"
      ]
     },
     "metadata": {},
     "output_type": "display_data"
    },
    {
     "name": "stdout",
     "output_type": "stream",
     "text": [
      "1 stores\n"
     ]
    },
    {
     "data": {
      "application/vnd.jupyter.widget-view+json": {
       "model_id": "a74528773dda47fca097986009d491fd",
       "version_major": 2,
       "version_minor": 0
      },
      "text/plain": [
       "Parsing Locations in AZ:   0%|          | 0/45 [00:00<?, ?it/s]"
      ]
     },
     "metadata": {},
     "output_type": "display_data"
    },
    {
     "name": "stdout",
     "output_type": "stream",
     "text": [
      "79 stores\n"
     ]
    },
    {
     "data": {
      "application/vnd.jupyter.widget-view+json": {
       "model_id": "1d7c7e78395e4ac6a47566ab8d056cf4",
       "version_major": 2,
       "version_minor": 0
      },
      "text/plain": [
       "Parsing Locations in AR:   0%|          | 0/7 [00:00<?, ?it/s]"
      ]
     },
     "metadata": {},
     "output_type": "display_data"
    },
    {
     "name": "stdout",
     "output_type": "stream",
     "text": [
      "8 stores\n"
     ]
    },
    {
     "data": {
      "application/vnd.jupyter.widget-view+json": {
       "model_id": "8da19c8a072042e78d33c7fa7c1e5ecd",
       "version_major": 2,
       "version_minor": 0
      },
      "text/plain": [
       "Parsing Locations in CA:   0%|          | 0/240 [00:00<?, ?it/s]"
      ]
     },
     "metadata": {},
     "output_type": "display_data"
    },
    {
     "name": "stdout",
     "output_type": "stream",
     "text": [
      "355 stores\n"
     ]
    },
    {
     "data": {
      "application/vnd.jupyter.widget-view+json": {
       "model_id": "271796c514d34a2a866c8c731bfb49a8",
       "version_major": 2,
       "version_minor": 0
      },
      "text/plain": [
       "Parsing Locations in CO:   0%|          | 0/14 [00:00<?, ?it/s]"
      ]
     },
     "metadata": {},
     "output_type": "display_data"
    },
    {
     "name": "stdout",
     "output_type": "stream",
     "text": [
      "18 stores\n"
     ]
    },
    {
     "data": {
      "application/vnd.jupyter.widget-view+json": {
       "model_id": "5c377690462046d1b0ccf1b8df7d58a1",
       "version_major": 2,
       "version_minor": 0
      },
      "text/plain": [
       "Parsing Locations in CT:   0%|          | 0/5 [00:00<?, ?it/s]"
      ]
     },
     "metadata": {},
     "output_type": "display_data"
    },
    {
     "name": "stdout",
     "output_type": "stream",
     "text": [
      "5 stores\n"
     ]
    },
    {
     "data": {
      "application/vnd.jupyter.widget-view+json": {
       "model_id": "d5b7de43258f48fdb3d9ce7f7ddcd282",
       "version_major": 2,
       "version_minor": 0
      },
      "text/plain": [
       "Parsing Locations in DC:   0%|          | 0/1 [00:00<?, ?it/s]"
      ]
     },
     "metadata": {},
     "output_type": "display_data"
    },
    {
     "name": "stdout",
     "output_type": "stream",
     "text": [
      "2 stores\n"
     ]
    },
    {
     "data": {
      "application/vnd.jupyter.widget-view+json": {
       "model_id": "82f099e912574488a58e0fee4b310467",
       "version_major": 2,
       "version_minor": 0
      },
      "text/plain": [
       "Parsing Locations in FL:   0%|          | 0/80 [00:00<?, ?it/s]"
      ]
     },
     "metadata": {},
     "output_type": "display_data"
    },
    {
     "name": "stdout",
     "output_type": "stream",
     "text": [
      "115 stores\n"
     ]
    },
    {
     "data": {
      "application/vnd.jupyter.widget-view+json": {
       "model_id": "6aba63b075e341a1b07c8668a853113d",
       "version_major": 2,
       "version_minor": 0
      },
      "text/plain": [
       "Parsing Locations in GA:   0%|          | 0/10 [00:00<?, ?it/s]"
      ]
     },
     "metadata": {},
     "output_type": "display_data"
    },
    {
     "name": "stdout",
     "output_type": "stream",
     "text": [
      "10 stores\n"
     ]
    },
    {
     "data": {
      "application/vnd.jupyter.widget-view+json": {
       "model_id": "b927b625e85c4979bff5f314ac652f02",
       "version_major": 2,
       "version_minor": 0
      },
      "text/plain": [
       "Parsing Locations in HI:   0%|          | 0/4 [00:00<?, ?it/s]"
      ]
     },
     "metadata": {},
     "output_type": "display_data"
    },
    {
     "name": "stdout",
     "output_type": "stream",
     "text": [
      "5 stores\n"
     ]
    },
    {
     "data": {
      "application/vnd.jupyter.widget-view+json": {
       "model_id": "9757a2df3323480881372d92095e7948",
       "version_major": 2,
       "version_minor": 0
      },
      "text/plain": [
       "Parsing Locations in ID:   0%|          | 0/7 [00:00<?, ?it/s]"
      ]
     },
     "metadata": {},
     "output_type": "display_data"
    },
    {
     "name": "stdout",
     "output_type": "stream",
     "text": [
      "7 stores\n"
     ]
    },
    {
     "data": {
      "application/vnd.jupyter.widget-view+json": {
       "model_id": "4535f80bfa5d4b1586783f4239de6f8c",
       "version_major": 2,
       "version_minor": 0
      },
      "text/plain": [
       "Parsing Locations in IL:   0%|          | 0/43 [00:00<?, ?it/s]"
      ]
     },
     "metadata": {},
     "output_type": "display_data"
    },
    {
     "name": "stdout",
     "output_type": "stream",
     "text": [
      "43 stores\n"
     ]
    },
    {
     "data": {
      "application/vnd.jupyter.widget-view+json": {
       "model_id": "998e4f2fa2b54bc8bdf0f03bf43c8df4",
       "version_major": 2,
       "version_minor": 0
      },
      "text/plain": [
       "Parsing Locations in IN:   0%|          | 0/20 [00:00<?, ?it/s]"
      ]
     },
     "metadata": {},
     "output_type": "display_data"
    },
    {
     "name": "stdout",
     "output_type": "stream",
     "text": [
      "29 stores\n"
     ]
    },
    {
     "data": {
      "application/vnd.jupyter.widget-view+json": {
       "model_id": "5802646f22434f45a5e7e1080cda55c1",
       "version_major": 2,
       "version_minor": 0
      },
      "text/plain": [
       "Parsing Locations in IA:   0%|          | 0/3 [00:00<?, ?it/s]"
      ]
     },
     "metadata": {},
     "output_type": "display_data"
    },
    {
     "name": "stdout",
     "output_type": "stream",
     "text": [
      "3 stores\n"
     ]
    },
    {
     "data": {
      "application/vnd.jupyter.widget-view+json": {
       "model_id": "ab8aa774681f458680ba2e3d01fe56a1",
       "version_major": 2,
       "version_minor": 0
      },
      "text/plain": [
       "Parsing Locations in KS:   0%|          | 0/4 [00:00<?, ?it/s]"
      ]
     },
     "metadata": {},
     "output_type": "display_data"
    },
    {
     "name": "stdout",
     "output_type": "stream",
     "text": [
      "4 stores\n"
     ]
    },
    {
     "data": {
      "application/vnd.jupyter.widget-view+json": {
       "model_id": "9e376da4bc93436796deba58aff84029",
       "version_major": 2,
       "version_minor": 0
      },
      "text/plain": [
       "Parsing Locations in KY:   0%|          | 0/9 [00:00<?, ?it/s]"
      ]
     },
     "metadata": {},
     "output_type": "display_data"
    },
    {
     "name": "stdout",
     "output_type": "stream",
     "text": [
      "9 stores\n"
     ]
    },
    {
     "data": {
      "application/vnd.jupyter.widget-view+json": {
       "model_id": "4d46222270b84c00a0e4998643be6140",
       "version_major": 2,
       "version_minor": 0
      },
      "text/plain": [
       "Parsing Locations in LA:   0%|          | 0/6 [00:00<?, ?it/s]"
      ]
     },
     "metadata": {},
     "output_type": "display_data"
    },
    {
     "name": "stdout",
     "output_type": "stream",
     "text": [
      "6 stores\n"
     ]
    },
    {
     "data": {
      "application/vnd.jupyter.widget-view+json": {
       "model_id": "2abc1420edf64f4c804d808e851aa4e5",
       "version_major": 2,
       "version_minor": 0
      },
      "text/plain": [
       "Parsing Locations in ME:   0%|          | 0/2 [00:00<?, ?it/s]"
      ]
     },
     "metadata": {},
     "output_type": "display_data"
    },
    {
     "name": "stdout",
     "output_type": "stream",
     "text": [
      "2 stores\n"
     ]
    },
    {
     "data": {
      "application/vnd.jupyter.widget-view+json": {
       "model_id": "66a56bd144dd421cbd5d1efe50040f35",
       "version_major": 2,
       "version_minor": 0
      },
      "text/plain": [
       "Parsing Locations in MD:   0%|          | 0/21 [00:00<?, ?it/s]"
      ]
     },
     "metadata": {},
     "output_type": "display_data"
    },
    {
     "name": "stdout",
     "output_type": "stream",
     "text": [
      "22 stores\n"
     ]
    },
    {
     "data": {
      "application/vnd.jupyter.widget-view+json": {
       "model_id": "6687e74768c7429b94eedf0735f3e872",
       "version_major": 2,
       "version_minor": 0
      },
      "text/plain": [
       "Parsing Locations in MA:   0%|          | 0/4 [00:00<?, ?it/s]"
      ]
     },
     "metadata": {},
     "output_type": "display_data"
    },
    {
     "name": "stdout",
     "output_type": "stream",
     "text": [
      "4 stores\n"
     ]
    },
    {
     "data": {
      "application/vnd.jupyter.widget-view+json": {
       "model_id": "579ca001d3734ea581d9866c2c8a7aa1",
       "version_major": 2,
       "version_minor": 0
      },
      "text/plain": [
       "Parsing Locations in MI:   0%|          | 0/12 [00:00<?, ?it/s]"
      ]
     },
     "metadata": {},
     "output_type": "display_data"
    },
    {
     "name": "stdout",
     "output_type": "stream",
     "text": [
      "12 stores\n"
     ]
    },
    {
     "data": {
      "application/vnd.jupyter.widget-view+json": {
       "model_id": "5ec6f2851b5244fcb21eb0d884eb5e24",
       "version_major": 2,
       "version_minor": 0
      },
      "text/plain": [
       "Parsing Locations in MN:   0%|          | 0/13 [00:00<?, ?it/s]"
      ]
     },
     "metadata": {},
     "output_type": "display_data"
    },
    {
     "name": "stdout",
     "output_type": "stream",
     "text": [
      "13 stores\n"
     ]
    },
    {
     "data": {
      "application/vnd.jupyter.widget-view+json": {
       "model_id": "873f75ef3d584852973badf7ce40c117",
       "version_major": 2,
       "version_minor": 0
      },
      "text/plain": [
       "Parsing Locations in MS:   0%|          | 0/5 [00:00<?, ?it/s]"
      ]
     },
     "metadata": {},
     "output_type": "display_data"
    },
    {
     "name": "stdout",
     "output_type": "stream",
     "text": [
      "5 stores\n"
     ]
    },
    {
     "data": {
      "application/vnd.jupyter.widget-view+json": {
       "model_id": "765f4a9dcf0c4c8ab09bba3bc0536ac9",
       "version_major": 2,
       "version_minor": 0
      },
      "text/plain": [
       "Parsing Locations in MO:   0%|          | 0/22 [00:00<?, ?it/s]"
      ]
     },
     "metadata": {},
     "output_type": "display_data"
    },
    {
     "name": "stdout",
     "output_type": "stream",
     "text": [
      "26 stores\n"
     ]
    },
    {
     "data": {
      "application/vnd.jupyter.widget-view+json": {
       "model_id": "a5b4f9f120ef4e5c844c2b2876267eb8",
       "version_major": 2,
       "version_minor": 0
      },
      "text/plain": [
       "Parsing Locations in MT:   0%|          | 0/2 [00:00<?, ?it/s]"
      ]
     },
     "metadata": {},
     "output_type": "display_data"
    },
    {
     "name": "stdout",
     "output_type": "stream",
     "text": [
      "2 stores\n"
     ]
    },
    {
     "data": {
      "application/vnd.jupyter.widget-view+json": {
       "model_id": "ef090d3dd1d847508b5b39629031afc4",
       "version_major": 2,
       "version_minor": 0
      },
      "text/plain": [
       "Parsing Locations in NE:   0%|          | 0/3 [00:00<?, ?it/s]"
      ]
     },
     "metadata": {},
     "output_type": "display_data"
    },
    {
     "name": "stdout",
     "output_type": "stream",
     "text": [
      "3 stores\n"
     ]
    },
    {
     "data": {
      "application/vnd.jupyter.widget-view+json": {
       "model_id": "2e29f6d84eb14ca78ba143ad452c0b2e",
       "version_major": 2,
       "version_minor": 0
      },
      "text/plain": [
       "Parsing Locations in NV:   0%|          | 0/13 [00:00<?, ?it/s]"
      ]
     },
     "metadata": {},
     "output_type": "display_data"
    },
    {
     "name": "stdout",
     "output_type": "stream",
     "text": [
      "40 stores\n"
     ]
    },
    {
     "data": {
      "application/vnd.jupyter.widget-view+json": {
       "model_id": "d815ec43afe54ce98741d88a5acc606e",
       "version_major": 2,
       "version_minor": 0
      },
      "text/plain": [
       "Parsing Locations in NH:   0%|          | 0/2 [00:00<?, ?it/s]"
      ]
     },
     "metadata": {},
     "output_type": "display_data"
    },
    {
     "name": "stdout",
     "output_type": "stream",
     "text": [
      "2 stores\n"
     ]
    },
    {
     "data": {
      "application/vnd.jupyter.widget-view+json": {
       "model_id": "0a1c8e4d95c74d22880f873c1ed713e3",
       "version_major": 2,
       "version_minor": 0
      },
      "text/plain": [
       "Parsing Locations in NJ:   0%|          | 0/6 [00:00<?, ?it/s]"
      ]
     },
     "metadata": {},
     "output_type": "display_data"
    },
    {
     "name": "stdout",
     "output_type": "stream",
     "text": [
      "6 stores\n"
     ]
    },
    {
     "data": {
      "application/vnd.jupyter.widget-view+json": {
       "model_id": "acb2cb0cba3b404fb796398984cc5ae1",
       "version_major": 2,
       "version_minor": 0
      },
      "text/plain": [
       "Parsing Locations in NM:   0%|          | 0/22 [00:00<?, ?it/s]"
      ]
     },
     "metadata": {},
     "output_type": "display_data"
    },
    {
     "name": "stdout",
     "output_type": "stream",
     "text": [
      "29 stores\n"
     ]
    },
    {
     "data": {
      "application/vnd.jupyter.widget-view+json": {
       "model_id": "1a165253ce61432eabeff2daee5a66ec",
       "version_major": 2,
       "version_minor": 0
      },
      "text/plain": [
       "Parsing Locations in NY:   0%|          | 0/32 [00:00<?, ?it/s]"
      ]
     },
     "metadata": {},
     "output_type": "display_data"
    },
    {
     "name": "stdout",
     "output_type": "stream",
     "text": [
      "33 stores\n"
     ]
    },
    {
     "data": {
      "application/vnd.jupyter.widget-view+json": {
       "model_id": "64bde0a4e6f9450aa3cbeaf78593118a",
       "version_major": 2,
       "version_minor": 0
      },
      "text/plain": [
       "Parsing Locations in NC:   0%|          | 0/16 [00:00<?, ?it/s]"
      ]
     },
     "metadata": {},
     "output_type": "display_data"
    },
    {
     "name": "stdout",
     "output_type": "stream",
     "text": [
      "17 stores\n"
     ]
    },
    {
     "data": {
      "application/vnd.jupyter.widget-view+json": {
       "model_id": "5b2e82d907cf4b7fb64c98231683f9b4",
       "version_major": 2,
       "version_minor": 0
      },
      "text/plain": [
       "Parsing Locations in ND:   0%|          | 0/3 [00:00<?, ?it/s]"
      ]
     },
     "metadata": {},
     "output_type": "display_data"
    },
    {
     "name": "stdout",
     "output_type": "stream",
     "text": [
      "3 stores\n"
     ]
    },
    {
     "data": {
      "application/vnd.jupyter.widget-view+json": {
       "model_id": "74eb8c9d5f9a4326ba9fc993eb583c4e",
       "version_major": 2,
       "version_minor": 0
      },
      "text/plain": [
       "Parsing Locations in OH:   0%|          | 0/23 [00:00<?, ?it/s]"
      ]
     },
     "metadata": {},
     "output_type": "display_data"
    },
    {
     "name": "stdout",
     "output_type": "stream",
     "text": [
      "24 stores\n"
     ]
    },
    {
     "data": {
      "application/vnd.jupyter.widget-view+json": {
       "model_id": "a1ae7185b8ad4fc495106c61852b0aae",
       "version_major": 2,
       "version_minor": 0
      },
      "text/plain": [
       "Parsing Locations in OK:   0%|          | 0/4 [00:00<?, ?it/s]"
      ]
     },
     "metadata": {},
     "output_type": "display_data"
    },
    {
     "name": "stdout",
     "output_type": "stream",
     "text": [
      "7 stores\n"
     ]
    },
    {
     "data": {
      "application/vnd.jupyter.widget-view+json": {
       "model_id": "bb7a29550abc46249ca30fb484d41d49",
       "version_major": 2,
       "version_minor": 0
      },
      "text/plain": [
       "Parsing Locations in OR:   0%|          | 0/15 [00:00<?, ?it/s]"
      ]
     },
     "metadata": {},
     "output_type": "display_data"
    },
    {
     "name": "stdout",
     "output_type": "stream",
     "text": [
      "18 stores\n"
     ]
    },
    {
     "data": {
      "application/vnd.jupyter.widget-view+json": {
       "model_id": "37dea3c6d9b341e18404184280d348dc",
       "version_major": 2,
       "version_minor": 0
      },
      "text/plain": [
       "Parsing Locations in PA:   0%|          | 0/30 [00:00<?, ?it/s]"
      ]
     },
     "metadata": {},
     "output_type": "display_data"
    },
    {
     "name": "stdout",
     "output_type": "stream",
     "text": [
      "33 stores\n"
     ]
    },
    {
     "data": {
      "application/vnd.jupyter.widget-view+json": {
       "model_id": "8e12faf0fc964436b56158a1658b32fc",
       "version_major": 2,
       "version_minor": 0
      },
      "text/plain": [
       "Parsing Locations in RI:   0%|          | 0/2 [00:00<?, ?it/s]"
      ]
     },
     "metadata": {},
     "output_type": "display_data"
    },
    {
     "name": "stdout",
     "output_type": "stream",
     "text": [
      "2 stores\n"
     ]
    },
    {
     "data": {
      "application/vnd.jupyter.widget-view+json": {
       "model_id": "365a2cdd2298432c8fa4ab1ddd5f91d3",
       "version_major": 2,
       "version_minor": 0
      },
      "text/plain": [
       "Parsing Locations in SC:   0%|          | 0/8 [00:00<?, ?it/s]"
      ]
     },
     "metadata": {},
     "output_type": "display_data"
    },
    {
     "name": "stdout",
     "output_type": "stream",
     "text": [
      "9 stores\n"
     ]
    },
    {
     "data": {
      "application/vnd.jupyter.widget-view+json": {
       "model_id": "0512b413827b48c5b76545c7d2361ac4",
       "version_major": 2,
       "version_minor": 0
      },
      "text/plain": [
       "Parsing Locations in SD:   0%|          | 0/1 [00:00<?, ?it/s]"
      ]
     },
     "metadata": {},
     "output_type": "display_data"
    },
    {
     "name": "stdout",
     "output_type": "stream",
     "text": [
      "1 stores\n"
     ]
    },
    {
     "data": {
      "application/vnd.jupyter.widget-view+json": {
       "model_id": "fdf32500814249d091844030c71a29d5",
       "version_major": 2,
       "version_minor": 0
      },
      "text/plain": [
       "Parsing Locations in TN:   0%|          | 0/4 [00:00<?, ?it/s]"
      ]
     },
     "metadata": {},
     "output_type": "display_data"
    },
    {
     "name": "stdout",
     "output_type": "stream",
     "text": [
      "4 stores\n"
     ]
    },
    {
     "data": {
      "application/vnd.jupyter.widget-view+json": {
       "model_id": "ec72f6604bff4779a610345a6dd4d2e6",
       "version_major": 2,
       "version_minor": 0
      },
      "text/plain": [
       "Parsing Locations in TX:   0%|          | 0/115 [00:00<?, ?it/s]"
      ]
     },
     "metadata": {},
     "output_type": "display_data"
    },
    {
     "name": "stdout",
     "output_type": "stream",
     "text": [
      "195 stores\n"
     ]
    },
    {
     "data": {
      "application/vnd.jupyter.widget-view+json": {
       "model_id": "fc63c00110b84ccaa4b677499f3953c0",
       "version_major": 2,
       "version_minor": 0
      },
      "text/plain": [
       "Parsing Locations in UT:   0%|          | 0/18 [00:00<?, ?it/s]"
      ]
     },
     "metadata": {},
     "output_type": "display_data"
    },
    {
     "name": "stdout",
     "output_type": "stream",
     "text": [
      "21 stores\n"
     ]
    },
    {
     "data": {
      "application/vnd.jupyter.widget-view+json": {
       "model_id": "70778ccfd43e407c8edc93f1d82ba69d",
       "version_major": 2,
       "version_minor": 0
      },
      "text/plain": [
       "Parsing Locations in VT:   0%|          | 0/1 [00:00<?, ?it/s]"
      ]
     },
     "metadata": {},
     "output_type": "display_data"
    },
    {
     "name": "stdout",
     "output_type": "stream",
     "text": [
      "1 stores\n"
     ]
    },
    {
     "data": {
      "application/vnd.jupyter.widget-view+json": {
       "model_id": "2e95e2bf24e6487a9bd76415aff64ced",
       "version_major": 2,
       "version_minor": 0
      },
      "text/plain": [
       "Parsing Locations in VA:   0%|          | 0/18 [00:00<?, ?it/s]"
      ]
     },
     "metadata": {},
     "output_type": "display_data"
    },
    {
     "name": "stdout",
     "output_type": "stream",
     "text": [
      "18 stores\n"
     ]
    },
    {
     "data": {
      "application/vnd.jupyter.widget-view+json": {
       "model_id": "25814056c00d4d12aca21ec395a450df",
       "version_major": 2,
       "version_minor": 0
      },
      "text/plain": [
       "Parsing Locations in WA:   0%|          | 0/35 [00:00<?, ?it/s]"
      ]
     },
     "metadata": {},
     "output_type": "display_data"
    },
    {
     "name": "stdout",
     "output_type": "stream",
     "text": [
      "41 stores\n"
     ]
    },
    {
     "data": {
      "application/vnd.jupyter.widget-view+json": {
       "model_id": "a8871f580b724c62b76cc6fb97459736",
       "version_major": 2,
       "version_minor": 0
      },
      "text/plain": [
       "Parsing Locations in WV:   0%|          | 0/2 [00:00<?, ?it/s]"
      ]
     },
     "metadata": {},
     "output_type": "display_data"
    },
    {
     "name": "stdout",
     "output_type": "stream",
     "text": [
      "2 stores\n"
     ]
    },
    {
     "data": {
      "application/vnd.jupyter.widget-view+json": {
       "model_id": "74cae8209fdc4d0e84aa8adfba32c0cf",
       "version_major": 2,
       "version_minor": 0
      },
      "text/plain": [
       "Parsing Locations in WI:   0%|          | 0/20 [00:00<?, ?it/s]"
      ]
     },
     "metadata": {},
     "output_type": "display_data"
    },
    {
     "name": "stdout",
     "output_type": "stream",
     "text": [
      "23 stores\n"
     ]
    },
    {
     "data": {
      "application/vnd.jupyter.widget-view+json": {
       "model_id": "d6edc5d363d644c1a71924beaf051a52",
       "version_major": 2,
       "version_minor": 0
      },
      "text/plain": [
       "Parsing Locations in WY:   0%|          | 0/4 [00:00<?, ?it/s]"
      ]
     },
     "metadata": {},
     "output_type": "display_data"
    },
    {
     "name": "stdout",
     "output_type": "stream",
     "text": [
      "4 stores\n"
     ]
    }
   ],
   "source": [
    "r = scraper.get(\"https://locations.dennys.com/\")\n",
    "\n",
    "soup = BeautifulSoup(r.text, \"html.parser\")\n",
    "divs = soup.find_all(\"div\", {\"class\": \"states-group-list\"})\n",
    "state_as = sum([div.find_all(\"a\") for div in divs], [])\n",
    "\n",
    "# Parse all locations in a state\n",
    "for state_a in tqdm(state_as, desc=\"Parsing States\"):\n",
    "    state_store_list = []\n",
    "    state_url = state_a.attrs[\"href\"]\n",
    "    state_code = state_url.split(\"/\")[-1]\n",
    "\n",
    "    # If File exists continue\n",
    "    if os.path.isfile(f\"data/states/{state_code}.gpkg\"):\n",
    "        continue\n",
    "\n",
    "    r_state = scraper.get(state_url)\n",
    "\n",
    "    if r_state.status_code != 200:\n",
    "        print(state_code)\n",
    "        continue\n",
    "\n",
    "    soup_state = BeautifulSoup(r_state.text, \"html.parser\")\n",
    "    city_divs = soup_state.find_all(\n",
    "        \"div\", {\"class\": \"city-name col-xs-12 col-sm-6 col-md-4 col-lg-3\"}\n",
    "    )\n",
    "    city_as = [city_div.find(\"a\") for city_div in city_divs]\n",
    "\n",
    "    for city_a in tqdm(city_as, desc=f\"Parsing Locations in {state_code}\"):\n",
    "        city_url = city_a.attrs[\"href\"]\n",
    "        r_city = scraper.get(city_url)\n",
    "        soup_city = BeautifulSoup(r_city.text, \"html.parser\")\n",
    "        store_divs = soup_city.find_all(\"div\", {\"class\": \"gtm-store shadow\"})\n",
    "        store_as = [store_div.find(\"a\") for store_div in store_divs]\n",
    "\n",
    "        for store_a in store_as:\n",
    "            try:\n",
    "                store_url = store_a.attrs[\"href\"]\n",
    "                point = get_coords(store_url)\n",
    "            except Exception as e:\n",
    "                print(store_url, e)\n",
    "            store_dict = {\"STUSPS\": state_code, \"geometry\": point}\n",
    "            state_store_list.append(store_dict)\n",
    "            time.sleep(random.uniform(0.01, 0.5))\n",
    "\n",
    "    if state_store_list:\n",
    "        print(len(state_store_list), \"stores\")\n",
    "        state_dennys_gdf = gpd.GeoDataFrame(state_store_list, crs=4326)\n",
    "        state_dennys_gdf.to_file(f\"data/states/{state_code}.gpkg\")"
   ]
  },
  {
   "cell_type": "code",
   "execution_count": 17,
   "id": "c1d32989-5a24-46f7-954f-a607979d4aa5",
   "metadata": {},
   "outputs": [],
   "source": [
    "dennys_state_gdfs = []\n",
    "states_path = \"data/states\"\n",
    "for file in os.listdir(\"data/states\"):\n",
    "    constructed_path = os.path.join(states_path, file)\n",
    "    if constructed_path.endswith(\".gpkg\"):\n",
    "        dennys_state_gdf = gpd.read_file(constructed_path)\n",
    "        dennys_state_gdfs.append(dennys_state_gdf)"
   ]
  },
  {
   "cell_type": "code",
   "execution_count": 18,
   "id": "8c3dbe83-66a7-4abe-aa82-61170375498c",
   "metadata": {},
   "outputs": [],
   "source": [
    "dennys_gdf = gpd.GeoDataFrame(pd.concat(dennys_state_gdfs, ignore_index=True))"
   ]
  },
  {
   "cell_type": "code",
   "execution_count": 19,
   "id": "82626e84-9c67-4460-a792-9668dbda6768",
   "metadata": {},
   "outputs": [],
   "source": [
    "dennys_gdf = dennys_gdf.to_crs(9311)\n",
    "dennys_gdf.to_file(f\"data/dennys.gpkg\")"
   ]
  },
  {
   "cell_type": "markdown",
   "id": "5a42dfab-fc47-49d7-8092-f08b31392df8",
   "metadata": {},
   "source": [
    "## Get Population Data"
   ]
  },
  {
   "cell_type": "code",
   "execution_count": 24,
   "id": "3cce9c91-abf1-4055-8b9a-5fd1f6cf611f",
   "metadata": {},
   "outputs": [],
   "source": [
    "state_populations = pd.read_excel(\n",
    "    \"data/NST-EST2024-POP.xlsx\", sheet_name=None, engine=\"openpyxl\"\n",
    ")"
   ]
  },
  {
   "cell_type": "code",
   "execution_count": 25,
   "id": "2eaacc28-fa8e-410e-b084-02ce24ec11a1",
   "metadata": {},
   "outputs": [],
   "source": [
    "state_populations_df = state_populations[\"NST-EST2024-POP\"][\n",
    "    [\n",
    "        \"table with row headers in column A and column headers in rows 3 through 4. (leading dots indicate sub-parts)\",\n",
    "        \"Unnamed: 5\",\n",
    "    ]\n",
    "]\n",
    "state_populations_df = state_populations_df.rename(\n",
    "    columns={\n",
    "        \"table with row headers in column A and column headers in rows 3 through 4. (leading dots indicate sub-parts)\": \"NAME\",\n",
    "        \"Unnamed: 5\": \"POPULATION\",\n",
    "    }\n",
    ")\n",
    "state_populations_df[\"NAME\"] = state_populations_df[\"NAME\"].str[1:]"
   ]
  },
  {
   "cell_type": "code",
   "execution_count": 26,
   "id": "2d6342e1-fc3f-4006-8d8a-d7612903a625",
   "metadata": {},
   "outputs": [],
   "source": [
    "states_with_population_df = states_df.merge(state_populations_df, on=\"NAME\", how=\"left\")\n",
    "states_with_population_df = states_with_population_df[\n",
    "    [\"STUSPS\", \"NAME\", \"POPULATION\", \"geometry\"]\n",
    "]"
   ]
  },
  {
   "cell_type": "code",
   "execution_count": 27,
   "id": "94150db1-9ce7-43cb-8c08-3f6d9bb58497",
   "metadata": {},
   "outputs": [],
   "source": [
    "states_with_population_df = states_with_population_df.dropna()"
   ]
  },
  {
   "cell_type": "markdown",
   "id": "af5c5e13-c89d-43ed-8021-13ba93990599",
   "metadata": {},
   "source": [
    "## Merge Data"
   ]
  },
  {
   "cell_type": "code",
   "execution_count": 28,
   "id": "f6900380-39b5-4cca-abf9-b46f7b886f9d",
   "metadata": {},
   "outputs": [],
   "source": [
    "dennys_state_counts_df = pd.DataFrame(\n",
    "    dennys_gdf.groupby(\"STUSPS\").size(), columns=[\"DENNYS\"]\n",
    ").reset_index()"
   ]
  },
  {
   "cell_type": "code",
   "execution_count": 29,
   "id": "8a4afa33-893a-4b6b-8df1-f5151243deeb",
   "metadata": {},
   "outputs": [],
   "source": [
    "dennys_state_counts_df = states_with_population_df.merge(\n",
    "    dennys_state_counts_df, on=\"STUSPS\", how=\"left\"\n",
    ")\n",
    "dennys_state_counts_df = dennys_state_counts_df.fillna(0)"
   ]
  },
  {
   "cell_type": "code",
   "execution_count": 30,
   "id": "f50526e2-4c7a-4d13-8d5e-aaddbeec7751",
   "metadata": {},
   "outputs": [],
   "source": [
    "dennys_state_counts_df[\"per_1000\"] = dennys_state_counts_df[\"DENNYS\"] / (\n",
    "    dennys_state_counts_df[\"POPULATION\"] / 1000\n",
    ")\n",
    "dennys_state_counts_df[\"per_10k\"] = dennys_state_counts_df[\"DENNYS\"] / (\n",
    "    dennys_state_counts_df[\"POPULATION\"] / 10_000\n",
    ")\n",
    "dennys_state_counts_df[\"per_100k\"] = dennys_state_counts_df[\"DENNYS\"] / (\n",
    "    dennys_state_counts_df[\"POPULATION\"] / 100000\n",
    ")\n",
    "dennys_state_counts_df[\"per_500k\"] = dennys_state_counts_df[\"DENNYS\"] / (\n",
    "    dennys_state_counts_df[\"POPULATION\"] / 500_000\n",
    ")\n",
    "dennys_state_counts_df[\"per_1m\"] = dennys_state_counts_df[\"DENNYS\"] / (\n",
    "    dennys_state_counts_df[\"POPULATION\"] / 1_000_000\n",
    ")\n",
    "dennys_state_counts_df[\"per_capita\"] = (\n",
    "    dennys_state_counts_df[\"POPULATION\"] / dennys_state_counts_df[\"DENNYS\"]\n",
    ")"
   ]
  },
  {
   "cell_type": "code",
   "execution_count": 31,
   "id": "4d00c57e-a978-4938-b5f5-cb176b29cf77",
   "metadata": {},
   "outputs": [],
   "source": [
    "dennys_state_counts_df = dennys_state_counts_df.to_crs(9311)"
   ]
  },
  {
   "cell_type": "code",
   "execution_count": 32,
   "id": "f8feb339-fc3c-41f9-8bd8-50ee507bb185",
   "metadata": {},
   "outputs": [],
   "source": [
    "dennys_state_counts_df.to_file(\"data/dennys_per_state.gpkg\")"
   ]
  },
  {
   "cell_type": "code",
   "execution_count": null,
   "id": "6fe12df3-c59b-48b5-bd11-cdbae9436a65",
   "metadata": {},
   "outputs": [],
   "source": []
  }
 ],
 "metadata": {
  "kernelspec": {
   "display_name": "Python 3 (ipykernel)",
   "language": "python",
   "name": "python3"
  },
  "language_info": {
   "codemirror_mode": {
    "name": "ipython",
    "version": 3
   },
   "file_extension": ".py",
   "mimetype": "text/x-python",
   "name": "python",
   "nbconvert_exporter": "python",
   "pygments_lexer": "ipython3",
   "version": "3.11.11"
  }
 },
 "nbformat": 4,
 "nbformat_minor": 5
}
