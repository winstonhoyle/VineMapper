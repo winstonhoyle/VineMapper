{
 "cells": [
  {
   "cell_type": "code",
   "execution_count": 23,
   "id": "3602774a-bece-40da-bc0b-6d2b1b531eaa",
   "metadata": {},
   "outputs": [],
   "source": [
    "import geopandas as gpd\n",
    "import pandas as pd"
   ]
  },
  {
   "cell_type": "markdown",
   "id": "1c73ab1f-e735-4ef1-ab14-4cb84611ae0a",
   "metadata": {},
   "source": [
    "## Open GIS Data"
   ]
  },
  {
   "cell_type": "code",
   "execution_count": 24,
   "id": "4a14f105-db30-45fb-af3b-77ca20dbf12c",
   "metadata": {},
   "outputs": [],
   "source": [
    "file_path = \"data/cb_2018_us_state_500k/cb_2018_us_state_500k.shp\"\n",
    "states_df = gpd.read_file(file_path)"
   ]
  },
  {
   "cell_type": "markdown",
   "id": "a4392443-128d-4780-803d-fae508aa0f54",
   "metadata": {},
   "source": [
    "## Get Population Data"
   ]
  },
  {
   "cell_type": "code",
   "execution_count": 25,
   "id": "4323a2aa-3e8f-46c1-bc3b-892e64ddc21b",
   "metadata": {},
   "outputs": [],
   "source": [
    "acs_pop = pd.read_csv(\"data/ACSDT5Y2021.B01003-2025-01-03T214138.csv\")"
   ]
  },
  {
   "cell_type": "code",
   "execution_count": 26,
   "id": "3d41384c-15e1-403c-bdc7-496a3309252d",
   "metadata": {},
   "outputs": [],
   "source": [
    "rename_columns = {}\n",
    "for column in list(acs_pop.columns):\n",
    "    str_split = column.split(\"!!\")\n",
    "    if len(str_split) == 2:\n",
    "        if str_split[1] == \"Estimate\":\n",
    "            rename_columns[column] = str_split[0].strip()\n",
    "    else:\n",
    "        continue\n",
    "\n",
    "states = list(rename_columns.values())\n",
    "rename_columns[\"Label (Grouping)\"] = \"group\"\n",
    "states.append(\"group\")\n",
    "acs_pop = acs_pop.rename(columns=rename_columns)"
   ]
  },
  {
   "cell_type": "code",
   "execution_count": 27,
   "id": "6200a989-7003-47aa-af20-25261ca70a6b",
   "metadata": {},
   "outputs": [],
   "source": [
    "acs_pop = acs_pop.T.reset_index()\n",
    "acs_pop.columns = acs_pop.iloc[0]\n",
    "acs_pop = acs_pop.drop(acs_pop.index[0])"
   ]
  },
  {
   "cell_type": "code",
   "execution_count": 28,
   "id": "abea6d3b-8561-4b12-8eb7-4b685043e755",
   "metadata": {},
   "outputs": [],
   "source": [
    "acs_pop[\"POPULATION\"] = acs_pop[\"Total\"].str.replace(\",\", \"\").astype(int)\n",
    "acs_pop[\"NAME\"] = acs_pop[\"group\"]"
   ]
  },
  {
   "cell_type": "code",
   "execution_count": 29,
   "id": "1df685a0-c230-459c-bfce-95ec5e392c58",
   "metadata": {},
   "outputs": [],
   "source": [
    "acs_pop = acs_pop[[\"NAME\", \"POPULATION\"]]"
   ]
  },
  {
   "cell_type": "markdown",
   "id": "3d8a5b7d-64cc-4bad-b441-62e614bdc3c8",
   "metadata": {},
   "source": [
    "## Merge Population With States Data"
   ]
  },
  {
   "cell_type": "code",
   "execution_count": 30,
   "id": "22623610-3952-4aa7-bda0-03c2bf6b4645",
   "metadata": {},
   "outputs": [],
   "source": [
    "states_population_gdf = states_df.merge(acs_pop, on=\"NAME\", how=\"inner\")[\n",
    "    [\"geometry\", \"NAME\", \"POPULATION\"]\n",
    "]\n",
    "states_population_gdf = states_population_gdf.reset_index(drop=True)"
   ]
  },
  {
   "cell_type": "markdown",
   "id": "c27c029d-e8cb-40ff-89e7-63b12f575249",
   "metadata": {},
   "source": [
    "## Get Ethnic Data"
   ]
  },
  {
   "cell_type": "code",
   "execution_count": 31,
   "id": "91ee61b1-0872-453d-91c5-b3eeb77f220a",
   "metadata": {},
   "outputs": [],
   "source": [
    "acs_cubans = pd.read_csv(\"data/ACSDT5YSPT2021.B05001-2025-01-03T213506.csv\")"
   ]
  },
  {
   "cell_type": "code",
   "execution_count": 32,
   "id": "c7ecf3be-8eaa-4ef5-bbf3-b53dbc29636e",
   "metadata": {},
   "outputs": [],
   "source": [
    "rename_columns = {}\n",
    "for column in list(acs_cubans.columns):\n",
    "    str_split = column.split(\"!!\")\n",
    "    if len(str_split) == 3:\n",
    "        if str_split[2] == \"Estimate\":\n",
    "            rename_columns[column] = str_split[0].strip()\n",
    "    else:\n",
    "        continue"
   ]
  },
  {
   "cell_type": "code",
   "execution_count": 33,
   "id": "22df1129-4fbc-4b2d-a46f-6cf1086fa156",
   "metadata": {},
   "outputs": [],
   "source": [
    "states = list(rename_columns.values())"
   ]
  },
  {
   "cell_type": "code",
   "execution_count": 34,
   "id": "cecff627-3586-4497-b8cb-4a3d430b6a67",
   "metadata": {},
   "outputs": [],
   "source": [
    "rename_columns[\"Label (Grouping)\"] = \"group\"\n",
    "states.append(\"group\")\n",
    "acs_cubans = acs_cubans.rename(columns=rename_columns)"
   ]
  },
  {
   "cell_type": "code",
   "execution_count": 35,
   "id": "81c6ce2c-273d-4c09-b519-59b62d78b9c0",
   "metadata": {},
   "outputs": [],
   "source": [
    "acs_cubans = acs_cubans[states]\n",
    "states.remove(\"group\")"
   ]
  },
  {
   "cell_type": "markdown",
   "id": "ea5bd5ca-77c7-4596-8c8c-f7d50dd09f1a",
   "metadata": {},
   "source": [
    "#### Remove the last record as it's the titles, set then remove."
   ]
  },
  {
   "cell_type": "code",
   "execution_count": 36,
   "id": "62239b53-b4e2-4c36-a5b6-63af21987ed1",
   "metadata": {},
   "outputs": [],
   "source": [
    "acs_cubans = acs_cubans.T.reset_index()\n",
    "acs_cubans.columns = acs_cubans.iloc[49]\n",
    "acs_cubans = acs_cubans.drop(acs_cubans.index[49])"
   ]
  },
  {
   "cell_type": "code",
   "execution_count": 38,
   "id": "22da46c2-77a4-461b-ab44-0a1ad5d20114",
   "metadata": {},
   "outputs": [],
   "source": [
    "acs_cubans[\"CUBANS\"] = (\n",
    "    acs_cubans[\"Total:\"].astype(str).str.replace(\",\", \"\", regex=True).astype(int)\n",
    ")\n",
    "acs_cubans[\"NAME\"] = acs_cubans[\"group\"]\n",
    "acs_cubans = acs_cubans[[\"NAME\", \"CUBANS\"]]"
   ]
  },
  {
   "cell_type": "markdown",
   "id": "6cfad3eb-2d55-4258-ac9c-7c34e073d369",
   "metadata": {},
   "source": [
    "## Merge Cuban And Population"
   ]
  },
  {
   "cell_type": "code",
   "execution_count": 39,
   "id": "852d9c23-bfa0-4cfc-a7e4-fb86126441b4",
   "metadata": {},
   "outputs": [],
   "source": [
    "cubans_per_state_gdf = states_population_gdf.merge(acs_cubans, on=\"NAME\", how=\"left\")"
   ]
  },
  {
   "cell_type": "code",
   "execution_count": 55,
   "id": "ca791af7-a2bd-4909-863b-758be9ab5f9f",
   "metadata": {},
   "outputs": [],
   "source": [
    "cubans_per_state_gdf[\"per_1000\"] = cubans_per_state_gdf[\"CUBANS\"] / (\n",
    "    cubans_per_state_gdf[\"POPULATION\"] / 1000\n",
    ")\n",
    "cubans_per_state_gdf[\"per_10k\"] = (\n",
    "    (cubans_per_state_gdf[\"CUBANS\"] / (cubans_per_state_gdf[\"POPULATION\"] / 10_000))\n",
    "    .round()\n",
    "    .astype(int)\n",
    ")\n",
    "cubans_per_state_gdf[\"per_100k\"] = (\n",
    "    (cubans_per_state_gdf[\"CUBANS\"] / (cubans_per_state_gdf[\"POPULATION\"] / 100000))\n",
    "    .round()\n",
    "    .astype(int)\n",
    ")\n",
    "cubans_per_state_gdf[\"per_500k\"] = (\n",
    "    (cubans_per_state_gdf[\"CUBANS\"] / (cubans_per_state_gdf[\"POPULATION\"] / 500_000))\n",
    "    .round()\n",
    "    .astype(int)\n",
    ")\n",
    "cubans_per_state_gdf[\"per_1m\"] = (\n",
    "    (cubans_per_state_gdf[\"CUBANS\"] / (cubans_per_state_gdf[\"POPULATION\"] / 1_000_000))\n",
    "    .round()\n",
    "    .astype(int)\n",
    ")"
   ]
  },
  {
   "cell_type": "code",
   "execution_count": 57,
   "id": "fa13d615-6693-4dc4-b2b1-9451cb539f17",
   "metadata": {},
   "outputs": [],
   "source": [
    "cubans_per_state_gdf = cubans_per_state_gdf.fillna(0)"
   ]
  },
  {
   "cell_type": "code",
   "execution_count": 58,
   "id": "cb82b408-71ab-4cdd-98c2-cedeccf83c38",
   "metadata": {},
   "outputs": [],
   "source": [
    "cubans_per_state_gdf = cubans_per_state_gdf.to_crs(9311)"
   ]
  },
  {
   "cell_type": "code",
   "execution_count": 59,
   "id": "26c28d2e-563f-4599-9050-b69188c4b73d",
   "metadata": {},
   "outputs": [],
   "source": [
    "cubans_per_state_gdf.to_file(\"data/cubans.gpkg\")"
   ]
  },
  {
   "cell_type": "code",
   "execution_count": null,
   "id": "644ef200-d75b-445e-9ecc-557a68ea57ba",
   "metadata": {},
   "outputs": [],
   "source": []
  }
 ],
 "metadata": {
  "kernelspec": {
   "display_name": "Python 3 (ipykernel)",
   "language": "python",
   "name": "python3"
  },
  "language_info": {
   "codemirror_mode": {
    "name": "ipython",
    "version": 3
   },
   "file_extension": ".py",
   "mimetype": "text/x-python",
   "name": "python",
   "nbconvert_exporter": "python",
   "pygments_lexer": "ipython3",
   "version": "3.11.11"
  }
 },
 "nbformat": 4,
 "nbformat_minor": 5
}
