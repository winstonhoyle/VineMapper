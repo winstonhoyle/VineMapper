{
 "cells": [
  {
   "cell_type": "code",
   "execution_count": 1,
   "id": "6c8b506a-4477-4416-bd68-b44f0b27a407",
   "metadata": {},
   "outputs": [],
   "source": [
    "import geopandas as gpd\n",
    "import pandas as pd"
   ]
  },
  {
   "cell_type": "markdown",
   "id": "501b8f83-ceb2-4292-93d5-56f8dcd37cd8",
   "metadata": {},
   "source": [
    "## Open Geojson"
   ]
  },
  {
   "cell_type": "code",
   "execution_count": 2,
   "id": "4b832cd6-014c-4a54-b0c0-6b42255e20ce",
   "metadata": {},
   "outputs": [],
   "source": [
    "bulgaria_gdf = gpd.read_file(\"data/bg.json\")"
   ]
  },
  {
   "cell_type": "code",
   "execution_count": 3,
   "id": "245498fb-280b-40b3-946c-4a0d6dbc434a",
   "metadata": {},
   "outputs": [],
   "source": [
    "bulgaria_gdf[\"name\"] = bulgaria_gdf[\"name\"].str.lower()\n",
    "bulgaria_gdf = bulgaria_gdf.replace(\"grad sofiya\", \"sofia-grad\")"
   ]
  },
  {
   "cell_type": "markdown",
   "id": "0643d5ed-8563-475d-9572-3c635f6f8104",
   "metadata": {},
   "source": [
    "## Open 2021 Population data"
   ]
  },
  {
   "cell_type": "code",
   "execution_count": 4,
   "id": "ba325d9f-213d-4d40-977b-a21c142f50a5",
   "metadata": {},
   "outputs": [],
   "source": [
    "raw_population_2021_df = pd.read_csv(\"data/report_1750632621734.csv\", sep=\";\")"
   ]
  },
  {
   "cell_type": "code",
   "execution_count": 5,
   "id": "f9f85d15-b71e-41d0-858b-7088496a3913",
   "metadata": {},
   "outputs": [],
   "source": [
    "formatted_raw_population_2021_df = (\n",
    "    raw_population_2021_df.rename(\n",
    "        columns={\"Unnamed: 0\": \"name\", \"Number\": \"POPULATION\", \"Number.1\": \"TURKISH\"}\n",
    "    )\n",
    "    .iloc[2:]\n",
    "    .reset_index(drop=True)\n",
    ")\n",
    "formatted_raw_population_2021_df = formatted_raw_population_2021_df[\n",
    "    formatted_raw_population_2021_df[\"name\"].str.match(r\"^([A-Z]{3})\\b\", na=False)\n",
    "]\n",
    "formatted_raw_population_2021_df[\"name\"] = (\n",
    "    formatted_raw_population_2021_df[\"name\"].str.split(\" \").str[1:].str.join(\" \")\n",
    ")\n",
    "formatted_raw_population_2021_df[\"POPULATION\"] = formatted_raw_population_2021_df[\n",
    "    \"POPULATION\"\n",
    "].astype(int)\n",
    "formatted_raw_population_2021_df[\"TURKISH\"] = formatted_raw_population_2021_df[\n",
    "    \"TURKISH\"\n",
    "].replace(\"-\", 0)\n",
    "formatted_raw_population_2021_df[\"TURKISH\"] = formatted_raw_population_2021_df[\n",
    "    \"TURKISH\"\n",
    "].astype(int)\n",
    "formatted_raw_population_2021_df[\"name\"] = formatted_raw_population_2021_df[\n",
    "    \"name\"\n",
    "].str.lower()"
   ]
  },
  {
   "cell_type": "code",
   "execution_count": 6,
   "id": "243feca3-adf8-49ed-aa46-513f15bb8675",
   "metadata": {},
   "outputs": [],
   "source": [
    "formatted_raw_population_2021_df = formatted_raw_population_2021_df[\n",
    "    [\"name\", \"POPULATION\", \"TURKISH\"]\n",
    "]"
   ]
  },
  {
   "cell_type": "markdown",
   "id": "280ff7b4-c8af-4b72-a8aa-62f78e132572",
   "metadata": {},
   "source": [
    "## Open 2011 Population Data"
   ]
  },
  {
   "cell_type": "code",
   "execution_count": 7,
   "id": "908cceb4-2a8a-44ac-82b9-a0848c113987",
   "metadata": {},
   "outputs": [],
   "source": [
    "raw_population_2011_df = pd.read_excel(\n",
    "    \"data/population-2011censusdata.xls\", sheet_name=\"Ethnic group and districts\"\n",
    ")"
   ]
  },
  {
   "cell_type": "code",
   "execution_count": 8,
   "id": "86eb30dc-2353-4d7a-91b7-92b9160d5b57",
   "metadata": {},
   "outputs": [],
   "source": [
    "formatted_raw_population_2011_df = raw_population_2011_df.rename(\n",
    "    columns={\n",
    "        \"POPULATION BY ETHNIC GROUP AND DISTRICTS AS OF 01.02.2011 \": \"name\",\n",
    "        \"Unnamed: 1\": \"POPULATION\",\n",
    "        \"Unnamed: 3\": \"TURKISH\",\n",
    "    }\n",
    ").iloc[4:]\n",
    "formatted_raw_population_2011_df[\"POPULATION\"] = formatted_raw_population_2011_df[\n",
    "    \"POPULATION\"\n",
    "].astype(int)\n",
    "formatted_raw_population_2011_df[\"TURKISH\"] = formatted_raw_population_2011_df[\n",
    "    \"TURKISH\"\n",
    "].astype(int)\n",
    "formatted_raw_population_2011_df[\"name\"] = formatted_raw_population_2011_df[\n",
    "    \"name\"\n",
    "].str.lower()"
   ]
  },
  {
   "cell_type": "code",
   "execution_count": 9,
   "id": "bd458976-9766-48a0-aaba-df0cb3b65012",
   "metadata": {},
   "outputs": [],
   "source": [
    "formatted_raw_population_2011_df = formatted_raw_population_2011_df[\n",
    "    [\"name\", \"POPULATION\", \"TURKISH\"]\n",
    "]\n",
    "formatted_raw_population_2011_df = formatted_raw_population_2011_df.iloc[\n",
    "    1:\n",
    "].reset_index(drop=True)"
   ]
  },
  {
   "cell_type": "markdown",
   "id": "cdbfb263-14c3-45d3-a881-d218773f156a",
   "metadata": {},
   "source": [
    "## Merge Data"
   ]
  },
  {
   "cell_type": "code",
   "execution_count": 10,
   "id": "713a6eec-f496-4b73-a3df-a557fc0b1c25",
   "metadata": {},
   "outputs": [],
   "source": [
    "formatted_raw_population_2011_df = formatted_raw_population_2011_df.replace(\n",
    "    {\"sofia cap\": \"sofia-grad\"}\n",
    ")"
   ]
  },
  {
   "cell_type": "code",
   "execution_count": 11,
   "id": "fbbe507b-3b0a-465a-8093-760d060ee2ee",
   "metadata": {},
   "outputs": [],
   "source": [
    "population_change_df = formatted_raw_population_2011_df.merge(\n",
    "    formatted_raw_population_2021_df, on=\"name\", how=\"left\", suffixes=(\"_2011\", \"_2021\")\n",
    ")"
   ]
  },
  {
   "cell_type": "code",
   "execution_count": 13,
   "id": "78fe3520-7675-4e0f-846d-570ede258d4a",
   "metadata": {},
   "outputs": [],
   "source": [
    "population_change_df[\"DIFF_TURKISH\"] = (\n",
    "    population_change_df[\"TURKISH_2021\"] - population_change_df[\"TURKISH_2011\"]\n",
    ")\n",
    "population_change_df[\"PERCENT_DIFF_TURKISH\"] = (\n",
    "    (population_change_df[\"DIFF_TURKISH\"] / population_change_df[\"TURKISH_2011\"]) * 100\n",
    ").round(decimals=2)\n",
    "population_change_df[\"DIFF_TOTAL\"] = (\n",
    "    population_change_df[\"POPULATION_2021\"] - population_change_df[\"POPULATION_2011\"]\n",
    ")\n",
    "population_change_df[\"PERCENT_DIFF_TOTAL\"] = (\n",
    "    (population_change_df[\"DIFF_TOTAL\"] / population_change_df[\"POPULATION_2011\"]) * 100\n",
    ").round(decimals=2)"
   ]
  },
  {
   "cell_type": "markdown",
   "id": "61bbea6a-153e-4c10-8054-0effdbae489f",
   "metadata": {},
   "source": [
    "## Merge data and export"
   ]
  },
  {
   "cell_type": "code",
   "execution_count": 17,
   "id": "c7b4bd43-70cc-4a6c-9b3d-be709f100cec",
   "metadata": {},
   "outputs": [],
   "source": [
    "population_gdf = bulgaria_gdf.merge(population_change_df, on=\"name\", how=\"right\")"
   ]
  },
  {
   "cell_type": "code",
   "execution_count": 18,
   "id": "37596e6c-39b9-4743-aa20-a09ad0a2c16c",
   "metadata": {},
   "outputs": [],
   "source": [
    "population_gdf = population_gdf.to_crs(7803)\n",
    "population_gdf.to_file(\"data/bulgaria_population.gpkg\")"
   ]
  },
  {
   "cell_type": "code",
   "execution_count": null,
   "id": "740780c4-977b-4173-91d7-4c1b9c5643c6",
   "metadata": {},
   "outputs": [],
   "source": []
  }
 ],
 "metadata": {
  "kernelspec": {
   "display_name": "Python 3 (ipykernel)",
   "language": "python",
   "name": "python3"
  },
  "language_info": {
   "codemirror_mode": {
    "name": "ipython",
    "version": 3
   },
   "file_extension": ".py",
   "mimetype": "text/x-python",
   "name": "python",
   "nbconvert_exporter": "python",
   "pygments_lexer": "ipython3",
   "version": "3.11.11"
  }
 },
 "nbformat": 4,
 "nbformat_minor": 5
}
