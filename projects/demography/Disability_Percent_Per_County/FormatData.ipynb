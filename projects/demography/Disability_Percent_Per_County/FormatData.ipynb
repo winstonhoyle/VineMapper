{
 "cells": [
  {
   "cell_type": "code",
   "execution_count": 16,
   "id": "c4323fb2-1721-463e-8602-d1c3302ff523",
   "metadata": {},
   "outputs": [],
   "source": [
    "import geopandas as gpd\n",
    "import pandas as pd"
   ]
  },
  {
   "cell_type": "markdown",
   "id": "7bfd8f31-eada-447d-af06-da8a94290c02",
   "metadata": {},
   "source": [
    "## Open State data"
   ]
  },
  {
   "cell_type": "code",
   "execution_count": 17,
   "id": "5fadd853-8ad5-4832-976a-4d251d5a794b",
   "metadata": {},
   "outputs": [],
   "source": [
    "file_path = \"data/cb_2018_us_county_500k/cb_2018_us_county_500k.shp\"\n",
    "counties_gdf = gpd.read_file(file_path)\n",
    "counties_gdf = counties_gdf[counties_gdf[\"STATEFP\"] != \"09\"][[\"geometry\", \"AFFGEOID\"]]\n",
    "counties_gdf = counties_gdf.to_crs(4326)"
   ]
  },
  {
   "cell_type": "markdown",
   "id": "6f8d8f18-f40f-488f-bfc6-b1cd6acc6848",
   "metadata": {},
   "source": [
    "#### Format for CT"
   ]
  },
  {
   "cell_type": "code",
   "execution_count": 18,
   "id": "a78351e7-8bc5-4e11-a904-46694e277a8a",
   "metadata": {},
   "outputs": [],
   "source": [
    "ct_gdf = gpd.read_file(\"data/CT_Planning_Regions.geojson\")\n",
    "ct_gdf[\"AFFGEOID\"] = \"0500000US\" + ct_gdf[\"PlanningRegionFIPS_GEOID\"]"
   ]
  },
  {
   "cell_type": "code",
   "execution_count": 19,
   "id": "85222d5d-1a07-4295-96cd-7adfd3841375",
   "metadata": {},
   "outputs": [],
   "source": [
    "counties_gdf = pd.concat(\n",
    "    [ct_gdf[[\"geometry\", \"AFFGEOID\"]], counties_gdf], ignore_index=True\n",
    ")"
   ]
  },
  {
   "cell_type": "markdown",
   "id": "74b55cfa-2db3-4a7c-bd04-0b341757effe",
   "metadata": {},
   "source": [
    "## Get Disability Percents"
   ]
  },
  {
   "cell_type": "code",
   "execution_count": 20,
   "id": "3992f69b-d2c6-4058-879b-b3df9efd2c6a",
   "metadata": {},
   "outputs": [],
   "source": [
    "disability_df = pd.read_csv(\n",
    "    \"data/ACSST5Y2023.S1810_2025-05-07T160024/ACSST5Y2023.S1810-Data.csv\",\n",
    "    low_memory=False,\n",
    ")"
   ]
  },
  {
   "cell_type": "markdown",
   "id": "882f6ea0-65a2-404e-8c20-4571501b5685",
   "metadata": {},
   "source": [
    "#### Get Column names"
   ]
  },
  {
   "cell_type": "code",
   "execution_count": 21,
   "id": "4a3b0141-aaf8-405a-bfd0-eef85e9d5b94",
   "metadata": {},
   "outputs": [],
   "source": [
    "acs_column_names = pd.read_csv(\n",
    "    \"data/ACSST5Y2023.S1810_2025-05-07T160024/ACSST5Y2023.S1810-Column-Metadata.csv\"\n",
    ")"
   ]
  },
  {
   "cell_type": "code",
   "execution_count": 22,
   "id": "07d142e8-e490-4174-ac05-41eadf749b12",
   "metadata": {},
   "outputs": [],
   "source": [
    "disability_cols = list(\n",
    "    acs_column_names[\n",
    "        (acs_column_names[\"Column Name\"] == \"S1810_C01_001E\")\n",
    "        | (acs_column_names[\"Column Name\"] == \"S1810_C03_001E\")\n",
    "    ][\"Column Name\"]\n",
    ")"
   ]
  },
  {
   "cell_type": "markdown",
   "id": "c156cb57-84a4-47fe-81d8-2691da36f9d8",
   "metadata": {},
   "source": [
    "#### Back to Data"
   ]
  },
  {
   "cell_type": "code",
   "execution_count": 23,
   "id": "46820b78-1f2a-4160-8205-6be79a179254",
   "metadata": {},
   "outputs": [],
   "source": [
    "disability_df = acs_internet[[\"GEO_ID\", *disability_cols]]W\n",
    "disability_df.columns = disability_df.iloc[0]\n",
    "disability_df = disability_df[1:]\n",
    "disability_df = disability_df.rename(\n",
    "    columns={\n",
    "        \"Estimate!!Total!!Total civilian noninstitutionalized population\": \"TOTAL\",\n",
    "        \"Estimate!!Percent with a disability!!Total civilian noninstitutionalized population\": \"PERCENT\",\n",
    "        \"Geography\": \"AFFGEOID\",\n",
    "    }\n",
    ")"
   ]
  },
  {
   "cell_type": "markdown",
   "id": "ea0435b2-f5f4-4186-853b-615f63cc50aa",
   "metadata": {},
   "source": [
    "## Merge Data"
   ]
  },
  {
   "cell_type": "code",
   "execution_count": 67,
   "id": "335e5a07-6df8-46bf-bc7d-1512019384fd",
   "metadata": {},
   "outputs": [],
   "source": [
    "disability_gdf = counties_gdf.merge(disability_df, on=\"AFFGEOID\", how=\"left\")"
   ]
  },
  {
   "cell_type": "code",
   "execution_count": 68,
   "id": "8aab9d27-4076-4866-a884-10d8294d0a91",
   "metadata": {},
   "outputs": [],
   "source": [
    "disability_gdf[\"county_id\"] = disability_gdf[\"AFFGEOID\"].str[9:]\n",
    "disability_gdf[\"state_id\"] = disability_gdf[\"AFFGEOID\"].str[9:11]"
   ]
  },
  {
   "cell_type": "code",
   "execution_count": 69,
   "id": "703fcf06-203c-4be9-ac83-c9373e5c92d5",
   "metadata": {},
   "outputs": [],
   "source": [
    "disability_gdf = disability_gdf.fillna(0)\n",
    "disability_gdf[\"TOTAL\"] = disability_gdf[\"TOTAL\"].astype(int)\n",
    "disability_gdf[\"PERCENT\"] = disability_gdf[\"PERCENT\"].astype(float)"
   ]
  },
  {
   "cell_type": "code",
   "execution_count": 70,
   "id": "f3ab89d0-e0f4-4ce5-b364-475c17be1e9f",
   "metadata": {},
   "outputs": [],
   "source": [
    "disability_gdf = disability_gdf[\n",
    "    ~disability_gdf[\"state_id\"].isin([\"60\", \"66\", \"69\", \"72\", \"78\"])\n",
    "].reset_index(drop=True)"
   ]
  },
  {
   "cell_type": "code",
   "execution_count": 71,
   "id": "ae923604-fd11-4c7d-a480-4f53abaeafbc",
   "metadata": {},
   "outputs": [],
   "source": [
    "disability_gdf = disability_gdf.to_crs(9311)\n",
    "disability_gdf.to_file(\"data/disability.gpkg\")"
   ]
  },
  {
   "cell_type": "code",
   "execution_count": 72,
   "id": "e05f8aae-9b3e-488c-b776-2967596dbde3",
   "metadata": {},
   "outputs": [
    {
     "data": {
      "text/html": [
       "<div>\n",
       "<style scoped>\n",
       "    .dataframe tbody tr th:only-of-type {\n",
       "        vertical-align: middle;\n",
       "    }\n",
       "\n",
       "    .dataframe tbody tr th {\n",
       "        vertical-align: top;\n",
       "    }\n",
       "\n",
       "    .dataframe thead th {\n",
       "        text-align: right;\n",
       "    }\n",
       "</style>\n",
       "<table border=\"1\" class=\"dataframe\">\n",
       "  <thead>\n",
       "    <tr style=\"text-align: right;\">\n",
       "      <th></th>\n",
       "      <th>geometry</th>\n",
       "      <th>AFFGEOID</th>\n",
       "      <th>TOTAL</th>\n",
       "      <th>PERCENT</th>\n",
       "      <th>county_id</th>\n",
       "      <th>state_id</th>\n",
       "    </tr>\n",
       "  </thead>\n",
       "  <tbody>\n",
       "    <tr>\n",
       "      <th>216</th>\n",
       "      <td>MULTIPOLYGON (((261305.708 -2003968.269, 26196...</td>\n",
       "      <td>0500000US48261</td>\n",
       "      <td>52</td>\n",
       "      <td>51.9</td>\n",
       "      <td>48261</td>\n",
       "      <td>48</td>\n",
       "    </tr>\n",
       "    <tr>\n",
       "      <th>804</th>\n",
       "      <td>POLYGON ((-377925.058 -1434337.126, -377709.86...</td>\n",
       "      <td>0500000US48301</td>\n",
       "      <td>54</td>\n",
       "      <td>42.6</td>\n",
       "      <td>48301</td>\n",
       "      <td>48</td>\n",
       "    </tr>\n",
       "    <tr>\n",
       "      <th>1724</th>\n",
       "      <td>POLYGON ((-843773.732 -1259482.941, -842510.80...</td>\n",
       "      <td>0500000US35003</td>\n",
       "      <td>3679</td>\n",
       "      <td>39.7</td>\n",
       "      <td>35003</td>\n",
       "      <td>35</td>\n",
       "    </tr>\n",
       "    <tr>\n",
       "      <th>2313</th>\n",
       "      <td>POLYGON ((1042893.659 -817572.517, 1044303.914...</td>\n",
       "      <td>0500000US21143</td>\n",
       "      <td>7314</td>\n",
       "      <td>38.0</td>\n",
       "      <td>21143</td>\n",
       "      <td>21</td>\n",
       "    </tr>\n",
       "    <tr>\n",
       "      <th>305</th>\n",
       "      <td>POLYGON ((1534921.728 -705507.468, 1535186.303...</td>\n",
       "      <td>0500000US51051</td>\n",
       "      <td>13466</td>\n",
       "      <td>37.7</td>\n",
       "      <td>51051</td>\n",
       "      <td>51</td>\n",
       "    </tr>\n",
       "    <tr>\n",
       "      <th>...</th>\n",
       "      <td>...</td>\n",
       "      <td>...</td>\n",
       "      <td>...</td>\n",
       "      <td>...</td>\n",
       "      <td>...</td>\n",
       "      <td>...</td>\n",
       "    </tr>\n",
       "    <tr>\n",
       "      <th>1052</th>\n",
       "      <td>POLYGON ((-870715.457 22385.368, -847028.453 1...</td>\n",
       "      <td>0500000US56039</td>\n",
       "      <td>23276</td>\n",
       "      <td>6.4</td>\n",
       "      <td>56039</td>\n",
       "      <td>56</td>\n",
       "    </tr>\n",
       "    <tr>\n",
       "      <th>649</th>\n",
       "      <td>POLYGON ((-791897.096 -735282.839, -791872.081...</td>\n",
       "      <td>0500000US08113</td>\n",
       "      <td>8013</td>\n",
       "      <td>6.0</td>\n",
       "      <td>08113</td>\n",
       "      <td>08</td>\n",
       "    </tr>\n",
       "    <tr>\n",
       "      <th>301</th>\n",
       "      <td>POLYGON ((-977362.379 -400353.839, -977101.463...</td>\n",
       "      <td>0500000US49043</td>\n",
       "      <td>42612</td>\n",
       "      <td>5.9</td>\n",
       "      <td>49043</td>\n",
       "      <td>49</td>\n",
       "    </tr>\n",
       "    <tr>\n",
       "      <th>1012</th>\n",
       "      <td>POLYGON ((-701862.731 -779501.501, -701541.255...</td>\n",
       "      <td>0500000US08111</td>\n",
       "      <td>690</td>\n",
       "      <td>2.9</td>\n",
       "      <td>08111</td>\n",
       "      <td>08</td>\n",
       "    </tr>\n",
       "    <tr>\n",
       "      <th>1186</th>\n",
       "      <td>MULTIPOLYGON (((-2304166.651 2378120.102, -230...</td>\n",
       "      <td>0500000US02261</td>\n",
       "      <td>0</td>\n",
       "      <td>0.0</td>\n",
       "      <td>02261</td>\n",
       "      <td>02</td>\n",
       "    </tr>\n",
       "  </tbody>\n",
       "</table>\n",
       "<p>3143 rows × 6 columns</p>\n",
       "</div>"
      ],
      "text/plain": [
       "                                               geometry        AFFGEOID  \\\n",
       "216   MULTIPOLYGON (((261305.708 -2003968.269, 26196...  0500000US48261   \n",
       "804   POLYGON ((-377925.058 -1434337.126, -377709.86...  0500000US48301   \n",
       "1724  POLYGON ((-843773.732 -1259482.941, -842510.80...  0500000US35003   \n",
       "2313  POLYGON ((1042893.659 -817572.517, 1044303.914...  0500000US21143   \n",
       "305   POLYGON ((1534921.728 -705507.468, 1535186.303...  0500000US51051   \n",
       "...                                                 ...             ...   \n",
       "1052  POLYGON ((-870715.457 22385.368, -847028.453 1...  0500000US56039   \n",
       "649   POLYGON ((-791897.096 -735282.839, -791872.081...  0500000US08113   \n",
       "301   POLYGON ((-977362.379 -400353.839, -977101.463...  0500000US49043   \n",
       "1012  POLYGON ((-701862.731 -779501.501, -701541.255...  0500000US08111   \n",
       "1186  MULTIPOLYGON (((-2304166.651 2378120.102, -230...  0500000US02261   \n",
       "\n",
       "      TOTAL  PERCENT county_id state_id  \n",
       "216      52     51.9     48261       48  \n",
       "804      54     42.6     48301       48  \n",
       "1724   3679     39.7     35003       35  \n",
       "2313   7314     38.0     21143       21  \n",
       "305   13466     37.7     51051       51  \n",
       "...     ...      ...       ...      ...  \n",
       "1052  23276      6.4     56039       56  \n",
       "649    8013      6.0     08113       08  \n",
       "301   42612      5.9     49043       49  \n",
       "1012    690      2.9     08111       08  \n",
       "1186      0      0.0     02261       02  \n",
       "\n",
       "[3143 rows x 6 columns]"
      ]
     },
     "execution_count": 72,
     "metadata": {},
     "output_type": "execute_result"
    }
   ],
   "source": [
    "disability_gdf.sort_values(\"PERCENT\", ascending=False)"
   ]
  },
  {
   "cell_type": "code",
   "execution_count": null,
   "id": "641fe6e8-a92d-407d-b49c-f85ac7139bbd",
   "metadata": {},
   "outputs": [],
   "source": []
  }
 ],
 "metadata": {
  "kernelspec": {
   "display_name": "Python 3 (ipykernel)",
   "language": "python",
   "name": "python3"
  },
  "language_info": {
   "codemirror_mode": {
    "name": "ipython",
    "version": 3
   },
   "file_extension": ".py",
   "mimetype": "text/x-python",
   "name": "python",
   "nbconvert_exporter": "python",
   "pygments_lexer": "ipython3",
   "version": "3.11.11"
  }
 },
 "nbformat": 4,
 "nbformat_minor": 5
}
