{
 "cells": [
  {
   "cell_type": "code",
   "execution_count": 35,
   "id": "3f09eb12-f593-4e17-bf7f-507b5dce637e",
   "metadata": {},
   "outputs": [],
   "source": [
    "import requests"
   ]
  },
  {
   "cell_type": "code",
   "execution_count": 36,
   "id": "6c8b506a-4477-4416-bd68-b44f0b27a407",
   "metadata": {},
   "outputs": [],
   "source": [
    "from bs4 import BeautifulSoup\n",
    "import geopandas as gpd\n",
    "import pandas as pd"
   ]
  },
  {
   "cell_type": "markdown",
   "id": "501b8f83-ceb2-4292-93d5-56f8dcd37cd8",
   "metadata": {},
   "source": [
    "## Open Geojson"
   ]
  },
  {
   "cell_type": "code",
   "execution_count": 37,
   "id": "4b832cd6-014c-4a54-b0c0-6b42255e20ce",
   "metadata": {},
   "outputs": [],
   "source": [
    "bulgaria_gdf = gpd.read_file(\"data/bg.json\")"
   ]
  },
  {
   "cell_type": "code",
   "execution_count": 38,
   "id": "245498fb-280b-40b3-946c-4a0d6dbc434a",
   "metadata": {},
   "outputs": [],
   "source": [
    "bulgaria_gdf[\"name\"] = bulgaria_gdf[\"name\"].str.lower()\n",
    "bulgaria_gdf = bulgaria_gdf.replace(\"grad sofiya\", \"sofia (stolitsa)\")"
   ]
  },
  {
   "cell_type": "markdown",
   "id": "0643d5ed-8563-475d-9572-3c635f6f8104",
   "metadata": {},
   "source": [
    "## Get Open Fertility data"
   ]
  },
  {
   "cell_type": "code",
   "execution_count": 39,
   "id": "ba325d9f-213d-4d40-977b-a21c142f50a5",
   "metadata": {},
   "outputs": [],
   "source": [
    "r = requests.get(\n",
    "    \"https://www.nsi.bg/en/content/2970/total-fertility-rate-statistical-regions-districts-and-place-residence\"\n",
    ")"
   ]
  },
  {
   "cell_type": "code",
   "execution_count": 40,
   "id": "29f1ef5c-acf6-4c72-8d31-9e5b386e3926",
   "metadata": {},
   "outputs": [],
   "source": [
    "soup = BeautifulSoup(r.text, \"html.parser\")"
   ]
  },
  {
   "cell_type": "code",
   "execution_count": 41,
   "id": "49c025de-9aef-4c4d-8d66-4cb57f121a12",
   "metadata": {},
   "outputs": [],
   "source": [
    "trs = soup.find(\"table\").find_all(\"tr\")[4:]"
   ]
  },
  {
   "cell_type": "code",
   "execution_count": 42,
   "id": "a6ce7904-2a42-407d-840f-0cff9fa970c2",
   "metadata": {},
   "outputs": [],
   "source": [
    "fertility_dicts = []\n",
    "for i, tr in enumerate(trs):\n",
    "    tds = tr.find_all(\"td\")\n",
    "    if not len(tds):\n",
    "        continue\n",
    "    if tds[1].text == \"\\xa0\":\n",
    "        continue\n",
    "    fertility_rate = float(tds[1].text)\n",
    "    region = tds[0].text\n",
    "    fertility_dicts.append({\"name\": region.lower(), \"rate\": fertility_rate})"
   ]
  },
  {
   "cell_type": "code",
   "execution_count": 43,
   "id": "668461ba-8366-4df8-9802-775f12deada0",
   "metadata": {},
   "outputs": [],
   "source": [
    "fertility_df = pd.DataFrame(fertility_dicts)"
   ]
  },
  {
   "cell_type": "markdown",
   "id": "61bbea6a-153e-4c10-8054-0effdbae489f",
   "metadata": {},
   "source": [
    "## Merge data and export"
   ]
  },
  {
   "cell_type": "code",
   "execution_count": 44,
   "id": "c7b4bd43-70cc-4a6c-9b3d-be709f100cec",
   "metadata": {},
   "outputs": [],
   "source": [
    "fertility_rate_gdf = bulgaria_gdf.merge(fertility_df, on=\"name\", how=\"left\")"
   ]
  },
  {
   "cell_type": "code",
   "execution_count": 45,
   "id": "37596e6c-39b9-4743-aa20-a09ad0a2c16c",
   "metadata": {},
   "outputs": [],
   "source": [
    "fertility_rate_gdf = fertility_rate_gdf.to_crs(7803)\n",
    "fertility_rate_gdf.to_file(\"data/bulgaria_fertility_rate.gpkg\")"
   ]
  },
  {
   "cell_type": "code",
   "execution_count": null,
   "id": "740780c4-977b-4173-91d7-4c1b9c5643c6",
   "metadata": {},
   "outputs": [],
   "source": []
  }
 ],
 "metadata": {
  "kernelspec": {
   "display_name": "Python 3 (ipykernel)",
   "language": "python",
   "name": "python3"
  },
  "language_info": {
   "codemirror_mode": {
    "name": "ipython",
    "version": 3
   },
   "file_extension": ".py",
   "mimetype": "text/x-python",
   "name": "python",
   "nbconvert_exporter": "python",
   "pygments_lexer": "ipython3",
   "version": "3.11.11"
  }
 },
 "nbformat": 4,
 "nbformat_minor": 5
}
