{
 "cells": [
  {
   "cell_type": "code",
   "execution_count": 1,
   "id": "6c8b506a-4477-4416-bd68-b44f0b27a407",
   "metadata": {},
   "outputs": [],
   "source": [
    "import geopandas as gpd\n",
    "import pandas as pd\n",
    "from unidecode import unidecode"
   ]
  },
  {
   "cell_type": "markdown",
   "id": "501b8f83-ceb2-4292-93d5-56f8dcd37cd8",
   "metadata": {},
   "source": [
    "## Open Geojson"
   ]
  },
  {
   "cell_type": "code",
   "execution_count": 2,
   "id": "6bb8f50d-98b7-4bd2-8f54-723f0a04c166",
   "metadata": {},
   "outputs": [],
   "source": [
    "munis_gdf = gpd.read_file(\"data/Lietuvos_Respublikos_savivaldyb%C4%97s.geojson\")"
   ]
  },
  {
   "cell_type": "code",
   "execution_count": 3,
   "id": "c0b34c07-7802-447c-9e8a-779ade234ee4",
   "metadata": {},
   "outputs": [],
   "source": [
    "munis_gdf[\"muni_name\"] = (\n",
    "    munis_gdf[\"sav_pav\"]\n",
    "    .str.split(\" \")\n",
    "    .str[0:2]\n",
    "    .str.join(\" \")\n",
    "    .apply(unidecode)\n",
    "    .str.lower()\n",
    ")"
   ]
  },
  {
   "cell_type": "markdown",
   "id": "0643d5ed-8563-475d-9572-3c635f6f8104",
   "metadata": {},
   "source": [
    "## Get Open Population data"
   ]
  },
  {
   "cell_type": "code",
   "execution_count": 4,
   "id": "2c99cfc7-b865-4dc7-affd-bc09bd7529f3",
   "metadata": {},
   "outputs": [],
   "source": [
    "population_df = pd.read_csv(\"data/data-table.csv\")"
   ]
  },
  {
   "cell_type": "code",
   "execution_count": 5,
   "id": "ba325d9f-213d-4d40-977b-a21c142f50a5",
   "metadata": {},
   "outputs": [],
   "source": [
    "population_df[\"muni_name\"] = population_df[\"Administrative territory\"].apply(unidecode)"
   ]
  },
  {
   "cell_type": "code",
   "execution_count": 6,
   "id": "093de618-6616-4015-801a-5abee8c290cf",
   "metadata": {},
   "outputs": [],
   "source": [
    "formatted_population_df = population_df[population_df[\"Time\"] == 2015][\n",
    "    [\"Value\", \"muni_name\"]\n",
    "].merge(\n",
    "    population_df[population_df[\"Time\"] == 2025][[\"Value\", \"muni_name\"]],\n",
    "    on=\"muni_name\",\n",
    "    how=\"left\",\n",
    "    suffixes=(\"_2015\", \"_2025\"),\n",
    ")"
   ]
  },
  {
   "cell_type": "code",
   "execution_count": 7,
   "id": "abbcabf8-0a68-4eb0-8d4d-8d598c1d5efa",
   "metadata": {},
   "outputs": [],
   "source": [
    "formatted_population_df = formatted_population_df.dropna()"
   ]
  },
  {
   "cell_type": "code",
   "execution_count": 8,
   "id": "69cca36f-a6be-4580-aa22-94f34fcec18c",
   "metadata": {},
   "outputs": [],
   "source": [
    "formatted_population_df[\"difference\"] = (\n",
    "    formatted_population_df[\"Value_2025\"] - formatted_population_df[\"Value_2015\"]\n",
    ").astype(int)\n",
    "formatted_population_df[\"percent\"] = (\n",
    "    (formatted_population_df[\"difference\"] / formatted_population_df[\"Value_2015\"])\n",
    "    * 100\n",
    ").round(decimals=1)"
   ]
  },
  {
   "cell_type": "code",
   "execution_count": 9,
   "id": "37cf6590-4b40-436b-8e54-1c1870c23167",
   "metadata": {},
   "outputs": [],
   "source": [
    "formatted_population_df = formatted_population_df[\n",
    "    ~formatted_population_df[\"muni_name\"].str.contains(\n",
    "        r\"county|Region\", case=False, na=False\n",
    "    )\n",
    "].reset_index(drop=True)"
   ]
  },
  {
   "cell_type": "code",
   "execution_count": 10,
   "id": "101922bb-b6dd-4b8d-a604-71095c5a94e5",
   "metadata": {},
   "outputs": [],
   "source": [
    "mapped_cols = {\n",
    "    \"akmenes r.\": \"Akmene d. mun.\",\n",
    "    \"alytaus r.\": \"Alytus d. mun.\",\n",
    "    \"alytaus m.\": \"Alytus t. mun.\",\n",
    "    \"anyksciu r.\": \"Anyksciai d. mun.\",\n",
    "    \"birstono sav.\": \"Birstonas mun.\",\n",
    "    \"birzu r.\": \"Birzai d. mun.\",\n",
    "    \"druskininku sav.\": \"Druskininkai mun.\",\n",
    "    \"elektrenu sav.\": \"Elektrenai mun.\",\n",
    "    \"ignalinos r.\": \"Ignalina d. mun.\",\n",
    "    \"jonavos r.\": \"Jonava d. mun.\",\n",
    "    \"joniskio r.\": \"Joniskis d. mun.\",\n",
    "    \"jurbarko r.\": \"Jurbarkas d. mun.\",\n",
    "    \"kaisiadoriu r.\": \"Kaisiadorys d. mun.\",\n",
    "    \"kalvarijos sav.\": \"Kalvarija mun.\",\n",
    "    \"kauno m.\": \"Kaunas c. mun.\",\n",
    "    \"kauno r.\": \"Kaunas d. mun.\",\n",
    "    \"kazlu rudos\": \"Kazlu Ruda mun.\",\n",
    "    \"kedainiu r.\": \"Kedainiai d. mun.\",\n",
    "    \"kelmes r.\": \"Kelme d. mun.\",\n",
    "    \"klaipedos m.\": \"Klaipeda c. mun.\",\n",
    "    \"klaipedos r.\": \"Klaipeda d. mun.\",\n",
    "    \"kretingos r.\": \"Kretinga d. mun.\",\n",
    "    \"kupiskio r.\": \"Kupiskis d. mun.\",\n",
    "    \"lazdiju r.\": \"Lazdijai d. mun.\",\n",
    "    \"marijampoles sav.\": \"Marijampole mun.\",\n",
    "    \"mazeikiu r.\": \"Mazeikiai d. mun.\",\n",
    "    \"moletu r.\": \"Moletai d. mun.\",\n",
    "    \"neringos sav.\": \"Neringa mun.\",\n",
    "    \"pagegiu sav.\": \"Pagegiai mun.\",\n",
    "    \"pakruojo r.\": \"Pakruojis d. mun.\",\n",
    "    \"palangos m.\": \"Palanga t. mun.\",\n",
    "    \"panevezio m.\": \"Panevezys c. mun.\",\n",
    "    \"panevezio r.\": \"Panevezys d. mun.\",\n",
    "    \"pasvalio r.\": \"Pasvalys d. mun.\",\n",
    "    \"plunges r.\": \"Plunge d. mun.\",\n",
    "    \"prienu r.\": \"Prienai d. mun.\",\n",
    "    \"radviliskio r.\": \"Radviliskis d. mun.\",\n",
    "    \"raseiniu r.\": \"Raseiniai d. mun.\",\n",
    "    \"rietavo sav.\": \"Rietavas mun.\",\n",
    "    \"rokiskio r.\": \"Rokiskis d. mun.\",\n",
    "    \"sakiu r.\": \"Sakiai d. mun.\",\n",
    "    \"salcininku r.\": \"Salcininkai d. mun.\",\n",
    "    \"siauliu m.\": \"Siauliai c. mun.\",\n",
    "    \"siauliu r.\": \"Siauliai d. mun.\",\n",
    "    \"silales r.\": \"Silale d. mun.\",\n",
    "    \"silutes r.\": \"Silute d. mun.\",\n",
    "    \"sirvintu r.\": \"Sirvintos d. mun.\",\n",
    "    \"skuodo r.\": \"Skuodas d. mun.\",\n",
    "    \"svencioniu r.\": \"Svencionys d. mun.\",\n",
    "    \"taurages r.\": \"Taurage d. mun.\",\n",
    "    \"telsiu r.\": \"Telsiai d. mun.\",\n",
    "    \"traku r.\": \"Trakai d. mun.\",\n",
    "    \"ukmerges r.\": \"Ukmerge d. mun.\",\n",
    "    \"utenos r.\": \"Utena d. mun.\",\n",
    "    \"varenos r.\": \"Varena d. mun.\",\n",
    "    \"vilkaviskio r.\": \"Vilkaviskis d. mun.\",\n",
    "    \"vilniaus m.\": \"Vilnius c. mun.\",\n",
    "    \"vilniaus r.\": \"Vilnius d. mun.\",\n",
    "    \"visagino sav.\": \"Visaginas mun.\",\n",
    "    \"zarasu r.\": \"Zarasai d. mun.\",\n",
    "}"
   ]
  },
  {
   "cell_type": "code",
   "execution_count": 11,
   "id": "dfcdff00-543e-483e-9de4-fceb1c5adf0b",
   "metadata": {},
   "outputs": [],
   "source": [
    "munis_gdf[\"muni_name\"] = munis_gdf[\"muni_name\"].map(mapped_cols)"
   ]
  },
  {
   "cell_type": "markdown",
   "id": "61bbea6a-153e-4c10-8054-0effdbae489f",
   "metadata": {},
   "source": [
    "## Merge data and export"
   ]
  },
  {
   "cell_type": "code",
   "execution_count": 12,
   "id": "c7b4bd43-70cc-4a6c-9b3d-be709f100cec",
   "metadata": {},
   "outputs": [],
   "source": [
    "lithuanian_pop_gdf = munis_gdf.merge(\n",
    "    formatted_population_df, on=\"muni_name\", how=\"left\"\n",
    ")"
   ]
  },
  {
   "cell_type": "code",
   "execution_count": 13,
   "id": "37596e6c-39b9-4743-aa20-a09ad0a2c16c",
   "metadata": {},
   "outputs": [],
   "source": [
    "lithuanian_pop_gdf = lithuanian_pop_gdf.to_crs(3346)\n",
    "lithuanian_pop_gdf.to_file(\"data/lithuanian_pop.gpkg\")"
   ]
  },
  {
   "cell_type": "code",
   "execution_count": null,
   "id": "740780c4-977b-4173-91d7-4c1b9c5643c6",
   "metadata": {},
   "outputs": [],
   "source": []
  }
 ],
 "metadata": {
  "kernelspec": {
   "display_name": "Python 3 (ipykernel)",
   "language": "python",
   "name": "python3"
  },
  "language_info": {
   "codemirror_mode": {
    "name": "ipython",
    "version": 3
   },
   "file_extension": ".py",
   "mimetype": "text/x-python",
   "name": "python",
   "nbconvert_exporter": "python",
   "pygments_lexer": "ipython3",
   "version": "3.11.11"
  }
 },
 "nbformat": 4,
 "nbformat_minor": 5
}
