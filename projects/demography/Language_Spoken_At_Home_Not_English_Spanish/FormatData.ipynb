{
 "cells": [
  {
   "cell_type": "code",
   "execution_count": 1,
   "id": "34096667-a395-48d3-be7d-d2dfa7378003",
   "metadata": {},
   "outputs": [],
   "source": [
    "import requests"
   ]
  },
  {
   "cell_type": "code",
   "execution_count": 2,
   "id": "c4323fb2-1721-463e-8602-d1c3302ff523",
   "metadata": {},
   "outputs": [],
   "source": [
    "import geopandas as gpd\n",
    "import pandas as pd"
   ]
  },
  {
   "cell_type": "markdown",
   "id": "7bfd8f31-eada-447d-af06-da8a94290c02",
   "metadata": {},
   "source": [
    "## Open County data"
   ]
  },
  {
   "cell_type": "code",
   "execution_count": 3,
   "id": "5fadd853-8ad5-4832-976a-4d251d5a794b",
   "metadata": {},
   "outputs": [],
   "source": [
    "file_path = \"data/cb_2018_us_state_500k/cb_2018_us_state_500k.shp\"\n",
    "states_gdf = gpd.read_file(file_path)"
   ]
  },
  {
   "cell_type": "markdown",
   "id": "2246428d-fae0-4af8-97d2-96519e1527e2",
   "metadata": {},
   "source": [
    "## Get Language Data"
   ]
  },
  {
   "cell_type": "code",
   "execution_count": 4,
   "id": "b2d8dc8c-e9ea-406c-b331-48431bfdb3d1",
   "metadata": {},
   "outputs": [],
   "source": [
    "r = requests.get(\"https://api.census.gov/data/2023/acs/acs5/groups/B16001.json\")\n",
    "columns_obj = r.json()"
   ]
  },
  {
   "cell_type": "markdown",
   "id": "5a279a3d-20e7-4981-b63d-f23bacbdc1d9",
   "metadata": {},
   "source": [
    "### Get columns to query and rename for later"
   ]
  },
  {
   "cell_type": "code",
   "execution_count": 5,
   "id": "4a4f10d2-230f-448a-b0d9-2a052e878d69",
   "metadata": {},
   "outputs": [],
   "source": [
    "columns = []\n",
    "rename_vars = {}\n",
    "variables = columns_obj[\"variables\"]\n",
    "for name, variable in list(variables.items()):\n",
    "    v_split = variable[\"label\"].split(\"!!\")\n",
    "    if len(v_split) != 3:\n",
    "        continue\n",
    "\n",
    "    if v_split[0] == \"Estimate\":\n",
    "        label = v_split[-1]\n",
    "        rename_vars[name] = label\n",
    "\n",
    "    if name.endswith(\"E\"):\n",
    "        columns.append(name)"
   ]
  },
  {
   "cell_type": "code",
   "execution_count": 6,
   "id": "16819f51-b9a4-4be6-8dae-251f33940d86",
   "metadata": {},
   "outputs": [],
   "source": [
    "columns.remove(\"B16001_002E\")  # Remove English\n",
    "columns.remove(\"B16001_003E\")  # Remove spanish"
   ]
  },
  {
   "cell_type": "code",
   "execution_count": 7,
   "id": "57c6972b-31af-4622-a9a4-3ecc530cb320",
   "metadata": {},
   "outputs": [],
   "source": [
    "columns.append(\"GEO_ID\")\n",
    "columns_formatted = \",\".join(columns)"
   ]
  },
  {
   "cell_type": "code",
   "execution_count": 8,
   "id": "6f46df1a-ab39-486a-849e-af4f5ca316b5",
   "metadata": {},
   "outputs": [],
   "source": [
    "response = requests.get(\n",
    "    f\"https://api.census.gov/data/2023/acs/acs5?get={columns_formatted}&for=state:*\"\n",
    ")"
   ]
  },
  {
   "cell_type": "code",
   "execution_count": 9,
   "id": "f0762979-d348-443e-8129-31827909a262",
   "metadata": {},
   "outputs": [],
   "source": [
    "data = response.json()\n",
    "columns = data[0]\n",
    "rows = data[1:]\n",
    "language_df = pd.DataFrame(rows, columns=columns)"
   ]
  },
  {
   "cell_type": "code",
   "execution_count": 10,
   "id": "b82b6426-f4a9-4d07-ba36-073cb42e69b4",
   "metadata": {},
   "outputs": [],
   "source": [
    "estimate_cols = [col for col in language_df.columns if col.endswith(\"E\")]"
   ]
  },
  {
   "cell_type": "code",
   "execution_count": 11,
   "id": "8f8f97ed-1068-40e5-ab21-77eecdd38036",
   "metadata": {},
   "outputs": [
    {
     "name": "stderr",
     "output_type": "stream",
     "text": [
      "/tmp/ipykernel_13827/280287716.py:2: SettingWithCopyWarning: \n",
      "A value is trying to be set on a copy of a slice from a DataFrame.\n",
      "Try using .loc[row_indexer,col_indexer] = value instead\n",
      "\n",
      "See the caveats in the documentation: https://pandas.pydata.org/pandas-docs/stable/user_guide/indexing.html#returning-a-view-versus-a-copy\n",
      "  language_formtted_df[estimate_cols] = language_formtted_df[estimate_cols].astype(int)\n"
     ]
    }
   ],
   "source": [
    "language_formtted_df = language_df[[\"GEO_ID\", *estimate_cols]]\n",
    "language_formtted_df[estimate_cols] = language_formtted_df[estimate_cols].astype(int)"
   ]
  },
  {
   "cell_type": "code",
   "execution_count": 12,
   "id": "69f0e532-e8cc-4773-a6e5-b2fb11518e88",
   "metadata": {},
   "outputs": [],
   "source": [
    "language_formtted_df[\"most_common_language_raw\"] = language_formtted_df[\n",
    "    estimate_cols\n",
    "].idxmax(axis=1)"
   ]
  },
  {
   "cell_type": "code",
   "execution_count": 13,
   "id": "9191761e-4430-4237-a74b-1ee009212321",
   "metadata": {},
   "outputs": [],
   "source": [
    "def check_language(row) -> str:\n",
    "    ethnicity_col = row[\"most_common_language_raw\"]\n",
    "    val = row[ethnicity_col]\n",
    "    return variables[ethnicity_col][\"label\"].split(\"!!\")[-1][:-1]"
   ]
  },
  {
   "cell_type": "code",
   "execution_count": 14,
   "id": "f1237aa6-7f56-4966-b9c1-90d20d5ef2f0",
   "metadata": {},
   "outputs": [],
   "source": [
    "language_formtted_df[\"most_common_language\"] = language_formtted_df.apply(\n",
    "    lambda row: check_language(row), axis=1\n",
    ")"
   ]
  },
  {
   "cell_type": "code",
   "execution_count": 15,
   "id": "b167ea13-49a2-4421-97f4-72084759cabf",
   "metadata": {},
   "outputs": [],
   "source": [
    "rename_vars[\"GEO_ID\"] = \"AFFGEOID\"\n",
    "language_formtted_df = language_formtted_df.rename(columns=rename_vars)"
   ]
  },
  {
   "cell_type": "markdown",
   "id": "ea0435b2-f5f4-4186-853b-615f63cc50aa",
   "metadata": {},
   "source": [
    "## Merge Data"
   ]
  },
  {
   "cell_type": "code",
   "execution_count": 16,
   "id": "741bc565-ebfc-42ba-a794-913e31d2ea26",
   "metadata": {},
   "outputs": [],
   "source": [
    "language_gdf = states_gdf.merge(language_formtted_df, on=\"AFFGEOID\", how=\"inner\")"
   ]
  },
  {
   "cell_type": "code",
   "execution_count": 17,
   "id": "ae923604-fd11-4c7d-a480-4f53abaeafbc",
   "metadata": {},
   "outputs": [],
   "source": [
    "language_gdf = language_gdf.to_crs(9311)\n",
    "language_gdf.to_file(\"data/Language_Spoken_At_Home_Not_English_Spanish.gpkg\")"
   ]
  },
  {
   "cell_type": "code",
   "execution_count": 18,
   "id": "e05f8aae-9b3e-488c-b776-2967596dbde3",
   "metadata": {},
   "outputs": [
    {
     "data": {
      "text/html": [
       "<div>\n",
       "<style scoped>\n",
       "    .dataframe tbody tr th:only-of-type {\n",
       "        vertical-align: middle;\n",
       "    }\n",
       "\n",
       "    .dataframe tbody tr th {\n",
       "        vertical-align: top;\n",
       "    }\n",
       "\n",
       "    .dataframe thead th {\n",
       "        text-align: right;\n",
       "    }\n",
       "</style>\n",
       "<table border=\"1\" class=\"dataframe\">\n",
       "  <thead>\n",
       "    <tr style=\"text-align: right;\">\n",
       "      <th></th>\n",
       "      <th>most_common_language</th>\n",
       "      <th>COUNT</th>\n",
       "    </tr>\n",
       "  </thead>\n",
       "  <tbody>\n",
       "    <tr>\n",
       "      <th>2</th>\n",
       "      <td>Chinese (incl. Mandarin, Cantonese)</td>\n",
       "      <td>13</td>\n",
       "    </tr>\n",
       "    <tr>\n",
       "      <th>4</th>\n",
       "      <td>German</td>\n",
       "      <td>7</td>\n",
       "    </tr>\n",
       "    <tr>\n",
       "      <th>3</th>\n",
       "      <td>French (incl. Cajun)</td>\n",
       "      <td>6</td>\n",
       "    </tr>\n",
       "    <tr>\n",
       "      <th>13</th>\n",
       "      <td>Vietnamese</td>\n",
       "      <td>6</td>\n",
       "    </tr>\n",
       "    <tr>\n",
       "      <th>1</th>\n",
       "      <td>Arabic</td>\n",
       "      <td>4</td>\n",
       "    </tr>\n",
       "    <tr>\n",
       "      <th>11</th>\n",
       "      <td>Portuguese</td>\n",
       "      <td>3</td>\n",
       "    </tr>\n",
       "    <tr>\n",
       "      <th>7</th>\n",
       "      <td>Ilocano, Samoan, Hawaiian, or other Austronesi...</td>\n",
       "      <td>2</td>\n",
       "    </tr>\n",
       "    <tr>\n",
       "      <th>14</th>\n",
       "      <td>Yiddish, Pennsylvania Dutch or other West Germ...</td>\n",
       "      <td>2</td>\n",
       "    </tr>\n",
       "    <tr>\n",
       "      <th>9</th>\n",
       "      <td>Other Native languages of North America</td>\n",
       "      <td>2</td>\n",
       "    </tr>\n",
       "    <tr>\n",
       "      <th>8</th>\n",
       "      <td>Navajo</td>\n",
       "      <td>2</td>\n",
       "    </tr>\n",
       "    <tr>\n",
       "      <th>0</th>\n",
       "      <td>Amharic, Somali, or other Afro-Asiatic languages</td>\n",
       "      <td>1</td>\n",
       "    </tr>\n",
       "    <tr>\n",
       "      <th>6</th>\n",
       "      <td>Hmong</td>\n",
       "      <td>1</td>\n",
       "    </tr>\n",
       "    <tr>\n",
       "      <th>5</th>\n",
       "      <td>Haitian</td>\n",
       "      <td>1</td>\n",
       "    </tr>\n",
       "    <tr>\n",
       "      <th>10</th>\n",
       "      <td>Polish</td>\n",
       "      <td>1</td>\n",
       "    </tr>\n",
       "    <tr>\n",
       "      <th>12</th>\n",
       "      <td>Tagalog (incl. Filipino)</td>\n",
       "      <td>1</td>\n",
       "    </tr>\n",
       "  </tbody>\n",
       "</table>\n",
       "</div>"
      ],
      "text/plain": [
       "                                 most_common_language  COUNT\n",
       "2                 Chinese (incl. Mandarin, Cantonese)     13\n",
       "4                                              German      7\n",
       "3                                French (incl. Cajun)      6\n",
       "13                                         Vietnamese      6\n",
       "1                                              Arabic      4\n",
       "11                                         Portuguese      3\n",
       "7   Ilocano, Samoan, Hawaiian, or other Austronesi...      2\n",
       "14  Yiddish, Pennsylvania Dutch or other West Germ...      2\n",
       "9             Other Native languages of North America      2\n",
       "8                                              Navajo      2\n",
       "0    Amharic, Somali, or other Afro-Asiatic languages      1\n",
       "6                                               Hmong      1\n",
       "5                                             Haitian      1\n",
       "10                                             Polish      1\n",
       "12                           Tagalog (incl. Filipino)      1"
      ]
     },
     "execution_count": 18,
     "metadata": {},
     "output_type": "execute_result"
    }
   ],
   "source": [
    "language_gdf.groupby(\"most_common_language\").size().reset_index(\n",
    "    name=\"COUNT\"\n",
    ").sort_values(\"COUNT\", ascending=False)"
   ]
  },
  {
   "cell_type": "code",
   "execution_count": null,
   "id": "52948e3a-809b-4265-8da9-6b0e3be97ea9",
   "metadata": {},
   "outputs": [],
   "source": []
  }
 ],
 "metadata": {
  "kernelspec": {
   "display_name": "Python 3 (ipykernel)",
   "language": "python",
   "name": "python3"
  },
  "language_info": {
   "codemirror_mode": {
    "name": "ipython",
    "version": 3
   },
   "file_extension": ".py",
   "mimetype": "text/x-python",
   "name": "python",
   "nbconvert_exporter": "python",
   "pygments_lexer": "ipython3",
   "version": "3.11.13"
  }
 },
 "nbformat": 4,
 "nbformat_minor": 5
}
