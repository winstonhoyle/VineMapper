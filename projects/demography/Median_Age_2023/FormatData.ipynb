{
 "cells": [
  {
   "cell_type": "code",
   "execution_count": 1,
   "id": "082d543d-4097-4b86-84d7-7892d159f675",
   "metadata": {},
   "outputs": [],
   "source": [
    "import geopandas as gpd\n",
    "import pandas as pd"
   ]
  },
  {
   "cell_type": "markdown",
   "id": "228f9c5e-369a-430b-aa75-392d9b1c81a8",
   "metadata": {},
   "source": [
    "## Open GIS Data"
   ]
  },
  {
   "cell_type": "code",
   "execution_count": 2,
   "id": "e4a9a7f7-f84a-4c3c-b67c-19cdf9f4dd0d",
   "metadata": {},
   "outputs": [],
   "source": [
    "file_path = \"data/cb_2018_us_state_500k/cb_2018_us_state_500k.shp\"\n",
    "states_df = gpd.read_file(file_path)"
   ]
  },
  {
   "cell_type": "markdown",
   "id": "2d00e207-b96e-4b8f-a281-4d0c0b823356",
   "metadata": {},
   "source": [
    "## Get Age data"
   ]
  },
  {
   "cell_type": "code",
   "execution_count": 7,
   "id": "e4e57db8-8037-421f-96f3-f3f8dfdbaa81",
   "metadata": {},
   "outputs": [],
   "source": [
    "acs_age = pd.read_csv(\"data/ACSST1Y2023.S0101-2024-12-12T233736.csv\", thousands=\",\")"
   ]
  },
  {
   "cell_type": "code",
   "execution_count": 8,
   "id": "87b9ce31-e925-4da8-8470-9f3e77172cd9",
   "metadata": {},
   "outputs": [],
   "source": [
    "rename_columns_totals = {}\n",
    "for column in list(acs_age.columns):\n",
    "    str_split = column.split(\"!!\")\n",
    "    if len(str_split) == 3:\n",
    "        if str_split[2] == \"Estimate\":\n",
    "            if str_split[1] == \"Total\":\n",
    "                rename_columns_totals[column] = str_split[0].strip()\n",
    "    else:\n",
    "        continue"
   ]
  },
  {
   "cell_type": "code",
   "execution_count": 9,
   "id": "93337928-b1a9-46e7-8356-87d54b749344",
   "metadata": {},
   "outputs": [],
   "source": [
    "states = list(rename_columns_totals.values())\n",
    "states.append(\"group\")"
   ]
  },
  {
   "cell_type": "code",
   "execution_count": 10,
   "id": "09673d05-720c-4b33-96f0-9cfe81f607f8",
   "metadata": {},
   "outputs": [],
   "source": [
    "rename_columns_totals[\"Label (Grouping)\"] = \"group\"\n",
    "acs_age_totals = acs_age.rename(columns=rename_columns_totals)"
   ]
  },
  {
   "cell_type": "markdown",
   "id": "b4c0e93c-1e45-4c8b-9a48-11c4c00c49fb",
   "metadata": {},
   "source": [
    "#### Totals Data"
   ]
  },
  {
   "cell_type": "code",
   "execution_count": 11,
   "id": "8b4f1dfa-f5b1-4ae9-a70c-be13e605a42c",
   "metadata": {},
   "outputs": [],
   "source": [
    "acs_age_totals = acs_age_totals[states]"
   ]
  },
  {
   "cell_type": "code",
   "execution_count": 12,
   "id": "21a71f3f-af67-408b-8a1e-3ad81006b704",
   "metadata": {},
   "outputs": [],
   "source": [
    "acs_age_totals = acs_age_totals.T.reset_index()\n",
    "acs_age_totals.columns = acs_age_totals.iloc[52]\n",
    "acs_age_totals = acs_age_totals.drop(acs_age_totals.index[52:])"
   ]
  },
  {
   "cell_type": "code",
   "execution_count": 13,
   "id": "676261b0-c269-4370-859d-da37e2ea7299",
   "metadata": {},
   "outputs": [],
   "source": [
    "acs_age_totals.columns = [\n",
    "    column.strip().replace(\" \", \"_\") for column in list(acs_age_totals.columns)\n",
    "]"
   ]
  },
  {
   "cell_type": "code",
   "execution_count": 16,
   "id": "226ef0ce-60b9-4fe6-829d-e6c08c3927b8",
   "metadata": {},
   "outputs": [],
   "source": [
    "median_age_df = acs_age_totals[[\"Median_age_(years)\", \"group\"]]"
   ]
  },
  {
   "cell_type": "code",
   "execution_count": 17,
   "id": "2df70f15-a0ff-4d01-8732-051a7fc1dd29",
   "metadata": {},
   "outputs": [],
   "source": [
    "median_age_df = median_age_df.rename(\n",
    "    columns={\"Median_age_(years)\": \"median_age\", \"group\": \"NAME\"}\n",
    ")"
   ]
  },
  {
   "cell_type": "code",
   "execution_count": 22,
   "id": "b6e403b5-16b0-4f60-93e2-af148ce69c94",
   "metadata": {},
   "outputs": [],
   "source": [
    "median_age_df[\"median_age\"] = median_age_df[\"median_age\"].astype(float)"
   ]
  },
  {
   "cell_type": "markdown",
   "id": "845a2fe2-8fd9-4218-898d-a6b0c6092507",
   "metadata": {},
   "source": [
    "## Combine Data"
   ]
  },
  {
   "cell_type": "code",
   "execution_count": 23,
   "id": "60382782-c678-4973-94c0-ecc6470cbcbd",
   "metadata": {},
   "outputs": [],
   "source": [
    "median_age_gdf = states_df.merge(median_age_df, on=\"NAME\", how=\"left\")"
   ]
  },
  {
   "cell_type": "code",
   "execution_count": 24,
   "id": "46113ae7-cd6d-45c7-8980-6d2ec0b419d9",
   "metadata": {},
   "outputs": [],
   "source": [
    "median_age_gdf = median_age_gdf[[\"NAME\", \"geometry\", \"median_age\"]].dropna()"
   ]
  },
  {
   "cell_type": "code",
   "execution_count": 26,
   "id": "405c1f3e-58a7-4038-bfae-00fe2cd3b773",
   "metadata": {},
   "outputs": [],
   "source": [
    "median_age_gdf = median_age_gdf.to_crs(9311)"
   ]
  },
  {
   "cell_type": "code",
   "execution_count": 27,
   "id": "cdb9ad00-072b-4c5d-8517-efa09bc758b7",
   "metadata": {},
   "outputs": [],
   "source": [
    "median_age_gdf.to_file(\"data/median_age.gpkg\")"
   ]
  },
  {
   "cell_type": "code",
   "execution_count": null,
   "id": "b788705d-8ed1-446b-9d8e-a113fe256b6a",
   "metadata": {},
   "outputs": [],
   "source": []
  }
 ],
 "metadata": {
  "kernelspec": {
   "display_name": "Python 3 (ipykernel)",
   "language": "python",
   "name": "python3"
  },
  "language_info": {
   "codemirror_mode": {
    "name": "ipython",
    "version": 3
   },
   "file_extension": ".py",
   "mimetype": "text/x-python",
   "name": "python",
   "nbconvert_exporter": "python",
   "pygments_lexer": "ipython3",
   "version": "3.11.11"
  }
 },
 "nbformat": 4,
 "nbformat_minor": 5
}
