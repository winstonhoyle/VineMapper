{
 "cells": [
  {
   "cell_type": "code",
   "execution_count": 89,
   "id": "082d543d-4097-4b86-84d7-7892d159f675",
   "metadata": {},
   "outputs": [],
   "source": [
    "import geopandas as gpd\n",
    "import pandas as pd"
   ]
  },
  {
   "cell_type": "markdown",
   "id": "228f9c5e-369a-430b-aa75-392d9b1c81a8",
   "metadata": {},
   "source": [
    "## Open GIS Data"
   ]
  },
  {
   "cell_type": "code",
   "execution_count": 90,
   "id": "e4a9a7f7-f84a-4c3c-b67c-19cdf9f4dd0d",
   "metadata": {},
   "outputs": [],
   "source": [
    "file_path = \"data/cb_2018_us_state_500k/cb_2018_us_state_500k.shp\"\n",
    "states_df = gpd.read_file(file_path)"
   ]
  },
  {
   "cell_type": "markdown",
   "id": "2d00e207-b96e-4b8f-a281-4d0c0b823356",
   "metadata": {},
   "source": [
    "## Get Age data"
   ]
  },
  {
   "cell_type": "code",
   "execution_count": 168,
   "id": "e4e57db8-8037-421f-96f3-f3f8dfdbaa81",
   "metadata": {},
   "outputs": [],
   "source": [
    "acs_marriage = pd.read_csv(\n",
    "    \"data/ACSST5Y2023.S1201-2025-05-02T023159.csv\", thousands=\",\"\n",
    ")"
   ]
  },
  {
   "cell_type": "code",
   "execution_count": 169,
   "id": "25a91685-2303-4ec4-90d7-395739c51ba7",
   "metadata": {},
   "outputs": [],
   "source": [
    "acs_marriage = acs_marriage.T.reset_index()\n",
    "acs_marriage.columns = acs_marriage.iloc[0].str.lstrip()\n",
    "acs_marriage = acs_marriage.iloc[1:]"
   ]
  },
  {
   "cell_type": "code",
   "execution_count": 170,
   "id": "524d3541-db50-4e98-9b2e-fef45d5160f7",
   "metadata": {},
   "outputs": [],
   "source": [
    "acs_marriage = acs_marriage[\n",
    "    [\n",
    "        \"Label (Grouping)\",\n",
    "        \"Population 15 years and over\",\n",
    "        \"Males 15 years and over\",\n",
    "        \"Females 15 years and over\",\n",
    "    ]\n",
    "]\n",
    "acs_marriage = acs_marriage.loc[:, ~acs_marriage.columns.duplicated()].copy()\n",
    "acs_marriage_never_married = acs_marriage[\n",
    "    acs_marriage[\"Label (Grouping)\"].str.split(\"!!\").str[1] == \"Never married\"\n",
    "]"
   ]
  },
  {
   "cell_type": "code",
   "execution_count": 171,
   "id": "9ba151d5-f9ab-4a6f-a884-44cd196d2fd6",
   "metadata": {},
   "outputs": [
    {
     "name": "stderr",
     "output_type": "stream",
     "text": [
      "/tmp/ipykernel_35591/233647097.py:1: SettingWithCopyWarning: \n",
      "A value is trying to be set on a copy of a slice from a DataFrame.\n",
      "Try using .loc[row_indexer,col_indexer] = value instead\n",
      "\n",
      "See the caveats in the documentation: https://pandas.pydata.org/pandas-docs/stable/user_guide/indexing.html#returning-a-view-versus-a-copy\n",
      "  acs_marriage_never_married['PERCENT'] = acs_marriage_never_married['Population 15 years and over'].str.replace(\"%\",\"\").astype(float)\n",
      "/tmp/ipykernel_35591/233647097.py:2: SettingWithCopyWarning: \n",
      "A value is trying to be set on a copy of a slice from a DataFrame.\n",
      "Try using .loc[row_indexer,col_indexer] = value instead\n",
      "\n",
      "See the caveats in the documentation: https://pandas.pydata.org/pandas-docs/stable/user_guide/indexing.html#returning-a-view-versus-a-copy\n",
      "  acs_marriage_never_married['NAME'] = acs_marriage_never_married['Label (Grouping)'].str.split(\"!!\").str[0]\n"
     ]
    }
   ],
   "source": [
    "acs_marriage_never_married[\"PERCENT\"] = (\n",
    "    acs_marriage_never_married[\"Population 15 years and over\"]\n",
    "    .str.replace(\"%\", \"\")\n",
    "    .astype(float)\n",
    ")\n",
    "acs_marriage_never_married[\"NAME\"] = (\n",
    "    acs_marriage_never_married[\"Label (Grouping)\"].str.split(\"!!\").str[0]\n",
    ")"
   ]
  },
  {
   "cell_type": "code",
   "execution_count": 175,
   "id": "e3868cb8-1352-4eb2-a0a7-f4330228c0cb",
   "metadata": {},
   "outputs": [],
   "source": [
    "acs_marriage_df = acs_marriage_never_married[[\"NAME\", \"PERCENT\"]]"
   ]
  },
  {
   "cell_type": "markdown",
   "id": "845a2fe2-8fd9-4218-898d-a6b0c6092507",
   "metadata": {},
   "source": [
    "## Combine Data"
   ]
  },
  {
   "cell_type": "code",
   "execution_count": 176,
   "id": "60382782-c678-4973-94c0-ecc6470cbcbd",
   "metadata": {},
   "outputs": [],
   "source": [
    "acs_marriage_gdf = states_df.merge(acs_marriage_df, on=\"NAME\", how=\"left\")"
   ]
  },
  {
   "cell_type": "code",
   "execution_count": 179,
   "id": "46113ae7-cd6d-45c7-8980-6d2ec0b419d9",
   "metadata": {},
   "outputs": [],
   "source": [
    "acs_marriage_gdf = acs_marriage_gdf[[\"geometry\", \"NAME\", \"PERCENT\"]].dropna()"
   ]
  },
  {
   "cell_type": "code",
   "execution_count": 180,
   "id": "405c1f3e-58a7-4038-bfae-00fe2cd3b773",
   "metadata": {},
   "outputs": [],
   "source": [
    "acs_marriage_gdf = acs_marriage_gdf.to_crs(9311)"
   ]
  },
  {
   "cell_type": "code",
   "execution_count": 181,
   "id": "cdb9ad00-072b-4c5d-8517-efa09bc758b7",
   "metadata": {},
   "outputs": [],
   "source": [
    "acs_marriage_gdf.to_file(\"data/marriage.gpkg\")"
   ]
  },
  {
   "cell_type": "code",
   "execution_count": null,
   "id": "b788705d-8ed1-446b-9d8e-a113fe256b6a",
   "metadata": {},
   "outputs": [],
   "source": []
  }
 ],
 "metadata": {
  "kernelspec": {
   "display_name": "Python 3 (ipykernel)",
   "language": "python",
   "name": "python3"
  },
  "language_info": {
   "codemirror_mode": {
    "name": "ipython",
    "version": 3
   },
   "file_extension": ".py",
   "mimetype": "text/x-python",
   "name": "python",
   "nbconvert_exporter": "python",
   "pygments_lexer": "ipython3",
   "version": "3.11.11"
  }
 },
 "nbformat": 4,
 "nbformat_minor": 5
}
