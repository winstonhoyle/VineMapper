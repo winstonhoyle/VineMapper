{
 "cells": [
  {
   "cell_type": "code",
   "execution_count": 1,
   "id": "66ee29e9-aa6a-4ad2-a002-942b58ee851d",
   "metadata": {},
   "outputs": [],
   "source": [
    "import json"
   ]
  },
  {
   "cell_type": "code",
   "execution_count": 2,
   "id": "9a83a703-4fba-402b-9138-d8bdc4299c2f",
   "metadata": {},
   "outputs": [],
   "source": [
    "import requests"
   ]
  },
  {
   "cell_type": "code",
   "execution_count": null,
   "id": "6c8b506a-4477-4416-bd68-b44f0b27a407",
   "metadata": {},
   "outputs": [],
   "source": [
    "import geopandas as gpd\n",
    "import pandas as pd"
   ]
  },
  {
   "cell_type": "markdown",
   "id": "501b8f83-ceb2-4292-93d5-56f8dcd37cd8",
   "metadata": {},
   "source": [
    "## Open Geojson"
   ]
  },
  {
   "cell_type": "code",
   "execution_count": 4,
   "id": "6bb8f50d-98b7-4bd2-8f54-723f0a04c166",
   "metadata": {},
   "outputs": [],
   "source": [
    "latvia_url = f\"https://gis.lgia.gov.lv/arcgis/rest/services/KP_OVERLAYS/Robezas/FeatureServer/9/query?where=1=1&outFields=*&f=geojson\"\n",
    "response = requests.get(latvia_url)"
   ]
  },
  {
   "cell_type": "code",
   "execution_count": 19,
   "id": "b03ad83f-a7fd-4141-ae25-853b14325803",
   "metadata": {},
   "outputs": [],
   "source": [
    "latvia_gdf = gpd.GeoDataFrame.from_features(response.json()[\"features\"])\n",
    "latvia_gdf.crs = 4326"
   ]
  },
  {
   "cell_type": "code",
   "execution_count": 20,
   "id": "41da70c2-3b87-4dc8-9e53-afc63db0e514",
   "metadata": {},
   "outputs": [],
   "source": [
    "latvia_gdf = latvia_gdf[[\"adreses_nosaukums\", \"geometry\", \"atvk\"]]"
   ]
  },
  {
   "cell_type": "markdown",
   "id": "0643d5ed-8563-475d-9572-3c635f6f8104",
   "metadata": {},
   "source": [
    "## Get Open Population data"
   ]
  },
  {
   "cell_type": "code",
   "execution_count": 21,
   "id": "2c99cfc7-b865-4dc7-affd-bc09bd7529f3",
   "metadata": {},
   "outputs": [],
   "source": [
    "url = \"https://data.stat.gov.lv:443/api/v1/en/OSP_PUB/START/POP/IR/IRE/IRE031\""
   ]
  },
  {
   "cell_type": "code",
   "execution_count": 22,
   "id": "ba325d9f-213d-4d40-977b-a21c142f50a5",
   "metadata": {},
   "outputs": [],
   "source": [
    "data = {\n",
    "    \"query\": [\n",
    "        {\"code\": \"ETHNICITY\", \"selection\": {\"filter\": \"item\", \"values\": [\"TOTAL\"]}},\n",
    "        {\n",
    "            \"code\": \"AREA\",\n",
    "            \"selection\": {\n",
    "                \"filter\": \"vs:VS_2021_AREA_LV_RPN_PLAN\",\n",
    "                \"values\": [\n",
    "                    \"LV\",\n",
    "                    \"LV0001000\",\n",
    "                    \"LV0002000\",\n",
    "                    \"LV0003000\",\n",
    "                    \"LV0031010\",\n",
    "                    \"LV0004000\",\n",
    "                    \"LV0005000\",\n",
    "                    \"LV0040010\",\n",
    "                    \"LV0006000\",\n",
    "                    \"LV0054010\",\n",
    "                    \"LV0007000\",\n",
    "                    \"LV0020000\",\n",
    "                    \"LV0021000\",\n",
    "                    \"LV0022000\",\n",
    "                    \"LV0023000\",\n",
    "                    \"LV0024000\",\n",
    "                    \"LV0025000\",\n",
    "                    \"LV0026000\",\n",
    "                    \"LV0027000\",\n",
    "                    \"LV0028000\",\n",
    "                    \"LV0029000\",\n",
    "                    \"LV0030000\",\n",
    "                    \"LV0031000\",\n",
    "                    \"LV0032000\",\n",
    "                    \"LV0033000\",\n",
    "                    \"LV0034000\",\n",
    "                    \"LV0035000\",\n",
    "                    \"LV0036000\",\n",
    "                    \"LV0037000\",\n",
    "                    \"LV0038000\",\n",
    "                    \"LV0039000\",\n",
    "                    \"LV0040000\",\n",
    "                    \"LV0041000\",\n",
    "                    \"LV0042000\",\n",
    "                    \"LV0043000\",\n",
    "                    \"LV0044000\",\n",
    "                    \"LV0045000\",\n",
    "                    \"LV0046000\",\n",
    "                    \"LV0047000\",\n",
    "                    \"LV0048000\",\n",
    "                    \"LV0049000\",\n",
    "                    \"LV0051000\",\n",
    "                    \"LV0052000\",\n",
    "                    \"LV0053000\",\n",
    "                    \"LV0054000\",\n",
    "                    \"LV0055000\",\n",
    "                    \"LV0056000\",\n",
    "                ],\n",
    "            },\n",
    "        },\n",
    "        {\"code\": \"ContentsCode\", \"selection\": {\"filter\": \"item\", \"values\": [\"IRE031\"]}},\n",
    "        {\"code\": \"TIME\", \"selection\": {\"filter\": \"item\", \"values\": [\"2015\", \"2025\"]}},\n",
    "    ],\n",
    "    \"response\": {\"format\": \"JSON-stat\"},\n",
    "}"
   ]
  },
  {
   "cell_type": "code",
   "execution_count": 23,
   "id": "19d8c7f0-0231-4dbc-9351-f286e5e1c456",
   "metadata": {},
   "outputs": [],
   "source": [
    "r = requests.post(url, data=json.dumps(data))"
   ]
  },
  {
   "cell_type": "code",
   "execution_count": 24,
   "id": "e9f30e59-343b-45f9-861f-9e25c55eead7",
   "metadata": {},
   "outputs": [],
   "source": [
    "json_data = r.json()\n",
    "indexes = json_data[\"dataset\"][\"dimension\"][\"AREA\"][\"category\"][\"index\"]\n",
    "labels = json_data[\"dataset\"][\"dimension\"][\"AREA\"][\"category\"][\"label\"]\n",
    "data = json_data[\"dataset\"][\"value\"]"
   ]
  },
  {
   "cell_type": "code",
   "execution_count": 25,
   "id": "e1aaa513-83f6-46a1-8fde-4697f09c2b46",
   "metadata": {},
   "outputs": [],
   "source": [
    "data_2015 = data[0::2]\n",
    "data_2025 = data[1::2]"
   ]
  },
  {
   "cell_type": "code",
   "execution_count": 26,
   "id": "7a2b72cb-d5dd-4adc-889f-e46f66b33f94",
   "metadata": {},
   "outputs": [],
   "source": [
    "data_list = [\n",
    "    {\"name\": labels[key], \"atvk\": key, \"2015\": data_2015[indx], \"2025\": data_2025[indx]}\n",
    "    for key, indx in indexes.items()\n",
    "]"
   ]
  },
  {
   "cell_type": "code",
   "execution_count": 27,
   "id": "ead90b81-e9e8-4ade-bb17-9cf77d95cf61",
   "metadata": {},
   "outputs": [],
   "source": [
    "population_df = pd.DataFrame(data_list)\n",
    "population_df[\"atvk\"] = population_df[\"atvk\"].str[2:]"
   ]
  },
  {
   "cell_type": "markdown",
   "id": "61bbea6a-153e-4c10-8054-0effdbae489f",
   "metadata": {},
   "source": [
    "## Merge data and export"
   ]
  },
  {
   "cell_type": "code",
   "execution_count": 28,
   "id": "c7b4bd43-70cc-4a6c-9b3d-be709f100cec",
   "metadata": {},
   "outputs": [],
   "source": [
    "latvia_population_gdf = latvia_gdf.merge(population_df, on=\"atvk\", how=\"left\")"
   ]
  },
  {
   "cell_type": "code",
   "execution_count": 29,
   "id": "2512ce10-da06-401e-a3fa-f619dfbdb365",
   "metadata": {},
   "outputs": [],
   "source": [
    "latvia_population_gdf[\"change\"] = (\n",
    "    latvia_population_gdf[\"2025\"] - latvia_population_gdf[\"2015\"]\n",
    ")\n",
    "latvia_population_gdf[\"rate\"] = (\n",
    "    (latvia_population_gdf[\"change\"] / latvia_population_gdf[\"2015\"]) * 100\n",
    ").round(decimals=2)"
   ]
  },
  {
   "cell_type": "code",
   "execution_count": 30,
   "id": "37596e6c-39b9-4743-aa20-a09ad0a2c16c",
   "metadata": {},
   "outputs": [],
   "source": [
    "latvia_population_gdf = latvia_population_gdf.to_crs(3059)\n",
    "latvia_population_gdf.to_file(\"data/latvian_population.gpkg\")"
   ]
  },
  {
   "cell_type": "code",
   "execution_count": null,
   "id": "740780c4-977b-4173-91d7-4c1b9c5643c6",
   "metadata": {},
   "outputs": [],
   "source": []
  }
 ],
 "metadata": {
  "kernelspec": {
   "display_name": "Python 3 (ipykernel)",
   "language": "python",
   "name": "python3"
  },
  "language_info": {
   "codemirror_mode": {
    "name": "ipython",
    "version": 3
   },
   "file_extension": ".py",
   "mimetype": "text/x-python",
   "name": "python",
   "nbconvert_exporter": "python",
   "pygments_lexer": "ipython3",
   "version": "3.11.11"
  }
 },
 "nbformat": 4,
 "nbformat_minor": 5
}
