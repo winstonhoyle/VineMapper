{
 "cells": [
  {
   "cell_type": "code",
   "execution_count": 1,
   "id": "34096667-a395-48d3-be7d-d2dfa7378003",
   "metadata": {},
   "outputs": [],
   "source": [
    "import requests"
   ]
  },
  {
   "cell_type": "code",
   "execution_count": 2,
   "id": "c4323fb2-1721-463e-8602-d1c3302ff523",
   "metadata": {},
   "outputs": [],
   "source": [
    "import geopandas as gpd\n",
    "import pandas as pd"
   ]
  },
  {
   "cell_type": "markdown",
   "id": "7bfd8f31-eada-447d-af06-da8a94290c02",
   "metadata": {},
   "source": [
    "## Open State data"
   ]
  },
  {
   "cell_type": "code",
   "execution_count": 3,
   "id": "5fadd853-8ad5-4832-976a-4d251d5a794b",
   "metadata": {},
   "outputs": [],
   "source": [
    "file_path = \"data/cb_2024_us_county_500k/cb_2024_us_county_500k.shp\"\n",
    "counties_gdf = gpd.read_file(file_path)"
   ]
  },
  {
   "cell_type": "markdown",
   "id": "2246428d-fae0-4af8-97d2-96519e1527e2",
   "metadata": {},
   "source": [
    "## Get Language Data"
   ]
  },
  {
   "cell_type": "code",
   "execution_count": 4,
   "id": "b2d8dc8c-e9ea-406c-b331-48431bfdb3d1",
   "metadata": {},
   "outputs": [],
   "source": [
    "r = requests.get(\"https://api.census.gov/data/2023/acs/acs1/groups/C16001.json\")\n",
    "columns_obj = r.json()"
   ]
  },
  {
   "cell_type": "markdown",
   "id": "5a279a3d-20e7-4981-b63d-f23bacbdc1d9",
   "metadata": {},
   "source": [
    "### Get columns to query and rename for later"
   ]
  },
  {
   "cell_type": "code",
   "execution_count": 5,
   "id": "4a4f10d2-230f-448a-b0d9-2a052e878d69",
   "metadata": {},
   "outputs": [],
   "source": [
    "columns = []\n",
    "rename_vars = {}\n",
    "variables = columns_obj[\"variables\"]\n",
    "for name, variable in list(variables.items()):\n",
    "    v_split = variable[\"label\"].split(\"!!\")\n",
    "    if len(v_split) != 3:\n",
    "        continue\n",
    "\n",
    "    if v_split[0] == \"Estimate\":\n",
    "        label = v_split[-1]\n",
    "        rename_vars[name] = label\n",
    "\n",
    "    if name.endswith(\"E\"):\n",
    "        columns.append(name)"
   ]
  },
  {
   "cell_type": "code",
   "execution_count": 6,
   "id": "16819f51-b9a4-4be6-8dae-251f33940d86",
   "metadata": {},
   "outputs": [],
   "source": [
    "columns.remove(\"C16001_003E\")  # Remove spanish\n",
    "columns.remove(\"C16001_002E\")  # Remove english"
   ]
  },
  {
   "cell_type": "code",
   "execution_count": 7,
   "id": "57c6972b-31af-4622-a9a4-3ecc530cb320",
   "metadata": {},
   "outputs": [],
   "source": [
    "columns.append(\"GEO_ID\")\n",
    "columns_formatted = \",\".join(columns)"
   ]
  },
  {
   "cell_type": "code",
   "execution_count": 8,
   "id": "6f46df1a-ab39-486a-849e-af4f5ca316b5",
   "metadata": {},
   "outputs": [],
   "source": [
    "response = requests.get(\n",
    "    f\"https://api.census.gov/data/2023/acs/acs5?get={columns_formatted}&for=county:*\"  # &in=state:{state_code}\"\n",
    ")"
   ]
  },
  {
   "cell_type": "code",
   "execution_count": 9,
   "id": "f0762979-d348-443e-8129-31827909a262",
   "metadata": {},
   "outputs": [],
   "source": [
    "data = response.json()\n",
    "columns = data[0]\n",
    "rows = data[1:]\n",
    "language_df = pd.DataFrame(rows, columns=columns)"
   ]
  },
  {
   "cell_type": "code",
   "execution_count": 10,
   "id": "b82b6426-f4a9-4d07-ba36-073cb42e69b4",
   "metadata": {},
   "outputs": [],
   "source": [
    "estimate_cols = [col for col in language_df.columns if col.endswith(\"E\")]"
   ]
  },
  {
   "cell_type": "code",
   "execution_count": 11,
   "id": "8f8f97ed-1068-40e5-ab21-77eecdd38036",
   "metadata": {},
   "outputs": [
    {
     "name": "stderr",
     "output_type": "stream",
     "text": [
      "/tmp/ipykernel_23090/280287716.py:2: SettingWithCopyWarning: \n",
      "A value is trying to be set on a copy of a slice from a DataFrame.\n",
      "Try using .loc[row_indexer,col_indexer] = value instead\n",
      "\n",
      "See the caveats in the documentation: https://pandas.pydata.org/pandas-docs/stable/user_guide/indexing.html#returning-a-view-versus-a-copy\n",
      "  language_formtted_df[estimate_cols] = language_formtted_df[estimate_cols].astype(int)\n"
     ]
    }
   ],
   "source": [
    "language_formtted_df = language_df[[\"GEO_ID\", *estimate_cols]]\n",
    "language_formtted_df[estimate_cols] = language_formtted_df[estimate_cols].astype(int)"
   ]
  },
  {
   "cell_type": "code",
   "execution_count": 12,
   "id": "69f0e532-e8cc-4773-a6e5-b2fb11518e88",
   "metadata": {},
   "outputs": [
    {
     "name": "stderr",
     "output_type": "stream",
     "text": [
      "/tmp/ipykernel_23090/893718656.py:1: SettingWithCopyWarning: \n",
      "A value is trying to be set on a copy of a slice from a DataFrame.\n",
      "Try using .loc[row_indexer,col_indexer] = value instead\n",
      "\n",
      "See the caveats in the documentation: https://pandas.pydata.org/pandas-docs/stable/user_guide/indexing.html#returning-a-view-versus-a-copy\n",
      "  language_formtted_df[\"most_common_language_raw\"] = language_formtted_df[\n"
     ]
    }
   ],
   "source": [
    "language_formtted_df[\"most_common_language_raw\"] = language_formtted_df[\n",
    "    estimate_cols\n",
    "].idxmax(axis=1)"
   ]
  },
  {
   "cell_type": "code",
   "execution_count": 13,
   "id": "9191761e-4430-4237-a74b-1ee009212321",
   "metadata": {},
   "outputs": [],
   "source": [
    "def check_language(row) -> str:\n",
    "    ethnicity_col = row[\"most_common_language_raw\"]\n",
    "    val = row[ethnicity_col]\n",
    "    return variables[ethnicity_col][\"label\"].split(\"!!\")[-1][:-1]"
   ]
  },
  {
   "cell_type": "code",
   "execution_count": 14,
   "id": "f1237aa6-7f56-4966-b9c1-90d20d5ef2f0",
   "metadata": {},
   "outputs": [],
   "source": [
    "language_formtted_df[\"most_common_language\"] = language_formtted_df.apply(\n",
    "    lambda row: check_language(row), axis=1\n",
    ")"
   ]
  },
  {
   "cell_type": "code",
   "execution_count": 15,
   "id": "b167ea13-49a2-4421-97f4-72084759cabf",
   "metadata": {},
   "outputs": [],
   "source": [
    "rename_vars[\"GEO_ID\"] = \"AFFGEOID\"\n",
    "language_formtted_df = language_formtted_df.rename(columns=rename_vars)"
   ]
  },
  {
   "cell_type": "code",
   "execution_count": 16,
   "id": "4c0b99da-71bf-4197-b4e6-feb0e9ce61ba",
   "metadata": {},
   "outputs": [
    {
     "data": {
      "text/html": [
       "<div>\n",
       "<style scoped>\n",
       "    .dataframe tbody tr th:only-of-type {\n",
       "        vertical-align: middle;\n",
       "    }\n",
       "\n",
       "    .dataframe tbody tr th {\n",
       "        vertical-align: top;\n",
       "    }\n",
       "\n",
       "    .dataframe thead th {\n",
       "        text-align: right;\n",
       "    }\n",
       "</style>\n",
       "<table border=\"1\" class=\"dataframe\">\n",
       "  <thead>\n",
       "    <tr style=\"text-align: right;\">\n",
       "      <th></th>\n",
       "      <th>most_common_language</th>\n",
       "      <th>COUNT</th>\n",
       "    </tr>\n",
       "  </thead>\n",
       "  <tbody>\n",
       "    <tr>\n",
       "      <th>3</th>\n",
       "      <td>German or other West Germanic languages</td>\n",
       "      <td>901</td>\n",
       "    </tr>\n",
       "    <tr>\n",
       "      <th>6</th>\n",
       "      <td>Other Indo-European languages</td>\n",
       "      <td>673</td>\n",
       "    </tr>\n",
       "    <tr>\n",
       "      <th>7</th>\n",
       "      <td>Other and unspecified languages</td>\n",
       "      <td>387</td>\n",
       "    </tr>\n",
       "    <tr>\n",
       "      <th>5</th>\n",
       "      <td>Other Asian and Pacific Island languages</td>\n",
       "      <td>332</td>\n",
       "    </tr>\n",
       "    <tr>\n",
       "      <th>2</th>\n",
       "      <td>French, Haitian, or Cajun</td>\n",
       "      <td>256</td>\n",
       "    </tr>\n",
       "    <tr>\n",
       "      <th>8</th>\n",
       "      <td>Russian, Polish, or other Slavic languages</td>\n",
       "      <td>142</td>\n",
       "    </tr>\n",
       "    <tr>\n",
       "      <th>0</th>\n",
       "      <td>Arabic</td>\n",
       "      <td>137</td>\n",
       "    </tr>\n",
       "    <tr>\n",
       "      <th>9</th>\n",
       "      <td>Tagalog (incl. Filipino)</td>\n",
       "      <td>132</td>\n",
       "    </tr>\n",
       "    <tr>\n",
       "      <th>1</th>\n",
       "      <td>Chinese (incl. Mandarin, Cantonese)</td>\n",
       "      <td>119</td>\n",
       "    </tr>\n",
       "    <tr>\n",
       "      <th>10</th>\n",
       "      <td>Vietnamese</td>\n",
       "      <td>94</td>\n",
       "    </tr>\n",
       "    <tr>\n",
       "      <th>4</th>\n",
       "      <td>Korean</td>\n",
       "      <td>49</td>\n",
       "    </tr>\n",
       "  </tbody>\n",
       "</table>\n",
       "</div>"
      ],
      "text/plain": [
       "                          most_common_language  COUNT\n",
       "3      German or other West Germanic languages    901\n",
       "6                Other Indo-European languages    673\n",
       "7              Other and unspecified languages    387\n",
       "5     Other Asian and Pacific Island languages    332\n",
       "2                    French, Haitian, or Cajun    256\n",
       "8   Russian, Polish, or other Slavic languages    142\n",
       "0                                       Arabic    137\n",
       "9                     Tagalog (incl. Filipino)    132\n",
       "1          Chinese (incl. Mandarin, Cantonese)    119\n",
       "10                                  Vietnamese     94\n",
       "4                                       Korean     49"
      ]
     },
     "execution_count": 16,
     "metadata": {},
     "output_type": "execute_result"
    }
   ],
   "source": [
    "language_formtted_df.groupby(\"most_common_language\").size().reset_index(\n",
    "    name=\"COUNT\"\n",
    ").sort_values(\"COUNT\", ascending=False)"
   ]
  },
  {
   "cell_type": "code",
   "execution_count": 17,
   "id": "d022fb0c-4d33-4cba-b653-d30a37644ed7",
   "metadata": {},
   "outputs": [],
   "source": [
    "language_formtted_df = language_formtted_df.rename(columns={\"AFFGEOID\": \"GEOIDFQ\"})"
   ]
  },
  {
   "cell_type": "markdown",
   "id": "ea0435b2-f5f4-4186-853b-615f63cc50aa",
   "metadata": {},
   "source": [
    "## Merge Data"
   ]
  },
  {
   "cell_type": "code",
   "execution_count": 18,
   "id": "741bc565-ebfc-42ba-a794-913e31d2ea26",
   "metadata": {},
   "outputs": [],
   "source": [
    "language_gdf = counties_gdf.merge(language_formtted_df, on=\"GEOIDFQ\", how=\"inner\")"
   ]
  },
  {
   "cell_type": "code",
   "execution_count": 19,
   "id": "ae923604-fd11-4c7d-a480-4f53abaeafbc",
   "metadata": {},
   "outputs": [],
   "source": [
    "language_gdf = language_gdf.to_crs(9311)\n",
    "language_gdf.to_file(\"data/Language_Spoken_At_Home_Per_County_Not_English_Spanish.gpkg\")"
   ]
  },
  {
   "cell_type": "code",
   "execution_count": null,
   "id": "52948e3a-809b-4265-8da9-6b0e3be97ea9",
   "metadata": {},
   "outputs": [],
   "source": []
  }
 ],
 "metadata": {
  "kernelspec": {
   "display_name": "Python 3 (ipykernel)",
   "language": "python",
   "name": "python3"
  },
  "language_info": {
   "codemirror_mode": {
    "name": "ipython",
    "version": 3
   },
   "file_extension": ".py",
   "mimetype": "text/x-python",
   "name": "python",
   "nbconvert_exporter": "python",
   "pygments_lexer": "ipython3",
   "version": "3.11.13"
  }
 },
 "nbformat": 4,
 "nbformat_minor": 5
}
