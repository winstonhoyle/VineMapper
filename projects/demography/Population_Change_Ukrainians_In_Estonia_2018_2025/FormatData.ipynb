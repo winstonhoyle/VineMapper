{
 "cells": [
  {
   "cell_type": "code",
   "execution_count": 1,
   "id": "9a83a703-4fba-402b-9138-d8bdc4299c2f",
   "metadata": {},
   "outputs": [],
   "source": [
    "import json\n",
    "import requests"
   ]
  },
  {
   "cell_type": "code",
   "execution_count": 2,
   "id": "6c8b506a-4477-4416-bd68-b44f0b27a407",
   "metadata": {},
   "outputs": [],
   "source": [
    "import geopandas as gpd\n",
    "import pandas as pd"
   ]
  },
  {
   "cell_type": "markdown",
   "id": "501b8f83-ceb2-4292-93d5-56f8dcd37cd8",
   "metadata": {},
   "source": [
    "## Open File"
   ]
  },
  {
   "cell_type": "code",
   "execution_count": 3,
   "id": "6bb8f50d-98b7-4bd2-8f54-723f0a04c166",
   "metadata": {},
   "outputs": [],
   "source": [
    "file_path = \"data/maakond_shp/maakond.shp\"\n",
    "estonia_counties_gdf = gpd.read_file(file_path)"
   ]
  },
  {
   "cell_type": "markdown",
   "id": "0643d5ed-8563-475d-9572-3c635f6f8104",
   "metadata": {},
   "source": [
    "## Get Open Population data"
   ]
  },
  {
   "cell_type": "code",
   "execution_count": 4,
   "id": "ba325d9f-213d-4d40-977b-a21c142f50a5",
   "metadata": {},
   "outputs": [],
   "source": [
    "body = {\n",
    "    \"query\": [\n",
    "        {\"code\": \"Aasta\", \"selection\": {\"filter\": \"item\", \"values\": [\"2018\", \"2025\"]}},\n",
    "        {\"code\": \"Sugu\", \"selection\": {\"filter\": \"item\", \"values\": [\"1\"]}},\n",
    "        {\n",
    "            \"code\": \"Maakond\",\n",
    "            \"selection\": {\n",
    "                \"filter\": \"item\",\n",
    "                \"values\": [\n",
    "                    \"00\",\n",
    "                    \"37\",\n",
    "                    \"784\",\n",
    "                    \"39\",\n",
    "                    \"45\",\n",
    "                    \"50\",\n",
    "                    \"52\",\n",
    "                    \"56\",\n",
    "                    \"60\",\n",
    "                    \"64\",\n",
    "                    \"68\",\n",
    "                    \"71\",\n",
    "                    \"74\",\n",
    "                    \"79\",\n",
    "                    \"793\",\n",
    "                    \"81\",\n",
    "                    \"84\",\n",
    "                    \"87\",\n",
    "                ],\n",
    "            },\n",
    "        },\n",
    "        {\"code\": \"Rahvus\", \"selection\": {\"filter\": \"item\", \"values\": [\"5\"]}},\n",
    "    ],\n",
    "    \"response\": {\"format\": \"json-stat2\"},\n",
    "}\n",
    "r = requests.post(\n",
    "    \"https://andmed.stat.ee/api/v1/en/stat/RV0222U\", data=json.dumps(body)\n",
    ")"
   ]
  },
  {
   "cell_type": "code",
   "execution_count": 5,
   "id": "544f27d0-10cf-4fd2-b04b-02b8e11104f1",
   "metadata": {},
   "outputs": [],
   "source": [
    "data = r.json()\n",
    "values = data[\"value\"]\n",
    "formatted_values = [\n",
    "    {\"2018\": values[i], \"2025\": values[i + 1]} for i in range(0, len(values), 2)\n",
    "]"
   ]
  },
  {
   "cell_type": "code",
   "execution_count": 6,
   "id": "3f158f96-81fa-45f7-8a76-a353d8c12779",
   "metadata": {},
   "outputs": [],
   "source": [
    "formatted_dict = {\n",
    "    \"MKOOD\": [\n",
    "        key.zfill(4) for key in data[\"dimension\"][\"Maakond\"][\"category\"][\"index\"].keys()\n",
    "    ],\n",
    "    \"2025\": values[int(len(values) / 2) :],\n",
    "    \"2018\": values[: int(len(values) / 2)],\n",
    "}"
   ]
  },
  {
   "cell_type": "code",
   "execution_count": 7,
   "id": "19dc6d5d-b53a-47c5-82b9-00378c2166c3",
   "metadata": {},
   "outputs": [],
   "source": [
    "population_df = pd.DataFrame(formatted_dict)"
   ]
  },
  {
   "cell_type": "code",
   "execution_count": 9,
   "id": "f8a36cc7-1466-4a25-8c72-bfbc9f4d61c8",
   "metadata": {},
   "outputs": [],
   "source": [
    "population_df[\"DIFF\"] = population_df[\"2025\"] - population_df[\"2018\"]\n",
    "population_df[\"PERCENT\"] = (\n",
    "    (population_df[\"DIFF\"] / population_df[\"2018\"]) * 100\n",
    ").round(decimals=0)"
   ]
  },
  {
   "cell_type": "code",
   "execution_count": 10,
   "id": "d37cc551-bbca-464a-8f14-2a76cb6f357f",
   "metadata": {},
   "outputs": [
    {
     "data": {
      "text/html": [
       "<div>\n",
       "<style scoped>\n",
       "    .dataframe tbody tr th:only-of-type {\n",
       "        vertical-align: middle;\n",
       "    }\n",
       "\n",
       "    .dataframe tbody tr th {\n",
       "        vertical-align: top;\n",
       "    }\n",
       "\n",
       "    .dataframe thead th {\n",
       "        text-align: right;\n",
       "    }\n",
       "</style>\n",
       "<table border=\"1\" class=\"dataframe\">\n",
       "  <thead>\n",
       "    <tr style=\"text-align: right;\">\n",
       "      <th></th>\n",
       "      <th>MKOOD</th>\n",
       "      <th>2025</th>\n",
       "      <th>2018</th>\n",
       "      <th>DIFF</th>\n",
       "      <th>PERCENT</th>\n",
       "    </tr>\n",
       "  </thead>\n",
       "  <tbody>\n",
       "    <tr>\n",
       "      <th>0</th>\n",
       "      <td>0000</td>\n",
       "      <td>73597</td>\n",
       "      <td>23310</td>\n",
       "      <td>50287</td>\n",
       "      <td>216.0</td>\n",
       "    </tr>\n",
       "  </tbody>\n",
       "</table>\n",
       "</div>"
      ],
      "text/plain": [
       "  MKOOD   2025   2018   DIFF  PERCENT\n",
       "0  0000  73597  23310  50287    216.0"
      ]
     },
     "execution_count": 10,
     "metadata": {},
     "output_type": "execute_result"
    }
   ],
   "source": [
    "population_df[population_df[\"MKOOD\"] == \"0000\"]"
   ]
  },
  {
   "cell_type": "markdown",
   "id": "61bbea6a-153e-4c10-8054-0effdbae489f",
   "metadata": {},
   "source": [
    "## Merge data and export"
   ]
  },
  {
   "cell_type": "code",
   "execution_count": 15,
   "id": "c7b4bd43-70cc-4a6c-9b3d-be709f100cec",
   "metadata": {},
   "outputs": [],
   "source": [
    "estonian_pop_gdf = estonia_counties_gdf.merge(population_df, on=\"MKOOD\", how=\"left\")"
   ]
  },
  {
   "cell_type": "code",
   "execution_count": 16,
   "id": "37596e6c-39b9-4743-aa20-a09ad0a2c16c",
   "metadata": {},
   "outputs": [],
   "source": [
    "estonian_pop_gdf = estonian_pop_gdf.to_crs(3300)\n",
    "estonian_pop_gdf.to_file(\"data/Population_Change_Ukrainians_In_Estonia_2018_2025.gpkg\")"
   ]
  },
  {
   "cell_type": "code",
   "execution_count": 17,
   "id": "0a4c0261-9b21-4e72-990d-2e91e82b32f1",
   "metadata": {},
   "outputs": [
    {
     "data": {
      "text/plain": [
       "np.int64(23287)"
      ]
     },
     "execution_count": 17,
     "metadata": {},
     "output_type": "execute_result"
    }
   ],
   "source": [
    "estonian_pop_gdf[\"2018\"].sum()"
   ]
  },
  {
   "cell_type": "code",
   "execution_count": 18,
   "id": "ad98d24e-adc7-41c0-be24-7f4a49fb23be",
   "metadata": {},
   "outputs": [
    {
     "data": {
      "text/plain": [
       "np.int64(73597)"
      ]
     },
     "execution_count": 18,
     "metadata": {},
     "output_type": "execute_result"
    }
   ],
   "source": [
    "estonian_pop_gdf[\"2025\"].sum()"
   ]
  },
  {
   "cell_type": "code",
   "execution_count": null,
   "id": "bf2e7b88-6ae5-4533-8de4-7224bd4b3338",
   "metadata": {},
   "outputs": [],
   "source": []
  },
  {
   "cell_type": "code",
   "execution_count": null,
   "id": "291d9b10-9e88-4b0a-a5d0-5214bf3715fd",
   "metadata": {},
   "outputs": [],
   "source": []
  },
  {
   "cell_type": "code",
   "execution_count": null,
   "id": "4a0d6614-f8a9-47a8-806a-737bad813011",
   "metadata": {},
   "outputs": [],
   "source": []
  }
 ],
 "metadata": {
  "kernelspec": {
   "display_name": "Python 3 (ipykernel)",
   "language": "python",
   "name": "python3"
  },
  "language_info": {
   "codemirror_mode": {
    "name": "ipython",
    "version": 3
   },
   "file_extension": ".py",
   "mimetype": "text/x-python",
   "name": "python",
   "nbconvert_exporter": "python",
   "pygments_lexer": "ipython3",
   "version": "3.11.13"
  }
 },
 "nbformat": 4,
 "nbformat_minor": 5
}
