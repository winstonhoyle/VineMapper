{
 "cells": [
  {
   "cell_type": "code",
   "execution_count": 1,
   "id": "34096667-a395-48d3-be7d-d2dfa7378003",
   "metadata": {},
   "outputs": [],
   "source": [
    "import requests"
   ]
  },
  {
   "cell_type": "code",
   "execution_count": 2,
   "id": "c4323fb2-1721-463e-8602-d1c3302ff523",
   "metadata": {},
   "outputs": [],
   "source": [
    "import geopandas as gpd\n",
    "import pandas as pd"
   ]
  },
  {
   "cell_type": "markdown",
   "id": "7bfd8f31-eada-447d-af06-da8a94290c02",
   "metadata": {},
   "source": [
    "## Open State data"
   ]
  },
  {
   "cell_type": "code",
   "execution_count": 3,
   "id": "5fadd853-8ad5-4832-976a-4d251d5a794b",
   "metadata": {},
   "outputs": [],
   "source": [
    "file_path = \"data/cb_2018_us_state_500k/cb_2018_us_state_500k.shp\"\n",
    "states_df = gpd.read_file(file_path)"
   ]
  },
  {
   "cell_type": "markdown",
   "id": "2246428d-fae0-4af8-97d2-96519e1527e2",
   "metadata": {},
   "source": [
    "## Get Household Data"
   ]
  },
  {
   "cell_type": "code",
   "execution_count": 10,
   "id": "9c93f0e3-339f-4d54-b5a1-15534c56d929",
   "metadata": {},
   "outputs": [],
   "source": [
    "url = \"https://api.census.gov/data/2023/acs/acs5/subject\"\n",
    "params = params = {\n",
    "    \"get\": \"NAME,S1101_C01_002E\",\n",
    "    \"for\": \"state:*\"\n",
    "}\n",
    "response = requests.get(url, params=params)"
   ]
  },
  {
   "cell_type": "code",
   "execution_count": 12,
   "id": "f0762979-d348-443e-8129-31827909a262",
   "metadata": {},
   "outputs": [],
   "source": [
    "data = response.json()\n",
    "columns = data[0]\n",
    "rows = data[1:]\n",
    "household_df = pd.DataFrame(rows, columns=columns)"
   ]
  },
  {
   "cell_type": "code",
   "execution_count": 21,
   "id": "e21d76b0-9a15-4bc0-862b-6d6a3c356b2f",
   "metadata": {},
   "outputs": [],
   "source": [
    "household_df = household_df.rename(columns={\"state\": \"STATEFP\", \"S1101_C01_002E\":\"HOUSEHOLD_SIZE\"})"
   ]
  },
  {
   "cell_type": "markdown",
   "id": "ea0435b2-f5f4-4186-853b-615f63cc50aa",
   "metadata": {},
   "source": [
    "## Merge Data"
   ]
  },
  {
   "cell_type": "code",
   "execution_count": 22,
   "id": "29ecb46d-428f-4af3-a953-d88a6e95a9de",
   "metadata": {},
   "outputs": [],
   "source": [
    "household_gdf = states_df.merge(household_df, how='inner', on='STATEFP')"
   ]
  },
  {
   "cell_type": "code",
   "execution_count": 25,
   "id": "c9ac5665-0e74-44b0-8655-4687a38fe365",
   "metadata": {},
   "outputs": [],
   "source": [
    "household_gdf = household_gdf[['geometry', 'HOUSEHOLD_SIZE']]\n",
    "household_gdf['HOUSEHOLD_SIZE'] = household_gdf['HOUSEHOLD_SIZE'].astype(float)"
   ]
  },
  {
   "cell_type": "code",
   "execution_count": 26,
   "id": "ae923604-fd11-4c7d-a480-4f53abaeafbc",
   "metadata": {},
   "outputs": [],
   "source": [
    "household_gdf = household_gdf.to_crs(9311)\n",
    "household_gdf.to_file(\"data/Household_size_per_State.gpkg\")"
   ]
  },
  {
   "cell_type": "code",
   "execution_count": null,
   "id": "318f0ee8-4a25-49d2-8c00-7543b5297151",
   "metadata": {},
   "outputs": [],
   "source": []
  }
 ],
 "metadata": {
  "kernelspec": {
   "display_name": "Python 3 (ipykernel)",
   "language": "python",
   "name": "python3"
  },
  "language_info": {
   "codemirror_mode": {
    "name": "ipython",
    "version": 3
   },
   "file_extension": ".py",
   "mimetype": "text/x-python",
   "name": "python",
   "nbconvert_exporter": "python",
   "pygments_lexer": "ipython3",
   "version": "3.12.11"
  }
 },
 "nbformat": 4,
 "nbformat_minor": 5
}
