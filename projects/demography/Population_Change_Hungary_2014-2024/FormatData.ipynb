{
 "cells": [
  {
   "cell_type": "code",
   "execution_count": 34,
   "id": "6c8b506a-4477-4416-bd68-b44f0b27a407",
   "metadata": {},
   "outputs": [],
   "source": [
    "import geopandas as gpd\n",
    "import pandas as pd"
   ]
  },
  {
   "cell_type": "markdown",
   "id": "501b8f83-ceb2-4292-93d5-56f8dcd37cd8",
   "metadata": {},
   "source": [
    "## Open Geojson"
   ]
  },
  {
   "cell_type": "code",
   "execution_count": 82,
   "id": "4b832cd6-014c-4a54-b0c0-6b42255e20ce",
   "metadata": {},
   "outputs": [],
   "source": [
    "hungary_gdf = gpd.read_file(\"data/counties.geojson\")"
   ]
  },
  {
   "cell_type": "markdown",
   "id": "0643d5ed-8563-475d-9572-3c635f6f8104",
   "metadata": {},
   "source": [
    "## Get Open Population data"
   ]
  },
  {
   "cell_type": "code",
   "execution_count": 83,
   "id": "2c99cfc7-b865-4dc7-affd-bc09bd7529f3",
   "metadata": {},
   "outputs": [],
   "source": [
    "column_names = pd.read_csv(\n",
    "    \"data/stadat-nep0034-22.1.2.1-en.csv\", sep=\";\", encoding=\"latin-1\"\n",
    ").iloc[0]"
   ]
  },
  {
   "cell_type": "code",
   "execution_count": 84,
   "id": "ba325d9f-213d-4d40-977b-a21c142f50a5",
   "metadata": {},
   "outputs": [],
   "source": [
    "raw_population_df = pd.read_csv(\n",
    "    \"data/stadat-nep0034-22.1.2.1-en.csv\", sep=\";\", thousands=\" \", encoding=\"latin-1\"\n",
    ")\n",
    "raw_population_df.columns = column_names"
   ]
  },
  {
   "cell_type": "code",
   "execution_count": 85,
   "id": "19d8c7f0-0231-4dbc-9351-f286e5e1c456",
   "metadata": {},
   "outputs": [],
   "source": [
    "raw_population_df = raw_population_df.rename(\n",
    "    columns={\"Name of territorial units\": \"megye\"}\n",
    ")"
   ]
  },
  {
   "cell_type": "code",
   "execution_count": 86,
   "id": "ab85f2c1-18f3-4e1e-9562-9cd6e467625f",
   "metadata": {},
   "outputs": [
    {
     "data": {
      "text/plain": [
       "Index([31, 62, 63, 93], dtype='int64')"
      ]
     },
     "execution_count": 86,
     "metadata": {},
     "output_type": "execute_result"
    }
   ],
   "source": [
    "raw_population_df.index[raw_population_df[\"megye\"] == \"Total\"]"
   ]
  },
  {
   "cell_type": "code",
   "execution_count": 87,
   "id": "f400d92a-a49e-49ba-a7d4-f8dbaa1f6ea4",
   "metadata": {},
   "outputs": [],
   "source": [
    "raw_population_df = raw_population_df.iloc[64:].reset_index(drop=True)\n",
    "raw_population_df = raw_population_df.replace(\n",
    "    {\"Gyõr-Moson-Sopron\": \"Győr-Moson-Sopron\", \"Csongrád-Csanád\": \"Csongrád\"}\n",
    ")"
   ]
  },
  {
   "cell_type": "code",
   "execution_count": 88,
   "id": "d0884bae-44bf-4fa5-9866-c100fbc123c4",
   "metadata": {},
   "outputs": [],
   "source": [
    "hungary_population_gdf = hungary_gdf.merge(raw_population_df, on=\"megye\", how=\"left\")"
   ]
  },
  {
   "cell_type": "code",
   "execution_count": 89,
   "id": "dc3e3ac0-3db2-4246-a816-819298eedd7d",
   "metadata": {},
   "outputs": [],
   "source": [
    "hungary_population_gdf = hungary_population_gdf[[\"megye\", \"geometry\", \"2014\", \"2024\"]]"
   ]
  },
  {
   "cell_type": "code",
   "execution_count": 91,
   "id": "3fe295fc-7e6d-4d83-a044-e3fb816f67f0",
   "metadata": {},
   "outputs": [],
   "source": [
    "hungary_population_gdf[\"diff\"] = (\n",
    "    hungary_population_gdf[\"2024\"] - hungary_population_gdf[\"2014\"]\n",
    ")\n",
    "hungary_population_gdf[\"percent\"] = (\n",
    "    hungary_population_gdf[\"diff\"] / hungary_population_gdf[\"2014\"]\n",
    ").round(decimals=2)"
   ]
  },
  {
   "cell_type": "code",
   "execution_count": 92,
   "id": "c3d23f51-9e5e-43a3-96d8-973c6a117176",
   "metadata": {},
   "outputs": [
    {
     "data": {
      "text/html": [
       "<div>\n",
       "<style scoped>\n",
       "    .dataframe tbody tr th:only-of-type {\n",
       "        vertical-align: middle;\n",
       "    }\n",
       "\n",
       "    .dataframe tbody tr th {\n",
       "        vertical-align: top;\n",
       "    }\n",
       "\n",
       "    .dataframe thead th {\n",
       "        text-align: right;\n",
       "    }\n",
       "</style>\n",
       "<table border=\"1\" class=\"dataframe\">\n",
       "  <thead>\n",
       "    <tr style=\"text-align: right;\">\n",
       "      <th></th>\n",
       "      <th>megye</th>\n",
       "      <th>geometry</th>\n",
       "      <th>2014</th>\n",
       "      <th>2024</th>\n",
       "      <th>diff</th>\n",
       "      <th>percent</th>\n",
       "    </tr>\n",
       "  </thead>\n",
       "  <tbody>\n",
       "    <tr>\n",
       "      <th>0</th>\n",
       "      <td>Budapest</td>\n",
       "      <td>POLYGON ((18.92617 47.54345, 18.92942 47.54484...</td>\n",
       "      <td>1733837.0</td>\n",
       "      <td>1686222.0</td>\n",
       "      <td>-47615.0</td>\n",
       "      <td>-0.03</td>\n",
       "    </tr>\n",
       "    <tr>\n",
       "      <th>1</th>\n",
       "      <td>Baranya</td>\n",
       "      <td>POLYGON ((17.62507 45.98814, 17.62562 45.98777...</td>\n",
       "      <td>374805.0</td>\n",
       "      <td>353331.0</td>\n",
       "      <td>-21474.0</td>\n",
       "      <td>-0.06</td>\n",
       "    </tr>\n",
       "    <tr>\n",
       "      <th>2</th>\n",
       "      <td>Bács-Kiskun</td>\n",
       "      <td>POLYGON ((18.73307 46.04545, 18.73852 46.04889...</td>\n",
       "      <td>516084.0</td>\n",
       "      <td>491632.0</td>\n",
       "      <td>-24452.0</td>\n",
       "      <td>-0.05</td>\n",
       "    </tr>\n",
       "    <tr>\n",
       "      <th>3</th>\n",
       "      <td>Békés</td>\n",
       "      <td>POLYGON ((20.42439 46.80372, 20.42392 46.80715...</td>\n",
       "      <td>353448.0</td>\n",
       "      <td>310912.0</td>\n",
       "      <td>-42536.0</td>\n",
       "      <td>-0.12</td>\n",
       "    </tr>\n",
       "    <tr>\n",
       "      <th>4</th>\n",
       "      <td>Borsod-Abaúj-Zemplén</td>\n",
       "      <td>POLYGON ((20.05191 48.16772, 20.05288 48.16736...</td>\n",
       "      <td>675767.0</td>\n",
       "      <td>617800.0</td>\n",
       "      <td>-57967.0</td>\n",
       "      <td>-0.09</td>\n",
       "    </tr>\n",
       "    <tr>\n",
       "      <th>5</th>\n",
       "      <td>Csongrád</td>\n",
       "      <td>POLYGON ((19.63818 46.26444, 19.6454 46.27088,...</td>\n",
       "      <td>407148.0</td>\n",
       "      <td>389411.0</td>\n",
       "      <td>-17737.0</td>\n",
       "      <td>-0.04</td>\n",
       "    </tr>\n",
       "    <tr>\n",
       "      <th>6</th>\n",
       "      <td>Fejér</td>\n",
       "      <td>POLYGON ((18.03601 47.33462, 18.03541 47.3369,...</td>\n",
       "      <td>419416.0</td>\n",
       "      <td>419490.0</td>\n",
       "      <td>74.0</td>\n",
       "      <td>0.00</td>\n",
       "    </tr>\n",
       "    <tr>\n",
       "      <th>7</th>\n",
       "      <td>Győr-Moson-Sopron</td>\n",
       "      <td>POLYGON ((16.42153 47.66531, 16.42171 47.66504...</td>\n",
       "      <td>447111.0</td>\n",
       "      <td>473246.0</td>\n",
       "      <td>26135.0</td>\n",
       "      <td>0.06</td>\n",
       "    </tr>\n",
       "    <tr>\n",
       "      <th>8</th>\n",
       "      <td>Hajdú-Bihar</td>\n",
       "      <td>POLYGON ((20.8277 47.65928, 20.83045 47.65733,...</td>\n",
       "      <td>538607.0</td>\n",
       "      <td>520550.0</td>\n",
       "      <td>-18057.0</td>\n",
       "      <td>-0.03</td>\n",
       "    </tr>\n",
       "    <tr>\n",
       "      <th>9</th>\n",
       "      <td>Heves</td>\n",
       "      <td>POLYGON ((19.57113 47.73499, 19.57514 47.73272...</td>\n",
       "      <td>302963.0</td>\n",
       "      <td>285058.0</td>\n",
       "      <td>-17905.0</td>\n",
       "      <td>-0.06</td>\n",
       "    </tr>\n",
       "    <tr>\n",
       "      <th>10</th>\n",
       "      <td>Komárom-Esztergom</td>\n",
       "      <td>POLYGON ((17.87085 47.45795, 17.87084 47.45833...</td>\n",
       "      <td>301450.0</td>\n",
       "      <td>301834.0</td>\n",
       "      <td>384.0</td>\n",
       "      <td>0.00</td>\n",
       "    </tr>\n",
       "    <tr>\n",
       "      <th>11</th>\n",
       "      <td>Nógrád</td>\n",
       "      <td>POLYGON ((18.92806 48.05712, 18.93373 48.0506,...</td>\n",
       "      <td>197533.0</td>\n",
       "      <td>180469.0</td>\n",
       "      <td>-17064.0</td>\n",
       "      <td>-0.09</td>\n",
       "    </tr>\n",
       "    <tr>\n",
       "      <th>12</th>\n",
       "      <td>Pest</td>\n",
       "      <td>POLYGON ((18.68854 47.57724, 18.69476 47.56992...</td>\n",
       "      <td>1217628.0</td>\n",
       "      <td>1333257.0</td>\n",
       "      <td>115629.0</td>\n",
       "      <td>0.09</td>\n",
       "    </tr>\n",
       "    <tr>\n",
       "      <th>13</th>\n",
       "      <td>Somogy</td>\n",
       "      <td>POLYGON ((16.87634 46.32102, 16.87808 46.32054...</td>\n",
       "      <td>314691.0</td>\n",
       "      <td>292691.0</td>\n",
       "      <td>-22000.0</td>\n",
       "      <td>-0.07</td>\n",
       "    </tr>\n",
       "    <tr>\n",
       "      <th>14</th>\n",
       "      <td>Szabolcs-Szatmár-Bereg</td>\n",
       "      <td>POLYGON ((21.07876 48.00208, 21.0788 48.00322,...</td>\n",
       "      <td>558502.0</td>\n",
       "      <td>524513.0</td>\n",
       "      <td>-33989.0</td>\n",
       "      <td>-0.06</td>\n",
       "    </tr>\n",
       "    <tr>\n",
       "      <th>15</th>\n",
       "      <td>Jász-Nagykun-Szolnok</td>\n",
       "      <td>POLYGON ((19.6528 47.54762, 19.65504 47.55143,...</td>\n",
       "      <td>382898.0</td>\n",
       "      <td>353511.0</td>\n",
       "      <td>-29387.0</td>\n",
       "      <td>-0.08</td>\n",
       "    </tr>\n",
       "    <tr>\n",
       "      <th>16</th>\n",
       "      <td>Tolna</td>\n",
       "      <td>POLYGON ((18.00174 46.40053, 18.00396 46.39903...</td>\n",
       "      <td>227360.0</td>\n",
       "      <td>206398.0</td>\n",
       "      <td>-20962.0</td>\n",
       "      <td>-0.09</td>\n",
       "    </tr>\n",
       "    <tr>\n",
       "      <th>17</th>\n",
       "      <td>Vas</td>\n",
       "      <td>POLYGON ((16.11389 46.86906, 16.1155 46.87031,...</td>\n",
       "      <td>253121.0</td>\n",
       "      <td>248199.0</td>\n",
       "      <td>-4922.0</td>\n",
       "      <td>-0.02</td>\n",
       "    </tr>\n",
       "    <tr>\n",
       "      <th>18</th>\n",
       "      <td>Veszprém</td>\n",
       "      <td>POLYGON ((17.0753 47.04905, 17.07927 47.04722,...</td>\n",
       "      <td>348934.0</td>\n",
       "      <td>335979.0</td>\n",
       "      <td>-12955.0</td>\n",
       "      <td>-0.04</td>\n",
       "    </tr>\n",
       "    <tr>\n",
       "      <th>19</th>\n",
       "      <td>Zala</td>\n",
       "      <td>POLYGON ((16.36264 46.7804, 16.36266 46.78002,...</td>\n",
       "      <td>278914.0</td>\n",
       "      <td>260124.0</td>\n",
       "      <td>-18790.0</td>\n",
       "      <td>-0.07</td>\n",
       "    </tr>\n",
       "  </tbody>\n",
       "</table>\n",
       "</div>"
      ],
      "text/plain": [
       "                     megye                                           geometry  \\\n",
       "0                 Budapest  POLYGON ((18.92617 47.54345, 18.92942 47.54484...   \n",
       "1                  Baranya  POLYGON ((17.62507 45.98814, 17.62562 45.98777...   \n",
       "2              Bács-Kiskun  POLYGON ((18.73307 46.04545, 18.73852 46.04889...   \n",
       "3                    Békés  POLYGON ((20.42439 46.80372, 20.42392 46.80715...   \n",
       "4     Borsod-Abaúj-Zemplén  POLYGON ((20.05191 48.16772, 20.05288 48.16736...   \n",
       "5                 Csongrád  POLYGON ((19.63818 46.26444, 19.6454 46.27088,...   \n",
       "6                    Fejér  POLYGON ((18.03601 47.33462, 18.03541 47.3369,...   \n",
       "7        Győr-Moson-Sopron  POLYGON ((16.42153 47.66531, 16.42171 47.66504...   \n",
       "8              Hajdú-Bihar  POLYGON ((20.8277 47.65928, 20.83045 47.65733,...   \n",
       "9                    Heves  POLYGON ((19.57113 47.73499, 19.57514 47.73272...   \n",
       "10       Komárom-Esztergom  POLYGON ((17.87085 47.45795, 17.87084 47.45833...   \n",
       "11                  Nógrád  POLYGON ((18.92806 48.05712, 18.93373 48.0506,...   \n",
       "12                    Pest  POLYGON ((18.68854 47.57724, 18.69476 47.56992...   \n",
       "13                  Somogy  POLYGON ((16.87634 46.32102, 16.87808 46.32054...   \n",
       "14  Szabolcs-Szatmár-Bereg  POLYGON ((21.07876 48.00208, 21.0788 48.00322,...   \n",
       "15    Jász-Nagykun-Szolnok  POLYGON ((19.6528 47.54762, 19.65504 47.55143,...   \n",
       "16                   Tolna  POLYGON ((18.00174 46.40053, 18.00396 46.39903...   \n",
       "17                     Vas  POLYGON ((16.11389 46.86906, 16.1155 46.87031,...   \n",
       "18                Veszprém  POLYGON ((17.0753 47.04905, 17.07927 47.04722,...   \n",
       "19                    Zala  POLYGON ((16.36264 46.7804, 16.36266 46.78002,...   \n",
       "\n",
       "         2014       2024      diff  percent  \n",
       "0   1733837.0  1686222.0  -47615.0    -0.03  \n",
       "1    374805.0   353331.0  -21474.0    -0.06  \n",
       "2    516084.0   491632.0  -24452.0    -0.05  \n",
       "3    353448.0   310912.0  -42536.0    -0.12  \n",
       "4    675767.0   617800.0  -57967.0    -0.09  \n",
       "5    407148.0   389411.0  -17737.0    -0.04  \n",
       "6    419416.0   419490.0      74.0     0.00  \n",
       "7    447111.0   473246.0   26135.0     0.06  \n",
       "8    538607.0   520550.0  -18057.0    -0.03  \n",
       "9    302963.0   285058.0  -17905.0    -0.06  \n",
       "10   301450.0   301834.0     384.0     0.00  \n",
       "11   197533.0   180469.0  -17064.0    -0.09  \n",
       "12  1217628.0  1333257.0  115629.0     0.09  \n",
       "13   314691.0   292691.0  -22000.0    -0.07  \n",
       "14   558502.0   524513.0  -33989.0    -0.06  \n",
       "15   382898.0   353511.0  -29387.0    -0.08  \n",
       "16   227360.0   206398.0  -20962.0    -0.09  \n",
       "17   253121.0   248199.0   -4922.0    -0.02  \n",
       "18   348934.0   335979.0  -12955.0    -0.04  \n",
       "19   278914.0   260124.0  -18790.0    -0.07  "
      ]
     },
     "execution_count": 92,
     "metadata": {},
     "output_type": "execute_result"
    }
   ],
   "source": [
    "hungary_population_gdf"
   ]
  },
  {
   "cell_type": "markdown",
   "id": "61bbea6a-153e-4c10-8054-0effdbae489f",
   "metadata": {},
   "source": [
    "## Merge data and export"
   ]
  },
  {
   "cell_type": "code",
   "execution_count": 96,
   "id": "c7b4bd43-70cc-4a6c-9b3d-be709f100cec",
   "metadata": {},
   "outputs": [],
   "source": [
    "population_gdf = bulgaria_gdf.merge(population_df, on=\"name\", how=\"right\")"
   ]
  },
  {
   "cell_type": "code",
   "execution_count": 97,
   "id": "37596e6c-39b9-4743-aa20-a09ad0a2c16c",
   "metadata": {},
   "outputs": [],
   "source": [
    "population_gdf = population_gdf.to_crs(7803)\n",
    "population_gdf.to_file(\"data/bulgaria_population.gpkg\")"
   ]
  },
  {
   "cell_type": "code",
   "execution_count": null,
   "id": "740780c4-977b-4173-91d7-4c1b9c5643c6",
   "metadata": {},
   "outputs": [],
   "source": []
  }
 ],
 "metadata": {
  "kernelspec": {
   "display_name": "Python 3 (ipykernel)",
   "language": "python",
   "name": "python3"
  },
  "language_info": {
   "codemirror_mode": {
    "name": "ipython",
    "version": 3
   },
   "file_extension": ".py",
   "mimetype": "text/x-python",
   "name": "python",
   "nbconvert_exporter": "python",
   "pygments_lexer": "ipython3",
   "version": "3.11.11"
  }
 },
 "nbformat": 4,
 "nbformat_minor": 5
}
