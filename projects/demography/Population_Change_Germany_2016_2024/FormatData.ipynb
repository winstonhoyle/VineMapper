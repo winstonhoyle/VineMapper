{
 "cells": [
  {
   "cell_type": "code",
   "execution_count": 1,
   "id": "6c8b506a-4477-4416-bd68-b44f0b27a407",
   "metadata": {},
   "outputs": [],
   "source": [
    "import geopandas as gpd\n",
    "import numpy as np\n",
    "import pandas as pd"
   ]
  },
  {
   "cell_type": "markdown",
   "id": "501b8f83-ceb2-4292-93d5-56f8dcd37cd8",
   "metadata": {},
   "source": [
    "## Open Geojson"
   ]
  },
  {
   "cell_type": "code",
   "execution_count": 2,
   "id": "0d610383-22ea-4038-9689-1fa4a8d01f32",
   "metadata": {},
   "outputs": [],
   "source": [
    "germany_gdf = gpd.read_file(\n",
    "    \"data/georef-germany-kreis@public/georef-germany-kreis-millesime.shp\"\n",
    ")"
   ]
  },
  {
   "cell_type": "code",
   "execution_count": 3,
   "id": "679fcc6a-1a4a-47eb-b7fb-581071ac9f39",
   "metadata": {},
   "outputs": [],
   "source": [
    "germany_gdf[\"krs_code\"] = germany_gdf[\"krs_code\"].str[2:7]"
   ]
  },
  {
   "cell_type": "markdown",
   "id": "0643d5ed-8563-475d-9572-3c635f6f8104",
   "metadata": {},
   "source": [
    "## Get Open Population data"
   ]
  },
  {
   "cell_type": "code",
   "execution_count": 4,
   "id": "2c99cfc7-b865-4dc7-affd-bc09bd7529f3",
   "metadata": {},
   "outputs": [],
   "source": [
    "population_df = pd.read_csv(\n",
    "    \"data/12411-0015_en_flat/12411-0015_en_flat.csv\",\n",
    "    delimiter=\";\",\n",
    "    dtype={\"1_variable_attribute_code\": str},\n",
    ")"
   ]
  },
  {
   "cell_type": "code",
   "execution_count": 5,
   "id": "5b8105a9-7abf-4bbe-91e9-d7323c3ba0b5",
   "metadata": {},
   "outputs": [],
   "source": [
    "pop_2016_df = population_df[population_df[\"time\"] == \"2016-12-31\"][\n",
    "    [\"1_variable_attribute_code\", \"value\"]\n",
    "].reset_index(drop=True)\n",
    "pop_2024_df = population_df[population_df[\"time\"] == \"2024-12-31\"][\n",
    "    [\"1_variable_attribute_code\", \"value\"]\n",
    "].reset_index(drop=True)"
   ]
  },
  {
   "cell_type": "code",
   "execution_count": 6,
   "id": "6e0bf0f1-c269-4f31-aa6e-da63035e40e7",
   "metadata": {},
   "outputs": [],
   "source": [
    "pop_df = pop_2016_df.merge(\n",
    "    pop_2024_df, on=\"1_variable_attribute_code\", suffixes=(\"_2016\", \"_2024\")\n",
    ")\n",
    "pop_df = pop_df.rename(\n",
    "    columns={\n",
    "        \"1_variable_attribute_code\": \"krs_code\",\n",
    "        \"value_2016\": \"2016\",\n",
    "        \"value_2024\": \"2024\",\n",
    "    }\n",
    ")"
   ]
  },
  {
   "cell_type": "code",
   "execution_count": 7,
   "id": "d716d08b-271d-4d63-8773-42fb5416f184",
   "metadata": {},
   "outputs": [],
   "source": [
    "pop_df[\"2016\"] = pd.to_numeric(pop_df[\"2016\"], errors=\"coerce\")\n",
    "pop_df[\"2024\"] = pd.to_numeric(pop_df[\"2024\"], errors=\"coerce\")"
   ]
  },
  {
   "cell_type": "code",
   "execution_count": 8,
   "id": "11e9132f-213b-46bd-81d2-e8e1d179a35b",
   "metadata": {},
   "outputs": [],
   "source": [
    "pop_df[\"DIFF\"] = pop_df[\"2024\"] - pop_df[\"2016\"]\n",
    "pop_df[\"PERCENT\"] = ((pop_df[\"DIFF\"] / pop_df[\"2016\"]) * 100.0).round(decimals=1)"
   ]
  },
  {
   "cell_type": "markdown",
   "id": "61bbea6a-153e-4c10-8054-0effdbae489f",
   "metadata": {},
   "source": [
    "## Merge data and export"
   ]
  },
  {
   "cell_type": "code",
   "execution_count": 9,
   "id": "c7b4bd43-70cc-4a6c-9b3d-be709f100cec",
   "metadata": {},
   "outputs": [],
   "source": [
    "pop_gdf = germany_gdf.merge(pop_df, on=\"krs_code\", how=\"left\")"
   ]
  },
  {
   "cell_type": "code",
   "execution_count": 10,
   "id": "37596e6c-39b9-4743-aa20-a09ad0a2c16c",
   "metadata": {},
   "outputs": [],
   "source": [
    "pop_gdf = pop_gdf.to_crs(4839)\n",
    "pop_gdf.to_file(\"data/Population_Change_Germany_2016_2024.gpkg\")"
   ]
  },
  {
   "cell_type": "code",
   "execution_count": 11,
   "id": "740780c4-977b-4173-91d7-4c1b9c5643c6",
   "metadata": {},
   "outputs": [
    {
     "data": {
      "text/plain": [
       "np.float64(82479065.0)"
      ]
     },
     "execution_count": 11,
     "metadata": {},
     "output_type": "execute_result"
    }
   ],
   "source": [
    "pop_gdf[\"2016\"].sum()"
   ]
  },
  {
   "cell_type": "code",
   "execution_count": 12,
   "id": "f37b3a5b-a562-4840-b256-5bea813b9630",
   "metadata": {},
   "outputs": [
    {
     "data": {
      "text/plain": [
       "np.float64(83577140.0)"
      ]
     },
     "execution_count": 12,
     "metadata": {},
     "output_type": "execute_result"
    }
   ],
   "source": [
    "pop_gdf[\"2024\"].sum()"
   ]
  },
  {
   "cell_type": "code",
   "execution_count": 13,
   "id": "891e6871-e834-4df0-b0cb-1d369ff5c2b0",
   "metadata": {},
   "outputs": [],
   "source": [
    "pop_gdf[\"lan_code\"] = pop_gdf[\"lan_code\"].str[2:4]"
   ]
  },
  {
   "cell_type": "code",
   "execution_count": 14,
   "id": "86f25f46-ac1a-4c39-9736-46c446b72d2c",
   "metadata": {},
   "outputs": [],
   "source": [
    "pop_gdf.dissolve(by=\"lan_code\")[[\"geometry\"]].to_file(\"data/german_states.gpkg\")"
   ]
  },
  {
   "cell_type": "code",
   "execution_count": null,
   "id": "fb9e4d5a-b344-4b13-946d-eee130bd01dc",
   "metadata": {},
   "outputs": [],
   "source": []
  }
 ],
 "metadata": {
  "kernelspec": {
   "display_name": "Python 3 (ipykernel)",
   "language": "python",
   "name": "python3"
  },
  "language_info": {
   "codemirror_mode": {
    "name": "ipython",
    "version": 3
   },
   "file_extension": ".py",
   "mimetype": "text/x-python",
   "name": "python",
   "nbconvert_exporter": "python",
   "pygments_lexer": "ipython3",
   "version": "3.11.13"
  }
 },
 "nbformat": 4,
 "nbformat_minor": 5
}
