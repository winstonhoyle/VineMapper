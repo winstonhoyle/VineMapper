{
 "cells": [
  {
   "cell_type": "code",
   "execution_count": 33,
   "id": "66ee29e9-aa6a-4ad2-a002-942b58ee851d",
   "metadata": {},
   "outputs": [],
   "source": [
    "import json"
   ]
  },
  {
   "cell_type": "code",
   "execution_count": 34,
   "id": "9a83a703-4fba-402b-9138-d8bdc4299c2f",
   "metadata": {},
   "outputs": [],
   "source": [
    "import requests"
   ]
  },
  {
   "cell_type": "code",
   "execution_count": 35,
   "id": "6c8b506a-4477-4416-bd68-b44f0b27a407",
   "metadata": {},
   "outputs": [],
   "source": [
    "import geopandas as gpd\n",
    "import pandas as pd"
   ]
  },
  {
   "cell_type": "markdown",
   "id": "501b8f83-ceb2-4292-93d5-56f8dcd37cd8",
   "metadata": {},
   "source": [
    "## Open Geojson"
   ]
  },
  {
   "cell_type": "code",
   "execution_count": 36,
   "id": "6bb8f50d-98b7-4bd2-8f54-723f0a04c166",
   "metadata": {},
   "outputs": [],
   "source": [
    "croatia_gdf = gpd.read_file(\"data/hr.json\")"
   ]
  },
  {
   "cell_type": "code",
   "execution_count": 37,
   "id": "6be98890-b9aa-4720-8442-a8126c5a4683",
   "metadata": {},
   "outputs": [],
   "source": [
    "county_name_map = {\n",
    "    \"Medimurska\": \"County of Međimurje\",\n",
    "    \"Zagrebacka\": \"County of Zagreb\",\n",
    "    \"Krapinsko-Zagorska\": \"County of Krapina-Zagorje\",\n",
    "    \"Sisacko-Moslavacka\": \"County of Sisak-Moslavina\",\n",
    "    \"Karlovacka\": \"County of Karlovac\",\n",
    "    \"Varaždinska\": \"County of Varaždin\",\n",
    "    \"Koprivničko-Križevačka\": \"County of Koprivnica-Križevci\",\n",
    "    \"Bjelovarsko-bilogorska\": \"County of Bjelovar-Bilogora\",\n",
    "    \"Primorsko-Goranska\": \"County of Primorje-Gorski kotar\",\n",
    "    \"Licko-Senjska\": \"County of Lika-Senj\",\n",
    "    \"Viroviticko-Podravska\": \"County of Virovitica-Podravina\",\n",
    "    \"Požeško-slavonska županija\": \"County of Požega-Slavonia\",\n",
    "    \"Brodsko-Posavska\": \"County of Slavonski Brod-Posavina\",\n",
    "    \"Zadarska\": \"County of Zadar\",\n",
    "    \"Osjecko-Baranjska\": \"County of Osijek-Baranja\",\n",
    "    \"Šibensko-Kninska\": \"County of Šibenik-Knin\",\n",
    "    \"Vukovarsko-Srijemska\": \"County of Vukovar-Srijem\",\n",
    "    \"Splitsko-Dalmatinska\": \"County of Split-Dalmatia\",\n",
    "    \"Istarska\": \"County of Istria\",\n",
    "    \"Dubrovacko-Neretvanska\": \"County of Dubrovnik-Neretva\",\n",
    "    \"Grad Zagreb\": \"City of Zagreb\",\n",
    "}"
   ]
  },
  {
   "cell_type": "code",
   "execution_count": 38,
   "id": "12774adb-7691-4ce6-b0d4-c51864fe162f",
   "metadata": {},
   "outputs": [],
   "source": [
    "croatia_gdf[\"name\"] = croatia_gdf[\"name\"].map(county_name_map)"
   ]
  },
  {
   "cell_type": "markdown",
   "id": "0643d5ed-8563-475d-9572-3c635f6f8104",
   "metadata": {},
   "source": [
    "## Get Open Population data"
   ]
  },
  {
   "cell_type": "code",
   "execution_count": 39,
   "id": "2c99cfc7-b865-4dc7-affd-bc09bd7529f3",
   "metadata": {},
   "outputs": [],
   "source": [
    "url = \"https://web.dzs.hr/PxWeb/api/v1/en/Stanovništvo/Procjene stanovništva/SP22_2.px\""
   ]
  },
  {
   "cell_type": "code",
   "execution_count": 40,
   "id": "ba325d9f-213d-4d40-977b-a21c142f50a5",
   "metadata": {},
   "outputs": [],
   "source": [
    "data = {\n",
    "    \"query\": [\n",
    "        {\"code\": \"Starost\", \"selection\": {\"filter\": \"item\", \"values\": [\"0\"]}},\n",
    "        {\"code\": \"Godina\", \"selection\": {\"filter\": \"item\", \"values\": [\"12\", \"22\"]}},\n",
    "        {\"code\": \"Spol\", \"selection\": {\"filter\": \"item\", \"values\": [\"0\"]}},\n",
    "    ],\n",
    "    \"response\": {\"format\": \"JSON-stat\"},\n",
    "}"
   ]
  },
  {
   "cell_type": "code",
   "execution_count": 41,
   "id": "19d8c7f0-0231-4dbc-9351-f286e5e1c456",
   "metadata": {},
   "outputs": [],
   "source": [
    "r = requests.post(url, data=json.dumps(data))"
   ]
  },
  {
   "cell_type": "code",
   "execution_count": 42,
   "id": "e9f30e59-343b-45f9-861f-9e25c55eead7",
   "metadata": {},
   "outputs": [],
   "source": [
    "json_data = r.json()\n",
    "indexes = json_data[\"dataset\"][\"dimension\"][\"Prostorna jedinica\"][\"category\"][\"index\"]\n",
    "labels = json_data[\"dataset\"][\"dimension\"][\"Prostorna jedinica\"][\"category\"][\"label\"]\n",
    "data = json_data[\"dataset\"][\"value\"]"
   ]
  },
  {
   "cell_type": "code",
   "execution_count": 43,
   "id": "02ec70ee-18e0-4d7e-a77c-b8d514d3ca87",
   "metadata": {},
   "outputs": [],
   "source": [
    "list_len = int(len(data) / 2)"
   ]
  },
  {
   "cell_type": "code",
   "execution_count": 44,
   "id": "7a2b72cb-d5dd-4adc-889f-e46f66b33f94",
   "metadata": {},
   "outputs": [],
   "source": [
    "data_list = [\n",
    "    {\"name\": labels[key], \"2013\": data[:list_len][indx], \"2023\": data[list_len:][indx]}\n",
    "    for key, indx in indexes.items()\n",
    "]"
   ]
  },
  {
   "cell_type": "code",
   "execution_count": 45,
   "id": "a49c789b-f120-4995-937c-7d0752e39350",
   "metadata": {},
   "outputs": [],
   "source": [
    "population_df = pd.DataFrame(data_list)\n",
    "population_df[\"DIFF\"] = population_df[\"2023\"] - population_df[\"2013\"]\n",
    "population_df[\"PERCENT\"] = (\n",
    "    (population_df[\"DIFF\"] / population_df[\"2013\"]) * 100\n",
    ").round(decimals=2)"
   ]
  },
  {
   "cell_type": "markdown",
   "id": "61bbea6a-153e-4c10-8054-0effdbae489f",
   "metadata": {},
   "source": [
    "## Merge data and export"
   ]
  },
  {
   "cell_type": "code",
   "execution_count": 47,
   "id": "c7b4bd43-70cc-4a6c-9b3d-be709f100cec",
   "metadata": {},
   "outputs": [],
   "source": [
    "croatia_pop_gdf = croatia_gdf.merge(population_df, on=\"name\", how=\"left\")"
   ]
  },
  {
   "cell_type": "code",
   "execution_count": 49,
   "id": "37596e6c-39b9-4743-aa20-a09ad0a2c16c",
   "metadata": {},
   "outputs": [],
   "source": [
    "croatia_pop_gdf = croatia_pop_gdf.to_crs(3765)\n",
    "croatia_pop_gdf.to_file(\"data/croatian_population.gpkg\")"
   ]
  },
  {
   "cell_type": "code",
   "execution_count": null,
   "id": "740780c4-977b-4173-91d7-4c1b9c5643c6",
   "metadata": {},
   "outputs": [],
   "source": []
  }
 ],
 "metadata": {
  "kernelspec": {
   "display_name": "Python 3 (ipykernel)",
   "language": "python",
   "name": "python3"
  },
  "language_info": {
   "codemirror_mode": {
    "name": "ipython",
    "version": 3
   },
   "file_extension": ".py",
   "mimetype": "text/x-python",
   "name": "python",
   "nbconvert_exporter": "python",
   "pygments_lexer": "ipython3",
   "version": "3.11.11"
  }
 },
 "nbformat": 4,
 "nbformat_minor": 5
}
