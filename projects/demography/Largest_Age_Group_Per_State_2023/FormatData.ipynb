{
 "cells": [
  {
   "cell_type": "code",
   "execution_count": 1,
   "id": "082d543d-4097-4b86-84d7-7892d159f675",
   "metadata": {},
   "outputs": [],
   "source": [
    "import geopandas as gpd\n",
    "import pandas as pd"
   ]
  },
  {
   "cell_type": "markdown",
   "id": "228f9c5e-369a-430b-aa75-392d9b1c81a8",
   "metadata": {},
   "source": [
    "## Open GIS Data"
   ]
  },
  {
   "cell_type": "code",
   "execution_count": 36,
   "id": "e4a9a7f7-f84a-4c3c-b67c-19cdf9f4dd0d",
   "metadata": {},
   "outputs": [],
   "source": [
    "file_path = \"data/cb_2018_us_state_500k/cb_2018_us_state_500k.shp\"\n",
    "states_df = gpd.read_file(file_path)"
   ]
  },
  {
   "cell_type": "markdown",
   "id": "2d00e207-b96e-4b8f-a281-4d0c0b823356",
   "metadata": {},
   "source": [
    "## Get Age data"
   ]
  },
  {
   "cell_type": "code",
   "execution_count": 37,
   "id": "e4e57db8-8037-421f-96f3-f3f8dfdbaa81",
   "metadata": {},
   "outputs": [],
   "source": [
    "acs_age = pd.read_csv(\"data/ACSST1Y2023.S0101-2024-12-12T233736.csv\", thousands=\",\")"
   ]
  },
  {
   "cell_type": "code",
   "execution_count": 62,
   "id": "87b9ce31-e925-4da8-8470-9f3e77172cd9",
   "metadata": {},
   "outputs": [],
   "source": [
    "rename_columns_female = {}\n",
    "rename_columns_male = {}\n",
    "rename_columns_totals = {}\n",
    "for column in list(acs_age.columns):\n",
    "    str_split = column.split(\"!!\")\n",
    "    if len(str_split) == 3:\n",
    "        if str_split[2] == \"Estimate\":\n",
    "            if str_split[1] == \"Male\":\n",
    "                rename_columns_male[column] = str_split[0].strip()\n",
    "            if str_split[1] == \"Female\":\n",
    "                rename_columns_female[column] = str_split[0].strip()\n",
    "            if str_split[1] == \"Total\":\n",
    "                rename_columns_totals[column] = str_split[0].strip()\n",
    "    else:\n",
    "        continue"
   ]
  },
  {
   "cell_type": "code",
   "execution_count": 63,
   "id": "93337928-b1a9-46e7-8356-87d54b749344",
   "metadata": {},
   "outputs": [],
   "source": [
    "states = list(rename_columns_totals.values())\n",
    "states.append(\"group\")"
   ]
  },
  {
   "cell_type": "code",
   "execution_count": 116,
   "id": "09673d05-720c-4b33-96f0-9cfe81f607f8",
   "metadata": {},
   "outputs": [],
   "source": [
    "rename_columns_totals[\"Label (Grouping)\"] = \"group\"\n",
    "acs_age_totals = acs_age.rename(columns=rename_columns_totals)"
   ]
  },
  {
   "cell_type": "markdown",
   "id": "b4c0e93c-1e45-4c8b-9a48-11c4c00c49fb",
   "metadata": {},
   "source": [
    "#### Totals Data"
   ]
  },
  {
   "cell_type": "code",
   "execution_count": 117,
   "id": "8b4f1dfa-f5b1-4ae9-a70c-be13e605a42c",
   "metadata": {},
   "outputs": [],
   "source": [
    "acs_age_totals = acs_age_totals[states]"
   ]
  },
  {
   "cell_type": "code",
   "execution_count": 118,
   "id": "21a71f3f-af67-408b-8a1e-3ad81006b704",
   "metadata": {},
   "outputs": [],
   "source": [
    "acs_age_totals = acs_age_totals.T.reset_index()\n",
    "acs_age_totals.columns = acs_age_totals.iloc[52]\n",
    "acs_age_totals = acs_age_totals.drop(acs_age_totals.index[52:])\n",
    "acs_age_totals.columns = [\n",
    "    col.replace(\" \", \"_\").strip() for col in acs_age_totals.columns\n",
    "]"
   ]
  },
  {
   "cell_type": "code",
   "execution_count": 119,
   "id": "b7e4c85c-6b7b-4ace-a1ad-34dc7c403201",
   "metadata": {},
   "outputs": [],
   "source": [
    "cat_cols = [\n",
    "    \"group\",\n",
    "    \"Total_population\",\n",
    "    \"Under_5_years\",\n",
    "    \"5_to_9_years\",\n",
    "    \"10_to_14_years\",\n",
    "    \"15_to_19_years\",\n",
    "    \"20_to_24_years\",\n",
    "    \"25_to_29_years\",\n",
    "    \"30_to_34_years\",\n",
    "    \"35_to_39_years\",\n",
    "    \"40_to_44_years\",\n",
    "    \"45_to_49_years\",\n",
    "    \"50_to_54_years\",\n",
    "    \"55_to_59_years\",\n",
    "    \"60_to_64_years\",\n",
    "    \"65_to_69_years\",\n",
    "    \"70_to_74_years\",\n",
    "    \"75_to_79_years\",\n",
    "    \"80_to_84_years\",\n",
    "    \"85_years_and_over\",\n",
    "]"
   ]
  },
  {
   "cell_type": "code",
   "execution_count": 120,
   "id": "c12c8fed-4bb2-46e8-91d9-0c344345bb64",
   "metadata": {},
   "outputs": [],
   "source": [
    "for col in cat_cols[1:]:\n",
    "    acs_age_totals[col] = acs_age_totals[col].str.replace(\",\", \"\").astype(int)"
   ]
  },
  {
   "cell_type": "code",
   "execution_count": 121,
   "id": "60ff8dac-1d9c-482a-be7d-4e404a22686e",
   "metadata": {},
   "outputs": [],
   "source": [
    "acs_age_totals = acs_age_totals[cat_cols]"
   ]
  },
  {
   "cell_type": "code",
   "execution_count": 122,
   "id": "54a58777-9d1b-4bfb-9e01-1f97b8371efa",
   "metadata": {},
   "outputs": [],
   "source": [
    "acs_age_totals[\"most_populated_group\"] = acs_age_totals[cat_cols[2:]].idxmax(axis=1)"
   ]
  },
  {
   "cell_type": "code",
   "execution_count": 123,
   "id": "9d935880-e1cc-4a63-b4b8-258b2104c31e",
   "metadata": {},
   "outputs": [],
   "source": [
    "acs_age_totals[\"most_populated_group_label\"] = (\n",
    "    acs_age_totals[\"most_populated_group\"].str.replace(\"_\", \" \").str[:-6]\n",
    ")"
   ]
  },
  {
   "cell_type": "code",
   "execution_count": 124,
   "id": "e3bb919d-8d5f-4d07-a0b5-ca3d333de218",
   "metadata": {},
   "outputs": [],
   "source": [
    "acs_age_totals[\"most_populated_group_population\"] = acs_age_totals.apply(\n",
    "    lambda row: row[row[\"most_populated_group\"]], axis=1\n",
    ")"
   ]
  },
  {
   "cell_type": "markdown",
   "id": "845a2fe2-8fd9-4218-898d-a6b0c6092507",
   "metadata": {},
   "source": [
    "## Combine Data"
   ]
  },
  {
   "cell_type": "code",
   "execution_count": 125,
   "id": "6c9c6046-8f14-4c73-adf8-0949c1892646",
   "metadata": {},
   "outputs": [],
   "source": [
    "acs_age_totals = acs_age_totals.rename(columns={\"group\": \"NAME\"})"
   ]
  },
  {
   "cell_type": "code",
   "execution_count": 130,
   "id": "60382782-c678-4973-94c0-ecc6470cbcbd",
   "metadata": {},
   "outputs": [],
   "source": [
    "age_gdf = states_df.merge(acs_age_totals, on=\"NAME\", how=\"left\")"
   ]
  },
  {
   "cell_type": "code",
   "execution_count": 131,
   "id": "46113ae7-cd6d-45c7-8980-6d2ec0b419d9",
   "metadata": {},
   "outputs": [],
   "source": [
    "age_gdf = age_gdf[\n",
    "    [\n",
    "        \"NAME\",\n",
    "        \"geometry\",\n",
    "        \"most_populated_group\",\n",
    "        \"most_populated_group_label\",\n",
    "        \"most_populated_group_population\",\n",
    "    ]\n",
    "].dropna()"
   ]
  },
  {
   "cell_type": "code",
   "execution_count": 132,
   "id": "405c1f3e-58a7-4038-bfae-00fe2cd3b773",
   "metadata": {},
   "outputs": [],
   "source": [
    "age_gdf = age_gdf.to_crs(9311)"
   ]
  },
  {
   "cell_type": "code",
   "execution_count": 133,
   "id": "cdb9ad00-072b-4c5d-8517-efa09bc758b7",
   "metadata": {},
   "outputs": [],
   "source": [
    "age_gdf.to_file(\"data/age_group.gpkg\")"
   ]
  },
  {
   "cell_type": "code",
   "execution_count": null,
   "id": "b788705d-8ed1-446b-9d8e-a113fe256b6a",
   "metadata": {},
   "outputs": [],
   "source": []
  }
 ],
 "metadata": {
  "kernelspec": {
   "display_name": "Python 3 (ipykernel)",
   "language": "python",
   "name": "python3"
  },
  "language_info": {
   "codemirror_mode": {
    "name": "ipython",
    "version": 3
   },
   "file_extension": ".py",
   "mimetype": "text/x-python",
   "name": "python",
   "nbconvert_exporter": "python",
   "pygments_lexer": "ipython3",
   "version": "3.11.11"
  }
 },
 "nbformat": 4,
 "nbformat_minor": 5
}
