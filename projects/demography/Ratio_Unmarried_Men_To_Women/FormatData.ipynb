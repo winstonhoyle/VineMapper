{
 "cells": [
  {
   "cell_type": "code",
   "execution_count": 40,
   "id": "082d543d-4097-4b86-84d7-7892d159f675",
   "metadata": {},
   "outputs": [],
   "source": [
    "import geopandas as gpd\n",
    "import pandas as pd"
   ]
  },
  {
   "cell_type": "markdown",
   "id": "228f9c5e-369a-430b-aa75-392d9b1c81a8",
   "metadata": {},
   "source": [
    "## Open GIS Data"
   ]
  },
  {
   "cell_type": "code",
   "execution_count": 41,
   "id": "e4a9a7f7-f84a-4c3c-b67c-19cdf9f4dd0d",
   "metadata": {},
   "outputs": [],
   "source": [
    "file_path = \"data/cb_2018_us_state_500k/cb_2018_us_state_500k.shp\"\n",
    "states_df = gpd.read_file(file_path)"
   ]
  },
  {
   "cell_type": "markdown",
   "id": "2d00e207-b96e-4b8f-a281-4d0c0b823356",
   "metadata": {},
   "source": [
    "## Get Age data"
   ]
  },
  {
   "cell_type": "code",
   "execution_count": 42,
   "id": "e4e57db8-8037-421f-96f3-f3f8dfdbaa81",
   "metadata": {},
   "outputs": [],
   "source": [
    "acs_marriage = pd.read_csv(\n",
    "    \"data/ACSST5Y2023.S1201-2025-05-02T023159.csv\", thousands=\",\"\n",
    ")"
   ]
  },
  {
   "cell_type": "code",
   "execution_count": 43,
   "id": "6992eae1-3c00-4ddc-925a-8b8ad68f044f",
   "metadata": {},
   "outputs": [],
   "source": [
    "acs_marriage = acs_marriage.T.reset_index()\n",
    "acs_marriage.columns = acs_marriage.iloc[0]\n",
    "acs_marriage = acs_marriage.iloc[1:]\n",
    "state_col = acs_marriage.columns[0]\n",
    "marriage_col = acs_marriage.columns[-3]\n",
    "acs_marriage = acs_marriage[[state_col, marriage_col]]\n",
    "acs_marriage = acs_marriage.rename(columns={state_col: \"STATE\", marriage_col: \"RATIO\"})"
   ]
  },
  {
   "cell_type": "code",
   "execution_count": 44,
   "id": "5ce23850-1f2a-400c-9b8c-eb507509b82a",
   "metadata": {},
   "outputs": [],
   "source": [
    "acs_marriage = acs_marriage[acs_marriage[\"RATIO\"] != \"(X)\"]\n",
    "acs_marriage[\"NAME\"] = acs_marriage[\"STATE\"].str.split(\"!!\").str[0]\n",
    "acs_marriage[\"RATIO\"] = acs_marriage[\"RATIO\"].astype(float)"
   ]
  },
  {
   "cell_type": "markdown",
   "id": "845a2fe2-8fd9-4218-898d-a6b0c6092507",
   "metadata": {},
   "source": [
    "## Combine Data"
   ]
  },
  {
   "cell_type": "code",
   "execution_count": 45,
   "id": "60382782-c678-4973-94c0-ecc6470cbcbd",
   "metadata": {},
   "outputs": [],
   "source": [
    "gender_gdf = states_df.merge(acs_marriage, on=\"NAME\", how=\"left\")"
   ]
  },
  {
   "cell_type": "code",
   "execution_count": 47,
   "id": "46113ae7-cd6d-45c7-8980-6d2ec0b419d9",
   "metadata": {},
   "outputs": [],
   "source": [
    "gender_gdf = gender_gdf[[\"geometry\", \"NAME\", \"RATIO\"]].dropna()"
   ]
  },
  {
   "cell_type": "code",
   "execution_count": 48,
   "id": "405c1f3e-58a7-4038-bfae-00fe2cd3b773",
   "metadata": {},
   "outputs": [],
   "source": [
    "gender_gdf = gender_gdf.to_crs(9311)"
   ]
  },
  {
   "cell_type": "code",
   "execution_count": 49,
   "id": "cdb9ad00-072b-4c5d-8517-efa09bc758b7",
   "metadata": {},
   "outputs": [],
   "source": [
    "gender_gdf.to_file(\"data/gender.gpkg\")"
   ]
  },
  {
   "cell_type": "code",
   "execution_count": null,
   "id": "b788705d-8ed1-446b-9d8e-a113fe256b6a",
   "metadata": {},
   "outputs": [],
   "source": []
  }
 ],
 "metadata": {
  "kernelspec": {
   "display_name": "Python 3 (ipykernel)",
   "language": "python",
   "name": "python3"
  },
  "language_info": {
   "codemirror_mode": {
    "name": "ipython",
    "version": 3
   },
   "file_extension": ".py",
   "mimetype": "text/x-python",
   "name": "python",
   "nbconvert_exporter": "python",
   "pygments_lexer": "ipython3",
   "version": "3.11.11"
  }
 },
 "nbformat": 4,
 "nbformat_minor": 5
}
