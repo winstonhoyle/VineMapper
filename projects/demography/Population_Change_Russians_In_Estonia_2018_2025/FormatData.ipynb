{
 "cells": [
  {
   "cell_type": "code",
   "execution_count": 1,
   "id": "9a83a703-4fba-402b-9138-d8bdc4299c2f",
   "metadata": {},
   "outputs": [],
   "source": [
    "import requests"
   ]
  },
  {
   "cell_type": "code",
   "execution_count": 2,
   "id": "6c8b506a-4477-4416-bd68-b44f0b27a407",
   "metadata": {},
   "outputs": [],
   "source": [
    "import geopandas as gpd\n",
    "import pandas as pd"
   ]
  },
  {
   "cell_type": "markdown",
   "id": "501b8f83-ceb2-4292-93d5-56f8dcd37cd8",
   "metadata": {},
   "source": [
    "## Open File"
   ]
  },
  {
   "cell_type": "code",
   "execution_count": 3,
   "id": "6bb8f50d-98b7-4bd2-8f54-723f0a04c166",
   "metadata": {},
   "outputs": [],
   "source": [
    "file_path = \"data/maakond_shp/maakond.shp\"\n",
    "estonia_counties_gdf = gpd.read_file(file_path)"
   ]
  },
  {
   "cell_type": "markdown",
   "id": "0643d5ed-8563-475d-9572-3c635f6f8104",
   "metadata": {},
   "source": [
    "## Get Open Population data"
   ]
  },
  {
   "cell_type": "code",
   "execution_count": 4,
   "id": "ba325d9f-213d-4d40-977b-a21c142f50a5",
   "metadata": {},
   "outputs": [],
   "source": [
    "r = requests.get(\"https://xgis.maaamet.ee/xgis2/service/14qni09/RV0222U.json\")\n",
    "data = r.json()"
   ]
  },
  {
   "cell_type": "code",
   "execution_count": 5,
   "id": "1a0b6161-5280-4cc3-b5eb-63dec2a59ceb",
   "metadata": {},
   "outputs": [],
   "source": [
    "estonian_2018_df = pd.DataFrame(\n",
    "    data[\"data\"][\"MK\"][\"0.2.0\"].items(), columns=[\"MKOOD\", \"2018\"]\n",
    ")\n",
    "estonian_2025_df = pd.DataFrame(\n",
    "    data[\"data\"][\"MK\"][\"0.2.7\"].items(), columns=[\"MKOOD\", \"2025\"]\n",
    ")"
   ]
  },
  {
   "cell_type": "code",
   "execution_count": 6,
   "id": "dbfe9aaa-757c-4721-a5ef-3f7048da1fb3",
   "metadata": {},
   "outputs": [],
   "source": [
    "estonian_pop_df = estonian_2018_df.merge(estonian_2025_df, on=\"MKOOD\", how=\"inner\")"
   ]
  },
  {
   "cell_type": "code",
   "execution_count": 7,
   "id": "f8a36cc7-1466-4a25-8c72-bfbc9f4d61c8",
   "metadata": {},
   "outputs": [],
   "source": [
    "estonian_pop_df[\"DIFF\"] = estonian_pop_df[\"2025\"] - estonian_pop_df[\"2018\"]\n",
    "estonian_pop_df[\"PERCENT\"] = (\n",
    "    (estonian_pop_df[\"DIFF\"] / estonian_pop_df[\"2018\"]) * 100\n",
    ").round(decimals=1)"
   ]
  },
  {
   "cell_type": "markdown",
   "id": "61bbea6a-153e-4c10-8054-0effdbae489f",
   "metadata": {},
   "source": [
    "## Merge data and export"
   ]
  },
  {
   "cell_type": "code",
   "execution_count": 8,
   "id": "c7b4bd43-70cc-4a6c-9b3d-be709f100cec",
   "metadata": {},
   "outputs": [],
   "source": [
    "estonian_pop_gdf = estonia_counties_gdf.merge(estonian_pop_df, on=\"MKOOD\", how=\"left\")"
   ]
  },
  {
   "cell_type": "code",
   "execution_count": 9,
   "id": "37596e6c-39b9-4743-aa20-a09ad0a2c16c",
   "metadata": {},
   "outputs": [],
   "source": [
    "estonian_pop_gdf = estonian_pop_gdf.to_crs(3300)\n",
    "estonian_pop_gdf.to_file(\"data/estonian_population.gpkg\")"
   ]
  },
  {
   "cell_type": "code",
   "execution_count": 10,
   "id": "0a4c0261-9b21-4e72-990d-2e91e82b32f1",
   "metadata": {},
   "outputs": [
    {
     "data": {
      "text/plain": [
       "np.int64(328618)"
      ]
     },
     "execution_count": 10,
     "metadata": {},
     "output_type": "execute_result"
    }
   ],
   "source": [
    "estonian_pop_gdf[\"2018\"].sum()"
   ]
  },
  {
   "cell_type": "code",
   "execution_count": 11,
   "id": "ad98d24e-adc7-41c0-be24-7f4a49fb23be",
   "metadata": {},
   "outputs": [
    {
     "data": {
      "text/plain": [
       "np.int64(285819)"
      ]
     },
     "execution_count": 11,
     "metadata": {},
     "output_type": "execute_result"
    }
   ],
   "source": [
    "estonian_pop_gdf[\"2025\"].sum()"
   ]
  },
  {
   "cell_type": "code",
   "execution_count": null,
   "id": "bf2e7b88-6ae5-4533-8de4-7224bd4b3338",
   "metadata": {},
   "outputs": [],
   "source": []
  }
 ],
 "metadata": {
  "kernelspec": {
   "display_name": "Python 3 (ipykernel)",
   "language": "python",
   "name": "python3"
  },
  "language_info": {
   "codemirror_mode": {
    "name": "ipython",
    "version": 3
   },
   "file_extension": ".py",
   "mimetype": "text/x-python",
   "name": "python",
   "nbconvert_exporter": "python",
   "pygments_lexer": "ipython3",
   "version": "3.11.11"
  }
 },
 "nbformat": 4,
 "nbformat_minor": 5
}
