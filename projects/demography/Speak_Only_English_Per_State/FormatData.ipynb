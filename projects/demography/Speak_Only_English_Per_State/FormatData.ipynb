{
 "cells": [
  {
   "cell_type": "code",
   "execution_count": 9,
   "id": "c4323fb2-1721-463e-8602-d1c3302ff523",
   "metadata": {},
   "outputs": [],
   "source": [
    "import geopandas as gpd\n",
    "import pandas as pd"
   ]
  },
  {
   "cell_type": "markdown",
   "id": "7bfd8f31-eada-447d-af06-da8a94290c02",
   "metadata": {},
   "source": [
    "## Open State data"
   ]
  },
  {
   "cell_type": "code",
   "execution_count": 10,
   "id": "5fadd853-8ad5-4832-976a-4d251d5a794b",
   "metadata": {},
   "outputs": [],
   "source": [
    "file_path = \"data/cb_2018_us_state_500k/cb_2018_us_state_500k.shp\"\n",
    "states_df = gpd.read_file(file_path)"
   ]
  },
  {
   "cell_type": "markdown",
   "id": "74b55cfa-2db3-4a7c-bd04-0b341757effe",
   "metadata": {},
   "source": [
    "## Get Language "
   ]
  },
  {
   "cell_type": "code",
   "execution_count": 11,
   "id": "3992f69b-d2c6-4058-879b-b3df9efd2c6a",
   "metadata": {},
   "outputs": [],
   "source": [
    "language_df = pd.read_csv(\"data/ACSST1Y2023.S1601-2025-06-22T195612.csv\", thousands=\",\")"
   ]
  },
  {
   "cell_type": "code",
   "execution_count": 12,
   "id": "d16c79dc-bc8f-43ec-bb37-b4a153b5a2fb",
   "metadata": {},
   "outputs": [],
   "source": [
    "language_df = language_df.T.reset_index()\n",
    "language_df.columns = language_df.iloc[0].str.rstrip().str.lstrip()\n",
    "language_df = language_df.loc[1:]"
   ]
  },
  {
   "cell_type": "code",
   "execution_count": 13,
   "id": "48542abb-7780-4236-ae78-64dd52fde059",
   "metadata": {},
   "outputs": [
    {
     "name": "stderr",
     "output_type": "stream",
     "text": [
      "/tmp/ipykernel_32183/3217474478.py:5: SettingWithCopyWarning: \n",
      "A value is trying to be set on a copy of a slice from a DataFrame.\n",
      "Try using .loc[row_indexer,col_indexer] = value instead\n",
      "\n",
      "See the caveats in the documentation: https://pandas.pydata.org/pandas-docs/stable/user_guide/indexing.html#returning-a-view-versus-a-copy\n",
      "  language_percent_df[\"NAME\"] = (\n"
     ]
    }
   ],
   "source": [
    "language_percent_df = language_df[\n",
    "    language_df[\"Label (Grouping)\"].str.split(\"!!\").str[1] == \"Percent\"\n",
    "]\n",
    "language_percent_df[\"NAME\"] = (\n",
    "    language_percent_df[\"Label (Grouping)\"].str.split(\"!!\").str[0]\n",
    ")"
   ]
  },
  {
   "cell_type": "code",
   "execution_count": 14,
   "id": "c7e3d0a7-2ad7-4e50-abaf-e6888c69f446",
   "metadata": {},
   "outputs": [
    {
     "name": "stderr",
     "output_type": "stream",
     "text": [
      "/tmp/ipykernel_32183/1095888668.py:1: SettingWithCopyWarning: \n",
      "A value is trying to be set on a copy of a slice from a DataFrame.\n",
      "Try using .loc[row_indexer,col_indexer] = value instead\n",
      "\n",
      "See the caveats in the documentation: https://pandas.pydata.org/pandas-docs/stable/user_guide/indexing.html#returning-a-view-versus-a-copy\n",
      "  language_percent_df['ONLY_ENGLISH'] = language_percent_df['Speak only English'].iloc[:,0].str.replace(\"%\",\"\").astype(float)\n"
     ]
    }
   ],
   "source": [
    "language_percent_df[\"ONLY_ENGLISH\"] = (\n",
    "    language_percent_df[\"Speak only English\"]\n",
    "    .iloc[:, 0]\n",
    "    .str.replace(\"%\", \"\")\n",
    "    .astype(float)\n",
    ")\n",
    "language_percent_df = language_percent_df[[\"NAME\", \"ONLY_ENGLISH\"]]"
   ]
  },
  {
   "cell_type": "markdown",
   "id": "ea0435b2-f5f4-4186-853b-615f63cc50aa",
   "metadata": {},
   "source": [
    "## Merge Data"
   ]
  },
  {
   "cell_type": "code",
   "execution_count": 15,
   "id": "335e5a07-6df8-46bf-bc7d-1512019384fd",
   "metadata": {},
   "outputs": [],
   "source": [
    "language_percent_gdf = states_df.merge(language_percent_df, on=\"NAME\", how=\"left\")"
   ]
  },
  {
   "cell_type": "code",
   "execution_count": 16,
   "id": "7c55f3a2-c33f-4b81-b294-b3101bd95342",
   "metadata": {},
   "outputs": [],
   "source": [
    "language_percent_gdf = language_percent_gdf.dropna()"
   ]
  },
  {
   "cell_type": "code",
   "execution_count": 17,
   "id": "ae923604-fd11-4c7d-a480-4f53abaeafbc",
   "metadata": {},
   "outputs": [],
   "source": [
    "language_percent_gdf = language_percent_gdf.to_crs(9311)\n",
    "language_percent_gdf.to_file(\"data/language.gpkg\")"
   ]
  },
  {
   "cell_type": "code",
   "execution_count": null,
   "id": "c03fa9fd-1e45-4341-b9a1-17ad15d0aa41",
   "metadata": {},
   "outputs": [],
   "source": []
  }
 ],
 "metadata": {
  "kernelspec": {
   "display_name": "Python 3 (ipykernel)",
   "language": "python",
   "name": "python3"
  },
  "language_info": {
   "codemirror_mode": {
    "name": "ipython",
    "version": 3
   },
   "file_extension": ".py",
   "mimetype": "text/x-python",
   "name": "python",
   "nbconvert_exporter": "python",
   "pygments_lexer": "ipython3",
   "version": "3.11.11"
  }
 },
 "nbformat": 4,
 "nbformat_minor": 5
}
