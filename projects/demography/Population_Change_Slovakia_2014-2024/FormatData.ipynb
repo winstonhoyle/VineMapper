{
 "cells": [
  {
   "cell_type": "code",
   "execution_count": 1,
   "id": "6c8b506a-4477-4416-bd68-b44f0b27a407",
   "metadata": {},
   "outputs": [],
   "source": [
    "import geopandas as gpd\n",
    "import pandas as pd"
   ]
  },
  {
   "cell_type": "markdown",
   "id": "501b8f83-ceb2-4292-93d5-56f8dcd37cd8",
   "metadata": {},
   "source": [
    "## Open Geojson"
   ]
  },
  {
   "cell_type": "code",
   "execution_count": 2,
   "id": "0d610383-22ea-4038-9689-1fa4a8d01f32",
   "metadata": {},
   "outputs": [],
   "source": [
    "slovakia_gdf = gpd.read_file(\n",
    "    \"https://raw.githubusercontent.com/drakh/slovakia-gps-data/refs/heads/master/GeoJSON/epsg_4326/districts_epsg_4326.geojson\"\n",
    ")\n",
    "slovakia_gdf.crs = 4326"
   ]
  },
  {
   "cell_type": "code",
   "execution_count": 3,
   "id": "c0b34c07-7802-447c-9e8a-779ade234ee4",
   "metadata": {},
   "outputs": [],
   "source": [
    "slovakia_gdf[\"NM3\"] = \"District of \" + slovakia_gdf[\"NM3\"]"
   ]
  },
  {
   "cell_type": "markdown",
   "id": "0643d5ed-8563-475d-9572-3c635f6f8104",
   "metadata": {},
   "source": [
    "## Get Open Population data"
   ]
  },
  {
   "cell_type": "code",
   "execution_count": 4,
   "id": "2c99cfc7-b865-4dc7-affd-bc09bd7529f3",
   "metadata": {},
   "outputs": [],
   "source": [
    "population_df = pd.read_csv(\"data/pop.csv\", delimiter=\";\", encoding=\"cp1250\")"
   ]
  },
  {
   "cell_type": "code",
   "execution_count": 5,
   "id": "a6e2cd4e-e604-47f1-9cbe-93c4ce9e91cf",
   "metadata": {},
   "outputs": [],
   "source": [
    "population_df = population_df.rename(columns={\"Indicator\": \"NM3\"})\n",
    "population_df[\"NM3\"] = population_df[\"NM3\"].str.replace(\"\\xa0\", \" \", regex=False)\n",
    "population_df = population_df.replace({\"District of Śaľa\": \"District of Šaľa\"})"
   ]
  },
  {
   "cell_type": "code",
   "execution_count": 6,
   "id": "ff5e54aa-8003-4fea-94bf-9cb77a1d8763",
   "metadata": {},
   "outputs": [],
   "source": [
    "population_df[[\"2014\", \"2024\"]] = population_df[[\"2014\", \"2024\"]].astype(int)"
   ]
  },
  {
   "cell_type": "code",
   "execution_count": 7,
   "id": "53cf4049-c853-4921-8b72-b9f2cf768e1d",
   "metadata": {},
   "outputs": [],
   "source": [
    "population_df[\"DIFF\"] = population_df[\"2024\"] - population_df[\"2014\"]\n",
    "population_df[\"PERCENT\"] = (\n",
    "    (population_df[\"DIFF\"] / population_df[\"2014\"]) * 100\n",
    ").round(decimals=1)"
   ]
  },
  {
   "cell_type": "markdown",
   "id": "61bbea6a-153e-4c10-8054-0effdbae489f",
   "metadata": {},
   "source": [
    "## Merge data and export"
   ]
  },
  {
   "cell_type": "code",
   "execution_count": 8,
   "id": "c7b4bd43-70cc-4a6c-9b3d-be709f100cec",
   "metadata": {},
   "outputs": [],
   "source": [
    "slovakia_pop_gdf = slovakia_gdf.merge(population_df, on=\"NM3\", how=\"left\")"
   ]
  },
  {
   "cell_type": "code",
   "execution_count": 9,
   "id": "37596e6c-39b9-4743-aa20-a09ad0a2c16c",
   "metadata": {},
   "outputs": [],
   "source": [
    "slovakia_pop_gdf = slovakia_pop_gdf.to_crs(5514)\n",
    "slovakia_pop_gdf.to_file(\"data/slovakia_pop.gpkg\")"
   ]
  },
  {
   "cell_type": "code",
   "execution_count": 10,
   "id": "740780c4-977b-4173-91d7-4c1b9c5643c6",
   "metadata": {},
   "outputs": [
    {
     "data": {
      "text/plain": [
       "np.int64(5417750)"
      ]
     },
     "execution_count": 10,
     "metadata": {},
     "output_type": "execute_result"
    }
   ],
   "source": [
    "population_df[\"2014\"].sum()"
   ]
  },
  {
   "cell_type": "code",
   "execution_count": 11,
   "id": "f37b3a5b-a562-4840-b256-5bea813b9630",
   "metadata": {},
   "outputs": [
    {
     "data": {
      "text/plain": [
       "np.int64(5422284)"
      ]
     },
     "execution_count": 11,
     "metadata": {},
     "output_type": "execute_result"
    }
   ],
   "source": [
    "population_df[\"2024\"].sum()"
   ]
  },
  {
   "cell_type": "code",
   "execution_count": null,
   "id": "fea064f3-cbf7-4761-be12-328c41ae4f1c",
   "metadata": {},
   "outputs": [],
   "source": []
  }
 ],
 "metadata": {
  "kernelspec": {
   "display_name": "Python 3 (ipykernel)",
   "language": "python",
   "name": "python3"
  },
  "language_info": {
   "codemirror_mode": {
    "name": "ipython",
    "version": 3
   },
   "file_extension": ".py",
   "mimetype": "text/x-python",
   "name": "python",
   "nbconvert_exporter": "python",
   "pygments_lexer": "ipython3",
   "version": "3.11.11"
  }
 },
 "nbformat": 4,
 "nbformat_minor": 5
}
