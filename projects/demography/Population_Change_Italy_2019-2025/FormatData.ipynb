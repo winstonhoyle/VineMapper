{
 "cells": [
  {
   "cell_type": "code",
   "execution_count": 1,
   "id": "6c8b506a-4477-4416-bd68-b44f0b27a407",
   "metadata": {},
   "outputs": [],
   "source": [
    "import geopandas as gpd\n",
    "import pandas as pd"
   ]
  },
  {
   "cell_type": "markdown",
   "id": "501b8f83-ceb2-4292-93d5-56f8dcd37cd8",
   "metadata": {},
   "source": [
    "## Open Geojson"
   ]
  },
  {
   "cell_type": "code",
   "execution_count": 2,
   "id": "c857fb5f-a10d-47ed-a11a-25d37b7fc22a",
   "metadata": {},
   "outputs": [],
   "source": [
    "italy_gdf = gpd.read_file(\n",
    "    \"data/ondata_confini_amministrativi_api_v2_it_20250101_unita-territoriali-sovracomunali.geo.json\"\n",
    ")"
   ]
  },
  {
   "cell_type": "code",
   "execution_count": 3,
   "id": "5c3f70d8-6114-4a8f-92b3-7621af56ed6e",
   "metadata": {},
   "outputs": [],
   "source": [
    "italy_gdf = italy_gdf[[\"den_uts\", \"geometry\"]]\n",
    "italy_gdf = italy_gdf.rename(columns={\"den_uts\": \"Province\"})"
   ]
  },
  {
   "cell_type": "code",
   "execution_count": 4,
   "id": "509dac64-d3fd-47ce-a1b4-0a5a47067d54",
   "metadata": {},
   "outputs": [],
   "source": [
    "to_replace = {\n",
    "    \"Aosta\": \"Valle d'Aosta/Vallée d'Aoste\",\n",
    "    \"Bolzano\": \"Bolzano/Bozen\",\n",
    "    \"Forli'-Cesena\": \"Forlì-Cesena\",\n",
    "    \"Massa Carrara\": \"Massa-Carrara\",\n",
    "}\n",
    "italy_gdf = italy_gdf.replace(to_replace)"
   ]
  },
  {
   "cell_type": "markdown",
   "id": "0643d5ed-8563-475d-9572-3c635f6f8104",
   "metadata": {},
   "source": [
    "## Get Open Population data"
   ]
  },
  {
   "cell_type": "code",
   "execution_count": 5,
   "id": "2c99cfc7-b865-4dc7-affd-bc09bd7529f3",
   "metadata": {},
   "outputs": [],
   "source": [
    "population_2025_df = pd.read_csv(\n",
    "    \"data/Resident population.csv\",\n",
    ")"
   ]
  },
  {
   "cell_type": "code",
   "execution_count": 6,
   "id": "2dbfc2f5-b84a-4c38-adc5-32094db52bca",
   "metadata": {},
   "outputs": [],
   "source": [
    "population_2025_df = population_2025_df[[\"Province\", \"Total\"]]\n",
    "population_2025_df[\"Total\"] = population_2025_df[\"Total\"].astype(int)"
   ]
  },
  {
   "cell_type": "code",
   "execution_count": 7,
   "id": "32863172-32ba-464b-a6e1-31e37dd9dc78",
   "metadata": {},
   "outputs": [],
   "source": [
    "population_2019_df = pd.read_csv(\n",
    "    \"data/Resident population_2019.csv\",\n",
    ")"
   ]
  },
  {
   "cell_type": "code",
   "execution_count": 8,
   "id": "920cb78f-83d5-4f1e-8ffb-56cfbd45368b",
   "metadata": {},
   "outputs": [],
   "source": [
    "population_2019_df = population_2019_df[[\"Province\", \"Total\"]]\n",
    "population_2019_df[\"Total\"] = population_2019_df[\"Total\"].astype(int)"
   ]
  },
  {
   "cell_type": "code",
   "execution_count": 9,
   "id": "724a8fb9-ce93-47bd-b42f-07c8a4c34c17",
   "metadata": {},
   "outputs": [],
   "source": [
    "population_df = population_2019_df.merge(\n",
    "    population_2025_df, on=\"Province\", how=\"inner\", suffixes=(\"_2019\", \"_2025\")\n",
    ")"
   ]
  },
  {
   "cell_type": "code",
   "execution_count": 10,
   "id": "4d863f0c-da5e-4749-9fb4-7a8fa77fb06f",
   "metadata": {},
   "outputs": [],
   "source": [
    "population_df[\"DIFF\"] = population_df[\"Total_2025\"] - population_df[\"Total_2019\"]\n",
    "population_df[\"PERCENT\"] = (\n",
    "    (population_df[\"DIFF\"] / population_df[\"Total_2019\"]) * 100\n",
    ").round(decimals=1)"
   ]
  },
  {
   "cell_type": "markdown",
   "id": "61bbea6a-153e-4c10-8054-0effdbae489f",
   "metadata": {},
   "source": [
    "## Merge data and export"
   ]
  },
  {
   "cell_type": "code",
   "execution_count": 16,
   "id": "236bcae4-eeed-4f09-9bc2-ad1b36fead0a",
   "metadata": {},
   "outputs": [],
   "source": [
    "italy_pop_df = italy_gdf.merge(population_df, on=\"Province\", how=\"inner\")"
   ]
  },
  {
   "cell_type": "code",
   "execution_count": 17,
   "id": "37596e6c-39b9-4743-aa20-a09ad0a2c16c",
   "metadata": {},
   "outputs": [],
   "source": [
    "italy_pop_df.to_file(\"data/italy_pop.gpkg\")"
   ]
  },
  {
   "cell_type": "code",
   "execution_count": 19,
   "id": "740780c4-977b-4173-91d7-4c1b9c5643c6",
   "metadata": {},
   "outputs": [
    {
     "data": {
      "text/plain": [
       "np.int64(58934177)"
      ]
     },
     "execution_count": 19,
     "metadata": {},
     "output_type": "execute_result"
    }
   ],
   "source": [
    "italy_pop_df[\"Total_2025\"].sum()"
   ]
  },
  {
   "cell_type": "code",
   "execution_count": 20,
   "id": "f37b3a5b-a562-4840-b256-5bea813b9630",
   "metadata": {},
   "outputs": [
    {
     "data": {
      "text/plain": [
       "np.int64(59816673)"
      ]
     },
     "execution_count": 20,
     "metadata": {},
     "output_type": "execute_result"
    }
   ],
   "source": [
    "italy_pop_df[\"Total_2019\"].sum()"
   ]
  },
  {
   "cell_type": "code",
   "execution_count": null,
   "id": "fea064f3-cbf7-4761-be12-328c41ae4f1c",
   "metadata": {},
   "outputs": [],
   "source": []
  }
 ],
 "metadata": {
  "kernelspec": {
   "display_name": "Python 3 (ipykernel)",
   "language": "python",
   "name": "python3"
  },
  "language_info": {
   "codemirror_mode": {
    "name": "ipython",
    "version": 3
   },
   "file_extension": ".py",
   "mimetype": "text/x-python",
   "name": "python",
   "nbconvert_exporter": "python",
   "pygments_lexer": "ipython3",
   "version": "3.11.11"
  }
 },
 "nbformat": 4,
 "nbformat_minor": 5
}
