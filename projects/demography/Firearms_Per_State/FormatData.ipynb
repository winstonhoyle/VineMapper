{
 "cells": [
  {
   "cell_type": "code",
   "execution_count": 28,
   "id": "716bf55f-dc31-4139-bd9a-af66afbdc176",
   "metadata": {},
   "outputs": [],
   "source": [
    "import cloudscraper"
   ]
  },
  {
   "cell_type": "code",
   "execution_count": 29,
   "id": "c4323fb2-1721-463e-8602-d1c3302ff523",
   "metadata": {},
   "outputs": [],
   "source": [
    "from bs4 import BeautifulSoup\n",
    "import geopandas as gpd\n",
    "import pandas as pd"
   ]
  },
  {
   "cell_type": "markdown",
   "id": "7bfd8f31-eada-447d-af06-da8a94290c02",
   "metadata": {},
   "source": [
    "## Open State data"
   ]
  },
  {
   "cell_type": "code",
   "execution_count": 30,
   "id": "5fadd853-8ad5-4832-976a-4d251d5a794b",
   "metadata": {},
   "outputs": [],
   "source": [
    "file_path = \"data/cb_2018_us_state_500k/cb_2018_us_state_500k.shp\"\n",
    "states_gdf = gpd.read_file(file_path)"
   ]
  },
  {
   "cell_type": "markdown",
   "id": "ff619a1a-6b4e-49e6-9aa7-b139fa2a5904",
   "metadata": {},
   "source": [
    "## Open Population Data"
   ]
  },
  {
   "cell_type": "code",
   "execution_count": 31,
   "id": "103e1d91-375a-4485-a913-c77b9506ff18",
   "metadata": {},
   "outputs": [],
   "source": [
    "state_populations = pd.read_excel(\n",
    "    \"data/NST-EST2024-POP.xlsx\", sheet_name=None, engine=\"openpyxl\"\n",
    ")"
   ]
  },
  {
   "cell_type": "code",
   "execution_count": 32,
   "id": "143ac4ee-6128-43cc-b476-b0de697f7ea5",
   "metadata": {},
   "outputs": [],
   "source": [
    "state_populations_df = state_populations[\"NST-EST2024-POP\"][\n",
    "    [\n",
    "        \"table with row headers in column A and column headers in rows 3 through 4. (leading dots indicate sub-parts)\",\n",
    "        \"Unnamed: 5\",\n",
    "    ]\n",
    "]\n",
    "state_populations_df = state_populations_df.rename(\n",
    "    columns={\n",
    "        \"table with row headers in column A and column headers in rows 3 through 4. (leading dots indicate sub-parts)\": \"NAME\",\n",
    "        \"Unnamed: 5\": \"POPULATION\",\n",
    "    }\n",
    ")\n",
    "state_populations_df[\"NAME\"] = state_populations_df[\"NAME\"].str[1:]"
   ]
  },
  {
   "cell_type": "code",
   "execution_count": 33,
   "id": "1ff725b5-af1f-4ebb-818e-d456a56af02b",
   "metadata": {},
   "outputs": [],
   "source": [
    "states_with_population_gdf = states_gdf.merge(\n",
    "    state_populations_df, on=\"NAME\", how=\"left\"\n",
    ")\n",
    "states_with_population_gdf = states_with_population_gdf[\n",
    "    [\"STUSPS\", \"NAME\", \"POPULATION\", \"geometry\"]\n",
    "]"
   ]
  },
  {
   "cell_type": "markdown",
   "id": "2246428d-fae0-4af8-97d2-96519e1527e2",
   "metadata": {},
   "source": [
    "## Get Vehicle Data"
   ]
  },
  {
   "cell_type": "code",
   "execution_count": 79,
   "id": "3cd63fb8-2cac-439c-a36b-aeea78beee10",
   "metadata": {},
   "outputs": [],
   "source": [
    "scraper = cloudscraper.create_scraper()\n",
    "r = scraper.get(\"https://ammo.com/articles/gun-ownership-by-state\")"
   ]
  },
  {
   "cell_type": "code",
   "execution_count": 80,
   "id": "b2d8dc8c-e9ea-406c-b331-48431bfdb3d1",
   "metadata": {},
   "outputs": [],
   "source": [
    "soup = BeautifulSoup(r.text, \"html.parser\")"
   ]
  },
  {
   "cell_type": "code",
   "execution_count": 81,
   "id": "d76f5b8c-d149-4c62-a366-fb7a327370ed",
   "metadata": {},
   "outputs": [],
   "source": [
    "trs = soup.find(\"table\").find_all(\"tr\")[1:]"
   ]
  },
  {
   "cell_type": "code",
   "execution_count": 82,
   "id": "8a1aae0a-73fb-40ff-b4cb-e7ee1ec798e0",
   "metadata": {},
   "outputs": [],
   "source": [
    "data = []\n",
    "for tr in trs[1:]:\n",
    "    tds = tr.find_all(\"td\")\n",
    "    name = tds[0].text[3:].strip()\n",
    "    rate = float(tds[1].text)\n",
    "    data.append({\"NAME\": name, \"RATE\": rate})"
   ]
  },
  {
   "cell_type": "code",
   "execution_count": 83,
   "id": "67321561-3edf-48e0-a6b5-a140be875f1b",
   "metadata": {},
   "outputs": [],
   "source": [
    "df = pd.DataFrame(data)"
   ]
  },
  {
   "cell_type": "markdown",
   "id": "ea0435b2-f5f4-4186-853b-615f63cc50aa",
   "metadata": {},
   "source": [
    "## Merge Data"
   ]
  },
  {
   "cell_type": "code",
   "execution_count": 84,
   "id": "741bc565-ebfc-42ba-a794-913e31d2ea26",
   "metadata": {},
   "outputs": [],
   "source": [
    "gun_gdf = states_with_population_gdf.merge(df, on=\"NAME\", how=\"inner\")"
   ]
  },
  {
   "cell_type": "code",
   "execution_count": 85,
   "id": "ae923604-fd11-4c7d-a480-4f53abaeafbc",
   "metadata": {},
   "outputs": [],
   "source": [
    "gun_gdf = gun_gdf.to_crs(9311)\n",
    "gun_gdf.to_file(\"data/Gun_Ownership_Per_State.gpkg\")"
   ]
  },
  {
   "cell_type": "code",
   "execution_count": null,
   "id": "027a15e5-4028-406c-ae22-ae88ea265c93",
   "metadata": {},
   "outputs": [],
   "source": []
  }
 ],
 "metadata": {
  "kernelspec": {
   "display_name": "Python 3 (ipykernel)",
   "language": "python",
   "name": "python3"
  },
  "language_info": {
   "codemirror_mode": {
    "name": "ipython",
    "version": 3
   },
   "file_extension": ".py",
   "mimetype": "text/x-python",
   "name": "python",
   "nbconvert_exporter": "python",
   "pygments_lexer": "ipython3",
   "version": "3.11.13"
  }
 },
 "nbformat": 4,
 "nbformat_minor": 5
}
