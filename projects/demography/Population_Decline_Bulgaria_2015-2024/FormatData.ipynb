{
 "cells": [
  {
   "cell_type": "code",
   "execution_count": 88,
   "id": "6c8b506a-4477-4416-bd68-b44f0b27a407",
   "metadata": {},
   "outputs": [],
   "source": [
    "import geopandas as gpd\n",
    "import pandas as pd"
   ]
  },
  {
   "cell_type": "markdown",
   "id": "501b8f83-ceb2-4292-93d5-56f8dcd37cd8",
   "metadata": {},
   "source": [
    "## Open Geojson"
   ]
  },
  {
   "cell_type": "code",
   "execution_count": 89,
   "id": "4b832cd6-014c-4a54-b0c0-6b42255e20ce",
   "metadata": {},
   "outputs": [],
   "source": [
    "bulgaria_gdf = gpd.read_file(\"data/bg.json\")"
   ]
  },
  {
   "cell_type": "code",
   "execution_count": 90,
   "id": "245498fb-280b-40b3-946c-4a0d6dbc434a",
   "metadata": {},
   "outputs": [],
   "source": [
    "bulgaria_gdf[\"name\"] = bulgaria_gdf[\"name\"].str.lower()\n",
    "bulgaria_gdf = bulgaria_gdf.replace(\"grad sofiya\", \"sofia-grad\")"
   ]
  },
  {
   "cell_type": "markdown",
   "id": "0643d5ed-8563-475d-9572-3c635f6f8104",
   "metadata": {},
   "source": [
    "## Get Open Fertility data"
   ]
  },
  {
   "cell_type": "code",
   "execution_count": 91,
   "id": "ba325d9f-213d-4d40-977b-a21c142f50a5",
   "metadata": {},
   "outputs": [],
   "source": [
    "raw_population_df = pd.read_csv(\"data/report_1746469196230.csv\", sep=\";\")"
   ]
  },
  {
   "cell_type": "code",
   "execution_count": 92,
   "id": "f9f85d15-b71e-41d0-858b-7088496a3913",
   "metadata": {},
   "outputs": [],
   "source": [
    "formatted_raw_population_df = raw_population_df.rename(\n",
    "    columns={\"Unnamed: 0\": \"YEAR\", \"Unnamed: 1\": \"name\", \"Number\": \"POPULATION\"}\n",
    ").iloc[2:]\n",
    "formatted_raw_population_df[\"YEAR\"] = formatted_raw_population_df[\"YEAR\"].astype(int)\n",
    "formatted_raw_population_df[\"POPULATION\"] = formatted_raw_population_df[\n",
    "    \"POPULATION\"\n",
    "].astype(int)\n",
    "formatted_raw_population_df[\"name\"] = formatted_raw_population_df[\"name\"].str.lower()"
   ]
  },
  {
   "cell_type": "code",
   "execution_count": 93,
   "id": "22327721-4b54-4796-ab5d-fef2b91de412",
   "metadata": {},
   "outputs": [],
   "source": [
    "formatted_raw_population_df = formatted_raw_population_df[\n",
    "    [\"YEAR\", \"name\", \"POPULATION\"]\n",
    "]\n",
    "population_2015_df = formatted_raw_population_df[\n",
    "    formatted_raw_population_df[\"YEAR\"] == 2015\n",
    "]\n",
    "population_2024_df = formatted_raw_population_df[\n",
    "    formatted_raw_population_df[\"YEAR\"] == 2024\n",
    "]"
   ]
  },
  {
   "cell_type": "code",
   "execution_count": 94,
   "id": "8af01e1a-ed06-4f5a-a4ae-c3ec968a9810",
   "metadata": {},
   "outputs": [],
   "source": [
    "population_df = population_2015_df.merge(\n",
    "    population_2024_df, on=\"name\", how=\"inner\", suffixes=(\"_2015\", \"_2024\")\n",
    ")\n",
    "population_df[\"DIFF\"] = (\n",
    "    population_df[\"POPULATION_2024\"] - population_df[\"POPULATION_2015\"]\n",
    ")\n",
    "population_df[\"PERCENT_DIFF\"] = (\n",
    "    (\n",
    "        (population_df[\"POPULATION_2024\"] - population_df[\"POPULATION_2015\"])\n",
    "        / population_df[\"POPULATION_2015\"]\n",
    "    )\n",
    "    * 100\n",
    ").round(decimals=1)"
   ]
  },
  {
   "cell_type": "code",
   "execution_count": 95,
   "id": "29f1ef5c-acf6-4c72-8d31-9e5b386e3926",
   "metadata": {},
   "outputs": [],
   "source": [
    "population_df = population_df[\n",
    "    [\"name\", \"POPULATION_2015\", \"POPULATION_2024\", \"DIFF\", \"PERCENT_DIFF\"]\n",
    "]"
   ]
  },
  {
   "cell_type": "markdown",
   "id": "61bbea6a-153e-4c10-8054-0effdbae489f",
   "metadata": {},
   "source": [
    "## Merge data and export"
   ]
  },
  {
   "cell_type": "code",
   "execution_count": 96,
   "id": "c7b4bd43-70cc-4a6c-9b3d-be709f100cec",
   "metadata": {},
   "outputs": [],
   "source": [
    "population_gdf = bulgaria_gdf.merge(population_df, on=\"name\", how=\"right\")"
   ]
  },
  {
   "cell_type": "code",
   "execution_count": 97,
   "id": "37596e6c-39b9-4743-aa20-a09ad0a2c16c",
   "metadata": {},
   "outputs": [],
   "source": [
    "population_gdf = population_gdf.to_crs(7803)\n",
    "population_gdf.to_file(\"data/bulgaria_population.gpkg\")"
   ]
  },
  {
   "cell_type": "code",
   "execution_count": null,
   "id": "740780c4-977b-4173-91d7-4c1b9c5643c6",
   "metadata": {},
   "outputs": [],
   "source": []
  }
 ],
 "metadata": {
  "kernelspec": {
   "display_name": "Python 3 (ipykernel)",
   "language": "python",
   "name": "python3"
  },
  "language_info": {
   "codemirror_mode": {
    "name": "ipython",
    "version": 3
   },
   "file_extension": ".py",
   "mimetype": "text/x-python",
   "name": "python",
   "nbconvert_exporter": "python",
   "pygments_lexer": "ipython3",
   "version": "3.11.11"
  }
 },
 "nbformat": 4,
 "nbformat_minor": 5
}
