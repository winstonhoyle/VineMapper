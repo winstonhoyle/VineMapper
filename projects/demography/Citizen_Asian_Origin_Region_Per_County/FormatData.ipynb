{
 "cells": [
  {
   "cell_type": "code",
   "execution_count": 1,
   "id": "34096667-a395-48d3-be7d-d2dfa7378003",
   "metadata": {},
   "outputs": [],
   "source": [
    "from functools import reduce\n",
    "import requests"
   ]
  },
  {
   "cell_type": "code",
   "execution_count": 2,
   "id": "c4323fb2-1721-463e-8602-d1c3302ff523",
   "metadata": {},
   "outputs": [],
   "source": [
    "import geopandas as gpd\n",
    "import numpy as np\n",
    "import pandas as pd"
   ]
  },
  {
   "cell_type": "code",
   "execution_count": 3,
   "id": "f5f0e6b1-852b-4211-aff3-d9eced1017bb",
   "metadata": {},
   "outputs": [],
   "source": [
    "from tqdm.notebook import tqdm"
   ]
  },
  {
   "cell_type": "markdown",
   "id": "7bfd8f31-eada-447d-af06-da8a94290c02",
   "metadata": {},
   "source": [
    "## Open County data"
   ]
  },
  {
   "cell_type": "code",
   "execution_count": 4,
   "id": "5fadd853-8ad5-4832-976a-4d251d5a794b",
   "metadata": {},
   "outputs": [],
   "source": [
    "file_path = \"data/cb_2024_us_county_500k/cb_2024_us_county_500k.shp\"\n",
    "counties_gdf = gpd.read_file(file_path)"
   ]
  },
  {
   "cell_type": "markdown",
   "id": "2246428d-fae0-4af8-97d2-96519e1527e2",
   "metadata": {},
   "source": [
    "## Get Ethnic Data"
   ]
  },
  {
   "cell_type": "code",
   "execution_count": 5,
   "id": "b2d8dc8c-e9ea-406c-b331-48431bfdb3d1",
   "metadata": {},
   "outputs": [],
   "source": [
    "r = requests.get(\"https://api.census.gov/data/2023/acs/acs5/groups/B05006.json\")\n",
    "columns_obj = r.json()"
   ]
  },
  {
   "cell_type": "markdown",
   "id": "5a279a3d-20e7-4981-b63d-f23bacbdc1d9",
   "metadata": {},
   "source": [
    "### Get columns to query and rename for later"
   ]
  },
  {
   "cell_type": "code",
   "execution_count": 6,
   "id": "70654a70-efad-4b03-b673-54e1864329eb",
   "metadata": {},
   "outputs": [],
   "source": [
    "columns = []\n",
    "rename_vars = {}\n",
    "variables = columns_obj[\"variables\"]\n",
    "for name, variable in list(variables.items()):\n",
    "    v_split = variable[\"label\"].split(\"!!\")\n",
    "    if len(v_split) < 4:\n",
    "        continue\n",
    "\n",
    "    if v_split[0] == \"Estimate\":\n",
    "        label = v_split[-1]\n",
    "        rename_vars[name] = label\n",
    "\n",
    "    if (name.endswith(\"E\") or name.endswith(\"M\")) and v_split[2] == \"Asia:\":\n",
    "        columns.append(name)"
   ]
  },
  {
   "cell_type": "code",
   "execution_count": 7,
   "id": "40eb665a-9670-4cd5-96c7-745092c4505c",
   "metadata": {},
   "outputs": [
    {
     "data": {
      "application/vnd.jupyter.widget-view+json": {
       "model_id": "ceb51ac6c08a420d89eb847d32b92244",
       "version_major": 2,
       "version_minor": 0
      },
      "text/plain": [
       "Requesting data in batches:   0%|          | 0/2 [00:00<?, ?it/s]"
      ]
     },
     "metadata": {},
     "output_type": "display_data"
    }
   ],
   "source": [
    "dfs = []\n",
    "for i in tqdm(range(0, len(columns), 49), desc=\"Requesting data in batches\"):\n",
    "    columns_with_geoid = columns[i : i + 49]\n",
    "    columns_with_geoid.append(\"GEO_ID\")\n",
    "    columns_formatted = \",\".join(columns_with_geoid)\n",
    "    url = f\"https://api.census.gov/data/2023/acs/acs5?get={columns_formatted}&for=county:*\"\n",
    "    response = requests.get(url)\n",
    "    data = response.json()\n",
    "    df = pd.DataFrame(data[1:], columns=data[0])\n",
    "    dfs.append(df)"
   ]
  },
  {
   "cell_type": "code",
   "execution_count": 8,
   "id": "6f46df1a-ab39-486a-849e-af4f5ca316b5",
   "metadata": {},
   "outputs": [],
   "source": [
    "df = reduce(lambda left, right: pd.merge(left, right, on=\"GEO_ID\", how=\"inner\"), dfs)"
   ]
  },
  {
   "cell_type": "code",
   "execution_count": 9,
   "id": "9e8cd51f-be0d-4428-a00d-be536632b954",
   "metadata": {},
   "outputs": [],
   "source": [
    "df = df.replace(np.nan, 0)"
   ]
  },
  {
   "cell_type": "code",
   "execution_count": 10,
   "id": "b82b6426-f4a9-4d07-ba36-073cb42e69b4",
   "metadata": {},
   "outputs": [],
   "source": [
    "estimate_cols = [col for col in df.columns if col.endswith(\"E\")]"
   ]
  },
  {
   "cell_type": "code",
   "execution_count": 11,
   "id": "8f8f97ed-1068-40e5-ab21-77eecdd38036",
   "metadata": {},
   "outputs": [
    {
     "name": "stderr",
     "output_type": "stream",
     "text": [
      "/tmp/ipykernel_8991/4148564808.py:2: SettingWithCopyWarning: \n",
      "A value is trying to be set on a copy of a slice from a DataFrame.\n",
      "Try using .loc[row_indexer,col_indexer] = value instead\n",
      "\n",
      "See the caveats in the documentation: https://pandas.pydata.org/pandas-docs/stable/user_guide/indexing.html#returning-a-view-versus-a-copy\n",
      "  formtted_df[estimate_cols] = formtted_df[estimate_cols].astype(int)\n"
     ]
    }
   ],
   "source": [
    "formtted_df = df[[\"GEO_ID\", *estimate_cols]]\n",
    "formtted_df[estimate_cols] = formtted_df[estimate_cols].astype(int)"
   ]
  },
  {
   "cell_type": "code",
   "execution_count": 12,
   "id": "02bd33c2-40e0-4924-a202-d9cc325dba81",
   "metadata": {},
   "outputs": [],
   "source": [
    "filtered_estimate_cols = {\n",
    "    k: v\n",
    "    for k, v in rename_vars.items()\n",
    "    if k in estimate_cols\n",
    "    and (\":\" not in v or v == \"United Kingdom (inc. Crown Dependencies):\")\n",
    "}"
   ]
  },
  {
   "cell_type": "code",
   "execution_count": 16,
   "id": "69f0e532-e8cc-4773-a6e5-b2fb11518e88",
   "metadata": {},
   "outputs": [
    {
     "name": "stderr",
     "output_type": "stream",
     "text": [
      "/tmp/ipykernel_8991/2230448707.py:1: SettingWithCopyWarning: \n",
      "A value is trying to be set on a copy of a slice from a DataFrame.\n",
      "Try using .loc[row_indexer,col_indexer] = value instead\n",
      "\n",
      "See the caveats in the documentation: https://pandas.pydata.org/pandas-docs/stable/user_guide/indexing.html#returning-a-view-versus-a-copy\n",
      "  formtted_df[\"most_common_asian_origin_raw\"] = formtted_df[\n"
     ]
    }
   ],
   "source": [
    "formtted_df[\"most_common_asian_origin_raw\"] = formtted_df[\n",
    "    list(filtered_estimate_cols.keys())\n",
    "].idxmax(axis=1)"
   ]
  },
  {
   "cell_type": "code",
   "execution_count": 17,
   "id": "9191761e-4430-4237-a74b-1ee009212321",
   "metadata": {},
   "outputs": [],
   "source": [
    "def check_margin_error(row) -> str:\n",
    "    geo_id = row[\"GEO_ID\"]\n",
    "    ethnicity_col = row[\"most_common_asian_origin_raw\"]\n",
    "    val = row[ethnicity_col]\n",
    "\n",
    "    if not val:\n",
    "        return None\n",
    "\n",
    "    moe_col = ethnicity_col.replace(\"E\", \"M\")\n",
    "    moe_val = int(df[df[\"GEO_ID\"] == geo_id][moe_col])\n",
    "\n",
    "    rmoe_val = abs(moe_val / val)\n",
    "    if rmoe_val < 0.25:\n",
    "        return variables[ethnicity_col][\"label\"].split(\"!!\")[-1]\n",
    "    else:\n",
    "        return None"
   ]
  },
  {
   "cell_type": "code",
   "execution_count": 18,
   "id": "f1237aa6-7f56-4966-b9c1-90d20d5ef2f0",
   "metadata": {},
   "outputs": [
    {
     "name": "stderr",
     "output_type": "stream",
     "text": [
      "/tmp/ipykernel_8991/4230385589.py:10: FutureWarning: Calling int on a single element Series is deprecated and will raise a TypeError in the future. Use int(ser.iloc[0]) instead\n",
      "  moe_val = int(df[df[\"GEO_ID\"] == geo_id][moe_col])\n",
      "/tmp/ipykernel_8991/3029073496.py:1: SettingWithCopyWarning: \n",
      "A value is trying to be set on a copy of a slice from a DataFrame.\n",
      "Try using .loc[row_indexer,col_indexer] = value instead\n",
      "\n",
      "See the caveats in the documentation: https://pandas.pydata.org/pandas-docs/stable/user_guide/indexing.html#returning-a-view-versus-a-copy\n",
      "  formtted_df[\"most_common_asian_origin\"] = formtted_df.apply(\n"
     ]
    }
   ],
   "source": [
    "formtted_df[\"most_common_asian_origin\"] = formtted_df.apply(\n",
    "    lambda row: check_margin_error(row), axis=1\n",
    ")"
   ]
  },
  {
   "cell_type": "code",
   "execution_count": 19,
   "id": "b167ea13-49a2-4421-97f4-72084759cabf",
   "metadata": {},
   "outputs": [],
   "source": [
    "rename_vars[\"GEO_ID\"] = \"GEOIDFQ\"\n",
    "formtted_df = formtted_df.rename(columns=rename_vars)"
   ]
  },
  {
   "cell_type": "code",
   "execution_count": 20,
   "id": "924e249a-f5bf-412f-badd-0d87109e1fba",
   "metadata": {},
   "outputs": [
    {
     "data": {
      "text/html": [
       "<div>\n",
       "<style scoped>\n",
       "    .dataframe tbody tr th:only-of-type {\n",
       "        vertical-align: middle;\n",
       "    }\n",
       "\n",
       "    .dataframe tbody tr th {\n",
       "        vertical-align: top;\n",
       "    }\n",
       "\n",
       "    .dataframe thead th {\n",
       "        text-align: right;\n",
       "    }\n",
       "</style>\n",
       "<table border=\"1\" class=\"dataframe\">\n",
       "  <thead>\n",
       "    <tr style=\"text-align: right;\">\n",
       "      <th></th>\n",
       "      <th>most_common_asian_origin</th>\n",
       "      <th>COUNT</th>\n",
       "    </tr>\n",
       "  </thead>\n",
       "  <tbody>\n",
       "    <tr>\n",
       "      <th>5</th>\n",
       "      <td>India</td>\n",
       "      <td>137</td>\n",
       "    </tr>\n",
       "    <tr>\n",
       "      <th>10</th>\n",
       "      <td>Philippines</td>\n",
       "      <td>68</td>\n",
       "    </tr>\n",
       "    <tr>\n",
       "      <th>4</th>\n",
       "      <td>China, excluding Hong Kong and Taiwan</td>\n",
       "      <td>39</td>\n",
       "    </tr>\n",
       "    <tr>\n",
       "      <th>11</th>\n",
       "      <td>Vietnam</td>\n",
       "      <td>30</td>\n",
       "    </tr>\n",
       "    <tr>\n",
       "      <th>8</th>\n",
       "      <td>Laos</td>\n",
       "      <td>9</td>\n",
       "    </tr>\n",
       "    <tr>\n",
       "      <th>7</th>\n",
       "      <td>Korea</td>\n",
       "      <td>7</td>\n",
       "    </tr>\n",
       "    <tr>\n",
       "      <th>3</th>\n",
       "      <td>Burma (Myanmar)</td>\n",
       "      <td>5</td>\n",
       "    </tr>\n",
       "    <tr>\n",
       "      <th>1</th>\n",
       "      <td>Bangladesh</td>\n",
       "      <td>2</td>\n",
       "    </tr>\n",
       "    <tr>\n",
       "      <th>2</th>\n",
       "      <td>Bhutan</td>\n",
       "      <td>2</td>\n",
       "    </tr>\n",
       "    <tr>\n",
       "      <th>0</th>\n",
       "      <td>Afghanistan</td>\n",
       "      <td>1</td>\n",
       "    </tr>\n",
       "    <tr>\n",
       "      <th>6</th>\n",
       "      <td>Iraq</td>\n",
       "      <td>1</td>\n",
       "    </tr>\n",
       "    <tr>\n",
       "      <th>9</th>\n",
       "      <td>Lebanon</td>\n",
       "      <td>1</td>\n",
       "    </tr>\n",
       "  </tbody>\n",
       "</table>\n",
       "</div>"
      ],
      "text/plain": [
       "                 most_common_asian_origin  COUNT\n",
       "5                                   India    137\n",
       "10                            Philippines     68\n",
       "4   China, excluding Hong Kong and Taiwan     39\n",
       "11                                Vietnam     30\n",
       "8                                    Laos      9\n",
       "7                                   Korea      7\n",
       "3                         Burma (Myanmar)      5\n",
       "1                              Bangladesh      2\n",
       "2                                  Bhutan      2\n",
       "0                             Afghanistan      1\n",
       "6                                    Iraq      1\n",
       "9                                 Lebanon      1"
      ]
     },
     "execution_count": 20,
     "metadata": {},
     "output_type": "execute_result"
    }
   ],
   "source": [
    "formtted_df.groupby(\"most_common_asian_origin\").size().reset_index(\n",
    "    name=\"COUNT\"\n",
    ").sort_values(\"COUNT\", ascending=False)"
   ]
  },
  {
   "cell_type": "markdown",
   "id": "ea0435b2-f5f4-4186-853b-615f63cc50aa",
   "metadata": {},
   "source": [
    "## Merge Data"
   ]
  },
  {
   "cell_type": "code",
   "execution_count": 21,
   "id": "741bc565-ebfc-42ba-a794-913e31d2ea26",
   "metadata": {},
   "outputs": [],
   "source": [
    "gdf = counties_gdf.merge(formtted_df, on=\"GEOIDFQ\", how=\"inner\")"
   ]
  },
  {
   "cell_type": "code",
   "execution_count": 22,
   "id": "ae923604-fd11-4c7d-a480-4f53abaeafbc",
   "metadata": {},
   "outputs": [],
   "source": [
    "gdf = gdf.to_crs(9311)\n",
    "gdf.to_file(\"data/Citizen_Asian_Origin_Region_Per_County.gpkg\")"
   ]
  },
  {
   "cell_type": "code",
   "execution_count": null,
   "id": "33f2a4fc-9c74-4ec1-bb7e-31583c897569",
   "metadata": {},
   "outputs": [],
   "source": []
  },
  {
   "cell_type": "code",
   "execution_count": null,
   "id": "64ef740c-31db-4124-a0ef-69c4eb0a09ef",
   "metadata": {},
   "outputs": [],
   "source": []
  },
  {
   "cell_type": "code",
   "execution_count": null,
   "id": "8fef5ecb-cbcd-4237-91ee-ea4a1babb888",
   "metadata": {},
   "outputs": [],
   "source": []
  }
 ],
 "metadata": {
  "kernelspec": {
   "display_name": "Python 3 (ipykernel)",
   "language": "python",
   "name": "python3"
  },
  "language_info": {
   "codemirror_mode": {
    "name": "ipython",
    "version": 3
   },
   "file_extension": ".py",
   "mimetype": "text/x-python",
   "name": "python",
   "nbconvert_exporter": "python",
   "pygments_lexer": "ipython3",
   "version": "3.11.13"
  }
 },
 "nbformat": 4,
 "nbformat_minor": 5
}
