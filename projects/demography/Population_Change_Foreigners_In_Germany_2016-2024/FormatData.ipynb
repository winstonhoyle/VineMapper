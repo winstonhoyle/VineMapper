{
 "cells": [
  {
   "cell_type": "code",
   "execution_count": 1,
   "id": "6c8b506a-4477-4416-bd68-b44f0b27a407",
   "metadata": {},
   "outputs": [],
   "source": [
    "import geopandas as gpd\n",
    "import numpy as np\n",
    "import pandas as pd"
   ]
  },
  {
   "cell_type": "markdown",
   "id": "501b8f83-ceb2-4292-93d5-56f8dcd37cd8",
   "metadata": {},
   "source": [
    "## Open Geojson"
   ]
  },
  {
   "cell_type": "code",
   "execution_count": 2,
   "id": "0d610383-22ea-4038-9689-1fa4a8d01f32",
   "metadata": {},
   "outputs": [],
   "source": [
    "germany_gdf = gpd.read_file(\n",
    "    \"data/georef-germany-kreis@public/georef-germany-kreis-millesime.shp\"\n",
    ")"
   ]
  },
  {
   "cell_type": "code",
   "execution_count": 3,
   "id": "679fcc6a-1a4a-47eb-b7fb-581071ac9f39",
   "metadata": {},
   "outputs": [],
   "source": [
    "germany_gdf[\"krs_code\"] = germany_gdf[\"krs_code\"].str[2:7]"
   ]
  },
  {
   "cell_type": "markdown",
   "id": "0643d5ed-8563-475d-9572-3c635f6f8104",
   "metadata": {},
   "source": [
    "## Get Open Population data"
   ]
  },
  {
   "cell_type": "code",
   "execution_count": 29,
   "id": "2c99cfc7-b865-4dc7-affd-bc09bd7529f3",
   "metadata": {},
   "outputs": [],
   "source": [
    "population_2016_df = pd.read_csv(\n",
    "    \"data/12521-0040_en_flat-2016/12521-0040_en_flat.csv\",\n",
    "    delimiter=\";\",\n",
    "    dtype={\"1_variable_attribute_code\": str},\n",
    ")\n",
    "population_2016_df = population_2016_df[\n",
    "    population_2016_df[\"2_variable_attribute_label\"] == \"Total\"\n",
    "].reset_index(drop=True)"
   ]
  },
  {
   "cell_type": "code",
   "execution_count": 30,
   "id": "b0431762-1130-4aca-9499-289594b6e1e6",
   "metadata": {},
   "outputs": [],
   "source": [
    "population_2016_df = population_2016_df[population_2016_df[\"time\"] == \"2016-12-31\"][\n",
    "    [\"1_variable_attribute_code\", \"value\"]\n",
    "].reset_index(drop=True)"
   ]
  },
  {
   "cell_type": "code",
   "execution_count": 40,
   "id": "e6c1876b-a179-49aa-a8c8-4a42fa89c3b4",
   "metadata": {},
   "outputs": [],
   "source": [
    "population_2024_df = pd.read_csv(\n",
    "    \"data/12521-0040_en_flat-2024/12521-0040_en_flat.csv\",\n",
    "    delimiter=\";\",\n",
    "    dtype={\"1_variable_attribute_code\": str},\n",
    ")\n",
    "population_2024_df = population_2024_df[\n",
    "    population_2024_df[\"2_variable_attribute_label\"] == \"Total\"\n",
    "].reset_index(drop=True)"
   ]
  },
  {
   "cell_type": "code",
   "execution_count": 41,
   "id": "31589629-5e36-41f9-97a3-1d5df1dec08e",
   "metadata": {},
   "outputs": [
    {
     "data": {
      "text/plain": [
       "476"
      ]
     },
     "execution_count": 41,
     "metadata": {},
     "output_type": "execute_result"
    }
   ],
   "source": [
    "len(population_2016_df)"
   ]
  },
  {
   "cell_type": "code",
   "execution_count": 42,
   "id": "5b8105a9-7abf-4bbe-91e9-d7323c3ba0b5",
   "metadata": {},
   "outputs": [],
   "source": [
    "population_2024_df = population_2024_df[population_2024_df[\"time\"] == \"2024-12-31\"][\n",
    "    [\"1_variable_attribute_code\", \"value\"]\n",
    "].reset_index(drop=True)"
   ]
  },
  {
   "cell_type": "code",
   "execution_count": 43,
   "id": "6e0bf0f1-c269-4f31-aa6e-da63035e40e7",
   "metadata": {},
   "outputs": [],
   "source": [
    "pop_df = population_2016_df.merge(\n",
    "    population_2024_df,\n",
    "    on=\"1_variable_attribute_code\",\n",
    "    how=\"inner\",\n",
    "    suffixes=(\"_2016\", \"_2024\"),\n",
    ")"
   ]
  },
  {
   "cell_type": "code",
   "execution_count": 44,
   "id": "5c81483a-8aa3-4135-9358-667fab4aa71c",
   "metadata": {},
   "outputs": [
    {
     "data": {
      "text/plain": [
       "476"
      ]
     },
     "execution_count": 44,
     "metadata": {},
     "output_type": "execute_result"
    }
   ],
   "source": [
    "len(pop_df)"
   ]
  },
  {
   "cell_type": "code",
   "execution_count": 45,
   "id": "352df2b4-c183-4ac4-9c07-2d607ceff223",
   "metadata": {},
   "outputs": [],
   "source": [
    "pop_df = pop_df.rename(\n",
    "    columns={\n",
    "        \"value_2016\": \"2016\",\n",
    "        \"value_2024\": \"2024\",\n",
    "        \"1_variable_attribute_code\": \"krs_code\",\n",
    "    }\n",
    ")"
   ]
  },
  {
   "cell_type": "code",
   "execution_count": 46,
   "id": "d716d08b-271d-4d63-8773-42fb5416f184",
   "metadata": {},
   "outputs": [],
   "source": [
    "pop_df[\"2016\"] = pd.to_numeric(pop_df[\"2016\"], errors=\"coerce\")\n",
    "pop_df[\"2024\"] = pd.to_numeric(pop_df[\"2024\"], errors=\"coerce\")"
   ]
  },
  {
   "cell_type": "code",
   "execution_count": 47,
   "id": "11e9132f-213b-46bd-81d2-e8e1d179a35b",
   "metadata": {},
   "outputs": [],
   "source": [
    "pop_df[\"DIFF\"] = pop_df[\"2024\"] - pop_df[\"2016\"]\n",
    "pop_df[\"PERCENT\"] = ((pop_df[\"DIFF\"] / pop_df[\"2016\"]) * 100.0).round(decimals=1)"
   ]
  },
  {
   "cell_type": "markdown",
   "id": "61bbea6a-153e-4c10-8054-0effdbae489f",
   "metadata": {},
   "source": [
    "## Merge data and export"
   ]
  },
  {
   "cell_type": "code",
   "execution_count": 48,
   "id": "c7b4bd43-70cc-4a6c-9b3d-be709f100cec",
   "metadata": {},
   "outputs": [],
   "source": [
    "pop_gdf = germany_gdf.merge(pop_df, on=\"krs_code\", how=\"left\")"
   ]
  },
  {
   "cell_type": "code",
   "execution_count": 49,
   "id": "37596e6c-39b9-4743-aa20-a09ad0a2c16c",
   "metadata": {},
   "outputs": [],
   "source": [
    "pop_gdf = pop_gdf.to_crs(4839)\n",
    "pop_gdf.to_file(\"data/Population_Change_Foreigners_In_Germany_2016-2024.gpkg\")"
   ]
  },
  {
   "cell_type": "code",
   "execution_count": 50,
   "id": "740780c4-977b-4173-91d7-4c1b9c5643c6",
   "metadata": {},
   "outputs": [
    {
     "data": {
      "text/plain": [
       "np.float64(10036140.0)"
      ]
     },
     "execution_count": 50,
     "metadata": {},
     "output_type": "execute_result"
    }
   ],
   "source": [
    "pop_gdf[\"2016\"].sum()"
   ]
  },
  {
   "cell_type": "code",
   "execution_count": 51,
   "id": "f37b3a5b-a562-4840-b256-5bea813b9630",
   "metadata": {},
   "outputs": [
    {
     "data": {
      "text/plain": [
       "np.float64(14061630.0)"
      ]
     },
     "execution_count": 51,
     "metadata": {},
     "output_type": "execute_result"
    }
   ],
   "source": [
    "pop_gdf[\"2024\"].sum()"
   ]
  },
  {
   "cell_type": "code",
   "execution_count": 52,
   "id": "891e6871-e834-4df0-b0cb-1d369ff5c2b0",
   "metadata": {},
   "outputs": [],
   "source": [
    "pop_gdf[\"lan_code\"] = pop_gdf[\"lan_code\"].str[2:4]"
   ]
  },
  {
   "cell_type": "code",
   "execution_count": 53,
   "id": "86f25f46-ac1a-4c39-9736-46c446b72d2c",
   "metadata": {},
   "outputs": [],
   "source": [
    "pop_gdf.dissolve(by=\"lan_code\")[[\"geometry\"]].to_file(\"data/german_states.gpkg\")"
   ]
  },
  {
   "cell_type": "code",
   "execution_count": 54,
   "id": "fb9e4d5a-b344-4b13-946d-eee130bd01dc",
   "metadata": {},
   "outputs": [
    {
     "data": {
      "text/html": [
       "<div>\n",
       "<style scoped>\n",
       "    .dataframe tbody tr th:only-of-type {\n",
       "        vertical-align: middle;\n",
       "    }\n",
       "\n",
       "    .dataframe tbody tr th {\n",
       "        vertical-align: top;\n",
       "    }\n",
       "\n",
       "    .dataframe thead th {\n",
       "        text-align: right;\n",
       "    }\n",
       "</style>\n",
       "<table border=\"1\" class=\"dataframe\">\n",
       "  <thead>\n",
       "    <tr style=\"text-align: right;\">\n",
       "      <th></th>\n",
       "      <th>year</th>\n",
       "      <th>lan_code</th>\n",
       "      <th>lan_name</th>\n",
       "      <th>krs_code</th>\n",
       "      <th>krs_name</th>\n",
       "      <th>krs_area_co</th>\n",
       "      <th>krs_type</th>\n",
       "      <th>krs_name_sh</th>\n",
       "      <th>geometry</th>\n",
       "      <th>2016</th>\n",
       "      <th>2024</th>\n",
       "      <th>DIFF</th>\n",
       "      <th>PERCENT</th>\n",
       "    </tr>\n",
       "  </thead>\n",
       "  <tbody>\n",
       "    <tr>\n",
       "      <th>138</th>\n",
       "      <td>2023</td>\n",
       "      <td>10</td>\n",
       "      <td>['Saarland']</td>\n",
       "      <td>10046</td>\n",
       "      <td>['Landkreis St. Wendel']</td>\n",
       "      <td>DEU</td>\n",
       "      <td>Landkreis</td>\n",
       "      <td>['St. Wendel']</td>\n",
       "      <td>POLYGON ((-233057 -156205, -233133.055 -156259...</td>\n",
       "      <td>NaN</td>\n",
       "      <td>NaN</td>\n",
       "      <td>NaN</td>\n",
       "      <td>NaN</td>\n",
       "    </tr>\n",
       "  </tbody>\n",
       "</table>\n",
       "</div>"
      ],
      "text/plain": [
       "     year lan_code      lan_name krs_code                  krs_name  \\\n",
       "138  2023       10  ['Saarland']    10046  ['Landkreis St. Wendel']   \n",
       "\n",
       "    krs_area_co   krs_type     krs_name_sh  \\\n",
       "138         DEU  Landkreis  ['St. Wendel']   \n",
       "\n",
       "                                              geometry  2016  2024  DIFF  \\\n",
       "138  POLYGON ((-233057 -156205, -233133.055 -156259...   NaN   NaN   NaN   \n",
       "\n",
       "     PERCENT  \n",
       "138      NaN  "
      ]
     },
     "execution_count": 54,
     "metadata": {},
     "output_type": "execute_result"
    }
   ],
   "source": [
    "pop_gdf[pop_gdf[\"krs_code\"] == \"10046\"]"
   ]
  },
  {
   "cell_type": "code",
   "execution_count": null,
   "id": "1513f88b-af1c-428a-99c5-9bb4c7a3386d",
   "metadata": {},
   "outputs": [],
   "source": []
  }
 ],
 "metadata": {
  "kernelspec": {
   "display_name": "Python 3 (ipykernel)",
   "language": "python",
   "name": "python3"
  },
  "language_info": {
   "codemirror_mode": {
    "name": "ipython",
    "version": 3
   },
   "file_extension": ".py",
   "mimetype": "text/x-python",
   "name": "python",
   "nbconvert_exporter": "python",
   "pygments_lexer": "ipython3",
   "version": "3.11.13"
  }
 },
 "nbformat": 4,
 "nbformat_minor": 5
}
