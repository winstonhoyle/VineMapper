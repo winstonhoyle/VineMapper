{
 "cells": [
  {
   "cell_type": "code",
   "execution_count": 1,
   "id": "082d543d-4097-4b86-84d7-7892d159f675",
   "metadata": {},
   "outputs": [],
   "source": [
    "import geopandas as gpd\n",
    "import pandas as pd"
   ]
  },
  {
   "cell_type": "markdown",
   "id": "228f9c5e-369a-430b-aa75-392d9b1c81a8",
   "metadata": {},
   "source": [
    "## Open GIS Data"
   ]
  },
  {
   "cell_type": "code",
   "execution_count": 2,
   "id": "e4a9a7f7-f84a-4c3c-b67c-19cdf9f4dd0d",
   "metadata": {},
   "outputs": [],
   "source": [
    "file_path = \"data/cb_2018_us_state_500k/cb_2018_us_state_500k.shp\"\n",
    "states_df = gpd.read_file(file_path)"
   ]
  },
  {
   "cell_type": "markdown",
   "id": "2d00e207-b96e-4b8f-a281-4d0c0b823356",
   "metadata": {},
   "source": [
    "## Get Age data"
   ]
  },
  {
   "cell_type": "code",
   "execution_count": 3,
   "id": "e4e57db8-8037-421f-96f3-f3f8dfdbaa81",
   "metadata": {},
   "outputs": [],
   "source": [
    "acs_age = pd.read_csv(\"data/ACSST1Y2023.S0101-2024-12-12T233736.csv\", thousands=\",\")"
   ]
  },
  {
   "cell_type": "code",
   "execution_count": 4,
   "id": "87b9ce31-e925-4da8-8470-9f3e77172cd9",
   "metadata": {},
   "outputs": [],
   "source": [
    "rename_columns_female = {}\n",
    "rename_columns_male = {}\n",
    "rename_columns_totals = {}\n",
    "for column in list(acs_age.columns):\n",
    "    str_split = column.split(\"!!\")\n",
    "    if len(str_split) == 3:\n",
    "        if str_split[2] == \"Estimate\":\n",
    "            if str_split[1] == \"Male\":\n",
    "                rename_columns_male[column] = str_split[0].strip()\n",
    "            if str_split[1] == \"Female\":\n",
    "                rename_columns_female[column] = str_split[0].strip()\n",
    "            if str_split[1] == \"Total\":\n",
    "                rename_columns_totals[column] = str_split[0].strip()\n",
    "    else:\n",
    "        continue"
   ]
  },
  {
   "cell_type": "code",
   "execution_count": 5,
   "id": "93337928-b1a9-46e7-8356-87d54b749344",
   "metadata": {},
   "outputs": [],
   "source": [
    "states = list(rename_columns_totals.values())\n",
    "states.append(\"group\")"
   ]
  },
  {
   "cell_type": "code",
   "execution_count": 6,
   "id": "09673d05-720c-4b33-96f0-9cfe81f607f8",
   "metadata": {},
   "outputs": [],
   "source": [
    "rename_columns_totals[\"Label (Grouping)\"] = \"group\"\n",
    "acs_age_totals = acs_age.rename(columns=rename_columns_totals)"
   ]
  },
  {
   "cell_type": "markdown",
   "id": "b4c0e93c-1e45-4c8b-9a48-11c4c00c49fb",
   "metadata": {},
   "source": [
    "#### Totals Data"
   ]
  },
  {
   "cell_type": "code",
   "execution_count": 7,
   "id": "8b4f1dfa-f5b1-4ae9-a70c-be13e605a42c",
   "metadata": {},
   "outputs": [],
   "source": [
    "acs_age_totals = acs_age_totals[states]"
   ]
  },
  {
   "cell_type": "code",
   "execution_count": 8,
   "id": "21a71f3f-af67-408b-8a1e-3ad81006b704",
   "metadata": {},
   "outputs": [],
   "source": [
    "acs_age_totals = acs_age_totals.T.reset_index()\n",
    "acs_age_totals.columns = acs_age_totals.iloc[52]\n",
    "acs_age_totals = acs_age_totals.drop(acs_age_totals.index[52:])"
   ]
  },
  {
   "cell_type": "code",
   "execution_count": 9,
   "id": "676261b0-c269-4370-859d-da37e2ea7299",
   "metadata": {},
   "outputs": [],
   "source": [
    "acs_age_totals.columns = [\n",
    "    column.strip().replace(\" \", \"_\") for column in list(acs_age_totals.columns)\n",
    "]"
   ]
  },
  {
   "cell_type": "code",
   "execution_count": 10,
   "id": "3a7cf293-ec4c-4c5d-a378-fb55735f9cb1",
   "metadata": {},
   "outputs": [],
   "source": [
    "cat_1_cols = [\n",
    "    \"5_to_14_years\",\n",
    "    \"15_to_17_years\",\n",
    "    \"Under_18_years\",\n",
    "    \"18_to_24_years\",\n",
    "    \"15_to_44_years\",\n",
    "    \"16_years_and_over\",\n",
    "    \"18_years_and_over\",\n",
    "    \"21_years_and_over\",\n",
    "    \"60_years_and_over\",\n",
    "    \"62_years_and_over\",\n",
    "    \"65_years_and_over\",\n",
    "    \"75_years_and_over\",\n",
    "]"
   ]
  },
  {
   "cell_type": "code",
   "execution_count": 11,
   "id": "e5b82b45-6321-4c23-b5d2-1f9b3faa8262",
   "metadata": {},
   "outputs": [],
   "source": [
    "for col in cat_1_cols:\n",
    "    acs_age_totals[col] = acs_age_totals[col].str.replace(\",\", \"\").astype(int)"
   ]
  },
  {
   "cell_type": "code",
   "execution_count": 12,
   "id": "b7e4c85c-6b7b-4ace-a1ad-34dc7c403201",
   "metadata": {},
   "outputs": [],
   "source": [
    "cat_2_cols = [\n",
    "    \"Total_population\",\n",
    "    \"Under_5_years\",\n",
    "    \"5_to_9_years\",\n",
    "    \"10_to_14_years\",\n",
    "    \"15_to_19_years\",\n",
    "    \"20_to_24_years\",\n",
    "    \"25_to_29_years\",\n",
    "    \"30_to_34_years\",\n",
    "    \"35_to_39_years\",\n",
    "    \"40_to_44_years\",\n",
    "    \"45_to_49_years\",\n",
    "    \"50_to_54_years\",\n",
    "    \"55_to_59_years\",\n",
    "    \"60_to_64_years\",\n",
    "    \"65_to_69_years\",\n",
    "    \"70_to_74_years\",\n",
    "    \"75_to_79_years\",\n",
    "    \"80_to_84_years\",\n",
    "    \"85_years_and_over\",\n",
    "]"
   ]
  },
  {
   "cell_type": "code",
   "execution_count": 13,
   "id": "c12c8fed-4bb2-46e8-91d9-0c344345bb64",
   "metadata": {},
   "outputs": [],
   "source": [
    "for col in cat_2_cols:\n",
    "    acs_age_totals[col] = acs_age_totals[col].str.replace(\",\", \"\").astype(int)"
   ]
  },
  {
   "cell_type": "code",
   "execution_count": 14,
   "id": "54a58777-9d1b-4bfb-9e01-1f97b8371efa",
   "metadata": {},
   "outputs": [],
   "source": [
    "acs_age_totals[\"working_age\"] = acs_age_totals[\"18_years_and_over\"] - acs_age_totals[\n",
    "    [\n",
    "        \"65_to_69_years\",\n",
    "        \"70_to_74_years\",\n",
    "        \"75_to_79_years\",\n",
    "        \"80_to_84_years\",\n",
    "        \"85_years_and_over\",\n",
    "    ]\n",
    "].sum(axis=1)"
   ]
  },
  {
   "cell_type": "code",
   "execution_count": 15,
   "id": "d39ebb36-c151-4eb1-98a3-fd678d147f53",
   "metadata": {},
   "outputs": [],
   "source": [
    "acs_age_totals[\"percent_over_18\"] = (\n",
    "    acs_age_totals[\"18_years_and_over\"] / acs_age_totals[\"Total_population\"]\n",
    ")"
   ]
  },
  {
   "cell_type": "code",
   "execution_count": 16,
   "id": "16d392e4-f397-4f45-b119-19278b97dd4b",
   "metadata": {},
   "outputs": [],
   "source": [
    "acs_age_totals[\"working_age_percent\"] = (\n",
    "    acs_age_totals[\"working_age\"] / acs_age_totals[\"Total_population\"]\n",
    ")"
   ]
  },
  {
   "cell_type": "code",
   "execution_count": 17,
   "id": "02feadb4-05f7-4dcd-af1a-adb45d9284a1",
   "metadata": {},
   "outputs": [],
   "source": [
    "acs_age_totals[\"percent_over_18_working_age\"] = (\n",
    "    acs_age_totals[\"working_age\"] / acs_age_totals[\"18_years_and_over\"]\n",
    ")"
   ]
  },
  {
   "cell_type": "markdown",
   "id": "845a2fe2-8fd9-4218-898d-a6b0c6092507",
   "metadata": {},
   "source": [
    "## Combine Data"
   ]
  },
  {
   "cell_type": "code",
   "execution_count": 93,
   "id": "6c9c6046-8f14-4c73-adf8-0949c1892646",
   "metadata": {},
   "outputs": [],
   "source": [
    "acs_age_totals = acs_age_totals.rename(columns={\"group\": \"NAME\"})"
   ]
  },
  {
   "cell_type": "code",
   "execution_count": 94,
   "id": "60382782-c678-4973-94c0-ecc6470cbcbd",
   "metadata": {},
   "outputs": [],
   "source": [
    "gender_gdf = states_df.merge(acs_age_totals, on=\"NAME\", how=\"left\")"
   ]
  },
  {
   "cell_type": "code",
   "execution_count": 98,
   "id": "46113ae7-cd6d-45c7-8980-6d2ec0b419d9",
   "metadata": {},
   "outputs": [],
   "source": [
    "gender_gdf = gender_gdf[\n",
    "    [\"NAME\", \"geometry\", \"working_age\", \"working_age_percent\"]\n",
    "].dropna()"
   ]
  },
  {
   "cell_type": "code",
   "execution_count": 99,
   "id": "405c1f3e-58a7-4038-bfae-00fe2cd3b773",
   "metadata": {},
   "outputs": [],
   "source": [
    "gender_gdf = gender_gdf.to_crs(9311)"
   ]
  },
  {
   "cell_type": "code",
   "execution_count": 100,
   "id": "cdb9ad00-072b-4c5d-8517-efa09bc758b7",
   "metadata": {},
   "outputs": [],
   "source": [
    "gender_gdf.to_file(\"data/population_18.gpkg\")"
   ]
  },
  {
   "cell_type": "code",
   "execution_count": null,
   "id": "b788705d-8ed1-446b-9d8e-a113fe256b6a",
   "metadata": {},
   "outputs": [],
   "source": []
  }
 ],
 "metadata": {
  "kernelspec": {
   "display_name": "Python 3 (ipykernel)",
   "language": "python",
   "name": "python3"
  },
  "language_info": {
   "codemirror_mode": {
    "name": "ipython",
    "version": 3
   },
   "file_extension": ".py",
   "mimetype": "text/x-python",
   "name": "python",
   "nbconvert_exporter": "python",
   "pygments_lexer": "ipython3",
   "version": "3.11.11"
  }
 },
 "nbformat": 4,
 "nbformat_minor": 5
}
