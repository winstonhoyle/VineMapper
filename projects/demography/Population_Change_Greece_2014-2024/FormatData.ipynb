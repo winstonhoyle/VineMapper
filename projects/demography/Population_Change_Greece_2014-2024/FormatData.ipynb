{
 "cells": [
  {
   "cell_type": "code",
   "execution_count": 176,
   "id": "6c8b506a-4477-4416-bd68-b44f0b27a407",
   "metadata": {},
   "outputs": [],
   "source": [
    "import geopandas as gpd\n",
    "import pandas as pd"
   ]
  },
  {
   "cell_type": "markdown",
   "id": "501b8f83-ceb2-4292-93d5-56f8dcd37cd8",
   "metadata": {},
   "source": [
    "## Open Geojson"
   ]
  },
  {
   "cell_type": "code",
   "execution_count": 177,
   "id": "0d610383-22ea-4038-9689-1fa4a8d01f32",
   "metadata": {},
   "outputs": [],
   "source": [
    "greece_gdf = gpd.read_file(\"data/periphereies/periphereies/periphereies.shp\")"
   ]
  },
  {
   "cell_type": "code",
   "execution_count": 178,
   "id": "035f55e5-c32b-4111-8212-d0ae7bd2bf75",
   "metadata": {},
   "outputs": [],
   "source": [
    "def fix_encoding(s):\n",
    "    try:\n",
    "        return s.encode(\"latin1\").decode(\"windows-1253\")\n",
    "    except:\n",
    "        return s\n",
    "\n",
    "\n",
    "greece_gdf[\"PER\"] = greece_gdf[\"PER\"].apply(fix_encoding)"
   ]
  },
  {
   "cell_type": "code",
   "execution_count": 179,
   "id": "00750dbf-a94d-4b9b-a2c7-ed8efd7dd33f",
   "metadata": {},
   "outputs": [
    {
     "data": {
      "text/plain": [
       "['Π. ΑΝΑΤΟΛΙΚΗΣ ΜΑΚΕΔΟΝΙΑΣ - ΘΡΑΚΗΣ',\n",
       " 'Π. ΚΕΝΤΡΙΚΗΣ ΜΑΚΕΔΟΝΙΑΣ',\n",
       " 'Π. ΔΥΤΙΚΗΣ ΜΑΚΕΔΟΝΙΑΣ',\n",
       " 'Π. ΗΠΕΙΡΟΥ',\n",
       " 'Π. ΘΕΣΣΑΛΙΑΣ',\n",
       " 'Π. ΒΟΡΕΙΟΥ ΑΙΓΑΙΟΥ',\n",
       " 'Π. ΝΟΤΙΟΥ ΑΙΓΑΙΟΥ',\n",
       " 'Π. ΣΤΕΡΕΑΣ ΕΛΛΑΔΑΣ',\n",
       " 'Π. ΔΥΤΙΚΗΣ ΕΛΛΑΔΑΣ',\n",
       " 'Π. ΠΕΛΟΠΟΝΝΗΣΟΥ',\n",
       " 'Π. ΙΟΝΙΩΝ ΝΗΣΩΝ',\n",
       " 'Π. ΚΡΗΤΗΣ',\n",
       " 'Π. ΑΤΤΙΚΗΣ']"
      ]
     },
     "execution_count": 179,
     "metadata": {},
     "output_type": "execute_result"
    }
   ],
   "source": [
    "list(greece_gdf[\"PER\"])"
   ]
  },
  {
   "cell_type": "code",
   "execution_count": 180,
   "id": "755a0076-0f0c-4af2-86e5-0f22b5f30ce0",
   "metadata": {},
   "outputs": [],
   "source": [
    "mapping = {\n",
    "    \"Π. ΑΝΑΤΟΛΙΚΗΣ ΜΑΚΕΔΟΝΙΑΣ - ΘΡΑΚΗΣ\": \"ΑΝΑΤΟΛΙΚΗ ΜΑΚΕΔΟΝΙΑ ΚΑΙ ΘΡΑΚΗ\",\n",
    "    \"Π. ΚΕΝΤΡΙΚΗΣ ΜΑΚΕΔΟΝΙΑΣ\": \"ΚΕΝΤΡΙΚΗ ΜΑΚΕΔΟΝΙΑ\",\n",
    "    \"Π. ΔΥΤΙΚΗΣ ΜΑΚΕΔΟΝΙΑΣ\": \"ΔΥΤΙΚΗ ΜΑΚΕΔΟΝΙΑ\",\n",
    "    \"Π. ΗΠΕΙΡΟΥ\": \"ΗΠΕΙΡΟΣ\",\n",
    "    \"Π. ΘΕΣΣΑΛΙΑΣ\": \"ΘΕΣΣΑΛΙΑ\",\n",
    "    \"Π. ΒΟΡΕΙΟΥ ΑΙΓΑΙΟΥ\": \"ΒΟΡΕΙΟ ΑΙΓΑΙΟ\",\n",
    "    \"Π. ΝΟΤΙΟΥ ΑΙΓΑΙΟΥ\": \"ΝΟΤΙΟ ΑΙΓΑΙΟ\",\n",
    "    \"Π. ΣΤΕΡΕΑΣ ΕΛΛΑΔΑΣ\": \"ΣΤΕΡΕΑ ΕΛΛΑΔΑ\",\n",
    "    \"Π. ΔΥΤΙΚΗΣ ΕΛΛΑΔΑΣ\": \"ΔΥΤΙΚΗ ΕΛΛΑΔΑ\",\n",
    "    \"Π. ΠΕΛΟΠΟΝΝΗΣΟΥ\": \"ΠΕΛΟΠΟΝΝΗΣΟΣ\",\n",
    "    \"Π. ΙΟΝΙΩΝ ΝΗΣΩΝ\": \"ΙΟΝΙΟΙ ΝΗΣΟΙ\",\n",
    "    \"Π. ΚΡΗΤΗΣ\": \"ΚΡΗΤΗ\",\n",
    "    \"Π. ΑΤΤΙΚΗΣ\": \"ATTIKH\",\n",
    "}"
   ]
  },
  {
   "cell_type": "code",
   "execution_count": 181,
   "id": "d0cad543-71d6-47d3-802d-ea63d4ef0eea",
   "metadata": {},
   "outputs": [],
   "source": [
    "greece_gdf[\"NAME\"] = greece_gdf[\"PER\"].map(mapping)"
   ]
  },
  {
   "cell_type": "markdown",
   "id": "0643d5ed-8563-475d-9572-3c635f6f8104",
   "metadata": {},
   "source": [
    "## Get Open Population data"
   ]
  },
  {
   "cell_type": "code",
   "execution_count": 182,
   "id": "2c99cfc7-b865-4dc7-affd-bc09bd7529f3",
   "metadata": {},
   "outputs": [],
   "source": [
    "population_df = pd.read_excel(\n",
    "    \"data/A1605_SPO18_TS_AN_00_2002_00_2024_10_F_BI.xlsx\",\n",
    "    sheet_name=\"ΣΥΝΟΛΟ-TOTAL_2014-2024\",\n",
    "    skiprows=3,\n",
    ")"
   ]
  },
  {
   "cell_type": "code",
   "execution_count": 183,
   "id": "49556a13-b2bd-4f2a-bffd-363320d1cd38",
   "metadata": {},
   "outputs": [],
   "source": [
    "columns = list(population_df.iloc[23])\n",
    "columns[0] = \"NAME\"\n",
    "columns[-1] = \"NAME_ENG\""
   ]
  },
  {
   "cell_type": "code",
   "execution_count": 184,
   "id": "72b51594-7d95-4f68-9745-736a2bdebab4",
   "metadata": {},
   "outputs": [],
   "source": [
    "population_df.columns = columns\n",
    "population_df = population_df.iloc[24:88]\n",
    "population_df = population_df[\n",
    "    ~population_df[\"NAME\"].str.startswith(\"Π.Ε.\")\n",
    "].reset_index(drop=True)"
   ]
  },
  {
   "cell_type": "code",
   "execution_count": 185,
   "id": "b4772b3a-42cd-4e60-a206-b2960456a6a3",
   "metadata": {},
   "outputs": [],
   "source": [
    "population_df[\"2014\"] = population_df[\"1.1.2014\"].astype(int)\n",
    "population_df[\"2024\"] = population_df[\"1.1.2024\"].astype(int)\n",
    "population_df[\"DIFF\"] = population_df[\"2024\"] - population_df[\"2014\"]\n",
    "population_df[\"PERCENT\"] = (\n",
    "    (population_df[\"DIFF\"] / population_df[\"2014\"]) * 100\n",
    ").round(decimals=1)"
   ]
  },
  {
   "cell_type": "code",
   "execution_count": 186,
   "id": "a89a0a92-7fb6-4ccf-919e-66846699987c",
   "metadata": {},
   "outputs": [],
   "source": [
    "population_df = population_df[[\"2014\", \"2024\", \"DIFF\", \"PERCENT\", \"NAME\", \"NAME_ENG\"]]"
   ]
  },
  {
   "cell_type": "markdown",
   "id": "61bbea6a-153e-4c10-8054-0effdbae489f",
   "metadata": {},
   "source": [
    "## Merge data and export"
   ]
  },
  {
   "cell_type": "code",
   "execution_count": 187,
   "id": "c7b4bd43-70cc-4a6c-9b3d-be709f100cec",
   "metadata": {},
   "outputs": [],
   "source": [
    "greece_pop_gdf = greece_gdf.merge(population_df, on=\"NAME\", how=\"left\")"
   ]
  },
  {
   "cell_type": "code",
   "execution_count": 188,
   "id": "37596e6c-39b9-4743-aa20-a09ad0a2c16c",
   "metadata": {},
   "outputs": [],
   "source": [
    "greece_pop_gdf.to_file(\"data/greece_pop.gpkg\")"
   ]
  },
  {
   "cell_type": "code",
   "execution_count": 191,
   "id": "66c0444b-80d2-490c-bf4f-08955e9903e1",
   "metadata": {},
   "outputs": [
    {
     "data": {
      "text/html": [
       "<div>\n",
       "<style scoped>\n",
       "    .dataframe tbody tr th:only-of-type {\n",
       "        vertical-align: middle;\n",
       "    }\n",
       "\n",
       "    .dataframe tbody tr th {\n",
       "        vertical-align: top;\n",
       "    }\n",
       "\n",
       "    .dataframe thead th {\n",
       "        text-align: right;\n",
       "    }\n",
       "</style>\n",
       "<table border=\"1\" class=\"dataframe\">\n",
       "  <thead>\n",
       "    <tr style=\"text-align: right;\">\n",
       "      <th></th>\n",
       "      <th>PER</th>\n",
       "      <th>geometry</th>\n",
       "      <th>NAME</th>\n",
       "      <th>2014</th>\n",
       "      <th>2024</th>\n",
       "      <th>DIFF</th>\n",
       "      <th>PERCENT</th>\n",
       "      <th>NAME_ENG</th>\n",
       "    </tr>\n",
       "  </thead>\n",
       "  <tbody>\n",
       "    <tr>\n",
       "      <th>0</th>\n",
       "      <td>Π. ΑΝΑΤΟΛΙΚΗΣ ΜΑΚΕΔΟΝΙΑΣ - ΘΡΑΚΗΣ</td>\n",
       "      <td>MULTIPOLYGON (((468363.189 4577898.998, 468365...</td>\n",
       "      <td>ΑΝΑΤΟΛΙΚΗ ΜΑΚΕΔΟΝΙΑ ΚΑΙ ΘΡΑΚΗ</td>\n",
       "      <td>608214</td>\n",
       "      <td>561834</td>\n",
       "      <td>-46380</td>\n",
       "      <td>-7.6</td>\n",
       "      <td>ANATOLIKI MAKEDONIA, THRAKI</td>\n",
       "    </tr>\n",
       "    <tr>\n",
       "      <th>1</th>\n",
       "      <td>Π. ΚΕΝΤΡΙΚΗΣ ΜΑΚΕΔΟΝΙΑΣ</td>\n",
       "      <td>MULTIPOLYGON (((306365.379 4525842.998, 306368...</td>\n",
       "      <td>ΚΕΝΤΡΙΚΗ ΜΑΚΕΔΟΝΙΑ</td>\n",
       "      <td>1903360</td>\n",
       "      <td>1778896</td>\n",
       "      <td>-124464</td>\n",
       "      <td>-6.5</td>\n",
       "      <td>KENTRIKI MAKEDONIA</td>\n",
       "    </tr>\n",
       "    <tr>\n",
       "      <th>2</th>\n",
       "      <td>Π. ΔΥΤΙΚΗΣ ΜΑΚΕΔΟΝΙΑΣ</td>\n",
       "      <td>POLYGON ((226087.989 4471633.998, 226102.009 4...</td>\n",
       "      <td>ΔΥΤΙΚΗ ΜΑΚΕΔΟΝΙΑ</td>\n",
       "      <td>278706</td>\n",
       "      <td>247270</td>\n",
       "      <td>-31436</td>\n",
       "      <td>-11.3</td>\n",
       "      <td>DYTIKI MAKEDONIA</td>\n",
       "    </tr>\n",
       "    <tr>\n",
       "      <th>3</th>\n",
       "      <td>Π. ΗΠΕΙΡΟΥ</td>\n",
       "      <td>MULTIPOLYGON (((157581.777 4400827.998, 157583...</td>\n",
       "      <td>ΗΠΕΙΡΟΣ</td>\n",
       "      <td>341046</td>\n",
       "      <td>321108</td>\n",
       "      <td>-19938</td>\n",
       "      <td>-5.8</td>\n",
       "      <td>IPEIROS</td>\n",
       "    </tr>\n",
       "    <tr>\n",
       "      <th>4</th>\n",
       "      <td>Π. ΘΕΣΣΑΛΙΑΣ</td>\n",
       "      <td>MULTIPOLYGON (((252882.049 4395793.998, 252884...</td>\n",
       "      <td>ΘΕΣΣΑΛΙΑ</td>\n",
       "      <td>737686</td>\n",
       "      <td>678747</td>\n",
       "      <td>-58939</td>\n",
       "      <td>-8.0</td>\n",
       "      <td>THESSALIA</td>\n",
       "    </tr>\n",
       "    <tr>\n",
       "      <th>5</th>\n",
       "      <td>Π. ΒΟΡΕΙΟΥ ΑΙΓΑΙΟΥ</td>\n",
       "      <td>MULTIPOLYGON (((583302.439 4372793.498, 583308...</td>\n",
       "      <td>ΒΟΡΕΙΟ ΑΙΓΑΙΟ</td>\n",
       "      <td>198581</td>\n",
       "      <td>201007</td>\n",
       "      <td>2426</td>\n",
       "      <td>1.2</td>\n",
       "      <td>VOREIO AIGAIO</td>\n",
       "    </tr>\n",
       "    <tr>\n",
       "      <th>6</th>\n",
       "      <td>Π. ΝΟΤΙΟΥ ΑΙΓΑΙΟΥ</td>\n",
       "      <td>MULTIPOLYGON (((511410.309 4039985.999, 511410...</td>\n",
       "      <td>ΝΟΤΙΟ ΑΙΓΑΙΟ</td>\n",
       "      <td>334802</td>\n",
       "      <td>327246</td>\n",
       "      <td>-7556</td>\n",
       "      <td>-2.3</td>\n",
       "      <td>NOTIO AIGAIO</td>\n",
       "    </tr>\n",
       "    <tr>\n",
       "      <th>7</th>\n",
       "      <td>Π. ΣΤΕΡΕΑΣ ΕΛΛΑΔΑΣ</td>\n",
       "      <td>MULTIPOLYGON (((272558.249 4321865.998, 272571...</td>\n",
       "      <td>ΣΤΕΡΕΑ ΕΛΛΑΔΑ</td>\n",
       "      <td>559214</td>\n",
       "      <td>505073</td>\n",
       "      <td>-54141</td>\n",
       "      <td>-9.7</td>\n",
       "      <td>STEREA ELLADA</td>\n",
       "    </tr>\n",
       "    <tr>\n",
       "      <th>8</th>\n",
       "      <td>Π. ΔΥΤΙΚΗΣ ΕΛΛΑΔΑΣ</td>\n",
       "      <td>MULTIPOLYGON (((245118.969 4192904.499, 245147...</td>\n",
       "      <td>ΔΥΤΙΚΗ ΕΛΛΑΔΑ</td>\n",
       "      <td>677727</td>\n",
       "      <td>640243</td>\n",
       "      <td>-37484</td>\n",
       "      <td>-5.5</td>\n",
       "      <td>DYTIKI ELLADA</td>\n",
       "    </tr>\n",
       "    <tr>\n",
       "      <th>9</th>\n",
       "      <td>Π. ΠΕΛΟΠΟΝΝΗΣΟΥ</td>\n",
       "      <td>MULTIPOLYGON (((281006.999 4103543.999, 281008...</td>\n",
       "      <td>ΠΕΛΟΠΟΝΝΗΣΟΣ</td>\n",
       "      <td>585155</td>\n",
       "      <td>531598</td>\n",
       "      <td>-53557</td>\n",
       "      <td>-9.2</td>\n",
       "      <td>PELOPONNISOS</td>\n",
       "    </tr>\n",
       "    <tr>\n",
       "      <th>10</th>\n",
       "      <td>Π. ΙΟΝΙΩΝ ΝΗΣΩΝ</td>\n",
       "      <td>MULTIPOLYGON (((125656.195 4406556.498, 125678...</td>\n",
       "      <td>ΙΟΝΙΟΙ ΝΗΣΟΙ</td>\n",
       "      <td>207664</td>\n",
       "      <td>200642</td>\n",
       "      <td>-7022</td>\n",
       "      <td>-3.4</td>\n",
       "      <td>IONIA NISIA</td>\n",
       "    </tr>\n",
       "    <tr>\n",
       "      <th>11</th>\n",
       "      <td>Π. ΚΡΗΤΗΣ</td>\n",
       "      <td>MULTIPOLYGON (((503187.47 3856825.999, 503200....</td>\n",
       "      <td>ΚΡΗΤΗ</td>\n",
       "      <td>630889</td>\n",
       "      <td>622491</td>\n",
       "      <td>-8398</td>\n",
       "      <td>-1.3</td>\n",
       "      <td>KRITI</td>\n",
       "    </tr>\n",
       "    <tr>\n",
       "      <th>12</th>\n",
       "      <td>Π. ΑΤΤΙΚΗΣ</td>\n",
       "      <td>MULTIPOLYGON (((400841.09 4005833.499, 400851....</td>\n",
       "      <td>ATTIKH</td>\n",
       "      <td>3863763</td>\n",
       "      <td>3784565</td>\n",
       "      <td>-79198</td>\n",
       "      <td>-2.0</td>\n",
       "      <td>ATTIKI</td>\n",
       "    </tr>\n",
       "  </tbody>\n",
       "</table>\n",
       "</div>"
      ],
      "text/plain": [
       "                                  PER  \\\n",
       "0   Π. ΑΝΑΤΟΛΙΚΗΣ ΜΑΚΕΔΟΝΙΑΣ - ΘΡΑΚΗΣ   \n",
       "1             Π. ΚΕΝΤΡΙΚΗΣ ΜΑΚΕΔΟΝΙΑΣ   \n",
       "2               Π. ΔΥΤΙΚΗΣ ΜΑΚΕΔΟΝΙΑΣ   \n",
       "3                          Π. ΗΠΕΙΡΟΥ   \n",
       "4                        Π. ΘΕΣΣΑΛΙΑΣ   \n",
       "5                  Π. ΒΟΡΕΙΟΥ ΑΙΓΑΙΟΥ   \n",
       "6                   Π. ΝΟΤΙΟΥ ΑΙΓΑΙΟΥ   \n",
       "7                  Π. ΣΤΕΡΕΑΣ ΕΛΛΑΔΑΣ   \n",
       "8                  Π. ΔΥΤΙΚΗΣ ΕΛΛΑΔΑΣ   \n",
       "9                     Π. ΠΕΛΟΠΟΝΝΗΣΟΥ   \n",
       "10                    Π. ΙΟΝΙΩΝ ΝΗΣΩΝ   \n",
       "11                          Π. ΚΡΗΤΗΣ   \n",
       "12                         Π. ΑΤΤΙΚΗΣ   \n",
       "\n",
       "                                             geometry  \\\n",
       "0   MULTIPOLYGON (((468363.189 4577898.998, 468365...   \n",
       "1   MULTIPOLYGON (((306365.379 4525842.998, 306368...   \n",
       "2   POLYGON ((226087.989 4471633.998, 226102.009 4...   \n",
       "3   MULTIPOLYGON (((157581.777 4400827.998, 157583...   \n",
       "4   MULTIPOLYGON (((252882.049 4395793.998, 252884...   \n",
       "5   MULTIPOLYGON (((583302.439 4372793.498, 583308...   \n",
       "6   MULTIPOLYGON (((511410.309 4039985.999, 511410...   \n",
       "7   MULTIPOLYGON (((272558.249 4321865.998, 272571...   \n",
       "8   MULTIPOLYGON (((245118.969 4192904.499, 245147...   \n",
       "9   MULTIPOLYGON (((281006.999 4103543.999, 281008...   \n",
       "10  MULTIPOLYGON (((125656.195 4406556.498, 125678...   \n",
       "11  MULTIPOLYGON (((503187.47 3856825.999, 503200....   \n",
       "12  MULTIPOLYGON (((400841.09 4005833.499, 400851....   \n",
       "\n",
       "                             NAME     2014     2024    DIFF  PERCENT  \\\n",
       "0   ΑΝΑΤΟΛΙΚΗ ΜΑΚΕΔΟΝΙΑ ΚΑΙ ΘΡΑΚΗ   608214   561834  -46380     -7.6   \n",
       "1              ΚΕΝΤΡΙΚΗ ΜΑΚΕΔΟΝΙΑ  1903360  1778896 -124464     -6.5   \n",
       "2                ΔΥΤΙΚΗ ΜΑΚΕΔΟΝΙΑ   278706   247270  -31436    -11.3   \n",
       "3                         ΗΠΕΙΡΟΣ   341046   321108  -19938     -5.8   \n",
       "4                        ΘΕΣΣΑΛΙΑ   737686   678747  -58939     -8.0   \n",
       "5                   ΒΟΡΕΙΟ ΑΙΓΑΙΟ   198581   201007    2426      1.2   \n",
       "6                    ΝΟΤΙΟ ΑΙΓΑΙΟ   334802   327246   -7556     -2.3   \n",
       "7                   ΣΤΕΡΕΑ ΕΛΛΑΔΑ   559214   505073  -54141     -9.7   \n",
       "8                   ΔΥΤΙΚΗ ΕΛΛΑΔΑ   677727   640243  -37484     -5.5   \n",
       "9                    ΠΕΛΟΠΟΝΝΗΣΟΣ   585155   531598  -53557     -9.2   \n",
       "10                   ΙΟΝΙΟΙ ΝΗΣΟΙ   207664   200642   -7022     -3.4   \n",
       "11                          ΚΡΗΤΗ   630889   622491   -8398     -1.3   \n",
       "12                         ATTIKH  3863763  3784565  -79198     -2.0   \n",
       "\n",
       "                       NAME_ENG  \n",
       "0   ANATOLIKI MAKEDONIA, THRAKI  \n",
       "1            KENTRIKI MAKEDONIA  \n",
       "2              DYTIKI MAKEDONIA  \n",
       "3                       IPEIROS  \n",
       "4                     THESSALIA  \n",
       "5                 VOREIO AIGAIO  \n",
       "6                  NOTIO AIGAIO  \n",
       "7                 STEREA ELLADA  \n",
       "8                 DYTIKI ELLADA  \n",
       "9                  PELOPONNISOS  \n",
       "10                  IONIA NISIA  \n",
       "11                        KRITI  \n",
       "12                       ATTIKI  "
      ]
     },
     "execution_count": 191,
     "metadata": {},
     "output_type": "execute_result"
    }
   ],
   "source": [
    "greece_pop_gdf"
   ]
  },
  {
   "cell_type": "code",
   "execution_count": 192,
   "id": "740780c4-977b-4173-91d7-4c1b9c5643c6",
   "metadata": {},
   "outputs": [
    {
     "data": {
      "text/plain": [
       "np.int64(10926807)"
      ]
     },
     "execution_count": 192,
     "metadata": {},
     "output_type": "execute_result"
    }
   ],
   "source": [
    "greece_pop_gdf[\"2014\"].sum()"
   ]
  },
  {
   "cell_type": "code",
   "execution_count": 193,
   "id": "f37b3a5b-a562-4840-b256-5bea813b9630",
   "metadata": {},
   "outputs": [
    {
     "data": {
      "text/plain": [
       "np.int64(10400720)"
      ]
     },
     "execution_count": 193,
     "metadata": {},
     "output_type": "execute_result"
    }
   ],
   "source": [
    "greece_pop_gdf[\"2024\"].sum()"
   ]
  },
  {
   "cell_type": "code",
   "execution_count": null,
   "id": "fea064f3-cbf7-4761-be12-328c41ae4f1c",
   "metadata": {},
   "outputs": [],
   "source": []
  }
 ],
 "metadata": {
  "kernelspec": {
   "display_name": "Python 3 (ipykernel)",
   "language": "python",
   "name": "python3"
  },
  "language_info": {
   "codemirror_mode": {
    "name": "ipython",
    "version": 3
   },
   "file_extension": ".py",
   "mimetype": "text/x-python",
   "name": "python",
   "nbconvert_exporter": "python",
   "pygments_lexer": "ipython3",
   "version": "3.11.11"
  }
 },
 "nbformat": 4,
 "nbformat_minor": 5
}
