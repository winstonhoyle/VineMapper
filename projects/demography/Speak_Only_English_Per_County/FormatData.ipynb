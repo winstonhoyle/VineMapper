{
 "cells": [
  {
   "cell_type": "code",
   "execution_count": 44,
   "id": "c4323fb2-1721-463e-8602-d1c3302ff523",
   "metadata": {},
   "outputs": [],
   "source": [
    "import geopandas as gpd\n",
    "import pandas as pd"
   ]
  },
  {
   "cell_type": "markdown",
   "id": "7bfd8f31-eada-447d-af06-da8a94290c02",
   "metadata": {},
   "source": [
    "## Open State data"
   ]
  },
  {
   "cell_type": "code",
   "execution_count": 45,
   "id": "5fadd853-8ad5-4832-976a-4d251d5a794b",
   "metadata": {},
   "outputs": [],
   "source": [
    "file_path = \"data/cb_2024_us_county_500k/cb_2024_us_county_500k.shp\"\n",
    "counties_gdf = gpd.read_file(file_path)\n",
    "counties_gdf = counties_gdf.to_crs(4326)"
   ]
  },
  {
   "cell_type": "markdown",
   "id": "74b55cfa-2db3-4a7c-bd04-0b341757effe",
   "metadata": {},
   "source": [
    "## Get Language "
   ]
  },
  {
   "cell_type": "code",
   "execution_count": 46,
   "id": "3992f69b-d2c6-4058-879b-b3df9efd2c6a",
   "metadata": {},
   "outputs": [],
   "source": [
    "language_df = pd.read_csv(\n",
    "    \"data/ACSST5Y2023.S1601_2025-06-22T151444/ACSST5Y2023.S1601-Data.csv\",\n",
    "    low_memory=False,\n",
    ")"
   ]
  },
  {
   "cell_type": "markdown",
   "id": "882f6ea0-65a2-404e-8c20-4571501b5685",
   "metadata": {},
   "source": [
    "#### Get Column names"
   ]
  },
  {
   "cell_type": "code",
   "execution_count": 47,
   "id": "4a3b0141-aaf8-405a-bfd0-eef85e9d5b94",
   "metadata": {},
   "outputs": [],
   "source": [
    "acs_column_names = pd.read_csv(\n",
    "    \"data/ACSST5Y2023.S1601_2025-06-22T151444/ACSST5Y2023.S1601-Column-Metadata.csv\"\n",
    ")"
   ]
  },
  {
   "cell_type": "code",
   "execution_count": 48,
   "id": "abb2cd79-b016-4b56-8fe9-cbaa55ba1eb2",
   "metadata": {},
   "outputs": [],
   "source": [
    "col_renames = {\n",
    "    \"Estimate!!Percent!!Population 5 years and over!!Speak only English\": \"PERCENT_ENGLISH\",\n",
    "    \"Estimate!!Percent!!Population 5 years and over!!Speak a language other than English\": \"PERCENT_MORE_THAN_ENGLISH\",\n",
    "    \"Geography\": \"GEOIDFQ\",\n",
    "}"
   ]
  },
  {
   "cell_type": "code",
   "execution_count": 49,
   "id": "07d142e8-e490-4174-ac05-41eadf749b12",
   "metadata": {},
   "outputs": [],
   "source": [
    "language_cols = list(\n",
    "    acs_column_names[\n",
    "        (acs_column_names[\"Column Name\"] == \"S1601_C02_002E\")\n",
    "        | (acs_column_names[\"Column Name\"] == \"S1601_C02_003E\")\n",
    "    ][\"Column Name\"]\n",
    ")"
   ]
  },
  {
   "cell_type": "markdown",
   "id": "c156cb57-84a4-47fe-81d8-2691da36f9d8",
   "metadata": {},
   "source": [
    "#### Back to Data"
   ]
  },
  {
   "cell_type": "code",
   "execution_count": 50,
   "id": "46820b78-1f2a-4160-8205-6be79a179254",
   "metadata": {},
   "outputs": [],
   "source": [
    "language_df = language_df[[\"GEO_ID\", *language_cols]]\n",
    "language_df.columns = language_df.iloc[0]\n",
    "language_df = language_df[1:]\n",
    "language_df = language_df.rename(columns=col_renames)"
   ]
  },
  {
   "cell_type": "code",
   "execution_count": 52,
   "id": "a748bc3d-ed85-4fba-8290-9cbd9ecfebbb",
   "metadata": {},
   "outputs": [],
   "source": [
    "language_df[\"PERCENT_ENGLISH\"] = language_df[\"PERCENT_ENGLISH\"].astype(float)\n",
    "language_df[\"PERCENT_MORE_THAN_ENGLISH\"] = language_df[\n",
    "    \"PERCENT_MORE_THAN_ENGLISH\"\n",
    "].astype(float)"
   ]
  },
  {
   "cell_type": "markdown",
   "id": "ea0435b2-f5f4-4186-853b-615f63cc50aa",
   "metadata": {},
   "source": [
    "## Merge Data"
   ]
  },
  {
   "cell_type": "code",
   "execution_count": 53,
   "id": "335e5a07-6df8-46bf-bc7d-1512019384fd",
   "metadata": {},
   "outputs": [],
   "source": [
    "language_gdf = counties_gdf.merge(language_df, on=\"GEOIDFQ\", how=\"left\")"
   ]
  },
  {
   "cell_type": "code",
   "execution_count": 54,
   "id": "7c55f3a2-c33f-4b81-b294-b3101bd95342",
   "metadata": {},
   "outputs": [],
   "source": [
    "language_gdf = language_gdf.dropna()"
   ]
  },
  {
   "cell_type": "code",
   "execution_count": 55,
   "id": "ae923604-fd11-4c7d-a480-4f53abaeafbc",
   "metadata": {},
   "outputs": [],
   "source": [
    "language_gdf = language_gdf.to_crs(9311)\n",
    "language_gdf.to_file(\"data/language.gpkg\")"
   ]
  },
  {
   "cell_type": "code",
   "execution_count": null,
   "id": "641fe6e8-a92d-407d-b49c-f85ac7139bbd",
   "metadata": {},
   "outputs": [],
   "source": []
  }
 ],
 "metadata": {
  "kernelspec": {
   "display_name": "Python 3 (ipykernel)",
   "language": "python",
   "name": "python3"
  },
  "language_info": {
   "codemirror_mode": {
    "name": "ipython",
    "version": 3
   },
   "file_extension": ".py",
   "mimetype": "text/x-python",
   "name": "python",
   "nbconvert_exporter": "python",
   "pygments_lexer": "ipython3",
   "version": "3.11.11"
  }
 },
 "nbformat": 4,
 "nbformat_minor": 5
}
