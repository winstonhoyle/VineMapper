{
 "cells": [
  {
   "cell_type": "code",
   "execution_count": 34,
   "id": "6c8b506a-4477-4416-bd68-b44f0b27a407",
   "metadata": {},
   "outputs": [],
   "source": [
    "import geopandas as gpd\n",
    "import numpy as np\n",
    "import pandas as pd\n",
    "from shapely.ops import unary_union"
   ]
  },
  {
   "cell_type": "markdown",
   "id": "501b8f83-ceb2-4292-93d5-56f8dcd37cd8",
   "metadata": {},
   "source": [
    "## Open Geojson"
   ]
  },
  {
   "cell_type": "code",
   "execution_count": 2,
   "id": "0d610383-22ea-4038-9689-1fa4a8d01f32",
   "metadata": {},
   "outputs": [],
   "source": [
    "czechia_gdf = gpd.read_file(\"data/geojson/Okresy_LAU_1_multi_20250701.geojson\")"
   ]
  },
  {
   "cell_type": "code",
   "execution_count": 3,
   "id": "d9f2f09a-0458-45f0-8658-58b44237152a",
   "metadata": {},
   "outputs": [],
   "source": [
    "czechia_gdf[\"naz_okres\"] = czechia_gdf[\"naz_okres\"].str.lower()"
   ]
  },
  {
   "cell_type": "markdown",
   "id": "0643d5ed-8563-475d-9572-3c635f6f8104",
   "metadata": {},
   "source": [
    "## Get Open Population data"
   ]
  },
  {
   "cell_type": "code",
   "execution_count": 4,
   "id": "2c99cfc7-b865-4dc7-affd-bc09bd7529f3",
   "metadata": {},
   "outputs": [
    {
     "name": "stderr",
     "output_type": "stream",
     "text": [
      "/mnt/f/Github/VineMapper/.venv/lib/python3.11/site-packages/openpyxl/styles/stylesheet.py:237: UserWarning: Workbook contains no default style, apply openpyxl's default\n",
      "  warn(\"Workbook contains no default style, apply openpyxl's default\")\n"
     ]
    }
   ],
   "source": [
    "pop_2015_df = pd.read_excel(\"data/DEM13_2015.xlsx\", sheet_name=None, engine=\"openpyxl\")"
   ]
  },
  {
   "cell_type": "code",
   "execution_count": 5,
   "id": "cfd6c4df-670c-4ab5-85f6-1503d2b23b7e",
   "metadata": {},
   "outputs": [],
   "source": [
    "pop_2015_df = (\n",
    "    pop_2015_df[\"DATA\"][[\"Unnamed: 1\", \"Unnamed: 2\"]]\n",
    "    .dropna()\n",
    "    .reset_index(drop=True)[1:]\n",
    ")\n",
    "pop_2015_df = pop_2015_df.rename(\n",
    "    columns={\"Unnamed: 1\": \"naz_okres\", \"Unnamed: 2\": \"2015\"}\n",
    ")\n",
    "pop_2015_df[\"2015\"] = pop_2015_df[\"2015\"].astype(int)"
   ]
  },
  {
   "cell_type": "code",
   "execution_count": 6,
   "id": "21e40943-5a70-431c-8a4c-0224f6f7d094",
   "metadata": {},
   "outputs": [
    {
     "name": "stderr",
     "output_type": "stream",
     "text": [
      "/mnt/f/Github/VineMapper/.venv/lib/python3.11/site-packages/openpyxl/styles/stylesheet.py:237: UserWarning: Workbook contains no default style, apply openpyxl's default\n",
      "  warn(\"Workbook contains no default style, apply openpyxl's default\")\n"
     ]
    }
   ],
   "source": [
    "pop_2025_df = pd.read_excel(\"data/DEM13_2025.xlsx\", sheet_name=None, engine=\"openpyxl\")"
   ]
  },
  {
   "cell_type": "code",
   "execution_count": 7,
   "id": "5961f989-64ef-4b89-b703-b39e58ffb586",
   "metadata": {},
   "outputs": [],
   "source": [
    "pop_2025_df = (\n",
    "    pop_2025_df[\"DATA\"][[\"Unnamed: 1\", \"Unnamed: 2\"]]\n",
    "    .dropna()\n",
    "    .reset_index(drop=True)[1:]\n",
    ")\n",
    "pop_2025_df = pop_2025_df.rename(\n",
    "    columns={\"Unnamed: 1\": \"naz_okres\", \"Unnamed: 2\": \"2025\"}\n",
    ")\n",
    "pop_2025_df[\"2025\"] = pop_2025_df[\"2025\"].astype(int)"
   ]
  },
  {
   "cell_type": "code",
   "execution_count": 8,
   "id": "2f42336b-ee08-42b5-933b-feed7fe1a207",
   "metadata": {},
   "outputs": [],
   "source": [
    "pop_df = pop_2015_df.merge(pop_2025_df, on=\"naz_okres\", how=\"inner\")"
   ]
  },
  {
   "cell_type": "code",
   "execution_count": 9,
   "id": "11e9132f-213b-46bd-81d2-e8e1d179a35b",
   "metadata": {},
   "outputs": [],
   "source": [
    "pop_df[\"DIFF\"] = pop_df[\"2025\"] - pop_df[\"2015\"]\n",
    "pop_df[\"PERCENT\"] = ((pop_df[\"DIFF\"] / pop_df[\"2015\"]) * 100.0).round(decimals=1)"
   ]
  },
  {
   "cell_type": "code",
   "execution_count": 10,
   "id": "d9db4a52-dd53-48c9-9d38-8f9d4715ec4e",
   "metadata": {},
   "outputs": [
    {
     "data": {
      "text/html": [
       "<div>\n",
       "<style scoped>\n",
       "    .dataframe tbody tr th:only-of-type {\n",
       "        vertical-align: middle;\n",
       "    }\n",
       "\n",
       "    .dataframe tbody tr th {\n",
       "        vertical-align: top;\n",
       "    }\n",
       "\n",
       "    .dataframe thead th {\n",
       "        text-align: right;\n",
       "    }\n",
       "</style>\n",
       "<table border=\"1\" class=\"dataframe\">\n",
       "  <thead>\n",
       "    <tr style=\"text-align: right;\">\n",
       "      <th></th>\n",
       "      <th>naz_okres</th>\n",
       "      <th>2015</th>\n",
       "      <th>2025</th>\n",
       "      <th>DIFF</th>\n",
       "      <th>PERCENT</th>\n",
       "    </tr>\n",
       "  </thead>\n",
       "  <tbody>\n",
       "    <tr>\n",
       "      <th>0</th>\n",
       "      <td>Czech Republic</td>\n",
       "      <td>10538275</td>\n",
       "      <td>10909500</td>\n",
       "      <td>371225</td>\n",
       "      <td>3.5</td>\n",
       "    </tr>\n",
       "  </tbody>\n",
       "</table>\n",
       "</div>"
      ],
      "text/plain": [
       "        naz_okres      2015      2025    DIFF  PERCENT\n",
       "0  Czech Republic  10538275  10909500  371225      3.5"
      ]
     },
     "execution_count": 10,
     "metadata": {},
     "output_type": "execute_result"
    }
   ],
   "source": [
    "pop_df[pop_df[\"naz_okres\"] == \"Czech Republic\"]"
   ]
  },
  {
   "cell_type": "code",
   "execution_count": 19,
   "id": "c23e781d-890c-4e31-8d42-b83dd80d8a81",
   "metadata": {},
   "outputs": [],
   "source": [
    "pop_df = pop_df.replace(\"praha, the capital city\", \"praha\")"
   ]
  },
  {
   "cell_type": "markdown",
   "id": "61bbea6a-153e-4c10-8054-0effdbae489f",
   "metadata": {},
   "source": [
    "## Merge data and export"
   ]
  },
  {
   "cell_type": "code",
   "execution_count": 20,
   "id": "7c00ca1e-8a8d-4c82-ad4c-8e879df4822f",
   "metadata": {},
   "outputs": [],
   "source": [
    "pop_df[\"naz_okres\"] = pop_df[\"naz_okres\"].str.lower()"
   ]
  },
  {
   "cell_type": "code",
   "execution_count": 21,
   "id": "c7b4bd43-70cc-4a6c-9b3d-be709f100cec",
   "metadata": {},
   "outputs": [],
   "source": [
    "pop_gdf = czechia_gdf[[\"naz_okres\", \"geometry\"]].merge(\n",
    "    pop_df, on=\"naz_okres\", how=\"left\"\n",
    ")"
   ]
  },
  {
   "cell_type": "code",
   "execution_count": 23,
   "id": "37596e6c-39b9-4743-aa20-a09ad0a2c16c",
   "metadata": {},
   "outputs": [],
   "source": [
    "pop_gdf = pop_gdf.to_crs(5514)\n",
    "pop_gdf.to_file(\"data/Population_Change_Czechia_2015_2025.gpkg\")"
   ]
  },
  {
   "cell_type": "code",
   "execution_count": 32,
   "id": "7564c3ad-2d14-4f5d-8e55-3589dbc4e393",
   "metadata": {},
   "outputs": [],
   "source": [
    "czechia_gdf = czechia_gdf.to_crs(5514)"
   ]
  },
  {
   "cell_type": "code",
   "execution_count": 37,
   "id": "86f25f46-ac1a-4c39-9736-46c446b72d2c",
   "metadata": {},
   "outputs": [],
   "source": [
    "czechia_gdf.dissolve(by=\"naz_kraj\")[[\"geometry\"]].to_file(\"data/czech_regions.gpkg\")\n",
    "merged = unary_union(czechia_gdf.geometry)\n",
    "outline = merged.boundary\n",
    "outline_gdf = gpd.GeoDataFrame(geometry=[outline], crs=czechia_gdf.crs)\n",
    "outline_gdf.to_file(\"data/czechia_boundary.gpkg\")"
   ]
  },
  {
   "cell_type": "code",
   "execution_count": 27,
   "id": "fb9e4d5a-b344-4b13-946d-eee130bd01dc",
   "metadata": {},
   "outputs": [
    {
     "data": {
      "text/html": [
       "<div>\n",
       "<style scoped>\n",
       "    .dataframe tbody tr th:only-of-type {\n",
       "        vertical-align: middle;\n",
       "    }\n",
       "\n",
       "    .dataframe tbody tr th {\n",
       "        vertical-align: top;\n",
       "    }\n",
       "\n",
       "    .dataframe thead th {\n",
       "        text-align: right;\n",
       "    }\n",
       "</style>\n",
       "<table border=\"1\" class=\"dataframe\">\n",
       "  <thead>\n",
       "    <tr style=\"text-align: right;\">\n",
       "      <th></th>\n",
       "      <th>naz_okres</th>\n",
       "      <th>PERCENT</th>\n",
       "      <th>DIFF</th>\n",
       "    </tr>\n",
       "  </thead>\n",
       "  <tbody>\n",
       "    <tr>\n",
       "      <th>8</th>\n",
       "      <td>praha-východ</td>\n",
       "      <td>24.7</td>\n",
       "      <td>40545</td>\n",
       "    </tr>\n",
       "    <tr>\n",
       "      <th>9</th>\n",
       "      <td>praha-západ</td>\n",
       "      <td>20.5</td>\n",
       "      <td>27569</td>\n",
       "    </tr>\n",
       "    <tr>\n",
       "      <th>22</th>\n",
       "      <td>plzeň-jih</td>\n",
       "      <td>15.3</td>\n",
       "      <td>9502</td>\n",
       "    </tr>\n",
       "    <tr>\n",
       "      <th>1</th>\n",
       "      <td>beroun</td>\n",
       "      <td>15.0</td>\n",
       "      <td>13390</td>\n",
       "    </tr>\n",
       "    <tr>\n",
       "      <th>7</th>\n",
       "      <td>nymburk</td>\n",
       "      <td>11.3</td>\n",
       "      <td>10949</td>\n",
       "    </tr>\n",
       "  </tbody>\n",
       "</table>\n",
       "</div>"
      ],
      "text/plain": [
       "       naz_okres  PERCENT   DIFF\n",
       "8   praha-východ     24.7  40545\n",
       "9    praha-západ     20.5  27569\n",
       "22     plzeň-jih     15.3   9502\n",
       "1         beroun     15.0  13390\n",
       "7        nymburk     11.3  10949"
      ]
     },
     "execution_count": 27,
     "metadata": {},
     "output_type": "execute_result"
    }
   ],
   "source": [
    "pop_gdf[[\"naz_okres\", \"PERCENT\", \"DIFF\"]].sort_values(\"PERCENT\", ascending=False).head()"
   ]
  },
  {
   "cell_type": "code",
   "execution_count": 28,
   "id": "0f74c572-ac04-4be2-a71d-4d675f9aa58f",
   "metadata": {},
   "outputs": [
    {
     "data": {
      "text/html": [
       "<div>\n",
       "<style scoped>\n",
       "    .dataframe tbody tr th:only-of-type {\n",
       "        vertical-align: middle;\n",
       "    }\n",
       "\n",
       "    .dataframe tbody tr th {\n",
       "        vertical-align: top;\n",
       "    }\n",
       "\n",
       "    .dataframe thead th {\n",
       "        text-align: right;\n",
       "    }\n",
       "</style>\n",
       "<table border=\"1\" class=\"dataframe\">\n",
       "  <thead>\n",
       "    <tr style=\"text-align: right;\">\n",
       "      <th></th>\n",
       "      <th>naz_okres</th>\n",
       "      <th>PERCENT</th>\n",
       "      <th>DIFF</th>\n",
       "    </tr>\n",
       "  </thead>\n",
       "  <tbody>\n",
       "    <tr>\n",
       "      <th>19</th>\n",
       "      <td>domažlice</td>\n",
       "      <td>-8.4</td>\n",
       "      <td>-5102</td>\n",
       "    </tr>\n",
       "    <tr>\n",
       "      <th>61</th>\n",
       "      <td>jeseník</td>\n",
       "      <td>-7.8</td>\n",
       "      <td>-3092</td>\n",
       "    </tr>\n",
       "    <tr>\n",
       "      <th>72</th>\n",
       "      <td>karviná</td>\n",
       "      <td>-6.8</td>\n",
       "      <td>-17526</td>\n",
       "    </tr>\n",
       "    <tr>\n",
       "      <th>70</th>\n",
       "      <td>bruntál</td>\n",
       "      <td>-6.6</td>\n",
       "      <td>-6285</td>\n",
       "    </tr>\n",
       "    <tr>\n",
       "      <th>28</th>\n",
       "      <td>sokolov</td>\n",
       "      <td>-5.7</td>\n",
       "      <td>-5166</td>\n",
       "    </tr>\n",
       "  </tbody>\n",
       "</table>\n",
       "</div>"
      ],
      "text/plain": [
       "    naz_okres  PERCENT   DIFF\n",
       "19  domažlice     -8.4  -5102\n",
       "61    jeseník     -7.8  -3092\n",
       "72    karviná     -6.8 -17526\n",
       "70    bruntál     -6.6  -6285\n",
       "28    sokolov     -5.7  -5166"
      ]
     },
     "execution_count": 28,
     "metadata": {},
     "output_type": "execute_result"
    }
   ],
   "source": [
    "pop_gdf[[\"naz_okres\", \"PERCENT\", \"DIFF\"]].sort_values(\"PERCENT\", ascending=True).head()"
   ]
  },
  {
   "cell_type": "code",
   "execution_count": 29,
   "id": "81908a8f-882a-44cd-adc0-764c6ca98749",
   "metadata": {},
   "outputs": [
    {
     "data": {
      "text/html": [
       "<div>\n",
       "<style scoped>\n",
       "    .dataframe tbody tr th:only-of-type {\n",
       "        vertical-align: middle;\n",
       "    }\n",
       "\n",
       "    .dataframe tbody tr th {\n",
       "        vertical-align: top;\n",
       "    }\n",
       "\n",
       "    .dataframe thead th {\n",
       "        text-align: right;\n",
       "    }\n",
       "</style>\n",
       "<table border=\"1\" class=\"dataframe\">\n",
       "  <thead>\n",
       "    <tr style=\"text-align: right;\">\n",
       "      <th></th>\n",
       "      <th>naz_okres</th>\n",
       "      <th>PERCENT</th>\n",
       "      <th>DIFF</th>\n",
       "    </tr>\n",
       "  </thead>\n",
       "  <tbody>\n",
       "    <tr>\n",
       "      <th>76</th>\n",
       "      <td>praha</td>\n",
       "      <td>11.0</td>\n",
       "      <td>138801</td>\n",
       "    </tr>\n",
       "    <tr>\n",
       "      <th>8</th>\n",
       "      <td>praha-východ</td>\n",
       "      <td>24.7</td>\n",
       "      <td>40545</td>\n",
       "    </tr>\n",
       "    <tr>\n",
       "      <th>9</th>\n",
       "      <td>praha-západ</td>\n",
       "      <td>20.5</td>\n",
       "      <td>27569</td>\n",
       "    </tr>\n",
       "    <tr>\n",
       "      <th>55</th>\n",
       "      <td>brno-město</td>\n",
       "      <td>6.7</td>\n",
       "      <td>25299</td>\n",
       "    </tr>\n",
       "    <tr>\n",
       "      <th>56</th>\n",
       "      <td>brno-venkov</td>\n",
       "      <td>10.1</td>\n",
       "      <td>21466</td>\n",
       "    </tr>\n",
       "  </tbody>\n",
       "</table>\n",
       "</div>"
      ],
      "text/plain": [
       "       naz_okres  PERCENT    DIFF\n",
       "76         praha     11.0  138801\n",
       "8   praha-východ     24.7   40545\n",
       "9    praha-západ     20.5   27569\n",
       "55    brno-město      6.7   25299\n",
       "56   brno-venkov     10.1   21466"
      ]
     },
     "execution_count": 29,
     "metadata": {},
     "output_type": "execute_result"
    }
   ],
   "source": [
    "pop_gdf[[\"naz_okres\", \"PERCENT\", \"DIFF\"]].sort_values(\"DIFF\", ascending=False).head()"
   ]
  },
  {
   "cell_type": "code",
   "execution_count": 30,
   "id": "2c0d7317-6489-490f-abbc-005df4c3abbe",
   "metadata": {},
   "outputs": [
    {
     "data": {
      "text/html": [
       "<div>\n",
       "<style scoped>\n",
       "    .dataframe tbody tr th:only-of-type {\n",
       "        vertical-align: middle;\n",
       "    }\n",
       "\n",
       "    .dataframe tbody tr th {\n",
       "        vertical-align: top;\n",
       "    }\n",
       "\n",
       "    .dataframe thead th {\n",
       "        text-align: right;\n",
       "    }\n",
       "</style>\n",
       "<table border=\"1\" class=\"dataframe\">\n",
       "  <thead>\n",
       "    <tr style=\"text-align: right;\">\n",
       "      <th></th>\n",
       "      <th>naz_okres</th>\n",
       "      <th>PERCENT</th>\n",
       "      <th>DIFF</th>\n",
       "    </tr>\n",
       "  </thead>\n",
       "  <tbody>\n",
       "    <tr>\n",
       "      <th>72</th>\n",
       "      <td>karviná</td>\n",
       "      <td>-6.8</td>\n",
       "      <td>-17526</td>\n",
       "    </tr>\n",
       "    <tr>\n",
       "      <th>75</th>\n",
       "      <td>ostrava-město</td>\n",
       "      <td>-2.9</td>\n",
       "      <td>-9485</td>\n",
       "    </tr>\n",
       "    <tr>\n",
       "      <th>33</th>\n",
       "      <td>most</td>\n",
       "      <td>-5.6</td>\n",
       "      <td>-6321</td>\n",
       "    </tr>\n",
       "    <tr>\n",
       "      <th>70</th>\n",
       "      <td>bruntál</td>\n",
       "      <td>-6.6</td>\n",
       "      <td>-6285</td>\n",
       "    </tr>\n",
       "    <tr>\n",
       "      <th>29</th>\n",
       "      <td>děčín</td>\n",
       "      <td>-4.5</td>\n",
       "      <td>-5909</td>\n",
       "    </tr>\n",
       "  </tbody>\n",
       "</table>\n",
       "</div>"
      ],
      "text/plain": [
       "        naz_okres  PERCENT   DIFF\n",
       "72        karviná     -6.8 -17526\n",
       "75  ostrava-město     -2.9  -9485\n",
       "33           most     -5.6  -6321\n",
       "70        bruntál     -6.6  -6285\n",
       "29          děčín     -4.5  -5909"
      ]
     },
     "execution_count": 30,
     "metadata": {},
     "output_type": "execute_result"
    }
   ],
   "source": [
    "pop_gdf[[\"naz_okres\", \"PERCENT\", \"DIFF\"]].sort_values(\"DIFF\", ascending=True).head()"
   ]
  },
  {
   "cell_type": "code",
   "execution_count": null,
   "id": "166dcaaf-a63a-4d78-9872-dff245b38b52",
   "metadata": {},
   "outputs": [],
   "source": []
  }
 ],
 "metadata": {
  "kernelspec": {
   "display_name": "Python 3 (ipykernel)",
   "language": "python",
   "name": "python3"
  },
  "language_info": {
   "codemirror_mode": {
    "name": "ipython",
    "version": 3
   },
   "file_extension": ".py",
   "mimetype": "text/x-python",
   "name": "python",
   "nbconvert_exporter": "python",
   "pygments_lexer": "ipython3",
   "version": "3.11.13"
  }
 },
 "nbformat": 4,
 "nbformat_minor": 5
}
