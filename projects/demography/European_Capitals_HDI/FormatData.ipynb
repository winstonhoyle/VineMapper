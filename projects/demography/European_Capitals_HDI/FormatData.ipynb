{
 "cells": [
  {
   "cell_type": "code",
   "execution_count": 211,
   "id": "3bf309e7-7106-41f9-a576-a4fc25877ba8",
   "metadata": {},
   "outputs": [],
   "source": [
    "import geopandas\n",
    "import pandas as pd"
   ]
  },
  {
   "cell_type": "code",
   "execution_count": 212,
   "id": "7fb93568-f509-45a3-8978-df72c0e55935",
   "metadata": {},
   "outputs": [],
   "source": [
    "europe_df = geopandas.read_file(\"data/europe.geojson\")"
   ]
  },
  {
   "cell_type": "code",
   "execution_count": 213,
   "id": "0cd7f480-7518-4399-bc5b-a25b64073288",
   "metadata": {},
   "outputs": [],
   "source": [
    "world_df = geopandas.read_file(\"data/world-administrative-boundaries.geojson\")\n",
    "world_df.to_file(\"data/world_boundaries.gpkg\")"
   ]
  },
  {
   "cell_type": "markdown",
   "id": "30151e6d-38fa-400a-af79-f96412629c75",
   "metadata": {},
   "source": [
    "## Surrounding Countries"
   ]
  },
  {
   "cell_type": "code",
   "execution_count": 214,
   "id": "8d045513-109d-442f-935d-24e01c6ac4c3",
   "metadata": {},
   "outputs": [],
   "source": [
    "non_european_countries_in_map = [\n",
    "    \"Morocco\",\n",
    "    \"Algeria\",\n",
    "    \"Tunisia\",\n",
    "    \"Libyan Arab Jamahiriya\",\n",
    "    \"Israel\",\n",
    "    \"Lebanon\",\n",
    "    \"Egypt\",\n",
    "    \"Iraq\",\n",
    "    \"Syrian Arab Republic\",\n",
    "    \"Iran (Islamic Republic of)\",\n",
    "    \"Kazakhstan\",\n",
    "    \"Jordan\",\n",
    "    \"Saudi Arabia\",\n",
    "    \"Turkmenistan\",\n",
    "    \"Uzbekistan\",\n",
    "    \"Kuwait\",\n",
    "]"
   ]
  },
  {
   "cell_type": "code",
   "execution_count": 215,
   "id": "adfbadef-5d7c-4d64-87dd-ef5317f53962",
   "metadata": {},
   "outputs": [],
   "source": [
    "european_border_map_df = world_df[world_df[\"name\"].isin(non_european_countries_in_map)]\n",
    "european_border_map_df = european_border_map_df[\n",
    "    european_border_map_df[\"status\"] == \"Member State\"\n",
    "]\n",
    "european_border_map_df = european_border_map_df[\n",
    "    [\"name\", \"iso_3166_1_alpha_2_codes\", \"geometry\"]\n",
    "]"
   ]
  },
  {
   "cell_type": "code",
   "execution_count": 216,
   "id": "380dfa4d-6ac3-4b24-ba9d-eeaf398f57bd",
   "metadata": {},
   "outputs": [
    {
     "data": {
      "text/html": [
       "<div>\n",
       "<style scoped>\n",
       "    .dataframe tbody tr th:only-of-type {\n",
       "        vertical-align: middle;\n",
       "    }\n",
       "\n",
       "    .dataframe tbody tr th {\n",
       "        vertical-align: top;\n",
       "    }\n",
       "\n",
       "    .dataframe thead th {\n",
       "        text-align: right;\n",
       "    }\n",
       "</style>\n",
       "<table border=\"1\" class=\"dataframe\">\n",
       "  <thead>\n",
       "    <tr style=\"text-align: right;\">\n",
       "      <th></th>\n",
       "      <th>name</th>\n",
       "      <th>iso_3166_1_alpha_2_codes</th>\n",
       "      <th>geometry</th>\n",
       "    </tr>\n",
       "  </thead>\n",
       "  <tbody>\n",
       "    <tr>\n",
       "      <th>1</th>\n",
       "      <td>Uzbekistan</td>\n",
       "      <td>UZ</td>\n",
       "      <td>POLYGON ((70.97081 42.25467, 70.98054 42.26205...</td>\n",
       "    </tr>\n",
       "    <tr>\n",
       "      <th>10</th>\n",
       "      <td>Kazakhstan</td>\n",
       "      <td>KZ</td>\n",
       "      <td>POLYGON ((87.3482 49.09262, 87.31638 49.09777,...</td>\n",
       "    </tr>\n",
       "    <tr>\n",
       "      <th>18</th>\n",
       "      <td>Morocco</td>\n",
       "      <td>MA</td>\n",
       "      <td>POLYGON ((-2.94694 35.32916, -2.96618 35.31663...</td>\n",
       "    </tr>\n",
       "    <tr>\n",
       "      <th>60</th>\n",
       "      <td>Kuwait</td>\n",
       "      <td>KW</td>\n",
       "      <td>MULTIPOLYGON (((48.22832 29.59528, 48.20277 29...</td>\n",
       "    </tr>\n",
       "    <tr>\n",
       "      <th>64</th>\n",
       "      <td>Iran (Islamic Republic of)</td>\n",
       "      <td>IR</td>\n",
       "      <td>MULTIPOLYGON (((55.73499 26.83805, 55.73166 26...</td>\n",
       "    </tr>\n",
       "    <tr>\n",
       "      <th>71</th>\n",
       "      <td>Syrian Arab Republic</td>\n",
       "      <td>SY</td>\n",
       "      <td>POLYGON ((42.35562 37.10693, 42.37833 37.07206...</td>\n",
       "    </tr>\n",
       "    <tr>\n",
       "      <th>105</th>\n",
       "      <td>Egypt</td>\n",
       "      <td>EG</td>\n",
       "      <td>POLYGON ((34.21666 31.32333, 34.23917 31.29472...</td>\n",
       "    </tr>\n",
       "    <tr>\n",
       "      <th>131</th>\n",
       "      <td>Tunisia</td>\n",
       "      <td>TN</td>\n",
       "      <td>MULTIPOLYGON (((10.99361 33.75, 10.93778 33.72...</td>\n",
       "    </tr>\n",
       "    <tr>\n",
       "      <th>158</th>\n",
       "      <td>Algeria</td>\n",
       "      <td>DZ</td>\n",
       "      <td>POLYGON ((8.62203 36.94137, 8.63222 36.88194, ...</td>\n",
       "    </tr>\n",
       "    <tr>\n",
       "      <th>172</th>\n",
       "      <td>Iraq</td>\n",
       "      <td>IQ</td>\n",
       "      <td>POLYGON ((44.78734 37.14971, 44.76617 37.11228...</td>\n",
       "    </tr>\n",
       "    <tr>\n",
       "      <th>201</th>\n",
       "      <td>Turkmenistan</td>\n",
       "      <td>TM</td>\n",
       "      <td>POLYGON ((66.53774 37.36638, 66.51242 37.36166...</td>\n",
       "    </tr>\n",
       "    <tr>\n",
       "      <th>220</th>\n",
       "      <td>Lebanon</td>\n",
       "      <td>LB</td>\n",
       "      <td>POLYGON ((35.97277 34.6475, 36.03083 34.6325, ...</td>\n",
       "    </tr>\n",
       "    <tr>\n",
       "      <th>231</th>\n",
       "      <td>Israel</td>\n",
       "      <td>IL</td>\n",
       "      <td>POLYGON ((35.62364 33.24573, 35.63249 33.24637...</td>\n",
       "    </tr>\n",
       "    <tr>\n",
       "      <th>232</th>\n",
       "      <td>Libyan Arab Jamahiriya</td>\n",
       "      <td>LY</td>\n",
       "      <td>POLYGON ((25.15166 31.64694, 25.14805 31.64611...</td>\n",
       "    </tr>\n",
       "    <tr>\n",
       "      <th>234</th>\n",
       "      <td>Jordan</td>\n",
       "      <td>JO</td>\n",
       "      <td>POLYGON ((39.19674 32.15494, 39.07222 32.05778...</td>\n",
       "    </tr>\n",
       "    <tr>\n",
       "      <th>248</th>\n",
       "      <td>Saudi Arabia</td>\n",
       "      <td>SA</td>\n",
       "      <td>MULTIPOLYGON (((41.945 16.71083, 41.95777 16.7...</td>\n",
       "    </tr>\n",
       "  </tbody>\n",
       "</table>\n",
       "</div>"
      ],
      "text/plain": [
       "                           name iso_3166_1_alpha_2_codes  \\\n",
       "1                    Uzbekistan                       UZ   \n",
       "10                   Kazakhstan                       KZ   \n",
       "18                      Morocco                       MA   \n",
       "60                       Kuwait                       KW   \n",
       "64   Iran (Islamic Republic of)                       IR   \n",
       "71         Syrian Arab Republic                       SY   \n",
       "105                       Egypt                       EG   \n",
       "131                     Tunisia                       TN   \n",
       "158                     Algeria                       DZ   \n",
       "172                        Iraq                       IQ   \n",
       "201                Turkmenistan                       TM   \n",
       "220                     Lebanon                       LB   \n",
       "231                      Israel                       IL   \n",
       "232      Libyan Arab Jamahiriya                       LY   \n",
       "234                      Jordan                       JO   \n",
       "248                Saudi Arabia                       SA   \n",
       "\n",
       "                                              geometry  \n",
       "1    POLYGON ((70.97081 42.25467, 70.98054 42.26205...  \n",
       "10   POLYGON ((87.3482 49.09262, 87.31638 49.09777,...  \n",
       "18   POLYGON ((-2.94694 35.32916, -2.96618 35.31663...  \n",
       "60   MULTIPOLYGON (((48.22832 29.59528, 48.20277 29...  \n",
       "64   MULTIPOLYGON (((55.73499 26.83805, 55.73166 26...  \n",
       "71   POLYGON ((42.35562 37.10693, 42.37833 37.07206...  \n",
       "105  POLYGON ((34.21666 31.32333, 34.23917 31.29472...  \n",
       "131  MULTIPOLYGON (((10.99361 33.75, 10.93778 33.72...  \n",
       "158  POLYGON ((8.62203 36.94137, 8.63222 36.88194, ...  \n",
       "172  POLYGON ((44.78734 37.14971, 44.76617 37.11228...  \n",
       "201  POLYGON ((66.53774 37.36638, 66.51242 37.36166...  \n",
       "220  POLYGON ((35.97277 34.6475, 36.03083 34.6325, ...  \n",
       "231  POLYGON ((35.62364 33.24573, 35.63249 33.24637...  \n",
       "232  POLYGON ((25.15166 31.64694, 25.14805 31.64611...  \n",
       "234  POLYGON ((39.19674 32.15494, 39.07222 32.05778...  \n",
       "248  MULTIPOLYGON (((41.945 16.71083, 41.95777 16.7...  "
      ]
     },
     "execution_count": 216,
     "metadata": {},
     "output_type": "execute_result"
    }
   ],
   "source": [
    "european_border_map_df"
   ]
  },
  {
   "cell_type": "markdown",
   "id": "8e5ca40b-5e37-4f06-bb20-580087fbdb21",
   "metadata": {},
   "source": [
    "## Set Values"
   ]
  },
  {
   "cell_type": "code",
   "execution_count": 217,
   "id": "20d9a1f1-67c1-47cb-9373-13a759598f06",
   "metadata": {},
   "outputs": [],
   "source": [
    "european_border_map_df.at[1, \"LIFE_EXPECTANCY\"] = 74.65\n",
    "european_border_map_df.at[10, \"LIFE_EXPECTANCY\"] = 71.61\n",
    "european_border_map_df.at[18, \"LIFE_EXPECTANCY\"] = 75.15\n",
    "european_border_map_df.at[60, \"LIFE_EXPECTANCY\"] = 80.26\n",
    "european_border_map_df.at[64, \"LIFE_EXPECTANCY\"] = 74.82\n",
    "european_border_map_df.at[71, \"LIFE_EXPECTANCY\"] = 70.41\n",
    "european_border_map_df.at[105, \"LIFE_EXPECTANCY\"] = 72.38\n",
    "european_border_map_df.at[131, \"LIFE_EXPECTANCY\"] = 75.55\n",
    "european_border_map_df.at[158, \"LIFE_EXPECTANCY\"] = 78.18\n",
    "european_border_map_df.at[172, \"LIFE_EXPECTANCY\"] = 72.11\n",
    "european_border_map_df.at[201, \"LIFE_EXPECTANCY\"] = 71.39\n",
    "european_border_map_df.at[220, \"LIFE_EXPECTANCY\"] = 74.42\n",
    "european_border_map_df.at[231, \"LIFE_EXPECTANCY\"] = 82.60\n",
    "european_border_map_df.at[232, \"LIFE_EXPECTANCY\"] = 72.15\n",
    "european_border_map_df.at[234, \"LIFE_EXPECTANCY\"] = 73.43\n",
    "european_border_map_df.at[248, \"LIFE_EXPECTANCY\"] = 77.91"
   ]
  },
  {
   "cell_type": "code",
   "execution_count": 218,
   "id": "5bf7dbfc-6a0e-473e-b5aa-55ff6b4eea60",
   "metadata": {},
   "outputs": [],
   "source": [
    "european_border_map_df.at[1, \"HDI\"] = 0.814\n",
    "european_border_map_df.at[10, \"HDI\"] = 0.816\n",
    "european_border_map_df.at[18, \"HDI\"] = 0.717\n",
    "european_border_map_df.at[60, \"HDI\"] = 0.845\n",
    "european_border_map_df.at[64, \"HDI\"] = 0.817\n",
    "european_border_map_df.at[71, \"HDI\"] = 0.595\n",
    "european_border_map_df.at[105, \"HDI\"] = 0.777\n",
    "european_border_map_df.at[131, \"HDI\"] = 0.777\n",
    "european_border_map_df.at[158, \"HDI\"] = 0.766\n",
    "european_border_map_df.at[172, \"HDI\"] = 0.689\n",
    "european_border_map_df.at[201, \"HDI\"] = 0.800\n",
    "european_border_map_df.at[220, \"HDI\"] = 0.693\n",
    "european_border_map_df.at[231, \"HDI\"] = 0.915\n",
    "european_border_map_df.at[232, \"HDI\"] = 0.751\n",
    "european_border_map_df.at[234, \"HDI\"] = 0.753\n",
    "european_border_map_df.at[248, \"HDI\"] = 0.899"
   ]
  },
  {
   "cell_type": "code",
   "execution_count": 219,
   "id": "56e93bb9-0ef0-4a1b-aa8a-5f751bee3649",
   "metadata": {},
   "outputs": [],
   "source": [
    "european_border_map_df = european_border_map_df.rename(\n",
    "    columns={\"iso_3166_1_alpha_2_codes\": \"ISO2\"}\n",
    ")"
   ]
  },
  {
   "cell_type": "code",
   "execution_count": 220,
   "id": "17585209-bb0f-4372-a7a9-8b7c90924586",
   "metadata": {},
   "outputs": [],
   "source": [
    "european_border_map_df = european_border_map_df[\n",
    "    [\"ISO2\", \"LIFE_EXPECTANCY\", \"HDI\", \"geometry\"]\n",
    "]\n",
    "europe_df = europe_df[[\"ISO2\", \"LIFE_EXPECTANCY\", \"HDI\", \"geometry\"]]"
   ]
  },
  {
   "cell_type": "markdown",
   "id": "58eed3ef-3ced-42d8-aa2c-126fa2f674cf",
   "metadata": {},
   "source": [
    "## Merge data"
   ]
  },
  {
   "cell_type": "code",
   "execution_count": 221,
   "id": "a72f521a-2aef-48a9-a061-af80cd881566",
   "metadata": {},
   "outputs": [],
   "source": [
    "merged_df = pd.concat([european_border_map_df, europe_df])"
   ]
  },
  {
   "cell_type": "code",
   "execution_count": 222,
   "id": "b7ec7cf9-de41-46ed-a695-34de93bd5b2d",
   "metadata": {},
   "outputs": [
    {
     "data": {
      "text/html": [
       "<div>\n",
       "<style scoped>\n",
       "    .dataframe tbody tr th:only-of-type {\n",
       "        vertical-align: middle;\n",
       "    }\n",
       "\n",
       "    .dataframe tbody tr th {\n",
       "        vertical-align: top;\n",
       "    }\n",
       "\n",
       "    .dataframe thead th {\n",
       "        text-align: right;\n",
       "    }\n",
       "</style>\n",
       "<table border=\"1\" class=\"dataframe\">\n",
       "  <thead>\n",
       "    <tr style=\"text-align: right;\">\n",
       "      <th></th>\n",
       "      <th>ISO2</th>\n",
       "      <th>LIFE_EXPECTANCY</th>\n",
       "      <th>HDI</th>\n",
       "      <th>geometry</th>\n",
       "    </tr>\n",
       "  </thead>\n",
       "  <tbody>\n",
       "    <tr>\n",
       "      <th>45</th>\n",
       "      <td>RU</td>\n",
       "      <td>78.2</td>\n",
       "      <td>0.94</td>\n",
       "      <td>MULTIPOLYGON (((21.36335 55.28687, 21.39076 55...</td>\n",
       "    </tr>\n",
       "  </tbody>\n",
       "</table>\n",
       "</div>"
      ],
      "text/plain": [
       "   ISO2  LIFE_EXPECTANCY   HDI  \\\n",
       "45   RU             78.2  0.94   \n",
       "\n",
       "                                             geometry  \n",
       "45  MULTIPOLYGON (((21.36335 55.28687, 21.39076 55...  "
      ]
     },
     "execution_count": 222,
     "metadata": {},
     "output_type": "execute_result"
    }
   ],
   "source": [
    "russia_geography = world_df[world_df[\"iso_3166_1_alpha_2_codes\"] == \"RU\"][\n",
    "    \"geometry\"\n",
    "].iloc[0]\n",
    "merged_df[merged_df[\"ISO2\"] == \"RU\"]"
   ]
  },
  {
   "cell_type": "code",
   "execution_count": 223,
   "id": "b23dc77f-1f87-4aa1-b210-ad6a5d546b97",
   "metadata": {},
   "outputs": [],
   "source": [
    "merged_df.at[45, \"geometry\"] = russia_geography"
   ]
  },
  {
   "cell_type": "code",
   "execution_count": 224,
   "id": "0846c5e7-9f88-4b67-9b3d-4eeff8d1561b",
   "metadata": {},
   "outputs": [
    {
     "data": {
      "text/plain": [
       "1     74.65\n",
       "10    71.61\n",
       "18    75.15\n",
       "60    80.26\n",
       "64    74.82\n",
       "      ...  \n",
       "41    78.89\n",
       "42    83.71\n",
       "43    68.56\n",
       "44    74.14\n",
       "45    78.20\n",
       "Name: LIFE_EXPECTANCY, Length: 62, dtype: float64"
      ]
     },
     "execution_count": 224,
     "metadata": {},
     "output_type": "execute_result"
    }
   ],
   "source": [
    "merged_df[\"LIFE_EXPECTANCY\"]"
   ]
  },
  {
   "cell_type": "code",
   "execution_count": 226,
   "id": "335348fc-e5e9-4504-ba41-376632a90144",
   "metadata": {},
   "outputs": [],
   "source": [
    "merged_df.to_file(\"data/hdi.gpkg\")"
   ]
  },
  {
   "cell_type": "code",
   "execution_count": null,
   "id": "a045a7ce-19e4-4f8c-ac65-1c8868bd35ed",
   "metadata": {},
   "outputs": [],
   "source": []
  }
 ],
 "metadata": {
  "kernelspec": {
   "display_name": "Python 3 (ipykernel)",
   "language": "python",
   "name": "python3"
  },
  "language_info": {
   "codemirror_mode": {
    "name": "ipython",
    "version": 3
   },
   "file_extension": ".py",
   "mimetype": "text/x-python",
   "name": "python",
   "nbconvert_exporter": "python",
   "pygments_lexer": "ipython3",
   "version": "3.11.10"
  }
 },
 "nbformat": 4,
 "nbformat_minor": 5
}
