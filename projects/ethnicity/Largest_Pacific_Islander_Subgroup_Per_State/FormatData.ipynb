{
 "cells": [
  {
   "cell_type": "code",
   "execution_count": 1,
   "id": "34096667-a395-48d3-be7d-d2dfa7378003",
   "metadata": {},
   "outputs": [],
   "source": [
    "import requests"
   ]
  },
  {
   "cell_type": "code",
   "execution_count": 2,
   "id": "c4323fb2-1721-463e-8602-d1c3302ff523",
   "metadata": {},
   "outputs": [],
   "source": [
    "import geopandas as gpd\n",
    "import pandas as pd"
   ]
  },
  {
   "cell_type": "markdown",
   "id": "7bfd8f31-eada-447d-af06-da8a94290c02",
   "metadata": {},
   "source": [
    "## Open State data"
   ]
  },
  {
   "cell_type": "code",
   "execution_count": 3,
   "id": "5fadd853-8ad5-4832-976a-4d251d5a794b",
   "metadata": {},
   "outputs": [],
   "source": [
    "file_path = \"data/cb_2018_us_state_500k/cb_2018_us_state_500k.shp\"\n",
    "states_df = gpd.read_file(file_path)"
   ]
  },
  {
   "cell_type": "markdown",
   "id": "2246428d-fae0-4af8-97d2-96519e1527e2",
   "metadata": {},
   "source": [
    "## Get Asian Data"
   ]
  },
  {
   "cell_type": "code",
   "execution_count": 4,
   "id": "9c93f0e3-339f-4d54-b5a1-15534c56d929",
   "metadata": {},
   "outputs": [],
   "source": [
    "table = \"B02015\"\n",
    "\n",
    "url = \"https://api.census.gov/data/2023/acs/acs5\"\n",
    "params = {\n",
    "    \"get\": f\"group({table})\",\n",
    "    \"ucgid\": \"pseudo(0100000US$0400000)\",\n",
    "}\n",
    "response = requests.get(url, params=params)"
   ]
  },
  {
   "cell_type": "code",
   "execution_count": 5,
   "id": "f0762979-d348-443e-8129-31827909a262",
   "metadata": {},
   "outputs": [],
   "source": [
    "data = response.json()\n",
    "columns = data[0]\n",
    "rows = data[1:]\n",
    "asian_df = pd.DataFrame(rows, columns=columns)"
   ]
  },
  {
   "cell_type": "code",
   "execution_count": 7,
   "id": "16265ed0-52cd-4040-a20d-ff1a4343e42b",
   "metadata": {},
   "outputs": [],
   "source": [
    "url = \"https://api.census.gov/data/2023/acs/acs5/variables.json\"\n",
    "response = requests.get(url)\n",
    "variables = response.json()[\"variables\"]"
   ]
  },
  {
   "cell_type": "code",
   "execution_count": 8,
   "id": "fb2aeaab-4d25-4eab-8068-4ce81801b1ad",
   "metadata": {},
   "outputs": [],
   "source": [
    "b02015_vars = {k: v[\"label\"] for k, v in variables.items() if k.startswith(\"B02015\")}\n",
    "b02015_vars[\"ucgid\"] = \"AFFGEOID\""
   ]
  },
  {
   "cell_type": "code",
   "execution_count": 9,
   "id": "1d6e01d7-95e5-4135-acec-7ba07d7bbb36",
   "metadata": {},
   "outputs": [],
   "source": [
    "asian_df = asian_df.rename(columns=b02015_vars)\n",
    "asian_df = asian_df[list(b02015_vars.values())]"
   ]
  },
  {
   "cell_type": "code",
   "execution_count": 10,
   "id": "fccde405-fa0f-44f8-98ee-646a80bfec68",
   "metadata": {},
   "outputs": [],
   "source": [
    "rename_dict = {\n",
    "    col: col.split(\"!!\")[-1]\n",
    "    for col in asian_df.columns\n",
    "    if col.startswith(\"Estimate!!Total\")\n",
    "}\n",
    "asian_df.rename(columns=rename_dict, inplace=True)"
   ]
  },
  {
   "cell_type": "code",
   "execution_count": 11,
   "id": "82fbc0bb-0433-486b-9df9-ca23baa09de0",
   "metadata": {},
   "outputs": [],
   "source": [
    "ethnicity_cols = list(rename_dict.values())\n",
    "asian_df[ethnicity_cols] = asian_df[ethnicity_cols].astype(int)"
   ]
  },
  {
   "cell_type": "code",
   "execution_count": 12,
   "id": "ce1ccf91-edcf-4ba3-a08e-c2631cbfb4f8",
   "metadata": {},
   "outputs": [],
   "source": [
    "ethnicity_cols.remove(\"Total:\")"
   ]
  },
  {
   "cell_type": "code",
   "execution_count": 13,
   "id": "22b49e22-f212-4d4a-9717-63c9891ee3ef",
   "metadata": {},
   "outputs": [],
   "source": [
    "asian_df[\"ancestry_countries\"] = asian_df[ethnicity_cols].idxmax(axis=1)"
   ]
  },
  {
   "cell_type": "markdown",
   "id": "ea0435b2-f5f4-4186-853b-615f63cc50aa",
   "metadata": {},
   "source": [
    "## Merge Data"
   ]
  },
  {
   "cell_type": "code",
   "execution_count": 15,
   "id": "741bc565-ebfc-42ba-a794-913e31d2ea26",
   "metadata": {},
   "outputs": [],
   "source": [
    "asian_gdf = states_df.merge(asian_df, on=\"AFFGEOID\", how=\"inner\")"
   ]
  },
  {
   "cell_type": "code",
   "execution_count": 17,
   "id": "ae923604-fd11-4c7d-a480-4f53abaeafbc",
   "metadata": {},
   "outputs": [],
   "source": [
    "asian_gdf = asian_gdf.to_crs(9311)\n",
    "asian_gdf.to_file(\"data/asians_group_per_state.gpkg\")"
   ]
  },
  {
   "cell_type": "code",
   "execution_count": 18,
   "id": "e05f8aae-9b3e-488c-b776-2967596dbde3",
   "metadata": {},
   "outputs": [
    {
     "data": {
      "text/plain": [
       "ancestry_countries\n",
       "Asian Indian                 28\n",
       "Chinese, except Taiwanese    11\n",
       "Filipino                      7\n",
       "Hmong                         2\n",
       "Vietnamese                    4\n",
       "dtype: int64"
      ]
     },
     "execution_count": 18,
     "metadata": {},
     "output_type": "execute_result"
    }
   ],
   "source": [
    "asian_df.groupby(\"ancestry_countries\").size()"
   ]
  },
  {
   "cell_type": "code",
   "execution_count": null,
   "id": "33f2a4fc-9c74-4ec1-bb7e-31583c897569",
   "metadata": {},
   "outputs": [],
   "source": []
  }
 ],
 "metadata": {
  "kernelspec": {
   "display_name": "Python 3 (ipykernel)",
   "language": "python",
   "name": "python3"
  },
  "language_info": {
   "codemirror_mode": {
    "name": "ipython",
    "version": 3
   },
   "file_extension": ".py",
   "mimetype": "text/x-python",
   "name": "python",
   "nbconvert_exporter": "python",
   "pygments_lexer": "ipython3",
   "version": "3.11.11"
  }
 },
 "nbformat": 4,
 "nbformat_minor": 5
}
