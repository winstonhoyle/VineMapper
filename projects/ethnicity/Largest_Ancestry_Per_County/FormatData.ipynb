{
 "cells": [
  {
   "cell_type": "code",
   "execution_count": 11,
   "id": "f5dc55d8-9a6c-4f58-a1dd-766d38c72033",
   "metadata": {},
   "outputs": [],
   "source": [
    "import requests\n",
    "from functools import reduce"
   ]
  },
  {
   "cell_type": "code",
   "execution_count": 12,
   "id": "c4323fb2-1721-463e-8602-d1c3302ff523",
   "metadata": {},
   "outputs": [],
   "source": [
    "import numpy as np\n",
    "import geopandas as gpd\n",
    "import pandas as pd"
   ]
  },
  {
   "cell_type": "code",
   "execution_count": 13,
   "id": "e56195d0-68d6-4637-91d7-444e78c5289f",
   "metadata": {},
   "outputs": [],
   "source": [
    "from tqdm.notebook import tqdm"
   ]
  },
  {
   "cell_type": "markdown",
   "id": "7bfd8f31-eada-447d-af06-da8a94290c02",
   "metadata": {},
   "source": [
    "## Open State data"
   ]
  },
  {
   "cell_type": "code",
   "execution_count": 15,
   "id": "5fadd853-8ad5-4832-976a-4d251d5a794b",
   "metadata": {},
   "outputs": [],
   "source": [
    "file_path = \"data/cb_2024_us_county_500k/cb_2024_us_county_500k.shp\"\n",
    "counties_gdf = gpd.read_file(file_path)"
   ]
  },
  {
   "cell_type": "markdown",
   "id": "74b55cfa-2db3-4a7c-bd04-0b341757effe",
   "metadata": {},
   "source": [
    "## Get Ethnic Data"
   ]
  },
  {
   "cell_type": "code",
   "execution_count": 16,
   "id": "3992f69b-d2c6-4058-879b-b3df9efd2c6a",
   "metadata": {},
   "outputs": [],
   "source": [
    "r = requests.get(\"https://api.census.gov/data/2023/acs/acs5/groups/B04006.json\")\n",
    "columns_obj = r.json()"
   ]
  },
  {
   "cell_type": "code",
   "execution_count": 17,
   "id": "4bbc102d-663a-4142-9d69-4e9b831f764e",
   "metadata": {},
   "outputs": [],
   "source": [
    "columns = []\n",
    "rename_vars = {}\n",
    "variables = columns_obj[\"variables\"]\n",
    "for name, variable in list(variables.items()):\n",
    "    v_split = variable[\"label\"].split(\"!!\")\n",
    "\n",
    "    if v_split[0] == \"Estimate\":\n",
    "        label = v_split[-1]\n",
    "        rename_vars[name] = label\n",
    "\n",
    "    if name.endswith(\"EA\") or name.endswith(\"MA\") or name == \"GEO_ID\":\n",
    "        continue\n",
    "    else:\n",
    "        columns.append(name)"
   ]
  },
  {
   "cell_type": "code",
   "execution_count": 18,
   "id": "e278f6a7-dba2-4872-89f5-b86e04e0afd4",
   "metadata": {},
   "outputs": [
    {
     "data": {
      "application/vnd.jupyter.widget-view+json": {
       "model_id": "d104650c4d3f41419ecd6f554a681b54",
       "version_major": 2,
       "version_minor": 0
      },
      "text/plain": [
       "Requesting data in batches:   0%|          | 0/5 [00:00<?, ?it/s]"
      ]
     },
     "metadata": {},
     "output_type": "display_data"
    }
   ],
   "source": [
    "dfs = []\n",
    "for i in tqdm(range(0, len(columns), 49), desc=\"Requesting data in batches\"):\n",
    "    columns_with_geoid = columns[i : i + 49]\n",
    "    columns_with_geoid.append(\"GEO_ID\")\n",
    "    columns_formatted = \",\".join(columns_with_geoid)\n",
    "    url = f\"https://api.census.gov/data/2023/acs/acs5?get={columns_formatted}&for=county:*\"\n",
    "    response = requests.get(url)\n",
    "    data = response.json()\n",
    "    df = pd.DataFrame(data[1:], columns=data[0])\n",
    "\n",
    "    df = df.drop(columns=[\"state\", \"county\"], errors=\"ignore\")\n",
    "    dfs.append(df)"
   ]
  },
  {
   "cell_type": "code",
   "execution_count": 35,
   "id": "867092b1-8c11-43d8-8049-926a794b467b",
   "metadata": {},
   "outputs": [],
   "source": [
    "df = reduce(lambda left, right: pd.merge(left, right, on=\"GEO_ID\", how=\"inner\"), dfs)"
   ]
  },
  {
   "cell_type": "code",
   "execution_count": 36,
   "id": "58375434-537d-42c8-80d4-adc9aa0e0dff",
   "metadata": {},
   "outputs": [],
   "source": [
    "df = df.replace(np.nan, 0)"
   ]
  },
  {
   "cell_type": "code",
   "execution_count": 37,
   "id": "435c70e6-2b55-4014-bb31-7073db1b164c",
   "metadata": {},
   "outputs": [],
   "source": [
    "estimate_cols = [col for col in df.columns if col.endswith(\"E\") and col != \"NAME\"]"
   ]
  },
  {
   "cell_type": "code",
   "execution_count": 38,
   "id": "e0d8ca30-3a61-4fc7-a792-0f23f6cdc1f2",
   "metadata": {},
   "outputs": [],
   "source": [
    "formtted_df = df[[\"GEO_ID\", *estimate_cols]]\n",
    "formtted_df = formtted_df.drop(columns=[\"NAME\"], errors=\"ignore\")"
   ]
  },
  {
   "cell_type": "code",
   "execution_count": 39,
   "id": "b207c47d-d007-4d5e-90c6-0b02ae60ce88",
   "metadata": {
    "scrolled": true
   },
   "outputs": [],
   "source": [
    "formtted_df[estimate_cols] = formtted_df[estimate_cols].astype(int)"
   ]
  },
  {
   "cell_type": "code",
   "execution_count": 40,
   "id": "4d55a7ac-63c8-4740-a92d-8dbb14eea893",
   "metadata": {},
   "outputs": [
    {
     "name": "stderr",
     "output_type": "stream",
     "text": [
      "/tmp/ipykernel_56202/2831922844.py:1: PerformanceWarning: DataFrame is highly fragmented.  This is usually the result of calling `frame.insert` many times, which has poor performance.  Consider joining all columns at once using pd.concat(axis=1) instead. To get a de-fragmented frame, use `newframe = frame.copy()`\n",
      "  formtted_df[\"most_common_ancestry_raw\"] = formtted_df[[col for col in estimate_cols if col not in ['B04006_001E','B04006_108E', 'B04006_109E']]].idxmax(axis=1)\n"
     ]
    }
   ],
   "source": [
    "formtted_df[\"most_common_ancestry_raw\"] = formtted_df[\n",
    "    [\n",
    "        col\n",
    "        for col in estimate_cols\n",
    "        if col not in [\"B04006_001E\", \"B04006_108E\", \"B04006_109E\"]\n",
    "    ]\n",
    "].idxmax(axis=1)"
   ]
  },
  {
   "cell_type": "code",
   "execution_count": 41,
   "id": "8c7dfd72-92db-43ae-bded-0256ae0b318d",
   "metadata": {},
   "outputs": [
    {
     "data": {
      "text/plain": [
       "0       B04006_036E\n",
       "1       B04006_005E\n",
       "2       B04006_005E\n",
       "3       B04006_005E\n",
       "4       B04006_036E\n",
       "           ...     \n",
       "3217    B04006_005E\n",
       "3218    B04006_005E\n",
       "3219    B04006_005E\n",
       "3220    B04006_005E\n",
       "3221    B04006_005E\n",
       "Name: most_common_ancestry_raw, Length: 3222, dtype: object"
      ]
     },
     "execution_count": 41,
     "metadata": {},
     "output_type": "execute_result"
    }
   ],
   "source": [
    "formtted_df[\"most_common_ancestry_raw\"]"
   ]
  },
  {
   "cell_type": "code",
   "execution_count": 42,
   "id": "384ce50b-35dd-4cdf-9cb0-cc9e5540bcc4",
   "metadata": {},
   "outputs": [],
   "source": [
    "def check_margin_error(row) -> str:\n",
    "    geo_id = row[\"GEO_ID\"]\n",
    "    ethnicity_col = row[\"most_common_ancestry_raw\"]\n",
    "    val = row[ethnicity_col]\n",
    "\n",
    "    if not val:\n",
    "        return None\n",
    "\n",
    "    moe_col = ethnicity_col.replace(\"E\", \"M\")\n",
    "    moe_val = int(df[df[\"GEO_ID\"] == geo_id][moe_col])\n",
    "\n",
    "    rmoe_val = abs(moe_val / val)\n",
    "    if rmoe_val < 0.10:\n",
    "        return variables[ethnicity_col][\"label\"].split(\"!!\")[-1]\n",
    "    else:\n",
    "        return None"
   ]
  },
  {
   "cell_type": "code",
   "execution_count": 43,
   "id": "6e534ec3-3772-409d-b4c3-b14c64d1dc38",
   "metadata": {},
   "outputs": [
    {
     "name": "stderr",
     "output_type": "stream",
     "text": [
      "/tmp/ipykernel_56202/1256534131.py:10: FutureWarning: Calling int on a single element Series is deprecated and will raise a TypeError in the future. Use int(ser.iloc[0]) instead\n",
      "  moe_val = int(df[df[\"GEO_ID\"] == geo_id][moe_col])\n",
      "/tmp/ipykernel_56202/2401641906.py:1: PerformanceWarning: DataFrame is highly fragmented.  This is usually the result of calling `frame.insert` many times, which has poor performance.  Consider joining all columns at once using pd.concat(axis=1) instead. To get a de-fragmented frame, use `newframe = frame.copy()`\n",
      "  formtted_df[\"most_common_ancestry\"] = formtted_df.apply(\n"
     ]
    }
   ],
   "source": [
    "formtted_df[\"most_common_ancestry\"] = formtted_df.apply(\n",
    "    lambda row: check_margin_error(row), axis=1\n",
    ")"
   ]
  },
  {
   "cell_type": "code",
   "execution_count": 44,
   "id": "5803c194-059d-4e39-8c7d-f23999d19fd6",
   "metadata": {},
   "outputs": [],
   "source": [
    "rename_vars[\"GEO_ID\"] = \"GEOIDFQ\"\n",
    "formtted_df = formtted_df.rename(columns=rename_vars)"
   ]
  },
  {
   "cell_type": "code",
   "execution_count": 46,
   "id": "81d3a71f-6fdb-4d5f-b99e-1eab83305f81",
   "metadata": {},
   "outputs": [
    {
     "data": {
      "text/html": [
       "<div>\n",
       "<style scoped>\n",
       "    .dataframe tbody tr th:only-of-type {\n",
       "        vertical-align: middle;\n",
       "    }\n",
       "\n",
       "    .dataframe tbody tr th {\n",
       "        vertical-align: top;\n",
       "    }\n",
       "\n",
       "    .dataframe thead th {\n",
       "        text-align: right;\n",
       "    }\n",
       "</style>\n",
       "<table border=\"1\" class=\"dataframe\">\n",
       "  <thead>\n",
       "    <tr style=\"text-align: right;\">\n",
       "      <th></th>\n",
       "      <th>most_common_ancestry</th>\n",
       "      <th>COUNT</th>\n",
       "    </tr>\n",
       "  </thead>\n",
       "  <tbody>\n",
       "    <tr>\n",
       "      <th>5</th>\n",
       "      <td>German</td>\n",
       "      <td>908</td>\n",
       "    </tr>\n",
       "    <tr>\n",
       "      <th>2</th>\n",
       "      <td>English</td>\n",
       "      <td>183</td>\n",
       "    </tr>\n",
       "    <tr>\n",
       "      <th>6</th>\n",
       "      <td>Irish</td>\n",
       "      <td>69</td>\n",
       "    </tr>\n",
       "    <tr>\n",
       "      <th>0</th>\n",
       "      <td>American</td>\n",
       "      <td>57</td>\n",
       "    </tr>\n",
       "    <tr>\n",
       "      <th>7</th>\n",
       "      <td>Italian</td>\n",
       "      <td>28</td>\n",
       "    </tr>\n",
       "    <tr>\n",
       "      <th>4</th>\n",
       "      <td>French (except Basque)</td>\n",
       "      <td>11</td>\n",
       "    </tr>\n",
       "    <tr>\n",
       "      <th>8</th>\n",
       "      <td>Norwegian</td>\n",
       "      <td>8</td>\n",
       "    </tr>\n",
       "    <tr>\n",
       "      <th>12</th>\n",
       "      <td>West Indian (except Hispanic groups):</td>\n",
       "      <td>6</td>\n",
       "    </tr>\n",
       "    <tr>\n",
       "      <th>1</th>\n",
       "      <td>Dutch</td>\n",
       "      <td>3</td>\n",
       "    </tr>\n",
       "    <tr>\n",
       "      <th>3</th>\n",
       "      <td>Finnish</td>\n",
       "      <td>2</td>\n",
       "    </tr>\n",
       "    <tr>\n",
       "      <th>9</th>\n",
       "      <td>Polish</td>\n",
       "      <td>1</td>\n",
       "    </tr>\n",
       "    <tr>\n",
       "      <th>10</th>\n",
       "      <td>Portuguese</td>\n",
       "      <td>1</td>\n",
       "    </tr>\n",
       "    <tr>\n",
       "      <th>11</th>\n",
       "      <td>Subsaharan African:</td>\n",
       "      <td>1</td>\n",
       "    </tr>\n",
       "  </tbody>\n",
       "</table>\n",
       "</div>"
      ],
      "text/plain": [
       "                     most_common_ancestry  COUNT\n",
       "5                                  German    908\n",
       "2                                 English    183\n",
       "6                                   Irish     69\n",
       "0                                American     57\n",
       "7                                 Italian     28\n",
       "4                  French (except Basque)     11\n",
       "8                               Norwegian      8\n",
       "12  West Indian (except Hispanic groups):      6\n",
       "1                                   Dutch      3\n",
       "3                                 Finnish      2\n",
       "9                                  Polish      1\n",
       "10                             Portuguese      1\n",
       "11                    Subsaharan African:      1"
      ]
     },
     "execution_count": 46,
     "metadata": {},
     "output_type": "execute_result"
    }
   ],
   "source": [
    "formtted_df.groupby(\"most_common_ancestry\").size().reset_index(\n",
    "    name=\"COUNT\"\n",
    ").sort_values(\"COUNT\", ascending=False)"
   ]
  },
  {
   "cell_type": "code",
   "execution_count": 50,
   "id": "915b70bc-a0c9-4c79-9d68-a36651993dbd",
   "metadata": {},
   "outputs": [
    {
     "data": {
      "text/html": [
       "<div>\n",
       "<style scoped>\n",
       "    .dataframe tbody tr th:only-of-type {\n",
       "        vertical-align: middle;\n",
       "    }\n",
       "\n",
       "    .dataframe tbody tr th {\n",
       "        vertical-align: top;\n",
       "    }\n",
       "\n",
       "    .dataframe thead th {\n",
       "        text-align: right;\n",
       "    }\n",
       "</style>\n",
       "<table border=\"1\" class=\"dataframe\">\n",
       "  <thead>\n",
       "    <tr style=\"text-align: right;\">\n",
       "      <th></th>\n",
       "      <th>GEOIDFQ</th>\n",
       "      <th>Jordanian</th>\n",
       "      <th>Iraqi</th>\n",
       "      <th>Egyptian</th>\n",
       "      <th>Total:</th>\n",
       "      <th>Arab:</th>\n",
       "      <th>American</th>\n",
       "      <th>Alsatian</th>\n",
       "      <th>Albanian</th>\n",
       "      <th>Afghan</th>\n",
       "      <th>...</th>\n",
       "      <th>West Indian</th>\n",
       "      <th>U.S. Virgin Islander</th>\n",
       "      <th>Trinidadian and Tobagonian</th>\n",
       "      <th>Unclassified or not reported</th>\n",
       "      <th>Other groups</th>\n",
       "      <th>Jamaican</th>\n",
       "      <th>Haitian</th>\n",
       "      <th>Dutch West Indian</th>\n",
       "      <th>most_common_ancestry_raw</th>\n",
       "      <th>most_common_ancestry</th>\n",
       "    </tr>\n",
       "  </thead>\n",
       "  <tbody>\n",
       "    <tr>\n",
       "      <th>1210</th>\n",
       "      <td>0500000US24033</td>\n",
       "      <td>182</td>\n",
       "      <td>68</td>\n",
       "      <td>1454</td>\n",
       "      <td>955584</td>\n",
       "      <td>4041</td>\n",
       "      <td>26811</td>\n",
       "      <td>28</td>\n",
       "      <td>223</td>\n",
       "      <td>1747</td>\n",
       "      <td>...</td>\n",
       "      <td>3214</td>\n",
       "      <td>587</td>\n",
       "      <td>3707</td>\n",
       "      <td>188886</td>\n",
       "      <td>571799</td>\n",
       "      <td>16603</td>\n",
       "      <td>5598</td>\n",
       "      <td>8</td>\n",
       "      <td>B04006_073E</td>\n",
       "      <td>Subsaharan African:</td>\n",
       "    </tr>\n",
       "  </tbody>\n",
       "</table>\n",
       "<p>1 rows × 112 columns</p>\n",
       "</div>"
      ],
      "text/plain": [
       "             GEOIDFQ  Jordanian  Iraqi  Egyptian  Total:  Arab:  American  \\\n",
       "1210  0500000US24033        182     68      1454  955584   4041     26811   \n",
       "\n",
       "      Alsatian  Albanian  Afghan  ...  West Indian  U.S. Virgin Islander  \\\n",
       "1210        28       223    1747  ...         3214                   587   \n",
       "\n",
       "      Trinidadian and Tobagonian  Unclassified or not reported  Other groups  \\\n",
       "1210                        3707                        188886        571799   \n",
       "\n",
       "      Jamaican  Haitian  Dutch West Indian  most_common_ancestry_raw  \\\n",
       "1210     16603     5598                  8               B04006_073E   \n",
       "\n",
       "      most_common_ancestry  \n",
       "1210   Subsaharan African:  \n",
       "\n",
       "[1 rows x 112 columns]"
      ]
     },
     "execution_count": 50,
     "metadata": {},
     "output_type": "execute_result"
    }
   ],
   "source": [
    "formtted_df[formtted_df[\"most_common_ancestry\"] == \"Subsaharan African:\"]"
   ]
  },
  {
   "cell_type": "markdown",
   "id": "ea0435b2-f5f4-4186-853b-615f63cc50aa",
   "metadata": {},
   "source": [
    "## Merge Data"
   ]
  },
  {
   "cell_type": "code",
   "execution_count": 47,
   "id": "9077a78f-6455-4082-9ae1-72cacf30cfc7",
   "metadata": {},
   "outputs": [],
   "source": [
    "gdf = counties_gdf.merge(formtted_df, on=\"GEOIDFQ\", how=\"inner\")"
   ]
  },
  {
   "cell_type": "code",
   "execution_count": 48,
   "id": "335e5a07-6df8-46bf-bc7d-1512019384fd",
   "metadata": {},
   "outputs": [],
   "source": [
    "gdf = gdf.to_crs(9311)\n",
    "gdf.to_file(\"data/Largest_Ancestry_Per_County.gpkg\")"
   ]
  },
  {
   "cell_type": "code",
   "execution_count": null,
   "id": "641fe6e8-a92d-407d-b49c-f85ac7139bbd",
   "metadata": {},
   "outputs": [],
   "source": []
  },
  {
   "cell_type": "code",
   "execution_count": null,
   "id": "2152005a-5780-4a3e-b702-d8d28aca1a6c",
   "metadata": {},
   "outputs": [],
   "source": []
  },
  {
   "cell_type": "code",
   "execution_count": null,
   "id": "85d8136a-afdb-447c-8ffa-c00c9841a226",
   "metadata": {},
   "outputs": [],
   "source": []
  }
 ],
 "metadata": {
  "kernelspec": {
   "display_name": "Python 3 (ipykernel)",
   "language": "python",
   "name": "python3"
  },
  "language_info": {
   "codemirror_mode": {
    "name": "ipython",
    "version": 3
   },
   "file_extension": ".py",
   "mimetype": "text/x-python",
   "name": "python",
   "nbconvert_exporter": "python",
   "pygments_lexer": "ipython3",
   "version": "3.11.13"
  }
 },
 "nbformat": 4,
 "nbformat_minor": 5
}
