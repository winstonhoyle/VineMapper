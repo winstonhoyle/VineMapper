{
 "cells": [
  {
   "cell_type": "code",
   "execution_count": 198,
   "id": "c4323fb2-1721-463e-8602-d1c3302ff523",
   "metadata": {},
   "outputs": [],
   "source": [
    "import geopandas as gpd\n",
    "import pandas as pd"
   ]
  },
  {
   "cell_type": "markdown",
   "id": "7bfd8f31-eada-447d-af06-da8a94290c02",
   "metadata": {},
   "source": [
    "## Open State data"
   ]
  },
  {
   "cell_type": "code",
   "execution_count": 199,
   "id": "5fadd853-8ad5-4832-976a-4d251d5a794b",
   "metadata": {},
   "outputs": [],
   "source": [
    "file_path = \"data/cb_2018_us_county_500k/cb_2018_us_county_500k.shp\"\n",
    "counties_gdf = gpd.read_file(file_path)\n",
    "counties_gdf = counties_gdf[counties_gdf[\"STATEFP\"] != \"09\"][[\"geometry\", \"AFFGEOID\"]]\n",
    "counties_gdf = counties_gdf.to_crs(4326)"
   ]
  },
  {
   "cell_type": "markdown",
   "id": "6f8d8f18-f40f-488f-bfc6-b1cd6acc6848",
   "metadata": {},
   "source": [
    "#### Format for CT"
   ]
  },
  {
   "cell_type": "code",
   "execution_count": 200,
   "id": "a78351e7-8bc5-4e11-a904-46694e277a8a",
   "metadata": {},
   "outputs": [],
   "source": [
    "ct_gdf = gpd.read_file(\"data/CT_Planning_Regions.geojson\")\n",
    "ct_gdf[\"AFFGEOID\"] = \"0500000US\" + ct_gdf[\"PlanningRegionFIPS_GEOID\"]"
   ]
  },
  {
   "cell_type": "code",
   "execution_count": 201,
   "id": "85222d5d-1a07-4295-96cd-7adfd3841375",
   "metadata": {},
   "outputs": [],
   "source": [
    "counties_gdf = pd.concat(\n",
    "    [ct_gdf[[\"geometry\", \"AFFGEOID\"]], counties_gdf], ignore_index=True\n",
    ")"
   ]
  },
  {
   "cell_type": "markdown",
   "id": "74b55cfa-2db3-4a7c-bd04-0b341757effe",
   "metadata": {},
   "source": [
    "## Get Ethnicity amounts"
   ]
  },
  {
   "cell_type": "code",
   "execution_count": 202,
   "id": "3992f69b-d2c6-4058-879b-b3df9efd2c6a",
   "metadata": {},
   "outputs": [],
   "source": [
    "acs_ethnicity = pd.read_csv(\n",
    "    \"data/ACSDT5Y2023.B04006_2025-05-02T185520/ACSDT5Y2023.B04006-Data.csv\",\n",
    "    low_memory=False,\n",
    ")"
   ]
  },
  {
   "cell_type": "markdown",
   "id": "882f6ea0-65a2-404e-8c20-4571501b5685",
   "metadata": {},
   "source": [
    "#### Get Column names"
   ]
  },
  {
   "cell_type": "code",
   "execution_count": 203,
   "id": "4a3b0141-aaf8-405a-bfd0-eef85e9d5b94",
   "metadata": {},
   "outputs": [],
   "source": [
    "acs_column_names = pd.read_csv(\n",
    "    \"data/ACSDT5Y2023.B04006_2025-05-02T185520/ACSDT5Y2023.B04006-Column-Metadata.csv\"\n",
    ")"
   ]
  },
  {
   "cell_type": "markdown",
   "id": "c156cb57-84a4-47fe-81d8-2691da36f9d8",
   "metadata": {},
   "source": [
    "#### Back to Data"
   ]
  },
  {
   "cell_type": "code",
   "execution_count": 204,
   "id": "e278f6a7-dba2-4872-89f5-b86e04e0afd4",
   "metadata": {},
   "outputs": [],
   "source": [
    "acs_ethnicity.columns = acs_ethnicity.iloc[0].str.lstrip().str.rstrip()\n",
    "acs_ethnicity_totals_df = acs_ethnicity[\n",
    "    acs_ethnicity.iloc[0][\n",
    "        acs_ethnicity.iloc[0].str.split(\"!!\").str[0] != \"Margin of Error\"\n",
    "    ].dropna()\n",
    "]\n",
    "acs_ethnicity_totals_df.columns = acs_ethnicity_totals_df.columns.str.split(\"!!\").str[\n",
    "    -1\n",
    "]\n",
    "acs_ethnicity_totals_df = acs_ethnicity_totals_df.iloc[1:]"
   ]
  },
  {
   "cell_type": "code",
   "execution_count": 205,
   "id": "867092b1-8c11-43d8-8049-926a794b467b",
   "metadata": {},
   "outputs": [],
   "source": [
    "acs_ethnicity_totals_df[\"state_id\"] = acs_ethnicity_totals_df[\"Geography\"].str[9:11]\n",
    "acs_ethnicity_totals_df = acs_ethnicity_totals_df[\n",
    "    ~acs_ethnicity_totals_df[\"state_id\"].isin([\"60\", \"66\", \"69\", \"72\", \"78\"])\n",
    "].reset_index(drop=True)"
   ]
  },
  {
   "cell_type": "code",
   "execution_count": 206,
   "id": "384ce50b-35dd-4cdf-9cb0-cc9e5540bcc4",
   "metadata": {},
   "outputs": [],
   "source": [
    "acs_ethnicity_totals_df[\"LARGEST_ANCESTRY\"] = (\n",
    "    acs_ethnicity_totals_df.loc[\n",
    "        :,\n",
    "        ~acs_ethnicity_totals_df.columns.isin(\n",
    "            [\n",
    "                \"state_id\",\n",
    "                \"Geography\",\n",
    "                \"Geographic Area Name\",\n",
    "                \"Total:\",\n",
    "                \"Unclassified or not reported\",\n",
    "                \"Other groups\",\n",
    "            ]\n",
    "        ),\n",
    "    ]\n",
    "    .astype(int)\n",
    "    .idxmax(axis=1)\n",
    ")"
   ]
  },
  {
   "cell_type": "code",
   "execution_count": 207,
   "id": "926d5dc3-6f14-40a4-8fd8-36d77ba519c7",
   "metadata": {},
   "outputs": [
    {
     "data": {
      "text/html": [
       "<div>\n",
       "<style scoped>\n",
       "    .dataframe tbody tr th:only-of-type {\n",
       "        vertical-align: middle;\n",
       "    }\n",
       "\n",
       "    .dataframe tbody tr th {\n",
       "        vertical-align: top;\n",
       "    }\n",
       "\n",
       "    .dataframe thead th {\n",
       "        text-align: right;\n",
       "    }\n",
       "</style>\n",
       "<table border=\"1\" class=\"dataframe\">\n",
       "  <thead>\n",
       "    <tr style=\"text-align: right;\">\n",
       "      <th></th>\n",
       "      <th>LARGEST_ANCESTRY</th>\n",
       "      <th>Count</th>\n",
       "    </tr>\n",
       "  </thead>\n",
       "  <tbody>\n",
       "    <tr>\n",
       "      <th>7</th>\n",
       "      <td>German</td>\n",
       "      <td>1719</td>\n",
       "    </tr>\n",
       "    <tr>\n",
       "      <th>2</th>\n",
       "      <td>English</td>\n",
       "      <td>600</td>\n",
       "    </tr>\n",
       "    <tr>\n",
       "      <th>0</th>\n",
       "      <td>American</td>\n",
       "      <td>528</td>\n",
       "    </tr>\n",
       "    <tr>\n",
       "      <th>8</th>\n",
       "      <td>Irish</td>\n",
       "      <td>185</td>\n",
       "    </tr>\n",
       "    <tr>\n",
       "      <th>5</th>\n",
       "      <td>French (except Basque)</td>\n",
       "      <td>32</td>\n",
       "    </tr>\n",
       "    <tr>\n",
       "      <th>9</th>\n",
       "      <td>Italian</td>\n",
       "      <td>29</td>\n",
       "    </tr>\n",
       "    <tr>\n",
       "      <th>10</th>\n",
       "      <td>Norwegian</td>\n",
       "      <td>19</td>\n",
       "    </tr>\n",
       "    <tr>\n",
       "      <th>14</th>\n",
       "      <td>Subsaharan African:</td>\n",
       "      <td>9</td>\n",
       "    </tr>\n",
       "    <tr>\n",
       "      <th>15</th>\n",
       "      <td>West Indian (except Hispanic groups):</td>\n",
       "      <td>6</td>\n",
       "    </tr>\n",
       "    <tr>\n",
       "      <th>4</th>\n",
       "      <td>Finnish</td>\n",
       "      <td>5</td>\n",
       "    </tr>\n",
       "    <tr>\n",
       "      <th>1</th>\n",
       "      <td>Dutch</td>\n",
       "      <td>3</td>\n",
       "    </tr>\n",
       "    <tr>\n",
       "      <th>3</th>\n",
       "      <td>European</td>\n",
       "      <td>3</td>\n",
       "    </tr>\n",
       "    <tr>\n",
       "      <th>12</th>\n",
       "      <td>Portuguese</td>\n",
       "      <td>3</td>\n",
       "    </tr>\n",
       "    <tr>\n",
       "      <th>6</th>\n",
       "      <td>French Canadian</td>\n",
       "      <td>1</td>\n",
       "    </tr>\n",
       "    <tr>\n",
       "      <th>11</th>\n",
       "      <td>Polish</td>\n",
       "      <td>1</td>\n",
       "    </tr>\n",
       "    <tr>\n",
       "      <th>13</th>\n",
       "      <td>Russian</td>\n",
       "      <td>1</td>\n",
       "    </tr>\n",
       "  </tbody>\n",
       "</table>\n",
       "</div>"
      ],
      "text/plain": [
       "                         LARGEST_ANCESTRY  Count\n",
       "7                                  German   1719\n",
       "2                                 English    600\n",
       "0                                American    528\n",
       "8                                   Irish    185\n",
       "5                  French (except Basque)     32\n",
       "9                                 Italian     29\n",
       "10                              Norwegian     19\n",
       "14                    Subsaharan African:      9\n",
       "15  West Indian (except Hispanic groups):      6\n",
       "4                                 Finnish      5\n",
       "1                                   Dutch      3\n",
       "3                                European      3\n",
       "12                             Portuguese      3\n",
       "6                         French Canadian      1\n",
       "11                                 Polish      1\n",
       "13                                Russian      1"
      ]
     },
     "execution_count": 207,
     "metadata": {},
     "output_type": "execute_result"
    }
   ],
   "source": [
    "pd.DataFrame(\n",
    "    acs_ethnicity_totals_df.groupby(\"LARGEST_ANCESTRY\").size()\n",
    ").reset_index().rename(columns={0: \"Count\"}).sort_values(\"Count\", ascending=False)"
   ]
  },
  {
   "cell_type": "markdown",
   "id": "ea0435b2-f5f4-4186-853b-615f63cc50aa",
   "metadata": {},
   "source": [
    "## Merge Data"
   ]
  },
  {
   "cell_type": "code",
   "execution_count": 208,
   "id": "9077a78f-6455-4082-9ae1-72cacf30cfc7",
   "metadata": {},
   "outputs": [],
   "source": [
    "acs_ethnicity_totals_df = acs_ethnicity_totals_df.rename(\n",
    "    columns={\"Geography\": \"AFFGEOID\"}\n",
    ")"
   ]
  },
  {
   "cell_type": "code",
   "execution_count": 209,
   "id": "335e5a07-6df8-46bf-bc7d-1512019384fd",
   "metadata": {},
   "outputs": [],
   "source": [
    "ethnicity_per_county_gdf = counties_gdf.merge(\n",
    "    acs_ethnicity_totals_df, on=\"AFFGEOID\", how=\"left\"\n",
    ")"
   ]
  },
  {
   "cell_type": "code",
   "execution_count": 210,
   "id": "ae923604-fd11-4c7d-a480-4f53abaeafbc",
   "metadata": {},
   "outputs": [],
   "source": [
    "ethnicity_per_county_gdf = ethnicity_per_county_gdf.to_crs(9311)\n",
    "ethnicity_per_county_gdf.to_file(\"data/largest_group.gpkg\")"
   ]
  },
  {
   "cell_type": "code",
   "execution_count": null,
   "id": "641fe6e8-a92d-407d-b49c-f85ac7139bbd",
   "metadata": {},
   "outputs": [],
   "source": []
  },
  {
   "cell_type": "code",
   "execution_count": null,
   "id": "2152005a-5780-4a3e-b702-d8d28aca1a6c",
   "metadata": {},
   "outputs": [],
   "source": []
  },
  {
   "cell_type": "code",
   "execution_count": null,
   "id": "85d8136a-afdb-447c-8ffa-c00c9841a226",
   "metadata": {},
   "outputs": [],
   "source": []
  }
 ],
 "metadata": {
  "kernelspec": {
   "display_name": "Python 3 (ipykernel)",
   "language": "python",
   "name": "python3"
  },
  "language_info": {
   "codemirror_mode": {
    "name": "ipython",
    "version": 3
   },
   "file_extension": ".py",
   "mimetype": "text/x-python",
   "name": "python",
   "nbconvert_exporter": "python",
   "pygments_lexer": "ipython3",
   "version": "3.11.11"
  }
 },
 "nbformat": 4,
 "nbformat_minor": 5
}
