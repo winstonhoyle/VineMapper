{
 "cells": [
  {
   "cell_type": "code",
   "execution_count": 53,
   "id": "34096667-a395-48d3-be7d-d2dfa7378003",
   "metadata": {},
   "outputs": [],
   "source": [
    "import requests"
   ]
  },
  {
   "cell_type": "code",
   "execution_count": 54,
   "id": "c4323fb2-1721-463e-8602-d1c3302ff523",
   "metadata": {},
   "outputs": [],
   "source": [
    "import geopandas as gpd\n",
    "import pandas as pd"
   ]
  },
  {
   "cell_type": "code",
   "execution_count": 55,
   "id": "d26f9bde-1b93-40f3-a691-d9f7c1b90bd7",
   "metadata": {},
   "outputs": [],
   "source": [
    "from tqdm.notebook import tqdm"
   ]
  },
  {
   "cell_type": "markdown",
   "id": "7bfd8f31-eada-447d-af06-da8a94290c02",
   "metadata": {},
   "source": [
    "## Open County data"
   ]
  },
  {
   "cell_type": "code",
   "execution_count": 69,
   "id": "5fadd853-8ad5-4832-976a-4d251d5a794b",
   "metadata": {},
   "outputs": [],
   "source": [
    "file_path = \"data/cb_2018_us_state_500k/cb_2018_us_state_500k.shp\"\n",
    "state_gdf = gpd.read_file(file_path)"
   ]
  },
  {
   "cell_type": "markdown",
   "id": "2246428d-fae0-4af8-97d2-96519e1527e2",
   "metadata": {},
   "source": [
    "## Get Ethnic Data"
   ]
  },
  {
   "cell_type": "code",
   "execution_count": 70,
   "id": "b2d8dc8c-e9ea-406c-b331-48431bfdb3d1",
   "metadata": {},
   "outputs": [],
   "source": [
    "r = requests.get(\"https://api.census.gov/data/2022/acs/acs5/groups/B02017.json\")\n",
    "columns_obj = r.json()"
   ]
  },
  {
   "cell_type": "code",
   "execution_count": 71,
   "id": "e33c1915-d722-4a53-85fb-1b81e3d74395",
   "metadata": {},
   "outputs": [],
   "source": [
    "df = pd.read_csv(\n",
    "    \"data/ACSDT5Y2022.B02017_2025-09-02T223826/ACSDT5Y2022.B02017-Data.csv\",\n",
    "    thousands=\",\",\n",
    ")"
   ]
  },
  {
   "cell_type": "code",
   "execution_count": 72,
   "id": "d503af85-93b7-4a34-98fa-754ac26f99d3",
   "metadata": {},
   "outputs": [],
   "source": [
    "df.columns = list(df.iloc[0])\n",
    "df = df.iloc[1:]"
   ]
  },
  {
   "cell_type": "code",
   "execution_count": 75,
   "id": "720fafac-afdd-4ebc-9924-0364ec72d378",
   "metadata": {},
   "outputs": [
    {
     "data": {
      "application/vnd.jupyter.widget-view+json": {
       "model_id": "9172a6b7ec294c70a7273814b1560923",
       "version_major": 2,
       "version_minor": 0
      },
      "text/plain": [
       "Parsing Columns:   0%|          | 0/110 [00:00<?, ?it/s]"
      ]
     },
     "metadata": {},
     "output_type": "display_data"
    }
   ],
   "source": [
    "rename_columns = {\"Geographic Area Name\": \"NAME\"}\n",
    "for column in tqdm(list(df.columns)[:-1], desc=\"Parsing Columns\"):\n",
    "    str_split = column.split(\"!!\")\n",
    "    if str_split[0] == \"Estimate\":\n",
    "        rename_columns[column] = str_split[-1].strip()\n",
    "    else:\n",
    "        continue"
   ]
  },
  {
   "cell_type": "code",
   "execution_count": 84,
   "id": "96d3ff03-2a36-46ca-be2a-257bb1ec98d4",
   "metadata": {},
   "outputs": [],
   "source": [
    "df = df.rename(columns=rename_columns)[list(rename_columns.values())]"
   ]
  },
  {
   "cell_type": "code",
   "execution_count": 85,
   "id": "0e4cd6c2-a567-4a71-9ceb-d02421cf5565",
   "metadata": {},
   "outputs": [],
   "source": [
    "estimate_cols = []\n",
    "for column in rename_columns.values():\n",
    "    if column == \"NAME\" or column[-1] == \":\":\n",
    "        continue\n",
    "    estimate_cols.append(column)"
   ]
  },
  {
   "cell_type": "code",
   "execution_count": 87,
   "id": "2bba77eb-2926-47dd-9d3f-dabb68d6cf14",
   "metadata": {},
   "outputs": [],
   "source": [
    "df[estimate_cols] = df[estimate_cols].astype(int)"
   ]
  },
  {
   "cell_type": "code",
   "execution_count": 88,
   "id": "69f0e532-e8cc-4773-a6e5-b2fb11518e88",
   "metadata": {},
   "outputs": [],
   "source": [
    "df[\"most_tribe\"] = df[estimate_cols].idxmax(axis=1)"
   ]
  },
  {
   "cell_type": "code",
   "execution_count": 92,
   "id": "9191761e-4430-4237-a74b-1ee009212321",
   "metadata": {},
   "outputs": [
    {
     "data": {
      "text/html": [
       "<div>\n",
       "<style scoped>\n",
       "    .dataframe tbody tr th:only-of-type {\n",
       "        vertical-align: middle;\n",
       "    }\n",
       "\n",
       "    .dataframe tbody tr th {\n",
       "        vertical-align: top;\n",
       "    }\n",
       "\n",
       "    .dataframe thead th {\n",
       "        text-align: right;\n",
       "    }\n",
       "</style>\n",
       "<table border=\"1\" class=\"dataframe\">\n",
       "  <thead>\n",
       "    <tr style=\"text-align: right;\">\n",
       "      <th></th>\n",
       "      <th>most_tribe</th>\n",
       "      <th>COUNT</th>\n",
       "    </tr>\n",
       "  </thead>\n",
       "  <tbody>\n",
       "    <tr>\n",
       "      <th>5</th>\n",
       "      <td>Cherokee</td>\n",
       "      <td>14</td>\n",
       "    </tr>\n",
       "    <tr>\n",
       "      <th>1</th>\n",
       "      <td>American Indian or Alaska Native tribes, not s...</td>\n",
       "      <td>13</td>\n",
       "    </tr>\n",
       "    <tr>\n",
       "      <th>0</th>\n",
       "      <td>All other American Indian tribes (with only on...</td>\n",
       "      <td>7</td>\n",
       "    </tr>\n",
       "    <tr>\n",
       "      <th>6</th>\n",
       "      <td>Chippewa</td>\n",
       "      <td>4</td>\n",
       "    </tr>\n",
       "    <tr>\n",
       "      <th>2</th>\n",
       "      <td>American Indian tribes, not specified</td>\n",
       "      <td>4</td>\n",
       "    </tr>\n",
       "    <tr>\n",
       "      <th>10</th>\n",
       "      <td>Navajo</td>\n",
       "      <td>3</td>\n",
       "    </tr>\n",
       "    <tr>\n",
       "      <th>3</th>\n",
       "      <td>Arapaho</td>\n",
       "      <td>1</td>\n",
       "    </tr>\n",
       "    <tr>\n",
       "      <th>4</th>\n",
       "      <td>Central American Indian</td>\n",
       "      <td>1</td>\n",
       "    </tr>\n",
       "    <tr>\n",
       "      <th>7</th>\n",
       "      <td>Choctaw</td>\n",
       "      <td>1</td>\n",
       "    </tr>\n",
       "    <tr>\n",
       "      <th>8</th>\n",
       "      <td>Lumbee</td>\n",
       "      <td>1</td>\n",
       "    </tr>\n",
       "    <tr>\n",
       "      <th>9</th>\n",
       "      <td>Mexican American Indian</td>\n",
       "      <td>1</td>\n",
       "    </tr>\n",
       "    <tr>\n",
       "      <th>11</th>\n",
       "      <td>Sioux</td>\n",
       "      <td>1</td>\n",
       "    </tr>\n",
       "    <tr>\n",
       "      <th>12</th>\n",
       "      <td>Yup'ik</td>\n",
       "      <td>1</td>\n",
       "    </tr>\n",
       "  </tbody>\n",
       "</table>\n",
       "</div>"
      ],
      "text/plain": [
       "                                           most_tribe  COUNT\n",
       "5                                            Cherokee     14\n",
       "1   American Indian or Alaska Native tribes, not s...     13\n",
       "0   All other American Indian tribes (with only on...      7\n",
       "6                                            Chippewa      4\n",
       "2               American Indian tribes, not specified      4\n",
       "10                                             Navajo      3\n",
       "3                                             Arapaho      1\n",
       "4                             Central American Indian      1\n",
       "7                                             Choctaw      1\n",
       "8                                              Lumbee      1\n",
       "9                             Mexican American Indian      1\n",
       "11                                              Sioux      1\n",
       "12                                             Yup'ik      1"
      ]
     },
     "execution_count": 92,
     "metadata": {},
     "output_type": "execute_result"
    }
   ],
   "source": [
    "df.groupby(\"most_tribe\").size().reset_index(name=\"COUNT\").sort_values(\n",
    "    \"COUNT\", ascending=False\n",
    ")"
   ]
  },
  {
   "cell_type": "markdown",
   "id": "ea0435b2-f5f4-4186-853b-615f63cc50aa",
   "metadata": {},
   "source": [
    "## Merge Data"
   ]
  },
  {
   "cell_type": "code",
   "execution_count": 94,
   "id": "741bc565-ebfc-42ba-a794-913e31d2ea26",
   "metadata": {},
   "outputs": [],
   "source": [
    "gdf = state_gdf.merge(df, on=\"NAME\", how=\"inner\")"
   ]
  },
  {
   "cell_type": "code",
   "execution_count": 95,
   "id": "ae923604-fd11-4c7d-a480-4f53abaeafbc",
   "metadata": {},
   "outputs": [],
   "source": [
    "gdf = gdf.to_crs(9311)\n",
    "gdf.to_file(\"data/Native_American_Tribe_Per_State.gpkg\")"
   ]
  },
  {
   "cell_type": "code",
   "execution_count": null,
   "id": "64ef740c-31db-4124-a0ef-69c4eb0a09ef",
   "metadata": {},
   "outputs": [],
   "source": []
  }
 ],
 "metadata": {
  "kernelspec": {
   "display_name": "Python 3 (ipykernel)",
   "language": "python",
   "name": "python3"
  },
  "language_info": {
   "codemirror_mode": {
    "name": "ipython",
    "version": 3
   },
   "file_extension": ".py",
   "mimetype": "text/x-python",
   "name": "python",
   "nbconvert_exporter": "python",
   "pygments_lexer": "ipython3",
   "version": "3.11.13"
  }
 },
 "nbformat": 4,
 "nbformat_minor": 5
}
