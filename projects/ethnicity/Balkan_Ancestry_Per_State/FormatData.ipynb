{
 "cells": [
  {
   "cell_type": "code",
   "execution_count": 1,
   "id": "34096667-a395-48d3-be7d-d2dfa7378003",
   "metadata": {},
   "outputs": [],
   "source": [
    "import requests"
   ]
  },
  {
   "cell_type": "code",
   "execution_count": 2,
   "id": "c4323fb2-1721-463e-8602-d1c3302ff523",
   "metadata": {},
   "outputs": [],
   "source": [
    "import geopandas as gpd\n",
    "import pandas as pd"
   ]
  },
  {
   "cell_type": "markdown",
   "id": "7bfd8f31-eada-447d-af06-da8a94290c02",
   "metadata": {},
   "source": [
    "## Open County data"
   ]
  },
  {
   "cell_type": "code",
   "execution_count": 3,
   "id": "5fadd853-8ad5-4832-976a-4d251d5a794b",
   "metadata": {},
   "outputs": [],
   "source": [
    "file_path = \"data/cb_2018_us_state_500k/cb_2018_us_state_500k.shp\"\n",
    "state_gdf = gpd.read_file(file_path)"
   ]
  },
  {
   "cell_type": "markdown",
   "id": "2246428d-fae0-4af8-97d2-96519e1527e2",
   "metadata": {},
   "source": [
    "## Get Ethnic Data"
   ]
  },
  {
   "cell_type": "code",
   "execution_count": 4,
   "id": "b2d8dc8c-e9ea-406c-b331-48431bfdb3d1",
   "metadata": {},
   "outputs": [],
   "source": [
    "r = requests.get(\"https://api.census.gov/data/2023/acs/acs5/groups/B04006.json\")\n",
    "columns_obj = r.json()"
   ]
  },
  {
   "cell_type": "markdown",
   "id": "5a279a3d-20e7-4981-b63d-f23bacbdc1d9",
   "metadata": {},
   "source": [
    "### Get columns to query and rename for later"
   ]
  },
  {
   "cell_type": "code",
   "execution_count": null,
   "id": "515b8ff3-8be2-45cd-8535-2ae77ea70e84",
   "metadata": {},
   "outputs": [],
   "source": [
    "balkan_cols = [\n",
    "    \"Albanian\",\n",
    "    \"Bulgarian\",\n",
    "    \"Croatian\",\n",
    "    \"Macedonian\",\n",
    "    # \"Greek\",\n",
    "    \"Romanian\",\n",
    "    \"Serbian\",\n",
    "    \"Slovene\",\n",
    "    \"Yugoslavian\",\n",
    "]"
   ]
  },
  {
   "cell_type": "code",
   "execution_count": 21,
   "id": "4a4f10d2-230f-448a-b0d9-2a052e878d69",
   "metadata": {},
   "outputs": [],
   "source": [
    "columns = []\n",
    "rename_vars = {}\n",
    "variables = columns_obj[\"variables\"]\n",
    "for name, variable in list(variables.items()):\n",
    "    v_split = variable[\"label\"].split(\"!!\")\n",
    "    if len(v_split) < 3:\n",
    "        continue\n",
    "\n",
    "    if v_split[0] == \"Estimate\":\n",
    "        label = v_split[-1]\n",
    "        rename_vars[name] = label\n",
    "\n",
    "    if (name.endswith(\"E\") or name.endswith(\"M\")) and v_split[-1] in balkan_cols:\n",
    "        columns.append(name)"
   ]
  },
  {
   "cell_type": "code",
   "execution_count": 22,
   "id": "441abfa3-3d7d-4c9c-9046-1b8daef18433",
   "metadata": {},
   "outputs": [
    {
     "data": {
      "text/plain": [
       "['B04006_003M',\n",
       " 'B04006_003E',\n",
       " 'B04006_024M',\n",
       " 'B04006_024E',\n",
       " 'B04006_029M',\n",
       " 'B04006_029E',\n",
       " 'B04006_055M',\n",
       " 'B04006_055E',\n",
       " 'B04006_071M',\n",
       " 'B04006_071E',\n",
       " 'B04006_063M',\n",
       " 'B04006_063E',\n",
       " 'B04006_068M',\n",
       " 'B04006_068E',\n",
       " 'B04006_107E',\n",
       " 'B04006_107M']"
      ]
     },
     "execution_count": 22,
     "metadata": {},
     "output_type": "execute_result"
    }
   ],
   "source": [
    "columns"
   ]
  },
  {
   "cell_type": "code",
   "execution_count": 23,
   "id": "57c6972b-31af-4622-a9a4-3ecc530cb320",
   "metadata": {},
   "outputs": [],
   "source": [
    "columns.append(\"GEO_ID\")\n",
    "columns_formatted = \",\".join(columns)"
   ]
  },
  {
   "cell_type": "code",
   "execution_count": 24,
   "id": "6f46df1a-ab39-486a-849e-af4f5ca316b5",
   "metadata": {},
   "outputs": [],
   "source": [
    "response = requests.get(\n",
    "    f\"https://api.census.gov/data/2023/acs/acs5?get={columns_formatted}&for=state:*\"\n",
    ")"
   ]
  },
  {
   "cell_type": "code",
   "execution_count": 25,
   "id": "f0762979-d348-443e-8129-31827909a262",
   "metadata": {},
   "outputs": [],
   "source": [
    "data = response.json()\n",
    "columns = data[0]\n",
    "rows = data[1:]\n",
    "df = pd.DataFrame(rows, columns=columns)"
   ]
  },
  {
   "cell_type": "code",
   "execution_count": 26,
   "id": "b82b6426-f4a9-4d07-ba36-073cb42e69b4",
   "metadata": {},
   "outputs": [],
   "source": [
    "estimate_cols = [col for col in df.columns if col.endswith(\"E\")]"
   ]
  },
  {
   "cell_type": "code",
   "execution_count": 27,
   "id": "8f8f97ed-1068-40e5-ab21-77eecdd38036",
   "metadata": {},
   "outputs": [
    {
     "name": "stderr",
     "output_type": "stream",
     "text": [
      "/tmp/ipykernel_2359/4148564808.py:2: SettingWithCopyWarning: \n",
      "A value is trying to be set on a copy of a slice from a DataFrame.\n",
      "Try using .loc[row_indexer,col_indexer] = value instead\n",
      "\n",
      "See the caveats in the documentation: https://pandas.pydata.org/pandas-docs/stable/user_guide/indexing.html#returning-a-view-versus-a-copy\n",
      "  formtted_df[estimate_cols] = formtted_df[estimate_cols].astype(int)\n"
     ]
    }
   ],
   "source": [
    "formtted_df = df[[\"GEO_ID\", *estimate_cols]]\n",
    "formtted_df[estimate_cols] = formtted_df[estimate_cols].astype(int)"
   ]
  },
  {
   "cell_type": "code",
   "execution_count": 28,
   "id": "69f0e532-e8cc-4773-a6e5-b2fb11518e88",
   "metadata": {},
   "outputs": [
    {
     "name": "stderr",
     "output_type": "stream",
     "text": [
      "/tmp/ipykernel_2359/3262394555.py:1: SettingWithCopyWarning: \n",
      "A value is trying to be set on a copy of a slice from a DataFrame.\n",
      "Try using .loc[row_indexer,col_indexer] = value instead\n",
      "\n",
      "See the caveats in the documentation: https://pandas.pydata.org/pandas-docs/stable/user_guide/indexing.html#returning-a-view-versus-a-copy\n",
      "  formtted_df[\"most_common_ancestry_raw\"] = formtted_df[estimate_cols].idxmax(axis=1)\n"
     ]
    }
   ],
   "source": [
    "formtted_df[\"most_common_ancestry_raw\"] = formtted_df[estimate_cols].idxmax(axis=1)"
   ]
  },
  {
   "cell_type": "code",
   "execution_count": 29,
   "id": "9191761e-4430-4237-a74b-1ee009212321",
   "metadata": {},
   "outputs": [],
   "source": [
    "def check_margin_error(row) -> str:\n",
    "    geo_id = row[\"GEO_ID\"]\n",
    "    ethnicity_col = row[\"most_common_ancestry_raw\"]\n",
    "    val = row[ethnicity_col]\n",
    "\n",
    "    if not val:\n",
    "        return None\n",
    "\n",
    "    moe_col = ethnicity_col.replace(\"E\", \"M\")\n",
    "    moe_val = int(df[df[\"GEO_ID\"] == geo_id][moe_col])\n",
    "\n",
    "    rmoe_val = abs(moe_val / val)\n",
    "    return variables[ethnicity_col][\"label\"].split(\"!!\")[-1]"
   ]
  },
  {
   "cell_type": "code",
   "execution_count": 30,
   "id": "f1237aa6-7f56-4966-b9c1-90d20d5ef2f0",
   "metadata": {},
   "outputs": [
    {
     "name": "stderr",
     "output_type": "stream",
     "text": [
      "/tmp/ipykernel_2359/593074180.py:10: FutureWarning: Calling int on a single element Series is deprecated and will raise a TypeError in the future. Use int(ser.iloc[0]) instead\n",
      "  moe_val = int(df[df[\"GEO_ID\"] == geo_id][moe_col])\n",
      "/tmp/ipykernel_2359/2401641906.py:1: SettingWithCopyWarning: \n",
      "A value is trying to be set on a copy of a slice from a DataFrame.\n",
      "Try using .loc[row_indexer,col_indexer] = value instead\n",
      "\n",
      "See the caveats in the documentation: https://pandas.pydata.org/pandas-docs/stable/user_guide/indexing.html#returning-a-view-versus-a-copy\n",
      "  formtted_df[\"most_common_ancestry\"] = formtted_df.apply(\n"
     ]
    }
   ],
   "source": [
    "formtted_df[\"most_common_ancestry\"] = formtted_df.apply(\n",
    "    lambda row: check_margin_error(row), axis=1\n",
    ")"
   ]
  },
  {
   "cell_type": "code",
   "execution_count": 31,
   "id": "9b8a40b0-1e17-4c14-8b8b-49c9e4d6ac10",
   "metadata": {},
   "outputs": [
    {
     "data": {
      "text/html": [
       "<div>\n",
       "<style scoped>\n",
       "    .dataframe tbody tr th:only-of-type {\n",
       "        vertical-align: middle;\n",
       "    }\n",
       "\n",
       "    .dataframe tbody tr th {\n",
       "        vertical-align: top;\n",
       "    }\n",
       "\n",
       "    .dataframe thead th {\n",
       "        text-align: right;\n",
       "    }\n",
       "</style>\n",
       "<table border=\"1\" class=\"dataframe\">\n",
       "  <thead>\n",
       "    <tr style=\"text-align: right;\">\n",
       "      <th></th>\n",
       "      <th>most_common_ancestry</th>\n",
       "      <th>COUNT</th>\n",
       "    </tr>\n",
       "  </thead>\n",
       "  <tbody>\n",
       "    <tr>\n",
       "      <th>2</th>\n",
       "      <td>Romanian</td>\n",
       "      <td>23</td>\n",
       "    </tr>\n",
       "    <tr>\n",
       "      <th>1</th>\n",
       "      <td>Croatian</td>\n",
       "      <td>15</td>\n",
       "    </tr>\n",
       "    <tr>\n",
       "      <th>4</th>\n",
       "      <td>Yugoslavian</td>\n",
       "      <td>8</td>\n",
       "    </tr>\n",
       "    <tr>\n",
       "      <th>0</th>\n",
       "      <td>Albanian</td>\n",
       "      <td>5</td>\n",
       "    </tr>\n",
       "    <tr>\n",
       "      <th>3</th>\n",
       "      <td>Slovene</td>\n",
       "      <td>1</td>\n",
       "    </tr>\n",
       "  </tbody>\n",
       "</table>\n",
       "</div>"
      ],
      "text/plain": [
       "  most_common_ancestry  COUNT\n",
       "2             Romanian     23\n",
       "1             Croatian     15\n",
       "4          Yugoslavian      8\n",
       "0             Albanian      5\n",
       "3              Slovene      1"
      ]
     },
     "execution_count": 31,
     "metadata": {},
     "output_type": "execute_result"
    }
   ],
   "source": [
    "formtted_df.groupby(\"most_common_ancestry\").size().reset_index(\n",
    "    name=\"COUNT\"\n",
    ").sort_values(\"COUNT\", ascending=False)"
   ]
  },
  {
   "cell_type": "code",
   "execution_count": 33,
   "id": "b167ea13-49a2-4421-97f4-72084759cabf",
   "metadata": {},
   "outputs": [],
   "source": [
    "rename_vars[\"GEO_ID\"] = \"AFFGEOID\"\n",
    "formtted_df = formtted_df.rename(columns=rename_vars)"
   ]
  },
  {
   "cell_type": "markdown",
   "id": "ea0435b2-f5f4-4186-853b-615f63cc50aa",
   "metadata": {},
   "source": [
    "## Merge Data"
   ]
  },
  {
   "cell_type": "code",
   "execution_count": 34,
   "id": "741bc565-ebfc-42ba-a794-913e31d2ea26",
   "metadata": {},
   "outputs": [],
   "source": [
    "gdf = state_gdf.merge(formtted_df, on=\"AFFGEOID\", how=\"inner\")"
   ]
  },
  {
   "cell_type": "code",
   "execution_count": 35,
   "id": "ae923604-fd11-4c7d-a480-4f53abaeafbc",
   "metadata": {},
   "outputs": [],
   "source": [
    "gdf = gdf.to_crs(9311)\n",
    "gdf.to_file(\"data/Balkan_Ancestry_Per_State.gpkg\")"
   ]
  },
  {
   "cell_type": "code",
   "execution_count": null,
   "id": "33f2a4fc-9c74-4ec1-bb7e-31583c897569",
   "metadata": {},
   "outputs": [],
   "source": []
  },
  {
   "cell_type": "code",
   "execution_count": null,
   "id": "64ef740c-31db-4124-a0ef-69c4eb0a09ef",
   "metadata": {},
   "outputs": [],
   "source": []
  }
 ],
 "metadata": {
  "kernelspec": {
   "display_name": "Python 3 (ipykernel)",
   "language": "python",
   "name": "python3"
  },
  "language_info": {
   "codemirror_mode": {
    "name": "ipython",
    "version": 3
   },
   "file_extension": ".py",
   "mimetype": "text/x-python",
   "name": "python",
   "nbconvert_exporter": "python",
   "pygments_lexer": "ipython3",
   "version": "3.11.13"
  }
 },
 "nbformat": 4,
 "nbformat_minor": 5
}
