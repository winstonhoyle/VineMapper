{
 "cells": [
  {
   "cell_type": "code",
   "execution_count": 1,
   "id": "34096667-a395-48d3-be7d-d2dfa7378003",
   "metadata": {},
   "outputs": [],
   "source": [
    "import requests"
   ]
  },
  {
   "cell_type": "code",
   "execution_count": 2,
   "id": "c4323fb2-1721-463e-8602-d1c3302ff523",
   "metadata": {},
   "outputs": [],
   "source": [
    "import geopandas as gpd\n",
    "import pandas as pd"
   ]
  },
  {
   "cell_type": "markdown",
   "id": "7bfd8f31-eada-447d-af06-da8a94290c02",
   "metadata": {},
   "source": [
    "## Open State data"
   ]
  },
  {
   "cell_type": "code",
   "execution_count": 3,
   "id": "5fadd853-8ad5-4832-976a-4d251d5a794b",
   "metadata": {},
   "outputs": [],
   "source": [
    "file_path = \"data/cb_2024_us_county_500k/cb_2024_us_county_500k.shp\"\n",
    "counties_gdf = gpd.read_file(file_path)"
   ]
  },
  {
   "cell_type": "code",
   "execution_count": 4,
   "id": "fd101904-a41f-4436-92ec-d805585a786c",
   "metadata": {},
   "outputs": [],
   "source": [
    "counties_gdf = counties_gdf.rename(columns={\"GEOIDFQ\": \"AFFGEOID\"})"
   ]
  },
  {
   "cell_type": "markdown",
   "id": "2246428d-fae0-4af8-97d2-96519e1527e2",
   "metadata": {},
   "source": [
    "## Get Ethnic Data"
   ]
  },
  {
   "cell_type": "code",
   "execution_count": 5,
   "id": "9c93f0e3-339f-4d54-b5a1-15534c56d929",
   "metadata": {},
   "outputs": [],
   "source": [
    "table = \"B04006\"\n",
    "\n",
    "url = \"https://api.census.gov/data/2023/acs/acs5\"\n",
    "params = {\n",
    "    \"get\": f\"group({table})\",\n",
    "    \"ucgid\": \"pseudo(0100000US$0500000)\",\n",
    "}\n",
    "response = requests.get(url, params=params)"
   ]
  },
  {
   "cell_type": "code",
   "execution_count": 6,
   "id": "f0762979-d348-443e-8129-31827909a262",
   "metadata": {},
   "outputs": [],
   "source": [
    "data = response.json()\n",
    "columns = data[0]\n",
    "rows = data[1:]\n",
    "ethnicity_df = pd.DataFrame(rows, columns=columns)"
   ]
  },
  {
   "cell_type": "code",
   "execution_count": 7,
   "id": "16265ed0-52cd-4040-a20d-ff1a4343e42b",
   "metadata": {},
   "outputs": [],
   "source": [
    "url = \"https://api.census.gov/data/2023/acs/acs5/variables.json\"\n",
    "response = requests.get(url)\n",
    "variables = response.json()[\"variables\"]"
   ]
  },
  {
   "cell_type": "code",
   "execution_count": 8,
   "id": "fb2aeaab-4d25-4eab-8068-4ce81801b1ad",
   "metadata": {},
   "outputs": [],
   "source": [
    "col_vars = {k: v[\"label\"] for k, v in variables.items() if k.startswith(table)}\n",
    "col_vars[\"ucgid\"] = \"AFFGEOID\""
   ]
  },
  {
   "cell_type": "code",
   "execution_count": 9,
   "id": "1d6e01d7-95e5-4135-acec-7ba07d7bbb36",
   "metadata": {},
   "outputs": [],
   "source": [
    "ethnicity_df = ethnicity_df.rename(columns=col_vars)\n",
    "ethnicity_df = ethnicity_df[list(col_vars.values())]"
   ]
  },
  {
   "cell_type": "code",
   "execution_count": 10,
   "id": "fccde405-fa0f-44f8-98ee-646a80bfec68",
   "metadata": {},
   "outputs": [],
   "source": [
    "rename_dict = {\n",
    "    col: col.split(\"!!\")[-1]\n",
    "    for col in ethnicity_df.columns\n",
    "    if col.startswith(\"Estimate!!Total:!!West Indian (except Hispanic groups):\")\n",
    "}\n",
    "ethnicity_df.rename(columns=rename_dict, inplace=True)"
   ]
  },
  {
   "cell_type": "code",
   "execution_count": 11,
   "id": "4f953834-5ea2-4bf2-a76a-c77717931399",
   "metadata": {},
   "outputs": [],
   "source": [
    "ethnicity_cols = list(rename_dict.values())\n",
    "ethnicity_df[[\"Estimate!!Total:\", *ethnicity_cols]] = ethnicity_df[\n",
    "    [\"Estimate!!Total:\", *ethnicity_cols]\n",
    "].astype(int)"
   ]
  },
  {
   "cell_type": "code",
   "execution_count": 12,
   "id": "f5073577-8a1a-4ce2-bfed-a5e6f4c15662",
   "metadata": {},
   "outputs": [],
   "source": [
    "ethnicity_df[\"PERCENT_WEST_INDIAN\"] = (\n",
    "    (\n",
    "        ethnicity_df[\"West Indian (except Hispanic groups):\"]\n",
    "        / ethnicity_df[\"Estimate!!Total:\"]\n",
    "    )\n",
    "    .round(decimals=3)\n",
    "    .astype(float)\n",
    ")"
   ]
  },
  {
   "cell_type": "code",
   "execution_count": 13,
   "id": "5ba2a5c6-e6ec-4759-93a8-ab651fa4b5df",
   "metadata": {},
   "outputs": [],
   "source": [
    "ethnicity_cols.remove(\"West Indian (except Hispanic groups):\")"
   ]
  },
  {
   "cell_type": "code",
   "execution_count": 14,
   "id": "1ad1b42c-0012-4b75-86ae-1116110315f3",
   "metadata": {},
   "outputs": [],
   "source": [
    "ethnicity_df[\"west_indian_counties_1_percent\"] = ethnicity_df[\n",
    "    ethnicity_df[\"PERCENT_WEST_INDIAN\"] >= 0.01\n",
    "][ethnicity_cols].idxmax(axis=1)\n",
    "ethnicity_df[\"west_indian_counties_2_percent\"] = ethnicity_df[\n",
    "    ethnicity_df[\"PERCENT_WEST_INDIAN\"] >= 0.02\n",
    "][ethnicity_cols].idxmax(axis=1)\n",
    "ethnicity_df[\"west_indian_counties_3_percent\"] = ethnicity_df[\n",
    "    ethnicity_df[\"PERCENT_WEST_INDIAN\"] >= 0.03\n",
    "][ethnicity_cols].idxmax(axis=1)\n",
    "ethnicity_df[\"west_indian_counties_4_percent\"] = ethnicity_df[\n",
    "    ethnicity_df[\"PERCENT_WEST_INDIAN\"] >= 0.04\n",
    "][ethnicity_cols].idxmax(axis=1)\n",
    "ethnicity_df[\"west_indian_counties_5_percent\"] = ethnicity_df[\n",
    "    ethnicity_df[\"PERCENT_WEST_INDIAN\"] >= 0.05\n",
    "][ethnicity_cols].idxmax(axis=1)\n",
    "ethnicity_df[\"west_indian_counties_10_percent\"] = ethnicity_df[\n",
    "    ethnicity_df[\"PERCENT_WEST_INDIAN\"] >= 0.10\n",
    "][ethnicity_cols].idxmax(axis=1)\n",
    "ethnicity_df[\"west_indian_counties_15_percent\"] = ethnicity_df[\n",
    "    ethnicity_df[\"PERCENT_WEST_INDIAN\"] >= 0.15\n",
    "][ethnicity_cols].idxmax(axis=1)"
   ]
  },
  {
   "cell_type": "code",
   "execution_count": 31,
   "id": "61048a0f-db24-4354-b003-de1c2ab3224e",
   "metadata": {},
   "outputs": [
    {
     "name": "stdout",
     "output_type": "stream",
     "text": [
      "170\n"
     ]
    },
    {
     "data": {
      "text/html": [
       "<div>\n",
       "<style scoped>\n",
       "    .dataframe tbody tr th:only-of-type {\n",
       "        vertical-align: middle;\n",
       "    }\n",
       "\n",
       "    .dataframe tbody tr th {\n",
       "        vertical-align: top;\n",
       "    }\n",
       "\n",
       "    .dataframe thead th {\n",
       "        text-align: right;\n",
       "    }\n",
       "</style>\n",
       "<table border=\"1\" class=\"dataframe\">\n",
       "  <thead>\n",
       "    <tr style=\"text-align: right;\">\n",
       "      <th></th>\n",
       "      <th>west_indian_counties_1_percent</th>\n",
       "      <th>COUNT</th>\n",
       "    </tr>\n",
       "  </thead>\n",
       "  <tbody>\n",
       "    <tr>\n",
       "      <th>6</th>\n",
       "      <td>Jamaican</td>\n",
       "      <td>92</td>\n",
       "    </tr>\n",
       "    <tr>\n",
       "      <th>5</th>\n",
       "      <td>Haitian</td>\n",
       "      <td>54</td>\n",
       "    </tr>\n",
       "    <tr>\n",
       "      <th>4</th>\n",
       "      <td>Dutch West Indian</td>\n",
       "      <td>13</td>\n",
       "    </tr>\n",
       "    <tr>\n",
       "      <th>8</th>\n",
       "      <td>West Indian</td>\n",
       "      <td>3</td>\n",
       "    </tr>\n",
       "    <tr>\n",
       "      <th>0</th>\n",
       "      <td>Bahamian</td>\n",
       "      <td>2</td>\n",
       "    </tr>\n",
       "    <tr>\n",
       "      <th>3</th>\n",
       "      <td>British West Indian</td>\n",
       "      <td>2</td>\n",
       "    </tr>\n",
       "    <tr>\n",
       "      <th>7</th>\n",
       "      <td>Trinidadian and Tobagonian</td>\n",
       "      <td>2</td>\n",
       "    </tr>\n",
       "    <tr>\n",
       "      <th>1</th>\n",
       "      <td>Belizean</td>\n",
       "      <td>1</td>\n",
       "    </tr>\n",
       "    <tr>\n",
       "      <th>2</th>\n",
       "      <td>Bermudan</td>\n",
       "      <td>1</td>\n",
       "    </tr>\n",
       "  </tbody>\n",
       "</table>\n",
       "</div>"
      ],
      "text/plain": [
       "  west_indian_counties_1_percent  COUNT\n",
       "6                       Jamaican     92\n",
       "5                        Haitian     54\n",
       "4              Dutch West Indian     13\n",
       "8                    West Indian      3\n",
       "0                       Bahamian      2\n",
       "3            British West Indian      2\n",
       "7     Trinidadian and Tobagonian      2\n",
       "1                       Belizean      1\n",
       "2                       Bermudan      1"
      ]
     },
     "execution_count": 31,
     "metadata": {},
     "output_type": "execute_result"
    }
   ],
   "source": [
    "print(len(ethnicity_df[~ethnicity_df[\"west_indian_counties_1_percent\"].isna()]))\n",
    "ethnicity_df.groupby(\"west_indian_counties_1_percent\").size().reset_index(\n",
    "    name=\"COUNT\"\n",
    ").sort_values(\"COUNT\", ascending=False)"
   ]
  },
  {
   "cell_type": "code",
   "execution_count": 32,
   "id": "22b49e22-f212-4d4a-9717-63c9891ee3ef",
   "metadata": {},
   "outputs": [
    {
     "name": "stdout",
     "output_type": "stream",
     "text": [
      "59\n"
     ]
    },
    {
     "data": {
      "text/html": [
       "<div>\n",
       "<style scoped>\n",
       "    .dataframe tbody tr th:only-of-type {\n",
       "        vertical-align: middle;\n",
       "    }\n",
       "\n",
       "    .dataframe tbody tr th {\n",
       "        vertical-align: top;\n",
       "    }\n",
       "\n",
       "    .dataframe thead th {\n",
       "        text-align: right;\n",
       "    }\n",
       "</style>\n",
       "<table border=\"1\" class=\"dataframe\">\n",
       "  <thead>\n",
       "    <tr style=\"text-align: right;\">\n",
       "      <th></th>\n",
       "      <th>west_indian_counties_2_percent</th>\n",
       "      <th>COUNT</th>\n",
       "    </tr>\n",
       "  </thead>\n",
       "  <tbody>\n",
       "    <tr>\n",
       "      <th>3</th>\n",
       "      <td>Jamaican</td>\n",
       "      <td>31</td>\n",
       "    </tr>\n",
       "    <tr>\n",
       "      <th>2</th>\n",
       "      <td>Haitian</td>\n",
       "      <td>26</td>\n",
       "    </tr>\n",
       "    <tr>\n",
       "      <th>1</th>\n",
       "      <td>Dutch West Indian</td>\n",
       "      <td>1</td>\n",
       "    </tr>\n",
       "    <tr>\n",
       "      <th>0</th>\n",
       "      <td>Bahamian</td>\n",
       "      <td>1</td>\n",
       "    </tr>\n",
       "  </tbody>\n",
       "</table>\n",
       "</div>"
      ],
      "text/plain": [
       "  west_indian_counties_2_percent  COUNT\n",
       "3                       Jamaican     31\n",
       "2                        Haitian     26\n",
       "1              Dutch West Indian      1\n",
       "0                       Bahamian      1"
      ]
     },
     "execution_count": 32,
     "metadata": {},
     "output_type": "execute_result"
    }
   ],
   "source": [
    "print(len(ethnicity_df[~ethnicity_df[\"west_indian_counties_2_percent\"].isna()]))\n",
    "ethnicity_df.groupby(\"west_indian_counties_2_percent\").size().reset_index(\n",
    "    name=\"COUNT\"\n",
    ").sort_values(\"COUNT\", ascending=False)"
   ]
  },
  {
   "cell_type": "code",
   "execution_count": 33,
   "id": "a6b950f9-b081-4212-94b4-66a64c2dd9b0",
   "metadata": {},
   "outputs": [
    {
     "name": "stdout",
     "output_type": "stream",
     "text": [
      "30\n"
     ]
    },
    {
     "data": {
      "text/html": [
       "<div>\n",
       "<style scoped>\n",
       "    .dataframe tbody tr th:only-of-type {\n",
       "        vertical-align: middle;\n",
       "    }\n",
       "\n",
       "    .dataframe tbody tr th {\n",
       "        vertical-align: top;\n",
       "    }\n",
       "\n",
       "    .dataframe thead th {\n",
       "        text-align: right;\n",
       "    }\n",
       "</style>\n",
       "<table border=\"1\" class=\"dataframe\">\n",
       "  <thead>\n",
       "    <tr style=\"text-align: right;\">\n",
       "      <th></th>\n",
       "      <th>west_indian_counties_3_percent</th>\n",
       "      <th>COUNT</th>\n",
       "    </tr>\n",
       "  </thead>\n",
       "  <tbody>\n",
       "    <tr>\n",
       "      <th>1</th>\n",
       "      <td>Haitian</td>\n",
       "      <td>16</td>\n",
       "    </tr>\n",
       "    <tr>\n",
       "      <th>2</th>\n",
       "      <td>Jamaican</td>\n",
       "      <td>13</td>\n",
       "    </tr>\n",
       "    <tr>\n",
       "      <th>0</th>\n",
       "      <td>Bahamian</td>\n",
       "      <td>1</td>\n",
       "    </tr>\n",
       "  </tbody>\n",
       "</table>\n",
       "</div>"
      ],
      "text/plain": [
       "  west_indian_counties_3_percent  COUNT\n",
       "1                        Haitian     16\n",
       "2                       Jamaican     13\n",
       "0                       Bahamian      1"
      ]
     },
     "execution_count": 33,
     "metadata": {},
     "output_type": "execute_result"
    }
   ],
   "source": [
    "print(len(ethnicity_df[~ethnicity_df[\"west_indian_counties_3_percent\"].isna()]))\n",
    "ethnicity_df.groupby(\"west_indian_counties_3_percent\").size().reset_index(\n",
    "    name=\"COUNT\"\n",
    ").sort_values(\"COUNT\", ascending=False)"
   ]
  },
  {
   "cell_type": "code",
   "execution_count": 34,
   "id": "955bb2ec-81a0-40c5-ab92-1548f439c2bd",
   "metadata": {},
   "outputs": [
    {
     "name": "stdout",
     "output_type": "stream",
     "text": [
      "18\n"
     ]
    },
    {
     "data": {
      "text/html": [
       "<div>\n",
       "<style scoped>\n",
       "    .dataframe tbody tr th:only-of-type {\n",
       "        vertical-align: middle;\n",
       "    }\n",
       "\n",
       "    .dataframe tbody tr th {\n",
       "        vertical-align: top;\n",
       "    }\n",
       "\n",
       "    .dataframe thead th {\n",
       "        text-align: right;\n",
       "    }\n",
       "</style>\n",
       "<table border=\"1\" class=\"dataframe\">\n",
       "  <thead>\n",
       "    <tr style=\"text-align: right;\">\n",
       "      <th></th>\n",
       "      <th>west_indian_counties_4_percent</th>\n",
       "      <th>COUNT</th>\n",
       "    </tr>\n",
       "  </thead>\n",
       "  <tbody>\n",
       "    <tr>\n",
       "      <th>0</th>\n",
       "      <td>Haitian</td>\n",
       "      <td>12</td>\n",
       "    </tr>\n",
       "    <tr>\n",
       "      <th>1</th>\n",
       "      <td>Jamaican</td>\n",
       "      <td>6</td>\n",
       "    </tr>\n",
       "  </tbody>\n",
       "</table>\n",
       "</div>"
      ],
      "text/plain": [
       "  west_indian_counties_4_percent  COUNT\n",
       "0                        Haitian     12\n",
       "1                       Jamaican      6"
      ]
     },
     "execution_count": 34,
     "metadata": {},
     "output_type": "execute_result"
    }
   ],
   "source": [
    "print(len(ethnicity_df[~ethnicity_df[\"west_indian_counties_4_percent\"].isna()]))\n",
    "ethnicity_df.groupby(\"west_indian_counties_4_percent\").size().reset_index(\n",
    "    name=\"COUNT\"\n",
    ").sort_values(\"COUNT\", ascending=False)"
   ]
  },
  {
   "cell_type": "code",
   "execution_count": 35,
   "id": "4283ce4a-361a-4887-812d-19b1adaf0fa4",
   "metadata": {},
   "outputs": [
    {
     "name": "stdout",
     "output_type": "stream",
     "text": [
      "10\n"
     ]
    },
    {
     "data": {
      "text/html": [
       "<div>\n",
       "<style scoped>\n",
       "    .dataframe tbody tr th:only-of-type {\n",
       "        vertical-align: middle;\n",
       "    }\n",
       "\n",
       "    .dataframe tbody tr th {\n",
       "        vertical-align: top;\n",
       "    }\n",
       "\n",
       "    .dataframe thead th {\n",
       "        text-align: right;\n",
       "    }\n",
       "</style>\n",
       "<table border=\"1\" class=\"dataframe\">\n",
       "  <thead>\n",
       "    <tr style=\"text-align: right;\">\n",
       "      <th></th>\n",
       "      <th>west_indian_counties_5_percent</th>\n",
       "      <th>COUNT</th>\n",
       "    </tr>\n",
       "  </thead>\n",
       "  <tbody>\n",
       "    <tr>\n",
       "      <th>0</th>\n",
       "      <td>Haitian</td>\n",
       "      <td>7</td>\n",
       "    </tr>\n",
       "    <tr>\n",
       "      <th>1</th>\n",
       "      <td>Jamaican</td>\n",
       "      <td>3</td>\n",
       "    </tr>\n",
       "  </tbody>\n",
       "</table>\n",
       "</div>"
      ],
      "text/plain": [
       "  west_indian_counties_5_percent  COUNT\n",
       "0                        Haitian      7\n",
       "1                       Jamaican      3"
      ]
     },
     "execution_count": 35,
     "metadata": {},
     "output_type": "execute_result"
    }
   ],
   "source": [
    "print(len(ethnicity_df[~ethnicity_df[\"west_indian_counties_5_percent\"].isna()]))\n",
    "ethnicity_df.groupby(\"west_indian_counties_5_percent\").size().reset_index(\n",
    "    name=\"COUNT\"\n",
    ").sort_values(\"COUNT\", ascending=False)"
   ]
  },
  {
   "cell_type": "code",
   "execution_count": 36,
   "id": "91aefc2b-6f4b-465b-a942-3909d7c673ff",
   "metadata": {},
   "outputs": [
    {
     "name": "stdout",
     "output_type": "stream",
     "text": [
      "2\n"
     ]
    },
    {
     "data": {
      "text/html": [
       "<div>\n",
       "<style scoped>\n",
       "    .dataframe tbody tr th:only-of-type {\n",
       "        vertical-align: middle;\n",
       "    }\n",
       "\n",
       "    .dataframe tbody tr th {\n",
       "        vertical-align: top;\n",
       "    }\n",
       "\n",
       "    .dataframe thead th {\n",
       "        text-align: right;\n",
       "    }\n",
       "</style>\n",
       "<table border=\"1\" class=\"dataframe\">\n",
       "  <thead>\n",
       "    <tr style=\"text-align: right;\">\n",
       "      <th></th>\n",
       "      <th>west_indian_counties_10_percent</th>\n",
       "      <th>COUNT</th>\n",
       "    </tr>\n",
       "  </thead>\n",
       "  <tbody>\n",
       "    <tr>\n",
       "      <th>0</th>\n",
       "      <td>Haitian</td>\n",
       "      <td>1</td>\n",
       "    </tr>\n",
       "    <tr>\n",
       "      <th>1</th>\n",
       "      <td>Jamaican</td>\n",
       "      <td>1</td>\n",
       "    </tr>\n",
       "  </tbody>\n",
       "</table>\n",
       "</div>"
      ],
      "text/plain": [
       "  west_indian_counties_10_percent  COUNT\n",
       "0                         Haitian      1\n",
       "1                        Jamaican      1"
      ]
     },
     "execution_count": 36,
     "metadata": {},
     "output_type": "execute_result"
    }
   ],
   "source": [
    "print(len(ethnicity_df[~ethnicity_df[\"west_indian_counties_10_percent\"].isna()]))\n",
    "ethnicity_df.groupby(\"west_indian_counties_10_percent\").size().reset_index(\n",
    "    name=\"COUNT\"\n",
    ").sort_values(\"COUNT\", ascending=False)"
   ]
  },
  {
   "cell_type": "markdown",
   "id": "ea0435b2-f5f4-4186-853b-615f63cc50aa",
   "metadata": {},
   "source": [
    "## Merge Data"
   ]
  },
  {
   "cell_type": "code",
   "execution_count": 37,
   "id": "741bc565-ebfc-42ba-a794-913e31d2ea26",
   "metadata": {},
   "outputs": [],
   "source": [
    "ethnicity_gdf = counties_gdf.merge(ethnicity_df, on=\"AFFGEOID\", how=\"inner\")"
   ]
  },
  {
   "cell_type": "code",
   "execution_count": 38,
   "id": "ae923604-fd11-4c7d-a480-4f53abaeafbc",
   "metadata": {},
   "outputs": [],
   "source": [
    "ethnicity_gdf = ethnicity_gdf.to_crs(9311)\n",
    "ethnicity_gdf.to_file(\"data/west_indian_per_county.gpkg\")"
   ]
  },
  {
   "cell_type": "code",
   "execution_count": null,
   "id": "537b6034-c588-44fb-9e71-68e5e62adbad",
   "metadata": {},
   "outputs": [],
   "source": []
  }
 ],
 "metadata": {
  "kernelspec": {
   "display_name": "Python 3 (ipykernel)",
   "language": "python",
   "name": "python3"
  },
  "language_info": {
   "codemirror_mode": {
    "name": "ipython",
    "version": 3
   },
   "file_extension": ".py",
   "mimetype": "text/x-python",
   "name": "python",
   "nbconvert_exporter": "python",
   "pygments_lexer": "ipython3",
   "version": "3.11.11"
  }
 },
 "nbformat": 4,
 "nbformat_minor": 5
}
