{
 "cells": [
  {
   "cell_type": "code",
   "execution_count": 1,
   "id": "34096667-a395-48d3-be7d-d2dfa7378003",
   "metadata": {},
   "outputs": [],
   "source": [
    "import requests"
   ]
  },
  {
   "cell_type": "code",
   "execution_count": 2,
   "id": "c4323fb2-1721-463e-8602-d1c3302ff523",
   "metadata": {},
   "outputs": [],
   "source": [
    "import geopandas as gpd\n",
    "import pandas as pd"
   ]
  },
  {
   "cell_type": "markdown",
   "id": "7bfd8f31-eada-447d-af06-da8a94290c02",
   "metadata": {},
   "source": [
    "## Open State data"
   ]
  },
  {
   "cell_type": "code",
   "execution_count": 3,
   "id": "5fadd853-8ad5-4832-976a-4d251d5a794b",
   "metadata": {},
   "outputs": [],
   "source": [
    "file_path = \"data/cb_2018_us_state_500k/cb_2018_us_state_500k.shp\"\n",
    "states_gdf = gpd.read_file(file_path)"
   ]
  },
  {
   "cell_type": "markdown",
   "id": "2246428d-fae0-4af8-97d2-96519e1527e2",
   "metadata": {},
   "source": [
    "## Get Ethnic Data"
   ]
  },
  {
   "cell_type": "code",
   "execution_count": 35,
   "id": "9c93f0e3-339f-4d54-b5a1-15534c56d929",
   "metadata": {},
   "outputs": [],
   "source": [
    "table = \"B03001\"\n",
    "\n",
    "url = \"https://api.census.gov/data/2023/acs/acs5\"\n",
    "params = {\n",
    "    \"get\": f\"group({table})\",\n",
    "    \"ucgid\": \"pseudo(0100000US$0400000)\",\n",
    "}\n",
    "response = requests.get(url, params=params)"
   ]
  },
  {
   "cell_type": "code",
   "execution_count": 36,
   "id": "f0762979-d348-443e-8129-31827909a262",
   "metadata": {},
   "outputs": [],
   "source": [
    "data = response.json()\n",
    "columns = data[0]\n",
    "rows = data[1:]\n",
    "ethnicity_df = pd.DataFrame(rows, columns=columns)"
   ]
  },
  {
   "cell_type": "code",
   "execution_count": 37,
   "id": "16265ed0-52cd-4040-a20d-ff1a4343e42b",
   "metadata": {},
   "outputs": [],
   "source": [
    "url = \"https://api.census.gov/data/2023/acs/acs5/variables.json\"\n",
    "response = requests.get(url)\n",
    "variables = response.json()[\"variables\"]"
   ]
  },
  {
   "cell_type": "code",
   "execution_count": 38,
   "id": "fb2aeaab-4d25-4eab-8068-4ce81801b1ad",
   "metadata": {},
   "outputs": [],
   "source": [
    "col_vars = {k: v[\"label\"] for k, v in variables.items() if k.startswith(table)}"
   ]
  },
  {
   "cell_type": "code",
   "execution_count": 39,
   "id": "1d6e01d7-95e5-4135-acec-7ba07d7bbb36",
   "metadata": {},
   "outputs": [],
   "source": [
    "ethnicity_df = ethnicity_df.rename(columns=col_vars)\n",
    "ethnicity_df = ethnicity_df[[*list(col_vars.values()), \"NAME\"]]"
   ]
  },
  {
   "cell_type": "code",
   "execution_count": 40,
   "id": "fccde405-fa0f-44f8-98ee-646a80bfec68",
   "metadata": {},
   "outputs": [],
   "source": [
    "rename_dict = {\n",
    "    col: col.split(\"!!\")[-1]\n",
    "    for col in ethnicity_df.columns\n",
    "    if col.startswith(\"Estimate!!Total\")\n",
    "}\n",
    "ethnicity_df.rename(columns=rename_dict, inplace=True)"
   ]
  },
  {
   "cell_type": "code",
   "execution_count": 66,
   "id": "4f953834-5ea2-4bf2-a76a-c77717931399",
   "metadata": {},
   "outputs": [],
   "source": [
    "ethnicity_cols = list(rename_dict.values())\n",
    "ethnicity_df[ethnicity_cols] = ethnicity_df[ethnicity_cols].astype(int)"
   ]
  },
  {
   "cell_type": "code",
   "execution_count": 67,
   "id": "b183d8fa-97ca-4171-adbd-e085cc2e26fb",
   "metadata": {},
   "outputs": [],
   "source": [
    "ethnicity_cols.remove(\"Hispanic or Latino:\")\n",
    "ethnicity_cols.remove(\"Not Hispanic or Latino\")\n",
    "# ethnicity_cols.remove('South American:')\n",
    "# ethnicity_cols.remove('Central American:')\n",
    "# ethnicity_cols.remove('Other Hispanic or Latino:')\n",
    "ethnicity_cols.remove(\"Total:\")"
   ]
  },
  {
   "cell_type": "code",
   "execution_count": 68,
   "id": "9e0ce481-fd92-4860-8b9b-310163875818",
   "metadata": {},
   "outputs": [],
   "source": [
    "ethnicity_df[\"ancestry\"] = ethnicity_df[ethnicity_cols].idxmax(axis=1)"
   ]
  },
  {
   "cell_type": "markdown",
   "id": "ea0435b2-f5f4-4186-853b-615f63cc50aa",
   "metadata": {},
   "source": [
    "## Merge Data"
   ]
  },
  {
   "cell_type": "code",
   "execution_count": 69,
   "id": "741bc565-ebfc-42ba-a794-913e31d2ea26",
   "metadata": {},
   "outputs": [],
   "source": [
    "ethnicity_gdf = states_gdf.merge(ethnicity_df, on=\"NAME\", how=\"inner\")"
   ]
  },
  {
   "cell_type": "code",
   "execution_count": 70,
   "id": "ae923604-fd11-4c7d-a480-4f53abaeafbc",
   "metadata": {},
   "outputs": [],
   "source": [
    "ethnicity_gdf = ethnicity_gdf.to_crs(9311)\n",
    "ethnicity_gdf.to_file(\"data/hispanic_state.gpkg\")"
   ]
  },
  {
   "cell_type": "code",
   "execution_count": null,
   "id": "537b6034-c588-44fb-9e71-68e5e62adbad",
   "metadata": {},
   "outputs": [],
   "source": []
  }
 ],
 "metadata": {
  "kernelspec": {
   "display_name": "Python 3 (ipykernel)",
   "language": "python",
   "name": "python3"
  },
  "language_info": {
   "codemirror_mode": {
    "name": "ipython",
    "version": 3
   },
   "file_extension": ".py",
   "mimetype": "text/x-python",
   "name": "python",
   "nbconvert_exporter": "python",
   "pygments_lexer": "ipython3",
   "version": "3.12.11"
  }
 },
 "nbformat": 4,
 "nbformat_minor": 5
}
