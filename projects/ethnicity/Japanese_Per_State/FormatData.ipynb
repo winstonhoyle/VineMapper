{
 "cells": [
  {
   "cell_type": "code",
   "execution_count": 50,
   "id": "34096667-a395-48d3-be7d-d2dfa7378003",
   "metadata": {},
   "outputs": [],
   "source": [
    "import requests"
   ]
  },
  {
   "cell_type": "code",
   "execution_count": 51,
   "id": "c4323fb2-1721-463e-8602-d1c3302ff523",
   "metadata": {},
   "outputs": [],
   "source": [
    "import geopandas as gpd\n",
    "import pandas as pd"
   ]
  },
  {
   "cell_type": "markdown",
   "id": "7bfd8f31-eada-447d-af06-da8a94290c02",
   "metadata": {},
   "source": [
    "## Open State data"
   ]
  },
  {
   "cell_type": "code",
   "execution_count": 52,
   "id": "5fadd853-8ad5-4832-976a-4d251d5a794b",
   "metadata": {},
   "outputs": [],
   "source": [
    "file_path = \"data/cb_2018_us_state_500k/cb_2018_us_state_500k.shp\"\n",
    "states_df = gpd.read_file(file_path)"
   ]
  },
  {
   "cell_type": "markdown",
   "id": "2246428d-fae0-4af8-97d2-96519e1527e2",
   "metadata": {},
   "source": [
    "## Get Asian Data"
   ]
  },
  {
   "cell_type": "code",
   "execution_count": 53,
   "id": "9c93f0e3-339f-4d54-b5a1-15534c56d929",
   "metadata": {},
   "outputs": [],
   "source": [
    "table = \"B02018\"\n",
    "\n",
    "url = \"https://api.census.gov/data/2023/acs/acs5\"\n",
    "params = {\n",
    "    \"get\": f\"group({table})\",\n",
    "    \"ucgid\": \"pseudo(0100000US$0400000)\",\n",
    "}\n",
    "response = requests.get(url, params=params)"
   ]
  },
  {
   "cell_type": "code",
   "execution_count": 54,
   "id": "f0762979-d348-443e-8129-31827909a262",
   "metadata": {},
   "outputs": [],
   "source": [
    "data = response.json()\n",
    "columns = data[0]\n",
    "rows = data[1:]\n",
    "asian_df = pd.DataFrame(rows, columns=columns)"
   ]
  },
  {
   "cell_type": "code",
   "execution_count": 55,
   "id": "16265ed0-52cd-4040-a20d-ff1a4343e42b",
   "metadata": {},
   "outputs": [],
   "source": [
    "url = \"https://api.census.gov/data/2023/acs/acs5/variables.json\"\n",
    "response = requests.get(url)\n",
    "variables = response.json()[\"variables\"]"
   ]
  },
  {
   "cell_type": "code",
   "execution_count": 57,
   "id": "fb2aeaab-4d25-4eab-8068-4ce81801b1ad",
   "metadata": {},
   "outputs": [],
   "source": [
    "b02018_vars = {k: v[\"label\"] for k, v in variables.items() if k.startswith(table)}\n",
    "b02018_vars[\"ucgid\"] = \"AFFGEOID\""
   ]
  },
  {
   "cell_type": "code",
   "execution_count": 58,
   "id": "1d6e01d7-95e5-4135-acec-7ba07d7bbb36",
   "metadata": {},
   "outputs": [],
   "source": [
    "asian_df = asian_df.rename(columns=b02018_vars)\n",
    "asian_df = asian_df[list(b02018_vars.values())]"
   ]
  },
  {
   "cell_type": "code",
   "execution_count": 59,
   "id": "fccde405-fa0f-44f8-98ee-646a80bfec68",
   "metadata": {},
   "outputs": [],
   "source": [
    "rename_dict = {\n",
    "    col: col.split(\"!!\")[-1]\n",
    "    for col in asian_df.columns\n",
    "    if col.startswith(\"Estimate!!Total\")\n",
    "}\n",
    "asian_df.rename(columns=rename_dict, inplace=True)"
   ]
  },
  {
   "cell_type": "code",
   "execution_count": 60,
   "id": "82fbc0bb-0433-486b-9df9-ca23baa09de0",
   "metadata": {},
   "outputs": [],
   "source": [
    "ethnicity_cols = list(rename_dict.values())\n",
    "asian_df[ethnicity_cols] = asian_df[ethnicity_cols].astype(int)"
   ]
  },
  {
   "cell_type": "code",
   "execution_count": 61,
   "id": "6e9c6339-8ebe-492f-b52f-3413f7fb6fca",
   "metadata": {},
   "outputs": [],
   "source": [
    "asian_df['STATEFP'] = asian_df['AFFGEOID'].str[9:]\n",
    "japanese_df = asian_df[['STATEFP', 'Japanese']]"
   ]
  },
  {
   "cell_type": "markdown",
   "id": "11028fe2-1d4d-47fa-9886-caa93e3de2c0",
   "metadata": {},
   "source": [
    "## Get Population data"
   ]
  },
  {
   "cell_type": "code",
   "execution_count": 62,
   "id": "ce0a28e8-0bee-40ad-9733-c14c0f88041a",
   "metadata": {},
   "outputs": [],
   "source": [
    "url = \"https://api.census.gov/data/2023/acs/acs5/subject\"\n",
    "params = params = {\n",
    "    \"get\": \"NAME,S0101_C01_001E\",\n",
    "    \"for\": \"state:*\"\n",
    "}\n",
    "response = requests.get(url, params=params)"
   ]
  },
  {
   "cell_type": "code",
   "execution_count": 63,
   "id": "65420df1-96a6-46b9-a5a5-2bf8b1f8fcda",
   "metadata": {},
   "outputs": [],
   "source": [
    "data = response.json()\n",
    "columns = data[0]\n",
    "rows = data[1:]\n",
    "population_df = pd.DataFrame(rows, columns=columns)"
   ]
  },
  {
   "cell_type": "code",
   "execution_count": 64,
   "id": "c818b670-1ad9-4071-9115-c8358730af02",
   "metadata": {},
   "outputs": [],
   "source": [
    "population_df = population_df.rename(columns={\"S0101_C01_001E\": \"POPULATION\", \"state\":\"STATEFP\"})"
   ]
  },
  {
   "cell_type": "markdown",
   "id": "ea0435b2-f5f4-4186-853b-615f63cc50aa",
   "metadata": {},
   "source": [
    "## Merge Data"
   ]
  },
  {
   "cell_type": "code",
   "execution_count": 65,
   "id": "29ecb46d-428f-4af3-a953-d88a6e95a9de",
   "metadata": {},
   "outputs": [],
   "source": [
    "japanese_population_df = population_df.merge(japanese_df, how='inner', on='STATEFP')"
   ]
  },
  {
   "cell_type": "code",
   "execution_count": 66,
   "id": "079d6417-ba25-495d-afad-3eaed1c1fef7",
   "metadata": {},
   "outputs": [],
   "source": [
    "japanese_population_df[['Japanese', 'POPULATION']] = japanese_population_df[['Japanese', 'POPULATION']].astype(int)"
   ]
  },
  {
   "cell_type": "code",
   "execution_count": 67,
   "id": "0794cdec-19fe-4c67-9e76-b9c74488f2c4",
   "metadata": {},
   "outputs": [],
   "source": [
    "japanese_population_df[\"per_100k\"] = (\n",
    "    (japanese_population_df[\"Japanese\"] / (japanese_population_df[\"POPULATION\"] / 100_000)).round(decimals=0).astype(int)\n",
    ")"
   ]
  },
  {
   "cell_type": "code",
   "execution_count": 68,
   "id": "5caf78bb-d46d-4e4e-a182-079ebd4b98b1",
   "metadata": {},
   "outputs": [],
   "source": [
    "japanese_population_df[\"PERCENT\"] = (\n",
    "    (\n",
    "        japanese_population_df[\"Japanese\"] / japanese_population_df[\"POPULATION\"]\n",
    "    ) * 100.0\n",
    ").round(decimals=5).astype(float)"
   ]
  },
  {
   "cell_type": "code",
   "execution_count": 69,
   "id": "741bc565-ebfc-42ba-a794-913e31d2ea26",
   "metadata": {},
   "outputs": [],
   "source": [
    "japanese_population_gdf = states_df.merge(japanese_population_df, on=\"STATEFP\", how=\"inner\")"
   ]
  },
  {
   "cell_type": "code",
   "execution_count": 70,
   "id": "4cfb9989-a2cf-487f-89c2-4e8a374bfd4c",
   "metadata": {},
   "outputs": [],
   "source": [
    "japanese_population_gdf = japanese_population_gdf[['PERCENT', 'geometry', 'per_100k']]"
   ]
  },
  {
   "cell_type": "code",
   "execution_count": 71,
   "id": "ae923604-fd11-4c7d-a480-4f53abaeafbc",
   "metadata": {},
   "outputs": [],
   "source": [
    "japanese_population_gdf = japanese_population_gdf.to_crs(9311)\n",
    "japanese_population_gdf.to_file(\"data/japanese_per_state.gpkg\")"
   ]
  },
  {
   "cell_type": "code",
   "execution_count": null,
   "id": "318f0ee8-4a25-49d2-8c00-7543b5297151",
   "metadata": {},
   "outputs": [],
   "source": []
  }
 ],
 "metadata": {
  "kernelspec": {
   "display_name": "Python 3 (ipykernel)",
   "language": "python",
   "name": "python3"
  },
  "language_info": {
   "codemirror_mode": {
    "name": "ipython",
    "version": 3
   },
   "file_extension": ".py",
   "mimetype": "text/x-python",
   "name": "python",
   "nbconvert_exporter": "python",
   "pygments_lexer": "ipython3",
   "version": "3.12.11"
  }
 },
 "nbformat": 4,
 "nbformat_minor": 5
}
