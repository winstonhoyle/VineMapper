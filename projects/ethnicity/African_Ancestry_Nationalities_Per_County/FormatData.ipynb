{
 "cells": [
  {
   "cell_type": "code",
   "execution_count": 39,
   "id": "c4323fb2-1721-463e-8602-d1c3302ff523",
   "metadata": {},
   "outputs": [],
   "source": [
    "import geopandas as gpd\n",
    "import pandas as pd"
   ]
  },
  {
   "cell_type": "markdown",
   "id": "7bfd8f31-eada-447d-af06-da8a94290c02",
   "metadata": {},
   "source": [
    "## Open State data"
   ]
  },
  {
   "cell_type": "code",
   "execution_count": 40,
   "id": "a7297c0e-e755-4582-8d77-a8ca21ca4fe1",
   "metadata": {},
   "outputs": [],
   "source": [
    "file_path = \"data/cb_2024_us_county_500k/cb_2024_us_county_500k.shp\"\n",
    "counties_gdf = gpd.read_file(file_path)"
   ]
  },
  {
   "cell_type": "markdown",
   "id": "74b55cfa-2db3-4a7c-bd04-0b341757effe",
   "metadata": {},
   "source": [
    "## Get Ethnicity amounts"
   ]
  },
  {
   "cell_type": "code",
   "execution_count": 41,
   "id": "3992f69b-d2c6-4058-879b-b3df9efd2c6a",
   "metadata": {},
   "outputs": [],
   "source": [
    "acs_ethnicity = pd.read_csv(\n",
    "    \"data/ACSDT5Y2023.B04006_2025-05-02T185520/ACSDT5Y2023.B04006-Data.csv\",\n",
    "    low_memory=False,\n",
    ")"
   ]
  },
  {
   "cell_type": "markdown",
   "id": "882f6ea0-65a2-404e-8c20-4571501b5685",
   "metadata": {},
   "source": [
    "#### Get Column names"
   ]
  },
  {
   "cell_type": "code",
   "execution_count": 42,
   "id": "4a3b0141-aaf8-405a-bfd0-eef85e9d5b94",
   "metadata": {},
   "outputs": [],
   "source": [
    "acs_column_names = pd.read_csv(\n",
    "    \"data/ACSDT5Y2023.B04006_2025-05-02T185520/ACSDT5Y2023.B04006-Column-Metadata.csv\"\n",
    ")"
   ]
  },
  {
   "cell_type": "code",
   "execution_count": 43,
   "id": "07d142e8-e490-4174-ac05-41eadf749b12",
   "metadata": {},
   "outputs": [
    {
     "name": "stderr",
     "output_type": "stream",
     "text": [
      "/tmp/ipykernel_5150/942514615.py:19: SettingWithCopyWarning: \n",
      "A value is trying to be set on a copy of a slice from a DataFrame.\n",
      "Try using .loc[row_indexer,col_indexer] = value instead\n",
      "\n",
      "See the caveats in the documentation: https://pandas.pydata.org/pandas-docs/stable/user_guide/indexing.html#returning-a-view-versus-a-copy\n",
      "  columns_df['name'] = columns_df['Label'].str.split(\"!!\").str[-1]\n"
     ]
    }
   ],
   "source": [
    "columns_df = acs_column_names[\n",
    "    (acs_column_names[\"Column Name\"] == \"B04006_001E\")\n",
    "    | (acs_column_names[\"Column Name\"] == \"B04006_074E\")\n",
    "    | (acs_column_names[\"Column Name\"] == \"B04006_075E\")\n",
    "    | (acs_column_names[\"Column Name\"] == \"B04006_076E\")\n",
    "    | (acs_column_names[\"Column Name\"] == \"B04006_077E\")\n",
    "    | (acs_column_names[\"Column Name\"] == \"B04006_078E\")\n",
    "    | (acs_column_names[\"Column Name\"] == \"B04006_079E\")\n",
    "    | (acs_column_names[\"Column Name\"] == \"B04006_080E\")\n",
    "    | (acs_column_names[\"Column Name\"] == \"B04006_081E\")\n",
    "    | (acs_column_names[\"Column Name\"] == \"B04006_082E\")\n",
    "    | (acs_column_names[\"Column Name\"] == \"B04006_083E\")\n",
    "    | (acs_column_names[\"Column Name\"] == \"B04006_084E\")\n",
    "    | (acs_column_names[\"Column Name\"] == \"B04006_085E\")\n",
    "    | (acs_column_names[\"Column Name\"] == \"B04006_086E\")\n",
    "    | (acs_column_names[\"Column Name\"] == \"B04006_087E\")\n",
    "    | (acs_column_names[\"Column Name\"] == \"B04006_088E\")\n",
    "]\n",
    "columns_df[\"name\"] = columns_df[\"Label\"].str.split(\"!!\").str[-1]"
   ]
  },
  {
   "cell_type": "code",
   "execution_count": 44,
   "id": "d5178ece-59c3-4dfa-af0c-9dbaaabfad17",
   "metadata": {},
   "outputs": [],
   "source": [
    "rename_cols = {\n",
    "    columns_df.iloc[i][\"Label\"]: columns_df.iloc[i][\"name\"]\n",
    "    for i in range(len(columns_df))\n",
    "}\n",
    "rename_cols[\"Geography\"] = \"GEOIDFQ\"\n",
    "rename_cols[\"Estimate!!Total:\"] = \"TOTAL\""
   ]
  },
  {
   "cell_type": "markdown",
   "id": "c156cb57-84a4-47fe-81d8-2691da36f9d8",
   "metadata": {},
   "source": [
    "#### Back to Data"
   ]
  },
  {
   "cell_type": "code",
   "execution_count": 45,
   "id": "46820b78-1f2a-4160-8205-6be79a179254",
   "metadata": {},
   "outputs": [],
   "source": [
    "ethnicity_per_county_df = acs_ethnicity[[\"GEO_ID\", *list(columns_df[\"Column Name\"])]]\n",
    "ethnicity_per_county_df.columns = ethnicity_per_county_df.iloc[0]\n",
    "ethnicity_per_county_df = ethnicity_per_county_df[1:]\n",
    "ethnicity_per_county_df = ethnicity_per_county_df.rename(columns=rename_cols)"
   ]
  },
  {
   "cell_type": "code",
   "execution_count": 46,
   "id": "b325495b-dd3d-498c-bea7-65a0c9816d8f",
   "metadata": {},
   "outputs": [],
   "source": [
    "ancestry_cols = list(rename_cols.values())[1:-3]"
   ]
  },
  {
   "cell_type": "code",
   "execution_count": 47,
   "id": "fa0289ce-cd2f-4fd8-a4bf-0229a242d12f",
   "metadata": {},
   "outputs": [],
   "source": [
    "ethnicity_per_county_df[ancestry_cols] = ethnicity_per_county_df[ancestry_cols].astype(\n",
    "    int\n",
    ")"
   ]
  },
  {
   "cell_type": "code",
   "execution_count": 48,
   "id": "6454af65-778a-4d2d-b13c-597ba6312d12",
   "metadata": {},
   "outputs": [],
   "source": [
    "ethnicity_per_county_df[\"ancestry_total\"] = ethnicity_per_county_df[ancestry_cols].sum(\n",
    "    axis=1\n",
    ")\n",
    "ethnicity_per_county_df[\"ancestry_total_percent\"] = ethnicity_per_county_df[\n",
    "    \"ancestry_total\"\n",
    "] / ethnicity_per_county_df[\"TOTAL\"].astype(int)"
   ]
  },
  {
   "cell_type": "markdown",
   "id": "ea0435b2-f5f4-4186-853b-615f63cc50aa",
   "metadata": {},
   "source": [
    "## Merge Data"
   ]
  },
  {
   "cell_type": "code",
   "execution_count": 49,
   "id": "d4a5a0e8-3ef3-4744-a56e-cc8c255348e1",
   "metadata": {},
   "outputs": [],
   "source": [
    "ethnicity_per_county_df[\"ancestry_countries_1_percent\"] = ethnicity_per_county_df[\n",
    "    ethnicity_per_county_df[\"ancestry_total_percent\"] >= 0.01\n",
    "][ancestry_cols].idxmax(axis=1)\n",
    "ethnicity_per_county_df[\"ancestry_countries_2_percent\"] = ethnicity_per_county_df[\n",
    "    ethnicity_per_county_df[\"ancestry_total_percent\"] >= 0.02\n",
    "][ancestry_cols].idxmax(axis=1)\n",
    "ethnicity_per_county_df[\"ancestry_countries_5_percent\"] = ethnicity_per_county_df[\n",
    "    ethnicity_per_county_df[\"ancestry_total_percent\"] >= 0.05\n",
    "][ancestry_cols].idxmax(axis=1)"
   ]
  },
  {
   "cell_type": "code",
   "execution_count": 50,
   "id": "11cbbd94-7b01-4d33-a468-72fb53125952",
   "metadata": {},
   "outputs": [
    {
     "data": {
      "text/plain": [
       "115"
      ]
     },
     "execution_count": 50,
     "metadata": {},
     "output_type": "execute_result"
    }
   ],
   "source": [
    "len(\n",
    "    ethnicity_per_county_df[\n",
    "        ~ethnicity_per_county_df[\"ancestry_countries_1_percent\"].isna()\n",
    "    ]\n",
    ")"
   ]
  },
  {
   "cell_type": "code",
   "execution_count": 51,
   "id": "d181f715-0d58-4014-8a85-17127d3547cb",
   "metadata": {},
   "outputs": [
    {
     "data": {
      "text/plain": [
       "42"
      ]
     },
     "execution_count": 51,
     "metadata": {},
     "output_type": "execute_result"
    }
   ],
   "source": [
    "len(\n",
    "    ethnicity_per_county_df[\n",
    "        ~ethnicity_per_county_df[\"ancestry_countries_2_percent\"].isna()\n",
    "    ]\n",
    ")"
   ]
  },
  {
   "cell_type": "code",
   "execution_count": 52,
   "id": "e3ed7946-4009-4df0-8e9f-f338fe30d482",
   "metadata": {},
   "outputs": [
    {
     "data": {
      "text/plain": [
       "2"
      ]
     },
     "execution_count": 52,
     "metadata": {},
     "output_type": "execute_result"
    }
   ],
   "source": [
    "len(\n",
    "    ethnicity_per_county_df[\n",
    "        ~ethnicity_per_county_df[\"ancestry_countries_5_percent\"].isna()\n",
    "    ]\n",
    ")"
   ]
  },
  {
   "cell_type": "code",
   "execution_count": 53,
   "id": "335e5a07-6df8-46bf-bc7d-1512019384fd",
   "metadata": {},
   "outputs": [],
   "source": [
    "ethnicity_per_county_gdf = counties_gdf.merge(\n",
    "    ethnicity_per_county_df, on=\"GEOIDFQ\", how=\"left\"\n",
    ")"
   ]
  },
  {
   "cell_type": "code",
   "execution_count": 54,
   "id": "8aab9d27-4076-4866-a884-10d8294d0a91",
   "metadata": {},
   "outputs": [],
   "source": [
    "ethnicity_per_county_gdf[\"county_id\"] = ethnicity_per_county_gdf[\"GEOIDFQ\"].str[9:]\n",
    "ethnicity_per_county_gdf[\"state_id\"] = ethnicity_per_county_gdf[\"GEOIDFQ\"].str[9:11]"
   ]
  },
  {
   "cell_type": "code",
   "execution_count": 55,
   "id": "ae923604-fd11-4c7d-a480-4f53abaeafbc",
   "metadata": {},
   "outputs": [],
   "source": [
    "ethnicity_per_county_gdf = ethnicity_per_county_gdf.to_crs(9311)\n",
    "ethnicity_per_county_gdf.to_file(\"data/african_ancestry_per_county.gpkg\")"
   ]
  },
  {
   "cell_type": "code",
   "execution_count": 57,
   "id": "641fe6e8-a92d-407d-b49c-f85ac7139bbd",
   "metadata": {},
   "outputs": [
    {
     "data": {
      "text/html": [
       "<div>\n",
       "<style scoped>\n",
       "    .dataframe tbody tr th:only-of-type {\n",
       "        vertical-align: middle;\n",
       "    }\n",
       "\n",
       "    .dataframe tbody tr th {\n",
       "        vertical-align: top;\n",
       "    }\n",
       "\n",
       "    .dataframe thead th {\n",
       "        text-align: right;\n",
       "    }\n",
       "</style>\n",
       "<table border=\"1\" class=\"dataframe\">\n",
       "  <thead>\n",
       "    <tr style=\"text-align: right;\">\n",
       "      <th></th>\n",
       "      <th>count</th>\n",
       "    </tr>\n",
       "    <tr>\n",
       "      <th>ancestry_countries_2_percent</th>\n",
       "      <th></th>\n",
       "    </tr>\n",
       "  </thead>\n",
       "  <tbody>\n",
       "    <tr>\n",
       "      <th>South African</th>\n",
       "      <td>1</td>\n",
       "    </tr>\n",
       "    <tr>\n",
       "      <th>Liberian</th>\n",
       "      <td>2</td>\n",
       "    </tr>\n",
       "    <tr>\n",
       "      <th>Sudanese</th>\n",
       "      <td>2</td>\n",
       "    </tr>\n",
       "    <tr>\n",
       "      <th>Ghanaian</th>\n",
       "      <td>3</td>\n",
       "    </tr>\n",
       "    <tr>\n",
       "      <th>Cape Verdean</th>\n",
       "      <td>4</td>\n",
       "    </tr>\n",
       "    <tr>\n",
       "      <th>Nigerian</th>\n",
       "      <td>7</td>\n",
       "    </tr>\n",
       "    <tr>\n",
       "      <th>Ethiopian</th>\n",
       "      <td>10</td>\n",
       "    </tr>\n",
       "    <tr>\n",
       "      <th>Somali</th>\n",
       "      <td>13</td>\n",
       "    </tr>\n",
       "  </tbody>\n",
       "</table>\n",
       "</div>"
      ],
      "text/plain": [
       "                              count\n",
       "ancestry_countries_2_percent       \n",
       "South African                     1\n",
       "Liberian                          2\n",
       "Sudanese                          2\n",
       "Ghanaian                          3\n",
       "Cape Verdean                      4\n",
       "Nigerian                          7\n",
       "Ethiopian                        10\n",
       "Somali                           13"
      ]
     },
     "execution_count": 57,
     "metadata": {},
     "output_type": "execute_result"
    }
   ],
   "source": [
    "pd.DataFrame(\n",
    "    ethnicity_per_county_df.groupby(\"ancestry_countries_2_percent\").size(),\n",
    "    columns=[\"count\"],\n",
    ").sort_values(\"count\")"
   ]
  },
  {
   "cell_type": "code",
   "execution_count": null,
   "id": "e7773971-f154-48cb-ba4d-a3eb9ff6cdcd",
   "metadata": {},
   "outputs": [],
   "source": []
  },
  {
   "cell_type": "code",
   "execution_count": null,
   "id": "fcbf8b0a-15eb-4664-af7c-d705e78f14a5",
   "metadata": {},
   "outputs": [],
   "source": []
  }
 ],
 "metadata": {
  "kernelspec": {
   "display_name": "Python 3 (ipykernel)",
   "language": "python",
   "name": "python3"
  },
  "language_info": {
   "codemirror_mode": {
    "name": "ipython",
    "version": 3
   },
   "file_extension": ".py",
   "mimetype": "text/x-python",
   "name": "python",
   "nbconvert_exporter": "python",
   "pygments_lexer": "ipython3",
   "version": "3.11.11"
  }
 },
 "nbformat": 4,
 "nbformat_minor": 5
}
