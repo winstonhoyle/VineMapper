{
 "cells": [
  {
   "cell_type": "code",
   "execution_count": 1,
   "id": "c4323fb2-1721-463e-8602-d1c3302ff523",
   "metadata": {},
   "outputs": [],
   "source": [
    "import geopandas as gpd\n",
    "import pandas as pd"
   ]
  },
  {
   "cell_type": "markdown",
   "id": "7bfd8f31-eada-447d-af06-da8a94290c02",
   "metadata": {},
   "source": [
    "## Open State data"
   ]
  },
  {
   "cell_type": "code",
   "execution_count": 2,
   "id": "a7297c0e-e755-4582-8d77-a8ca21ca4fe1",
   "metadata": {},
   "outputs": [],
   "source": [
    "file_path = \"data/cb_2024_us_county_500k/cb_2024_us_county_500k.shp\"\n",
    "counties_gdf = gpd.read_file(file_path)"
   ]
  },
  {
   "cell_type": "markdown",
   "id": "74b55cfa-2db3-4a7c-bd04-0b341757effe",
   "metadata": {},
   "source": [
    "## Get Ethnicity amounts"
   ]
  },
  {
   "cell_type": "code",
   "execution_count": 26,
   "id": "3992f69b-d2c6-4058-879b-b3df9efd2c6a",
   "metadata": {},
   "outputs": [],
   "source": [
    "acs_ethnicity = pd.read_csv(\n",
    "    \"data/ACSDT5Y2023.B04006_2025-05-02T185520/ACSDT5Y2023.B04006-Data.csv\",\n",
    "    low_memory=False,\n",
    ")"
   ]
  },
  {
   "cell_type": "markdown",
   "id": "882f6ea0-65a2-404e-8c20-4571501b5685",
   "metadata": {},
   "source": [
    "#### Get Column names"
   ]
  },
  {
   "cell_type": "code",
   "execution_count": 49,
   "id": "4a3b0141-aaf8-405a-bfd0-eef85e9d5b94",
   "metadata": {},
   "outputs": [],
   "source": [
    "acs_column_names = pd.read_csv(\n",
    "    \"data/ACSDT5Y2023.B04006_2025-05-02T185520/ACSDT5Y2023.B04006-Column-Metadata.csv\"\n",
    ")"
   ]
  },
  {
   "cell_type": "code",
   "execution_count": 50,
   "id": "46dc036f-bc15-47ee-8051-20917c14c97e",
   "metadata": {},
   "outputs": [],
   "source": [
    "ancestry_tied_to_country = [\n",
    "    \"Carpatho Rusyn\",\n",
    "    \"Croatian\",\n",
    "    \"Czech\",\n",
    "    \"Czechoslovakian\",\n",
    "    \"Eastern European\",\n",
    "    \"Macedonian\",\n",
    "    \"Polish\",\n",
    "    \"Russian\",\n",
    "    \"Serbian\",\n",
    "    \"Slavic\",\n",
    "    \"Slovak\",\n",
    "    \"Slovene\",\n",
    "    \"Soviet Union\",\n",
    "    \"Ukrainian\",\n",
    "    \"Yugoslavian\",\n",
    "]"
   ]
  },
  {
   "cell_type": "code",
   "execution_count": 51,
   "id": "bc8d24b3-9c59-4bc0-8c5e-dd668d8c70e7",
   "metadata": {},
   "outputs": [],
   "source": [
    "acs_column_names = acs_column_names[\n",
    "    acs_column_names[\"Label\"].str.split(\"!!\").str[2].isin(ancestry_tied_to_country)\n",
    "]\n",
    "acs_column_names = acs_column_names[\n",
    "    acs_column_names[\"Label\"].str.split(\"!!\").str[0] == \"Estimate\"\n",
    "]\n",
    "acs_column_names[\"ETHNICITY\"] = acs_column_names[\"Label\"].str.split(\"!!\").str[2]"
   ]
  },
  {
   "cell_type": "code",
   "execution_count": 52,
   "id": "07d142e8-e490-4174-ac05-41eadf749b12",
   "metadata": {},
   "outputs": [],
   "source": [
    "ethnicity_cols = list(acs_column_names[\"Column Name\"]) + [\"B04006_001E\"]"
   ]
  },
  {
   "cell_type": "markdown",
   "id": "c156cb57-84a4-47fe-81d8-2691da36f9d8",
   "metadata": {},
   "source": [
    "#### Back to Data"
   ]
  },
  {
   "cell_type": "code",
   "execution_count": 55,
   "id": "aa7b42ad-0079-4663-bc73-f9b03abb4523",
   "metadata": {},
   "outputs": [],
   "source": [
    "rename_cols = {\n",
    "    \"Estimate!!Total:!!Carpatho Rusyn\": \"CARPATHO RUSYN\",\n",
    "    \"Estimate!!Total:!!Croatian\": \"CROATIAN\",\n",
    "    \"Estimate!!Total:!!Czech\": \"CZECH\",\n",
    "    \"Estimate!!Total:!!Czechoslovakian\": \"CZECHOSLOVAKIAN\",\n",
    "    \"Estimate!!Total:!!Eastern European\": \"EASTERN EUROPEAN\",\n",
    "    \"Estimate!!Total:!!Macedonian\": \"MACEDONIAN\",\n",
    "    \"Estimate!!Total:!!Polish\": \"POLISH\",\n",
    "    \"Estimate!!Total:!!Russian\": \"RUSSIAN\",\n",
    "    \"Estimate!!Total:!!Serbian\": \"SERBIAN\",\n",
    "    \"Estimate!!Total:!!Slavic\": \"SLAVIC\",\n",
    "    \"Estimate!!Total:!!Slovak\": \"SLOVAK\",\n",
    "    \"Estimate!!Total:!!Slovene\": \"SLOVENE\",\n",
    "    \"Estimate!!Total:!!Soviet Union\": \"SOVIET UNION\",\n",
    "    \"Estimate!!Total:!!Ukrainian\": \"UKRAINIAN\",\n",
    "    \"Estimate!!Total:!!Yugoslavian\": \"YUGOSLAVIAN\",\n",
    "    \"Geography\": \"GEOIDFQ\",\n",
    "    \"Estimate!!Total:\": \"TOTAL\",\n",
    "}"
   ]
  },
  {
   "cell_type": "code",
   "execution_count": 56,
   "id": "46820b78-1f2a-4160-8205-6be79a179254",
   "metadata": {},
   "outputs": [],
   "source": [
    "ethnicity_per_county_df = acs_ethnicity[[\"GEO_ID\", *ethnicity_cols]]\n",
    "ethnicity_per_county_df.columns = ethnicity_per_county_df.iloc[0]\n",
    "ethnicity_per_county_df = ethnicity_per_county_df[1:]\n",
    "ethnicity_per_county_df = ethnicity_per_county_df.rename(columns=rename_cols)"
   ]
  },
  {
   "cell_type": "code",
   "execution_count": 57,
   "id": "b325495b-dd3d-498c-bea7-65a0c9816d8f",
   "metadata": {},
   "outputs": [],
   "source": [
    "ancestry_cols = list(rename_cols.values())[:-2]"
   ]
  },
  {
   "cell_type": "code",
   "execution_count": 58,
   "id": "fa0289ce-cd2f-4fd8-a4bf-0229a242d12f",
   "metadata": {},
   "outputs": [],
   "source": [
    "ethnicity_per_county_df[ancestry_cols] = ethnicity_per_county_df[ancestry_cols].astype(\n",
    "    int\n",
    ")"
   ]
  },
  {
   "cell_type": "code",
   "execution_count": 59,
   "id": "6454af65-778a-4d2d-b13c-597ba6312d12",
   "metadata": {},
   "outputs": [],
   "source": [
    "ethnicity_per_county_df[\"ancestry_total\"] = ethnicity_per_county_df[ancestry_cols].sum(\n",
    "    axis=1\n",
    ")\n",
    "ethnicity_per_county_df[\"ancestry_total_percent\"] = ethnicity_per_county_df[\n",
    "    \"ancestry_total\"\n",
    "] / ethnicity_per_county_df[\"TOTAL\"].astype(int)"
   ]
  },
  {
   "cell_type": "markdown",
   "id": "ea0435b2-f5f4-4186-853b-615f63cc50aa",
   "metadata": {},
   "source": [
    "## Merge Data"
   ]
  },
  {
   "cell_type": "code",
   "execution_count": 72,
   "id": "d4a5a0e8-3ef3-4744-a56e-cc8c255348e1",
   "metadata": {},
   "outputs": [],
   "source": [
    "ethnicity_per_county_df[\"ancestry_countries_1_percent\"] = ethnicity_per_county_df[\n",
    "    ethnicity_per_county_df[\"ancestry_total_percent\"] >= 0.01\n",
    "][ancestry_cols].idxmax(axis=1)\n",
    "ethnicity_per_county_df[\"ancestry_countries_2_percent\"] = ethnicity_per_county_df[\n",
    "    ethnicity_per_county_df[\"ancestry_total_percent\"] >= 0.02\n",
    "][ancestry_cols].idxmax(axis=1)\n",
    "ethnicity_per_county_df[\"ancestry_countries_3_percent\"] = ethnicity_per_county_df[\n",
    "    ethnicity_per_county_df[\"ancestry_total_percent\"] >= 0.03\n",
    "][ancestry_cols].idxmax(axis=1)\n",
    "ethnicity_per_county_df[\"ancestry_countries_4_percent\"] = ethnicity_per_county_df[\n",
    "    ethnicity_per_county_df[\"ancestry_total_percent\"] >= 0.04\n",
    "][ancestry_cols].idxmax(axis=1)\n",
    "ethnicity_per_county_df[\"ancestry_countries_5_percent\"] = ethnicity_per_county_df[\n",
    "    ethnicity_per_county_df[\"ancestry_total_percent\"] >= 0.05\n",
    "][ancestry_cols].idxmax(axis=1)"
   ]
  },
  {
   "cell_type": "code",
   "execution_count": 73,
   "id": "335e5a07-6df8-46bf-bc7d-1512019384fd",
   "metadata": {},
   "outputs": [],
   "source": [
    "ethnicity_per_county_gdf = counties_gdf.merge(\n",
    "    ethnicity_per_county_df, on=\"GEOIDFQ\", how=\"left\"\n",
    ")"
   ]
  },
  {
   "cell_type": "code",
   "execution_count": 74,
   "id": "8aab9d27-4076-4866-a884-10d8294d0a91",
   "metadata": {},
   "outputs": [],
   "source": [
    "ethnicity_per_county_gdf[\"county_id\"] = ethnicity_per_county_gdf[\"GEOIDFQ\"].str[9:]\n",
    "ethnicity_per_county_gdf[\"state_id\"] = ethnicity_per_county_gdf[\"GEOIDFQ\"].str[9:11]"
   ]
  },
  {
   "cell_type": "code",
   "execution_count": 75,
   "id": "ae923604-fd11-4c7d-a480-4f53abaeafbc",
   "metadata": {},
   "outputs": [],
   "source": [
    "ethnicity_per_county_gdf = ethnicity_per_county_gdf.to_crs(9311)\n",
    "ethnicity_per_county_gdf.to_file(\"data/slavic_ancestry_per_county.gpkg\")"
   ]
  },
  {
   "cell_type": "code",
   "execution_count": 76,
   "id": "641fe6e8-a92d-407d-b49c-f85ac7139bbd",
   "metadata": {},
   "outputs": [
    {
     "data": {
      "text/plain": [
       "ancestry_countries_3_percent\n",
       "CROATIAN              3\n",
       "CZECH               186\n",
       "CZECHOSLOVAKIAN       2\n",
       "EASTERN EUROPEAN      5\n",
       "POLISH              983\n",
       "RUSSIAN              66\n",
       "SLOVAK                4\n",
       "UKRAINIAN            12\n",
       "YUGOSLAVIAN           1\n",
       "dtype: int64"
      ]
     },
     "execution_count": 76,
     "metadata": {},
     "output_type": "execute_result"
    }
   ],
   "source": [
    "ethnicity_per_county_gdf.groupby(\"ancestry_countries_3_percent\").size()"
   ]
  },
  {
   "cell_type": "code",
   "execution_count": null,
   "id": "e7773971-f154-48cb-ba4d-a3eb9ff6cdcd",
   "metadata": {},
   "outputs": [],
   "source": []
  }
 ],
 "metadata": {
  "kernelspec": {
   "display_name": "Python 3 (ipykernel)",
   "language": "python",
   "name": "python3"
  },
  "language_info": {
   "codemirror_mode": {
    "name": "ipython",
    "version": 3
   },
   "file_extension": ".py",
   "mimetype": "text/x-python",
   "name": "python",
   "nbconvert_exporter": "python",
   "pygments_lexer": "ipython3",
   "version": "3.11.11"
  }
 },
 "nbformat": 4,
 "nbformat_minor": 5
}
