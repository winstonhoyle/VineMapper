{
 "cells": [
  {
   "cell_type": "code",
   "execution_count": 1,
   "id": "3602774a-bece-40da-bc0b-6d2b1b531eaa",
   "metadata": {},
   "outputs": [],
   "source": [
    "import geopandas as gpd\n",
    "import pandas as pd"
   ]
  },
  {
   "cell_type": "markdown",
   "id": "1c73ab1f-e735-4ef1-ab14-4cb84611ae0a",
   "metadata": {},
   "source": [
    "## Open GIS Data"
   ]
  },
  {
   "cell_type": "code",
   "execution_count": 2,
   "id": "4a14f105-db30-45fb-af3b-77ca20dbf12c",
   "metadata": {},
   "outputs": [],
   "source": [
    "file_path = \"data/cb_2018_us_state_500k/cb_2018_us_state_500k.shp\"\n",
    "states_df = gpd.read_file(file_path)"
   ]
  },
  {
   "cell_type": "markdown",
   "id": "c27c029d-e8cb-40ff-89e7-63b12f575249",
   "metadata": {},
   "source": [
    "## Get Ethnic Data"
   ]
  },
  {
   "cell_type": "code",
   "execution_count": 3,
   "id": "91ee61b1-0872-453d-91c5-b3eeb77f220a",
   "metadata": {},
   "outputs": [],
   "source": [
    "acs_ethnicity = pd.read_csv(\"data/ACSDT5Y2022.B04006-2024-11-26T060413.csv\")"
   ]
  },
  {
   "cell_type": "code",
   "execution_count": 4,
   "id": "c7ecf3be-8eaa-4ef5-bbf3-b53dbc29636e",
   "metadata": {},
   "outputs": [],
   "source": [
    "rename_columns = {}\n",
    "for column in list(acs_ethnicity.columns):\n",
    "    str_split = column.split(\"!!\")\n",
    "    if len(str_split) == 2:\n",
    "        if str_split[1] == \"Estimate\":\n",
    "            rename_columns[column] = str_split[0].strip()\n",
    "    else:\n",
    "        continue"
   ]
  },
  {
   "cell_type": "code",
   "execution_count": 5,
   "id": "22df1129-4fbc-4b2d-a46f-6cf1086fa156",
   "metadata": {},
   "outputs": [],
   "source": [
    "states = list(rename_columns.values())\n",
    "states.remove(\"Peoples township, Boone County, Iowa\")"
   ]
  },
  {
   "cell_type": "code",
   "execution_count": 6,
   "id": "cecff627-3586-4497-b8cb-4a3d430b6a67",
   "metadata": {},
   "outputs": [],
   "source": [
    "rename_columns[\"Label (Grouping)\"] = \"group\"\n",
    "states.append(\"group\")\n",
    "acs_ethnicity = acs_ethnicity.rename(columns=rename_columns)"
   ]
  },
  {
   "cell_type": "code",
   "execution_count": 7,
   "id": "81c6ce2c-273d-4c09-b519-59b62d78b9c0",
   "metadata": {},
   "outputs": [],
   "source": [
    "acs_ethnicity = acs_ethnicity[states]\n",
    "states.remove(\"group\")"
   ]
  },
  {
   "cell_type": "markdown",
   "id": "ea5bd5ca-77c7-4596-8c8c-f7d50dd09f1a",
   "metadata": {},
   "source": [
    "#### Remove the last record as it's the titles, set then remove."
   ]
  },
  {
   "cell_type": "code",
   "execution_count": 8,
   "id": "62239b53-b4e2-4c36-a5b6-63af21987ed1",
   "metadata": {},
   "outputs": [],
   "source": [
    "acs_ethnicity = acs_ethnicity.T.reset_index()\n",
    "acs_ethnicity.columns = acs_ethnicity.iloc[52]\n",
    "acs_ethnicity = acs_ethnicity.drop(acs_ethnicity.index[52])"
   ]
  },
  {
   "cell_type": "code",
   "execution_count": 9,
   "id": "1adf40ac-efb3-4cd1-8a17-cf9557210698",
   "metadata": {},
   "outputs": [],
   "source": [
    "states_series = acs_ethnicity[\"group\"]"
   ]
  },
  {
   "cell_type": "code",
   "execution_count": 10,
   "id": "ed192746-9334-42f7-be91-5acb2e696efa",
   "metadata": {},
   "outputs": [],
   "source": [
    "acs_ethnicity = acs_ethnicity.loc[:, acs_ethnicity.columns != \"group\"].apply(\n",
    "    lambda col: pd.to_numeric(col.str.replace(\",\", \"\"), errors=\"coerce\"), axis=1\n",
    ")"
   ]
  },
  {
   "cell_type": "code",
   "execution_count": 11,
   "id": "971a42c1-fa5e-43ef-8d5c-39df645efbc0",
   "metadata": {},
   "outputs": [],
   "source": [
    "acs_ethnicity[\"NAME\"] = states_series"
   ]
  },
  {
   "cell_type": "code",
   "execution_count": 12,
   "id": "e1c58184-90a7-4fd8-a019-791d6e1a0d05",
   "metadata": {},
   "outputs": [],
   "source": [
    "rename_columns = {col: col.strip() for col in list(acs_ethnicity.columns)}\n",
    "acs_ethnicity = acs_ethnicity.rename(columns=rename_columns)"
   ]
  },
  {
   "cell_type": "markdown",
   "id": "400fde48-96e8-47a0-b4b6-6bb2515fd52c",
   "metadata": {},
   "source": [
    "## Get Scotch-Irish Data"
   ]
  },
  {
   "cell_type": "code",
   "execution_count": 13,
   "id": "df123425-9ed5-479b-800c-a898679a9f1e",
   "metadata": {},
   "outputs": [],
   "source": [
    "si_df = acs_ethnicity[[\"NAME\", \"Total:\", \"Scotch-Irish\"]]"
   ]
  },
  {
   "cell_type": "code",
   "execution_count": 14,
   "id": "ca791af7-a2bd-4909-863b-758be9ab5f9f",
   "metadata": {},
   "outputs": [
    {
     "name": "stderr",
     "output_type": "stream",
     "text": [
      "/tmp/ipykernel_8859/1905304674.py:1: SettingWithCopyWarning: \n",
      "A value is trying to be set on a copy of a slice from a DataFrame.\n",
      "Try using .loc[row_indexer,col_indexer] = value instead\n",
      "\n",
      "See the caveats in the documentation: https://pandas.pydata.org/pandas-docs/stable/user_guide/indexing.html#returning-a-view-versus-a-copy\n",
      "  si_df[\"per_1000\"] = si_df[\"Scotch-Irish\"] / (si_df[\"Total:\"] / 1000)\n",
      "/tmp/ipykernel_8859/1905304674.py:2: SettingWithCopyWarning: \n",
      "A value is trying to be set on a copy of a slice from a DataFrame.\n",
      "Try using .loc[row_indexer,col_indexer] = value instead\n",
      "\n",
      "See the caveats in the documentation: https://pandas.pydata.org/pandas-docs/stable/user_guide/indexing.html#returning-a-view-versus-a-copy\n",
      "  si_df[\"per_10k\"] = si_df[\"Scotch-Irish\"] / (si_df[\"Total:\"] / 10_000)\n",
      "/tmp/ipykernel_8859/1905304674.py:3: SettingWithCopyWarning: \n",
      "A value is trying to be set on a copy of a slice from a DataFrame.\n",
      "Try using .loc[row_indexer,col_indexer] = value instead\n",
      "\n",
      "See the caveats in the documentation: https://pandas.pydata.org/pandas-docs/stable/user_guide/indexing.html#returning-a-view-versus-a-copy\n",
      "  si_df[\"per_100k\"] = (\n",
      "/tmp/ipykernel_8859/1905304674.py:8: SettingWithCopyWarning: \n",
      "A value is trying to be set on a copy of a slice from a DataFrame.\n",
      "Try using .loc[row_indexer,col_indexer] = value instead\n",
      "\n",
      "See the caveats in the documentation: https://pandas.pydata.org/pandas-docs/stable/user_guide/indexing.html#returning-a-view-versus-a-copy\n",
      "  si_df[\"per_500k\"] = (\n",
      "/tmp/ipykernel_8859/1905304674.py:13: SettingWithCopyWarning: \n",
      "A value is trying to be set on a copy of a slice from a DataFrame.\n",
      "Try using .loc[row_indexer,col_indexer] = value instead\n",
      "\n",
      "See the caveats in the documentation: https://pandas.pydata.org/pandas-docs/stable/user_guide/indexing.html#returning-a-view-versus-a-copy\n",
      "  si_df[\"per_1m\"] = (\n"
     ]
    }
   ],
   "source": [
    "si_df[\"per_1000\"] = si_df[\"Scotch-Irish\"] / (si_df[\"Total:\"] / 1000)\n",
    "si_df[\"per_10k\"] = si_df[\"Scotch-Irish\"] / (si_df[\"Total:\"] / 10_000)\n",
    "si_df[\"per_100k\"] = (\n",
    "    (si_df[\"Scotch-Irish\"] / (si_df[\"Total:\"] / 100000)).round(decimals=0).astype(int)\n",
    ")\n",
    "si_df[\"per_500k\"] = (\n",
    "    (si_df[\"Scotch-Irish\"] / (si_df[\"Total:\"] / 500_000)).round(decimals=0).astype(int)\n",
    ")\n",
    "si_df[\"per_1m\"] = (\n",
    "    (si_df[\"Scotch-Irish\"] / (si_df[\"Total:\"] / 1_000_000))\n",
    "    .round(decimals=0)\n",
    "    .astype(int)\n",
    ")"
   ]
  },
  {
   "cell_type": "markdown",
   "id": "6cfad3eb-2d55-4258-ac9c-7c34e073d369",
   "metadata": {},
   "source": [
    "## Merge Data"
   ]
  },
  {
   "cell_type": "code",
   "execution_count": 17,
   "id": "852d9c23-bfa0-4cfc-a7e4-fb86126441b4",
   "metadata": {},
   "outputs": [],
   "source": [
    "si_per_state_df = states_df[[\"geometry\", \"NAME\"]].merge(si_df, on=\"NAME\", how=\"left\")"
   ]
  },
  {
   "cell_type": "code",
   "execution_count": 18,
   "id": "cb82b408-71ab-4cdd-98c2-cedeccf83c38",
   "metadata": {},
   "outputs": [],
   "source": [
    "si_per_state_df = si_per_state_df.to_crs(9311)"
   ]
  },
  {
   "cell_type": "code",
   "execution_count": 19,
   "id": "26c28d2e-563f-4599-9050-b69188c4b73d",
   "metadata": {},
   "outputs": [],
   "source": [
    "si_per_state_df.to_file(\"data/si.gpkg\")"
   ]
  },
  {
   "cell_type": "code",
   "execution_count": null,
   "id": "fde853e2-4736-4daa-bd16-169ab75d1935",
   "metadata": {},
   "outputs": [],
   "source": []
  }
 ],
 "metadata": {
  "kernelspec": {
   "display_name": "Python 3 (ipykernel)",
   "language": "python",
   "name": "python3"
  },
  "language_info": {
   "codemirror_mode": {
    "name": "ipython",
    "version": 3
   },
   "file_extension": ".py",
   "mimetype": "text/x-python",
   "name": "python",
   "nbconvert_exporter": "python",
   "pygments_lexer": "ipython3",
   "version": "3.11.11"
  }
 },
 "nbformat": 4,
 "nbformat_minor": 5
}
