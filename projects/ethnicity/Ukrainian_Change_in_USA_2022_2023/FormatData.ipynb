{
 "cells": [
  {
   "cell_type": "code",
   "execution_count": 74,
   "id": "3602774a-bece-40da-bc0b-6d2b1b531eaa",
   "metadata": {},
   "outputs": [],
   "source": [
    "import geopandas as gpd\n",
    "import pandas as pd"
   ]
  },
  {
   "cell_type": "markdown",
   "id": "1c73ab1f-e735-4ef1-ab14-4cb84611ae0a",
   "metadata": {},
   "source": [
    "## Open GIS Data"
   ]
  },
  {
   "cell_type": "code",
   "execution_count": 75,
   "id": "4a14f105-db30-45fb-af3b-77ca20dbf12c",
   "metadata": {},
   "outputs": [],
   "source": [
    "file_path = \"data/cb_2018_us_state_500k/cb_2018_us_state_500k.shp\"\n",
    "states_df = gpd.read_file(file_path)"
   ]
  },
  {
   "cell_type": "code",
   "execution_count": 76,
   "id": "c7ecf3be-8eaa-4ef5-bbf3-b53dbc29636e",
   "metadata": {},
   "outputs": [],
   "source": [
    "def build_df(file_name: str, column_name: str) -> pd.DataFrame:\n",
    "    acs_ethnicity = pd.read_csv(file_name)\n",
    "    rename_columns = {}\n",
    "    for column in list(acs_ethnicity.columns):\n",
    "        str_split = column.split(\"!!\")\n",
    "        if len(str_split) == 2:\n",
    "            if str_split[1] == \"Estimate\":\n",
    "                rename_columns[column] = str_split[0].strip()\n",
    "        else:\n",
    "            continue\n",
    "\n",
    "    states = list(rename_columns.values())\n",
    "    states.remove(\"Peoples township, Boone County, Iowa\")\n",
    "    rename_columns[\"Label (Grouping)\"] = \"group\"\n",
    "    states.append(\"group\")\n",
    "    acs_ethnicity = acs_ethnicity.rename(columns=rename_columns)\n",
    "    acs_ethnicity = acs_ethnicity[states]\n",
    "    states.remove(\"group\")\n",
    "    acs_ethnicity = acs_ethnicity.T.reset_index()\n",
    "    acs_ethnicity.columns = acs_ethnicity.iloc[52]\n",
    "    ## Remove the last record as it's the titles, set then remove.\n",
    "    acs_ethnicity = acs_ethnicity.drop(acs_ethnicity.index[52])\n",
    "    states_series = acs_ethnicity[\"group\"]\n",
    "    acs_ethnicity = acs_ethnicity.loc[:, acs_ethnicity.columns != \"group\"].apply(\n",
    "        lambda col: pd.to_numeric(col.str.replace(\",\", \"\"), errors=\"coerce\"), axis=1\n",
    "    )\n",
    "    acs_ethnicity[\"NAME\"] = states_series\n",
    "    rename_columns = {col: col.strip() for col in list(acs_ethnicity.columns)}\n",
    "    rename_columns[\"Total:\"] = \"TOTAL\"\n",
    "    acs_ethnicity = acs_ethnicity.rename(columns=rename_columns)\n",
    "    pg_df = acs_ethnicity[[\"NAME\", \"TOTAL\", column_name]]\n",
    "    pg_df[\"PERCENT\"] = (\n",
    "        (acs_ethnicity[column_name] / acs_ethnicity[\"TOTAL\"]) * 100\n",
    "    ).round(decimals=3)\n",
    "    pg_df[\"per_100k\"] = (pg_df[column_name] / (pg_df[\"TOTAL\"] / 100_000)).astype(int)\n",
    "    return pg_df"
   ]
  },
  {
   "cell_type": "markdown",
   "id": "c27c029d-e8cb-40ff-89e7-63b12f575249",
   "metadata": {},
   "source": [
    "## Get 2022 Ethnic Data"
   ]
  },
  {
   "cell_type": "code",
   "execution_count": 77,
   "id": "22df1129-4fbc-4b2d-a46f-6cf1086fa156",
   "metadata": {},
   "outputs": [
    {
     "name": "stderr",
     "output_type": "stream",
     "text": [
      "/tmp/ipykernel_10888/2391224072.py:32: SettingWithCopyWarning: \n",
      "A value is trying to be set on a copy of a slice from a DataFrame.\n",
      "Try using .loc[row_indexer,col_indexer] = value instead\n",
      "\n",
      "See the caveats in the documentation: https://pandas.pydata.org/pandas-docs/stable/user_guide/indexing.html#returning-a-view-versus-a-copy\n",
      "  pg_df['PERCENT'] = ((acs_ethnicity[column_name] / acs_ethnicity['TOTAL'])*100).round(decimals=3)\n",
      "/tmp/ipykernel_10888/2391224072.py:33: SettingWithCopyWarning: \n",
      "A value is trying to be set on a copy of a slice from a DataFrame.\n",
      "Try using .loc[row_indexer,col_indexer] = value instead\n",
      "\n",
      "See the caveats in the documentation: https://pandas.pydata.org/pandas-docs/stable/user_guide/indexing.html#returning-a-view-versus-a-copy\n",
      "  pg_df[\"per_100k\"] = (pg_df[column_name] / (pg_df['TOTAL'] / 100_000)).astype(int)\n"
     ]
    }
   ],
   "source": [
    "pg_2022_df = build_df(\"data/ACSDT5Y2022.B04006-2025-03-26T204306.csv\", \"Ukrainian\")"
   ]
  },
  {
   "cell_type": "code",
   "execution_count": 78,
   "id": "cecff627-3586-4497-b8cb-4a3d430b6a67",
   "metadata": {},
   "outputs": [
    {
     "name": "stderr",
     "output_type": "stream",
     "text": [
      "/tmp/ipykernel_10888/2391224072.py:32: SettingWithCopyWarning: \n",
      "A value is trying to be set on a copy of a slice from a DataFrame.\n",
      "Try using .loc[row_indexer,col_indexer] = value instead\n",
      "\n",
      "See the caveats in the documentation: https://pandas.pydata.org/pandas-docs/stable/user_guide/indexing.html#returning-a-view-versus-a-copy\n",
      "  pg_df['PERCENT'] = ((acs_ethnicity[column_name] / acs_ethnicity['TOTAL'])*100).round(decimals=3)\n",
      "/tmp/ipykernel_10888/2391224072.py:33: SettingWithCopyWarning: \n",
      "A value is trying to be set on a copy of a slice from a DataFrame.\n",
      "Try using .loc[row_indexer,col_indexer] = value instead\n",
      "\n",
      "See the caveats in the documentation: https://pandas.pydata.org/pandas-docs/stable/user_guide/indexing.html#returning-a-view-versus-a-copy\n",
      "  pg_df[\"per_100k\"] = (pg_df[column_name] / (pg_df['TOTAL'] / 100_000)).astype(int)\n"
     ]
    }
   ],
   "source": [
    "pg_2023_df = build_df(\"data/ACSDT5Y2023.B04006-2025-03-26T203127.csv\", \"Ukrainian\")"
   ]
  },
  {
   "cell_type": "code",
   "execution_count": 79,
   "id": "81c6ce2c-273d-4c09-b519-59b62d78b9c0",
   "metadata": {},
   "outputs": [],
   "source": [
    "pg_2022_2023_df = pg_2022_df.merge(\n",
    "    pg_2023_df, on=\"NAME\", how=\"inner\", suffixes=(\"_2022\", \"_2023\")\n",
    ")"
   ]
  },
  {
   "cell_type": "code",
   "execution_count": 80,
   "id": "62239b53-b4e2-4c36-a5b6-63af21987ed1",
   "metadata": {},
   "outputs": [],
   "source": [
    "pg_2022_2023_df[\"population_change\"] = (\n",
    "    pg_2022_2023_df[\"Ukrainian_2023\"] - pg_2022_2023_df[\"Ukrainian_2022\"]\n",
    ")\n",
    "pg_2022_2023_df[\"per_100k_change\"] = (\n",
    "    pg_2022_2023_df[\"per_100k_2023\"] - pg_2022_2023_df[\"per_100k_2022\"]\n",
    ")"
   ]
  },
  {
   "cell_type": "markdown",
   "id": "6cfad3eb-2d55-4258-ac9c-7c34e073d369",
   "metadata": {},
   "source": [
    "## Merge Data"
   ]
  },
  {
   "cell_type": "code",
   "execution_count": 81,
   "id": "852d9c23-bfa0-4cfc-a7e4-fb86126441b4",
   "metadata": {},
   "outputs": [],
   "source": [
    "pg_per_state_df = states_df[[\"geometry\", \"NAME\"]].merge(\n",
    "    pg_2022_2023_df, on=\"NAME\", how=\"left\"\n",
    ")"
   ]
  },
  {
   "cell_type": "code",
   "execution_count": 82,
   "id": "cb82b408-71ab-4cdd-98c2-cedeccf83c38",
   "metadata": {},
   "outputs": [],
   "source": [
    "pg_per_state_df = pg_per_state_df.to_crs(9311)"
   ]
  },
  {
   "cell_type": "code",
   "execution_count": 83,
   "id": "26c28d2e-563f-4599-9050-b69188c4b73d",
   "metadata": {},
   "outputs": [],
   "source": [
    "pg_per_state_df.to_file(\"data/pg.gpkg\")"
   ]
  },
  {
   "cell_type": "code",
   "execution_count": null,
   "id": "fde853e2-4736-4daa-bd16-169ab75d1935",
   "metadata": {},
   "outputs": [],
   "source": []
  }
 ],
 "metadata": {
  "kernelspec": {
   "display_name": "Python 3 (ipykernel)",
   "language": "python",
   "name": "python3"
  },
  "language_info": {
   "codemirror_mode": {
    "name": "ipython",
    "version": 3
   },
   "file_extension": ".py",
   "mimetype": "text/x-python",
   "name": "python",
   "nbconvert_exporter": "python",
   "pygments_lexer": "ipython3",
   "version": "3.11.11"
  }
 },
 "nbformat": 4,
 "nbformat_minor": 5
}
