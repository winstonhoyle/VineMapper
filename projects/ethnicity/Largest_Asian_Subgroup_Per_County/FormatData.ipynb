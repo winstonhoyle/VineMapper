{
 "cells": [
  {
   "cell_type": "code",
   "execution_count": 1,
   "id": "34096667-a395-48d3-be7d-d2dfa7378003",
   "metadata": {},
   "outputs": [],
   "source": [
    "import requests"
   ]
  },
  {
   "cell_type": "code",
   "execution_count": 2,
   "id": "c4323fb2-1721-463e-8602-d1c3302ff523",
   "metadata": {},
   "outputs": [],
   "source": [
    "import geopandas as gpd\n",
    "import pandas as pd"
   ]
  },
  {
   "cell_type": "markdown",
   "id": "7bfd8f31-eada-447d-af06-da8a94290c02",
   "metadata": {},
   "source": [
    "## Open State data"
   ]
  },
  {
   "cell_type": "code",
   "execution_count": 3,
   "id": "5fadd853-8ad5-4832-976a-4d251d5a794b",
   "metadata": {},
   "outputs": [],
   "source": [
    "file_path = \"data/cb_2024_us_county_500k/cb_2024_us_county_500k.shp\"\n",
    "counties_gdf = gpd.read_file(file_path)"
   ]
  },
  {
   "cell_type": "code",
   "execution_count": 4,
   "id": "fd101904-a41f-4436-92ec-d805585a786c",
   "metadata": {},
   "outputs": [],
   "source": [
    "counties_gdf = counties_gdf.rename(columns={\"GEOIDFQ\": \"AFFGEOID\"})"
   ]
  },
  {
   "cell_type": "markdown",
   "id": "6862ed51-6963-4f86-938b-c522d1b92360",
   "metadata": {},
   "source": [
    "## Get Total Population Data"
   ]
  },
  {
   "cell_type": "code",
   "execution_count": 5,
   "id": "a1c04a89-9732-403d-adbd-33b99b4eeef8",
   "metadata": {},
   "outputs": [
    {
     "name": "stdout",
     "output_type": "stream",
     "text": [
      "ERROR! Session/line number was not unique in database. History logging moved to new session 80\n"
     ]
    }
   ],
   "source": [
    "table = \"DP05\"\n",
    "url = \"https://api.census.gov/data/2023/acs/acs5/profile\"\n",
    "params = {\n",
    "    \"get\": f\"group({table})\",\n",
    "    \"ucgid\": \"pseudo(0100000US$0500000)\",\n",
    "}\n",
    "response = requests.get(url, params=params)"
   ]
  },
  {
   "cell_type": "code",
   "execution_count": 6,
   "id": "ca4dd938-4eea-4e95-b86f-da3a1d0fd4e1",
   "metadata": {},
   "outputs": [],
   "source": [
    "data = response.json()"
   ]
  },
  {
   "cell_type": "code",
   "execution_count": 7,
   "id": "bc2b5796-61de-4c27-9007-cdea1263a6d4",
   "metadata": {},
   "outputs": [],
   "source": [
    "columns = data[0]\n",
    "rows = data[1:]\n",
    "pop_df = pd.DataFrame(rows, columns=columns)"
   ]
  },
  {
   "cell_type": "code",
   "execution_count": 8,
   "id": "d7d4c6b5-678a-40ee-ae82-00b00777a359",
   "metadata": {},
   "outputs": [],
   "source": [
    "url = \"https://api.census.gov/data/2023/acs/acs5/profile/variables.json\"\n",
    "response = requests.get(url)\n",
    "variables = response.json()[\"variables\"]"
   ]
  },
  {
   "cell_type": "code",
   "execution_count": 9,
   "id": "3a685d27-c078-49b6-9100-e8ba69067e37",
   "metadata": {},
   "outputs": [],
   "source": [
    "DP05_vars = {k: v[\"label\"] for k, v in variables.items() if k.startswith(table)}\n",
    "DP05_vars[\"ucgid\"] = \"AFFGEOID\""
   ]
  },
  {
   "cell_type": "code",
   "execution_count": 10,
   "id": "32ea0d51-24b5-4ea7-bece-1b82723a11a1",
   "metadata": {},
   "outputs": [],
   "source": [
    "pop_df = pop_df.rename(columns=DP05_vars)\n",
    "pop_df = pop_df[list(DP05_vars.values())]"
   ]
  },
  {
   "cell_type": "code",
   "execution_count": 11,
   "id": "c7af814f-cfc9-4b8d-86f6-b467c6c48c76",
   "metadata": {},
   "outputs": [],
   "source": [
    "pop_df = pop_df[[\"Estimate!!SEX AND AGE!!Total population\", \"AFFGEOID\"]]\n",
    "pop_df = pop_df.rename(columns={\"Estimate!!SEX AND AGE!!Total population\": \"TOTAL_POP\"})\n",
    "pop_df[\"TOTAL_POP\"] = pop_df[\"TOTAL_POP\"].astype(int)"
   ]
  },
  {
   "cell_type": "markdown",
   "id": "2246428d-fae0-4af8-97d2-96519e1527e2",
   "metadata": {},
   "source": [
    "## Get Asian Data"
   ]
  },
  {
   "cell_type": "code",
   "execution_count": 12,
   "id": "9c93f0e3-339f-4d54-b5a1-15534c56d929",
   "metadata": {},
   "outputs": [],
   "source": [
    "table = \"B02015\"\n",
    "\n",
    "url = \"https://api.census.gov/data/2023/acs/acs5\"\n",
    "params = {\n",
    "    \"get\": f\"group({table})\",\n",
    "    \"ucgid\": \"pseudo(0100000US$0500000)\",\n",
    "}\n",
    "response = requests.get(url, params=params)"
   ]
  },
  {
   "cell_type": "code",
   "execution_count": 13,
   "id": "f0762979-d348-443e-8129-31827909a262",
   "metadata": {},
   "outputs": [],
   "source": [
    "data = response.json()\n",
    "columns = data[0]\n",
    "rows = data[1:]\n",
    "asian_df = pd.DataFrame(rows, columns=columns)"
   ]
  },
  {
   "cell_type": "code",
   "execution_count": 14,
   "id": "16265ed0-52cd-4040-a20d-ff1a4343e42b",
   "metadata": {},
   "outputs": [],
   "source": [
    "url = \"https://api.census.gov/data/2023/acs/acs5/variables.json\"\n",
    "response = requests.get(url)\n",
    "variables = response.json()[\"variables\"]"
   ]
  },
  {
   "cell_type": "code",
   "execution_count": 15,
   "id": "fb2aeaab-4d25-4eab-8068-4ce81801b1ad",
   "metadata": {},
   "outputs": [],
   "source": [
    "b02015_vars = {k: v[\"label\"] for k, v in variables.items() if k.startswith(\"B02015\")}\n",
    "b02015_vars[\"ucgid\"] = \"AFFGEOID\""
   ]
  },
  {
   "cell_type": "code",
   "execution_count": 16,
   "id": "1d6e01d7-95e5-4135-acec-7ba07d7bbb36",
   "metadata": {},
   "outputs": [],
   "source": [
    "asian_df = asian_df.rename(columns=b02015_vars)\n",
    "asian_df = asian_df[list(b02015_vars.values())]"
   ]
  },
  {
   "cell_type": "code",
   "execution_count": 17,
   "id": "fccde405-fa0f-44f8-98ee-646a80bfec68",
   "metadata": {},
   "outputs": [],
   "source": [
    "rename_dict = {\n",
    "    col: col.split(\"!!\")[-1]\n",
    "    for col in asian_df.columns\n",
    "    if col.startswith(\"Estimate!!Total\")\n",
    "}\n",
    "asian_df.rename(columns=rename_dict, inplace=True)"
   ]
  },
  {
   "cell_type": "code",
   "execution_count": 18,
   "id": "82fbc0bb-0433-486b-9df9-ca23baa09de0",
   "metadata": {},
   "outputs": [],
   "source": [
    "ethnicity_cols = list(rename_dict.values())\n",
    "asian_df[ethnicity_cols] = asian_df[ethnicity_cols].astype(int)"
   ]
  },
  {
   "cell_type": "code",
   "execution_count": 19,
   "id": "ce1ccf91-edcf-4ba3-a08e-c2631cbfb4f8",
   "metadata": {},
   "outputs": [],
   "source": [
    "ethnicity_cols.remove(\"Total:\")"
   ]
  },
  {
   "cell_type": "code",
   "execution_count": 20,
   "id": "4e4ffcc7-fd5b-4208-8671-f11ddfee704d",
   "metadata": {},
   "outputs": [],
   "source": [
    "asian_df = asian_df.merge(pop_df, on=\"AFFGEOID\", how=\"inner\")"
   ]
  },
  {
   "cell_type": "code",
   "execution_count": 29,
   "id": "f5073577-8a1a-4ce2-bfed-a5e6f4c15662",
   "metadata": {},
   "outputs": [],
   "source": [
    "asian_df[\"asian_total\"] = asian_df[ethnicity_cols].sum(axis=1)\n",
    "asian_df[\"asian_percent\"] = (\n",
    "    (asian_df[\"asian_total\"] / asian_df[\"TOTAL_POP\"]).round(decimals=3).astype(float)\n",
    ")"
   ]
  },
  {
   "cell_type": "code",
   "execution_count": 53,
   "id": "1ad1b42c-0012-4b75-86ae-1116110315f3",
   "metadata": {},
   "outputs": [],
   "source": [
    "asian_df[\"asian_counties_1_percent\"] = asian_df[asian_df[\"asian_percent\"] >= 0.01][\n",
    "    ethnicity_cols\n",
    "].idxmax(axis=1)\n",
    "asian_df[\"asian_counties_2_percent\"] = asian_df[asian_df[\"asian_percent\"] >= 0.02][\n",
    "    ethnicity_cols\n",
    "].idxmax(axis=1)\n",
    "asian_df[\"asian_counties_3_percent\"] = asian_df[asian_df[\"asian_percent\"] >= 0.03][\n",
    "    ethnicity_cols\n",
    "].idxmax(axis=1)\n",
    "asian_df[\"asian_counties_4_percent\"] = asian_df[asian_df[\"asian_percent\"] >= 0.04][\n",
    "    ethnicity_cols\n",
    "].idxmax(axis=1)\n",
    "asian_df[\"asian_counties_5_percent\"] = asian_df[asian_df[\"asian_percent\"] >= 0.05][\n",
    "    ethnicity_cols\n",
    "].idxmax(axis=1)"
   ]
  },
  {
   "cell_type": "code",
   "execution_count": 54,
   "id": "61048a0f-db24-4354-b003-de1c2ab3224e",
   "metadata": {},
   "outputs": [
    {
     "name": "stdout",
     "output_type": "stream",
     "text": [
      "1112\n"
     ]
    },
    {
     "data": {
      "text/plain": [
       "asian_counties_1_percent\n",
       "Asian Indian                  328\n",
       "Bangladeshi                     4\n",
       "Burmese                        34\n",
       "Cambodian                      11\n",
       "Chinese, except Taiwanese     193\n",
       "Filipino                      266\n",
       "Hmong                          54\n",
       "Indonesian                      1\n",
       "Japanese                       13\n",
       "Korean                         41\n",
       "Laotian                        24\n",
       "Nepalese                        7\n",
       "Other Asian, not specified      3\n",
       "Other Asian, specified          2\n",
       "Other Central Asian             3\n",
       "Pakistani                       7\n",
       "Singaporean                     1\n",
       "Sri Lankan                      3\n",
       "Taiwanese                       1\n",
       "Thai                            3\n",
       "Two or more Asian               6\n",
       "Vietnamese                    107\n",
       "dtype: int64"
      ]
     },
     "execution_count": 54,
     "metadata": {},
     "output_type": "execute_result"
    }
   ],
   "source": [
    "print(len(asian_df[~asian_df[\"asian_counties_1_percent\"].isna()]))\n",
    "asian_df.groupby(\"asian_counties_1_percent\").size()"
   ]
  },
  {
   "cell_type": "code",
   "execution_count": 55,
   "id": "22b49e22-f212-4d4a-9717-63c9891ee3ef",
   "metadata": {},
   "outputs": [
    {
     "name": "stdout",
     "output_type": "stream",
     "text": [
      "547\n"
     ]
    },
    {
     "data": {
      "text/plain": [
       "asian_counties_2_percent\n",
       "Asian Indian                  203\n",
       "Burmese                        22\n",
       "Cambodian                       1\n",
       "Chinese, except Taiwanese      97\n",
       "Filipino                      111\n",
       "Hmong                          31\n",
       "Indonesian                      1\n",
       "Japanese                        1\n",
       "Korean                         14\n",
       "Laotian                         9\n",
       "Nepalese                        1\n",
       "Other Asian, not specified      2\n",
       "Other Central Asian             2\n",
       "Pakistani                       2\n",
       "Thai                            1\n",
       "Two or more Asian               2\n",
       "Vietnamese                     47\n",
       "dtype: int64"
      ]
     },
     "execution_count": 55,
     "metadata": {},
     "output_type": "execute_result"
    }
   ],
   "source": [
    "print(len(asian_df[~asian_df[\"asian_counties_2_percent\"].isna()]))\n",
    "asian_df.groupby(\"asian_counties_2_percent\").size()"
   ]
  },
  {
   "cell_type": "code",
   "execution_count": 56,
   "id": "a6b950f9-b081-4212-94b4-66a64c2dd9b0",
   "metadata": {},
   "outputs": [
    {
     "name": "stdout",
     "output_type": "stream",
     "text": [
      "350\n"
     ]
    },
    {
     "data": {
      "text/plain": [
       "asian_counties_3_percent\n",
       "Asian Indian                  143\n",
       "Burmese                        13\n",
       "Cambodian                       1\n",
       "Chinese, except Taiwanese      66\n",
       "Filipino                       66\n",
       "Hmong                          22\n",
       "Korean                          5\n",
       "Laotian                         3\n",
       "Nepalese                        1\n",
       "Other Asian, not specified      1\n",
       "Other Central Asian             2\n",
       "Pakistani                       1\n",
       "Two or more Asian               1\n",
       "Vietnamese                     25\n",
       "dtype: int64"
      ]
     },
     "execution_count": 56,
     "metadata": {},
     "output_type": "execute_result"
    }
   ],
   "source": [
    "print(len(asian_df[~asian_df[\"asian_counties_3_percent\"].isna()]))\n",
    "asian_df.groupby(\"asian_counties_3_percent\").size()"
   ]
  },
  {
   "cell_type": "code",
   "execution_count": 57,
   "id": "955bb2ec-81a0-40c5-ab92-1548f439c2bd",
   "metadata": {},
   "outputs": [
    {
     "name": "stdout",
     "output_type": "stream",
     "text": [
      "257\n"
     ]
    },
    {
     "data": {
      "text/plain": [
       "asian_counties_4_percent\n",
       "Asian Indian                  113\n",
       "Burmese                         8\n",
       "Cambodian                       1\n",
       "Chinese, except Taiwanese      53\n",
       "Filipino                       44\n",
       "Hmong                          16\n",
       "Korean                          2\n",
       "Laotian                         1\n",
       "Nepalese                        1\n",
       "Other Asian, not specified      1\n",
       "Vietnamese                     17\n",
       "dtype: int64"
      ]
     },
     "execution_count": 57,
     "metadata": {},
     "output_type": "execute_result"
    }
   ],
   "source": [
    "print(len(asian_df[~asian_df[\"asian_counties_4_percent\"].isna()]))\n",
    "asian_df.groupby(\"asian_counties_4_percent\").size()"
   ]
  },
  {
   "cell_type": "code",
   "execution_count": 58,
   "id": "4283ce4a-361a-4887-812d-19b1adaf0fa4",
   "metadata": {},
   "outputs": [
    {
     "name": "stdout",
     "output_type": "stream",
     "text": [
      "187\n"
     ]
    },
    {
     "data": {
      "text/plain": [
       "asian_counties_5_percent\n",
       "Asian Indian                  83\n",
       "Burmese                        5\n",
       "Cambodian                      1\n",
       "Chinese, except Taiwanese     41\n",
       "Filipino                      35\n",
       "Hmong                         10\n",
       "Korean                         1\n",
       "Laotian                        1\n",
       "Other Asian, not specified     1\n",
       "Vietnamese                     9\n",
       "dtype: int64"
      ]
     },
     "execution_count": 58,
     "metadata": {},
     "output_type": "execute_result"
    }
   ],
   "source": [
    "print(len(asian_df[~asian_df[\"asian_counties_5_percent\"].isna()]))\n",
    "asian_df.groupby(\"asian_counties_5_percent\").size()"
   ]
  },
  {
   "cell_type": "markdown",
   "id": "ea0435b2-f5f4-4186-853b-615f63cc50aa",
   "metadata": {},
   "source": [
    "## Merge Data"
   ]
  },
  {
   "cell_type": "code",
   "execution_count": 59,
   "id": "741bc565-ebfc-42ba-a794-913e31d2ea26",
   "metadata": {},
   "outputs": [],
   "source": [
    "asian_gdf = counties_gdf.merge(asian_df, on=\"AFFGEOID\", how=\"inner\")"
   ]
  },
  {
   "cell_type": "code",
   "execution_count": 60,
   "id": "ae923604-fd11-4c7d-a480-4f53abaeafbc",
   "metadata": {},
   "outputs": [],
   "source": [
    "asian_gdf = asian_gdf.to_crs(9311)\n",
    "asian_gdf.to_file(\"data/asians_group_per_county.gpkg\")"
   ]
  },
  {
   "cell_type": "code",
   "execution_count": null,
   "id": "537b6034-c588-44fb-9e71-68e5e62adbad",
   "metadata": {},
   "outputs": [],
   "source": []
  }
 ],
 "metadata": {
  "kernelspec": {
   "display_name": "Python 3 (ipykernel)",
   "language": "python",
   "name": "python3"
  },
  "language_info": {
   "codemirror_mode": {
    "name": "ipython",
    "version": 3
   },
   "file_extension": ".py",
   "mimetype": "text/x-python",
   "name": "python",
   "nbconvert_exporter": "python",
   "pygments_lexer": "ipython3",
   "version": "3.11.11"
  }
 },
 "nbformat": 4,
 "nbformat_minor": 5
}
