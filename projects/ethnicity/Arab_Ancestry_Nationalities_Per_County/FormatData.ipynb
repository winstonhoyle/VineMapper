{
 "cells": [
  {
   "cell_type": "code",
   "execution_count": 21,
   "id": "c4323fb2-1721-463e-8602-d1c3302ff523",
   "metadata": {},
   "outputs": [],
   "source": [
    "import geopandas as gpd\n",
    "import pandas as pd"
   ]
  },
  {
   "cell_type": "markdown",
   "id": "7bfd8f31-eada-447d-af06-da8a94290c02",
   "metadata": {},
   "source": [
    "## Open State data"
   ]
  },
  {
   "cell_type": "code",
   "execution_count": 22,
   "id": "a7297c0e-e755-4582-8d77-a8ca21ca4fe1",
   "metadata": {},
   "outputs": [],
   "source": [
    "file_path = \"data/cb_2024_us_county_500k/cb_2024_us_county_500k.shp\"\n",
    "counties_gdf = gpd.read_file(file_path)"
   ]
  },
  {
   "cell_type": "markdown",
   "id": "74b55cfa-2db3-4a7c-bd04-0b341757effe",
   "metadata": {},
   "source": [
    "## Get Ethnicity amounts"
   ]
  },
  {
   "cell_type": "code",
   "execution_count": 23,
   "id": "3992f69b-d2c6-4058-879b-b3df9efd2c6a",
   "metadata": {},
   "outputs": [],
   "source": [
    "acs_ethnicity = pd.read_csv(\n",
    "    \"data/ACSDT5Y2023.B04006_2025-05-02T185520/ACSDT5Y2023.B04006-Data.csv\",\n",
    "    low_memory=False,\n",
    ")"
   ]
  },
  {
   "cell_type": "markdown",
   "id": "882f6ea0-65a2-404e-8c20-4571501b5685",
   "metadata": {},
   "source": [
    "#### Get Column names"
   ]
  },
  {
   "cell_type": "code",
   "execution_count": 24,
   "id": "4a3b0141-aaf8-405a-bfd0-eef85e9d5b94",
   "metadata": {},
   "outputs": [],
   "source": [
    "acs_column_names = pd.read_csv(\n",
    "    \"data/ACSDT5Y2023.B04006_2025-05-02T185520/ACSDT5Y2023.B04006-Column-Metadata.csv\"\n",
    ")"
   ]
  },
  {
   "cell_type": "code",
   "execution_count": 25,
   "id": "07d142e8-e490-4174-ac05-41eadf749b12",
   "metadata": {},
   "outputs": [],
   "source": [
    "ethnicity_cols = list(\n",
    "    acs_column_names[\n",
    "        (acs_column_names[\"Column Name\"] == \"B04006_007E\")\n",
    "        | (acs_column_names[\"Column Name\"] == \"B04006_008E\")\n",
    "        | (acs_column_names[\"Column Name\"] == \"B04006_009E\")\n",
    "        | (acs_column_names[\"Column Name\"] == \"B04006_010E\")\n",
    "        | (acs_column_names[\"Column Name\"] == \"B04006_011E\")\n",
    "        | (acs_column_names[\"Column Name\"] == \"B04006_012E\")\n",
    "        | (acs_column_names[\"Column Name\"] == \"B04006_013E\")\n",
    "        | (acs_column_names[\"Column Name\"] == \"B04006_014E\")\n",
    "        | (acs_column_names[\"Column Name\"] == \"B04006_015E\")\n",
    "        | (acs_column_names[\"Column Name\"] == \"B04006_001E\")\n",
    "    ][\"Column Name\"]\n",
    ")"
   ]
  },
  {
   "cell_type": "markdown",
   "id": "c156cb57-84a4-47fe-81d8-2691da36f9d8",
   "metadata": {},
   "source": [
    "#### Back to Data"
   ]
  },
  {
   "cell_type": "code",
   "execution_count": 26,
   "id": "aa7b42ad-0079-4663-bc73-f9b03abb4523",
   "metadata": {},
   "outputs": [],
   "source": [
    "rename_cols = {\n",
    "    \"Estimate!!Total:!!Arab:!!Egyptian\": \"Egyptian\",\n",
    "    \"Estimate!!Total:!!Arab:!!Iraqi\": \"Iraqi\",\n",
    "    \"Estimate!!Total:!!Arab:!!Jordanian\": \"Jordanian\",\n",
    "    \"Estimate!!Total:!!Arab:!!Lebanese\": \"Lebanese\",\n",
    "    \"Estimate!!Total:!!Arab:!!Moroccan\": \"Moroccan\",\n",
    "    \"Estimate!!Total:!!Arab:!!Palestinian\": \"Palestinian\",\n",
    "    \"Estimate!!Total:!!Arab:!!Syrian\": \"Syrian\",\n",
    "    \"Estimate!!Total:!!Arab:!!Arab\": \"Arab\",\n",
    "    \"Estimate!!Total:!!Arab:!!Other Arab\": \"Other Arab\",\n",
    "    \"Geography\": \"GEOIDFQ\",\n",
    "    \"Estimate!!Total:\": \"TOTAL\",\n",
    "}"
   ]
  },
  {
   "cell_type": "code",
   "execution_count": 27,
   "id": "46820b78-1f2a-4160-8205-6be79a179254",
   "metadata": {},
   "outputs": [],
   "source": [
    "ethnicity_per_county_df = acs_ethnicity[[\"GEO_ID\", *ethnicity_cols]]\n",
    "ethnicity_per_county_df.columns = ethnicity_per_county_df.iloc[0]\n",
    "ethnicity_per_county_df = ethnicity_per_county_df[1:]\n",
    "ethnicity_per_county_df = ethnicity_per_county_df.rename(columns=rename_cols)"
   ]
  },
  {
   "cell_type": "code",
   "execution_count": 28,
   "id": "b325495b-dd3d-498c-bea7-65a0c9816d8f",
   "metadata": {},
   "outputs": [],
   "source": [
    "ancestry_cols = list(rename_cols.values())[:-2]"
   ]
  },
  {
   "cell_type": "code",
   "execution_count": 29,
   "id": "fa0289ce-cd2f-4fd8-a4bf-0229a242d12f",
   "metadata": {},
   "outputs": [],
   "source": [
    "ethnicity_per_county_df[ancestry_cols] = ethnicity_per_county_df[ancestry_cols].astype(\n",
    "    int\n",
    ")"
   ]
  },
  {
   "cell_type": "code",
   "execution_count": 30,
   "id": "6454af65-778a-4d2d-b13c-597ba6312d12",
   "metadata": {},
   "outputs": [],
   "source": [
    "ethnicity_per_county_df[\"ancestry_total\"] = ethnicity_per_county_df[ancestry_cols].sum(\n",
    "    axis=1\n",
    ")\n",
    "ethnicity_per_county_df[\"ancestry_total_percent\"] = ethnicity_per_county_df[\n",
    "    \"ancestry_total\"\n",
    "] / ethnicity_per_county_df[\"TOTAL\"].astype(int)"
   ]
  },
  {
   "cell_type": "markdown",
   "id": "ea0435b2-f5f4-4186-853b-615f63cc50aa",
   "metadata": {},
   "source": [
    "## Merge Data"
   ]
  },
  {
   "cell_type": "code",
   "execution_count": 31,
   "id": "d4a5a0e8-3ef3-4744-a56e-cc8c255348e1",
   "metadata": {},
   "outputs": [],
   "source": [
    "ethnicity_per_county_df[\"ancestry_countries_1_percent\"] = ethnicity_per_county_df[\n",
    "    ethnicity_per_county_df[\"ancestry_total_percent\"] >= 0.01\n",
    "][ancestry_cols].idxmax(axis=1)\n",
    "ethnicity_per_county_df[\"ancestry_countries_2_percent\"] = ethnicity_per_county_df[\n",
    "    ethnicity_per_county_df[\"ancestry_total_percent\"] >= 0.02\n",
    "][ancestry_cols].idxmax(axis=1)\n",
    "ethnicity_per_county_df[\"ancestry_countries_5_percent\"] = ethnicity_per_county_df[\n",
    "    ethnicity_per_county_df[\"ancestry_total_percent\"] >= 0.05\n",
    "][ancestry_cols].idxmax(axis=1)"
   ]
  },
  {
   "cell_type": "code",
   "execution_count": 45,
   "id": "11cbbd94-7b01-4d33-a468-72fb53125952",
   "metadata": {},
   "outputs": [
    {
     "data": {
      "text/plain": [
       "103"
      ]
     },
     "execution_count": 45,
     "metadata": {},
     "output_type": "execute_result"
    }
   ],
   "source": [
    "len(\n",
    "    ethnicity_per_county_df[\n",
    "        ~ethnicity_per_county_df[\"ancestry_countries_1_percent\"].isna()\n",
    "    ]\n",
    ")"
   ]
  },
  {
   "cell_type": "code",
   "execution_count": 46,
   "id": "d181f715-0d58-4014-8a85-17127d3547cb",
   "metadata": {},
   "outputs": [
    {
     "data": {
      "text/plain": [
       "22"
      ]
     },
     "execution_count": 46,
     "metadata": {},
     "output_type": "execute_result"
    }
   ],
   "source": [
    "len(\n",
    "    ethnicity_per_county_df[\n",
    "        ~ethnicity_per_county_df[\"ancestry_countries_2_percent\"].isna()\n",
    "    ]\n",
    ")"
   ]
  },
  {
   "cell_type": "code",
   "execution_count": 47,
   "id": "e3ed7946-4009-4df0-8e9f-f338fe30d482",
   "metadata": {},
   "outputs": [
    {
     "data": {
      "text/plain": [
       "2"
      ]
     },
     "execution_count": 47,
     "metadata": {},
     "output_type": "execute_result"
    }
   ],
   "source": [
    "len(\n",
    "    ethnicity_per_county_df[\n",
    "        ~ethnicity_per_county_df[\"ancestry_countries_5_percent\"].isna()\n",
    "    ]\n",
    ")"
   ]
  },
  {
   "cell_type": "code",
   "execution_count": 50,
   "id": "469ccb56-6672-4ffc-b6a0-4e58e1a4700a",
   "metadata": {},
   "outputs": [
    {
     "data": {
      "text/html": [
       "<div>\n",
       "<style scoped>\n",
       "    .dataframe tbody tr th:only-of-type {\n",
       "        vertical-align: middle;\n",
       "    }\n",
       "\n",
       "    .dataframe tbody tr th {\n",
       "        vertical-align: top;\n",
       "    }\n",
       "\n",
       "    .dataframe thead th {\n",
       "        text-align: right;\n",
       "    }\n",
       "</style>\n",
       "<table border=\"1\" class=\"dataframe\">\n",
       "  <thead>\n",
       "    <tr style=\"text-align: right;\">\n",
       "      <th></th>\n",
       "      <th>GEOIDFQ</th>\n",
       "      <th>TOTAL</th>\n",
       "      <th>Egyptian</th>\n",
       "      <th>Iraqi</th>\n",
       "      <th>Jordanian</th>\n",
       "      <th>Lebanese</th>\n",
       "      <th>Moroccan</th>\n",
       "      <th>Palestinian</th>\n",
       "      <th>Syrian</th>\n",
       "      <th>Arab</th>\n",
       "      <th>Other Arab</th>\n",
       "      <th>ancestry_total</th>\n",
       "      <th>ancestry_total_percent</th>\n",
       "      <th>ancestry_countries_1_percent</th>\n",
       "      <th>ancestry_countries_2_percent</th>\n",
       "      <th>ancestry_countries_5_percent</th>\n",
       "    </tr>\n",
       "  </thead>\n",
       "  <tbody>\n",
       "    <tr>\n",
       "      <th>1315</th>\n",
       "      <td>0500000US26163</td>\n",
       "      <td>1773767</td>\n",
       "      <td>1018</td>\n",
       "      <td>11778</td>\n",
       "      <td>2191</td>\n",
       "      <td>44747</td>\n",
       "      <td>1408</td>\n",
       "      <td>3545</td>\n",
       "      <td>3999</td>\n",
       "      <td>17646</td>\n",
       "      <td>28797</td>\n",
       "      <td>115129</td>\n",
       "      <td>0.064906</td>\n",
       "      <td>Lebanese</td>\n",
       "      <td>Lebanese</td>\n",
       "      <td>Lebanese</td>\n",
       "    </tr>\n",
       "    <tr>\n",
       "      <th>2612</th>\n",
       "      <td>0500000US48173</td>\n",
       "      <td>1070</td>\n",
       "      <td>0</td>\n",
       "      <td>0</td>\n",
       "      <td>49</td>\n",
       "      <td>0</td>\n",
       "      <td>0</td>\n",
       "      <td>0</td>\n",
       "      <td>11</td>\n",
       "      <td>0</td>\n",
       "      <td>0</td>\n",
       "      <td>60</td>\n",
       "      <td>0.056075</td>\n",
       "      <td>Jordanian</td>\n",
       "      <td>Jordanian</td>\n",
       "      <td>Jordanian</td>\n",
       "    </tr>\n",
       "  </tbody>\n",
       "</table>\n",
       "</div>"
      ],
      "text/plain": [
       "0            GEOIDFQ    TOTAL  Egyptian  Iraqi  Jordanian  Lebanese  Moroccan  \\\n",
       "1315  0500000US26163  1773767      1018  11778       2191     44747      1408   \n",
       "2612  0500000US48173     1070         0      0         49         0         0   \n",
       "\n",
       "0     Palestinian  Syrian   Arab  Other Arab  ancestry_total  \\\n",
       "1315         3545    3999  17646       28797          115129   \n",
       "2612            0      11      0           0              60   \n",
       "\n",
       "0     ancestry_total_percent ancestry_countries_1_percent  \\\n",
       "1315                0.064906                     Lebanese   \n",
       "2612                0.056075                    Jordanian   \n",
       "\n",
       "0    ancestry_countries_2_percent ancestry_countries_5_percent  \n",
       "1315                     Lebanese                     Lebanese  \n",
       "2612                    Jordanian                    Jordanian  "
      ]
     },
     "execution_count": 50,
     "metadata": {},
     "output_type": "execute_result"
    }
   ],
   "source": [
    "ethnicity_per_county_df[~ethnicity_per_county_df[\"ancestry_countries_5_percent\"].isna()]"
   ]
  },
  {
   "cell_type": "code",
   "execution_count": 32,
   "id": "335e5a07-6df8-46bf-bc7d-1512019384fd",
   "metadata": {},
   "outputs": [],
   "source": [
    "ethnicity_per_county_gdf = counties_gdf.merge(\n",
    "    ethnicity_per_county_df, on=\"GEOIDFQ\", how=\"left\"\n",
    ")"
   ]
  },
  {
   "cell_type": "code",
   "execution_count": 33,
   "id": "8aab9d27-4076-4866-a884-10d8294d0a91",
   "metadata": {},
   "outputs": [],
   "source": [
    "ethnicity_per_county_gdf[\"county_id\"] = ethnicity_per_county_gdf[\"GEOIDFQ\"].str[9:]\n",
    "ethnicity_per_county_gdf[\"state_id\"] = ethnicity_per_county_gdf[\"GEOIDFQ\"].str[9:11]"
   ]
  },
  {
   "cell_type": "code",
   "execution_count": 34,
   "id": "ae923604-fd11-4c7d-a480-4f53abaeafbc",
   "metadata": {},
   "outputs": [],
   "source": [
    "ethnicity_per_county_gdf = ethnicity_per_county_gdf.to_crs(9311)\n",
    "ethnicity_per_county_gdf.to_file(\"data/arab_ancestry_per_county.gpkg\")"
   ]
  },
  {
   "cell_type": "code",
   "execution_count": 58,
   "id": "641fe6e8-a92d-407d-b49c-f85ac7139bbd",
   "metadata": {},
   "outputs": [
    {
     "data": {
      "text/html": [
       "<div>\n",
       "<style scoped>\n",
       "    .dataframe tbody tr th:only-of-type {\n",
       "        vertical-align: middle;\n",
       "    }\n",
       "\n",
       "    .dataframe tbody tr th {\n",
       "        vertical-align: top;\n",
       "    }\n",
       "\n",
       "    .dataframe thead th {\n",
       "        text-align: right;\n",
       "    }\n",
       "</style>\n",
       "<table border=\"1\" class=\"dataframe\">\n",
       "  <thead>\n",
       "    <tr style=\"text-align: right;\">\n",
       "      <th></th>\n",
       "      <th>count</th>\n",
       "    </tr>\n",
       "    <tr>\n",
       "      <th>ancestry_countries_2_percent</th>\n",
       "      <th></th>\n",
       "    </tr>\n",
       "  </thead>\n",
       "  <tbody>\n",
       "    <tr>\n",
       "      <th>Arab</th>\n",
       "      <td>1</td>\n",
       "    </tr>\n",
       "    <tr>\n",
       "      <th>Jordanian</th>\n",
       "      <td>1</td>\n",
       "    </tr>\n",
       "    <tr>\n",
       "      <th>Moroccan</th>\n",
       "      <td>1</td>\n",
       "    </tr>\n",
       "    <tr>\n",
       "      <th>Iraqi</th>\n",
       "      <td>2</td>\n",
       "    </tr>\n",
       "    <tr>\n",
       "      <th>Lebanese</th>\n",
       "      <td>2</td>\n",
       "    </tr>\n",
       "    <tr>\n",
       "      <th>Syrian</th>\n",
       "      <td>3</td>\n",
       "    </tr>\n",
       "    <tr>\n",
       "      <th>Egyptian</th>\n",
       "      <td>5</td>\n",
       "    </tr>\n",
       "    <tr>\n",
       "      <th>Other Arab</th>\n",
       "      <td>7</td>\n",
       "    </tr>\n",
       "  </tbody>\n",
       "</table>\n",
       "</div>"
      ],
      "text/plain": [
       "                              count\n",
       "ancestry_countries_2_percent       \n",
       "Arab                              1\n",
       "Jordanian                         1\n",
       "Moroccan                          1\n",
       "Iraqi                             2\n",
       "Lebanese                          2\n",
       "Syrian                            3\n",
       "Egyptian                          5\n",
       "Other Arab                        7"
      ]
     },
     "execution_count": 58,
     "metadata": {},
     "output_type": "execute_result"
    }
   ],
   "source": [
    "pd.DataFrame(\n",
    "    ethnicity_per_county_df.groupby(\"ancestry_countries_2_percent\").size(),\n",
    "    columns=[\"count\"],\n",
    ").sort_values(\"count\")"
   ]
  },
  {
   "cell_type": "code",
   "execution_count": null,
   "id": "e7773971-f154-48cb-ba4d-a3eb9ff6cdcd",
   "metadata": {},
   "outputs": [],
   "source": []
  }
 ],
 "metadata": {
  "kernelspec": {
   "display_name": "Python 3 (ipykernel)",
   "language": "python",
   "name": "python3"
  },
  "language_info": {
   "codemirror_mode": {
    "name": "ipython",
    "version": 3
   },
   "file_extension": ".py",
   "mimetype": "text/x-python",
   "name": "python",
   "nbconvert_exporter": "python",
   "pygments_lexer": "ipython3",
   "version": "3.11.11"
  }
 },
 "nbformat": 4,
 "nbformat_minor": 5
}
