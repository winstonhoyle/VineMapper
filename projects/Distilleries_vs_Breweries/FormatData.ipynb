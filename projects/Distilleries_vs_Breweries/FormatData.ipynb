{
 "cells": [
  {
   "cell_type": "code",
   "execution_count": 1,
   "id": "31acfd63-ffeb-4d4b-ae75-cfcc4511df56",
   "metadata": {},
   "outputs": [],
   "source": [
    "import json"
   ]
  },
  {
   "cell_type": "code",
   "execution_count": 3,
   "id": "810954ad-be5d-4b53-b8a2-632315f3f7e6",
   "metadata": {},
   "outputs": [],
   "source": [
    "import requests\n",
    "import geopandas as gpd\n",
    "import pandas as pd"
   ]
  },
  {
   "cell_type": "code",
   "execution_count": 25,
   "id": "73f1021f-07cb-4ca4-a3b7-0eff1309ca7c",
   "metadata": {},
   "outputs": [],
   "source": [
    "from bs4 import BeautifulSoup\n",
    "from shapely.geometry import Point\n",
    "from tqdm.notebook import tqdm"
   ]
  },
  {
   "cell_type": "markdown",
   "id": "8721db2b-542c-427b-9fa5-7535352f52d0",
   "metadata": {},
   "source": [
    "## Open GIS Data"
   ]
  },
  {
   "cell_type": "code",
   "execution_count": 28,
   "id": "4b709b2a-67fa-48fa-aaad-88ee5163915f",
   "metadata": {},
   "outputs": [],
   "source": [
    "file_path = \"data/cb_2018_us_state_500k/cb_2018_us_state_500k.shp\"\n",
    "states_df = gpd.read_file(file_path)"
   ]
  },
  {
   "cell_type": "markdown",
   "id": "63debbdc-c73c-4a78-aa43-cca951715bf4",
   "metadata": {},
   "source": [
    "## Get Distillery Data"
   ]
  },
  {
   "cell_type": "code",
   "execution_count": 16,
   "id": "6edad03c-1022-4271-9733-62a2912c1964",
   "metadata": {},
   "outputs": [],
   "source": [
    "headers = {\n",
    "    \"User-Agent\": \"Mozilla/5.0 (Macintosh; Intel Mac OS X 10_11_5) AppleWebKit/537.36 (KHTML, like Gecko) Chrome/50.0.2661.102 Safari/537.36\"\n",
    "}\n",
    "r = requests.get(\n",
    "    \"https://www.distillerytrail.com/distillery-directory-map/\", headers=headers\n",
    ")"
   ]
  },
  {
   "cell_type": "code",
   "execution_count": 17,
   "id": "73ca46d8-f821-4159-8252-6d7a749baa78",
   "metadata": {},
   "outputs": [],
   "source": [
    "soup = BeautifulSoup(r.text, \"html.parser\")"
   ]
  },
  {
   "cell_type": "code",
   "execution_count": 18,
   "id": "d77e4a0a-7be9-4177-ae93-33353a541eaf",
   "metadata": {},
   "outputs": [],
   "source": [
    "divs = soup.find_all(\"div\", {\"class\": \"drts-location-entities-map-container\"})"
   ]
  },
  {
   "cell_type": "code",
   "execution_count": 19,
   "id": "ac0fa3b6-afde-4a91-ba59-0c508da01216",
   "metadata": {},
   "outputs": [],
   "source": [
    "div = divs[0]\n",
    "script = div.find_all(\"script\")[0]"
   ]
  },
  {
   "cell_type": "code",
   "execution_count": 20,
   "id": "938a47de-0112-4395-9cd1-91857f3e0c94",
   "metadata": {},
   "outputs": [],
   "source": [
    "almost_data = script.text.split(\"setMarkers\")[1]"
   ]
  },
  {
   "cell_type": "code",
   "execution_count": 21,
   "id": "a904eb4e-116c-4348-ba07-3821936ebee7",
   "metadata": {},
   "outputs": [],
   "source": [
    "formatted_data_in_str = \"}\".join(almost_data[2:].split(\"}\")[:-2]) + \"}\"\n",
    "formatted_data_in_str = f\"[{formatted_data_in_str}]\""
   ]
  },
  {
   "cell_type": "code",
   "execution_count": 22,
   "id": "4c170f1c-43d4-4ff0-8c5a-407d04d675ac",
   "metadata": {},
   "outputs": [],
   "source": [
    "distillery_data_list = json.loads(formatted_data_in_str)"
   ]
  },
  {
   "cell_type": "code",
   "execution_count": 29,
   "id": "9593c9e9-bb96-4e61-896a-842621e605e5",
   "metadata": {},
   "outputs": [
    {
     "data": {
      "application/vnd.jupyter.widget-view+json": {
       "model_id": "b3355e28ab9840609f313efe0ccf533a",
       "version_major": 2,
       "version_minor": 0
      },
      "text/plain": [
       "Parsing Distilleries:   0%|          | 0/2109 [00:00<?, ?it/s]"
      ]
     },
     "metadata": {},
     "output_type": "display_data"
    },
    {
     "name": "stdout",
     "output_type": "stream",
     "text": [
      "{'index': 0, 'entity_id': 17238, 'content': '<div class=\"drts-bs-card drts-bs-border-0 drts-bs-bg-dark drts-bs-text-white drts-map-marker-content\">\\n<img class=\"drts-bs-card-img drts-no-image\" src=\"data:image/png;base64,iVBORw0KGgoAAAANSUhEUgAAAPAAAAC0CAQAAAAAlWljAAABIklEQVR42u3RAQ0AAAjDMK4c6aAD0klYM116XAADFmABFmABFmABBizAAizAAizAAgxYgAVYgAVYgAVYgAELsAALsAALsAADFmABFmABFmABBizAAizAAizAAizAgAVYgAVYgAVYgAELsAALsAALsAADBgxYgAVYgAVYgAUYsAALsAALsAALMGABFmABFmABFmABBizAAizAAizAAgxYgAVYgAVYgAUYsAALsAALsAALsAADFmABFmABFmABBizAAizAAizAAgzYBMACLMACLMACLMCABViABViABViAAQuwAAuwAAuwAAswYAEWYAEWYAEWYMACLMACLMACLMCABViABViABViABRiwAAuwAAuwAAswYAEWYAEWYAEWYMACrKst65UNXM2XNOgAAAAASUVORK5CYII=\" alt=\"\" />\\n<div class=\"drts-bs-card-img-overlay drts-bs-p-2\">\\n<div class=\"drts-bs-card-title\"><a href=\"https://www.distillerytrail.com/directory-distillery/listing/delaware-distilling-company/\" class=\"drts-bs-text-white drts-entity-permalink drts-entity-17238\" title=\"Delaware Distilling Company (Closed)\" data-type=\"post\" data-content-type=\"directory__listing\" data-content-name=\"distillery_dir_ltg\">Delaware Distilling Company (Closed)</a></div>\\n<address class=\"drts-map-marker-address drts-bs-card-text\">18693 Coastal Hwy, Rehoboth Beach, Delaware 19971, United States</address>\\n</div></div>', 'lat': 38.720945, 'lng': -75.076014, 'icon': None}\n"
     ]
    }
   ],
   "source": [
    "coord_list = []\n",
    "state_counts = {}\n",
    "distilleries = []\n",
    "for distillery in tqdm(distillery_data_list, desc=\"Parsing Distilleries\"):\n",
    "    point = Point(distillery[\"lng\"], distillery[\"lat\"])\n",
    "    try:\n",
    "        state_code = states_df[states_df.intersects(point)][\"STUSPS\"].iloc[0]\n",
    "        distilleries.append(point)\n",
    "    except IndexError:\n",
    "        print(distillery)\n",
    "        continue\n",
    "\n",
    "    if state_code not in state_counts:\n",
    "        state_counts[state_code] = 1\n",
    "    else:\n",
    "        state_counts[state_code] += 1"
   ]
  },
  {
   "cell_type": "code",
   "execution_count": 30,
   "id": "0c77b134-5e2a-424d-8f59-f460915509be",
   "metadata": {},
   "outputs": [],
   "source": [
    "distilleries_per_state_series = pd.Series(state_counts, name=\"distilleries\")\n",
    "distilleries_per_state_df = distilleries_per_state_series.reset_index()\n",
    "distilleries_per_state_df = distilleries_per_state_df.rename(\n",
    "    columns={\"index\": \"STUSPS\"}\n",
    ")"
   ]
  },
  {
   "cell_type": "markdown",
   "id": "e1265d16-52a9-404e-baeb-3a61132b3ea0",
   "metadata": {},
   "source": [
    "## Get Brewery Data"
   ]
  },
  {
   "cell_type": "code",
   "execution_count": 31,
   "id": "b28a328e-c72c-401d-816f-677429cc23ab",
   "metadata": {},
   "outputs": [],
   "source": [
    "url = (\n",
    "    \"https://www.craftbeer.com/wp-content/themes/craftbeer2023/breweries/breweries.json\"\n",
    ")\n",
    "r = requests.get(url)\n",
    "breweries_json = r.json()"
   ]
  },
  {
   "cell_type": "code",
   "execution_count": 32,
   "id": "16bd9c1f-9b1b-42eb-be58-b858eafff519",
   "metadata": {},
   "outputs": [
    {
     "data": {
      "application/vnd.jupyter.widget-view+json": {
       "model_id": "bf9f37a027cc42cf956c020dc79326b7",
       "version_major": 2,
       "version_minor": 0
      },
      "text/plain": [
       "Parsing Breweries:   0%|          | 0/14542 [00:00<?, ?it/s]"
      ]
     },
     "metadata": {},
     "output_type": "display_data"
    },
    {
     "name": "stdout",
     "output_type": "stream",
     "text": [
      "Tower Brewing\n",
      "Nickel Brook Brewing Co.\n",
      "Brewpoint\n",
      "Cowbell Brewing Co.\n",
      "kroger\n",
      "Century Barn Brewing and Beverage Company\n",
      "H2 BrewHouse\n",
      "RAM Restaurant and Brewery - Tacoma\n",
      "Del Barril\n",
      "Otter Creek Brewing\n",
      "Crafted\n",
      "Tallgrass Tap House\n",
      "Keeper’s Cut Meadery\n",
      "Orpheus Brewing\n",
      "Horace Grove Brewery\n",
      "Platform Beer Co\n",
      "Arcadia Brewing\n",
      "Ale Asylum\n",
      "People’s Republic of South Central\n",
      "Great Frontier Holdings\n",
      "ENAY\n",
      "Sacred Vice Brewing - Howard Street\n",
      "Colsons Beer\n",
      "Ecliptic Brewing\n",
      "Isley Brewing\n",
      "Dillinger\n",
      "Honky Tonk Brewing Co\n",
      "Elk Valley Brewing\n",
      "Astro-Zombie Bio-Labs\n",
      "Shebeen Brewing Company\n",
      "Flying Fish\n",
      "JuneShine\n",
      "Griffon & Sphynx\n",
      "Gun Hill Brewing Company\n",
      "Deep Ellum Brewing Co\n",
      "Metropolitan Brewing\n",
      "Blackberry Farm Brewery\n",
      "Seldom Beer Co.\n",
      "Bravazzi\n",
      "Midway 154 Brewing\n",
      "Edge Brewing\n",
      "Peace Tree Brewing\n"
     ]
    }
   ],
   "source": [
    "coord_list = []\n",
    "state_counts = {}\n",
    "for brewery in tqdm(breweries_json, desc=\"Parsing Breweries\"):\n",
    "    if brewery[\"BillingAddress\"][\"longitude\"] != None:\n",
    "        point = Point(\n",
    "            brewery[\"BillingAddress\"][\"longitude\"],\n",
    "            brewery[\"BillingAddress\"][\"latitude\"],\n",
    "        )\n",
    "        try:\n",
    "            state_code = states_df[states_df.intersects(point)][\"STUSPS\"].iloc[0]\n",
    "        except IndexError:\n",
    "            print(brewery[\"Name\"])\n",
    "            continue\n",
    "    else:\n",
    "        state_code = brewery[\"BillingAddress\"][\"stateCode\"]\n",
    "        if state_code == None:\n",
    "            if not brewery[\"Name\"].endswith(\"Household\"):\n",
    "                print(brewery[\"Name\"])\n",
    "            continue\n",
    "\n",
    "    if state_code not in state_counts:\n",
    "        state_counts[state_code] = 1\n",
    "    else:\n",
    "        state_counts[state_code] += 1"
   ]
  },
  {
   "cell_type": "markdown",
   "id": "b20d3adf-efb3-4aff-a039-58d6d6b43073",
   "metadata": {},
   "source": [
    "#### Look Up the rest"
   ]
  },
  {
   "cell_type": "code",
   "execution_count": 33,
   "id": "1fdaac57-fb9d-47af-8b20-22fec80ce3c6",
   "metadata": {},
   "outputs": [],
   "source": [
    "manually_added = {\n",
    "    \"WA\": 1,\n",
    "    \"PR\": 1,\n",
    "    \"VT\": 1,\n",
    "    \"KS\": 1,\n",
    "    \"NC\": 2,\n",
    "    \"WI\": 1,\n",
    "    \"CA\": 2,\n",
    "    \"PA\": 1,\n",
    "    \"OR\": 1,\n",
    "    \"TN\": 2,\n",
    "    \"MD\": 1,\n",
    "    \"TX\": 1,\n",
    "    \"IL\": 2,\n",
    "    \"ID\": 1,\n",
    "}"
   ]
  },
  {
   "cell_type": "code",
   "execution_count": 34,
   "id": "961fb35a-8f4b-4023-af09-97ea4757157c",
   "metadata": {},
   "outputs": [],
   "source": [
    "for state, counts in manually_added.items():\n",
    "    state_counts[state] += counts"
   ]
  },
  {
   "cell_type": "code",
   "execution_count": 35,
   "id": "ef674baa-10ef-4100-87c9-b3cbabb223e1",
   "metadata": {},
   "outputs": [],
   "source": [
    "breweries_per_state_series = pd.Series(state_counts, name=\"breweries\")"
   ]
  },
  {
   "cell_type": "code",
   "execution_count": 36,
   "id": "51d8afc3-ede5-4db1-b0d3-6938c3f7675e",
   "metadata": {},
   "outputs": [],
   "source": [
    "breweries_per_state_df = breweries_per_state_series.reset_index()\n",
    "breweries_per_state_df = breweries_per_state_df.rename(columns={\"index\": \"STUSPS\"})"
   ]
  },
  {
   "cell_type": "markdown",
   "id": "7c2cf0cb-aff1-41e9-ac13-f13a8f5fc18b",
   "metadata": {},
   "source": [
    "## Breweries vs Distilleries"
   ]
  },
  {
   "cell_type": "code",
   "execution_count": 39,
   "id": "8bc714db-d6d4-4062-9c52-e484d8fda776",
   "metadata": {},
   "outputs": [],
   "source": [
    "breweries_per_state_df = states_df.merge(\n",
    "    breweries_per_state_df, on=\"STUSPS\", how=\"left\"\n",
    ")"
   ]
  },
  {
   "cell_type": "code",
   "execution_count": 41,
   "id": "2a145f90-3776-4b02-b59a-c6e3d60683fc",
   "metadata": {},
   "outputs": [],
   "source": [
    "breweries_vs_distilleries_df = breweries_per_state_df[\n",
    "    [\"STUSPS\", \"geometry\", \"breweries\"]\n",
    "].merge(distilleries_per_state_df[[\"STUSPS\", \"distilleries\"]], on=\"STUSPS\", how=\"left\")"
   ]
  },
  {
   "cell_type": "code",
   "execution_count": null,
   "id": "60cf1d0b-ba66-4261-9c9c-050526fe10e0",
   "metadata": {},
   "outputs": [],
   "source": [
    "breweries_vs_distilleries_df.to_file(\"data/breweries_vs_distilleries.gpkg\")"
   ]
  }
 ],
 "metadata": {
  "kernelspec": {
   "display_name": "Python 3 (ipykernel)",
   "language": "python",
   "name": "python3"
  },
  "language_info": {
   "codemirror_mode": {
    "name": "ipython",
    "version": 3
   },
   "file_extension": ".py",
   "mimetype": "text/x-python",
   "name": "python",
   "nbconvert_exporter": "python",
   "pygments_lexer": "ipython3",
   "version": "3.11.10"
  }
 },
 "nbformat": 4,
 "nbformat_minor": 5
}
