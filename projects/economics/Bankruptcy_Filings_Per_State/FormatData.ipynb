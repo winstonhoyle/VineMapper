{
 "cells": [
  {
   "cell_type": "code",
   "execution_count": 42,
   "id": "c4323fb2-1721-463e-8602-d1c3302ff523",
   "metadata": {},
   "outputs": [],
   "source": [
    "import geopandas as gpd\n",
    "import pandas as pd"
   ]
  },
  {
   "cell_type": "markdown",
   "id": "7bfd8f31-eada-447d-af06-da8a94290c02",
   "metadata": {},
   "source": [
    "## Open State data"
   ]
  },
  {
   "cell_type": "code",
   "execution_count": 43,
   "id": "5fadd853-8ad5-4832-976a-4d251d5a794b",
   "metadata": {},
   "outputs": [],
   "source": [
    "file_path = \"data/cb_2018_us_state_500k/cb_2018_us_state_500k.shp\"\n",
    "states_df = gpd.read_file(file_path)"
   ]
  },
  {
   "cell_type": "markdown",
   "id": "c7a857d3-b030-4f9f-bc8e-5e0d7d01c6a8",
   "metadata": {},
   "source": [
    "## Get Population Data"
   ]
  },
  {
   "cell_type": "code",
   "execution_count": 44,
   "id": "3beab3ae-6cb5-4c29-8021-8c3e54ed1341",
   "metadata": {},
   "outputs": [],
   "source": [
    "state_populations = pd.read_excel(\n",
    "    \"data/NST-EST2024-POP.xlsx\", sheet_name=None, engine=\"openpyxl\"\n",
    ")"
   ]
  },
  {
   "cell_type": "code",
   "execution_count": 45,
   "id": "a8d70800-f367-470f-88e6-0b65a807f69d",
   "metadata": {},
   "outputs": [],
   "source": [
    "state_populations_df = state_populations[\"NST-EST2024-POP\"][\n",
    "    [\n",
    "        \"table with row headers in column A and column headers in rows 3 through 4. (leading dots indicate sub-parts)\",\n",
    "        \"Unnamed: 5\",\n",
    "    ]\n",
    "]\n",
    "state_populations_df = state_populations_df.rename(\n",
    "    columns={\n",
    "        \"table with row headers in column A and column headers in rows 3 through 4. (leading dots indicate sub-parts)\": \"NAME\",\n",
    "        \"Unnamed: 5\": \"POPULATION\",\n",
    "    }\n",
    ")\n",
    "state_populations_df[\"NAME\"] = state_populations_df[\"NAME\"].str[1:]"
   ]
  },
  {
   "cell_type": "code",
   "execution_count": 46,
   "id": "2a0f1a89-d997-49d3-8eb6-b56ec054132b",
   "metadata": {},
   "outputs": [],
   "source": [
    "states_with_population_df = states_df.merge(state_populations_df, on=\"NAME\", how=\"left\")\n",
    "states_with_population_df = states_with_population_df[\n",
    "    [\"STUSPS\", \"NAME\", \"POPULATION\", \"geometry\"]\n",
    "]"
   ]
  },
  {
   "cell_type": "markdown",
   "id": "fa3e75a2-55c6-4786-8229-d0881d3a02ec",
   "metadata": {},
   "source": [
    "## Open Bankruptcy data"
   ]
  },
  {
   "cell_type": "code",
   "execution_count": 59,
   "id": "dfffe750-9cb4-4cb2-8d32-2772ff7519f6",
   "metadata": {},
   "outputs": [],
   "source": [
    "bankruptcy_df = pd.read_excel(\n",
    "    \"data/bf_f2_1231.2024.xlsx\", sheet_name=\"Table F-2.\", engine=\"openpyxl\"\n",
    ")"
   ]
  },
  {
   "cell_type": "code",
   "execution_count": 60,
   "id": "cb8e5df8-4a38-4165-8fc4-6cda9a6f3c89",
   "metadata": {},
   "outputs": [],
   "source": [
    "bankruptcy_df = bankruptcy_df[[\"Unnamed: 0\", \"Unnamed: 11\"]]\n",
    "bankruptcy_df = bankruptcy_df.rename(\n",
    "    columns={\"Unnamed: 0\": \"NAME\", \"Unnamed: 11\": \"BANKRUPTCIES\"}\n",
    ")\n",
    "bankruptcy_df = bankruptcy_df.replace(\"AR ²\", \"AR\")"
   ]
  },
  {
   "cell_type": "code",
   "execution_count": 61,
   "id": "9dd12e69-8a08-4aa4-bb3a-7c261b69b38a",
   "metadata": {},
   "outputs": [],
   "source": [
    "bankruptcy_df[\"STATE_CODES\"] = bankruptcy_df[\"NAME\"].str.split(\",\").str[0]"
   ]
  },
  {
   "cell_type": "code",
   "execution_count": 62,
   "id": "29754c49-ef7e-4aa7-adb0-58fcd2865fe0",
   "metadata": {},
   "outputs": [],
   "source": [
    "bankruptcy_states_df = (\n",
    "    bankruptcy_df.groupby(\"STATE_CODES\").agg({\"BANKRUPTCIES\": \"sum\"}).reset_index()\n",
    ")\n",
    "bankruptcy_states_df = bankruptcy_states_df.rename(columns={\"STATE_CODES\": \"STUSPS\"})"
   ]
  },
  {
   "cell_type": "markdown",
   "id": "ea0435b2-f5f4-4186-853b-615f63cc50aa",
   "metadata": {},
   "source": [
    "## Merge Data"
   ]
  },
  {
   "cell_type": "code",
   "execution_count": 63,
   "id": "335e5a07-6df8-46bf-bc7d-1512019384fd",
   "metadata": {},
   "outputs": [],
   "source": [
    "bankruptcy_states_gdf = states_with_population_df.merge(\n",
    "    bankruptcy_states_df, on=\"STUSPS\", how=\"left\"\n",
    ").dropna()"
   ]
  },
  {
   "cell_type": "code",
   "execution_count": 64,
   "id": "39512cbf-f562-49d2-ae80-8f0d068763b7",
   "metadata": {},
   "outputs": [],
   "source": [
    "bankruptcy_states_gdf = bankruptcy_states_gdf[\n",
    "    [\"NAME\", \"geometry\", \"POPULATION\", \"BANKRUPTCIES\"]\n",
    "]"
   ]
  },
  {
   "cell_type": "code",
   "execution_count": 65,
   "id": "36cbf167-5294-4639-ba50-b9829cac2f64",
   "metadata": {},
   "outputs": [],
   "source": [
    "bankruptcy_states_gdf[\"BANKRUPTCIES\"] = bankruptcy_states_gdf[\"BANKRUPTCIES\"].astype(\n",
    "    int\n",
    ")\n",
    "bankruptcy_states_gdf[\"Per_100k\"] = (\n",
    "    (\n",
    "        bankruptcy_states_gdf[\"BANKRUPTCIES\"]\n",
    "        / (bankruptcy_states_gdf[\"POPULATION\"] / 100_000)\n",
    "    )\n",
    "    .round(decimals=1)\n",
    "    .astype(float)\n",
    ")"
   ]
  },
  {
   "cell_type": "code",
   "execution_count": 66,
   "id": "ae923604-fd11-4c7d-a480-4f53abaeafbc",
   "metadata": {},
   "outputs": [],
   "source": [
    "bankruptcy_states_gdf = bankruptcy_states_gdf.to_crs(9311)\n",
    "bankruptcy_states_gdf.to_file(\"data/bankruptcies_per_state.gpkg\")"
   ]
  },
  {
   "cell_type": "code",
   "execution_count": null,
   "id": "e05f8aae-9b3e-488c-b776-2967596dbde3",
   "metadata": {},
   "outputs": [],
   "source": []
  }
 ],
 "metadata": {
  "kernelspec": {
   "display_name": "Python 3 (ipykernel)",
   "language": "python",
   "name": "python3"
  },
  "language_info": {
   "codemirror_mode": {
    "name": "ipython",
    "version": 3
   },
   "file_extension": ".py",
   "mimetype": "text/x-python",
   "name": "python",
   "nbconvert_exporter": "python",
   "pygments_lexer": "ipython3",
   "version": "3.11.11"
  }
 },
 "nbformat": 4,
 "nbformat_minor": 5
}
