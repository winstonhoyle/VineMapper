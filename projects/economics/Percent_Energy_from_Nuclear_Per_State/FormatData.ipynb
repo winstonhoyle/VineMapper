{
 "cells": [
  {
   "cell_type": "code",
   "execution_count": 2,
   "id": "c4323fb2-1721-463e-8602-d1c3302ff523",
   "metadata": {},
   "outputs": [],
   "source": [
    "import geopandas as gpd\n",
    "import pandas as pd"
   ]
  },
  {
   "cell_type": "markdown",
   "id": "7bfd8f31-eada-447d-af06-da8a94290c02",
   "metadata": {},
   "source": [
    "## Open State data"
   ]
  },
  {
   "cell_type": "code",
   "execution_count": 3,
   "id": "5fadd853-8ad5-4832-976a-4d251d5a794b",
   "metadata": {},
   "outputs": [],
   "source": [
    "file_path = \"data/cb_2018_us_state_500k/cb_2018_us_state_500k.shp\"\n",
    "states_gdf = gpd.read_file(file_path)\n",
    "states_gdf[\"NAME\"] = states_gdf[\"NAME\"].str.title()\n",
    "states_gdf = states_gdf[[\"geometry\", \"NAME\"]]"
   ]
  },
  {
   "cell_type": "markdown",
   "id": "7f293fa8-3192-4d2f-9be3-129f98e5ab11",
   "metadata": {},
   "source": [
    "## Open Energy Data"
   ]
  },
  {
   "cell_type": "code",
   "execution_count": 4,
   "id": "df1cf6d2-56e5-4286-bc21-cb4fad8861b7",
   "metadata": {},
   "outputs": [],
   "source": [
    "state_total_energy_record_names = [\n",
    "    f\"{state_name} : all fuels (utility-scale)\"\n",
    "    for state_name in list(states_gdf[\"NAME\"])\n",
    "]"
   ]
  },
  {
   "cell_type": "code",
   "execution_count": 5,
   "id": "6f7e49c0-a6f1-408c-bfe7-bc52903b2752",
   "metadata": {},
   "outputs": [],
   "source": [
    "state_solar_energy_record_names = [\n",
    "    f\"{state_name.title()} : all solar\" for state_name in list(states_gdf[\"NAME\"])\n",
    "]"
   ]
  },
  {
   "cell_type": "code",
   "execution_count": 6,
   "id": "c75f9dbb-1cba-4fae-9d98-bf58d848d14b",
   "metadata": {},
   "outputs": [],
   "source": [
    "state_nuclear_energy_record_names = [\n",
    "    f\"{state_name.title()} : nuclear\" for state_name in list(states_gdf[\"NAME\"])\n",
    "]"
   ]
  },
  {
   "cell_type": "code",
   "execution_count": 7,
   "id": "4d8a053c-df51-4163-bb6f-3db1b64c818b",
   "metadata": {},
   "outputs": [],
   "source": [
    "energy_df = pd.read_csv(\"data/Net_generation_for_all_sectors.csv\")"
   ]
  },
  {
   "cell_type": "code",
   "execution_count": 8,
   "id": "e22895bd-7887-45af-9d06-04c4aab8edde",
   "metadata": {},
   "outputs": [],
   "source": [
    "def format_nuclear_col(row) -> int:\n",
    "    nuclear = row[\"2023\"]\n",
    "    if nuclear.isnumeric():\n",
    "        return int(nuclear)\n",
    "    else:\n",
    "        print(row[\"description\"], row[\"2023\"])\n",
    "        return 0"
   ]
  },
  {
   "cell_type": "code",
   "execution_count": 9,
   "id": "ac61273a-1b13-4507-82dd-f4c3dfb0caf3",
   "metadata": {},
   "outputs": [
    {
     "name": "stdout",
     "output_type": "stream",
     "text": [
      "Maine : nuclear --\n",
      "Massachusetts : nuclear --\n",
      "Rhode Island : nuclear --\n",
      "Vermont : nuclear --\n",
      "Indiana : nuclear --\n",
      "Iowa : nuclear --\n",
      "North Dakota : nuclear --\n",
      "South Dakota : nuclear --\n",
      "Delaware : nuclear --\n",
      "District Of Columbia : nuclear --\n",
      "West Virginia : nuclear --\n",
      "Kentucky : nuclear --\n",
      "Oklahoma : nuclear --\n",
      "Colorado : nuclear --\n",
      "Idaho : nuclear --\n",
      "Montana : nuclear --\n",
      "Nevada : nuclear --\n",
      "New Mexico : nuclear --\n",
      "Utah : nuclear --\n",
      "Wyoming : nuclear --\n",
      "Oregon : nuclear --\n",
      "Alaska : nuclear --\n",
      "Hawaii : nuclear --\n"
     ]
    },
    {
     "name": "stderr",
     "output_type": "stream",
     "text": [
      "/tmp/ipykernel_50470/2636407923.py:2: SettingWithCopyWarning: \n",
      "A value is trying to be set on a copy of a slice from a DataFrame.\n",
      "Try using .loc[row_indexer,col_indexer] = value instead\n",
      "\n",
      "See the caveats in the documentation: https://pandas.pydata.org/pandas-docs/stable/user_guide/indexing.html#returning-a-view-versus-a-copy\n",
      "  nuclear_df[\"NAME\"] = nuclear_df[\"description\"].str.split(\":\").str[0]\n",
      "/tmp/ipykernel_50470/2636407923.py:3: SettingWithCopyWarning: \n",
      "A value is trying to be set on a copy of a slice from a DataFrame.\n",
      "Try using .loc[row_indexer,col_indexer] = value instead\n",
      "\n",
      "See the caveats in the documentation: https://pandas.pydata.org/pandas-docs/stable/user_guide/indexing.html#returning-a-view-versus-a-copy\n",
      "  nuclear_df[\"NUCLEAR\"] = nuclear_df.apply(lambda row: format_nuclear_col(row), axis=1)\n"
     ]
    }
   ],
   "source": [
    "nuclear_df = energy_df[energy_df[\"description\"].isin(state_nuclear_energy_record_names)]\n",
    "nuclear_df[\"NAME\"] = nuclear_df[\"description\"].str.split(\":\").str[0]\n",
    "nuclear_df[\"NUCLEAR\"] = nuclear_df.apply(lambda row: format_nuclear_col(row), axis=1)\n",
    "nuclear_df = nuclear_df[[\"NAME\", \"NUCLEAR\"]].reset_index(drop=True)"
   ]
  },
  {
   "cell_type": "code",
   "execution_count": 11,
   "id": "793dddf5-af06-499b-ae03-a56e28297a5b",
   "metadata": {},
   "outputs": [
    {
     "name": "stderr",
     "output_type": "stream",
     "text": [
      "/tmp/ipykernel_50470/1905660289.py:2: SettingWithCopyWarning: \n",
      "A value is trying to be set on a copy of a slice from a DataFrame.\n",
      "Try using .loc[row_indexer,col_indexer] = value instead\n",
      "\n",
      "See the caveats in the documentation: https://pandas.pydata.org/pandas-docs/stable/user_guide/indexing.html#returning-a-view-versus-a-copy\n",
      "  solar_df[\"NAME\"] = solar_df[\"description\"].str.split(\":\").str[0]\n",
      "/tmp/ipykernel_50470/1905660289.py:3: SettingWithCopyWarning: \n",
      "A value is trying to be set on a copy of a slice from a DataFrame.\n",
      "Try using .loc[row_indexer,col_indexer] = value instead\n",
      "\n",
      "See the caveats in the documentation: https://pandas.pydata.org/pandas-docs/stable/user_guide/indexing.html#returning-a-view-versus-a-copy\n",
      "  solar_df[\"SOLAR\"] = solar_df[\"2023\"].astype(int)\n"
     ]
    }
   ],
   "source": [
    "solar_df = energy_df[energy_df[\"description\"].isin(state_solar_energy_record_names)]\n",
    "solar_df[\"NAME\"] = solar_df[\"description\"].str.split(\":\").str[0]\n",
    "solar_df[\"SOLAR\"] = solar_df[\"2023\"].astype(int)\n",
    "solar_df = solar_df[[\"NAME\", \"SOLAR\"]].reset_index(drop=True)"
   ]
  },
  {
   "cell_type": "code",
   "execution_count": 12,
   "id": "24e2feb0-3f1c-494d-b9a6-7f67da0bc96b",
   "metadata": {},
   "outputs": [
    {
     "name": "stderr",
     "output_type": "stream",
     "text": [
      "/tmp/ipykernel_50470/492978815.py:2: SettingWithCopyWarning: \n",
      "A value is trying to be set on a copy of a slice from a DataFrame.\n",
      "Try using .loc[row_indexer,col_indexer] = value instead\n",
      "\n",
      "See the caveats in the documentation: https://pandas.pydata.org/pandas-docs/stable/user_guide/indexing.html#returning-a-view-versus-a-copy\n",
      "  total_df[\"NAME\"] = total_df[\"description\"].str.split(\":\").str[0]\n",
      "/tmp/ipykernel_50470/492978815.py:3: SettingWithCopyWarning: \n",
      "A value is trying to be set on a copy of a slice from a DataFrame.\n",
      "Try using .loc[row_indexer,col_indexer] = value instead\n",
      "\n",
      "See the caveats in the documentation: https://pandas.pydata.org/pandas-docs/stable/user_guide/indexing.html#returning-a-view-versus-a-copy\n",
      "  total_df[\"TOTAL\"] = total_df[\"2023\"].astype(int)\n"
     ]
    }
   ],
   "source": [
    "total_df = energy_df[energy_df[\"description\"].isin(state_total_energy_record_names)]\n",
    "total_df[\"NAME\"] = total_df[\"description\"].str.split(\":\").str[0]\n",
    "total_df[\"TOTAL\"] = total_df[\"2023\"].astype(int)\n",
    "total_df = total_df[[\"NAME\", \"TOTAL\"]].reset_index(drop=True)"
   ]
  },
  {
   "cell_type": "code",
   "execution_count": 13,
   "id": "c78ff5a8-6acf-492a-9221-e8d0bb735d61",
   "metadata": {},
   "outputs": [],
   "source": [
    "total_with_solar_df = total_df.merge(solar_df, on=\"NAME\", how=\"inner\")"
   ]
  },
  {
   "cell_type": "code",
   "execution_count": 14,
   "id": "323427f4-93c2-450c-9a6e-04908d3bcf36",
   "metadata": {},
   "outputs": [],
   "source": [
    "total_with_solar_df[\"ALL\"] = total_with_solar_df[\"TOTAL\"] + total_with_solar_df[\"SOLAR\"]"
   ]
  },
  {
   "cell_type": "code",
   "execution_count": 15,
   "id": "7630848e-2010-4bc1-b3d7-216ba0acb0ab",
   "metadata": {},
   "outputs": [],
   "source": [
    "formatted_energy_df = nuclear_df.merge(total_with_solar_df, how=\"inner\", on=\"NAME\")"
   ]
  },
  {
   "cell_type": "code",
   "execution_count": 17,
   "id": "f390c703-7bfd-4f4a-83a8-8d29d007043b",
   "metadata": {},
   "outputs": [],
   "source": [
    "formatted_energy_df[\"percent\"] = (\n",
    "    formatted_energy_df[\"NUCLEAR\"] / formatted_energy_df[\"ALL\"]\n",
    ").round(decimals=3) * 100"
   ]
  },
  {
   "cell_type": "markdown",
   "id": "ea0435b2-f5f4-4186-853b-615f63cc50aa",
   "metadata": {},
   "source": [
    "## Merge Data"
   ]
  },
  {
   "cell_type": "code",
   "execution_count": 25,
   "id": "ec603183-7f79-4a23-acd5-e5acb1ff414d",
   "metadata": {},
   "outputs": [],
   "source": [
    "formatted_energy_df[\"NAME\"] = formatted_energy_df[\"NAME\"].str.strip()\n",
    "states_gdf[\"NAME\"] = states_gdf[\"NAME\"].str.strip()"
   ]
  },
  {
   "cell_type": "code",
   "execution_count": 26,
   "id": "c4d2872c-7521-440f-91e6-2106d9dda497",
   "metadata": {},
   "outputs": [],
   "source": [
    "energy_per_state_gdf = states_gdf.merge(formatted_energy_df, on=\"NAME\", how=\"inner\")"
   ]
  },
  {
   "cell_type": "code",
   "execution_count": 27,
   "id": "ae923604-fd11-4c7d-a480-4f53abaeafbc",
   "metadata": {},
   "outputs": [],
   "source": [
    "energy_per_state_gdf = energy_per_state_gdf.to_crs(9311)\n",
    "energy_per_state_gdf.to_file(\"data/energy.gpkg\")"
   ]
  },
  {
   "cell_type": "code",
   "execution_count": null,
   "id": "e05f8aae-9b3e-488c-b776-2967596dbde3",
   "metadata": {},
   "outputs": [],
   "source": []
  }
 ],
 "metadata": {
  "kernelspec": {
   "display_name": "Python 3 (ipykernel)",
   "language": "python",
   "name": "python3"
  },
  "language_info": {
   "codemirror_mode": {
    "name": "ipython",
    "version": 3
   },
   "file_extension": ".py",
   "mimetype": "text/x-python",
   "name": "python",
   "nbconvert_exporter": "python",
   "pygments_lexer": "ipython3",
   "version": "3.11.11"
  }
 },
 "nbformat": 4,
 "nbformat_minor": 5
}
