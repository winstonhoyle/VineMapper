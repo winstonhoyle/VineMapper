{
 "cells": [
  {
   "cell_type": "code",
   "execution_count": 61,
   "id": "518c79a7-fd21-44e6-8ce3-a883363bff21",
   "metadata": {},
   "outputs": [],
   "source": [
    "import requests"
   ]
  },
  {
   "cell_type": "code",
   "execution_count": 62,
   "id": "c4323fb2-1721-463e-8602-d1c3302ff523",
   "metadata": {},
   "outputs": [],
   "source": [
    "import cloudscraper\n",
    "import geopandas as gpd\n",
    "import pandas as pd"
   ]
  },
  {
   "cell_type": "markdown",
   "id": "7bfd8f31-eada-447d-af06-da8a94290c02",
   "metadata": {},
   "source": [
    "## Open State data"
   ]
  },
  {
   "cell_type": "code",
   "execution_count": 63,
   "id": "5fadd853-8ad5-4832-976a-4d251d5a794b",
   "metadata": {},
   "outputs": [],
   "source": [
    "file_path = \"data/cb_2018_us_state_500k/cb_2018_us_state_500k.shp\"\n",
    "states_df = gpd.read_file(file_path)"
   ]
  },
  {
   "cell_type": "markdown",
   "id": "74b55cfa-2db3-4a7c-bd04-0b341757effe",
   "metadata": {},
   "source": [
    "## Get Homeownership Data"
   ]
  },
  {
   "cell_type": "code",
   "execution_count": 64,
   "id": "3992f69b-d2c6-4058-879b-b3df9efd2c6a",
   "metadata": {},
   "outputs": [],
   "source": [
    "scraper = cloudscraper.create_scraper()"
   ]
  },
  {
   "cell_type": "markdown",
   "id": "06465050-2d65-40ad-a899-e7cabac37129",
   "metadata": {},
   "source": [
    "#### Get 2024 ownership rate"
   ]
  },
  {
   "cell_type": "code",
   "execution_count": 65,
   "id": "4dd7817b-53ca-4c17-9d79-ab8bd03b5cd0",
   "metadata": {},
   "outputs": [],
   "source": [
    "url = \"https://datawrapper.dwcdn.net/oPsf9/6/dataset.csv\"\n",
    "r = scraper.get(url, headers=headers)\n",
    "csv_string_split = r.text.split(\"\\n\")\n",
    "list_of_records = [record.split(\",\") for record in csv_string_split]\n",
    "ownership_per_state_df = pd.DataFrame(list_of_records[1:], columns=list_of_records[0])"
   ]
  },
  {
   "cell_type": "code",
   "execution_count": 67,
   "id": "0d1df708-cde2-43f7-a182-ab1a20c60834",
   "metadata": {},
   "outputs": [],
   "source": [
    "ownership_per_state_df[\"NAME\"] = ownership_per_state_df[\"State\"]\n",
    "ownership_per_state_df[\"ownership_rate_2024\"] = (\n",
    "    ownership_per_state_df[\"Owner-occupied Current Year\"]\n",
    "    .str.replace(\"%\", \"\")\n",
    "    .astype(float)\n",
    ")\n",
    "ownership_per_state_df[\"ownership_rate_2023\"] = (\n",
    "    ownership_per_state_df[\"Owner-occupied Last Year\"]\n",
    "    .str.replace(\"%\", \"\")\n",
    "    .astype(float)\n",
    ")\n",
    "ownership_per_state_df[\"renter_rate_2024\"] = (\n",
    "    ownership_per_state_df[\"Renter-occupied Current Year\"]\n",
    "    .str.replace(\"%\", \"\")\n",
    "    .astype(float)\n",
    ")\n",
    "ownership_per_state_df[\"renter_rate_2023\"] = (\n",
    "    ownership_per_state_df[\"Renter-occupied Last Year\"]\n",
    "    .str.replace(\"%\", \"\")\n",
    "    .astype(float)\n",
    ")"
   ]
  },
  {
   "cell_type": "code",
   "execution_count": 68,
   "id": "a4dcd8cc-b663-43c9-9289-0af2cddc78bf",
   "metadata": {},
   "outputs": [],
   "source": [
    "ownership_per_state_df[\"ownership_diff\"] = (\n",
    "    ownership_per_state_df[\"ownership_rate_2024\"]\n",
    "    - ownership_per_state_df[\"ownership_rate_2023\"]\n",
    ")\n",
    "ownership_per_state_df[\"renter_diff\"] = (\n",
    "    ownership_per_state_df[\"renter_rate_2024\"]\n",
    "    - ownership_per_state_df[\"renter_rate_2023\"]\n",
    ")"
   ]
  },
  {
   "cell_type": "code",
   "execution_count": 69,
   "id": "add024bd-fef3-4585-b902-984a9de13432",
   "metadata": {},
   "outputs": [],
   "source": [
    "ownership_per_state_df = ownership_per_state_df[\n",
    "    [\n",
    "        \"NAME\",\n",
    "        \"ownership_rate_2024\",\n",
    "        \"ownership_rate_2023\",\n",
    "        \"ownership_diff\",\n",
    "        \"renter_rate_2024\",\n",
    "        \"renter_rate_2023\",\n",
    "        \"renter_diff\",\n",
    "    ]\n",
    "]"
   ]
  },
  {
   "cell_type": "markdown",
   "id": "ea0435b2-f5f4-4186-853b-615f63cc50aa",
   "metadata": {},
   "source": [
    "## Merge Data"
   ]
  },
  {
   "cell_type": "code",
   "execution_count": 71,
   "id": "335e5a07-6df8-46bf-bc7d-1512019384fd",
   "metadata": {},
   "outputs": [],
   "source": [
    "housing_gdf = states_df.merge(ownership_per_state_df, on=\"NAME\", how=\"inner\").dropna()"
   ]
  },
  {
   "cell_type": "code",
   "execution_count": 72,
   "id": "39512cbf-f562-49d2-ae80-8f0d068763b7",
   "metadata": {},
   "outputs": [],
   "source": [
    "housing_gdf = housing_gdf[\n",
    "    [\n",
    "        \"NAME\",\n",
    "        \"geometry\",\n",
    "        \"ownership_rate_2024\",\n",
    "        \"ownership_rate_2023\",\n",
    "        \"ownership_diff\",\n",
    "        \"renter_rate_2024\",\n",
    "        \"renter_rate_2023\",\n",
    "        \"renter_diff\",\n",
    "    ]\n",
    "]"
   ]
  },
  {
   "cell_type": "code",
   "execution_count": 74,
   "id": "ae923604-fd11-4c7d-a480-4f53abaeafbc",
   "metadata": {},
   "outputs": [],
   "source": [
    "housing_gdf = housing_gdf.to_crs(9311)\n",
    "housing_gdf.to_file(\"data/housing.gpkg\")"
   ]
  },
  {
   "cell_type": "code",
   "execution_count": null,
   "id": "e05f8aae-9b3e-488c-b776-2967596dbde3",
   "metadata": {},
   "outputs": [],
   "source": []
  }
 ],
 "metadata": {
  "kernelspec": {
   "display_name": "Python 3 (ipykernel)",
   "language": "python",
   "name": "python3"
  },
  "language_info": {
   "codemirror_mode": {
    "name": "ipython",
    "version": 3
   },
   "file_extension": ".py",
   "mimetype": "text/x-python",
   "name": "python",
   "nbconvert_exporter": "python",
   "pygments_lexer": "ipython3",
   "version": "3.11.11"
  }
 },
 "nbformat": 4,
 "nbformat_minor": 5
}
