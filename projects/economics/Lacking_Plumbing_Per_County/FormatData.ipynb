{
 "cells": [
  {
   "cell_type": "code",
   "execution_count": 1,
   "id": "c4323fb2-1721-463e-8602-d1c3302ff523",
   "metadata": {},
   "outputs": [],
   "source": [
    "import geopandas as gpd\n",
    "import pandas as pd"
   ]
  },
  {
   "cell_type": "markdown",
   "id": "7bfd8f31-eada-447d-af06-da8a94290c02",
   "metadata": {},
   "source": [
    "## Open State data"
   ]
  },
  {
   "cell_type": "code",
   "execution_count": 2,
   "id": "5fadd853-8ad5-4832-976a-4d251d5a794b",
   "metadata": {},
   "outputs": [],
   "source": [
    "file_path = \"data/cb_2018_us_county_500k/cb_2018_us_county_500k.shp\"\n",
    "counties_gdf = gpd.read_file(file_path)\n",
    "counties_gdf = counties_gdf[counties_gdf[\"STATEFP\"] != \"09\"][[\"geometry\", \"AFFGEOID\"]]\n",
    "counties_gdf = counties_gdf.to_crs(4326)"
   ]
  },
  {
   "cell_type": "markdown",
   "id": "6f8d8f18-f40f-488f-bfc6-b1cd6acc6848",
   "metadata": {},
   "source": [
    "#### Format for CT"
   ]
  },
  {
   "cell_type": "code",
   "execution_count": 3,
   "id": "a78351e7-8bc5-4e11-a904-46694e277a8a",
   "metadata": {},
   "outputs": [],
   "source": [
    "ct_gdf = gpd.read_file(\"data/CT_Planning_Regions.geojson\")\n",
    "ct_gdf[\"AFFGEOID\"] = \"0500000US\" + ct_gdf[\"PlanningRegionFIPS_GEOID\"]"
   ]
  },
  {
   "cell_type": "code",
   "execution_count": 4,
   "id": "85222d5d-1a07-4295-96cd-7adfd3841375",
   "metadata": {},
   "outputs": [],
   "source": [
    "counties_gdf = pd.concat(\n",
    "    [ct_gdf[[\"geometry\", \"AFFGEOID\"]], counties_gdf], ignore_index=True\n",
    ")"
   ]
  },
  {
   "cell_type": "markdown",
   "id": "74b55cfa-2db3-4a7c-bd04-0b341757effe",
   "metadata": {},
   "source": [
    "## Get Plumbing Percents"
   ]
  },
  {
   "cell_type": "code",
   "execution_count": 5,
   "id": "3992f69b-d2c6-4058-879b-b3df9efd2c6a",
   "metadata": {},
   "outputs": [],
   "source": [
    "acs_home = pd.read_csv(\n",
    "    \"data/ACSDP5Y2023.DP04_2025-02-06T161358/ACSDP5Y2023.DP04-Data.csv\",\n",
    "    low_memory=False,\n",
    ")"
   ]
  },
  {
   "cell_type": "markdown",
   "id": "882f6ea0-65a2-404e-8c20-4571501b5685",
   "metadata": {},
   "source": [
    "#### Get Column names"
   ]
  },
  {
   "cell_type": "code",
   "execution_count": 6,
   "id": "4a3b0141-aaf8-405a-bfd0-eef85e9d5b94",
   "metadata": {},
   "outputs": [],
   "source": [
    "acs_column_names = pd.read_csv(\n",
    "    \"data/ACSDP5Y2023.DP04_2025-02-06T161358/ACSDP5Y2023.DP04-Column-Metadata.csv\"\n",
    ")"
   ]
  },
  {
   "cell_type": "code",
   "execution_count": 7,
   "id": "07d142e8-e490-4174-ac05-41eadf749b12",
   "metadata": {},
   "outputs": [],
   "source": [
    "home_cols = list(\n",
    "    acs_column_names[\n",
    "        (acs_column_names[\"Column Name\"] == \"DP04_0073E\")\n",
    "        | (acs_column_names[\"Column Name\"] == \"DP04_0073PE\")\n",
    "    ][\"Column Name\"]\n",
    ")"
   ]
  },
  {
   "cell_type": "markdown",
   "id": "c156cb57-84a4-47fe-81d8-2691da36f9d8",
   "metadata": {},
   "source": [
    "#### Back to Data"
   ]
  },
  {
   "cell_type": "code",
   "execution_count": 8,
   "id": "46820b78-1f2a-4160-8205-6be79a179254",
   "metadata": {},
   "outputs": [],
   "source": [
    "acs_plumbing_data_per_county_df = acs_home[[\"GEO_ID\", *home_cols]]\n",
    "acs_plumbing_data_per_county_df.columns = acs_plumbing_data_per_county_df.iloc[0]\n",
    "acs_plumbing_data_per_county_df = acs_plumbing_data_per_county_df[1:]\n",
    "acs_plumbing_data_per_county_df = acs_plumbing_data_per_county_df.rename(\n",
    "    columns={\n",
    "        \"Estimate!!SELECTED CHARACTERISTICS!!Occupied housing units!!Lacking complete plumbing facilities\": \"LACKING_PLUMBING\",\n",
    "        \"Percent!!SELECTED CHARACTERISTICS!!Occupied housing units!!Lacking complete plumbing facilities\": \"PERCENT\",\n",
    "        \"Geography\": \"AFFGEOID\",\n",
    "    }\n",
    ")"
   ]
  },
  {
   "cell_type": "markdown",
   "id": "ea0435b2-f5f4-4186-853b-615f63cc50aa",
   "metadata": {},
   "source": [
    "## Merge Data"
   ]
  },
  {
   "cell_type": "code",
   "execution_count": 10,
   "id": "335e5a07-6df8-46bf-bc7d-1512019384fd",
   "metadata": {},
   "outputs": [],
   "source": [
    "acs_plumbing_data_per_county_gdf = counties_gdf.merge(\n",
    "    acs_plumbing_data_per_county_df, on=\"AFFGEOID\", how=\"left\"\n",
    ")"
   ]
  },
  {
   "cell_type": "code",
   "execution_count": 11,
   "id": "8aab9d27-4076-4866-a884-10d8294d0a91",
   "metadata": {},
   "outputs": [],
   "source": [
    "acs_plumbing_data_per_county_gdf[\"county_id\"] = acs_plumbing_data_per_county_gdf[\n",
    "    \"AFFGEOID\"\n",
    "].str[9:]\n",
    "acs_plumbing_data_per_county_gdf[\"state_id\"] = acs_plumbing_data_per_county_gdf[\n",
    "    \"AFFGEOID\"\n",
    "].str[9:11]"
   ]
  },
  {
   "cell_type": "code",
   "execution_count": 14,
   "id": "703fcf06-203c-4be9-ac83-c9373e5c92d5",
   "metadata": {},
   "outputs": [],
   "source": [
    "acs_plumbing_data_per_county_gdf = acs_plumbing_data_per_county_gdf.fillna(0)\n",
    "acs_plumbing_data_per_county_gdf[\"LACKING_PLUMBING\"] = acs_plumbing_data_per_county_gdf[\n",
    "    \"LACKING_PLUMBING\"\n",
    "].astype(int)\n",
    "acs_plumbing_data_per_county_gdf[\"PERCENT\"] = acs_plumbing_data_per_county_gdf[\n",
    "    \"PERCENT\"\n",
    "].astype(float)"
   ]
  },
  {
   "cell_type": "code",
   "execution_count": 15,
   "id": "ae923604-fd11-4c7d-a480-4f53abaeafbc",
   "metadata": {},
   "outputs": [],
   "source": [
    "acs_plumbing_data_per_county_gdf = acs_plumbing_data_per_county_gdf.to_crs(9311)\n",
    "acs_plumbing_data_per_county_gdf.to_file(\"data/plumbing_per_county.gpkg\")"
   ]
  },
  {
   "cell_type": "code",
   "execution_count": 16,
   "id": "e05f8aae-9b3e-488c-b776-2967596dbde3",
   "metadata": {},
   "outputs": [
    {
     "data": {
      "text/html": [
       "<div>\n",
       "<style scoped>\n",
       "    .dataframe tbody tr th:only-of-type {\n",
       "        vertical-align: middle;\n",
       "    }\n",
       "\n",
       "    .dataframe tbody tr th {\n",
       "        vertical-align: top;\n",
       "    }\n",
       "\n",
       "    .dataframe thead th {\n",
       "        text-align: right;\n",
       "    }\n",
       "</style>\n",
       "<table border=\"1\" class=\"dataframe\">\n",
       "  <thead>\n",
       "    <tr style=\"text-align: right;\">\n",
       "      <th></th>\n",
       "      <th>geometry</th>\n",
       "      <th>AFFGEOID</th>\n",
       "      <th>LACKING_PLUMBING</th>\n",
       "      <th>PERCENT</th>\n",
       "      <th>county_id</th>\n",
       "      <th>state_id</th>\n",
       "    </tr>\n",
       "  </thead>\n",
       "  <tbody>\n",
       "    <tr>\n",
       "      <th>1080</th>\n",
       "      <td>POLYGON ((-2719625.094 3167492.219, -2718060.9...</td>\n",
       "      <td>0500000US02290</td>\n",
       "      <td>776</td>\n",
       "      <td>33.5</td>\n",
       "      <td>02290</td>\n",
       "      <td>02</td>\n",
       "    </tr>\n",
       "    <tr>\n",
       "      <th>737</th>\n",
       "      <td>MULTIPOLYGON (((-3101902.04 2893602.272, -3101...</td>\n",
       "      <td>0500000US02050</td>\n",
       "      <td>1198</td>\n",
       "      <td>25.7</td>\n",
       "      <td>02050</td>\n",
       "      <td>02</td>\n",
       "    </tr>\n",
       "    <tr>\n",
       "      <th>490</th>\n",
       "      <td>MULTIPOLYGON (((-2772662.37 3340094.061, -2772...</td>\n",
       "      <td>0500000US02158</td>\n",
       "      <td>461</td>\n",
       "      <td>24.4</td>\n",
       "      <td>02158</td>\n",
       "      <td>02</td>\n",
       "    </tr>\n",
       "    <tr>\n",
       "      <th>37</th>\n",
       "      <td>MULTIPOLYGON (((-2582444.172 3292250.254, -258...</td>\n",
       "      <td>0500000US02180</td>\n",
       "      <td>624</td>\n",
       "      <td>22.4</td>\n",
       "      <td>02180</td>\n",
       "      <td>02</td>\n",
       "    </tr>\n",
       "    <tr>\n",
       "      <th>1619</th>\n",
       "      <td>MULTIPOLYGON (((-2380396.888 3432550.411, -238...</td>\n",
       "      <td>0500000US02188</td>\n",
       "      <td>348</td>\n",
       "      <td>19.2</td>\n",
       "      <td>02188</td>\n",
       "      <td>02</td>\n",
       "    </tr>\n",
       "    <tr>\n",
       "      <th>...</th>\n",
       "      <td>...</td>\n",
       "      <td>...</td>\n",
       "      <td>...</td>\n",
       "      <td>...</td>\n",
       "      <td>...</td>\n",
       "      <td>...</td>\n",
       "    </tr>\n",
       "    <tr>\n",
       "      <th>3138</th>\n",
       "      <td>POLYGON ((648823.527 -499123.855, 648871.836 -...</td>\n",
       "      <td>0500000US29103</td>\n",
       "      <td>0</td>\n",
       "      <td>0.0</td>\n",
       "      <td>29103</td>\n",
       "      <td>29</td>\n",
       "    </tr>\n",
       "    <tr>\n",
       "      <th>699</th>\n",
       "      <td>POLYGON ((1512007.13 -643245.397, 1512065.233 ...</td>\n",
       "      <td>0500000US21159</td>\n",
       "      <td>0</td>\n",
       "      <td>0.0</td>\n",
       "      <td>21159</td>\n",
       "      <td>21</td>\n",
       "    </tr>\n",
       "    <tr>\n",
       "      <th>739</th>\n",
       "      <td>POLYGON ((651237.224 -1197055.773, 651510.364 ...</td>\n",
       "      <td>0500000US05039</td>\n",
       "      <td>0</td>\n",
       "      <td>0.0</td>\n",
       "      <td>05039</td>\n",
       "      <td>05</td>\n",
       "    </tr>\n",
       "    <tr>\n",
       "      <th>758</th>\n",
       "      <td>POLYGON ((-641882.931 -602213.471, -641644.668...</td>\n",
       "      <td>0500000US08097</td>\n",
       "      <td>0</td>\n",
       "      <td>0.0</td>\n",
       "      <td>08097</td>\n",
       "      <td>08</td>\n",
       "    </tr>\n",
       "    <tr>\n",
       "      <th>763</th>\n",
       "      <td>POLYGON ((1179510.765 123892.624, 1180475.464 ...</td>\n",
       "      <td>0500000US26137</td>\n",
       "      <td>0</td>\n",
       "      <td>0.0</td>\n",
       "      <td>26137</td>\n",
       "      <td>26</td>\n",
       "    </tr>\n",
       "  </tbody>\n",
       "</table>\n",
       "<p>3234 rows × 6 columns</p>\n",
       "</div>"
      ],
      "text/plain": [
       "                                               geometry        AFFGEOID  \\\n",
       "1080  POLYGON ((-2719625.094 3167492.219, -2718060.9...  0500000US02290   \n",
       "737   MULTIPOLYGON (((-3101902.04 2893602.272, -3101...  0500000US02050   \n",
       "490   MULTIPOLYGON (((-2772662.37 3340094.061, -2772...  0500000US02158   \n",
       "37    MULTIPOLYGON (((-2582444.172 3292250.254, -258...  0500000US02180   \n",
       "1619  MULTIPOLYGON (((-2380396.888 3432550.411, -238...  0500000US02188   \n",
       "...                                                 ...             ...   \n",
       "3138  POLYGON ((648823.527 -499123.855, 648871.836 -...  0500000US29103   \n",
       "699   POLYGON ((1512007.13 -643245.397, 1512065.233 ...  0500000US21159   \n",
       "739   POLYGON ((651237.224 -1197055.773, 651510.364 ...  0500000US05039   \n",
       "758   POLYGON ((-641882.931 -602213.471, -641644.668...  0500000US08097   \n",
       "763   POLYGON ((1179510.765 123892.624, 1180475.464 ...  0500000US26137   \n",
       "\n",
       "      LACKING_PLUMBING  PERCENT county_id state_id  \n",
       "1080               776     33.5     02290       02  \n",
       "737               1198     25.7     02050       02  \n",
       "490                461     24.4     02158       02  \n",
       "37                 624     22.4     02180       02  \n",
       "1619               348     19.2     02188       02  \n",
       "...                ...      ...       ...      ...  \n",
       "3138                 0      0.0     29103       29  \n",
       "699                  0      0.0     21159       21  \n",
       "739                  0      0.0     05039       05  \n",
       "758                  0      0.0     08097       08  \n",
       "763                  0      0.0     26137       26  \n",
       "\n",
       "[3234 rows x 6 columns]"
      ]
     },
     "execution_count": 16,
     "metadata": {},
     "output_type": "execute_result"
    }
   ],
   "source": [
    "acs_plumbing_data_per_county_gdf.sort_values(\"PERCENT\", ascending=False)"
   ]
  },
  {
   "cell_type": "code",
   "execution_count": null,
   "id": "641fe6e8-a92d-407d-b49c-f85ac7139bbd",
   "metadata": {},
   "outputs": [],
   "source": []
  }
 ],
 "metadata": {
  "kernelspec": {
   "display_name": "Python 3 (ipykernel)",
   "language": "python",
   "name": "python3"
  },
  "language_info": {
   "codemirror_mode": {
    "name": "ipython",
    "version": 3
   },
   "file_extension": ".py",
   "mimetype": "text/x-python",
   "name": "python",
   "nbconvert_exporter": "python",
   "pygments_lexer": "ipython3",
   "version": "3.11.11"
  }
 },
 "nbformat": 4,
 "nbformat_minor": 5
}
