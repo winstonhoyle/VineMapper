{
 "cells": [
  {
   "cell_type": "code",
   "execution_count": 1,
   "id": "34096667-a395-48d3-be7d-d2dfa7378003",
   "metadata": {},
   "outputs": [],
   "source": [
    "import requests"
   ]
  },
  {
   "cell_type": "code",
   "execution_count": 2,
   "id": "c4323fb2-1721-463e-8602-d1c3302ff523",
   "metadata": {},
   "outputs": [],
   "source": [
    "import geopandas as gpd\n",
    "import pandas as pd"
   ]
  },
  {
   "cell_type": "markdown",
   "id": "7bfd8f31-eada-447d-af06-da8a94290c02",
   "metadata": {},
   "source": [
    "## Open State data"
   ]
  },
  {
   "cell_type": "code",
   "execution_count": 3,
   "id": "5fadd853-8ad5-4832-976a-4d251d5a794b",
   "metadata": {},
   "outputs": [],
   "source": [
    "file_path = \"data/cb_2024_us_county_500k/cb_2024_us_county_500k.shp\"\n",
    "counties_gdf = gpd.read_file(file_path)"
   ]
  },
  {
   "cell_type": "code",
   "execution_count": 4,
   "id": "de5d1640-0185-4cb3-86ed-658e108baba6",
   "metadata": {},
   "outputs": [],
   "source": [
    "counties_gdf = counties_gdf[\n",
    "    ~counties_gdf[\"STATEFP\"].isin([\"60\", \"66\", \"69\", \"72\", \"74\", \"78\"])\n",
    "].reset_index(drop=True)"
   ]
  },
  {
   "cell_type": "markdown",
   "id": "2246428d-fae0-4af8-97d2-96519e1527e2",
   "metadata": {},
   "source": [
    "## Get Ethnic Data"
   ]
  },
  {
   "cell_type": "code",
   "execution_count": 17,
   "id": "9c93f0e3-339f-4d54-b5a1-15534c56d929",
   "metadata": {},
   "outputs": [],
   "source": [
    "table = \"S2402\"\n",
    "\n",
    "url = \"https://api.census.gov/data/2023/acs/acs5/subject\"\n",
    "params = {\n",
    "    \"get\": f\"group({table})\",\n",
    "    \"ucgid\": \"pseudo(0100000US$0500000)\",\n",
    "}\n",
    "response = requests.get(url, params=params)"
   ]
  },
  {
   "cell_type": "code",
   "execution_count": 18,
   "id": "f0762979-d348-443e-8129-31827909a262",
   "metadata": {},
   "outputs": [],
   "source": [
    "data = response.json()\n",
    "columns = data[0]\n",
    "rows = data[1:]\n",
    "labor_df = pd.DataFrame(rows, columns=columns)"
   ]
  },
  {
   "cell_type": "code",
   "execution_count": 19,
   "id": "16265ed0-52cd-4040-a20d-ff1a4343e42b",
   "metadata": {},
   "outputs": [],
   "source": [
    "url = \"http://api.census.gov/data/2023/acs/acs5/subject/variables.json\"\n",
    "response = requests.get(url)\n",
    "variables = response.json()[\"variables\"]"
   ]
  },
  {
   "cell_type": "code",
   "execution_count": 20,
   "id": "fb2aeaab-4d25-4eab-8068-4ce81801b1ad",
   "metadata": {},
   "outputs": [],
   "source": [
    "col_vars = {k: v[\"label\"] for k, v in variables.items() if k.startswith(table)}"
   ]
  },
  {
   "cell_type": "code",
   "execution_count": 21,
   "id": "1d6e01d7-95e5-4135-acec-7ba07d7bbb36",
   "metadata": {},
   "outputs": [],
   "source": [
    "labor_df = labor_df.rename(columns=col_vars)\n",
    "labor_df = labor_df[[*list(col_vars.values()), \"ucgid\"]]"
   ]
  },
  {
   "cell_type": "code",
   "execution_count": 22,
   "id": "0a279581-70a9-4043-a35f-d29e499bdf0f",
   "metadata": {},
   "outputs": [],
   "source": [
    "rename_dict = {\n",
    "    col: col.split(\"!!\")[-1]\n",
    "    for col in labor_df.columns\n",
    "    if col.startswith(\n",
    "        \"Estimate!!Female!!Full-time, year-round civilian employed population 16 years and over\"\n",
    "    )\n",
    "}"
   ]
  },
  {
   "cell_type": "code",
   "execution_count": 23,
   "id": "fccde405-fa0f-44f8-98ee-646a80bfec68",
   "metadata": {},
   "outputs": [],
   "source": [
    "labor_df.rename(columns=rename_dict, inplace=True)"
   ]
  },
  {
   "cell_type": "code",
   "execution_count": 24,
   "id": "4f953834-5ea2-4bf2-a76a-c77717931399",
   "metadata": {},
   "outputs": [],
   "source": [
    "# labor_cols = list(rename_dict.values())\n",
    "# labor_cols = [labor_col for labor_col in labor_cols if not labor_col.endswith(\":\")]\n",
    "labor_cols = [\n",
    "    \"Management, business, science, and arts occupations:\",\n",
    "    \"Service occupations:\",\n",
    "    \"Sales and office occupations:\",\n",
    "    \"Natural resources, construction, and maintenance occupations:\",\n",
    "    \"Production, transportation, and material moving occupations:\",\n",
    "]\n",
    "labor_df[labor_cols] = labor_df[labor_cols].astype(int)\n",
    "# labor_cols.remove('Full-time, year-round civilian employed population 16 years and over')"
   ]
  },
  {
   "cell_type": "code",
   "execution_count": 25,
   "id": "cc1dc550-a118-40c5-bdd3-e226fe175f2c",
   "metadata": {},
   "outputs": [],
   "source": [
    "labor_df = labor_df.rename(columns={\"ucgid\": \"GEOIDFQ\"})"
   ]
  },
  {
   "cell_type": "code",
   "execution_count": 26,
   "id": "ebb443e7-8015-40cf-a929-81d6c1fa89ce",
   "metadata": {},
   "outputs": [],
   "source": [
    "labor_df = labor_df[[\"GEOIDFQ\", *labor_cols]]"
   ]
  },
  {
   "cell_type": "code",
   "execution_count": 27,
   "id": "9e0ce481-fd92-4860-8b9b-310163875818",
   "metadata": {},
   "outputs": [],
   "source": [
    "labor_df[\"LARGEST_SECTOR\"] = labor_df[labor_cols].idxmax(axis=1)"
   ]
  },
  {
   "cell_type": "code",
   "execution_count": 28,
   "id": "505b78d1-400e-415c-a738-6a9ab22703e5",
   "metadata": {},
   "outputs": [
    {
     "data": {
      "text/html": [
       "<div>\n",
       "<style scoped>\n",
       "    .dataframe tbody tr th:only-of-type {\n",
       "        vertical-align: middle;\n",
       "    }\n",
       "\n",
       "    .dataframe tbody tr th {\n",
       "        vertical-align: top;\n",
       "    }\n",
       "\n",
       "    .dataframe thead th {\n",
       "        text-align: right;\n",
       "    }\n",
       "</style>\n",
       "<table border=\"1\" class=\"dataframe\">\n",
       "  <thead>\n",
       "    <tr style=\"text-align: right;\">\n",
       "      <th></th>\n",
       "      <th>LARGEST_SECTOR</th>\n",
       "      <th>COUNT</th>\n",
       "    </tr>\n",
       "  </thead>\n",
       "  <tbody>\n",
       "    <tr>\n",
       "      <th>0</th>\n",
       "      <td>Management, business, science, and arts occupa...</td>\n",
       "      <td>3032</td>\n",
       "    </tr>\n",
       "    <tr>\n",
       "      <th>1</th>\n",
       "      <td>Production, transportation, and material movin...</td>\n",
       "      <td>4</td>\n",
       "    </tr>\n",
       "    <tr>\n",
       "      <th>2</th>\n",
       "      <td>Sales and office occupations:</td>\n",
       "      <td>168</td>\n",
       "    </tr>\n",
       "    <tr>\n",
       "      <th>3</th>\n",
       "      <td>Service occupations:</td>\n",
       "      <td>18</td>\n",
       "    </tr>\n",
       "  </tbody>\n",
       "</table>\n",
       "</div>"
      ],
      "text/plain": [
       "                                      LARGEST_SECTOR  COUNT\n",
       "0  Management, business, science, and arts occupa...   3032\n",
       "1  Production, transportation, and material movin...      4\n",
       "2                      Sales and office occupations:    168\n",
       "3                               Service occupations:     18"
      ]
     },
     "execution_count": 28,
     "metadata": {},
     "output_type": "execute_result"
    }
   ],
   "source": [
    "labor_df.groupby(\"LARGEST_SECTOR\").size().reset_index(name=\"COUNT\")"
   ]
  },
  {
   "cell_type": "markdown",
   "id": "ea0435b2-f5f4-4186-853b-615f63cc50aa",
   "metadata": {},
   "source": [
    "## Merge Data"
   ]
  },
  {
   "cell_type": "code",
   "execution_count": 29,
   "id": "741bc565-ebfc-42ba-a794-913e31d2ea26",
   "metadata": {},
   "outputs": [],
   "source": [
    "labor_gdf = counties_gdf.merge(labor_df, on=\"GEOIDFQ\", how=\"inner\")"
   ]
  },
  {
   "cell_type": "code",
   "execution_count": 30,
   "id": "ae923604-fd11-4c7d-a480-4f53abaeafbc",
   "metadata": {},
   "outputs": [],
   "source": [
    "labor_gdf = labor_gdf.to_crs(9311)\n",
    "labor_gdf.to_file(\"data/labor_sector_per_county.gpkg\")"
   ]
  },
  {
   "cell_type": "code",
   "execution_count": null,
   "id": "537b6034-c588-44fb-9e71-68e5e62adbad",
   "metadata": {},
   "outputs": [],
   "source": []
  }
 ],
 "metadata": {
  "kernelspec": {
   "display_name": "Python 3 (ipykernel)",
   "language": "python",
   "name": "python3"
  },
  "language_info": {
   "codemirror_mode": {
    "name": "ipython",
    "version": 3
   },
   "file_extension": ".py",
   "mimetype": "text/x-python",
   "name": "python",
   "nbconvert_exporter": "python",
   "pygments_lexer": "ipython3",
   "version": "3.11.11"
  }
 },
 "nbformat": 4,
 "nbformat_minor": 5
}
