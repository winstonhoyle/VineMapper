{
 "cells": [
  {
   "cell_type": "code",
   "execution_count": 19,
   "id": "34096667-a395-48d3-be7d-d2dfa7378003",
   "metadata": {},
   "outputs": [],
   "source": [
    "import requests"
   ]
  },
  {
   "cell_type": "code",
   "execution_count": 20,
   "id": "c4323fb2-1721-463e-8602-d1c3302ff523",
   "metadata": {},
   "outputs": [],
   "source": [
    "import geopandas as gpd\n",
    "import pandas as pd"
   ]
  },
  {
   "cell_type": "markdown",
   "id": "7bfd8f31-eada-447d-af06-da8a94290c02",
   "metadata": {},
   "source": [
    "## Open State data"
   ]
  },
  {
   "cell_type": "code",
   "execution_count": 21,
   "id": "5fadd853-8ad5-4832-976a-4d251d5a794b",
   "metadata": {},
   "outputs": [],
   "source": [
    "file_path = \"data/cb_2024_us_county_500k/cb_2024_us_county_500k.shp\"\n",
    "counties_gdf = gpd.read_file(file_path)"
   ]
  },
  {
   "cell_type": "markdown",
   "id": "2246428d-fae0-4af8-97d2-96519e1527e2",
   "metadata": {},
   "source": [
    "## Get Columm Data"
   ]
  },
  {
   "cell_type": "code",
   "execution_count": 22,
   "id": "b2d8dc8c-e9ea-406c-b331-48431bfdb3d1",
   "metadata": {},
   "outputs": [],
   "source": [
    "r = requests.get(\"https://api.census.gov/data/2023/acs/acs5/subject/variables.json\")\n",
    "columns_obj = r.json()"
   ]
  },
  {
   "cell_type": "code",
   "execution_count": 23,
   "id": "67321561-3edf-48e0-a6b5-a140be875f1b",
   "metadata": {},
   "outputs": [],
   "source": [
    "columns_to_replace = {\n",
    "    key: val[\"label\"]\n",
    "    for key, val in columns_obj[\"variables\"].items()\n",
    "    if key.startswith(\"S0802\")\n",
    "}"
   ]
  },
  {
   "cell_type": "code",
   "execution_count": 24,
   "id": "e598dab4-f88d-494c-8b0b-2eb18a05f9ac",
   "metadata": {},
   "outputs": [
    {
     "data": {
      "text/plain": [
       "{'label': 'Estimate!!Total!!Workers 16 years and over who did not work from home!!TRAVEL TIME TO WORK!!60 or more minutes',\n",
       " 'concept': 'Means of Transportation to Work by Selected Characteristics',\n",
       " 'predicateType': 'float',\n",
       " 'group': 'S0802',\n",
       " 'limit': 0,\n",
       " 'attributes': 'S0802_C01_089EA,S0802_C01_089M,S0802_C01_089MA'}"
      ]
     },
     "execution_count": 24,
     "metadata": {},
     "output_type": "execute_result"
    }
   ],
   "source": [
    "columns_obj[\"variables\"][\"S0802_C01_089E\"]"
   ]
  },
  {
   "cell_type": "code",
   "execution_count": 25,
   "id": "8986288d-0c9e-4fcb-9499-d8ee831507da",
   "metadata": {},
   "outputs": [
    {
     "data": {
      "text/plain": [
       "{'label': 'Estimate!!Total!!Workers 16 years and over who did not work from home!!TRAVEL TIME TO WORK!!60 or more minutes',\n",
       " 'concept': 'Means of Transportation to Work by Selected Characteristics',\n",
       " 'predicateType': 'float',\n",
       " 'group': 'S0802',\n",
       " 'limit': 0,\n",
       " 'attributes': 'S0802_C01_089EA,S0802_C01_089M,S0802_C01_089MA'}"
      ]
     },
     "execution_count": 25,
     "metadata": {},
     "output_type": "execute_result"
    }
   ],
   "source": [
    "columns_obj[\"variables\"][\"S0802_C01_089E\"]"
   ]
  },
  {
   "cell_type": "markdown",
   "id": "5a279a3d-20e7-4981-b63d-f23bacbdc1d9",
   "metadata": {},
   "source": [
    "### Get columns to query and rename for later"
   ]
  },
  {
   "cell_type": "code",
   "execution_count": 26,
   "id": "57c6972b-31af-4622-a9a4-3ecc530cb320",
   "metadata": {},
   "outputs": [],
   "source": [
    "columns = [\"GEO_ID\", \"S0802_C01_089E\", \"S0802_C01_089M\"]\n",
    "columns_formatted = \",\".join(columns)"
   ]
  },
  {
   "cell_type": "code",
   "execution_count": 27,
   "id": "6f46df1a-ab39-486a-849e-af4f5ca316b5",
   "metadata": {},
   "outputs": [],
   "source": [
    "response = requests.get(\n",
    "    f\"https://api.census.gov/data/2023/acs/acs5/subject?get={columns_formatted}&for=county:*\"\n",
    ")"
   ]
  },
  {
   "cell_type": "code",
   "execution_count": 28,
   "id": "f0762979-d348-443e-8129-31827909a262",
   "metadata": {},
   "outputs": [],
   "source": [
    "data = response.json()\n",
    "columns = data[0]\n",
    "rows = data[1:]\n",
    "commuting_df = pd.DataFrame(rows, columns=columns)"
   ]
  },
  {
   "cell_type": "code",
   "execution_count": 29,
   "id": "8f8f97ed-1068-40e5-ab21-77eecdd38036",
   "metadata": {},
   "outputs": [],
   "source": [
    "commuting_df = commuting_df[columns]\n",
    "commuting_df[columns[1:]] = commuting_df[columns[1:]].astype(float)"
   ]
  },
  {
   "cell_type": "code",
   "execution_count": 30,
   "id": "216e8ddc-a379-4c6b-b281-0aae14f0f0c6",
   "metadata": {},
   "outputs": [
    {
     "data": {
      "text/plain": [
       "['GEO_ID', 'S0802_C01_089E', 'S0802_C01_089M', 'state', 'county']"
      ]
     },
     "execution_count": 30,
     "metadata": {},
     "output_type": "execute_result"
    }
   ],
   "source": [
    "columns"
   ]
  },
  {
   "cell_type": "code",
   "execution_count": 31,
   "id": "e5afb39f-add1-4695-90f2-de888fc163d1",
   "metadata": {},
   "outputs": [],
   "source": [
    "def check_margin_error(row) -> str:\n",
    "    value = row[\"S0802_C01_089E\"]\n",
    "    value_moe = row[\"S0802_C01_089M\"]\n",
    "\n",
    "    if value == 0.0:\n",
    "        return 0.0\n",
    "\n",
    "    rmoe_val = abs(value_moe / value)\n",
    "    if rmoe_val < 0.50:\n",
    "        return value\n",
    "    else:\n",
    "        return -99"
   ]
  },
  {
   "cell_type": "code",
   "execution_count": 32,
   "id": "f1237aa6-7f56-4966-b9c1-90d20d5ef2f0",
   "metadata": {},
   "outputs": [],
   "source": [
    "commuting_df[\"PERCENT\"] = commuting_df.apply(\n",
    "    lambda row: check_margin_error(row), axis=1\n",
    ")"
   ]
  },
  {
   "cell_type": "code",
   "execution_count": 33,
   "id": "b167ea13-49a2-4421-97f4-72084759cabf",
   "metadata": {},
   "outputs": [],
   "source": [
    "columns_to_replace[\"GEO_ID\"] = \"GEOIDFQ\"\n",
    "commuting_df = commuting_df.rename(columns=columns_to_replace)"
   ]
  },
  {
   "cell_type": "code",
   "execution_count": 34,
   "id": "36227b26-d594-43fd-9c7c-272757974599",
   "metadata": {},
   "outputs": [
    {
     "data": {
      "text/plain": [
       "Index(['GEOIDFQ',\n",
       "       'Estimate!!Total!!Workers 16 years and over who did not work from home!!TRAVEL TIME TO WORK!!60 or more minutes',\n",
       "       'S0802_C01_089M', 'state', 'county', 'PERCENT'],\n",
       "      dtype='object')"
      ]
     },
     "execution_count": 34,
     "metadata": {},
     "output_type": "execute_result"
    }
   ],
   "source": [
    "commuting_df.columns"
   ]
  },
  {
   "cell_type": "markdown",
   "id": "ea0435b2-f5f4-4186-853b-615f63cc50aa",
   "metadata": {},
   "source": [
    "## Merge Data"
   ]
  },
  {
   "cell_type": "code",
   "execution_count": 35,
   "id": "741bc565-ebfc-42ba-a794-913e31d2ea26",
   "metadata": {},
   "outputs": [],
   "source": [
    "commuting_gdf = counties_gdf.merge(commuting_df, on=\"GEOIDFQ\", how=\"inner\")"
   ]
  },
  {
   "cell_type": "code",
   "execution_count": 36,
   "id": "ae923604-fd11-4c7d-a480-4f53abaeafbc",
   "metadata": {},
   "outputs": [],
   "source": [
    "commuting_gdf = commuting_gdf.to_crs(9311)\n",
    "commuting_gdf.to_file(\"data/Commute_More_60_Minutes_Per_County.gpkg\")"
   ]
  },
  {
   "cell_type": "code",
   "execution_count": null,
   "id": "52948e3a-809b-4265-8da9-6b0e3be97ea9",
   "metadata": {},
   "outputs": [],
   "source": []
  },
  {
   "cell_type": "code",
   "execution_count": null,
   "id": "027a15e5-4028-406c-ae22-ae88ea265c93",
   "metadata": {},
   "outputs": [],
   "source": []
  }
 ],
 "metadata": {
  "kernelspec": {
   "display_name": "Python 3 (ipykernel)",
   "language": "python",
   "name": "python3"
  },
  "language_info": {
   "codemirror_mode": {
    "name": "ipython",
    "version": 3
   },
   "file_extension": ".py",
   "mimetype": "text/x-python",
   "name": "python",
   "nbconvert_exporter": "python",
   "pygments_lexer": "ipython3",
   "version": "3.11.13"
  }
 },
 "nbformat": 4,
 "nbformat_minor": 5
}
