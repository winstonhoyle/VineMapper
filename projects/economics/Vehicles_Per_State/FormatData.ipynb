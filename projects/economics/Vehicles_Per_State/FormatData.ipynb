{
 "cells": [
  {
   "cell_type": "code",
   "execution_count": null,
   "id": "c4323fb2-1721-463e-8602-d1c3302ff523",
   "metadata": {},
   "outputs": [],
   "source": [
    "import geopandas as gpd\n",
    "import pandas as pd"
   ]
  },
  {
   "cell_type": "markdown",
   "id": "7bfd8f31-eada-447d-af06-da8a94290c02",
   "metadata": {},
   "source": [
    "## Open State data"
   ]
  },
  {
   "cell_type": "code",
   "execution_count": 2,
   "id": "5fadd853-8ad5-4832-976a-4d251d5a794b",
   "metadata": {},
   "outputs": [],
   "source": [
    "file_path = \"data/cb_2018_us_state_500k/cb_2018_us_state_500k.shp\"\n",
    "states_gdf = gpd.read_file(file_path)"
   ]
  },
  {
   "cell_type": "markdown",
   "id": "ff619a1a-6b4e-49e6-9aa7-b139fa2a5904",
   "metadata": {},
   "source": [
    "## Open Population Data"
   ]
  },
  {
   "cell_type": "code",
   "execution_count": 3,
   "id": "103e1d91-375a-4485-a913-c77b9506ff18",
   "metadata": {},
   "outputs": [],
   "source": [
    "state_populations = pd.read_excel(\n",
    "    \"data/NST-EST2024-POP.xlsx\", sheet_name=None, engine=\"openpyxl\"\n",
    ")"
   ]
  },
  {
   "cell_type": "code",
   "execution_count": 4,
   "id": "143ac4ee-6128-43cc-b476-b0de697f7ea5",
   "metadata": {},
   "outputs": [],
   "source": [
    "state_populations_df = state_populations[\"NST-EST2024-POP\"][\n",
    "    [\n",
    "        \"table with row headers in column A and column headers in rows 3 through 4. (leading dots indicate sub-parts)\",\n",
    "        \"Unnamed: 5\",\n",
    "    ]\n",
    "]\n",
    "state_populations_df = state_populations_df.rename(\n",
    "    columns={\n",
    "        \"table with row headers in column A and column headers in rows 3 through 4. (leading dots indicate sub-parts)\": \"NAME\",\n",
    "        \"Unnamed: 5\": \"POPULATION\",\n",
    "    }\n",
    ")\n",
    "state_populations_df[\"NAME\"] = state_populations_df[\"NAME\"].str[1:]"
   ]
  },
  {
   "cell_type": "code",
   "execution_count": 5,
   "id": "1ff725b5-af1f-4ebb-818e-d456a56af02b",
   "metadata": {},
   "outputs": [],
   "source": [
    "states_with_population_gdf = states_gdf.merge(\n",
    "    state_populations_df, on=\"NAME\", how=\"left\"\n",
    ")\n",
    "states_with_population_gdf = states_with_population_gdf[\n",
    "    [\"STUSPS\", \"NAME\", \"POPULATION\", \"geometry\"]\n",
    "]"
   ]
  },
  {
   "cell_type": "markdown",
   "id": "2246428d-fae0-4af8-97d2-96519e1527e2",
   "metadata": {},
   "source": [
    "## Get Vehicle Data"
   ]
  },
  {
   "cell_type": "code",
   "execution_count": 6,
   "id": "b2d8dc8c-e9ea-406c-b331-48431bfdb3d1",
   "metadata": {},
   "outputs": [],
   "source": [
    "vehicle_df = pd.read_csv(\"data/table_data.csv\")"
   ]
  },
  {
   "cell_type": "code",
   "execution_count": 7,
   "id": "d76f5b8c-d149-4c62-a366-fb7a327370ed",
   "metadata": {},
   "outputs": [],
   "source": [
    "vehicle_df = vehicle_df[\n",
    "    (vehicle_df[\"Measures\"] == \"Vehicles\") & (vehicle_df[\"Year of Year\"] == 2023)\n",
    "]\n",
    "vehicle_df = vehicle_df.rename(columns={\"State\": \"NAME\"})"
   ]
  },
  {
   "cell_type": "code",
   "execution_count": null,
   "id": "8a1aae0a-73fb-40ff-b4cb-e7ee1ec798e0",
   "metadata": {},
   "outputs": [],
   "source": []
  },
  {
   "cell_type": "code",
   "execution_count": null,
   "id": "67321561-3edf-48e0-a6b5-a140be875f1b",
   "metadata": {},
   "outputs": [],
   "source": []
  },
  {
   "cell_type": "markdown",
   "id": "ea0435b2-f5f4-4186-853b-615f63cc50aa",
   "metadata": {},
   "source": [
    "## Merge Data"
   ]
  },
  {
   "cell_type": "code",
   "execution_count": 8,
   "id": "741bc565-ebfc-42ba-a794-913e31d2ea26",
   "metadata": {},
   "outputs": [],
   "source": [
    "vehicle_gdf = states_with_population_gdf.merge(vehicle_df, on=\"NAME\", how=\"inner\")"
   ]
  },
  {
   "cell_type": "code",
   "execution_count": 9,
   "id": "cb64924c-13e8-4fe7-a585-9ed47ba632f5",
   "metadata": {},
   "outputs": [],
   "source": [
    "vehicle_gdf[\"vehicles_per_person\"] = (\n",
    "    vehicle_gdf[\"Values\"] / vehicle_gdf[\"POPULATION\"]\n",
    ").round(decimals=2)"
   ]
  },
  {
   "cell_type": "code",
   "execution_count": 10,
   "id": "ae923604-fd11-4c7d-a480-4f53abaeafbc",
   "metadata": {},
   "outputs": [],
   "source": [
    "vehicle_gdf = vehicle_gdf.to_crs(9311)\n",
    "vehicle_gdf.to_file(\"data/Vehicles_Per_State.gpkg\")"
   ]
  },
  {
   "cell_type": "code",
   "execution_count": null,
   "id": "52948e3a-809b-4265-8da9-6b0e3be97ea9",
   "metadata": {},
   "outputs": [],
   "source": []
  },
  {
   "cell_type": "code",
   "execution_count": null,
   "id": "027a15e5-4028-406c-ae22-ae88ea265c93",
   "metadata": {},
   "outputs": [],
   "source": []
  }
 ],
 "metadata": {
  "kernelspec": {
   "display_name": "Python 3 (ipykernel)",
   "language": "python",
   "name": "python3"
  },
  "language_info": {
   "codemirror_mode": {
    "name": "ipython",
    "version": 3
   },
   "file_extension": ".py",
   "mimetype": "text/x-python",
   "name": "python",
   "nbconvert_exporter": "python",
   "pygments_lexer": "ipython3",
   "version": "3.11.13"
  }
 },
 "nbformat": 4,
 "nbformat_minor": 5
}
