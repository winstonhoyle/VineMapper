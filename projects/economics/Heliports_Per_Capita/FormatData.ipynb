{
 "cells": [
  {
   "cell_type": "code",
   "execution_count": 1,
   "id": "b9fc2fbd-f810-4f67-ab5d-736c1aa45c74",
   "metadata": {},
   "outputs": [],
   "source": [
    "import geopandas as gpd\n",
    "import pandas as pd"
   ]
  },
  {
   "cell_type": "markdown",
   "id": "56b9a31d-b0b4-4c7a-860b-a5afebdceef4",
   "metadata": {},
   "source": [
    "## Open State Data"
   ]
  },
  {
   "cell_type": "code",
   "execution_count": 2,
   "id": "5d0925da-a067-40a9-a385-47348db28c98",
   "metadata": {},
   "outputs": [],
   "source": [
    "file_path = \"data/cb_2018_us_state_500k/cb_2018_us_state_500k.shp\"\n",
    "states_df = gpd.read_file(file_path)\n",
    "states_df = states_df.to_crs(9311)"
   ]
  },
  {
   "cell_type": "markdown",
   "id": "f8bf162a-9c21-4eeb-adde-e8e190efec8f",
   "metadata": {},
   "source": [
    "## Open Population Data"
   ]
  },
  {
   "cell_type": "code",
   "execution_count": 3,
   "id": "cf47c21b-482f-431b-9bcc-4181d8cf49b4",
   "metadata": {},
   "outputs": [],
   "source": [
    "state_populations = pd.read_excel(\n",
    "    \"data/NST-EST2024-POP.xlsx\", sheet_name=None, engine=\"openpyxl\"\n",
    ")"
   ]
  },
  {
   "cell_type": "code",
   "execution_count": 4,
   "id": "bed36c99-892b-4a2b-8b8a-cd69426015fb",
   "metadata": {},
   "outputs": [],
   "source": [
    "state_populations_df = state_populations[\"NST-EST2024-POP\"][\n",
    "    [\n",
    "        \"table with row headers in column A and column headers in rows 3 through 4. (leading dots indicate sub-parts)\",\n",
    "        \"Unnamed: 5\",\n",
    "    ]\n",
    "]\n",
    "state_populations_df = state_populations_df.rename(\n",
    "    columns={\n",
    "        \"table with row headers in column A and column headers in rows 3 through 4. (leading dots indicate sub-parts)\": \"NAME\",\n",
    "        \"Unnamed: 5\": \"POPULATION\",\n",
    "    }\n",
    ")\n",
    "state_populations_df[\"NAME\"] = state_populations_df[\"NAME\"].str[1:]"
   ]
  },
  {
   "cell_type": "code",
   "execution_count": 5,
   "id": "3587adc1-5cb2-4612-8f2e-fc22a6a88ab1",
   "metadata": {},
   "outputs": [],
   "source": [
    "states_with_population_df = states_df.merge(state_populations_df, on=\"NAME\", how=\"left\")\n",
    "states_with_population_df = states_with_population_df[\n",
    "    [\"STUSPS\", \"NAME\", \"POPULATION\", \"geometry\"]\n",
    "]"
   ]
  },
  {
   "cell_type": "markdown",
   "id": "ac560d02-c86e-458b-b80a-a505a89eb3d6",
   "metadata": {},
   "source": [
    "## Open Aviation Facilities Data"
   ]
  },
  {
   "cell_type": "code",
   "execution_count": 6,
   "id": "22bd268a-ca2a-43b6-b2e8-52b86123a130",
   "metadata": {},
   "outputs": [],
   "source": [
    "file_path = \"data/NTAD_Aviation_Facilities_-4386985993802120360.gpkg\"\n",
    "aviation_gdf = gpd.read_file(file_path)"
   ]
  },
  {
   "cell_type": "code",
   "execution_count": 7,
   "id": "eafda886-1587-424e-a024-91df167828ac",
   "metadata": {},
   "outputs": [],
   "source": [
    "heliport_gdf = aviation_gdf[aviation_gdf[\"SITE_TYPE_CODE\"] == \"H\"].reset_index()\n",
    "heliport_gdf = heliport_gdf.to_crs(9311)\n",
    "heliport_gdf.to_file(\"data/heliports.gpkg\")"
   ]
  },
  {
   "cell_type": "code",
   "execution_count": 8,
   "id": "750cb4a0-71d9-4ff5-b211-1ece9f97ce02",
   "metadata": {},
   "outputs": [],
   "source": [
    "heliport_counts_df = (\n",
    "    pd.DataFrame(heliport_gdf.groupby(\"STATE_CODE\").size())\n",
    "    .reset_index()\n",
    "    .rename(columns={\"STATE_CODE\": \"STUSPS\", 0: \"HELIPORTS\"})\n",
    ")"
   ]
  },
  {
   "cell_type": "markdown",
   "id": "4bf76ff1-a926-497c-bf15-c536d1035aa4",
   "metadata": {},
   "source": [
    "## Merge data"
   ]
  },
  {
   "cell_type": "code",
   "execution_count": 9,
   "id": "3639bd04-abf3-458a-becd-3ff23197d0b6",
   "metadata": {},
   "outputs": [],
   "source": [
    "heliport_counts_gdf = states_with_population_df[\n",
    "    [\"NAME\", \"STUSPS\", \"geometry\", \"POPULATION\"]\n",
    "].merge(heliport_counts_df, on=\"STUSPS\", how=\"inner\")"
   ]
  },
  {
   "cell_type": "code",
   "execution_count": 10,
   "id": "8f1ef32d-ccf4-481f-8299-6c9ea3e47173",
   "metadata": {},
   "outputs": [],
   "source": [
    "heliport_counts_gdf[\"sqmi\"] = heliport_counts_gdf[\"geometry\"].area / 2589988.11\n",
    "heliport_counts_gdf[\"HELIPORTS_PER_10_SQMI\"] = heliport_counts_gdf[\"HELIPORTS\"] / (\n",
    "    heliport_counts_gdf[\"sqmi\"] / 10.0\n",
    ")"
   ]
  },
  {
   "cell_type": "code",
   "execution_count": 11,
   "id": "d15357a3-63eb-459a-bee7-18e09952f453",
   "metadata": {},
   "outputs": [],
   "source": [
    "heliport_counts_gdf[\"per_100k\"] = (\n",
    "    (heliport_counts_gdf[\"HELIPORTS\"] / (heliport_counts_gdf[\"POPULATION\"] / 100_000))\n",
    "    .round(decimals=2)\n",
    "    .astype(float)\n",
    ")"
   ]
  },
  {
   "cell_type": "markdown",
   "id": "48546820-227b-4424-8977-9891f8cb8e14",
   "metadata": {},
   "source": [
    "## Export"
   ]
  },
  {
   "cell_type": "code",
   "execution_count": 12,
   "id": "c6a3c0d6-4b82-4769-b0d6-b0abbe540757",
   "metadata": {},
   "outputs": [],
   "source": [
    "heliport_counts_gdf = heliport_counts_gdf.dropna()\n",
    "heliport_counts_gdf.to_file(\"data/heliports_per_state.gpkg\")"
   ]
  },
  {
   "cell_type": "code",
   "execution_count": null,
   "id": "1c0a1484-0822-4e5a-bf7f-c75c1cf0aaea",
   "metadata": {},
   "outputs": [],
   "source": []
  }
 ],
 "metadata": {
  "kernelspec": {
   "display_name": "Python 3 (ipykernel)",
   "language": "python",
   "name": "python3"
  },
  "language_info": {
   "codemirror_mode": {
    "name": "ipython",
    "version": 3
   },
   "file_extension": ".py",
   "mimetype": "text/x-python",
   "name": "python",
   "nbconvert_exporter": "python",
   "pygments_lexer": "ipython3",
   "version": "3.11.11"
  }
 },
 "nbformat": 4,
 "nbformat_minor": 5
}
