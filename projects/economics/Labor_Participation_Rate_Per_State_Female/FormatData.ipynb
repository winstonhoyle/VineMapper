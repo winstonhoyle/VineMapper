{
 "cells": [
  {
   "cell_type": "code",
   "execution_count": 1,
   "id": "34096667-a395-48d3-be7d-d2dfa7378003",
   "metadata": {},
   "outputs": [],
   "source": [
    "import requests"
   ]
  },
  {
   "cell_type": "code",
   "execution_count": 2,
   "id": "c4323fb2-1721-463e-8602-d1c3302ff523",
   "metadata": {},
   "outputs": [],
   "source": [
    "import geopandas as gpd\n",
    "import pandas as pd"
   ]
  },
  {
   "cell_type": "markdown",
   "id": "7bfd8f31-eada-447d-af06-da8a94290c02",
   "metadata": {},
   "source": [
    "## Open State data"
   ]
  },
  {
   "cell_type": "code",
   "execution_count": 3,
   "id": "5fadd853-8ad5-4832-976a-4d251d5a794b",
   "metadata": {},
   "outputs": [],
   "source": [
    "file_path = \"data/cb_2018_us_state_500k/cb_2018_us_state_500k.shp\"\n",
    "state_gdf = gpd.read_file(file_path)"
   ]
  },
  {
   "cell_type": "markdown",
   "id": "2246428d-fae0-4af8-97d2-96519e1527e2",
   "metadata": {},
   "source": [
    "## Get Labor Data"
   ]
  },
  {
   "cell_type": "code",
   "execution_count": 4,
   "id": "9c93f0e3-339f-4d54-b5a1-15534c56d929",
   "metadata": {},
   "outputs": [],
   "source": [
    "table = \"S2301\"\n",
    "\n",
    "url = \"https://api.census.gov/data/2023/acs/acs5/subject\"\n",
    "params = {\n",
    "    \"get\": f\"group({table})\",\n",
    "    \"ucgid\": \"pseudo(0100000US$0400000)\",\n",
    "}\n",
    "response = requests.get(url, params=params)"
   ]
  },
  {
   "cell_type": "code",
   "execution_count": 5,
   "id": "f0762979-d348-443e-8129-31827909a262",
   "metadata": {},
   "outputs": [],
   "source": [
    "data = response.json()\n",
    "columns = data[0]\n",
    "rows = data[1:]\n",
    "labor_df = pd.DataFrame(rows, columns=columns)"
   ]
  },
  {
   "cell_type": "code",
   "execution_count": 6,
   "id": "16265ed0-52cd-4040-a20d-ff1a4343e42b",
   "metadata": {},
   "outputs": [],
   "source": [
    "url = \"http://api.census.gov/data/2023/acs/acs5/subject/variables.json\"\n",
    "response = requests.get(url)\n",
    "variables = response.json()[\"variables\"]"
   ]
  },
  {
   "cell_type": "code",
   "execution_count": 7,
   "id": "fb2aeaab-4d25-4eab-8068-4ce81801b1ad",
   "metadata": {},
   "outputs": [],
   "source": [
    "col_vars = {k: v[\"label\"] for k, v in variables.items() if k.startswith(table)}"
   ]
  },
  {
   "cell_type": "code",
   "execution_count": 8,
   "id": "1d6e01d7-95e5-4135-acec-7ba07d7bbb36",
   "metadata": {},
   "outputs": [],
   "source": [
    "labor_df = labor_df.rename(columns=col_vars)\n",
    "labor_df = labor_df[[*list(col_vars.values()), \"ucgid\"]]"
   ]
  },
  {
   "cell_type": "code",
   "execution_count": 9,
   "id": "0a279581-70a9-4043-a35f-d29e499bdf0f",
   "metadata": {},
   "outputs": [],
   "source": [
    "rename_dict = {\n",
    "    col: col.split(\"!!\")[-1]\n",
    "    for col in labor_df.columns\n",
    "    if col.startswith(\n",
    "        \"Estimate!!Labor Force Participation Rate!!Population 20 to 64 years!!SEX!!Female\"\n",
    "    )\n",
    "}"
   ]
  },
  {
   "cell_type": "code",
   "execution_count": 10,
   "id": "172f52dd-0a58-4968-9bd0-785f522346f1",
   "metadata": {},
   "outputs": [
    {
     "data": {
      "text/plain": [
       "{'Estimate!!Labor Force Participation Rate!!Population 20 to 64 years!!SEX!!Female!!With own children under 18 years!!With own children under 6 years and 6 to 17  years': 'With own children under 6 years and 6 to 17  years',\n",
       " 'Estimate!!Labor Force Participation Rate!!Population 20 to 64 years!!SEX!!Female!!With own children under 18 years!!With own children under 6 years only': 'With own children under 6 years only',\n",
       " 'Estimate!!Labor Force Participation Rate!!Population 20 to 64 years!!SEX!!Female!!With own children under 18 years': 'With own children under 18 years',\n",
       " 'Estimate!!Labor Force Participation Rate!!Population 20 to 64 years!!SEX!!Female': 'Female',\n",
       " 'Estimate!!Labor Force Participation Rate!!Population 20 to 64 years!!SEX!!Female!!With own children under 18 years!!With own children 6 to 17 years only': 'With own children 6 to 17 years only'}"
      ]
     },
     "execution_count": 10,
     "metadata": {},
     "output_type": "execute_result"
    }
   ],
   "source": [
    "rename_dict"
   ]
  },
  {
   "cell_type": "code",
   "execution_count": 11,
   "id": "fccde405-fa0f-44f8-98ee-646a80bfec68",
   "metadata": {},
   "outputs": [],
   "source": [
    "labor_df.rename(columns=rename_dict, inplace=True)"
   ]
  },
  {
   "cell_type": "code",
   "execution_count": 13,
   "id": "8ffebc99-c43e-493f-a2f7-6edd9281f381",
   "metadata": {},
   "outputs": [],
   "source": [
    "labor_df = labor_df[[\"Female\", \"ucgid\"]]\n",
    "labor_df = labor_df.rename(columns={\"ucgid\": \"AFFGEOID\"})"
   ]
  },
  {
   "cell_type": "code",
   "execution_count": 14,
   "id": "5334d6df-058b-483c-8cc8-a8bf8fe8e28a",
   "metadata": {},
   "outputs": [],
   "source": [
    "labor_df[\"Female\"] = labor_df[\"Female\"].astype(float)"
   ]
  },
  {
   "cell_type": "markdown",
   "id": "ea0435b2-f5f4-4186-853b-615f63cc50aa",
   "metadata": {},
   "source": [
    "## Merge Data"
   ]
  },
  {
   "cell_type": "code",
   "execution_count": 15,
   "id": "741bc565-ebfc-42ba-a794-913e31d2ea26",
   "metadata": {},
   "outputs": [],
   "source": [
    "labor_gdf = state_gdf.merge(labor_df, on=\"AFFGEOID\", how=\"inner\")"
   ]
  },
  {
   "cell_type": "code",
   "execution_count": 16,
   "id": "ae923604-fd11-4c7d-a480-4f53abaeafbc",
   "metadata": {},
   "outputs": [],
   "source": [
    "labor_gdf = labor_gdf.to_crs(9311)\n",
    "labor_gdf.to_file(\"data/Labor_Participation_Rate_Per_State_Female.gpkg\")"
   ]
  },
  {
   "cell_type": "code",
   "execution_count": null,
   "id": "13168df2-aa4d-45d6-a110-6b9666ccba57",
   "metadata": {},
   "outputs": [],
   "source": []
  }
 ],
 "metadata": {
  "kernelspec": {
   "display_name": "Python 3 (ipykernel)",
   "language": "python",
   "name": "python3"
  },
  "language_info": {
   "codemirror_mode": {
    "name": "ipython",
    "version": 3
   },
   "file_extension": ".py",
   "mimetype": "text/x-python",
   "name": "python",
   "nbconvert_exporter": "python",
   "pygments_lexer": "ipython3",
   "version": "3.11.13"
  }
 },
 "nbformat": 4,
 "nbformat_minor": 5
}
