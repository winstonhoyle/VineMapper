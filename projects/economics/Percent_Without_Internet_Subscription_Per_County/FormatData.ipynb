{
 "cells": [
  {
   "cell_type": "code",
   "execution_count": 18,
   "id": "c4323fb2-1721-463e-8602-d1c3302ff523",
   "metadata": {},
   "outputs": [],
   "source": [
    "import geopandas as gpd\n",
    "import pandas as pd"
   ]
  },
  {
   "cell_type": "markdown",
   "id": "7bfd8f31-eada-447d-af06-da8a94290c02",
   "metadata": {},
   "source": [
    "## Open State data"
   ]
  },
  {
   "cell_type": "code",
   "execution_count": 19,
   "id": "5fadd853-8ad5-4832-976a-4d251d5a794b",
   "metadata": {},
   "outputs": [],
   "source": [
    "file_path = \"data/cb_2018_us_county_500k/cb_2018_us_county_500k.shp\"\n",
    "counties_gdf = gpd.read_file(file_path)\n",
    "counties_gdf = counties_gdf[counties_gdf[\"STATEFP\"] != \"09\"][[\"geometry\", \"AFFGEOID\"]]\n",
    "counties_gdf = counties_gdf.to_crs(4326)"
   ]
  },
  {
   "cell_type": "markdown",
   "id": "6f8d8f18-f40f-488f-bfc6-b1cd6acc6848",
   "metadata": {},
   "source": [
    "#### Format for CT"
   ]
  },
  {
   "cell_type": "code",
   "execution_count": 20,
   "id": "a78351e7-8bc5-4e11-a904-46694e277a8a",
   "metadata": {},
   "outputs": [],
   "source": [
    "ct_gdf = gpd.read_file(\"data/CT_Planning_Regions.geojson\")\n",
    "ct_gdf[\"AFFGEOID\"] = \"0500000US\" + ct_gdf[\"PlanningRegionFIPS_GEOID\"]"
   ]
  },
  {
   "cell_type": "code",
   "execution_count": 21,
   "id": "85222d5d-1a07-4295-96cd-7adfd3841375",
   "metadata": {},
   "outputs": [],
   "source": [
    "counties_gdf = pd.concat(\n",
    "    [ct_gdf[[\"geometry\", \"AFFGEOID\"]], counties_gdf], ignore_index=True\n",
    ")"
   ]
  },
  {
   "cell_type": "markdown",
   "id": "74b55cfa-2db3-4a7c-bd04-0b341757effe",
   "metadata": {},
   "source": [
    "## Get Internet Percents"
   ]
  },
  {
   "cell_type": "code",
   "execution_count": 31,
   "id": "3992f69b-d2c6-4058-879b-b3df9efd2c6a",
   "metadata": {},
   "outputs": [],
   "source": [
    "acs_internet = pd.read_csv(\n",
    "    \"data/ACSST5Y2023.S2801_2025-04-30T190050/ACSST5Y2023.S2801-Data.csv\",\n",
    "    low_memory=False,\n",
    ")"
   ]
  },
  {
   "cell_type": "markdown",
   "id": "882f6ea0-65a2-404e-8c20-4571501b5685",
   "metadata": {},
   "source": [
    "#### Get Column names"
   ]
  },
  {
   "cell_type": "code",
   "execution_count": 32,
   "id": "4a3b0141-aaf8-405a-bfd0-eef85e9d5b94",
   "metadata": {},
   "outputs": [],
   "source": [
    "acs_column_names = pd.read_csv(\n",
    "    \"data/ACSST5Y2023.S2801_2025-04-30T190050/ACSST5Y2023.S2801-Column-Metadata.csv\"\n",
    ")"
   ]
  },
  {
   "cell_type": "code",
   "execution_count": 33,
   "id": "07d142e8-e490-4174-ac05-41eadf749b12",
   "metadata": {},
   "outputs": [],
   "source": [
    "internet_cols = list(\n",
    "    acs_column_names[\n",
    "        (acs_column_names[\"Column Name\"] == \"S2801_C01_019E\")\n",
    "        | (acs_column_names[\"Column Name\"] == \"S2801_C02_019E\")\n",
    "    ][\"Column Name\"]\n",
    ")"
   ]
  },
  {
   "cell_type": "markdown",
   "id": "c156cb57-84a4-47fe-81d8-2691da36f9d8",
   "metadata": {},
   "source": [
    "#### Back to Data"
   ]
  },
  {
   "cell_type": "code",
   "execution_count": 42,
   "id": "46820b78-1f2a-4160-8205-6be79a179254",
   "metadata": {},
   "outputs": [],
   "source": [
    "acs_internet_per_county_df = acs_internet[[\"GEO_ID\", *home_cols]]\n",
    "acs_internet_per_county_df.columns = acs_internet_per_county_df.iloc[0]\n",
    "acs_internet_per_county_df = acs_internet_per_county_df[1:]\n",
    "acs_internet_per_county_df = acs_internet_per_county_df.rename(\n",
    "    columns={\n",
    "        \"Estimate!!Total!!Total households!!TYPE OF INTERNET SUBSCRIPTIONS!!Without an Internet subscription\": \"NO_INTERNET\",\n",
    "        \"Estimate!!Percent!!Total households!!TYPE OF INTERNET SUBSCRIPTIONS!!Without an Internet subscription\": \"PERCENT\",\n",
    "        \"Geography\": \"AFFGEOID\",\n",
    "    }\n",
    ")"
   ]
  },
  {
   "cell_type": "markdown",
   "id": "ea0435b2-f5f4-4186-853b-615f63cc50aa",
   "metadata": {},
   "source": [
    "## Merge Data"
   ]
  },
  {
   "cell_type": "code",
   "execution_count": 43,
   "id": "335e5a07-6df8-46bf-bc7d-1512019384fd",
   "metadata": {},
   "outputs": [],
   "source": [
    "acs_internet_per_county_gdf = counties_gdf.merge(\n",
    "    acs_internet_per_county_df, on=\"AFFGEOID\", how=\"left\"\n",
    ")"
   ]
  },
  {
   "cell_type": "code",
   "execution_count": 44,
   "id": "8aab9d27-4076-4866-a884-10d8294d0a91",
   "metadata": {},
   "outputs": [],
   "source": [
    "acs_internet_per_county_gdf[\"county_id\"] = acs_internet_per_county_gdf[\"AFFGEOID\"].str[\n",
    "    9:\n",
    "]\n",
    "acs_internet_per_county_gdf[\"state_id\"] = acs_internet_per_county_gdf[\"AFFGEOID\"].str[\n",
    "    9:11\n",
    "]"
   ]
  },
  {
   "cell_type": "code",
   "execution_count": 45,
   "id": "703fcf06-203c-4be9-ac83-c9373e5c92d5",
   "metadata": {},
   "outputs": [],
   "source": [
    "acs_internet_per_county_gdf = acs_internet_per_county_gdf.fillna(0)\n",
    "acs_internet_per_county_gdf[\"NO_INTERNET\"] = acs_internet_per_county_gdf[\n",
    "    \"NO_INTERNET\"\n",
    "].astype(int)\n",
    "acs_internet_per_county_gdf[\"PERCENT\"] = acs_internet_per_county_gdf[\"PERCENT\"].astype(\n",
    "    float\n",
    ")"
   ]
  },
  {
   "cell_type": "code",
   "execution_count": 55,
   "id": "f3ab89d0-e0f4-4ce5-b364-475c17be1e9f",
   "metadata": {},
   "outputs": [],
   "source": [
    "acs_internet_per_county_gdf = acs_internet_per_county_gdf[\n",
    "    acs_internet_per_county_gdf[\"state_id\"] != \"72\"\n",
    "].reset_index(drop=True)"
   ]
  },
  {
   "cell_type": "code",
   "execution_count": 56,
   "id": "ae923604-fd11-4c7d-a480-4f53abaeafbc",
   "metadata": {},
   "outputs": [],
   "source": [
    "acs_internet_per_county_gdf = acs_internet_per_county_gdf.to_crs(9311)\n",
    "acs_internet_per_county_gdf.to_file(\"data/internet_subscription_per_county.gpkg\")"
   ]
  },
  {
   "cell_type": "code",
   "execution_count": 58,
   "id": "e05f8aae-9b3e-488c-b776-2967596dbde3",
   "metadata": {},
   "outputs": [
    {
     "data": {
      "text/html": [
       "<div>\n",
       "<style scoped>\n",
       "    .dataframe tbody tr th:only-of-type {\n",
       "        vertical-align: middle;\n",
       "    }\n",
       "\n",
       "    .dataframe tbody tr th {\n",
       "        vertical-align: top;\n",
       "    }\n",
       "\n",
       "    .dataframe thead th {\n",
       "        text-align: right;\n",
       "    }\n",
       "</style>\n",
       "<table border=\"1\" class=\"dataframe\">\n",
       "  <thead>\n",
       "    <tr style=\"text-align: right;\">\n",
       "      <th></th>\n",
       "      <th>geometry</th>\n",
       "      <th>AFFGEOID</th>\n",
       "      <th>NO_INTERNET</th>\n",
       "      <th>PERCENT</th>\n",
       "      <th>county_id</th>\n",
       "      <th>state_id</th>\n",
       "    </tr>\n",
       "  </thead>\n",
       "  <tbody>\n",
       "    <tr>\n",
       "      <th>362</th>\n",
       "      <td>POLYGON ((822794.555 -1297291.23, 822849.068 -...</td>\n",
       "      <td>0500000US28055</td>\n",
       "      <td>195</td>\n",
       "      <td>51.9</td>\n",
       "      <td>28055</td>\n",
       "      <td>28</td>\n",
       "    </tr>\n",
       "    <tr>\n",
       "      <th>2723</th>\n",
       "      <td>POLYGON ((633081.051 -1304870.626, 634513.324 ...</td>\n",
       "      <td>0500000US22027</td>\n",
       "      <td>2469</td>\n",
       "      <td>49.2</td>\n",
       "      <td>22027</td>\n",
       "      <td>22</td>\n",
       "    </tr>\n",
       "    <tr>\n",
       "      <th>216</th>\n",
       "      <td>MULTIPOLYGON (((261305.708 -2003968.269, 26196...</td>\n",
       "      <td>0500000US48261</td>\n",
       "      <td>8</td>\n",
       "      <td>47.1</td>\n",
       "      <td>48261</td>\n",
       "      <td>48</td>\n",
       "    </tr>\n",
       "    <tr>\n",
       "      <th>841</th>\n",
       "      <td>POLYGON ((-887635.984 -836071.585, -881761.2 -...</td>\n",
       "      <td>0500000US04001</td>\n",
       "      <td>9475</td>\n",
       "      <td>46.4</td>\n",
       "      <td>04001</td>\n",
       "      <td>04</td>\n",
       "    </tr>\n",
       "    <tr>\n",
       "      <th>1068</th>\n",
       "      <td>POLYGON ((-2719625.094 3167492.219, -2718060.9...</td>\n",
       "      <td>0500000US02290</td>\n",
       "      <td>1074</td>\n",
       "      <td>46.4</td>\n",
       "      <td>02290</td>\n",
       "      <td>02</td>\n",
       "    </tr>\n",
       "    <tr>\n",
       "      <th>...</th>\n",
       "      <td>...</td>\n",
       "      <td>...</td>\n",
       "      <td>...</td>\n",
       "      <td>...</td>\n",
       "      <td>...</td>\n",
       "      <td>...</td>\n",
       "    </tr>\n",
       "    <tr>\n",
       "      <th>507</th>\n",
       "      <td>POLYGON ((-8430822.962 4417673.222, -8430766.3...</td>\n",
       "      <td>0500000US69100</td>\n",
       "      <td>0</td>\n",
       "      <td>0.0</td>\n",
       "      <td>69100</td>\n",
       "      <td>69</td>\n",
       "    </tr>\n",
       "    <tr>\n",
       "      <th>1061</th>\n",
       "      <td>MULTIPOLYGON (((3702731.704 -2212495.471, 3702...</td>\n",
       "      <td>0500000US78030</td>\n",
       "      <td>0</td>\n",
       "      <td>0.0</td>\n",
       "      <td>78030</td>\n",
       "      <td>78</td>\n",
       "    </tr>\n",
       "    <tr>\n",
       "      <th>1460</th>\n",
       "      <td>MULTIPOLYGON (((-7799029.401 -3753736.013, -77...</td>\n",
       "      <td>0500000US60030</td>\n",
       "      <td>0</td>\n",
       "      <td>0.0</td>\n",
       "      <td>60030</td>\n",
       "      <td>60</td>\n",
       "    </tr>\n",
       "    <tr>\n",
       "      <th>505</th>\n",
       "      <td>MULTIPOLYGON (((-7923986.54 -3608577.292, -792...</td>\n",
       "      <td>0500000US60020</td>\n",
       "      <td>0</td>\n",
       "      <td>0.0</td>\n",
       "      <td>60020</td>\n",
       "      <td>60</td>\n",
       "    </tr>\n",
       "    <tr>\n",
       "      <th>504</th>\n",
       "      <td>MULTIPOLYGON (((-8021552.932 -3533181.44, -802...</td>\n",
       "      <td>0500000US60010</td>\n",
       "      <td>0</td>\n",
       "      <td>0.0</td>\n",
       "      <td>60010</td>\n",
       "      <td>60</td>\n",
       "    </tr>\n",
       "  </tbody>\n",
       "</table>\n",
       "<p>3156 rows × 6 columns</p>\n",
       "</div>"
      ],
      "text/plain": [
       "                                               geometry        AFFGEOID  \\\n",
       "362   POLYGON ((822794.555 -1297291.23, 822849.068 -...  0500000US28055   \n",
       "2723  POLYGON ((633081.051 -1304870.626, 634513.324 ...  0500000US22027   \n",
       "216   MULTIPOLYGON (((261305.708 -2003968.269, 26196...  0500000US48261   \n",
       "841   POLYGON ((-887635.984 -836071.585, -881761.2 -...  0500000US04001   \n",
       "1068  POLYGON ((-2719625.094 3167492.219, -2718060.9...  0500000US02290   \n",
       "...                                                 ...             ...   \n",
       "507   POLYGON ((-8430822.962 4417673.222, -8430766.3...  0500000US69100   \n",
       "1061  MULTIPOLYGON (((3702731.704 -2212495.471, 3702...  0500000US78030   \n",
       "1460  MULTIPOLYGON (((-7799029.401 -3753736.013, -77...  0500000US60030   \n",
       "505   MULTIPOLYGON (((-7923986.54 -3608577.292, -792...  0500000US60020   \n",
       "504   MULTIPOLYGON (((-8021552.932 -3533181.44, -802...  0500000US60010   \n",
       "\n",
       "      NO_INTERNET  PERCENT county_id state_id  \n",
       "362           195     51.9     28055       28  \n",
       "2723         2469     49.2     22027       22  \n",
       "216             8     47.1     48261       48  \n",
       "841          9475     46.4     04001       04  \n",
       "1068         1074     46.4     02290       02  \n",
       "...           ...      ...       ...      ...  \n",
       "507             0      0.0     69100       69  \n",
       "1061            0      0.0     78030       78  \n",
       "1460            0      0.0     60030       60  \n",
       "505             0      0.0     60020       60  \n",
       "504             0      0.0     60010       60  \n",
       "\n",
       "[3156 rows x 6 columns]"
      ]
     },
     "execution_count": 58,
     "metadata": {},
     "output_type": "execute_result"
    }
   ],
   "source": [
    "acs_internet_per_county_gdf.sort_values(\"PERCENT\", ascending=False)"
   ]
  },
  {
   "cell_type": "code",
   "execution_count": null,
   "id": "641fe6e8-a92d-407d-b49c-f85ac7139bbd",
   "metadata": {},
   "outputs": [],
   "source": []
  }
 ],
 "metadata": {
  "kernelspec": {
   "display_name": "Python 3 (ipykernel)",
   "language": "python",
   "name": "python3"
  },
  "language_info": {
   "codemirror_mode": {
    "name": "ipython",
    "version": 3
   },
   "file_extension": ".py",
   "mimetype": "text/x-python",
   "name": "python",
   "nbconvert_exporter": "python",
   "pygments_lexer": "ipython3",
   "version": "3.11.11"
  }
 },
 "nbformat": 4,
 "nbformat_minor": 5
}
