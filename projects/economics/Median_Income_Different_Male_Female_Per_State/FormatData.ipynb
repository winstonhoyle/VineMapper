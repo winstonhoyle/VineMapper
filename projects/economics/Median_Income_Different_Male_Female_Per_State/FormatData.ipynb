{
 "cells": [
  {
   "cell_type": "code",
   "execution_count": 20,
   "id": "34096667-a395-48d3-be7d-d2dfa7378003",
   "metadata": {},
   "outputs": [],
   "source": [
    "import requests"
   ]
  },
  {
   "cell_type": "code",
   "execution_count": 21,
   "id": "c4323fb2-1721-463e-8602-d1c3302ff523",
   "metadata": {},
   "outputs": [],
   "source": [
    "import geopandas as gpd\n",
    "import numpy as np\n",
    "import pandas as pd"
   ]
  },
  {
   "cell_type": "markdown",
   "id": "7bfd8f31-eada-447d-af06-da8a94290c02",
   "metadata": {},
   "source": [
    "## Open State data"
   ]
  },
  {
   "cell_type": "code",
   "execution_count": 22,
   "id": "5fadd853-8ad5-4832-976a-4d251d5a794b",
   "metadata": {},
   "outputs": [],
   "source": [
    "file_path = \"data/cb_2018_us_state_500k/cb_2018_us_state_500k.shp\"\n",
    "state_gdf = gpd.read_file(file_path)"
   ]
  },
  {
   "cell_type": "markdown",
   "id": "2246428d-fae0-4af8-97d2-96519e1527e2",
   "metadata": {},
   "source": [
    "## Get Columm Data"
   ]
  },
  {
   "cell_type": "code",
   "execution_count": 23,
   "id": "b2d8dc8c-e9ea-406c-b331-48431bfdb3d1",
   "metadata": {},
   "outputs": [],
   "source": [
    "table = \"B20002\"\n",
    "\n",
    "url = \"https://api.census.gov/data/2023/acs/acs5\"\n",
    "params = {\"get\": f\"group({table})\", \"for\": \"state:*\"}  # <-- all states\n",
    "response = requests.get(url, params=params)"
   ]
  },
  {
   "cell_type": "code",
   "execution_count": 24,
   "id": "67321561-3edf-48e0-a6b5-a140be875f1b",
   "metadata": {},
   "outputs": [],
   "source": [
    "data = response.json()\n",
    "columns = data[0]\n",
    "rows = data[1:]\n",
    "income_df = pd.DataFrame(rows, columns=columns)"
   ]
  },
  {
   "cell_type": "code",
   "execution_count": 25,
   "id": "d6c3ab80-180a-4044-94c4-a070fef146b1",
   "metadata": {},
   "outputs": [],
   "source": [
    "url = \"https://api.census.gov/data/2023/acs/acs5/variables.json\"\n",
    "response = requests.get(url)\n",
    "variables = response.json()[\"variables\"]"
   ]
  },
  {
   "cell_type": "code",
   "execution_count": 26,
   "id": "c4bfee81-080d-49cb-b98c-391d43f48b8a",
   "metadata": {},
   "outputs": [],
   "source": [
    "col_vars = {\n",
    "    k: v[\"label\"].split(\"!!\")[-1] for k, v in variables.items() if k.startswith(table)\n",
    "}\n",
    "col_vars[\"GEO_ID\"] = \"AFFGEOID\""
   ]
  },
  {
   "cell_type": "code",
   "execution_count": 27,
   "id": "68b71b4f-0991-4737-ad0a-6f4ef69a4290",
   "metadata": {},
   "outputs": [],
   "source": [
    "income_df = income_df.rename(columns=col_vars)\n",
    "income_df = income_df[list(col_vars.values())]"
   ]
  },
  {
   "cell_type": "code",
   "execution_count": 28,
   "id": "e598dab4-f88d-494c-8b0b-2eb18a05f9ac",
   "metadata": {},
   "outputs": [],
   "source": [
    "income_df[[\"Total:\", \"Male\", \"Female\"]] = income_df[\n",
    "    [\"Total:\", \"Male\", \"Female\"]\n",
    "].astype(int)\n",
    "income_df = income_df.replace(-666666666, np.nan)"
   ]
  },
  {
   "cell_type": "code",
   "execution_count": 29,
   "id": "e55c3516-0dff-41e9-95ec-ea2084da824e",
   "metadata": {},
   "outputs": [],
   "source": [
    "income_df[\"DIFF\"] = income_df[\"Male\"] - income_df[\"Female\"]"
   ]
  },
  {
   "cell_type": "markdown",
   "id": "ea0435b2-f5f4-4186-853b-615f63cc50aa",
   "metadata": {},
   "source": [
    "## Merge Data"
   ]
  },
  {
   "cell_type": "code",
   "execution_count": 32,
   "id": "741bc565-ebfc-42ba-a794-913e31d2ea26",
   "metadata": {},
   "outputs": [],
   "source": [
    "income_gdf = state_gdf.merge(income_df, on=\"AFFGEOID\", how=\"inner\")"
   ]
  },
  {
   "cell_type": "code",
   "execution_count": 33,
   "id": "ae923604-fd11-4c7d-a480-4f53abaeafbc",
   "metadata": {},
   "outputs": [],
   "source": [
    "income_gdf = income_gdf.to_crs(9311)\n",
    "income_gdf.to_file(\"data/Median_Income_Different_Male_Female_Per_State.gpkg\")"
   ]
  },
  {
   "cell_type": "code",
   "execution_count": null,
   "id": "52948e3a-809b-4265-8da9-6b0e3be97ea9",
   "metadata": {},
   "outputs": [],
   "source": []
  },
  {
   "cell_type": "code",
   "execution_count": null,
   "id": "027a15e5-4028-406c-ae22-ae88ea265c93",
   "metadata": {},
   "outputs": [],
   "source": []
  }
 ],
 "metadata": {
  "kernelspec": {
   "display_name": "Python 3 (ipykernel)",
   "language": "python",
   "name": "python3"
  },
  "language_info": {
   "codemirror_mode": {
    "name": "ipython",
    "version": 3
   },
   "file_extension": ".py",
   "mimetype": "text/x-python",
   "name": "python",
   "nbconvert_exporter": "python",
   "pygments_lexer": "ipython3",
   "version": "3.11.13"
  }
 },
 "nbformat": 4,
 "nbformat_minor": 5
}
