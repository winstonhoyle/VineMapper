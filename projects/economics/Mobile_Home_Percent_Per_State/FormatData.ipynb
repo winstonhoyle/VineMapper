{
 "cells": [
  {
   "cell_type": "code",
   "execution_count": 1,
   "id": "c4323fb2-1721-463e-8602-d1c3302ff523",
   "metadata": {},
   "outputs": [],
   "source": [
    "import geopandas as gpd\n",
    "import pandas as pd"
   ]
  },
  {
   "cell_type": "markdown",
   "id": "7bfd8f31-eada-447d-af06-da8a94290c02",
   "metadata": {},
   "source": [
    "## Open State data"
   ]
  },
  {
   "cell_type": "code",
   "execution_count": 2,
   "id": "5fadd853-8ad5-4832-976a-4d251d5a794b",
   "metadata": {},
   "outputs": [],
   "source": [
    "file_path = \"data/cb_2018_us_state_500k/cb_2018_us_state_500k.shp\"\n",
    "states_df = gpd.read_file(file_path)"
   ]
  },
  {
   "cell_type": "markdown",
   "id": "74b55cfa-2db3-4a7c-bd04-0b341757effe",
   "metadata": {},
   "source": [
    "## Get Mobile Home Data Percents"
   ]
  },
  {
   "cell_type": "code",
   "execution_count": 3,
   "id": "3992f69b-d2c6-4058-879b-b3df9efd2c6a",
   "metadata": {},
   "outputs": [],
   "source": [
    "acs_homeownership = pd.read_csv(\n",
    "    \"data/ACSDP5Y2023.DP04-2025-02-05T232725.csv\", thousands=\",\"\n",
    ")"
   ]
  },
  {
   "cell_type": "code",
   "execution_count": 4,
   "id": "e40d9d7c-0f4f-4554-a803-d28e713430fb",
   "metadata": {},
   "outputs": [],
   "source": [
    "rename_columns_home_percent = {\"Label (Grouping)\": \"NAME\"}\n",
    "for column in list(acs_homeownership.columns):\n",
    "    str_split = column.split(\"!!\")\n",
    "    if len(str_split) == 2:\n",
    "        if str_split[1] == \"Percent\":\n",
    "            rename_columns_home_percent[column] = str_split[0].strip()\n",
    "    else:\n",
    "        continue"
   ]
  },
  {
   "cell_type": "code",
   "execution_count": 5,
   "id": "62c99ef2-bedc-49e4-85f1-fb4b1fc1072c",
   "metadata": {},
   "outputs": [],
   "source": [
    "home_percents_df = (\n",
    "    acs_homeownership[rename_columns_home_percent.keys()]\n",
    "    .rename(columns=rename_columns_home_percent)\n",
    "    .T.reset_index()\n",
    ")\n",
    "home_percents_df.columns = [column.strip() for column in list(home_percents_df.iloc[0])]\n",
    "home_percents_df = home_percents_df[1:]"
   ]
  },
  {
   "cell_type": "code",
   "execution_count": 6,
   "id": "ecf5ac20-c105-4122-b5e2-ecced08bac9f",
   "metadata": {},
   "outputs": [],
   "source": [
    "home_percents_df[\"MOBILE_HOME_PERCENT\"] = (\n",
    "    home_percents_df[\"Mobile home\"].str.replace(\"%\", \"\").astype(float)\n",
    ")\n",
    "home_percents_df = home_percents_df[[\"NAME\", \"MOBILE_HOME_PERCENT\"]]"
   ]
  },
  {
   "cell_type": "markdown",
   "id": "7782e23a-1311-4407-8f9b-96f537baefde",
   "metadata": {},
   "source": [
    "## Get Mobile Home Data Totals"
   ]
  },
  {
   "cell_type": "code",
   "execution_count": 9,
   "id": "70376d5b-7a28-41fd-aa27-9230daec91ae",
   "metadata": {},
   "outputs": [],
   "source": [
    "rename_columns_home_totals = {\"Label (Grouping)\": \"NAME\"}\n",
    "for column in list(acs_homeownership.columns):\n",
    "    str_split = column.split(\"!!\")\n",
    "    if len(str_split) == 2:\n",
    "        if str_split[1] == \"Estimate\":\n",
    "            rename_columns_home_totals[column] = str_split[0].strip()\n",
    "    else:\n",
    "        continue"
   ]
  },
  {
   "cell_type": "code",
   "execution_count": 10,
   "id": "fe0532f1-5a86-40fe-bf8f-2a5a2f7e5106",
   "metadata": {},
   "outputs": [],
   "source": [
    "home_total_df = (\n",
    "    acs_homeownership[rename_columns_home_totals.keys()]\n",
    "    .rename(columns=rename_columns_home_totals)\n",
    "    .T.reset_index()\n",
    ")\n",
    "home_total_df.columns = [column.strip() for column in list(home_total_df.iloc[0])]\n",
    "home_total_df = home_total_df[1:]"
   ]
  },
  {
   "cell_type": "code",
   "execution_count": 11,
   "id": "f2c91b99-31f2-4867-9f8d-f73e287024ce",
   "metadata": {},
   "outputs": [],
   "source": [
    "home_total_df[\"MOBILE_HOME_TOTAL\"] = home_total_df[\"Mobile home\"].astype(int)\n",
    "home_total_df = home_total_df[[\"NAME\", \"MOBILE_HOME_TOTAL\"]]"
   ]
  },
  {
   "cell_type": "code",
   "execution_count": 12,
   "id": "cb947e6a-3542-4292-a7c9-5140a2781416",
   "metadata": {},
   "outputs": [],
   "source": [
    "home_df = home_percents_df.merge(home_total_df, how=\"inner\", on=\"NAME\")"
   ]
  },
  {
   "cell_type": "markdown",
   "id": "ea0435b2-f5f4-4186-853b-615f63cc50aa",
   "metadata": {},
   "source": [
    "## Merge Data"
   ]
  },
  {
   "cell_type": "code",
   "execution_count": 13,
   "id": "335e5a07-6df8-46bf-bc7d-1512019384fd",
   "metadata": {},
   "outputs": [],
   "source": [
    "home_columns_percents_gdf = states_df.merge(home_df, on=\"NAME\", how=\"inner\").dropna()"
   ]
  },
  {
   "cell_type": "code",
   "execution_count": 14,
   "id": "39512cbf-f562-49d2-ae80-8f0d068763b7",
   "metadata": {},
   "outputs": [],
   "source": [
    "home_columns_percents_gdf = home_columns_percents_gdf[\n",
    "    [\"NAME\", \"geometry\", \"MOBILE_HOME_PERCENT\", \"MOBILE_HOME_TOTAL\"]\n",
    "]"
   ]
  },
  {
   "cell_type": "code",
   "execution_count": 15,
   "id": "ae923604-fd11-4c7d-a480-4f53abaeafbc",
   "metadata": {},
   "outputs": [],
   "source": [
    "home_columns_percents_gdf = home_columns_percents_gdf.to_crs(9311)\n",
    "home_columns_percents_gdf.to_file(\"data/mobile_home.gpkg\")"
   ]
  },
  {
   "cell_type": "code",
   "execution_count": null,
   "id": "e05f8aae-9b3e-488c-b776-2967596dbde3",
   "metadata": {},
   "outputs": [],
   "source": []
  }
 ],
 "metadata": {
  "kernelspec": {
   "display_name": "Python 3 (ipykernel)",
   "language": "python",
   "name": "python3"
  },
  "language_info": {
   "codemirror_mode": {
    "name": "ipython",
    "version": 3
   },
   "file_extension": ".py",
   "mimetype": "text/x-python",
   "name": "python",
   "nbconvert_exporter": "python",
   "pygments_lexer": "ipython3",
   "version": "3.11.11"
  }
 },
 "nbformat": 4,
 "nbformat_minor": 5
}
