{
 "cells": [
  {
   "cell_type": "code",
   "execution_count": 1,
   "id": "34096667-a395-48d3-be7d-d2dfa7378003",
   "metadata": {},
   "outputs": [],
   "source": [
    "import requests"
   ]
  },
  {
   "cell_type": "code",
   "execution_count": 2,
   "id": "c4323fb2-1721-463e-8602-d1c3302ff523",
   "metadata": {},
   "outputs": [],
   "source": [
    "import geopandas as gpd\n",
    "import pandas as pd"
   ]
  },
  {
   "cell_type": "markdown",
   "id": "7bfd8f31-eada-447d-af06-da8a94290c02",
   "metadata": {},
   "source": [
    "## Open State data"
   ]
  },
  {
   "cell_type": "code",
   "execution_count": 3,
   "id": "5fadd853-8ad5-4832-976a-4d251d5a794b",
   "metadata": {},
   "outputs": [],
   "source": [
    "file_path = \"data/cb_2018_us_state_500k/cb_2018_us_state_500k.shp\"\n",
    "state_gdf = gpd.read_file(file_path)"
   ]
  },
  {
   "cell_type": "markdown",
   "id": "2246428d-fae0-4af8-97d2-96519e1527e2",
   "metadata": {},
   "source": [
    "## Get Columm Data"
   ]
  },
  {
   "cell_type": "code",
   "execution_count": 4,
   "id": "b2d8dc8c-e9ea-406c-b331-48431bfdb3d1",
   "metadata": {},
   "outputs": [],
   "source": [
    "r = requests.get(\"https://api.census.gov/data/2023/acs/acs5/subject/variables.json\")\n",
    "columns_obj = r.json()"
   ]
  },
  {
   "cell_type": "code",
   "execution_count": 7,
   "id": "67321561-3edf-48e0-a6b5-a140be875f1b",
   "metadata": {},
   "outputs": [],
   "source": [
    "columns_to_replace = {\n",
    "    key: val[\"label\"]\n",
    "    for key, val in columns_obj[\"variables\"].items()\n",
    "    if key.startswith(\"S0801\")\n",
    "}"
   ]
  },
  {
   "cell_type": "code",
   "execution_count": 18,
   "id": "e598dab4-f88d-494c-8b0b-2eb18a05f9ac",
   "metadata": {},
   "outputs": [],
   "source": [
    "mean_time_cols_dict = {\n",
    "    col_name: col_dict\n",
    "    for col_name, col_dict in columns_obj[\"variables\"].items()\n",
    "    if col_dict[\"label\"].split(\"!!\")[-1] == \"Mean travel time to work (minutes)\"\n",
    "    and col_name.startswith(\"S0801\")\n",
    "}"
   ]
  },
  {
   "cell_type": "code",
   "execution_count": 19,
   "id": "8986288d-0c9e-4fcb-9499-d8ee831507da",
   "metadata": {},
   "outputs": [
    {
     "data": {
      "text/plain": [
       "{'S0801_C02_046E': {'label': 'Estimate!!Male!!Workers 16 years and over who did not work from home!!TRAVEL TIME TO WORK!!Mean travel time to work (minutes)',\n",
       "  'concept': 'Commuting Characteristics by Sex',\n",
       "  'predicateType': 'float',\n",
       "  'group': 'S0801',\n",
       "  'limit': 0,\n",
       "  'attributes': 'S0801_C02_046EA,S0801_C02_046M,S0801_C02_046MA'},\n",
       " 'S0801_C01_046E': {'label': 'Estimate!!Total!!Workers 16 years and over who did not work from home!!TRAVEL TIME TO WORK!!Mean travel time to work (minutes)',\n",
       "  'concept': 'Commuting Characteristics by Sex',\n",
       "  'predicateType': 'float',\n",
       "  'group': 'S0801',\n",
       "  'limit': 0,\n",
       "  'attributes': 'S0801_C01_046EA,S0801_C01_046M,S0801_C01_046MA'},\n",
       " 'S0801_C03_046E': {'label': 'Estimate!!Female!!Workers 16 years and over who did not work from home!!TRAVEL TIME TO WORK!!Mean travel time to work (minutes)',\n",
       "  'concept': 'Commuting Characteristics by Sex',\n",
       "  'predicateType': 'float',\n",
       "  'group': 'S0801',\n",
       "  'limit': 0,\n",
       "  'attributes': 'S0801_C03_046EA,S0801_C03_046M,S0801_C03_046MA'}}"
      ]
     },
     "execution_count": 19,
     "metadata": {},
     "output_type": "execute_result"
    }
   ],
   "source": [
    "mean_time_cols_dict"
   ]
  },
  {
   "cell_type": "markdown",
   "id": "5a279a3d-20e7-4981-b63d-f23bacbdc1d9",
   "metadata": {},
   "source": [
    "### Get columns to query and rename for later"
   ]
  },
  {
   "cell_type": "code",
   "execution_count": 20,
   "id": "57c6972b-31af-4622-a9a4-3ecc530cb320",
   "metadata": {},
   "outputs": [],
   "source": [
    "columns = [\"GEO_ID\", \"S0801_C01_046E\", \"S0801_C01_046M\"]\n",
    "columns_formatted = \",\".join(columns)"
   ]
  },
  {
   "cell_type": "code",
   "execution_count": 21,
   "id": "6f46df1a-ab39-486a-849e-af4f5ca316b5",
   "metadata": {},
   "outputs": [],
   "source": [
    "response = requests.get(\n",
    "    f\"https://api.census.gov/data/2023/acs/acs5/subject?get={columns_formatted}&for=state:*\"\n",
    ")"
   ]
  },
  {
   "cell_type": "code",
   "execution_count": 24,
   "id": "418fe093-a7b2-4db1-a378-7d1534477a68",
   "metadata": {},
   "outputs": [
    {
     "data": {
      "text/plain": [
       "<Response [200]>"
      ]
     },
     "execution_count": 24,
     "metadata": {},
     "output_type": "execute_result"
    }
   ],
   "source": [
    "response"
   ]
  },
  {
   "cell_type": "code",
   "execution_count": 22,
   "id": "f0762979-d348-443e-8129-31827909a262",
   "metadata": {},
   "outputs": [],
   "source": [
    "data = response.json()\n",
    "columns = data[0]\n",
    "rows = data[1:]\n",
    "commuting_df = pd.DataFrame(rows, columns=columns)"
   ]
  },
  {
   "cell_type": "code",
   "execution_count": 26,
   "id": "8f8f97ed-1068-40e5-ab21-77eecdd38036",
   "metadata": {},
   "outputs": [],
   "source": [
    "commuting_df = commuting_df[columns]\n",
    "commuting_df[columns[1:]] = commuting_df[columns[1:]].astype(float)"
   ]
  },
  {
   "cell_type": "code",
   "execution_count": 28,
   "id": "b167ea13-49a2-4421-97f4-72084759cabf",
   "metadata": {},
   "outputs": [],
   "source": [
    "columns_to_replace[\"GEO_ID\"] = \"AFFGEOID\"\n",
    "commuting_df = commuting_df.rename(columns=columns_to_replace)"
   ]
  },
  {
   "cell_type": "code",
   "execution_count": 29,
   "id": "36227b26-d594-43fd-9c7c-272757974599",
   "metadata": {},
   "outputs": [
    {
     "data": {
      "text/plain": [
       "Index(['AFFGEOID',\n",
       "       'Estimate!!Total!!Workers 16 years and over who did not work from home!!TRAVEL TIME TO WORK!!Mean travel time to work (minutes)',\n",
       "       'S0801_C01_046M', 'state'],\n",
       "      dtype='object')"
      ]
     },
     "execution_count": 29,
     "metadata": {},
     "output_type": "execute_result"
    }
   ],
   "source": [
    "commuting_df.columns"
   ]
  },
  {
   "cell_type": "markdown",
   "id": "ea0435b2-f5f4-4186-853b-615f63cc50aa",
   "metadata": {},
   "source": [
    "## Merge Data"
   ]
  },
  {
   "cell_type": "code",
   "execution_count": 30,
   "id": "741bc565-ebfc-42ba-a794-913e31d2ea26",
   "metadata": {},
   "outputs": [],
   "source": [
    "commuting_gdf = state_gdf.merge(commuting_df, on=\"AFFGEOID\", how=\"inner\")"
   ]
  },
  {
   "cell_type": "code",
   "execution_count": 31,
   "id": "ae923604-fd11-4c7d-a480-4f53abaeafbc",
   "metadata": {},
   "outputs": [],
   "source": [
    "commuting_gdf = commuting_gdf.to_crs(9311)\n",
    "commuting_gdf.to_file(\"data/Average_Travel_Time_To_Work_Per_State.gpkg\")"
   ]
  },
  {
   "cell_type": "code",
   "execution_count": null,
   "id": "52948e3a-809b-4265-8da9-6b0e3be97ea9",
   "metadata": {},
   "outputs": [],
   "source": []
  },
  {
   "cell_type": "code",
   "execution_count": null,
   "id": "027a15e5-4028-406c-ae22-ae88ea265c93",
   "metadata": {},
   "outputs": [],
   "source": []
  }
 ],
 "metadata": {
  "kernelspec": {
   "display_name": "Python 3 (ipykernel)",
   "language": "python",
   "name": "python3"
  },
  "language_info": {
   "codemirror_mode": {
    "name": "ipython",
    "version": 3
   },
   "file_extension": ".py",
   "mimetype": "text/x-python",
   "name": "python",
   "nbconvert_exporter": "python",
   "pygments_lexer": "ipython3",
   "version": "3.11.13"
  }
 },
 "nbformat": 4,
 "nbformat_minor": 5
}
