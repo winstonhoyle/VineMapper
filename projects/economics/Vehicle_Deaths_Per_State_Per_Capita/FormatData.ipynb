{
 "cells": [
  {
   "cell_type": "code",
   "execution_count": 13,
   "id": "b9fc2fbd-f810-4f67-ab5d-736c1aa45c74",
   "metadata": {},
   "outputs": [],
   "source": [
    "from bs4 import BeautifulSoup\n",
    "import geopandas as gpd\n",
    "import requests\n",
    "import pandas as pd"
   ]
  },
  {
   "cell_type": "markdown",
   "id": "56b9a31d-b0b4-4c7a-860b-a5afebdceef4",
   "metadata": {},
   "source": [
    "## Open GIS Data"
   ]
  },
  {
   "cell_type": "code",
   "execution_count": 14,
   "id": "5d0925da-a067-40a9-a385-47348db28c98",
   "metadata": {},
   "outputs": [],
   "source": [
    "file_path = \"data/cb_2018_us_state_500k/cb_2018_us_state_500k.shp\"\n",
    "states_df = gpd.read_file(file_path)\n",
    "states_df = states_df.to_crs(4326)"
   ]
  },
  {
   "cell_type": "markdown",
   "id": "d209c017-5e52-47e2-ac3c-3136add9965e",
   "metadata": {},
   "source": [
    "## Retrieve data"
   ]
  },
  {
   "cell_type": "code",
   "execution_count": 69,
   "id": "446ad2c3-cb61-4756-a886-0fed320485d4",
   "metadata": {},
   "outputs": [],
   "source": [
    "url = \"https://www.iihs.org/topics/fatality-statistics/detail/state-by-state\""
   ]
  },
  {
   "cell_type": "code",
   "execution_count": 70,
   "id": "e46e5728-ff16-4dda-bd1f-e18f9ee79b46",
   "metadata": {},
   "outputs": [],
   "source": [
    "r = requests.get(url)"
   ]
  },
  {
   "cell_type": "code",
   "execution_count": 71,
   "id": "403a7ff8-b815-4c1e-bb54-f585a7f7a54e",
   "metadata": {},
   "outputs": [],
   "source": [
    "soup = BeautifulSoup(r.text, \"html.parser\")"
   ]
  },
  {
   "cell_type": "code",
   "execution_count": 72,
   "id": "b6f660d2-a3ae-49b2-bab5-1fa463b725b1",
   "metadata": {},
   "outputs": [],
   "source": [
    "table = soup.find(\"table\")\n",
    "column_names = [th.text for th in table.find_all(\"tr\")[1].find_all(\"th\")]\n",
    "trs = table.find_all(\"tr\")[2:]"
   ]
  },
  {
   "cell_type": "code",
   "execution_count": 73,
   "id": "4fbc3263-7ec2-4731-8069-d3615536430b",
   "metadata": {},
   "outputs": [],
   "source": [
    "formatted_records = []\n",
    "for tr in trs:\n",
    "    tds = tr.find_all(\"td\")\n",
    "    state = tr.find(\"th\").text\n",
    "    formatted_records.append([state, *[float(td.text.replace(\",\", \"\")) for td in tds]])"
   ]
  },
  {
   "cell_type": "code",
   "execution_count": 79,
   "id": "4ef4074c-17de-4b87-abe5-3ce61a05eab8",
   "metadata": {},
   "outputs": [],
   "source": [
    "vehicle_df = pd.DataFrame(formatted_records, columns=column_names)\n",
    "vehicle_df[\"Deaths\"] = vehicle_df[\"Deaths\"].astype(int)\n",
    "vehicle_df = vehicle_df.rename(columns={\"State\": \"NAME\"})"
   ]
  },
  {
   "cell_type": "markdown",
   "id": "4bf76ff1-a926-497c-bf15-c536d1035aa4",
   "metadata": {},
   "source": [
    "## Merge data"
   ]
  },
  {
   "cell_type": "code",
   "execution_count": 85,
   "id": "3639bd04-abf3-458a-becd-3ff23197d0b6",
   "metadata": {},
   "outputs": [],
   "source": [
    "vehicle_gdf = states_df[[\"NAME\", \"geometry\"]].merge(vehicle_df, on=\"NAME\", how=\"inner\")"
   ]
  },
  {
   "cell_type": "markdown",
   "id": "48546820-227b-4424-8977-9891f8cb8e14",
   "metadata": {},
   "source": [
    "## Export"
   ]
  },
  {
   "cell_type": "code",
   "execution_count": 86,
   "id": "307662bc-28de-4096-b1a9-1b101831ea5d",
   "metadata": {},
   "outputs": [],
   "source": [
    "vehicle_gdf = vehicle_gdf.to_crs(9311)"
   ]
  },
  {
   "cell_type": "code",
   "execution_count": 87,
   "id": "c6a3c0d6-4b82-4769-b0d6-b0abbe540757",
   "metadata": {},
   "outputs": [],
   "source": [
    "vehicle_gdf.to_file(\"data/vehicle.gpkg\")"
   ]
  },
  {
   "cell_type": "code",
   "execution_count": null,
   "id": "5cd97ce3-f58b-4b5a-8887-a39020f26b5d",
   "metadata": {},
   "outputs": [],
   "source": []
  }
 ],
 "metadata": {
  "kernelspec": {
   "display_name": "Python 3 (ipykernel)",
   "language": "python",
   "name": "python3"
  },
  "language_info": {
   "codemirror_mode": {
    "name": "ipython",
    "version": 3
   },
   "file_extension": ".py",
   "mimetype": "text/x-python",
   "name": "python",
   "nbconvert_exporter": "python",
   "pygments_lexer": "ipython3",
   "version": "3.11.11"
  }
 },
 "nbformat": 4,
 "nbformat_minor": 5
}
