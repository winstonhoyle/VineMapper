{
 "cells": [
  {
   "cell_type": "code",
   "execution_count": 1,
   "id": "c4323fb2-1721-463e-8602-d1c3302ff523",
   "metadata": {},
   "outputs": [],
   "source": [
    "import geopandas as gpd\n",
    "import pandas as pd"
   ]
  },
  {
   "cell_type": "markdown",
   "id": "7bfd8f31-eada-447d-af06-da8a94290c02",
   "metadata": {},
   "source": [
    "## Open State data"
   ]
  },
  {
   "cell_type": "code",
   "execution_count": 2,
   "id": "5fadd853-8ad5-4832-976a-4d251d5a794b",
   "metadata": {},
   "outputs": [],
   "source": [
    "file_path = \"data/cb_2018_us_state_500k/cb_2018_us_state_500k.shp\"\n",
    "states_df = gpd.read_file(file_path)"
   ]
  },
  {
   "cell_type": "markdown",
   "id": "74b55cfa-2db3-4a7c-bd04-0b341757effe",
   "metadata": {},
   "source": [
    "## Get Poverty Percents"
   ]
  },
  {
   "cell_type": "code",
   "execution_count": 3,
   "id": "3992f69b-d2c6-4058-879b-b3df9efd2c6a",
   "metadata": {},
   "outputs": [],
   "source": [
    "acs_homeownership = pd.read_csv(\n",
    "    \"data/ACSST5Y2023.S2502-2025-04-12T212317.csv\", thousands=\",\"\n",
    ")"
   ]
  },
  {
   "cell_type": "code",
   "execution_count": 11,
   "id": "e40d9d7c-0f4f-4554-a803-d28e713430fb",
   "metadata": {},
   "outputs": [],
   "source": [
    "rename_columns_percent = {\"Label (Grouping)\": \"NAME\"}\n",
    "for column in list(acs_homeownership.columns):\n",
    "    str_split = column.split(\"!!\")\n",
    "    if len(str_split) == 3:\n",
    "        if str_split[1] == \"Percent owner-occupied housing units\":\n",
    "            rename_columns_percent[column] = str_split[0].strip()\n",
    "    else:\n",
    "        continue"
   ]
  },
  {
   "cell_type": "code",
   "execution_count": 16,
   "id": "62c99ef2-bedc-49e4-85f1-fb4b1fc1072c",
   "metadata": {},
   "outputs": [],
   "source": [
    "percents_df = (\n",
    "    acs_homeownership[rename_columns_percent.keys()]\n",
    "    .rename(columns=rename_columns_percent)\n",
    "    .T.reset_index()\n",
    ")\n",
    "percents_df.columns = [column.strip() for column in list(percents_df.iloc[0])]\n",
    "percents_df = percents_df[1:]"
   ]
  },
  {
   "cell_type": "code",
   "execution_count": 20,
   "id": "ecf5ac20-c105-4122-b5e2-ecced08bac9f",
   "metadata": {},
   "outputs": [],
   "source": [
    "percents_df[\"U35\"] = percents_df[\"Under 35 years\"].str.replace(\"%\", \"\").astype(float)"
   ]
  },
  {
   "cell_type": "code",
   "execution_count": 21,
   "id": "ec3c7569-9403-4764-8c42-ba6870b84c4c",
   "metadata": {},
   "outputs": [],
   "source": [
    "percents_df = percents_df[[\"NAME\", \"U35\"]]"
   ]
  },
  {
   "cell_type": "markdown",
   "id": "ea0435b2-f5f4-4186-853b-615f63cc50aa",
   "metadata": {},
   "source": [
    "## Merge Data"
   ]
  },
  {
   "cell_type": "code",
   "execution_count": 23,
   "id": "335e5a07-6df8-46bf-bc7d-1512019384fd",
   "metadata": {},
   "outputs": [],
   "source": [
    "poverty_columns_percents_gdf = states_df.merge(\n",
    "    percents_df, on=\"NAME\", how=\"inner\"\n",
    ").dropna()"
   ]
  },
  {
   "cell_type": "code",
   "execution_count": 24,
   "id": "39512cbf-f562-49d2-ae80-8f0d068763b7",
   "metadata": {},
   "outputs": [],
   "source": [
    "poverty_columns_percents_gdf = poverty_columns_percents_gdf[[\"NAME\", \"geometry\", \"U35\"]]"
   ]
  },
  {
   "cell_type": "code",
   "execution_count": 25,
   "id": "ae923604-fd11-4c7d-a480-4f53abaeafbc",
   "metadata": {},
   "outputs": [],
   "source": [
    "poverty_columns_percents_gdf = poverty_columns_percents_gdf.to_crs(9311)\n",
    "poverty_columns_percents_gdf.to_file(\"data/homeownership.gpkg\")"
   ]
  },
  {
   "cell_type": "code",
   "execution_count": null,
   "id": "e05f8aae-9b3e-488c-b776-2967596dbde3",
   "metadata": {},
   "outputs": [],
   "source": []
  }
 ],
 "metadata": {
  "kernelspec": {
   "display_name": "Python 3 (ipykernel)",
   "language": "python",
   "name": "python3"
  },
  "language_info": {
   "codemirror_mode": {
    "name": "ipython",
    "version": 3
   },
   "file_extension": ".py",
   "mimetype": "text/x-python",
   "name": "python",
   "nbconvert_exporter": "python",
   "pygments_lexer": "ipython3",
   "version": "3.11.11"
  }
 },
 "nbformat": 4,
 "nbformat_minor": 5
}
