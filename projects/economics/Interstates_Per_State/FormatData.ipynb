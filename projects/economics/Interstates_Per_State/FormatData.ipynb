{
 "cells": [
  {
   "cell_type": "code",
   "execution_count": 1,
   "id": "b9fc2fbd-f810-4f67-ab5d-736c1aa45c74",
   "metadata": {},
   "outputs": [],
   "source": [
    "import geopandas as gpd\n",
    "import pandas as pd\n",
    "import pyproj\n",
    "from shapely.ops import transform\n",
    "import utm"
   ]
  },
  {
   "cell_type": "markdown",
   "id": "56b9a31d-b0b4-4c7a-860b-a5afebdceef4",
   "metadata": {},
   "source": [
    "## Open GIS Data"
   ]
  },
  {
   "cell_type": "code",
   "execution_count": 2,
   "id": "5d0925da-a067-40a9-a385-47348db28c98",
   "metadata": {},
   "outputs": [],
   "source": [
    "file_path = \"data/cb_2018_us_state_500k/cb_2018_us_state_500k.shp\"\n",
    "states_df = gpd.read_file(file_path)\n",
    "states_df = states_df.to_crs(4326)"
   ]
  },
  {
   "cell_type": "markdown",
   "id": "e675a0cb-96bf-441d-a58f-15fa804356ed",
   "metadata": {},
   "source": [
    "## Get State Population data"
   ]
  },
  {
   "cell_type": "code",
   "execution_count": 3,
   "id": "e32942da-94cd-45da-8dc5-34c765eec18e",
   "metadata": {},
   "outputs": [],
   "source": [
    "state_populations = pd.read_excel(\n",
    "    \"data/NST-EST2024-POP.xlsx\", sheet_name=None, engine=\"openpyxl\"\n",
    ")"
   ]
  },
  {
   "cell_type": "code",
   "execution_count": 4,
   "id": "94f8af91-f023-4ad4-bca6-38c1470992f8",
   "metadata": {},
   "outputs": [],
   "source": [
    "state_populations_df = state_populations[\"NST-EST2024-POP\"][\n",
    "    [\n",
    "        \"table with row headers in column A and column headers in rows 3 through 4. (leading dots indicate sub-parts)\",\n",
    "        \"Unnamed: 5\",\n",
    "    ]\n",
    "]\n",
    "state_populations_df = state_populations_df.rename(\n",
    "    columns={\n",
    "        \"table with row headers in column A and column headers in rows 3 through 4. (leading dots indicate sub-parts)\": \"NAME\",\n",
    "        \"Unnamed: 5\": \"POPULATION\",\n",
    "    }\n",
    ")\n",
    "state_populations_df[\"NAME\"] = state_populations_df[\"NAME\"].str[1:]"
   ]
  },
  {
   "cell_type": "code",
   "execution_count": 5,
   "id": "5fac2d62-9a37-4070-8059-715c39d866c5",
   "metadata": {},
   "outputs": [],
   "source": [
    "states_with_population_df = states_df.merge(state_populations_df, on=\"NAME\", how=\"left\")\n",
    "states_with_population_df = states_with_population_df[[\"STUSPS\", \"POPULATION\"]]"
   ]
  },
  {
   "cell_type": "code",
   "execution_count": 6,
   "id": "9a3715e0-963b-4eb0-9855-c4d18f3b2562",
   "metadata": {},
   "outputs": [],
   "source": [
    "states_with_population_df = states_with_population_df.dropna()"
   ]
  },
  {
   "cell_type": "markdown",
   "id": "d209c017-5e52-47e2-ac3c-3136add9965e",
   "metadata": {},
   "source": [
    "## Open Interstate data"
   ]
  },
  {
   "cell_type": "code",
   "execution_count": 7,
   "id": "9b347877-3268-4550-93e7-308e261368b2",
   "metadata": {},
   "outputs": [
    {
     "name": "stderr",
     "output_type": "stream",
     "text": [
      "/mnt/c/Users/Winston/Documents/GitHub/VineMapper/.venv/lib/python3.11/site-packages/pyogrio/raw.py:198: RuntimeWarning: Non-conformant content for record 1 in column FUT_YEAR, 2039-12-31T00:00:00.0Z, successfully parsed\n",
      "  return ogr_read(\n"
     ]
    }
   ],
   "source": [
    "highways_gdf = gpd.read_file(\n",
    "    \"data/NTAD_National_Highway_System_-1015841555521948228.gpkg\"\n",
    ")"
   ]
  },
  {
   "cell_type": "code",
   "execution_count": 32,
   "id": "6b2c7bd8-0946-4795-b58e-4382256816b8",
   "metadata": {},
   "outputs": [],
   "source": [
    "interstates_gdf = highways_gdf[highways_gdf[\"SIGNT1\"] == \"I\"]\n",
    "interstates_gdf = interstates_gdf[[\"geometry\"]].reset_index()"
   ]
  },
  {
   "cell_type": "code",
   "execution_count": 41,
   "id": "108f7edb-bd9e-4266-b510-82ae0968f9c9",
   "metadata": {},
   "outputs": [],
   "source": [
    "usa_interstates = interstates_gdf.union_all()\n",
    "interstate_union = gpd.GeoDataFrame({\"geometry\": [usa_interstates]}, crs=4326)"
   ]
  },
  {
   "cell_type": "code",
   "execution_count": 43,
   "id": "0619123c-673d-4398-9e03-e7d8fc4a3f4d",
   "metadata": {},
   "outputs": [],
   "source": [
    "interstate_union.to_file(\"data/interstate.gpkg\")"
   ]
  },
  {
   "cell_type": "code",
   "execution_count": 8,
   "id": "7c192f35-c433-4e24-9150-13410c44faab",
   "metadata": {},
   "outputs": [],
   "source": [
    "interstates_gdf = highways_gdf[highways_gdf[\"SIGNT1\"] == \"I\"]\n",
    "interstates_gdf = interstates_gdf[[\"geometry\"]].reset_index()\n",
    "interstates_gdf.to_file(\"data/interstates.gpkg\")\n",
    "interstates_gdf = interstates_gdf.to_crs(4326)\n",
    "usa_interstates = interstates_gdf.union_all()"
   ]
  },
  {
   "cell_type": "markdown",
   "id": "4bf76ff1-a926-497c-bf15-c536d1035aa4",
   "metadata": {},
   "source": [
    "## Merge data"
   ]
  },
  {
   "cell_type": "code",
   "execution_count": 9,
   "id": "fcf3a39e-f40e-400b-92e8-5f4ebf84b99e",
   "metadata": {},
   "outputs": [],
   "source": [
    "states_df[\"interstates\"] = states_df.apply(\n",
    "    lambda row: row[\"geometry\"].intersection(usa_interstates), axis=1\n",
    ")"
   ]
  },
  {
   "cell_type": "code",
   "execution_count": 10,
   "id": "dd2d3d9b-2de7-4e4f-9169-a5b2d9e60a45",
   "metadata": {},
   "outputs": [],
   "source": [
    "states_df = states_df.dropna()\n",
    "states_interstates_df = states_df[[\"NAME\", \"STUSPS\", \"geometry\", \"interstates\"]]"
   ]
  },
  {
   "cell_type": "code",
   "execution_count": 50,
   "id": "9b0bdd0a-a61e-4ec0-aaf4-d57319005bc4",
   "metadata": {},
   "outputs": [],
   "source": [
    "states_interstates_population_df = states_with_population_df.merge(\n",
    "    states_interstates_df, on=\"STUSPS\", how=\"inner\"\n",
    ")\n",
    "states_interstates_population_df[\"POPULATION\"] = states_interstates_population_df[\n",
    "    \"POPULATION\"\n",
    "].astype(int)"
   ]
  },
  {
   "cell_type": "code",
   "execution_count": 51,
   "id": "95eb81d5-4ff7-4b79-a40d-9396a4d1eb69",
   "metadata": {},
   "outputs": [],
   "source": [
    "def utm_crs_from_latlon(lat, lon):\n",
    "    crs_params = dict(\n",
    "        proj=\"utm\", zone=utm.latlon_to_zone_number(lat, lon), south=lat < 0\n",
    "    )\n",
    "    return pyproj.crs.CRS.from_dict(crs_params)"
   ]
  },
  {
   "cell_type": "code",
   "execution_count": 52,
   "id": "01f45a96-2485-43d1-a8aa-756b228a3385",
   "metadata": {},
   "outputs": [],
   "source": [
    "def calculate_miles(row) -> int:\n",
    "    wgs84 = pyproj.CRS(\"EPSG:4326\")\n",
    "    utm = pyproj.CRS(f'EPSG:{row[\"CRS\"]}')\n",
    "    project = pyproj.Transformer.from_crs(wgs84, utm, always_xy=True).transform\n",
    "    transformed_interstates = transform(project, row[\"interstates\"])\n",
    "    return int(round(transformed_interstates.length * 0.000621371))\n",
    "\n",
    "\n",
    "def calculate_area(row) -> int:\n",
    "    wgs84 = pyproj.CRS(\"EPSG:4326\")\n",
    "    utm = pyproj.CRS(f'EPSG:{row[\"CRS\"]}')\n",
    "    project = pyproj.Transformer.from_crs(wgs84, utm, always_xy=True).transform\n",
    "    transformed_state = transform(project, row[\"geometry\"])\n",
    "    return transformed_state.area"
   ]
  },
  {
   "cell_type": "code",
   "execution_count": 53,
   "id": "d7080102-71ae-4bf3-861a-9d7a9ee242d9",
   "metadata": {},
   "outputs": [],
   "source": [
    "states_interstates_population_df[\"CRS\"] = states_interstates_population_df.apply(\n",
    "    lambda row: utm_crs_from_latlon(\n",
    "        row[\"geometry\"].centroid.y, row[\"geometry\"].centroid.x\n",
    "    ).to_epsg(),\n",
    "    axis=1,\n",
    ")"
   ]
  },
  {
   "cell_type": "code",
   "execution_count": 54,
   "id": "e7cd2475-5961-41ae-a42c-f59e8c303f52",
   "metadata": {},
   "outputs": [],
   "source": [
    "states_interstates_population_df[\n",
    "    \"interstate_length\"\n",
    "] = states_interstates_population_df.apply(lambda row: calculate_miles(row), axis=1)"
   ]
  },
  {
   "cell_type": "code",
   "execution_count": 55,
   "id": "d773d029-adc4-4441-bd4f-46f1b84c79b1",
   "metadata": {},
   "outputs": [],
   "source": [
    "states_interstates_population_df[\"state_area\"] = states_interstates_population_df.apply(\n",
    "    lambda row: calculate_area(row), axis=1\n",
    ")\n",
    "states_interstates_population_df[\"sqmi\"] = (\n",
    "    (states_interstates_population_df[\"state_area\"] * 3.861e-7)\n",
    "    .round(decimals=0)\n",
    "    .astype(int)\n",
    ")"
   ]
  },
  {
   "cell_type": "code",
   "execution_count": 56,
   "id": "295e9466-adcc-4bd4-9147-fc84a153a411",
   "metadata": {},
   "outputs": [],
   "source": [
    "states_interstates_population_df[\"miles_interstate_per_sqmi\"] = (\n",
    "    states_interstates_population_df[\"interstate_length\"]\n",
    "    / states_interstates_population_df[\"sqmi\"]\n",
    ")"
   ]
  },
  {
   "cell_type": "code",
   "execution_count": 57,
   "id": "1c953638-f16c-4afa-9e4b-0e350e9d018d",
   "metadata": {},
   "outputs": [],
   "source": [
    "states_interstates_population_df[\"per_1000\"] = states_interstates_population_df[\n",
    "    \"interstate_length\"\n",
    "] / (states_interstates_population_df[\"POPULATION\"] / 1000)\n",
    "states_interstates_population_df[\"per_10k\"] = states_interstates_population_df[\n",
    "    \"interstate_length\"\n",
    "] / (states_interstates_population_df[\"POPULATION\"] / 10_000)\n",
    "states_interstates_population_df[\"per_100k\"] = states_interstates_population_df[\n",
    "    \"interstate_length\"\n",
    "] / (states_interstates_population_df[\"POPULATION\"] / 100_000)\n",
    "states_interstates_population_df[\"per_1m\"] = states_interstates_population_df[\n",
    "    \"interstate_length\"\n",
    "] / (states_interstates_population_df[\"POPULATION\"] / 1_000_000)"
   ]
  },
  {
   "cell_type": "code",
   "execution_count": 58,
   "id": "7d8773c4-b3b2-41c4-a757-079ff96dea1e",
   "metadata": {},
   "outputs": [],
   "source": [
    "states_interstates_population_df = states_interstates_population_df[\n",
    "    [\n",
    "        \"NAME\",\n",
    "        \"geometry\",\n",
    "        \"miles_interstate_per_sqmi\",\n",
    "        \"interstate_length\",\n",
    "        \"per_1000\",\n",
    "        \"per_10k\",\n",
    "        \"per_100k\",\n",
    "        \"per_1m\",\n",
    "    ]\n",
    "]"
   ]
  },
  {
   "cell_type": "markdown",
   "id": "48546820-227b-4424-8977-9891f8cb8e14",
   "metadata": {},
   "source": [
    "## Export"
   ]
  },
  {
   "cell_type": "code",
   "execution_count": 59,
   "id": "307662bc-28de-4096-b1a9-1b101831ea5d",
   "metadata": {},
   "outputs": [],
   "source": [
    "states_interstates_population_gdf = gpd.GeoDataFrame(\n",
    "    states_interstates_population_df, crs=4326\n",
    ")\n",
    "states_interstates_population_gdf = states_interstates_population_gdf.to_crs(9311)"
   ]
  },
  {
   "cell_type": "code",
   "execution_count": 60,
   "id": "c6a3c0d6-4b82-4769-b0d6-b0abbe540757",
   "metadata": {},
   "outputs": [],
   "source": [
    "states_interstates_population_gdf.to_file(\"data/states_with_counts.gpkg\")"
   ]
  },
  {
   "cell_type": "code",
   "execution_count": null,
   "id": "5cd97ce3-f58b-4b5a-8887-a39020f26b5d",
   "metadata": {},
   "outputs": [],
   "source": []
  }
 ],
 "metadata": {
  "kernelspec": {
   "display_name": "Python 3 (ipykernel)",
   "language": "python",
   "name": "python3"
  },
  "language_info": {
   "codemirror_mode": {
    "name": "ipython",
    "version": 3
   },
   "file_extension": ".py",
   "mimetype": "text/x-python",
   "name": "python",
   "nbconvert_exporter": "python",
   "pygments_lexer": "ipython3",
   "version": "3.11.11"
  }
 },
 "nbformat": 4,
 "nbformat_minor": 5
}
