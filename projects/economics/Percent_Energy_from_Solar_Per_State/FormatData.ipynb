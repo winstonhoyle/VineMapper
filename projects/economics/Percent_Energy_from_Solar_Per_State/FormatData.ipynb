{
 "cells": [
  {
   "cell_type": "code",
   "execution_count": 1,
   "id": "c4323fb2-1721-463e-8602-d1c3302ff523",
   "metadata": {},
   "outputs": [],
   "source": [
    "import geopandas as gpd\n",
    "import pandas as pd"
   ]
  },
  {
   "cell_type": "markdown",
   "id": "7bfd8f31-eada-447d-af06-da8a94290c02",
   "metadata": {},
   "source": [
    "## Open State data"
   ]
  },
  {
   "cell_type": "code",
   "execution_count": 2,
   "id": "5fadd853-8ad5-4832-976a-4d251d5a794b",
   "metadata": {},
   "outputs": [],
   "source": [
    "file_path = \"data/cb_2018_us_state_500k/cb_2018_us_state_500k.shp\"\n",
    "states_gdf = gpd.read_file(file_path)\n",
    "states_gdf[\"NAME\"] = states_gdf[\"NAME\"].str.title()\n",
    "states_gdf = states_gdf[[\"geometry\", \"NAME\"]]"
   ]
  },
  {
   "cell_type": "markdown",
   "id": "7f293fa8-3192-4d2f-9be3-129f98e5ab11",
   "metadata": {},
   "source": [
    "## Open Energy Data"
   ]
  },
  {
   "cell_type": "code",
   "execution_count": 3,
   "id": "4d8a053c-df51-4163-bb6f-3db1b64c818b",
   "metadata": {},
   "outputs": [],
   "source": [
    "energy_df = pd.read_csv(\"data/Net_generation_for_all_sectors.csv\")"
   ]
  },
  {
   "cell_type": "code",
   "execution_count": 4,
   "id": "e38540cf-4741-4a0c-94dd-980865273d3e",
   "metadata": {},
   "outputs": [],
   "source": [
    "energy_df[\"STATE\"] = energy_df[\"description\"].str.split(\":\").str[0].str.strip()\n",
    "energy_df[\"type_of_energy\"] = energy_df[\"description\"].str.split(\":\").str[1].str.strip()"
   ]
  },
  {
   "cell_type": "code",
   "execution_count": 5,
   "id": "2a433406-edcb-45f9-9f49-c254551f9423",
   "metadata": {},
   "outputs": [
    {
     "data": {
      "text/plain": [
       "array([nan, 'all fuels (utility-scale)', 'coal', 'petroleum liquids',\n",
       "       'petroleum coke', 'natural gas', 'other gases', 'nuclear',\n",
       "       'conventional hydroelectric', 'other renewables', 'wind',\n",
       "       'all utility-scale solar', 'utility-scale photovoltaic',\n",
       "       'utility-scale thermal', 'geothermal', 'biomass',\n",
       "       'wood and wood-derived fuels', 'other biomass',\n",
       "       'hydro-electric pumped storage', 'other', 'all solar',\n",
       "       'small-scale solar photovoltaic'], dtype=object)"
      ]
     },
     "execution_count": 5,
     "metadata": {},
     "output_type": "execute_result"
    }
   ],
   "source": [
    "energy_df[\"type_of_energy\"].unique()"
   ]
  },
  {
   "cell_type": "code",
   "execution_count": 6,
   "id": "3d42c489-9c7d-40fb-b1c5-0842d6a59325",
   "metadata": {},
   "outputs": [],
   "source": [
    "ref_dict = {\n",
    "    \"all fuels (utility-scale)\": \"ALL_FUEL\",\n",
    "    \"coal\": \"COAL\",\n",
    "    \"petroleum liquids\": \"PETRO\",\n",
    "    \"petroleum coke\": \"COKE\",\n",
    "    \"natural gas\": \"GAS\",\n",
    "    \"other gases\": \"GAS_OTHER\",\n",
    "    \"nuclear\": \"NUCLEAR\",\n",
    "    \"conventional hydroelectric\": \"HYDRO\",\n",
    "    #'other renewables': \"OTHER_RENEWABLES_TOTAL\",\n",
    "    \"wind\": \"WIND\",\n",
    "    \"all utility-scale solar\": \"ALL_UTILITY_SOLAR\",\n",
    "    #'utility-scale photovoltaic',\n",
    "    #'utility-scale thermal',\n",
    "    \"geothermal\": \"GEOTHERMAL\",\n",
    "    \"biomass\": \"BIOMASS\",\n",
    "    #'hydro-electric pumped storage',\n",
    "    \"other\": \"OTHER\",\n",
    "    \"all solar\": \"SOLAR\",\n",
    "    \"small-scale solar photovoltaic\": \"SOLAR_OTHER\",\n",
    "}"
   ]
  },
  {
   "cell_type": "code",
   "execution_count": 7,
   "id": "3db7b91e-c311-48a2-930b-c2a6336ba83c",
   "metadata": {},
   "outputs": [],
   "source": [
    "def format_int(item) -> int:\n",
    "    try:\n",
    "        return int(item)\n",
    "    except ValueError:\n",
    "        print(item)\n",
    "        return 0"
   ]
  },
  {
   "cell_type": "code",
   "execution_count": 9,
   "id": "099ec07f-91c5-4907-914c-dc68e4288170",
   "metadata": {},
   "outputs": [
    {
     "name": "stdout",
     "output_type": "stream",
     "text": [
      "--\n",
      "--\n",
      "--\n",
      "--\n",
      "--\n",
      "--\n",
      "--\n",
      "--\n",
      "--\n",
      "--\n",
      "--\n",
      "--\n",
      "--\n",
      "--\n",
      "--\n",
      "--\n",
      "--\n",
      "--\n",
      "--\n",
      "--\n",
      "--\n",
      "--\n",
      "--\n",
      "--\n",
      "--\n",
      "--\n",
      "--\n",
      "--\n",
      "--\n",
      "--\n",
      "--\n",
      "--\n",
      "--\n",
      "--\n",
      "--\n",
      "--\n",
      "--\n",
      "--\n",
      "--\n",
      "--\n",
      "--\n",
      "--\n",
      "--\n",
      "--\n",
      "--\n",
      "--\n",
      "--\n",
      "--\n",
      "--\n",
      "--\n",
      "--\n",
      "--\n",
      "--\n",
      "--\n",
      "--\n",
      "--\n",
      "--\n",
      "--\n",
      "--\n",
      "--\n",
      "--\n",
      "--\n",
      "--\n",
      "--\n",
      "--\n",
      "--\n",
      "--\n",
      "--\n",
      "--\n",
      "--\n",
      "--\n",
      "--\n",
      "--\n",
      "--\n",
      "--\n",
      "--\n",
      "--\n",
      "--\n",
      "--\n",
      "--\n",
      "--\n",
      "--\n",
      "--\n",
      "--\n",
      "--\n",
      "--\n",
      "--\n",
      "--\n",
      "--\n",
      "--\n",
      "--\n",
      "--\n",
      "--\n",
      "--\n",
      "--\n",
      "--\n",
      "--\n",
      "--\n",
      "--\n",
      "--\n",
      "--\n",
      "--\n",
      "--\n",
      "--\n",
      "--\n",
      "--\n",
      "--\n",
      "--\n",
      "--\n",
      "--\n",
      "--\n",
      "--\n",
      "--\n",
      "--\n",
      "--\n",
      "--\n",
      "--\n",
      "--\n",
      "--\n",
      "--\n",
      "--\n",
      "--\n",
      "--\n",
      "--\n",
      "--\n",
      "--\n",
      "--\n",
      "--\n",
      "--\n",
      "--\n",
      "--\n",
      "--\n",
      "--\n",
      "--\n",
      "--\n",
      "--\n",
      "--\n",
      "--\n",
      "--\n",
      "--\n",
      "--\n",
      "--\n",
      "--\n",
      "--\n",
      "--\n"
     ]
    }
   ],
   "source": [
    "states_list = []\n",
    "for i in range(len(states_gdf)):\n",
    "    state_dict = {}\n",
    "    state_energy_df = energy_df[energy_df[\"STATE\"] == states_gdf.iloc[i][\"NAME\"]]\n",
    "    if len(state_energy_df) == 0:\n",
    "        continue\n",
    "    for k, p in ref_dict.items():\n",
    "        stat = state_energy_df[state_energy_df[\"type_of_energy\"] == k][\"2023\"].iloc[0]\n",
    "        state_dict[ref_dict[k]] = format_int(stat)\n",
    "    state_dict[\"NAME\"] = states_gdf.iloc[i][\"NAME\"]\n",
    "    states_list.append(state_dict)"
   ]
  },
  {
   "cell_type": "code",
   "execution_count": 22,
   "id": "451d41a5-634d-4801-9a6a-30af8869ca97",
   "metadata": {},
   "outputs": [],
   "source": [
    "energy_states_df = pd.DataFrame(states_list)"
   ]
  },
  {
   "cell_type": "code",
   "execution_count": 15,
   "id": "a8ccf0ee-a398-4fea-b497-aa4e6cf21996",
   "metadata": {},
   "outputs": [],
   "source": [
    "def calculate_percent(row) -> float:\n",
    "    val = row[\"SOLAR\"]\n",
    "    total = row[\"ALL_FUEL\"] + row[\"SOLAR_OTHER\"]\n",
    "    return round(val / total, 3) * 100"
   ]
  },
  {
   "cell_type": "code",
   "execution_count": 16,
   "id": "56480790-747d-4ef4-a3c9-43ec1f83eacc",
   "metadata": {},
   "outputs": [],
   "source": [
    "energy_states_df[\"PERCENT\"] = energy_states_df.apply(\n",
    "    lambda row: calculate_percent(row), axis=1\n",
    ")"
   ]
  },
  {
   "cell_type": "code",
   "execution_count": 24,
   "id": "ccd83b19-22fd-4106-8e82-8183ff02918a",
   "metadata": {},
   "outputs": [],
   "source": [
    "def calculate_biomass(row) -> float:\n",
    "    val = row[\"BIOMASS\"]\n",
    "    total = row[\"ALL_FUEL\"] + row[\"SOLAR_OTHER\"]\n",
    "    return round(val / total, 3) * 100"
   ]
  },
  {
   "cell_type": "code",
   "execution_count": 25,
   "id": "1b18ec9f-20c0-40e9-b868-8b7e5f032a06",
   "metadata": {},
   "outputs": [],
   "source": [
    "energy_states_df[\"PERCENT_BIOMASS\"] = energy_states_df.apply(\n",
    "    lambda row: calculate_biomass(row), axis=1\n",
    ")"
   ]
  },
  {
   "cell_type": "markdown",
   "id": "ea0435b2-f5f4-4186-853b-615f63cc50aa",
   "metadata": {},
   "source": [
    "## Merge Data"
   ]
  },
  {
   "cell_type": "code",
   "execution_count": 19,
   "id": "c4d2872c-7521-440f-91e6-2106d9dda497",
   "metadata": {},
   "outputs": [],
   "source": [
    "energy_per_state_gdf = states_gdf.merge(energy_states_df, on=\"NAME\", how=\"inner\")"
   ]
  },
  {
   "cell_type": "code",
   "execution_count": 20,
   "id": "ae923604-fd11-4c7d-a480-4f53abaeafbc",
   "metadata": {},
   "outputs": [],
   "source": [
    "energy_per_state_gdf = energy_per_state_gdf.to_crs(9311)\n",
    "energy_per_state_gdf.to_file(\"data/energy.gpkg\")"
   ]
  },
  {
   "cell_type": "code",
   "execution_count": null,
   "id": "ecb944f5-0c88-44eb-a1d9-405bdd7609be",
   "metadata": {},
   "outputs": [],
   "source": []
  }
 ],
 "metadata": {
  "kernelspec": {
   "display_name": "Python 3 (ipykernel)",
   "language": "python",
   "name": "python3"
  },
  "language_info": {
   "codemirror_mode": {
    "name": "ipython",
    "version": 3
   },
   "file_extension": ".py",
   "mimetype": "text/x-python",
   "name": "python",
   "nbconvert_exporter": "python",
   "pygments_lexer": "ipython3",
   "version": "3.11.11"
  }
 },
 "nbformat": 4,
 "nbformat_minor": 5
}
