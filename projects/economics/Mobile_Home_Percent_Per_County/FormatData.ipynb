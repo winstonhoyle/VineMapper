{
 "cells": [
  {
   "cell_type": "code",
   "execution_count": 2,
   "id": "c4323fb2-1721-463e-8602-d1c3302ff523",
   "metadata": {},
   "outputs": [],
   "source": [
    "import geopandas as gpd\n",
    "import pandas as pd"
   ]
  },
  {
   "cell_type": "markdown",
   "id": "7bfd8f31-eada-447d-af06-da8a94290c02",
   "metadata": {},
   "source": [
    "## Open State data"
   ]
  },
  {
   "cell_type": "code",
   "execution_count": 3,
   "id": "5fadd853-8ad5-4832-976a-4d251d5a794b",
   "metadata": {},
   "outputs": [],
   "source": [
    "file_path = \"data/cb_2018_us_county_500k/cb_2018_us_county_500k.shp\"\n",
    "counties_gdf = gpd.read_file(file_path)\n",
    "counties_gdf = counties_gdf[counties_gdf[\"STATEFP\"] != \"09\"][[\"geometry\", \"AFFGEOID\"]]\n",
    "counties_gdf = counties_gdf.to_crs(4326)"
   ]
  },
  {
   "cell_type": "markdown",
   "id": "6f8d8f18-f40f-488f-bfc6-b1cd6acc6848",
   "metadata": {},
   "source": [
    "#### Format for CT"
   ]
  },
  {
   "cell_type": "code",
   "execution_count": 4,
   "id": "a78351e7-8bc5-4e11-a904-46694e277a8a",
   "metadata": {},
   "outputs": [],
   "source": [
    "ct_gdf = gpd.read_file(\"data/CT_Planning_Regions.geojson\")\n",
    "ct_gdf[\"AFFGEOID\"] = \"0500000US\" + ct_gdf[\"PlanningRegionFIPS_GEOID\"]"
   ]
  },
  {
   "cell_type": "code",
   "execution_count": 8,
   "id": "85222d5d-1a07-4295-96cd-7adfd3841375",
   "metadata": {},
   "outputs": [],
   "source": [
    "counties_gdf = pd.concat(\n",
    "    [ct_gdf[[\"geometry\", \"AFFGEOID\"]], counties_gdf], ignore_index=True\n",
    ")"
   ]
  },
  {
   "cell_type": "markdown",
   "id": "74b55cfa-2db3-4a7c-bd04-0b341757effe",
   "metadata": {},
   "source": [
    "## Get Mobile Home Data Percents"
   ]
  },
  {
   "cell_type": "code",
   "execution_count": 9,
   "id": "3992f69b-d2c6-4058-879b-b3df9efd2c6a",
   "metadata": {},
   "outputs": [],
   "source": [
    "acs_mobile_home = pd.read_csv(\n",
    "    \"data/ACSDP5Y2023.DP04_2025-02-06T161358/ACSDP5Y2023.DP04-Data.csv\",\n",
    "    low_memory=False,\n",
    ")"
   ]
  },
  {
   "cell_type": "markdown",
   "id": "882f6ea0-65a2-404e-8c20-4571501b5685",
   "metadata": {},
   "source": [
    "#### Get Column names"
   ]
  },
  {
   "cell_type": "code",
   "execution_count": 10,
   "id": "4a3b0141-aaf8-405a-bfd0-eef85e9d5b94",
   "metadata": {},
   "outputs": [],
   "source": [
    "acs_column_names = pd.read_csv(\n",
    "    \"data/ACSDP5Y2023.DP04_2025-02-06T161358/ACSDP5Y2023.DP04-Column-Metadata.csv\"\n",
    ")"
   ]
  },
  {
   "cell_type": "code",
   "execution_count": 11,
   "id": "07d142e8-e490-4174-ac05-41eadf749b12",
   "metadata": {},
   "outputs": [],
   "source": [
    "mobile_home_cols = list(\n",
    "    acs_column_names[\n",
    "        (acs_column_names[\"Column Name\"] == \"DP04_0014PE\")\n",
    "        | (acs_column_names[\"Column Name\"] == \"DP04_0014E\")\n",
    "    ][\"Column Name\"]\n",
    ")"
   ]
  },
  {
   "cell_type": "markdown",
   "id": "c156cb57-84a4-47fe-81d8-2691da36f9d8",
   "metadata": {},
   "source": [
    "#### Back to Data"
   ]
  },
  {
   "cell_type": "code",
   "execution_count": 12,
   "id": "46820b78-1f2a-4160-8205-6be79a179254",
   "metadata": {},
   "outputs": [],
   "source": [
    "acs_mobile_home_data_per_county_df = acs_mobile_home[[\"GEO_ID\", *mobile_home_cols]]\n",
    "acs_mobile_home_data_per_county_df.columns = acs_mobile_home_data_per_county_df.iloc[0]\n",
    "acs_mobile_home_data_per_county_df = acs_mobile_home_data_per_county_df[1:]\n",
    "acs_mobile_home_data_per_county_df = acs_mobile_home_data_per_county_df.rename(\n",
    "    columns={\n",
    "        \"Estimate!!UNITS IN STRUCTURE!!Total housing units!!Mobile home\": \"MOBILE_HOMES\",\n",
    "        \"Percent!!UNITS IN STRUCTURE!!Total housing units!!Mobile home\": \"PERCENT\",\n",
    "        \"Geography\": \"AFFGEOID\",\n",
    "    }\n",
    ")"
   ]
  },
  {
   "cell_type": "markdown",
   "id": "ea0435b2-f5f4-4186-853b-615f63cc50aa",
   "metadata": {},
   "source": [
    "## Merge Data"
   ]
  },
  {
   "cell_type": "code",
   "execution_count": 23,
   "id": "335e5a07-6df8-46bf-bc7d-1512019384fd",
   "metadata": {},
   "outputs": [],
   "source": [
    "acs_mobile_home_data_per_county_gdf = counties_gdf.merge(\n",
    "    acs_mobile_home_data_per_county_df, on=\"AFFGEOID\", how=\"left\"\n",
    ")"
   ]
  },
  {
   "cell_type": "code",
   "execution_count": 24,
   "id": "8aab9d27-4076-4866-a884-10d8294d0a91",
   "metadata": {},
   "outputs": [],
   "source": [
    "acs_mobile_home_data_per_county_df[\"county_id\"] = acs_mobile_home_data_per_county_df[\n",
    "    \"AFFGEOID\"\n",
    "].str[9:]\n",
    "acs_mobile_home_data_per_county_df[\"state_id\"] = acs_mobile_home_data_per_county_df[\n",
    "    \"AFFGEOID\"\n",
    "].str[9:11]"
   ]
  },
  {
   "cell_type": "code",
   "execution_count": 25,
   "id": "703fcf06-203c-4be9-ac83-c9373e5c92d5",
   "metadata": {},
   "outputs": [],
   "source": [
    "acs_mobile_home_data_per_county_gdf = acs_mobile_home_data_per_county_gdf.fillna(0)\n",
    "acs_mobile_home_data_per_county_gdf[\n",
    "    \"MOBILE_HOMES\"\n",
    "] = acs_mobile_home_data_per_county_gdf[\"MOBILE_HOMES\"].astype(int)\n",
    "acs_mobile_home_data_per_county_gdf[\"PERCENT\"] = acs_mobile_home_data_per_county_gdf[\n",
    "    \"PERCENT\"\n",
    "].astype(float)"
   ]
  },
  {
   "cell_type": "code",
   "execution_count": 26,
   "id": "ae923604-fd11-4c7d-a480-4f53abaeafbc",
   "metadata": {},
   "outputs": [],
   "source": [
    "acs_mobile_home_data_per_county_gdf = acs_mobile_home_data_per_county_gdf.to_crs(9311)\n",
    "acs_mobile_home_data_per_county_gdf.to_file(\"data/mobile_home_county.gpkg\")"
   ]
  },
  {
   "cell_type": "code",
   "execution_count": 27,
   "id": "e05f8aae-9b3e-488c-b776-2967596dbde3",
   "metadata": {},
   "outputs": [
    {
     "data": {
      "text/html": [
       "<div>\n",
       "<style scoped>\n",
       "    .dataframe tbody tr th:only-of-type {\n",
       "        vertical-align: middle;\n",
       "    }\n",
       "\n",
       "    .dataframe tbody tr th {\n",
       "        vertical-align: top;\n",
       "    }\n",
       "\n",
       "    .dataframe thead th {\n",
       "        text-align: right;\n",
       "    }\n",
       "</style>\n",
       "<table border=\"1\" class=\"dataframe\">\n",
       "  <thead>\n",
       "    <tr style=\"text-align: right;\">\n",
       "      <th></th>\n",
       "      <th>geometry</th>\n",
       "      <th>AFFGEOID</th>\n",
       "      <th>MOBILE_HOMES</th>\n",
       "      <th>PERCENT</th>\n",
       "      <th>county_id</th>\n",
       "      <th>state_id</th>\n",
       "    </tr>\n",
       "  </thead>\n",
       "  <tbody>\n",
       "    <tr>\n",
       "      <th>0</th>\n",
       "      <td>POLYGON ((2249596.518 22977.704, 2249609.32 22...</td>\n",
       "      <td>0500000US09110</td>\n",
       "      <td>2406</td>\n",
       "      <td>0.6</td>\n",
       "      <td>09110</td>\n",
       "      <td>09</td>\n",
       "    </tr>\n",
       "    <tr>\n",
       "      <th>1</th>\n",
       "      <td>MULTIPOLYGON (((2201518.594 -58325.515, 220152...</td>\n",
       "      <td>0500000US09170</td>\n",
       "      <td>1118</td>\n",
       "      <td>0.5</td>\n",
       "      <td>09170</td>\n",
       "      <td>09</td>\n",
       "    </tr>\n",
       "    <tr>\n",
       "      <th>2</th>\n",
       "      <td>MULTIPOLYGON (((2198361.226 -62558.943, 219822...</td>\n",
       "      <td>0500000US09120</td>\n",
       "      <td>253</td>\n",
       "      <td>0.2</td>\n",
       "      <td>09120</td>\n",
       "      <td>09</td>\n",
       "    </tr>\n",
       "    <tr>\n",
       "      <th>3</th>\n",
       "      <td>POLYGON ((2275297.417 21684.436, 2275280.685 2...</td>\n",
       "      <td>0500000US09150</td>\n",
       "      <td>607</td>\n",
       "      <td>1.5</td>\n",
       "      <td>09150</td>\n",
       "      <td>09</td>\n",
       "    </tr>\n",
       "    <tr>\n",
       "      <th>4</th>\n",
       "      <td>POLYGON ((2200443.773 -37712.741, 2200476.075 ...</td>\n",
       "      <td>0500000US09140</td>\n",
       "      <td>1531</td>\n",
       "      <td>0.8</td>\n",
       "      <td>09140</td>\n",
       "      <td>09</td>\n",
       "    </tr>\n",
       "    <tr>\n",
       "      <th>...</th>\n",
       "      <td>...</td>\n",
       "      <td>...</td>\n",
       "      <td>...</td>\n",
       "      <td>...</td>\n",
       "      <td>...</td>\n",
       "      <td>...</td>\n",
       "    </tr>\n",
       "    <tr>\n",
       "      <th>3229</th>\n",
       "      <td>POLYGON ((-8018.633 -507058.613, -7534.089 -50...</td>\n",
       "      <td>0500000US31073</td>\n",
       "      <td>93</td>\n",
       "      <td>7.7</td>\n",
       "      <td>31073</td>\n",
       "      <td>31</td>\n",
       "    </tr>\n",
       "    <tr>\n",
       "      <th>3230</th>\n",
       "      <td>POLYGON ((1486193.517 -320378.86, 1488440.469 ...</td>\n",
       "      <td>0500000US39075</td>\n",
       "      <td>906</td>\n",
       "      <td>6.2</td>\n",
       "      <td>39075</td>\n",
       "      <td>39</td>\n",
       "    </tr>\n",
       "    <tr>\n",
       "      <th>3231</th>\n",
       "      <td>POLYGON ((67253.903 -1607796.404, 69345.064 -1...</td>\n",
       "      <td>0500000US48171</td>\n",
       "      <td>1714</td>\n",
       "      <td>12.0</td>\n",
       "      <td>48171</td>\n",
       "      <td>48</td>\n",
       "    </tr>\n",
       "    <tr>\n",
       "      <th>3232</th>\n",
       "      <td>POLYGON ((968181.218 -166268.173, 968091.993 -...</td>\n",
       "      <td>0500000US55079</td>\n",
       "      <td>2158</td>\n",
       "      <td>0.5</td>\n",
       "      <td>55079</td>\n",
       "      <td>55</td>\n",
       "    </tr>\n",
       "    <tr>\n",
       "      <th>3233</th>\n",
       "      <td>POLYGON ((1108468.202 -115599.256, 1109530.083...</td>\n",
       "      <td>0500000US26139</td>\n",
       "      <td>6361</td>\n",
       "      <td>5.5</td>\n",
       "      <td>26139</td>\n",
       "      <td>26</td>\n",
       "    </tr>\n",
       "  </tbody>\n",
       "</table>\n",
       "<p>3234 rows × 6 columns</p>\n",
       "</div>"
      ],
      "text/plain": [
       "                                               geometry        AFFGEOID  \\\n",
       "0     POLYGON ((2249596.518 22977.704, 2249609.32 22...  0500000US09110   \n",
       "1     MULTIPOLYGON (((2201518.594 -58325.515, 220152...  0500000US09170   \n",
       "2     MULTIPOLYGON (((2198361.226 -62558.943, 219822...  0500000US09120   \n",
       "3     POLYGON ((2275297.417 21684.436, 2275280.685 2...  0500000US09150   \n",
       "4     POLYGON ((2200443.773 -37712.741, 2200476.075 ...  0500000US09140   \n",
       "...                                                 ...             ...   \n",
       "3229  POLYGON ((-8018.633 -507058.613, -7534.089 -50...  0500000US31073   \n",
       "3230  POLYGON ((1486193.517 -320378.86, 1488440.469 ...  0500000US39075   \n",
       "3231  POLYGON ((67253.903 -1607796.404, 69345.064 -1...  0500000US48171   \n",
       "3232  POLYGON ((968181.218 -166268.173, 968091.993 -...  0500000US55079   \n",
       "3233  POLYGON ((1108468.202 -115599.256, 1109530.083...  0500000US26139   \n",
       "\n",
       "      MOBILE_HOMES  PERCENT county_id state_id  \n",
       "0             2406      0.6     09110       09  \n",
       "1             1118      0.5     09170       09  \n",
       "2              253      0.2     09120       09  \n",
       "3              607      1.5     09150       09  \n",
       "4             1531      0.8     09140       09  \n",
       "...            ...      ...       ...      ...  \n",
       "3229            93      7.7     31073       31  \n",
       "3230           906      6.2     39075       39  \n",
       "3231          1714     12.0     48171       48  \n",
       "3232          2158      0.5     55079       55  \n",
       "3233          6361      5.5     26139       26  \n",
       "\n",
       "[3234 rows x 6 columns]"
      ]
     },
     "execution_count": 27,
     "metadata": {},
     "output_type": "execute_result"
    }
   ],
   "source": [
    "acs_mobile_home_data_per_county_gdf"
   ]
  },
  {
   "cell_type": "code",
   "execution_count": null,
   "id": "641fe6e8-a92d-407d-b49c-f85ac7139bbd",
   "metadata": {},
   "outputs": [],
   "source": []
  }
 ],
 "metadata": {
  "kernelspec": {
   "display_name": "Python 3 (ipykernel)",
   "language": "python",
   "name": "python3"
  },
  "language_info": {
   "codemirror_mode": {
    "name": "ipython",
    "version": 3
   },
   "file_extension": ".py",
   "mimetype": "text/x-python",
   "name": "python",
   "nbconvert_exporter": "python",
   "pygments_lexer": "ipython3",
   "version": "3.11.11"
  }
 },
 "nbformat": 4,
 "nbformat_minor": 5
}
