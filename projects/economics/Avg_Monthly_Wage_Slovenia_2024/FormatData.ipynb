{
 "cells": [
  {
   "cell_type": "code",
   "execution_count": 11,
   "id": "2cb415d5-2943-4f9f-b027-91c18988b208",
   "metadata": {},
   "outputs": [],
   "source": [
    "import json"
   ]
  },
  {
   "cell_type": "code",
   "execution_count": 12,
   "id": "6c8b506a-4477-4416-bd68-b44f0b27a407",
   "metadata": {},
   "outputs": [],
   "source": [
    "import geopandas as gpd\n",
    "import pandas as pd\n",
    "import requests\n",
    "from unidecode import unidecode"
   ]
  },
  {
   "cell_type": "code",
   "execution_count": 13,
   "id": "b560fc29-0b71-4883-b4a1-af175c21a7b9",
   "metadata": {},
   "outputs": [],
   "source": [
    "url = \"https://pxweb.stat.si:443/SiStatData/api/v1/en/Data/0701024S.px\""
   ]
  },
  {
   "cell_type": "code",
   "execution_count": 44,
   "id": "18d7203f-7080-4ad1-bc53-3ce5cdeeb5ce",
   "metadata": {},
   "outputs": [],
   "source": [
    "data = {\n",
    "    \"query\": [\n",
    "        {\n",
    "            \"code\": \"OBČINE\",\n",
    "            \"selection\": {\n",
    "                \"filter\": \"item\",\n",
    "                \"values\": [\n",
    "                    \"0\",\n",
    "                    \"001\",\n",
    "                    \"213\",\n",
    "                    \"195\",\n",
    "                    \"002\",\n",
    "                    \"148\",\n",
    "                    \"149\",\n",
    "                    \"003\",\n",
    "                    \"150\",\n",
    "                    \"004\",\n",
    "                    \"005\",\n",
    "                    \"006\",\n",
    "                    \"151\",\n",
    "                    \"007\",\n",
    "                    \"008\",\n",
    "                    \"009\",\n",
    "                    \"152\",\n",
    "                    \"011\",\n",
    "                    \"012\",\n",
    "                    \"013\",\n",
    "                    \"014\",\n",
    "                    \"153\",\n",
    "                    \"196\",\n",
    "                    \"015\",\n",
    "                    \"016\",\n",
    "                    \"017\",\n",
    "                    \"018\",\n",
    "                    \"019\",\n",
    "                    \"154\",\n",
    "                    \"020\",\n",
    "                    \"155\",\n",
    "                    \"021\",\n",
    "                    \"156\",\n",
    "                    \"022\",\n",
    "                    \"157\",\n",
    "                    \"023\",\n",
    "                    \"024\",\n",
    "                    \"025\",\n",
    "                    \"026\",\n",
    "                    \"027\",\n",
    "                    \"028\",\n",
    "                    \"207\",\n",
    "                    \"029\",\n",
    "                    \"030\",\n",
    "                    \"031\",\n",
    "                    \"158\",\n",
    "                    \"032\",\n",
    "                    \"159\",\n",
    "                    \"160\",\n",
    "                    \"161\",\n",
    "                    \"162\",\n",
    "                    \"034\",\n",
    "                    \"035\",\n",
    "                    \"036\",\n",
    "                    \"037\",\n",
    "                    \"038\",\n",
    "                    \"039\",\n",
    "                    \"040\",\n",
    "                    \"041\",\n",
    "                    \"163\",\n",
    "                    \"042\",\n",
    "                    \"043\",\n",
    "                    \"044\",\n",
    "                    \"045\",\n",
    "                    \"046\",\n",
    "                    \"047\",\n",
    "                    \"048\",\n",
    "                    \"049\",\n",
    "                    \"164\",\n",
    "                    \"050\",\n",
    "                    \"197\",\n",
    "                    \"165\",\n",
    "                    \"051\",\n",
    "                    \"052\",\n",
    "                    \"053\",\n",
    "                    \"166\",\n",
    "                    \"054\",\n",
    "                    \"055\",\n",
    "                    \"056\",\n",
    "                    \"057\",\n",
    "                    \"058\",\n",
    "                    \"059\",\n",
    "                    \"060\",\n",
    "                    \"061\",\n",
    "                    \"062\",\n",
    "                    \"063\",\n",
    "                    \"208\",\n",
    "                    \"064\",\n",
    "                    \"065\",\n",
    "                    \"066\",\n",
    "                    \"167\",\n",
    "                    \"067\",\n",
    "                    \"068\",\n",
    "                    \"069\",\n",
    "                    \"198\",\n",
    "                    \"070\",\n",
    "                    \"168\",\n",
    "                    \"071\",\n",
    "                    \"072\",\n",
    "                    \"073\",\n",
    "                    \"074\",\n",
    "                    \"169\",\n",
    "                    \"075\",\n",
    "                    \"212\",\n",
    "                    \"170\",\n",
    "                    \"076\",\n",
    "                    \"199\",\n",
    "                    \"077\",\n",
    "                    \"078\",\n",
    "                    \"079\",\n",
    "                    \"080\",\n",
    "                    \"081\",\n",
    "                    \"082\",\n",
    "                    \"083\",\n",
    "                    \"084\",\n",
    "                    \"085\",\n",
    "                    \"086\",\n",
    "                    \"171\",\n",
    "                    \"087\",\n",
    "                    \"088\",\n",
    "                    \"089\",\n",
    "                    \"090\",\n",
    "                    \"091\",\n",
    "                    \"092\",\n",
    "                    \"172\",\n",
    "                    \"093\",\n",
    "                    \"200\",\n",
    "                    \"173\",\n",
    "                    \"094\",\n",
    "                    \"174\",\n",
    "                    \"095\",\n",
    "                    \"175\",\n",
    "                    \"096\",\n",
    "                    \"097\",\n",
    "                    \"098\",\n",
    "                    \"099\",\n",
    "                    \"100\",\n",
    "                    \"101\",\n",
    "                    \"102\",\n",
    "                    \"103\",\n",
    "                    \"176\",\n",
    "                    \"209\",\n",
    "                    \"201\",\n",
    "                    \"104\",\n",
    "                    \"177\",\n",
    "                    \"106\",\n",
    "                    \"105\",\n",
    "                    \"107\",\n",
    "                    \"108\",\n",
    "                    \"178\",\n",
    "                    \"109\",\n",
    "                    \"110\",\n",
    "                    \"111\",\n",
    "                    \"112\",\n",
    "                    \"113\",\n",
    "                    \"114\",\n",
    "                    \"179\",\n",
    "                    \"180\",\n",
    "                    \"202\",\n",
    "                    \"115\",\n",
    "                    \"203\",\n",
    "                    \"181\",\n",
    "                    \"204\",\n",
    "                    \"182\",\n",
    "                    \"116\",\n",
    "                    \"210\",\n",
    "                    \"205\",\n",
    "                    \"033\",\n",
    "                    \"183\",\n",
    "                    \"117\",\n",
    "                    \"118\",\n",
    "                    \"119\",\n",
    "                    \"120\",\n",
    "                    \"211\",\n",
    "                    \"121\",\n",
    "                    \"122\",\n",
    "                    \"123\",\n",
    "                    \"124\",\n",
    "                    \"206\",\n",
    "                    \"125\",\n",
    "                    \"194\",\n",
    "                    \"126\",\n",
    "                    \"127\",\n",
    "                    \"184\",\n",
    "                    \"010\",\n",
    "                    \"128\",\n",
    "                    \"129\",\n",
    "                    \"130\",\n",
    "                    \"185\",\n",
    "                    \"186\",\n",
    "                    \"131\",\n",
    "                    \"132\",\n",
    "                    \"133\",\n",
    "                    \"187\",\n",
    "                    \"134\",\n",
    "                    \"188\",\n",
    "                    \"135\",\n",
    "                    \"136\",\n",
    "                    \"137\",\n",
    "                    \"138\",\n",
    "                    \"139\",\n",
    "                    \"189\",\n",
    "                    \"140\",\n",
    "                    \"141\",\n",
    "                    \"142\",\n",
    "                    \"143\",\n",
    "                    \"144\",\n",
    "                    \"190\",\n",
    "                    \"146\",\n",
    "                    \"191\",\n",
    "                    \"147\",\n",
    "                    \"192\",\n",
    "                    \"193\",\n",
    "                ],\n",
    "            },\n",
    "        },\n",
    "        {\n",
    "            \"code\": \"KAZALNIK\",\n",
    "            \"selection\": {\"filter\": \"item\", \"values\": [\"PLA-MESEC-NETO\"]},\n",
    "        },\n",
    "        {\"code\": \"LETO\", \"selection\": {\"filter\": \"item\", \"values\": [\"2024\"]}},\n",
    "    ],\n",
    "    \"response\": {\"format\": \"json-stat\"},\n",
    "}"
   ]
  },
  {
   "cell_type": "code",
   "execution_count": 45,
   "id": "f0ccb4ed-91fa-4e75-a6d7-85ee568c94ea",
   "metadata": {},
   "outputs": [],
   "source": [
    "r = requests.post(url, data=json.dumps(data))"
   ]
  },
  {
   "cell_type": "code",
   "execution_count": 46,
   "id": "580abc11-59f6-443d-befb-bd9ebb4175a2",
   "metadata": {},
   "outputs": [],
   "source": [
    "json_data = r.json()\n",
    "indexes = json_data[\"dataset\"][\"dimension\"][\"OBČINE\"][\"category\"][\"index\"]\n",
    "labels = json_data[\"dataset\"][\"dimension\"][\"OBČINE\"][\"category\"][\"label\"]\n",
    "data = json_data[\"dataset\"][\"value\"]"
   ]
  },
  {
   "cell_type": "code",
   "execution_count": 47,
   "id": "d6c87cc1-3b11-484f-8cef-c5915f6eae91",
   "metadata": {},
   "outputs": [],
   "source": [
    "data_list = [{\"name\": labels[key], \"NET\": data[indx]} for key, indx in indexes.items()]"
   ]
  },
  {
   "cell_type": "code",
   "execution_count": 48,
   "id": "556a103f-6fea-4b29-aa5f-0a7408384513",
   "metadata": {},
   "outputs": [],
   "source": [
    "income_df = pd.DataFrame(data_list)\n",
    "income_df[\"name\"] = income_df[\"name\"].str.split(\"/\").str[0].apply(unidecode)\n",
    "income_df[\"name\"] = income_df[\"name\"].str.replace(r\"\\s*-\\s*\", \"-\", regex=True)"
   ]
  },
  {
   "cell_type": "markdown",
   "id": "501b8f83-ceb2-4292-93d5-56f8dcd37cd8",
   "metadata": {},
   "source": [
    "## Open Geojson"
   ]
  },
  {
   "cell_type": "code",
   "execution_count": 49,
   "id": "4b832cd6-014c-4a54-b0c0-6b42255e20ce",
   "metadata": {},
   "outputs": [],
   "source": [
    "slovenian_muni_gdf = gpd.read_file(\"data/si.json\")\n",
    "slovenian_muni_gdf = slovenian_muni_gdf[[\"name\", \"geometry\"]]\n",
    "slovenian_muni_gdf[\"name\"] = slovenian_muni_gdf[\"name\"].apply(unidecode)"
   ]
  },
  {
   "cell_type": "code",
   "execution_count": 50,
   "id": "2e068418-3a54-4b2e-992c-e57862064f15",
   "metadata": {},
   "outputs": [],
   "source": [
    "to_replace = {\n",
    "    \"Kostanjevica\": \"Kostanjevica na Krki\",\n",
    "    \"Nova Goriska\": \"Nova Gorica\",\n",
    "    \"Novo Mesto\": \"Novo mesto\",\n",
    "    \"Sentjur pri Celju\": \"Sentjur\",\n",
    "    \"Smartno in Litiji\": \"Smartno pri Litiji\",\n",
    "    \"Sveta Trojica v Slovenskih goricah\": \"Sveta Trojica v Slov. goricah\",\n",
    "    \"Sveti Andraz v Slovenskih Goricah\": \"Sveti Andraz v Slov. goricah\",\n",
    "    \"Sveti Jurij\": \"Sveti Jurij ob Scavnici\",\n",
    "    \"Sveti Jurij v Slovenskih goricah\": \"Sveti Jurij v Slov. goricah\",\n",
    "}"
   ]
  },
  {
   "cell_type": "code",
   "execution_count": 51,
   "id": "307ebcaf-3177-4bf1-924c-d56aa264e603",
   "metadata": {},
   "outputs": [],
   "source": [
    "slovenian_muni_gdf = slovenian_muni_gdf.replace(to_replace)"
   ]
  },
  {
   "cell_type": "markdown",
   "id": "c88a0c89-020c-4c73-b0f9-627ce1dbffa6",
   "metadata": {},
   "source": [
    "## Merge and Output"
   ]
  },
  {
   "cell_type": "code",
   "execution_count": 52,
   "id": "da7f9f94-503b-4ea9-85fd-691cf21650c3",
   "metadata": {},
   "outputs": [],
   "source": [
    "slovenian_muni_income_gdf = slovenian_muni_gdf.merge(income_df, on=\"name\", how=\"left\")"
   ]
  },
  {
   "cell_type": "code",
   "execution_count": 53,
   "id": "c44cd8bb-75d3-4b13-b538-9adc598fecb8",
   "metadata": {},
   "outputs": [
    {
     "data": {
      "text/html": [
       "<div>\n",
       "<style scoped>\n",
       "    .dataframe tbody tr th:only-of-type {\n",
       "        vertical-align: middle;\n",
       "    }\n",
       "\n",
       "    .dataframe tbody tr th {\n",
       "        vertical-align: top;\n",
       "    }\n",
       "\n",
       "    .dataframe thead th {\n",
       "        text-align: right;\n",
       "    }\n",
       "</style>\n",
       "<table border=\"1\" class=\"dataframe\">\n",
       "  <thead>\n",
       "    <tr style=\"text-align: right;\">\n",
       "      <th></th>\n",
       "      <th>name</th>\n",
       "      <th>geometry</th>\n",
       "      <th>NET</th>\n",
       "    </tr>\n",
       "  </thead>\n",
       "  <tbody>\n",
       "    <tr>\n",
       "      <th>62</th>\n",
       "      <td>Osilnica</td>\n",
       "      <td>POLYGON ((14.72368 45.59698, 14.73009 45.57577...</td>\n",
       "      <td>NaN</td>\n",
       "    </tr>\n",
       "  </tbody>\n",
       "</table>\n",
       "</div>"
      ],
      "text/plain": [
       "        name                                           geometry  NET\n",
       "62  Osilnica  POLYGON ((14.72368 45.59698, 14.73009 45.57577...  NaN"
      ]
     },
     "execution_count": 53,
     "metadata": {},
     "output_type": "execute_result"
    }
   ],
   "source": [
    "slovenian_muni_income_gdf[slovenian_muni_income_gdf[\"NET\"].isna()]"
   ]
  },
  {
   "cell_type": "code",
   "execution_count": 43,
   "id": "d8b13084-f157-4a33-8752-e0c3fae5a989",
   "metadata": {},
   "outputs": [
    {
     "data": {
      "text/plain": [
       "62    True\n",
       "Name: name, dtype: bool"
      ]
     },
     "execution_count": 43,
     "metadata": {},
     "output_type": "execute_result"
    }
   ],
   "source": [
    "slovenian_muni_income_gdf[slovenian_muni_income_gdf[\"NET\"].isna()][\"name\"] == income_df[\n",
    "    income_df[\"name\"] == \"Osilnica\"\n",
    "][\"name\"].iloc[0]"
   ]
  },
  {
   "cell_type": "code",
   "execution_count": 42,
   "id": "4fe8e5c6-94ce-4825-ba13-579f6cc482e2",
   "metadata": {},
   "outputs": [
    {
     "data": {
      "text/plain": [
       "'Osilnica'"
      ]
     },
     "execution_count": 42,
     "metadata": {},
     "output_type": "execute_result"
    }
   ],
   "source": []
  },
  {
   "cell_type": "code",
   "execution_count": 29,
   "id": "37596e6c-39b9-4743-aa20-a09ad0a2c16c",
   "metadata": {},
   "outputs": [],
   "source": [
    "slovenian_muni_income_gdf = slovenian_muni_income_gdf.to_crs(3794)\n",
    "slovenian_muni_income_gdf.to_file(\"data/slovenian_income.gpkg\")"
   ]
  },
  {
   "cell_type": "code",
   "execution_count": null,
   "id": "740780c4-977b-4173-91d7-4c1b9c5643c6",
   "metadata": {},
   "outputs": [],
   "source": []
  }
 ],
 "metadata": {
  "kernelspec": {
   "display_name": "Python 3 (ipykernel)",
   "language": "python",
   "name": "python3"
  },
  "language_info": {
   "codemirror_mode": {
    "name": "ipython",
    "version": 3
   },
   "file_extension": ".py",
   "mimetype": "text/x-python",
   "name": "python",
   "nbconvert_exporter": "python",
   "pygments_lexer": "ipython3",
   "version": "3.11.11"
  }
 },
 "nbformat": 4,
 "nbformat_minor": 5
}
