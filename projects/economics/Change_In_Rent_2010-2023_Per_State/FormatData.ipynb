{
 "cells": [
  {
   "cell_type": "code",
   "execution_count": 108,
   "id": "34096667-a395-48d3-be7d-d2dfa7378003",
   "metadata": {},
   "outputs": [],
   "source": [
    "import requests"
   ]
  },
  {
   "cell_type": "code",
   "execution_count": 109,
   "id": "c4323fb2-1721-463e-8602-d1c3302ff523",
   "metadata": {},
   "outputs": [],
   "source": [
    "import geopandas as gpd\n",
    "import pandas as pd"
   ]
  },
  {
   "cell_type": "markdown",
   "id": "7bfd8f31-eada-447d-af06-da8a94290c02",
   "metadata": {},
   "source": [
    "## Open State data"
   ]
  },
  {
   "cell_type": "code",
   "execution_count": 110,
   "id": "5fadd853-8ad5-4832-976a-4d251d5a794b",
   "metadata": {},
   "outputs": [],
   "source": [
    "file_path = \"data/cb_2018_us_state_500k/cb_2018_us_state_500k.shp\"\n",
    "states_df = gpd.read_file(file_path)"
   ]
  },
  {
   "cell_type": "markdown",
   "id": "2246428d-fae0-4af8-97d2-96519e1527e2",
   "metadata": {},
   "source": [
    "## Get 2010 Data"
   ]
  },
  {
   "cell_type": "code",
   "execution_count": 111,
   "id": "9c93f0e3-339f-4d54-b5a1-15534c56d929",
   "metadata": {},
   "outputs": [],
   "source": [
    "table = \"DP04\"\n",
    "url = \"https://api.census.gov/data/2010/acs/acs5/sptprofile\"\n",
    "params = {\n",
    "    \"get\": f\"group({table})\",\n",
    "    \"POPGROUP\": \"001\",\n",
    "    \"ucgid\": \"pseudo(0100000US$0400000)\",\n",
    "}\n",
    "response = requests.get(url, params=params)"
   ]
  },
  {
   "cell_type": "code",
   "execution_count": 112,
   "id": "f0762979-d348-443e-8129-31827909a262",
   "metadata": {},
   "outputs": [],
   "source": [
    "data = response.json()\n",
    "columns = data[0]\n",
    "rows = data[1:]\n",
    "housing_2010_df = pd.DataFrame(rows, columns=columns)"
   ]
  },
  {
   "cell_type": "code",
   "execution_count": 113,
   "id": "16265ed0-52cd-4040-a20d-ff1a4343e42b",
   "metadata": {},
   "outputs": [],
   "source": [
    "metadata_url = (\n",
    "    f\"https://api.census.gov/data/2010/acs/acs5/sptprofile/groups/{table}.json\"\n",
    ")\n",
    "meta_response = requests.get(metadata_url)"
   ]
  },
  {
   "cell_type": "code",
   "execution_count": 114,
   "id": "1d6e01d7-95e5-4135-acec-7ba07d7bbb36",
   "metadata": {},
   "outputs": [],
   "source": [
    "meta = meta_response.json()\n",
    "\n",
    "lookup = {}\n",
    "for var in meta[\"variables\"]:\n",
    "    lookup[var] = meta[\"variables\"][var][\"label\"]\n",
    "housing_2010_df = housing_2010_df.rename(columns=lookup)"
   ]
  },
  {
   "cell_type": "code",
   "execution_count": 115,
   "id": "586f02ec-729b-4430-b9bf-c6f42c09d33f",
   "metadata": {},
   "outputs": [],
   "source": [
    "new_cols = []\n",
    "for col in housing_2010_df.columns:\n",
    "    split = col.split(\"!!\")\n",
    "\n",
    "    if len(split) == 3:\n",
    "        stat_type, topic, characteristic = split\n",
    "    elif len(split) == 2:\n",
    "        stat_type, topic = split\n",
    "        characteristic = \"\"\n",
    "    else:\n",
    "        stat_type = col\n",
    "        topic = \"\"\n",
    "        characteristic = \"\"\n",
    "\n",
    "    new_cols.append((stat_type, topic, characteristic))\n",
    "\n",
    "housing_2010_df.columns = pd.MultiIndex.from_tuples(new_cols)"
   ]
  },
  {
   "cell_type": "code",
   "execution_count": 116,
   "id": "ad3ff244-0cb2-45b0-9e54-83f858114023",
   "metadata": {},
   "outputs": [],
   "source": [
    "housing_2010_df = housing_2010_df.loc[\n",
    "    :,\n",
    "    [(\"Geographic Area Name\", \"\", \"\"), (\"Estimate\", \"GROSS RENT\", \"Median (dollars)\")],\n",
    "]\n",
    "housing_2010_df.columns = [\"NAME\", \"RENT\"]"
   ]
  },
  {
   "cell_type": "markdown",
   "id": "74b55cfa-2db3-4a7c-bd04-0b341757effe",
   "metadata": {},
   "source": [
    "## Get 2023 Housing Data Percents"
   ]
  },
  {
   "cell_type": "markdown",
   "id": "c8eb1f5e-7c85-4218-a76e-3acd35ad9b70",
   "metadata": {},
   "source": [
    "#### Need to open file, Census API yields wrong results"
   ]
  },
  {
   "cell_type": "code",
   "execution_count": 117,
   "id": "3992f69b-d2c6-4058-879b-b3df9efd2c6a",
   "metadata": {},
   "outputs": [],
   "source": [
    "housing_2023_df = pd.read_csv(\n",
    "    \"data/ACSDP5Y2023.DP04-2025-06-27T193539.csv\", thousands=\",\"\n",
    ")"
   ]
  },
  {
   "cell_type": "code",
   "execution_count": 118,
   "id": "e40d9d7c-0f4f-4554-a803-d28e713430fb",
   "metadata": {},
   "outputs": [],
   "source": [
    "rename_columns_home_percent = {\"Label (Grouping)\": \"NAME\"}\n",
    "for column in list(housing_2023_df.columns):\n",
    "    str_split = column.split(\"!!\")\n",
    "    if len(str_split) == 2:\n",
    "        if str_split[1] == \"Estimate\":\n",
    "            rename_columns_home_percent[column] = str_split[0].strip()\n",
    "    else:\n",
    "        continue"
   ]
  },
  {
   "cell_type": "code",
   "execution_count": 119,
   "id": "f9d5680e-daa8-4695-b8bc-c39ef35b6151",
   "metadata": {},
   "outputs": [],
   "source": [
    "housing_2023_df = (\n",
    "    housing_2023_df[rename_columns_home_percent.keys()]\n",
    "    .rename(columns=rename_columns_home_percent)\n",
    "    .T.reset_index()\n",
    ")\n",
    "housing_2023_df.columns = [column.strip() for column in list(housing_2023_df.iloc[0])]\n",
    "housing_2023_df = housing_2023_df[1:]"
   ]
  },
  {
   "cell_type": "code",
   "execution_count": 121,
   "id": "d2673834-d439-4916-976d-4cf03d4b99b5",
   "metadata": {},
   "outputs": [],
   "source": [
    "housing_2023_df[\"RENT\"] = housing_2023_df[\"Median (dollars)\"].iloc[:, -1]\n",
    "housing_2023_df = housing_2023_df[[\"RENT\", \"NAME\"]]"
   ]
  },
  {
   "cell_type": "markdown",
   "id": "ea0435b2-f5f4-4186-853b-615f63cc50aa",
   "metadata": {},
   "source": [
    "## Merge Data"
   ]
  },
  {
   "cell_type": "code",
   "execution_count": 132,
   "id": "741bc565-ebfc-42ba-a794-913e31d2ea26",
   "metadata": {},
   "outputs": [],
   "source": [
    "housing_df = housing_2023_df.merge(\n",
    "    housing_2010_df, on=\"NAME\", how=\"inner\", suffixes=(\"_2023\", \"_2010\")\n",
    ")"
   ]
  },
  {
   "cell_type": "code",
   "execution_count": 133,
   "id": "e4dbc01e-9c9b-4419-a934-f6824f08ecd7",
   "metadata": {},
   "outputs": [],
   "source": [
    "housing_df[[\"RENT_2023\", \"RENT_2010\"]] = housing_df[[\"RENT_2023\", \"RENT_2010\"]].astype(\n",
    "    int\n",
    ")\n",
    "housing_df[\"DIFF\"] = housing_df[\"RENT_2023\"] - housing_df[\"RENT_2010\"]\n",
    "housing_df[\"PERCENT\"] = ((housing_df[\"DIFF\"] / housing_df[\"RENT_2010\"]) * 100).round(\n",
    "    decimals=1\n",
    ")"
   ]
  },
  {
   "cell_type": "code",
   "execution_count": 134,
   "id": "335e5a07-6df8-46bf-bc7d-1512019384fd",
   "metadata": {},
   "outputs": [],
   "source": [
    "home_columns_percents_gdf = states_df.merge(housing_df, on=\"NAME\", how=\"inner\").dropna()"
   ]
  },
  {
   "cell_type": "code",
   "execution_count": 135,
   "id": "ae923604-fd11-4c7d-a480-4f53abaeafbc",
   "metadata": {},
   "outputs": [],
   "source": [
    "home_columns_percents_gdf = home_columns_percents_gdf.to_crs(9311)\n",
    "home_columns_percents_gdf.to_file(\"data/housing.gpkg\")"
   ]
  },
  {
   "cell_type": "code",
   "execution_count": null,
   "id": "e05f8aae-9b3e-488c-b776-2967596dbde3",
   "metadata": {},
   "outputs": [],
   "source": []
  }
 ],
 "metadata": {
  "kernelspec": {
   "display_name": "Python 3 (ipykernel)",
   "language": "python",
   "name": "python3"
  },
  "language_info": {
   "codemirror_mode": {
    "name": "ipython",
    "version": 3
   },
   "file_extension": ".py",
   "mimetype": "text/x-python",
   "name": "python",
   "nbconvert_exporter": "python",
   "pygments_lexer": "ipython3",
   "version": "3.11.11"
  }
 },
 "nbformat": 4,
 "nbformat_minor": 5
}
