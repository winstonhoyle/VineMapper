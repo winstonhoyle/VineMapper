{
 "cells": [
  {
   "cell_type": "code",
   "execution_count": 142,
   "id": "c4323fb2-1721-463e-8602-d1c3302ff523",
   "metadata": {},
   "outputs": [],
   "source": [
    "import geopandas as gpd\n",
    "import pandas as pd"
   ]
  },
  {
   "cell_type": "markdown",
   "id": "7bfd8f31-eada-447d-af06-da8a94290c02",
   "metadata": {},
   "source": [
    "## Open State data"
   ]
  },
  {
   "cell_type": "code",
   "execution_count": 143,
   "id": "5fadd853-8ad5-4832-976a-4d251d5a794b",
   "metadata": {},
   "outputs": [],
   "source": [
    "file_path = \"data/cb_2018_us_state_500k/cb_2018_us_state_500k.shp\"\n",
    "states_df = gpd.read_file(file_path)"
   ]
  },
  {
   "cell_type": "markdown",
   "id": "74b55cfa-2db3-4a7c-bd04-0b341757effe",
   "metadata": {},
   "source": [
    "## Get Poverty Percents"
   ]
  },
  {
   "cell_type": "code",
   "execution_count": 169,
   "id": "3992f69b-d2c6-4058-879b-b3df9efd2c6a",
   "metadata": {},
   "outputs": [],
   "source": [
    "acs_internet = pd.read_csv(\n",
    "    \"data/ACSST5Y2023.S2801-2025-04-30T214312.csv\", thousands=\",\"\n",
    ")"
   ]
  },
  {
   "cell_type": "code",
   "execution_count": 170,
   "id": "16b3b45d-cca9-4d72-bcf4-b8fef48b628f",
   "metadata": {},
   "outputs": [],
   "source": [
    "acs_internet[\"Label (Grouping)\"] = acs_internet[\"Label (Grouping)\"].str.strip()"
   ]
  },
  {
   "cell_type": "code",
   "execution_count": 171,
   "id": "d71b9e52-fc34-4cb5-af65-f29b53b38125",
   "metadata": {},
   "outputs": [],
   "source": [
    "acs_percent_df = pd.DataFrame(\n",
    "    acs_internet[\n",
    "        acs_internet[\"Label (Grouping)\"] == \"Without an Internet subscription\"\n",
    "    ].iloc[0]\n",
    ").reset_index(drop=False)"
   ]
  },
  {
   "cell_type": "code",
   "execution_count": 172,
   "id": "9a8bbd20-db17-4cee-9d89-fbf237da6f3d",
   "metadata": {},
   "outputs": [],
   "source": [
    "acs_percent_df = acs_percent_df.rename(columns={\"index\": \"STATE\", 20: \"PERCENT\"})\n",
    "acs_percent_df = acs_percent_df.iloc[1:]"
   ]
  },
  {
   "cell_type": "code",
   "execution_count": 173,
   "id": "670af443-c5cb-469b-a99e-1179142b21ea",
   "metadata": {},
   "outputs": [],
   "source": [
    "total_df = acs_percent_df[acs_percent_df[\"STATE\"].str.contains(\"Total\")]\n",
    "percent_df = acs_percent_df[acs_percent_df[\"STATE\"].str.contains(\"Percent\")]"
   ]
  },
  {
   "cell_type": "code",
   "execution_count": 174,
   "id": "8169fa9d-4b72-4711-8d3a-db8dc8e34d3b",
   "metadata": {},
   "outputs": [
    {
     "name": "stderr",
     "output_type": "stream",
     "text": [
      "/tmp/ipykernel_18430/842281958.py:1: SettingWithCopyWarning: \n",
      "A value is trying to be set on a copy of a slice from a DataFrame.\n",
      "Try using .loc[row_indexer,col_indexer] = value instead\n",
      "\n",
      "See the caveats in the documentation: https://pandas.pydata.org/pandas-docs/stable/user_guide/indexing.html#returning-a-view-versus-a-copy\n",
      "  total_df['NAME'] = total_df['STATE'].str.split(\"!!\").str[0]\n",
      "/tmp/ipykernel_18430/842281958.py:2: SettingWithCopyWarning: \n",
      "A value is trying to be set on a copy of a slice from a DataFrame.\n",
      "Try using .loc[row_indexer,col_indexer] = value instead\n",
      "\n",
      "See the caveats in the documentation: https://pandas.pydata.org/pandas-docs/stable/user_guide/indexing.html#returning-a-view-versus-a-copy\n",
      "  total_df['PERCENT'] = total_df['PERCENT'].astype(int)\n",
      "/tmp/ipykernel_18430/842281958.py:4: SettingWithCopyWarning: \n",
      "A value is trying to be set on a copy of a slice from a DataFrame.\n",
      "Try using .loc[row_indexer,col_indexer] = value instead\n",
      "\n",
      "See the caveats in the documentation: https://pandas.pydata.org/pandas-docs/stable/user_guide/indexing.html#returning-a-view-versus-a-copy\n",
      "  percent_df['NAME'] = percent_df['STATE'].str.split(\"!!\").str[0]\n",
      "/tmp/ipykernel_18430/842281958.py:5: SettingWithCopyWarning: \n",
      "A value is trying to be set on a copy of a slice from a DataFrame.\n",
      "Try using .loc[row_indexer,col_indexer] = value instead\n",
      "\n",
      "See the caveats in the documentation: https://pandas.pydata.org/pandas-docs/stable/user_guide/indexing.html#returning-a-view-versus-a-copy\n",
      "  percent_df['PERCENT'] = percent_df['PERCENT'].str[:-1].astype(float)\n"
     ]
    }
   ],
   "source": [
    "total_df[\"NAME\"] = total_df[\"STATE\"].str.split(\"!!\").str[0]\n",
    "total_df[\"PERCENT\"] = total_df[\"PERCENT\"].astype(int)\n",
    "total_df = total_df.rename(columns={\"PERCENT\": \"TOTAL\"})\n",
    "percent_df[\"NAME\"] = percent_df[\"STATE\"].str.split(\"!!\").str[0]\n",
    "percent_df[\"PERCENT\"] = percent_df[\"PERCENT\"].str[:-1].astype(float)\n",
    "total_df = total_df.drop(\"STATE\", axis=1)\n",
    "percent_df = percent_df.drop(\"STATE\", axis=1)"
   ]
  },
  {
   "cell_type": "code",
   "execution_count": 175,
   "id": "dfffe750-9cb4-4cb2-8d32-2772ff7519f6",
   "metadata": {},
   "outputs": [],
   "source": [
    "internet_df = percent_df.merge(total_df, on=\"NAME\", how=\"inner\")"
   ]
  },
  {
   "cell_type": "markdown",
   "id": "ea0435b2-f5f4-4186-853b-615f63cc50aa",
   "metadata": {},
   "source": [
    "## Merge Data"
   ]
  },
  {
   "cell_type": "code",
   "execution_count": 177,
   "id": "335e5a07-6df8-46bf-bc7d-1512019384fd",
   "metadata": {},
   "outputs": [],
   "source": [
    "internet_percents_gdf = states_df.merge(internet_df, on=\"NAME\", how=\"inner\").dropna()"
   ]
  },
  {
   "cell_type": "code",
   "execution_count": 178,
   "id": "39512cbf-f562-49d2-ae80-8f0d068763b7",
   "metadata": {},
   "outputs": [],
   "source": [
    "internet_percents_gdf = internet_percents_gdf[[\"NAME\", \"geometry\", \"PERCENT\", \"TOTAL\"]]"
   ]
  },
  {
   "cell_type": "code",
   "execution_count": 179,
   "id": "ae923604-fd11-4c7d-a480-4f53abaeafbc",
   "metadata": {},
   "outputs": [],
   "source": [
    "internet_percents_gdf = internet_percents_gdf.to_crs(9311)\n",
    "internet_percents_gdf.to_file(\"data/internet.gpkg\")"
   ]
  },
  {
   "cell_type": "code",
   "execution_count": null,
   "id": "e05f8aae-9b3e-488c-b776-2967596dbde3",
   "metadata": {},
   "outputs": [],
   "source": []
  }
 ],
 "metadata": {
  "kernelspec": {
   "display_name": "Python 3 (ipykernel)",
   "language": "python",
   "name": "python3"
  },
  "language_info": {
   "codemirror_mode": {
    "name": "ipython",
    "version": 3
   },
   "file_extension": ".py",
   "mimetype": "text/x-python",
   "name": "python",
   "nbconvert_exporter": "python",
   "pygments_lexer": "ipython3",
   "version": "3.11.11"
  }
 },
 "nbformat": 4,
 "nbformat_minor": 5
}
