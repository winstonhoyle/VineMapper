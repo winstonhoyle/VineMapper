{
 "cells": [
  {
   "cell_type": "code",
   "execution_count": 17,
   "id": "34096667-a395-48d3-be7d-d2dfa7378003",
   "metadata": {},
   "outputs": [],
   "source": [
    "import requests"
   ]
  },
  {
   "cell_type": "code",
   "execution_count": 18,
   "id": "c4323fb2-1721-463e-8602-d1c3302ff523",
   "metadata": {},
   "outputs": [],
   "source": [
    "import geopandas as gpd\n",
    "import pandas as pd"
   ]
  },
  {
   "cell_type": "markdown",
   "id": "7bfd8f31-eada-447d-af06-da8a94290c02",
   "metadata": {},
   "source": [
    "## Open State data"
   ]
  },
  {
   "cell_type": "code",
   "execution_count": 19,
   "id": "5fadd853-8ad5-4832-976a-4d251d5a794b",
   "metadata": {},
   "outputs": [],
   "source": [
    "file_path = \"data/cb_2024_us_county_500k/cb_2024_us_county_500k.shp\"\n",
    "counties_gdf = gpd.read_file(file_path)"
   ]
  },
  {
   "cell_type": "code",
   "execution_count": 20,
   "id": "de5d1640-0185-4cb3-86ed-658e108baba6",
   "metadata": {},
   "outputs": [],
   "source": [
    "counties_gdf = counties_gdf[\n",
    "    ~counties_gdf[\"STATEFP\"].isin([\"60\", \"66\", \"69\", \"72\", \"74\", \"78\"])\n",
    "].reset_index(drop=True)"
   ]
  },
  {
   "cell_type": "markdown",
   "id": "2246428d-fae0-4af8-97d2-96519e1527e2",
   "metadata": {},
   "source": [
    "## Get Labor Data"
   ]
  },
  {
   "cell_type": "code",
   "execution_count": 21,
   "id": "9c93f0e3-339f-4d54-b5a1-15534c56d929",
   "metadata": {},
   "outputs": [],
   "source": [
    "table = \"S2301\"\n",
    "\n",
    "url = \"https://api.census.gov/data/2023/acs/acs5/subject\"\n",
    "params = {\n",
    "    \"get\": f\"group({table})\",\n",
    "    \"ucgid\": \"pseudo(0100000US$0500000)\",\n",
    "}\n",
    "response = requests.get(url, params=params)"
   ]
  },
  {
   "cell_type": "code",
   "execution_count": 22,
   "id": "f0762979-d348-443e-8129-31827909a262",
   "metadata": {},
   "outputs": [],
   "source": [
    "data = response.json()\n",
    "columns = data[0]\n",
    "rows = data[1:]\n",
    "labor_df = pd.DataFrame(rows, columns=columns)"
   ]
  },
  {
   "cell_type": "code",
   "execution_count": 23,
   "id": "16265ed0-52cd-4040-a20d-ff1a4343e42b",
   "metadata": {},
   "outputs": [],
   "source": [
    "url = \"http://api.census.gov/data/2023/acs/acs5/subject/variables.json\"\n",
    "response = requests.get(url)\n",
    "variables = response.json()[\"variables\"]"
   ]
  },
  {
   "cell_type": "code",
   "execution_count": 24,
   "id": "fb2aeaab-4d25-4eab-8068-4ce81801b1ad",
   "metadata": {},
   "outputs": [],
   "source": [
    "col_vars = {k: v[\"label\"] for k, v in variables.items() if k.startswith(table)}"
   ]
  },
  {
   "cell_type": "code",
   "execution_count": 25,
   "id": "1d6e01d7-95e5-4135-acec-7ba07d7bbb36",
   "metadata": {},
   "outputs": [],
   "source": [
    "labor_df = labor_df.rename(columns=col_vars)\n",
    "labor_df = labor_df[[*list(col_vars.values()), \"ucgid\"]]"
   ]
  },
  {
   "cell_type": "code",
   "execution_count": null,
   "id": "0a279581-70a9-4043-a35f-d29e499bdf0f",
   "metadata": {},
   "outputs": [],
   "source": [
    "rename_dict = {\n",
    "    col: col.split(\"!!\")[-1]\n",
    "    for col in labor_df.columns\n",
    "    if col.startswith(\n",
    "        \"Estimate!!Labor Force Participation Rate!!Population 20 to 64 years!!SEX!!Male\"\n",
    "    )\n",
    "}"
   ]
  },
  {
   "cell_type": "code",
   "execution_count": 29,
   "id": "fccde405-fa0f-44f8-98ee-646a80bfec68",
   "metadata": {},
   "outputs": [],
   "source": [
    "labor_df.rename(columns=rename_dict, inplace=True)"
   ]
  },
  {
   "cell_type": "code",
   "execution_count": null,
   "id": "8ffebc99-c43e-493f-a2f7-6edd9281f381",
   "metadata": {},
   "outputs": [],
   "source": [
    "labor_df = labor_df[[\"Male\", \"ucgid\"]]\n",
    "labor_df = labor_df.rename(columns={\"ucgid\": \"GEOIDFQ\"})"
   ]
  },
  {
   "cell_type": "code",
   "execution_count": 14,
   "id": "5334d6df-058b-483c-8cc8-a8bf8fe8e28a",
   "metadata": {},
   "outputs": [],
   "source": [
    "labor_df[\"Male\"] = labor_df[\"Male\"].astype(float)"
   ]
  },
  {
   "cell_type": "markdown",
   "id": "ea0435b2-f5f4-4186-853b-615f63cc50aa",
   "metadata": {},
   "source": [
    "## Merge Data"
   ]
  },
  {
   "cell_type": "code",
   "execution_count": 15,
   "id": "741bc565-ebfc-42ba-a794-913e31d2ea26",
   "metadata": {},
   "outputs": [],
   "source": [
    "labor_gdf = counties_gdf.merge(labor_df, on=\"GEOIDFQ\", how=\"inner\")"
   ]
  },
  {
   "cell_type": "code",
   "execution_count": 16,
   "id": "ae923604-fd11-4c7d-a480-4f53abaeafbc",
   "metadata": {},
   "outputs": [],
   "source": [
    "labor_gdf = labor_gdf.to_crs(9311)\n",
    "labor_gdf.to_file(\"data/labor_rate_participation.gpkg\")"
   ]
  },
  {
   "cell_type": "code",
   "execution_count": null,
   "id": "537b6034-c588-44fb-9e71-68e5e62adbad",
   "metadata": {},
   "outputs": [],
   "source": []
  }
 ],
 "metadata": {
  "kernelspec": {
   "display_name": "Python 3 (ipykernel)",
   "language": "python",
   "name": "python3"
  },
  "language_info": {
   "codemirror_mode": {
    "name": "ipython",
    "version": 3
   },
   "file_extension": ".py",
   "mimetype": "text/x-python",
   "name": "python",
   "nbconvert_exporter": "python",
   "pygments_lexer": "ipython3",
   "version": "3.11.11"
  }
 },
 "nbformat": 4,
 "nbformat_minor": 5
}
