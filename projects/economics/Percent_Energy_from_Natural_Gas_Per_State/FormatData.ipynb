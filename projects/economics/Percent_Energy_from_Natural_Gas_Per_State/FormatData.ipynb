{
 "cells": [
  {
   "cell_type": "code",
   "execution_count": 1,
   "id": "c4323fb2-1721-463e-8602-d1c3302ff523",
   "metadata": {},
   "outputs": [],
   "source": [
    "import geopandas as gpd\n",
    "import pandas as pd"
   ]
  },
  {
   "cell_type": "markdown",
   "id": "7bfd8f31-eada-447d-af06-da8a94290c02",
   "metadata": {},
   "source": [
    "## Open State data"
   ]
  },
  {
   "cell_type": "code",
   "execution_count": 2,
   "id": "5fadd853-8ad5-4832-976a-4d251d5a794b",
   "metadata": {},
   "outputs": [],
   "source": [
    "file_path = \"data/cb_2018_us_state_500k/cb_2018_us_state_500k.shp\"\n",
    "states_gdf = gpd.read_file(file_path)\n",
    "states_gdf[\"NAME\"] = states_gdf[\"NAME\"].str.title()\n",
    "states_gdf = states_gdf[[\"geometry\", \"NAME\"]]"
   ]
  },
  {
   "cell_type": "markdown",
   "id": "7f293fa8-3192-4d2f-9be3-129f98e5ab11",
   "metadata": {},
   "source": [
    "## Open Energy Data"
   ]
  },
  {
   "cell_type": "code",
   "execution_count": 3,
   "id": "df1cf6d2-56e5-4286-bc21-cb4fad8861b7",
   "metadata": {},
   "outputs": [],
   "source": [
    "state_total_energy_record_names = [\n",
    "    f\"{state_name} : all fuels (utility-scale)\"\n",
    "    for state_name in list(states_gdf[\"NAME\"])\n",
    "]"
   ]
  },
  {
   "cell_type": "code",
   "execution_count": 4,
   "id": "c75f9dbb-1cba-4fae-9d98-bf58d848d14b",
   "metadata": {},
   "outputs": [],
   "source": [
    "state_natural_gas_energy_record_names = [\n",
    "    f\"{state_name.title()} : natural gas\" for state_name in list(states_gdf[\"NAME\"])\n",
    "]"
   ]
  },
  {
   "cell_type": "code",
   "execution_count": 5,
   "id": "4d8a053c-df51-4163-bb6f-3db1b64c818b",
   "metadata": {},
   "outputs": [],
   "source": [
    "energy_df = pd.read_csv(\"data/Net_generation_for_all_sectors.csv\")"
   ]
  },
  {
   "cell_type": "code",
   "execution_count": 6,
   "id": "e22895bd-7887-45af-9d06-04c4aab8edde",
   "metadata": {},
   "outputs": [],
   "source": [
    "def format_natural_gas_col(row) -> int:\n",
    "    natural_gas = row[\"2023\"]\n",
    "    if natural_gas.isnumeric():\n",
    "        return int(natural_gas)\n",
    "    else:\n",
    "        print(row[\"description\"], row[\"2023\"])\n",
    "        return 0"
   ]
  },
  {
   "cell_type": "code",
   "execution_count": 7,
   "id": "ac61273a-1b13-4507-82dd-f4c3dfb0caf3",
   "metadata": {},
   "outputs": [
    {
     "name": "stdout",
     "output_type": "stream",
     "text": [
      "Hawaii : natural gas --\n"
     ]
    },
    {
     "name": "stderr",
     "output_type": "stream",
     "text": [
      "/tmp/ipykernel_11856/3860401195.py:2: SettingWithCopyWarning: \n",
      "A value is trying to be set on a copy of a slice from a DataFrame.\n",
      "Try using .loc[row_indexer,col_indexer] = value instead\n",
      "\n",
      "See the caveats in the documentation: https://pandas.pydata.org/pandas-docs/stable/user_guide/indexing.html#returning-a-view-versus-a-copy\n",
      "  natural_gas_df['NAME'] = natural_gas_df['description'].str.split(':').str[0]\n",
      "/tmp/ipykernel_11856/3860401195.py:3: SettingWithCopyWarning: \n",
      "A value is trying to be set on a copy of a slice from a DataFrame.\n",
      "Try using .loc[row_indexer,col_indexer] = value instead\n",
      "\n",
      "See the caveats in the documentation: https://pandas.pydata.org/pandas-docs/stable/user_guide/indexing.html#returning-a-view-versus-a-copy\n",
      "  natural_gas_df['NATURAL_GAS'] = natural_gas_df.apply(lambda row: format_natural_gas_col(row), axis=1)\n"
     ]
    }
   ],
   "source": [
    "natural_gas_df = energy_df[\n",
    "    energy_df[\"description\"].isin(state_natural_gas_energy_record_names)\n",
    "]\n",
    "natural_gas_df[\"NAME\"] = natural_gas_df[\"description\"].str.split(\":\").str[0]\n",
    "total_df[\"NATURAL_GAS\"] = natural_gas_df.apply(\n",
    "    lambda row: format_natural_gas_col(row), axis=1\n",
    ")\n",
    "natural_gas_df = natural_gas_df[[\"NAME\", \"NATURAL_GAS\"]].reset_index(drop=True)"
   ]
  },
  {
   "cell_type": "code",
   "execution_count": 8,
   "id": "24e2feb0-3f1c-494d-b9a6-7f67da0bc96b",
   "metadata": {},
   "outputs": [
    {
     "name": "stderr",
     "output_type": "stream",
     "text": [
      "/tmp/ipykernel_11856/1688030734.py:2: SettingWithCopyWarning: \n",
      "A value is trying to be set on a copy of a slice from a DataFrame.\n",
      "Try using .loc[row_indexer,col_indexer] = value instead\n",
      "\n",
      "See the caveats in the documentation: https://pandas.pydata.org/pandas-docs/stable/user_guide/indexing.html#returning-a-view-versus-a-copy\n",
      "  total_df['NAME'] = total_df['description'].str.split(':').str[0]\n",
      "/tmp/ipykernel_11856/1688030734.py:3: SettingWithCopyWarning: \n",
      "A value is trying to be set on a copy of a slice from a DataFrame.\n",
      "Try using .loc[row_indexer,col_indexer] = value instead\n",
      "\n",
      "See the caveats in the documentation: https://pandas.pydata.org/pandas-docs/stable/user_guide/indexing.html#returning-a-view-versus-a-copy\n",
      "  total_df['TOTAL'] = total_df['2023'].astype(int)\n"
     ]
    }
   ],
   "source": [
    "total_df = energy_df[energy_df[\"description\"].isin(state_total_energy_record_names)]\n",
    "total_df[\"NAME\"] = total_df[\"description\"].str.split(\":\").str[0]\n",
    "total_df[\"TOTAL\"] = total_df[\"2023\"].astype(int)\n",
    "total_df = total_df[[\"NAME\", \"TOTAL\"]].reset_index(drop=True)"
   ]
  },
  {
   "cell_type": "code",
   "execution_count": 9,
   "id": "7630848e-2010-4bc1-b3d7-216ba0acb0ab",
   "metadata": {},
   "outputs": [],
   "source": [
    "formatted_energy_df = natural_gas_df.merge(total_df, how=\"inner\", on=\"NAME\")"
   ]
  },
  {
   "cell_type": "code",
   "execution_count": 10,
   "id": "acf391c9-122e-464c-bb06-ad4d0f1ba852",
   "metadata": {},
   "outputs": [],
   "source": [
    "formatted_energy_df[\"percent\"] = (\n",
    "    formatted_energy_df[\"NATURAL_GAS\"] / formatted_energy_df[\"TOTAL\"]\n",
    ").round(decimals=3) * 100"
   ]
  },
  {
   "cell_type": "markdown",
   "id": "ea0435b2-f5f4-4186-853b-615f63cc50aa",
   "metadata": {},
   "source": [
    "## Merge Data"
   ]
  },
  {
   "cell_type": "code",
   "execution_count": 11,
   "id": "ec603183-7f79-4a23-acd5-e5acb1ff414d",
   "metadata": {},
   "outputs": [],
   "source": [
    "formatted_energy_df[\"NAME\"] = formatted_energy_df[\"NAME\"].str.strip()\n",
    "states_gdf[\"NAME\"] = states_gdf[\"NAME\"].str.strip()"
   ]
  },
  {
   "cell_type": "code",
   "execution_count": 15,
   "id": "c4d2872c-7521-440f-91e6-2106d9dda497",
   "metadata": {},
   "outputs": [],
   "source": [
    "energy_per_state_gdf = states_gdf.merge(formatted_energy_df, on=\"NAME\", how=\"inner\")"
   ]
  },
  {
   "cell_type": "code",
   "execution_count": 17,
   "id": "ae923604-fd11-4c7d-a480-4f53abaeafbc",
   "metadata": {},
   "outputs": [],
   "source": [
    "energy_per_state_gdf = energy_per_state_gdf.to_crs(9311)\n",
    "energy_per_state_gdf.to_file(\"data/energy.gpkg\")"
   ]
  },
  {
   "cell_type": "code",
   "execution_count": null,
   "id": "e05f8aae-9b3e-488c-b776-2967596dbde3",
   "metadata": {},
   "outputs": [],
   "source": []
  }
 ],
 "metadata": {
  "kernelspec": {
   "display_name": "Python 3 (ipykernel)",
   "language": "python",
   "name": "python3"
  },
  "language_info": {
   "codemirror_mode": {
    "name": "ipython",
    "version": 3
   },
   "file_extension": ".py",
   "mimetype": "text/x-python",
   "name": "python",
   "nbconvert_exporter": "python",
   "pygments_lexer": "ipython3",
   "version": "3.11.11"
  }
 },
 "nbformat": 4,
 "nbformat_minor": 5
}
