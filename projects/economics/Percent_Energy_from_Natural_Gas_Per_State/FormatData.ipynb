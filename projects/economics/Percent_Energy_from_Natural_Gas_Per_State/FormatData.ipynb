{
 "cells": [
  {
   "cell_type": "code",
   "execution_count": 1,
   "id": "518c79a7-fd21-44e6-8ce3-a883363bff21",
   "metadata": {},
   "outputs": [],
   "source": [
    "import requests"
   ]
  },
  {
   "cell_type": "code",
   "execution_count": 2,
   "id": "c4323fb2-1721-463e-8602-d1c3302ff523",
   "metadata": {},
   "outputs": [],
   "source": [
    "from bs4 import BeautifulSoup\n",
    "import cloudscraper\n",
    "import geopandas as gpd\n",
    "import pandas as pd"
   ]
  },
  {
   "cell_type": "markdown",
   "id": "7bfd8f31-eada-447d-af06-da8a94290c02",
   "metadata": {},
   "source": [
    "## Open State data"
   ]
  },
  {
   "cell_type": "code",
   "execution_count": 3,
   "id": "5fadd853-8ad5-4832-976a-4d251d5a794b",
   "metadata": {},
   "outputs": [],
   "source": [
    "file_path = \"data/cb_2018_us_state_500k/cb_2018_us_state_500k.shp\"\n",
    "states_gdf = gpd.read_file(file_path)\n",
    "states_gdf = states_gdf[[\"geometry\", \"NAME\"]]"
   ]
  },
  {
   "cell_type": "markdown",
   "id": "7f293fa8-3192-4d2f-9be3-129f98e5ab11",
   "metadata": {},
   "source": [
    "## Open Energy Data"
   ]
  },
  {
   "cell_type": "code",
   "execution_count": 4,
   "id": "2d1a2594-488e-4003-b199-67fc46b91b3a",
   "metadata": {},
   "outputs": [],
   "source": [
    "url = \"https://www.chooseenergy.com/data-center/electricity-sources-by-state/\"\n",
    "scraper = cloudscraper.create_scraper()"
   ]
  },
  {
   "cell_type": "code",
   "execution_count": 5,
   "id": "c562e85f-2e03-4ddb-9a34-8cf5cefcc28c",
   "metadata": {},
   "outputs": [],
   "source": [
    "r = scraper.get(url)\n",
    "soup = BeautifulSoup(r.text, \"html.parser\")"
   ]
  },
  {
   "cell_type": "code",
   "execution_count": 7,
   "id": "92075199-b5d2-458b-ae62-772ecad1ed26",
   "metadata": {},
   "outputs": [
    {
     "name": "stdout",
     "output_type": "stream",
     "text": [
      "NA\n",
      "NA\n",
      "NA\n",
      "NA\n",
      "NA\n",
      "NA\n",
      "NA\n",
      "NA\n",
      "NA\n",
      "NA\n",
      "NA\n",
      "NA\n",
      "NA\n",
      "NA\n",
      "NA\n",
      "NA\n",
      "NA\n",
      "NA\n",
      "NA\n",
      "NA\n",
      "NA\n",
      "NA\n",
      "NA\n",
      "NA\n",
      "NA\n",
      "NA\n",
      "NA\n",
      "NA\n",
      "NA\n",
      "NA\n",
      "NA\n",
      "NA\n",
      "NA\n",
      "NA\n",
      "NA\n",
      "NA\n",
      "NA\n",
      "NA\n",
      "NA\n",
      "NA\n",
      "NA\n",
      "NA\n",
      "NA\n",
      "NA\n"
     ]
    }
   ],
   "source": [
    "def convert_number(number: str) -> float:\n",
    "    try:\n",
    "        return float(number)\n",
    "    except Exception as e:\n",
    "        print(number)\n",
    "        return 0.0\n",
    "\n",
    "\n",
    "energy_list = []\n",
    "trs = soup.find_all(\"tbody\")[1].find_all(\"tr\")[1:]\n",
    "for tr in trs:\n",
    "    tds = tr.find_all(\"td\")\n",
    "    energy_dict = {\n",
    "        \"NAME\": tds[0].text,\n",
    "        \"PER_COAL\": convert_number(tds[2].text),\n",
    "        \"PER_HYDRO\": convert_number(tds[3].text),\n",
    "        \"PER_GAS\": convert_number(tds[4].text),\n",
    "        \"PER_NUCLEAR\": convert_number(tds[5].text),\n",
    "        \"PER_SOLAR\": convert_number(tds[6].text),\n",
    "        \"PER_WIND\": convert_number(tds[7].text),\n",
    "    }\n",
    "    energy_list.append(energy_dict)"
   ]
  },
  {
   "cell_type": "code",
   "execution_count": 8,
   "id": "cb9e456f-3536-41a4-8aec-cdaedc518195",
   "metadata": {},
   "outputs": [],
   "source": [
    "energy_df = pd.DataFrame(energy_list, columns=energy_list[0].keys())"
   ]
  },
  {
   "cell_type": "markdown",
   "id": "ea0435b2-f5f4-4186-853b-615f63cc50aa",
   "metadata": {},
   "source": [
    "## Merge Data"
   ]
  },
  {
   "cell_type": "code",
   "execution_count": 9,
   "id": "335e5a07-6df8-46bf-bc7d-1512019384fd",
   "metadata": {},
   "outputs": [],
   "source": [
    "energy_per_state_gdf = states_gdf.merge(energy_df, on=\"NAME\", how=\"inner\")"
   ]
  },
  {
   "cell_type": "code",
   "execution_count": 10,
   "id": "ae923604-fd11-4c7d-a480-4f53abaeafbc",
   "metadata": {},
   "outputs": [],
   "source": [
    "energy_per_state_gdf = energy_per_state_gdf.to_crs(9311)\n",
    "energy_per_state_gdf.to_file(\"data/energy.gpkg\")"
   ]
  },
  {
   "cell_type": "code",
   "execution_count": null,
   "id": "e05f8aae-9b3e-488c-b776-2967596dbde3",
   "metadata": {},
   "outputs": [],
   "source": []
  }
 ],
 "metadata": {
  "kernelspec": {
   "display_name": "Python 3 (ipykernel)",
   "language": "python",
   "name": "python3"
  },
  "language_info": {
   "codemirror_mode": {
    "name": "ipython",
    "version": 3
   },
   "file_extension": ".py",
   "mimetype": "text/x-python",
   "name": "python",
   "nbconvert_exporter": "python",
   "pygments_lexer": "ipython3",
   "version": "3.11.11"
  }
 },
 "nbformat": 4,
 "nbformat_minor": 5
}
