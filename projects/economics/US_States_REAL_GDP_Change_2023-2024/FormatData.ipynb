{
 "cells": [
  {
   "cell_type": "code",
   "execution_count": 1,
   "id": "c4323fb2-1721-463e-8602-d1c3302ff523",
   "metadata": {},
   "outputs": [],
   "source": [
    "import geopandas as gpd\n",
    "import pandas as pd\n",
    "import wikipedia as wp"
   ]
  },
  {
   "cell_type": "markdown",
   "id": "7bfd8f31-eada-447d-af06-da8a94290c02",
   "metadata": {},
   "source": [
    "## Open State data"
   ]
  },
  {
   "cell_type": "code",
   "execution_count": 2,
   "id": "5fadd853-8ad5-4832-976a-4d251d5a794b",
   "metadata": {},
   "outputs": [],
   "source": [
    "file_path = \"data/cb_2018_us_state_500k/cb_2018_us_state_500k.shp\"\n",
    "states_df = gpd.read_file(file_path)"
   ]
  },
  {
   "cell_type": "markdown",
   "id": "74b55cfa-2db3-4a7c-bd04-0b341757effe",
   "metadata": {},
   "source": [
    "## Get GDP Data"
   ]
  },
  {
   "cell_type": "code",
   "execution_count": 3,
   "id": "59e27d69-2565-466c-a6e8-2ab7abf5470d",
   "metadata": {},
   "outputs": [],
   "source": [
    "html = (\n",
    "    wp.page(\"List_of_U.S._states_and_territories_by_GDP\", auto_suggest=False)\n",
    "    .html()\n",
    "    .encode(\"UTF-8\")\n",
    ")"
   ]
  },
  {
   "cell_type": "code",
   "execution_count": 4,
   "id": "189dd3a0-2bb7-4051-95c2-2831aaac2eae",
   "metadata": {},
   "outputs": [],
   "source": [
    "states_gdp_df = pd.read_html(html)[0]"
   ]
  },
  {
   "cell_type": "code",
   "execution_count": 5,
   "id": "8e0b8d50-6890-4fae-9c2a-664ac54e4b78",
   "metadata": {},
   "outputs": [],
   "source": [
    "states_gdp_df = states_gdp_df.rename(\n",
    "    columns={\n",
    "        \"State or federal district\": \"NAME\",\n",
    "        \"Annual GDP change at current prices (2023â2024)[1]\": \"PERCENT_CHANGE\",\n",
    "        \"Real\\xa0GDP growth rate (2023â\\x80\\x932024)[1]\": \"REAL_GDP\",\n",
    "    }\n",
    ")"
   ]
  },
  {
   "cell_type": "code",
   "execution_count": 6,
   "id": "4a7deaff-b778-43e8-af58-fda241f365d5",
   "metadata": {},
   "outputs": [],
   "source": [
    "states_gdp_df = states_gdp_df[[\"NAME\", \"PERCENT_CHANGE\", \"REAL_GDP\"]]"
   ]
  },
  {
   "cell_type": "code",
   "execution_count": 7,
   "id": "a694ab21-59d9-4352-bc4e-8d6a9e24cdf5",
   "metadata": {},
   "outputs": [],
   "source": [
    "states_gdp_df.columns = [\" \".join(col).strip() for col in states_gdp_df.columns.values]"
   ]
  },
  {
   "cell_type": "code",
   "execution_count": 8,
   "id": "26a0b9ea-7481-4bb0-bf15-77b926f0c58f",
   "metadata": {},
   "outputs": [],
   "source": [
    "states_gdp_df = states_gdp_df.rename(\n",
    "    columns={\n",
    "        \"NAME NAME\": \"NAME\",\n",
    "        \"PERCENT_CHANGE PERCENT_CHANGE\": \"RAW_CHANGE\",\n",
    "        \"PERCENT_CHANGE Annual GDP change at current prices (2023â2024)[1].1\": \"PERCENT_CHANGE\",\n",
    "        \"REAL_GDP REAL_GDP\": \"REAL_GDP\",\n",
    "    }\n",
    ")"
   ]
  },
  {
   "cell_type": "code",
   "execution_count": 9,
   "id": "993bcc90-f93f-43a6-87da-9332926797e9",
   "metadata": {},
   "outputs": [],
   "source": [
    "states_gdp_df[\"REAL_GDP\"] = states_gdp_df[\"REAL_GDP\"].str.replace(\"%\", \"\")\n",
    "states_gdp_df[\"REAL_GDP\"] = states_gdp_df[\"REAL_GDP\"].astype(float)\n",
    "states_gdp_df[\"PERCENT_CHANGE\"] = (\n",
    "    states_gdp_df[\"PERCENT_CHANGE\"].str.replace(\"%\", \"\").astype(float)\n",
    ")\n",
    "states_gdp_df[\"RAW_CHANGE\"] = states_gdp_df[\"RAW_CHANGE\"].astype(int)"
   ]
  },
  {
   "cell_type": "markdown",
   "id": "ea0435b2-f5f4-4186-853b-615f63cc50aa",
   "metadata": {},
   "source": [
    "## Merge Data"
   ]
  },
  {
   "cell_type": "code",
   "execution_count": 10,
   "id": "335e5a07-6df8-46bf-bc7d-1512019384fd",
   "metadata": {},
   "outputs": [],
   "source": [
    "states_gdp_gdf = states_df.merge(states_gdp_df, on=\"NAME\", how=\"right\").dropna()"
   ]
  },
  {
   "cell_type": "code",
   "execution_count": 11,
   "id": "39512cbf-f562-49d2-ae80-8f0d068763b7",
   "metadata": {},
   "outputs": [],
   "source": [
    "states_gdp_gdf = states_gdp_gdf[\n",
    "    [\"NAME\", \"geometry\", \"RAW_CHANGE\", \"PERCENT_CHANGE\", \"REAL_GDP\"]\n",
    "]"
   ]
  },
  {
   "cell_type": "code",
   "execution_count": 12,
   "id": "ae923604-fd11-4c7d-a480-4f53abaeafbc",
   "metadata": {},
   "outputs": [],
   "source": [
    "states_gdp_gdf = states_gdp_gdf.to_crs(9311)\n",
    "states_gdp_gdf.to_file(\"data/gdp.gpkg\")"
   ]
  },
  {
   "cell_type": "code",
   "execution_count": null,
   "id": "6ac41d48-ef3d-459f-a058-f97deb936292",
   "metadata": {},
   "outputs": [],
   "source": []
  }
 ],
 "metadata": {
  "kernelspec": {
   "display_name": "Python 3 (ipykernel)",
   "language": "python",
   "name": "python3"
  },
  "language_info": {
   "codemirror_mode": {
    "name": "ipython",
    "version": 3
   },
   "file_extension": ".py",
   "mimetype": "text/x-python",
   "name": "python",
   "nbconvert_exporter": "python",
   "pygments_lexer": "ipython3",
   "version": "3.11.11"
  }
 },
 "nbformat": 4,
 "nbformat_minor": 5
}
