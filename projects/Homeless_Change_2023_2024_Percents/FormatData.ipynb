{
 "cells": [
  {
   "cell_type": "code",
   "execution_count": 1,
   "id": "ea8798c7-edff-4cf9-9a5d-cf4f1b6dea91",
   "metadata": {},
   "outputs": [],
   "source": [
    "import geopandas as gpd\n",
    "import numpy as np\n",
    "import pandas as pd"
   ]
  },
  {
   "cell_type": "markdown",
   "id": "8ec77963-d7b5-4d75-b5be-92f490b8d311",
   "metadata": {},
   "source": [
    "## Open Housing data"
   ]
  },
  {
   "cell_type": "code",
   "execution_count": 39,
   "id": "b20ce6bb-25a4-4626-bb9a-ba7009cdb289",
   "metadata": {},
   "outputs": [],
   "source": [
    "homeless_change_df = pd.read_excel(\n",
    "    \"data/2007-2024-PIT-Counts-by-State.xlsb\",\n",
    "    engine=\"pyxlsb\",\n",
    "    sheet_name=[\"2024\", \"2023\"],\n",
    ")"
   ]
  },
  {
   "cell_type": "code",
   "execution_count": 66,
   "id": "230d308d-843f-49bf-b6ee-3128f6b1ac43",
   "metadata": {},
   "outputs": [],
   "source": [
    "homeless_change_2023_df = homeless_change_df[\"2023\"].rename(\n",
    "    columns={\"State\": \"STUSPS\", \"Overall Homeless\": \"homeless_population\"}\n",
    ")[[\"STUSPS\", \"homeless_population\"]]\n",
    "homeless_change_2023_df = homeless_change_2023_df[\n",
    "    homeless_change_2023_df[\"homeless_population\"].apply(lambda x: isinstance(x, int))\n",
    "]\n",
    "homeless_change_2024_df = homeless_change_df[\"2024\"].rename(\n",
    "    columns={\"State\": \"STUSPS\", \"Overall Homeless\": \"homeless_population\"}\n",
    ")[[\"STUSPS\", \"homeless_population\"]]\n",
    "homeless_change_2024_df = homeless_change_2024_df[\n",
    "    homeless_change_2024_df[\"homeless_population\"].apply(lambda x: isinstance(x, int))\n",
    "]"
   ]
  },
  {
   "cell_type": "code",
   "execution_count": 71,
   "id": "371c611f-d179-44d8-95f5-d736983d46bf",
   "metadata": {},
   "outputs": [],
   "source": [
    "homeless_change_2023_2024_df = homeless_change_2024_df.merge(\n",
    "    homeless_change_2023_df, how=\"inner\", on=\"STUSPS\", suffixes=(\"_2024\", \"_2023\")\n",
    ")"
   ]
  },
  {
   "cell_type": "code",
   "execution_count": 85,
   "id": "12934ff5-c84d-4481-8a49-64158c51f937",
   "metadata": {},
   "outputs": [],
   "source": [
    "homeless_change_2023_2024_df[\"difference\"] = (\n",
    "    homeless_change_2023_2024_df[\"homeless_population_2024\"]\n",
    "    - homeless_change_2023_2024_df[\"homeless_population_2023\"]\n",
    ")\n",
    "homeless_change_2023_2024_df[\"percent_change\"] = (\n",
    "    homeless_change_2023_2024_df[\"difference\"].astype(float)\n",
    "    / homeless_change_2023_2024_df[\"homeless_population_2023\"].astype(float)\n",
    ") * 100"
   ]
  },
  {
   "cell_type": "code",
   "execution_count": 88,
   "id": "f3d1d55f-b70c-49c8-b2e6-faf0036ed461",
   "metadata": {},
   "outputs": [],
   "source": [
    "homeless_change_2023_2024_df[\"percent_change\"] = homeless_change_2023_2024_df[\n",
    "    \"percent_change\"\n",
    "].round(decimals=2)"
   ]
  },
  {
   "cell_type": "markdown",
   "id": "bc508094-33be-4cfd-8e98-ebd8212a8b00",
   "metadata": {},
   "source": [
    "## Open GIS Data"
   ]
  },
  {
   "cell_type": "code",
   "execution_count": 89,
   "id": "c4e00e1d-c372-442f-9784-a26e75703164",
   "metadata": {},
   "outputs": [],
   "source": [
    "file_path = \"data/cb_2018_us_state_500k/cb_2018_us_state_500k.shp\"\n",
    "states_df = gpd.read_file(file_path)"
   ]
  },
  {
   "cell_type": "markdown",
   "id": "f6ff1a99-2c55-49eb-b094-4feecb032e8d",
   "metadata": {},
   "source": [
    "## Get Population Data"
   ]
  },
  {
   "cell_type": "code",
   "execution_count": 90,
   "id": "9b28d8a6-b54f-4694-977d-1ff55a931c5b",
   "metadata": {},
   "outputs": [],
   "source": [
    "state_populations = pd.read_excel(\n",
    "    \"data/NST-EST2024-POP.xlsx\", sheet_name=None, engine=\"openpyxl\"\n",
    ")"
   ]
  },
  {
   "cell_type": "code",
   "execution_count": 91,
   "id": "25d2b992-8186-490c-8d22-d0ccb8bd7eaa",
   "metadata": {},
   "outputs": [],
   "source": [
    "state_populations_df = state_populations[\"NST-EST2024-POP\"][\n",
    "    [\n",
    "        \"table with row headers in column A and column headers in rows 3 through 4. (leading dots indicate sub-parts)\",\n",
    "        \"Unnamed: 5\",\n",
    "    ]\n",
    "]\n",
    "state_populations_df = state_populations_df.rename(\n",
    "    columns={\n",
    "        \"table with row headers in column A and column headers in rows 3 through 4. (leading dots indicate sub-parts)\": \"NAME\",\n",
    "        \"Unnamed: 5\": \"POPULATION\",\n",
    "    }\n",
    ")\n",
    "state_populations_df[\"NAME\"] = state_populations_df[\"NAME\"].str[1:]"
   ]
  },
  {
   "cell_type": "code",
   "execution_count": 92,
   "id": "2280be9e-3267-435d-9b46-98f36c6ed9ed",
   "metadata": {},
   "outputs": [],
   "source": [
    "states_with_population_df = states_df.merge(state_populations_df, on=\"NAME\", how=\"left\")\n",
    "states_with_population_df = states_with_population_df[\n",
    "    [\"STUSPS\", \"NAME\", \"POPULATION\", \"geometry\"]\n",
    "]"
   ]
  },
  {
   "cell_type": "markdown",
   "id": "94cccc21-45e1-4d91-9b98-8ed8208434d3",
   "metadata": {},
   "source": [
    "## Merge Data for Homeless Changes"
   ]
  },
  {
   "cell_type": "code",
   "execution_count": 93,
   "id": "ddbd8a54-1770-44db-99db-cd2d2b041905",
   "metadata": {},
   "outputs": [],
   "source": [
    "homeless_per_state_changes_df = states_with_population_df.merge(\n",
    "    homeless_change_2023_2024_df, on=\"STUSPS\", how=\"inner\"\n",
    ")"
   ]
  },
  {
   "cell_type": "code",
   "execution_count": 94,
   "id": "f505622a-4176-4295-9b7e-541d38f74a16",
   "metadata": {},
   "outputs": [],
   "source": [
    "homeless_per_state_changes_df = homeless_per_state_changes_df.to_crs(5070)"
   ]
  },
  {
   "cell_type": "code",
   "execution_count": 98,
   "id": "f0f762d6-ace1-44dc-b411-d5e15e722f4f",
   "metadata": {},
   "outputs": [],
   "source": [
    "homeless_per_state_changes_df = homeless_per_state_changes_df[\n",
    "    [\"STUSPS\", \"difference\", \"percent_change\", \"geometry\"]\n",
    "]"
   ]
  },
  {
   "cell_type": "code",
   "execution_count": 99,
   "id": "55d329a4-9aaa-4024-9712-b0991fff7349",
   "metadata": {},
   "outputs": [],
   "source": [
    "homeless_per_state_changes_df.to_file(\"data/homeless_changes.gpkg\")"
   ]
  },
  {
   "cell_type": "code",
   "execution_count": null,
   "id": "0112eab1-06b4-4983-9dc9-dea81503d0ca",
   "metadata": {},
   "outputs": [],
   "source": []
  }
 ],
 "metadata": {
  "kernelspec": {
   "display_name": "Python 3 (ipykernel)",
   "language": "python",
   "name": "python3"
  },
  "language_info": {
   "codemirror_mode": {
    "name": "ipython",
    "version": 3
   },
   "file_extension": ".py",
   "mimetype": "text/x-python",
   "name": "python",
   "nbconvert_exporter": "python",
   "pygments_lexer": "ipython3",
   "version": "3.11.11"
  }
 },
 "nbformat": 4,
 "nbformat_minor": 5
}
