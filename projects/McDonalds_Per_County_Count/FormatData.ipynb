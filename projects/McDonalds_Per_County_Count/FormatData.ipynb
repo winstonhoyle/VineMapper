{
 "cells": [
  {
   "cell_type": "code",
   "execution_count": 1,
   "id": "bc436e38-234d-44fd-b67b-d1f2974606d3",
   "metadata": {},
   "outputs": [],
   "source": [
    "import geopandas as gpd\n",
    "import pandas as pd"
   ]
  },
  {
   "cell_type": "markdown",
   "id": "8fc4024b-9727-41ee-9708-ffb25364b616",
   "metadata": {},
   "source": [
    "## Open County Data"
   ]
  },
  {
   "cell_type": "code",
   "execution_count": 2,
   "id": "7813076e-14bc-42d5-baf9-15303e676d24",
   "metadata": {},
   "outputs": [],
   "source": [
    "file_path = \"data/cb_2018_us_county_500k/cb_2018_us_county_500k.shp\"\n",
    "counties_gdf = gpd.read_file(file_path)"
   ]
  },
  {
   "cell_type": "code",
   "execution_count": 3,
   "id": "04149e42-92d0-432a-9bf4-f6b3676e4142",
   "metadata": {},
   "outputs": [],
   "source": [
    "counties_gdf = counties_gdf.rename(columns={\"GEOID\": \"FIPS\"})"
   ]
  },
  {
   "cell_type": "markdown",
   "id": "6d2f1ce9-a36c-4292-99a0-ad42032c5ad4",
   "metadata": {},
   "source": [
    "## Get McDonalds Data"
   ]
  },
  {
   "cell_type": "code",
   "execution_count": 4,
   "id": "282540fb-b4de-4e06-9236-91b80d24a10a",
   "metadata": {},
   "outputs": [],
   "source": [
    "mcdonalds_gdf = gpd.read_file(\"data/mcdonalds_va_h3_5.gpkg\")"
   ]
  },
  {
   "cell_type": "markdown",
   "id": "da5d5b73-81ab-499b-b6e7-cb9ca290c02c",
   "metadata": {},
   "source": [
    "## Intersect Data"
   ]
  },
  {
   "cell_type": "code",
   "execution_count": 6,
   "id": "4857fb82-2869-4020-8a57-c1983c9055b6",
   "metadata": {},
   "outputs": [],
   "source": [
    "county_gdf = counties_gdf.to_crs(mcdonalds_gdf.crs.srs)"
   ]
  },
  {
   "cell_type": "code",
   "execution_count": 7,
   "id": "4dfc2320-070e-464f-83f8-9d3529c0f41b",
   "metadata": {},
   "outputs": [],
   "source": [
    "counties_count_gdf = county_gdf.join(\n",
    "    gpd.sjoin(mcdonalds_gdf, county_gdf).groupby(\"index_right\").size().rename(\"stores\"),\n",
    "    how=\"left\",\n",
    ")"
   ]
  },
  {
   "cell_type": "code",
   "execution_count": 9,
   "id": "a1c0bc59-9dd4-42f7-83cf-bb922502ae12",
   "metadata": {},
   "outputs": [],
   "source": [
    "counties_count_gdf = counties_count_gdf.fillna(0)\n",
    "counties_count_gdf[\"stores\"] = counties_count_gdf[\"stores\"].astype(int)\n",
    "counties_count_gdf = counties_count_gdf[[\"geometry\", \"stores\", \"NAME\"]]"
   ]
  },
  {
   "cell_type": "code",
   "execution_count": 11,
   "id": "d523c266-6dae-4ebb-b9a4-8339da4898e7",
   "metadata": {},
   "outputs": [],
   "source": [
    "counties_count_gdf.to_file(\"data/counties_count.gpkg\")"
   ]
  },
  {
   "cell_type": "code",
   "execution_count": null,
   "id": "3c272511-ccbd-443f-8c65-028307c34172",
   "metadata": {},
   "outputs": [],
   "source": []
  }
 ],
 "metadata": {
  "kernelspec": {
   "display_name": "Python 3 (ipykernel)",
   "language": "python",
   "name": "python3"
  },
  "language_info": {
   "codemirror_mode": {
    "name": "ipython",
    "version": 3
   },
   "file_extension": ".py",
   "mimetype": "text/x-python",
   "name": "python",
   "nbconvert_exporter": "python",
   "pygments_lexer": "ipython3",
   "version": "3.11.11"
  }
 },
 "nbformat": 4,
 "nbformat_minor": 5
}
