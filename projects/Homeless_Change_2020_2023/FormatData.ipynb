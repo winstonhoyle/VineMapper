{
 "cells": [
  {
   "cell_type": "code",
   "execution_count": null,
   "id": "ea8798c7-edff-4cf9-9a5d-cf4f1b6dea91",
   "metadata": {},
   "outputs": [],
   "source": [
    "import geopandas as gpd\n",
    "import pandas as pd"
   ]
  },
  {
   "cell_type": "markdown",
   "id": "8ec77963-d7b5-4d75-b5be-92f490b8d311",
   "metadata": {},
   "source": [
    "## Open Housing data"
   ]
  },
  {
   "cell_type": "code",
   "execution_count": 56,
   "id": "b20ce6bb-25a4-4626-bb9a-ba7009cdb289",
   "metadata": {},
   "outputs": [],
   "source": [
    "homeless_change_df = pd.read_excel(\"data/2007-2023-PIT-Counts-by-State.xlsb\", engine=\"pyxlsb\")"
   ]
  },
  {
   "cell_type": "code",
   "execution_count": 57,
   "id": "230d308d-843f-49bf-b6ee-3128f6b1ac43",
   "metadata": {},
   "outputs": [],
   "source": [
    "homeless_change_df = homeless_change_df.rename(columns={\"State\":\"STUSPS\"})"
   ]
  },
  {
   "cell_type": "markdown",
   "id": "bc508094-33be-4cfd-8e98-ebd8212a8b00",
   "metadata": {},
   "source": [
    "## Open GIS Data"
   ]
  },
  {
   "cell_type": "code",
   "execution_count": 3,
   "id": "c4e00e1d-c372-442f-9784-a26e75703164",
   "metadata": {},
   "outputs": [],
   "source": [
    "file_path = 'data/cb_2018_us_state_500k/cb_2018_us_state_500k.shp'\n",
    "states_df = gpd.read_file(file_path)"
   ]
  },
  {
   "cell_type": "markdown",
   "id": "f6ff1a99-2c55-49eb-b094-4feecb032e8d",
   "metadata": {},
   "source": [
    "## Get Population Data"
   ]
  },
  {
   "cell_type": "code",
   "execution_count": 4,
   "id": "9b28d8a6-b54f-4694-977d-1ff55a931c5b",
   "metadata": {},
   "outputs": [],
   "source": [
    "state_populations = pd.read_excel('data/NST-EST2023-POP.xlsx', sheet_name=None, engine='openpyxl')"
   ]
  },
  {
   "cell_type": "code",
   "execution_count": 5,
   "id": "25d2b992-8186-490c-8d22-d0ccb8bd7eaa",
   "metadata": {},
   "outputs": [],
   "source": [
    "state_populations_df = state_populations['NST-EST2023-POP'][['table with row headers in column A and column headers in rows 3 through 4. (leading dots indicate sub-parts)','Unnamed: 5']]\n",
    "state_populations_df = state_populations_df.rename(columns={'table with row headers in column A and column headers in rows 3 through 4. (leading dots indicate sub-parts)': \"NAME\",'Unnamed: 5':'POPULATION'})\n",
    "state_populations_df['NAME'] = state_populations_df['NAME'].str[1:]"
   ]
  },
  {
   "cell_type": "code",
   "execution_count": 6,
   "id": "2280be9e-3267-435d-9b46-98f36c6ed9ed",
   "metadata": {},
   "outputs": [],
   "source": [
    "states_with_population_df = states_df.merge(state_populations_df, on='NAME', how='left')\n",
    "states_with_population_df = states_with_population_df[['STUSPS','NAME','POPULATION','geometry']]"
   ]
  },
  {
   "cell_type": "markdown",
   "id": "94cccc21-45e1-4d91-9b98-8ed8208434d3",
   "metadata": {},
   "source": [
    "## Merge Data for Homeless Changes"
   ]
  },
  {
   "cell_type": "code",
   "execution_count": null,
   "id": "ddbd8a54-1770-44db-99db-cd2d2b041905",
   "metadata": {},
   "outputs": [],
   "source": [
    "homeless_per_state_changes_df = states_with_population_df.merge(homeless_change_df, on='STUSPS', how='left')"
   ]
  },
  {
   "cell_type": "code",
   "execution_count": 68,
   "id": "f505622a-4176-4295-9b7e-541d38f74a16",
   "metadata": {},
   "outputs": [],
   "source": [
    "homeless_per_state_changes_df = homeless_per_state_changes_df.to_crs(5070)"
   ]
  },
  {
   "cell_type": "code",
   "execution_count": 77,
   "id": "469ecc7a-e40a-47bd-b827-faf5a6fdddf4",
   "metadata": {},
   "outputs": [],
   "source": [
    "change_cols = ['Change in Total Homelessness, 2022-2023',\n",
    "       'Change in Total Homelessness, 2021-2023',\n",
    "       'Change in Total Homelessness, 2020-2023',\n",
    "       'Change in Total Homelessness, 2019-2023',\n",
    "       'Change in Total Homelessness, 2018-2023',\n",
    "       'Change in Total Homelessness, 2017-2023',\n",
    "       'Change in Total Homelessness, 2016-2023',\n",
    "       'Change in Total Homelessness, 2015-2023',\n",
    "       'Change in Total Homelessness, 2014-2023',\n",
    "       'Change in Total Homelessness, 2013-2023',\n",
    "       'Change in Total Homelessness, 2012-2023',\n",
    "       'Change in Total Homelessness, 2011-2023',\n",
    "       'Change in Total Homelessness, 2010-2023',\n",
    "       'Change in Total Homelessness, 2009-2023',\n",
    "       'Change in Total Homelessness, 2008-2023',\n",
    "       'Change in Total Homelessness, 2007-2023']"
   ]
  },
  {
   "cell_type": "code",
   "execution_count": 79,
   "id": "32e101d3-c843-441f-bf3a-e3c82516542c",
   "metadata": {},
   "outputs": [],
   "source": [
    "homeless_per_state_changes_df = homeless_per_state_changes_df[['STUSPS', 'geometry', *change_cols ]]"
   ]
  },
  {
   "cell_type": "code",
   "execution_count": 80,
   "id": "bae099c6-26dd-429d-abf6-8e765c032099",
   "metadata": {},
   "outputs": [],
   "source": [
    "for col in change_cols:\n",
    "    homeless_per_state_changes_df[col] = homeless_per_state_changes_df[col].astype(float)"
   ]
  },
  {
   "cell_type": "code",
   "execution_count": 81,
   "id": "55d329a4-9aaa-4024-9712-b0991fff7349",
   "metadata": {},
   "outputs": [],
   "source": [
    "homeless_per_state_changes_df.to_file('data/homeless_changes.gpkg')"
   ]
  },
  {
   "cell_type": "code",
   "execution_count": null,
   "id": "0112eab1-06b4-4983-9dc9-dea81503d0ca",
   "metadata": {},
   "outputs": [],
   "source": []
  }
 ],
 "metadata": {
  "kernelspec": {
   "display_name": "Python 3 (ipykernel)",
   "language": "python",
   "name": "python3"
  },
  "language_info": {
   "codemirror_mode": {
    "name": "ipython",
    "version": 3
   },
   "file_extension": ".py",
   "mimetype": "text/x-python",
   "name": "python",
   "nbconvert_exporter": "python",
   "pygments_lexer": "ipython3",
   "version": "3.11.10"
  }
 },
 "nbformat": 4,
 "nbformat_minor": 5
}
