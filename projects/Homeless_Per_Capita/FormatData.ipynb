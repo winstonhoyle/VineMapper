{
 "cells": [
  {
   "cell_type": "code",
   "execution_count": 1,
   "id": "ea8798c7-edff-4cf9-9a5d-cf4f1b6dea91",
   "metadata": {},
   "outputs": [],
   "source": [
    "import requests\n",
    "import geopandas as gpd\n",
    "import pandas as pd"
   ]
  },
  {
   "cell_type": "code",
   "execution_count": 2,
   "id": "720f614c-943f-46fb-86bb-1c6bd8d1e48a",
   "metadata": {},
   "outputs": [],
   "source": [
    "from bs4 import BeautifulSoup \n",
    "from shapely.geometry import Point\n",
    "from tqdm.notebook import tqdm"
   ]
  },
  {
   "cell_type": "markdown",
   "id": "bc508094-33be-4cfd-8e98-ebd8212a8b00",
   "metadata": {},
   "source": [
    "## Open GIS Data"
   ]
  },
  {
   "cell_type": "code",
   "execution_count": 3,
   "id": "c4e00e1d-c372-442f-9784-a26e75703164",
   "metadata": {},
   "outputs": [],
   "source": [
    "file_path = 'data/cb_2018_us_state_500k/cb_2018_us_state_500k.shp'\n",
    "states_df = gpd.read_file(file_path)"
   ]
  },
  {
   "cell_type": "markdown",
   "id": "f6ff1a99-2c55-49eb-b094-4feecb032e8d",
   "metadata": {},
   "source": [
    "## Get Population Data"
   ]
  },
  {
   "cell_type": "code",
   "execution_count": 4,
   "id": "9b28d8a6-b54f-4694-977d-1ff55a931c5b",
   "metadata": {},
   "outputs": [],
   "source": [
    "state_populations = pd.read_excel('data/NST-EST2023-POP.xlsx', sheet_name=None, engine='openpyxl')"
   ]
  },
  {
   "cell_type": "code",
   "execution_count": 5,
   "id": "25d2b992-8186-490c-8d22-d0ccb8bd7eaa",
   "metadata": {},
   "outputs": [],
   "source": [
    "state_populations_df = state_populations['NST-EST2023-POP'][['table with row headers in column A and column headers in rows 3 through 4. (leading dots indicate sub-parts)','Unnamed: 5']]\n",
    "state_populations_df = state_populations_df.rename(columns={'table with row headers in column A and column headers in rows 3 through 4. (leading dots indicate sub-parts)': \"NAME\",'Unnamed: 5':'POPULATION'})\n",
    "state_populations_df['NAME'] = state_populations_df['NAME'].str[1:]"
   ]
  },
  {
   "cell_type": "code",
   "execution_count": 6,
   "id": "2280be9e-3267-435d-9b46-98f36c6ed9ed",
   "metadata": {},
   "outputs": [],
   "source": [
    "states_with_population_df = states_df.merge(state_populations_df, on='NAME', how='left')\n",
    "states_with_population_df = states_with_population_df[['STUSPS','NAME','POPULATION','geometry']]"
   ]
  },
  {
   "cell_type": "markdown",
   "id": "dcec5b28-d761-47be-9821-f064b458a607",
   "metadata": {},
   "source": [
    "## Get Winery Data"
   ]
  },
  {
   "cell_type": "code",
   "execution_count": 7,
   "id": "85401cb0-5ae5-404f-b0d5-ecdd45d85d43",
   "metadata": {},
   "outputs": [],
   "source": [
    "headers = {'User-Agent': 'Mozilla/5.0 (Macintosh; Intel Mac OS X 10_11_5) AppleWebKit/537.36 (KHTML, like Gecko) Chrome/50.0.2661.102 Safari/537.36'}\n",
    "r = requests.get('https://worldpopulationreview.com/state-rankings/homeless-population-by-state', headers=headers) "
   ]
  },
  {
   "cell_type": "code",
   "execution_count": 8,
   "id": "f3ef651e-5c75-4e27-a15c-a7385d6775c9",
   "metadata": {},
   "outputs": [],
   "source": [
    "soup = BeautifulSoup(r.text, 'html.parser')"
   ]
  },
  {
   "cell_type": "code",
   "execution_count": 14,
   "id": "ec238b2b-9084-498c-a001-e571ebbb4a77",
   "metadata": {},
   "outputs": [],
   "source": [
    "table = soup.find('tbody') "
   ]
  },
  {
   "cell_type": "code",
   "execution_count": 15,
   "id": "5c00ec13-0825-41ff-8697-4d7c8bb7eef9",
   "metadata": {},
   "outputs": [
    {
     "data": {
      "text/plain": [
       "<tbody class=\"simple-table-body relative z-10 text-sm\"><tr class=\"table-row\"><th class=\"px-3 py-1.5 text-left align-middle text-sm text-gray-900 md:px-4\"><span><a class=\"text-wpr-link\" href=\"/states/district-of-columbia\" to=\"/states/district-of-columbia\">District of Columbia</a></span></th><td class=\"px-3 py-1.5 text-sm text-gray-600 md:px-4\"><span>65.8</span></td></tr><tr class=\"table-row\"><th class=\"px-3 py-1.5 text-left align-middle text-sm text-gray-900 md:px-4\"><span><a class=\"text-wpr-link\" href=\"/states/california\" to=\"/states/california\">California</a></span></th><td class=\"px-3 py-1.5 text-sm text-gray-600 md:px-4\"><span>43.7</span></td></tr><tr class=\"table-row\"><th class=\"px-3 py-1.5 text-left align-middle text-sm text-gray-900 md:px-4\"><span><a class=\"text-wpr-link\" href=\"/states/vermont\" to=\"/states/vermont\">Vermont</a></span></th><td class=\"px-3 py-1.5 text-sm text-gray-600 md:px-4\"><span>43.1</span></td></tr><tr class=\"table-row\"><th class=\"px-3 py-1.5 text-left align-middle text-sm text-gray-900 md:px-4\"><span><a class=\"text-wpr-link\" href=\"/states/oregon\" to=\"/states/oregon\">Oregon</a></span></th><td class=\"px-3 py-1.5 text-sm text-gray-600 md:px-4\"><span>42.3</span></td></tr><tr class=\"table-row\"><th class=\"px-3 py-1.5 text-left align-middle text-sm text-gray-900 md:px-4\"><span><a class=\"text-wpr-link\" href=\"/states/hawaii\" to=\"/states/hawaii\">Hawaii</a></span></th><td class=\"px-3 py-1.5 text-sm text-gray-600 md:px-4\"><span>41.4</span></td></tr><tr class=\"table-row\"><th class=\"px-3 py-1.5 text-left align-middle text-sm text-gray-900 md:px-4\"><span><a class=\"text-wpr-link\" href=\"/states/new-york\" to=\"/states/new-york\">New York</a></span></th><td class=\"px-3 py-1.5 text-sm text-gray-600 md:px-4\"><span>37.7</span></td></tr><tr class=\"table-row\"><th class=\"px-3 py-1.5 text-left align-middle text-sm text-gray-900 md:px-4\"><span><a class=\"text-wpr-link\" href=\"/states/washington\" to=\"/states/washington\">Washington</a></span></th><td class=\"px-3 py-1.5 text-sm text-gray-600 md:px-4\"><span>32.6</span></td></tr><tr class=\"table-row\"><th class=\"px-3 py-1.5 text-left align-middle text-sm text-gray-900 md:px-4\"><span><a class=\"text-wpr-link\" href=\"/states/maine\" to=\"/states/maine\">Maine</a></span></th><td class=\"px-3 py-1.5 text-sm text-gray-600 md:px-4\"><span>32.1</span></td></tr><tr class=\"table-row\"><th class=\"px-3 py-1.5 text-left align-middle text-sm text-gray-900 md:px-4\"><span><a class=\"text-wpr-link\" href=\"/states/alaska\" to=\"/states/alaska\">Alaska</a></span></th><td class=\"px-3 py-1.5 text-sm text-gray-600 md:px-4\"><span>31.7</span></td></tr><tr class=\"table-row\"><th class=\"px-3 py-1.5 text-left align-middle text-sm text-gray-900 md:px-4\"><span><a class=\"text-wpr-link\" href=\"/states/nevada\" to=\"/states/nevada\">Nevada</a></span></th><td class=\"px-3 py-1.5 text-sm text-gray-600 md:px-4\"><span>24.2</span></td></tr></tbody>"
      ]
     },
     "execution_count": 15,
     "metadata": {},
     "output_type": "execute_result"
    }
   ],
   "source": [
    "table"
   ]
  },
  {
   "cell_type": "code",
   "execution_count": 19,
   "id": "02662fde-989e-403e-b568-b632d93318aa",
   "metadata": {},
   "outputs": [],
   "source": [
    "almost_data = soup.find(\"div\",class_ = \"overflow-y-scroll h-[250px]\")"
   ]
  },
  {
   "cell_type": "code",
   "execution_count": 61,
   "id": "ad7a68e5-7348-43b6-bfb8-2ba0a6af8861",
   "metadata": {},
   "outputs": [
    {
     "name": "stdout",
     "output_type": "stream",
     "text": [
      "California171,521\n",
      "New York74,178\n",
      "Florida25,959\n",
      "Washington25,211\n",
      "Texas24,432\n",
      "Oregon17,959\n",
      "Massachusetts15,507\n",
      "Arizona13,553\n",
      "Pennsylvania12,691\n",
      "Georgia10,689\n",
      "Ohio10,654\n",
      "Tennessee10,567\n",
      "Colorado10,397\n",
      "North Carolina9,382\n",
      "Illinois9,212\n",
      "New Jersey8,752\n",
      "Michigan8,206\n",
      "Minnesota7,917\n",
      "Nevada7,618\n",
      "Louisiana7,373\n",
      "Virginia6,529\n",
      "Missouri5,992\n",
      "Hawaii5,967\n",
      "Indiana5,449\n",
      "Maryland5,349\n",
      "Wisconsin4,775\n",
      "Maine4,411\n",
      "District of Columbia4,410\n",
      "Kentucky3,984\n",
      "Oklahoma3,754\n",
      "Alabama3,752\n",
      "South Carolina3,608\n",
      "Utah3,557\n",
      "Connecticut2,930\n",
      "Vermont2,780\n",
      "New Mexico2,560\n",
      "Arkansas2,459\n",
      "Iowa2,419\n",
      "Kansas2,397\n",
      "Delaware2,369\n",
      "Alaska2,320\n",
      "Nebraska2,246\n",
      "Idaho1,998\n",
      "New Hampshire1,605\n",
      "Montana1,585\n",
      "Rhode Island1,577\n",
      "South Dakota1,389\n",
      "West Virginia1,375\n",
      "Mississippi1,196\n",
      "Wyoming648\n",
      "North Dakota610\n"
     ]
    }
   ],
   "source": [
    "homeless_dict = {}\n",
    "for d in almost_data:\n",
    "    print(d.text)\n",
    "    for i, s in enumerate(d.text):\n",
    "        try: \n",
    "            int(s)\n",
    "        except Exception as e:\n",
    "            continue\n",
    "        state = d.text[:i]\n",
    "        state = d.text[:i]\n",
    "        homeless_int = int(d.text[i:].replace(\",\",\"\"))\n",
    "        homeless_dict[state] = homeless_int\n",
    "        break;"
   ]
  },
  {
   "cell_type": "code",
   "execution_count": 65,
   "id": "dd5e6499-c12c-4958-942b-55303e11cf0f",
   "metadata": {},
   "outputs": [],
   "source": [
    "homeless_per_state_series = pd.Series(homeless_dict, name=\"homeless\")\n",
    "homeless_per_state_df = homeless_per_state_series.reset_index()\n",
    "homeless_per_state_df = homeless_per_state_df.rename(columns={'index':'NAME'})"
   ]
  },
  {
   "cell_type": "markdown",
   "id": "472b9d83-32a3-4d89-a4ec-d0585d67603a",
   "metadata": {},
   "source": [
    "## Merge Data"
   ]
  },
  {
   "cell_type": "code",
   "execution_count": 66,
   "id": "43d4f463-2084-4d3e-bdc6-2c24a0132aeb",
   "metadata": {},
   "outputs": [],
   "source": [
    "homeless_per_state_df = states_with_population_df.merge(homeless_per_state_df, on='NAME', how='right')"
   ]
  },
  {
   "cell_type": "code",
   "execution_count": 67,
   "id": "e4ce43ee-28cb-4e95-bed4-ca7c1f75292d",
   "metadata": {},
   "outputs": [],
   "source": [
    "homeless_per_state_df['per_100k'] = homeless_per_state_df['homeless']/(homeless_per_state_df['POPULATION']/100000)\n",
    "homeless_per_state_df['per_500k'] = homeless_per_state_df['homeless']/(homeless_per_state_df['POPULATION']/500_000)\n",
    "homeless_per_state_df['per_1m'] = homeless_per_state_df['homeless']/(homeless_per_state_df['POPULATION']/1_000_000)"
   ]
  },
  {
   "cell_type": "code",
   "execution_count": 69,
   "id": "2ac51fa4-66ad-412d-8df1-d9aeff9f5e3f",
   "metadata": {},
   "outputs": [],
   "source": [
    "homeless_per_state_df.to_file('data/homeless.gpkg')"
   ]
  }
 ],
 "metadata": {
  "kernelspec": {
   "display_name": "Python 3 (ipykernel)",
   "language": "python",
   "name": "python3"
  },
  "language_info": {
   "codemirror_mode": {
    "name": "ipython",
    "version": 3
   },
   "file_extension": ".py",
   "mimetype": "text/x-python",
   "name": "python",
   "nbconvert_exporter": "python",
   "pygments_lexer": "ipython3",
   "version": "3.11.10"
  }
 },
 "nbformat": 4,
 "nbformat_minor": 5
}
