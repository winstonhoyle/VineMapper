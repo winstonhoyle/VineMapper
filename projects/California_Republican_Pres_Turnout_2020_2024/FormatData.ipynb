{
 "cells": [
  {
   "cell_type": "code",
   "execution_count": 1,
   "id": "08c830fe-5775-4ab8-9b8a-8c9c92f2f318",
   "metadata": {},
   "outputs": [],
   "source": [
    "import requests"
   ]
  },
  {
   "cell_type": "code",
   "execution_count": 2,
   "id": "9836dad5-621f-44bd-82f1-87185a0d478b",
   "metadata": {},
   "outputs": [],
   "source": [
    "import geopandas\n",
    "import pandas as pd"
   ]
  },
  {
   "cell_type": "markdown",
   "id": "a9d48ee7-8312-4998-b8d7-997392bb0f86",
   "metadata": {},
   "source": [
    "## Get 2024 Election Data"
   ]
  },
  {
   "cell_type": "code",
   "execution_count": 3,
   "id": "7c3ca053-36a4-4eb5-baa6-f1f412fc302d",
   "metadata": {},
   "outputs": [],
   "source": [
    "election_data_url = \"https://api-internal.sos.ca.gov/returns/maps/sorted/president\"\n",
    "r = requests.get(url=election_data_url)"
   ]
  },
  {
   "cell_type": "code",
   "execution_count": 4,
   "id": "eb95774d-007a-4f0d-9d69-3b6b5a17cd47",
   "metadata": {},
   "outputs": [],
   "source": [
    "election_data_2024 = r.json()"
   ]
  },
  {
   "cell_type": "code",
   "execution_count": 6,
   "id": "b9ebc454-ed97-4908-9cdb-2883c3c6d2e4",
   "metadata": {},
   "outputs": [],
   "source": [
    "rep_votes_list = []\n",
    "for county, data in election_data_2024.items():\n",
    "    total_votes = 0\n",
    "    for candidate in data[\"candidates\"]:\n",
    "        if candidate[\"Name\"] == \"Donald J. Trump\":\n",
    "            rep_votes = int(candidate[\"Votes\"].replace(\",\", \"\"))\n",
    "            total_votes += rep_votes\n",
    "        else:\n",
    "            total_votes += int(candidate[\"Votes\"].replace(\",\", \"\"))\n",
    "\n",
    "    rep_votes_list.append({\"county\": county, \"votes\": rep_votes, \"totals\": total_votes})\n",
    "\n",
    "rep_results_2024_df = pd.DataFrame(dem_votes_list)"
   ]
  },
  {
   "cell_type": "markdown",
   "id": "718e6b25-7ba2-43e9-a33d-4c7a4a668832",
   "metadata": {},
   "source": [
    "## Get 2020 Election Data"
   ]
  },
  {
   "cell_type": "code",
   "execution_count": 8,
   "id": "6977526c-c0da-4a74-a5e8-45343fe20ca6",
   "metadata": {},
   "outputs": [],
   "source": [
    "election_data_2020 = dfs = pd.read_excel(\n",
    "    \"data/pres-summary-by-county.xlsx\", sheet_name=None\n",
    ")"
   ]
  },
  {
   "cell_type": "code",
   "execution_count": 9,
   "id": "d19057db-e4d8-4351-b73d-2526d6ef25b3",
   "metadata": {},
   "outputs": [],
   "source": [
    "election_data_2020_df = election_data_2020[\"SOV Statewide Contest Details\"]\n",
    "election_data_2020_df = election_data_2020_df[\n",
    "    (election_data_2020_df[\"Unnamed: 0\"].isna() != True)\n",
    "    & (election_data_2020_df[\"Unnamed: 0\"] != \"  Percent\")\n",
    "]"
   ]
  },
  {
   "cell_type": "code",
   "execution_count": 10,
   "id": "f7463078-5b69-4e72-9115-79c7ef82b511",
   "metadata": {},
   "outputs": [],
   "source": [
    "rename_dict = {}\n",
    "for col in list(election_data_2020_df.columns):\n",
    "    if col == \"Unnamed: 0\":\n",
    "        new_col = \"county\"\n",
    "    else:\n",
    "        new_col = col.replace(\"\\n\", \"\")\n",
    "    rename_dict[col] = new_col\n",
    "\n",
    "election_data_2020_df = election_data_2020_df.rename(columns=rename_dict)\n",
    "election_data_2020_df.loc[election_data_2020_df.county == \"Butte1\", \"county\"] = \"Butte\""
   ]
  },
  {
   "cell_type": "code",
   "execution_count": 11,
   "id": "36ff497c-b591-4f81-a150-fee2ee59ad97",
   "metadata": {},
   "outputs": [
    {
     "name": "stderr",
     "output_type": "stream",
     "text": [
      "/tmp/ipykernel_11775/3198050343.py:1: FutureWarning: Downcasting object dtype arrays on .fillna, .ffill, .bfill is deprecated and will change in a future version. Call result.infer_objects(copy=False) instead. To opt-in to the future behavior, set `pd.set_option('future.no_silent_downcasting', True)`\n",
      "  election_data_2020_df = election_data_2020_df.fillna(0)\n"
     ]
    }
   ],
   "source": [
    "election_data_2020_df = election_data_2020_df.fillna(0)"
   ]
  },
  {
   "cell_type": "code",
   "execution_count": 15,
   "id": "d64b730e-64da-4543-9483-8e608fe09073",
   "metadata": {},
   "outputs": [],
   "source": [
    "counts_2020_df = election_data_2020_df.loc[\n",
    "    :, election_data_2020_df.columns != \"county\"\n",
    "].astype(\"int64\")\n",
    "counts_2020_df[\"totals\"] = counts_2020_df.sum(axis=1, numeric_only=True)\n",
    "counts_2020_df[\"county\"] = election_data_2020_df[\"county\"]\n",
    "election_data_2020_df = counts_2020_df"
   ]
  },
  {
   "cell_type": "code",
   "execution_count": 18,
   "id": "18b1d735-2381-4597-8afd-ec8b0f55b7ac",
   "metadata": {},
   "outputs": [],
   "source": [
    "election_data_2020_df = election_data_2020_df[[\"county\", \"Donald J. Trump*\", \"totals\"]]\n",
    "rep_results_2020_df = election_data_2020_df.rename(\n",
    "    columns={\"Donald J. Trump*\": \"votes\"}\n",
    ")\n",
    "rep_results_2020_df[\"county\"] = (\n",
    "    rep_results_2020_df[\"county\"].str.replace(\" \", \"-\").str.lower()\n",
    ")"
   ]
  },
  {
   "cell_type": "markdown",
   "id": "6fca9f76-d40d-4545-81b1-94ccc006a856",
   "metadata": {},
   "source": [
    "## Combined Data"
   ]
  },
  {
   "cell_type": "code",
   "execution_count": 21,
   "id": "494bf646-3ee4-4c13-b226-ead6057a8eb1",
   "metadata": {},
   "outputs": [],
   "source": [
    "rep_results_2020_df[\"percent\"] = (\n",
    "    rep_results_2020_df[\"votes\"] / rep_results_2020_df[\"totals\"]\n",
    ")\n",
    "rep_results_2024_df[\"percent\"] = (\n",
    "    rep_results_2024_df[\"votes\"] / rep_results_2024_df[\"totals\"]\n",
    ")"
   ]
  },
  {
   "cell_type": "code",
   "execution_count": 23,
   "id": "c602946b-14b1-43b4-ab57-d147455bb8f7",
   "metadata": {},
   "outputs": [],
   "source": [
    "rep_results_2020_df[\"votes\"] = rep_results_2020_df[\"votes\"].astype(int)\n",
    "rep_results_2024_df[\"votes\"] = rep_results_2024_df[\"votes\"].astype(int)\n",
    "rep_vote_total = pd.merge(\n",
    "    rep_results_2020_df,\n",
    "    rep_results_2024_df,\n",
    "    suffixes=(\"_2020\", \"_2024\"),\n",
    "    left_on=\"county\",\n",
    "    right_on=\"county\",\n",
    "    how=\"inner\",\n",
    "    validate=\"one_to_one\",\n",
    ")"
   ]
  },
  {
   "cell_type": "code",
   "execution_count": 24,
   "id": "e31fc4bb-add6-438c-b12d-242bca04ad4f",
   "metadata": {},
   "outputs": [],
   "source": [
    "rep_vote_total[\"vote_difference\"] = (\n",
    "    rep_vote_total[\"percent_2024\"] - rep_vote_total[\"percent_2020\"]\n",
    ").astype(float)"
   ]
  },
  {
   "cell_type": "markdown",
   "id": "f69b2173-d8a0-4ada-a358-9e9aa04c09b1",
   "metadata": {},
   "source": [
    "## Get Geospatial data"
   ]
  },
  {
   "cell_type": "code",
   "execution_count": 26,
   "id": "66f6c597-29d3-4be4-9e87-fb98c2152d7f",
   "metadata": {},
   "outputs": [],
   "source": [
    "geojson_data = \"data/California_County_Boundaries_6550485670014028237.geojson\"\n",
    "california_counties = geopandas.read_file(geojson_data)"
   ]
  },
  {
   "cell_type": "code",
   "execution_count": 27,
   "id": "b025a01f-c72b-4547-a503-c7435aa8e7f2",
   "metadata": {},
   "outputs": [],
   "source": [
    "california_counties_minus_islands = california_counties[\n",
    "    california_counties[\"ISLAND\"] != \"Channel Islands\"\n",
    "]"
   ]
  },
  {
   "cell_type": "code",
   "execution_count": 28,
   "id": "6fca8689-eba6-45a8-b28e-72e5b2373a27",
   "metadata": {},
   "outputs": [
    {
     "name": "stderr",
     "output_type": "stream",
     "text": [
      "/mnt/c/Users/Winston/Documents/GitHub/VineMapper/California_Republican_Pres_Turnout_2020_2024/.venv/lib/python3.11/site-packages/geopandas/geodataframe.py:1819: SettingWithCopyWarning: \n",
      "A value is trying to be set on a copy of a slice from a DataFrame.\n",
      "Try using .loc[row_indexer,col_indexer] = value instead\n",
      "\n",
      "See the caveats in the documentation: https://pandas.pydata.org/pandas-docs/stable/user_guide/indexing.html#returning-a-view-versus-a-copy\n",
      "  super().__setitem__(key, value)\n"
     ]
    }
   ],
   "source": [
    "california_counties_minus_islands[\"COUNTY_NAME\"] = (\n",
    "    california_counties_minus_islands[\"COUNTY_NAME\"].str.replace(\" \", \"-\").str.lower()\n",
    ")"
   ]
  },
  {
   "cell_type": "code",
   "execution_count": 29,
   "id": "2f7cfa20-c49a-4509-be6d-91c75e0db6a4",
   "metadata": {},
   "outputs": [],
   "source": [
    "california_counties_minus_islands = california_counties_minus_islands.rename(\n",
    "    columns={\"COUNTY_NAME\": \"county\"}\n",
    ")"
   ]
  },
  {
   "cell_type": "markdown",
   "id": "f7e78895",
   "metadata": {},
   "source": [
    "## Merge data into Geojson for map making"
   ]
  },
  {
   "cell_type": "code",
   "execution_count": 32,
   "id": "b698b89f-9a18-4895-84ae-efc6cabe016f",
   "metadata": {},
   "outputs": [],
   "source": [
    "california_counties_minus_islands = california_counties_minus_islands.merge(\n",
    "    rep_vote_total, on=\"county\", how=\"left\"\n",
    ")[[\"county\", \"geometry\", \"vote_difference\"]]"
   ]
  },
  {
   "cell_type": "code",
   "execution_count": 33,
   "id": "c0b28dda-9445-4266-89c5-6c624df8e706",
   "metadata": {},
   "outputs": [],
   "source": [
    "california_counties_minus_islands.to_file(\"data/rep_voter_difference_2020_2024.gpkg\")"
   ]
  },
  {
   "cell_type": "code",
   "execution_count": null,
   "id": "a42a5303-ce16-4b51-a030-7709bee17418",
   "metadata": {},
   "outputs": [],
   "source": []
  }
 ],
 "metadata": {
  "kernelspec": {
   "display_name": "Python 3 (ipykernel)",
   "language": "python",
   "name": "python3"
  },
  "language_info": {
   "codemirror_mode": {
    "name": "ipython",
    "version": 3
   },
   "file_extension": ".py",
   "mimetype": "text/x-python",
   "name": "python",
   "nbconvert_exporter": "python",
   "pygments_lexer": "ipython3",
   "version": "3.11.10"
  }
 },
 "nbformat": 4,
 "nbformat_minor": 5
}
