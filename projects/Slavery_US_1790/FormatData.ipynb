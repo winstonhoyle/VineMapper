{
 "cells": [
  {
   "cell_type": "code",
   "execution_count": 32,
   "id": "c8bb4b81-4db2-4568-82a5-6b3c7ad32d19",
   "metadata": {},
   "outputs": [],
   "source": [
    "import json"
   ]
  },
  {
   "cell_type": "code",
   "execution_count": 33,
   "id": "8eeb787d-784f-447e-b2af-472846e4cc86",
   "metadata": {},
   "outputs": [],
   "source": [
    "import geopandas as gpd\n",
    "import pandas as pd"
   ]
  },
  {
   "cell_type": "code",
   "execution_count": 34,
   "id": "d4616cab-1e48-44c4-9cb0-f66fe1a83093",
   "metadata": {},
   "outputs": [],
   "source": [
    "import topojson as tp"
   ]
  },
  {
   "cell_type": "markdown",
   "id": "a8da770d-9c54-497f-89ae-21ed05c86512",
   "metadata": {},
   "source": [
    "## Get Census Data"
   ]
  },
  {
   "cell_type": "code",
   "execution_count": 35,
   "id": "f9212e2d-19fe-4f0b-b5bd-cc98ff32e006",
   "metadata": {},
   "outputs": [],
   "source": [
    "census_df = pd.read_csv(\"data/slavery-map/census.csv\")"
   ]
  },
  {
   "cell_type": "markdown",
   "id": "dc2139fb-d1f9-46de-9664-2ce74c49fbf7",
   "metadata": {},
   "source": [
    "## Open GIS Data"
   ]
  },
  {
   "cell_type": "code",
   "execution_count": 36,
   "id": "69a62553-1d85-40db-9125-d348116e07b6",
   "metadata": {},
   "outputs": [],
   "source": [
    "with open(\"data/slavery-map/us.json\", \"r\") as f:\n",
    "    us_geo_dict = json.load(f)"
   ]
  },
  {
   "cell_type": "code",
   "execution_count": 37,
   "id": "d760aa61-30e2-41ad-9691-b4a68776cbdf",
   "metadata": {},
   "outputs": [],
   "source": [
    "topo = tp.Topology(us_geo_dict, object_name=\"county_1790\")\n",
    "geojson = json.loads(topo.to_geojson())"
   ]
  },
  {
   "cell_type": "code",
   "execution_count": 39,
   "id": "a6965c17-185e-43fa-bfbf-2607d1773175",
   "metadata": {},
   "outputs": [],
   "source": [
    "for i, feature in enumerate(geojson[\"features\"]):\n",
    "    geojson[\"features\"][i][\"properties\"][\"id\"] = feature[\"id\"]"
   ]
  },
  {
   "cell_type": "code",
   "execution_count": 40,
   "id": "d2e0585f-4c75-4a82-b4bd-3082f4e6182c",
   "metadata": {},
   "outputs": [],
   "source": [
    "counties_gdf = gpd.GeoDataFrame.from_features(geojson)"
   ]
  },
  {
   "cell_type": "markdown",
   "id": "52c6ac20-9357-4564-994b-bfa353f0f109",
   "metadata": {},
   "source": [
    "## Join the Data"
   ]
  },
  {
   "cell_type": "code",
   "execution_count": 57,
   "id": "f89bf9af-28ab-46e9-86af-37fa6dbc37ef",
   "metadata": {},
   "outputs": [],
   "source": [
    "counties_gdf = counties_gdf.rename(columns={\"id\": \"GISJOIN\"})"
   ]
  },
  {
   "cell_type": "code",
   "execution_count": 58,
   "id": "1d54bf90-086f-497f-854c-8052a905f8ab",
   "metadata": {},
   "outputs": [
    {
     "data": {
      "text/html": [
       "<div>\n",
       "<style scoped>\n",
       "    .dataframe tbody tr th:only-of-type {\n",
       "        vertical-align: middle;\n",
       "    }\n",
       "\n",
       "    .dataframe tbody tr th {\n",
       "        vertical-align: top;\n",
       "    }\n",
       "\n",
       "    .dataframe thead th {\n",
       "        text-align: right;\n",
       "    }\n",
       "</style>\n",
       "<table border=\"1\" class=\"dataframe\">\n",
       "  <thead>\n",
       "    <tr style=\"text-align: right;\">\n",
       "      <th></th>\n",
       "      <th>geometry</th>\n",
       "      <th>c</th>\n",
       "      <th>s</th>\n",
       "      <th>GISJOIN</th>\n",
       "    </tr>\n",
       "  </thead>\n",
       "  <tbody>\n",
       "    <tr>\n",
       "      <th>0</th>\n",
       "      <td>MULTIPOLYGON (((700.031 240.983, 700.999 240.0...</td>\n",
       "      <td>Elizabeth City</td>\n",
       "      <td>Virginia</td>\n",
       "      <td>G5100550</td>\n",
       "    </tr>\n",
       "    <tr>\n",
       "      <th>1</th>\n",
       "      <td>MULTIPOLYGON (((712.86 197.901, 711.076 199.59...</td>\n",
       "      <td>Cumberland</td>\n",
       "      <td>New Jersey</td>\n",
       "      <td>G3400110</td>\n",
       "    </tr>\n",
       "    <tr>\n",
       "      <th>2</th>\n",
       "      <td>POLYGON ((590.082 241.371, 590.234 242.202, 59...</td>\n",
       "      <td>Fayette (old)</td>\n",
       "      <td>Virginia</td>\n",
       "      <td>G5100617</td>\n",
       "    </tr>\n",
       "    <tr>\n",
       "      <th>3</th>\n",
       "      <td>POLYGON ((633.929 192.159, 634.167 193.519, 63...</td>\n",
       "      <td>Ohio</td>\n",
       "      <td>Virginia</td>\n",
       "      <td>G5101355</td>\n",
       "    </tr>\n",
       "    <tr>\n",
       "      <th>4</th>\n",
       "      <td>POLYGON ((714.854 160.784, 714.854 160.839, 71...</td>\n",
       "      <td>Orange</td>\n",
       "      <td>New York</td>\n",
       "      <td>G3600710</td>\n",
       "    </tr>\n",
       "    <tr>\n",
       "      <th>...</th>\n",
       "      <td>...</td>\n",
       "      <td>...</td>\n",
       "      <td>...</td>\n",
       "      <td>...</td>\n",
       "    </tr>\n",
       "    <tr>\n",
       "      <th>287</th>\n",
       "      <td>POLYGON ((630.628 270.437, 631.263 271.783, 63...</td>\n",
       "      <td>Burke</td>\n",
       "      <td>North Carolina</td>\n",
       "      <td>G3700230</td>\n",
       "    </tr>\n",
       "    <tr>\n",
       "      <th>288</th>\n",
       "      <td>POLYGON ((721.348 124.307, 720.972 124.275, 72...</td>\n",
       "      <td>Bennington</td>\n",
       "      <td>Vermont</td>\n",
       "      <td>G5000030</td>\n",
       "    </tr>\n",
       "    <tr>\n",
       "      <th>289</th>\n",
       "      <td>MULTIPOLYGON (((702.306 191.05, 701.765 191.62...</td>\n",
       "      <td>New Castle</td>\n",
       "      <td>Delaware</td>\n",
       "      <td>G1000030</td>\n",
       "    </tr>\n",
       "    <tr>\n",
       "      <th>290</th>\n",
       "      <td>POLYGON ((679.661 268.999, 679.957 269.168, 67...</td>\n",
       "      <td>Johnston</td>\n",
       "      <td>North Carolina</td>\n",
       "      <td>G3701010</td>\n",
       "    </tr>\n",
       "    <tr>\n",
       "      <th>291</th>\n",
       "      <td>MULTIPOLYGON (((693.147 226.163, 694.296 226.5...</td>\n",
       "      <td>Richmond</td>\n",
       "      <td>Virginia</td>\n",
       "      <td>G5101590</td>\n",
       "    </tr>\n",
       "  </tbody>\n",
       "</table>\n",
       "<p>292 rows × 4 columns</p>\n",
       "</div>"
      ],
      "text/plain": [
       "                                              geometry               c  \\\n",
       "0    MULTIPOLYGON (((700.031 240.983, 700.999 240.0...  Elizabeth City   \n",
       "1    MULTIPOLYGON (((712.86 197.901, 711.076 199.59...      Cumberland   \n",
       "2    POLYGON ((590.082 241.371, 590.234 242.202, 59...   Fayette (old)   \n",
       "3    POLYGON ((633.929 192.159, 634.167 193.519, 63...            Ohio   \n",
       "4    POLYGON ((714.854 160.784, 714.854 160.839, 71...          Orange   \n",
       "..                                                 ...             ...   \n",
       "287  POLYGON ((630.628 270.437, 631.263 271.783, 63...           Burke   \n",
       "288  POLYGON ((721.348 124.307, 720.972 124.275, 72...      Bennington   \n",
       "289  MULTIPOLYGON (((702.306 191.05, 701.765 191.62...      New Castle   \n",
       "290  POLYGON ((679.661 268.999, 679.957 269.168, 67...        Johnston   \n",
       "291  MULTIPOLYGON (((693.147 226.163, 694.296 226.5...        Richmond   \n",
       "\n",
       "                  s   GISJOIN  \n",
       "0          Virginia  G5100550  \n",
       "1        New Jersey  G3400110  \n",
       "2          Virginia  G5100617  \n",
       "3          Virginia  G5101355  \n",
       "4          New York  G3600710  \n",
       "..              ...       ...  \n",
       "287  North Carolina  G3700230  \n",
       "288         Vermont  G5000030  \n",
       "289        Delaware  G1000030  \n",
       "290  North Carolina  G3701010  \n",
       "291        Virginia  G5101590  \n",
       "\n",
       "[292 rows x 4 columns]"
      ]
     },
     "execution_count": 58,
     "metadata": {},
     "output_type": "execute_result"
    }
   ],
   "source": [
    "counties_gdf"
   ]
  },
  {
   "cell_type": "code",
   "execution_count": 65,
   "id": "cc619856-1a11-4c2f-851b-029fc2c78cdc",
   "metadata": {},
   "outputs": [],
   "source": [
    "census_df = census_df.iloc[:290]"
   ]
  },
  {
   "cell_type": "code",
   "execution_count": 66,
   "id": "7a93e64e-d8b5-4074-bae1-2c98133cfa58",
   "metadata": {},
   "outputs": [],
   "source": [
    "counties_with_slavery_info = counties_gdf.merge(census_df, on=\"GISJOIN\", how=\"right\")"
   ]
  },
  {
   "cell_type": "code",
   "execution_count": 69,
   "id": "3f0de7f4-70c7-421b-9cf6-3fdc04075248",
   "metadata": {},
   "outputs": [],
   "source": [
    "counties_with_slavery_info = counties_with_slavery_info.set_crs(5070)"
   ]
  },
  {
   "cell_type": "code",
   "execution_count": 70,
   "id": "240aa50b-e13f-45f2-9113-a1206e5a6052",
   "metadata": {},
   "outputs": [],
   "source": [
    "counties_with_slavery_info.to_file(\"data/slavery.gpkg\")"
   ]
  },
  {
   "cell_type": "code",
   "execution_count": null,
   "id": "a08f92d8-45f3-4041-a8d3-73fa86aedc74",
   "metadata": {},
   "outputs": [],
   "source": []
  }
 ],
 "metadata": {
  "kernelspec": {
   "display_name": "Python 3 (ipykernel)",
   "language": "python",
   "name": "python3"
  },
  "language_info": {
   "codemirror_mode": {
    "name": "ipython",
    "version": 3
   },
   "file_extension": ".py",
   "mimetype": "text/x-python",
   "name": "python",
   "nbconvert_exporter": "python",
   "pygments_lexer": "ipython3",
   "version": "3.11.10"
  }
 },
 "nbformat": 4,
 "nbformat_minor": 5
}
