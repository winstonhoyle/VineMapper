{
 "cells": [
  {
   "cell_type": "code",
   "execution_count": 1,
   "id": "822826d8-4ca8-4c5b-a4fc-ff1dbd4862b9",
   "metadata": {},
   "outputs": [],
   "source": [
    "import geopandas as gpd\n",
    "import pandas as pd\n",
    "import wikipedia as wp"
   ]
  },
  {
   "cell_type": "markdown",
   "id": "e737e8d3-cf41-4d73-baa4-635c9a4488de",
   "metadata": {},
   "source": [
    "## Open Congress GIS Data"
   ]
  },
  {
   "cell_type": "code",
   "execution_count": 2,
   "id": "29320877-09f1-4a82-91dd-f327faf5a4fc",
   "metadata": {},
   "outputs": [],
   "source": [
    "file_path = \"data/cb_2018_us_cd116_5m/cb_2018_us_cd116_5m.shp\"\n",
    "congressional_gdf = gpd.read_file(file_path)"
   ]
  },
  {
   "cell_type": "markdown",
   "id": "4b1252e1-bb7a-4db7-aab7-11110f80a8fb",
   "metadata": {},
   "source": [
    "## Open Up State Data"
   ]
  },
  {
   "cell_type": "code",
   "execution_count": 3,
   "id": "2c2355d5-f675-4438-8459-1b721555ce5c",
   "metadata": {},
   "outputs": [],
   "source": [
    "file_path = \"data/cb_2018_us_state_500k/cb_2018_us_state_500k.shp\"\n",
    "states_df = gpd.read_file(file_path)"
   ]
  },
  {
   "cell_type": "code",
   "execution_count": 4,
   "id": "1bb288e5-cda8-47a9-9d10-bb3d7f382e96",
   "metadata": {},
   "outputs": [],
   "source": [
    "congressional_seats_per_state_series = (\n",
    "    states_df.merge(congressional_gdf, how=\"right\", on=\"STATEFP\")\n",
    "    .groupby([\"STATEFP\"])\n",
    "    .size()\n",
    ")\n",
    "congressional_seats_per_state_df = pd.DataFrame(\n",
    "    {\n",
    "        \"STATEFP\": congressional_seats_per_state_series.index,\n",
    "        \"SEATS\": congressional_seats_per_state_series.values,\n",
    "    }\n",
    ")"
   ]
  },
  {
   "cell_type": "markdown",
   "id": "a9935754-4d22-4ee7-8f25-84feb7f7ac10",
   "metadata": {},
   "source": [
    "## Get Progressive Data"
   ]
  },
  {
   "cell_type": "code",
   "execution_count": 5,
   "id": "ba1d23eb-d7f6-4f1e-9f85-ca20afbcd3a3",
   "metadata": {},
   "outputs": [],
   "source": [
    "html = wp.page(\"Congressional_Progressive_Caucus\").html().encode(\"UTF-8\")"
   ]
  },
  {
   "cell_type": "code",
   "execution_count": 6,
   "id": "731b21da-f694-46fe-bb21-73fa8ba3217c",
   "metadata": {},
   "outputs": [],
   "source": [
    "progressives_df = pd.read_html(html)[4]"
   ]
  },
  {
   "cell_type": "code",
   "execution_count": 7,
   "id": "b72f5f0e-de76-4c6a-8593-95a28c1082ce",
   "metadata": {},
   "outputs": [],
   "source": [
    "progressives_df[[\"STUSPS\", \"CD116FP\"]] = progressives_df[\"District\"].str.split(\n",
    "    \"-\", n=1, expand=True\n",
    ")"
   ]
  },
  {
   "cell_type": "code",
   "execution_count": 8,
   "id": "6fb97e42-3933-4bcf-978a-b9dd0dd71d77",
   "metadata": {},
   "outputs": [],
   "source": [
    "progressives_df[\"CD116FP\"] = progressives_df[\"CD116FP\"].str.zfill(2)"
   ]
  },
  {
   "cell_type": "code",
   "execution_count": 9,
   "id": "e7f43490-0c62-4ec7-abd4-283d2b60a1b3",
   "metadata": {},
   "outputs": [],
   "source": [
    "progressives_df = progressives_df[[\"State\", \"CD116FP\", \"STUSPS\"]]"
   ]
  },
  {
   "cell_type": "code",
   "execution_count": 10,
   "id": "8958db64-b640-4c7e-99fb-632cd4d0963b",
   "metadata": {},
   "outputs": [],
   "source": [
    "progressives_df_with_geoid = progressives_df.merge(states_df, on=\"STUSPS\", how=\"left\")\n",
    "progressives_df_with_geoid = progressives_df_with_geoid[\n",
    "    [\"State\", \"CD116FP\", \"STUSPS\", \"GEOID\"]\n",
    "]"
   ]
  },
  {
   "cell_type": "code",
   "execution_count": 11,
   "id": "e81cbdc2-e5b1-4adc-bc05-bf80942ca894",
   "metadata": {},
   "outputs": [],
   "source": [
    "progressives_df[\"GEOID\"] = progressives_df_with_geoid[\"GEOID\"]"
   ]
  },
  {
   "cell_type": "code",
   "execution_count": 12,
   "id": "e43ed761-c6ed-40b5-8a05-70f3b5803a0a",
   "metadata": {},
   "outputs": [],
   "source": [
    "progressives_df[\"CD116FP\"] = progressives_df[\"CD116FP\"].replace(\"AL\", \"00\")"
   ]
  },
  {
   "cell_type": "code",
   "execution_count": 13,
   "id": "12ebc04c-2952-4751-8d58-23a6a6d3d29e",
   "metadata": {},
   "outputs": [],
   "source": [
    "progressives_df[\"GEOID\"] = progressives_df[\"GEOID\"] + progressives_df[\"CD116FP\"]"
   ]
  },
  {
   "cell_type": "markdown",
   "id": "dd945ab2-cee7-4e20-8208-c8a6528b5ae7",
   "metadata": {},
   "source": [
    "## Merge With Congressional"
   ]
  },
  {
   "cell_type": "code",
   "execution_count": 14,
   "id": "6a14ccfe-45e5-415a-87ce-9a3a41a5bf9a",
   "metadata": {},
   "outputs": [],
   "source": [
    "progressives_gdf = congressional_gdf.merge(progressives_df, on=\"GEOID\", how=\"right\")"
   ]
  },
  {
   "cell_type": "code",
   "execution_count": 15,
   "id": "0f435c55-c285-460d-b0b2-548004c73310",
   "metadata": {},
   "outputs": [],
   "source": [
    "progressives_gdf = progressives_gdf.to_crs(9311)\n",
    "progressives_gdf.to_file(\"data/progressive_house_districts.gpkg\")"
   ]
  },
  {
   "cell_type": "markdown",
   "id": "6d87d962-71ac-476e-8759-1b4aa7d929ba",
   "metadata": {},
   "source": [
    "## Get Counts"
   ]
  },
  {
   "cell_type": "code",
   "execution_count": 63,
   "id": "7350691c-f410-4b33-a65c-0e3ecef08b81",
   "metadata": {},
   "outputs": [],
   "source": [
    "progressive_counts_series = (\n",
    "    congressional_gdf.merge(progressives_df, on=\"GEOID\", how=\"right\")[[\"STUSPS\"]]\n",
    "    .groupby([\"STUSPS\"])\n",
    "    .size()\n",
    ")\n",
    "progressive_counts_df = pd.DataFrame(\n",
    "    {\n",
    "        \"STUSPS\": progressive_counts_series.index,\n",
    "        \"SEATS\": progressive_counts_series.values,\n",
    "    }\n",
    ")"
   ]
  },
  {
   "cell_type": "code",
   "execution_count": 64,
   "id": "775fa2c0-907d-4d1a-93fb-fad66d004eb7",
   "metadata": {},
   "outputs": [],
   "source": [
    "congressional_state_counts_series = (\n",
    "    congressional_gdf.merge(states_df, on=\"STATEFP\", how=\"left\")\n",
    "    .groupby([\"STUSPS\"])\n",
    "    .size()\n",
    ")\n",
    "congressional_state_counts_df = pd.DataFrame(\n",
    "    {\n",
    "        \"STUSPS\": congressional_state_counts_series.index,\n",
    "        \"SEATS\": congressional_state_counts_series.values,\n",
    "    }\n",
    ")"
   ]
  },
  {
   "cell_type": "code",
   "execution_count": 65,
   "id": "45e46d85-1873-4166-b399-22181f33f98b",
   "metadata": {},
   "outputs": [],
   "source": [
    "comparison_df = congressional_state_counts_df.merge(\n",
    "    progressive_counts_df, on=\"STUSPS\", how=\"left\"\n",
    ")"
   ]
  },
  {
   "cell_type": "code",
   "execution_count": 66,
   "id": "a3c8550f-e5a5-43ba-8632-ad33e07fe39f",
   "metadata": {},
   "outputs": [],
   "source": [
    "comparison_df = comparison_df.rename(\n",
    "    columns={\"SEATS_x\": \"total\", \"SEATS_y\": \"progressives\"}\n",
    ")\n",
    "comparison_df[\"progressives\"] = comparison_df[\"progressives\"].fillna(0).astype(int)"
   ]
  },
  {
   "cell_type": "code",
   "execution_count": 67,
   "id": "7eb37f69-b564-4b5d-9f65-1027c37fe510",
   "metadata": {},
   "outputs": [],
   "source": [
    "comparison_df[\"percent_progressive\"] = round(\n",
    "    comparison_df[\"progressives\"] / comparison_df[\"total\"], 2\n",
    ")"
   ]
  },
  {
   "cell_type": "markdown",
   "id": "2b671074-3149-48f8-b85e-6f1a3c063ba5",
   "metadata": {},
   "source": [
    "## Merge With States Shapefile and Export"
   ]
  },
  {
   "cell_type": "code",
   "execution_count": 74,
   "id": "b5a1e3df-7e08-4cad-835e-a8859ce724d6",
   "metadata": {},
   "outputs": [],
   "source": [
    "progressives_per_state_gdf = states_df.merge(comparison_df, on=\"STUSPS\", how=\"left\")[\n",
    "    [\"total\", \"progressives\", \"percent_progressive\", \"geometry\"]\n",
    "]"
   ]
  },
  {
   "cell_type": "code",
   "execution_count": 75,
   "id": "c076d690-6122-4a3e-828f-fe97925151f1",
   "metadata": {},
   "outputs": [],
   "source": [
    "progressives_per_state_gdf = progressives_per_state_gdf.to_crs(9311)\n",
    "progressives_per_state_gdf.to_file(\"data/progressives_per_state.gpkg\")"
   ]
  },
  {
   "cell_type": "code",
   "execution_count": null,
   "id": "d79bea94-d7b3-4f65-b165-0a3760b750de",
   "metadata": {},
   "outputs": [],
   "source": []
  }
 ],
 "metadata": {
  "kernelspec": {
   "display_name": "Python 3 (ipykernel)",
   "language": "python",
   "name": "python3"
  },
  "language_info": {
   "codemirror_mode": {
    "name": "ipython",
    "version": 3
   },
   "file_extension": ".py",
   "mimetype": "text/x-python",
   "name": "python",
   "nbconvert_exporter": "python",
   "pygments_lexer": "ipython3",
   "version": "3.11.11"
  }
 },
 "nbformat": 4,
 "nbformat_minor": 5
}
