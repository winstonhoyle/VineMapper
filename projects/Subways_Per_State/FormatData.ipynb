{
 "cells": [
  {
   "cell_type": "code",
   "execution_count": 30,
   "id": "8eca3131-85dc-48b3-b640-f384104e123c",
   "metadata": {},
   "outputs": [],
   "source": [
    "import re"
   ]
  },
  {
   "cell_type": "code",
   "execution_count": 2,
   "id": "bc436e38-234d-44fd-b67b-d1f2974606d3",
   "metadata": {},
   "outputs": [],
   "source": [
    "from bs4 import BeautifulSoup\n",
    "import cloudscraper\n",
    "import geopandas as gpd\n",
    "import pandas as pd"
   ]
  },
  {
   "cell_type": "markdown",
   "id": "44a3df26-78d3-479c-99a2-c0e1ba91352e",
   "metadata": {},
   "source": [
    "## Get State Data"
   ]
  },
  {
   "cell_type": "code",
   "execution_count": 20,
   "id": "615eeabf-033b-425a-a81f-d7b4dd9e3a3e",
   "metadata": {},
   "outputs": [],
   "source": [
    "file_path = \"data/cb_2018_us_state_500k/cb_2018_us_state_500k.shp\"\n",
    "states_df = gpd.read_file(file_path)"
   ]
  },
  {
   "cell_type": "code",
   "execution_count": 21,
   "id": "502c6bfe-0912-4d37-95b0-47e7a14b468f",
   "metadata": {},
   "outputs": [],
   "source": [
    "states_df = states_df[[\"STUSPS\", \"NAME\", \"geometry\"]]"
   ]
  },
  {
   "cell_type": "markdown",
   "id": "4257620c-13d7-4071-bae2-a5a2aeae5ba7",
   "metadata": {},
   "source": [
    "## Get Population data"
   ]
  },
  {
   "cell_type": "code",
   "execution_count": 22,
   "id": "6c0e7a1d-5a9a-4c10-a5d4-28dc681a8a27",
   "metadata": {},
   "outputs": [],
   "source": [
    "state_populations = pd.read_excel(\n",
    "    \"data/NST-EST2023-POP.xlsx\", sheet_name=None, engine=\"openpyxl\"\n",
    ")"
   ]
  },
  {
   "cell_type": "code",
   "execution_count": 23,
   "id": "2614c2ab-96ec-4304-a287-6fd013fedbbb",
   "metadata": {},
   "outputs": [],
   "source": [
    "state_populations_df = state_populations[\"NST-EST2023-POP\"][\n",
    "    [\n",
    "        \"table with row headers in column A and column headers in rows 3 through 4. (leading dots indicate sub-parts)\",\n",
    "        \"Unnamed: 5\",\n",
    "    ]\n",
    "]\n",
    "state_populations_df = state_populations_df.rename(\n",
    "    columns={\n",
    "        \"table with row headers in column A and column headers in rows 3 through 4. (leading dots indicate sub-parts)\": \"NAME\",\n",
    "        \"Unnamed: 5\": \"POPULATION\",\n",
    "    }\n",
    ")\n",
    "state_populations_df[\"NAME\"] = state_populations_df[\"NAME\"].str[1:]"
   ]
  },
  {
   "cell_type": "code",
   "execution_count": 24,
   "id": "2a1a8b6e-a0bf-486b-b62e-46a23ca718e2",
   "metadata": {},
   "outputs": [],
   "source": [
    "states_with_population_df = states_df.merge(state_populations_df, on=\"NAME\", how=\"left\")\n",
    "states_with_population_df = states_with_population_df[\n",
    "    [\"STUSPS\", \"NAME\", \"POPULATION\", \"geometry\"]\n",
    "]"
   ]
  },
  {
   "cell_type": "markdown",
   "id": "6d2f1ce9-a36c-4292-99a0-ad42032c5ad4",
   "metadata": {},
   "source": [
    "## Get Subway Data"
   ]
  },
  {
   "cell_type": "code",
   "execution_count": 39,
   "id": "9faa75ce-1dcd-44bc-84f2-6eb1011f9727",
   "metadata": {},
   "outputs": [],
   "source": [
    "scraper = cloudscraper.create_scraper()"
   ]
  },
  {
   "cell_type": "code",
   "execution_count": 40,
   "id": "57180847-49ee-46cc-9612-bfebcd53bed2",
   "metadata": {},
   "outputs": [],
   "source": [
    "url = \"https://restaurants.subway.com/united-states\""
   ]
  },
  {
   "cell_type": "code",
   "execution_count": 41,
   "id": "d1c48f22-1cf2-4d1e-9b5b-d49f759493f6",
   "metadata": {},
   "outputs": [],
   "source": [
    "r = scraper.get(url)"
   ]
  },
  {
   "cell_type": "code",
   "execution_count": 42,
   "id": "5e25560d-d8f7-4ff7-a72d-3577347535fc",
   "metadata": {},
   "outputs": [],
   "source": [
    "soup = BeautifulSoup(r.text, \"html.parser\")\n",
    "lis = soup.find_all(\"li\", {\"class\": \"Directory-listItem\"})"
   ]
  },
  {
   "cell_type": "code",
   "execution_count": 44,
   "id": "bf141e51-6947-492b-b53c-8ed683353d9f",
   "metadata": {},
   "outputs": [
    {
     "name": "stdout",
     "output_type": "stream",
     "text": [
      "<li class=\"Directory-listItem js-unspecified-item is-hidden\"><a class=\"Directory-listLink js-unspecified-link\" data-count=\"\" data-ya-track=\"todirectory\" href=\"united-states/additional-locations\"><span class=\"Directory-listLinkText\">Additional Locations</span></a></li>\n"
     ]
    }
   ],
   "source": [
    "count_dict = {}\n",
    "for li in lis:\n",
    "    a = li.find(\"a\")\n",
    "    data_count = numbers = re.findall(r\"\\d+\", a.attrs[\"data-count\"])\n",
    "    name = a.text\n",
    "    try:\n",
    "        count_dict[name] = int(data_count[0])\n",
    "    except IndexError:\n",
    "        print(li)"
   ]
  },
  {
   "cell_type": "code",
   "execution_count": 48,
   "id": "88598cc1-174e-45cf-b5d6-5f12b1727f5b",
   "metadata": {},
   "outputs": [],
   "source": [
    "count_df = pd.DataFrame(count_dict.items(), columns=[\"NAME\", \"COUNT\"])"
   ]
  },
  {
   "cell_type": "markdown",
   "id": "94cb32a2-faf0-40fa-8616-e8f2275eca72",
   "metadata": {},
   "source": [
    "## Combine With States"
   ]
  },
  {
   "cell_type": "code",
   "execution_count": 60,
   "id": "603524cb-75b6-48a7-86aa-b979955ef7a2",
   "metadata": {},
   "outputs": [],
   "source": [
    "states_with_population_df = states_with_population_df.replace(\n",
    "    \"District of Columbia\", \"Washington DC\"\n",
    ")"
   ]
  },
  {
   "cell_type": "code",
   "execution_count": 81,
   "id": "c062806b-5f76-4d7e-a226-31383a266b6a",
   "metadata": {},
   "outputs": [],
   "source": [
    "subways_by_states_gdf = states_with_population_df.merge(\n",
    "    count_df, on=\"NAME\", how=\"inner\"\n",
    ")"
   ]
  },
  {
   "cell_type": "code",
   "execution_count": 82,
   "id": "8e8b581c-4e0c-40b8-81a9-4ea014470b40",
   "metadata": {},
   "outputs": [],
   "source": [
    "subways_by_states_gdf[\"per_1000\"] = subways_by_states_gdf[\"COUNT\"] / (\n",
    "    subways_by_states_gdf[\"POPULATION\"] / 1000\n",
    ")\n",
    "subways_by_states_gdf[\"per_10k\"] = subways_by_states_gdf[\"COUNT\"] / (\n",
    "    subways_by_states_gdf[\"POPULATION\"] / 10_000\n",
    ")\n",
    "subways_by_states_gdf[\"per_100k\"] = (\n",
    "    (subways_by_states_gdf[\"COUNT\"] / (subways_by_states_gdf[\"POPULATION\"] / 100000))\n",
    "    .round(decimals=0)\n",
    "    .astype(int)\n",
    ")\n",
    "subways_by_states_gdf[\"per_500k\"] = subways_by_states_gdf[\"COUNT\"] / (\n",
    "    subways_by_states_gdf[\"POPULATION\"] / 500_000\n",
    ")\n",
    "subways_by_states_gdf[\"per_1m\"] = (\n",
    "    (subways_by_states_gdf[\"COUNT\"] / (subways_by_states_gdf[\"POPULATION\"] / 1_000_000))\n",
    "    .round(decimals=0)\n",
    "    .astype(int)\n",
    ")"
   ]
  },
  {
   "cell_type": "code",
   "execution_count": 83,
   "id": "237a0e6a-ccc2-4f3b-baad-d36ce4ecc481",
   "metadata": {},
   "outputs": [],
   "source": [
    "subways_by_states_gdf = subways_by_states_gdf.dropna()"
   ]
  },
  {
   "cell_type": "code",
   "execution_count": 84,
   "id": "944acfaa-313b-4a9f-aecc-53fe95e188be",
   "metadata": {},
   "outputs": [],
   "source": [
    "subways_by_states_gdf = subways_by_states_gdf.to_crs(9311)\n",
    "subways_by_states_gdf.to_file(f\"data/stores_by_states.gpkg\")"
   ]
  },
  {
   "cell_type": "code",
   "execution_count": null,
   "id": "4857fb82-2869-4020-8a57-c1983c9055b6",
   "metadata": {},
   "outputs": [],
   "source": []
  }
 ],
 "metadata": {
  "kernelspec": {
   "display_name": "Python 3 (ipykernel)",
   "language": "python",
   "name": "python3"
  },
  "language_info": {
   "codemirror_mode": {
    "name": "ipython",
    "version": 3
   },
   "file_extension": ".py",
   "mimetype": "text/x-python",
   "name": "python",
   "nbconvert_exporter": "python",
   "pygments_lexer": "ipython3",
   "version": "3.11.11"
  }
 },
 "nbformat": 4,
 "nbformat_minor": 5
}
