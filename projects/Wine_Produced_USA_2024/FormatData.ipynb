{
 "cells": [
  {
   "cell_type": "code",
   "execution_count": 54,
   "id": "9673f4c4-1ab2-4842-9e22-414605404130",
   "metadata": {},
   "outputs": [],
   "source": [
    "import requests"
   ]
  },
  {
   "cell_type": "code",
   "execution_count": 55,
   "id": "3602774a-bece-40da-bc0b-6d2b1b531eaa",
   "metadata": {},
   "outputs": [],
   "source": [
    "from bs4 import BeautifulSoup\n",
    "import geopandas as gpd\n",
    "import numpy as np\n",
    "import pandas as pd"
   ]
  },
  {
   "cell_type": "markdown",
   "id": "1c73ab1f-e735-4ef1-ab14-4cb84611ae0a",
   "metadata": {},
   "source": [
    "## Open GIS Data"
   ]
  },
  {
   "cell_type": "code",
   "execution_count": 56,
   "id": "4a14f105-db30-45fb-af3b-77ca20dbf12c",
   "metadata": {},
   "outputs": [],
   "source": [
    "file_path = \"data/cb_2018_us_state_500k/cb_2018_us_state_500k.shp\"\n",
    "states_df = gpd.read_file(file_path)"
   ]
  },
  {
   "cell_type": "markdown",
   "id": "c27c029d-e8cb-40ff-89e7-63b12f575249",
   "metadata": {},
   "source": [
    "## Get Wine Data"
   ]
  },
  {
   "cell_type": "code",
   "execution_count": 57,
   "id": "a80827c6-a97f-4f84-b29e-3e2f085e5401",
   "metadata": {},
   "outputs": [],
   "source": [
    "r = requests.get(\n",
    "    \"https://worldpopulationreview.com/state-rankings/wine-production-by-state\"\n",
    ")"
   ]
  },
  {
   "cell_type": "code",
   "execution_count": 58,
   "id": "5bbe7036-7cd8-4a29-ba25-ff50282d0a8f",
   "metadata": {},
   "outputs": [],
   "source": [
    "soup = BeautifulSoup(r.text, \"html.parser\")"
   ]
  },
  {
   "cell_type": "code",
   "execution_count": 59,
   "id": "a144d5b9-8ec3-41dc-bbab-3b3777639f35",
   "metadata": {},
   "outputs": [],
   "source": [
    "states = []\n",
    "amounts = []\n",
    "for tr in soup.find_all(\"tr\", {\"class\": \"table-row\"}):\n",
    "    state = tr.find_all(\"th\")[0].text\n",
    "    amount = tr.find(\"td\").text\n",
    "    if \"K\" in amount:\n",
    "        amount = int(float(amount.split(\"K\")[0]) * 1000)\n",
    "    elif \"M\" in amount:\n",
    "        amount = int(float(amount.split(\"M\")[0]) * 1000000)\n",
    "    else:\n",
    "        continue\n",
    "    states.append(state)\n",
    "    amounts.append(amount)"
   ]
  },
  {
   "cell_type": "code",
   "execution_count": 63,
   "id": "71c2637c-6a8b-4672-9569-1652cd19a204",
   "metadata": {},
   "outputs": [],
   "source": [
    "wine_df = pd.DataFrame({\"NAME\": states, \"WINE_G\": amounts})\n",
    "wine_df = wine_df.drop_duplicates()"
   ]
  },
  {
   "cell_type": "markdown",
   "id": "6cfad3eb-2d55-4258-ac9c-7c34e073d369",
   "metadata": {},
   "source": [
    "## Merge Data"
   ]
  },
  {
   "cell_type": "code",
   "execution_count": 71,
   "id": "852d9c23-bfa0-4cfc-a7e4-fb86126441b4",
   "metadata": {},
   "outputs": [],
   "source": [
    "wine_per_state_df = states_df[[\"geometry\", \"NAME\"]].merge(\n",
    "    wine_df, on=\"NAME\", how=\"left\"\n",
    ")"
   ]
  },
  {
   "cell_type": "code",
   "execution_count": 72,
   "id": "0179adb3-a784-43f5-9949-6913d880d25d",
   "metadata": {},
   "outputs": [],
   "source": [
    "wine_per_state_df = wine_per_state_df.fillna(0)\n",
    "wine_per_state_df[\"WINE_G\"] = wine_per_state_df[\"WINE_G\"].astype(int)"
   ]
  },
  {
   "cell_type": "code",
   "execution_count": 73,
   "id": "cb82b408-71ab-4cdd-98c2-cedeccf83c38",
   "metadata": {},
   "outputs": [],
   "source": [
    "wine_per_state_df = wine_per_state_df.to_crs(9311)"
   ]
  },
  {
   "cell_type": "code",
   "execution_count": 74,
   "id": "19eba258-f3d8-4e86-b836-8feb5e1e2b77",
   "metadata": {},
   "outputs": [],
   "source": [
    "wine_per_state_df[\"g_per_km\"] = wine_per_state_df[\"WINE_G\"] / (\n",
    "    wine_per_state_df[\"geometry\"].area / 1_000_000\n",
    ")\n",
    "wine_per_state_df[\"km_per_g\"] = (\n",
    "    wine_per_state_df[\"geometry\"].area / 1_000_000\n",
    ") / wine_per_state_df[\"WINE_G\"].astype(float)\n",
    "\n",
    "wine_per_state_df[\"bottles\"] = wine_per_state_df[\"WINE_G\"].astype(float) * 5.0472\n",
    "\n",
    "wine_per_state_df[\"bottles_per_km\"] = wine_per_state_df[\"bottles\"] / (\n",
    "    wine_per_state_df[\"geometry\"].area / 1_000_000\n",
    ")\n",
    "wine_per_state_df[\"km_per_bottles\"] = (\n",
    "    wine_per_state_df[\"geometry\"].area / 1_000_000\n",
    ") / wine_per_state_df[\"bottles\"]\n",
    "\n",
    "wine_per_state_df = wine_per_state_df.fillna(0)\n",
    "wine_per_state_df = wine_per_state_df.replace(to_replace=[np.inf, -np.inf], value=0)"
   ]
  },
  {
   "cell_type": "code",
   "execution_count": 75,
   "id": "26c28d2e-563f-4599-9050-b69188c4b73d",
   "metadata": {},
   "outputs": [],
   "source": [
    "wine_per_state_df.to_file(\"data/wine_per_state.gpkg\")"
   ]
  },
  {
   "cell_type": "code",
   "execution_count": null,
   "id": "fde853e2-4736-4daa-bd16-169ab75d1935",
   "metadata": {},
   "outputs": [],
   "source": []
  }
 ],
 "metadata": {
  "kernelspec": {
   "display_name": "Python 3 (ipykernel)",
   "language": "python",
   "name": "python3"
  },
  "language_info": {
   "codemirror_mode": {
    "name": "ipython",
    "version": 3
   },
   "file_extension": ".py",
   "mimetype": "text/x-python",
   "name": "python",
   "nbconvert_exporter": "python",
   "pygments_lexer": "ipython3",
   "version": "3.11.11"
  }
 },
 "nbformat": 4,
 "nbformat_minor": 5
}
