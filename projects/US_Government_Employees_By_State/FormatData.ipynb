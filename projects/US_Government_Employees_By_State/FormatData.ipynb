{
 "cells": [
  {
   "cell_type": "code",
   "execution_count": 35,
   "id": "4cd5cd64-4fc6-4e06-acad-475e7751787f",
   "metadata": {},
   "outputs": [],
   "source": [
    "import re\n",
    "import requests"
   ]
  },
  {
   "cell_type": "code",
   "execution_count": 36,
   "id": "f0f5496e-60fc-4e49-9fde-fe94e8ad2c7c",
   "metadata": {},
   "outputs": [],
   "source": [
    "from bs4 import BeautifulSoup\n",
    "import geopandas as gpd\n",
    "import pandas as pd"
   ]
  },
  {
   "cell_type": "markdown",
   "id": "d1713594-0f45-49f8-ae57-887d95a2cb6e",
   "metadata": {},
   "source": [
    "## Open GIS Data"
   ]
  },
  {
   "cell_type": "code",
   "execution_count": 37,
   "id": "58991680-8f51-4c1e-91fe-7ae94c34bf0d",
   "metadata": {},
   "outputs": [],
   "source": [
    "file_path = \"data/cb_2018_us_state_500k/cb_2018_us_state_500k.shp\"\n",
    "states_df = gpd.read_file(file_path)"
   ]
  },
  {
   "cell_type": "markdown",
   "id": "f4f07901-c081-41c2-89be-8b3abdeb61cc",
   "metadata": {},
   "source": [
    "## Get Population Data"
   ]
  },
  {
   "cell_type": "code",
   "execution_count": 52,
   "id": "e1f13472-195b-4c7c-9c23-26bb0d47356c",
   "metadata": {},
   "outputs": [],
   "source": [
    "headers = {\n",
    "    \"User-Agent\": \"Mozilla/5.0 (Macintosh; Intel Mac OS X 10_11_5) AppleWebKit/537.36 (KHTML, like Gecko) Chrome/50.0.2661.102 Safari/537.36\"\n",
    "}"
   ]
  },
  {
   "cell_type": "code",
   "execution_count": 53,
   "id": "40f1b757-d871-4169-b546-437188071931",
   "metadata": {},
   "outputs": [],
   "source": [
    "r = requests.get(\"https://worldpopulationreview.com/states\", headers=headers)"
   ]
  },
  {
   "cell_type": "code",
   "execution_count": 54,
   "id": "8e010f9d-1b7a-41d9-ac0f-434f923ede85",
   "metadata": {},
   "outputs": [],
   "source": [
    "soup = BeautifulSoup(r.text, \"html.parser\")\n",
    "tbodys = soup.find_all(\"tbody\", {\"class\": \"relative z-10 text-sm\"})\n",
    "population_table = tbodys[0]"
   ]
  },
  {
   "cell_type": "code",
   "execution_count": 55,
   "id": "48bde35f-d1b8-47f4-8095-ba82c570e695",
   "metadata": {},
   "outputs": [],
   "source": [
    "population_list = []\n",
    "for tr in population_table.find_all(\"tr\"):\n",
    "    tds = tr.find_all(\"td\")\n",
    "    population_dict = {\n",
    "        \"NAME\": tr.find(\"a\").text,\n",
    "        \"rank\": tds[0].text,\n",
    "        \"pop2024\": int(tds[1].text.replace(\",\", \"\")),\n",
    "        \"pop2023\": int(tds[2].text.replace(\",\", \"\")),\n",
    "        \"change\": float(tds[3].find(\"span\").text.replace(\"%\", \"\")),\n",
    "    }\n",
    "    population_list.append(population_dict)\n",
    "\n",
    "for tr in tbodys[1].find_all(\"tr\"):\n",
    "    tds = tr.find_all(\"td\")\n",
    "    population_dict = {\n",
    "        \"NAME\": tr.find(\"a\").text,\n",
    "        \"pop2024\": int(tds[1].text.replace(\",\", \"\")),\n",
    "        \"pop2023\": int(tds[2].text.replace(\",\", \"\")),\n",
    "        \"change\": float(tds[3].find(\"span\").text.replace(\"%\", \"\")),\n",
    "    }\n",
    "    population_list.append(population_dict)"
   ]
  },
  {
   "cell_type": "code",
   "execution_count": 56,
   "id": "2361085d-09a1-4de0-8db9-2c6ecc47df56",
   "metadata": {},
   "outputs": [],
   "source": [
    "population_df = pd.DataFrame(population_list, columns=[\"NAME\", \"pop2024\"])"
   ]
  },
  {
   "cell_type": "markdown",
   "id": "b941c86b-9851-44f6-ac15-e7ca6619bac7",
   "metadata": {},
   "source": [
    "## Open Government data"
   ]
  },
  {
   "cell_type": "code",
   "execution_count": 57,
   "id": "444fe6b5-7612-4bd9-80e9-f51a64869193",
   "metadata": {},
   "outputs": [],
   "source": [
    "pattern = re.compile(r\"(.+?)\\s+(\\d+)$\")"
   ]
  },
  {
   "cell_type": "code",
   "execution_count": 58,
   "id": "42f27224-8745-43e3-be17-198b67b67baf",
   "metadata": {},
   "outputs": [],
   "source": [
    "data_dict = {}\n",
    "with open(\"data/data.txt\", \"r\") as file:\n",
    "    for line in file:\n",
    "        match = pattern.match(line.strip())\n",
    "        if match:\n",
    "            key = match.group(1)  # All text before the last number\n",
    "            value = match.group(2)  # The number at the end\n",
    "            data_dict[key] = int(value)"
   ]
  },
  {
   "cell_type": "code",
   "execution_count": 59,
   "id": "6c86253d-29f1-40a3-8744-a474f75a6083",
   "metadata": {},
   "outputs": [],
   "source": [
    "fed_workers_df = pd.DataFrame(data_dict.items(), columns=[\"NAME\", \"WORKERS\"])"
   ]
  },
  {
   "cell_type": "markdown",
   "id": "1a0d1443-7572-4d04-a8d3-7549dca8db5c",
   "metadata": {},
   "source": [
    "## Merge data"
   ]
  },
  {
   "cell_type": "code",
   "execution_count": 84,
   "id": "cf52a048-6861-4c3d-8948-2a5b82932e68",
   "metadata": {},
   "outputs": [],
   "source": [
    "state_population_gdf = states_df.merge(population_df, on=\"NAME\", how=\"inner\")[\n",
    "    [\"geometry\", \"NAME\", \"pop2024\"]\n",
    "]"
   ]
  },
  {
   "cell_type": "code",
   "execution_count": 85,
   "id": "84074c9e-71a8-4ab6-ae4d-4c0c303dd554",
   "metadata": {},
   "outputs": [],
   "source": [
    "state_population_fed_workers_gdf = state_population_gdf.merge(\n",
    "    fed_workers_df, on=\"NAME\", how=\"inner\"\n",
    ")"
   ]
  },
  {
   "cell_type": "code",
   "execution_count": 86,
   "id": "d8bf1ccd-b8a4-478c-858d-1d7ae628881e",
   "metadata": {},
   "outputs": [],
   "source": [
    "state_population_fed_workers_gdf[\"PERCENT_FEDERAL_WORKERS\"] = (\n",
    "    state_population_fed_workers_gdf[\"WORKERS\"]\n",
    "    / state_population_fed_workers_gdf[\"pop2024\"]\n",
    ") * 100"
   ]
  },
  {
   "cell_type": "code",
   "execution_count": 97,
   "id": "ffc861bc-e252-428a-929c-5a06738fbc58",
   "metadata": {},
   "outputs": [],
   "source": [
    "state_population_fed_workers_gdf[\"per_1000\"] = (\n",
    "    (\n",
    "        state_population_fed_workers_gdf[\"WORKERS\"]\n",
    "        / (state_population_fed_workers_gdf[\"pop2024\"] / 1000)\n",
    "    )\n",
    "    .round(decimals=0)\n",
    "    .astype(int)\n",
    ")\n",
    "state_population_fed_workers_gdf[\"per_10k\"] = (\n",
    "    (\n",
    "        state_population_fed_workers_gdf[\"WORKERS\"]\n",
    "        / (state_population_fed_workers_gdf[\"pop2024\"] / 10_000)\n",
    "    )\n",
    "    .round(decimals=0)\n",
    "    .astype(int)\n",
    ")\n",
    "state_population_fed_workers_gdf[\"per_100k\"] = (\n",
    "    (\n",
    "        state_population_fed_workers_gdf[\"WORKERS\"]\n",
    "        / (state_population_fed_workers_gdf[\"pop2024\"] / 100000)\n",
    "    )\n",
    "    .round(decimals=0)\n",
    "    .astype(int)\n",
    ")\n",
    "state_population_fed_workers_gdf[\"per_500k\"] = (\n",
    "    (\n",
    "        state_population_fed_workers_gdf[\"WORKERS\"]\n",
    "        / (state_population_fed_workers_gdf[\"pop2024\"] / 500_000)\n",
    "    )\n",
    "    .round(decimals=0)\n",
    "    .astype(int)\n",
    ")\n",
    "state_population_fed_workers_gdf[\"per_1m\"] = (\n",
    "    (\n",
    "        state_population_fed_workers_gdf[\"WORKERS\"]\n",
    "        / (state_population_fed_workers_gdf[\"pop2024\"] / 1_000_000)\n",
    "    )\n",
    "    .round(decimals=0)\n",
    "    .astype(int)\n",
    ")\n",
    "state_population_fed_workers_gdf[\"people_per_federal_worker\"] = (\n",
    "    (\n",
    "        state_population_fed_workers_gdf[\"pop2024\"]\n",
    "        / state_population_fed_workers_gdf[\"WORKERS\"]\n",
    "    )\n",
    "    .round(decimals=0)\n",
    "    .astype(int)\n",
    ")"
   ]
  },
  {
   "cell_type": "code",
   "execution_count": 100,
   "id": "d06463a9-ca6c-42a0-973f-939d356f3d2b",
   "metadata": {},
   "outputs": [],
   "source": [
    "state_population_fed_workers_gdf = state_population_fed_workers_gdf.to_crs(9311)"
   ]
  },
  {
   "cell_type": "code",
   "execution_count": 101,
   "id": "8425fa91-5a6d-48dc-acf8-29e6c3a9be00",
   "metadata": {},
   "outputs": [],
   "source": [
    "state_population_fed_workers_gdf.to_file(\"data/federal_workers.gpkg\")"
   ]
  },
  {
   "cell_type": "code",
   "execution_count": null,
   "id": "e124fa6b-ad7a-4c10-b29d-01cb9ae6a714",
   "metadata": {},
   "outputs": [],
   "source": []
  }
 ],
 "metadata": {
  "kernelspec": {
   "display_name": "Python 3 (ipykernel)",
   "language": "python",
   "name": "python3"
  },
  "language_info": {
   "codemirror_mode": {
    "name": "ipython",
    "version": 3
   },
   "file_extension": ".py",
   "mimetype": "text/x-python",
   "name": "python",
   "nbconvert_exporter": "python",
   "pygments_lexer": "ipython3",
   "version": "3.11.11"
  }
 },
 "nbformat": 4,
 "nbformat_minor": 5
}
