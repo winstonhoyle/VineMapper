{
 "cells": [
  {
   "cell_type": "code",
   "execution_count": 1,
   "id": "c100310b-4780-4ebd-b955-45512361b3e5",
   "metadata": {},
   "outputs": [],
   "source": [
    "import geopandas as gpd"
   ]
  },
  {
   "cell_type": "markdown",
   "id": "d6e2433d-f5bb-49b9-87a4-8454a74f2fc3",
   "metadata": {},
   "source": [
    "## Open GIS Data"
   ]
  },
  {
   "cell_type": "code",
   "execution_count": 2,
   "id": "5c983c0f-9c4b-4976-8770-9bfe7d515fe3",
   "metadata": {},
   "outputs": [],
   "source": [
    "file_path = \"data/cb_2018_us_state_500k/cb_2018_us_state_500k.shp\"\n",
    "states_gdf = gpd.read_file(file_path)\n",
    "states_gdf = states_gdf[[\"STUSPS\", \"geometry\"]]"
   ]
  },
  {
   "cell_type": "markdown",
   "id": "729a5eed-ea60-46d5-b906-b203bc305bb0",
   "metadata": {},
   "source": [
    "## Open Chipotle Data"
   ]
  },
  {
   "cell_type": "code",
   "execution_count": 3,
   "id": "dd88ee34-bd85-42cf-87e6-16e59a8b5e4a",
   "metadata": {},
   "outputs": [],
   "source": [
    "chipotle_gdf = gpd.read_file(\"data/Chipotle_Per_State.gpkg\")\n",
    "chipotle_gdf[\"chipotle_per_100k\"] = chipotle_gdf[\"per_100k\"]\n",
    "chipotle_gdf = chipotle_gdf[[\"STUSPS\", \"Chipotles\", \"chipotle_per_100k\"]]"
   ]
  },
  {
   "cell_type": "markdown",
   "id": "bfe97c5c-3b79-4b93-a064-eddbacd3b885",
   "metadata": {},
   "source": [
    "## Open QDOBA Data"
   ]
  },
  {
   "cell_type": "code",
   "execution_count": 4,
   "id": "0f9f5e30-8e1f-4e1d-8fc2-c94e0b701da9",
   "metadata": {},
   "outputs": [],
   "source": [
    "qdoba_gdf = gpd.read_file(\"data/QDOBA_Per_State.gpkg\")\n",
    "qdoba_gdf[\"QDOBA_per_100k\"] = qdoba_gdf[\"per_100k\"]\n",
    "qdoba_gdf = qdoba_gdf[[\"STUSPS\", \"QDOBAs\", \"QDOBA_per_100k\"]]"
   ]
  },
  {
   "cell_type": "markdown",
   "id": "250c1eb5-8423-4731-a0b7-0636aa8c0d78",
   "metadata": {},
   "source": [
    "## Merge Data"
   ]
  },
  {
   "cell_type": "code",
   "execution_count": 5,
   "id": "a3f217f9-ed84-4e2f-8542-6b915bda2143",
   "metadata": {},
   "outputs": [],
   "source": [
    "chipotle_states_gdf = states_gdf.merge(chipotle_gdf, on=\"STUSPS\", how=\"left\")\n",
    "chipotle_qdoba_states_gdf = chipotle_states_gdf.merge(\n",
    "    qdoba_gdf, on=\"STUSPS\", how=\"left\"\n",
    ")"
   ]
  },
  {
   "cell_type": "code",
   "execution_count": 6,
   "id": "90138606-fbe5-40bb-b5a6-6a4e169aff7a",
   "metadata": {},
   "outputs": [],
   "source": [
    "chipotle_qdoba_states_gdf = chipotle_qdoba_states_gdf.fillna(0)"
   ]
  },
  {
   "cell_type": "code",
   "execution_count": 7,
   "id": "388cb1a5-8335-4be0-9a81-a751d3e0e8fe",
   "metadata": {},
   "outputs": [],
   "source": [
    "chipotle_qdoba_states_gdf[\"QDOBAs\"] = chipotle_qdoba_states_gdf[\"QDOBAs\"].astype(int)\n",
    "chipotle_qdoba_states_gdf[\"Chipotles\"] = chipotle_qdoba_states_gdf[\"Chipotles\"].astype(\n",
    "    int\n",
    ")"
   ]
  },
  {
   "cell_type": "code",
   "execution_count": 8,
   "id": "4a6a89f2-4300-418c-8394-aaa3f99d0093",
   "metadata": {},
   "outputs": [],
   "source": [
    "def more_stores(row) -> str:\n",
    "    qdoba = row[\"QDOBAs\"]\n",
    "    chipotle = row[\"Chipotles\"]\n",
    "    if qdoba > chipotle:\n",
    "        return \"More QDOBAs\"\n",
    "    if qdoba < chipotle:\n",
    "        return \"More Chipotles\"\n",
    "    if qdoba == 0 and chipotle == 0:\n",
    "        return \"No Locations\"\n",
    "    if qdoba == chipotle:\n",
    "        return \"Same Amount of Chipotles & QDOBAs\"\n",
    "    else:\n",
    "        return \"Edge Case\""
   ]
  },
  {
   "cell_type": "code",
   "execution_count": 9,
   "id": "d4518351-c843-48ac-849c-e69a565fd370",
   "metadata": {},
   "outputs": [],
   "source": [
    "chipotle_qdoba_states_gdf[\"label\"] = chipotle_qdoba_states_gdf.apply(\n",
    "    lambda row: more_stores(row), axis=1\n",
    ")"
   ]
  },
  {
   "cell_type": "code",
   "execution_count": 10,
   "id": "1f4d7551-d35e-4faf-a872-73d8e23e2bd5",
   "metadata": {},
   "outputs": [
    {
     "data": {
      "text/html": [
       "<div>\n",
       "<style scoped>\n",
       "    .dataframe tbody tr th:only-of-type {\n",
       "        vertical-align: middle;\n",
       "    }\n",
       "\n",
       "    .dataframe tbody tr th {\n",
       "        vertical-align: top;\n",
       "    }\n",
       "\n",
       "    .dataframe thead th {\n",
       "        text-align: right;\n",
       "    }\n",
       "</style>\n",
       "<table border=\"1\" class=\"dataframe\">\n",
       "  <thead>\n",
       "    <tr style=\"text-align: right;\">\n",
       "      <th></th>\n",
       "      <th>STUSPS</th>\n",
       "      <th>geometry</th>\n",
       "      <th>Chipotles</th>\n",
       "      <th>chipotle_per_100k</th>\n",
       "      <th>QDOBAs</th>\n",
       "      <th>QDOBA_per_100k</th>\n",
       "      <th>label</th>\n",
       "    </tr>\n",
       "  </thead>\n",
       "  <tbody>\n",
       "  </tbody>\n",
       "</table>\n",
       "</div>"
      ],
      "text/plain": [
       "Empty GeoDataFrame\n",
       "Columns: [STUSPS, geometry, Chipotles, chipotle_per_100k, QDOBAs, QDOBA_per_100k, label]\n",
       "Index: []"
      ]
     },
     "execution_count": 10,
     "metadata": {},
     "output_type": "execute_result"
    }
   ],
   "source": [
    "chipotle_qdoba_states_gdf[chipotle_qdoba_states_gdf[\"label\"] == \"Edge Case\"]"
   ]
  },
  {
   "cell_type": "code",
   "execution_count": 11,
   "id": "6bb44f2e-cb29-40a3-800d-ba02306495cc",
   "metadata": {},
   "outputs": [],
   "source": [
    "chipotle_qdoba_states_gdf = chipotle_qdoba_states_gdf.to_crs(9311)\n",
    "chipotle_qdoba_states_gdf.to_file(\"data/Chipotle_Vs_QDOBA_Per_State.gpkg\")"
   ]
  },
  {
   "cell_type": "code",
   "execution_count": null,
   "id": "ff3fd774-d81b-4afb-b05b-c61a8601ae6c",
   "metadata": {},
   "outputs": [],
   "source": []
  },
  {
   "cell_type": "code",
   "execution_count": null,
   "id": "c6d3ba0e-d5c6-4923-9874-6f44a1019dda",
   "metadata": {},
   "outputs": [],
   "source": []
  }
 ],
 "metadata": {
  "kernelspec": {
   "display_name": "Python 3 (ipykernel)",
   "language": "python",
   "name": "python3"
  },
  "language_info": {
   "codemirror_mode": {
    "name": "ipython",
    "version": 3
   },
   "file_extension": ".py",
   "mimetype": "text/x-python",
   "name": "python",
   "nbconvert_exporter": "python",
   "pygments_lexer": "ipython3",
   "version": "3.11.13"
  }
 },
 "nbformat": 4,
 "nbformat_minor": 5
}
