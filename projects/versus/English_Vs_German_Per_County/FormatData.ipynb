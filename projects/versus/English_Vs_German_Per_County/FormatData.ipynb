{
 "cells": [
  {
   "cell_type": "code",
   "execution_count": 1,
   "id": "c4323fb2-1721-463e-8602-d1c3302ff523",
   "metadata": {},
   "outputs": [],
   "source": [
    "import geopandas as gpd\n",
    "import pandas as pd"
   ]
  },
  {
   "cell_type": "markdown",
   "id": "7bfd8f31-eada-447d-af06-da8a94290c02",
   "metadata": {},
   "source": [
    "## Open State data"
   ]
  },
  {
   "cell_type": "code",
   "execution_count": 2,
   "id": "5fadd853-8ad5-4832-976a-4d251d5a794b",
   "metadata": {},
   "outputs": [],
   "source": [
    "file_path = \"data/cb_2018_us_county_500k/cb_2018_us_county_500k.shp\"\n",
    "counties_gdf = gpd.read_file(file_path)\n",
    "counties_gdf = counties_gdf[counties_gdf[\"STATEFP\"] != \"09\"][[\"geometry\", \"AFFGEOID\"]]\n",
    "counties_gdf = counties_gdf.to_crs(4326)"
   ]
  },
  {
   "cell_type": "markdown",
   "id": "6f8d8f18-f40f-488f-bfc6-b1cd6acc6848",
   "metadata": {},
   "source": [
    "#### Format for CT"
   ]
  },
  {
   "cell_type": "code",
   "execution_count": 3,
   "id": "a78351e7-8bc5-4e11-a904-46694e277a8a",
   "metadata": {},
   "outputs": [],
   "source": [
    "ct_gdf = gpd.read_file(\"data/CT_Planning_Regions.geojson\")\n",
    "ct_gdf[\"AFFGEOID\"] = \"0500000US\" + ct_gdf[\"PlanningRegionFIPS_GEOID\"]"
   ]
  },
  {
   "cell_type": "code",
   "execution_count": 4,
   "id": "85222d5d-1a07-4295-96cd-7adfd3841375",
   "metadata": {},
   "outputs": [],
   "source": [
    "counties_gdf = pd.concat(\n",
    "    [ct_gdf[[\"geometry\", \"AFFGEOID\"]], counties_gdf], ignore_index=True\n",
    ")"
   ]
  },
  {
   "cell_type": "markdown",
   "id": "74b55cfa-2db3-4a7c-bd04-0b341757effe",
   "metadata": {},
   "source": [
    "## Get Ethnicity amounts"
   ]
  },
  {
   "cell_type": "code",
   "execution_count": 5,
   "id": "3992f69b-d2c6-4058-879b-b3df9efd2c6a",
   "metadata": {},
   "outputs": [],
   "source": [
    "acs_ethnicity = pd.read_csv(\n",
    "    \"data/ACSDT5Y2023.B04006_2025-05-02T185520/ACSDT5Y2023.B04006-Data.csv\",\n",
    "    low_memory=False,\n",
    ")"
   ]
  },
  {
   "cell_type": "markdown",
   "id": "882f6ea0-65a2-404e-8c20-4571501b5685",
   "metadata": {},
   "source": [
    "#### Get Column names"
   ]
  },
  {
   "cell_type": "code",
   "execution_count": 6,
   "id": "4a3b0141-aaf8-405a-bfd0-eef85e9d5b94",
   "metadata": {},
   "outputs": [],
   "source": [
    "acs_column_names = pd.read_csv(\n",
    "    \"data/ACSDT5Y2023.B04006_2025-05-02T185520/ACSDT5Y2023.B04006-Column-Metadata.csv\"\n",
    ")"
   ]
  },
  {
   "cell_type": "code",
   "execution_count": 7,
   "id": "07d142e8-e490-4174-ac05-41eadf749b12",
   "metadata": {},
   "outputs": [],
   "source": [
    "ethnicity_cols = list(\n",
    "    acs_column_names[\n",
    "        (acs_column_names[\"Column Name\"] == \"B04006_042E\")\n",
    "        | (acs_column_names[\"Column Name\"] == \"B04006_036E\")\n",
    "    ][\"Column Name\"]\n",
    ")"
   ]
  },
  {
   "cell_type": "markdown",
   "id": "c156cb57-84a4-47fe-81d8-2691da36f9d8",
   "metadata": {},
   "source": [
    "#### Back to Data"
   ]
  },
  {
   "cell_type": "code",
   "execution_count": 8,
   "id": "46820b78-1f2a-4160-8205-6be79a179254",
   "metadata": {},
   "outputs": [],
   "source": [
    "ethnicity_per_county_df = acs_ethnicity[[\"GEO_ID\", *ethnicity_cols]]\n",
    "ethnicity_per_county_df.columns = ethnicity_per_county_df.iloc[0]\n",
    "ethnicity_per_county_df = ethnicity_per_county_df[1:]\n",
    "ethnicity_per_county_df = ethnicity_per_county_df.rename(\n",
    "    columns={\n",
    "        \"Estimate!!Total:!!English\": \"ENGLISH\",\n",
    "        \"Estimate!!Total:!!German\": \"GERMAN\",\n",
    "        \"Geography\": \"AFFGEOID\",\n",
    "    }\n",
    ")"
   ]
  },
  {
   "cell_type": "markdown",
   "id": "ea0435b2-f5f4-4186-853b-615f63cc50aa",
   "metadata": {},
   "source": [
    "## Merge Data"
   ]
  },
  {
   "cell_type": "code",
   "execution_count": 9,
   "id": "335e5a07-6df8-46bf-bc7d-1512019384fd",
   "metadata": {},
   "outputs": [],
   "source": [
    "ethnicity_per_county_gdf = counties_gdf.merge(\n",
    "    ethnicity_per_county_df, on=\"AFFGEOID\", how=\"left\"\n",
    ")"
   ]
  },
  {
   "cell_type": "code",
   "execution_count": 10,
   "id": "8aab9d27-4076-4866-a884-10d8294d0a91",
   "metadata": {},
   "outputs": [],
   "source": [
    "ethnicity_per_county_gdf[\"county_id\"] = ethnicity_per_county_gdf[\"AFFGEOID\"].str[9:]\n",
    "ethnicity_per_county_gdf[\"state_id\"] = ethnicity_per_county_gdf[\"AFFGEOID\"].str[9:11]"
   ]
  },
  {
   "cell_type": "code",
   "execution_count": 11,
   "id": "703fcf06-203c-4be9-ac83-c9373e5c92d5",
   "metadata": {},
   "outputs": [],
   "source": [
    "ethnicity_per_county_gdf = ethnicity_per_county_gdf.fillna(0)\n",
    "ethnicity_per_county_gdf[\"ENGLISH\"] = ethnicity_per_county_gdf[\"ENGLISH\"].astype(int)\n",
    "ethnicity_per_county_gdf[\"GERMAN\"] = ethnicity_per_county_gdf[\"GERMAN\"].astype(int)"
   ]
  },
  {
   "cell_type": "code",
   "execution_count": 12,
   "id": "381e8a62-cbba-4ead-8286-818a5e79c197",
   "metadata": {},
   "outputs": [],
   "source": [
    "def create_label(row) -> str:\n",
    "    english = row[\"ENGLISH\"]\n",
    "    german = row[\"GERMAN\"]\n",
    "    if english == german and english == 0:\n",
    "        return \"No Reported Ancestry\"\n",
    "    if english == german:\n",
    "        return \"Same Amount\"\n",
    "    if english > german:\n",
    "        return \"More English\"\n",
    "    if english < german:\n",
    "        return \"More German\"\n",
    "    return \"Edge Case\""
   ]
  },
  {
   "cell_type": "code",
   "execution_count": 13,
   "id": "f9e5a5a8-0a54-4a5b-9aa3-c117b7f9bde4",
   "metadata": {},
   "outputs": [],
   "source": [
    "ethnicity_per_county_gdf[\"label\"] = ethnicity_per_county_gdf.apply(\n",
    "    lambda row: create_label(row), axis=1\n",
    ")"
   ]
  },
  {
   "cell_type": "code",
   "execution_count": 14,
   "id": "0a344d6a-2cf3-4091-bcdb-45ace43fe75b",
   "metadata": {},
   "outputs": [
    {
     "data": {
      "text/html": [
       "<div>\n",
       "<style scoped>\n",
       "    .dataframe tbody tr th:only-of-type {\n",
       "        vertical-align: middle;\n",
       "    }\n",
       "\n",
       "    .dataframe tbody tr th {\n",
       "        vertical-align: top;\n",
       "    }\n",
       "\n",
       "    .dataframe thead th {\n",
       "        text-align: right;\n",
       "    }\n",
       "</style>\n",
       "<table border=\"1\" class=\"dataframe\">\n",
       "  <thead>\n",
       "    <tr style=\"text-align: right;\">\n",
       "      <th></th>\n",
       "      <th>geometry</th>\n",
       "      <th>AFFGEOID</th>\n",
       "      <th>ENGLISH</th>\n",
       "      <th>GERMAN</th>\n",
       "      <th>county_id</th>\n",
       "      <th>state_id</th>\n",
       "      <th>label</th>\n",
       "    </tr>\n",
       "  </thead>\n",
       "  <tbody>\n",
       "  </tbody>\n",
       "</table>\n",
       "</div>"
      ],
      "text/plain": [
       "Empty GeoDataFrame\n",
       "Columns: [geometry, AFFGEOID, ENGLISH, GERMAN, county_id, state_id, label]\n",
       "Index: []"
      ]
     },
     "execution_count": 14,
     "metadata": {},
     "output_type": "execute_result"
    }
   ],
   "source": [
    "ethnicity_per_county_gdf[ethnicity_per_county_gdf[\"label\"] == \"Edge Case\"]"
   ]
  },
  {
   "cell_type": "code",
   "execution_count": 15,
   "id": "ae923604-fd11-4c7d-a480-4f53abaeafbc",
   "metadata": {},
   "outputs": [],
   "source": [
    "ethnicity_per_county_gdf = ethnicity_per_county_gdf.to_crs(9311)\n",
    "ethnicity_per_county_gdf.to_file(\"data/english_vs_german_county.gpkg\")"
   ]
  },
  {
   "cell_type": "code",
   "execution_count": null,
   "id": "641fe6e8-a92d-407d-b49c-f85ac7139bbd",
   "metadata": {},
   "outputs": [],
   "source": []
  }
 ],
 "metadata": {
  "kernelspec": {
   "display_name": "Python 3 (ipykernel)",
   "language": "python",
   "name": "python3"
  },
  "language_info": {
   "codemirror_mode": {
    "name": "ipython",
    "version": 3
   },
   "file_extension": ".py",
   "mimetype": "text/x-python",
   "name": "python",
   "nbconvert_exporter": "python",
   "pygments_lexer": "ipython3",
   "version": "3.11.11"
  }
 },
 "nbformat": 4,
 "nbformat_minor": 5
}
