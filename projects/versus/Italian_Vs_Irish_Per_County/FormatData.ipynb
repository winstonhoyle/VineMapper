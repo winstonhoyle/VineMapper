{
 "cells": [
  {
   "cell_type": "code",
   "execution_count": 1,
   "id": "c4323fb2-1721-463e-8602-d1c3302ff523",
   "metadata": {},
   "outputs": [],
   "source": [
    "import geopandas as gpd\n",
    "import pandas as pd"
   ]
  },
  {
   "cell_type": "markdown",
   "id": "7bfd8f31-eada-447d-af06-da8a94290c02",
   "metadata": {},
   "source": [
    "## Open Counties data"
   ]
  },
  {
   "cell_type": "code",
   "execution_count": 2,
   "id": "a7297c0e-e755-4582-8d77-a8ca21ca4fe1",
   "metadata": {},
   "outputs": [],
   "source": [
    "file_path = \"data/cb_2024_us_county_500k/cb_2024_us_county_500k.shp\"\n",
    "counties_gdf = gpd.read_file(file_path)"
   ]
  },
  {
   "cell_type": "markdown",
   "id": "74b55cfa-2db3-4a7c-bd04-0b341757effe",
   "metadata": {},
   "source": [
    "## Get Ethnicity amounts"
   ]
  },
  {
   "cell_type": "code",
   "execution_count": 3,
   "id": "3992f69b-d2c6-4058-879b-b3df9efd2c6a",
   "metadata": {},
   "outputs": [],
   "source": [
    "acs_ethnicity = pd.read_csv(\n",
    "    \"data/ACSDT5Y2023.B04006_2025-05-02T185520/ACSDT5Y2023.B04006-Data.csv\",\n",
    "    low_memory=False,\n",
    ")"
   ]
  },
  {
   "cell_type": "markdown",
   "id": "882f6ea0-65a2-404e-8c20-4571501b5685",
   "metadata": {},
   "source": [
    "#### Get Column names"
   ]
  },
  {
   "cell_type": "code",
   "execution_count": 4,
   "id": "4a3b0141-aaf8-405a-bfd0-eef85e9d5b94",
   "metadata": {},
   "outputs": [],
   "source": [
    "acs_column_names = pd.read_csv(\n",
    "    \"data/ACSDT5Y2023.B04006_2025-05-02T185520/ACSDT5Y2023.B04006-Column-Metadata.csv\"\n",
    ")"
   ]
  },
  {
   "cell_type": "code",
   "execution_count": 5,
   "id": "07d142e8-e490-4174-ac05-41eadf749b12",
   "metadata": {},
   "outputs": [],
   "source": [
    "ethnicity_cols = list(\n",
    "    acs_column_names[\n",
    "        (acs_column_names[\"Column Name\"] == \"B04006_051E\")\n",
    "        | (acs_column_names[\"Column Name\"] == \"B04006_049E\")\n",
    "    ][\"Column Name\"]\n",
    ")"
   ]
  },
  {
   "cell_type": "markdown",
   "id": "c156cb57-84a4-47fe-81d8-2691da36f9d8",
   "metadata": {},
   "source": [
    "#### Back to Data"
   ]
  },
  {
   "cell_type": "code",
   "execution_count": 6,
   "id": "46820b78-1f2a-4160-8205-6be79a179254",
   "metadata": {},
   "outputs": [],
   "source": [
    "ethnicity_per_county_df = acs_ethnicity[[\"GEO_ID\", *ethnicity_cols]]\n",
    "ethnicity_per_county_df.columns = ethnicity_per_county_df.iloc[0]\n",
    "ethnicity_per_county_df = ethnicity_per_county_df[1:]\n",
    "ethnicity_per_county_df = ethnicity_per_county_df.rename(\n",
    "    columns={\n",
    "        \"Estimate!!Total:!!Italian\": \"ITALIAN\",\n",
    "        \"Estimate!!Total:!!Irish\": \"IRISH\",\n",
    "        \"Geography\": \"GEOIDFQ\",\n",
    "    }\n",
    ")"
   ]
  },
  {
   "cell_type": "markdown",
   "id": "ea0435b2-f5f4-4186-853b-615f63cc50aa",
   "metadata": {},
   "source": [
    "## Merge Data"
   ]
  },
  {
   "cell_type": "code",
   "execution_count": 7,
   "id": "335e5a07-6df8-46bf-bc7d-1512019384fd",
   "metadata": {},
   "outputs": [],
   "source": [
    "ethnicity_per_county_gdf = counties_gdf.merge(\n",
    "    ethnicity_per_county_df, on=\"GEOIDFQ\", how=\"left\"\n",
    ")"
   ]
  },
  {
   "cell_type": "code",
   "execution_count": 8,
   "id": "8aab9d27-4076-4866-a884-10d8294d0a91",
   "metadata": {},
   "outputs": [],
   "source": [
    "ethnicity_per_county_gdf[\"county_id\"] = ethnicity_per_county_gdf[\"GEOIDFQ\"].str[9:]\n",
    "ethnicity_per_county_gdf[\"state_id\"] = ethnicity_per_county_gdf[\"GEOIDFQ\"].str[9:11]"
   ]
  },
  {
   "cell_type": "code",
   "execution_count": 9,
   "id": "703fcf06-203c-4be9-ac83-c9373e5c92d5",
   "metadata": {},
   "outputs": [],
   "source": [
    "ethnicity_per_county_gdf = ethnicity_per_county_gdf.fillna(0)\n",
    "ethnicity_per_county_gdf[\"ITALIAN\"] = ethnicity_per_county_gdf[\"ITALIAN\"].astype(int)\n",
    "ethnicity_per_county_gdf[\"IRISH\"] = ethnicity_per_county_gdf[\"IRISH\"].astype(int)"
   ]
  },
  {
   "cell_type": "code",
   "execution_count": 10,
   "id": "381e8a62-cbba-4ead-8286-818a5e79c197",
   "metadata": {},
   "outputs": [],
   "source": [
    "def create_label(row) -> str:\n",
    "    italian = row[\"ITALIAN\"]\n",
    "    irish = row[\"IRISH\"]\n",
    "    if italian == irish and italian == 0:\n",
    "        return \"No Reported Ancestry\"\n",
    "    if italian == irish:\n",
    "        return \"Same Amount\"\n",
    "    if italian > irish:\n",
    "        return \"More Italian\"\n",
    "    if italian < irish:\n",
    "        return \"More Irish\"\n",
    "    return \"Edge Case\""
   ]
  },
  {
   "cell_type": "code",
   "execution_count": 11,
   "id": "f9e5a5a8-0a54-4a5b-9aa3-c117b7f9bde4",
   "metadata": {},
   "outputs": [],
   "source": [
    "ethnicity_per_county_gdf[\"label\"] = ethnicity_per_county_gdf.apply(\n",
    "    lambda row: create_label(row), axis=1\n",
    ")"
   ]
  },
  {
   "cell_type": "code",
   "execution_count": 12,
   "id": "0a344d6a-2cf3-4091-bcdb-45ace43fe75b",
   "metadata": {},
   "outputs": [
    {
     "data": {
      "text/html": [
       "<div>\n",
       "<style scoped>\n",
       "    .dataframe tbody tr th:only-of-type {\n",
       "        vertical-align: middle;\n",
       "    }\n",
       "\n",
       "    .dataframe tbody tr th {\n",
       "        vertical-align: top;\n",
       "    }\n",
       "\n",
       "    .dataframe thead th {\n",
       "        text-align: right;\n",
       "    }\n",
       "</style>\n",
       "<table border=\"1\" class=\"dataframe\">\n",
       "  <thead>\n",
       "    <tr style=\"text-align: right;\">\n",
       "      <th></th>\n",
       "      <th>STATEFP</th>\n",
       "      <th>COUNTYFP</th>\n",
       "      <th>COUNTYNS</th>\n",
       "      <th>GEOIDFQ</th>\n",
       "      <th>GEOID</th>\n",
       "      <th>NAME</th>\n",
       "      <th>NAMELSAD</th>\n",
       "      <th>STUSPS</th>\n",
       "      <th>STATE_NAME</th>\n",
       "      <th>LSAD</th>\n",
       "      <th>ALAND</th>\n",
       "      <th>AWATER</th>\n",
       "      <th>geometry</th>\n",
       "      <th>IRISH</th>\n",
       "      <th>ITALIAN</th>\n",
       "      <th>county_id</th>\n",
       "      <th>state_id</th>\n",
       "      <th>label</th>\n",
       "    </tr>\n",
       "  </thead>\n",
       "  <tbody>\n",
       "  </tbody>\n",
       "</table>\n",
       "</div>"
      ],
      "text/plain": [
       "Empty GeoDataFrame\n",
       "Columns: [STATEFP, COUNTYFP, COUNTYNS, GEOIDFQ, GEOID, NAME, NAMELSAD, STUSPS, STATE_NAME, LSAD, ALAND, AWATER, geometry, IRISH, ITALIAN, county_id, state_id, label]\n",
       "Index: []"
      ]
     },
     "execution_count": 12,
     "metadata": {},
     "output_type": "execute_result"
    }
   ],
   "source": [
    "ethnicity_per_county_gdf[ethnicity_per_county_gdf[\"label\"] == \"Edge Case\"]"
   ]
  },
  {
   "cell_type": "code",
   "execution_count": 13,
   "id": "ae923604-fd11-4c7d-a480-4f53abaeafbc",
   "metadata": {},
   "outputs": [],
   "source": [
    "ethnicity_per_county_gdf = ethnicity_per_county_gdf.to_crs(9311)\n",
    "ethnicity_per_county_gdf.to_file(\"data/italian_vs_irish_county.gpkg\")"
   ]
  },
  {
   "cell_type": "code",
   "execution_count": null,
   "id": "641fe6e8-a92d-407d-b49c-f85ac7139bbd",
   "metadata": {},
   "outputs": [],
   "source": []
  },
  {
   "cell_type": "code",
   "execution_count": null,
   "id": "e7773971-f154-48cb-ba4d-a3eb9ff6cdcd",
   "metadata": {},
   "outputs": [],
   "source": []
  }
 ],
 "metadata": {
  "kernelspec": {
   "display_name": "Python 3 (ipykernel)",
   "language": "python",
   "name": "python3"
  },
  "language_info": {
   "codemirror_mode": {
    "name": "ipython",
    "version": 3
   },
   "file_extension": ".py",
   "mimetype": "text/x-python",
   "name": "python",
   "nbconvert_exporter": "python",
   "pygments_lexer": "ipython3",
   "version": "3.11.11"
  }
 },
 "nbformat": 4,
 "nbformat_minor": 5
}
