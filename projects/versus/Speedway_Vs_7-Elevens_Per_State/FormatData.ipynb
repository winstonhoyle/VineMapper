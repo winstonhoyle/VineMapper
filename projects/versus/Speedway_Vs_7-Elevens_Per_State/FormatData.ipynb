{
 "cells": [
  {
   "cell_type": "code",
   "execution_count": 10,
   "id": "c100310b-4780-4ebd-b955-45512361b3e5",
   "metadata": {},
   "outputs": [],
   "source": [
    "import geopandas as gpd\n",
    "import pandas as pd"
   ]
  },
  {
   "cell_type": "markdown",
   "id": "e1fbc6a2-c032-467a-af60-1e4eff759e4b",
   "metadata": {},
   "source": [
    "## Open State data"
   ]
  },
  {
   "cell_type": "code",
   "execution_count": 11,
   "id": "bff9529f-7dc9-4c66-8bae-9997fd332577",
   "metadata": {},
   "outputs": [],
   "source": [
    "file_path = \"data/cb_2018_us_state_500k/cb_2018_us_state_500k.shp\"\n",
    "states_gdf = gpd.read_file(file_path)"
   ]
  },
  {
   "cell_type": "code",
   "execution_count": 12,
   "id": "67e88fbe-dd6e-4e21-9cc7-0c28a31ed26d",
   "metadata": {},
   "outputs": [],
   "source": [
    "states_gdf = states_gdf[[\"STUSPS\", \"NAME\", \"geometry\"]]"
   ]
  },
  {
   "cell_type": "markdown",
   "id": "16b8fd89-2f6c-4944-a1c4-c7b829d3edca",
   "metadata": {},
   "source": [
    "## Open population data"
   ]
  },
  {
   "cell_type": "code",
   "execution_count": 13,
   "id": "62844263-e3f7-435c-beeb-8da9f28e182e",
   "metadata": {},
   "outputs": [],
   "source": [
    "state_populations = pd.read_excel(\n",
    "    \"data/NST-EST2024-POP.xlsx\", sheet_name=None, engine=\"openpyxl\"\n",
    ")"
   ]
  },
  {
   "cell_type": "code",
   "execution_count": 14,
   "id": "2d74637e-9acb-4d76-824c-a0589b22417f",
   "metadata": {},
   "outputs": [],
   "source": [
    "state_populations_df = state_populations[\"NST-EST2024-POP\"][\n",
    "    [\n",
    "        \"table with row headers in column A and column headers in rows 3 through 4. (leading dots indicate sub-parts)\",\n",
    "        \"Unnamed: 5\",\n",
    "    ]\n",
    "]\n",
    "state_populations_df = state_populations_df.rename(\n",
    "    columns={\n",
    "        \"table with row headers in column A and column headers in rows 3 through 4. (leading dots indicate sub-parts)\": \"NAME\",\n",
    "        \"Unnamed: 5\": \"POPULATION\",\n",
    "    }\n",
    ")\n",
    "state_populations_df[\"NAME\"] = state_populations_df[\"NAME\"].str[1:]"
   ]
  },
  {
   "cell_type": "code",
   "execution_count": 15,
   "id": "e2780dd2-6c2a-4271-8b04-45eba78f8f5c",
   "metadata": {},
   "outputs": [],
   "source": [
    "states_with_population_gdf = states_gdf.merge(\n",
    "    state_populations_df, on=\"NAME\", how=\"left\"\n",
    ")\n",
    "states_with_population_gdf = states_with_population_gdf[\n",
    "    [\"STUSPS\", \"NAME\", \"POPULATION\", \"geometry\"]\n",
    "]"
   ]
  },
  {
   "cell_type": "markdown",
   "id": "729a5eed-ea60-46d5-b906-b203bc305bb0",
   "metadata": {},
   "source": [
    "## Open 7-Elevens and Speedway locations"
   ]
  },
  {
   "cell_type": "code",
   "execution_count": 16,
   "id": "fa78b64f-250a-4b47-809c-f2bbf5307567",
   "metadata": {},
   "outputs": [],
   "source": [
    "stores_gdf = gpd.read_file(\"data/711_national.gpkg\")\n",
    "stores_gdf = stores_gdf.to_crs(9311)\n",
    "speedway_gdf = stores_gdf[stores_gdf[\"brand\"] == \"speedway\"]\n",
    "seven_eleven_gdf = stores_gdf[stores_gdf[\"brand\"] == \"7-eleven\"]"
   ]
  },
  {
   "cell_type": "code",
   "execution_count": 17,
   "id": "52e6e92c-e5e0-4d1c-8660-46fb0348aa5e",
   "metadata": {},
   "outputs": [],
   "source": [
    "speedway_counts_df = (\n",
    "    pd.DataFrame(speedway_gdf.groupby(\"state\").size())\n",
    "    .reset_index()\n",
    "    .rename(columns={0: \"speedway\"})\n",
    ")\n",
    "speedway_counts_df = speedway_counts_df.rename(columns={\"state\": \"STUSPS\"})"
   ]
  },
  {
   "cell_type": "code",
   "execution_count": 18,
   "id": "89931b6f-d0f8-4c42-bc61-ceecfb9a95e3",
   "metadata": {},
   "outputs": [],
   "source": [
    "eleven_counts_df = (\n",
    "    pd.DataFrame(seven_eleven_gdf.groupby(\"state\").size())\n",
    "    .reset_index()\n",
    "    .rename(columns={0: \"7-elevens\"})\n",
    ")\n",
    "eleven_counts_df = eleven_counts_df.rename(columns={\"state\": \"STUSPS\"})"
   ]
  },
  {
   "cell_type": "markdown",
   "id": "250c1eb5-8423-4731-a0b7-0636aa8c0d78",
   "metadata": {},
   "source": [
    "#### Merge Data now"
   ]
  },
  {
   "cell_type": "code",
   "execution_count": 19,
   "id": "a3f217f9-ed84-4e2f-8542-6b915bda2143",
   "metadata": {},
   "outputs": [],
   "source": [
    "states_with_eleven_gdf = states_with_population_gdf.merge(\n",
    "    eleven_counts_df, on=\"STUSPS\", how=\"left\"\n",
    ")"
   ]
  },
  {
   "cell_type": "code",
   "execution_count": 20,
   "id": "b1e9cd01-8b90-414c-b556-7eb095872381",
   "metadata": {},
   "outputs": [],
   "source": [
    "states_with_eleven_and_speedway_gdf = states_with_eleven_gdf.merge(\n",
    "    speedway_counts_df, on=\"STUSPS\", how=\"left\"\n",
    ")"
   ]
  },
  {
   "cell_type": "code",
   "execution_count": 21,
   "id": "8e8468f1-d5b5-4251-b5d6-a52081325663",
   "metadata": {},
   "outputs": [],
   "source": [
    "states_with_eleven_and_speedway_gdf = states_with_eleven_and_speedway_gdf.fillna(0)"
   ]
  },
  {
   "cell_type": "code",
   "execution_count": 22,
   "id": "235d6140-3f15-47f4-989f-5194a2eb7e7f",
   "metadata": {},
   "outputs": [],
   "source": [
    "states_with_eleven_and_speedway_gdf[\"7-elevens\"] = states_with_eleven_and_speedway_gdf[\n",
    "    \"7-elevens\"\n",
    "].astype(int)\n",
    "states_with_eleven_and_speedway_gdf[\"speedway\"] = states_with_eleven_and_speedway_gdf[\n",
    "    \"speedway\"\n",
    "].astype(int)"
   ]
  },
  {
   "cell_type": "code",
   "execution_count": 26,
   "id": "8a73291a-51ff-4f73-b6ab-043c185f09f3",
   "metadata": {},
   "outputs": [],
   "source": [
    "def speedway_seven_elevens_classification(row) -> str:\n",
    "    elevens = row[\"7-elevens\"]\n",
    "    speedways = row[\"speedway\"]\n",
    "    if elevens == 0 and speedways == 0:\n",
    "        return \"No Stores\"\n",
    "    if elevens == speedways:\n",
    "        return \"Same Amount\"\n",
    "    if speedways > elevens:\n",
    "        return \"More Speedways\"\n",
    "    if speedways < elevens:\n",
    "        return \"More 7-Elevens\""
   ]
  },
  {
   "cell_type": "code",
   "execution_count": 27,
   "id": "4508a638-0425-4b14-89d0-88f8cbce3c3a",
   "metadata": {},
   "outputs": [],
   "source": [
    "states_with_eleven_and_speedway_gdf[\n",
    "    \"label\"\n",
    "] = states_with_eleven_and_speedway_gdf.apply(\n",
    "    lambda row: speedway_seven_elevens_classification(row), axis=1\n",
    ")"
   ]
  },
  {
   "cell_type": "code",
   "execution_count": 28,
   "id": "bdf23425-a541-4f3b-b5c9-f41e0c88993d",
   "metadata": {},
   "outputs": [],
   "source": [
    "states_with_eleven_and_speedway_gdf[\n",
    "    \"7-elevens_per_100k\"\n",
    "] = states_with_eleven_and_speedway_gdf[\"7-elevens\"] / (\n",
    "    states_with_eleven_and_speedway_gdf[\"POPULATION\"] / 100000\n",
    ")\n",
    "states_with_eleven_and_speedway_gdf[\n",
    "    \"speedways_per_100k\"\n",
    "] = states_with_eleven_and_speedway_gdf[\"speedway\"] / (\n",
    "    states_with_eleven_and_speedway_gdf[\"POPULATION\"] / 100000\n",
    ")"
   ]
  },
  {
   "cell_type": "code",
   "execution_count": 30,
   "id": "6bb44f2e-cb29-40a3-800d-ba02306495cc",
   "metadata": {},
   "outputs": [],
   "source": [
    "states_with_eleven_and_speedway_gdf = states_with_eleven_and_speedway_gdf.to_crs(9311)\n",
    "states_with_eleven_and_speedway_gdf.to_file(\"data/eleven_vs_speedway.gpkg\")"
   ]
  },
  {
   "cell_type": "code",
   "execution_count": null,
   "id": "6d3b5ed3-365a-46fe-9a8b-f3fd2641d7d4",
   "metadata": {},
   "outputs": [],
   "source": []
  }
 ],
 "metadata": {
  "kernelspec": {
   "display_name": "Python 3 (ipykernel)",
   "language": "python",
   "name": "python3"
  },
  "language_info": {
   "codemirror_mode": {
    "name": "ipython",
    "version": 3
   },
   "file_extension": ".py",
   "mimetype": "text/x-python",
   "name": "python",
   "nbconvert_exporter": "python",
   "pygments_lexer": "ipython3",
   "version": "3.11.11"
  }
 },
 "nbformat": 4,
 "nbformat_minor": 5
}
