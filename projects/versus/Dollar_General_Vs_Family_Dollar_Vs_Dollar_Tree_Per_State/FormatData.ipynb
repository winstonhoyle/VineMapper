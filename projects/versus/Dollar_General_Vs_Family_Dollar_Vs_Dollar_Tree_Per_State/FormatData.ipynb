{
 "cells": [
  {
   "cell_type": "code",
   "execution_count": 23,
   "id": "c100310b-4780-4ebd-b955-45512361b3e5",
   "metadata": {},
   "outputs": [],
   "source": [
    "import geopandas as gpd"
   ]
  },
  {
   "cell_type": "markdown",
   "id": "d6e2433d-f5bb-49b9-87a4-8454a74f2fc3",
   "metadata": {},
   "source": [
    "## Open GIS Data"
   ]
  },
  {
   "cell_type": "code",
   "execution_count": 24,
   "id": "5c983c0f-9c4b-4976-8770-9bfe7d515fe3",
   "metadata": {},
   "outputs": [],
   "source": [
    "file_path = \"data/cb_2018_us_state_500k/cb_2018_us_state_500k.shp\"\n",
    "states_gdf = gpd.read_file(file_path)\n",
    "states_gdf = states_gdf[[\"STUSPS\", \"geometry\"]]"
   ]
  },
  {
   "cell_type": "markdown",
   "id": "729a5eed-ea60-46d5-b906-b203bc305bb0",
   "metadata": {},
   "source": [
    "## Open Dollar General Data"
   ]
  },
  {
   "cell_type": "code",
   "execution_count": 29,
   "id": "dd88ee34-bd85-42cf-87e6-16e59a8b5e4a",
   "metadata": {},
   "outputs": [],
   "source": [
    "dollar_generals_gdf = gpd.read_file(\"data/dollar_generals_per_state.gpkg\")\n",
    "dollar_generals_gdf = dollar_generals_gdf[[\"STUSPS\", \"DOLLAR_GENERALS\"]]"
   ]
  },
  {
   "cell_type": "markdown",
   "id": "bfe97c5c-3b79-4b93-a064-eddbacd3b885",
   "metadata": {},
   "source": [
    "## Open Family Dollar Data"
   ]
  },
  {
   "cell_type": "code",
   "execution_count": 30,
   "id": "0f9f5e30-8e1f-4e1d-8fc2-c94e0b701da9",
   "metadata": {},
   "outputs": [],
   "source": [
    "family_dollar_gdf = gpd.read_file(\"data/family_dollar_per_state.gpkg\")\n",
    "family_dollar_gdf = family_dollar_gdf[[\"STUSPS\", \"FAMILY_DOLLARS\"]]"
   ]
  },
  {
   "cell_type": "markdown",
   "id": "e1fbc6a2-c032-467a-af60-1e4eff759e4b",
   "metadata": {},
   "source": [
    "## Open Dollar Tree Data"
   ]
  },
  {
   "cell_type": "code",
   "execution_count": 31,
   "id": "bff9529f-7dc9-4c66-8bae-9997fd332577",
   "metadata": {},
   "outputs": [],
   "source": [
    "dollar_tree_gdf = gpd.read_file(\"data/dollar_trees_per_state.gpkg\")\n",
    "dollar_tree_gdf = dollar_tree_gdf[[\"STUSPS\", \"DOLLAR_TREE\"]]"
   ]
  },
  {
   "cell_type": "markdown",
   "id": "250c1eb5-8423-4731-a0b7-0636aa8c0d78",
   "metadata": {},
   "source": [
    "## Merge Data"
   ]
  },
  {
   "cell_type": "code",
   "execution_count": 35,
   "id": "a3f217f9-ed84-4e2f-8542-6b915bda2143",
   "metadata": {},
   "outputs": [],
   "source": [
    "dg_states_gdf = states_gdf.merge(dollar_generals_gdf, on=\"STUSPS\", how=\"left\")\n",
    "fd_dg_states_gdf = dg_states_gdf.merge(family_dollar_gdf, on=\"STUSPS\", how=\"left\")\n",
    "fd_dg_dt_gdf = fd_dg_states_gdf.merge(dollar_tree_gdf, on=\"STUSPS\", how=\"left\")"
   ]
  },
  {
   "cell_type": "code",
   "execution_count": 38,
   "id": "90138606-fbe5-40bb-b5a6-6a4e169aff7a",
   "metadata": {},
   "outputs": [],
   "source": [
    "fd_dg_dt_gdf = fd_dg_dt_gdf.fillna(0)"
   ]
  },
  {
   "cell_type": "code",
   "execution_count": 39,
   "id": "388cb1a5-8335-4be0-9a81-a751d3e0e8fe",
   "metadata": {},
   "outputs": [],
   "source": [
    "fd_dg_dt_gdf[\"DOLLAR_GENERALS\"] = fd_dg_dt_gdf[\"DOLLAR_GENERALS\"].astype(int)\n",
    "fd_dg_dt_gdf[\"FAMILY_DOLLARS\"] = fd_dg_dt_gdf[\"FAMILY_DOLLARS\"].astype(int)\n",
    "fd_dg_dt_gdf[\"DOLLAR_TREE\"] = fd_dg_dt_gdf[\"DOLLAR_TREE\"].astype(int)"
   ]
  },
  {
   "cell_type": "code",
   "execution_count": 50,
   "id": "4a6a89f2-4300-418c-8394-aaa3f99d0093",
   "metadata": {},
   "outputs": [],
   "source": [
    "def more_stores(row) -> str:\n",
    "    dg = row[\"DOLLAR_GENERALS\"]\n",
    "    fd = row[\"FAMILY_DOLLARS\"]\n",
    "    dt = row[\"DOLLAR_TREE\"]\n",
    "    if (dg > fd) and (dg > dt):\n",
    "        return \"More Dollar Generals\"\n",
    "    if (fd > dg) and (fd > dt):\n",
    "        return \"More Family Dollars\"\n",
    "    if (dt > dg) and (dt > fd):\n",
    "        return \"More Dollar Trees\"\n",
    "    if dt == 0 and dg == 0 and dt == 0:\n",
    "        return \"No Locations\"\n",
    "\n",
    "    # For DC\n",
    "    if fd == dt and dg != dt:\n",
    "        return \"Same Amount of FD and DT\""
   ]
  },
  {
   "cell_type": "code",
   "execution_count": 52,
   "id": "d4518351-c843-48ac-849c-e69a565fd370",
   "metadata": {},
   "outputs": [],
   "source": [
    "fd_dg_dt_gdf[\"label\"] = fd_dg_dt_gdf.apply(lambda row: more_stores(row), axis=1)"
   ]
  },
  {
   "cell_type": "code",
   "execution_count": 53,
   "id": "6bb44f2e-cb29-40a3-800d-ba02306495cc",
   "metadata": {},
   "outputs": [],
   "source": [
    "fd_dg_dt_gdf = fd_dg_dt_gdf.to_crs(9311)\n",
    "fd_dg_dt_gdf.to_file(\"data/fd_dg_dt.gpkg\")"
   ]
  },
  {
   "cell_type": "code",
   "execution_count": null,
   "id": "6d3b5ed3-365a-46fe-9a8b-f3fd2641d7d4",
   "metadata": {},
   "outputs": [],
   "source": []
  }
 ],
 "metadata": {
  "kernelspec": {
   "display_name": "Python 3 (ipykernel)",
   "language": "python",
   "name": "python3"
  },
  "language_info": {
   "codemirror_mode": {
    "name": "ipython",
    "version": 3
   },
   "file_extension": ".py",
   "mimetype": "text/x-python",
   "name": "python",
   "nbconvert_exporter": "python",
   "pygments_lexer": "ipython3",
   "version": "3.11.11"
  }
 },
 "nbformat": 4,
 "nbformat_minor": 5
}
