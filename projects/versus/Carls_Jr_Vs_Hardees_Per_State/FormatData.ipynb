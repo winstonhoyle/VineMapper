{
 "cells": [
  {
   "cell_type": "code",
   "execution_count": 2,
   "id": "c100310b-4780-4ebd-b955-45512361b3e5",
   "metadata": {},
   "outputs": [],
   "source": [
    "import geopandas as gpd"
   ]
  },
  {
   "cell_type": "markdown",
   "id": "729a5eed-ea60-46d5-b906-b203bc305bb0",
   "metadata": {},
   "source": [
    "## Open Carl's Jr"
   ]
  },
  {
   "cell_type": "code",
   "execution_count": 5,
   "id": "fa78b64f-250a-4b47-809c-f2bbf5307567",
   "metadata": {},
   "outputs": [],
   "source": [
    "carls_jr_gdf = gpd.read_file(\"data/carls_jrs_per_state.gpkg\")\n",
    "carls_jr_gdf = carls_jr_gdf.to_crs(9311)\n",
    "carls_jr_gdf[\"carlsjrs\"] = carls_jr_gdf[\"stores\"].astype(int)\n",
    "carls_jr_gdf = carls_jr_gdf[[\"geometry\", \"STUSPS\", \"carlsjrs\"]]"
   ]
  },
  {
   "cell_type": "markdown",
   "id": "e1fbc6a2-c032-467a-af60-1e4eff759e4b",
   "metadata": {},
   "source": [
    "## Get Hardee's Data"
   ]
  },
  {
   "cell_type": "code",
   "execution_count": 6,
   "id": "bff9529f-7dc9-4c66-8bae-9997fd332577",
   "metadata": {},
   "outputs": [],
   "source": [
    "hardees_gdf = gpd.read_file(\"data/hardees_per_state.gpkg\")\n",
    "hardees_gdf = hardees_gdf.to_crs(9311)\n",
    "hardees_gdf[\"hardees\"] = hardees_gdf[\"stores\"].astype(int)\n",
    "hardees_gdf = hardees_gdf[[\"geometry\", \"STUSPS\", \"hardees\"]]"
   ]
  },
  {
   "cell_type": "markdown",
   "id": "250c1eb5-8423-4731-a0b7-0636aa8c0d78",
   "metadata": {},
   "source": [
    "#### Merge Data now"
   ]
  },
  {
   "cell_type": "code",
   "execution_count": 7,
   "id": "a3f217f9-ed84-4e2f-8542-6b915bda2143",
   "metadata": {},
   "outputs": [],
   "source": [
    "carlsjr_hardees_gdf = carls_jr_gdf.merge(hardees_gdf, on=\"STUSPS\", how=\"inner\")"
   ]
  },
  {
   "cell_type": "code",
   "execution_count": 8,
   "id": "8a73291a-51ff-4f73-b6ab-043c185f09f3",
   "metadata": {},
   "outputs": [],
   "source": [
    "carlsjr_hardees_gdf[\"carlsjr_vs_hardees\"] = (\n",
    "    carlsjr_hardees_gdf[\"carlsjrs\"] - carlsjr_hardees_gdf[\"hardees\"]\n",
    ")"
   ]
  },
  {
   "cell_type": "code",
   "execution_count": 11,
   "id": "4508a638-0425-4b14-89d0-88f8cbce3c3a",
   "metadata": {},
   "outputs": [],
   "source": [
    "carlsjr_hardees_gdf[\"geometry\"] = carlsjr_hardees_gdf[\"geometry_x\"]\n",
    "carlsjr_hardees_gdf = carlsjr_hardees_gdf[\n",
    "    [\"STUSPS\", \"geometry\", \"carlsjrs\", \"hardees\", \"carlsjr_vs_hardees\"]\n",
    "]"
   ]
  },
  {
   "cell_type": "code",
   "execution_count": 12,
   "id": "6bb44f2e-cb29-40a3-800d-ba02306495cc",
   "metadata": {},
   "outputs": [],
   "source": [
    "carlsjr_hardees_gdf = carlsjr_hardees_gdf.to_crs(9311)\n",
    "carlsjr_hardees_gdf.to_file(\"data/carlsjr_vs_hardees.gpkg\")"
   ]
  },
  {
   "cell_type": "code",
   "execution_count": null,
   "id": "6d3b5ed3-365a-46fe-9a8b-f3fd2641d7d4",
   "metadata": {},
   "outputs": [],
   "source": []
  }
 ],
 "metadata": {
  "kernelspec": {
   "display_name": "Python 3 (ipykernel)",
   "language": "python",
   "name": "python3"
  },
  "language_info": {
   "codemirror_mode": {
    "name": "ipython",
    "version": 3
   },
   "file_extension": ".py",
   "mimetype": "text/x-python",
   "name": "python",
   "nbconvert_exporter": "python",
   "pygments_lexer": "ipython3",
   "version": "3.11.11"
  }
 },
 "nbformat": 4,
 "nbformat_minor": 5
}
