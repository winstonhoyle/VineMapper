{
 "cells": [
  {
   "cell_type": "code",
   "execution_count": 1,
   "id": "c100310b-4780-4ebd-b955-45512361b3e5",
   "metadata": {},
   "outputs": [],
   "source": [
    "import geopandas as gpd"
   ]
  },
  {
   "cell_type": "markdown",
   "id": "729a5eed-ea60-46d5-b906-b203bc305bb0",
   "metadata": {},
   "source": [
    "## Open Denny's Data"
   ]
  },
  {
   "cell_type": "code",
   "execution_count": 9,
   "id": "fa78b64f-250a-4b47-809c-f2bbf5307567",
   "metadata": {},
   "outputs": [],
   "source": [
    "dennys_gdf = gpd.read_file(\"data/dennys_per_state.gpkg\")\n",
    "dennys_gdf = dennys_gdf[[\"STUSPS\", \"DENNYS\"]]"
   ]
  },
  {
   "cell_type": "code",
   "execution_count": 10,
   "id": "1cf64ff6-fc57-42d8-82ba-26ff5d24e099",
   "metadata": {},
   "outputs": [
    {
     "data": {
      "text/html": [
       "<div>\n",
       "<style scoped>\n",
       "    .dataframe tbody tr th:only-of-type {\n",
       "        vertical-align: middle;\n",
       "    }\n",
       "\n",
       "    .dataframe tbody tr th {\n",
       "        vertical-align: top;\n",
       "    }\n",
       "\n",
       "    .dataframe thead th {\n",
       "        text-align: right;\n",
       "    }\n",
       "</style>\n",
       "<table border=\"1\" class=\"dataframe\">\n",
       "  <thead>\n",
       "    <tr style=\"text-align: right;\">\n",
       "      <th></th>\n",
       "      <th>NAME</th>\n",
       "      <th>per_1m</th>\n",
       "    </tr>\n",
       "  </thead>\n",
       "  <tbody>\n",
       "    <tr>\n",
       "      <th>12</th>\n",
       "      <td>New Mexico</td>\n",
       "      <td>13.671739</td>\n",
       "    </tr>\n",
       "    <tr>\n",
       "      <th>28</th>\n",
       "      <td>Nevada</td>\n",
       "      <td>12.444145</td>\n",
       "    </tr>\n",
       "    <tr>\n",
       "      <th>35</th>\n",
       "      <td>Arizona</td>\n",
       "      <td>10.571352</td>\n",
       "    </tr>\n",
       "  </tbody>\n",
       "</table>\n",
       "</div>"
      ],
      "text/plain": [
       "          NAME     per_1m\n",
       "12  New Mexico  13.671739\n",
       "28      Nevada  12.444145\n",
       "35     Arizona  10.571352"
      ]
     },
     "execution_count": 10,
     "metadata": {},
     "output_type": "execute_result"
    }
   ],
   "source": [
    "gpd.read_file(\"data/dennys_per_state.gpkg\")[[\"NAME\", \"per_1m\"]].sort_values(\n",
    "    \"per_1m\", ascending=False\n",
    ").head(3)"
   ]
  },
  {
   "cell_type": "code",
   "execution_count": 11,
   "id": "7e045d86-89af-4027-8bfa-07b3b05d0499",
   "metadata": {},
   "outputs": [
    {
     "data": {
      "text/html": [
       "<div>\n",
       "<style scoped>\n",
       "    .dataframe tbody tr th:only-of-type {\n",
       "        vertical-align: middle;\n",
       "    }\n",
       "\n",
       "    .dataframe tbody tr th {\n",
       "        vertical-align: top;\n",
       "    }\n",
       "\n",
       "    .dataframe thead th {\n",
       "        text-align: right;\n",
       "    }\n",
       "</style>\n",
       "<table border=\"1\" class=\"dataframe\">\n",
       "  <thead>\n",
       "    <tr style=\"text-align: right;\">\n",
       "      <th></th>\n",
       "      <th>NAME</th>\n",
       "      <th>DENNYS</th>\n",
       "    </tr>\n",
       "  </thead>\n",
       "  <tbody>\n",
       "    <tr>\n",
       "      <th>16</th>\n",
       "      <td>California</td>\n",
       "      <td>355.0</td>\n",
       "    </tr>\n",
       "    <tr>\n",
       "      <th>15</th>\n",
       "      <td>Texas</td>\n",
       "      <td>195.0</td>\n",
       "    </tr>\n",
       "  </tbody>\n",
       "</table>\n",
       "</div>"
      ],
      "text/plain": [
       "          NAME  DENNYS\n",
       "16  California   355.0\n",
       "15       Texas   195.0"
      ]
     },
     "execution_count": 11,
     "metadata": {},
     "output_type": "execute_result"
    }
   ],
   "source": [
    "gpd.read_file(\"data/dennys_per_state.gpkg\")[[\"NAME\", \"DENNYS\"]].sort_values(\n",
    "    \"DENNYS\", ascending=False\n",
    ").head(2)"
   ]
  },
  {
   "cell_type": "markdown",
   "id": "e02e92b8-6ebf-4a78-ab74-6990dc868315",
   "metadata": {},
   "source": [
    "## Open IHOP Data"
   ]
  },
  {
   "cell_type": "code",
   "execution_count": 12,
   "id": "dd88ee34-bd85-42cf-87e6-16e59a8b5e4a",
   "metadata": {},
   "outputs": [],
   "source": [
    "ihops_gdf = gpd.read_file(\"data/IHOPs_per_state.gpkg\")\n",
    "ihops_gdf = ihops_gdf[[\"geometry\", \"STUSPS\", \"IHOPs\"]]"
   ]
  },
  {
   "cell_type": "code",
   "execution_count": 13,
   "id": "fa685b51-8744-4497-848c-4eed3732c270",
   "metadata": {},
   "outputs": [
    {
     "data": {
      "text/html": [
       "<div>\n",
       "<style scoped>\n",
       "    .dataframe tbody tr th:only-of-type {\n",
       "        vertical-align: middle;\n",
       "    }\n",
       "\n",
       "    .dataframe tbody tr th {\n",
       "        vertical-align: top;\n",
       "    }\n",
       "\n",
       "    .dataframe thead th {\n",
       "        text-align: right;\n",
       "    }\n",
       "</style>\n",
       "<table border=\"1\" class=\"dataframe\">\n",
       "  <thead>\n",
       "    <tr style=\"text-align: right;\">\n",
       "      <th></th>\n",
       "      <th>NAME</th>\n",
       "      <th>per_1m</th>\n",
       "    </tr>\n",
       "  </thead>\n",
       "  <tbody>\n",
       "    <tr>\n",
       "      <th>26</th>\n",
       "      <td>Kansas</td>\n",
       "      <td>10.164323</td>\n",
       "    </tr>\n",
       "    <tr>\n",
       "      <th>38</th>\n",
       "      <td>Maryland</td>\n",
       "      <td>8.685775</td>\n",
       "    </tr>\n",
       "    <tr>\n",
       "      <th>2</th>\n",
       "      <td>Oklahoma</td>\n",
       "      <td>8.612455</td>\n",
       "    </tr>\n",
       "  </tbody>\n",
       "</table>\n",
       "</div>"
      ],
      "text/plain": [
       "        NAME     per_1m\n",
       "26    Kansas  10.164323\n",
       "38  Maryland   8.685775\n",
       "2   Oklahoma   8.612455"
      ]
     },
     "execution_count": 13,
     "metadata": {},
     "output_type": "execute_result"
    }
   ],
   "source": [
    "gpd.read_file(\"data/IHOPs_per_state.gpkg\")[[\"NAME\", \"per_1m\"]].sort_values(\n",
    "    \"per_1m\", ascending=False\n",
    ").head(3)"
   ]
  },
  {
   "cell_type": "code",
   "execution_count": 14,
   "id": "64866566-4080-41fc-9f65-316a3f9ff4ee",
   "metadata": {},
   "outputs": [
    {
     "data": {
      "text/html": [
       "<div>\n",
       "<style scoped>\n",
       "    .dataframe tbody tr th:only-of-type {\n",
       "        vertical-align: middle;\n",
       "    }\n",
       "\n",
       "    .dataframe tbody tr th {\n",
       "        vertical-align: top;\n",
       "    }\n",
       "\n",
       "    .dataframe thead th {\n",
       "        text-align: right;\n",
       "    }\n",
       "</style>\n",
       "<table border=\"1\" class=\"dataframe\">\n",
       "  <thead>\n",
       "    <tr style=\"text-align: right;\">\n",
       "      <th></th>\n",
       "      <th>NAME</th>\n",
       "      <th>IHOPs</th>\n",
       "    </tr>\n",
       "  </thead>\n",
       "  <tbody>\n",
       "    <tr>\n",
       "      <th>16</th>\n",
       "      <td>California</td>\n",
       "      <td>223.0</td>\n",
       "    </tr>\n",
       "    <tr>\n",
       "      <th>15</th>\n",
       "      <td>Texas</td>\n",
       "      <td>216.0</td>\n",
       "    </tr>\n",
       "  </tbody>\n",
       "</table>\n",
       "</div>"
      ],
      "text/plain": [
       "          NAME  IHOPs\n",
       "16  California  223.0\n",
       "15       Texas  216.0"
      ]
     },
     "execution_count": 14,
     "metadata": {},
     "output_type": "execute_result"
    }
   ],
   "source": [
    "gpd.read_file(\"data/IHOPs_per_state.gpkg\")[[\"NAME\", \"IHOPs\"]].sort_values(\n",
    "    \"IHOPs\", ascending=False\n",
    ").head(2)"
   ]
  },
  {
   "cell_type": "markdown",
   "id": "42cccef6-0313-48c1-b91e-9030efd49129",
   "metadata": {},
   "source": [
    "## Open Wafflehouse data"
   ]
  },
  {
   "cell_type": "code",
   "execution_count": 23,
   "id": "88093377-815d-4957-993a-e640d83f5cc1",
   "metadata": {},
   "outputs": [],
   "source": [
    "wh_gdf = gpd.read_file(\"data/whs_per_state.gpkg\")\n",
    "wh_gdf = wh_gdf[[\"STUSPS\", \"WHS\"]]"
   ]
  },
  {
   "cell_type": "code",
   "execution_count": 29,
   "id": "f1071c23-c1fb-4cf6-8ba3-8fd26268a613",
   "metadata": {},
   "outputs": [
    {
     "data": {
      "text/html": [
       "<div>\n",
       "<style scoped>\n",
       "    .dataframe tbody tr th:only-of-type {\n",
       "        vertical-align: middle;\n",
       "    }\n",
       "\n",
       "    .dataframe tbody tr th {\n",
       "        vertical-align: top;\n",
       "    }\n",
       "\n",
       "    .dataframe thead th {\n",
       "        text-align: right;\n",
       "    }\n",
       "</style>\n",
       "<table border=\"1\" class=\"dataframe\">\n",
       "  <thead>\n",
       "    <tr style=\"text-align: right;\">\n",
       "      <th></th>\n",
       "      <th>NAME</th>\n",
       "      <th>per_1m</th>\n",
       "    </tr>\n",
       "  </thead>\n",
       "  <tbody>\n",
       "    <tr>\n",
       "      <th>18</th>\n",
       "      <td>Georgia</td>\n",
       "      <td>40.218965</td>\n",
       "    </tr>\n",
       "    <tr>\n",
       "      <th>33</th>\n",
       "      <td>South Carolina</td>\n",
       "      <td>32.666213</td>\n",
       "    </tr>\n",
       "    <tr>\n",
       "      <th>17</th>\n",
       "      <td>Alabama</td>\n",
       "      <td>31.068808</td>\n",
       "    </tr>\n",
       "  </tbody>\n",
       "</table>\n",
       "</div>"
      ],
      "text/plain": [
       "              NAME     per_1m\n",
       "18         Georgia  40.218965\n",
       "33  South Carolina  32.666213\n",
       "17         Alabama  31.068808"
      ]
     },
     "execution_count": 29,
     "metadata": {},
     "output_type": "execute_result"
    }
   ],
   "source": [
    "gpd.read_file(\"data/whs_per_state.gpkg\")[[\"NAME\", \"per_1m\"]].sort_values(\n",
    "    \"per_1m\", ascending=False\n",
    ").head(3)"
   ]
  },
  {
   "cell_type": "code",
   "execution_count": 25,
   "id": "c70c5b01-9a64-412e-91e2-d2d6a5ed508f",
   "metadata": {},
   "outputs": [
    {
     "data": {
      "text/html": [
       "<div>\n",
       "<style scoped>\n",
       "    .dataframe tbody tr th:only-of-type {\n",
       "        vertical-align: middle;\n",
       "    }\n",
       "\n",
       "    .dataframe tbody tr th {\n",
       "        vertical-align: top;\n",
       "    }\n",
       "\n",
       "    .dataframe thead th {\n",
       "        text-align: right;\n",
       "    }\n",
       "</style>\n",
       "<table border=\"1\" class=\"dataframe\">\n",
       "  <thead>\n",
       "    <tr style=\"text-align: right;\">\n",
       "      <th></th>\n",
       "      <th>NAME</th>\n",
       "      <th>WHS</th>\n",
       "    </tr>\n",
       "  </thead>\n",
       "  <tbody>\n",
       "    <tr>\n",
       "      <th>18</th>\n",
       "      <td>Georgia</td>\n",
       "      <td>445.0</td>\n",
       "    </tr>\n",
       "    <tr>\n",
       "      <th>9</th>\n",
       "      <td>Florida</td>\n",
       "      <td>190.0</td>\n",
       "    </tr>\n",
       "  </tbody>\n",
       "</table>\n",
       "</div>"
      ],
      "text/plain": [
       "       NAME    WHS\n",
       "18  Georgia  445.0\n",
       "9   Florida  190.0"
      ]
     },
     "execution_count": 25,
     "metadata": {},
     "output_type": "execute_result"
    }
   ],
   "source": [
    "gpd.read_file(\"data/whs_per_state.gpkg\")[[\"NAME\", \"WHS\"]].sort_values(\n",
    "    \"WHS\", ascending=False\n",
    ").head(2)"
   ]
  },
  {
   "cell_type": "markdown",
   "id": "250c1eb5-8423-4731-a0b7-0636aa8c0d78",
   "metadata": {},
   "source": [
    "#### Merge Data now"
   ]
  },
  {
   "cell_type": "code",
   "execution_count": 36,
   "id": "a3f217f9-ed84-4e2f-8542-6b915bda2143",
   "metadata": {},
   "outputs": [],
   "source": [
    "dennys_ihop_gdf = ihops_gdf.merge(dennys_gdf, on=\"STUSPS\", how=\"left\")\n",
    "dennys_ihop_wh_gdf = dennys_ihop_gdf.merge(wh_gdf, on=\"STUSPS\", how=\"left\")"
   ]
  },
  {
   "cell_type": "code",
   "execution_count": 37,
   "id": "b3c7d483-50c5-4810-8b65-22aea13b2b0b",
   "metadata": {},
   "outputs": [],
   "source": [
    "dennys_ihop_wh_gdf[\"IHOPs\"] = dennys_ihop_wh_gdf[\"IHOPs\"].astype(int)\n",
    "dennys_ihop_wh_gdf[\"DENNYS\"] = dennys_ihop_wh_gdf[\"DENNYS\"].astype(int)\n",
    "dennys_ihop_wh_gdf[\"WHS\"] = dennys_ihop_wh_gdf[\"WHS\"].astype(int)"
   ]
  },
  {
   "cell_type": "code",
   "execution_count": null,
   "id": "7997a4f4-b2ea-41ff-906d-78359a02b58b",
   "metadata": {},
   "outputs": [],
   "source": [
    "## Doesn't work if"
   ]
  },
  {
   "cell_type": "code",
   "execution_count": 38,
   "id": "8a73291a-51ff-4f73-b6ab-043c185f09f3",
   "metadata": {},
   "outputs": [],
   "source": [
    "dennys_ihop_wh_gdf[\"MOST_STORES\"] = dennys_ihop_wh_gdf[\n",
    "    dennys_ihop_wh_gdf.columns[2:]\n",
    "].idxmax(axis=1)"
   ]
  },
  {
   "cell_type": "code",
   "execution_count": 40,
   "id": "5d76ad82-60a2-4aee-9bc4-73b29d5c82e5",
   "metadata": {},
   "outputs": [],
   "source": [
    "def more_stores(row) -> str:\n",
    "    dennys = row[\"DENNYS\"]\n",
    "    ihop = row[\"IHOPs\"]\n",
    "    wh = row[\"WHS\"]\n",
    "    if dennys > ihop and dennys > wh:\n",
    "        return \"More Denny's\"\n",
    "    if ihop > dennys and ihop > wh:\n",
    "        return \"More IHOPs\"\n",
    "    if wh > dennys and wh > ihop:\n",
    "        return \"More WHs\"\n",
    "    else:\n",
    "        return \"Edge Case\""
   ]
  },
  {
   "cell_type": "code",
   "execution_count": 42,
   "id": "8f619a73-16cf-43e4-8155-75ca9d83b9ec",
   "metadata": {},
   "outputs": [],
   "source": [
    "dennys_ihop_wh_gdf[\"label\"] = dennys_ihop_wh_gdf.apply(\n",
    "    lambda row: more_stores(row), axis=1\n",
    ")"
   ]
  },
  {
   "cell_type": "code",
   "execution_count": 44,
   "id": "fe3414ad-5ccf-4da8-909e-3a1e71820d4b",
   "metadata": {},
   "outputs": [
    {
     "data": {
      "text/html": [
       "<div>\n",
       "<style scoped>\n",
       "    .dataframe tbody tr th:only-of-type {\n",
       "        vertical-align: middle;\n",
       "    }\n",
       "\n",
       "    .dataframe tbody tr th {\n",
       "        vertical-align: top;\n",
       "    }\n",
       "\n",
       "    .dataframe thead th {\n",
       "        text-align: right;\n",
       "    }\n",
       "</style>\n",
       "<table border=\"1\" class=\"dataframe\">\n",
       "  <thead>\n",
       "    <tr style=\"text-align: right;\">\n",
       "      <th></th>\n",
       "      <th>geometry</th>\n",
       "      <th>STUSPS</th>\n",
       "      <th>IHOPs</th>\n",
       "      <th>DENNYS</th>\n",
       "      <th>WHS</th>\n",
       "      <th>MOST_STORES</th>\n",
       "      <th>label</th>\n",
       "    </tr>\n",
       "  </thead>\n",
       "  <tbody>\n",
       "    <tr>\n",
       "      <th>8</th>\n",
       "      <td>MULTIPOLYGON (((-1357016.205 78008.02, -135633...</td>\n",
       "      <td>ID</td>\n",
       "      <td>7</td>\n",
       "      <td>7</td>\n",
       "      <td>0</td>\n",
       "      <td>IHOPs</td>\n",
       "      <td>Edge Case</td>\n",
       "    </tr>\n",
       "    <tr>\n",
       "      <th>36</th>\n",
       "      <td>MULTIPOLYGON (((1950799.304 -402452.215, 19512...</td>\n",
       "      <td>DC</td>\n",
       "      <td>2</td>\n",
       "      <td>2</td>\n",
       "      <td>0</td>\n",
       "      <td>IHOPs</td>\n",
       "      <td>Edge Case</td>\n",
       "    </tr>\n",
       "    <tr>\n",
       "      <th>47</th>\n",
       "      <td>MULTIPOLYGON (((-296121.109 437082.483, -29610...</td>\n",
       "      <td>ND</td>\n",
       "      <td>3</td>\n",
       "      <td>3</td>\n",
       "      <td>0</td>\n",
       "      <td>IHOPs</td>\n",
       "      <td>Edge Case</td>\n",
       "    </tr>\n",
       "  </tbody>\n",
       "</table>\n",
       "</div>"
      ],
      "text/plain": [
       "                                             geometry STUSPS  IHOPs  DENNYS  \\\n",
       "8   MULTIPOLYGON (((-1357016.205 78008.02, -135633...     ID      7       7   \n",
       "36  MULTIPOLYGON (((1950799.304 -402452.215, 19512...     DC      2       2   \n",
       "47  MULTIPOLYGON (((-296121.109 437082.483, -29610...     ND      3       3   \n",
       "\n",
       "    WHS MOST_STORES      label  \n",
       "8     0       IHOPs  Edge Case  \n",
       "36    0       IHOPs  Edge Case  \n",
       "47    0       IHOPs  Edge Case  "
      ]
     },
     "execution_count": 44,
     "metadata": {},
     "output_type": "execute_result"
    }
   ],
   "source": [
    "dennys_ihop_wh_gdf[dennys_ihop_wh_gdf[\"label\"] == \"Edge Case\"]"
   ]
  },
  {
   "cell_type": "markdown",
   "id": "0caeb815-0aeb-4729-9552-ed24762434de",
   "metadata": {},
   "source": [
    "## Fix Edge cases"
   ]
  },
  {
   "cell_type": "code",
   "execution_count": 46,
   "id": "6c11b4d4-e82a-4bbb-90d0-9328126cb81b",
   "metadata": {},
   "outputs": [],
   "source": [
    "def more_stores(row) -> str:\n",
    "    dennys = row[\"DENNYS\"]\n",
    "    ihop = row[\"IHOPs\"]\n",
    "    wh = row[\"WHS\"]\n",
    "    if dennys > ihop and dennys > wh:\n",
    "        return \"More Denny's\"\n",
    "    if ihop > dennys and ihop > wh:\n",
    "        return \"More IHOPs\"\n",
    "    if wh > dennys and wh > ihop:\n",
    "        return \"More WHs\"\n",
    "    if ihop == dennys:\n",
    "        return \"Same Amount\"\n",
    "    else:\n",
    "        return \"Edge Case\""
   ]
  },
  {
   "cell_type": "code",
   "execution_count": 47,
   "id": "f16619f0-cc5d-46c9-9575-063fd680715f",
   "metadata": {},
   "outputs": [],
   "source": [
    "dennys_ihop_wh_gdf[\"label\"] = dennys_ihop_wh_gdf.apply(\n",
    "    lambda row: more_stores(row), axis=1\n",
    ")"
   ]
  },
  {
   "cell_type": "code",
   "execution_count": 48,
   "id": "418bd69e-d395-4a81-b6b3-e837d10681a8",
   "metadata": {},
   "outputs": [
    {
     "data": {
      "text/html": [
       "<div>\n",
       "<style scoped>\n",
       "    .dataframe tbody tr th:only-of-type {\n",
       "        vertical-align: middle;\n",
       "    }\n",
       "\n",
       "    .dataframe tbody tr th {\n",
       "        vertical-align: top;\n",
       "    }\n",
       "\n",
       "    .dataframe thead th {\n",
       "        text-align: right;\n",
       "    }\n",
       "</style>\n",
       "<table border=\"1\" class=\"dataframe\">\n",
       "  <thead>\n",
       "    <tr style=\"text-align: right;\">\n",
       "      <th></th>\n",
       "      <th>geometry</th>\n",
       "      <th>STUSPS</th>\n",
       "      <th>IHOPs</th>\n",
       "      <th>DENNYS</th>\n",
       "      <th>WHS</th>\n",
       "      <th>MOST_STORES</th>\n",
       "      <th>label</th>\n",
       "    </tr>\n",
       "  </thead>\n",
       "  <tbody>\n",
       "  </tbody>\n",
       "</table>\n",
       "</div>"
      ],
      "text/plain": [
       "Empty GeoDataFrame\n",
       "Columns: [geometry, STUSPS, IHOPs, DENNYS, WHS, MOST_STORES, label]\n",
       "Index: []"
      ]
     },
     "execution_count": 48,
     "metadata": {},
     "output_type": "execute_result"
    }
   ],
   "source": [
    "dennys_ihop_wh_gdf[dennys_ihop_wh_gdf[\"label\"] == \"Edge Case\"]"
   ]
  },
  {
   "cell_type": "code",
   "execution_count": 49,
   "id": "6bb44f2e-cb29-40a3-800d-ba02306495cc",
   "metadata": {},
   "outputs": [],
   "source": [
    "dennys_ihop_wh_gdf = dennys_ihop_wh_gdf.to_crs(9311)\n",
    "dennys_ihop_wh_gdf.to_file(\"data/ihop_dennys_wh.gpkg\")"
   ]
  },
  {
   "cell_type": "code",
   "execution_count": null,
   "id": "6d3b5ed3-365a-46fe-9a8b-f3fd2641d7d4",
   "metadata": {},
   "outputs": [],
   "source": []
  }
 ],
 "metadata": {
  "kernelspec": {
   "display_name": "Python 3 (ipykernel)",
   "language": "python",
   "name": "python3"
  },
  "language_info": {
   "codemirror_mode": {
    "name": "ipython",
    "version": 3
   },
   "file_extension": ".py",
   "mimetype": "text/x-python",
   "name": "python",
   "nbconvert_exporter": "python",
   "pygments_lexer": "ipython3",
   "version": "3.11.11"
  }
 },
 "nbformat": 4,
 "nbformat_minor": 5
}
