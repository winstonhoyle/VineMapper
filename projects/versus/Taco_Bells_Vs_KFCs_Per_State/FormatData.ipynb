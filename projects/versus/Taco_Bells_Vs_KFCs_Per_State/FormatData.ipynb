{
 "cells": [
  {
   "cell_type": "code",
   "execution_count": 8,
   "id": "c100310b-4780-4ebd-b955-45512361b3e5",
   "metadata": {},
   "outputs": [],
   "source": [
    "import geopandas as gpd"
   ]
  },
  {
   "cell_type": "markdown",
   "id": "729a5eed-ea60-46d5-b906-b203bc305bb0",
   "metadata": {},
   "source": [
    "## Open Taco BellData"
   ]
  },
  {
   "cell_type": "code",
   "execution_count": 9,
   "id": "fa78b64f-250a-4b47-809c-f2bbf5307567",
   "metadata": {},
   "outputs": [],
   "source": [
    "taco_bell_gdf = gpd.read_file(\"data/taco_bell_per_state.gpkg\")"
   ]
  },
  {
   "cell_type": "code",
   "execution_count": 10,
   "id": "dd88ee34-bd85-42cf-87e6-16e59a8b5e4a",
   "metadata": {},
   "outputs": [],
   "source": [
    "taco_bell_gdf = gpd.read_file(\"data/taco_bell_per_state.gpkg\")\n",
    "taco_bell_gdf = taco_bell_gdf.to_crs(9311)\n",
    "taco_bell_gdf[\"tb\"] = taco_bell_gdf[\"stores\"].astype(int)\n",
    "taco_bell_gdf = taco_bell_gdf[[\"geometry\", \"STUSPS\", \"tb\"]]"
   ]
  },
  {
   "cell_type": "markdown",
   "id": "e1fbc6a2-c032-467a-af60-1e4eff759e4b",
   "metadata": {},
   "source": [
    "## Get KFC Data"
   ]
  },
  {
   "cell_type": "code",
   "execution_count": 11,
   "id": "bff9529f-7dc9-4c66-8bae-9997fd332577",
   "metadata": {},
   "outputs": [],
   "source": [
    "kfc_gdf = gpd.read_file(\"data/kfcs_per_state.gpkg\")\n",
    "kfc_gdf = kfc_gdf.to_crs(9311)\n",
    "kfc_gdf[\"kfc\"] = kfc_gdf[\"stores\"].astype(int)\n",
    "kfc_gdf = kfc_gdf[[\"STUSPS\", \"kfc\"]]"
   ]
  },
  {
   "cell_type": "markdown",
   "id": "250c1eb5-8423-4731-a0b7-0636aa8c0d78",
   "metadata": {},
   "source": [
    "#### Merge Data now"
   ]
  },
  {
   "cell_type": "code",
   "execution_count": 12,
   "id": "a3f217f9-ed84-4e2f-8542-6b915bda2143",
   "metadata": {},
   "outputs": [],
   "source": [
    "kfc_tb_gdf = taco_bell_gdf.merge(kfc_gdf, on=\"STUSPS\", how=\"inner\")"
   ]
  },
  {
   "cell_type": "code",
   "execution_count": 13,
   "id": "8a73291a-51ff-4f73-b6ab-043c185f09f3",
   "metadata": {},
   "outputs": [],
   "source": [
    "kfc_tb_gdf[\"tb_to_kfc\"] = kfc_tb_gdf[\"tb\"] - kfc_tb_gdf[\"kfc\"]"
   ]
  },
  {
   "cell_type": "code",
   "execution_count": 14,
   "id": "6bb44f2e-cb29-40a3-800d-ba02306495cc",
   "metadata": {},
   "outputs": [],
   "source": [
    "kfc_tb_gdf = kfc_tb_gdf.to_crs(9311)\n",
    "kfc_tb_gdf.to_file(\"data/kfc_tb.gpkg\")"
   ]
  },
  {
   "cell_type": "code",
   "execution_count": null,
   "id": "6d3b5ed3-365a-46fe-9a8b-f3fd2641d7d4",
   "metadata": {},
   "outputs": [],
   "source": []
  }
 ],
 "metadata": {
  "kernelspec": {
   "display_name": "Python 3 (ipykernel)",
   "language": "python",
   "name": "python3"
  },
  "language_info": {
   "codemirror_mode": {
    "name": "ipython",
    "version": 3
   },
   "file_extension": ".py",
   "mimetype": "text/x-python",
   "name": "python",
   "nbconvert_exporter": "python",
   "pygments_lexer": "ipython3",
   "version": "3.11.11"
  }
 },
 "nbformat": 4,
 "nbformat_minor": 5
}
