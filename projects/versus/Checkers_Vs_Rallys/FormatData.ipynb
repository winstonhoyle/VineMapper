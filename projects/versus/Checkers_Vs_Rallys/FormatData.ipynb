{
 "cells": [
  {
   "cell_type": "code",
   "execution_count": 14,
   "id": "c86ad9f6-4aaf-469e-a56e-363083168e1e",
   "metadata": {},
   "outputs": [],
   "source": [
    "import os\n",
    "import random\n",
    "import time"
   ]
  },
  {
   "cell_type": "code",
   "execution_count": 15,
   "id": "e1e2e462-87ac-4174-a305-0e36322586c5",
   "metadata": {},
   "outputs": [],
   "source": [
    "from typing import Tuple"
   ]
  },
  {
   "cell_type": "code",
   "execution_count": 164,
   "id": "10fa1d09-7717-4ea8-9ce7-1cef37b4da9c",
   "metadata": {},
   "outputs": [],
   "source": [
    "import cloudscraper\n",
    "from bs4 import BeautifulSoup\n",
    "import geopandas as gpd\n",
    "import numpy as np\n",
    "import pandas as pd"
   ]
  },
  {
   "cell_type": "code",
   "execution_count": 17,
   "id": "d22202a0-bf3c-4953-81ce-105a19e002a0",
   "metadata": {},
   "outputs": [],
   "source": [
    "from shapely.geometry import Point\n",
    "from tqdm.notebook import tqdm"
   ]
  },
  {
   "cell_type": "markdown",
   "id": "02e1dfb5-464d-4984-8c84-5599ce9dcd5d",
   "metadata": {},
   "source": [
    "## Get State Data"
   ]
  },
  {
   "cell_type": "code",
   "execution_count": 18,
   "id": "84b53c65-5746-4ab8-8c99-6dfe3e967797",
   "metadata": {},
   "outputs": [],
   "source": [
    "file_path = \"data/cb_2018_us_state_500k/cb_2018_us_state_500k.shp\"\n",
    "states_df = gpd.read_file(file_path)"
   ]
  },
  {
   "cell_type": "code",
   "execution_count": 19,
   "id": "191755a6-eb92-4683-833e-b69f4be9f3f5",
   "metadata": {},
   "outputs": [],
   "source": [
    "states_df = states_df[[\"STUSPS\", \"NAME\", \"geometry\"]]"
   ]
  },
  {
   "cell_type": "markdown",
   "id": "f3ad4feb-2496-4c2f-827b-04c586ef17ba",
   "metadata": {},
   "source": [
    "## Get RestData"
   ]
  },
  {
   "cell_type": "code",
   "execution_count": 76,
   "id": "4c063aa4-d1b0-400e-a449-8125a2a0596a",
   "metadata": {},
   "outputs": [],
   "source": [
    "scraper = cloudscraper.create_scraper()"
   ]
  },
  {
   "cell_type": "code",
   "execution_count": 77,
   "id": "267af8f6-5ae7-4c32-864b-5f970236c8b8",
   "metadata": {},
   "outputs": [],
   "source": [
    "def get_coords(store_url: str) -> Tuple[Point, str]:\n",
    "    r = scraper.get(store_url)\n",
    "    soup = BeautifulSoup(r.text, \"html.parser\")\n",
    "    lat = float(soup.find(\"meta\", {\"itemprop\": \"latitude\"}).attrs[\"content\"])\n",
    "    lon = float(soup.find(\"meta\", {\"itemprop\": \"longitude\"}).attrs[\"content\"])\n",
    "    name = soup.find(\"h1\", {\"class\": \"Hero-title\"}).text.split(\" \")[0]\n",
    "    return (Point(lon, lat), name)"
   ]
  },
  {
   "cell_type": "code",
   "execution_count": 79,
   "id": "b1793bb5-26c3-4408-8572-175ba688bb03",
   "metadata": {
    "scrolled": true
   },
   "outputs": [
    {
     "data": {
      "application/vnd.jupyter.widget-view+json": {
       "model_id": "6bd10a72dc314132b956c960c2a722c9",
       "version_major": 2,
       "version_minor": 0
      },
      "text/plain": [
       "Parsing States:   0%|          | 0/29 [00:00<?, ?it/s]"
      ]
     },
     "metadata": {},
     "output_type": "display_data"
    },
    {
     "data": {
      "application/vnd.jupyter.widget-view+json": {
       "model_id": "a6e558f3a5f94787a5382f0a78e94773",
       "version_major": 2,
       "version_minor": 0
      },
      "text/plain": [
       "Parsing Locations in al:   0%|          | 0/10 [00:00<?, ?it/s]"
      ]
     },
     "metadata": {},
     "output_type": "display_data"
    },
    {
     "name": "stdout",
     "output_type": "stream",
     "text": [
      "17 stores\n"
     ]
    },
    {
     "data": {
      "application/vnd.jupyter.widget-view+json": {
       "model_id": "4e4e8148e249438d9ec54810e12bce55",
       "version_major": 2,
       "version_minor": 0
      },
      "text/plain": [
       "Parsing Locations in az:   0%|          | 0/6 [00:00<?, ?it/s]"
      ]
     },
     "metadata": {},
     "output_type": "display_data"
    },
    {
     "name": "stdout",
     "output_type": "stream",
     "text": [
      "10 stores\n"
     ]
    },
    {
     "data": {
      "application/vnd.jupyter.widget-view+json": {
       "model_id": "c941b89dba6e448faaad5447cee16c1c",
       "version_major": 2,
       "version_minor": 0
      },
      "text/plain": [
       "Parsing Locations in ar:   0%|          | 0/7 [00:00<?, ?it/s]"
      ]
     },
     "metadata": {},
     "output_type": "display_data"
    },
    {
     "name": "stdout",
     "output_type": "stream",
     "text": [
      "12 stores\n"
     ]
    },
    {
     "data": {
      "application/vnd.jupyter.widget-view+json": {
       "model_id": "d2cf4ae268294dd9bc649ecd98809bbd",
       "version_major": 2,
       "version_minor": 0
      },
      "text/plain": [
       "Parsing Locations in ca:   0%|          | 0/27 [00:00<?, ?it/s]"
      ]
     },
     "metadata": {},
     "output_type": "display_data"
    },
    {
     "name": "stdout",
     "output_type": "stream",
     "text": [
      "https://locations.checkersandrallys.com/ca/merced/3105-state-highway-59 'NoneType' object has no attribute 'text'\n",
      "35 stores\n"
     ]
    },
    {
     "data": {
      "application/vnd.jupyter.widget-view+json": {
       "model_id": "9ea884ca102f4ebdb8c6b64bca2a200b",
       "version_major": 2,
       "version_minor": 0
      },
      "text/plain": [
       "Parsing Locations in de:   0%|          | 0/2 [00:00<?, ?it/s]"
      ]
     },
     "metadata": {},
     "output_type": "display_data"
    },
    {
     "name": "stdout",
     "output_type": "stream",
     "text": [
      "3 stores\n"
     ]
    },
    {
     "data": {
      "application/vnd.jupyter.widget-view+json": {
       "model_id": "7593979441864bd7a1bd7e0aa913fdfe",
       "version_major": 2,
       "version_minor": 0
      },
      "text/plain": [
       "Parsing Locations in fl:   0%|          | 0/85 [00:00<?, ?it/s]"
      ]
     },
     "metadata": {},
     "output_type": "display_data"
    },
    {
     "name": "stdout",
     "output_type": "stream",
     "text": [
      "144 stores\n"
     ]
    },
    {
     "data": {
      "application/vnd.jupyter.widget-view+json": {
       "model_id": "a72cf29ed7bc4c8d8e1ea8c0ae5704fb",
       "version_major": 2,
       "version_minor": 0
      },
      "text/plain": [
       "Parsing Locations in ga:   0%|          | 0/45 [00:00<?, ?it/s]"
      ]
     },
     "metadata": {},
     "output_type": "display_data"
    },
    {
     "name": "stdout",
     "output_type": "stream",
     "text": [
      "72 stores\n"
     ]
    },
    {
     "data": {
      "application/vnd.jupyter.widget-view+json": {
       "model_id": "66a345f315d040719c3e52d7f295ee66",
       "version_major": 2,
       "version_minor": 0
      },
      "text/plain": [
       "Parsing Locations in il:   0%|          | 0/17 [00:00<?, ?it/s]"
      ]
     },
     "metadata": {},
     "output_type": "display_data"
    },
    {
     "name": "stdout",
     "output_type": "stream",
     "text": [
      "19 stores\n"
     ]
    },
    {
     "data": {
      "application/vnd.jupyter.widget-view+json": {
       "model_id": "989a8ba0982f405ca4b48c805987afb8",
       "version_major": 2,
       "version_minor": 0
      },
      "text/plain": [
       "Parsing Locations in in:   0%|          | 0/20 [00:00<?, ?it/s]"
      ]
     },
     "metadata": {},
     "output_type": "display_data"
    },
    {
     "name": "stdout",
     "output_type": "stream",
     "text": [
      "36 stores\n"
     ]
    },
    {
     "data": {
      "application/vnd.jupyter.widget-view+json": {
       "model_id": "8bd975e5221b43e0b4d49151076dc499",
       "version_major": 2,
       "version_minor": 0
      },
      "text/plain": [
       "Parsing Locations in ia:   0%|          | 0/1 [00:00<?, ?it/s]"
      ]
     },
     "metadata": {},
     "output_type": "display_data"
    },
    {
     "name": "stdout",
     "output_type": "stream",
     "text": [
      "2 stores\n"
     ]
    },
    {
     "data": {
      "application/vnd.jupyter.widget-view+json": {
       "model_id": "84962311d51249bd8dd58dd4e2baa7a3",
       "version_major": 2,
       "version_minor": 0
      },
      "text/plain": [
       "Parsing Locations in ky:   0%|          | 0/20 [00:00<?, ?it/s]"
      ]
     },
     "metadata": {},
     "output_type": "display_data"
    },
    {
     "name": "stdout",
     "output_type": "stream",
     "text": [
      "https://locations.checkersandrallys.com/ky/lexington/2975-richmond-road-1048 'NoneType' object has no attribute 'text'\n",
      "31 stores\n"
     ]
    },
    {
     "data": {
      "application/vnd.jupyter.widget-view+json": {
       "model_id": "bede8436b6b1432383f303fc58bf6cc6",
       "version_major": 2,
       "version_minor": 0
      },
      "text/plain": [
       "Parsing Locations in la:   0%|          | 0/23 [00:00<?, ?it/s]"
      ]
     },
     "metadata": {},
     "output_type": "display_data"
    },
    {
     "name": "stdout",
     "output_type": "stream",
     "text": [
      "39 stores\n"
     ]
    },
    {
     "data": {
      "application/vnd.jupyter.widget-view+json": {
       "model_id": "4f7ad999550749b6a323daeec63c32e1",
       "version_major": 2,
       "version_minor": 0
      },
      "text/plain": [
       "Parsing Locations in md:   0%|          | 0/28 [00:00<?, ?it/s]"
      ]
     },
     "metadata": {},
     "output_type": "display_data"
    },
    {
     "name": "stdout",
     "output_type": "stream",
     "text": [
      "35 stores\n"
     ]
    },
    {
     "data": {
      "application/vnd.jupyter.widget-view+json": {
       "model_id": "35bd00abe98847f7a002923d9ad85831",
       "version_major": 2,
       "version_minor": 0
      },
      "text/plain": [
       "Parsing Locations in mi:   0%|          | 0/41 [00:00<?, ?it/s]"
      ]
     },
     "metadata": {},
     "output_type": "display_data"
    },
    {
     "name": "stdout",
     "output_type": "stream",
     "text": [
      "59 stores\n"
     ]
    },
    {
     "data": {
      "application/vnd.jupyter.widget-view+json": {
       "model_id": "947a197d728f4ef48cad61ab0a45641c",
       "version_major": 2,
       "version_minor": 0
      },
      "text/plain": [
       "Parsing Locations in ms:   0%|          | 0/20 [00:00<?, ?it/s]"
      ]
     },
     "metadata": {},
     "output_type": "display_data"
    },
    {
     "name": "stdout",
     "output_type": "stream",
     "text": [
      "23 stores\n"
     ]
    },
    {
     "data": {
      "application/vnd.jupyter.widget-view+json": {
       "model_id": "922c234335404340aeb8c7d7e4f97211",
       "version_major": 2,
       "version_minor": 0
      },
      "text/plain": [
       "Parsing Locations in mo:   0%|          | 0/13 [00:00<?, ?it/s]"
      ]
     },
     "metadata": {},
     "output_type": "display_data"
    },
    {
     "name": "stdout",
     "output_type": "stream",
     "text": [
      "20 stores\n"
     ]
    },
    {
     "data": {
      "application/vnd.jupyter.widget-view+json": {
       "model_id": "0b7fdf55df2b459fa818681d997df7be",
       "version_major": 2,
       "version_minor": 0
      },
      "text/plain": [
       "Parsing Locations in nv:   0%|          | 0/1 [00:00<?, ?it/s]"
      ]
     },
     "metadata": {},
     "output_type": "display_data"
    },
    {
     "name": "stdout",
     "output_type": "stream",
     "text": [
      "https://locations.checkersandrallys.com/nv/las-vegas/3978-east-lake-mead-boulevard 'NoneType' object has no attribute 'text'\n",
      "5 stores\n"
     ]
    },
    {
     "data": {
      "application/vnd.jupyter.widget-view+json": {
       "model_id": "3acb82984728413cae7979e85c09090f",
       "version_major": 2,
       "version_minor": 0
      },
      "text/plain": [
       "Parsing Locations in nj:   0%|          | 0/11 [00:00<?, ?it/s]"
      ]
     },
     "metadata": {},
     "output_type": "display_data"
    },
    {
     "name": "stdout",
     "output_type": "stream",
     "text": [
      "12 stores\n"
     ]
    },
    {
     "data": {
      "application/vnd.jupyter.widget-view+json": {
       "model_id": "64c95a37c6044a3ea4667afe3e919ebb",
       "version_major": 2,
       "version_minor": 0
      },
      "text/plain": [
       "Parsing Locations in ny:   0%|          | 0/21 [00:00<?, ?it/s]"
      ]
     },
     "metadata": {},
     "output_type": "display_data"
    },
    {
     "name": "stdout",
     "output_type": "stream",
     "text": [
      "35 stores\n"
     ]
    },
    {
     "data": {
      "application/vnd.jupyter.widget-view+json": {
       "model_id": "94358fbbcef9484aa16e9933022a3acd",
       "version_major": 2,
       "version_minor": 0
      },
      "text/plain": [
       "Parsing Locations in nc:   0%|          | 0/8 [00:00<?, ?it/s]"
      ]
     },
     "metadata": {},
     "output_type": "display_data"
    },
    {
     "name": "stdout",
     "output_type": "stream",
     "text": [
      "https://locations.checkersandrallys.com/nc/greenville/703-s.e.-greenville-blvd.,-suite-#23 'NoneType' object has no attribute 'attrs'\n",
      "9 stores\n"
     ]
    },
    {
     "data": {
      "application/vnd.jupyter.widget-view+json": {
       "model_id": "186c7799fea1443faf642748e87214cf",
       "version_major": 2,
       "version_minor": 0
      },
      "text/plain": [
       "Parsing Locations in oh:   0%|          | 0/33 [00:00<?, ?it/s]"
      ]
     },
     "metadata": {},
     "output_type": "display_data"
    },
    {
     "name": "stdout",
     "output_type": "stream",
     "text": [
      "https://locations.checkersandrallys.com/oh/cincinnati/4115-glenway-avenue-#1 'NoneType' object has no attribute 'attrs'\n",
      "67 stores\n"
     ]
    },
    {
     "data": {
      "application/vnd.jupyter.widget-view+json": {
       "model_id": "24a9b90d74a94f72be0aee785da53130",
       "version_major": 2,
       "version_minor": 0
      },
      "text/plain": [
       "Parsing Locations in pa:   0%|          | 0/5 [00:00<?, ?it/s]"
      ]
     },
     "metadata": {},
     "output_type": "display_data"
    },
    {
     "name": "stdout",
     "output_type": "stream",
     "text": [
      "9 stores\n"
     ]
    },
    {
     "data": {
      "application/vnd.jupyter.widget-view+json": {
       "model_id": "4cfe43c51cc34d94a7595a17c50f1eaa",
       "version_major": 2,
       "version_minor": 0
      },
      "text/plain": [
       "Parsing Locations in sc:   0%|          | 0/5 [00:00<?, ?it/s]"
      ]
     },
     "metadata": {},
     "output_type": "display_data"
    },
    {
     "name": "stdout",
     "output_type": "stream",
     "text": [
      "8 stores\n"
     ]
    },
    {
     "data": {
      "application/vnd.jupyter.widget-view+json": {
       "model_id": "6f4591c915184b6dba742483af697213",
       "version_major": 2,
       "version_minor": 0
      },
      "text/plain": [
       "Parsing Locations in tn:   0%|          | 0/10 [00:00<?, ?it/s]"
      ]
     },
     "metadata": {},
     "output_type": "display_data"
    },
    {
     "name": "stdout",
     "output_type": "stream",
     "text": [
      "14 stores\n"
     ]
    },
    {
     "data": {
      "application/vnd.jupyter.widget-view+json": {
       "model_id": "b2d3b84846ab4850bdc90044a64143be",
       "version_major": 2,
       "version_minor": 0
      },
      "text/plain": [
       "Parsing Locations in tx:   0%|          | 0/14 [00:00<?, ?it/s]"
      ]
     },
     "metadata": {},
     "output_type": "display_data"
    },
    {
     "name": "stdout",
     "output_type": "stream",
     "text": [
      "21 stores\n"
     ]
    },
    {
     "data": {
      "application/vnd.jupyter.widget-view+json": {
       "model_id": "0bac77222cae4234b9150831cf051773",
       "version_major": 2,
       "version_minor": 0
      },
      "text/plain": [
       "Parsing Locations in va:   0%|          | 0/12 [00:00<?, ?it/s]"
      ]
     },
     "metadata": {},
     "output_type": "display_data"
    },
    {
     "name": "stdout",
     "output_type": "stream",
     "text": [
      "15 stores\n"
     ]
    },
    {
     "data": {
      "application/vnd.jupyter.widget-view+json": {
       "model_id": "9a86074c68db48739662c8f31090da85",
       "version_major": 2,
       "version_minor": 0
      },
      "text/plain": [
       "Parsing Locations in dc:   0%|          | 0/1 [00:00<?, ?it/s]"
      ]
     },
     "metadata": {},
     "output_type": "display_data"
    },
    {
     "name": "stdout",
     "output_type": "stream",
     "text": [
      "1 stores\n"
     ]
    },
    {
     "data": {
      "application/vnd.jupyter.widget-view+json": {
       "model_id": "647c0de2e7654fd8902ac57bd41be370",
       "version_major": 2,
       "version_minor": 0
      },
      "text/plain": [
       "Parsing Locations in wv:   0%|          | 0/3 [00:00<?, ?it/s]"
      ]
     },
     "metadata": {},
     "output_type": "display_data"
    },
    {
     "name": "stdout",
     "output_type": "stream",
     "text": [
      "3 stores\n"
     ]
    },
    {
     "data": {
      "application/vnd.jupyter.widget-view+json": {
       "model_id": "923a808a0f8a42e78f2346eee963e2db",
       "version_major": 2,
       "version_minor": 0
      },
      "text/plain": [
       "Parsing Locations in wi:   0%|          | 0/2 [00:00<?, ?it/s]"
      ]
     },
     "metadata": {},
     "output_type": "display_data"
    },
    {
     "name": "stdout",
     "output_type": "stream",
     "text": [
      "4 stores\n"
     ]
    }
   ],
   "source": [
    "root_url = \"https://locations.checkersandrallys.com/\"\n",
    "r = scraper.get(root_url)\n",
    "soup = BeautifulSoup(r.text, \"html.parser\")\n",
    "state_as = soup.find_all(\"a\", {\"class\": \"Directory-listLink\"})\n",
    "\n",
    "# Parse all locations in a state\n",
    "for state_a in tqdm(state_as, desc=\"Parsing States\"):\n",
    "    state_store_list = []\n",
    "    state_code = state_a[\"href\"].split(\"/\")[0]\n",
    "    state_url = os.path.join(root_url, state_code)\n",
    "\n",
    "    # If File exists continue\n",
    "    if os.path.isfile(f\"data/states/{state_code}.gpkg\"):\n",
    "        continue\n",
    "\n",
    "    r_state = scraper.get(state_url)\n",
    "\n",
    "    if r_state.status_code != 200:\n",
    "        print(state_code)\n",
    "        continue\n",
    "\n",
    "    soup_state = BeautifulSoup(r_state.text, \"html.parser\")\n",
    "    city_as = soup_state.find_all(\"a\", {\"class\": \"Directory-listLink\"})\n",
    "    city_urls = [\n",
    "        os.path.join(root_url, os.path.join(\"/\".join(city_a[\"href\"].split(\"/\")[:2])))\n",
    "        for city_a in city_as\n",
    "    ]\n",
    "\n",
    "    for city_url in tqdm(city_urls, desc=f\"Parsing Locations in {state_code}\"):\n",
    "        r_city = scraper.get(city_url)\n",
    "        soup_city = BeautifulSoup(r_city.text, \"html.parser\")\n",
    "        restaurant_as = soup_city.find_all(\n",
    "            \"a\", {\"class\": \"Teaser-button\", \"data-ya-track\": \"moreinfo\"}\n",
    "        )\n",
    "        restaurant_urls = [\n",
    "            restaurant_a[\"href\"].replace(\"../\", root_url)\n",
    "            for restaurant_a in restaurant_as\n",
    "        ]\n",
    "        for restaurant_url in restaurant_urls:\n",
    "            try:\n",
    "                point, name = get_coords(restaurant_url)\n",
    "            except Exception as e:\n",
    "                print(restaurant_url, e)\n",
    "            store_dict = {\"STUSPS\": state_code.upper(), \"geometry\": point, \"name\": name}\n",
    "            state_store_list.append(store_dict)\n",
    "            time.sleep(random.uniform(0.01, 0.5))\n",
    "\n",
    "    if state_store_list:\n",
    "        print(len(state_store_list), \"stores\")\n",
    "        state_rest_gdf = gpd.GeoDataFrame(state_store_list, crs=4326)\n",
    "        state_rest_gdf.to_file(f\"data/states/{state_code}.gpkg\")"
   ]
  },
  {
   "cell_type": "markdown",
   "id": "a3d101d6-ffc1-4266-a476-61caf9082fa2",
   "metadata": {},
   "source": [
    "## Fix Incorrect URLs\n",
    "#### https://locations.checkersandrallys.com/ca/merced/3105-state-highway-59\n",
    "#### https://locations.checkersandrallys.com/ky/lexington/2975-richmond-road-1048 \n",
    "#### https://locations.checkersandrallys.com/nv/las-vegas/3978-east-lake-mead-boulevard \n",
    "#### https://locations.checkersandrallys.com/nc/greenville/703-s.e.-greenville-blvd.,-suite-#23 \n",
    "#### https://locations.checkersandrallys.com/oh/cincinnati/4115-glenway-avenue-#1 "
   ]
  },
  {
   "cell_type": "code",
   "execution_count": 84,
   "id": "c10fbbdd-a5d5-443c-830c-5df5c95fa0bc",
   "metadata": {},
   "outputs": [],
   "source": [
    "added_stores = [\n",
    "    {\"STUSPS\": \"CA\", \"geometry\": Point(-120.5056439, 37.3198812), \"name\": \"Rally's\"},\n",
    "    {\"STUSPS\": \"KY\", \"geometry\": Point(-84.44779, 38.003592), \"name\": \"Rally's\"},\n",
    "    {\"STUSPS\": \"NV\", \"geometry\": Point(-115.087543, 36.196204), \"name\": \"Rally's\"},\n",
    "    {\"STUSPS\": \"NC\", \"geometry\": Point(-77.370239, 35.588046), \"name\": \"Checkers\"},\n",
    "    {\"STUSPS\": \"OH\", \"geometry\": Point(-84.582013, 39.114346), \"name\": \"Rally's\"},\n",
    "]\n",
    "added_gdf = gpd.GeoDataFrame(added_stores, crs=4326)"
   ]
  },
  {
   "cell_type": "code",
   "execution_count": 85,
   "id": "c1d32989-5a24-46f7-954f-a607979d4aa5",
   "metadata": {},
   "outputs": [],
   "source": [
    "state_rest_gdfs = []\n",
    "states_path = \"data/states\"\n",
    "for file in os.listdir(\"data/states\"):\n",
    "    constructed_path = os.path.join(states_path, file)\n",
    "    if constructed_path.endswith(\".gpkg\"):\n",
    "        state_rest_gdf = gpd.read_file(constructed_path)\n",
    "        state_rest_gdfs.append(state_rest_gdf)"
   ]
  },
  {
   "cell_type": "code",
   "execution_count": 86,
   "id": "ffeeb436-459f-4c48-a982-2c8588021730",
   "metadata": {},
   "outputs": [],
   "source": [
    "state_rest_gdfs.append(added_gdf)"
   ]
  },
  {
   "cell_type": "code",
   "execution_count": 92,
   "id": "8c3dbe83-66a7-4abe-aa82-61170375498c",
   "metadata": {},
   "outputs": [],
   "source": [
    "rest_gdf = gpd.GeoDataFrame(pd.concat(state_rest_gdfs, ignore_index=True))"
   ]
  },
  {
   "cell_type": "code",
   "execution_count": 99,
   "id": "43e0a64a-5c13-4dd0-9dfa-77f97c4dacde",
   "metadata": {},
   "outputs": [],
   "source": [
    "rest_gdf[\"name\"] = rest_gdf[\"name\"].str.replace(\"-\", \"\")"
   ]
  },
  {
   "cell_type": "code",
   "execution_count": 165,
   "id": "82626e84-9c67-4460-a792-9668dbda6768",
   "metadata": {},
   "outputs": [],
   "source": [
    "rest_gdf = rest_gdf.to_crs(9311)\n",
    "rest_gdf.to_file(f\"data/locations.gpkg\")"
   ]
  },
  {
   "cell_type": "markdown",
   "id": "5a42dfab-fc47-49d7-8092-f08b31392df8",
   "metadata": {},
   "source": [
    "## Get Population Data"
   ]
  },
  {
   "cell_type": "code",
   "execution_count": 166,
   "id": "3cce9c91-abf1-4055-8b9a-5fd1f6cf611f",
   "metadata": {},
   "outputs": [],
   "source": [
    "state_populations = pd.read_excel(\n",
    "    \"data/NST-EST2024-POP.xlsx\", sheet_name=None, engine=\"openpyxl\"\n",
    ")"
   ]
  },
  {
   "cell_type": "code",
   "execution_count": 167,
   "id": "2eaacc28-fa8e-410e-b084-02ce24ec11a1",
   "metadata": {},
   "outputs": [],
   "source": [
    "state_populations_df = state_populations[\"NST-EST2024-POP\"][\n",
    "    [\n",
    "        \"table with row headers in column A and column headers in rows 3 through 4. (leading dots indicate sub-parts)\",\n",
    "        \"Unnamed: 5\",\n",
    "    ]\n",
    "]\n",
    "state_populations_df = state_populations_df.rename(\n",
    "    columns={\n",
    "        \"table with row headers in column A and column headers in rows 3 through 4. (leading dots indicate sub-parts)\": \"NAME\",\n",
    "        \"Unnamed: 5\": \"POPULATION\",\n",
    "    }\n",
    ")\n",
    "state_populations_df[\"NAME\"] = state_populations_df[\"NAME\"].str[1:]"
   ]
  },
  {
   "cell_type": "code",
   "execution_count": 168,
   "id": "2d6342e1-fc3f-4006-8d8a-d7612903a625",
   "metadata": {},
   "outputs": [],
   "source": [
    "states_with_population_df = states_df.merge(state_populations_df, on=\"NAME\", how=\"left\")\n",
    "states_with_population_df = states_with_population_df[\n",
    "    [\"STUSPS\", \"NAME\", \"POPULATION\", \"geometry\"]\n",
    "]"
   ]
  },
  {
   "cell_type": "code",
   "execution_count": 169,
   "id": "94150db1-9ce7-43cb-8c08-3f6d9bb58497",
   "metadata": {},
   "outputs": [],
   "source": [
    "states_with_population_df = states_with_population_df.dropna()"
   ]
  },
  {
   "cell_type": "markdown",
   "id": "af5c5e13-c89d-43ed-8021-13ba93990599",
   "metadata": {},
   "source": [
    "## Merge Data"
   ]
  },
  {
   "cell_type": "code",
   "execution_count": 196,
   "id": "9f8d04fb-84ab-474d-a70c-e92025518b7a",
   "metadata": {},
   "outputs": [],
   "source": [
    "groupby_df = rest_gdf.groupby([\"name\", \"STUSPS\"]).size()\n",
    "checkers_counts_df = pd.DataFrame(groupby_df[\"Checkers\"]).rename(\n",
    "    columns={0: \"Checkers\"}\n",
    ")\n",
    "rallys_counts_df = pd.DataFrame(groupby_df[\"Rally's\"]).rename(columns={0: \"Rally's\"})"
   ]
  },
  {
   "cell_type": "code",
   "execution_count": 199,
   "id": "c2a0f67b-36ba-45cf-9de0-41c210d4f1a8",
   "metadata": {},
   "outputs": [],
   "source": [
    "checkers_vs_rallys_df = rallys_counts_df.merge(\n",
    "    checkers_counts_df, on=\"STUSPS\", how=\"outer\"\n",
    ")"
   ]
  },
  {
   "cell_type": "code",
   "execution_count": 201,
   "id": "40d811c9-7549-4770-a568-d15bc8d9f64e",
   "metadata": {},
   "outputs": [],
   "source": [
    "checkers_vs_rallys_df = checkers_vs_rallys_df.replace(np.nan, 0)\n",
    "checkers_vs_rallys_df[\"Rally's\"] = checkers_vs_rallys_df[\"Rally's\"].astype(int)"
   ]
  },
  {
   "cell_type": "code",
   "execution_count": 202,
   "id": "8a4afa33-893a-4b6b-8df1-f5151243deeb",
   "metadata": {},
   "outputs": [],
   "source": [
    "checkers_vs_rallys_gdf = states_with_population_df.merge(\n",
    "    checkers_vs_rallys_df, on=\"STUSPS\", how=\"left\"\n",
    ")\n",
    "checkers_vs_rallys_gdf = checkers_vs_rallys_gdf.fillna(0)"
   ]
  },
  {
   "cell_type": "code",
   "execution_count": 203,
   "id": "f50526e2-4c7a-4d13-8d5e-aaddbeec7751",
   "metadata": {},
   "outputs": [],
   "source": [
    "checkers_vs_rallys_gdf[\"rallys_per_100k\"] = checkers_vs_rallys_gdf[\"Rally's\"] / (\n",
    "    checkers_vs_rallys_gdf[\"POPULATION\"] / 100_000\n",
    ")\n",
    "checkers_vs_rallys_gdf[\"rallys_per_1m\"] = checkers_vs_rallys_gdf[\"Rally's\"] / (\n",
    "    checkers_vs_rallys_gdf[\"POPULATION\"] / 1_000_000\n",
    ")\n",
    "checkers_vs_rallys_gdf[\"checkers_per_100k\"] = checkers_vs_rallys_gdf[\"Checkers\"] / (\n",
    "    checkers_vs_rallys_gdf[\"POPULATION\"] / 100_000\n",
    ")\n",
    "checkers_vs_rallys_gdf[\"checkers_per_1m\"] = checkers_vs_rallys_gdf[\"Checkers\"] / (\n",
    "    checkers_vs_rallys_gdf[\"POPULATION\"] / 1_000_000\n",
    ")"
   ]
  },
  {
   "cell_type": "code",
   "execution_count": 204,
   "id": "4d00c57e-a978-4938-b5f5-cb176b29cf77",
   "metadata": {},
   "outputs": [],
   "source": [
    "checkers_vs_rallys_gdf = checkers_vs_rallys_gdf.to_crs(9311)"
   ]
  },
  {
   "cell_type": "code",
   "execution_count": 205,
   "id": "f8feb339-fc3c-41f9-8bd8-50ee507bb185",
   "metadata": {},
   "outputs": [],
   "source": [
    "checkers_vs_rallys_gdf.to_file(\"data/checkers_vs_rallys.gpkg\")"
   ]
  },
  {
   "cell_type": "code",
   "execution_count": null,
   "id": "6fe12df3-c59b-48b5-bd11-cdbae9436a65",
   "metadata": {},
   "outputs": [],
   "source": []
  },
  {
   "cell_type": "code",
   "execution_count": null,
   "id": "e92773a5-ed1b-4850-b29c-fcc40f9d5289",
   "metadata": {},
   "outputs": [],
   "source": []
  }
 ],
 "metadata": {
  "kernelspec": {
   "display_name": "Python 3 (ipykernel)",
   "language": "python",
   "name": "python3"
  },
  "language_info": {
   "codemirror_mode": {
    "name": "ipython",
    "version": 3
   },
   "file_extension": ".py",
   "mimetype": "text/x-python",
   "name": "python",
   "nbconvert_exporter": "python",
   "pygments_lexer": "ipython3",
   "version": "3.11.11"
  }
 },
 "nbformat": 4,
 "nbformat_minor": 5
}
