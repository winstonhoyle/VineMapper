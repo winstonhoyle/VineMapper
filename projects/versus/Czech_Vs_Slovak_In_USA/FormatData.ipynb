{
 "cells": [
  {
   "cell_type": "code",
   "execution_count": 1,
   "id": "3602774a-bece-40da-bc0b-6d2b1b531eaa",
   "metadata": {},
   "outputs": [],
   "source": [
    "import geopandas as gpd\n",
    "import pandas as pd"
   ]
  },
  {
   "cell_type": "markdown",
   "id": "1c73ab1f-e735-4ef1-ab14-4cb84611ae0a",
   "metadata": {},
   "source": [
    "## Open GIS Data"
   ]
  },
  {
   "cell_type": "code",
   "execution_count": 2,
   "id": "4a14f105-db30-45fb-af3b-77ca20dbf12c",
   "metadata": {},
   "outputs": [],
   "source": [
    "file_path = \"data/cb_2018_us_state_500k/cb_2018_us_state_500k.shp\"\n",
    "states_df = gpd.read_file(file_path)"
   ]
  },
  {
   "cell_type": "markdown",
   "id": "c27c029d-e8cb-40ff-89e7-63b12f575249",
   "metadata": {},
   "source": [
    "## Get Ethnic Data"
   ]
  },
  {
   "cell_type": "code",
   "execution_count": 3,
   "id": "91ee61b1-0872-453d-91c5-b3eeb77f220a",
   "metadata": {},
   "outputs": [],
   "source": [
    "acs_ethnicity = pd.read_csv(\"data/ACSDT5Y2023.B04006-2025-03-26T203127.csv\")"
   ]
  },
  {
   "cell_type": "code",
   "execution_count": 4,
   "id": "c7ecf3be-8eaa-4ef5-bbf3-b53dbc29636e",
   "metadata": {},
   "outputs": [],
   "source": [
    "rename_columns = {}\n",
    "for column in list(acs_ethnicity.columns):\n",
    "    str_split = column.split(\"!!\")\n",
    "    if len(str_split) == 2:\n",
    "        if str_split[1] == \"Estimate\":\n",
    "            rename_columns[column] = str_split[0].strip()\n",
    "    else:\n",
    "        continue"
   ]
  },
  {
   "cell_type": "code",
   "execution_count": 5,
   "id": "22df1129-4fbc-4b2d-a46f-6cf1086fa156",
   "metadata": {},
   "outputs": [],
   "source": [
    "states = list(rename_columns.values())\n",
    "states.remove(\"Peoples township, Boone County, Iowa\")"
   ]
  },
  {
   "cell_type": "code",
   "execution_count": 6,
   "id": "cecff627-3586-4497-b8cb-4a3d430b6a67",
   "metadata": {},
   "outputs": [],
   "source": [
    "rename_columns[\"Label (Grouping)\"] = \"group\"\n",
    "states.append(\"group\")\n",
    "acs_ethnicity = acs_ethnicity.rename(columns=rename_columns)"
   ]
  },
  {
   "cell_type": "code",
   "execution_count": 7,
   "id": "81c6ce2c-273d-4c09-b519-59b62d78b9c0",
   "metadata": {},
   "outputs": [],
   "source": [
    "acs_ethnicity = acs_ethnicity[states]\n",
    "states.remove(\"group\")"
   ]
  },
  {
   "cell_type": "markdown",
   "id": "ea5bd5ca-77c7-4596-8c8c-f7d50dd09f1a",
   "metadata": {},
   "source": [
    "#### Remove the last record as it's the titles, set then remove."
   ]
  },
  {
   "cell_type": "code",
   "execution_count": 8,
   "id": "62239b53-b4e2-4c36-a5b6-63af21987ed1",
   "metadata": {},
   "outputs": [],
   "source": [
    "acs_ethnicity = acs_ethnicity.T.reset_index()\n",
    "acs_ethnicity.columns = acs_ethnicity.iloc[52]\n",
    "acs_ethnicity = acs_ethnicity.drop(acs_ethnicity.index[52])"
   ]
  },
  {
   "cell_type": "code",
   "execution_count": 9,
   "id": "1adf40ac-efb3-4cd1-8a17-cf9557210698",
   "metadata": {},
   "outputs": [],
   "source": [
    "states_series = acs_ethnicity[\"group\"]"
   ]
  },
  {
   "cell_type": "code",
   "execution_count": 10,
   "id": "ed192746-9334-42f7-be91-5acb2e696efa",
   "metadata": {},
   "outputs": [],
   "source": [
    "acs_ethnicity = acs_ethnicity.loc[:, acs_ethnicity.columns != \"group\"].apply(\n",
    "    lambda col: pd.to_numeric(col.str.replace(\",\", \"\"), errors=\"coerce\"), axis=1\n",
    ")"
   ]
  },
  {
   "cell_type": "code",
   "execution_count": 11,
   "id": "971a42c1-fa5e-43ef-8d5c-39df645efbc0",
   "metadata": {},
   "outputs": [],
   "source": [
    "acs_ethnicity[\"NAME\"] = states_series"
   ]
  },
  {
   "cell_type": "code",
   "execution_count": 12,
   "id": "e1c58184-90a7-4fd8-a019-791d6e1a0d05",
   "metadata": {},
   "outputs": [],
   "source": [
    "rename_columns = {col: col.strip() for col in list(acs_ethnicity.columns)}\n",
    "acs_ethnicity = acs_ethnicity.rename(columns=rename_columns)"
   ]
  },
  {
   "cell_type": "markdown",
   "id": "400fde48-96e8-47a0-b4b6-6bb2515fd52c",
   "metadata": {},
   "source": [
    "## Get Difference Data"
   ]
  },
  {
   "cell_type": "code",
   "execution_count": 13,
   "id": "df123425-9ed5-479b-800c-a898679a9f1e",
   "metadata": {},
   "outputs": [],
   "source": [
    "df = acs_ethnicity[[\"NAME\", \"Total:\", \"Czech\", \"Slovak\"]]"
   ]
  },
  {
   "cell_type": "code",
   "execution_count": 14,
   "id": "acdb9b57-c3fa-4e29-8f8e-a8732c1191fb",
   "metadata": {},
   "outputs": [],
   "source": [
    "def more(row) -> str:\n",
    "    if row[\"Czech\"] > row[\"Slovak\"]:\n",
    "        return \"More Czech\"\n",
    "    else:\n",
    "        return \"More Slovak\""
   ]
  },
  {
   "cell_type": "code",
   "execution_count": 15,
   "id": "4e6f556a-fa07-435e-b3bc-0f62b80eb64f",
   "metadata": {},
   "outputs": [
    {
     "name": "stderr",
     "output_type": "stream",
     "text": [
      "/tmp/ipykernel_1789/3462128210.py:1: SettingWithCopyWarning: \n",
      "A value is trying to be set on a copy of a slice from a DataFrame.\n",
      "Try using .loc[row_indexer,col_indexer] = value instead\n",
      "\n",
      "See the caveats in the documentation: https://pandas.pydata.org/pandas-docs/stable/user_guide/indexing.html#returning-a-view-versus-a-copy\n",
      "  df[\"more\"] = df.apply(lambda row: more(row), axis=1)\n"
     ]
    }
   ],
   "source": [
    "df[\"more\"] = df.apply(lambda row: more(row), axis=1)"
   ]
  },
  {
   "cell_type": "code",
   "execution_count": 16,
   "id": "3d56a928-42c2-4fae-a205-a62a13eea1e8",
   "metadata": {},
   "outputs": [
    {
     "data": {
      "text/html": [
       "<div>\n",
       "<style scoped>\n",
       "    .dataframe tbody tr th:only-of-type {\n",
       "        vertical-align: middle;\n",
       "    }\n",
       "\n",
       "    .dataframe tbody tr th {\n",
       "        vertical-align: top;\n",
       "    }\n",
       "\n",
       "    .dataframe thead th {\n",
       "        text-align: right;\n",
       "    }\n",
       "</style>\n",
       "<table border=\"1\" class=\"dataframe\">\n",
       "  <thead>\n",
       "    <tr style=\"text-align: right;\">\n",
       "      <th>52</th>\n",
       "      <th>NAME</th>\n",
       "      <th>Total:</th>\n",
       "      <th>Czech</th>\n",
       "      <th>Slovak</th>\n",
       "      <th>more</th>\n",
       "    </tr>\n",
       "  </thead>\n",
       "  <tbody>\n",
       "    <tr>\n",
       "      <th>6</th>\n",
       "      <td>Connecticut</td>\n",
       "      <td>3598348</td>\n",
       "      <td>9020</td>\n",
       "      <td>15735</td>\n",
       "      <td>More Slovak</td>\n",
       "    </tr>\n",
       "    <tr>\n",
       "      <th>7</th>\n",
       "      <td>Delaware</td>\n",
       "      <td>1005872</td>\n",
       "      <td>1888</td>\n",
       "      <td>1977</td>\n",
       "      <td>More Slovak</td>\n",
       "    </tr>\n",
       "    <tr>\n",
       "      <th>14</th>\n",
       "      <td>Indiana</td>\n",
       "      <td>6811752</td>\n",
       "      <td>14467</td>\n",
       "      <td>16607</td>\n",
       "      <td>More Slovak</td>\n",
       "    </tr>\n",
       "    <tr>\n",
       "      <th>30</th>\n",
       "      <td>New Jersey</td>\n",
       "      <td>9267014</td>\n",
       "      <td>20305</td>\n",
       "      <td>27859</td>\n",
       "      <td>More Slovak</td>\n",
       "    </tr>\n",
       "    <tr>\n",
       "      <th>35</th>\n",
       "      <td>Ohio</td>\n",
       "      <td>11780046</td>\n",
       "      <td>49352</td>\n",
       "      <td>103582</td>\n",
       "      <td>More Slovak</td>\n",
       "    </tr>\n",
       "    <tr>\n",
       "      <th>38</th>\n",
       "      <td>Pennsylvania</td>\n",
       "      <td>12986518</td>\n",
       "      <td>40647</td>\n",
       "      <td>162511</td>\n",
       "      <td>More Slovak</td>\n",
       "    </tr>\n",
       "    <tr>\n",
       "      <th>48</th>\n",
       "      <td>West Virginia</td>\n",
       "      <td>1784462</td>\n",
       "      <td>2671</td>\n",
       "      <td>3739</td>\n",
       "      <td>More Slovak</td>\n",
       "    </tr>\n",
       "  </tbody>\n",
       "</table>\n",
       "</div>"
      ],
      "text/plain": [
       "52           NAME    Total:  Czech  Slovak         more\n",
       "6     Connecticut   3598348   9020   15735  More Slovak\n",
       "7        Delaware   1005872   1888    1977  More Slovak\n",
       "14        Indiana   6811752  14467   16607  More Slovak\n",
       "30     New Jersey   9267014  20305   27859  More Slovak\n",
       "35           Ohio  11780046  49352  103582  More Slovak\n",
       "38   Pennsylvania  12986518  40647  162511  More Slovak\n",
       "48  West Virginia   1784462   2671    3739  More Slovak"
      ]
     },
     "execution_count": 16,
     "metadata": {},
     "output_type": "execute_result"
    }
   ],
   "source": [
    "df[df[\"more\"] == \"More Slovak\"]"
   ]
  },
  {
   "cell_type": "markdown",
   "id": "6cfad3eb-2d55-4258-ac9c-7c34e073d369",
   "metadata": {},
   "source": [
    "## Merge Data"
   ]
  },
  {
   "cell_type": "code",
   "execution_count": 17,
   "id": "852d9c23-bfa0-4cfc-a7e4-fb86126441b4",
   "metadata": {},
   "outputs": [],
   "source": [
    "diff_gdf = states_df[[\"geometry\", \"NAME\"]].merge(df, on=\"NAME\", how=\"left\")"
   ]
  },
  {
   "cell_type": "code",
   "execution_count": 18,
   "id": "cb82b408-71ab-4cdd-98c2-cedeccf83c38",
   "metadata": {},
   "outputs": [],
   "source": [
    "diff_gdf = diff_gdf.to_crs(9311)"
   ]
  },
  {
   "cell_type": "code",
   "execution_count": 19,
   "id": "26c28d2e-563f-4599-9050-b69188c4b73d",
   "metadata": {},
   "outputs": [],
   "source": [
    "diff_gdf.to_file(\"data/diff.gpkg\")"
   ]
  },
  {
   "cell_type": "code",
   "execution_count": null,
   "id": "fde853e2-4736-4daa-bd16-169ab75d1935",
   "metadata": {},
   "outputs": [],
   "source": []
  },
  {
   "cell_type": "code",
   "execution_count": null,
   "id": "247fc42a-9f4e-4fe3-9afb-adea01ab8cd8",
   "metadata": {},
   "outputs": [],
   "source": []
  },
  {
   "cell_type": "code",
   "execution_count": null,
   "id": "5194c5a8-58ef-4179-b8f9-942065b97f4b",
   "metadata": {},
   "outputs": [],
   "source": []
  }
 ],
 "metadata": {
  "kernelspec": {
   "display_name": "Python 3 (ipykernel)",
   "language": "python",
   "name": "python3"
  },
  "language_info": {
   "codemirror_mode": {
    "name": "ipython",
    "version": 3
   },
   "file_extension": ".py",
   "mimetype": "text/x-python",
   "name": "python",
   "nbconvert_exporter": "python",
   "pygments_lexer": "ipython3",
   "version": "3.11.11"
  }
 },
 "nbformat": 4,
 "nbformat_minor": 5
}
