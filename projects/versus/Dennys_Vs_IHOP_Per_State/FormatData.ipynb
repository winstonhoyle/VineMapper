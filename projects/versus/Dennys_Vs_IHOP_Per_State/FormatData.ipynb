{
 "cells": [
  {
   "cell_type": "code",
   "execution_count": 11,
   "id": "c100310b-4780-4ebd-b955-45512361b3e5",
   "metadata": {},
   "outputs": [],
   "source": [
    "import geopandas as gpd"
   ]
  },
  {
   "cell_type": "markdown",
   "id": "729a5eed-ea60-46d5-b906-b203bc305bb0",
   "metadata": {},
   "source": [
    "## Open Store data"
   ]
  },
  {
   "cell_type": "code",
   "execution_count": 35,
   "id": "fa78b64f-250a-4b47-809c-f2bbf5307567",
   "metadata": {},
   "outputs": [],
   "source": [
    "dennys_gdf = gpd.read_file(\"data/dennys_per_state.gpkg\")\n",
    "dennys_gdf = dennys_gdf[[\"STUSPS\", \"DENNYS\"]]"
   ]
  },
  {
   "cell_type": "code",
   "execution_count": 36,
   "id": "1cf64ff6-fc57-42d8-82ba-26ff5d24e099",
   "metadata": {},
   "outputs": [
    {
     "data": {
      "text/html": [
       "<div>\n",
       "<style scoped>\n",
       "    .dataframe tbody tr th:only-of-type {\n",
       "        vertical-align: middle;\n",
       "    }\n",
       "\n",
       "    .dataframe tbody tr th {\n",
       "        vertical-align: top;\n",
       "    }\n",
       "\n",
       "    .dataframe thead th {\n",
       "        text-align: right;\n",
       "    }\n",
       "</style>\n",
       "<table border=\"1\" class=\"dataframe\">\n",
       "  <thead>\n",
       "    <tr style=\"text-align: right;\">\n",
       "      <th></th>\n",
       "      <th>NAME</th>\n",
       "      <th>per_1m</th>\n",
       "    </tr>\n",
       "  </thead>\n",
       "  <tbody>\n",
       "    <tr>\n",
       "      <th>12</th>\n",
       "      <td>New Mexico</td>\n",
       "      <td>13.671739</td>\n",
       "    </tr>\n",
       "    <tr>\n",
       "      <th>28</th>\n",
       "      <td>Nevada</td>\n",
       "      <td>12.444145</td>\n",
       "    </tr>\n",
       "    <tr>\n",
       "      <th>35</th>\n",
       "      <td>Arizona</td>\n",
       "      <td>10.571352</td>\n",
       "    </tr>\n",
       "  </tbody>\n",
       "</table>\n",
       "</div>"
      ],
      "text/plain": [
       "          NAME     per_1m\n",
       "12  New Mexico  13.671739\n",
       "28      Nevada  12.444145\n",
       "35     Arizona  10.571352"
      ]
     },
     "execution_count": 36,
     "metadata": {},
     "output_type": "execute_result"
    }
   ],
   "source": [
    "gpd.read_file(\"data/dennys_per_state.gpkg\")[[\"NAME\", \"per_1m\"]].sort_values(\n",
    "    \"per_1m\", ascending=False\n",
    ").head(3)"
   ]
  },
  {
   "cell_type": "code",
   "execution_count": 37,
   "id": "7e045d86-89af-4027-8bfa-07b3b05d0499",
   "metadata": {},
   "outputs": [
    {
     "data": {
      "text/html": [
       "<div>\n",
       "<style scoped>\n",
       "    .dataframe tbody tr th:only-of-type {\n",
       "        vertical-align: middle;\n",
       "    }\n",
       "\n",
       "    .dataframe tbody tr th {\n",
       "        vertical-align: top;\n",
       "    }\n",
       "\n",
       "    .dataframe thead th {\n",
       "        text-align: right;\n",
       "    }\n",
       "</style>\n",
       "<table border=\"1\" class=\"dataframe\">\n",
       "  <thead>\n",
       "    <tr style=\"text-align: right;\">\n",
       "      <th></th>\n",
       "      <th>NAME</th>\n",
       "      <th>DENNYS</th>\n",
       "    </tr>\n",
       "  </thead>\n",
       "  <tbody>\n",
       "    <tr>\n",
       "      <th>16</th>\n",
       "      <td>California</td>\n",
       "      <td>355.0</td>\n",
       "    </tr>\n",
       "    <tr>\n",
       "      <th>15</th>\n",
       "      <td>Texas</td>\n",
       "      <td>195.0</td>\n",
       "    </tr>\n",
       "  </tbody>\n",
       "</table>\n",
       "</div>"
      ],
      "text/plain": [
       "          NAME  DENNYS\n",
       "16  California   355.0\n",
       "15       Texas   195.0"
      ]
     },
     "execution_count": 37,
     "metadata": {},
     "output_type": "execute_result"
    }
   ],
   "source": [
    "gpd.read_file(\"data/dennys_per_state.gpkg\")[[\"NAME\", \"DENNYS\"]].sort_values(\n",
    "    \"DENNYS\", ascending=False\n",
    ").head(2)"
   ]
  },
  {
   "cell_type": "code",
   "execution_count": 38,
   "id": "dd88ee34-bd85-42cf-87e6-16e59a8b5e4a",
   "metadata": {},
   "outputs": [],
   "source": [
    "ihops_gdf = gpd.read_file(\"data/IHOPs_per_state.gpkg\")\n",
    "ihops_gdf = ihops_gdf[[\"geometry\", \"STUSPS\", \"IHOPs\"]]"
   ]
  },
  {
   "cell_type": "code",
   "execution_count": 39,
   "id": "fa685b51-8744-4497-848c-4eed3732c270",
   "metadata": {},
   "outputs": [
    {
     "data": {
      "text/html": [
       "<div>\n",
       "<style scoped>\n",
       "    .dataframe tbody tr th:only-of-type {\n",
       "        vertical-align: middle;\n",
       "    }\n",
       "\n",
       "    .dataframe tbody tr th {\n",
       "        vertical-align: top;\n",
       "    }\n",
       "\n",
       "    .dataframe thead th {\n",
       "        text-align: right;\n",
       "    }\n",
       "</style>\n",
       "<table border=\"1\" class=\"dataframe\">\n",
       "  <thead>\n",
       "    <tr style=\"text-align: right;\">\n",
       "      <th></th>\n",
       "      <th>NAME</th>\n",
       "      <th>per_1m</th>\n",
       "    </tr>\n",
       "  </thead>\n",
       "  <tbody>\n",
       "    <tr>\n",
       "      <th>26</th>\n",
       "      <td>Kansas</td>\n",
       "      <td>10.164323</td>\n",
       "    </tr>\n",
       "    <tr>\n",
       "      <th>38</th>\n",
       "      <td>Maryland</td>\n",
       "      <td>8.685775</td>\n",
       "    </tr>\n",
       "    <tr>\n",
       "      <th>2</th>\n",
       "      <td>Oklahoma</td>\n",
       "      <td>8.612455</td>\n",
       "    </tr>\n",
       "  </tbody>\n",
       "</table>\n",
       "</div>"
      ],
      "text/plain": [
       "        NAME     per_1m\n",
       "26    Kansas  10.164323\n",
       "38  Maryland   8.685775\n",
       "2   Oklahoma   8.612455"
      ]
     },
     "execution_count": 39,
     "metadata": {},
     "output_type": "execute_result"
    }
   ],
   "source": [
    "gpd.read_file(\"data/IHOPs_per_state.gpkg\")[[\"NAME\", \"per_1m\"]].sort_values(\n",
    "    \"per_1m\", ascending=False\n",
    ").head(3)"
   ]
  },
  {
   "cell_type": "code",
   "execution_count": 40,
   "id": "64866566-4080-41fc-9f65-316a3f9ff4ee",
   "metadata": {},
   "outputs": [
    {
     "data": {
      "text/html": [
       "<div>\n",
       "<style scoped>\n",
       "    .dataframe tbody tr th:only-of-type {\n",
       "        vertical-align: middle;\n",
       "    }\n",
       "\n",
       "    .dataframe tbody tr th {\n",
       "        vertical-align: top;\n",
       "    }\n",
       "\n",
       "    .dataframe thead th {\n",
       "        text-align: right;\n",
       "    }\n",
       "</style>\n",
       "<table border=\"1\" class=\"dataframe\">\n",
       "  <thead>\n",
       "    <tr style=\"text-align: right;\">\n",
       "      <th></th>\n",
       "      <th>NAME</th>\n",
       "      <th>IHOPs</th>\n",
       "    </tr>\n",
       "  </thead>\n",
       "  <tbody>\n",
       "    <tr>\n",
       "      <th>16</th>\n",
       "      <td>California</td>\n",
       "      <td>223.0</td>\n",
       "    </tr>\n",
       "    <tr>\n",
       "      <th>15</th>\n",
       "      <td>Texas</td>\n",
       "      <td>216.0</td>\n",
       "    </tr>\n",
       "  </tbody>\n",
       "</table>\n",
       "</div>"
      ],
      "text/plain": [
       "          NAME  IHOPs\n",
       "16  California  223.0\n",
       "15       Texas  216.0"
      ]
     },
     "execution_count": 40,
     "metadata": {},
     "output_type": "execute_result"
    }
   ],
   "source": [
    "gpd.read_file(\"data/IHOPs_per_state.gpkg\")[[\"NAME\", \"IHOPs\"]].sort_values(\n",
    "    \"IHOPs\", ascending=False\n",
    ").head(2)"
   ]
  },
  {
   "cell_type": "markdown",
   "id": "250c1eb5-8423-4731-a0b7-0636aa8c0d78",
   "metadata": {},
   "source": [
    "#### Merge Data now"
   ]
  },
  {
   "cell_type": "code",
   "execution_count": 14,
   "id": "a3f217f9-ed84-4e2f-8542-6b915bda2143",
   "metadata": {},
   "outputs": [],
   "source": [
    "dennys_ihop_gdf = ihops_gdf.merge(dennys_gdf, on=\"STUSPS\", how=\"left\")"
   ]
  },
  {
   "cell_type": "code",
   "execution_count": 15,
   "id": "b3c7d483-50c5-4810-8b65-22aea13b2b0b",
   "metadata": {},
   "outputs": [],
   "source": [
    "dennys_ihop_gdf[\"IHOPs\"] = dennys_ihop_gdf[\"IHOPs\"].astype(int)\n",
    "dennys_ihop_gdf[\"DENNYS\"] = dennys_ihop_gdf[\"DENNYS\"].astype(int)"
   ]
  },
  {
   "cell_type": "code",
   "execution_count": 16,
   "id": "8a73291a-51ff-4f73-b6ab-043c185f09f3",
   "metadata": {},
   "outputs": [],
   "source": [
    "dennys_ihop_gdf[\"IHOP_DENNYS\"] = dennys_ihop_gdf[\"IHOPs\"] - dennys_ihop_gdf[\"DENNYS\"]"
   ]
  },
  {
   "cell_type": "code",
   "execution_count": 22,
   "id": "5d76ad82-60a2-4aee-9bc4-73b29d5c82e5",
   "metadata": {},
   "outputs": [],
   "source": [
    "def more_stores(row) -> str:\n",
    "    dennys = row[\"DENNYS\"]\n",
    "    ihop = row[\"IHOPs\"]\n",
    "    if dennys > ihop:\n",
    "        return \"More Denny's\"\n",
    "    if ihop > dennys:\n",
    "        return \"More IHOPs\"\n",
    "    if (ihop == dennys) and (ihop == 0):\n",
    "        return \"No Locations\"\n",
    "    if ihop == dennys:\n",
    "        return \"Same Amount\""
   ]
  },
  {
   "cell_type": "code",
   "execution_count": 23,
   "id": "8f619a73-16cf-43e4-8155-75ca9d83b9ec",
   "metadata": {},
   "outputs": [],
   "source": [
    "dennys_ihop_gdf[\"label\"] = dennys_ihop_gdf.apply(lambda row: more_stores(row), axis=1)"
   ]
  },
  {
   "cell_type": "code",
   "execution_count": 25,
   "id": "6bb44f2e-cb29-40a3-800d-ba02306495cc",
   "metadata": {},
   "outputs": [],
   "source": [
    "dennys_ihop_gdf = dennys_ihop_gdf.to_crs(9311)\n",
    "dennys_ihop_gdf.to_file(\"data/ihop_dennys.gpkg\")"
   ]
  },
  {
   "cell_type": "code",
   "execution_count": null,
   "id": "6d3b5ed3-365a-46fe-9a8b-f3fd2641d7d4",
   "metadata": {},
   "outputs": [],
   "source": []
  }
 ],
 "metadata": {
  "kernelspec": {
   "display_name": "Python 3 (ipykernel)",
   "language": "python",
   "name": "python3"
  },
  "language_info": {
   "codemirror_mode": {
    "name": "ipython",
    "version": 3
   },
   "file_extension": ".py",
   "mimetype": "text/x-python",
   "name": "python",
   "nbconvert_exporter": "python",
   "pygments_lexer": "ipython3",
   "version": "3.11.11"
  }
 },
 "nbformat": 4,
 "nbformat_minor": 5
}
