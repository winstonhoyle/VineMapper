{
 "cells": [
  {
   "cell_type": "code",
   "execution_count": 1,
   "id": "6aa0827c-59f2-481e-a871-e5ea56cf4aea",
   "metadata": {},
   "outputs": [],
   "source": [
    "import json\n",
    "import os\n",
    "import random\n",
    "import time"
   ]
  },
  {
   "cell_type": "code",
   "execution_count": 2,
   "id": "bc436e38-234d-44fd-b67b-d1f2974606d3",
   "metadata": {},
   "outputs": [],
   "source": [
    "import h3\n",
    "import geopandas as gpd\n",
    "import pandas as pd"
   ]
  },
  {
   "cell_type": "code",
   "execution_count": 3,
   "id": "0465bb74-de29-42f8-a656-097d407e8fe4",
   "metadata": {},
   "outputs": [],
   "source": [
    "from kroger_api import KrogerAPI\n",
    "from kroger_api.utils.env import load_and_validate_env, get_zip_code\n",
    "from shapely.geometry import Point\n",
    "from tqdm.notebook import tqdm"
   ]
  },
  {
   "cell_type": "markdown",
   "id": "44a3df26-78d3-479c-99a2-c0e1ba91352e",
   "metadata": {},
   "source": [
    "## Get State Data"
   ]
  },
  {
   "cell_type": "code",
   "execution_count": 4,
   "id": "615eeabf-033b-425a-a81f-d7b4dd9e3a3e",
   "metadata": {},
   "outputs": [],
   "source": [
    "file_path = \"data/cb_2018_us_state_500k/cb_2018_us_state_500k.shp\"\n",
    "states_df = gpd.read_file(file_path)"
   ]
  },
  {
   "cell_type": "code",
   "execution_count": 5,
   "id": "502c6bfe-0912-4d37-95b0-47e7a14b468f",
   "metadata": {},
   "outputs": [],
   "source": [
    "states_df = states_df[[\"STUSPS\", \"NAME\", \"geometry\"]]"
   ]
  },
  {
   "cell_type": "markdown",
   "id": "4257620c-13d7-4071-bae2-a5a2aeae5ba7",
   "metadata": {},
   "source": [
    "## Get Population data"
   ]
  },
  {
   "cell_type": "code",
   "execution_count": 6,
   "id": "6c0e7a1d-5a9a-4c10-a5d4-28dc681a8a27",
   "metadata": {},
   "outputs": [
    {
     "name": "stdout",
     "output_type": "stream",
     "text": [
      "ERROR! Session/line number was not unique in database. History logging moved to new session 253\n"
     ]
    }
   ],
   "source": [
    "state_populations = pd.read_excel(\n",
    "    \"data/NST-EST2024-POP.xlsx\", sheet_name=None, engine=\"openpyxl\"\n",
    ")"
   ]
  },
  {
   "cell_type": "code",
   "execution_count": 7,
   "id": "2614c2ab-96ec-4304-a287-6fd013fedbbb",
   "metadata": {},
   "outputs": [],
   "source": [
    "state_populations_df = state_populations[\"NST-EST2024-POP\"][\n",
    "    [\n",
    "        \"table with row headers in column A and column headers in rows 3 through 4. (leading dots indicate sub-parts)\",\n",
    "        \"Unnamed: 5\",\n",
    "    ]\n",
    "]\n",
    "state_populations_df = state_populations_df.rename(\n",
    "    columns={\n",
    "        \"table with row headers in column A and column headers in rows 3 through 4. (leading dots indicate sub-parts)\": \"NAME\",\n",
    "        \"Unnamed: 5\": \"POPULATION\",\n",
    "    }\n",
    ")\n",
    "state_populations_df[\"NAME\"] = state_populations_df[\"NAME\"].str[1:]"
   ]
  },
  {
   "cell_type": "code",
   "execution_count": 8,
   "id": "2a1a8b6e-a0bf-486b-b62e-46a23ca718e2",
   "metadata": {},
   "outputs": [],
   "source": [
    "states_with_population_df = states_df.merge(state_populations_df, on=\"NAME\", how=\"left\")\n",
    "states_with_population_df = states_with_population_df[\n",
    "    [\"STUSPS\", \"NAME\", \"POPULATION\", \"geometry\"]\n",
    "]"
   ]
  },
  {
   "cell_type": "markdown",
   "id": "6d2f1ce9-a36c-4292-99a0-ad42032c5ad4",
   "metadata": {},
   "source": [
    "## Get Store Data"
   ]
  },
  {
   "cell_type": "code",
   "execution_count": null,
   "id": "dbe2bbe6-d360-455e-97f8-10363bd5baef",
   "metadata": {},
   "outputs": [],
   "source": [
    "load_and_validate_env([\"KROGER_CLIENT_ID\", \"KROGER_CLIENT_SECRET\"])\n",
    "zip_code = get_zip_code(default=\"10001\")"
   ]
  },
  {
   "cell_type": "code",
   "execution_count": 10,
   "id": "b3180f32-cf39-4a2d-847a-a30b7c9b5b5e",
   "metadata": {},
   "outputs": [
    {
     "name": "stdout",
     "output_type": "stream",
     "text": [
      "Found saved token, will test if it's still valid...\n",
      "Token appears invalid, requesting a new one\n"
     ]
    }
   ],
   "source": [
    "kroger = KrogerAPI()\n",
    "token_info = kroger.authorization.get_token_with_client_credentials(\"product.compact\")"
   ]
  },
  {
   "cell_type": "code",
   "execution_count": 11,
   "id": "5944589b-703a-446f-9c97-cec216148472",
   "metadata": {},
   "outputs": [],
   "source": [
    "res = 3\n",
    "distance = 0.5\n",
    "\n",
    "usa_geom = states_df[~states_df[\"STUSPS\"].isin([\"PR\", \"VI\", \"GU\", \"MP\", \"AS\"])][\n",
    "    \"geometry\"\n",
    "].union_all()\n",
    "\n",
    "h3_shape = h3.geo_to_h3shape(usa_geom.buffer(distance=distance))\n",
    "h3_cells = h3.h3shape_to_cells(h3_shape, res=res)\n",
    "geojson = h3.cells_to_geo(h3_cells)"
   ]
  },
  {
   "cell_type": "code",
   "execution_count": 12,
   "id": "5f7fe784-44ef-4258-8e05-4af0f74415d5",
   "metadata": {},
   "outputs": [
    {
     "data": {
      "application/vnd.jupyter.widget-view+json": {
       "model_id": "4bf53022675643aba21e451c87572d2c",
       "version_major": 2,
       "version_minor": 0
      },
      "text/plain": [
       "Parsing Stores:   0%|          | 0/911 [00:00<?, ?it/s]"
      ]
     },
     "metadata": {},
     "output_type": "display_data"
    }
   ],
   "source": [
    "stores = []\n",
    "for cell in tqdm(h3_cells, desc=\"Parsing Stores\"):\n",
    "    lat, lng = h3.cell_to_latlng(cell)\n",
    "    locations = kroger.location.search_locations(\n",
    "        lat=lat, lon=lng, radius_in_miles=100, limit=200\n",
    "    )\n",
    "    if len(locations[\"data\"]):\n",
    "        for location in locations[\"data\"]:\n",
    "            location[\"geometry\"] = Point(\n",
    "                location[\"geolocation\"][\"longitude\"],\n",
    "                location[\"geolocation\"][\"latitude\"],\n",
    "            )\n",
    "            location[\"STUSPS\"] = location[\"address\"][\"state\"]\n",
    "            stores.append(location)\n",
    "    else:\n",
    "        continue\n",
    "    time.sleep(random.uniform(0.01, 0.5))"
   ]
  },
  {
   "cell_type": "code",
   "execution_count": 45,
   "id": "451a17e6-bd9c-4162-b5f0-5e41e6c677ab",
   "metadata": {},
   "outputs": [],
   "source": [
    "stores_gdf = gpd.GeoDataFrame(stores, crs=4326)\n",
    "stores_gdf = stores_gdf.drop_duplicates(\"locationId\")\n",
    "stores_gdf.to_file(\"data/all_stores.gpkg\")"
   ]
  },
  {
   "cell_type": "code",
   "execution_count": 25,
   "id": "e897c4a8-9f11-429d-b20d-b2b40635b194",
   "metadata": {},
   "outputs": [],
   "source": [
    "stores_gdf = gpd.read_file(\"data/all_stores.gpkg\")"
   ]
  },
  {
   "cell_type": "code",
   "execution_count": 26,
   "id": "06d67bc0-c2e3-4d84-b3bb-4ccf9eff01a1",
   "metadata": {},
   "outputs": [
    {
     "data": {
      "text/plain": [
       "2866"
      ]
     },
     "execution_count": 26,
     "metadata": {},
     "output_type": "execute_result"
    }
   ],
   "source": [
    "len(stores_gdf)"
   ]
  },
  {
   "cell_type": "code",
   "execution_count": 27,
   "id": "465b3599-905f-4363-9fca-587155b0248a",
   "metadata": {},
   "outputs": [],
   "source": [
    "stores_gdf = stores_gdf[\n",
    "    ~stores_gdf[[\"phone\", \"departments\"]].isnull().all(axis=1)\n",
    "].reset_index(drop=True)"
   ]
  },
  {
   "cell_type": "code",
   "execution_count": 28,
   "id": "4ed28127-f076-4f96-a14c-5978116005d8",
   "metadata": {},
   "outputs": [
    {
     "data": {
      "text/plain": [
       "2832"
      ]
     },
     "execution_count": 28,
     "metadata": {},
     "output_type": "execute_result"
    }
   ],
   "source": [
    "len(stores_gdf)"
   ]
  },
  {
   "cell_type": "code",
   "execution_count": 49,
   "id": "0cf0db6e-8c96-4b9c-b359-2042132f4630",
   "metadata": {},
   "outputs": [],
   "source": [
    "most_common_state_df = (\n",
    "    stores_gdf.groupby(\"STUSPS\")[\"chain\"]\n",
    "    .value_counts()\n",
    "    .groupby(level=0)\n",
    "    .idxmax()\n",
    "    .apply(lambda x: x[1])\n",
    "    .reset_index(name=\"most_common_chain\")\n",
    ")"
   ]
  },
  {
   "cell_type": "code",
   "execution_count": 53,
   "id": "e519e82a-94fc-4385-9a34-3dae667935bd",
   "metadata": {},
   "outputs": [
    {
     "data": {
      "text/html": [
       "<div>\n",
       "<style scoped>\n",
       "    .dataframe tbody tr th:only-of-type {\n",
       "        vertical-align: middle;\n",
       "    }\n",
       "\n",
       "    .dataframe tbody tr th {\n",
       "        vertical-align: top;\n",
       "    }\n",
       "\n",
       "    .dataframe thead th {\n",
       "        text-align: right;\n",
       "    }\n",
       "</style>\n",
       "<table border=\"1\" class=\"dataframe\">\n",
       "  <thead>\n",
       "    <tr style=\"text-align: right;\">\n",
       "      <th></th>\n",
       "      <th>most_common_chain</th>\n",
       "      <th>COUNT</th>\n",
       "    </tr>\n",
       "  </thead>\n",
       "  <tbody>\n",
       "    <tr>\n",
       "      <th>7</th>\n",
       "      <td>KROGER</td>\n",
       "      <td>15</td>\n",
       "    </tr>\n",
       "    <tr>\n",
       "      <th>5</th>\n",
       "      <td>HART</td>\n",
       "      <td>5</td>\n",
       "    </tr>\n",
       "    <tr>\n",
       "      <th>11</th>\n",
       "      <td>SMITHS</td>\n",
       "      <td>5</td>\n",
       "    </tr>\n",
       "    <tr>\n",
       "      <th>2</th>\n",
       "      <td>FRED</td>\n",
       "      <td>4</td>\n",
       "    </tr>\n",
       "    <tr>\n",
       "      <th>3</th>\n",
       "      <td>FRYS</td>\n",
       "      <td>1</td>\n",
       "    </tr>\n",
       "    <tr>\n",
       "      <th>1</th>\n",
       "      <td>DILLONS</td>\n",
       "      <td>1</td>\n",
       "    </tr>\n",
       "    <tr>\n",
       "      <th>0</th>\n",
       "      <td>BAKERS</td>\n",
       "      <td>1</td>\n",
       "    </tr>\n",
       "    <tr>\n",
       "      <th>4</th>\n",
       "      <td>GERBES</td>\n",
       "      <td>1</td>\n",
       "    </tr>\n",
       "    <tr>\n",
       "      <th>6</th>\n",
       "      <td>KINGSOOPERS</td>\n",
       "      <td>1</td>\n",
       "    </tr>\n",
       "    <tr>\n",
       "      <th>8</th>\n",
       "      <td>MARIANOS</td>\n",
       "      <td>1</td>\n",
       "    </tr>\n",
       "    <tr>\n",
       "      <th>9</th>\n",
       "      <td>PICK N SAVE</td>\n",
       "      <td>1</td>\n",
       "    </tr>\n",
       "    <tr>\n",
       "      <th>10</th>\n",
       "      <td>RALPHS</td>\n",
       "      <td>1</td>\n",
       "    </tr>\n",
       "  </tbody>\n",
       "</table>\n",
       "</div>"
      ],
      "text/plain": [
       "   most_common_chain  COUNT\n",
       "7             KROGER     15\n",
       "5               HART      5\n",
       "11            SMITHS      5\n",
       "2               FRED      4\n",
       "3               FRYS      1\n",
       "1            DILLONS      1\n",
       "0             BAKERS      1\n",
       "4             GERBES      1\n",
       "6        KINGSOOPERS      1\n",
       "8           MARIANOS      1\n",
       "9        PICK N SAVE      1\n",
       "10            RALPHS      1"
      ]
     },
     "execution_count": 53,
     "metadata": {},
     "output_type": "execute_result"
    }
   ],
   "source": [
    "most_common_state_df.groupby(\"most_common_chain\").size().reset_index(\n",
    "    name=\"COUNT\"\n",
    ").sort_values(\"COUNT\", ascending=False)"
   ]
  },
  {
   "cell_type": "markdown",
   "id": "94cb32a2-faf0-40fa-8616-e8f2275eca72",
   "metadata": {},
   "source": [
    "## Combine With States"
   ]
  },
  {
   "cell_type": "code",
   "execution_count": 56,
   "id": "c062806b-5f76-4d7e-a226-31383a266b6a",
   "metadata": {},
   "outputs": [],
   "source": [
    "most_common_state_gdf = states_with_population_df.merge(\n",
    "    most_common_state_df, on=\"STUSPS\", how=\"left\"\n",
    ")"
   ]
  },
  {
   "cell_type": "code",
   "execution_count": 57,
   "id": "944acfaa-313b-4a9f-aecc-53fe95e188be",
   "metadata": {},
   "outputs": [],
   "source": [
    "most_common_state_gdf = most_common_state_gdf.to_crs(9311)\n",
    "most_common_state_gdf.to_file(f\"data/Most_Common_Kroger_Brand_Per_State.gpkg\")"
   ]
  },
  {
   "cell_type": "code",
   "execution_count": null,
   "id": "611d2061-f3f3-4837-9894-afe1053216ad",
   "metadata": {},
   "outputs": [],
   "source": []
  },
  {
   "cell_type": "code",
   "execution_count": null,
   "id": "22ce3fe4-325e-425b-89c3-86620780e730",
   "metadata": {},
   "outputs": [],
   "source": []
  }
 ],
 "metadata": {
  "kernelspec": {
   "display_name": "Python 3 (ipykernel)",
   "language": "python",
   "name": "python3"
  },
  "language_info": {
   "codemirror_mode": {
    "name": "ipython",
    "version": 3
   },
   "file_extension": ".py",
   "mimetype": "text/x-python",
   "name": "python",
   "nbconvert_exporter": "python",
   "pygments_lexer": "ipython3",
   "version": "3.11.13"
  }
 },
 "nbformat": 4,
 "nbformat_minor": 5
}
