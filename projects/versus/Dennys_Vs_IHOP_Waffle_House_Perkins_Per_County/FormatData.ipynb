{
 "cells": [
  {
   "cell_type": "code",
   "execution_count": 1,
   "id": "c100310b-4780-4ebd-b955-45512361b3e5",
   "metadata": {},
   "outputs": [],
   "source": [
    "import geopandas as gpd\n",
    "import pandas as pd"
   ]
  },
  {
   "cell_type": "markdown",
   "id": "7713f5ce-55cc-4d13-b330-6cf75f895c85",
   "metadata": {},
   "source": [
    "## Get County Data"
   ]
  },
  {
   "cell_type": "code",
   "execution_count": 2,
   "id": "1e3fff7f-bd8c-4b02-9b22-132d84e13f77",
   "metadata": {},
   "outputs": [],
   "source": [
    "file_path = \"data/cb_2024_us_county_500k/cb_2024_us_county_500k.shp\"\n",
    "counties_gdf = gpd.read_file(file_path)"
   ]
  },
  {
   "cell_type": "code",
   "execution_count": 3,
   "id": "738929bd-f217-4a7a-939f-dbbc8c68950b",
   "metadata": {},
   "outputs": [],
   "source": [
    "counties_gdf = counties_gdf.to_crs(9311)"
   ]
  },
  {
   "cell_type": "markdown",
   "id": "729a5eed-ea60-46d5-b906-b203bc305bb0",
   "metadata": {},
   "source": [
    "## Open Denny's Data"
   ]
  },
  {
   "cell_type": "code",
   "execution_count": 4,
   "id": "dd88ee34-bd85-42cf-87e6-16e59a8b5e4a",
   "metadata": {},
   "outputs": [],
   "source": [
    "dennys_gdf = gpd.read_file(\"data/dennys.gpkg\")\n",
    "dennys_gdf = dennys_gdf.to_crs(9311)"
   ]
  },
  {
   "cell_type": "markdown",
   "id": "e1fbc6a2-c032-467a-af60-1e4eff759e4b",
   "metadata": {},
   "source": [
    "## Open IHOP Data"
   ]
  },
  {
   "cell_type": "code",
   "execution_count": 5,
   "id": "bff9529f-7dc9-4c66-8bae-9997fd332577",
   "metadata": {},
   "outputs": [],
   "source": [
    "ihop_gdf = gpd.read_file(\"data/ihops.gpkg\")\n",
    "ihop_gdf = ihop_gdf.to_crs(9311)"
   ]
  },
  {
   "cell_type": "markdown",
   "id": "db9997ba-14bc-4909-ba5d-3c6e8a136116",
   "metadata": {},
   "source": [
    "## Open Perkins Data"
   ]
  },
  {
   "cell_type": "code",
   "execution_count": 6,
   "id": "e05ccb39-4bee-43df-8758-ee75474c8aac",
   "metadata": {},
   "outputs": [],
   "source": [
    "perkins_gdf = gpd.read_file(\"data/perkins.gpkg\")\n",
    "perkins_gdf = perkins_gdf.to_crs(9311)"
   ]
  },
  {
   "cell_type": "markdown",
   "id": "aa74856b-1edd-4b42-8679-52328cbf38ad",
   "metadata": {},
   "source": [
    "## Open Wafflehouse Data"
   ]
  },
  {
   "cell_type": "code",
   "execution_count": 7,
   "id": "58f78ce3-e774-45a3-b3da-812028c9155f",
   "metadata": {},
   "outputs": [],
   "source": [
    "wafflehouse_gdf = gpd.read_file(\"data/wafflehouse_locations.gpkg\")\n",
    "wafflehouse_gdf = wafflehouse_gdf.to_crs(9311)"
   ]
  },
  {
   "cell_type": "markdown",
   "id": "8440fa36-683f-4394-a07d-7b047b136fac",
   "metadata": {},
   "source": [
    "## Intersect Data"
   ]
  },
  {
   "cell_type": "code",
   "execution_count": 8,
   "id": "72992894-3e85-42b7-a3db-6dac7b34b655",
   "metadata": {},
   "outputs": [],
   "source": [
    "def count_points_in_counties(points_gdf: gpd.GeoDataFrame, col_name):\n",
    "    joined = gpd.sjoin(points_gdf, counties_gdf, how=\"left\", predicate=\"within\")\n",
    "    counts = joined.groupby(\"index_right\").size()\n",
    "    result = counties_gdf.copy()\n",
    "    result[col_name] = counts\n",
    "    result[col_name] = result[col_name].fillna(0).astype(int)\n",
    "    return result[[col_name]]"
   ]
  },
  {
   "cell_type": "code",
   "execution_count": 9,
   "id": "1d1e1a5f-7c97-41b0-bdc3-e2f52ef9eab8",
   "metadata": {},
   "outputs": [],
   "source": [
    "dennys_counts = count_points_in_counties(dennys_gdf, \"DENNYs\")\n",
    "ihop_counts = count_points_in_counties(ihop_gdf, \"IHOPs\")\n",
    "perkins_counts = count_points_in_counties(perkins_gdf, \"PERKINs\")\n",
    "wh_counts = count_points_in_counties(wafflehouse_gdf, \"WHs\")"
   ]
  },
  {
   "cell_type": "code",
   "execution_count": 10,
   "id": "20027f89-4b83-4921-8a09-5346e301e7d2",
   "metadata": {},
   "outputs": [],
   "source": [
    "restaurant_counts_gdf = counties_gdf.copy()\n",
    "restaurant_counts_gdf = (\n",
    "    restaurant_counts_gdf.join(dennys_counts)\n",
    "    .join(ihop_counts)\n",
    "    .join(perkins_counts)\n",
    "    .join(wh_counts)\n",
    ")"
   ]
  },
  {
   "cell_type": "code",
   "execution_count": 11,
   "id": "bece7334-7cea-4067-8b33-80a0d6f1b4d6",
   "metadata": {},
   "outputs": [],
   "source": [
    "rest_columns = [\"DENNYs\", \"IHOPs\", \"PERKINs\", \"WHs\"]"
   ]
  },
  {
   "cell_type": "code",
   "execution_count": 12,
   "id": "c4af72fd-4a33-49ac-a8a7-ea99cd3da2ec",
   "metadata": {},
   "outputs": [],
   "source": [
    "restaurant_counts_gdf[rest_columns] = (\n",
    "    restaurant_counts_gdf[rest_columns].fillna(0).astype(int)\n",
    ")"
   ]
  },
  {
   "cell_type": "code",
   "execution_count": 13,
   "id": "9f4db09d-4614-4a33-b658-50f620c79ba9",
   "metadata": {},
   "outputs": [],
   "source": [
    "def get_tied_columns(row):\n",
    "    max_val = row[rest_columns].max()\n",
    "    if row[\"PERKINs\"] == row[\"IHOPs\"] == row[\"DENNYs\"] == row[\"WHs\"]:\n",
    "        return \"No Locations\"\n",
    "    return \", \".join(row[rest_columns].index[row[rest_columns] == max_val])"
   ]
  },
  {
   "cell_type": "code",
   "execution_count": 14,
   "id": "38b66022-1055-4cee-a47e-6157c2de3c1d",
   "metadata": {},
   "outputs": [],
   "source": [
    "restaurant_counts_gdf[\"Label\"] = restaurant_counts_gdf.apply(get_tied_columns, axis=1)"
   ]
  },
  {
   "cell_type": "code",
   "execution_count": 15,
   "id": "f1c1df98-bf94-4236-8ef5-900ceb604b1c",
   "metadata": {},
   "outputs": [
    {
     "data": {
      "text/html": [
       "<div>\n",
       "<style scoped>\n",
       "    .dataframe tbody tr th:only-of-type {\n",
       "        vertical-align: middle;\n",
       "    }\n",
       "\n",
       "    .dataframe tbody tr th {\n",
       "        vertical-align: top;\n",
       "    }\n",
       "\n",
       "    .dataframe thead th {\n",
       "        text-align: right;\n",
       "    }\n",
       "</style>\n",
       "<table border=\"1\" class=\"dataframe\">\n",
       "  <thead>\n",
       "    <tr style=\"text-align: right;\">\n",
       "      <th></th>\n",
       "      <th>Label</th>\n",
       "      <th>COUNTS</th>\n",
       "    </tr>\n",
       "  </thead>\n",
       "  <tbody>\n",
       "    <tr>\n",
       "      <th>12</th>\n",
       "      <td>PERKINs, WHs</td>\n",
       "      <td>2</td>\n",
       "    </tr>\n",
       "    <tr>\n",
       "      <th>8</th>\n",
       "      <td>IHOPs, PERKINs, WHs</td>\n",
       "      <td>2</td>\n",
       "    </tr>\n",
       "    <tr>\n",
       "      <th>2</th>\n",
       "      <td>DENNYs, IHOPs, PERKINs</td>\n",
       "      <td>4</td>\n",
       "    </tr>\n",
       "    <tr>\n",
       "      <th>3</th>\n",
       "      <td>DENNYs, IHOPs, WHs</td>\n",
       "      <td>10</td>\n",
       "    </tr>\n",
       "    <tr>\n",
       "      <th>4</th>\n",
       "      <td>DENNYs, PERKINs</td>\n",
       "      <td>15</td>\n",
       "    </tr>\n",
       "    <tr>\n",
       "      <th>7</th>\n",
       "      <td>IHOPs, PERKINs</td>\n",
       "      <td>17</td>\n",
       "    </tr>\n",
       "    <tr>\n",
       "      <th>5</th>\n",
       "      <td>DENNYs, WHs</td>\n",
       "      <td>21</td>\n",
       "    </tr>\n",
       "    <tr>\n",
       "      <th>9</th>\n",
       "      <td>IHOPs, WHs</td>\n",
       "      <td>30</td>\n",
       "    </tr>\n",
       "    <tr>\n",
       "      <th>1</th>\n",
       "      <td>DENNYs, IHOPs</td>\n",
       "      <td>69</td>\n",
       "    </tr>\n",
       "    <tr>\n",
       "      <th>11</th>\n",
       "      <td>PERKINs</td>\n",
       "      <td>97</td>\n",
       "    </tr>\n",
       "    <tr>\n",
       "      <th>0</th>\n",
       "      <td>DENNYs</td>\n",
       "      <td>206</td>\n",
       "    </tr>\n",
       "    <tr>\n",
       "      <th>6</th>\n",
       "      <td>IHOPs</td>\n",
       "      <td>254</td>\n",
       "    </tr>\n",
       "    <tr>\n",
       "      <th>13</th>\n",
       "      <td>WHs</td>\n",
       "      <td>450</td>\n",
       "    </tr>\n",
       "    <tr>\n",
       "      <th>10</th>\n",
       "      <td>No Locations</td>\n",
       "      <td>2058</td>\n",
       "    </tr>\n",
       "  </tbody>\n",
       "</table>\n",
       "</div>"
      ],
      "text/plain": [
       "                     Label  COUNTS\n",
       "12            PERKINs, WHs       2\n",
       "8      IHOPs, PERKINs, WHs       2\n",
       "2   DENNYs, IHOPs, PERKINs       4\n",
       "3       DENNYs, IHOPs, WHs      10\n",
       "4          DENNYs, PERKINs      15\n",
       "7           IHOPs, PERKINs      17\n",
       "5              DENNYs, WHs      21\n",
       "9               IHOPs, WHs      30\n",
       "1            DENNYs, IHOPs      69\n",
       "11                 PERKINs      97\n",
       "0                   DENNYs     206\n",
       "6                    IHOPs     254\n",
       "13                     WHs     450\n",
       "10            No Locations    2058"
      ]
     },
     "execution_count": 15,
     "metadata": {},
     "output_type": "execute_result"
    }
   ],
   "source": [
    "pd.DataFrame(restaurant_counts_gdf.groupby(\"Label\").size()).reset_index().rename(\n",
    "    columns={0: \"COUNTS\"}\n",
    ").sort_values(\"COUNTS\")"
   ]
  },
  {
   "cell_type": "code",
   "execution_count": 16,
   "id": "fa3bf849-1273-4c65-af2d-e44b47574dd6",
   "metadata": {},
   "outputs": [],
   "source": [
    "restaurant_counts_gdf = restaurant_counts_gdf.to_crs(9311)"
   ]
  },
  {
   "cell_type": "code",
   "execution_count": 17,
   "id": "6bb44f2e-cb29-40a3-800d-ba02306495cc",
   "metadata": {},
   "outputs": [],
   "source": [
    "restaurant_counts_gdf.to_file(\"data/restaurant_counts.gpkg\")"
   ]
  },
  {
   "cell_type": "code",
   "execution_count": null,
   "id": "6d3b5ed3-365a-46fe-9a8b-f3fd2641d7d4",
   "metadata": {},
   "outputs": [],
   "source": []
  },
  {
   "cell_type": "code",
   "execution_count": null,
   "id": "a0e566c3-f80e-4eb0-b3ef-47c52cc28a1f",
   "metadata": {},
   "outputs": [],
   "source": []
  }
 ],
 "metadata": {
  "kernelspec": {
   "display_name": "Python 3 (ipykernel)",
   "language": "python",
   "name": "python3"
  },
  "language_info": {
   "codemirror_mode": {
    "name": "ipython",
    "version": 3
   },
   "file_extension": ".py",
   "mimetype": "text/x-python",
   "name": "python",
   "nbconvert_exporter": "python",
   "pygments_lexer": "ipython3",
   "version": "3.11.11"
  }
 },
 "nbformat": 4,
 "nbformat_minor": 5
}
