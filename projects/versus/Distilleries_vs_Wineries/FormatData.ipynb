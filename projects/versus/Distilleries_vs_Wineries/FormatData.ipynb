{
 "cells": [
  {
   "cell_type": "code",
   "execution_count": 1,
   "id": "ddcf8fc7-7abc-4654-a226-22a85efe6b62",
   "metadata": {},
   "outputs": [],
   "source": [
    "import json"
   ]
  },
  {
   "cell_type": "code",
   "execution_count": 2,
   "id": "0b428117-cc07-4c00-9097-538feec9c0aa",
   "metadata": {},
   "outputs": [],
   "source": [
    "import requests\n",
    "import geopandas as gpd\n",
    "import pandas as pd"
   ]
  },
  {
   "cell_type": "code",
   "execution_count": 3,
   "id": "4613e2ff-7775-4839-a6cc-9112f8c1ed26",
   "metadata": {},
   "outputs": [],
   "source": [
    "from bs4 import BeautifulSoup\n",
    "from shapely.geometry import Point\n",
    "from tqdm.notebook import tqdm"
   ]
  },
  {
   "cell_type": "markdown",
   "id": "d193817e-e1f2-406e-b4c3-5f0bf20ab714",
   "metadata": {},
   "source": [
    "## Open GIS Data"
   ]
  },
  {
   "cell_type": "code",
   "execution_count": 4,
   "id": "c5f651a6-2854-4e39-9e78-dfb13912dd48",
   "metadata": {},
   "outputs": [],
   "source": [
    "file_path = \"data/cb_2018_us_state_500k/cb_2018_us_state_500k.shp\"\n",
    "states_df = gpd.read_file(file_path)"
   ]
  },
  {
   "cell_type": "markdown",
   "id": "cbfe102f-7a53-4169-9474-baeba1928443",
   "metadata": {},
   "source": [
    "## Get Distillery Data"
   ]
  },
  {
   "cell_type": "code",
   "execution_count": 5,
   "id": "076c6d57-ee87-43fd-ba46-dd639d5bf69f",
   "metadata": {},
   "outputs": [],
   "source": [
    "headers = {\n",
    "    \"User-Agent\": \"Mozilla/5.0 (Macintosh; Intel Mac OS X 10_11_5) AppleWebKit/537.36 (KHTML, like Gecko) Chrome/50.0.2661.102 Safari/537.36\"\n",
    "}\n",
    "r = requests.get(\n",
    "    \"https://www.distillerytrail.com/distillery-directory-map/\", headers=headers\n",
    ")"
   ]
  },
  {
   "cell_type": "code",
   "execution_count": 6,
   "id": "e8ede96a-a82f-4e9b-ace2-941b6e53971d",
   "metadata": {},
   "outputs": [],
   "source": [
    "soup = BeautifulSoup(r.text, \"html.parser\")"
   ]
  },
  {
   "cell_type": "code",
   "execution_count": 7,
   "id": "ee5525f1-a9a5-46c1-9fa8-b6e51f497a8d",
   "metadata": {},
   "outputs": [],
   "source": [
    "divs = soup.find_all(\"div\", {\"class\": \"drts-location-entities-map-container\"})\n",
    "div = divs[0]\n",
    "script = div.find_all(\"script\")[0]\n",
    "almost_data = script.text.split(\"setMarkers\")[1]"
   ]
  },
  {
   "cell_type": "code",
   "execution_count": 8,
   "id": "9bedf617-18a7-4140-ab01-81a4d3221023",
   "metadata": {},
   "outputs": [],
   "source": [
    "formatted_data_in_str = \"}\".join(almost_data[2:].split(\"}\")[:-2]) + \"}\"\n",
    "formatted_data_in_str = f\"[{formatted_data_in_str}]\""
   ]
  },
  {
   "cell_type": "code",
   "execution_count": 9,
   "id": "c7f7f369-82c0-4998-80af-d27daaf5c554",
   "metadata": {},
   "outputs": [],
   "source": [
    "distillery_data_list = json.loads(formatted_data_in_str)"
   ]
  },
  {
   "cell_type": "code",
   "execution_count": 10,
   "id": "62434c9d-f4bf-4d2c-bf9a-d30c3dc2ec17",
   "metadata": {},
   "outputs": [
    {
     "data": {
      "application/vnd.jupyter.widget-view+json": {
       "model_id": "3a2d9ceb78ff4ba4a6b7517d94ed64a5",
       "version_major": 2,
       "version_minor": 0
      },
      "text/plain": [
       "Parsing Distilleries:   0%|          | 0/2109 [00:00<?, ?it/s]"
      ]
     },
     "metadata": {},
     "output_type": "display_data"
    },
    {
     "name": "stdout",
     "output_type": "stream",
     "text": [
      "{'index': 0, 'entity_id': 17238, 'content': '<div class=\"drts-bs-card drts-bs-border-0 drts-bs-bg-dark drts-bs-text-white drts-map-marker-content\">\\n<img class=\"drts-bs-card-img drts-no-image\" src=\"data:image/png;base64,iVBORw0KGgoAAAANSUhEUgAAAPAAAAC0CAQAAAAAlWljAAABIklEQVR42u3RAQ0AAAjDMK4c6aAD0klYM116XAADFmABFmABFmABBizAAizAAizAAgxYgAVYgAVYgAVYgAELsAALsAALsAADFmABFmABFmABBizAAizAAizAAizAgAVYgAVYgAVYgAELsAALsAALsAADBgxYgAVYgAVYgAUYsAALsAALsAALMGABFmABFmABFmABBizAAizAAizAAgxYgAVYgAVYgAUYsAALsAALsAALsAADFmABFmABFmABBizAAizAAizAAgzYBMACLMACLMACLMCABViABViABViAAQuwAAuwAAuwAAswYAEWYAEWYAEWYMACLMACLMACLMCABViABViABViABRiwAAuwAAuwAAswYAEWYAEWYAEWYMACrKst65UNXM2XNOgAAAAASUVORK5CYII=\" alt=\"\" />\\n<div class=\"drts-bs-card-img-overlay drts-bs-p-2\">\\n<div class=\"drts-bs-card-title\"><a href=\"https://www.distillerytrail.com/directory-distillery/listing/delaware-distilling-company/\" class=\"drts-bs-text-white drts-entity-permalink drts-entity-17238\" title=\"Delaware Distilling Company (Closed)\" data-type=\"post\" data-content-type=\"directory__listing\" data-content-name=\"distillery_dir_ltg\">Delaware Distilling Company (Closed)</a></div>\\n<address class=\"drts-map-marker-address drts-bs-card-text\">18693 Coastal Hwy, Rehoboth Beach, Delaware 19971, United States</address>\\n</div></div>', 'lat': 38.720945, 'lng': -75.076014, 'icon': None}\n"
     ]
    }
   ],
   "source": [
    "coord_list = []\n",
    "state_counts = {}\n",
    "distilleries = []\n",
    "for distillery in tqdm(distillery_data_list, desc=\"Parsing Distilleries\"):\n",
    "    point = Point(distillery[\"lng\"], distillery[\"lat\"])\n",
    "    try:\n",
    "        state_code = states_df[states_df.intersects(point)][\"STUSPS\"].iloc[0]\n",
    "        distilleries.append(point)\n",
    "    except IndexError:\n",
    "        print(distillery)\n",
    "        continue\n",
    "\n",
    "    if state_code not in state_counts:\n",
    "        state_counts[state_code] = 1\n",
    "    else:\n",
    "        state_counts[state_code] += 1"
   ]
  },
  {
   "cell_type": "code",
   "execution_count": 11,
   "id": "b32dfce9-a297-4b6a-8ef3-1f133cf0132a",
   "metadata": {},
   "outputs": [],
   "source": [
    "distilleries_per_state_series = pd.Series(state_counts, name=\"distilleries\")\n",
    "distilleries_per_state_df = distilleries_per_state_series.reset_index()\n",
    "distilleries_per_state_df = distilleries_per_state_df.rename(\n",
    "    columns={\"index\": \"STUSPS\"}\n",
    ")"
   ]
  },
  {
   "cell_type": "markdown",
   "id": "617a4f29-08d8-44ab-b304-afc10d4239c2",
   "metadata": {},
   "source": [
    "## Get Winery Data"
   ]
  },
  {
   "cell_type": "code",
   "execution_count": 12,
   "id": "69238de9-a8ca-4f14-b395-1a92d1e05ca4",
   "metadata": {},
   "outputs": [],
   "source": [
    "r = requests.get(\"https://winemaps.com/api/wine-maps-winery\")"
   ]
  },
  {
   "cell_type": "code",
   "execution_count": 13,
   "id": "67c0d169-9c5a-4de4-8fa9-49ede9c76ff7",
   "metadata": {},
   "outputs": [
    {
     "name": "stdout",
     "output_type": "stream",
     "text": [
      "Marsden Estate  56 Wiroa Road Keri Keri\n",
      "Barkers Marque Wines 499 Reserve Road, RD 1, Seddon\n",
      "Beach House Wines A. 93 Mere Road Hastings Hawkes Bay\n",
      "I. Brajkovich 76 Guys Road, Kaikohe\n",
      "Matahiwi Vineyard 286 Paierau Road RD 1, Masteron Wairarapa\n",
      "Misconduct Wine Co. 375 Upper Branch Road North Penticton\n",
      "Naked Range Wines 125 Rifle Range Road Smiths Gully\n",
      "Hannay Wines Valley Green, 41 Viljoenshoop Road Elgin\n",
      "Catherine Marshall Lavinia, 1377 Polkadraai Road (M12/Stellenbosch Arterial) Stellenbosch\n",
      "South Hill Vineyards 113 Elgin Valley Road Elgin\n",
      "Boekenhoutskloof Winery Excelsior Road Franschhoek\n",
      "Dieu Donne Vineyards        Dieu Donne Uitkyk Street Franschhoek\n",
      "La Bri La Bri Wine Estate, Excelsior Road Franschhoek\n",
      "Mont Rochelle 1499 Dassenberg Road Franschhoek\n",
      "Veraison Vineyard Dassenberg Road Franschhoek\n",
      "Neyen Camino Apalta Km. 11 Colchagua\n",
      "Quinta da Aveleira National Road, Tavora, 7 Tabuaço\n",
      "Tarapacá Fundo El Rosario de Naltahua S/N \n",
      "Gisborne Wine Centre Shed 3, 50 The Esplanade Inner Harbour Inner Harbour\n",
      "Bouza Bodega Boutique Cno. de la Redencion 7658 bis Montevideo\n",
      "Cesar Pisano E Hijos Ruta 68 km. 29 Progreso Canelones\n",
      "Dante Irurtia Ramal Ruta 97 Km. 2,300 Carmelo Colonia\n",
      "Familia Deicas Establecimiento Juanico Route 5 Km 37,500, Gauteng Juanico\n",
      "Filgueira Viñedos and Bodega Patria 765 / Route 81 km 6,500 Cuchilla Verde Montevideo\n",
      "Marichal R. 5 km. 39 Etchevarria Canelones\n",
      "Pizzorno Family Estates Ruta 32 k,. 23 Canelon Chico Canelones\n",
      "De Lucca Wines Ruta 48 km 13.100 El Colorado Uruguay\n",
      "Toscanini Family of Wines Route 69, Km. 30,500 Uruguay\n",
      "Vinos Finos H. Stagnari Ruta 5 km. 20 La Puebla Canelones\n",
      "Viña Varela Zarranz Route 74, km 29, Joaquin Suarez Canelones\n",
      "El Cielo Valle de Guadalupe Plot No. 118 km. 7.5 Guadalupe Road Ejido El Porvenir\n"
     ]
    }
   ],
   "source": [
    "feature_collection = r.json()\n",
    "for i, feature in enumerate(feature_collection[\"features\"]):\n",
    "    coords = feature[\"geometry\"][\"coordinates\"]\n",
    "    try:\n",
    "        feature_collection[\"features\"][i][\"geometry\"][\"coordinates\"] = [\n",
    "            float(coords[0]),\n",
    "            float(coords[1]),\n",
    "        ]\n",
    "    except ValueError:\n",
    "        print(feature[\"properties\"][\"title\"], feature[\"properties\"][\"address\"])"
   ]
  },
  {
   "cell_type": "code",
   "execution_count": 14,
   "id": "c38993cd-fd6a-4dc3-81f1-131625f6ce3e",
   "metadata": {},
   "outputs": [],
   "source": [
    "with open(\"data/wineries.geojson\", \"w\") as f:\n",
    "    f.write(json.dumps(feature_collection))"
   ]
  },
  {
   "cell_type": "code",
   "execution_count": 15,
   "id": "f0c4061e-87cd-40d2-932c-3f257c676588",
   "metadata": {},
   "outputs": [],
   "source": [
    "wineries_gdf = gpd.GeoDataFrame.from_file(\"data/wineries.geojson\")"
   ]
  },
  {
   "cell_type": "code",
   "execution_count": 16,
   "id": "1b9bf50f-b67a-444b-84a4-130358027f64",
   "metadata": {},
   "outputs": [
    {
     "data": {
      "text/plain": [
       "16    CA\n",
       "Name: STUSPS, dtype: object"
      ]
     },
     "execution_count": 16,
     "metadata": {},
     "output_type": "execute_result"
    }
   ],
   "source": [
    "states_df[wineries_gdf[\"geometry\"].iloc[0].intersects(states_df[\"geometry\"])][\"STUSPS\"]"
   ]
  },
  {
   "cell_type": "code",
   "execution_count": 17,
   "id": "8196d1db-c6c2-4209-bd66-12e558307fde",
   "metadata": {},
   "outputs": [],
   "source": [
    "wineries_gdf = wineries_gdf[wineries_gdf[\"geometry\"] != None]"
   ]
  },
  {
   "cell_type": "code",
   "execution_count": 18,
   "id": "6b8d40bd-896a-4583-89ee-17a54177479c",
   "metadata": {},
   "outputs": [],
   "source": [
    "def calculate_state(input_point, input_polygons):\n",
    "    output_df = input_polygons[input_point.intersects(input_polygons[\"geometry\"])][\n",
    "        \"STUSPS\"\n",
    "    ]\n",
    "    if output_df.empty:\n",
    "        return\n",
    "    return output_df.iloc[0]"
   ]
  },
  {
   "cell_type": "code",
   "execution_count": 19,
   "id": "b2d33686-d0d5-4f31-a678-ce124795d378",
   "metadata": {},
   "outputs": [],
   "source": [
    "wineries_gdf[\"state_code\"] = wineries_gdf[\"geometry\"].apply(\n",
    "    lambda geometry: calculate_state(geometry, states_df)\n",
    ")"
   ]
  },
  {
   "cell_type": "code",
   "execution_count": 20,
   "id": "a42d30f4-1898-43be-9469-feea3eff6b4c",
   "metadata": {},
   "outputs": [],
   "source": [
    "wineries_by_state_series = wineries_gdf.groupby([\"state_code\"]).size()"
   ]
  },
  {
   "cell_type": "code",
   "execution_count": 21,
   "id": "abee99a7-6371-4029-95c1-0e9f08b86cd5",
   "metadata": {},
   "outputs": [],
   "source": [
    "wineries_by_state_df = pd.DataFrame(\n",
    "    {\n",
    "        \"STUSPS\": wineries_by_state_series.index,\n",
    "        \"wineries\": wineries_by_state_series.values,\n",
    "    }\n",
    ")"
   ]
  },
  {
   "cell_type": "markdown",
   "id": "81d80008-9f72-4ffa-8947-03c7c1c962b1",
   "metadata": {},
   "source": [
    "## Distilleries vs Wineries"
   ]
  },
  {
   "cell_type": "code",
   "execution_count": 22,
   "id": "5cc9cc9c-cc58-4c56-a4a7-e192d28c3899",
   "metadata": {},
   "outputs": [],
   "source": [
    "distilleries_per_state_with_population_df = states_df.merge(\n",
    "    distilleries_per_state_df, on=\"STUSPS\", how=\"left\"\n",
    ")"
   ]
  },
  {
   "cell_type": "code",
   "execution_count": 24,
   "id": "e6881450-e175-4022-a953-c1ba60947dab",
   "metadata": {},
   "outputs": [],
   "source": [
    "distilleries_vs_wineries_df = distilleries_per_state_with_population_df.merge(\n",
    "    wineries_by_state_df, on=\"STUSPS\", how=\"left\"\n",
    ").fillna(0)"
   ]
  },
  {
   "cell_type": "code",
   "execution_count": 25,
   "id": "efc8a2be-ab87-4eb8-a97c-7e694cc1de65",
   "metadata": {},
   "outputs": [],
   "source": [
    "distilleries_vs_wineries_df[\"more_distilleries\"] = distilleries_vs_wineries_df.apply(\n",
    "    lambda row: row[\"distilleries\"] > row[\"wineries\"], axis=1\n",
    ")"
   ]
  },
  {
   "cell_type": "code",
   "execution_count": 26,
   "id": "9e7b4683-9039-48d0-a37d-2b4fdd246407",
   "metadata": {},
   "outputs": [],
   "source": [
    "distilleries_vs_wineries_df[\n",
    "    \"more_distilleries_num\"\n",
    "] = distilleries_vs_wineries_df.apply(\n",
    "    lambda row: row[\"distilleries\"] - row[\"wineries\"], axis=1\n",
    ")"
   ]
  },
  {
   "cell_type": "code",
   "execution_count": 27,
   "id": "56dcd13a-4a3a-4a89-94e2-89c018c89e21",
   "metadata": {},
   "outputs": [],
   "source": [
    "distilleries_vs_wineries_df.to_file(\"data/distilleries_vs_wineries.gpkg\")"
   ]
  },
  {
   "cell_type": "code",
   "execution_count": null,
   "id": "55602269-d242-46bc-9309-4012a8b7cffa",
   "metadata": {},
   "outputs": [],
   "source": []
  }
 ],
 "metadata": {
  "kernelspec": {
   "display_name": "Python 3 (ipykernel)",
   "language": "python",
   "name": "python3"
  },
  "language_info": {
   "codemirror_mode": {
    "name": "ipython",
    "version": 3
   },
   "file_extension": ".py",
   "mimetype": "text/x-python",
   "name": "python",
   "nbconvert_exporter": "python",
   "pygments_lexer": "ipython3",
   "version": "3.11.10"
  }
 },
 "nbformat": 4,
 "nbformat_minor": 5
}
