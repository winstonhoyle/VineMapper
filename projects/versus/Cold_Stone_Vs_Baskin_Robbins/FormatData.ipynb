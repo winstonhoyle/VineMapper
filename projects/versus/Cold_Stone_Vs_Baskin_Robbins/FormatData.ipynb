{
 "cells": [
  {
   "cell_type": "code",
   "execution_count": 8,
   "id": "c100310b-4780-4ebd-b955-45512361b3e5",
   "metadata": {},
   "outputs": [],
   "source": [
    "import geopandas as gpd"
   ]
  },
  {
   "cell_type": "markdown",
   "id": "729a5eed-ea60-46d5-b906-b203bc305bb0",
   "metadata": {},
   "source": [
    "## Open Store data"
   ]
  },
  {
   "cell_type": "code",
   "execution_count": 9,
   "id": "fa78b64f-250a-4b47-809c-f2bbf5307567",
   "metadata": {},
   "outputs": [],
   "source": [
    "cold_stone_gdf = gpd.read_file(\"data/cold_stones_per_state.gpkg\")\n",
    "cold_stone_gdf = cold_stone_gdf[[\"STUSPS\", \"COLD_STONE\"]]"
   ]
  },
  {
   "cell_type": "code",
   "execution_count": 10,
   "id": "dd88ee34-bd85-42cf-87e6-16e59a8b5e4a",
   "metadata": {},
   "outputs": [],
   "source": [
    "baskin_robbins_gdf = gpd.read_file(\"data/baskin_robbins_per_state.gpkg\")\n",
    "baskin_robbins_gdf = baskin_robbins_gdf[[\"geometry\", \"STUSPS\", \"BASKIN_ROBBINS\"]]"
   ]
  },
  {
   "cell_type": "markdown",
   "id": "250c1eb5-8423-4731-a0b7-0636aa8c0d78",
   "metadata": {},
   "source": [
    "#### Merge Data now"
   ]
  },
  {
   "cell_type": "code",
   "execution_count": 11,
   "id": "a3f217f9-ed84-4e2f-8542-6b915bda2143",
   "metadata": {},
   "outputs": [],
   "source": [
    "cs_br_gdf = baskin_robbins_gdf.merge(cold_stone_gdf, on=\"STUSPS\", how=\"inner\")"
   ]
  },
  {
   "cell_type": "code",
   "execution_count": 12,
   "id": "8a73291a-51ff-4f73-b6ab-043c185f09f3",
   "metadata": {},
   "outputs": [],
   "source": [
    "cs_br_gdf[\"cs_to_br\"] = cs_br_gdf[\"COLD_STONE\"] - cs_br_gdf[\"BASKIN_ROBBINS\"]"
   ]
  },
  {
   "cell_type": "code",
   "execution_count": 15,
   "id": "5d76ad82-60a2-4aee-9bc4-73b29d5c82e5",
   "metadata": {},
   "outputs": [],
   "source": [
    "def more_stores(row) -> str:\n",
    "    br = row[\"BASKIN_ROBBINS\"]\n",
    "    cs = row[\"COLD_STONE\"]\n",
    "    if cs > br:\n",
    "        return \"More Cold Stones\"\n",
    "    if br > cs:\n",
    "        return \"More Baskin Robbins\"\n",
    "    if (br == cs) and (cs == 0):\n",
    "        return \"No Locations\"\n",
    "    if br == cs:\n",
    "        return \"Same Amount\""
   ]
  },
  {
   "cell_type": "code",
   "execution_count": 17,
   "id": "8f619a73-16cf-43e4-8155-75ca9d83b9ec",
   "metadata": {},
   "outputs": [],
   "source": [
    "cs_br_gdf[\"label\"] = cs_br_gdf.apply(lambda row: more_stores(row), axis=1)"
   ]
  },
  {
   "cell_type": "code",
   "execution_count": 18,
   "id": "6bb44f2e-cb29-40a3-800d-ba02306495cc",
   "metadata": {},
   "outputs": [],
   "source": [
    "cs_br_gdf = cs_br_gdf.to_crs(9311)\n",
    "cs_br_gdf.to_file(\"data/cs_br.gpkg\")"
   ]
  },
  {
   "cell_type": "code",
   "execution_count": null,
   "id": "6d3b5ed3-365a-46fe-9a8b-f3fd2641d7d4",
   "metadata": {},
   "outputs": [],
   "source": []
  }
 ],
 "metadata": {
  "kernelspec": {
   "display_name": "Python 3 (ipykernel)",
   "language": "python",
   "name": "python3"
  },
  "language_info": {
   "codemirror_mode": {
    "name": "ipython",
    "version": 3
   },
   "file_extension": ".py",
   "mimetype": "text/x-python",
   "name": "python",
   "nbconvert_exporter": "python",
   "pygments_lexer": "ipython3",
   "version": "3.11.11"
  }
 },
 "nbformat": 4,
 "nbformat_minor": 5
}
