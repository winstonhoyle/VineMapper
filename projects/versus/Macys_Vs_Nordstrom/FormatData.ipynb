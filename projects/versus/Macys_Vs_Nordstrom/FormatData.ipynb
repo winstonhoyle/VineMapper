{
 "cells": [
  {
   "cell_type": "code",
   "execution_count": 1,
   "id": "c100310b-4780-4ebd-b955-45512361b3e5",
   "metadata": {},
   "outputs": [],
   "source": [
    "import geopandas as gpd"
   ]
  },
  {
   "cell_type": "markdown",
   "id": "2a7a6c45-e00a-477c-8359-6d564f2d71f8",
   "metadata": {},
   "source": [
    "## Open GIS Data"
   ]
  },
  {
   "cell_type": "code",
   "execution_count": 14,
   "id": "d4f6d7a3-f3ab-4169-aee7-39a03d757c90",
   "metadata": {},
   "outputs": [],
   "source": [
    "file_path = \"data/cb_2018_us_state_500k/cb_2018_us_state_500k.shp\"\n",
    "states_gdf = gpd.read_file(file_path)\n",
    "states_gdf = states_gdf[[\"STUSPS\", \"geometry\"]]"
   ]
  },
  {
   "cell_type": "markdown",
   "id": "729a5eed-ea60-46d5-b906-b203bc305bb0",
   "metadata": {},
   "source": [
    "## Open Macy's Data"
   ]
  },
  {
   "cell_type": "code",
   "execution_count": 20,
   "id": "dd88ee34-bd85-42cf-87e6-16e59a8b5e4a",
   "metadata": {},
   "outputs": [],
   "source": [
    "macys_gdf = gpd.read_file(\"data/macys_per_state.gpkg\")\n",
    "macys_gdf = macys_gdf.to_crs(9311)\n",
    "macys_gdf[\"macys\"] = macys_gdf[\"stores\"].astype(int)\n",
    "macys_gdf = macys_gdf[[\"STUSPS\", \"macys\"]]"
   ]
  },
  {
   "cell_type": "markdown",
   "id": "e1fbc6a2-c032-467a-af60-1e4eff759e4b",
   "metadata": {},
   "source": [
    "## Get Nordstroms Data"
   ]
  },
  {
   "cell_type": "code",
   "execution_count": 34,
   "id": "bff9529f-7dc9-4c66-8bae-9997fd332577",
   "metadata": {},
   "outputs": [],
   "source": [
    "nordstrom_gdf = gpd.read_file(\"data/nordstrom_per_state.gpkg\")\n",
    "nordstrom_gdf = nordstrom_gdf.to_crs(9311)\n",
    "nordstrom_gdf[\"nordstroms\"] = nordstrom_gdf[\"NORDSTROMS\"].astype(int) + nordstrom_gdf[\n",
    "    \"NORDSTROM_RACKS\"\n",
    "].astype(int)\n",
    "nordstrom_gdf = nordstrom_gdf[[\"STUSPS\", \"nordstroms\"]]"
   ]
  },
  {
   "cell_type": "markdown",
   "id": "250c1eb5-8423-4731-a0b7-0636aa8c0d78",
   "metadata": {},
   "source": [
    "## Merge Data"
   ]
  },
  {
   "cell_type": "code",
   "execution_count": 35,
   "id": "30d33a57-1757-4278-b251-19abcdb1ebf2",
   "metadata": {},
   "outputs": [],
   "source": [
    "states_with_macys_gdf = states_gdf.merge(macys_gdf, how=\"left\", on=\"STUSPS\")"
   ]
  },
  {
   "cell_type": "code",
   "execution_count": 36,
   "id": "1b7314f4-4977-4cf4-a3fe-7d017ad9bf62",
   "metadata": {},
   "outputs": [],
   "source": [
    "macys_vs_nordstrom_gdf = states_with_macys_gdf.merge(\n",
    "    nordstrom_gdf, how=\"left\", on=\"STUSPS\"\n",
    ")"
   ]
  },
  {
   "cell_type": "code",
   "execution_count": 37,
   "id": "ef2f8c0e-9f73-4498-a29e-f3ac5be06a3c",
   "metadata": {},
   "outputs": [],
   "source": [
    "macys_vs_nordstrom_gdf = macys_vs_nordstrom_gdf.fillna(0)\n",
    "macys_vs_nordstrom_gdf[\"nordstroms\"] = macys_vs_nordstrom_gdf[\"nordstroms\"].astype(int)\n",
    "macys_vs_nordstrom_gdf[\"macys\"] = macys_vs_nordstrom_gdf[\"macys\"].astype(int)"
   ]
  },
  {
   "cell_type": "code",
   "execution_count": 42,
   "id": "86f4688a-58b6-44bf-9b09-1257fb297fbf",
   "metadata": {},
   "outputs": [],
   "source": [
    "macys_vs_nordstrom_gdf[\"macys_vs_nordstrom_label\"] = (\n",
    "    macys_vs_nordstrom_gdf[\"macys\"].astype(str)\n",
    "    + \":\"\n",
    "    + macys_vs_nordstrom_gdf[\"nordstroms\"].astype(str)\n",
    ")\n",
    "macys_vs_nordstrom_gdf[\"macys_vs_nordstrom\"] = (\n",
    "    macys_vs_nordstrom_gdf[\"macys\"] - macys_vs_nordstrom_gdf[\"nordstroms\"]\n",
    ")"
   ]
  },
  {
   "cell_type": "code",
   "execution_count": 43,
   "id": "2425c858-e84d-4d12-bdf8-0ecf11358d56",
   "metadata": {},
   "outputs": [],
   "source": [
    "macys_vs_nordstrom_gdf = macys_vs_nordstrom_gdf.to_crs(9311)\n",
    "macys_vs_nordstrom_gdf.to_file(f\"data/macys_vs_nordstrom.gpkg\")"
   ]
  },
  {
   "cell_type": "code",
   "execution_count": null,
   "id": "85e3b6e9-3cfe-4f26-a084-f6f652aec9c1",
   "metadata": {},
   "outputs": [],
   "source": []
  }
 ],
 "metadata": {
  "kernelspec": {
   "display_name": "Python 3 (ipykernel)",
   "language": "python",
   "name": "python3"
  },
  "language_info": {
   "codemirror_mode": {
    "name": "ipython",
    "version": 3
   },
   "file_extension": ".py",
   "mimetype": "text/x-python",
   "name": "python",
   "nbconvert_exporter": "python",
   "pygments_lexer": "ipython3",
   "version": "3.11.11"
  }
 },
 "nbformat": 4,
 "nbformat_minor": 5
}
