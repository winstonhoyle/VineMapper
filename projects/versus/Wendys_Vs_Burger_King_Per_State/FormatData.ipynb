{
 "cells": [
  {
   "cell_type": "code",
   "execution_count": 1,
   "id": "c100310b-4780-4ebd-b955-45512361b3e5",
   "metadata": {},
   "outputs": [],
   "source": [
    "import geopandas as gpd"
   ]
  },
  {
   "cell_type": "markdown",
   "id": "729a5eed-ea60-46d5-b906-b203bc305bb0",
   "metadata": {},
   "source": [
    "## Open Wendy's Data"
   ]
  },
  {
   "cell_type": "code",
   "execution_count": 2,
   "id": "fa78b64f-250a-4b47-809c-f2bbf5307567",
   "metadata": {},
   "outputs": [],
   "source": [
    "wendys_gdf = gpd.read_file(\"data/wendys_per_state.gpkg\")\n",
    "wendys_gdf = wendys_gdf[[\"NAME\", \"WENDYS\"]]"
   ]
  },
  {
   "cell_type": "code",
   "execution_count": 3,
   "id": "1cf64ff6-fc57-42d8-82ba-26ff5d24e099",
   "metadata": {},
   "outputs": [
    {
     "data": {
      "text/html": [
       "<div>\n",
       "<style scoped>\n",
       "    .dataframe tbody tr th:only-of-type {\n",
       "        vertical-align: middle;\n",
       "    }\n",
       "\n",
       "    .dataframe tbody tr th {\n",
       "        vertical-align: top;\n",
       "    }\n",
       "\n",
       "    .dataframe thead th {\n",
       "        text-align: right;\n",
       "    }\n",
       "</style>\n",
       "<table border=\"1\" class=\"dataframe\">\n",
       "  <thead>\n",
       "    <tr style=\"text-align: right;\">\n",
       "      <th></th>\n",
       "      <th>NAME</th>\n",
       "      <th>per_1m</th>\n",
       "    </tr>\n",
       "  </thead>\n",
       "  <tbody>\n",
       "    <tr>\n",
       "      <th>4</th>\n",
       "      <td>West Virginia</td>\n",
       "      <td>41.796221</td>\n",
       "    </tr>\n",
       "    <tr>\n",
       "      <th>44</th>\n",
       "      <td>Ohio</td>\n",
       "      <td>33.998549</td>\n",
       "    </tr>\n",
       "    <tr>\n",
       "      <th>0</th>\n",
       "      <td>Mississippi</td>\n",
       "      <td>31.598561</td>\n",
       "    </tr>\n",
       "  </tbody>\n",
       "</table>\n",
       "</div>"
      ],
      "text/plain": [
       "             NAME     per_1m\n",
       "4   West Virginia  41.796221\n",
       "44           Ohio  33.998549\n",
       "0     Mississippi  31.598561"
      ]
     },
     "execution_count": 3,
     "metadata": {},
     "output_type": "execute_result"
    }
   ],
   "source": [
    "gpd.read_file(\"data/wendys_per_state.gpkg\")[[\"NAME\", \"per_1m\"]].sort_values(\n",
    "    \"per_1m\", ascending=False\n",
    ").head(3)"
   ]
  },
  {
   "cell_type": "code",
   "execution_count": 13,
   "id": "7e045d86-89af-4027-8bfa-07b3b05d0499",
   "metadata": {},
   "outputs": [
    {
     "data": {
      "text/html": [
       "<div>\n",
       "<style scoped>\n",
       "    .dataframe tbody tr th:only-of-type {\n",
       "        vertical-align: middle;\n",
       "    }\n",
       "\n",
       "    .dataframe tbody tr th {\n",
       "        vertical-align: top;\n",
       "    }\n",
       "\n",
       "    .dataframe thead th {\n",
       "        text-align: right;\n",
       "    }\n",
       "</style>\n",
       "<table border=\"1\" class=\"dataframe\">\n",
       "  <thead>\n",
       "    <tr style=\"text-align: right;\">\n",
       "      <th></th>\n",
       "      <th>NAME</th>\n",
       "      <th>per_100k</th>\n",
       "    </tr>\n",
       "  </thead>\n",
       "  <tbody>\n",
       "    <tr>\n",
       "      <th>4</th>\n",
       "      <td>West Virginia</td>\n",
       "      <td>4.179622</td>\n",
       "    </tr>\n",
       "    <tr>\n",
       "      <th>44</th>\n",
       "      <td>Ohio</td>\n",
       "      <td>3.399855</td>\n",
       "    </tr>\n",
       "    <tr>\n",
       "      <th>0</th>\n",
       "      <td>Mississippi</td>\n",
       "      <td>3.159856</td>\n",
       "    </tr>\n",
       "  </tbody>\n",
       "</table>\n",
       "</div>"
      ],
      "text/plain": [
       "             NAME  per_100k\n",
       "4   West Virginia  4.179622\n",
       "44           Ohio  3.399855\n",
       "0     Mississippi  3.159856"
      ]
     },
     "execution_count": 13,
     "metadata": {},
     "output_type": "execute_result"
    }
   ],
   "source": [
    "gpd.read_file(\"data/wendys_per_state.gpkg\")[[\"NAME\", \"per_100k\"]].sort_values(\n",
    "    \"per_100k\", ascending=False\n",
    ").head(3)"
   ]
  },
  {
   "cell_type": "markdown",
   "id": "e02e92b8-6ebf-4a78-ab74-6990dc868315",
   "metadata": {},
   "source": [
    "## Open Burger King Data"
   ]
  },
  {
   "cell_type": "code",
   "execution_count": 14,
   "id": "dd88ee34-bd85-42cf-87e6-16e59a8b5e4a",
   "metadata": {},
   "outputs": [],
   "source": [
    "bk_gdf = gpd.read_file(\"data/bks_per_state.gpkg\")\n",
    "bk_gdf = bk_gdf[[\"geometry\", \"NAME\", \"BKs\"]]"
   ]
  },
  {
   "cell_type": "code",
   "execution_count": 15,
   "id": "fa685b51-8744-4497-848c-4eed3732c270",
   "metadata": {},
   "outputs": [
    {
     "data": {
      "text/html": [
       "<div>\n",
       "<style scoped>\n",
       "    .dataframe tbody tr th:only-of-type {\n",
       "        vertical-align: middle;\n",
       "    }\n",
       "\n",
       "    .dataframe tbody tr th {\n",
       "        vertical-align: top;\n",
       "    }\n",
       "\n",
       "    .dataframe thead th {\n",
       "        text-align: right;\n",
       "    }\n",
       "</style>\n",
       "<table border=\"1\" class=\"dataframe\">\n",
       "  <thead>\n",
       "    <tr style=\"text-align: right;\">\n",
       "      <th></th>\n",
       "      <th>NAME</th>\n",
       "      <th>per_100k</th>\n",
       "    </tr>\n",
       "  </thead>\n",
       "  <tbody>\n",
       "    <tr>\n",
       "      <th>4</th>\n",
       "      <td>West Virginia</td>\n",
       "      <td>3.445364</td>\n",
       "    </tr>\n",
       "    <tr>\n",
       "      <th>5</th>\n",
       "      <td>Louisiana</td>\n",
       "      <td>3.116778</td>\n",
       "    </tr>\n",
       "    <tr>\n",
       "      <th>0</th>\n",
       "      <td>Mississippi</td>\n",
       "      <td>2.854064</td>\n",
       "    </tr>\n",
       "  </tbody>\n",
       "</table>\n",
       "</div>"
      ],
      "text/plain": [
       "            NAME  per_100k\n",
       "4  West Virginia  3.445364\n",
       "5      Louisiana  3.116778\n",
       "0    Mississippi  2.854064"
      ]
     },
     "execution_count": 15,
     "metadata": {},
     "output_type": "execute_result"
    }
   ],
   "source": [
    "gpd.read_file(\"data/bks_per_state.gpkg\")[[\"NAME\", \"per_100k\"]].sort_values(\n",
    "    \"per_100k\", ascending=False\n",
    ").head(3)"
   ]
  },
  {
   "cell_type": "code",
   "execution_count": 7,
   "id": "64866566-4080-41fc-9f65-316a3f9ff4ee",
   "metadata": {},
   "outputs": [
    {
     "data": {
      "text/html": [
       "<div>\n",
       "<style scoped>\n",
       "    .dataframe tbody tr th:only-of-type {\n",
       "        vertical-align: middle;\n",
       "    }\n",
       "\n",
       "    .dataframe tbody tr th {\n",
       "        vertical-align: top;\n",
       "    }\n",
       "\n",
       "    .dataframe thead th {\n",
       "        text-align: right;\n",
       "    }\n",
       "</style>\n",
       "<table border=\"1\" class=\"dataframe\">\n",
       "  <thead>\n",
       "    <tr style=\"text-align: right;\">\n",
       "      <th></th>\n",
       "      <th>NAME</th>\n",
       "      <th>BKs</th>\n",
       "    </tr>\n",
       "  </thead>\n",
       "  <tbody>\n",
       "    <tr>\n",
       "      <th>15</th>\n",
       "      <td>Texas</td>\n",
       "      <td>566</td>\n",
       "    </tr>\n",
       "    <tr>\n",
       "      <th>9</th>\n",
       "      <td>Florida</td>\n",
       "      <td>502</td>\n",
       "    </tr>\n",
       "  </tbody>\n",
       "</table>\n",
       "</div>"
      ],
      "text/plain": [
       "       NAME  BKs\n",
       "15    Texas  566\n",
       "9   Florida  502"
      ]
     },
     "execution_count": 7,
     "metadata": {},
     "output_type": "execute_result"
    }
   ],
   "source": [
    "gpd.read_file(\"data/bks_per_state.gpkg\")[[\"NAME\", \"BKs\"]].sort_values(\n",
    "    \"BKs\", ascending=False\n",
    ").head(2)"
   ]
  },
  {
   "cell_type": "markdown",
   "id": "99469064-a8c3-4069-9937-4b35fa0e727f",
   "metadata": {},
   "source": [
    "## Merge"
   ]
  },
  {
   "cell_type": "code",
   "execution_count": 8,
   "id": "a3f217f9-ed84-4e2f-8542-6b915bda2143",
   "metadata": {},
   "outputs": [],
   "source": [
    "wendys_bk_gdf = bk_gdf.merge(wendys_gdf, on=\"NAME\", how=\"inner\").reset_index(drop=True)\n",
    "wendys_bk_gdf[\"WENDYS\"] = wendys_bk_gdf[\"WENDYS\"].astype(int)"
   ]
  },
  {
   "cell_type": "code",
   "execution_count": 9,
   "id": "5d76ad82-60a2-4aee-9bc4-73b29d5c82e5",
   "metadata": {},
   "outputs": [],
   "source": [
    "def more_stores(row) -> str:\n",
    "    wendys = row[\"WENDYS\"]\n",
    "    bks = row[\"BKs\"]\n",
    "    if wendys > bks:\n",
    "        return \"More Wendy's\"\n",
    "    if bks > wendys:\n",
    "        return \"More Burger Kings\"\n",
    "    if bks == wendys:\n",
    "        return \"Same Amount\"\n",
    "    else:\n",
    "        return \"Edge Case\""
   ]
  },
  {
   "cell_type": "code",
   "execution_count": 10,
   "id": "8f619a73-16cf-43e4-8155-75ca9d83b9ec",
   "metadata": {},
   "outputs": [],
   "source": [
    "wendys_bk_gdf[\"label\"] = wendys_bk_gdf.apply(lambda row: more_stores(row), axis=1)"
   ]
  },
  {
   "cell_type": "code",
   "execution_count": 11,
   "id": "6bb44f2e-cb29-40a3-800d-ba02306495cc",
   "metadata": {},
   "outputs": [],
   "source": [
    "wendys_bk_gdf = wendys_bk_gdf.to_crs(9311)\n",
    "wendys_bk_gdf.to_file(\"data/wendys_bk.gpkg\")"
   ]
  },
  {
   "cell_type": "code",
   "execution_count": null,
   "id": "6d3b5ed3-365a-46fe-9a8b-f3fd2641d7d4",
   "metadata": {},
   "outputs": [],
   "source": []
  }
 ],
 "metadata": {
  "kernelspec": {
   "display_name": "Python 3 (ipykernel)",
   "language": "python",
   "name": "python3"
  },
  "language_info": {
   "codemirror_mode": {
    "name": "ipython",
    "version": 3
   },
   "file_extension": ".py",
   "mimetype": "text/x-python",
   "name": "python",
   "nbconvert_exporter": "python",
   "pygments_lexer": "ipython3",
   "version": "3.11.11"
  }
 },
 "nbformat": 4,
 "nbformat_minor": 5
}
