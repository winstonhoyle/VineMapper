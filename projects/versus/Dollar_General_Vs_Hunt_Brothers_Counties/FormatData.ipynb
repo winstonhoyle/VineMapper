{
 "cells": [
  {
   "cell_type": "code",
   "execution_count": 4,
   "id": "c100310b-4780-4ebd-b955-45512361b3e5",
   "metadata": {},
   "outputs": [],
   "source": [
    "import geopandas as gpd"
   ]
  },
  {
   "cell_type": "markdown",
   "id": "7713f5ce-55cc-4d13-b330-6cf75f895c85",
   "metadata": {},
   "source": [
    "## Get County Data"
   ]
  },
  {
   "cell_type": "code",
   "execution_count": 5,
   "id": "1e3fff7f-bd8c-4b02-9b22-132d84e13f77",
   "metadata": {},
   "outputs": [],
   "source": [
    "file_path = \"data/cb_2018_us_county_500k/cb_2018_us_county_500k.shp\"\n",
    "counties_gdf = gpd.read_file(file_path)"
   ]
  },
  {
   "cell_type": "code",
   "execution_count": 6,
   "id": "738929bd-f217-4a7a-939f-dbbc8c68950b",
   "metadata": {},
   "outputs": [],
   "source": [
    "counties_gdf = counties_gdf.to_crs(9311)"
   ]
  },
  {
   "cell_type": "markdown",
   "id": "729a5eed-ea60-46d5-b906-b203bc305bb0",
   "metadata": {},
   "source": [
    "## Open Dollar General Data"
   ]
  },
  {
   "cell_type": "code",
   "execution_count": 7,
   "id": "dd88ee34-bd85-42cf-87e6-16e59a8b5e4a",
   "metadata": {},
   "outputs": [],
   "source": [
    "dollar_general_gdf = gpd.read_file(\"data/dollar_generals.gpkg\")\n",
    "dollar_general_gdf = dollar_general_gdf.to_crs(9311)"
   ]
  },
  {
   "cell_type": "markdown",
   "id": "e1fbc6a2-c032-467a-af60-1e4eff759e4b",
   "metadata": {},
   "source": [
    "## Open Hunt Brothers Data"
   ]
  },
  {
   "cell_type": "code",
   "execution_count": 8,
   "id": "bff9529f-7dc9-4c66-8bae-9997fd332577",
   "metadata": {},
   "outputs": [],
   "source": [
    "hunt_brothers_gdf = gpd.read_file(\"data/hunt_brothers.gpkg\")\n",
    "hunt_brothers_gdf = hunt_brothers_gdf.to_crs(9311)"
   ]
  },
  {
   "cell_type": "markdown",
   "id": "8440fa36-683f-4394-a07d-7b047b136fac",
   "metadata": {},
   "source": [
    "## Intersect Data"
   ]
  },
  {
   "cell_type": "code",
   "execution_count": 9,
   "id": "42d3383c-c354-47ff-b7f5-331f5ee64e46",
   "metadata": {},
   "outputs": [],
   "source": [
    "counties_dollar_general_count_gdf = counties_gdf.join(\n",
    "    gpd.sjoin(dollar_general_gdf, counties_gdf)\n",
    "    .groupby(\"index_right\")\n",
    "    .size()\n",
    "    .rename(\"stores\"),\n",
    "    how=\"left\",\n",
    ")"
   ]
  },
  {
   "cell_type": "code",
   "execution_count": 10,
   "id": "2910d7e0-181e-4306-9ba3-fde77f1c1c80",
   "metadata": {},
   "outputs": [],
   "source": [
    "counties_dollar_general_count_gdf = counties_dollar_general_count_gdf.fillna(0)\n",
    "counties_dollar_general_count_gdf[\"dg\"] = counties_dollar_general_count_gdf[\n",
    "    \"stores\"\n",
    "].astype(int)\n",
    "counties_dollar_general_count_gdf = counties_dollar_general_count_gdf[\n",
    "    [\"GEOID\", \"geometry\", \"dg\", \"NAME\"]\n",
    "]"
   ]
  },
  {
   "cell_type": "code",
   "execution_count": 11,
   "id": "b16c7145-f576-4bcb-8bc3-fd940840c005",
   "metadata": {},
   "outputs": [],
   "source": [
    "counties_hunt_brothers_count_gdf = counties_gdf.join(\n",
    "    gpd.sjoin(hunt_brothers_gdf, counties_gdf)\n",
    "    .groupby(\"index_right\")\n",
    "    .size()\n",
    "    .rename(\"stores\"),\n",
    "    how=\"left\",\n",
    ")"
   ]
  },
  {
   "cell_type": "code",
   "execution_count": 12,
   "id": "3646bf89-3238-488c-a5bb-1e36329f0ef1",
   "metadata": {},
   "outputs": [],
   "source": [
    "counties_hunt_brothers_count_gdf = counties_hunt_brothers_count_gdf.fillna(0)\n",
    "counties_hunt_brothers_count_gdf[\"hb\"] = counties_hunt_brothers_count_gdf[\n",
    "    \"stores\"\n",
    "].astype(int)\n",
    "counties_hunt_brothers_count_gdf = counties_hunt_brothers_count_gdf[\n",
    "    [\"GEOID\", \"geometry\", \"hb\", \"NAME\"]\n",
    "]"
   ]
  },
  {
   "cell_type": "markdown",
   "id": "250c1eb5-8423-4731-a0b7-0636aa8c0d78",
   "metadata": {},
   "source": [
    "#### Merge Data now"
   ]
  },
  {
   "cell_type": "code",
   "execution_count": 13,
   "id": "a3f217f9-ed84-4e2f-8542-6b915bda2143",
   "metadata": {},
   "outputs": [],
   "source": [
    "dg_hb_gdf = counties_dollar_general_count_gdf.merge(\n",
    "    counties_hunt_brothers_count_gdf[[\"GEOID\", \"hb\"]],\n",
    "    on=\"GEOID\",\n",
    "    how=\"left\",\n",
    ")"
   ]
  },
  {
   "cell_type": "code",
   "execution_count": 14,
   "id": "38b66022-1055-4cee-a47e-6157c2de3c1d",
   "metadata": {},
   "outputs": [],
   "source": [
    "def dg_hb_classification(row) -> str:\n",
    "    dg = row[\"dg\"]\n",
    "    hb = row[\"hb\"]\n",
    "    if hb == 0 and dg == 0:\n",
    "        return \"no stores\"\n",
    "    if dg == hb:\n",
    "        return \"same amount\"\n",
    "    if dg > hb:\n",
    "        return \"more dollar generals\"\n",
    "    if dg < hb:\n",
    "        return \"more hunt brothers\""
   ]
  },
  {
   "cell_type": "code",
   "execution_count": 15,
   "id": "dc430394-0574-4f1f-b846-fd6a9938b18f",
   "metadata": {},
   "outputs": [],
   "source": [
    "dg_hb_gdf[\"dg_or_hb\"] = dg_hb_gdf.apply(lambda row: dg_hb_classification(row), axis=1)"
   ]
  },
  {
   "cell_type": "code",
   "execution_count": 16,
   "id": "fa3bf849-1273-4c65-af2d-e44b47574dd6",
   "metadata": {},
   "outputs": [],
   "source": [
    "dg_hb_gdf = dg_hb_gdf.to_crs(9311)"
   ]
  },
  {
   "cell_type": "code",
   "execution_count": 17,
   "id": "6bb44f2e-cb29-40a3-800d-ba02306495cc",
   "metadata": {},
   "outputs": [],
   "source": [
    "dg_hb_gdf.to_file(\"data/dg_hb_gdf.gpkg\")"
   ]
  },
  {
   "cell_type": "code",
   "execution_count": null,
   "id": "6d3b5ed3-365a-46fe-9a8b-f3fd2641d7d4",
   "metadata": {},
   "outputs": [],
   "source": []
  },
  {
   "cell_type": "code",
   "execution_count": null,
   "id": "a0e566c3-f80e-4eb0-b3ef-47c52cc28a1f",
   "metadata": {},
   "outputs": [],
   "source": []
  }
 ],
 "metadata": {
  "kernelspec": {
   "display_name": "Python 3 (ipykernel)",
   "language": "python",
   "name": "python3"
  },
  "language_info": {
   "codemirror_mode": {
    "name": "ipython",
    "version": 3
   },
   "file_extension": ".py",
   "mimetype": "text/x-python",
   "name": "python",
   "nbconvert_exporter": "python",
   "pygments_lexer": "ipython3",
   "version": "3.11.11"
  }
 },
 "nbformat": 4,
 "nbformat_minor": 5
}
