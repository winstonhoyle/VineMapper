{
 "cells": [
  {
   "cell_type": "code",
   "execution_count": 1,
   "id": "c100310b-4780-4ebd-b955-45512361b3e5",
   "metadata": {},
   "outputs": [],
   "source": [
    "import geopandas as gpd"
   ]
  },
  {
   "cell_type": "markdown",
   "id": "d6e2433d-f5bb-49b9-87a4-8454a74f2fc3",
   "metadata": {},
   "source": [
    "## Open GIS Data"
   ]
  },
  {
   "cell_type": "code",
   "execution_count": 2,
   "id": "5c983c0f-9c4b-4976-8770-9bfe7d515fe3",
   "metadata": {},
   "outputs": [],
   "source": [
    "file_path = \"data/cb_2018_us_state_500k/cb_2018_us_state_500k.shp\"\n",
    "states_gdf = gpd.read_file(file_path)\n",
    "states_gdf = states_gdf[[\"STUSPS\", \"geometry\"]]"
   ]
  },
  {
   "cell_type": "markdown",
   "id": "729a5eed-ea60-46d5-b906-b203bc305bb0",
   "metadata": {},
   "source": [
    "## Open Popeyes Data"
   ]
  },
  {
   "cell_type": "code",
   "execution_count": 3,
   "id": "dd88ee34-bd85-42cf-87e6-16e59a8b5e4a",
   "metadata": {},
   "outputs": [],
   "source": [
    "popeyes_df = gpd.read_file(\"data/popeyes_per_state.gpkg\")\n",
    "popeyes_df[\"popeyes_per_100k\"] = popeyes_df[\"per_100k\"]\n",
    "popeyes_df = popeyes_df[[\"STUSPS\", \"POPEYES\", \"popeyes_per_100k\"]]"
   ]
  },
  {
   "cell_type": "markdown",
   "id": "bfe97c5c-3b79-4b93-a064-eddbacd3b885",
   "metadata": {},
   "source": [
    "## Open KFC Data"
   ]
  },
  {
   "cell_type": "code",
   "execution_count": 4,
   "id": "0f9f5e30-8e1f-4e1d-8fc2-c94e0b701da9",
   "metadata": {},
   "outputs": [],
   "source": [
    "kfc_gdf = gpd.read_file(\"data/kfcs_per_states.gpkg\")\n",
    "kfc_gdf[\"KFCs\"] = kfc_gdf[\"stores\"]\n",
    "kfc_gdf[\"KFCs_per_100k\"] = kfc_gdf[\"per_100k\"]\n",
    "kfc_gdf = kfc_gdf[[\"STUSPS\", \"KFCs\", \"KFCs_per_100k\"]]"
   ]
  },
  {
   "cell_type": "markdown",
   "id": "e1fbc6a2-c032-467a-af60-1e4eff759e4b",
   "metadata": {},
   "source": [
    "## Open Chick-Fil-A Data"
   ]
  },
  {
   "cell_type": "code",
   "execution_count": 6,
   "id": "bff9529f-7dc9-4c66-8bae-9997fd332577",
   "metadata": {},
   "outputs": [],
   "source": [
    "cfa_gdf = gpd.read_file(\"data/chick_fil_a_per_state.gpkg\")\n",
    "cfa_gdf[\"cfas_per_100k\"] = cfa_gdf[\"per_100k\"]\n",
    "cfa_gdf = cfa_gdf[[\"STUSPS\", \"CFAs\", \"cfas_per_100k\"]]"
   ]
  },
  {
   "cell_type": "markdown",
   "id": "250c1eb5-8423-4731-a0b7-0636aa8c0d78",
   "metadata": {},
   "source": [
    "## Merge Data"
   ]
  },
  {
   "cell_type": "code",
   "execution_count": 9,
   "id": "a3f217f9-ed84-4e2f-8542-6b915bda2143",
   "metadata": {},
   "outputs": [],
   "source": [
    "popeyes_states_gdf = states_gdf.merge(popeyes_df, on=\"STUSPS\", how=\"left\")\n",
    "popeyes_kfc_states_gdf = popeyes_states_gdf.merge(kfc_gdf, on=\"STUSPS\", how=\"left\")\n",
    "popeyes_kfc_cfa_states_gdf = popeyes_kfc_states_gdf.merge(\n",
    "    cfa_gdf, on=\"STUSPS\", how=\"left\"\n",
    ")"
   ]
  },
  {
   "cell_type": "code",
   "execution_count": 10,
   "id": "90138606-fbe5-40bb-b5a6-6a4e169aff7a",
   "metadata": {},
   "outputs": [],
   "source": [
    "popeyes_kfc_cfa_states_gdf = popeyes_kfc_cfa_states_gdf.fillna(0)"
   ]
  },
  {
   "cell_type": "code",
   "execution_count": 11,
   "id": "388cb1a5-8335-4be0-9a81-a751d3e0e8fe",
   "metadata": {},
   "outputs": [],
   "source": [
    "popeyes_kfc_cfa_states_gdf[\"POPEYES\"] = popeyes_kfc_cfa_states_gdf[\"POPEYES\"].astype(\n",
    "    int\n",
    ")\n",
    "popeyes_kfc_cfa_states_gdf[\"KFCs\"] = popeyes_kfc_cfa_states_gdf[\"KFCs\"].astype(int)\n",
    "popeyes_kfc_cfa_states_gdf[\"CFAs\"] = popeyes_kfc_cfa_states_gdf[\"CFAs\"].astype(int)"
   ]
  },
  {
   "cell_type": "code",
   "execution_count": 26,
   "id": "4a6a89f2-4300-418c-8394-aaa3f99d0093",
   "metadata": {},
   "outputs": [],
   "source": [
    "def more_stores(row) -> str:\n",
    "    popeyes = row[\"POPEYES\"]\n",
    "    kfc = row[\"KFCs\"]\n",
    "    cfa = row[\"CFAs\"]\n",
    "    if (popeyes > kfc) and (popeyes > cfa):\n",
    "        return \"More Popeyes\"\n",
    "    if (kfc > popeyes) and (kfc > cfa):\n",
    "        return \"More KFC\"\n",
    "    if (cfa > popeyes) and (cfa > kfc):\n",
    "        return \"More Chick-Fil-A\"\n",
    "    if popeyes == 0 and kfc == 0 and cfa == 0:\n",
    "        return \"No Locations\"\n",
    "    if popeyes == kfc:\n",
    "        return \"Same Amount of Popeyes And KFCs\"\n",
    "    else:\n",
    "        return \"Edge Case\""
   ]
  },
  {
   "cell_type": "code",
   "execution_count": 27,
   "id": "d4518351-c843-48ac-849c-e69a565fd370",
   "metadata": {},
   "outputs": [],
   "source": [
    "popeyes_kfc_cfa_states_gdf[\"label\"] = popeyes_kfc_cfa_states_gdf.apply(\n",
    "    lambda row: more_stores(row), axis=1\n",
    ")"
   ]
  },
  {
   "cell_type": "code",
   "execution_count": 28,
   "id": "1f4d7551-d35e-4faf-a872-73d8e23e2bd5",
   "metadata": {},
   "outputs": [
    {
     "data": {
      "text/html": [
       "<div>\n",
       "<style scoped>\n",
       "    .dataframe tbody tr th:only-of-type {\n",
       "        vertical-align: middle;\n",
       "    }\n",
       "\n",
       "    .dataframe tbody tr th {\n",
       "        vertical-align: top;\n",
       "    }\n",
       "\n",
       "    .dataframe thead th {\n",
       "        text-align: right;\n",
       "    }\n",
       "</style>\n",
       "<table border=\"1\" class=\"dataframe\">\n",
       "  <thead>\n",
       "    <tr style=\"text-align: right;\">\n",
       "      <th></th>\n",
       "      <th>STUSPS</th>\n",
       "      <th>geometry</th>\n",
       "      <th>POPEYES</th>\n",
       "      <th>popeyes_per_100k</th>\n",
       "      <th>KFCs</th>\n",
       "      <th>KFCs_per_100k</th>\n",
       "      <th>CFAs</th>\n",
       "      <th>cfas_per_100k</th>\n",
       "      <th>label</th>\n",
       "    </tr>\n",
       "  </thead>\n",
       "  <tbody>\n",
       "  </tbody>\n",
       "</table>\n",
       "</div>"
      ],
      "text/plain": [
       "Empty GeoDataFrame\n",
       "Columns: [STUSPS, geometry, POPEYES, popeyes_per_100k, KFCs, KFCs_per_100k, CFAs, cfas_per_100k, label]\n",
       "Index: []"
      ]
     },
     "execution_count": 28,
     "metadata": {},
     "output_type": "execute_result"
    }
   ],
   "source": [
    "popeyes_kfc_cfa_states_gdf[popeyes_kfc_cfa_states_gdf[\"label\"] == \"Edge Case\"]"
   ]
  },
  {
   "cell_type": "code",
   "execution_count": 29,
   "id": "6bb44f2e-cb29-40a3-800d-ba02306495cc",
   "metadata": {},
   "outputs": [],
   "source": [
    "popeyes_kfc_cfa_states_gdf = popeyes_kfc_cfa_states_gdf.to_crs(9311)\n",
    "popeyes_kfc_cfa_states_gdf.to_file(\"data/popeyes_kfc_cfas.gpkg\")"
   ]
  },
  {
   "cell_type": "code",
   "execution_count": null,
   "id": "ff3fd774-d81b-4afb-b05b-c61a8601ae6c",
   "metadata": {},
   "outputs": [],
   "source": []
  },
  {
   "cell_type": "code",
   "execution_count": null,
   "id": "c6d3ba0e-d5c6-4923-9874-6f44a1019dda",
   "metadata": {},
   "outputs": [],
   "source": []
  }
 ],
 "metadata": {
  "kernelspec": {
   "display_name": "Python 3 (ipykernel)",
   "language": "python",
   "name": "python3"
  },
  "language_info": {
   "codemirror_mode": {
    "name": "ipython",
    "version": 3
   },
   "file_extension": ".py",
   "mimetype": "text/x-python",
   "name": "python",
   "nbconvert_exporter": "python",
   "pygments_lexer": "ipython3",
   "version": "3.11.11"
  }
 },
 "nbformat": 4,
 "nbformat_minor": 5
}
